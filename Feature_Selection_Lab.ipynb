{
  "nbformat": 4,
  "nbformat_minor": 0,
  "metadata": {
    "colab": {
      "provenance": [],
      "authorship_tag": "ABX9TyNigqsmjvhG9i8rv5MRl9K2",
      "include_colab_link": true
    },
    "kernelspec": {
      "name": "python3",
      "display_name": "Python 3"
    },
    "language_info": {
      "name": "python"
    }
  },
  "cells": [
    {
      "cell_type": "markdown",
      "metadata": {
        "id": "view-in-github",
        "colab_type": "text"
      },
      "source": [
        "<a href=\"https://colab.research.google.com/github/jmohsbeck1/jpmc_mle/blob/data_ananlysis_with_pandas/Feature_Selection_Lab.ipynb\" target=\"_parent\"><img src=\"https://colab.research.google.com/assets/colab-badge.svg\" alt=\"Open In Colab\"/></a>"
      ]
    },
    {
      "cell_type": "code",
      "execution_count": 1,
      "metadata": {
        "id": "JEECsfQTJ2iI"
      },
      "outputs": [],
      "source": [
        "import pandas as pd\n",
        "\n",
        "url = \"https://archive.ics.uci.edu/ml/machine-learning-databases/00498/incident_event_log.zip\"\n",
        "\n",
        "df = pd.read_csv(url, compression='zip', header=0, sep=',', quotechar='\"')"
      ]
    },
    {
      "cell_type": "code",
      "source": [
        "print(df.head())\n",
        "\n",
        "print(df.shape)"
      ],
      "metadata": {
        "colab": {
          "base_uri": "https://localhost:8080/"
        },
        "id": "xdis-yloKCiN",
        "outputId": "3779c747-1264-4fcc-8078-26a38fdc058f"
      },
      "execution_count": 2,
      "outputs": [
        {
          "output_type": "stream",
          "name": "stdout",
          "text": [
            "       number incident_state  active  reassignment_count  reopen_count  \\\n",
            "0  INC0000045            New    True                   0             0   \n",
            "1  INC0000045       Resolved    True                   0             0   \n",
            "2  INC0000045       Resolved    True                   0             0   \n",
            "3  INC0000045         Closed   False                   0             0   \n",
            "4  INC0000047            New    True                   0             0   \n",
            "\n",
            "   sys_mod_count  made_sla    caller_id       opened_by        opened_at  ...  \\\n",
            "0              0      True  Caller 2403    Opened by  8  29/2/2016 01:16  ...   \n",
            "1              2      True  Caller 2403    Opened by  8  29/2/2016 01:16  ...   \n",
            "2              3      True  Caller 2403    Opened by  8  29/2/2016 01:16  ...   \n",
            "3              4      True  Caller 2403    Opened by  8  29/2/2016 01:16  ...   \n",
            "4              0      True  Caller 2403  Opened by  397  29/2/2016 04:40  ...   \n",
            "\n",
            "  u_priority_confirmation         notify problem_id rfc vendor caused_by  \\\n",
            "0                   False  Do Not Notify          ?   ?      ?         ?   \n",
            "1                   False  Do Not Notify          ?   ?      ?         ?   \n",
            "2                   False  Do Not Notify          ?   ?      ?         ?   \n",
            "3                   False  Do Not Notify          ?   ?      ?         ?   \n",
            "4                   False  Do Not Notify          ?   ?      ?         ?   \n",
            "\n",
            "  closed_code      resolved_by      resolved_at       closed_at  \n",
            "0      code 5  Resolved by 149  29/2/2016 11:29  5/3/2016 12:00  \n",
            "1      code 5  Resolved by 149  29/2/2016 11:29  5/3/2016 12:00  \n",
            "2      code 5  Resolved by 149  29/2/2016 11:29  5/3/2016 12:00  \n",
            "3      code 5  Resolved by 149  29/2/2016 11:29  5/3/2016 12:00  \n",
            "4      code 5   Resolved by 81   1/3/2016 09:52  6/3/2016 10:00  \n",
            "\n",
            "[5 rows x 36 columns]\n",
            "(141712, 36)\n"
          ]
        }
      ]
    },
    {
      "cell_type": "code",
      "source": [
        "df.info()"
      ],
      "metadata": {
        "colab": {
          "base_uri": "https://localhost:8080/"
        },
        "id": "LUhcBUGZKgJb",
        "outputId": "d23b2272-7cd1-47fd-fc2e-052e19c842bb"
      },
      "execution_count": 5,
      "outputs": [
        {
          "output_type": "stream",
          "name": "stdout",
          "text": [
            "<class 'pandas.core.frame.DataFrame'>\n",
            "RangeIndex: 141712 entries, 0 to 141711\n",
            "Data columns (total 34 columns):\n",
            " #   Column                   Non-Null Count   Dtype \n",
            "---  ------                   --------------   ----- \n",
            " 0   number                   141712 non-null  object\n",
            " 1   incident_state           141712 non-null  object\n",
            " 2   active                   141712 non-null  bool  \n",
            " 3   reassignment_count       141712 non-null  int64 \n",
            " 4   reopen_count             141712 non-null  int64 \n",
            " 5   sys_mod_count            141712 non-null  int64 \n",
            " 6   made_sla                 141712 non-null  bool  \n",
            " 7   caller_id                141712 non-null  object\n",
            " 8   opened_by                141712 non-null  object\n",
            " 9   opened_at                141712 non-null  object\n",
            " 10  sys_created_by           141712 non-null  object\n",
            " 11  sys_updated_by           141712 non-null  object\n",
            " 12  contact_type             141712 non-null  object\n",
            " 13  location                 141712 non-null  object\n",
            " 14  category                 141712 non-null  object\n",
            " 15  subcategory              141712 non-null  object\n",
            " 16  u_symptom                141712 non-null  object\n",
            " 17  cmdb_ci                  141712 non-null  object\n",
            " 18  impact                   141712 non-null  object\n",
            " 19  urgency                  141712 non-null  object\n",
            " 20  priority                 141712 non-null  object\n",
            " 21  assignment_group         141712 non-null  object\n",
            " 22  assigned_to              141712 non-null  object\n",
            " 23  knowledge                141712 non-null  bool  \n",
            " 24  u_priority_confirmation  141712 non-null  bool  \n",
            " 25  notify                   141712 non-null  object\n",
            " 26  problem_id               141712 non-null  object\n",
            " 27  rfc                      141712 non-null  object\n",
            " 28  vendor                   141712 non-null  object\n",
            " 29  caused_by                141712 non-null  object\n",
            " 30  closed_code              141712 non-null  object\n",
            " 31  resolved_by              141712 non-null  object\n",
            " 32  resolved_at              141712 non-null  object\n",
            " 33  closed_at                141712 non-null  object\n",
            "dtypes: bool(4), int64(3), object(27)\n",
            "memory usage: 33.0+ MB\n"
          ]
        }
      ]
    },
    {
      "cell_type": "code",
      "source": [
        "df = df.drop(['sys_updated_at', 'sys_created_at'], axis=1)"
      ],
      "metadata": {
        "id": "HOJTx1GlKJWl"
      },
      "execution_count": 3,
      "outputs": []
    },
    {
      "cell_type": "code",
      "source": [
        "import seaborn as sns\n",
        "\n",
        "sns.heatmap(df.corr())"
      ],
      "metadata": {
        "colab": {
          "base_uri": "https://localhost:8080/",
          "height": 656
        },
        "id": "Z5hP1FSSKN-e",
        "outputId": "88ef0b02-0bec-4fd7-cdf4-b59e6b80d33b"
      },
      "execution_count": 4,
      "outputs": [
        {
          "output_type": "stream",
          "name": "stderr",
          "text": [
            "<ipython-input-4-91af870b7b07>:3: FutureWarning: The default value of numeric_only in DataFrame.corr is deprecated. In a future version, it will default to False. Select only valid columns or specify the value of numeric_only to silence this warning.\n",
            "  sns.heatmap(df.corr())\n"
          ]
        },
        {
          "output_type": "execute_result",
          "data": {
            "text/plain": [
              "<Axes: >"
            ]
          },
          "metadata": {},
          "execution_count": 4
        },
        {
          "output_type": "display_data",
          "data": {
            "text/plain": [
              "<Figure size 640x480 with 2 Axes>"
            ],
            "image/png": "[encoded data removed]"
          },
          "metadata": {}
        }
      ]
    },
    {
      "cell_type": "code",
      "source": [
        "df = df.drop(['impact', 'urgency'], axis=1)"
      ],
      "metadata": {
        "id": "a6C9f9AdKYL2"
      },
      "execution_count": 6,
      "outputs": []
    },
    {
      "cell_type": "code",
      "source": [
        "from statsmodels.stats.outliers_influence import variance_inflation_factor\n",
        "\n",
        "X = df.select_dtypes(include=[int, float])\n",
        "\n",
        "vif = pd.DataFrame()\n",
        "\n",
        "vif[\"VIF Factor\"] = [variance_inflation_factor(X.values, i) for i in range(X.shape[1])]\n",
        "\n",
        "vif[\"features\"] = X.columns\n",
        "\n",
        "print(vif)"
      ],
      "metadata": {
        "colab": {
          "base_uri": "https://localhost:8080/"
        },
        "id": "oEJEzipOKqcv",
        "outputId": "123fe60d-668e-45bd-af5f-c882e9cb9f94"
      },
      "execution_count": 7,
      "outputs": [
        {
          "output_type": "stream",
          "name": "stdout",
          "text": [
            "   VIF Factor            features\n",
            "0    1.805290  reassignment_count\n",
            "1    1.074857        reopen_count\n",
            "2    1.868919       sys_mod_count\n"
          ]
        }
      ]
    },
    {
      "cell_type": "code",
      "source": [
        "df = df.drop(['sys_mod_count'], axis=1)"
      ],
      "metadata": {
        "id": "xT_2zvX5K6S-"
      },
      "execution_count": 8,
      "outputs": []
    },
    {
      "cell_type": "code",
      "source": [
        "df.to_csv('cleaned_data.csv', index=False)"
      ],
      "metadata": {
        "id": "_oE-c9mFLEF3"
      },
      "execution_count": 9,
      "outputs": []
    }
  ]
}