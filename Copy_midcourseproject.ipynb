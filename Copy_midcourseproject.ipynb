{
  "nbformat": 4,
  "nbformat_minor": 0,
  "metadata": {
    "colab": {
      "provenance": [],
      "name": "Copy_midcourseproject.ipynb",
      "include_colab_link": true
    },
    "kernelspec": {
      "name": "python3",
      "display_name": "Python 3"
    },
    "language_info": {
      "name": "python"
    }
  },
  "cells": [
    {
      "cell_type": "markdown",
      "metadata": {
        "id": "view-in-github",
        "colab_type": "text"
      },
      "source": [
        "<a href=\"https://colab.research.google.com/github/jmohsbeck1/jpmc_mle/blob/week-Apr.-3/Copy_midcourseproject.ipynb\" target=\"_parent\"><img src=\"https://colab.research.google.com/assets/colab-badge.svg\" alt=\"Open In Colab\"/></a>"
      ]
    },
    {
      "cell_type": "markdown",
      "source": [
        "In this project we will use the New York City Airbnb Open Data:\n",
        "\n",
        "https://raw.githubusercontent.com/fenago/datasets/main/AirBnB_NYC_2019.csv\n",
        "\n",
        "We'll be working with the 'price' variable, and we'll transform it to a classification task."
      ],
      "metadata": {
        "id": "95gulDi9Pnsv"
      }
    },
    {
      "cell_type": "code",
      "execution_count": 1,
      "metadata": {
        "id": "DQTqSLwCPXZV"
      },
      "outputs": [],
      "source": [
        "#Dataframe and numerical library\n",
        "import pandas as pd \n",
        "import numpy as np\n",
        "\n",
        "#Visualization\n",
        "import matplotlib\n",
        "import matplotlib.pyplot as plt\n",
        "import seaborn as sns\n",
        "import plotly.express as px\n",
        "%matplotlib inline\n",
        "\n",
        "#Machine Learming Model\n",
        "#Metrics\n",
        "from sklearn.metrics import mutual_info_score\n",
        "from sklearn.metrics import confusion_matrix\n",
        "from sklearn.metrics import precision_score, recall_score, f1_score, accuracy_score\n",
        "from sklearn.metrics import roc_auc_score\n",
        "from sklearn.metrics import mean_squared_error\n",
        "from sklearn.metrics import accuracy_score\n",
        "\n",
        "#Model Selection\n",
        "from sklearn.model_selection import train_test_split\n",
        "from sklearn.model_selection import GridSearchCV\n",
        "\n",
        "#Preprocessing\n",
        "from sklearn.preprocessing import OneHotEncoder\n",
        "from sklearn.preprocessing import StandardScaler\n",
        "\n",
        "#Linear Model\n",
        "from sklearn.linear_model import LogisticRegression\n",
        "from sklearn.linear_model import Ridge\n",
        "\n",
        "#Ensemble\n",
        "from sklearn.ensemble import RandomForestClassifier, GradientBoostingClassifier\n",
        "\n",
        "#Others\n",
        "from sklearn.compose import ColumnTransformer\n",
        "from sklearn.pipeline import Pipeline\n",
        "from sklearn.feature_selection import RFE\n",
        "from sklearn.tree import DecisionTreeClassifier\n",
        "\n",
        "\n",
        "\n",
        "\n"
      ]
    },
    {
      "cell_type": "code",
      "source": [
        "df = pd.read_csv(\"https://raw.githubusercontent.com/fenago/datasets/main/AirBnB_NYC_2019.csv\")\n",
        "df.sample(5)"
      ],
      "metadata": {
        "colab": {
          "base_uri": "https://localhost:8080/",
          "height": 496
        },
        "id": "bPenpbWaUFDN",
        "outputId": "9eb7d29b-304e-4834-b796-21bd8250d7b8"
      },
      "execution_count": 2,
      "outputs": [
        {
          "output_type": "execute_result",
          "data": {
            "text/plain": [
              "             id                                 name    host_id host_name  \\\n",
              "10822   8338312  Vacation Rental in Prospect Heights    1854179     Fedor   \n",
              "15082  12028733   Comfortable and Spacious Bedroom B   52474491    Arthur   \n",
              "23792  19212024                                 Home     764688    Itamar   \n",
              "12497   9611586  Modern Minimal Central Chelsea Loft    8797100      Adam   \n",
              "32565  25521464               NYC Beachfront Getaway  192594401    Jackee   \n",
              "\n",
              "      neighbourhood_group     neighbourhood  latitude  longitude  \\\n",
              "10822            Brooklyn  Prospect Heights  40.68043  -73.96781   \n",
              "15082            Brooklyn          Sea Gate  40.57774  -74.01022   \n",
              "23792            Brooklyn  Prospect Heights  40.67649  -73.97113   \n",
              "12497           Manhattan           Chelsea  40.74361  -73.99503   \n",
              "32565              Queens           Arverne  40.58821  -73.79755   \n",
              "\n",
              "             room_type  price  minimum_nights  number_of_reviews last_review  \\\n",
              "10822  Entire home/apt    160               5                  5  2018-07-15   \n",
              "15082     Private room     97               1                  2  2016-03-28   \n",
              "23792  Entire home/apt    160               7                  1  2017-07-13   \n",
              "12497  Entire home/apt    235               4                107  2019-06-23   \n",
              "32565  Entire home/apt    325               3                 21  2019-06-23   \n",
              "\n",
              "       reviews_per_month  calculated_host_listings_count  availability_365  \n",
              "10822               0.11                               1                 0  \n",
              "15082               0.05                               3                 0  \n",
              "23792               0.04                               1                 0  \n",
              "12497               2.98                               1                27  \n",
              "32565               1.59                               1               299  "
            ],
            "text/html": [
              "\n",
              "  <div id=\"df-cc361427-b698-4c6b-b0e0-5a72cbb001e3\">\n",
              "    <div class=\"colab-df-container\">\n",
              "      <div>\n",
              "<style scoped>\n",
              "    .dataframe tbody tr th:only-of-type {\n",
              "        vertical-align: middle;\n",
              "    }\n",
              "\n",
              "    .dataframe tbody tr th {\n",
              "        vertical-align: top;\n",
              "    }\n",
              "\n",
              "    .dataframe thead th {\n",
              "        text-align: right;\n",
              "    }\n",
              "</style>\n",
              "<table border=\"1\" class=\"dataframe\">\n",
              "  <thead>\n",
              "    <tr style=\"text-align: right;\">\n",
              "      <th></th>\n",
              "      <th>id</th>\n",
              "      <th>name</th>\n",
              "      <th>host_id</th>\n",
              "      <th>host_name</th>\n",
              "      <th>neighbourhood_group</th>\n",
              "      <th>neighbourhood</th>\n",
              "      <th>latitude</th>\n",
              "      <th>longitude</th>\n",
              "      <th>room_type</th>\n",
              "      <th>price</th>\n",
              "      <th>minimum_nights</th>\n",
              "      <th>number_of_reviews</th>\n",
              "      <th>last_review</th>\n",
              "      <th>reviews_per_month</th>\n",
              "      <th>calculated_host_listings_count</th>\n",
              "      <th>availability_365</th>\n",
              "    </tr>\n",
              "  </thead>\n",
              "  <tbody>\n",
              "    <tr>\n",
              "      <th>10822</th>\n",
              "      <td>8338312</td>\n",
              "      <td>Vacation Rental in Prospect Heights</td>\n",
              "      <td>1854179</td>\n",
              "      <td>Fedor</td>\n",
              "      <td>Brooklyn</td>\n",
              "      <td>Prospect Heights</td>\n",
              "      <td>40.68043</td>\n",
              "      <td>-73.96781</td>\n",
              "      <td>Entire home/apt</td>\n",
              "      <td>160</td>\n",
              "      <td>5</td>\n",
              "      <td>5</td>\n",
              "      <td>2018-07-15</td>\n",
              "      <td>0.11</td>\n",
              "      <td>1</td>\n",
              "      <td>0</td>\n",
              "    </tr>\n",
              "    <tr>\n",
              "      <th>15082</th>\n",
              "      <td>12028733</td>\n",
              "      <td>Comfortable and Spacious Bedroom B</td>\n",
              "      <td>52474491</td>\n",
              "      <td>Arthur</td>\n",
              "      <td>Brooklyn</td>\n",
              "      <td>Sea Gate</td>\n",
              "      <td>40.57774</td>\n",
              "      <td>-74.01022</td>\n",
              "      <td>Private room</td>\n",
              "      <td>97</td>\n",
              "      <td>1</td>\n",
              "      <td>2</td>\n",
              "      <td>2016-03-28</td>\n",
              "      <td>0.05</td>\n",
              "      <td>3</td>\n",
              "      <td>0</td>\n",
              "    </tr>\n",
              "    <tr>\n",
              "      <th>23792</th>\n",
              "      <td>19212024</td>\n",
              "      <td>Home</td>\n",
              "      <td>764688</td>\n",
              "      <td>Itamar</td>\n",
              "      <td>Brooklyn</td>\n",
              "      <td>Prospect Heights</td>\n",
              "      <td>40.67649</td>\n",
              "      <td>-73.97113</td>\n",
              "      <td>Entire home/apt</td>\n",
              "      <td>160</td>\n",
              "      <td>7</td>\n",
              "      <td>1</td>\n",
              "      <td>2017-07-13</td>\n",
              "      <td>0.04</td>\n",
              "      <td>1</td>\n",
              "      <td>0</td>\n",
              "    </tr>\n",
              "    <tr>\n",
              "      <th>12497</th>\n",
              "      <td>9611586</td>\n",
              "      <td>Modern Minimal Central Chelsea Loft</td>\n",
              "      <td>8797100</td>\n",
              "      <td>Adam</td>\n",
              "      <td>Manhattan</td>\n",
              "      <td>Chelsea</td>\n",
              "      <td>40.74361</td>\n",
              "      <td>-73.99503</td>\n",
              "      <td>Entire home/apt</td>\n",
              "      <td>235</td>\n",
              "      <td>4</td>\n",
              "      <td>107</td>\n",
              "      <td>2019-06-23</td>\n",
              "      <td>2.98</td>\n",
              "      <td>1</td>\n",
              "      <td>27</td>\n",
              "    </tr>\n",
              "    <tr>\n",
              "      <th>32565</th>\n",
              "      <td>25521464</td>\n",
              "      <td>NYC Beachfront Getaway</td>\n",
              "      <td>192594401</td>\n",
              "      <td>Jackee</td>\n",
              "      <td>Queens</td>\n",
              "      <td>Arverne</td>\n",
              "      <td>40.58821</td>\n",
              "      <td>-73.79755</td>\n",
              "      <td>Entire home/apt</td>\n",
              "      <td>325</td>\n",
              "      <td>3</td>\n",
              "      <td>21</td>\n",
              "      <td>2019-06-23</td>\n",
              "      <td>1.59</td>\n",
              "      <td>1</td>\n",
              "      <td>299</td>\n",
              "    </tr>\n",
              "  </tbody>\n",
              "</table>\n",
              "</div>\n",
              "      <button class=\"colab-df-convert\" onclick=\"convertToInteractive('df-cc361427-b698-4c6b-b0e0-5a72cbb001e3')\"\n",
              "              title=\"Convert this dataframe to an interactive table.\"\n",
              "              style=\"display:none;\">\n",
              "        \n",
              "  <svg xmlns=\"http://www.w3.org/2000/svg\" height=\"24px\"viewBox=\"0 0 24 24\"\n",
              "       width=\"24px\">\n",
              "    <path d=\"M0 0h24v24H0V0z\" fill=\"none\"/>\n",
              "    <path d=\"M18.56 5.44l.94 2.06.94-2.06 2.06-.94-2.06-.94-.94-2.06-.94 2.06-2.06.94zm-11 1L8.5 8.5l.94-2.06 2.06-.94-2.06-.94L8.5 2.5l-.94 2.06-2.06.94zm10 10l.94 2.06.94-2.06 2.06-.94-2.06-.94-.94-2.06-.94 2.06-2.06.94z\"/><path d=\"M17.41 7.96l-1.37-1.37c-.4-.4-.92-.59-1.43-.59-.52 0-1.04.2-1.43.59L10.3 9.45l-7.72 7.72c-.78.78-.78 2.05 0 2.83L4 21.41c.39.39.9.59 1.41.59.51 0 1.02-.2 1.41-.59l7.78-7.78 2.81-2.81c.8-.78.8-2.07 0-2.86zM5.41 20L4 18.59l7.72-7.72 1.47 1.35L5.41 20z\"/>\n",
              "  </svg>\n",
              "      </button>\n",
              "      \n",
              "  <style>\n",
              "    .colab-df-container {\n",
              "      display:flex;\n",
              "      flex-wrap:wrap;\n",
              "      gap: 12px;\n",
              "    }\n",
              "\n",
              "    .colab-df-convert {\n",
              "      background-color: #E8F0FE;\n",
              "      border: none;\n",
              "      border-radius: 50%;\n",
              "      cursor: pointer;\n",
              "      display: none;\n",
              "      fill: #1967D2;\n",
              "      height: 32px;\n",
              "      padding: 0 0 0 0;\n",
              "      width: 32px;\n",
              "    }\n",
              "\n",
              "    .colab-df-convert:hover {\n",
              "      background-color: #E2EBFA;\n",
              "      box-shadow: 0px 1px 2px rgba(60, 64, 67, 0.3), 0px 1px 3px 1px rgba(60, 64, 67, 0.15);\n",
              "      fill: #174EA6;\n",
              "    }\n",
              "\n",
              "    [theme=dark] .colab-df-convert {\n",
              "      background-color: #3B4455;\n",
              "      fill: #D2E3FC;\n",
              "    }\n",
              "\n",
              "    [theme=dark] .colab-df-convert:hover {\n",
              "      background-color: #434B5C;\n",
              "      box-shadow: 0px 1px 3px 1px rgba(0, 0, 0, 0.15);\n",
              "      filter: drop-shadow(0px 1px 2px rgba(0, 0, 0, 0.3));\n",
              "      fill: #FFFFFF;\n",
              "    }\n",
              "  </style>\n",
              "\n",
              "      <script>\n",
              "        const buttonEl =\n",
              "          document.querySelector('#df-cc361427-b698-4c6b-b0e0-5a72cbb001e3 button.colab-df-convert');\n",
              "        buttonEl.style.display =\n",
              "          google.colab.kernel.accessAllowed ? 'block' : 'none';\n",
              "\n",
              "        async function convertToInteractive(key) {\n",
              "          const element = document.querySelector('#df-cc361427-b698-4c6b-b0e0-5a72cbb001e3');\n",
              "          const dataTable =\n",
              "            await google.colab.kernel.invokeFunction('convertToInteractive',\n",
              "                                                     [key], {});\n",
              "          if (!dataTable) return;\n",
              "\n",
              "          const docLinkHtml = 'Like what you see? Visit the ' +\n",
              "            '<a target=\"_blank\" href=https://colab.research.google.com/notebooks/data_table.ipynb>data table notebook</a>'\n",
              "            + ' to learn more about interactive tables.';\n",
              "          element.innerHTML = '';\n",
              "          dataTable['output_type'] = 'display_data';\n",
              "          await google.colab.output.renderOutput(dataTable, element);\n",
              "          const docLink = document.createElement('div');\n",
              "          docLink.innerHTML = docLinkHtml;\n",
              "          element.appendChild(docLink);\n",
              "        }\n",
              "      </script>\n",
              "    </div>\n",
              "  </div>\n",
              "  "
            ]
          },
          "metadata": {},
          "execution_count": 2
        }
      ]
    },
    {
      "cell_type": "code",
      "source": [
        "len(df)\n"
      ],
      "metadata": {
        "colab": {
          "base_uri": "https://localhost:8080/"
        },
        "id": "sm6qwQTuUV5Y",
        "outputId": "7e612fc0-45a4-4116-e4fe-157ea56c2dd3"
      },
      "execution_count": 3,
      "outputs": [
        {
          "output_type": "execute_result",
          "data": {
            "text/plain": [
              "48895"
            ]
          },
          "metadata": {},
          "execution_count": 3
        }
      ]
    },
    {
      "cell_type": "code",
      "source": [
        "df.describe()"
      ],
      "metadata": {
        "colab": {
          "base_uri": "https://localhost:8080/",
          "height": 364
        },
        "id": "xCxeN9E5UZhz",
        "outputId": "5ce0ed32-41fc-4c56-f921-741b1b9d37b4"
      },
      "execution_count": 4,
      "outputs": [
        {
          "output_type": "execute_result",
          "data": {
            "text/plain": [
              "                 id       host_id      latitude     longitude         price  \\\n",
              "count  4.889500e+04  4.889500e+04  48895.000000  48895.000000  48895.000000   \n",
              "mean   1.901714e+07  6.762001e+07     40.728949    -73.952170    152.720687   \n",
              "std    1.098311e+07  7.861097e+07      0.054530      0.046157    240.154170   \n",
              "min    2.539000e+03  2.438000e+03     40.499790    -74.244420      0.000000   \n",
              "25%    9.471945e+06  7.822033e+06     40.690100    -73.983070     69.000000   \n",
              "50%    1.967728e+07  3.079382e+07     40.723070    -73.955680    106.000000   \n",
              "75%    2.915218e+07  1.074344e+08     40.763115    -73.936275    175.000000   \n",
              "max    3.648724e+07  2.743213e+08     40.913060    -73.712990  10000.000000   \n",
              "\n",
              "       minimum_nights  number_of_reviews  reviews_per_month  \\\n",
              "count    48895.000000       48895.000000       38843.000000   \n",
              "mean         7.029962          23.274466           1.373221   \n",
              "std         20.510550          44.550582           1.680442   \n",
              "min          1.000000           0.000000           0.010000   \n",
              "25%          1.000000           1.000000           0.190000   \n",
              "50%          3.000000           5.000000           0.720000   \n",
              "75%          5.000000          24.000000           2.020000   \n",
              "max       1250.000000         629.000000          58.500000   \n",
              "\n",
              "       calculated_host_listings_count  availability_365  \n",
              "count                    48895.000000      48895.000000  \n",
              "mean                         7.143982        112.781327  \n",
              "std                         32.952519        131.622289  \n",
              "min                          1.000000          0.000000  \n",
              "25%                          1.000000          0.000000  \n",
              "50%                          1.000000         45.000000  \n",
              "75%                          2.000000        227.000000  \n",
              "max                        327.000000        365.000000  "
            ],
            "text/html": [
              "\n",
              "  <div id=\"df-bbdc2963-0303-4223-9af0-6e961c47b25b\">\n",
              "    <div class=\"colab-df-container\">\n",
              "      <div>\n",
              "<style scoped>\n",
              "    .dataframe tbody tr th:only-of-type {\n",
              "        vertical-align: middle;\n",
              "    }\n",
              "\n",
              "    .dataframe tbody tr th {\n",
              "        vertical-align: top;\n",
              "    }\n",
              "\n",
              "    .dataframe thead th {\n",
              "        text-align: right;\n",
              "    }\n",
              "</style>\n",
              "<table border=\"1\" class=\"dataframe\">\n",
              "  <thead>\n",
              "    <tr style=\"text-align: right;\">\n",
              "      <th></th>\n",
              "      <th>id</th>\n",
              "      <th>host_id</th>\n",
              "      <th>latitude</th>\n",
              "      <th>longitude</th>\n",
              "      <th>price</th>\n",
              "      <th>minimum_nights</th>\n",
              "      <th>number_of_reviews</th>\n",
              "      <th>reviews_per_month</th>\n",
              "      <th>calculated_host_listings_count</th>\n",
              "      <th>availability_365</th>\n",
              "    </tr>\n",
              "  </thead>\n",
              "  <tbody>\n",
              "    <tr>\n",
              "      <th>count</th>\n",
              "      <td>4.889500e+04</td>\n",
              "      <td>4.889500e+04</td>\n",
              "      <td>48895.000000</td>\n",
              "      <td>48895.000000</td>\n",
              "      <td>48895.000000</td>\n",
              "      <td>48895.000000</td>\n",
              "      <td>48895.000000</td>\n",
              "      <td>38843.000000</td>\n",
              "      <td>48895.000000</td>\n",
              "      <td>48895.000000</td>\n",
              "    </tr>\n",
              "    <tr>\n",
              "      <th>mean</th>\n",
              "      <td>1.901714e+07</td>\n",
              "      <td>6.762001e+07</td>\n",
              "      <td>40.728949</td>\n",
              "      <td>-73.952170</td>\n",
              "      <td>152.720687</td>\n",
              "      <td>7.029962</td>\n",
              "      <td>23.274466</td>\n",
              "      <td>1.373221</td>\n",
              "      <td>7.143982</td>\n",
              "      <td>112.781327</td>\n",
              "    </tr>\n",
              "    <tr>\n",
              "      <th>std</th>\n",
              "      <td>1.098311e+07</td>\n",
              "      <td>7.861097e+07</td>\n",
              "      <td>0.054530</td>\n",
              "      <td>0.046157</td>\n",
              "      <td>240.154170</td>\n",
              "      <td>20.510550</td>\n",
              "      <td>44.550582</td>\n",
              "      <td>1.680442</td>\n",
              "      <td>32.952519</td>\n",
              "      <td>131.622289</td>\n",
              "    </tr>\n",
              "    <tr>\n",
              "      <th>min</th>\n",
              "      <td>2.539000e+03</td>\n",
              "      <td>2.438000e+03</td>\n",
              "      <td>40.499790</td>\n",
              "      <td>-74.244420</td>\n",
              "      <td>0.000000</td>\n",
              "      <td>1.000000</td>\n",
              "      <td>0.000000</td>\n",
              "      <td>0.010000</td>\n",
              "      <td>1.000000</td>\n",
              "      <td>0.000000</td>\n",
              "    </tr>\n",
              "    <tr>\n",
              "      <th>25%</th>\n",
              "      <td>9.471945e+06</td>\n",
              "      <td>7.822033e+06</td>\n",
              "      <td>40.690100</td>\n",
              "      <td>-73.983070</td>\n",
              "      <td>69.000000</td>\n",
              "      <td>1.000000</td>\n",
              "      <td>1.000000</td>\n",
              "      <td>0.190000</td>\n",
              "      <td>1.000000</td>\n",
              "      <td>0.000000</td>\n",
              "    </tr>\n",
              "    <tr>\n",
              "      <th>50%</th>\n",
              "      <td>1.967728e+07</td>\n",
              "      <td>3.079382e+07</td>\n",
              "      <td>40.723070</td>\n",
              "      <td>-73.955680</td>\n",
              "      <td>106.000000</td>\n",
              "      <td>3.000000</td>\n",
              "      <td>5.000000</td>\n",
              "      <td>0.720000</td>\n",
              "      <td>1.000000</td>\n",
              "      <td>45.000000</td>\n",
              "    </tr>\n",
              "    <tr>\n",
              "      <th>75%</th>\n",
              "      <td>2.915218e+07</td>\n",
              "      <td>1.074344e+08</td>\n",
              "      <td>40.763115</td>\n",
              "      <td>-73.936275</td>\n",
              "      <td>175.000000</td>\n",
              "      <td>5.000000</td>\n",
              "      <td>24.000000</td>\n",
              "      <td>2.020000</td>\n",
              "      <td>2.000000</td>\n",
              "      <td>227.000000</td>\n",
              "    </tr>\n",
              "    <tr>\n",
              "      <th>max</th>\n",
              "      <td>3.648724e+07</td>\n",
              "      <td>2.743213e+08</td>\n",
              "      <td>40.913060</td>\n",
              "      <td>-73.712990</td>\n",
              "      <td>10000.000000</td>\n",
              "      <td>1250.000000</td>\n",
              "      <td>629.000000</td>\n",
              "      <td>58.500000</td>\n",
              "      <td>327.000000</td>\n",
              "      <td>365.000000</td>\n",
              "    </tr>\n",
              "  </tbody>\n",
              "</table>\n",
              "</div>\n",
              "      <button class=\"colab-df-convert\" onclick=\"convertToInteractive('df-bbdc2963-0303-4223-9af0-6e961c47b25b')\"\n",
              "              title=\"Convert this dataframe to an interactive table.\"\n",
              "              style=\"display:none;\">\n",
              "        \n",
              "  <svg xmlns=\"http://www.w3.org/2000/svg\" height=\"24px\"viewBox=\"0 0 24 24\"\n",
              "       width=\"24px\">\n",
              "    <path d=\"M0 0h24v24H0V0z\" fill=\"none\"/>\n",
              "    <path d=\"M18.56 5.44l.94 2.06.94-2.06 2.06-.94-2.06-.94-.94-2.06-.94 2.06-2.06.94zm-11 1L8.5 8.5l.94-2.06 2.06-.94-2.06-.94L8.5 2.5l-.94 2.06-2.06.94zm10 10l.94 2.06.94-2.06 2.06-.94-2.06-.94-.94-2.06-.94 2.06-2.06.94z\"/><path d=\"M17.41 7.96l-1.37-1.37c-.4-.4-.92-.59-1.43-.59-.52 0-1.04.2-1.43.59L10.3 9.45l-7.72 7.72c-.78.78-.78 2.05 0 2.83L4 21.41c.39.39.9.59 1.41.59.51 0 1.02-.2 1.41-.59l7.78-7.78 2.81-2.81c.8-.78.8-2.07 0-2.86zM5.41 20L4 18.59l7.72-7.72 1.47 1.35L5.41 20z\"/>\n",
              "  </svg>\n",
              "      </button>\n",
              "      \n",
              "  <style>\n",
              "    .colab-df-container {\n",
              "      display:flex;\n",
              "      flex-wrap:wrap;\n",
              "      gap: 12px;\n",
              "    }\n",
              "\n",
              "    .colab-df-convert {\n",
              "      background-color: #E8F0FE;\n",
              "      border: none;\n",
              "      border-radius: 50%;\n",
              "      cursor: pointer;\n",
              "      display: none;\n",
              "      fill: #1967D2;\n",
              "      height: 32px;\n",
              "      padding: 0 0 0 0;\n",
              "      width: 32px;\n",
              "    }\n",
              "\n",
              "    .colab-df-convert:hover {\n",
              "      background-color: #E2EBFA;\n",
              "      box-shadow: 0px 1px 2px rgba(60, 64, 67, 0.3), 0px 1px 3px 1px rgba(60, 64, 67, 0.15);\n",
              "      fill: #174EA6;\n",
              "    }\n",
              "\n",
              "    [theme=dark] .colab-df-convert {\n",
              "      background-color: #3B4455;\n",
              "      fill: #D2E3FC;\n",
              "    }\n",
              "\n",
              "    [theme=dark] .colab-df-convert:hover {\n",
              "      background-color: #434B5C;\n",
              "      box-shadow: 0px 1px 3px 1px rgba(0, 0, 0, 0.15);\n",
              "      filter: drop-shadow(0px 1px 2px rgba(0, 0, 0, 0.3));\n",
              "      fill: #FFFFFF;\n",
              "    }\n",
              "  </style>\n",
              "\n",
              "      <script>\n",
              "        const buttonEl =\n",
              "          document.querySelector('#df-bbdc2963-0303-4223-9af0-6e961c47b25b button.colab-df-convert');\n",
              "        buttonEl.style.display =\n",
              "          google.colab.kernel.accessAllowed ? 'block' : 'none';\n",
              "\n",
              "        async function convertToInteractive(key) {\n",
              "          const element = document.querySelector('#df-bbdc2963-0303-4223-9af0-6e961c47b25b');\n",
              "          const dataTable =\n",
              "            await google.colab.kernel.invokeFunction('convertToInteractive',\n",
              "                                                     [key], {});\n",
              "          if (!dataTable) return;\n",
              "\n",
              "          const docLinkHtml = 'Like what you see? Visit the ' +\n",
              "            '<a target=\"_blank\" href=https://colab.research.google.com/notebooks/data_table.ipynb>data table notebook</a>'\n",
              "            + ' to learn more about interactive tables.';\n",
              "          element.innerHTML = '';\n",
              "          dataTable['output_type'] = 'display_data';\n",
              "          await google.colab.output.renderOutput(dataTable, element);\n",
              "          const docLink = document.createElement('div');\n",
              "          docLink.innerHTML = docLinkHtml;\n",
              "          element.appendChild(docLink);\n",
              "        }\n",
              "      </script>\n",
              "    </div>\n",
              "  </div>\n",
              "  "
            ]
          },
          "metadata": {},
          "execution_count": 4
        }
      ]
    },
    {
      "cell_type": "code",
      "source": [
        "df.info()"
      ],
      "metadata": {
        "colab": {
          "base_uri": "https://localhost:8080/"
        },
        "id": "2Jx1ymvLUfM4",
        "outputId": "621c71a8-c82c-4057-ea6e-14abdb06714e"
      },
      "execution_count": 5,
      "outputs": [
        {
          "output_type": "stream",
          "name": "stdout",
          "text": [
            "<class 'pandas.core.frame.DataFrame'>\n",
            "RangeIndex: 48895 entries, 0 to 48894\n",
            "Data columns (total 16 columns):\n",
            " #   Column                          Non-Null Count  Dtype  \n",
            "---  ------                          --------------  -----  \n",
            " 0   id                              48895 non-null  int64  \n",
            " 1   name                            48879 non-null  object \n",
            " 2   host_id                         48895 non-null  int64  \n",
            " 3   host_name                       48874 non-null  object \n",
            " 4   neighbourhood_group             48895 non-null  object \n",
            " 5   neighbourhood                   48895 non-null  object \n",
            " 6   latitude                        48895 non-null  float64\n",
            " 7   longitude                       48895 non-null  float64\n",
            " 8   room_type                       48895 non-null  object \n",
            " 9   price                           48895 non-null  int64  \n",
            " 10  minimum_nights                  48895 non-null  int64  \n",
            " 11  number_of_reviews               48895 non-null  int64  \n",
            " 12  last_review                     38843 non-null  object \n",
            " 13  reviews_per_month               38843 non-null  float64\n",
            " 14  calculated_host_listings_count  48895 non-null  int64  \n",
            " 15  availability_365                48895 non-null  int64  \n",
            "dtypes: float64(3), int64(7), object(6)\n",
            "memory usage: 6.0+ MB\n"
          ]
        }
      ]
    },
    {
      "cell_type": "code",
      "source": [
        "df.shape"
      ],
      "metadata": {
        "colab": {
          "base_uri": "https://localhost:8080/"
        },
        "id": "ZNuMca4GVcfp",
        "outputId": "930b153f-6d9a-4c64-a31c-c53b854206c5"
      },
      "execution_count": 6,
      "outputs": [
        {
          "output_type": "execute_result",
          "data": {
            "text/plain": [
              "(48895, 16)"
            ]
          },
          "metadata": {},
          "execution_count": 6
        }
      ]
    },
    {
      "cell_type": "code",
      "source": [
        "df.nunique()"
      ],
      "metadata": {
        "colab": {
          "base_uri": "https://localhost:8080/"
        },
        "id": "chST1JMDVhMZ",
        "outputId": "b3acc939-fc93-446e-e150-bb5412aaff75"
      },
      "execution_count": 7,
      "outputs": [
        {
          "output_type": "execute_result",
          "data": {
            "text/plain": [
              "id                                48895\n",
              "name                              47905\n",
              "host_id                           37457\n",
              "host_name                         11452\n",
              "neighbourhood_group                   5\n",
              "neighbourhood                       221\n",
              "latitude                          19048\n",
              "longitude                         14718\n",
              "room_type                             3\n",
              "price                               674\n",
              "minimum_nights                      109\n",
              "number_of_reviews                   394\n",
              "last_review                        1764\n",
              "reviews_per_month                   937\n",
              "calculated_host_listings_count       47\n",
              "availability_365                    366\n",
              "dtype: int64"
            ]
          },
          "metadata": {},
          "execution_count": 7
        }
      ]
    },
    {
      "cell_type": "code",
      "source": [
        "df.corr()"
      ],
      "metadata": {
        "colab": {
          "base_uri": "https://localhost:8080/",
          "height": 427
        },
        "id": "yV1mj-cWVwOk",
        "outputId": "708ebad6-e937-4a7e-f97e-4fc35110f605"
      },
      "execution_count": 8,
      "outputs": [
        {
          "output_type": "execute_result",
          "data": {
            "text/plain": [
              "                                      id   host_id  latitude  longitude  \\\n",
              "id                              1.000000  0.588290 -0.003125   0.090908   \n",
              "host_id                         0.588290  1.000000  0.020224   0.127055   \n",
              "latitude                       -0.003125  0.020224  1.000000   0.084788   \n",
              "longitude                       0.090908  0.127055  0.084788   1.000000   \n",
              "price                           0.010619  0.015309  0.033939  -0.150019   \n",
              "minimum_nights                 -0.013224 -0.017364  0.024869  -0.062747   \n",
              "number_of_reviews              -0.319760 -0.140106 -0.015389   0.059094   \n",
              "reviews_per_month               0.291828  0.296417 -0.010142   0.145948   \n",
              "calculated_host_listings_count  0.133272  0.154950  0.019517  -0.114713   \n",
              "availability_365                0.085468  0.203492 -0.010983   0.082731   \n",
              "\n",
              "                                   price  minimum_nights  number_of_reviews  \\\n",
              "id                              0.010619       -0.013224          -0.319760   \n",
              "host_id                         0.015309       -0.017364          -0.140106   \n",
              "latitude                        0.033939        0.024869          -0.015389   \n",
              "longitude                      -0.150019       -0.062747           0.059094   \n",
              "price                           1.000000        0.042799          -0.047954   \n",
              "minimum_nights                  0.042799        1.000000          -0.080116   \n",
              "number_of_reviews              -0.047954       -0.080116           1.000000   \n",
              "reviews_per_month              -0.030608       -0.121702           0.549868   \n",
              "calculated_host_listings_count  0.057472        0.127960          -0.072376   \n",
              "availability_365                0.081829        0.144303           0.172028   \n",
              "\n",
              "                                reviews_per_month  \\\n",
              "id                                       0.291828   \n",
              "host_id                                  0.296417   \n",
              "latitude                                -0.010142   \n",
              "longitude                                0.145948   \n",
              "price                                   -0.030608   \n",
              "minimum_nights                          -0.121702   \n",
              "number_of_reviews                        0.549868   \n",
              "reviews_per_month                        1.000000   \n",
              "calculated_host_listings_count          -0.009421   \n",
              "availability_365                         0.185791   \n",
              "\n",
              "                                calculated_host_listings_count  \\\n",
              "id                                                    0.133272   \n",
              "host_id                                               0.154950   \n",
              "latitude                                              0.019517   \n",
              "longitude                                            -0.114713   \n",
              "price                                                 0.057472   \n",
              "minimum_nights                                        0.127960   \n",
              "number_of_reviews                                    -0.072376   \n",
              "reviews_per_month                                    -0.009421   \n",
              "calculated_host_listings_count                        1.000000   \n",
              "availability_365                                      0.225701   \n",
              "\n",
              "                                availability_365  \n",
              "id                                      0.085468  \n",
              "host_id                                 0.203492  \n",
              "latitude                               -0.010983  \n",
              "longitude                               0.082731  \n",
              "price                                   0.081829  \n",
              "minimum_nights                          0.144303  \n",
              "number_of_reviews                       0.172028  \n",
              "reviews_per_month                       0.185791  \n",
              "calculated_host_listings_count          0.225701  \n",
              "availability_365                        1.000000  "
            ],
            "text/html": [
              "\n",
              "  <div id=\"df-528b9792-140d-431c-ac9d-75323ff0a969\">\n",
              "    <div class=\"colab-df-container\">\n",
              "      <div>\n",
              "<style scoped>\n",
              "    .dataframe tbody tr th:only-of-type {\n",
              "        vertical-align: middle;\n",
              "    }\n",
              "\n",
              "    .dataframe tbody tr th {\n",
              "        vertical-align: top;\n",
              "    }\n",
              "\n",
              "    .dataframe thead th {\n",
              "        text-align: right;\n",
              "    }\n",
              "</style>\n",
              "<table border=\"1\" class=\"dataframe\">\n",
              "  <thead>\n",
              "    <tr style=\"text-align: right;\">\n",
              "      <th></th>\n",
              "      <th>id</th>\n",
              "      <th>host_id</th>\n",
              "      <th>latitude</th>\n",
              "      <th>longitude</th>\n",
              "      <th>price</th>\n",
              "      <th>minimum_nights</th>\n",
              "      <th>number_of_reviews</th>\n",
              "      <th>reviews_per_month</th>\n",
              "      <th>calculated_host_listings_count</th>\n",
              "      <th>availability_365</th>\n",
              "    </tr>\n",
              "  </thead>\n",
              "  <tbody>\n",
              "    <tr>\n",
              "      <th>id</th>\n",
              "      <td>1.000000</td>\n",
              "      <td>0.588290</td>\n",
              "      <td>-0.003125</td>\n",
              "      <td>0.090908</td>\n",
              "      <td>0.010619</td>\n",
              "      <td>-0.013224</td>\n",
              "      <td>-0.319760</td>\n",
              "      <td>0.291828</td>\n",
              "      <td>0.133272</td>\n",
              "      <td>0.085468</td>\n",
              "    </tr>\n",
              "    <tr>\n",
              "      <th>host_id</th>\n",
              "      <td>0.588290</td>\n",
              "      <td>1.000000</td>\n",
              "      <td>0.020224</td>\n",
              "      <td>0.127055</td>\n",
              "      <td>0.015309</td>\n",
              "      <td>-0.017364</td>\n",
              "      <td>-0.140106</td>\n",
              "      <td>0.296417</td>\n",
              "      <td>0.154950</td>\n",
              "      <td>0.203492</td>\n",
              "    </tr>\n",
              "    <tr>\n",
              "      <th>latitude</th>\n",
              "      <td>-0.003125</td>\n",
              "      <td>0.020224</td>\n",
              "      <td>1.000000</td>\n",
              "      <td>0.084788</td>\n",
              "      <td>0.033939</td>\n",
              "      <td>0.024869</td>\n",
              "      <td>-0.015389</td>\n",
              "      <td>-0.010142</td>\n",
              "      <td>0.019517</td>\n",
              "      <td>-0.010983</td>\n",
              "    </tr>\n",
              "    <tr>\n",
              "      <th>longitude</th>\n",
              "      <td>0.090908</td>\n",
              "      <td>0.127055</td>\n",
              "      <td>0.084788</td>\n",
              "      <td>1.000000</td>\n",
              "      <td>-0.150019</td>\n",
              "      <td>-0.062747</td>\n",
              "      <td>0.059094</td>\n",
              "      <td>0.145948</td>\n",
              "      <td>-0.114713</td>\n",
              "      <td>0.082731</td>\n",
              "    </tr>\n",
              "    <tr>\n",
              "      <th>price</th>\n",
              "      <td>0.010619</td>\n",
              "      <td>0.015309</td>\n",
              "      <td>0.033939</td>\n",
              "      <td>-0.150019</td>\n",
              "      <td>1.000000</td>\n",
              "      <td>0.042799</td>\n",
              "      <td>-0.047954</td>\n",
              "      <td>-0.030608</td>\n",
              "      <td>0.057472</td>\n",
              "      <td>0.081829</td>\n",
              "    </tr>\n",
              "    <tr>\n",
              "      <th>minimum_nights</th>\n",
              "      <td>-0.013224</td>\n",
              "      <td>-0.017364</td>\n",
              "      <td>0.024869</td>\n",
              "      <td>-0.062747</td>\n",
              "      <td>0.042799</td>\n",
              "      <td>1.000000</td>\n",
              "      <td>-0.080116</td>\n",
              "      <td>-0.121702</td>\n",
              "      <td>0.127960</td>\n",
              "      <td>0.144303</td>\n",
              "    </tr>\n",
              "    <tr>\n",
              "      <th>number_of_reviews</th>\n",
              "      <td>-0.319760</td>\n",
              "      <td>-0.140106</td>\n",
              "      <td>-0.015389</td>\n",
              "      <td>0.059094</td>\n",
              "      <td>-0.047954</td>\n",
              "      <td>-0.080116</td>\n",
              "      <td>1.000000</td>\n",
              "      <td>0.549868</td>\n",
              "      <td>-0.072376</td>\n",
              "      <td>0.172028</td>\n",
              "    </tr>\n",
              "    <tr>\n",
              "      <th>reviews_per_month</th>\n",
              "      <td>0.291828</td>\n",
              "      <td>0.296417</td>\n",
              "      <td>-0.010142</td>\n",
              "      <td>0.145948</td>\n",
              "      <td>-0.030608</td>\n",
              "      <td>-0.121702</td>\n",
              "      <td>0.549868</td>\n",
              "      <td>1.000000</td>\n",
              "      <td>-0.009421</td>\n",
              "      <td>0.185791</td>\n",
              "    </tr>\n",
              "    <tr>\n",
              "      <th>calculated_host_listings_count</th>\n",
              "      <td>0.133272</td>\n",
              "      <td>0.154950</td>\n",
              "      <td>0.019517</td>\n",
              "      <td>-0.114713</td>\n",
              "      <td>0.057472</td>\n",
              "      <td>0.127960</td>\n",
              "      <td>-0.072376</td>\n",
              "      <td>-0.009421</td>\n",
              "      <td>1.000000</td>\n",
              "      <td>0.225701</td>\n",
              "    </tr>\n",
              "    <tr>\n",
              "      <th>availability_365</th>\n",
              "      <td>0.085468</td>\n",
              "      <td>0.203492</td>\n",
              "      <td>-0.010983</td>\n",
              "      <td>0.082731</td>\n",
              "      <td>0.081829</td>\n",
              "      <td>0.144303</td>\n",
              "      <td>0.172028</td>\n",
              "      <td>0.185791</td>\n",
              "      <td>0.225701</td>\n",
              "      <td>1.000000</td>\n",
              "    </tr>\n",
              "  </tbody>\n",
              "</table>\n",
              "</div>\n",
              "      <button class=\"colab-df-convert\" onclick=\"convertToInteractive('df-528b9792-140d-431c-ac9d-75323ff0a969')\"\n",
              "              title=\"Convert this dataframe to an interactive table.\"\n",
              "              style=\"display:none;\">\n",
              "        \n",
              "  <svg xmlns=\"http://www.w3.org/2000/svg\" height=\"24px\"viewBox=\"0 0 24 24\"\n",
              "       width=\"24px\">\n",
              "    <path d=\"M0 0h24v24H0V0z\" fill=\"none\"/>\n",
              "    <path d=\"M18.56 5.44l.94 2.06.94-2.06 2.06-.94-2.06-.94-.94-2.06-.94 2.06-2.06.94zm-11 1L8.5 8.5l.94-2.06 2.06-.94-2.06-.94L8.5 2.5l-.94 2.06-2.06.94zm10 10l.94 2.06.94-2.06 2.06-.94-2.06-.94-.94-2.06-.94 2.06-2.06.94z\"/><path d=\"M17.41 7.96l-1.37-1.37c-.4-.4-.92-.59-1.43-.59-.52 0-1.04.2-1.43.59L10.3 9.45l-7.72 7.72c-.78.78-.78 2.05 0 2.83L4 21.41c.39.39.9.59 1.41.59.51 0 1.02-.2 1.41-.59l7.78-7.78 2.81-2.81c.8-.78.8-2.07 0-2.86zM5.41 20L4 18.59l7.72-7.72 1.47 1.35L5.41 20z\"/>\n",
              "  </svg>\n",
              "      </button>\n",
              "      \n",
              "  <style>\n",
              "    .colab-df-container {\n",
              "      display:flex;\n",
              "      flex-wrap:wrap;\n",
              "      gap: 12px;\n",
              "    }\n",
              "\n",
              "    .colab-df-convert {\n",
              "      background-color: #E8F0FE;\n",
              "      border: none;\n",
              "      border-radius: 50%;\n",
              "      cursor: pointer;\n",
              "      display: none;\n",
              "      fill: #1967D2;\n",
              "      height: 32px;\n",
              "      padding: 0 0 0 0;\n",
              "      width: 32px;\n",
              "    }\n",
              "\n",
              "    .colab-df-convert:hover {\n",
              "      background-color: #E2EBFA;\n",
              "      box-shadow: 0px 1px 2px rgba(60, 64, 67, 0.3), 0px 1px 3px 1px rgba(60, 64, 67, 0.15);\n",
              "      fill: #174EA6;\n",
              "    }\n",
              "\n",
              "    [theme=dark] .colab-df-convert {\n",
              "      background-color: #3B4455;\n",
              "      fill: #D2E3FC;\n",
              "    }\n",
              "\n",
              "    [theme=dark] .colab-df-convert:hover {\n",
              "      background-color: #434B5C;\n",
              "      box-shadow: 0px 1px 3px 1px rgba(0, 0, 0, 0.15);\n",
              "      filter: drop-shadow(0px 1px 2px rgba(0, 0, 0, 0.3));\n",
              "      fill: #FFFFFF;\n",
              "    }\n",
              "  </style>\n",
              "\n",
              "      <script>\n",
              "        const buttonEl =\n",
              "          document.querySelector('#df-528b9792-140d-431c-ac9d-75323ff0a969 button.colab-df-convert');\n",
              "        buttonEl.style.display =\n",
              "          google.colab.kernel.accessAllowed ? 'block' : 'none';\n",
              "\n",
              "        async function convertToInteractive(key) {\n",
              "          const element = document.querySelector('#df-528b9792-140d-431c-ac9d-75323ff0a969');\n",
              "          const dataTable =\n",
              "            await google.colab.kernel.invokeFunction('convertToInteractive',\n",
              "                                                     [key], {});\n",
              "          if (!dataTable) return;\n",
              "\n",
              "          const docLinkHtml = 'Like what you see? Visit the ' +\n",
              "            '<a target=\"_blank\" href=https://colab.research.google.com/notebooks/data_table.ipynb>data table notebook</a>'\n",
              "            + ' to learn more about interactive tables.';\n",
              "          element.innerHTML = '';\n",
              "          dataTable['output_type'] = 'display_data';\n",
              "          await google.colab.output.renderOutput(dataTable, element);\n",
              "          const docLink = document.createElement('div');\n",
              "          docLink.innerHTML = docLinkHtml;\n",
              "          element.appendChild(docLink);\n",
              "        }\n",
              "      </script>\n",
              "    </div>\n",
              "  </div>\n",
              "  "
            ]
          },
          "metadata": {},
          "execution_count": 8
        }
      ]
    },
    {
      "cell_type": "code",
      "source": [
        "# Basic Data Cleaning\n",
        "df.columns = df.columns.str.lower().str.replace(' ', '_') # A\n",
        " \n",
        "string_columns = list(df.dtypes[df.dtypes == 'object'].index) # B\n",
        " \n",
        "for col in string_columns:\n",
        "    df[col] = df[col].str.lower().str.replace(' ', '_') # C"
      ],
      "metadata": {
        "id": "aNGwNgCeUwo3"
      },
      "execution_count": 9,
      "outputs": []
    },
    {
      "cell_type": "code",
      "source": [
        "# Selecting Required Features\n",
        "df=df[['neighbourhood_group','room_type','latitude','longitude','price','minimum_nights','number_of_reviews','reviews_per_month','calculated_host_listings_count','availability_365']]"
      ],
      "metadata": {
        "id": "zKNw2aHSV1na"
      },
      "execution_count": 10,
      "outputs": []
    },
    {
      "cell_type": "code",
      "source": [
        "#Let's create a variable above_average which is 1 if the price is above (or equal to) 152.\n",
        "# Create a new column 'above_average'\n",
        "df['above_average'] = (df['price'] >= 152).astype(int)"
      ],
      "metadata": {
        "id": "mbQ43e5S9P9s"
      },
      "execution_count": 11,
      "outputs": []
    },
    {
      "cell_type": "code",
      "source": [
        "df.info()"
      ],
      "metadata": {
        "colab": {
          "base_uri": "https://localhost:8080/"
        },
        "id": "Mlx8S2JHWFBH",
        "outputId": "08f9f991-c9fa-4320-ea60-73f715cb5934"
      },
      "execution_count": 12,
      "outputs": [
        {
          "output_type": "stream",
          "name": "stdout",
          "text": [
            "<class 'pandas.core.frame.DataFrame'>\n",
            "RangeIndex: 48895 entries, 0 to 48894\n",
            "Data columns (total 11 columns):\n",
            " #   Column                          Non-Null Count  Dtype  \n",
            "---  ------                          --------------  -----  \n",
            " 0   neighbourhood_group             48895 non-null  object \n",
            " 1   room_type                       48895 non-null  object \n",
            " 2   latitude                        48895 non-null  float64\n",
            " 3   longitude                       48895 non-null  float64\n",
            " 4   price                           48895 non-null  int64  \n",
            " 5   minimum_nights                  48895 non-null  int64  \n",
            " 6   number_of_reviews               48895 non-null  int64  \n",
            " 7   reviews_per_month               38843 non-null  float64\n",
            " 8   calculated_host_listings_count  48895 non-null  int64  \n",
            " 9   availability_365                48895 non-null  int64  \n",
            " 10  above_average                   48895 non-null  int64  \n",
            "dtypes: float64(3), int64(6), object(2)\n",
            "memory usage: 4.1+ MB\n"
          ]
        }
      ]
    },
    {
      "cell_type": "code",
      "source": [
        "# Fill in the missing values with 0.\n",
        "df.fillna(0, inplace=True)"
      ],
      "metadata": {
        "id": "nIpL1uB3WORZ"
      },
      "execution_count": 13,
      "outputs": []
    },
    {
      "cell_type": "code",
      "source": [
        "df.info()"
      ],
      "metadata": {
        "colab": {
          "base_uri": "https://localhost:8080/"
        },
        "id": "tT5K1x2iWlGO",
        "outputId": "7fb3a1fe-b1a5-4278-a441-34d85d58d1ac"
      },
      "execution_count": 14,
      "outputs": [
        {
          "output_type": "stream",
          "name": "stdout",
          "text": [
            "<class 'pandas.core.frame.DataFrame'>\n",
            "RangeIndex: 48895 entries, 0 to 48894\n",
            "Data columns (total 11 columns):\n",
            " #   Column                          Non-Null Count  Dtype  \n",
            "---  ------                          --------------  -----  \n",
            " 0   neighbourhood_group             48895 non-null  object \n",
            " 1   room_type                       48895 non-null  object \n",
            " 2   latitude                        48895 non-null  float64\n",
            " 3   longitude                       48895 non-null  float64\n",
            " 4   price                           48895 non-null  int64  \n",
            " 5   minimum_nights                  48895 non-null  int64  \n",
            " 6   number_of_reviews               48895 non-null  int64  \n",
            " 7   reviews_per_month               48895 non-null  float64\n",
            " 8   calculated_host_listings_count  48895 non-null  int64  \n",
            " 9   availability_365                48895 non-null  int64  \n",
            " 10  above_average                   48895 non-null  int64  \n",
            "dtypes: float64(3), int64(6), object(2)\n",
            "memory usage: 4.1+ MB\n"
          ]
        }
      ]
    },
    {
      "cell_type": "code",
      "source": [
        "# calculate the mode for the 'neighbourhood_group' column\n",
        "df['neighbourhood_group'].mode()[0]"
      ],
      "metadata": {
        "colab": {
          "base_uri": "https://localhost:8080/",
          "height": 35
        },
        "id": "ubSsgsYzXLiB",
        "outputId": "b552d8ac-935f-4963-ef01-613e9dc6192e"
      },
      "execution_count": 15,
      "outputs": [
        {
          "output_type": "execute_result",
          "data": {
            "text/plain": [
              "'manhattan'"
            ],
            "application/vnd.google.colaboratory.intrinsic+json": {
              "type": "string"
            }
          },
          "metadata": {},
          "execution_count": 15
        }
      ]
    },
    {
      "cell_type": "markdown",
      "source": [
        "# Question 1"
      ],
      "metadata": {
        "id": "RGS6w5qJhbNb"
      }
    },
    {
      "cell_type": "markdown",
      "source": [
        "Question 1: What is the most frequent observation (mode) for the column 'neighbourhood_group'?\n",
        "\n",
        "Answer: **Manhattan**"
      ],
      "metadata": {
        "id": "0AlvMXktXjML"
      }
    },
    {
      "cell_type": "code",
      "source": [
        "# Check for nulls --- you do NOT want nulls when you train\n",
        "df.isnull().sum()"
      ],
      "metadata": {
        "colab": {
          "base_uri": "https://localhost:8080/"
        },
        "id": "uPkFvKGdZaUN",
        "outputId": "69c16af9-5598-4b5c-cf6d-420786232e90"
      },
      "execution_count": 16,
      "outputs": [
        {
          "output_type": "execute_result",
          "data": {
            "text/plain": [
              "neighbourhood_group               0\n",
              "room_type                         0\n",
              "latitude                          0\n",
              "longitude                         0\n",
              "price                             0\n",
              "minimum_nights                    0\n",
              "number_of_reviews                 0\n",
              "reviews_per_month                 0\n",
              "calculated_host_listings_count    0\n",
              "availability_365                  0\n",
              "above_average                     0\n",
              "dtype: int64"
            ]
          },
          "metadata": {},
          "execution_count": 16
        }
      ]
    },
    {
      "cell_type": "code",
      "source": [
        "# Split the data into test, train, validation sets... 80/20\n",
        "from sklearn.model_selection import train_test_split\n",
        "# This gives the 80/20 train test split. Seed set to 42\n",
        "x_train, x_test = train_test_split(df, test_size=0.2, random_state=41)\n",
        "\n",
        "len(x_train), len(x_test)\n",
        "# Replace nulls with 0's - these are pandas dataframes\n",
        "x_train = x_train.fillna(0)\n",
        "\n",
        "x_test = x_test.fillna(0)\n",
        "len(x_train),len(x_test)"
      ],
      "metadata": {
        "colab": {
          "base_uri": "https://localhost:8080/"
        },
        "id": "w_SYYMzLXrsC",
        "outputId": "1dd22279-f4eb-49a3-9da0-7601c0930ec6"
      },
      "execution_count": 17,
      "outputs": [
        {
          "output_type": "execute_result",
          "data": {
            "text/plain": [
              "(39116, 9779)"
            ]
          },
          "metadata": {},
          "execution_count": 17
        }
      ]
    },
    {
      "cell_type": "code",
      "source": [
        "# X = input, Y = output\n",
        "# Split the y out into train/test/splits... these are numpy ndarrays ... msrp is your target variables\n",
        "# Replace with your target variable!!!  \n",
        "y_train = (x_train.above_average).values\n",
        "y_test = (x_test.above_average).values\n",
        "\n",
        "#Make sure the target value is not in your dataframe\n",
        "del x_train['above_average']\n",
        "del x_test['above_average']\n",
        "\n",
        "#Make sure the price value is not in your dataframe as it impact target value\n",
        "del x_train['price']\n",
        "del x_test['price']"
      ],
      "metadata": {
        "id": "8U8WjSN4aIT1"
      },
      "execution_count": 18,
      "outputs": []
    },
    {
      "cell_type": "code",
      "source": [
        "len(y_train),len(y_test)"
      ],
      "metadata": {
        "colab": {
          "base_uri": "https://localhost:8080/"
        },
        "id": "37n0BUpma2fy",
        "outputId": "13cfee95-a463-432a-d8b0-58d515057dea"
      },
      "execution_count": 19,
      "outputs": [
        {
          "output_type": "execute_result",
          "data": {
            "text/plain": [
              "(39116, 9779)"
            ]
          },
          "metadata": {},
          "execution_count": 19
        }
      ]
    },
    {
      "cell_type": "code",
      "source": [
        "x_train.isnull().sum()"
      ],
      "metadata": {
        "colab": {
          "base_uri": "https://localhost:8080/"
        },
        "id": "5YolIKV7bZpm",
        "outputId": "79c9720d-5d01-486d-caf4-c6f81d61dfbc"
      },
      "execution_count": 20,
      "outputs": [
        {
          "output_type": "execute_result",
          "data": {
            "text/plain": [
              "neighbourhood_group               0\n",
              "room_type                         0\n",
              "latitude                          0\n",
              "longitude                         0\n",
              "minimum_nights                    0\n",
              "number_of_reviews                 0\n",
              "reviews_per_month                 0\n",
              "calculated_host_listings_count    0\n",
              "availability_365                  0\n",
              "dtype: int64"
            ]
          },
          "metadata": {},
          "execution_count": 20
        }
      ]
    },
    {
      "cell_type": "code",
      "source": [
        "x_train.info()"
      ],
      "metadata": {
        "colab": {
          "base_uri": "https://localhost:8080/"
        },
        "id": "RCSvICWCeWok",
        "outputId": "4ee9040d-c0d6-493b-8ea6-908aa1b0ca09"
      },
      "execution_count": 21,
      "outputs": [
        {
          "output_type": "stream",
          "name": "stdout",
          "text": [
            "<class 'pandas.core.frame.DataFrame'>\n",
            "Int64Index: 39116 entries, 41158 to 34752\n",
            "Data columns (total 9 columns):\n",
            " #   Column                          Non-Null Count  Dtype  \n",
            "---  ------                          --------------  -----  \n",
            " 0   neighbourhood_group             39116 non-null  object \n",
            " 1   room_type                       39116 non-null  object \n",
            " 2   latitude                        39116 non-null  float64\n",
            " 3   longitude                       39116 non-null  float64\n",
            " 4   minimum_nights                  39116 non-null  int64  \n",
            " 5   number_of_reviews               39116 non-null  int64  \n",
            " 6   reviews_per_month               39116 non-null  float64\n",
            " 7   calculated_host_listings_count  39116 non-null  int64  \n",
            " 8   availability_365                39116 non-null  int64  \n",
            "dtypes: float64(3), int64(4), object(2)\n",
            "memory usage: 3.0+ MB\n"
          ]
        }
      ]
    },
    {
      "cell_type": "code",
      "source": [
        "# numerical features of your train dataset.\n",
        "x_train_num = x_train[['latitude','longitude','minimum_nights','number_of_reviews','reviews_per_month','calculated_host_listings_count','availability_365']]"
      ],
      "metadata": {
        "id": "MjVDzGfUeqEh"
      },
      "execution_count": 22,
      "outputs": []
    },
    {
      "cell_type": "code",
      "source": [
        "x_train_num.info()"
      ],
      "metadata": {
        "colab": {
          "base_uri": "https://localhost:8080/"
        },
        "id": "u-AHyHOre1nA",
        "outputId": "0cd77dca-b9ce-480f-d3a7-437b41e21e44"
      },
      "execution_count": 23,
      "outputs": [
        {
          "output_type": "stream",
          "name": "stdout",
          "text": [
            "<class 'pandas.core.frame.DataFrame'>\n",
            "Int64Index: 39116 entries, 41158 to 34752\n",
            "Data columns (total 7 columns):\n",
            " #   Column                          Non-Null Count  Dtype  \n",
            "---  ------                          --------------  -----  \n",
            " 0   latitude                        39116 non-null  float64\n",
            " 1   longitude                       39116 non-null  float64\n",
            " 2   minimum_nights                  39116 non-null  int64  \n",
            " 3   number_of_reviews               39116 non-null  int64  \n",
            " 4   reviews_per_month               39116 non-null  float64\n",
            " 5   calculated_host_listings_count  39116 non-null  int64  \n",
            " 6   availability_365                39116 non-null  int64  \n",
            "dtypes: float64(3), int64(4)\n",
            "memory usage: 2.4 MB\n"
          ]
        }
      ]
    },
    {
      "cell_type": "code",
      "source": [
        "# Feature Relationships\n",
        "# Evaluate but remember to consider multicollinearity\n",
        "# Create the correlation matrix for the numerical features of your train dataset.\n",
        "\n",
        "# Computes feature correlation\n",
        "x_corr = x_train.corr(method=\"spearman\") # pearson assumes a linear relationship... spearman does not\n",
        "\n",
        "# Create labels for the correlation matrix\n",
        "labels = np.where(np.abs(x_corr)>0.75, \"S\",\n",
        "                  np.where(np.abs(x_corr)>0.5, \"M\",\n",
        "                           np.where(np.abs(x_corr)>0.25, \"W\", \"\")))\n",
        "\n",
        "# Plot correlation matrix\n",
        "plt.figure(figsize=(15, 15))\n",
        "sns.heatmap(x_corr, mask=np.eye(len(x_corr)), square=True,\n",
        "            center=0, annot=labels, fmt='', linewidths=.5,\n",
        "            cmap=\"vlag\", cbar_kws={\"shrink\": 0.8});"
      ],
      "metadata": {
        "colab": {
          "base_uri": "https://localhost:8080/",
          "height": 1000
        },
        "id": "4naJNrPWdGWk",
        "outputId": "d09fdb39-7adb-47d7-afec-22b27582ea5f"
      },
      "execution_count": 24,
      "outputs": [
        {
          "output_type": "display_data",
          "data": {
            "text/plain": [
              "<Figure size 1500x1500 with 2 Axes>"
            ],
            "image/png": "[encoded data removed]"
          },
          "metadata": {}
        }
      ]
    },
    {
      "cell_type": "code",
      "source": [
        "x_corr"
      ],
      "metadata": {
        "colab": {
          "base_uri": "https://localhost:8080/",
          "height": 333
        },
        "id": "xijuvwqEfhBx",
        "outputId": "1f4a101c-ec02-4736-e7e8-b81575d6c495"
      },
      "execution_count": 25,
      "outputs": [
        {
          "output_type": "execute_result",
          "data": {
            "text/plain": [
              "                                latitude  longitude  minimum_nights  \\\n",
              "latitude                        1.000000   0.034311        0.020668   \n",
              "longitude                       0.034311   1.000000       -0.115907   \n",
              "minimum_nights                  0.020668  -0.115907        1.000000   \n",
              "number_of_reviews              -0.044097   0.080479       -0.178377   \n",
              "reviews_per_month              -0.043096   0.109820       -0.250848   \n",
              "calculated_host_listings_count  0.000592   0.065841        0.062987   \n",
              "availability_365               -0.005900   0.069835        0.075373   \n",
              "\n",
              "                                number_of_reviews  reviews_per_month  \\\n",
              "latitude                                -0.044097          -0.043096   \n",
              "longitude                                0.080479           0.109820   \n",
              "minimum_nights                          -0.178377          -0.250848   \n",
              "number_of_reviews                        1.000000           0.850998   \n",
              "reviews_per_month                        0.850998           1.000000   \n",
              "calculated_host_listings_count           0.055085           0.094201   \n",
              "availability_365                         0.237626           0.297894   \n",
              "\n",
              "                                calculated_host_listings_count  \\\n",
              "latitude                                              0.000592   \n",
              "longitude                                             0.065841   \n",
              "minimum_nights                                        0.062987   \n",
              "number_of_reviews                                     0.055085   \n",
              "reviews_per_month                                     0.094201   \n",
              "calculated_host_listings_count                        1.000000   \n",
              "availability_365                                      0.406144   \n",
              "\n",
              "                                availability_365  \n",
              "latitude                               -0.005900  \n",
              "longitude                               0.069835  \n",
              "minimum_nights                          0.075373  \n",
              "number_of_reviews                       0.237626  \n",
              "reviews_per_month                       0.297894  \n",
              "calculated_host_listings_count          0.406144  \n",
              "availability_365                        1.000000  "
            ],
            "text/html": [
              "\n",
              "  <div id=\"df-7b904564-fdc4-43d6-bacf-182c6b36fdde\">\n",
              "    <div class=\"colab-df-container\">\n",
              "      <div>\n",
              "<style scoped>\n",
              "    .dataframe tbody tr th:only-of-type {\n",
              "        vertical-align: middle;\n",
              "    }\n",
              "\n",
              "    .dataframe tbody tr th {\n",
              "        vertical-align: top;\n",
              "    }\n",
              "\n",
              "    .dataframe thead th {\n",
              "        text-align: right;\n",
              "    }\n",
              "</style>\n",
              "<table border=\"1\" class=\"dataframe\">\n",
              "  <thead>\n",
              "    <tr style=\"text-align: right;\">\n",
              "      <th></th>\n",
              "      <th>latitude</th>\n",
              "      <th>longitude</th>\n",
              "      <th>minimum_nights</th>\n",
              "      <th>number_of_reviews</th>\n",
              "      <th>reviews_per_month</th>\n",
              "      <th>calculated_host_listings_count</th>\n",
              "      <th>availability_365</th>\n",
              "    </tr>\n",
              "  </thead>\n",
              "  <tbody>\n",
              "    <tr>\n",
              "      <th>latitude</th>\n",
              "      <td>1.000000</td>\n",
              "      <td>0.034311</td>\n",
              "      <td>0.020668</td>\n",
              "      <td>-0.044097</td>\n",
              "      <td>-0.043096</td>\n",
              "      <td>0.000592</td>\n",
              "      <td>-0.005900</td>\n",
              "    </tr>\n",
              "    <tr>\n",
              "      <th>longitude</th>\n",
              "      <td>0.034311</td>\n",
              "      <td>1.000000</td>\n",
              "      <td>-0.115907</td>\n",
              "      <td>0.080479</td>\n",
              "      <td>0.109820</td>\n",
              "      <td>0.065841</td>\n",
              "      <td>0.069835</td>\n",
              "    </tr>\n",
              "    <tr>\n",
              "      <th>minimum_nights</th>\n",
              "      <td>0.020668</td>\n",
              "      <td>-0.115907</td>\n",
              "      <td>1.000000</td>\n",
              "      <td>-0.178377</td>\n",
              "      <td>-0.250848</td>\n",
              "      <td>0.062987</td>\n",
              "      <td>0.075373</td>\n",
              "    </tr>\n",
              "    <tr>\n",
              "      <th>number_of_reviews</th>\n",
              "      <td>-0.044097</td>\n",
              "      <td>0.080479</td>\n",
              "      <td>-0.178377</td>\n",
              "      <td>1.000000</td>\n",
              "      <td>0.850998</td>\n",
              "      <td>0.055085</td>\n",
              "      <td>0.237626</td>\n",
              "    </tr>\n",
              "    <tr>\n",
              "      <th>reviews_per_month</th>\n",
              "      <td>-0.043096</td>\n",
              "      <td>0.109820</td>\n",
              "      <td>-0.250848</td>\n",
              "      <td>0.850998</td>\n",
              "      <td>1.000000</td>\n",
              "      <td>0.094201</td>\n",
              "      <td>0.297894</td>\n",
              "    </tr>\n",
              "    <tr>\n",
              "      <th>calculated_host_listings_count</th>\n",
              "      <td>0.000592</td>\n",
              "      <td>0.065841</td>\n",
              "      <td>0.062987</td>\n",
              "      <td>0.055085</td>\n",
              "      <td>0.094201</td>\n",
              "      <td>1.000000</td>\n",
              "      <td>0.406144</td>\n",
              "    </tr>\n",
              "    <tr>\n",
              "      <th>availability_365</th>\n",
              "      <td>-0.005900</td>\n",
              "      <td>0.069835</td>\n",
              "      <td>0.075373</td>\n",
              "      <td>0.237626</td>\n",
              "      <td>0.297894</td>\n",
              "      <td>0.406144</td>\n",
              "      <td>1.000000</td>\n",
              "    </tr>\n",
              "  </tbody>\n",
              "</table>\n",
              "</div>\n",
              "      <button class=\"colab-df-convert\" onclick=\"convertToInteractive('df-7b904564-fdc4-43d6-bacf-182c6b36fdde')\"\n",
              "              title=\"Convert this dataframe to an interactive table.\"\n",
              "              style=\"display:none;\">\n",
              "        \n",
              "  <svg xmlns=\"http://www.w3.org/2000/svg\" height=\"24px\"viewBox=\"0 0 24 24\"\n",
              "       width=\"24px\">\n",
              "    <path d=\"M0 0h24v24H0V0z\" fill=\"none\"/>\n",
              "    <path d=\"M18.56 5.44l.94 2.06.94-2.06 2.06-.94-2.06-.94-.94-2.06-.94 2.06-2.06.94zm-11 1L8.5 8.5l.94-2.06 2.06-.94-2.06-.94L8.5 2.5l-.94 2.06-2.06.94zm10 10l.94 2.06.94-2.06 2.06-.94-2.06-.94-.94-2.06-.94 2.06-2.06.94z\"/><path d=\"M17.41 7.96l-1.37-1.37c-.4-.4-.92-.59-1.43-.59-.52 0-1.04.2-1.43.59L10.3 9.45l-7.72 7.72c-.78.78-.78 2.05 0 2.83L4 21.41c.39.39.9.59 1.41.59.51 0 1.02-.2 1.41-.59l7.78-7.78 2.81-2.81c.8-.78.8-2.07 0-2.86zM5.41 20L4 18.59l7.72-7.72 1.47 1.35L5.41 20z\"/>\n",
              "  </svg>\n",
              "      </button>\n",
              "      \n",
              "  <style>\n",
              "    .colab-df-container {\n",
              "      display:flex;\n",
              "      flex-wrap:wrap;\n",
              "      gap: 12px;\n",
              "    }\n",
              "\n",
              "    .colab-df-convert {\n",
              "      background-color: #E8F0FE;\n",
              "      border: none;\n",
              "      border-radius: 50%;\n",
              "      cursor: pointer;\n",
              "      display: none;\n",
              "      fill: #1967D2;\n",
              "      height: 32px;\n",
              "      padding: 0 0 0 0;\n",
              "      width: 32px;\n",
              "    }\n",
              "\n",
              "    .colab-df-convert:hover {\n",
              "      background-color: #E2EBFA;\n",
              "      box-shadow: 0px 1px 2px rgba(60, 64, 67, 0.3), 0px 1px 3px 1px rgba(60, 64, 67, 0.15);\n",
              "      fill: #174EA6;\n",
              "    }\n",
              "\n",
              "    [theme=dark] .colab-df-convert {\n",
              "      background-color: #3B4455;\n",
              "      fill: #D2E3FC;\n",
              "    }\n",
              "\n",
              "    [theme=dark] .colab-df-convert:hover {\n",
              "      background-color: #434B5C;\n",
              "      box-shadow: 0px 1px 3px 1px rgba(0, 0, 0, 0.15);\n",
              "      filter: drop-shadow(0px 1px 2px rgba(0, 0, 0, 0.3));\n",
              "      fill: #FFFFFF;\n",
              "    }\n",
              "  </style>\n",
              "\n",
              "      <script>\n",
              "        const buttonEl =\n",
              "          document.querySelector('#df-7b904564-fdc4-43d6-bacf-182c6b36fdde button.colab-df-convert');\n",
              "        buttonEl.style.display =\n",
              "          google.colab.kernel.accessAllowed ? 'block' : 'none';\n",
              "\n",
              "        async function convertToInteractive(key) {\n",
              "          const element = document.querySelector('#df-7b904564-fdc4-43d6-bacf-182c6b36fdde');\n",
              "          const dataTable =\n",
              "            await google.colab.kernel.invokeFunction('convertToInteractive',\n",
              "                                                     [key], {});\n",
              "          if (!dataTable) return;\n",
              "\n",
              "          const docLinkHtml = 'Like what you see? Visit the ' +\n",
              "            '<a target=\"_blank\" href=https://colab.research.google.com/notebooks/data_table.ipynb>data table notebook</a>'\n",
              "            + ' to learn more about interactive tables.';\n",
              "          element.innerHTML = '';\n",
              "          dataTable['output_type'] = 'display_data';\n",
              "          await google.colab.output.renderOutput(dataTable, element);\n",
              "          const docLink = document.createElement('div');\n",
              "          docLink.innerHTML = docLinkHtml;\n",
              "          element.appendChild(docLink);\n",
              "        }\n",
              "      </script>\n",
              "    </div>\n",
              "  </div>\n",
              "  "
            ]
          },
          "metadata": {},
          "execution_count": 25
        }
      ]
    },
    {
      "cell_type": "code",
      "source": [
        "# Find the highest correlation values between features\n",
        "highest_corr = x_corr.unstack().sort_values(ascending=False).drop_duplicates()\n",
        "highest_corr[1:3]"
      ],
      "metadata": {
        "colab": {
          "base_uri": "https://localhost:8080/"
        },
        "id": "iNFRYKr9ftWS",
        "outputId": "d8174551-28cc-4d64-b4ca-b26b4ee0f411"
      },
      "execution_count": 27,
      "outputs": [
        {
          "output_type": "execute_result",
          "data": {
            "text/plain": [
              "number_of_reviews  reviews_per_month                 0.850998\n",
              "availability_365   calculated_host_listings_count    0.406144\n",
              "dtype: float64"
            ]
          },
          "metadata": {},
          "execution_count": 27
        }
      ]
    },
    {
      "cell_type": "markdown",
      "source": [
        "# Question 2"
      ],
      "metadata": {
        "id": "Xduu3YwshhuK"
      }
    },
    {
      "cell_type": "markdown",
      "source": [
        "What are the two features that have the biggest correlation in this dataset?\n",
        "\n",
        "number_of_reviews  reviews_per_month                 **0.850998**\n",
        "\n",
        "availability_365   calculated_host_listings_count    **0.406144**"
      ],
      "metadata": {
        "id": "KBHESqDCg4qZ"
      }
    },
    {
      "cell_type": "code",
      "source": [
        "df.info()"
      ],
      "metadata": {
        "colab": {
          "base_uri": "https://localhost:8080/"
        },
        "id": "2zeVbXYCiDQt",
        "outputId": "96760303-b429-4f9b-917d-838d507ef1a5"
      },
      "execution_count": 28,
      "outputs": [
        {
          "output_type": "stream",
          "name": "stdout",
          "text": [
            "<class 'pandas.core.frame.DataFrame'>\n",
            "RangeIndex: 48895 entries, 0 to 48894\n",
            "Data columns (total 11 columns):\n",
            " #   Column                          Non-Null Count  Dtype  \n",
            "---  ------                          --------------  -----  \n",
            " 0   neighbourhood_group             48895 non-null  object \n",
            " 1   room_type                       48895 non-null  object \n",
            " 2   latitude                        48895 non-null  float64\n",
            " 3   longitude                       48895 non-null  float64\n",
            " 4   price                           48895 non-null  int64  \n",
            " 5   minimum_nights                  48895 non-null  int64  \n",
            " 6   number_of_reviews               48895 non-null  int64  \n",
            " 7   reviews_per_month               48895 non-null  float64\n",
            " 8   calculated_host_listings_count  48895 non-null  int64  \n",
            " 9   availability_365                48895 non-null  int64  \n",
            " 10  above_average                   48895 non-null  int64  \n",
            "dtypes: float64(3), int64(6), object(2)\n",
            "memory usage: 4.1+ MB\n"
          ]
        }
      ]
    },
    {
      "cell_type": "code",
      "source": [
        "df.head()"
      ],
      "metadata": {
        "colab": {
          "base_uri": "https://localhost:8080/",
          "height": 270
        },
        "id": "9oc1-8loiF22",
        "outputId": "c013d062-f621-48f2-eab8-193f4080a13f"
      },
      "execution_count": 29,
      "outputs": [
        {
          "output_type": "execute_result",
          "data": {
            "text/plain": [
              "  neighbourhood_group        room_type  latitude  longitude  price  \\\n",
              "0            brooklyn     private_room  40.64749  -73.97237    149   \n",
              "1           manhattan  entire_home/apt  40.75362  -73.98377    225   \n",
              "2           manhattan     private_room  40.80902  -73.94190    150   \n",
              "3            brooklyn  entire_home/apt  40.68514  -73.95976     89   \n",
              "4           manhattan  entire_home/apt  40.79851  -73.94399     80   \n",
              "\n",
              "   minimum_nights  number_of_reviews  reviews_per_month  \\\n",
              "0               1                  9               0.21   \n",
              "1               1                 45               0.38   \n",
              "2               3                  0               0.00   \n",
              "3               1                270               4.64   \n",
              "4              10                  9               0.10   \n",
              "\n",
              "   calculated_host_listings_count  availability_365  above_average  \n",
              "0                               6               365              0  \n",
              "1                               2               355              1  \n",
              "2                               1               365              0  \n",
              "3                               1               194              0  \n",
              "4                               1                 0              0  "
            ],
            "text/html": [
              "\n",
              "  <div id=\"df-d1cdd815-399b-4598-b312-3c2354199e38\">\n",
              "    <div class=\"colab-df-container\">\n",
              "      <div>\n",
              "<style scoped>\n",
              "    .dataframe tbody tr th:only-of-type {\n",
              "        vertical-align: middle;\n",
              "    }\n",
              "\n",
              "    .dataframe tbody tr th {\n",
              "        vertical-align: top;\n",
              "    }\n",
              "\n",
              "    .dataframe thead th {\n",
              "        text-align: right;\n",
              "    }\n",
              "</style>\n",
              "<table border=\"1\" class=\"dataframe\">\n",
              "  <thead>\n",
              "    <tr style=\"text-align: right;\">\n",
              "      <th></th>\n",
              "      <th>neighbourhood_group</th>\n",
              "      <th>room_type</th>\n",
              "      <th>latitude</th>\n",
              "      <th>longitude</th>\n",
              "      <th>price</th>\n",
              "      <th>minimum_nights</th>\n",
              "      <th>number_of_reviews</th>\n",
              "      <th>reviews_per_month</th>\n",
              "      <th>calculated_host_listings_count</th>\n",
              "      <th>availability_365</th>\n",
              "      <th>above_average</th>\n",
              "    </tr>\n",
              "  </thead>\n",
              "  <tbody>\n",
              "    <tr>\n",
              "      <th>0</th>\n",
              "      <td>brooklyn</td>\n",
              "      <td>private_room</td>\n",
              "      <td>40.64749</td>\n",
              "      <td>-73.97237</td>\n",
              "      <td>149</td>\n",
              "      <td>1</td>\n",
              "      <td>9</td>\n",
              "      <td>0.21</td>\n",
              "      <td>6</td>\n",
              "      <td>365</td>\n",
              "      <td>0</td>\n",
              "    </tr>\n",
              "    <tr>\n",
              "      <th>1</th>\n",
              "      <td>manhattan</td>\n",
              "      <td>entire_home/apt</td>\n",
              "      <td>40.75362</td>\n",
              "      <td>-73.98377</td>\n",
              "      <td>225</td>\n",
              "      <td>1</td>\n",
              "      <td>45</td>\n",
              "      <td>0.38</td>\n",
              "      <td>2</td>\n",
              "      <td>355</td>\n",
              "      <td>1</td>\n",
              "    </tr>\n",
              "    <tr>\n",
              "      <th>2</th>\n",
              "      <td>manhattan</td>\n",
              "      <td>private_room</td>\n",
              "      <td>40.80902</td>\n",
              "      <td>-73.94190</td>\n",
              "      <td>150</td>\n",
              "      <td>3</td>\n",
              "      <td>0</td>\n",
              "      <td>0.00</td>\n",
              "      <td>1</td>\n",
              "      <td>365</td>\n",
              "      <td>0</td>\n",
              "    </tr>\n",
              "    <tr>\n",
              "      <th>3</th>\n",
              "      <td>brooklyn</td>\n",
              "      <td>entire_home/apt</td>\n",
              "      <td>40.68514</td>\n",
              "      <td>-73.95976</td>\n",
              "      <td>89</td>\n",
              "      <td>1</td>\n",
              "      <td>270</td>\n",
              "      <td>4.64</td>\n",
              "      <td>1</td>\n",
              "      <td>194</td>\n",
              "      <td>0</td>\n",
              "    </tr>\n",
              "    <tr>\n",
              "      <th>4</th>\n",
              "      <td>manhattan</td>\n",
              "      <td>entire_home/apt</td>\n",
              "      <td>40.79851</td>\n",
              "      <td>-73.94399</td>\n",
              "      <td>80</td>\n",
              "      <td>10</td>\n",
              "      <td>9</td>\n",
              "      <td>0.10</td>\n",
              "      <td>1</td>\n",
              "      <td>0</td>\n",
              "      <td>0</td>\n",
              "    </tr>\n",
              "  </tbody>\n",
              "</table>\n",
              "</div>\n",
              "      <button class=\"colab-df-convert\" onclick=\"convertToInteractive('df-d1cdd815-399b-4598-b312-3c2354199e38')\"\n",
              "              title=\"Convert this dataframe to an interactive table.\"\n",
              "              style=\"display:none;\">\n",
              "        \n",
              "  <svg xmlns=\"http://www.w3.org/2000/svg\" height=\"24px\"viewBox=\"0 0 24 24\"\n",
              "       width=\"24px\">\n",
              "    <path d=\"M0 0h24v24H0V0z\" fill=\"none\"/>\n",
              "    <path d=\"M18.56 5.44l.94 2.06.94-2.06 2.06-.94-2.06-.94-.94-2.06-.94 2.06-2.06.94zm-11 1L8.5 8.5l.94-2.06 2.06-.94-2.06-.94L8.5 2.5l-.94 2.06-2.06.94zm10 10l.94 2.06.94-2.06 2.06-.94-2.06-.94-.94-2.06-.94 2.06-2.06.94z\"/><path d=\"M17.41 7.96l-1.37-1.37c-.4-.4-.92-.59-1.43-.59-.52 0-1.04.2-1.43.59L10.3 9.45l-7.72 7.72c-.78.78-.78 2.05 0 2.83L4 21.41c.39.39.9.59 1.41.59.51 0 1.02-.2 1.41-.59l7.78-7.78 2.81-2.81c.8-.78.8-2.07 0-2.86zM5.41 20L4 18.59l7.72-7.72 1.47 1.35L5.41 20z\"/>\n",
              "  </svg>\n",
              "      </button>\n",
              "      \n",
              "  <style>\n",
              "    .colab-df-container {\n",
              "      display:flex;\n",
              "      flex-wrap:wrap;\n",
              "      gap: 12px;\n",
              "    }\n",
              "\n",
              "    .colab-df-convert {\n",
              "      background-color: #E8F0FE;\n",
              "      border: none;\n",
              "      border-radius: 50%;\n",
              "      cursor: pointer;\n",
              "      display: none;\n",
              "      fill: #1967D2;\n",
              "      height: 32px;\n",
              "      padding: 0 0 0 0;\n",
              "      width: 32px;\n",
              "    }\n",
              "\n",
              "    .colab-df-convert:hover {\n",
              "      background-color: #E2EBFA;\n",
              "      box-shadow: 0px 1px 2px rgba(60, 64, 67, 0.3), 0px 1px 3px 1px rgba(60, 64, 67, 0.15);\n",
              "      fill: #174EA6;\n",
              "    }\n",
              "\n",
              "    [theme=dark] .colab-df-convert {\n",
              "      background-color: #3B4455;\n",
              "      fill: #D2E3FC;\n",
              "    }\n",
              "\n",
              "    [theme=dark] .colab-df-convert:hover {\n",
              "      background-color: #434B5C;\n",
              "      box-shadow: 0px 1px 3px 1px rgba(0, 0, 0, 0.15);\n",
              "      filter: drop-shadow(0px 1px 2px rgba(0, 0, 0, 0.3));\n",
              "      fill: #FFFFFF;\n",
              "    }\n",
              "  </style>\n",
              "\n",
              "      <script>\n",
              "        const buttonEl =\n",
              "          document.querySelector('#df-d1cdd815-399b-4598-b312-3c2354199e38 button.colab-df-convert');\n",
              "        buttonEl.style.display =\n",
              "          google.colab.kernel.accessAllowed ? 'block' : 'none';\n",
              "\n",
              "        async function convertToInteractive(key) {\n",
              "          const element = document.querySelector('#df-d1cdd815-399b-4598-b312-3c2354199e38');\n",
              "          const dataTable =\n",
              "            await google.colab.kernel.invokeFunction('convertToInteractive',\n",
              "                                                     [key], {});\n",
              "          if (!dataTable) return;\n",
              "\n",
              "          const docLinkHtml = 'Like what you see? Visit the ' +\n",
              "            '<a target=\"_blank\" href=https://colab.research.google.com/notebooks/data_table.ipynb>data table notebook</a>'\n",
              "            + ' to learn more about interactive tables.';\n",
              "          element.innerHTML = '';\n",
              "          dataTable['output_type'] = 'display_data';\n",
              "          await google.colab.output.renderOutput(dataTable, element);\n",
              "          const docLink = document.createElement('div');\n",
              "          docLink.innerHTML = docLinkHtml;\n",
              "          element.appendChild(docLink);\n",
              "        }\n",
              "      </script>\n",
              "    </div>\n",
              "  </div>\n",
              "  "
            ]
          },
          "metadata": {},
          "execution_count": 29
        }
      ]
    },
    {
      "cell_type": "code",
      "source": [
        "x_train.info()"
      ],
      "metadata": {
        "colab": {
          "base_uri": "https://localhost:8080/"
        },
        "id": "9b8pXqr9igNo",
        "outputId": "cfd00db8-f269-436d-9508-51bd721b0232"
      },
      "execution_count": 30,
      "outputs": [
        {
          "output_type": "stream",
          "name": "stdout",
          "text": [
            "<class 'pandas.core.frame.DataFrame'>\n",
            "Int64Index: 39116 entries, 41158 to 34752\n",
            "Data columns (total 9 columns):\n",
            " #   Column                          Non-Null Count  Dtype  \n",
            "---  ------                          --------------  -----  \n",
            " 0   neighbourhood_group             39116 non-null  object \n",
            " 1   room_type                       39116 non-null  object \n",
            " 2   latitude                        39116 non-null  float64\n",
            " 3   longitude                       39116 non-null  float64\n",
            " 4   minimum_nights                  39116 non-null  int64  \n",
            " 5   number_of_reviews               39116 non-null  int64  \n",
            " 6   reviews_per_month               39116 non-null  float64\n",
            " 7   calculated_host_listings_count  39116 non-null  int64  \n",
            " 8   availability_365                39116 non-null  int64  \n",
            "dtypes: float64(3), int64(4), object(2)\n",
            "memory usage: 3.0+ MB\n"
          ]
        }
      ]
    },
    {
      "cell_type": "code",
      "source": [
        "# Calculate the mutual information score for the 'neighbourhood_group' feature\n",
        "mi_neighbourhood = mutual_info_score(x_train['neighbourhood_group'], y_train)\n",
        "\n",
        "# Calculate the mutual information score for the 'room_type' feature\n",
        "mi_room_type = mutual_info_score(x_train['room_type'], y_train)\n",
        "\n",
        "# Print the results rounded to 2 decimal digits\n",
        "print(f\"Mutual information score for 'neighbourhood_group': {round(mi_neighbourhood, 2)}\")\n",
        "print(f\"Mutual information score for 'room_type': {round(mi_room_type, 2)}\")"
      ],
      "metadata": {
        "colab": {
          "base_uri": "https://localhost:8080/"
        },
        "id": "WhzgX9Vgirob",
        "outputId": "b84a7c91-125d-4143-88a3-4e2bf977fcbe"
      },
      "execution_count": 31,
      "outputs": [
        {
          "output_type": "stream",
          "name": "stdout",
          "text": [
            "Mutual information score for 'neighbourhood_group': 0.05\n",
            "Mutual information score for 'room_type': 0.14\n"
          ]
        }
      ]
    },
    {
      "cell_type": "markdown",
      "source": [
        "# Question 3"
      ],
      "metadata": {
        "id": "A_uQENbKjN15"
      }
    },
    {
      "cell_type": "markdown",
      "source": [
        "Which of these two variables has a bigger score?\n",
        "\n",
        "Mutual information score for 'room_type': 0.14\n"
      ],
      "metadata": {
        "id": "3McPq64EjXnq"
      }
    },
    {
      "cell_type": "code",
      "source": [
        "#Remember that we have two categorical variables in the data. Include them using one-hot encoding.\n",
        "# Define the columns to be one-hot encoded\n",
        "categorical_features = [\"neighbourhood_group\", \"room_type\"]\n",
        "\n",
        "# Define the column transformer\n",
        "preprocessor = ColumnTransformer(\n",
        "    transformers=[\n",
        "        (\"num\", StandardScaler(), x_train.select_dtypes(include=[\"int\", \"float\"]).columns),\n",
        "        (\"cat\", OneHotEncoder(), categorical_features)\n",
        "    ])\n",
        "\n",
        "# Fit and transform the training set\n",
        "x_train_preprocessed = preprocessor.fit_transform(x_train)\n",
        "\n",
        "# Transform the testing set\n",
        "x_test_preprocessed = preprocessor.transform(x_test)"
      ],
      "metadata": {
        "id": "xVqHfryWkmV_"
      },
      "execution_count": 32,
      "outputs": []
    },
    {
      "cell_type": "code",
      "source": [
        "# Define the logistic regression model\n",
        "#To make sure the results are reproducible across different versions of Scikit-Learn, fit the model with these parameters:\n",
        "model = LogisticRegression(solver='lbfgs', C=1.0, random_state=42)"
      ],
      "metadata": {
        "id": "J4GBWVnalCwe"
      },
      "execution_count": 33,
      "outputs": []
    },
    {
      "cell_type": "code",
      "source": [
        "# Fit the pipeline on the training dataset\n",
        "model.fit(x_train_preprocessed, y_train)"
      ],
      "metadata": {
        "colab": {
          "base_uri": "https://localhost:8080/",
          "height": 75
        },
        "id": "91S1iD1Sly8A",
        "outputId": "8fbcaa02-98c5-4e27-af59-85a320074a20"
      },
      "execution_count": 34,
      "outputs": [
        {
          "output_type": "execute_result",
          "data": {
            "text/plain": [
              "LogisticRegression(random_state=42)"
            ],
            "text/html": [
              "<style>#sk-container-id-1 {color: black;background-color: white;}#sk-container-id-1 pre{padding: 0;}#sk-container-id-1 div.sk-toggleable {background-color: white;}#sk-container-id-1 label.sk-toggleable__label {cursor: pointer;display: block;width: 100%;margin-bottom: 0;padding: 0.3em;box-sizing: border-box;text-align: center;}#sk-container-id-1 label.sk-toggleable__label-arrow:before {content: \"▸\";float: left;margin-right: 0.25em;color: #696969;}#sk-container-id-1 label.sk-toggleable__label-arrow:hover:before {color: black;}#sk-container-id-1 div.sk-estimator:hover label.sk-toggleable__label-arrow:before {color: black;}#sk-container-id-1 div.sk-toggleable__content {max-height: 0;max-width: 0;overflow: hidden;text-align: left;background-color: #f0f8ff;}#sk-container-id-1 div.sk-toggleable__content pre {margin: 0.2em;color: black;border-radius: 0.25em;background-color: #f0f8ff;}#sk-container-id-1 input.sk-toggleable__control:checked~div.sk-toggleable__content {max-height: 200px;max-width: 100%;overflow: auto;}#sk-container-id-1 input.sk-toggleable__control:checked~label.sk-toggleable__label-arrow:before {content: \"▾\";}#sk-container-id-1 div.sk-estimator input.sk-toggleable__control:checked~label.sk-toggleable__label {background-color: #d4ebff;}#sk-container-id-1 div.sk-label input.sk-toggleable__control:checked~label.sk-toggleable__label {background-color: #d4ebff;}#sk-container-id-1 input.sk-hidden--visually {border: 0;clip: rect(1px 1px 1px 1px);clip: rect(1px, 1px, 1px, 1px);height: 1px;margin: -1px;overflow: hidden;padding: 0;position: absolute;width: 1px;}#sk-container-id-1 div.sk-estimator {font-family: monospace;background-color: #f0f8ff;border: 1px dotted black;border-radius: 0.25em;box-sizing: border-box;margin-bottom: 0.5em;}#sk-container-id-1 div.sk-estimator:hover {background-color: #d4ebff;}#sk-container-id-1 div.sk-parallel-item::after {content: \"\";width: 100%;border-bottom: 1px solid gray;flex-grow: 1;}#sk-container-id-1 div.sk-label:hover label.sk-toggleable__label {background-color: #d4ebff;}#sk-container-id-1 div.sk-serial::before {content: \"\";position: absolute;border-left: 1px solid gray;box-sizing: border-box;top: 0;bottom: 0;left: 50%;z-index: 0;}#sk-container-id-1 div.sk-serial {display: flex;flex-direction: column;align-items: center;background-color: white;padding-right: 0.2em;padding-left: 0.2em;position: relative;}#sk-container-id-1 div.sk-item {position: relative;z-index: 1;}#sk-container-id-1 div.sk-parallel {display: flex;align-items: stretch;justify-content: center;background-color: white;position: relative;}#sk-container-id-1 div.sk-item::before, #sk-container-id-1 div.sk-parallel-item::before {content: \"\";position: absolute;border-left: 1px solid gray;box-sizing: border-box;top: 0;bottom: 0;left: 50%;z-index: -1;}#sk-container-id-1 div.sk-parallel-item {display: flex;flex-direction: column;z-index: 1;position: relative;background-color: white;}#sk-container-id-1 div.sk-parallel-item:first-child::after {align-self: flex-end;width: 50%;}#sk-container-id-1 div.sk-parallel-item:last-child::after {align-self: flex-start;width: 50%;}#sk-container-id-1 div.sk-parallel-item:only-child::after {width: 0;}#sk-container-id-1 div.sk-dashed-wrapped {border: 1px dashed gray;margin: 0 0.4em 0.5em 0.4em;box-sizing: border-box;padding-bottom: 0.4em;background-color: white;}#sk-container-id-1 div.sk-label label {font-family: monospace;font-weight: bold;display: inline-block;line-height: 1.2em;}#sk-container-id-1 div.sk-label-container {text-align: center;}#sk-container-id-1 div.sk-container {/* jupyter's `normalize.less` sets `[hidden] { display: none; }` but bootstrap.min.css set `[hidden] { display: none !important; }` so we also need the `!important` here to be able to override the default hidden behavior on the sphinx rendered scikit-learn.org. See: https://github.com/scikit-learn/scikit-learn/issues/21755 */display: inline-block !important;position: relative;}#sk-container-id-1 div.sk-text-repr-fallback {display: none;}</style><div id=\"sk-container-id-1\" class=\"sk-top-container\"><div class=\"sk-text-repr-fallback\"><pre>LogisticRegression(random_state=42)</pre><b>In a Jupyter environment, please rerun this cell to show the HTML representation or trust the notebook. <br />On GitHub, the HTML representation is unable to render, please try loading this page with nbviewer.org.</b></div><div class=\"sk-container\" hidden><div class=\"sk-item\"><div class=\"sk-estimator sk-toggleable\"><input class=\"sk-toggleable__control sk-hidden--visually\" id=\"sk-estimator-id-1\" type=\"checkbox\" checked><label for=\"sk-estimator-id-1\" class=\"sk-toggleable__label sk-toggleable__label-arrow\">LogisticRegression</label><div class=\"sk-toggleable__content\"><pre>LogisticRegression(random_state=42)</pre></div></div></div></div></div>"
            ]
          },
          "metadata": {},
          "execution_count": 34
        }
      ]
    },
    {
      "cell_type": "code",
      "source": [
        "# Calculate the accuracy on the validation dataset\n",
        "y_pred = model.predict(x_test_preprocessed)\n",
        "accuracy = accuracy_score(y_test, y_pred)"
      ],
      "metadata": {
        "id": "39ClhUezmEU0"
      },
      "execution_count": 35,
      "outputs": []
    },
    {
      "cell_type": "code",
      "source": [
        "accuracy"
      ],
      "metadata": {
        "colab": {
          "base_uri": "https://localhost:8080/"
        },
        "id": "ce_LkDzwBpu3",
        "outputId": "f4960da5-1301-40a4-e087-4b7a308f2299"
      },
      "execution_count": 36,
      "outputs": [
        {
          "output_type": "execute_result",
          "data": {
            "text/plain": [
              "0.8023315267409755"
            ]
          },
          "metadata": {},
          "execution_count": 36
        }
      ]
    },
    {
      "cell_type": "code",
      "source": [
        "# Confusion Matrix for the model\n",
        "from sklearn.metrics import confusion_matrix\n",
        "confusionMatrix = confusion_matrix(y_test, y_pred)\n",
        "print(confusionMatrix)\n",
        "from sklearn.metrics import classification_report\n",
        "print(classification_report(y_test, y_pred))"
      ],
      "metadata": {
        "colab": {
          "base_uri": "https://localhost:8080/"
        },
        "id": "5FN6cANEnM_I",
        "outputId": "9acee9b8-642d-4871-8d08-21c20428b56f"
      },
      "execution_count": 37,
      "outputs": [
        {
          "output_type": "stream",
          "name": "stdout",
          "text": [
            "[[5921  883]\n",
            " [1050 1925]]\n",
            "              precision    recall  f1-score   support\n",
            "\n",
            "           0       0.85      0.87      0.86      6804\n",
            "           1       0.69      0.65      0.67      2975\n",
            "\n",
            "    accuracy                           0.80      9779\n",
            "   macro avg       0.77      0.76      0.76      9779\n",
            "weighted avg       0.80      0.80      0.80      9779\n",
            "\n"
          ]
        }
      ]
    },
    {
      "cell_type": "code",
      "source": [
        "# predict_proba predicts the probability and predict just predicts the category\n",
        "# y_pred = dt.predict_proba(X_test)[:, 1]\n",
        "y_pred = model.predict(x_test_preprocessed)\n",
        "\n",
        "conf_matrix = confusion_matrix(y_true=y_test, y_pred=y_pred)\n",
        "#\n",
        "# Print the confusion matrix using Matplotlib\n",
        "#\n",
        "fig, ax = plt.subplots(figsize=(5, 5))\n",
        "ax.matshow(conf_matrix, cmap=plt.cm.Oranges, alpha=0.3)\n",
        "for i in range(conf_matrix.shape[0]):\n",
        "    for j in range(conf_matrix.shape[1]):\n",
        "        ax.text(x=j, y=i,s=conf_matrix[i, j], va='center', ha='center', size='xx-large')\n",
        " \n",
        "plt.xlabel('Predictions', fontsize=18)\n",
        "plt.ylabel('Actuals', fontsize=18)\n",
        "plt.title('Confusion Matrix', fontsize=18)\n",
        "plt.show()"
      ],
      "metadata": {
        "colab": {
          "base_uri": "https://localhost:8080/",
          "height": 507
        },
        "id": "Dj3DLHk2CfdW",
        "outputId": "0d8766a2-ee53-4633-c894-b9fff779790d"
      },
      "execution_count": 38,
      "outputs": [
        {
          "output_type": "display_data",
          "data": {
            "text/plain": [
              "<Figure size 500x500 with 1 Axes>"
            ],
            "image/png": "[encoded data removed]"
          },
          "metadata": {}
        }
      ]
    },
    {
      "cell_type": "code",
      "source": [
        "# Print the accuracy rounded to 2 decimal digits\n",
        "print(f\"Validation accuracy: {round(accuracy, 2)}\")"
      ],
      "metadata": {
        "colab": {
          "base_uri": "https://localhost:8080/"
        },
        "id": "cJiY3As8mvRp",
        "outputId": "04733f40-bf3f-4594-ab03-d3446e927e7b"
      },
      "execution_count": 39,
      "outputs": [
        {
          "output_type": "stream",
          "name": "stdout",
          "text": [
            "Validation accuracy: 0.8\n"
          ]
        }
      ]
    },
    {
      "cell_type": "code",
      "source": [
        "original_accuracy = accuracy\n",
        "original_accuracy\n"
      ],
      "metadata": {
        "colab": {
          "base_uri": "https://localhost:8080/"
        },
        "id": "blQEj1SSFnxI",
        "outputId": "aa9db4dc-1768-47d6-d5ed-748959c1f27f"
      },
      "execution_count": 40,
      "outputs": [
        {
          "output_type": "execute_result",
          "data": {
            "text/plain": [
              "0.8023315267409755"
            ]
          },
          "metadata": {},
          "execution_count": 40
        }
      ]
    },
    {
      "cell_type": "markdown",
      "source": [
        "# Question 4"
      ],
      "metadata": {
        "id": "XJiDknsbm0tT"
      }
    },
    {
      "cell_type": "markdown",
      "source": [
        "Calculate the accuracy on the validation dataset and round it to 2 decimal digits.\n",
        "\n",
        "Validation accuracy: 0.80"
      ],
      "metadata": {
        "id": "zyRwi-E5m3wG"
      }
    },
    {
      "cell_type": "code",
      "source": [
        "# Loop over each feature and train a model without it\n",
        "# Iterate over each feature\n",
        "# Initialize an empty list to store the feature importances\n",
        "feature_importances = []\n",
        "feature_accuracy = []\n",
        "\n",
        "for i in range(x_train.shape[1]):\n",
        "    # Remove the current feature from the training and testing sets\n",
        "    x_train_without_feature = np.delete(x_train_preprocessed, i, axis=1)\n",
        "    x_test_without_feature = np.delete(x_test_preprocessed, i, axis=1)\n",
        "\n",
        "    # Train a logistic regression model on the updated training set\n",
        "    model = LogisticRegression(solver='lbfgs', C=1.0, random_state=42)\n",
        "\n",
        "   # Fit the pipeline on the training dataset\n",
        "    model.fit(x_train_without_feature, y_train)\n",
        "\n",
        "    # Evaluate the model's performance on the updated testing set\n",
        "    y_pred = model.predict(x_test_without_feature)\n",
        "    accuracy = accuracy_score(y_test, y_pred)\n",
        "\n",
        "     # Calculate the difference between the original accuracy and the accuracy without the i-th feature\n",
        "    difference = original_accuracy - accuracy\n",
        "\n",
        "    # Record the model's performance metric for the current feature\n",
        "    feature_importances.append(difference)\n",
        "    feature_accuracy.append(accuracy)\n",
        "\n",
        "# Print the feature importances\n",
        "for i, importance in enumerate(feature_importances):\n",
        "    print(f\"Feature {i} ({x_train.columns[i]}) : accuracy = {feature_accuracy[i]} , importance = {importance} \")"
      ],
      "metadata": {
        "colab": {
          "base_uri": "https://localhost:8080/"
        },
        "id": "Y9dw3jp1tRc5",
        "outputId": "9c191273-8263-47fd-e214-aae7b5edc893"
      },
      "execution_count": 41,
      "outputs": [
        {
          "output_type": "stream",
          "name": "stderr",
          "text": [
            "/usr/local/lib/python3.9/dist-packages/sklearn/linear_model/_logistic.py:458: ConvergenceWarning: lbfgs failed to converge (status=1):\n",
            "STOP: TOTAL NO. of ITERATIONS REACHED LIMIT.\n",
            "\n",
            "Increase the number of iterations (max_iter) or scale the data as shown in:\n",
            "    https://scikit-learn.org/stable/modules/preprocessing.html\n",
            "Please also refer to the documentation for alternative solver options:\n",
            "    https://scikit-learn.org/stable/modules/linear_model.html#logistic-regression\n",
            "  n_iter_i = _check_optimize_result(\n"
          ]
        },
        {
          "output_type": "stream",
          "name": "stdout",
          "text": [
            "Feature 0 (neighbourhood_group) : accuracy = 0.8008998875140607 , importance = 0.0014316392269148048 \n",
            "Feature 1 (room_type) : accuracy = 0.7897535535330811 , importance = 0.012577973207894444 \n",
            "Feature 2 (latitude) : accuracy = 0.8018202270170774 , importance = 0.0005112997238980732 \n",
            "Feature 3 (longitude) : accuracy = 0.8019224869618571 , importance = 0.00040903977911843636 \n",
            "Feature 4 (minimum_nights) : accuracy = 0.8020247469066367 , importance = 0.0003067798343387995 \n",
            "Feature 5 (number_of_reviews) : accuracy = 0.8015134471827385 , importance = 0.0008180795582369838 \n",
            "Feature 6 (reviews_per_month) : accuracy = 0.7848450761836588 , importance = 0.01748645055731668 \n",
            "Feature 7 (calculated_host_listings_count) : accuracy = 0.8023315267409755 , importance = 0.0 \n",
            "Feature 8 (availability_365) : accuracy = 0.8023315267409755 , importance = 0.0 \n"
          ]
        }
      ]
    },
    {
      "cell_type": "markdown",
      "source": [
        "# Question 5"
      ],
      "metadata": {
        "id": "GF1_3WLWISrI"
      }
    },
    {
      "cell_type": "markdown",
      "source": [
        "Which of the following feature has the smallest difference?\n",
        "\n",
        "neighbourhood_group - **0.0014316392269148048**\n",
        "\n",
        "room_type - **0.012577973207894444**\n",
        "\n",
        "number_of_reviews - **0.0008180795582369838**\n",
        "\n",
        "reviews_per_month - **0.01748645055731668**\n",
        "\n",
        "\n",
        "**number_of_reviews has the smallest difference in the overall accuracy from the above list**\n",
        "\n"
      ],
      "metadata": {
        "id": "Nf-nG5ueIWkv"
      }
    },
    {
      "cell_type": "code",
      "source": [
        "# Define a list of classifiers to test\n",
        "classifiers = [\n",
        "    LogisticRegression(),\n",
        "    DecisionTreeClassifier(),\n",
        "    RandomForestClassifier(),\n",
        "    GradientBoostingClassifier()\n",
        "]\n"
      ],
      "metadata": {
        "id": "gF4JKHSuL7lR"
      },
      "execution_count": 42,
      "outputs": []
    },
    {
      "cell_type": "code",
      "source": [
        "from sklearn.metrics import roc_curve, auc\n",
        "top_models = {}\n",
        "\n",
        "# Iterate over the classifiers and fit them to the training data\n",
        "for classifier in classifiers:\n",
        "    classifier.fit(x_train_preprocessed, y_train)\n",
        "    \n",
        "    # Predict the probabilities for the test data\n",
        "    y_prob = classifier.predict_proba(x_test_preprocessed)[:, 1]\n",
        "    \n",
        "    # Calculate the ROC AUC score\n",
        "    # roc_auc = roc_auc_score(y_test, y_prob)\n",
        "\n",
        "    fpr, tpr, _ = roc_curve(y_test, y_prob)\n",
        "    roc_auc = auc(fpr, tpr)\n",
        "    \n",
        "    # Print the ROC AUC score for the classifier\n",
        "    print(f\"{type(classifier).__name__} ROC AUC score: {roc_auc}\")\n",
        "\n",
        "    #save the model to a Map\n",
        "    top_models[type(classifier).__name__] = roc_auc\n",
        "\n",
        "    # Assuming y_test and y_prob are your test set labels and predicted probabilities, respectively\n",
        "    # fpr, tpr, thresholds = roc_curve(y_test, y_prob)\n",
        "    # roc_auc = auc(fpr, tpr)\n",
        "\n",
        "    # # Plot the ROC curve\n",
        "    plt.plot(fpr, tpr, color='darkorange', lw=2, label='ROC curve (AUC = %0.2f)' % roc_auc)\n",
        "    plt.plot([0, 1], [0, 1], color='navy', lw=2, linestyle='--')\n",
        "    plt.xlim([0.0, 1.0])\n",
        "    plt.ylim([0.0, 1.05])\n",
        "    plt.xlabel('False Positive Rate')\n",
        "    plt.ylabel('True Positive Rate')\n",
        "    plt.title('Receiver Operating Characteristic')\n",
        "    plt.legend(loc=\"lower right\")\n",
        "    plt.show()"
      ],
      "metadata": {
        "colab": {
          "base_uri": "https://localhost:8080/",
          "height": 1000
        },
        "id": "XGnS1OkrMWZI",
        "outputId": "35f78a37-1117-4f84-c13e-468aeef90689"
      },
      "execution_count": 45,
      "outputs": [
        {
          "output_type": "stream",
          "name": "stdout",
          "text": [
            "LogisticRegression ROC AUC score: 0.86566680993385\n"
          ]
        },
        {
          "output_type": "display_data",
          "data": {
            "text/plain": [
              "<Figure size 640x480 with 1 Axes>"
            ],
            "image/png": "[encoded data removed]"
          },
          "metadata": {}
        },
        {
          "output_type": "stream",
          "name": "stdout",
          "text": [
            "DecisionTreeClassifier ROC AUC score: 0.7315859677204215\n"
          ]
        },
        {
          "output_type": "display_data",
          "data": {
            "text/plain": [
              "<Figure size 640x480 with 1 Axes>"
            ],
            "image/png": "[encoded data removed]"
          },
          "metadata": {}
        },
        {
          "output_type": "stream",
          "name": "stdout",
          "text": [
            "RandomForestClassifier ROC AUC score: 0.8958281090213864\n"
          ]
        },
        {
          "output_type": "display_data",
          "data": {
            "text/plain": [
              "<Figure size 640x480 with 1 Axes>"
            ],
            "image/png": "[encoded data removed]"
          },
          "metadata": {}
        },
        {
          "output_type": "stream",
          "name": "stdout",
          "text": [
            "GradientBoostingClassifier ROC AUC score: 0.8954934319406774\n"
          ]
        },
        {
          "output_type": "display_data",
          "data": {
            "text/plain": [
              "<Figure size 640x480 with 1 Axes>"
            ],
            "image/png": "[encoded data removed]"
          },
          "metadata": {}
        }
      ]
    },
    {
      "cell_type": "code",
      "source": [
        "top_models"
      ],
      "metadata": {
        "colab": {
          "base_uri": "https://localhost:8080/"
        },
        "id": "y9COjwBSUMhq",
        "outputId": "76c2925e-d0ba-4a52-bc30-1c9a95b0ea60"
      },
      "execution_count": 46,
      "outputs": [
        {
          "output_type": "execute_result",
          "data": {
            "text/plain": [
              "{'LogisticRegression': 0.86566680993385,\n",
              " 'DecisionTreeClassifier': 0.7315859677204215,\n",
              " 'RandomForestClassifier': 0.8958281090213864,\n",
              " 'GradientBoostingClassifier': 0.8954934319406774}"
            ]
          },
          "metadata": {},
          "execution_count": 46
        }
      ]
    },
    {
      "cell_type": "code",
      "source": [
        "top_models_sorted = dict(sorted(top_models.items(), key=lambda x: x[1], reverse=True))\n",
        "top_models_sorted"
      ],
      "metadata": {
        "colab": {
          "base_uri": "https://localhost:8080/"
        },
        "id": "rgCvfrjDVEWC",
        "outputId": "0f8bf1c8-3dd1-4efc-ee1e-57006b5b6e57"
      },
      "execution_count": 47,
      "outputs": [
        {
          "output_type": "execute_result",
          "data": {
            "text/plain": [
              "{'RandomForestClassifier': 0.8958281090213864,\n",
              " 'GradientBoostingClassifier': 0.8954934319406774,\n",
              " 'LogisticRegression': 0.86566680993385,\n",
              " 'DecisionTreeClassifier': 0.7315859677204215}"
            ]
          },
          "metadata": {},
          "execution_count": 47
        }
      ]
    },
    {
      "cell_type": "markdown",
      "source": [
        "# Question 6"
      ],
      "metadata": {
        "id": "gDZ7CCTGPzZK"
      }
    },
    {
      "cell_type": "markdown",
      "source": [
        "For this question, use the Classification template and identify the top 3 models based on ROC_AUC score.\n",
        "\n",
        "RandomForestClassifier ROC AUC score: 0.8969076519496687\n",
        "\n",
        "GradientBoostingClassifier ROC AUC score: 0.8954949634174658\n",
        "\n",
        "LogisticRegression ROC AUC score: 0.86566680993385"
      ],
      "metadata": {
        "id": "vPGrkmIIQMj9"
      }
    },
    {
      "cell_type": "code",
      "source": [
        "np.log(0)"
      ],
      "metadata": {
        "colab": {
          "base_uri": "https://localhost:8080/"
        },
        "id": "Ms3DkccZqREL",
        "outputId": "e7384644-8231-4aa2-a0c1-3b054c30dcaf"
      },
      "execution_count": 48,
      "outputs": [
        {
          "output_type": "stream",
          "name": "stderr",
          "text": [
            "<ipython-input-48-f6e7c0610b57>:1: RuntimeWarning: divide by zero encountered in log\n",
            "  np.log(0)\n"
          ]
        },
        {
          "output_type": "execute_result",
          "data": {
            "text/plain": [
              "-inf"
            ]
          },
          "metadata": {},
          "execution_count": 48
        }
      ]
    },
    {
      "cell_type": "code",
      "source": [
        "df.info()"
      ],
      "metadata": {
        "colab": {
          "base_uri": "https://localhost:8080/"
        },
        "id": "DapZ98Ry6CSu",
        "outputId": "e9ddb1db-9e59-4529-f632-5070e144eccf"
      },
      "execution_count": 49,
      "outputs": [
        {
          "output_type": "stream",
          "name": "stdout",
          "text": [
            "<class 'pandas.core.frame.DataFrame'>\n",
            "RangeIndex: 48895 entries, 0 to 48894\n",
            "Data columns (total 11 columns):\n",
            " #   Column                          Non-Null Count  Dtype  \n",
            "---  ------                          --------------  -----  \n",
            " 0   neighbourhood_group             48895 non-null  object \n",
            " 1   room_type                       48895 non-null  object \n",
            " 2   latitude                        48895 non-null  float64\n",
            " 3   longitude                       48895 non-null  float64\n",
            " 4   price                           48895 non-null  int64  \n",
            " 5   minimum_nights                  48895 non-null  int64  \n",
            " 6   number_of_reviews               48895 non-null  int64  \n",
            " 7   reviews_per_month               48895 non-null  float64\n",
            " 8   calculated_host_listings_count  48895 non-null  int64  \n",
            " 9   availability_365                48895 non-null  int64  \n",
            " 10  above_average                   48895 non-null  int64  \n",
            "dtypes: float64(3), int64(6), object(2)\n",
            "memory usage: 4.1+ MB\n"
          ]
        }
      ]
    },
    {
      "cell_type": "code",
      "source": [
        "# split data into training and validation sets\n",
        "original_df = df.drop('above_average', axis=1)\n",
        "x_log_train, x_log_test, y_log_train, y_log_test = train_test_split(original_df.drop('price', axis=1), np.log(original_df['price']+ 0.0001), test_size=0.2, random_state=42)\n"
      ],
      "metadata": {
        "id": "jpuvsLReZXQD"
      },
      "execution_count": 50,
      "outputs": []
    },
    {
      "cell_type": "code",
      "source": [
        "# Fit and transform the training set\n",
        "x_log_train_preprocessed = preprocessor.fit_transform(x_log_train)\n",
        "\n",
        "# Transform the testing set\n",
        "x_log_test_preprocessed = preprocessor.transform(x_log_test)"
      ],
      "metadata": {
        "id": "5SvZIhbwarPJ"
      },
      "execution_count": 51,
      "outputs": []
    },
    {
      "cell_type": "code",
      "source": [
        "# try different values of alpha and find the one with the best RMSE on the validation set\n",
        "best_alpha = None\n",
        "best_rmse = float('inf')\n",
        "alpha_values = [0, 0.01, 0.1, 1, 10]\n",
        "for alpha in alpha_values:\n",
        "    # create a Ridge regression object with the given alpha\n",
        "    ridge_reg = Ridge(alpha=alpha)\n",
        "    # fit the Ridge regression model on the training data\n",
        "    ridge_reg.fit(x_log_train_preprocessed, y_log_train)\n",
        "    # make predictions on the validation set\n",
        "    y_pred = ridge_reg.predict(x_log_test_preprocessed)\n",
        "    # calculate RMSE on the validation set\n",
        "    rmse = np.sqrt(mean_squared_error(y_log_test, y_pred))\n",
        "\n",
        "    print(f\"Alpha = {alpha}, RMSE = {rmse}\")\n",
        "    # update the best alpha and RMSE if necessary\n",
        "    if rmse < best_rmse:\n",
        "        best_alpha = alpha\n",
        "        best_rmse = rmse"
      ],
      "metadata": {
        "colab": {
          "base_uri": "https://localhost:8080/"
        },
        "id": "nZTT251_aYNm",
        "outputId": "196f7e3e-1b5c-4696-e4ee-16d29e91d6c5"
      },
      "execution_count": 52,
      "outputs": [
        {
          "output_type": "stream",
          "name": "stdout",
          "text": [
            "Alpha = 0, RMSE = 0.5230620883420141\n",
            "Alpha = 0.01, RMSE = 0.5231452527066957\n",
            "Alpha = 0.1, RMSE = 0.5231449141350799\n",
            "Alpha = 1, RMSE = 0.5231416033987973\n",
            "Alpha = 10, RMSE = 0.5231155221433349\n"
          ]
        }
      ]
    },
    {
      "cell_type": "code",
      "source": [
        "# print the best alpha and corresponding RMSE\n",
        "print(\"Best alpha:\", best_alpha)\n",
        "print(\"Best RMSE:\", round(best_rmse, 3))"
      ],
      "metadata": {
        "colab": {
          "base_uri": "https://localhost:8080/"
        },
        "id": "ghqmF0z3czPV",
        "outputId": "06b46db4-0f1f-4357-d3dc-f82e2b5f368f"
      },
      "execution_count": 53,
      "outputs": [
        {
          "output_type": "stream",
          "name": "stdout",
          "text": [
            "Best alpha: 0\n",
            "Best RMSE: 0.523\n"
          ]
        }
      ]
    },
    {
      "cell_type": "markdown",
      "source": [
        "# Question 7"
      ],
      "metadata": {
        "id": "Xwb3xdh3dgFc"
      }
    },
    {
      "cell_type": "markdown",
      "source": [
        "Which of these alphas leads to the best RMSE on the validation set? Round your RMSE scores to 3 decimal digits.\n",
        "\n",
        "**Best alpha:** 0\n",
        "\n",
        "**Best RMSE:** 0.523"
      ],
      "metadata": {
        "id": "yhPvBd7SdjrX"
      }
    },
    {
      "cell_type": "code",
      "source": [
        "df.info()"
      ],
      "metadata": {
        "colab": {
          "base_uri": "https://localhost:8080/"
        },
        "id": "NEiJAyp3Gpod",
        "outputId": "046d4e3e-f459-4d03-81d8-b7d97f4d02c1"
      },
      "execution_count": 54,
      "outputs": [
        {
          "output_type": "stream",
          "name": "stdout",
          "text": [
            "<class 'pandas.core.frame.DataFrame'>\n",
            "RangeIndex: 48895 entries, 0 to 48894\n",
            "Data columns (total 11 columns):\n",
            " #   Column                          Non-Null Count  Dtype  \n",
            "---  ------                          --------------  -----  \n",
            " 0   neighbourhood_group             48895 non-null  object \n",
            " 1   room_type                       48895 non-null  object \n",
            " 2   latitude                        48895 non-null  float64\n",
            " 3   longitude                       48895 non-null  float64\n",
            " 4   price                           48895 non-null  int64  \n",
            " 5   minimum_nights                  48895 non-null  int64  \n",
            " 6   number_of_reviews               48895 non-null  int64  \n",
            " 7   reviews_per_month               48895 non-null  float64\n",
            " 8   calculated_host_listings_count  48895 non-null  int64  \n",
            " 9   availability_365                48895 non-null  int64  \n",
            " 10  above_average                   48895 non-null  int64  \n",
            "dtypes: float64(3), int64(6), object(2)\n",
            "memory usage: 4.1+ MB\n"
          ]
        }
      ]
    },
    {
      "cell_type": "code",
      "source": [
        "# Resampling\n",
        "resample_df = df.drop('price', axis=1)\n",
        "x_resamp_train, x_resamp_test, y_resamp_train, y_resamp_test = train_test_split(resample_df.drop('above_average', axis=1), resample_df['above_average'], test_size=0.3, random_state=123)"
      ],
      "metadata": {
        "id": "AAGT3dLd2NEs"
      },
      "execution_count": 55,
      "outputs": []
    },
    {
      "cell_type": "code",
      "source": [
        "# Check if the values in y train are balanced\n",
        "value_counts = y_resamp_train.value_counts()\n",
        "percentages = value_counts / len(y_resamp_train) * 100\n",
        "\n",
        "print(percentages)\n",
        "print(value_counts)"
      ],
      "metadata": {
        "colab": {
          "base_uri": "https://localhost:8080/"
        },
        "id": "iYKtAW3D3RFK",
        "outputId": "9e640374-151a-470a-979a-40a4dc9d0a4c"
      },
      "execution_count": 56,
      "outputs": [
        {
          "output_type": "stream",
          "name": "stdout",
          "text": [
            "0    69.631274\n",
            "1    30.368726\n",
            "Name: above_average, dtype: float64\n",
            "0    23832\n",
            "1    10394\n",
            "Name: above_average, dtype: int64\n"
          ]
        }
      ]
    },
    {
      "cell_type": "code",
      "source": [
        "# Oversampling - Balancing the dataset\n",
        "!pip install smote-variants"
      ],
      "metadata": {
        "colab": {
          "base_uri": "https://localhost:8080/"
        },
        "id": "whegz7QqCUn4",
        "outputId": "cd2dc430-b8d7-4fe3-9c66-58cd1995dfe6"
      },
      "execution_count": 57,
      "outputs": [
        {
          "output_type": "stream",
          "name": "stdout",
          "text": [
            "Looking in indexes: https://pypi.org/simple, https://us-python.pkg.dev/colab-wheels/public/simple/\n",
            "Collecting smote-variants\n",
            "  Downloading smote_variants-0.7.1-py3-none-any.whl (407 kB)\n",
            "\u001b[2K     \u001b[90m━━━━━━━━━━━━━━━━━━━━━━━━━━━━━━━━━━━━━━\u001b[0m \u001b[32m407.4/407.4 KB\u001b[0m \u001b[31m13.3 MB/s\u001b[0m eta \u001b[36m0:00:00\u001b[0m\n",
            "\u001b[?25hCollecting statistics\n",
            "  Downloading statistics-1.0.3.5.tar.gz (8.3 kB)\n",
            "  Preparing metadata (setup.py) ... \u001b[?25l\u001b[?25hdone\n",
            "Requirement already satisfied: joblib in /usr/local/lib/python3.9/dist-packages (from smote-variants) (1.1.1)\n",
            "Requirement already satisfied: mkl in /usr/local/lib/python3.9/dist-packages (from smote-variants) (2019.0)\n",
            "Collecting metric-learn\n",
            "  Downloading metric_learn-0.6.2-py2.py3-none-any.whl (64 kB)\n",
            "\u001b[2K     \u001b[90m━━━━━━━━━━━━━━━━━━━━━━━━━━━━━━━━━━━━━━━━\u001b[0m \u001b[32m64.8/64.8 KB\u001b[0m \u001b[31m8.4 MB/s\u001b[0m eta \u001b[36m0:00:00\u001b[0m\n",
            "\u001b[?25hRequirement already satisfied: tensorflow in /usr/local/lib/python3.9/dist-packages (from smote-variants) (2.12.0)\n",
            "Requirement already satisfied: seaborn in /usr/local/lib/python3.9/dist-packages (from smote-variants) (0.12.2)\n",
            "Collecting minisom\n",
            "  Downloading MiniSom-2.3.1.tar.gz (10 kB)\n",
            "  Preparing metadata (setup.py) ... \u001b[?25l\u001b[?25hdone\n",
            "Requirement already satisfied: scikit-learn in /usr/local/lib/python3.9/dist-packages (from smote-variants) (1.2.2)\n",
            "Requirement already satisfied: keras in /usr/local/lib/python3.9/dist-packages (from smote-variants) (2.12.0)\n",
            "Requirement already satisfied: numpy>=1.13.0 in /usr/local/lib/python3.9/dist-packages (from smote-variants) (1.22.4)\n",
            "Requirement already satisfied: scipy in /usr/local/lib/python3.9/dist-packages (from smote-variants) (1.10.1)\n",
            "Requirement already satisfied: pandas in /usr/local/lib/python3.9/dist-packages (from smote-variants) (1.4.4)\n",
            "Requirement already satisfied: threadpoolctl>=2.0.0 in /usr/local/lib/python3.9/dist-packages (from scikit-learn->smote-variants) (3.1.0)\n",
            "Requirement already satisfied: intel-openmp in /usr/local/lib/python3.9/dist-packages (from mkl->smote-variants) (2023.1.0)\n",
            "Requirement already satisfied: python-dateutil>=2.8.1 in /usr/local/lib/python3.9/dist-packages (from pandas->smote-variants) (2.8.2)\n",
            "Requirement already satisfied: pytz>=2020.1 in /usr/local/lib/python3.9/dist-packages (from pandas->smote-variants) (2022.7.1)\n",
            "Requirement already satisfied: matplotlib!=3.6.1,>=3.1 in /usr/local/lib/python3.9/dist-packages (from seaborn->smote-variants) (3.7.1)\n",
            "Requirement already satisfied: docutils>=0.3 in /usr/local/lib/python3.9/dist-packages (from statistics->smote-variants) (0.16)\n",
            "Requirement already satisfied: absl-py>=1.0.0 in /usr/local/lib/python3.9/dist-packages (from tensorflow->smote-variants) (1.4.0)\n",
            "Requirement already satisfied: opt-einsum>=2.3.2 in /usr/local/lib/python3.9/dist-packages (from tensorflow->smote-variants) (3.3.0)\n",
            "Requirement already satisfied: flatbuffers>=2.0 in /usr/local/lib/python3.9/dist-packages (from tensorflow->smote-variants) (23.3.3)\n",
            "Requirement already satisfied: tensorflow-io-gcs-filesystem>=0.23.1 in /usr/local/lib/python3.9/dist-packages (from tensorflow->smote-variants) (0.32.0)\n",
            "Requirement already satisfied: jax>=0.3.15 in /usr/local/lib/python3.9/dist-packages (from tensorflow->smote-variants) (0.4.7)\n",
            "Requirement already satisfied: grpcio<2.0,>=1.24.3 in /usr/local/lib/python3.9/dist-packages (from tensorflow->smote-variants) (1.53.0)\n",
            "Requirement already satisfied: wrapt<1.15,>=1.11.0 in /usr/local/lib/python3.9/dist-packages (from tensorflow->smote-variants) (1.14.1)\n",
            "Requirement already satisfied: gast<=0.4.0,>=0.2.1 in /usr/local/lib/python3.9/dist-packages (from tensorflow->smote-variants) (0.4.0)\n",
            "Requirement already satisfied: libclang>=13.0.0 in /usr/local/lib/python3.9/dist-packages (from tensorflow->smote-variants) (16.0.0)\n",
            "Requirement already satisfied: typing-extensions>=3.6.6 in /usr/local/lib/python3.9/dist-packages (from tensorflow->smote-variants) (4.5.0)\n",
            "Requirement already satisfied: google-pasta>=0.1.1 in /usr/local/lib/python3.9/dist-packages (from tensorflow->smote-variants) (0.2.0)\n",
            "Requirement already satisfied: h5py>=2.9.0 in /usr/local/lib/python3.9/dist-packages (from tensorflow->smote-variants) (3.8.0)\n",
            "Requirement already satisfied: six>=1.12.0 in /usr/local/lib/python3.9/dist-packages (from tensorflow->smote-variants) (1.16.0)\n",
            "Requirement already satisfied: termcolor>=1.1.0 in /usr/local/lib/python3.9/dist-packages (from tensorflow->smote-variants) (2.2.0)\n",
            "Requirement already satisfied: packaging in /usr/local/lib/python3.9/dist-packages (from tensorflow->smote-variants) (23.0)\n",
            "Requirement already satisfied: protobuf!=4.21.0,!=4.21.1,!=4.21.2,!=4.21.3,!=4.21.4,!=4.21.5,<5.0.0dev,>=3.20.3 in /usr/local/lib/python3.9/dist-packages (from tensorflow->smote-variants) (3.20.3)\n",
            "Requirement already satisfied: setuptools in /usr/local/lib/python3.9/dist-packages (from tensorflow->smote-variants) (67.6.1)\n",
            "Requirement already satisfied: tensorflow-estimator<2.13,>=2.12.0 in /usr/local/lib/python3.9/dist-packages (from tensorflow->smote-variants) (2.12.0)\n",
            "Requirement already satisfied: astunparse>=1.6.0 in /usr/local/lib/python3.9/dist-packages (from tensorflow->smote-variants) (1.6.3)\n",
            "Requirement already satisfied: tensorboard<2.13,>=2.12 in /usr/local/lib/python3.9/dist-packages (from tensorflow->smote-variants) (2.12.0)\n",
            "Requirement already satisfied: wheel<1.0,>=0.23.0 in /usr/local/lib/python3.9/dist-packages (from astunparse>=1.6.0->tensorflow->smote-variants) (0.40.0)\n",
            "Requirement already satisfied: ml-dtypes>=0.0.3 in /usr/local/lib/python3.9/dist-packages (from jax>=0.3.15->tensorflow->smote-variants) (0.0.4)\n",
            "Requirement already satisfied: pyparsing>=2.3.1 in /usr/local/lib/python3.9/dist-packages (from matplotlib!=3.6.1,>=3.1->seaborn->smote-variants) (3.0.9)\n",
            "Requirement already satisfied: fonttools>=4.22.0 in /usr/local/lib/python3.9/dist-packages (from matplotlib!=3.6.1,>=3.1->seaborn->smote-variants) (4.39.3)\n",
            "Requirement already satisfied: kiwisolver>=1.0.1 in /usr/local/lib/python3.9/dist-packages (from matplotlib!=3.6.1,>=3.1->seaborn->smote-variants) (1.4.4)\n",
            "Requirement already satisfied: pillow>=6.2.0 in /usr/local/lib/python3.9/dist-packages (from matplotlib!=3.6.1,>=3.1->seaborn->smote-variants) (8.4.0)\n",
            "Requirement already satisfied: contourpy>=1.0.1 in /usr/local/lib/python3.9/dist-packages (from matplotlib!=3.6.1,>=3.1->seaborn->smote-variants) (1.0.7)\n",
            "Requirement already satisfied: cycler>=0.10 in /usr/local/lib/python3.9/dist-packages (from matplotlib!=3.6.1,>=3.1->seaborn->smote-variants) (0.11.0)\n",
            "Requirement already satisfied: importlib-resources>=3.2.0 in /usr/local/lib/python3.9/dist-packages (from matplotlib!=3.6.1,>=3.1->seaborn->smote-variants) (5.12.0)\n",
            "Requirement already satisfied: google-auth<3,>=1.6.3 in /usr/local/lib/python3.9/dist-packages (from tensorboard<2.13,>=2.12->tensorflow->smote-variants) (2.17.1)\n",
            "Requirement already satisfied: werkzeug>=1.0.1 in /usr/local/lib/python3.9/dist-packages (from tensorboard<2.13,>=2.12->tensorflow->smote-variants) (2.2.3)\n",
            "Requirement already satisfied: requests<3,>=2.21.0 in /usr/local/lib/python3.9/dist-packages (from tensorboard<2.13,>=2.12->tensorflow->smote-variants) (2.27.1)\n",
            "Requirement already satisfied: tensorboard-data-server<0.8.0,>=0.7.0 in /usr/local/lib/python3.9/dist-packages (from tensorboard<2.13,>=2.12->tensorflow->smote-variants) (0.7.0)\n",
            "Requirement already satisfied: tensorboard-plugin-wit>=1.6.0 in /usr/local/lib/python3.9/dist-packages (from tensorboard<2.13,>=2.12->tensorflow->smote-variants) (1.8.1)\n",
            "Requirement already satisfied: markdown>=2.6.8 in /usr/local/lib/python3.9/dist-packages (from tensorboard<2.13,>=2.12->tensorflow->smote-variants) (3.4.3)\n",
            "Requirement already satisfied: google-auth-oauthlib<0.5,>=0.4.1 in /usr/local/lib/python3.9/dist-packages (from tensorboard<2.13,>=2.12->tensorflow->smote-variants) (0.4.6)\n",
            "Requirement already satisfied: pyasn1-modules>=0.2.1 in /usr/local/lib/python3.9/dist-packages (from google-auth<3,>=1.6.3->tensorboard<2.13,>=2.12->tensorflow->smote-variants) (0.2.8)\n",
            "Requirement already satisfied: cachetools<6.0,>=2.0.0 in /usr/local/lib/python3.9/dist-packages (from google-auth<3,>=1.6.3->tensorboard<2.13,>=2.12->tensorflow->smote-variants) (5.3.0)\n",
            "Requirement already satisfied: rsa<5,>=3.1.4 in /usr/local/lib/python3.9/dist-packages (from google-auth<3,>=1.6.3->tensorboard<2.13,>=2.12->tensorflow->smote-variants) (4.9)\n",
            "Requirement already satisfied: requests-oauthlib>=0.7.0 in /usr/local/lib/python3.9/dist-packages (from google-auth-oauthlib<0.5,>=0.4.1->tensorboard<2.13,>=2.12->tensorflow->smote-variants) (1.3.1)\n",
            "Requirement already satisfied: zipp>=3.1.0 in /usr/local/lib/python3.9/dist-packages (from importlib-resources>=3.2.0->matplotlib!=3.6.1,>=3.1->seaborn->smote-variants) (3.15.0)\n",
            "Requirement already satisfied: importlib-metadata>=4.4 in /usr/local/lib/python3.9/dist-packages (from markdown>=2.6.8->tensorboard<2.13,>=2.12->tensorflow->smote-variants) (6.1.0)\n",
            "Requirement already satisfied: urllib3<1.27,>=1.21.1 in /usr/local/lib/python3.9/dist-packages (from requests<3,>=2.21.0->tensorboard<2.13,>=2.12->tensorflow->smote-variants) (1.26.15)\n",
            "Requirement already satisfied: idna<4,>=2.5 in /usr/local/lib/python3.9/dist-packages (from requests<3,>=2.21.0->tensorboard<2.13,>=2.12->tensorflow->smote-variants) (3.4)\n",
            "Requirement already satisfied: charset-normalizer~=2.0.0 in /usr/local/lib/python3.9/dist-packages (from requests<3,>=2.21.0->tensorboard<2.13,>=2.12->tensorflow->smote-variants) (2.0.12)\n",
            "Requirement already satisfied: certifi>=2017.4.17 in /usr/local/lib/python3.9/dist-packages (from requests<3,>=2.21.0->tensorboard<2.13,>=2.12->tensorflow->smote-variants) (2022.12.7)\n",
            "Requirement already satisfied: MarkupSafe>=2.1.1 in /usr/local/lib/python3.9/dist-packages (from werkzeug>=1.0.1->tensorboard<2.13,>=2.12->tensorflow->smote-variants) (2.1.2)\n",
            "Requirement already satisfied: pyasn1<0.5.0,>=0.4.6 in /usr/local/lib/python3.9/dist-packages (from pyasn1-modules>=0.2.1->google-auth<3,>=1.6.3->tensorboard<2.13,>=2.12->tensorflow->smote-variants) (0.4.8)\n",
            "Requirement already satisfied: oauthlib>=3.0.0 in /usr/local/lib/python3.9/dist-packages (from requests-oauthlib>=0.7.0->google-auth-oauthlib<0.5,>=0.4.1->tensorboard<2.13,>=2.12->tensorflow->smote-variants) (3.2.2)\n",
            "Building wheels for collected packages: minisom, statistics\n",
            "  Building wheel for minisom (setup.py) ... \u001b[?25l\u001b[?25hdone\n",
            "  Created wheel for minisom: filename=MiniSom-2.3.1-py3-none-any.whl size=10609 sha256=033e049f7af0029c0e35974d85e3497df1a18841f34b3ca6c89be1bc857563f1\n",
            "  Stored in directory: /root/.cache/pip/wheels/b4/aa/7a/d9a88098f7877aa95dd4f227fe614f75773654baa39b47bba6\n",
            "  Building wheel for statistics (setup.py) ... \u001b[?25l\u001b[?25hdone\n",
            "  Created wheel for statistics: filename=statistics-1.0.3.5-py3-none-any.whl size=7453 sha256=c91801d64f9aeb11eda27b8a1cbe2c7501083142ff982d05cd5c96931eaec222\n",
            "  Stored in directory: /root/.cache/pip/wheels/26/3c/70/9467407f3aa90862061eadcd286627b23a8bab6789b667776f\n",
            "Successfully built minisom statistics\n",
            "Installing collected packages: minisom, statistics, metric-learn, smote-variants\n",
            "Successfully installed metric-learn-0.6.2 minisom-2.3.1 smote-variants-0.7.1 statistics-1.0.3.5\n"
          ]
        }
      ]
    },
    {
      "cell_type": "code",
      "source": [
        "# Instantiating the SMOTE class\n",
        "import smote_variants as sv\n",
        "import numpy as np\n",
        "oversampler= sv.SMOTE()"
      ],
      "metadata": {
        "id": "MKo-gLVqC7we"
      },
      "execution_count": 58,
      "outputs": []
    },
    {
      "cell_type": "code",
      "source": [
        "# Creating new balanced training set\n",
        "x_train_os, y_train_os = oversampler.sample(np.array(preprocessor.fit_transform(x_resamp_train)), np.array(y_resamp_train))"
      ],
      "metadata": {
        "colab": {
          "base_uri": "https://localhost:8080/"
        },
        "id": "TkdOzdVFC_3H",
        "outputId": "6bc74022-5e7d-412a-8766-5537a566781c"
      },
      "execution_count": 59,
      "outputs": [
        {
          "output_type": "stream",
          "name": "stderr",
          "text": [
            "2023-04-05 01:48:00,721:INFO:SMOTE: Running sampling via ('SMOTE', \"{'proportion': 1.0, 'n_neighbors': 5, 'nn_params': {}, 'n_jobs': 1, 'ss_params': {'n_dim': 2, 'simplex_sampling': 'random', 'within_simplex_sampling': 'random', 'gaussian_component': {}}, 'random_state': None, 'class_name': 'SMOTE'}\")\n",
            "INFO:smote_variants:SMOTE: Running sampling via ('SMOTE', \"{'proportion': 1.0, 'n_neighbors': 5, 'nn_params': {}, 'n_jobs': 1, 'ss_params': {'n_dim': 2, 'simplex_sampling': 'random', 'within_simplex_sampling': 'random', 'gaussian_component': {}}, 'random_state': None, 'class_name': 'SMOTE'}\")\n",
            "2023-04-05 01:48:00,793:INFO:NearestNeighborsWithMetricTensor: NN fitting with metric minkowski\n",
            "INFO:smote_variants:NearestNeighborsWithMetricTensor: NN fitting with metric minkowski\n",
            "2023-04-05 01:48:00,927:INFO:NearestNeighborsWithMetricTensor: kneighbors query minkowski\n",
            "INFO:smote_variants:NearestNeighborsWithMetricTensor: kneighbors query minkowski\n",
            "2023-04-05 01:48:06,125:INFO:SMOTE: simplex sampling with n_dim 2\n",
            "INFO:smote_variants:SMOTE: simplex sampling with n_dim 2\n"
          ]
        }
      ]
    },
    {
      "cell_type": "code",
      "source": [
        "# Assuming y_train is a Numpy array\n",
        "value_counts = pd.Series(y_train_os).value_counts()\n",
        "percentages = value_counts / len(y_train_os) * 100\n",
        "\n",
        "print(percentages)\n",
        "print(value_counts)"
      ],
      "metadata": {
        "colab": {
          "base_uri": "https://localhost:8080/"
        },
        "id": "NZb9qv5xDgnJ",
        "outputId": "7ac7c695-6165-40b5-ac4c-53be3237e0fa"
      },
      "execution_count": 60,
      "outputs": [
        {
          "output_type": "stream",
          "name": "stdout",
          "text": [
            "0    50.0\n",
            "1    50.0\n",
            "dtype: float64\n",
            "0    23832\n",
            "1    23832\n",
            "dtype: int64\n"
          ]
        }
      ]
    },
    {
      "cell_type": "code",
      "source": [
        "# Fit the balanced dataset to model\n",
        "model.fit(x_train_os, y_train_os)"
      ],
      "metadata": {
        "id": "RoWMDaJJD81Z",
        "outputId": "61104a4f-2125-4b8d-93df-cc4fba366d71",
        "colab": {
          "base_uri": "https://localhost:8080/",
          "height": 75
        }
      },
      "execution_count": 61,
      "outputs": [
        {
          "output_type": "execute_result",
          "data": {
            "text/plain": [
              "LogisticRegression(random_state=42)"
            ],
            "text/html": [
              "<style>#sk-container-id-2 {color: black;background-color: white;}#sk-container-id-2 pre{padding: 0;}#sk-container-id-2 div.sk-toggleable {background-color: white;}#sk-container-id-2 label.sk-toggleable__label {cursor: pointer;display: block;width: 100%;margin-bottom: 0;padding: 0.3em;box-sizing: border-box;text-align: center;}#sk-container-id-2 label.sk-toggleable__label-arrow:before {content: \"▸\";float: left;margin-right: 0.25em;color: #696969;}#sk-container-id-2 label.sk-toggleable__label-arrow:hover:before {color: black;}#sk-container-id-2 div.sk-estimator:hover label.sk-toggleable__label-arrow:before {color: black;}#sk-container-id-2 div.sk-toggleable__content {max-height: 0;max-width: 0;overflow: hidden;text-align: left;background-color: #f0f8ff;}#sk-container-id-2 div.sk-toggleable__content pre {margin: 0.2em;color: black;border-radius: 0.25em;background-color: #f0f8ff;}#sk-container-id-2 input.sk-toggleable__control:checked~div.sk-toggleable__content {max-height: 200px;max-width: 100%;overflow: auto;}#sk-container-id-2 input.sk-toggleable__control:checked~label.sk-toggleable__label-arrow:before {content: \"▾\";}#sk-container-id-2 div.sk-estimator input.sk-toggleable__control:checked~label.sk-toggleable__label {background-color: #d4ebff;}#sk-container-id-2 div.sk-label input.sk-toggleable__control:checked~label.sk-toggleable__label {background-color: #d4ebff;}#sk-container-id-2 input.sk-hidden--visually {border: 0;clip: rect(1px 1px 1px 1px);clip: rect(1px, 1px, 1px, 1px);height: 1px;margin: -1px;overflow: hidden;padding: 0;position: absolute;width: 1px;}#sk-container-id-2 div.sk-estimator {font-family: monospace;background-color: #f0f8ff;border: 1px dotted black;border-radius: 0.25em;box-sizing: border-box;margin-bottom: 0.5em;}#sk-container-id-2 div.sk-estimator:hover {background-color: #d4ebff;}#sk-container-id-2 div.sk-parallel-item::after {content: \"\";width: 100%;border-bottom: 1px solid gray;flex-grow: 1;}#sk-container-id-2 div.sk-label:hover label.sk-toggleable__label {background-color: #d4ebff;}#sk-container-id-2 div.sk-serial::before {content: \"\";position: absolute;border-left: 1px solid gray;box-sizing: border-box;top: 0;bottom: 0;left: 50%;z-index: 0;}#sk-container-id-2 div.sk-serial {display: flex;flex-direction: column;align-items: center;background-color: white;padding-right: 0.2em;padding-left: 0.2em;position: relative;}#sk-container-id-2 div.sk-item {position: relative;z-index: 1;}#sk-container-id-2 div.sk-parallel {display: flex;align-items: stretch;justify-content: center;background-color: white;position: relative;}#sk-container-id-2 div.sk-item::before, #sk-container-id-2 div.sk-parallel-item::before {content: \"\";position: absolute;border-left: 1px solid gray;box-sizing: border-box;top: 0;bottom: 0;left: 50%;z-index: -1;}#sk-container-id-2 div.sk-parallel-item {display: flex;flex-direction: column;z-index: 1;position: relative;background-color: white;}#sk-container-id-2 div.sk-parallel-item:first-child::after {align-self: flex-end;width: 50%;}#sk-container-id-2 div.sk-parallel-item:last-child::after {align-self: flex-start;width: 50%;}#sk-container-id-2 div.sk-parallel-item:only-child::after {width: 0;}#sk-container-id-2 div.sk-dashed-wrapped {border: 1px dashed gray;margin: 0 0.4em 0.5em 0.4em;box-sizing: border-box;padding-bottom: 0.4em;background-color: white;}#sk-container-id-2 div.sk-label label {font-family: monospace;font-weight: bold;display: inline-block;line-height: 1.2em;}#sk-container-id-2 div.sk-label-container {text-align: center;}#sk-container-id-2 div.sk-container {/* jupyter's `normalize.less` sets `[hidden] { display: none; }` but bootstrap.min.css set `[hidden] { display: none !important; }` so we also need the `!important` here to be able to override the default hidden behavior on the sphinx rendered scikit-learn.org. See: https://github.com/scikit-learn/scikit-learn/issues/21755 */display: inline-block !important;position: relative;}#sk-container-id-2 div.sk-text-repr-fallback {display: none;}</style><div id=\"sk-container-id-2\" class=\"sk-top-container\"><div class=\"sk-text-repr-fallback\"><pre>LogisticRegression(random_state=42)</pre><b>In a Jupyter environment, please rerun this cell to show the HTML representation or trust the notebook. <br />On GitHub, the HTML representation is unable to render, please try loading this page with nbviewer.org.</b></div><div class=\"sk-container\" hidden><div class=\"sk-item\"><div class=\"sk-estimator sk-toggleable\"><input class=\"sk-toggleable__control sk-hidden--visually\" id=\"sk-estimator-id-2\" type=\"checkbox\" checked><label for=\"sk-estimator-id-2\" class=\"sk-toggleable__label sk-toggleable__label-arrow\">LogisticRegression</label><div class=\"sk-toggleable__content\"><pre>LogisticRegression(random_state=42)</pre></div></div></div></div></div>"
            ]
          },
          "metadata": {},
          "execution_count": 61
        }
      ]
    },
    {
      "cell_type": "code",
      "source": [
        "# train the model with new balanced data\n",
        "X_testNew_preprocessed = preprocessor.fit_transform(x_resamp_test)\n",
        "y_pred = model.predict(X_testNew_preprocessed)"
      ],
      "metadata": {
        "id": "1OFo_22tEREC"
      },
      "execution_count": 62,
      "outputs": []
    },
    {
      "cell_type": "code",
      "source": [
        "# Calculate accuracy score of balanced data\n",
        "model.score(X_testNew_preprocessed, y_resamp_test)\n",
        "\n",
        "# Calculate the accuracy on the validation dataset\n",
        "accuracy = accuracy_score(y_resamp_test, y_pred)\n",
        "\n",
        "accuracy"
      ],
      "metadata": {
        "colab": {
          "base_uri": "https://localhost:8080/"
        },
        "id": "8Ko5lhNuErXH",
        "outputId": "886b8ed7-af78-4f25-ecef-5a48da27187d"
      },
      "execution_count": 63,
      "outputs": [
        {
          "output_type": "execute_result",
          "data": {
            "text/plain": [
              "0.7641966050855545"
            ]
          },
          "metadata": {},
          "execution_count": 63
        }
      ]
    },
    {
      "cell_type": "code",
      "source": [
        "print(f\"Balanced Dataset(SMOT) Accuracy {accuracy} | Unbalanced Dataset Accuracy = {original_accuracy}\")"
      ],
      "metadata": {
        "colab": {
          "base_uri": "https://localhost:8080/"
        },
        "id": "7Di70HTBItNM",
        "outputId": "666aa87b-f627-48ea-f131-daca917f2075"
      },
      "execution_count": 64,
      "outputs": [
        {
          "output_type": "stream",
          "name": "stdout",
          "text": [
            "Balanced Dataset(SMOT) Accuracy 0.7641966050855545 | Unbalanced Dataset Accuracy = 0.8023315267409755\n"
          ]
        }
      ]
    },
    {
      "cell_type": "markdown",
      "source": [
        "Plot Oversampling result"
      ],
      "metadata": {
        "id": "tbbzbme6Hl8J"
      }
    },
    {
      "cell_type": "code",
      "source": [
        "# Predict the probabilities for the test data\n",
        "y_prob = model.predict_proba(X_testNew_preprocessed)[:, 1]\n",
        "    \n",
        "# calculate roc_curve\n",
        "\n",
        "fpr, tpr, _ = roc_curve(y_resamp_test, y_prob)\n",
        "roc_auc = auc(fpr, tpr)\n",
        "    "
      ],
      "metadata": {
        "id": "QflFXAs2G18C"
      },
      "execution_count": 77,
      "outputs": []
    },
    {
      "cell_type": "code",
      "source": [
        "plt.plot(fpr, tpr, color='darkorange', lw=2, label='OverSampling ROC curve (AUC = %0.2f)' % roc_auc)\n",
        "plt.plot([0, 1], [0, 1], color='navy', lw=2, linestyle='--')\n",
        "plt.xlim([0.0, 1.0])\n",
        "plt.ylim([0.0, 1.05])\n",
        "plt.xlabel('False Positive Rate')\n",
        "plt.ylabel('True Positive Rate')\n",
        "plt.title('Receiver Operating Characteristic')\n",
        "plt.legend(loc=\"lower right\")\n",
        "plt.show()"
      ],
      "metadata": {
        "id": "hLideiE7Jauh",
        "outputId": "e9812d90-72fe-4c8c-f756-03630cc7dc91",
        "colab": {
          "base_uri": "https://localhost:8080/",
          "height": 472
        }
      },
      "execution_count": 78,
      "outputs": [
        {
          "output_type": "display_data",
          "data": {
            "text/plain": [
              "<Figure size 640x480 with 1 Axes>"
            ],
            "image/png": "[encoded data removed]"
          },
          "metadata": {}
        }
      ]
    },
    {
      "cell_type": "markdown",
      "source": [
        "Under Sampling"
      ],
      "metadata": {
        "id": "jH0-qV8HK5z6"
      }
    },
    {
      "cell_type": "code",
      "source": [
        "resample_df = df.drop('price', axis=1)\n",
        "x_resamp_train, x_resamp_test, y_resamp_train, y_resamp_test = train_test_split(resample_df.drop('above_average', axis=1), resample_df['above_average'], test_size=0.3, random_state=123)"
      ],
      "metadata": {
        "id": "m0maIzepJ7Fy"
      },
      "execution_count": 81,
      "outputs": []
    },
    {
      "cell_type": "code",
      "source": [
        "trainData = pd.concat([x_resamp_train,y_resamp_train],axis=1)"
      ],
      "metadata": {
        "id": "SexKAufTM-_h"
      },
      "execution_count": 82,
      "outputs": []
    },
    {
      "cell_type": "code",
      "source": [
        "trainData.head()\n"
      ],
      "metadata": {
        "id": "S80AHNibNIlK",
        "outputId": "a757e56c-fd94-4481-b480-f0c775b93a7f",
        "colab": {
          "base_uri": "https://localhost:8080/",
          "height": 270
        }
      },
      "execution_count": 84,
      "outputs": [
        {
          "output_type": "execute_result",
          "data": {
            "text/plain": [
              "      neighbourhood_group        room_type  latitude  longitude  \\\n",
              "36150           manhattan  entire_home/apt  40.83256  -73.94440   \n",
              "45223           manhattan  entire_home/apt  40.76134  -73.99299   \n",
              "14316            brooklyn     private_room  40.71119  -73.95097   \n",
              "1691            manhattan  entire_home/apt  40.75900  -73.99530   \n",
              "20195            brooklyn  entire_home/apt  40.71306  -73.94856   \n",
              "\n",
              "       minimum_nights  number_of_reviews  reviews_per_month  \\\n",
              "36150               4                  0               0.00   \n",
              "45223              30                  0               0.00   \n",
              "14316               1                  0               0.00   \n",
              "1691                1                  0               0.00   \n",
              "20195               3                  1               0.03   \n",
              "\n",
              "       calculated_host_listings_count  availability_365  above_average  \n",
              "36150                               1                17              0  \n",
              "45223                              20               332              0  \n",
              "14316                               1                 0              1  \n",
              "1691                                1                 0              0  \n",
              "20195                               1                 0              1  "
            ],
            "text/html": [
              "\n",
              "  <div id=\"df-7a6e52a0-bfc1-4e9d-944a-83d9fa266d46\">\n",
              "    <div class=\"colab-df-container\">\n",
              "      <div>\n",
              "<style scoped>\n",
              "    .dataframe tbody tr th:only-of-type {\n",
              "        vertical-align: middle;\n",
              "    }\n",
              "\n",
              "    .dataframe tbody tr th {\n",
              "        vertical-align: top;\n",
              "    }\n",
              "\n",
              "    .dataframe thead th {\n",
              "        text-align: right;\n",
              "    }\n",
              "</style>\n",
              "<table border=\"1\" class=\"dataframe\">\n",
              "  <thead>\n",
              "    <tr style=\"text-align: right;\">\n",
              "      <th></th>\n",
              "      <th>neighbourhood_group</th>\n",
              "      <th>room_type</th>\n",
              "      <th>latitude</th>\n",
              "      <th>longitude</th>\n",
              "      <th>minimum_nights</th>\n",
              "      <th>number_of_reviews</th>\n",
              "      <th>reviews_per_month</th>\n",
              "      <th>calculated_host_listings_count</th>\n",
              "      <th>availability_365</th>\n",
              "      <th>above_average</th>\n",
              "    </tr>\n",
              "  </thead>\n",
              "  <tbody>\n",
              "    <tr>\n",
              "      <th>36150</th>\n",
              "      <td>manhattan</td>\n",
              "      <td>entire_home/apt</td>\n",
              "      <td>40.83256</td>\n",
              "      <td>-73.94440</td>\n",
              "      <td>4</td>\n",
              "      <td>0</td>\n",
              "      <td>0.00</td>\n",
              "      <td>1</td>\n",
              "      <td>17</td>\n",
              "      <td>0</td>\n",
              "    </tr>\n",
              "    <tr>\n",
              "      <th>45223</th>\n",
              "      <td>manhattan</td>\n",
              "      <td>entire_home/apt</td>\n",
              "      <td>40.76134</td>\n",
              "      <td>-73.99299</td>\n",
              "      <td>30</td>\n",
              "      <td>0</td>\n",
              "      <td>0.00</td>\n",
              "      <td>20</td>\n",
              "      <td>332</td>\n",
              "      <td>0</td>\n",
              "    </tr>\n",
              "    <tr>\n",
              "      <th>14316</th>\n",
              "      <td>brooklyn</td>\n",
              "      <td>private_room</td>\n",
              "      <td>40.71119</td>\n",
              "      <td>-73.95097</td>\n",
              "      <td>1</td>\n",
              "      <td>0</td>\n",
              "      <td>0.00</td>\n",
              "      <td>1</td>\n",
              "      <td>0</td>\n",
              "      <td>1</td>\n",
              "    </tr>\n",
              "    <tr>\n",
              "      <th>1691</th>\n",
              "      <td>manhattan</td>\n",
              "      <td>entire_home/apt</td>\n",
              "      <td>40.75900</td>\n",
              "      <td>-73.99530</td>\n",
              "      <td>1</td>\n",
              "      <td>0</td>\n",
              "      <td>0.00</td>\n",
              "      <td>1</td>\n",
              "      <td>0</td>\n",
              "      <td>0</td>\n",
              "    </tr>\n",
              "    <tr>\n",
              "      <th>20195</th>\n",
              "      <td>brooklyn</td>\n",
              "      <td>entire_home/apt</td>\n",
              "      <td>40.71306</td>\n",
              "      <td>-73.94856</td>\n",
              "      <td>3</td>\n",
              "      <td>1</td>\n",
              "      <td>0.03</td>\n",
              "      <td>1</td>\n",
              "      <td>0</td>\n",
              "      <td>1</td>\n",
              "    </tr>\n",
              "  </tbody>\n",
              "</table>\n",
              "</div>\n",
              "      <button class=\"colab-df-convert\" onclick=\"convertToInteractive('df-7a6e52a0-bfc1-4e9d-944a-83d9fa266d46')\"\n",
              "              title=\"Convert this dataframe to an interactive table.\"\n",
              "              style=\"display:none;\">\n",
              "        \n",
              "  <svg xmlns=\"http://www.w3.org/2000/svg\" height=\"24px\"viewBox=\"0 0 24 24\"\n",
              "       width=\"24px\">\n",
              "    <path d=\"M0 0h24v24H0V0z\" fill=\"none\"/>\n",
              "    <path d=\"M18.56 5.44l.94 2.06.94-2.06 2.06-.94-2.06-.94-.94-2.06-.94 2.06-2.06.94zm-11 1L8.5 8.5l.94-2.06 2.06-.94-2.06-.94L8.5 2.5l-.94 2.06-2.06.94zm10 10l.94 2.06.94-2.06 2.06-.94-2.06-.94-.94-2.06-.94 2.06-2.06.94z\"/><path d=\"M17.41 7.96l-1.37-1.37c-.4-.4-.92-.59-1.43-.59-.52 0-1.04.2-1.43.59L10.3 9.45l-7.72 7.72c-.78.78-.78 2.05 0 2.83L4 21.41c.39.39.9.59 1.41.59.51 0 1.02-.2 1.41-.59l7.78-7.78 2.81-2.81c.8-.78.8-2.07 0-2.86zM5.41 20L4 18.59l7.72-7.72 1.47 1.35L5.41 20z\"/>\n",
              "  </svg>\n",
              "      </button>\n",
              "      \n",
              "  <style>\n",
              "    .colab-df-container {\n",
              "      display:flex;\n",
              "      flex-wrap:wrap;\n",
              "      gap: 12px;\n",
              "    }\n",
              "\n",
              "    .colab-df-convert {\n",
              "      background-color: #E8F0FE;\n",
              "      border: none;\n",
              "      border-radius: 50%;\n",
              "      cursor: pointer;\n",
              "      display: none;\n",
              "      fill: #1967D2;\n",
              "      height: 32px;\n",
              "      padding: 0 0 0 0;\n",
              "      width: 32px;\n",
              "    }\n",
              "\n",
              "    .colab-df-convert:hover {\n",
              "      background-color: #E2EBFA;\n",
              "      box-shadow: 0px 1px 2px rgba(60, 64, 67, 0.3), 0px 1px 3px 1px rgba(60, 64, 67, 0.15);\n",
              "      fill: #174EA6;\n",
              "    }\n",
              "\n",
              "    [theme=dark] .colab-df-convert {\n",
              "      background-color: #3B4455;\n",
              "      fill: #D2E3FC;\n",
              "    }\n",
              "\n",
              "    [theme=dark] .colab-df-convert:hover {\n",
              "      background-color: #434B5C;\n",
              "      box-shadow: 0px 1px 3px 1px rgba(0, 0, 0, 0.15);\n",
              "      filter: drop-shadow(0px 1px 2px rgba(0, 0, 0, 0.3));\n",
              "      fill: #FFFFFF;\n",
              "    }\n",
              "  </style>\n",
              "\n",
              "      <script>\n",
              "        const buttonEl =\n",
              "          document.querySelector('#df-7a6e52a0-bfc1-4e9d-944a-83d9fa266d46 button.colab-df-convert');\n",
              "        buttonEl.style.display =\n",
              "          google.colab.kernel.accessAllowed ? 'block' : 'none';\n",
              "\n",
              "        async function convertToInteractive(key) {\n",
              "          const element = document.querySelector('#df-7a6e52a0-bfc1-4e9d-944a-83d9fa266d46');\n",
              "          const dataTable =\n",
              "            await google.colab.kernel.invokeFunction('convertToInteractive',\n",
              "                                                     [key], {});\n",
              "          if (!dataTable) return;\n",
              "\n",
              "          const docLinkHtml = 'Like what you see? Visit the ' +\n",
              "            '<a target=\"_blank\" href=https://colab.research.google.com/notebooks/data_table.ipynb>data table notebook</a>'\n",
              "            + ' to learn more about interactive tables.';\n",
              "          element.innerHTML = '';\n",
              "          dataTable['output_type'] = 'display_data';\n",
              "          await google.colab.output.renderOutput(dataTable, element);\n",
              "          const docLink = document.createElement('div');\n",
              "          docLink.innerHTML = docLinkHtml;\n",
              "          element.appendChild(docLink);\n",
              "        }\n",
              "      </script>\n",
              "    </div>\n",
              "  </div>\n",
              "  "
            ]
          },
          "metadata": {},
          "execution_count": 84
        }
      ]
    },
    {
      "cell_type": "code",
      "source": [
        "# pull out all of the \"yes\" or minority values\n",
        "ind = trainData[trainData['above_average']==1].index\n",
        "print(len(ind))"
      ],
      "metadata": {
        "id": "Yf5IwvlxNbSq",
        "outputId": "cc8022be-d647-48e5-a4de-e2a0ebc0588f",
        "colab": {
          "base_uri": "https://localhost:8080/"
        }
      },
      "execution_count": 86,
      "outputs": [
        {
          "output_type": "stream",
          "name": "stdout",
          "text": [
            "10394\n"
          ]
        }
      ]
    },
    {
      "cell_type": "code",
      "source": [
        "# Separate the minority class\n",
        "minData = trainData.loc[ind]\n",
        "print(minData.shape)"
      ],
      "metadata": {
        "id": "MsH-cSqFNw5z",
        "outputId": "3885b3c4-a788-4f0c-d39f-666400f3aa22",
        "colab": {
          "base_uri": "https://localhost:8080/"
        }
      },
      "execution_count": 87,
      "outputs": [
        {
          "output_type": "stream",
          "name": "stdout",
          "text": [
            "(10394, 10)\n"
          ]
        }
      ]
    },
    {
      "cell_type": "code",
      "source": [
        "# now the majority\n",
        "ind1 = trainData[trainData['above_average']==0].index\n",
        "print(len(ind1))"
      ],
      "metadata": {
        "id": "zHc1iFJcN5uC",
        "outputId": "2fc647a0-f945-48cd-9cb2-1f1307ae0495",
        "colab": {
          "base_uri": "https://localhost:8080/"
        }
      },
      "execution_count": 88,
      "outputs": [
        {
          "output_type": "stream",
          "name": "stdout",
          "text": [
            "23832\n"
          ]
        }
      ]
    },
    {
      "cell_type": "code",
      "source": [
        "# Separate the majority class\n",
        "majData = trainData.loc[ind1]\n",
        "print(majData.shape)\n",
        "majData.head()"
      ],
      "metadata": {
        "id": "P_7grYA2OEdN",
        "outputId": "72e73d43-47ae-4e60-b048-91083794b0aa",
        "colab": {
          "base_uri": "https://localhost:8080/",
          "height": 288
        }
      },
      "execution_count": 89,
      "outputs": [
        {
          "output_type": "stream",
          "name": "stdout",
          "text": [
            "(23832, 10)\n"
          ]
        },
        {
          "output_type": "execute_result",
          "data": {
            "text/plain": [
              "      neighbourhood_group        room_type  latitude  longitude  \\\n",
              "36150           manhattan  entire_home/apt  40.83256  -73.94440   \n",
              "45223           manhattan  entire_home/apt  40.76134  -73.99299   \n",
              "1691            manhattan  entire_home/apt  40.75900  -73.99530   \n",
              "38940            brooklyn     private_room  40.68692  -73.93070   \n",
              "46364            brooklyn     private_room  40.67903  -73.94183   \n",
              "\n",
              "       minimum_nights  number_of_reviews  reviews_per_month  \\\n",
              "36150               4                  0                0.0   \n",
              "45223              30                  0                0.0   \n",
              "1691                1                  0                0.0   \n",
              "38940              30                  0                0.0   \n",
              "46364              10                  0                0.0   \n",
              "\n",
              "       calculated_host_listings_count  availability_365  above_average  \n",
              "36150                               1                17              0  \n",
              "45223                              20               332              0  \n",
              "1691                                1                 0              0  \n",
              "38940                              27               326              0  \n",
              "46364                               1                 0              0  "
            ],
            "text/html": [
              "\n",
              "  <div id=\"df-4bfabb18-e791-4d5e-8ae5-87433e7c4029\">\n",
              "    <div class=\"colab-df-container\">\n",
              "      <div>\n",
              "<style scoped>\n",
              "    .dataframe tbody tr th:only-of-type {\n",
              "        vertical-align: middle;\n",
              "    }\n",
              "\n",
              "    .dataframe tbody tr th {\n",
              "        vertical-align: top;\n",
              "    }\n",
              "\n",
              "    .dataframe thead th {\n",
              "        text-align: right;\n",
              "    }\n",
              "</style>\n",
              "<table border=\"1\" class=\"dataframe\">\n",
              "  <thead>\n",
              "    <tr style=\"text-align: right;\">\n",
              "      <th></th>\n",
              "      <th>neighbourhood_group</th>\n",
              "      <th>room_type</th>\n",
              "      <th>latitude</th>\n",
              "      <th>longitude</th>\n",
              "      <th>minimum_nights</th>\n",
              "      <th>number_of_reviews</th>\n",
              "      <th>reviews_per_month</th>\n",
              "      <th>calculated_host_listings_count</th>\n",
              "      <th>availability_365</th>\n",
              "      <th>above_average</th>\n",
              "    </tr>\n",
              "  </thead>\n",
              "  <tbody>\n",
              "    <tr>\n",
              "      <th>36150</th>\n",
              "      <td>manhattan</td>\n",
              "      <td>entire_home/apt</td>\n",
              "      <td>40.83256</td>\n",
              "      <td>-73.94440</td>\n",
              "      <td>4</td>\n",
              "      <td>0</td>\n",
              "      <td>0.0</td>\n",
              "      <td>1</td>\n",
              "      <td>17</td>\n",
              "      <td>0</td>\n",
              "    </tr>\n",
              "    <tr>\n",
              "      <th>45223</th>\n",
              "      <td>manhattan</td>\n",
              "      <td>entire_home/apt</td>\n",
              "      <td>40.76134</td>\n",
              "      <td>-73.99299</td>\n",
              "      <td>30</td>\n",
              "      <td>0</td>\n",
              "      <td>0.0</td>\n",
              "      <td>20</td>\n",
              "      <td>332</td>\n",
              "      <td>0</td>\n",
              "    </tr>\n",
              "    <tr>\n",
              "      <th>1691</th>\n",
              "      <td>manhattan</td>\n",
              "      <td>entire_home/apt</td>\n",
              "      <td>40.75900</td>\n",
              "      <td>-73.99530</td>\n",
              "      <td>1</td>\n",
              "      <td>0</td>\n",
              "      <td>0.0</td>\n",
              "      <td>1</td>\n",
              "      <td>0</td>\n",
              "      <td>0</td>\n",
              "    </tr>\n",
              "    <tr>\n",
              "      <th>38940</th>\n",
              "      <td>brooklyn</td>\n",
              "      <td>private_room</td>\n",
              "      <td>40.68692</td>\n",
              "      <td>-73.93070</td>\n",
              "      <td>30</td>\n",
              "      <td>0</td>\n",
              "      <td>0.0</td>\n",
              "      <td>27</td>\n",
              "      <td>326</td>\n",
              "      <td>0</td>\n",
              "    </tr>\n",
              "    <tr>\n",
              "      <th>46364</th>\n",
              "      <td>brooklyn</td>\n",
              "      <td>private_room</td>\n",
              "      <td>40.67903</td>\n",
              "      <td>-73.94183</td>\n",
              "      <td>10</td>\n",
              "      <td>0</td>\n",
              "      <td>0.0</td>\n",
              "      <td>1</td>\n",
              "      <td>0</td>\n",
              "      <td>0</td>\n",
              "    </tr>\n",
              "  </tbody>\n",
              "</table>\n",
              "</div>\n",
              "      <button class=\"colab-df-convert\" onclick=\"convertToInteractive('df-4bfabb18-e791-4d5e-8ae5-87433e7c4029')\"\n",
              "              title=\"Convert this dataframe to an interactive table.\"\n",
              "              style=\"display:none;\">\n",
              "        \n",
              "  <svg xmlns=\"http://www.w3.org/2000/svg\" height=\"24px\"viewBox=\"0 0 24 24\"\n",
              "       width=\"24px\">\n",
              "    <path d=\"M0 0h24v24H0V0z\" fill=\"none\"/>\n",
              "    <path d=\"M18.56 5.44l.94 2.06.94-2.06 2.06-.94-2.06-.94-.94-2.06-.94 2.06-2.06.94zm-11 1L8.5 8.5l.94-2.06 2.06-.94-2.06-.94L8.5 2.5l-.94 2.06-2.06.94zm10 10l.94 2.06.94-2.06 2.06-.94-2.06-.94-.94-2.06-.94 2.06-2.06.94z\"/><path d=\"M17.41 7.96l-1.37-1.37c-.4-.4-.92-.59-1.43-.59-.52 0-1.04.2-1.43.59L10.3 9.45l-7.72 7.72c-.78.78-.78 2.05 0 2.83L4 21.41c.39.39.9.59 1.41.59.51 0 1.02-.2 1.41-.59l7.78-7.78 2.81-2.81c.8-.78.8-2.07 0-2.86zM5.41 20L4 18.59l7.72-7.72 1.47 1.35L5.41 20z\"/>\n",
              "  </svg>\n",
              "      </button>\n",
              "      \n",
              "  <style>\n",
              "    .colab-df-container {\n",
              "      display:flex;\n",
              "      flex-wrap:wrap;\n",
              "      gap: 12px;\n",
              "    }\n",
              "\n",
              "    .colab-df-convert {\n",
              "      background-color: #E8F0FE;\n",
              "      border: none;\n",
              "      border-radius: 50%;\n",
              "      cursor: pointer;\n",
              "      display: none;\n",
              "      fill: #1967D2;\n",
              "      height: 32px;\n",
              "      padding: 0 0 0 0;\n",
              "      width: 32px;\n",
              "    }\n",
              "\n",
              "    .colab-df-convert:hover {\n",
              "      background-color: #E2EBFA;\n",
              "      box-shadow: 0px 1px 2px rgba(60, 64, 67, 0.3), 0px 1px 3px 1px rgba(60, 64, 67, 0.15);\n",
              "      fill: #174EA6;\n",
              "    }\n",
              "\n",
              "    [theme=dark] .colab-df-convert {\n",
              "      background-color: #3B4455;\n",
              "      fill: #D2E3FC;\n",
              "    }\n",
              "\n",
              "    [theme=dark] .colab-df-convert:hover {\n",
              "      background-color: #434B5C;\n",
              "      box-shadow: 0px 1px 3px 1px rgba(0, 0, 0, 0.15);\n",
              "      filter: drop-shadow(0px 1px 2px rgba(0, 0, 0, 0.3));\n",
              "      fill: #FFFFFF;\n",
              "    }\n",
              "  </style>\n",
              "\n",
              "      <script>\n",
              "        const buttonEl =\n",
              "          document.querySelector('#df-4bfabb18-e791-4d5e-8ae5-87433e7c4029 button.colab-df-convert');\n",
              "        buttonEl.style.display =\n",
              "          google.colab.kernel.accessAllowed ? 'block' : 'none';\n",
              "\n",
              "        async function convertToInteractive(key) {\n",
              "          const element = document.querySelector('#df-4bfabb18-e791-4d5e-8ae5-87433e7c4029');\n",
              "          const dataTable =\n",
              "            await google.colab.kernel.invokeFunction('convertToInteractive',\n",
              "                                                     [key], {});\n",
              "          if (!dataTable) return;\n",
              "\n",
              "          const docLinkHtml = 'Like what you see? Visit the ' +\n",
              "            '<a target=\"_blank\" href=https://colab.research.google.com/notebooks/data_table.ipynb>data table notebook</a>'\n",
              "            + ' to learn more about interactive tables.';\n",
              "          element.innerHTML = '';\n",
              "          dataTable['output_type'] = 'display_data';\n",
              "          await google.colab.output.renderOutput(dataTable, element);\n",
              "          const docLink = document.createElement('div');\n",
              "          docLink.innerHTML = docLinkHtml;\n",
              "          element.appendChild(docLink);\n",
              "        }\n",
              "      </script>\n",
              "    </div>\n",
              "  </div>\n",
              "  "
            ]
          },
          "metadata": {},
          "execution_count": 89
        }
      ]
    },
    {
      "cell_type": "code",
      "source": [
        "majSample=majData.sample(n=len(ind),random_state=123)"
      ],
      "metadata": {
        "id": "nkyyzDx1OHVC"
      },
      "execution_count": 90,
      "outputs": []
    }
  ]
}