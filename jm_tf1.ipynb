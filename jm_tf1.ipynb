{
  "nbformat": 4,
  "nbformat_minor": 0,
  "metadata": {
    "colab": {
      "provenance": [],
      "include_colab_link": true
    },
    "kernelspec": {
      "name": "python3",
      "display_name": "Python 3"
    },
    "language_info": {
      "name": "python"
    }
  },
  "cells": [
    {
      "cell_type": "markdown",
      "metadata": {
        "id": "view-in-github",
        "colab_type": "text"
      },
      "source": [
        "<a href=\"https://colab.research.google.com/github/jmohsbeck1/jpmc_mle/blob/tensorflow/jm_tf1.ipynb\" target=\"_parent\"><img src=\"https://colab.research.google.com/assets/colab-badge.svg\" alt=\"Open In Colab\"/></a>"
      ]
    },
    {
      "cell_type": "markdown",
      "source": [
        "# Tensor flow ch 1\n",
        "## 08/12/2023\n"
      ],
      "metadata": {
        "id": "as71Rqrt17X4"
      }
    },
    {
      "cell_type": "markdown",
      "source": [
        "## Install development version"
      ],
      "metadata": {
        "id": "72wkZ2H82ZeQ"
      }
    },
    {
      "cell_type": "code",
      "source": [
        "import tensorflow as tf"
      ],
      "metadata": {
        "id": "tVF-GWXVPQy6"
      },
      "execution_count": 1,
      "outputs": []
    },
    {
      "cell_type": "code",
      "source": [
        "tf.__version__"
      ],
      "metadata": {
        "colab": {
          "base_uri": "https://localhost:8080/",
          "height": 35
        },
        "id": "wBEmSKOCPxnU",
        "outputId": "44765806-ce40-41aa-a703-22ef64d6e9b8"
      },
      "execution_count": 2,
      "outputs": [
        {
          "output_type": "execute_result",
          "data": {
            "text/plain": [
              "'2.12.0'"
            ],
            "application/vnd.google.colaboratory.intrinsic+json": {
              "type": "string"
            }
          },
          "metadata": {},
          "execution_count": 2
        }
      ]
    },
    {
      "cell_type": "code",
      "source": [
        "tensor1 = tf.Variable([2,5,7], dtype=tf.int32, name='my_tensor', trainable=True)"
      ],
      "metadata": {
        "id": "AUQt4oVfRAnm"
      },
      "execution_count": 3,
      "outputs": []
    },
    {
      "cell_type": "code",
      "source": [
        "tensor1.shape"
      ],
      "metadata": {
        "colab": {
          "base_uri": "https://localhost:8080/"
        },
        "id": "2Pb2OfgrSXHJ",
        "outputId": "5758bb18-84f1-4613-b293-562bc26bcc1b"
      },
      "execution_count": 4,
      "outputs": [
        {
          "output_type": "execute_result",
          "data": {
            "text/plain": [
              "TensorShape([3])"
            ]
          },
          "metadata": {},
          "execution_count": 4
        }
      ]
    },
    {
      "cell_type": "code",
      "source": [
        "tf.rank(tensor1)"
      ],
      "metadata": {
        "colab": {
          "base_uri": "https://localhost:8080/"
        },
        "id": "Rzmu5-eUSZjZ",
        "outputId": "6e5cbbef-f9b8-4a01-9eef-344dca39e733"
      },
      "execution_count": 5,
      "outputs": [
        {
          "output_type": "execute_result",
          "data": {
            "text/plain": [
              "<tf.Tensor: shape=(), dtype=int32, numpy=1>"
            ]
          },
          "metadata": {},
          "execution_count": 5
        }
      ]
    },
    {
      "cell_type": "code",
      "source": [
        "int_variable = tf.Variable(365, tf.int16)\n",
        "int_variable"
      ],
      "metadata": {
        "id": "eRJwyyidnhNW",
        "outputId": "033e46c2-4f87-4f9a-a4a8-0011a25e34b9",
        "colab": {
          "base_uri": "https://localhost:8080/"
        }
      },
      "execution_count": 6,
      "outputs": [
        {
          "output_type": "execute_result",
          "data": {
            "text/plain": [
              "<tf.Variable 'Variable:0' shape=() dtype=int32, numpy=365>"
            ]
          },
          "metadata": {},
          "execution_count": 6
        }
      ]
    },
    {
      "cell_type": "code",
      "source": [
        "tf.rank(int_variable)"
      ],
      "metadata": {
        "id": "WT2pJ96Pn77X",
        "outputId": "f62846b5-5375-439a-f6f8-311c089d75ba",
        "colab": {
          "base_uri": "https://localhost:8080/"
        }
      },
      "execution_count": 7,
      "outputs": [
        {
          "output_type": "execute_result",
          "data": {
            "text/plain": [
              "<tf.Tensor: shape=(), dtype=int32, numpy=0>"
            ]
          },
          "metadata": {},
          "execution_count": 7
        }
      ]
    },
    {
      "cell_type": "code",
      "source": [
        "tf.rank(int_variable).numpy()"
      ],
      "metadata": {
        "id": "svAtA0pXn_VS",
        "outputId": "6870bd1c-b107-4223-d07c-cdbf51cb2ffa",
        "colab": {
          "base_uri": "https://localhost:8080/"
        }
      },
      "execution_count": 8,
      "outputs": [
        {
          "output_type": "execute_result",
          "data": {
            "text/plain": [
              "0"
            ]
          },
          "metadata": {},
          "execution_count": 8
        }
      ]
    },
    {
      "cell_type": "code",
      "source": [
        "int_variable.shape"
      ],
      "metadata": {
        "id": "o7kDAs6ioJwv",
        "outputId": "7385066f-e88a-4659-a771-18880bb7ebdd",
        "colab": {
          "base_uri": "https://localhost:8080/"
        }
      },
      "execution_count": 9,
      "outputs": [
        {
          "output_type": "execute_result",
          "data": {
            "text/plain": [
              "TensorShape([])"
            ]
          },
          "metadata": {},
          "execution_count": 9
        }
      ]
    },
    {
      "cell_type": "code",
      "source": [
        "int_variable.shape.as_list()"
      ],
      "metadata": {
        "id": "yhHCrrn9oUb3",
        "outputId": "f395210d-ba31-46f7-a5eb-8b3bfd5a80ff",
        "colab": {
          "base_uri": "https://localhost:8080/"
        }
      },
      "execution_count": 10,
      "outputs": [
        {
          "output_type": "execute_result",
          "data": {
            "text/plain": [
              "[]"
            ]
          },
          "metadata": {},
          "execution_count": 10
        }
      ]
    },
    {
      "cell_type": "code",
      "source": [
        "vector_variable = tf.Variable([0.23, 0.42, 0.35], tf.float32)\n",
        "vector_variable"
      ],
      "metadata": {
        "id": "LfySPEHZoa6v",
        "outputId": "a3ce61bf-87c9-4890-d286-45c0ef5e3e23",
        "colab": {
          "base_uri": "https://localhost:8080/"
        }
      },
      "execution_count": 11,
      "outputs": [
        {
          "output_type": "execute_result",
          "data": {
            "text/plain": [
              "<tf.Variable 'Variable:0' shape=(3,) dtype=float32, numpy=array([0.23, 0.42, 0.35], dtype=float32)>"
            ]
          },
          "metadata": {},
          "execution_count": 11
        }
      ]
    },
    {
      "cell_type": "code",
      "source": [
        "tf.rank(vector_variable).numpy()"
      ],
      "metadata": {
        "id": "bqjErjfCorTg",
        "outputId": "7b550ede-9cc4-4516-b88a-ddb64867cd77",
        "colab": {
          "base_uri": "https://localhost:8080/"
        }
      },
      "execution_count": 12,
      "outputs": [
        {
          "output_type": "execute_result",
          "data": {
            "text/plain": [
              "1"
            ]
          },
          "metadata": {},
          "execution_count": 12
        }
      ]
    },
    {
      "cell_type": "code",
      "source": [
        "vector_variable.shape.as_list()"
      ],
      "metadata": {
        "id": "uid8Fmdro3uv",
        "outputId": "c0ca3da0-1fab-4777-fa53-f980a2b6edda",
        "colab": {
          "base_uri": "https://localhost:8080/"
        }
      },
      "execution_count": 13,
      "outputs": [
        {
          "output_type": "execute_result",
          "data": {
            "text/plain": [
              "[3]"
            ]
          },
          "metadata": {},
          "execution_count": 13
        }
      ]
    },
    {
      "cell_type": "code",
      "source": [
        "matrix_variable = tf.Variable([[41, 75, 62], [38, 67, 69]], tf.float32)\n",
        "matrix_variable"
      ],
      "metadata": {
        "id": "bPFNUMgypJ2E",
        "outputId": "9b89f214-d6b6-4a67-e072-d8d43d80ca47",
        "colab": {
          "base_uri": "https://localhost:8080/"
        }
      },
      "execution_count": 15,
      "outputs": [
        {
          "output_type": "execute_result",
          "data": {
            "text/plain": [
              "<tf.Variable 'Variable:0' shape=(2, 3) dtype=int32, numpy=\n",
              "array([[41, 75, 62],\n",
              "       [38, 67, 69]], dtype=int32)>"
            ]
          },
          "metadata": {},
          "execution_count": 15
        }
      ]
    },
    {
      "cell_type": "code",
      "source": [
        "tf.rank(matrix_variable).numpy()"
      ],
      "metadata": {
        "id": "_GMUbkS4pqeY",
        "outputId": "66f86045-a6fa-4634-e995-818472a983e6",
        "colab": {
          "base_uri": "https://localhost:8080/"
        }
      },
      "execution_count": 16,
      "outputs": [
        {
          "output_type": "execute_result",
          "data": {
            "text/plain": [
              "2"
            ]
          },
          "metadata": {},
          "execution_count": 16
        }
      ]
    },
    {
      "cell_type": "code",
      "source": [
        "matrix_variable.shape.as_list()"
      ],
      "metadata": {
        "id": "YDeK13Nipw-5",
        "outputId": "85747915-6939-4748-ced1-088018db03c9",
        "colab": {
          "base_uri": "https://localhost:8080/"
        }
      },
      "execution_count": 17,
      "outputs": [
        {
          "output_type": "execute_result",
          "data": {
            "text/plain": [
              "[2, 3]"
            ]
          },
          "metadata": {},
          "execution_count": 17
        }
      ]
    },
    {
      "cell_type": "code",
      "source": [
        "tensor_variable = tf.Variable([[[41, 62, 75],[38, 67, 69]], [[51, 70, 65], [36, 59, 652]], [[95, 78, 98], [80, 45, 48]]])\n",
        "tensor_variable"
      ],
      "metadata": {
        "id": "MfbUNAljp43i",
        "outputId": "7d99fc64-1fee-46d1-d1ed-6f3619248859",
        "colab": {
          "base_uri": "https://localhost:8080/"
        }
      },
      "execution_count": 18,
      "outputs": [
        {
          "output_type": "execute_result",
          "data": {
            "text/plain": [
              "<tf.Variable 'Variable:0' shape=(3, 2, 3) dtype=int32, numpy=\n",
              "array([[[ 41,  62,  75],\n",
              "        [ 38,  67,  69]],\n",
              "\n",
              "       [[ 51,  70,  65],\n",
              "        [ 36,  59, 652]],\n",
              "\n",
              "       [[ 95,  78,  98],\n",
              "        [ 80,  45,  48]]], dtype=int32)>"
            ]
          },
          "metadata": {},
          "execution_count": 18
        }
      ]
    },
    {
      "cell_type": "code",
      "source": [
        "tf.rank(tensor_variable).numpy()"
      ],
      "metadata": {
        "id": "HIxV4XYLqvxk",
        "outputId": "692e289d-a7d8-47a6-8df0-63ddb01c25e4",
        "colab": {
          "base_uri": "https://localhost:8080/"
        }
      },
      "execution_count": 19,
      "outputs": [
        {
          "output_type": "execute_result",
          "data": {
            "text/plain": [
              "3"
            ]
          },
          "metadata": {},
          "execution_count": 19
        }
      ]
    },
    {
      "cell_type": "code",
      "source": [
        "tensor_variable.shape.as_list()"
      ],
      "metadata": {
        "id": "XBLRUTZyq2ji",
        "outputId": "94575c70-66a3-47dd-de9e-f5b436230b83",
        "colab": {
          "base_uri": "https://localhost:8080/"
        }
      },
      "execution_count": 20,
      "outputs": [
        {
          "output_type": "execute_result",
          "data": {
            "text/plain": [
              "[3, 2, 3]"
            ]
          },
          "metadata": {},
          "execution_count": 20
        }
      ]
    }
  ]
}