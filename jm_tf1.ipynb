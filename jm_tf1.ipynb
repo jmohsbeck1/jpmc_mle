{
  "nbformat": 4,
  "nbformat_minor": 0,
  "metadata": {
    "colab": {
      "provenance": [],
      "include_colab_link": true
    },
    "kernelspec": {
      "name": "python3",
      "display_name": "Python 3"
    },
    "language_info": {
      "name": "python"
    }
  },
  "cells": [
    {
      "cell_type": "markdown",
      "metadata": {
        "id": "view-in-github",
        "colab_type": "text"
      },
      "source": [
        "<a href=\"https://colab.research.google.com/github/jmohsbeck1/jpmc_mle/blob/tensorflow/jm_tf1.ipynb\" target=\"_parent\"><img src=\"https://colab.research.google.com/assets/colab-badge.svg\" alt=\"Open In Colab\"/></a>"
      ]
    },
    {
      "cell_type": "markdown",
      "source": [
        "# Tensor flow ch 1\n",
        "## 08/12/2023\n"
      ],
      "metadata": {
        "id": "as71Rqrt17X4"
      }
    },
    {
      "cell_type": "markdown",
      "source": [
        "## Install development version"
      ],
      "metadata": {
        "id": "72wkZ2H82ZeQ"
      }
    },
    {
      "cell_type": "markdown",
      "source": [
        "## Exercise 1.01"
      ],
      "metadata": {
        "id": "-GUEO8TitfPW"
      }
    },
    {
      "cell_type": "code",
      "source": [
        "import tensorflow as tf"
      ],
      "metadata": {
        "id": "tVF-GWXVPQy6"
      },
      "execution_count": 1,
      "outputs": []
    },
    {
      "cell_type": "code",
      "source": [
        "tf.__version__"
      ],
      "metadata": {
        "colab": {
          "base_uri": "https://localhost:8080/",
          "height": 35
        },
        "id": "wBEmSKOCPxnU",
        "outputId": "6ced5346-f9b8-47a3-a3e4-d68d7ebad6ad"
      },
      "execution_count": 2,
      "outputs": [
        {
          "output_type": "execute_result",
          "data": {
            "text/plain": [
              "'2.12.0'"
            ],
            "application/vnd.google.colaboratory.intrinsic+json": {
              "type": "string"
            }
          },
          "metadata": {},
          "execution_count": 2
        }
      ]
    },
    {
      "cell_type": "code",
      "source": [
        "tensor1 = tf.Variable([2,5,7], dtype=tf.int32, name='my_tensor', trainable=True)"
      ],
      "metadata": {
        "id": "AUQt4oVfRAnm"
      },
      "execution_count": 3,
      "outputs": []
    },
    {
      "cell_type": "code",
      "source": [
        "tensor1.shape"
      ],
      "metadata": {
        "colab": {
          "base_uri": "https://localhost:8080/"
        },
        "id": "2Pb2OfgrSXHJ",
        "outputId": "84108ec7-b036-42a3-cab1-aaaadafbab70"
      },
      "execution_count": 4,
      "outputs": [
        {
          "output_type": "execute_result",
          "data": {
            "text/plain": [
              "TensorShape([3])"
            ]
          },
          "metadata": {},
          "execution_count": 4
        }
      ]
    },
    {
      "cell_type": "code",
      "source": [
        "tf.rank(tensor1)"
      ],
      "metadata": {
        "colab": {
          "base_uri": "https://localhost:8080/"
        },
        "id": "Rzmu5-eUSZjZ",
        "outputId": "0901d7ff-11f1-44c1-d4cc-38ce2b36a86a"
      },
      "execution_count": 5,
      "outputs": [
        {
          "output_type": "execute_result",
          "data": {
            "text/plain": [
              "<tf.Tensor: shape=(), dtype=int32, numpy=1>"
            ]
          },
          "metadata": {},
          "execution_count": 5
        }
      ]
    },
    {
      "cell_type": "markdown",
      "source": [
        "## Exercise 1.02"
      ],
      "metadata": {
        "id": "VL1lVut1txQ3"
      }
    },
    {
      "cell_type": "code",
      "source": [
        "int_variable = tf.Variable(365, tf.int16)\n",
        "int_variable"
      ],
      "metadata": {
        "id": "eRJwyyidnhNW",
        "outputId": "c75aad9d-e4c1-4408-83af-a27dec57df4f",
        "colab": {
          "base_uri": "https://localhost:8080/"
        }
      },
      "execution_count": 6,
      "outputs": [
        {
          "output_type": "execute_result",
          "data": {
            "text/plain": [
              "<tf.Variable 'Variable:0' shape=() dtype=int32, numpy=365>"
            ]
          },
          "metadata": {},
          "execution_count": 6
        }
      ]
    },
    {
      "cell_type": "code",
      "source": [
        "tf.rank(int_variable)"
      ],
      "metadata": {
        "id": "WT2pJ96Pn77X",
        "outputId": "0faf68d2-149d-4325-e625-dc38113164a4",
        "colab": {
          "base_uri": "https://localhost:8080/"
        }
      },
      "execution_count": 7,
      "outputs": [
        {
          "output_type": "execute_result",
          "data": {
            "text/plain": [
              "<tf.Tensor: shape=(), dtype=int32, numpy=0>"
            ]
          },
          "metadata": {},
          "execution_count": 7
        }
      ]
    },
    {
      "cell_type": "code",
      "source": [
        "tf.rank(int_variable).numpy()"
      ],
      "metadata": {
        "id": "svAtA0pXn_VS",
        "outputId": "42fc2dc0-af7f-42c3-d5ee-d6ab2499469e",
        "colab": {
          "base_uri": "https://localhost:8080/"
        }
      },
      "execution_count": 8,
      "outputs": [
        {
          "output_type": "execute_result",
          "data": {
            "text/plain": [
              "0"
            ]
          },
          "metadata": {},
          "execution_count": 8
        }
      ]
    },
    {
      "cell_type": "code",
      "source": [
        "int_variable.shape"
      ],
      "metadata": {
        "id": "o7kDAs6ioJwv",
        "outputId": "23dc0b84-0b3e-4bc3-eb60-a56779baae70",
        "colab": {
          "base_uri": "https://localhost:8080/"
        }
      },
      "execution_count": 9,
      "outputs": [
        {
          "output_type": "execute_result",
          "data": {
            "text/plain": [
              "TensorShape([])"
            ]
          },
          "metadata": {},
          "execution_count": 9
        }
      ]
    },
    {
      "cell_type": "code",
      "source": [
        "int_variable.shape.as_list()"
      ],
      "metadata": {
        "id": "yhHCrrn9oUb3",
        "outputId": "05e81c3c-115c-4c86-d7d7-a039b1201d6f",
        "colab": {
          "base_uri": "https://localhost:8080/"
        }
      },
      "execution_count": 10,
      "outputs": [
        {
          "output_type": "execute_result",
          "data": {
            "text/plain": [
              "[]"
            ]
          },
          "metadata": {},
          "execution_count": 10
        }
      ]
    },
    {
      "cell_type": "code",
      "source": [
        "vector_variable = tf.Variable([0.23, 0.42, 0.35], tf.float32)\n",
        "vector_variable"
      ],
      "metadata": {
        "id": "LfySPEHZoa6v",
        "outputId": "e6761cee-4a28-4819-f5f6-f086a49ad640",
        "colab": {
          "base_uri": "https://localhost:8080/"
        }
      },
      "execution_count": 11,
      "outputs": [
        {
          "output_type": "execute_result",
          "data": {
            "text/plain": [
              "<tf.Variable 'Variable:0' shape=(3,) dtype=float32, numpy=array([0.23, 0.42, 0.35], dtype=float32)>"
            ]
          },
          "metadata": {},
          "execution_count": 11
        }
      ]
    },
    {
      "cell_type": "code",
      "source": [
        "tf.rank(vector_variable).numpy()"
      ],
      "metadata": {
        "id": "bqjErjfCorTg",
        "outputId": "764b40dd-dac0-4445-8998-2b28f16d5590",
        "colab": {
          "base_uri": "https://localhost:8080/"
        }
      },
      "execution_count": 12,
      "outputs": [
        {
          "output_type": "execute_result",
          "data": {
            "text/plain": [
              "1"
            ]
          },
          "metadata": {},
          "execution_count": 12
        }
      ]
    },
    {
      "cell_type": "code",
      "source": [
        "vector_variable.shape.as_list()"
      ],
      "metadata": {
        "id": "uid8Fmdro3uv",
        "outputId": "6a0c0a0d-d6d5-4118-d7c8-1296623459e5",
        "colab": {
          "base_uri": "https://localhost:8080/"
        }
      },
      "execution_count": 13,
      "outputs": [
        {
          "output_type": "execute_result",
          "data": {
            "text/plain": [
              "[3]"
            ]
          },
          "metadata": {},
          "execution_count": 13
        }
      ]
    },
    {
      "cell_type": "code",
      "source": [
        "matrix_variable = tf.Variable([[41, 75, 62], [38, 67, 69]], tf.float32)\n",
        "matrix_variable"
      ],
      "metadata": {
        "id": "bPFNUMgypJ2E",
        "outputId": "65612bb2-4b6c-4ee0-8aac-e6eee840bac4",
        "colab": {
          "base_uri": "https://localhost:8080/"
        }
      },
      "execution_count": 14,
      "outputs": [
        {
          "output_type": "execute_result",
          "data": {
            "text/plain": [
              "<tf.Variable 'Variable:0' shape=(2, 3) dtype=int32, numpy=\n",
              "array([[41, 75, 62],\n",
              "       [38, 67, 69]], dtype=int32)>"
            ]
          },
          "metadata": {},
          "execution_count": 14
        }
      ]
    },
    {
      "cell_type": "code",
      "source": [
        "tf.rank(matrix_variable).numpy()"
      ],
      "metadata": {
        "id": "_GMUbkS4pqeY",
        "outputId": "f1b3e735-a5ed-4cd2-a7f2-3f8ade404e29",
        "colab": {
          "base_uri": "https://localhost:8080/"
        }
      },
      "execution_count": 15,
      "outputs": [
        {
          "output_type": "execute_result",
          "data": {
            "text/plain": [
              "2"
            ]
          },
          "metadata": {},
          "execution_count": 15
        }
      ]
    },
    {
      "cell_type": "code",
      "source": [
        "matrix_variable.shape.as_list()"
      ],
      "metadata": {
        "id": "YDeK13Nipw-5",
        "outputId": "27b896cb-fefd-47ae-d7c3-ef188841bb2b",
        "colab": {
          "base_uri": "https://localhost:8080/"
        }
      },
      "execution_count": 16,
      "outputs": [
        {
          "output_type": "execute_result",
          "data": {
            "text/plain": [
              "[2, 3]"
            ]
          },
          "metadata": {},
          "execution_count": 16
        }
      ]
    },
    {
      "cell_type": "code",
      "source": [
        "tensor_variable = tf.Variable([[[41, 62, 75],[38, 67, 69]], [[51, 70, 65], [36, 59, 652]], [[95, 78, 98], [80, 45, 48]]])\n",
        "tensor_variable"
      ],
      "metadata": {
        "id": "MfbUNAljp43i",
        "outputId": "7c55c1b4-a9cd-4275-8b4b-5947496b2c13",
        "colab": {
          "base_uri": "https://localhost:8080/"
        }
      },
      "execution_count": 17,
      "outputs": [
        {
          "output_type": "execute_result",
          "data": {
            "text/plain": [
              "<tf.Variable 'Variable:0' shape=(3, 2, 3) dtype=int32, numpy=\n",
              "array([[[ 41,  62,  75],\n",
              "        [ 38,  67,  69]],\n",
              "\n",
              "       [[ 51,  70,  65],\n",
              "        [ 36,  59, 652]],\n",
              "\n",
              "       [[ 95,  78,  98],\n",
              "        [ 80,  45,  48]]], dtype=int32)>"
            ]
          },
          "metadata": {},
          "execution_count": 17
        }
      ]
    },
    {
      "cell_type": "code",
      "source": [
        "tf.rank(tensor_variable).numpy()"
      ],
      "metadata": {
        "id": "HIxV4XYLqvxk",
        "outputId": "2a4be966-6995-48e0-f3aa-10934e22725a",
        "colab": {
          "base_uri": "https://localhost:8080/"
        }
      },
      "execution_count": 18,
      "outputs": [
        {
          "output_type": "execute_result",
          "data": {
            "text/plain": [
              "3"
            ]
          },
          "metadata": {},
          "execution_count": 18
        }
      ]
    },
    {
      "cell_type": "code",
      "source": [
        "tensor_variable.shape.as_list()"
      ],
      "metadata": {
        "id": "XBLRUTZyq2ji",
        "outputId": "81576634-2931-4dea-c1ea-2638b4beea1a",
        "colab": {
          "base_uri": "https://localhost:8080/"
        }
      },
      "execution_count": 19,
      "outputs": [
        {
          "output_type": "execute_result",
          "data": {
            "text/plain": [
              "[3, 2, 3]"
            ]
          },
          "metadata": {},
          "execution_count": 19
        }
      ]
    },
    {
      "cell_type": "markdown",
      "source": [
        "## Exercise 1.03"
      ],
      "metadata": {
        "id": "y-3IR6KTuAeM"
      }
    },
    {
      "cell_type": "code",
      "source": [
        "int1 = tf.Variable(41, tf.int32)\n",
        "int2 = tf.Variable(38, tf.int32)\n",
        "int3 = tf.Variable(51, tf.int32)"
      ],
      "metadata": {
        "id": "w-Lse2jlw8Ly"
      },
      "execution_count": 20,
      "outputs": []
    },
    {
      "cell_type": "code",
      "source": [
        "int_sum = int1 + int2 + int3\n",
        "int_sum.numpy()"
      ],
      "metadata": {
        "id": "KLflnlkIxUWh",
        "outputId": "90a86248-42aa-4e81-c7c4-c6a3aab9ef9a",
        "colab": {
          "base_uri": "https://localhost:8080/"
        }
      },
      "execution_count": 21,
      "outputs": [
        {
          "output_type": "execute_result",
          "data": {
            "text/plain": [
              "130"
            ]
          },
          "metadata": {},
          "execution_count": 21
        }
      ]
    },
    {
      "cell_type": "code",
      "source": [
        "vec1 = tf.Variable([41, 38, 51], tf.int32)\n",
        "vec2 = tf.Variable([75, 67, 70], tf.int32)\n",
        "vec3 = tf.Variable([62, 69, 65], tf.int32)\n",
        "\n",
        "vec_sum = vec1 + vec2 + vec3\n",
        "\n",
        "vec_sum.numpy()"
      ],
      "metadata": {
        "id": "3G7Q3EAyxd1K",
        "outputId": "65c82c35-7f55-485f-9861-fdbc08cbee64",
        "colab": {
          "base_uri": "https://localhost:8080/"
        }
      },
      "execution_count": 23,
      "outputs": [
        {
          "output_type": "execute_result",
          "data": {
            "text/plain": [
              "array([178, 174, 186], dtype=int32)"
            ]
          },
          "metadata": {},
          "execution_count": 23
        }
      ]
    },
    {
      "cell_type": "code",
      "source": [
        "print((vec1[0] + vec2[0] + vec3[0]).numpy())\n",
        "print((vec1[1] + vec2[1] + vec3[1]).numpy())\n",
        "print((vec1[2] + vec2[2] + vec3[2]).numpy())"
      ],
      "metadata": {
        "id": "bT0aRbANyLiq",
        "outputId": "7decfb08-9938-45bd-d1d8-b1af69d74e61",
        "colab": {
          "base_uri": "https://localhost:8080/"
        }
      },
      "execution_count": 24,
      "outputs": [
        {
          "output_type": "stream",
          "name": "stdout",
          "text": [
            "178\n",
            "174\n",
            "186\n"
          ]
        }
      ]
    },
    {
      "cell_type": "code",
      "source": [
        "matrix1 = tf.Variable([[41, 38, 51], \\\n",
        "                       [36, 95, 80]], tf.int32)\n",
        "matrix2 = tf.Variable([[75, 67, 70], \\\n",
        "                       [59, 78, 45]], tf.int32)\n",
        "matrix3 = tf.Variable([[62, 69, 65], \\\n",
        "                       [62, 98, 48]], tf.int32)\n",
        "\n",
        "matrix1.shape == matrix2.shape == matrix3.shape"
      ],
      "metadata": {
        "id": "bv5c5Tt4yrus",
        "outputId": "d076b524-b34b-4208-ef95-e0fe1ea61e41",
        "colab": {
          "base_uri": "https://localhost:8080/"
        }
      },
      "execution_count": 25,
      "outputs": [
        {
          "output_type": "execute_result",
          "data": {
            "text/plain": [
              "True"
            ]
          },
          "metadata": {},
          "execution_count": 25
        }
      ]
    },
    {
      "cell_type": "code",
      "source": [
        "matrix_sum = matrix1 + matrix2 + matrix3\n",
        "matrix_sum.numpy()"
      ],
      "metadata": {
        "id": "kuIGQP4kz1-P",
        "outputId": "620c056f-d73b-479a-f8d3-da1c7b37954e",
        "colab": {
          "base_uri": "https://localhost:8080/"
        }
      },
      "execution_count": 26,
      "outputs": [
        {
          "output_type": "execute_result",
          "data": {
            "text/plain": [
              "array([[178, 174, 186],\n",
              "       [157, 271, 173]], dtype=int32)"
            ]
          },
          "metadata": {},
          "execution_count": 26
        }
      ]
    },
    {
      "cell_type": "code",
      "source": [
        "print((matrix1[0][0] + matrix2[0][0] + matrix3[0][0]).numpy())\n",
        "print((matrix1[0][1] + matrix2[0][1] + matrix3[0][1]).numpy())\n",
        "print((matrix1[0][2] + matrix2[0][2] + matrix3[0][2]).numpy())\n",
        "print((matrix1[1][0] + matrix2[1][0] + matrix3[1][0]).numpy())\n",
        "print((matrix1[1][1] + matrix2[1][1] + matrix3[1][1]).numpy())\n",
        "print((matrix1[1][2] + matrix2[1][2] + matrix3[1][2]).numpy())"
      ],
      "metadata": {
        "id": "b6IhScXV0QXy",
        "outputId": "00dcf836-3071-485f-bcb6-72d265d9d131",
        "colab": {
          "base_uri": "https://localhost:8080/"
        }
      },
      "execution_count": 27,
      "outputs": [
        {
          "output_type": "stream",
          "name": "stdout",
          "text": [
            "178\n",
            "174\n",
            "186\n",
            "157\n",
            "271\n",
            "173\n"
          ]
        }
      ]
    },
    {
      "cell_type": "markdown",
      "source": [
        "## Activity 1.01: Performing Tensor Addition in TensorFlow"
      ],
      "metadata": {
        "id": "54YLGjJxuHK1"
      }
    },
    {
      "cell_type": "code",
      "source": [
        "var1 = tf.Variable(38, tf.int32)\n",
        "var2 = tf.Variable(70, tf.int32)\n",
        "\n",
        "sum_var = var1 + var2\n",
        "sum_var.numpy()"
      ],
      "metadata": {
        "id": "l-FtPn_ktWz1",
        "outputId": "7bb6e12b-1011-4aa9-8dbc-0a5c2072a407",
        "colab": {
          "base_uri": "https://localhost:8080/"
        }
      },
      "execution_count": 28,
      "outputs": [
        {
          "output_type": "execute_result",
          "data": {
            "text/plain": [
              "108"
            ]
          },
          "metadata": {},
          "execution_count": 28
        }
      ]
    },
    {
      "cell_type": "code",
      "source": [
        "vec = tf.Variable([70, 79, 51], tf.int32)\n",
        "var = tf.Variable(95, tf.int32)\n",
        "student1_mark = vec + var\n",
        "\n",
        "student1_mark.numpy()\n",
        "\n",
        "print(student1_mark.numpy())"
      ],
      "metadata": {
        "id": "9NOS2SGBulE-",
        "outputId": "a1d8b057-7d46-4a44-96e5-8a993c2ff5e3",
        "colab": {
          "base_uri": "https://localhost:8080/"
        }
      },
      "execution_count": 29,
      "outputs": [
        {
          "output_type": "stream",
          "name": "stdout",
          "text": [
            "[165 174 146]\n"
          ]
        }
      ]
    },
    {
      "cell_type": "code",
      "source": [
        "matrix1 = tf.Variable([[70, 79, 51], \\\n",
        "                       [38, 40, 59]], tf.int32)\n",
        "matrix2 = tf.Variable([[90, 28, 64], \\\n",
        "                       [62, 98, 48]], tf.int32)\n",
        "matrix3 = tf.Variable([[39, 33, 55], \\\n",
        "                       [45, 97, 49]], tf.int32)\n",
        "\n",
        "matrix1.shape == matrix2.shape == matrix3.shape"
      ],
      "metadata": {
        "id": "khnietXlvkcr",
        "outputId": "5cd99c28-c44d-4354-ed85-d6e92f8819bd",
        "colab": {
          "base_uri": "https://localhost:8080/"
        }
      },
      "execution_count": 30,
      "outputs": [
        {
          "output_type": "execute_result",
          "data": {
            "text/plain": [
              "True"
            ]
          },
          "metadata": {},
          "execution_count": 30
        }
      ]
    },
    {
      "cell_type": "code",
      "source": [
        "matrix_sum = matrix1 + matrix2 + matrix3\n",
        "\n",
        "print(matrix_sum.numpy())"
      ],
      "metadata": {
        "id": "awn5W2TnwG5G",
        "outputId": "b4efb0d8-cb11-425c-ad7e-123c1a76fbc5",
        "colab": {
          "base_uri": "https://localhost:8080/"
        }
      },
      "execution_count": 31,
      "outputs": [
        {
          "output_type": "stream",
          "name": "stdout",
          "text": [
            "[[199 140 170]\n",
            " [145 235 156]]\n"
          ]
        }
      ]
    },
    {
      "cell_type": "markdown",
      "source": [
        "## Exercise 1.04: Performing Tensor Reshaping and Transposition in TensorFlow"
      ],
      "metadata": {
        "id": "ieXSWTLffxf_"
      }
    },
    {
      "cell_type": "code",
      "source": [
        "matrix1 = tf.Variable([[11, 12, 13, 14,], [15, 16, 178, 18]])"
      ],
      "metadata": {
        "id": "hdXam-DYfzpe"
      },
      "execution_count": 32,
      "outputs": []
    },
    {
      "cell_type": "code",
      "source": [
        "matrix1.shape"
      ],
      "metadata": {
        "id": "LGT4gwX6gihl",
        "outputId": "eb0d0d00-28a2-4567-9620-e0fdaa44aa57",
        "colab": {
          "base_uri": "https://localhost:8080/"
        }
      },
      "execution_count": 33,
      "outputs": [
        {
          "output_type": "execute_result",
          "data": {
            "text/plain": [
              "TensorShape([2, 4])"
            ]
          },
          "metadata": {},
          "execution_count": 33
        }
      ]
    },
    {
      "cell_type": "code",
      "source": [
        "matrix1_reshape = tf.reshape(matrix1, shape=[4, 2] )\n",
        "matrix1_reshape.shape"
      ],
      "metadata": {
        "id": "-N41RWjQg38X",
        "outputId": "a11ee6df-3bcc-4b42-baf6-cfef671bcbf2",
        "colab": {
          "base_uri": "https://localhost:8080/"
        }
      },
      "execution_count": 37,
      "outputs": [
        {
          "output_type": "execute_result",
          "data": {
            "text/plain": [
              "TensorShape([4, 2])"
            ]
          },
          "metadata": {},
          "execution_count": 37
        }
      ]
    },
    {
      "cell_type": "code",
      "source": [
        "matrix1_reshape = tf.reshape(matrix1, shape=[1, 8] )\n",
        "matrix1_reshape.shape"
      ],
      "metadata": {
        "id": "D2TOKL9ihZun",
        "outputId": "5a1798ea-edbd-4137-ff3a-07969a459b82",
        "colab": {
          "base_uri": "https://localhost:8080/"
        }
      },
      "execution_count": 38,
      "outputs": [
        {
          "output_type": "execute_result",
          "data": {
            "text/plain": [
              "TensorShape([1, 8])"
            ]
          },
          "metadata": {},
          "execution_count": 38
        }
      ]
    },
    {
      "cell_type": "code",
      "source": [
        "matrix1_reshape = tf.reshape(matrix1, shape=[8, 1] )\n",
        "matrix1_reshape.shape"
      ],
      "metadata": {
        "id": "w-_iihGJhjy-",
        "outputId": "849fd5e5-f39c-4057-d1b5-9600a2e04c45",
        "colab": {
          "base_uri": "https://localhost:8080/"
        }
      },
      "execution_count": 39,
      "outputs": [
        {
          "output_type": "execute_result",
          "data": {
            "text/plain": [
              "TensorShape([8, 1])"
            ]
          },
          "metadata": {},
          "execution_count": 39
        }
      ]
    },
    {
      "cell_type": "code",
      "source": [
        "matrix1_reshape = tf.reshape(matrix1, shape=[2, 2, 2] )\n",
        "matrix1_reshape.shape"
      ],
      "metadata": {
        "id": "-sNoXPolhsbC",
        "outputId": "633efac5-97c2-4d84-befe-eb04022584a2",
        "colab": {
          "base_uri": "https://localhost:8080/"
        }
      },
      "execution_count": 48,
      "outputs": [
        {
          "output_type": "execute_result",
          "data": {
            "text/plain": [
              "TensorShape([2, 2, 2])"
            ]
          },
          "metadata": {},
          "execution_count": 48
        }
      ]
    },
    {
      "cell_type": "code",
      "source": [
        "print(matrix1_reshape)"
      ],
      "metadata": {
        "id": "6YJvPxITj2Gh",
        "outputId": "3e732566-bee8-4ef4-a4ce-3ee6d95de09a",
        "colab": {
          "base_uri": "https://localhost:8080/"
        }
      },
      "execution_count": 49,
      "outputs": [
        {
          "output_type": "stream",
          "name": "stdout",
          "text": [
            "tf.Tensor(\n",
            "[[[ 11  12]\n",
            "  [ 13  14]]\n",
            "\n",
            " [[ 15  16]\n",
            "  [178  18]]], shape=(2, 2, 2), dtype=int32)\n"
          ]
        }
      ]
    },
    {
      "cell_type": "code",
      "source": [
        "print(tf.rank(matrix1_reshape).numpy())"
      ],
      "metadata": {
        "id": "hwFWLstVh4J_",
        "outputId": "d728900c-4c0c-4403-a126-ba1bdd544c1c",
        "colab": {
          "base_uri": "https://localhost:8080/"
        }
      },
      "execution_count": 41,
      "outputs": [
        {
          "output_type": "stream",
          "name": "stdout",
          "text": [
            "3\n"
          ]
        }
      ]
    },
    {
      "cell_type": "code",
      "source": [
        "matrix1_transpose = tf.transpose(matrix1)\n",
        "matrix1_transpose.shape"
      ],
      "metadata": {
        "id": "n0m94PbRiTA_",
        "outputId": "19db7459-b07b-4c3b-aa43-2235b44e3318",
        "colab": {
          "base_uri": "https://localhost:8080/"
        }
      },
      "execution_count": 43,
      "outputs": [
        {
          "output_type": "execute_result",
          "data": {
            "text/plain": [
              "TensorShape([4, 2])"
            ]
          },
          "metadata": {},
          "execution_count": 43
        }
      ]
    },
    {
      "cell_type": "code",
      "source": [
        "matrix1_reshape = tf.reshape(matrix1, shape=[4, 2] )\n",
        "matrix1_reshape.shape"
      ],
      "metadata": {
        "id": "RX7SfZITjB54"
      },
      "execution_count": null,
      "outputs": []
    },
    {
      "cell_type": "code",
      "source": [
        "matrix1_transpose == matrix1_reshape"
      ],
      "metadata": {
        "id": "344IV97BizXJ",
        "outputId": "ca480005-7e70-401c-a74b-f65da507949a",
        "colab": {
          "base_uri": "https://localhost:8080/"
        }
      },
      "execution_count": 44,
      "outputs": [
        {
          "output_type": "execute_result",
          "data": {
            "text/plain": [
              "<tf.Tensor: shape=(), dtype=bool, numpy=False>"
            ]
          },
          "metadata": {},
          "execution_count": 44
        }
      ]
    },
    {
      "cell_type": "code",
      "source": [
        "matrix1_reshape = tf.reshape(matrix1, shape=[2, 2, 2] )\n",
        "matrix1_reshape.shape"
      ],
      "metadata": {
        "id": "sFAcF-bsjXte",
        "outputId": "b72fa969-e1dd-4957-9c94-811e0c699103",
        "colab": {
          "base_uri": "https://localhost:8080/"
        }
      },
      "execution_count": 45,
      "outputs": [
        {
          "output_type": "execute_result",
          "data": {
            "text/plain": [
              "TensorShape([2, 2, 2])"
            ]
          },
          "metadata": {},
          "execution_count": 45
        }
      ]
    },
    {
      "cell_type": "code",
      "source": [
        "matrix1_reshape = tf.reshape(matrix1, shape=[2, 2, 2] )\n",
        "matrix1_transpose2 = tf.transpose(matrix1_reshape)\n",
        "matrix1_transpose2.shape"
      ],
      "metadata": {
        "id": "Z08tIbl9jcyu",
        "outputId": "57d3e926-a1c0-4bc1-a52b-3041aa2b8acb",
        "colab": {
          "base_uri": "https://localhost:8080/"
        }
      },
      "execution_count": 47,
      "outputs": [
        {
          "output_type": "execute_result",
          "data": {
            "text/plain": [
              "TensorShape([2, 2, 2])"
            ]
          },
          "metadata": {},
          "execution_count": 47
        }
      ]
    },
    {
      "cell_type": "code",
      "source": [
        "print(matrix1_transpose2)"
      ],
      "metadata": {
        "id": "b4aV4Hv1j9PB",
        "outputId": "fbed749f-c43b-4c94-f46a-6e6f16a91ca2",
        "colab": {
          "base_uri": "https://localhost:8080/"
        }
      },
      "execution_count": 50,
      "outputs": [
        {
          "output_type": "stream",
          "name": "stdout",
          "text": [
            "tf.Tensor(\n",
            "[[[ 11  15]\n",
            "  [ 13 178]]\n",
            "\n",
            " [[ 12  16]\n",
            "  [ 14  18]]], shape=(2, 2, 2), dtype=int32)\n"
          ]
        }
      ]
    }
  ]
}