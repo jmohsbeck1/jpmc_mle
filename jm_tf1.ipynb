{
  "nbformat": 4,
  "nbformat_minor": 0,
  "metadata": {
    "colab": {
      "provenance": [],
      "include_colab_link": true
    },
    "kernelspec": {
      "name": "python3",
      "display_name": "Python 3"
    },
    "language_info": {
      "name": "python"
    }
  },
  "cells": [
    {
      "cell_type": "markdown",
      "metadata": {
        "id": "view-in-github",
        "colab_type": "text"
      },
      "source": [
        "<a href=\"https://colab.research.google.com/github/jmohsbeck1/jpmc_mle/blob/tensorflow/jm_tf1.ipynb\" target=\"_parent\"><img src=\"https://colab.research.google.com/assets/colab-badge.svg\" alt=\"Open In Colab\"/></a>"
      ]
    },
    {
      "cell_type": "markdown",
      "source": [
        "# Tensor flow ch 1\n",
        "## 08/12/2023\n"
      ],
      "metadata": {
        "id": "as71Rqrt17X4"
      }
    },
    {
      "cell_type": "markdown",
      "source": [
        "## Install development version"
      ],
      "metadata": {
        "id": "72wkZ2H82ZeQ"
      }
    },
    {
      "cell_type": "code",
      "source": [
        "import tensorflow as tf"
      ],
      "metadata": {
        "id": "tVF-GWXVPQy6"
      },
      "execution_count": 1,
      "outputs": []
    },
    {
      "cell_type": "code",
      "source": [
        "tf.__version__"
      ],
      "metadata": {
        "colab": {
          "base_uri": "https://localhost:8080/",
          "height": 35
        },
        "id": "wBEmSKOCPxnU",
        "outputId": "f622189c-230d-481c-913e-458692aba189"
      },
      "execution_count": 2,
      "outputs": [
        {
          "output_type": "execute_result",
          "data": {
            "text/plain": [
              "'2.12.0'"
            ],
            "application/vnd.google.colaboratory.intrinsic+json": {
              "type": "string"
            }
          },
          "metadata": {},
          "execution_count": 2
        }
      ]
    },
    {
      "cell_type": "code",
      "source": [
        "tensor1 = tf.Variable([2,5,7], dtype=tf.int32, name='my_tensor', trainable=True)"
      ],
      "metadata": {
        "id": "AUQt4oVfRAnm"
      },
      "execution_count": 3,
      "outputs": []
    },
    {
      "cell_type": "code",
      "source": [
        "tensor1.shape"
      ],
      "metadata": {
        "colab": {
          "base_uri": "https://localhost:8080/"
        },
        "id": "2Pb2OfgrSXHJ",
        "outputId": "4ebddef0-936d-4130-c606-97b2f4766461"
      },
      "execution_count": 4,
      "outputs": [
        {
          "output_type": "execute_result",
          "data": {
            "text/plain": [
              "TensorShape([3])"
            ]
          },
          "metadata": {},
          "execution_count": 4
        }
      ]
    },
    {
      "cell_type": "code",
      "source": [
        "tf.rank(tensor1)"
      ],
      "metadata": {
        "colab": {
          "base_uri": "https://localhost:8080/"
        },
        "id": "Rzmu5-eUSZjZ",
        "outputId": "2bc84cba-a5c6-44a7-deae-5d7ff2fa6d0c"
      },
      "execution_count": 5,
      "outputs": [
        {
          "output_type": "execute_result",
          "data": {
            "text/plain": [
              "<tf.Tensor: shape=(), dtype=int32, numpy=1>"
            ]
          },
          "metadata": {},
          "execution_count": 5
        }
      ]
    },
    {
      "cell_type": "code",
      "source": [
        "int_variable = tf.Variable(365, tf.int16)\n",
        "int_variable"
      ],
      "metadata": {
        "id": "eRJwyyidnhNW",
        "outputId": "770f6c5e-c4a3-4273-fb1a-c067520aff09",
        "colab": {
          "base_uri": "https://localhost:8080/"
        }
      },
      "execution_count": 6,
      "outputs": [
        {
          "output_type": "execute_result",
          "data": {
            "text/plain": [
              "<tf.Variable 'Variable:0' shape=() dtype=int32, numpy=365>"
            ]
          },
          "metadata": {},
          "execution_count": 6
        }
      ]
    },
    {
      "cell_type": "code",
      "source": [
        "tf.rank(int_variable)"
      ],
      "metadata": {
        "id": "WT2pJ96Pn77X",
        "outputId": "da06f256-31d5-4c32-81ec-2c1a662ef06f",
        "colab": {
          "base_uri": "https://localhost:8080/"
        }
      },
      "execution_count": 7,
      "outputs": [
        {
          "output_type": "execute_result",
          "data": {
            "text/plain": [
              "<tf.Tensor: shape=(), dtype=int32, numpy=0>"
            ]
          },
          "metadata": {},
          "execution_count": 7
        }
      ]
    },
    {
      "cell_type": "code",
      "source": [
        "tf.rank(int_variable).numpy()"
      ],
      "metadata": {
        "id": "svAtA0pXn_VS",
        "outputId": "d516c5fe-3ec8-427f-f5f5-12bc2bd1abdc",
        "colab": {
          "base_uri": "https://localhost:8080/"
        }
      },
      "execution_count": 8,
      "outputs": [
        {
          "output_type": "execute_result",
          "data": {
            "text/plain": [
              "0"
            ]
          },
          "metadata": {},
          "execution_count": 8
        }
      ]
    },
    {
      "cell_type": "code",
      "source": [
        "int_variable.shape"
      ],
      "metadata": {
        "id": "o7kDAs6ioJwv",
        "outputId": "c5a1aaa5-c4cb-4537-a311-1fa62514f7e3",
        "colab": {
          "base_uri": "https://localhost:8080/"
        }
      },
      "execution_count": 9,
      "outputs": [
        {
          "output_type": "execute_result",
          "data": {
            "text/plain": [
              "TensorShape([])"
            ]
          },
          "metadata": {},
          "execution_count": 9
        }
      ]
    },
    {
      "cell_type": "code",
      "source": [
        "int_variable.shape.as_list()"
      ],
      "metadata": {
        "id": "yhHCrrn9oUb3",
        "outputId": "c32a6ab9-aef7-45ee-a7ca-ebb5553d30f5",
        "colab": {
          "base_uri": "https://localhost:8080/"
        }
      },
      "execution_count": 10,
      "outputs": [
        {
          "output_type": "execute_result",
          "data": {
            "text/plain": [
              "[]"
            ]
          },
          "metadata": {},
          "execution_count": 10
        }
      ]
    },
    {
      "cell_type": "code",
      "source": [
        "vector_variable = tf.Variable([0.23, 0.42, 0.35], tf.float32)\n",
        "vector_variable"
      ],
      "metadata": {
        "id": "LfySPEHZoa6v",
        "outputId": "ba442198-2277-4261-b1f3-bda71c8b8f67",
        "colab": {
          "base_uri": "https://localhost:8080/"
        }
      },
      "execution_count": 11,
      "outputs": [
        {
          "output_type": "execute_result",
          "data": {
            "text/plain": [
              "<tf.Variable 'Variable:0' shape=(3,) dtype=float32, numpy=array([0.23, 0.42, 0.35], dtype=float32)>"
            ]
          },
          "metadata": {},
          "execution_count": 11
        }
      ]
    },
    {
      "cell_type": "code",
      "source": [
        "tf.rank(vector_variable).numpy()"
      ],
      "metadata": {
        "id": "bqjErjfCorTg",
        "outputId": "f818b4ec-e058-4798-8c09-fe92968ba322",
        "colab": {
          "base_uri": "https://localhost:8080/"
        }
      },
      "execution_count": 12,
      "outputs": [
        {
          "output_type": "execute_result",
          "data": {
            "text/plain": [
              "1"
            ]
          },
          "metadata": {},
          "execution_count": 12
        }
      ]
    },
    {
      "cell_type": "code",
      "source": [
        "vector_variable.shape.as_list()"
      ],
      "metadata": {
        "id": "uid8Fmdro3uv",
        "outputId": "554c8b15-6323-4f2d-8284-86afe94137e6",
        "colab": {
          "base_uri": "https://localhost:8080/"
        }
      },
      "execution_count": 13,
      "outputs": [
        {
          "output_type": "execute_result",
          "data": {
            "text/plain": [
              "[3]"
            ]
          },
          "metadata": {},
          "execution_count": 13
        }
      ]
    },
    {
      "cell_type": "code",
      "source": [
        "matrix_variable = tf.Variable([[41, 75, 62], [38, 67, 69]], tf.float32)\n",
        "matrix_variable"
      ],
      "metadata": {
        "id": "bPFNUMgypJ2E",
        "outputId": "4d3c590f-e200-43e6-ff3a-fe78b94b7474",
        "colab": {
          "base_uri": "https://localhost:8080/"
        }
      },
      "execution_count": 14,
      "outputs": [
        {
          "output_type": "execute_result",
          "data": {
            "text/plain": [
              "<tf.Variable 'Variable:0' shape=(2, 3) dtype=int32, numpy=\n",
              "array([[41, 75, 62],\n",
              "       [38, 67, 69]], dtype=int32)>"
            ]
          },
          "metadata": {},
          "execution_count": 14
        }
      ]
    },
    {
      "cell_type": "code",
      "source": [
        "tf.rank(matrix_variable).numpy()"
      ],
      "metadata": {
        "id": "_GMUbkS4pqeY",
        "outputId": "c710d159-3f6c-4c50-b708-77ff37f4de84",
        "colab": {
          "base_uri": "https://localhost:8080/"
        }
      },
      "execution_count": 15,
      "outputs": [
        {
          "output_type": "execute_result",
          "data": {
            "text/plain": [
              "2"
            ]
          },
          "metadata": {},
          "execution_count": 15
        }
      ]
    },
    {
      "cell_type": "code",
      "source": [
        "matrix_variable.shape.as_list()"
      ],
      "metadata": {
        "id": "YDeK13Nipw-5",
        "outputId": "762d52ee-d2ae-4907-e410-2733cc74b108",
        "colab": {
          "base_uri": "https://localhost:8080/"
        }
      },
      "execution_count": 16,
      "outputs": [
        {
          "output_type": "execute_result",
          "data": {
            "text/plain": [
              "[2, 3]"
            ]
          },
          "metadata": {},
          "execution_count": 16
        }
      ]
    },
    {
      "cell_type": "code",
      "source": [
        "tensor_variable = tf.Variable([[[41, 62, 75],[38, 67, 69]], [[51, 70, 65], [36, 59, 652]], [[95, 78, 98], [80, 45, 48]]])\n",
        "tensor_variable"
      ],
      "metadata": {
        "id": "MfbUNAljp43i",
        "outputId": "2ce4926f-d9ea-4ba7-c37e-5836c495b696",
        "colab": {
          "base_uri": "https://localhost:8080/"
        }
      },
      "execution_count": 17,
      "outputs": [
        {
          "output_type": "execute_result",
          "data": {
            "text/plain": [
              "<tf.Variable 'Variable:0' shape=(3, 2, 3) dtype=int32, numpy=\n",
              "array([[[ 41,  62,  75],\n",
              "        [ 38,  67,  69]],\n",
              "\n",
              "       [[ 51,  70,  65],\n",
              "        [ 36,  59, 652]],\n",
              "\n",
              "       [[ 95,  78,  98],\n",
              "        [ 80,  45,  48]]], dtype=int32)>"
            ]
          },
          "metadata": {},
          "execution_count": 17
        }
      ]
    },
    {
      "cell_type": "code",
      "source": [
        "tf.rank(tensor_variable).numpy()"
      ],
      "metadata": {
        "id": "HIxV4XYLqvxk",
        "outputId": "f947c571-4406-4e2c-ba50-c44bcf2f5fa3",
        "colab": {
          "base_uri": "https://localhost:8080/"
        }
      },
      "execution_count": 18,
      "outputs": [
        {
          "output_type": "execute_result",
          "data": {
            "text/plain": [
              "3"
            ]
          },
          "metadata": {},
          "execution_count": 18
        }
      ]
    },
    {
      "cell_type": "code",
      "source": [
        "tensor_variable.shape.as_list()"
      ],
      "metadata": {
        "id": "XBLRUTZyq2ji",
        "outputId": "0f6a11c2-8477-46d6-8258-9e21b355e34e",
        "colab": {
          "base_uri": "https://localhost:8080/"
        }
      },
      "execution_count": 19,
      "outputs": [
        {
          "output_type": "execute_result",
          "data": {
            "text/plain": [
              "[3, 2, 3]"
            ]
          },
          "metadata": {},
          "execution_count": 19
        }
      ]
    },
    {
      "cell_type": "code",
      "source": [
        "int1 = tf.Variable(41, tf.int32)\n",
        "int2 = tf.Variable(38, tf.int32)\n",
        "int3 = tf.Variable(51, tf.int32)"
      ],
      "metadata": {
        "id": "w-Lse2jlw8Ly"
      },
      "execution_count": 20,
      "outputs": []
    },
    {
      "cell_type": "code",
      "source": [
        "int_sum = int1 + int2 + int3\n",
        "int_sum.numpy()"
      ],
      "metadata": {
        "id": "KLflnlkIxUWh",
        "outputId": "37d811d3-5890-4033-c0f3-3ca7982732ee",
        "colab": {
          "base_uri": "https://localhost:8080/"
        }
      },
      "execution_count": 21,
      "outputs": [
        {
          "output_type": "execute_result",
          "data": {
            "text/plain": [
              "130"
            ]
          },
          "metadata": {},
          "execution_count": 21
        }
      ]
    },
    {
      "cell_type": "code",
      "source": [
        "vec1 = tf.Variable([41, 38, 51], tf.int32)\n",
        "vec2 = tf.Variable([75, 67, 70], tf.int32)\n",
        "vec3 = tf.Variable([62, 69, 65], tf.int32)\n",
        "\n",
        "vec_sum = vec1 + vec2 + vec3\n",
        "\n",
        "vec_sum.numpy()"
      ],
      "metadata": {
        "id": "3G7Q3EAyxd1K",
        "outputId": "189df0ba-0a5f-4b5e-96ae-0bc6a4badec4",
        "colab": {
          "base_uri": "https://localhost:8080/"
        }
      },
      "execution_count": 23,
      "outputs": [
        {
          "output_type": "execute_result",
          "data": {
            "text/plain": [
              "array([178, 174, 186], dtype=int32)"
            ]
          },
          "metadata": {},
          "execution_count": 23
        }
      ]
    },
    {
      "cell_type": "code",
      "source": [
        "print((vec1[0] + vec2[0] + vec3[0]).numpy())\n",
        "print((vec1[1] + vec2[1] + vec3[1]).numpy())\n",
        "print((vec1[2] + vec2[2] + vec3[2]).numpy())"
      ],
      "metadata": {
        "id": "bT0aRbANyLiq",
        "outputId": "d76e3c5b-8f41-4048-a8b1-a7723c66c673",
        "colab": {
          "base_uri": "https://localhost:8080/"
        }
      },
      "execution_count": 24,
      "outputs": [
        {
          "output_type": "stream",
          "name": "stdout",
          "text": [
            "178\n",
            "174\n",
            "186\n"
          ]
        }
      ]
    },
    {
      "cell_type": "code",
      "source": [
        "matrix1 = tf.Variable([[41, 38, 51], \\\n",
        "                       [36, 95, 80]], tf.int32)\n",
        "matrix2 = tf.Variable([[75, 67, 70], \\\n",
        "                       [59, 78, 45]], tf.int32)\n",
        "matrix3 = tf.Variable([[62, 69, 65], \\\n",
        "                       [62, 98, 48]], tf.int32)\n",
        "\n",
        "matrix1.shape == matrix2.shape == matrix3.shape"
      ],
      "metadata": {
        "id": "bv5c5Tt4yrus",
        "outputId": "ab16a2a7-9736-440a-b078-7881072c9059",
        "colab": {
          "base_uri": "https://localhost:8080/"
        }
      },
      "execution_count": 26,
      "outputs": [
        {
          "output_type": "execute_result",
          "data": {
            "text/plain": [
              "True"
            ]
          },
          "metadata": {},
          "execution_count": 26
        }
      ]
    },
    {
      "cell_type": "code",
      "source": [
        "matrix_sum = matrix1 + matrix2 + matrix3\n",
        "matrix_sum.numpy()"
      ],
      "metadata": {
        "id": "kuIGQP4kz1-P",
        "outputId": "351b72a5-f7cf-4543-ae39-73b681ae4087",
        "colab": {
          "base_uri": "https://localhost:8080/"
        }
      },
      "execution_count": 29,
      "outputs": [
        {
          "output_type": "execute_result",
          "data": {
            "text/plain": [
              "array([[178, 174, 186],\n",
              "       [157, 271, 173]], dtype=int32)"
            ]
          },
          "metadata": {},
          "execution_count": 29
        }
      ]
    },
    {
      "cell_type": "code",
      "source": [
        "print((matrix1[0][0] + matrix2[0][0] + matrix3[0][0]).numpy())\n",
        "print((matrix1[0][1] + matrix2[0][1] + matrix3[0][1]).numpy())\n",
        "print((matrix1[0][2] + matrix2[0][2] + matrix3[0][2]).numpy())\n",
        "print((matrix1[1][0] + matrix2[1][0] + matrix3[1][0]).numpy())\n",
        "print((matrix1[1][1] + matrix2[1][1] + matrix3[1][1]).numpy())\n",
        "print((matrix1[1][2] + matrix2[1][2] + matrix3[1][2]).numpy())"
      ],
      "metadata": {
        "id": "b6IhScXV0QXy",
        "outputId": "14dc68c5-8f43-4bdc-ef3d-ac26530ae51b",
        "colab": {
          "base_uri": "https://localhost:8080/"
        }
      },
      "execution_count": 30,
      "outputs": [
        {
          "output_type": "stream",
          "name": "stdout",
          "text": [
            "178\n",
            "174\n",
            "186\n",
            "157\n",
            "271\n",
            "173\n"
          ]
        }
      ]
    }
  ]
}