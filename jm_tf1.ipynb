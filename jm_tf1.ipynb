{
  "nbformat": 4,
  "nbformat_minor": 0,
  "metadata": {
    "colab": {
      "provenance": [],
      "include_colab_link": true
    },
    "kernelspec": {
      "name": "python3",
      "display_name": "Python 3"
    },
    "language_info": {
      "name": "python"
    }
  },
  "cells": [
    {
      "cell_type": "markdown",
      "metadata": {
        "id": "view-in-github",
        "colab_type": "text"
      },
      "source": [
        "<a href=\"https://colab.research.google.com/github/jmohsbeck1/jpmc_mle/blob/tensorflow/jm_tf1.ipynb\" target=\"_parent\"><img src=\"https://colab.research.google.com/assets/colab-badge.svg\" alt=\"Open In Colab\"/></a>"
      ]
    },
    {
      "cell_type": "markdown",
      "source": [
        "# Tensor flow ch 1\n",
        "## 08/12/2023\n"
      ],
      "metadata": {
        "id": "as71Rqrt17X4"
      }
    },
    {
      "cell_type": "markdown",
      "source": [
        "## Install development version"
      ],
      "metadata": {
        "id": "72wkZ2H82ZeQ"
      }
    },
    {
      "cell_type": "markdown",
      "source": [
        "## Exercise 1.01"
      ],
      "metadata": {
        "id": "-GUEO8TitfPW"
      }
    },
    {
      "cell_type": "code",
      "source": [
        "import tensorflow as tf"
      ],
      "metadata": {
        "id": "tVF-GWXVPQy6"
      },
      "execution_count": 1,
      "outputs": []
    },
    {
      "cell_type": "code",
      "source": [
        "tf.__version__"
      ],
      "metadata": {
        "colab": {
          "base_uri": "https://localhost:8080/",
          "height": 35
        },
        "id": "wBEmSKOCPxnU",
        "outputId": "9982684f-24e3-4ba7-8cfe-35e2c1ca664d"
      },
      "execution_count": 2,
      "outputs": [
        {
          "output_type": "execute_result",
          "data": {
            "text/plain": [
              "'2.12.0'"
            ],
            "application/vnd.google.colaboratory.intrinsic+json": {
              "type": "string"
            }
          },
          "metadata": {},
          "execution_count": 2
        }
      ]
    },
    {
      "cell_type": "code",
      "source": [
        "tensor1 = tf.Variable([2,5,7], dtype=tf.int32, name='my_tensor', trainable=True)"
      ],
      "metadata": {
        "id": "AUQt4oVfRAnm"
      },
      "execution_count": 3,
      "outputs": []
    },
    {
      "cell_type": "code",
      "source": [
        "tensor1.shape"
      ],
      "metadata": {
        "colab": {
          "base_uri": "https://localhost:8080/"
        },
        "id": "2Pb2OfgrSXHJ",
        "outputId": "5268dc4a-90ed-4b38-98a4-fb823d271e4e"
      },
      "execution_count": 4,
      "outputs": [
        {
          "output_type": "execute_result",
          "data": {
            "text/plain": [
              "TensorShape([3])"
            ]
          },
          "metadata": {},
          "execution_count": 4
        }
      ]
    },
    {
      "cell_type": "code",
      "source": [
        "tf.rank(tensor1)"
      ],
      "metadata": {
        "colab": {
          "base_uri": "https://localhost:8080/"
        },
        "id": "Rzmu5-eUSZjZ",
        "outputId": "4b3710e0-0bc7-474f-fbe4-f9be3c224a21"
      },
      "execution_count": 5,
      "outputs": [
        {
          "output_type": "execute_result",
          "data": {
            "text/plain": [
              "<tf.Tensor: shape=(), dtype=int32, numpy=1>"
            ]
          },
          "metadata": {},
          "execution_count": 5
        }
      ]
    },
    {
      "cell_type": "markdown",
      "source": [
        "## Exercise 1.02"
      ],
      "metadata": {
        "id": "VL1lVut1txQ3"
      }
    },
    {
      "cell_type": "code",
      "source": [
        "int_variable = tf.Variable(365, tf.int16)\n",
        "int_variable"
      ],
      "metadata": {
        "id": "eRJwyyidnhNW",
        "outputId": "b31dc7f9-eb6e-4a4c-8910-4db7c52cd0a6",
        "colab": {
          "base_uri": "https://localhost:8080/"
        }
      },
      "execution_count": 6,
      "outputs": [
        {
          "output_type": "execute_result",
          "data": {
            "text/plain": [
              "<tf.Variable 'Variable:0' shape=() dtype=int32, numpy=365>"
            ]
          },
          "metadata": {},
          "execution_count": 6
        }
      ]
    },
    {
      "cell_type": "code",
      "source": [
        "tf.rank(int_variable)"
      ],
      "metadata": {
        "id": "WT2pJ96Pn77X",
        "outputId": "f20984d9-975f-429f-91af-8918f0902155",
        "colab": {
          "base_uri": "https://localhost:8080/"
        }
      },
      "execution_count": 7,
      "outputs": [
        {
          "output_type": "execute_result",
          "data": {
            "text/plain": [
              "<tf.Tensor: shape=(), dtype=int32, numpy=0>"
            ]
          },
          "metadata": {},
          "execution_count": 7
        }
      ]
    },
    {
      "cell_type": "code",
      "source": [
        "tf.rank(int_variable).numpy()"
      ],
      "metadata": {
        "id": "svAtA0pXn_VS",
        "outputId": "c4b9b11f-0deb-4442-a88e-a02bf5e57553",
        "colab": {
          "base_uri": "https://localhost:8080/"
        }
      },
      "execution_count": 8,
      "outputs": [
        {
          "output_type": "execute_result",
          "data": {
            "text/plain": [
              "0"
            ]
          },
          "metadata": {},
          "execution_count": 8
        }
      ]
    },
    {
      "cell_type": "code",
      "source": [
        "int_variable.shape"
      ],
      "metadata": {
        "id": "o7kDAs6ioJwv",
        "outputId": "58c8a2a8-59da-4c20-9f01-ed771d3911dd",
        "colab": {
          "base_uri": "https://localhost:8080/"
        }
      },
      "execution_count": 9,
      "outputs": [
        {
          "output_type": "execute_result",
          "data": {
            "text/plain": [
              "TensorShape([])"
            ]
          },
          "metadata": {},
          "execution_count": 9
        }
      ]
    },
    {
      "cell_type": "code",
      "source": [
        "int_variable.shape.as_list()"
      ],
      "metadata": {
        "id": "yhHCrrn9oUb3",
        "outputId": "f5527b97-9b26-4abe-f0f1-a1e9f3556c84",
        "colab": {
          "base_uri": "https://localhost:8080/"
        }
      },
      "execution_count": 10,
      "outputs": [
        {
          "output_type": "execute_result",
          "data": {
            "text/plain": [
              "[]"
            ]
          },
          "metadata": {},
          "execution_count": 10
        }
      ]
    },
    {
      "cell_type": "code",
      "source": [
        "vector_variable = tf.Variable([0.23, 0.42, 0.35], tf.float32)\n",
        "vector_variable"
      ],
      "metadata": {
        "id": "LfySPEHZoa6v",
        "outputId": "e20a18c0-dc3b-4802-e722-4b9158bf9c9d",
        "colab": {
          "base_uri": "https://localhost:8080/"
        }
      },
      "execution_count": 11,
      "outputs": [
        {
          "output_type": "execute_result",
          "data": {
            "text/plain": [
              "<tf.Variable 'Variable:0' shape=(3,) dtype=float32, numpy=array([0.23, 0.42, 0.35], dtype=float32)>"
            ]
          },
          "metadata": {},
          "execution_count": 11
        }
      ]
    },
    {
      "cell_type": "code",
      "source": [
        "tf.rank(vector_variable).numpy()"
      ],
      "metadata": {
        "id": "bqjErjfCorTg",
        "outputId": "8ad62e75-0322-409d-c773-31f27c9b7166",
        "colab": {
          "base_uri": "https://localhost:8080/"
        }
      },
      "execution_count": 12,
      "outputs": [
        {
          "output_type": "execute_result",
          "data": {
            "text/plain": [
              "1"
            ]
          },
          "metadata": {},
          "execution_count": 12
        }
      ]
    },
    {
      "cell_type": "code",
      "source": [
        "vector_variable.shape.as_list()"
      ],
      "metadata": {
        "id": "uid8Fmdro3uv",
        "outputId": "4ca872d4-d4f3-4841-d37d-5ccd6739c819",
        "colab": {
          "base_uri": "https://localhost:8080/"
        }
      },
      "execution_count": 13,
      "outputs": [
        {
          "output_type": "execute_result",
          "data": {
            "text/plain": [
              "[3]"
            ]
          },
          "metadata": {},
          "execution_count": 13
        }
      ]
    },
    {
      "cell_type": "code",
      "source": [
        "matrix_variable = tf.Variable([[41, 75, 62], [38, 67, 69]], tf.float32)\n",
        "matrix_variable"
      ],
      "metadata": {
        "id": "bPFNUMgypJ2E",
        "outputId": "e541cd0a-ff1b-4e2a-e304-2cfdfc7d4f42",
        "colab": {
          "base_uri": "https://localhost:8080/"
        }
      },
      "execution_count": 14,
      "outputs": [
        {
          "output_type": "execute_result",
          "data": {
            "text/plain": [
              "<tf.Variable 'Variable:0' shape=(2, 3) dtype=int32, numpy=\n",
              "array([[41, 75, 62],\n",
              "       [38, 67, 69]], dtype=int32)>"
            ]
          },
          "metadata": {},
          "execution_count": 14
        }
      ]
    },
    {
      "cell_type": "code",
      "source": [
        "tf.rank(matrix_variable).numpy()"
      ],
      "metadata": {
        "id": "_GMUbkS4pqeY",
        "outputId": "1dfcdb24-af75-446c-8f99-1944ec18ae27",
        "colab": {
          "base_uri": "https://localhost:8080/"
        }
      },
      "execution_count": 15,
      "outputs": [
        {
          "output_type": "execute_result",
          "data": {
            "text/plain": [
              "2"
            ]
          },
          "metadata": {},
          "execution_count": 15
        }
      ]
    },
    {
      "cell_type": "code",
      "source": [
        "matrix_variable.shape.as_list()"
      ],
      "metadata": {
        "id": "YDeK13Nipw-5",
        "outputId": "4fda78b5-c874-40b4-f418-d15a878dea92",
        "colab": {
          "base_uri": "https://localhost:8080/"
        }
      },
      "execution_count": 16,
      "outputs": [
        {
          "output_type": "execute_result",
          "data": {
            "text/plain": [
              "[2, 3]"
            ]
          },
          "metadata": {},
          "execution_count": 16
        }
      ]
    },
    {
      "cell_type": "code",
      "source": [
        "tensor_variable = tf.Variable([[[41, 62, 75],[38, 67, 69]], [[51, 70, 65], [36, 59, 652]], [[95, 78, 98], [80, 45, 48]]])\n",
        "tensor_variable"
      ],
      "metadata": {
        "id": "MfbUNAljp43i",
        "outputId": "7807dd8d-3119-4647-a05f-e90a452161ab",
        "colab": {
          "base_uri": "https://localhost:8080/"
        }
      },
      "execution_count": 17,
      "outputs": [
        {
          "output_type": "execute_result",
          "data": {
            "text/plain": [
              "<tf.Variable 'Variable:0' shape=(3, 2, 3) dtype=int32, numpy=\n",
              "array([[[ 41,  62,  75],\n",
              "        [ 38,  67,  69]],\n",
              "\n",
              "       [[ 51,  70,  65],\n",
              "        [ 36,  59, 652]],\n",
              "\n",
              "       [[ 95,  78,  98],\n",
              "        [ 80,  45,  48]]], dtype=int32)>"
            ]
          },
          "metadata": {},
          "execution_count": 17
        }
      ]
    },
    {
      "cell_type": "code",
      "source": [
        "tf.rank(tensor_variable).numpy()"
      ],
      "metadata": {
        "id": "HIxV4XYLqvxk",
        "outputId": "a3c51ce8-957f-43b4-803b-ef77d3b7d970",
        "colab": {
          "base_uri": "https://localhost:8080/"
        }
      },
      "execution_count": 18,
      "outputs": [
        {
          "output_type": "execute_result",
          "data": {
            "text/plain": [
              "3"
            ]
          },
          "metadata": {},
          "execution_count": 18
        }
      ]
    },
    {
      "cell_type": "code",
      "source": [
        "tensor_variable.shape.as_list()"
      ],
      "metadata": {
        "id": "XBLRUTZyq2ji",
        "outputId": "7776e11a-4182-465c-ca42-c78c32d0a636",
        "colab": {
          "base_uri": "https://localhost:8080/"
        }
      },
      "execution_count": 19,
      "outputs": [
        {
          "output_type": "execute_result",
          "data": {
            "text/plain": [
              "[3, 2, 3]"
            ]
          },
          "metadata": {},
          "execution_count": 19
        }
      ]
    },
    {
      "cell_type": "markdown",
      "source": [
        "## Exercise 1.03"
      ],
      "metadata": {
        "id": "y-3IR6KTuAeM"
      }
    },
    {
      "cell_type": "code",
      "source": [
        "int1 = tf.Variable(41, tf.int32)\n",
        "int2 = tf.Variable(38, tf.int32)\n",
        "int3 = tf.Variable(51, tf.int32)"
      ],
      "metadata": {
        "id": "w-Lse2jlw8Ly"
      },
      "execution_count": 20,
      "outputs": []
    },
    {
      "cell_type": "code",
      "source": [
        "int_sum = int1 + int2 + int3\n",
        "int_sum.numpy()"
      ],
      "metadata": {
        "id": "KLflnlkIxUWh",
        "outputId": "1cf784ec-f6ac-408b-f669-f6bc7d594d22",
        "colab": {
          "base_uri": "https://localhost:8080/"
        }
      },
      "execution_count": 21,
      "outputs": [
        {
          "output_type": "execute_result",
          "data": {
            "text/plain": [
              "130"
            ]
          },
          "metadata": {},
          "execution_count": 21
        }
      ]
    },
    {
      "cell_type": "code",
      "source": [
        "vec1 = tf.Variable([41, 38, 51], tf.int32)\n",
        "vec2 = tf.Variable([75, 67, 70], tf.int32)\n",
        "vec3 = tf.Variable([62, 69, 65], tf.int32)\n",
        "\n",
        "vec_sum = vec1 + vec2 + vec3\n",
        "\n",
        "vec_sum.numpy()"
      ],
      "metadata": {
        "id": "3G7Q3EAyxd1K",
        "outputId": "3845c95a-2078-4209-8c49-e5846e899b6a",
        "colab": {
          "base_uri": "https://localhost:8080/"
        }
      },
      "execution_count": 22,
      "outputs": [
        {
          "output_type": "execute_result",
          "data": {
            "text/plain": [
              "array([178, 174, 186], dtype=int32)"
            ]
          },
          "metadata": {},
          "execution_count": 22
        }
      ]
    },
    {
      "cell_type": "code",
      "source": [
        "print((vec1[0] + vec2[0] + vec3[0]).numpy())\n",
        "print((vec1[1] + vec2[1] + vec3[1]).numpy())\n",
        "print((vec1[2] + vec2[2] + vec3[2]).numpy())"
      ],
      "metadata": {
        "id": "bT0aRbANyLiq",
        "outputId": "dbdd4ebb-d9e4-48b1-b953-b11d34a1d4b7",
        "colab": {
          "base_uri": "https://localhost:8080/"
        }
      },
      "execution_count": 23,
      "outputs": [
        {
          "output_type": "stream",
          "name": "stdout",
          "text": [
            "178\n",
            "174\n",
            "186\n"
          ]
        }
      ]
    },
    {
      "cell_type": "code",
      "source": [
        "matrix1 = tf.Variable([[41, 38, 51], \\\n",
        "                       [36, 95, 80]], tf.int32)\n",
        "matrix2 = tf.Variable([[75, 67, 70], \\\n",
        "                       [59, 78, 45]], tf.int32)\n",
        "matrix3 = tf.Variable([[62, 69, 65], \\\n",
        "                       [62, 98, 48]], tf.int32)\n",
        "\n",
        "matrix1.shape == matrix2.shape == matrix3.shape"
      ],
      "metadata": {
        "id": "bv5c5Tt4yrus",
        "outputId": "a54a3e87-c963-4737-ee0d-bf4587319f87",
        "colab": {
          "base_uri": "https://localhost:8080/"
        }
      },
      "execution_count": 24,
      "outputs": [
        {
          "output_type": "execute_result",
          "data": {
            "text/plain": [
              "True"
            ]
          },
          "metadata": {},
          "execution_count": 24
        }
      ]
    },
    {
      "cell_type": "code",
      "source": [
        "matrix_sum = matrix1 + matrix2 + matrix3\n",
        "matrix_sum.numpy()"
      ],
      "metadata": {
        "id": "kuIGQP4kz1-P",
        "outputId": "3c2f2f60-53a5-452e-8bad-be01d3ad3106",
        "colab": {
          "base_uri": "https://localhost:8080/"
        }
      },
      "execution_count": 25,
      "outputs": [
        {
          "output_type": "execute_result",
          "data": {
            "text/plain": [
              "array([[178, 174, 186],\n",
              "       [157, 271, 173]], dtype=int32)"
            ]
          },
          "metadata": {},
          "execution_count": 25
        }
      ]
    },
    {
      "cell_type": "code",
      "source": [
        "print((matrix1[0][0] + matrix2[0][0] + matrix3[0][0]).numpy())\n",
        "print((matrix1[0][1] + matrix2[0][1] + matrix3[0][1]).numpy())\n",
        "print((matrix1[0][2] + matrix2[0][2] + matrix3[0][2]).numpy())\n",
        "print((matrix1[1][0] + matrix2[1][0] + matrix3[1][0]).numpy())\n",
        "print((matrix1[1][1] + matrix2[1][1] + matrix3[1][1]).numpy())\n",
        "print((matrix1[1][2] + matrix2[1][2] + matrix3[1][2]).numpy())"
      ],
      "metadata": {
        "id": "b6IhScXV0QXy",
        "outputId": "0d9e58d7-ef38-441b-a097-2dfee8137886",
        "colab": {
          "base_uri": "https://localhost:8080/"
        }
      },
      "execution_count": 26,
      "outputs": [
        {
          "output_type": "stream",
          "name": "stdout",
          "text": [
            "178\n",
            "174\n",
            "186\n",
            "157\n",
            "271\n",
            "173\n"
          ]
        }
      ]
    },
    {
      "cell_type": "markdown",
      "source": [
        "## Activity 1.01: Performing Tensor Addition in TensorFlow"
      ],
      "metadata": {
        "id": "54YLGjJxuHK1"
      }
    },
    {
      "cell_type": "code",
      "source": [
        "var1 = tf.Variable(38, tf.int32)\n",
        "var2 = tf.Variable(70, tf.int32)\n",
        "\n",
        "sum_var = var1 + var2\n",
        "sum_var.numpy()"
      ],
      "metadata": {
        "id": "l-FtPn_ktWz1",
        "outputId": "998c8634-519b-40ba-8330-55d23786a4aa",
        "colab": {
          "base_uri": "https://localhost:8080/"
        }
      },
      "execution_count": 28,
      "outputs": [
        {
          "output_type": "execute_result",
          "data": {
            "text/plain": [
              "108"
            ]
          },
          "metadata": {},
          "execution_count": 28
        }
      ]
    },
    {
      "cell_type": "code",
      "source": [
        "vec = tf.Variable([70, 79, 51], tf.int32)\n",
        "var = tf.Variable(95, tf.int32)\n",
        "student1_mark = vec + var\n",
        "\n",
        "student1_mark.numpy()\n",
        "\n",
        "print(student1_mark.numpy())"
      ],
      "metadata": {
        "id": "9NOS2SGBulE-",
        "outputId": "9a9fac76-e7ff-4351-9280-0a7565964349",
        "colab": {
          "base_uri": "https://localhost:8080/"
        }
      },
      "execution_count": 31,
      "outputs": [
        {
          "output_type": "stream",
          "name": "stdout",
          "text": [
            "[165 174 146]\n"
          ]
        }
      ]
    },
    {
      "cell_type": "code",
      "source": [
        "matrix1 = tf.Variable([[70, 79, 51], \\\n",
        "                       [38, 40, 59]], tf.int32)\n",
        "matrix2 = tf.Variable([[90, 28, 64], \\\n",
        "                       [62, 98, 48]], tf.int32)\n",
        "matrix3 = tf.Variable([[39, 33, 55], \\\n",
        "                       [45, 97, 49]], tf.int32)\n",
        "\n",
        "matrix1.shape == matrix2.shape == matrix3.shape"
      ],
      "metadata": {
        "id": "khnietXlvkcr",
        "outputId": "d6864427-d092-41c6-9c7a-b5d69cf165b5",
        "colab": {
          "base_uri": "https://localhost:8080/"
        }
      },
      "execution_count": 32,
      "outputs": [
        {
          "output_type": "execute_result",
          "data": {
            "text/plain": [
              "True"
            ]
          },
          "metadata": {},
          "execution_count": 32
        }
      ]
    },
    {
      "cell_type": "code",
      "source": [
        "matrix_sum = matrix1 + matrix2 + matrix3\n",
        "\n",
        "print(matrix_sum.numpy())"
      ],
      "metadata": {
        "id": "awn5W2TnwG5G",
        "outputId": "10da38e4-c163-4588-d213-62ce76b44396",
        "colab": {
          "base_uri": "https://localhost:8080/"
        }
      },
      "execution_count": 36,
      "outputs": [
        {
          "output_type": "stream",
          "name": "stdout",
          "text": [
            "[[199 140 170]\n",
            " [145 235 156]]\n"
          ]
        }
      ]
    }
  ]
}