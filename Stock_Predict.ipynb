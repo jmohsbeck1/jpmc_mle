{
  "nbformat": 4,
  "nbformat_minor": 0,
  "metadata": {
    "colab": {
      "provenance": [],
      "authorship_tag": "ABX9TyOYkY71myxxTFbW6oqf1g5m",
      "include_colab_link": true
    },
    "kernelspec": {
      "name": "python3",
      "display_name": "Python 3"
    },
    "language_info": {
      "name": "python"
    }
  },
  "cells": [
    {
      "cell_type": "markdown",
      "metadata": {
        "id": "view-in-github",
        "colab_type": "text"
      },
      "source": [
        "<a href=\"https://colab.research.google.com/github/jmohsbeck1/jpmc_mle/blob/Mar.-29/Stock_Predict.ipynb\" target=\"_parent\"><img src=\"https://colab.research.google.com/assets/colab-badge.svg\" alt=\"Open In Colab\"/></a>"
      ]
    },
    {
      "cell_type": "code",
      "execution_count": 16,
      "metadata": {
        "id": "vpyYdBfZszu7"
      },
      "outputs": [],
      "source": [
        "# John Mohsbeck\n",
        "# Stock Predictor for JPMC stock ticker: JPM\n",
        "# Source Dr. Lee stock predictor\n",
        "\n",
        "# Import libraries\n",
        "import yfinance as yf\n",
        "import pandas as pd"
      ]
    },
    {
      "cell_type": "code",
      "source": [
        "# Fetch JPM stock data function\n",
        "\n",
        "def fetch_stock_data(tickers=[\"JPM\"], start=\"2000-01-01\", end=\"2021-12-31\"):\n",
        "    \"\"\"\n",
        "    Fetches stock data for the specified tickers and time period using the yfinance library.\n",
        "\n",
        "    Parameters:\n",
        "    tickers (list): A list of stock tickers (default is [\"JPM\"]).\n",
        "    start (str): The start date for fetching data in the format YYYY-MM-DD (default is \"2000-01-01\").\n",
        "    end (str): The end date for fetching data in the format YYYY-MM-DD (default is \"2021-12-31\").\n",
        "\n",
        "    Returns:\n",
        "    data (pd.DataFrame): A pandas DataFrame containing the fetched stock data.\n",
        "    \"\"\"\n",
        "    \n",
        "    # Combine data for all tickers into a single DataFrame\n",
        "    data = pd.DataFrame()\n",
        "    for ticker in tickers:\n",
        "        stock_data = yf.download(ticker, start=start, end=end)\n",
        "        stock_data[\"Ticker\"] = ticker\n",
        "        data = data.append(stock_data, sort=True)\n",
        "\n",
        "    # Reset the index and return the final DataFrame\n",
        "    data.reset_index(inplace=True)\n",
        "    return data"
      ],
      "metadata": {
        "id": "EV1IPT73tThP"
      },
      "execution_count": 17,
      "outputs": []
    },
    {
      "cell_type": "markdown",
      "source": [
        "Fetching data and discovering insights"
      ],
      "metadata": {
        "id": "u1Jwl8D1tpmY"
      }
    },
    {
      "cell_type": "code",
      "source": [
        "stock_data = fetch_stock_data(tickers=[\"JPM\"], start=\"2010-01-01\", end=\"2023-3-27\")\n",
        "print(stock_data.head())"
      ],
      "metadata": {
        "colab": {
          "base_uri": "https://localhost:8080/"
        },
        "id": "L3Fsez3kt1gH",
        "outputId": "49e2c733-8533-4055-f87b-80f9c3d7f65f"
      },
      "execution_count": 18,
      "outputs": [
        {
          "output_type": "stream",
          "name": "stdout",
          "text": [
            "\r[*********************100%***********************]  1 of 1 completed\n",
            "        Date  Adj Close      Close       High        Low       Open Ticker  \\\n",
            "0 2010-01-04  30.517248  42.849998  42.990002  41.669998  41.790001    JPM   \n",
            "1 2010-01-05  31.108356  43.680000  43.840000  42.779999  42.790001    JPM   \n",
            "2 2010-01-06  31.279291  43.919998  44.090000  43.310001  43.450001    JPM   \n",
            "3 2010-01-07  31.898895  44.790001  45.119999  43.610001  43.790001    JPM   \n",
            "4 2010-01-08  31.820543  44.680000  44.700001  44.080002  44.369999    JPM   \n",
            "\n",
            "     Volume  \n",
            "0  35460500  \n",
            "1  41208300  \n",
            "2  27729000  \n",
            "3  44864700  \n",
            "4  33110100  \n"
          ]
        },
        {
          "output_type": "stream",
          "name": "stderr",
          "text": [
            "<ipython-input-17-0c50d0032a1f>:21: FutureWarning: The frame.append method is deprecated and will be removed from pandas in a future version. Use pandas.concat instead.\n",
            "  data = data.append(stock_data, sort=True)\n"
          ]
        }
      ]
    },
    {
      "cell_type": "markdown",
      "source": [
        "Min stock price: 28.38"
      ],
      "metadata": {
        "id": "dOggHpUY2mdi"
      }
    },
    {
      "cell_type": "code",
      "source": [
        "min(stock_data.Close)"
      ],
      "metadata": {
        "colab": {
          "base_uri": "https://localhost:8080/"
        },
        "id": "KYoiTVmc2WWZ",
        "outputId": "89b40427-2bf1-4f55-bf2a-ee54e206ffaa"
      },
      "execution_count": 28,
      "outputs": [
        {
          "output_type": "execute_result",
          "data": {
            "text/plain": [
              "28.3799991607666"
            ]
          },
          "metadata": {},
          "execution_count": 28
        }
      ]
    },
    {
      "cell_type": "markdown",
      "source": [
        "Max stock price: 171.78"
      ],
      "metadata": {
        "id": "SPWZ9KCB24dB"
      }
    },
    {
      "cell_type": "code",
      "source": [
        "max(stock_data.Close)"
      ],
      "metadata": {
        "colab": {
          "base_uri": "https://localhost:8080/"
        },
        "id": "TEIuEaVA2hD5",
        "outputId": "a5b65e59-de25-4ab5-cc88-5992c19d712d"
      },
      "execution_count": 29,
      "outputs": [
        {
          "output_type": "execute_result",
          "data": {
            "text/plain": [
              "171.77999877929688"
            ]
          },
          "metadata": {},
          "execution_count": 29
        }
      ]
    },
    {
      "cell_type": "code",
      "source": [
        "stock_data.loc[stock_data.Close == stock_data.Close.max(), 'Date']"
      ],
      "metadata": {
        "colab": {
          "base_uri": "https://localhost:8080/"
        },
        "id": "pppZBfkz4OTr",
        "outputId": "48863fd9-6c28-4430-d021-c0401affb8fa"
      },
      "execution_count": 31,
      "outputs": [
        {
          "output_type": "execute_result",
          "data": {
            "text/plain": [
              "2972   2021-10-22\n",
              "Name: Date, dtype: datetime64[ns]"
            ]
          },
          "metadata": {},
          "execution_count": 31
        }
      ]
    },
    {
      "cell_type": "markdown",
      "source": [
        "Adding a Target Column: Decoding the Market’s Swings"
      ],
      "metadata": {
        "id": "K0n_jLj-uIfQ"
      }
    },
    {
      "cell_type": "code",
      "source": [
        "def add_target_column(data, target_col=\"Target\"):\n",
        "    \"\"\"\n",
        "    Adds a target column to the input DataFrame, indicating whether the previous day's closing price was up or down.\n",
        "\n",
        "    Parameters:\n",
        "    data (pd.DataFrame): The input DataFrame containing stock data.\n",
        "    target_col (str): The name of the target column to be added (default is \"Target\").\n",
        "\n",
        "    Returns:\n",
        "    data (pd.DataFrame): The DataFrame with the new target column added.\n",
        "    \"\"\"\n",
        "    \n",
        "    # Calculate the difference between consecutive closing prices\n",
        "    data[\"Price_Diff\"] = data[\"Close\"].diff()\n",
        "    \n",
        "    # Assign \"UP\" or \"DOWN\" based on the sign of the price difference\n",
        "    data[target_col] = data[\"Price_Diff\"].apply(lambda x: \"UP\" if x > 0 else \"DOWN\")\n",
        "    \n",
        "    # Drop the first row since it has no previous day to compare to, and the \"Price_Diff\" column\n",
        "    data = data.drop(0).drop(columns=[\"Price_Diff\"])\n",
        "    \n",
        "    return data"
      ],
      "metadata": {
        "id": "yPM3hFkbuQSB"
      },
      "execution_count": 19,
      "outputs": []
    },
    {
      "cell_type": "code",
      "source": [
        "stock_data_with_target = add_target_column(stock_data)\n",
        "print(stock_data_with_target.head())"
      ],
      "metadata": {
        "colab": {
          "base_uri": "https://localhost:8080/"
        },
        "id": "3NBPoMRvuXNI",
        "outputId": "5582b423-f035-4441-89d3-26680174c443"
      },
      "execution_count": 20,
      "outputs": [
        {
          "output_type": "stream",
          "name": "stdout",
          "text": [
            "        Date  Adj Close      Close       High        Low       Open Ticker  \\\n",
            "1 2010-01-05  31.108356  43.680000  43.840000  42.779999  42.790001    JPM   \n",
            "2 2010-01-06  31.279291  43.919998  44.090000  43.310001  43.450001    JPM   \n",
            "3 2010-01-07  31.898895  44.790001  45.119999  43.610001  43.790001    JPM   \n",
            "4 2010-01-08  31.820543  44.680000  44.700001  44.080002  44.369999    JPM   \n",
            "5 2010-01-11  31.713722  44.529999  45.189999  44.310001  45.119999    JPM   \n",
            "\n",
            "     Volume Target  \n",
            "1  41208300     UP  \n",
            "2  27729000     UP  \n",
            "3  44864700     UP  \n",
            "4  33110100   DOWN  \n",
            "5  31878700   DOWN  \n"
          ]
        }
      ]
    },
    {
      "cell_type": "code",
      "source": [
        "stock_data_with_target.head"
      ],
      "metadata": {
        "colab": {
          "base_uri": "https://localhost:8080/"
        },
        "id": "sGNpzdjMwzW3",
        "outputId": "90fb3f3a-fa91-4287-a93a-eb6424288b7e"
      },
      "execution_count": 22,
      "outputs": [
        {
          "output_type": "execute_result",
          "data": {
            "text/plain": [
              "<bound method NDFrame.head of            Date   Adj Close       Close        High         Low        Open  \\\n",
              "1    2010-01-05   31.108356   43.680000   43.840000   42.779999   42.790001   \n",
              "2    2010-01-06   31.279291   43.919998   44.090000   43.310001   43.450001   \n",
              "3    2010-01-07   31.898895   44.790001   45.119999   43.610001   43.790001   \n",
              "4    2010-01-08   31.820543   44.680000   44.700001   44.080002   44.369999   \n",
              "5    2010-01-11   31.713722   44.529999   45.189999   44.310001   45.119999   \n",
              "...         ...         ...         ...         ...         ...         ...   \n",
              "3324 2023-03-20  127.139999  127.139999  129.470001  126.010002  126.989998   \n",
              "3325 2023-03-21  130.550003  130.550003  131.729996  130.190002  130.589996   \n",
              "3326 2023-03-22  127.180000  127.180000  130.660004  127.080002  130.559998   \n",
              "3327 2023-03-23  126.839996  126.839996  129.529999  126.019997  127.900002   \n",
              "3328 2023-03-24  124.910004  124.910004  125.680000  123.110001  125.629997   \n",
              "\n",
              "     Ticker    Volume Target  \n",
              "1       JPM  41208300     UP  \n",
              "2       JPM  27729000     UP  \n",
              "3       JPM  44864700     UP  \n",
              "4       JPM  33110100   DOWN  \n",
              "5       JPM  31878700   DOWN  \n",
              "...     ...       ...    ...  \n",
              "3324    JPM  22875500     UP  \n",
              "3325    JPM  17807800     UP  \n",
              "3326    JPM  17250200   DOWN  \n",
              "3327    JPM  16677600   DOWN  \n",
              "3328    JPM  22311100   DOWN  \n",
              "\n",
              "[3328 rows x 9 columns]>"
            ]
          },
          "metadata": {},
          "execution_count": 22
        }
      ]
    },
    {
      "cell_type": "code",
      "source": [
        "stock_data_with_target.Target.value_counts()"
      ],
      "metadata": {
        "colab": {
          "base_uri": "https://localhost:8080/"
        },
        "id": "QPylja3xxhyf",
        "outputId": "1a3f1bdc-0b1c-4f4e-804a-feab7839bab4"
      },
      "execution_count": 23,
      "outputs": [
        {
          "output_type": "execute_result",
          "data": {
            "text/plain": [
              "UP      1682\n",
              "DOWN    1646\n",
              "Name: Target, dtype: int64"
            ]
          },
          "metadata": {},
          "execution_count": 23
        }
      ]
    },
    {
      "cell_type": "markdown",
      "source": [
        "JPM stock UP: 50.5%\n",
        "\n",
        "JPM stock Down: 49.4%"
      ],
      "metadata": {
        "id": "c04HZjPvxnnZ"
      }
    },
    {
      "cell_type": "code",
      "source": [
        "stock_data_with_target.Target.value_counts(\"normalize\")"
      ],
      "metadata": {
        "colab": {
          "base_uri": "https://localhost:8080/"
        },
        "id": "LwDuXC7mxVh4",
        "outputId": "ad70649e-11e7-49c1-b4c1-392555f3eaa9"
      },
      "execution_count": 24,
      "outputs": [
        {
          "output_type": "execute_result",
          "data": {
            "text/plain": [
              "UP      0.505409\n",
              "DOWN    0.494591\n",
              "Name: Target, dtype: float64"
            ]
          },
          "metadata": {},
          "execution_count": 24
        }
      ]
    },
    {
      "cell_type": "markdown",
      "source": [
        "Encoding and Preprocessing: Gearing Up for Machine Learning"
      ],
      "metadata": {
        "id": "24YAUYGp1QTD"
      }
    },
    {
      "cell_type": "code",
      "source": [
        "from sklearn.preprocessing import LabelEncoder, StandardScaler"
      ],
      "metadata": {
        "id": "xfw0__nt1TNo"
      },
      "execution_count": 25,
      "outputs": []
    },
    {
      "cell_type": "code",
      "source": [
        "def encode_and_preprocess(data, categorical_cols=None, numerical_cols=None, target_col=\"Target\"):\n",
        "    \"\"\"\n",
        "    Encodes categorical variables and standardizes/normalizes numerical variables in the input DataFrame.\n",
        "\n",
        "    Parameters:\n",
        "    data (pd.DataFrame): The input DataFrame containing stock data.\n",
        "    categorical_cols (list): A list of categorical column names to be encoded (default is None).\n",
        "    numerical_cols (list): A list of numerical column names to be standardized/normalized (default is None).\n",
        "    target_col (str): The name of the target column (default is \"Target\").\n",
        "\n",
        "    Returns:\n",
        "    data (pd.DataFrame): The preprocessed DataFrame.\n",
        "    \"\"\"\n",
        "    \n",
        "    # Make a copy of the input DataFrame to avoid modifying the original data\n",
        "    data = data.copy()\n",
        "    \n",
        "    # Encode categorical columns\n",
        "    if categorical_cols:\n",
        "        le = LabelEncoder()\n",
        "        for col in categorical_cols:\n",
        "            data[col] = le.fit_transform(data[col])\n",
        "    \n",
        "    # Standardize/normalize numerical columns\n",
        "    if numerical_cols:\n",
        "        scaler = StandardScaler()\n",
        "        data[numerical_cols] = scaler.fit_transform(data[numerical_cols])\n",
        "    \n",
        "    # Ensure the target column is the last column in the DataFrame\n",
        "    data = data[[col for col in data.columns if col != target_col] + [target_col]]\n",
        "    \n",
        "    return data"
      ],
      "metadata": {
        "id": "iIWrxdRQ1gcJ"
      },
      "execution_count": 26,
      "outputs": []
    },
    {
      "cell_type": "code",
      "source": [
        "preprocessed_data = encode_and_preprocess(stock_data_with_target, categorical_cols=[\"Ticker\"], numerical_cols=[\"Open\", \"High\", \"Low\", \"Close\", \"Adj Close\", \"Volume\"])\n",
        "print(preprocessed_data.head())"
      ],
      "metadata": {
        "colab": {
          "base_uri": "https://localhost:8080/"
        },
        "id": "QwGzWRvC1oc5",
        "outputId": "87295784-d008-4ee7-95b9-0a5c35e5fa87"
      },
      "execution_count": 27,
      "outputs": [
        {
          "output_type": "stream",
          "name": "stdout",
          "text": [
            "        Date  Adj Close     Close      High       Low      Open  Ticker  \\\n",
            "1 2010-01-05  -1.045125 -1.032403 -1.039541 -1.044060 -1.055611       0   \n",
            "2 2010-01-06  -1.040806 -1.026088 -1.033023 -1.029988 -1.038248       0   \n",
            "3 2010-01-07  -1.025149 -1.003196 -1.006173 -1.022023 -1.029303       0   \n",
            "4 2010-01-08  -1.027129 -1.006090 -1.017121 -1.009544 -1.014045       0   \n",
            "5 2010-01-11  -1.029828 -1.010037 -1.004348 -1.003438 -0.994314       0   \n",
            "\n",
            "     Volume Target  \n",
            "1  1.479616     UP  \n",
            "2  0.512753     UP  \n",
            "3  1.741887     UP  \n",
            "4  0.898736   DOWN  \n",
            "5  0.810408   DOWN  \n"
          ]
        }
      ]
    },
    {
      "cell_type": "markdown",
      "source": [
        "Algorithm Harness\n"
      ],
      "metadata": {
        "id": "-9k3vL6N1-dh"
      }
    },
    {
      "cell_type": "code",
      "source": [],
      "metadata": {
        "id": "f-mGo5452QE4"
      },
      "execution_count": null,
      "outputs": []
    },
    {
      "cell_type": "code",
      "source": [],
      "metadata": {
        "id": "gSp1Lore2BhC"
      },
      "execution_count": null,
      "outputs": []
    }
  ]
}