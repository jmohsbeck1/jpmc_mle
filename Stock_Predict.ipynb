{
  "nbformat": 4,
  "nbformat_minor": 0,
  "metadata": {
    "colab": {
      "provenance": [],
      "authorship_tag": "ABX9TyPpqhOGuRElXJOH6gsYZQXx",
      "include_colab_link": true
    },
    "kernelspec": {
      "name": "python3",
      "display_name": "Python 3"
    },
    "language_info": {
      "name": "python"
    }
  },
  "cells": [
    {
      "cell_type": "markdown",
      "metadata": {
        "id": "view-in-github",
        "colab_type": "text"
      },
      "source": [
        "<a href=\"https://colab.research.google.com/github/jmohsbeck1/jpmc_mle/blob/Mar.-29/Stock_Predict.ipynb\" target=\"_parent\"><img src=\"https://colab.research.google.com/assets/colab-badge.svg\" alt=\"Open In Colab\"/></a>"
      ]
    },
    {
      "cell_type": "code",
      "execution_count": 40,
      "metadata": {
        "id": "vpyYdBfZszu7"
      },
      "outputs": [],
      "source": [
        "# John Mohsbeck\n",
        "# Stock Predictor for JPMC stock ticker: JPM\n",
        "# Source Dr. Lee stock predictor\n",
        "\n",
        "# Import libraries\n",
        "import yfinance as yf\n",
        "import pandas as pd"
      ]
    },
    {
      "cell_type": "code",
      "source": [
        "# Fetch JPM stock data function\n",
        "\n",
        "def fetch_stock_data(tickers=[\"JPM\"], start=\"2000-01-01\", end=\"2021-12-31\"):\n",
        "    \"\"\"\n",
        "    Fetches stock data for the specified tickers and time period using the yfinance library.\n",
        "\n",
        "    Parameters:\n",
        "    tickers (list): A list of stock tickers (default is [\"JPM\"]).\n",
        "    start (str): The start date for fetching data in the format YYYY-MM-DD (default is \"2000-01-01\").\n",
        "    end (str): The end date for fetching data in the format YYYY-MM-DD (default is \"2021-12-31\").\n",
        "\n",
        "    Returns:\n",
        "    data (pd.DataFrame): A pandas DataFrame containing the fetched stock data.\n",
        "    \"\"\"\n",
        "    \n",
        "    # Combine data for all tickers into a single DataFrame\n",
        "    data = pd.DataFrame()\n",
        "    for ticker in tickers:\n",
        "        stock_data = yf.download(ticker, start=start, end=end)\n",
        "        stock_data[\"Ticker\"] = ticker\n",
        "        data = data.append(stock_data, sort=True)\n",
        "\n",
        "    # Reset the index and return the final DataFrame\n",
        "    data.reset_index(inplace=True)\n",
        "    return data"
      ],
      "metadata": {
        "id": "EV1IPT73tThP"
      },
      "execution_count": 41,
      "outputs": []
    },
    {
      "cell_type": "markdown",
      "source": [
        "Fetching data and discovering insights"
      ],
      "metadata": {
        "id": "u1Jwl8D1tpmY"
      }
    },
    {
      "cell_type": "code",
      "source": [
        "stock_data = fetch_stock_data(tickers=[\"JPM\"], start=\"2010-01-01\", end=\"2023-3-27\")\n",
        "print(stock_data.head())"
      ],
      "metadata": {
        "colab": {
          "base_uri": "https://localhost:8080/"
        },
        "id": "L3Fsez3kt1gH",
        "outputId": "a8fe4f1d-1adf-485f-98fb-418bd38986cf"
      },
      "execution_count": 50,
      "outputs": [
        {
          "output_type": "stream",
          "name": "stdout",
          "text": [
            "\r[*********************100%***********************]  1 of 1 completed\n",
            "        Date  Adj Close      Close       High        Low       Open Ticker  \\\n",
            "0 2010-01-04  30.517252  42.849998  42.990002  41.669998  41.790001    JPM   \n",
            "1 2010-01-05  31.108358  43.680000  43.840000  42.779999  42.790001    JPM   \n",
            "2 2010-01-06  31.279287  43.919998  44.090000  43.310001  43.450001    JPM   \n",
            "3 2010-01-07  31.898897  44.790001  45.119999  43.610001  43.790001    JPM   \n",
            "4 2010-01-08  31.820559  44.680000  44.700001  44.080002  44.369999    JPM   \n",
            "\n",
            "     Volume  \n",
            "0  35460500  \n",
            "1  41208300  \n",
            "2  27729000  \n",
            "3  44864700  \n",
            "4  33110100  \n"
          ]
        },
        {
          "output_type": "stream",
          "name": "stderr",
          "text": [
            "<ipython-input-41-0c50d0032a1f>:21: FutureWarning: The frame.append method is deprecated and will be removed from pandas in a future version. Use pandas.concat instead.\n",
            "  data = data.append(stock_data, sort=True)\n"
          ]
        }
      ]
    },
    {
      "cell_type": "markdown",
      "source": [
        "Show data when JPM is at Min stock price: 28.38"
      ],
      "metadata": {
        "id": "dOggHpUY2mdi"
      }
    },
    {
      "cell_type": "code",
      "source": [
        "print(stock_data.loc[stock_data['Close'].idxmin()])"
      ],
      "metadata": {
        "colab": {
          "base_uri": "https://localhost:8080/"
        },
        "id": "dYM94oVn73Xo",
        "outputId": "0d4c987b-e4ae-48db-85bd-c81fd6c7366e"
      },
      "execution_count": 51,
      "outputs": [
        {
          "output_type": "stream",
          "name": "stdout",
          "text": [
            "Date         2011-11-23 00:00:00\n",
            "Adj Close              20.728109\n",
            "Close                  28.379999\n",
            "High                       29.15\n",
            "Low                        28.33\n",
            "Open                   29.110001\n",
            "Ticker                       JPM\n",
            "Volume                  44468500\n",
            "Name: 478, dtype: object\n"
          ]
        }
      ]
    },
    {
      "cell_type": "markdown",
      "source": [
        "Show data when JPM is at Max stock price: 171.78"
      ],
      "metadata": {
        "id": "7iUtF2bo7r3C"
      }
    },
    {
      "cell_type": "code",
      "source": [
        "print(stock_data.loc[stock_data['Close'].idxmax()])"
      ],
      "metadata": {
        "colab": {
          "base_uri": "https://localhost:8080/"
        },
        "id": "Da4h3dh_7aKD",
        "outputId": "232c5a2c-a842-40e6-8dca-af97c564b09b"
      },
      "execution_count": 52,
      "outputs": [
        {
          "output_type": "stream",
          "name": "stdout",
          "text": [
            "Date         2021-10-22 00:00:00\n",
            "Adj Close             165.302963\n",
            "Close                 171.779999\n",
            "High                  172.089996\n",
            "Low                   169.699997\n",
            "Open                  170.029999\n",
            "Ticker                       JPM\n",
            "Volume                   8817900\n",
            "Name: 2972, dtype: object\n"
          ]
        }
      ]
    },
    {
      "cell_type": "markdown",
      "source": [
        "Adding a Target Column: Decoding the Market’s Swings"
      ],
      "metadata": {
        "id": "K0n_jLj-uIfQ"
      }
    },
    {
      "cell_type": "code",
      "source": [
        "def add_target_column(data, target_col=\"Target\"):\n",
        "    \"\"\"\n",
        "    Adds a target column to the input DataFrame, indicating whether the previous day's closing price was up or down.\n",
        "\n",
        "    Parameters:\n",
        "    data (pd.DataFrame): The input DataFrame containing stock data.\n",
        "    target_col (str): The name of the target column to be added (default is \"Target\").\n",
        "\n",
        "    Returns:\n",
        "    data (pd.DataFrame): The DataFrame with the new target column added.\n",
        "    \"\"\"\n",
        "    \n",
        "    # Calculate the difference between consecutive closing prices\n",
        "    data[\"Price_Diff\"] = data[\"Close\"].diff()\n",
        "    \n",
        "    # Assign \"UP\" or \"DOWN\" based on the sign of the price difference\n",
        "    data[target_col] = data[\"Price_Diff\"].apply(lambda x: \"UP\" if x > 0 else \"DOWN\")\n",
        "    \n",
        "    # Drop the first row since it has no previous day to compare to, and the \"Price_Diff\" column\n",
        "    data = data.drop(0).drop(columns=[\"Price_Diff\"])\n",
        "    \n",
        "    return data"
      ],
      "metadata": {
        "id": "yPM3hFkbuQSB"
      },
      "execution_count": 53,
      "outputs": []
    },
    {
      "cell_type": "code",
      "source": [
        "stock_data_with_target = add_target_column(stock_data)\n",
        "print(stock_data_with_target.head())"
      ],
      "metadata": {
        "colab": {
          "base_uri": "https://localhost:8080/"
        },
        "id": "3NBPoMRvuXNI",
        "outputId": "dc7478dd-6ba2-4de7-baa3-2ebe87feea39"
      },
      "execution_count": 54,
      "outputs": [
        {
          "output_type": "stream",
          "name": "stdout",
          "text": [
            "        Date  Adj Close      Close       High        Low       Open Ticker  \\\n",
            "1 2010-01-05  31.108358  43.680000  43.840000  42.779999  42.790001    JPM   \n",
            "2 2010-01-06  31.279287  43.919998  44.090000  43.310001  43.450001    JPM   \n",
            "3 2010-01-07  31.898897  44.790001  45.119999  43.610001  43.790001    JPM   \n",
            "4 2010-01-08  31.820559  44.680000  44.700001  44.080002  44.369999    JPM   \n",
            "5 2010-01-11  31.713709  44.529999  45.189999  44.310001  45.119999    JPM   \n",
            "\n",
            "     Volume Target  \n",
            "1  41208300     UP  \n",
            "2  27729000     UP  \n",
            "3  44864700     UP  \n",
            "4  33110100   DOWN  \n",
            "5  31878700   DOWN  \n"
          ]
        }
      ]
    },
    {
      "cell_type": "code",
      "source": [
        "stock_data_with_target.head()"
      ],
      "metadata": {
        "colab": {
          "base_uri": "https://localhost:8080/",
          "height": 206
        },
        "id": "sGNpzdjMwzW3",
        "outputId": "00453ae2-cb1f-48e0-ddd2-0e9ea6e190d5"
      },
      "execution_count": 55,
      "outputs": [
        {
          "output_type": "execute_result",
          "data": {
            "text/plain": [
              "        Date  Adj Close      Close       High        Low       Open Ticker  \\\n",
              "1 2010-01-05  31.108358  43.680000  43.840000  42.779999  42.790001    JPM   \n",
              "2 2010-01-06  31.279287  43.919998  44.090000  43.310001  43.450001    JPM   \n",
              "3 2010-01-07  31.898897  44.790001  45.119999  43.610001  43.790001    JPM   \n",
              "4 2010-01-08  31.820559  44.680000  44.700001  44.080002  44.369999    JPM   \n",
              "5 2010-01-11  31.713709  44.529999  45.189999  44.310001  45.119999    JPM   \n",
              "\n",
              "     Volume Target  \n",
              "1  41208300     UP  \n",
              "2  27729000     UP  \n",
              "3  44864700     UP  \n",
              "4  33110100   DOWN  \n",
              "5  31878700   DOWN  "
            ],
            "text/html": [
              "\n",
              "  <div id=\"df-e052553e-7f69-4504-a019-2fe05c7d06c7\">\n",
              "    <div class=\"colab-df-container\">\n",
              "      <div>\n",
              "<style scoped>\n",
              "    .dataframe tbody tr th:only-of-type {\n",
              "        vertical-align: middle;\n",
              "    }\n",
              "\n",
              "    .dataframe tbody tr th {\n",
              "        vertical-align: top;\n",
              "    }\n",
              "\n",
              "    .dataframe thead th {\n",
              "        text-align: right;\n",
              "    }\n",
              "</style>\n",
              "<table border=\"1\" class=\"dataframe\">\n",
              "  <thead>\n",
              "    <tr style=\"text-align: right;\">\n",
              "      <th></th>\n",
              "      <th>Date</th>\n",
              "      <th>Adj Close</th>\n",
              "      <th>Close</th>\n",
              "      <th>High</th>\n",
              "      <th>Low</th>\n",
              "      <th>Open</th>\n",
              "      <th>Ticker</th>\n",
              "      <th>Volume</th>\n",
              "      <th>Target</th>\n",
              "    </tr>\n",
              "  </thead>\n",
              "  <tbody>\n",
              "    <tr>\n",
              "      <th>1</th>\n",
              "      <td>2010-01-05</td>\n",
              "      <td>31.108358</td>\n",
              "      <td>43.680000</td>\n",
              "      <td>43.840000</td>\n",
              "      <td>42.779999</td>\n",
              "      <td>42.790001</td>\n",
              "      <td>JPM</td>\n",
              "      <td>41208300</td>\n",
              "      <td>UP</td>\n",
              "    </tr>\n",
              "    <tr>\n",
              "      <th>2</th>\n",
              "      <td>2010-01-06</td>\n",
              "      <td>31.279287</td>\n",
              "      <td>43.919998</td>\n",
              "      <td>44.090000</td>\n",
              "      <td>43.310001</td>\n",
              "      <td>43.450001</td>\n",
              "      <td>JPM</td>\n",
              "      <td>27729000</td>\n",
              "      <td>UP</td>\n",
              "    </tr>\n",
              "    <tr>\n",
              "      <th>3</th>\n",
              "      <td>2010-01-07</td>\n",
              "      <td>31.898897</td>\n",
              "      <td>44.790001</td>\n",
              "      <td>45.119999</td>\n",
              "      <td>43.610001</td>\n",
              "      <td>43.790001</td>\n",
              "      <td>JPM</td>\n",
              "      <td>44864700</td>\n",
              "      <td>UP</td>\n",
              "    </tr>\n",
              "    <tr>\n",
              "      <th>4</th>\n",
              "      <td>2010-01-08</td>\n",
              "      <td>31.820559</td>\n",
              "      <td>44.680000</td>\n",
              "      <td>44.700001</td>\n",
              "      <td>44.080002</td>\n",
              "      <td>44.369999</td>\n",
              "      <td>JPM</td>\n",
              "      <td>33110100</td>\n",
              "      <td>DOWN</td>\n",
              "    </tr>\n",
              "    <tr>\n",
              "      <th>5</th>\n",
              "      <td>2010-01-11</td>\n",
              "      <td>31.713709</td>\n",
              "      <td>44.529999</td>\n",
              "      <td>45.189999</td>\n",
              "      <td>44.310001</td>\n",
              "      <td>45.119999</td>\n",
              "      <td>JPM</td>\n",
              "      <td>31878700</td>\n",
              "      <td>DOWN</td>\n",
              "    </tr>\n",
              "  </tbody>\n",
              "</table>\n",
              "</div>\n",
              "      <button class=\"colab-df-convert\" onclick=\"convertToInteractive('df-e052553e-7f69-4504-a019-2fe05c7d06c7')\"\n",
              "              title=\"Convert this dataframe to an interactive table.\"\n",
              "              style=\"display:none;\">\n",
              "        \n",
              "  <svg xmlns=\"http://www.w3.org/2000/svg\" height=\"24px\"viewBox=\"0 0 24 24\"\n",
              "       width=\"24px\">\n",
              "    <path d=\"M0 0h24v24H0V0z\" fill=\"none\"/>\n",
              "    <path d=\"M18.56 5.44l.94 2.06.94-2.06 2.06-.94-2.06-.94-.94-2.06-.94 2.06-2.06.94zm-11 1L8.5 8.5l.94-2.06 2.06-.94-2.06-.94L8.5 2.5l-.94 2.06-2.06.94zm10 10l.94 2.06.94-2.06 2.06-.94-2.06-.94-.94-2.06-.94 2.06-2.06.94z\"/><path d=\"M17.41 7.96l-1.37-1.37c-.4-.4-.92-.59-1.43-.59-.52 0-1.04.2-1.43.59L10.3 9.45l-7.72 7.72c-.78.78-.78 2.05 0 2.83L4 21.41c.39.39.9.59 1.41.59.51 0 1.02-.2 1.41-.59l7.78-7.78 2.81-2.81c.8-.78.8-2.07 0-2.86zM5.41 20L4 18.59l7.72-7.72 1.47 1.35L5.41 20z\"/>\n",
              "  </svg>\n",
              "      </button>\n",
              "      \n",
              "  <style>\n",
              "    .colab-df-container {\n",
              "      display:flex;\n",
              "      flex-wrap:wrap;\n",
              "      gap: 12px;\n",
              "    }\n",
              "\n",
              "    .colab-df-convert {\n",
              "      background-color: #E8F0FE;\n",
              "      border: none;\n",
              "      border-radius: 50%;\n",
              "      cursor: pointer;\n",
              "      display: none;\n",
              "      fill: #1967D2;\n",
              "      height: 32px;\n",
              "      padding: 0 0 0 0;\n",
              "      width: 32px;\n",
              "    }\n",
              "\n",
              "    .colab-df-convert:hover {\n",
              "      background-color: #E2EBFA;\n",
              "      box-shadow: 0px 1px 2px rgba(60, 64, 67, 0.3), 0px 1px 3px 1px rgba(60, 64, 67, 0.15);\n",
              "      fill: #174EA6;\n",
              "    }\n",
              "\n",
              "    [theme=dark] .colab-df-convert {\n",
              "      background-color: #3B4455;\n",
              "      fill: #D2E3FC;\n",
              "    }\n",
              "\n",
              "    [theme=dark] .colab-df-convert:hover {\n",
              "      background-color: #434B5C;\n",
              "      box-shadow: 0px 1px 3px 1px rgba(0, 0, 0, 0.15);\n",
              "      filter: drop-shadow(0px 1px 2px rgba(0, 0, 0, 0.3));\n",
              "      fill: #FFFFFF;\n",
              "    }\n",
              "  </style>\n",
              "\n",
              "      <script>\n",
              "        const buttonEl =\n",
              "          document.querySelector('#df-e052553e-7f69-4504-a019-2fe05c7d06c7 button.colab-df-convert');\n",
              "        buttonEl.style.display =\n",
              "          google.colab.kernel.accessAllowed ? 'block' : 'none';\n",
              "\n",
              "        async function convertToInteractive(key) {\n",
              "          const element = document.querySelector('#df-e052553e-7f69-4504-a019-2fe05c7d06c7');\n",
              "          const dataTable =\n",
              "            await google.colab.kernel.invokeFunction('convertToInteractive',\n",
              "                                                     [key], {});\n",
              "          if (!dataTable) return;\n",
              "\n",
              "          const docLinkHtml = 'Like what you see? Visit the ' +\n",
              "            '<a target=\"_blank\" href=https://colab.research.google.com/notebooks/data_table.ipynb>data table notebook</a>'\n",
              "            + ' to learn more about interactive tables.';\n",
              "          element.innerHTML = '';\n",
              "          dataTable['output_type'] = 'display_data';\n",
              "          await google.colab.output.renderOutput(dataTable, element);\n",
              "          const docLink = document.createElement('div');\n",
              "          docLink.innerHTML = docLinkHtml;\n",
              "          element.appendChild(docLink);\n",
              "        }\n",
              "      </script>\n",
              "    </div>\n",
              "  </div>\n",
              "  "
            ]
          },
          "metadata": {},
          "execution_count": 55
        }
      ]
    },
    {
      "cell_type": "code",
      "source": [
        "stock_data_with_target.Target.value_counts()"
      ],
      "metadata": {
        "colab": {
          "base_uri": "https://localhost:8080/"
        },
        "id": "QPylja3xxhyf",
        "outputId": "a203f31a-5033-4469-ddd4-86e22590a46c"
      },
      "execution_count": 56,
      "outputs": [
        {
          "output_type": "execute_result",
          "data": {
            "text/plain": [
              "UP      1682\n",
              "DOWN    1646\n",
              "Name: Target, dtype: int64"
            ]
          },
          "metadata": {},
          "execution_count": 56
        }
      ]
    },
    {
      "cell_type": "markdown",
      "source": [
        "JPM stock UP: 50.5%\n",
        "\n",
        "JPM stock Down: 49.4%"
      ],
      "metadata": {
        "id": "c04HZjPvxnnZ"
      }
    },
    {
      "cell_type": "code",
      "source": [
        "stock_data_with_target.Target.value_counts(\"normalize\")"
      ],
      "metadata": {
        "colab": {
          "base_uri": "https://localhost:8080/"
        },
        "id": "LwDuXC7mxVh4",
        "outputId": "6f510c3a-f29f-4411-b2f3-50cdcfaf72b8"
      },
      "execution_count": 57,
      "outputs": [
        {
          "output_type": "execute_result",
          "data": {
            "text/plain": [
              "UP      0.505409\n",
              "DOWN    0.494591\n",
              "Name: Target, dtype: float64"
            ]
          },
          "metadata": {},
          "execution_count": 57
        }
      ]
    },
    {
      "cell_type": "markdown",
      "source": [
        "Encoding and Preprocessing: Gearing Up for Machine Learning"
      ],
      "metadata": {
        "id": "24YAUYGp1QTD"
      }
    },
    {
      "cell_type": "code",
      "source": [
        "from sklearn.preprocessing import LabelEncoder, StandardScaler"
      ],
      "metadata": {
        "id": "xfw0__nt1TNo"
      },
      "execution_count": 58,
      "outputs": []
    },
    {
      "cell_type": "code",
      "source": [
        "def encode_and_preprocess(data, categorical_cols=None, numerical_cols=None, target_col=\"Target\"):\n",
        "    \"\"\"\n",
        "    Encodes categorical variables and standardizes/normalizes numerical variables in the input DataFrame.\n",
        "\n",
        "    Parameters:\n",
        "    data (pd.DataFrame): The input DataFrame containing stock data.\n",
        "    categorical_cols (list): A list of categorical column names to be encoded (default is None).\n",
        "    numerical_cols (list): A list of numerical column names to be standardized/normalized (default is None).\n",
        "    target_col (str): The name of the target column (default is \"Target\").\n",
        "\n",
        "    Returns:\n",
        "    data (pd.DataFrame): The preprocessed DataFrame.\n",
        "    \"\"\"\n",
        "    \n",
        "    # Make a copy of the input DataFrame to avoid modifying the original data\n",
        "    data = data.copy()\n",
        "    \n",
        "    # Encode categorical columns\n",
        "    if categorical_cols:\n",
        "        le = LabelEncoder()\n",
        "        for col in categorical_cols:\n",
        "            data[col] = le.fit_transform(data[col])\n",
        "    \n",
        "    # Standardize/normalize numerical columns\n",
        "    if numerical_cols:\n",
        "        scaler = StandardScaler()\n",
        "        data[numerical_cols] = scaler.fit_transform(data[numerical_cols])\n",
        "    \n",
        "    # Ensure the target column is the last column in the DataFrame\n",
        "    data = data[[col for col in data.columns if col != target_col] + [target_col]]\n",
        "    \n",
        "    return data"
      ],
      "metadata": {
        "id": "iIWrxdRQ1gcJ"
      },
      "execution_count": 59,
      "outputs": []
    },
    {
      "cell_type": "code",
      "source": [
        "preprocessed_data = encode_and_preprocess(stock_data_with_target, categorical_cols=[\"Ticker\"], numerical_cols=[\"Open\", \"High\", \"Low\", \"Close\", \"Adj Close\", \"Volume\"])\n",
        "print(preprocessed_data.head())"
      ],
      "metadata": {
        "colab": {
          "base_uri": "https://localhost:8080/"
        },
        "id": "QwGzWRvC1oc5",
        "outputId": "ea871b59-0770-4a46-d815-84b9232b5396"
      },
      "execution_count": 60,
      "outputs": [
        {
          "output_type": "stream",
          "name": "stdout",
          "text": [
            "        Date  Adj Close     Close      High       Low      Open  Ticker  \\\n",
            "1 2010-01-05  -1.045125 -1.032403 -1.039541 -1.044060 -1.055611       0   \n",
            "2 2010-01-06  -1.040806 -1.026088 -1.033023 -1.029988 -1.038248       0   \n",
            "3 2010-01-07  -1.025149 -1.003196 -1.006173 -1.022023 -1.029303       0   \n",
            "4 2010-01-08  -1.027128 -1.006090 -1.017121 -1.009544 -1.014045       0   \n",
            "5 2010-01-11  -1.029828 -1.010037 -1.004348 -1.003438 -0.994314       0   \n",
            "\n",
            "     Volume Target  \n",
            "1  1.479616     UP  \n",
            "2  0.512753     UP  \n",
            "3  1.741887     UP  \n",
            "4  0.898736   DOWN  \n",
            "5  0.810408   DOWN  \n"
          ]
        }
      ]
    },
    {
      "cell_type": "markdown",
      "source": [
        "Algorithm Harness: evaluate_classifiers\n"
      ],
      "metadata": {
        "id": "-9k3vL6N1-dh"
      }
    },
    {
      "cell_type": "code",
      "source": [
        "import time\n",
        "import numpy as np\n",
        "from sklearn.model_selection import train_test_split, cross_val_score\n",
        "from sklearn.metrics import roc_auc_score, accuracy_score, precision_score, recall_score, f1_score\n",
        "from sklearn.linear_model import LogisticRegression\n",
        "from sklearn.tree import DecisionTreeClassifier\n",
        "from sklearn.ensemble import RandomForestClassifier\n",
        "from sklearn.svm import SVC\n",
        "from sklearn.neighbors import KNeighborsClassifier\n",
        "from xgboost import XGBClassifier\n",
        "from lightgbm import LGBMClassifier"
      ],
      "metadata": {
        "id": "f-mGo5452QE4"
      },
      "execution_count": 61,
      "outputs": []
    },
    {
      "cell_type": "code",
      "source": [
        "from sklearn.preprocessing import LabelEncoder\n",
        "\n",
        "def evaluate_classifiers(data, target_col=\"Target\", test_size=0.2, random_state=42, exclude_columns=None):\n",
        "    \"\"\"\n",
        "    Trains and evaluates various classifiers on the input DataFrame, displaying performance metrics and training time.\n",
        "\n",
        "    Parameters:\n",
        "    data (pd.DataFrame): The preprocessed DataFrame containing stock data.\n",
        "    target_col (str): The name of the target column (default is \"Target\").\n",
        "    test_size (float): The proportion of the dataset to include in the test split (default is 0.2).\n",
        "    random_state (int): A random seed for reproducibility (default is 42).\n",
        "    exclude_columns (list): A list of column names to be excluded from the features (default is None).\n",
        "\n",
        "    Returns:\n",
        "    performance_table (pd.DataFrame): A DataFrame displaying each algorithm's name, training time, and performance metrics.\n",
        "    \"\"\"\n",
        "\n",
        "    # Exclude the specified columns from the features, if provided\n",
        "    if exclude_columns:\n",
        "        feature_columns = [col for col in data.columns if col not in exclude_columns + [target_col]]\n",
        "    else:\n",
        "        feature_columns = [col for col in data.columns if col != target_col]\n",
        "\n",
        "    # Split the data into training and testing sets\n",
        "    X = data[feature_columns]\n",
        "    y = data[target_col]\n",
        "    X_train, X_test, y_train, y_test = train_test_split(X, y, test_size=test_size, random_state=random_state)\n",
        "\n",
        "    # Encode the target column\n",
        "    le = LabelEncoder()\n",
        "    y_train = le.fit_transform(y_train)\n",
        "    y_test = le.transform(y_test)\n",
        "\n",
        "    # Define the classifiers to be evaluated\n",
        "    classifiers = [\n",
        "        (\"Logistic Regression\", LogisticRegression(random_state=random_state)),\n",
        "        (\"Decision Tree\", DecisionTreeClassifier(random_state=random_state)),\n",
        "        (\"Random Forest\", RandomForestClassifier(random_state=random_state)),\n",
        "        (\"Support Vector Machine\", SVC(random_state=random_state, probability=True)),\n",
        "        (\"K-Nearest Neighbors\", KNeighborsClassifier()),\n",
        "        (\"XGBoost\", XGBClassifier(random_state=random_state)),\n",
        "        (\"LightGBM\", LGBMClassifier(random_state=random_state)),\n",
        "    ]\n",
        "\n",
        "    # Evaluate each classifier and store the results in a list\n",
        "    results = []\n",
        "    for name, classifier in classifiers:\n",
        "        start_time = time.time()\n",
        "        classifier.fit(X_train, y_train)\n",
        "        end_time = time.time()\n",
        "\n",
        "        # Compute the performance metrics\n",
        "        y_pred = classifier.predict(X_test)\n",
        "        y_proba = classifier.predict_proba(X_test)[:, 1]\n",
        "        accuracy = accuracy_score(y_test, y_pred)\n",
        "        precision = precision_score(y_test, y_pred)\n",
        "        recall = recall_score(y_test, y_pred)\n",
        "        f1 = f1_score(y_test, y_pred)\n",
        "        roc_auc = roc_auc_score(y_test, y_proba)\n",
        "\n",
        "        results.append([name, end_time - start_time, accuracy, precision, recall, f1, roc_auc])\n",
        "    # Create a DataFrame from the results and sort it by the best AUC/ROC score\n",
        "    performance_table = pd.DataFrame(results, columns=[\"Classifier\", \"Training Time\", \"Accuracy\", \"Precision\", \"Recall\", \"F1 Score\", \"ROC AUC\"])\n",
        "    performance_table = performance_table.sort_values(by=\"ROC AUC\", ascending=False).reset_index(drop=True)\n",
        "\n",
        "    return performance_table\n"
      ],
      "metadata": {
        "id": "2Xgj6wWC9mGL"
      },
      "execution_count": 62,
      "outputs": []
    },
    {
      "cell_type": "code",
      "source": [
        "performance_table = evaluate_classifiers(preprocessed_data, exclude_columns=[\"Date\"])\n",
        "performance_table"
      ],
      "metadata": {
        "colab": {
          "base_uri": "https://localhost:8080/",
          "height": 269
        },
        "id": "gSp1Lore2BhC",
        "outputId": "d8da0304-6513-4204-a774-fd65099413eb"
      },
      "execution_count": 64,
      "outputs": [
        {
          "output_type": "execute_result",
          "data": {
            "text/plain": [
              "               Classifier  Training Time  Accuracy  Precision    Recall  \\\n",
              "0     Logistic Regression       0.019745  0.761261   0.725248  0.859238   \n",
              "1                 XGBoost       0.386345  0.693694   0.694051  0.718475   \n",
              "2                LightGBM       0.117631  0.699700   0.703170  0.715543   \n",
              "3           Random Forest       1.017904  0.647147   0.652299  0.665689   \n",
              "4           Decision Tree       0.058506  0.648649   0.655072  0.662757   \n",
              "5  Support Vector Machine       2.941879  0.560060   0.555300  0.706745   \n",
              "6     K-Nearest Neighbors       0.004466  0.531532   0.543544  0.530792   \n",
              "\n",
              "   F1 Score   ROC AUC  \n",
              "0  0.786577  0.855556  \n",
              "1  0.706052  0.781719  \n",
              "2  0.709302  0.770589  \n",
              "3  0.658926  0.720388  \n",
              "4  0.658892  0.648301  \n",
              "5  0.621935  0.565757  \n",
              "6  0.537092  0.554730  "
            ],
            "text/html": [
              "\n",
              "  <div id=\"df-522974e5-c2b5-47f3-b27c-774f76aabc0d\">\n",
              "    <div class=\"colab-df-container\">\n",
              "      <div>\n",
              "<style scoped>\n",
              "    .dataframe tbody tr th:only-of-type {\n",
              "        vertical-align: middle;\n",
              "    }\n",
              "\n",
              "    .dataframe tbody tr th {\n",
              "        vertical-align: top;\n",
              "    }\n",
              "\n",
              "    .dataframe thead th {\n",
              "        text-align: right;\n",
              "    }\n",
              "</style>\n",
              "<table border=\"1\" class=\"dataframe\">\n",
              "  <thead>\n",
              "    <tr style=\"text-align: right;\">\n",
              "      <th></th>\n",
              "      <th>Classifier</th>\n",
              "      <th>Training Time</th>\n",
              "      <th>Accuracy</th>\n",
              "      <th>Precision</th>\n",
              "      <th>Recall</th>\n",
              "      <th>F1 Score</th>\n",
              "      <th>ROC AUC</th>\n",
              "    </tr>\n",
              "  </thead>\n",
              "  <tbody>\n",
              "    <tr>\n",
              "      <th>0</th>\n",
              "      <td>Logistic Regression</td>\n",
              "      <td>0.019745</td>\n",
              "      <td>0.761261</td>\n",
              "      <td>0.725248</td>\n",
              "      <td>0.859238</td>\n",
              "      <td>0.786577</td>\n",
              "      <td>0.855556</td>\n",
              "    </tr>\n",
              "    <tr>\n",
              "      <th>1</th>\n",
              "      <td>XGBoost</td>\n",
              "      <td>0.386345</td>\n",
              "      <td>0.693694</td>\n",
              "      <td>0.694051</td>\n",
              "      <td>0.718475</td>\n",
              "      <td>0.706052</td>\n",
              "      <td>0.781719</td>\n",
              "    </tr>\n",
              "    <tr>\n",
              "      <th>2</th>\n",
              "      <td>LightGBM</td>\n",
              "      <td>0.117631</td>\n",
              "      <td>0.699700</td>\n",
              "      <td>0.703170</td>\n",
              "      <td>0.715543</td>\n",
              "      <td>0.709302</td>\n",
              "      <td>0.770589</td>\n",
              "    </tr>\n",
              "    <tr>\n",
              "      <th>3</th>\n",
              "      <td>Random Forest</td>\n",
              "      <td>1.017904</td>\n",
              "      <td>0.647147</td>\n",
              "      <td>0.652299</td>\n",
              "      <td>0.665689</td>\n",
              "      <td>0.658926</td>\n",
              "      <td>0.720388</td>\n",
              "    </tr>\n",
              "    <tr>\n",
              "      <th>4</th>\n",
              "      <td>Decision Tree</td>\n",
              "      <td>0.058506</td>\n",
              "      <td>0.648649</td>\n",
              "      <td>0.655072</td>\n",
              "      <td>0.662757</td>\n",
              "      <td>0.658892</td>\n",
              "      <td>0.648301</td>\n",
              "    </tr>\n",
              "    <tr>\n",
              "      <th>5</th>\n",
              "      <td>Support Vector Machine</td>\n",
              "      <td>2.941879</td>\n",
              "      <td>0.560060</td>\n",
              "      <td>0.555300</td>\n",
              "      <td>0.706745</td>\n",
              "      <td>0.621935</td>\n",
              "      <td>0.565757</td>\n",
              "    </tr>\n",
              "    <tr>\n",
              "      <th>6</th>\n",
              "      <td>K-Nearest Neighbors</td>\n",
              "      <td>0.004466</td>\n",
              "      <td>0.531532</td>\n",
              "      <td>0.543544</td>\n",
              "      <td>0.530792</td>\n",
              "      <td>0.537092</td>\n",
              "      <td>0.554730</td>\n",
              "    </tr>\n",
              "  </tbody>\n",
              "</table>\n",
              "</div>\n",
              "      <button class=\"colab-df-convert\" onclick=\"convertToInteractive('df-522974e5-c2b5-47f3-b27c-774f76aabc0d')\"\n",
              "              title=\"Convert this dataframe to an interactive table.\"\n",
              "              style=\"display:none;\">\n",
              "        \n",
              "  <svg xmlns=\"http://www.w3.org/2000/svg\" height=\"24px\"viewBox=\"0 0 24 24\"\n",
              "       width=\"24px\">\n",
              "    <path d=\"M0 0h24v24H0V0z\" fill=\"none\"/>\n",
              "    <path d=\"M18.56 5.44l.94 2.06.94-2.06 2.06-.94-2.06-.94-.94-2.06-.94 2.06-2.06.94zm-11 1L8.5 8.5l.94-2.06 2.06-.94-2.06-.94L8.5 2.5l-.94 2.06-2.06.94zm10 10l.94 2.06.94-2.06 2.06-.94-2.06-.94-.94-2.06-.94 2.06-2.06.94z\"/><path d=\"M17.41 7.96l-1.37-1.37c-.4-.4-.92-.59-1.43-.59-.52 0-1.04.2-1.43.59L10.3 9.45l-7.72 7.72c-.78.78-.78 2.05 0 2.83L4 21.41c.39.39.9.59 1.41.59.51 0 1.02-.2 1.41-.59l7.78-7.78 2.81-2.81c.8-.78.8-2.07 0-2.86zM5.41 20L4 18.59l7.72-7.72 1.47 1.35L5.41 20z\"/>\n",
              "  </svg>\n",
              "      </button>\n",
              "      \n",
              "  <style>\n",
              "    .colab-df-container {\n",
              "      display:flex;\n",
              "      flex-wrap:wrap;\n",
              "      gap: 12px;\n",
              "    }\n",
              "\n",
              "    .colab-df-convert {\n",
              "      background-color: #E8F0FE;\n",
              "      border: none;\n",
              "      border-radius: 50%;\n",
              "      cursor: pointer;\n",
              "      display: none;\n",
              "      fill: #1967D2;\n",
              "      height: 32px;\n",
              "      padding: 0 0 0 0;\n",
              "      width: 32px;\n",
              "    }\n",
              "\n",
              "    .colab-df-convert:hover {\n",
              "      background-color: #E2EBFA;\n",
              "      box-shadow: 0px 1px 2px rgba(60, 64, 67, 0.3), 0px 1px 3px 1px rgba(60, 64, 67, 0.15);\n",
              "      fill: #174EA6;\n",
              "    }\n",
              "\n",
              "    [theme=dark] .colab-df-convert {\n",
              "      background-color: #3B4455;\n",
              "      fill: #D2E3FC;\n",
              "    }\n",
              "\n",
              "    [theme=dark] .colab-df-convert:hover {\n",
              "      background-color: #434B5C;\n",
              "      box-shadow: 0px 1px 3px 1px rgba(0, 0, 0, 0.15);\n",
              "      filter: drop-shadow(0px 1px 2px rgba(0, 0, 0, 0.3));\n",
              "      fill: #FFFFFF;\n",
              "    }\n",
              "  </style>\n",
              "\n",
              "      <script>\n",
              "        const buttonEl =\n",
              "          document.querySelector('#df-522974e5-c2b5-47f3-b27c-774f76aabc0d button.colab-df-convert');\n",
              "        buttonEl.style.display =\n",
              "          google.colab.kernel.accessAllowed ? 'block' : 'none';\n",
              "\n",
              "        async function convertToInteractive(key) {\n",
              "          const element = document.querySelector('#df-522974e5-c2b5-47f3-b27c-774f76aabc0d');\n",
              "          const dataTable =\n",
              "            await google.colab.kernel.invokeFunction('convertToInteractive',\n",
              "                                                     [key], {});\n",
              "          if (!dataTable) return;\n",
              "\n",
              "          const docLinkHtml = 'Like what you see? Visit the ' +\n",
              "            '<a target=\"_blank\" href=https://colab.research.google.com/notebooks/data_table.ipynb>data table notebook</a>'\n",
              "            + ' to learn more about interactive tables.';\n",
              "          element.innerHTML = '';\n",
              "          dataTable['output_type'] = 'display_data';\n",
              "          await google.colab.output.renderOutput(dataTable, element);\n",
              "          const docLink = document.createElement('div');\n",
              "          docLink.innerHTML = docLinkHtml;\n",
              "          element.appendChild(docLink);\n",
              "        }\n",
              "      </script>\n",
              "    </div>\n",
              "  </div>\n",
              "  "
            ]
          },
          "metadata": {},
          "execution_count": 64
        }
      ]
    }
  ]
}