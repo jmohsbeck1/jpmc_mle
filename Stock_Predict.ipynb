{
  "nbformat": 4,
  "nbformat_minor": 0,
  "metadata": {
    "colab": {
      "provenance": [],
      "authorship_tag": "ABX9TyNjyw7L5B4WTSSMDgg37OVb",
      "include_colab_link": true
    },
    "kernelspec": {
      "name": "python3",
      "display_name": "Python 3"
    },
    "language_info": {
      "name": "python"
    }
  },
  "cells": [
    {
      "cell_type": "markdown",
      "metadata": {
        "id": "view-in-github",
        "colab_type": "text"
      },
      "source": [
        "<a href=\"https://colab.research.google.com/github/jmohsbeck1/jpmc_mle/blob/Mar.-29/Stock_Predict.ipynb\" target=\"_parent\"><img src=\"https://colab.research.google.com/assets/colab-badge.svg\" alt=\"Open In Colab\"/></a>"
      ]
    },
    {
      "cell_type": "code",
      "execution_count": 1,
      "metadata": {
        "id": "vpyYdBfZszu7"
      },
      "outputs": [],
      "source": [
        "# John Mohsbeck\n",
        "# Stock Predictor\n",
        "# Source Dr. Lee stock predictor\n",
        "\n",
        "# Import libraries\n",
        "import yfinance as yf\n",
        "import pandas as pd"
      ]
    },
    {
      "cell_type": "code",
      "source": [
        "# Fetch JPM stock data function\n",
        "\n",
        "def fetch_stock_data(tickers=[\"JPM\"], start=\"2000-01-01\", end=\"2021-12-31\"):\n",
        "    \"\"\"\n",
        "    Fetches stock data for the specified tickers and time period using the yfinance library.\n",
        "\n",
        "    Parameters:\n",
        "    tickers (list): A list of stock tickers (default is [\"JPM\"]).\n",
        "    start (str): The start date for fetching data in the format YYYY-MM-DD (default is \"2000-01-01\").\n",
        "    end (str): The end date for fetching data in the format YYYY-MM-DD (default is \"2021-12-31\").\n",
        "\n",
        "    Returns:\n",
        "    data (pd.DataFrame): A pandas DataFrame containing the fetched stock data.\n",
        "    \"\"\"\n",
        "    \n",
        "    # Combine data for all tickers into a single DataFrame\n",
        "    data = pd.DataFrame()\n",
        "    for ticker in tickers:\n",
        "        stock_data = yf.download(ticker, start=start, end=end)\n",
        "        stock_data[\"Ticker\"] = ticker\n",
        "        data = data.append(stock_data, sort=True)\n",
        "\n",
        "    # Reset the index and return the final DataFrame\n",
        "    data.reset_index(inplace=True)\n",
        "    return data"
      ],
      "metadata": {
        "id": "EV1IPT73tThP"
      },
      "execution_count": 2,
      "outputs": []
    },
    {
      "cell_type": "markdown",
      "source": [
        "Fetching data and discovering insights"
      ],
      "metadata": {
        "id": "u1Jwl8D1tpmY"
      }
    },
    {
      "cell_type": "code",
      "source": [
        "stock_data = fetch_stock_data(tickers=[\"JPM\"], start=\"2010-01-01\", end=\"2023-3-27\")\n",
        "print(stock_data.head())"
      ],
      "metadata": {
        "colab": {
          "base_uri": "https://localhost:8080/"
        },
        "id": "L3Fsez3kt1gH",
        "outputId": "63104d0e-416d-4b91-e5dd-f2493e419c47"
      },
      "execution_count": 3,
      "outputs": [
        {
          "output_type": "stream",
          "name": "stdout",
          "text": [
            "\r[*********************100%***********************]  1 of 1 completed\n",
            "        Date  Adj Close      Close       High        Low       Open Ticker  \\\n",
            "0 2010-01-04  30.517244  42.849998  42.990002  41.669998  41.790001    JPM   \n",
            "1 2010-01-05  31.108356  43.680000  43.840000  42.779999  42.790001    JPM   \n",
            "2 2010-01-06  31.279291  43.919998  44.090000  43.310001  43.450001    JPM   \n",
            "3 2010-01-07  31.898878  44.790001  45.119999  43.610001  43.790001    JPM   \n",
            "4 2010-01-08  31.820543  44.680000  44.700001  44.080002  44.369999    JPM   \n",
            "\n",
            "     Volume  \n",
            "0  35460500  \n",
            "1  41208300  \n",
            "2  27729000  \n",
            "3  44864700  \n",
            "4  33110100  \n"
          ]
        },
        {
          "output_type": "stream",
          "name": "stderr",
          "text": [
            "<ipython-input-2-0c50d0032a1f>:21: FutureWarning: The frame.append method is deprecated and will be removed from pandas in a future version. Use pandas.concat instead.\n",
            "  data = data.append(stock_data, sort=True)\n"
          ]
        }
      ]
    },
    {
      "cell_type": "markdown",
      "source": [
        "Adding a Target Column: Decoding the Market’s Swings"
      ],
      "metadata": {
        "id": "K0n_jLj-uIfQ"
      }
    },
    {
      "cell_type": "code",
      "source": [
        "def add_target_column(data, target_col=\"Target\"):\n",
        "    \"\"\"\n",
        "    Adds a target column to the input DataFrame, indicating whether the previous day's closing price was up or down.\n",
        "\n",
        "    Parameters:\n",
        "    data (pd.DataFrame): The input DataFrame containing stock data.\n",
        "    target_col (str): The name of the target column to be added (default is \"Target\").\n",
        "\n",
        "    Returns:\n",
        "    data (pd.DataFrame): The DataFrame with the new target column added.\n",
        "    \"\"\"\n",
        "    \n",
        "    # Calculate the difference between consecutive closing prices\n",
        "    data[\"Price_Diff\"] = data[\"Close\"].diff()\n",
        "    \n",
        "    # Assign \"UP\" or \"DOWN\" based on the sign of the price difference\n",
        "    data[target_col] = data[\"Price_Diff\"].apply(lambda x: \"UP\" if x > 0 else \"DOWN\")\n",
        "    \n",
        "    # Drop the first row since it has no previous day to compare to, and the \"Price_Diff\" column\n",
        "    data = data.drop(0).drop(columns=[\"Price_Diff\"])\n",
        "    \n",
        "    return data"
      ],
      "metadata": {
        "id": "yPM3hFkbuQSB"
      },
      "execution_count": 4,
      "outputs": []
    },
    {
      "cell_type": "code",
      "source": [
        "stock_data_with_target = add_target_column(stock_data)\n",
        "print(stock_data_with_target.head())"
      ],
      "metadata": {
        "colab": {
          "base_uri": "https://localhost:8080/"
        },
        "id": "3NBPoMRvuXNI",
        "outputId": "7721f1a9-71bb-4b31-9f93-22111feadec8"
      },
      "execution_count": 5,
      "outputs": [
        {
          "output_type": "stream",
          "name": "stdout",
          "text": [
            "        Date  Adj Close      Close       High        Low       Open Ticker  \\\n",
            "1 2010-01-05  31.108356  43.680000  43.840000  42.779999  42.790001    JPM   \n",
            "2 2010-01-06  31.279291  43.919998  44.090000  43.310001  43.450001    JPM   \n",
            "3 2010-01-07  31.898878  44.790001  45.119999  43.610001  43.790001    JPM   \n",
            "4 2010-01-08  31.820543  44.680000  44.700001  44.080002  44.369999    JPM   \n",
            "5 2010-01-11  31.713724  44.529999  45.189999  44.310001  45.119999    JPM   \n",
            "\n",
            "     Volume Target  \n",
            "1  41208300     UP  \n",
            "2  27729000     UP  \n",
            "3  44864700     UP  \n",
            "4  33110100   DOWN  \n",
            "5  31878700   DOWN  \n"
          ]
        }
      ]
    }
  ]
}