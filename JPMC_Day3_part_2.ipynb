{
  "nbformat": 4,
  "nbformat_minor": 0,
  "metadata": {
    "colab": {
      "provenance": [],
      "include_colab_link": true
    },
    "kernelspec": {
      "name": "python3",
      "display_name": "Python 3"
    },
    "language_info": {
      "name": "python"
    }
  },
  "cells": [
    {
      "cell_type": "markdown",
      "metadata": {
        "id": "view-in-github",
        "colab_type": "text"
      },
      "source": [
        "<a href=\"https://colab.research.google.com/github/jmohsbeck1/jpmc_mle/blob/main/JPMC_Day3_part_2.ipynb\" target=\"_parent\"><img src=\"https://colab.research.google.com/assets/colab-badge.svg\" alt=\"Open In Colab\"/></a>"
      ]
    },
    {
      "cell_type": "code",
      "execution_count": null,
      "metadata": {
        "id": "zpGi-41RlPiC"
      },
      "outputs": [],
      "source": [
        "# BUT - before that... let's create a quick template for building models... Algorithm Harness"
      ]
    },
    {
      "cell_type": "code",
      "source": [
        "#Import your Libraries\n",
        "import numpy as np\n",
        "import pandas as pd\n",
        "from matplotlib import pyplot as plt\n",
        "import seaborn as sns\n",
        "import sklearn.metrics as metrics\n",
        "%matplotlib inline"
      ],
      "metadata": {
        "id": "6EFbmcqQmNfb"
      },
      "execution_count": null,
      "outputs": []
    },
    {
      "cell_type": "code",
      "source": [
        "df = pd.read_csv('https://raw.githubusercontent.com/fenago/classify/main/data/online_shoppers_intention.csv')\n",
        "df.head()"
      ],
      "metadata": {
        "id": "BNmP_OCMmyU6"
      },
      "execution_count": null,
      "outputs": []
    },
    {
      "cell_type": "markdown",
      "source": [
        "Notes\n",
        "This session covers data collection and some procedures of data preparation.\n",
        "\n",
        "Commands, functions, and methods:\n",
        "\n",
        "!wget - Linux shell command for downloading data\n",
        "pd.read.csv() - read csv files\n",
        "df.head() - take a look of the dataframe\n",
        "df.head().T - take a look of the transposed dataframe\n",
        "df.columns - retrieve column names of a dataframe\n",
        "df.columns.str.lower() - lowercase all the letters\n",
        "df.columns.str.replace(' ', '_') - replace the space separator\n",
        "df.dtypes - retrieve data types of all series\n",
        "df.index - retrive indices of a dataframe\n",
        "pd.to_numeric() - convert a series values to numerical values. The errors=coerce argument allows making the transformation despite some encountered errors.\n",
        "df.fillna() - replace NAs with some value\n",
        "(df.x == \"yes\").astype(int) - convert x series of yes-no values to numerical values.\n",
        "df['Weight'] = df['Weight'].astype(int) - this takes a single column of data and converts the data type"
      ],
      "metadata": {
        "id": "ZxFGD1P5nA80"
      }
    },
    {
      "cell_type": "code",
      "source": [
        "len(df)"
      ],
      "metadata": {
        "colab": {
          "base_uri": "https://localhost:8080/"
        },
        "id": "7UZX80uNnKYb",
        "outputId": "82d29c77-10f5-4320-cc70-5c6b0e970f34"
      },
      "execution_count": null,
      "outputs": [
        {
          "output_type": "execute_result",
          "data": {
            "text/plain": [
              "12330"
            ]
          },
          "metadata": {},
          "execution_count": 4
        }
      ]
    },
    {
      "cell_type": "code",
      "source": [
        "df.describe()"
      ],
      "metadata": {
        "colab": {
          "base_uri": "https://localhost:8080/",
          "height": 364
        },
        "id": "rFlwOWDqnTKF",
        "outputId": "1f814385-46e9-4557-de38-fe0d75670782"
      },
      "execution_count": null,
      "outputs": [
        {
          "output_type": "execute_result",
          "data": {
            "text/plain": [
              "       Administrative  Administrative_Duration  Informational  \\\n",
              "count    12330.000000             12330.000000   12330.000000   \n",
              "mean         2.315166                80.818611       0.503569   \n",
              "std          3.321784               176.779107       1.270156   \n",
              "min          0.000000                 0.000000       0.000000   \n",
              "25%          0.000000                 0.000000       0.000000   \n",
              "50%          1.000000                 7.500000       0.000000   \n",
              "75%          4.000000                93.256250       0.000000   \n",
              "max         27.000000              3398.750000      24.000000   \n",
              "\n",
              "       Informational_Duration  ProductRelated  ProductRelated_Duration  \\\n",
              "count            12330.000000    12330.000000             12330.000000   \n",
              "mean                34.472398       31.731468              1194.746220   \n",
              "std                140.749294       44.475503              1913.669288   \n",
              "min                  0.000000        0.000000                 0.000000   \n",
              "25%                  0.000000        7.000000               184.137500   \n",
              "50%                  0.000000       18.000000               598.936905   \n",
              "75%                  0.000000       38.000000              1464.157214   \n",
              "max               2549.375000      705.000000             63973.522230   \n",
              "\n",
              "        BounceRates     ExitRates    PageValues    SpecialDay  \\\n",
              "count  12330.000000  12330.000000  12330.000000  12330.000000   \n",
              "mean       0.022191      0.043073      5.889258      0.061427   \n",
              "std        0.048488      0.048597     18.568437      0.198917   \n",
              "min        0.000000      0.000000      0.000000      0.000000   \n",
              "25%        0.000000      0.014286      0.000000      0.000000   \n",
              "50%        0.003112      0.025156      0.000000      0.000000   \n",
              "75%        0.016813      0.050000      0.000000      0.000000   \n",
              "max        0.200000      0.200000    361.763742      1.000000   \n",
              "\n",
              "       OperatingSystems       Browser        Region   TrafficType  \n",
              "count      12330.000000  12330.000000  12330.000000  12330.000000  \n",
              "mean           2.124006      2.357097      3.147364      4.069586  \n",
              "std            0.911325      1.717277      2.401591      4.025169  \n",
              "min            1.000000      1.000000      1.000000      1.000000  \n",
              "25%            2.000000      2.000000      1.000000      2.000000  \n",
              "50%            2.000000      2.000000      3.000000      2.000000  \n",
              "75%            3.000000      2.000000      4.000000      4.000000  \n",
              "max            8.000000     13.000000      9.000000     20.000000  "
            ],
            "text/html": [
              "\n",
              "  <div id=\"df-9ab92fee-f64b-44a7-adb5-bbf1eb36421d\">\n",
              "    <div class=\"colab-df-container\">\n",
              "      <div>\n",
              "<style scoped>\n",
              "    .dataframe tbody tr th:only-of-type {\n",
              "        vertical-align: middle;\n",
              "    }\n",
              "\n",
              "    .dataframe tbody tr th {\n",
              "        vertical-align: top;\n",
              "    }\n",
              "\n",
              "    .dataframe thead th {\n",
              "        text-align: right;\n",
              "    }\n",
              "</style>\n",
              "<table border=\"1\" class=\"dataframe\">\n",
              "  <thead>\n",
              "    <tr style=\"text-align: right;\">\n",
              "      <th></th>\n",
              "      <th>Administrative</th>\n",
              "      <th>Administrative_Duration</th>\n",
              "      <th>Informational</th>\n",
              "      <th>Informational_Duration</th>\n",
              "      <th>ProductRelated</th>\n",
              "      <th>ProductRelated_Duration</th>\n",
              "      <th>BounceRates</th>\n",
              "      <th>ExitRates</th>\n",
              "      <th>PageValues</th>\n",
              "      <th>SpecialDay</th>\n",
              "      <th>OperatingSystems</th>\n",
              "      <th>Browser</th>\n",
              "      <th>Region</th>\n",
              "      <th>TrafficType</th>\n",
              "    </tr>\n",
              "  </thead>\n",
              "  <tbody>\n",
              "    <tr>\n",
              "      <th>count</th>\n",
              "      <td>12330.000000</td>\n",
              "      <td>12330.000000</td>\n",
              "      <td>12330.000000</td>\n",
              "      <td>12330.000000</td>\n",
              "      <td>12330.000000</td>\n",
              "      <td>12330.000000</td>\n",
              "      <td>12330.000000</td>\n",
              "      <td>12330.000000</td>\n",
              "      <td>12330.000000</td>\n",
              "      <td>12330.000000</td>\n",
              "      <td>12330.000000</td>\n",
              "      <td>12330.000000</td>\n",
              "      <td>12330.000000</td>\n",
              "      <td>12330.000000</td>\n",
              "    </tr>\n",
              "    <tr>\n",
              "      <th>mean</th>\n",
              "      <td>2.315166</td>\n",
              "      <td>80.818611</td>\n",
              "      <td>0.503569</td>\n",
              "      <td>34.472398</td>\n",
              "      <td>31.731468</td>\n",
              "      <td>1194.746220</td>\n",
              "      <td>0.022191</td>\n",
              "      <td>0.043073</td>\n",
              "      <td>5.889258</td>\n",
              "      <td>0.061427</td>\n",
              "      <td>2.124006</td>\n",
              "      <td>2.357097</td>\n",
              "      <td>3.147364</td>\n",
              "      <td>4.069586</td>\n",
              "    </tr>\n",
              "    <tr>\n",
              "      <th>std</th>\n",
              "      <td>3.321784</td>\n",
              "      <td>176.779107</td>\n",
              "      <td>1.270156</td>\n",
              "      <td>140.749294</td>\n",
              "      <td>44.475503</td>\n",
              "      <td>1913.669288</td>\n",
              "      <td>0.048488</td>\n",
              "      <td>0.048597</td>\n",
              "      <td>18.568437</td>\n",
              "      <td>0.198917</td>\n",
              "      <td>0.911325</td>\n",
              "      <td>1.717277</td>\n",
              "      <td>2.401591</td>\n",
              "      <td>4.025169</td>\n",
              "    </tr>\n",
              "    <tr>\n",
              "      <th>min</th>\n",
              "      <td>0.000000</td>\n",
              "      <td>0.000000</td>\n",
              "      <td>0.000000</td>\n",
              "      <td>0.000000</td>\n",
              "      <td>0.000000</td>\n",
              "      <td>0.000000</td>\n",
              "      <td>0.000000</td>\n",
              "      <td>0.000000</td>\n",
              "      <td>0.000000</td>\n",
              "      <td>0.000000</td>\n",
              "      <td>1.000000</td>\n",
              "      <td>1.000000</td>\n",
              "      <td>1.000000</td>\n",
              "      <td>1.000000</td>\n",
              "    </tr>\n",
              "    <tr>\n",
              "      <th>25%</th>\n",
              "      <td>0.000000</td>\n",
              "      <td>0.000000</td>\n",
              "      <td>0.000000</td>\n",
              "      <td>0.000000</td>\n",
              "      <td>7.000000</td>\n",
              "      <td>184.137500</td>\n",
              "      <td>0.000000</td>\n",
              "      <td>0.014286</td>\n",
              "      <td>0.000000</td>\n",
              "      <td>0.000000</td>\n",
              "      <td>2.000000</td>\n",
              "      <td>2.000000</td>\n",
              "      <td>1.000000</td>\n",
              "      <td>2.000000</td>\n",
              "    </tr>\n",
              "    <tr>\n",
              "      <th>50%</th>\n",
              "      <td>1.000000</td>\n",
              "      <td>7.500000</td>\n",
              "      <td>0.000000</td>\n",
              "      <td>0.000000</td>\n",
              "      <td>18.000000</td>\n",
              "      <td>598.936905</td>\n",
              "      <td>0.003112</td>\n",
              "      <td>0.025156</td>\n",
              "      <td>0.000000</td>\n",
              "      <td>0.000000</td>\n",
              "      <td>2.000000</td>\n",
              "      <td>2.000000</td>\n",
              "      <td>3.000000</td>\n",
              "      <td>2.000000</td>\n",
              "    </tr>\n",
              "    <tr>\n",
              "      <th>75%</th>\n",
              "      <td>4.000000</td>\n",
              "      <td>93.256250</td>\n",
              "      <td>0.000000</td>\n",
              "      <td>0.000000</td>\n",
              "      <td>38.000000</td>\n",
              "      <td>1464.157214</td>\n",
              "      <td>0.016813</td>\n",
              "      <td>0.050000</td>\n",
              "      <td>0.000000</td>\n",
              "      <td>0.000000</td>\n",
              "      <td>3.000000</td>\n",
              "      <td>2.000000</td>\n",
              "      <td>4.000000</td>\n",
              "      <td>4.000000</td>\n",
              "    </tr>\n",
              "    <tr>\n",
              "      <th>max</th>\n",
              "      <td>27.000000</td>\n",
              "      <td>3398.750000</td>\n",
              "      <td>24.000000</td>\n",
              "      <td>2549.375000</td>\n",
              "      <td>705.000000</td>\n",
              "      <td>63973.522230</td>\n",
              "      <td>0.200000</td>\n",
              "      <td>0.200000</td>\n",
              "      <td>361.763742</td>\n",
              "      <td>1.000000</td>\n",
              "      <td>8.000000</td>\n",
              "      <td>13.000000</td>\n",
              "      <td>9.000000</td>\n",
              "      <td>20.000000</td>\n",
              "    </tr>\n",
              "  </tbody>\n",
              "</table>\n",
              "</div>\n",
              "      <button class=\"colab-df-convert\" onclick=\"convertToInteractive('df-9ab92fee-f64b-44a7-adb5-bbf1eb36421d')\"\n",
              "              title=\"Convert this dataframe to an interactive table.\"\n",
              "              style=\"display:none;\">\n",
              "        \n",
              "  <svg xmlns=\"http://www.w3.org/2000/svg\" height=\"24px\"viewBox=\"0 0 24 24\"\n",
              "       width=\"24px\">\n",
              "    <path d=\"M0 0h24v24H0V0z\" fill=\"none\"/>\n",
              "    <path d=\"M18.56 5.44l.94 2.06.94-2.06 2.06-.94-2.06-.94-.94-2.06-.94 2.06-2.06.94zm-11 1L8.5 8.5l.94-2.06 2.06-.94-2.06-.94L8.5 2.5l-.94 2.06-2.06.94zm10 10l.94 2.06.94-2.06 2.06-.94-2.06-.94-.94-2.06-.94 2.06-2.06.94z\"/><path d=\"M17.41 7.96l-1.37-1.37c-.4-.4-.92-.59-1.43-.59-.52 0-1.04.2-1.43.59L10.3 9.45l-7.72 7.72c-.78.78-.78 2.05 0 2.83L4 21.41c.39.39.9.59 1.41.59.51 0 1.02-.2 1.41-.59l7.78-7.78 2.81-2.81c.8-.78.8-2.07 0-2.86zM5.41 20L4 18.59l7.72-7.72 1.47 1.35L5.41 20z\"/>\n",
              "  </svg>\n",
              "      </button>\n",
              "      \n",
              "  <style>\n",
              "    .colab-df-container {\n",
              "      display:flex;\n",
              "      flex-wrap:wrap;\n",
              "      gap: 12px;\n",
              "    }\n",
              "\n",
              "    .colab-df-convert {\n",
              "      background-color: #E8F0FE;\n",
              "      border: none;\n",
              "      border-radius: 50%;\n",
              "      cursor: pointer;\n",
              "      display: none;\n",
              "      fill: #1967D2;\n",
              "      height: 32px;\n",
              "      padding: 0 0 0 0;\n",
              "      width: 32px;\n",
              "    }\n",
              "\n",
              "    .colab-df-convert:hover {\n",
              "      background-color: #E2EBFA;\n",
              "      box-shadow: 0px 1px 2px rgba(60, 64, 67, 0.3), 0px 1px 3px 1px rgba(60, 64, 67, 0.15);\n",
              "      fill: #174EA6;\n",
              "    }\n",
              "\n",
              "    [theme=dark] .colab-df-convert {\n",
              "      background-color: #3B4455;\n",
              "      fill: #D2E3FC;\n",
              "    }\n",
              "\n",
              "    [theme=dark] .colab-df-convert:hover {\n",
              "      background-color: #434B5C;\n",
              "      box-shadow: 0px 1px 3px 1px rgba(0, 0, 0, 0.15);\n",
              "      filter: drop-shadow(0px 1px 2px rgba(0, 0, 0, 0.3));\n",
              "      fill: #FFFFFF;\n",
              "    }\n",
              "  </style>\n",
              "\n",
              "      <script>\n",
              "        const buttonEl =\n",
              "          document.querySelector('#df-9ab92fee-f64b-44a7-adb5-bbf1eb36421d button.colab-df-convert');\n",
              "        buttonEl.style.display =\n",
              "          google.colab.kernel.accessAllowed ? 'block' : 'none';\n",
              "\n",
              "        async function convertToInteractive(key) {\n",
              "          const element = document.querySelector('#df-9ab92fee-f64b-44a7-adb5-bbf1eb36421d');\n",
              "          const dataTable =\n",
              "            await google.colab.kernel.invokeFunction('convertToInteractive',\n",
              "                                                     [key], {});\n",
              "          if (!dataTable) return;\n",
              "\n",
              "          const docLinkHtml = 'Like what you see? Visit the ' +\n",
              "            '<a target=\"_blank\" href=https://colab.research.google.com/notebooks/data_table.ipynb>data table notebook</a>'\n",
              "            + ' to learn more about interactive tables.';\n",
              "          element.innerHTML = '';\n",
              "          dataTable['output_type'] = 'display_data';\n",
              "          await google.colab.output.renderOutput(dataTable, element);\n",
              "          const docLink = document.createElement('div');\n",
              "          docLink.innerHTML = docLinkHtml;\n",
              "          element.appendChild(docLink);\n",
              "        }\n",
              "      </script>\n",
              "    </div>\n",
              "  </div>\n",
              "  "
            ]
          },
          "metadata": {},
          "execution_count": 5
        }
      ]
    },
    {
      "cell_type": "code",
      "source": [
        "df.shape"
      ],
      "metadata": {
        "colab": {
          "base_uri": "https://localhost:8080/"
        },
        "id": "hXIz-S7YnVjS",
        "outputId": "cceb6098-712e-4bd2-d757-0bb89f268492"
      },
      "execution_count": null,
      "outputs": [
        {
          "output_type": "execute_result",
          "data": {
            "text/plain": [
              "(12330, 18)"
            ]
          },
          "metadata": {},
          "execution_count": 6
        }
      ]
    },
    {
      "cell_type": "code",
      "source": [
        "df.info()"
      ],
      "metadata": {
        "colab": {
          "base_uri": "https://localhost:8080/"
        },
        "id": "gB7sGPBsneLX",
        "outputId": "37bf5559-5a31-4db3-cfa6-612f316312cd"
      },
      "execution_count": null,
      "outputs": [
        {
          "output_type": "stream",
          "name": "stdout",
          "text": [
            "<class 'pandas.core.frame.DataFrame'>\n",
            "RangeIndex: 12330 entries, 0 to 12329\n",
            "Data columns (total 18 columns):\n",
            " #   Column                   Non-Null Count  Dtype  \n",
            "---  ------                   --------------  -----  \n",
            " 0   Administrative           12330 non-null  int64  \n",
            " 1   Administrative_Duration  12330 non-null  float64\n",
            " 2   Informational            12330 non-null  int64  \n",
            " 3   Informational_Duration   12330 non-null  float64\n",
            " 4   ProductRelated           12330 non-null  int64  \n",
            " 5   ProductRelated_Duration  12330 non-null  float64\n",
            " 6   BounceRates              12330 non-null  float64\n",
            " 7   ExitRates                12330 non-null  float64\n",
            " 8   PageValues               12330 non-null  float64\n",
            " 9   SpecialDay               12330 non-null  float64\n",
            " 10  Month                    12330 non-null  object \n",
            " 11  OperatingSystems         12330 non-null  int64  \n",
            " 12  Browser                  12330 non-null  int64  \n",
            " 13  Region                   12330 non-null  int64  \n",
            " 14  TrafficType              12330 non-null  int64  \n",
            " 15  VisitorType              12330 non-null  object \n",
            " 16  Weekend                  12330 non-null  bool   \n",
            " 17  Revenue                  12330 non-null  bool   \n",
            "dtypes: bool(2), float64(7), int64(7), object(2)\n",
            "memory usage: 1.5+ MB\n"
          ]
        }
      ]
    },
    {
      "cell_type": "code",
      "source": [
        "df.nunique()"
      ],
      "metadata": {
        "colab": {
          "base_uri": "https://localhost:8080/"
        },
        "id": "EHgMbvs9nhQx",
        "outputId": "fac173f9-e609-4d0c-8f71-7771c5e812cf"
      },
      "execution_count": null,
      "outputs": [
        {
          "output_type": "execute_result",
          "data": {
            "text/plain": [
              "Administrative               27\n",
              "Administrative_Duration    3335\n",
              "Informational                17\n",
              "Informational_Duration     1258\n",
              "ProductRelated              311\n",
              "ProductRelated_Duration    9551\n",
              "BounceRates                1872\n",
              "ExitRates                  4777\n",
              "PageValues                 2704\n",
              "SpecialDay                    6\n",
              "Month                        10\n",
              "OperatingSystems              8\n",
              "Browser                      13\n",
              "Region                        9\n",
              "TrafficType                  20\n",
              "VisitorType                   3\n",
              "Weekend                       2\n",
              "Revenue                       2\n",
              "dtype: int64"
            ]
          },
          "metadata": {},
          "execution_count": 8
        }
      ]
    },
    {
      "cell_type": "code",
      "source": [
        "df.corr()"
      ],
      "metadata": {
        "colab": {
          "base_uri": "https://localhost:8080/",
          "height": 615
        },
        "id": "cX7pLxfnnkjf",
        "outputId": "345fdeee-d6b7-48df-ff5c-927720bddc08"
      },
      "execution_count": null,
      "outputs": [
        {
          "output_type": "execute_result",
          "data": {
            "text/plain": [
              "                         Administrative  Administrative_Duration  \\\n",
              "Administrative                 1.000000                 0.601583   \n",
              "Administrative_Duration        0.601583                 1.000000   \n",
              "Informational                  0.376850                 0.302710   \n",
              "Informational_Duration         0.255848                 0.238031   \n",
              "ProductRelated                 0.431119                 0.289087   \n",
              "ProductRelated_Duration        0.373939                 0.355422   \n",
              "BounceRates                   -0.223563                -0.144170   \n",
              "ExitRates                     -0.316483                -0.205798   \n",
              "PageValues                     0.098990                 0.067608   \n",
              "SpecialDay                    -0.094778                -0.073304   \n",
              "OperatingSystems              -0.006347                -0.007343   \n",
              "Browser                       -0.025035                -0.015392   \n",
              "Region                        -0.005487                -0.005561   \n",
              "TrafficType                   -0.033561                -0.014376   \n",
              "Weekend                        0.026417                 0.014990   \n",
              "Revenue                        0.138917                 0.093587   \n",
              "\n",
              "                         Informational  Informational_Duration  \\\n",
              "Administrative                0.376850                0.255848   \n",
              "Administrative_Duration       0.302710                0.238031   \n",
              "Informational                 1.000000                0.618955   \n",
              "Informational_Duration        0.618955                1.000000   \n",
              "ProductRelated                0.374164                0.280046   \n",
              "ProductRelated_Duration       0.387505                0.347364   \n",
              "BounceRates                  -0.116114               -0.074067   \n",
              "ExitRates                    -0.163666               -0.105276   \n",
              "PageValues                    0.048632                0.030861   \n",
              "SpecialDay                   -0.048219               -0.030577   \n",
              "OperatingSystems             -0.009527               -0.009579   \n",
              "Browser                      -0.038235               -0.019285   \n",
              "Region                       -0.029169               -0.027144   \n",
              "TrafficType                  -0.034491               -0.024675   \n",
              "Weekend                       0.035785                0.024078   \n",
              "Revenue                       0.095200                0.070345   \n",
              "\n",
              "                         ProductRelated  ProductRelated_Duration  BounceRates  \\\n",
              "Administrative                 0.431119                 0.373939    -0.223563   \n",
              "Administrative_Duration        0.289087                 0.355422    -0.144170   \n",
              "Informational                  0.374164                 0.387505    -0.116114   \n",
              "Informational_Duration         0.280046                 0.347364    -0.074067   \n",
              "ProductRelated                 1.000000                 0.860927    -0.204578   \n",
              "ProductRelated_Duration        0.860927                 1.000000    -0.184541   \n",
              "BounceRates                   -0.204578                -0.184541     1.000000   \n",
              "ExitRates                     -0.292526                -0.251984     0.913004   \n",
              "PageValues                     0.056282                 0.052823    -0.119386   \n",
              "SpecialDay                    -0.023958                -0.036380     0.072702   \n",
              "OperatingSystems               0.004290                 0.002976     0.023823   \n",
              "Browser                       -0.013146                -0.007380    -0.015772   \n",
              "Region                        -0.038122                -0.033091    -0.006485   \n",
              "TrafficType                   -0.043064                -0.036377     0.078286   \n",
              "Weekend                        0.016092                 0.007311    -0.046514   \n",
              "Revenue                        0.158538                 0.152373    -0.150673   \n",
              "\n",
              "                         ExitRates  PageValues  SpecialDay  OperatingSystems  \\\n",
              "Administrative           -0.316483    0.098990   -0.094778         -0.006347   \n",
              "Administrative_Duration  -0.205798    0.067608   -0.073304         -0.007343   \n",
              "Informational            -0.163666    0.048632   -0.048219         -0.009527   \n",
              "Informational_Duration   -0.105276    0.030861   -0.030577         -0.009579   \n",
              "ProductRelated           -0.292526    0.056282   -0.023958          0.004290   \n",
              "ProductRelated_Duration  -0.251984    0.052823   -0.036380          0.002976   \n",
              "BounceRates               0.913004   -0.119386    0.072702          0.023823   \n",
              "ExitRates                 1.000000   -0.174498    0.102242          0.014567   \n",
              "PageValues               -0.174498    1.000000   -0.063541          0.018508   \n",
              "SpecialDay                0.102242   -0.063541    1.000000          0.012652   \n",
              "OperatingSystems          0.014567    0.018508    0.012652          1.000000   \n",
              "Browser                  -0.004442    0.045592    0.003499          0.223013   \n",
              "Region                   -0.008907    0.011315   -0.016098          0.076775   \n",
              "TrafficType               0.078616    0.012532    0.052301          0.189154   \n",
              "Weekend                  -0.062587    0.012002   -0.016767          0.000284   \n",
              "Revenue                  -0.207071    0.492569   -0.082305         -0.014668   \n",
              "\n",
              "                          Browser    Region  TrafficType   Weekend   Revenue  \n",
              "Administrative          -0.025035 -0.005487    -0.033561  0.026417  0.138917  \n",
              "Administrative_Duration -0.015392 -0.005561    -0.014376  0.014990  0.093587  \n",
              "Informational           -0.038235 -0.029169    -0.034491  0.035785  0.095200  \n",
              "Informational_Duration  -0.019285 -0.027144    -0.024675  0.024078  0.070345  \n",
              "ProductRelated          -0.013146 -0.038122    -0.043064  0.016092  0.158538  \n",
              "ProductRelated_Duration -0.007380 -0.033091    -0.036377  0.007311  0.152373  \n",
              "BounceRates             -0.015772 -0.006485     0.078286 -0.046514 -0.150673  \n",
              "ExitRates               -0.004442 -0.008907     0.078616 -0.062587 -0.207071  \n",
              "PageValues               0.045592  0.011315     0.012532  0.012002  0.492569  \n",
              "SpecialDay               0.003499 -0.016098     0.052301 -0.016767 -0.082305  \n",
              "OperatingSystems         0.223013  0.076775     0.189154  0.000284 -0.014668  \n",
              "Browser                  1.000000  0.097393     0.111938 -0.040261  0.023984  \n",
              "Region                   0.097393  1.000000     0.047520 -0.000691 -0.011595  \n",
              "TrafficType              0.111938  0.047520     1.000000 -0.002221 -0.005113  \n",
              "Weekend                 -0.040261 -0.000691    -0.002221  1.000000  0.029295  \n",
              "Revenue                  0.023984 -0.011595    -0.005113  0.029295  1.000000  "
            ],
            "text/html": [
              "\n",
              "  <div id=\"df-ad103786-c6b7-41f7-ac07-b64abf17bb4c\">\n",
              "    <div class=\"colab-df-container\">\n",
              "      <div>\n",
              "<style scoped>\n",
              "    .dataframe tbody tr th:only-of-type {\n",
              "        vertical-align: middle;\n",
              "    }\n",
              "\n",
              "    .dataframe tbody tr th {\n",
              "        vertical-align: top;\n",
              "    }\n",
              "\n",
              "    .dataframe thead th {\n",
              "        text-align: right;\n",
              "    }\n",
              "</style>\n",
              "<table border=\"1\" class=\"dataframe\">\n",
              "  <thead>\n",
              "    <tr style=\"text-align: right;\">\n",
              "      <th></th>\n",
              "      <th>Administrative</th>\n",
              "      <th>Administrative_Duration</th>\n",
              "      <th>Informational</th>\n",
              "      <th>Informational_Duration</th>\n",
              "      <th>ProductRelated</th>\n",
              "      <th>ProductRelated_Duration</th>\n",
              "      <th>BounceRates</th>\n",
              "      <th>ExitRates</th>\n",
              "      <th>PageValues</th>\n",
              "      <th>SpecialDay</th>\n",
              "      <th>OperatingSystems</th>\n",
              "      <th>Browser</th>\n",
              "      <th>Region</th>\n",
              "      <th>TrafficType</th>\n",
              "      <th>Weekend</th>\n",
              "      <th>Revenue</th>\n",
              "    </tr>\n",
              "  </thead>\n",
              "  <tbody>\n",
              "    <tr>\n",
              "      <th>Administrative</th>\n",
              "      <td>1.000000</td>\n",
              "      <td>0.601583</td>\n",
              "      <td>0.376850</td>\n",
              "      <td>0.255848</td>\n",
              "      <td>0.431119</td>\n",
              "      <td>0.373939</td>\n",
              "      <td>-0.223563</td>\n",
              "      <td>-0.316483</td>\n",
              "      <td>0.098990</td>\n",
              "      <td>-0.094778</td>\n",
              "      <td>-0.006347</td>\n",
              "      <td>-0.025035</td>\n",
              "      <td>-0.005487</td>\n",
              "      <td>-0.033561</td>\n",
              "      <td>0.026417</td>\n",
              "      <td>0.138917</td>\n",
              "    </tr>\n",
              "    <tr>\n",
              "      <th>Administrative_Duration</th>\n",
              "      <td>0.601583</td>\n",
              "      <td>1.000000</td>\n",
              "      <td>0.302710</td>\n",
              "      <td>0.238031</td>\n",
              "      <td>0.289087</td>\n",
              "      <td>0.355422</td>\n",
              "      <td>-0.144170</td>\n",
              "      <td>-0.205798</td>\n",
              "      <td>0.067608</td>\n",
              "      <td>-0.073304</td>\n",
              "      <td>-0.007343</td>\n",
              "      <td>-0.015392</td>\n",
              "      <td>-0.005561</td>\n",
              "      <td>-0.014376</td>\n",
              "      <td>0.014990</td>\n",
              "      <td>0.093587</td>\n",
              "    </tr>\n",
              "    <tr>\n",
              "      <th>Informational</th>\n",
              "      <td>0.376850</td>\n",
              "      <td>0.302710</td>\n",
              "      <td>1.000000</td>\n",
              "      <td>0.618955</td>\n",
              "      <td>0.374164</td>\n",
              "      <td>0.387505</td>\n",
              "      <td>-0.116114</td>\n",
              "      <td>-0.163666</td>\n",
              "      <td>0.048632</td>\n",
              "      <td>-0.048219</td>\n",
              "      <td>-0.009527</td>\n",
              "      <td>-0.038235</td>\n",
              "      <td>-0.029169</td>\n",
              "      <td>-0.034491</td>\n",
              "      <td>0.035785</td>\n",
              "      <td>0.095200</td>\n",
              "    </tr>\n",
              "    <tr>\n",
              "      <th>Informational_Duration</th>\n",
              "      <td>0.255848</td>\n",
              "      <td>0.238031</td>\n",
              "      <td>0.618955</td>\n",
              "      <td>1.000000</td>\n",
              "      <td>0.280046</td>\n",
              "      <td>0.347364</td>\n",
              "      <td>-0.074067</td>\n",
              "      <td>-0.105276</td>\n",
              "      <td>0.030861</td>\n",
              "      <td>-0.030577</td>\n",
              "      <td>-0.009579</td>\n",
              "      <td>-0.019285</td>\n",
              "      <td>-0.027144</td>\n",
              "      <td>-0.024675</td>\n",
              "      <td>0.024078</td>\n",
              "      <td>0.070345</td>\n",
              "    </tr>\n",
              "    <tr>\n",
              "      <th>ProductRelated</th>\n",
              "      <td>0.431119</td>\n",
              "      <td>0.289087</td>\n",
              "      <td>0.374164</td>\n",
              "      <td>0.280046</td>\n",
              "      <td>1.000000</td>\n",
              "      <td>0.860927</td>\n",
              "      <td>-0.204578</td>\n",
              "      <td>-0.292526</td>\n",
              "      <td>0.056282</td>\n",
              "      <td>-0.023958</td>\n",
              "      <td>0.004290</td>\n",
              "      <td>-0.013146</td>\n",
              "      <td>-0.038122</td>\n",
              "      <td>-0.043064</td>\n",
              "      <td>0.016092</td>\n",
              "      <td>0.158538</td>\n",
              "    </tr>\n",
              "    <tr>\n",
              "      <th>ProductRelated_Duration</th>\n",
              "      <td>0.373939</td>\n",
              "      <td>0.355422</td>\n",
              "      <td>0.387505</td>\n",
              "      <td>0.347364</td>\n",
              "      <td>0.860927</td>\n",
              "      <td>1.000000</td>\n",
              "      <td>-0.184541</td>\n",
              "      <td>-0.251984</td>\n",
              "      <td>0.052823</td>\n",
              "      <td>-0.036380</td>\n",
              "      <td>0.002976</td>\n",
              "      <td>-0.007380</td>\n",
              "      <td>-0.033091</td>\n",
              "      <td>-0.036377</td>\n",
              "      <td>0.007311</td>\n",
              "      <td>0.152373</td>\n",
              "    </tr>\n",
              "    <tr>\n",
              "      <th>BounceRates</th>\n",
              "      <td>-0.223563</td>\n",
              "      <td>-0.144170</td>\n",
              "      <td>-0.116114</td>\n",
              "      <td>-0.074067</td>\n",
              "      <td>-0.204578</td>\n",
              "      <td>-0.184541</td>\n",
              "      <td>1.000000</td>\n",
              "      <td>0.913004</td>\n",
              "      <td>-0.119386</td>\n",
              "      <td>0.072702</td>\n",
              "      <td>0.023823</td>\n",
              "      <td>-0.015772</td>\n",
              "      <td>-0.006485</td>\n",
              "      <td>0.078286</td>\n",
              "      <td>-0.046514</td>\n",
              "      <td>-0.150673</td>\n",
              "    </tr>\n",
              "    <tr>\n",
              "      <th>ExitRates</th>\n",
              "      <td>-0.316483</td>\n",
              "      <td>-0.205798</td>\n",
              "      <td>-0.163666</td>\n",
              "      <td>-0.105276</td>\n",
              "      <td>-0.292526</td>\n",
              "      <td>-0.251984</td>\n",
              "      <td>0.913004</td>\n",
              "      <td>1.000000</td>\n",
              "      <td>-0.174498</td>\n",
              "      <td>0.102242</td>\n",
              "      <td>0.014567</td>\n",
              "      <td>-0.004442</td>\n",
              "      <td>-0.008907</td>\n",
              "      <td>0.078616</td>\n",
              "      <td>-0.062587</td>\n",
              "      <td>-0.207071</td>\n",
              "    </tr>\n",
              "    <tr>\n",
              "      <th>PageValues</th>\n",
              "      <td>0.098990</td>\n",
              "      <td>0.067608</td>\n",
              "      <td>0.048632</td>\n",
              "      <td>0.030861</td>\n",
              "      <td>0.056282</td>\n",
              "      <td>0.052823</td>\n",
              "      <td>-0.119386</td>\n",
              "      <td>-0.174498</td>\n",
              "      <td>1.000000</td>\n",
              "      <td>-0.063541</td>\n",
              "      <td>0.018508</td>\n",
              "      <td>0.045592</td>\n",
              "      <td>0.011315</td>\n",
              "      <td>0.012532</td>\n",
              "      <td>0.012002</td>\n",
              "      <td>0.492569</td>\n",
              "    </tr>\n",
              "    <tr>\n",
              "      <th>SpecialDay</th>\n",
              "      <td>-0.094778</td>\n",
              "      <td>-0.073304</td>\n",
              "      <td>-0.048219</td>\n",
              "      <td>-0.030577</td>\n",
              "      <td>-0.023958</td>\n",
              "      <td>-0.036380</td>\n",
              "      <td>0.072702</td>\n",
              "      <td>0.102242</td>\n",
              "      <td>-0.063541</td>\n",
              "      <td>1.000000</td>\n",
              "      <td>0.012652</td>\n",
              "      <td>0.003499</td>\n",
              "      <td>-0.016098</td>\n",
              "      <td>0.052301</td>\n",
              "      <td>-0.016767</td>\n",
              "      <td>-0.082305</td>\n",
              "    </tr>\n",
              "    <tr>\n",
              "      <th>OperatingSystems</th>\n",
              "      <td>-0.006347</td>\n",
              "      <td>-0.007343</td>\n",
              "      <td>-0.009527</td>\n",
              "      <td>-0.009579</td>\n",
              "      <td>0.004290</td>\n",
              "      <td>0.002976</td>\n",
              "      <td>0.023823</td>\n",
              "      <td>0.014567</td>\n",
              "      <td>0.018508</td>\n",
              "      <td>0.012652</td>\n",
              "      <td>1.000000</td>\n",
              "      <td>0.223013</td>\n",
              "      <td>0.076775</td>\n",
              "      <td>0.189154</td>\n",
              "      <td>0.000284</td>\n",
              "      <td>-0.014668</td>\n",
              "    </tr>\n",
              "    <tr>\n",
              "      <th>Browser</th>\n",
              "      <td>-0.025035</td>\n",
              "      <td>-0.015392</td>\n",
              "      <td>-0.038235</td>\n",
              "      <td>-0.019285</td>\n",
              "      <td>-0.013146</td>\n",
              "      <td>-0.007380</td>\n",
              "      <td>-0.015772</td>\n",
              "      <td>-0.004442</td>\n",
              "      <td>0.045592</td>\n",
              "      <td>0.003499</td>\n",
              "      <td>0.223013</td>\n",
              "      <td>1.000000</td>\n",
              "      <td>0.097393</td>\n",
              "      <td>0.111938</td>\n",
              "      <td>-0.040261</td>\n",
              "      <td>0.023984</td>\n",
              "    </tr>\n",
              "    <tr>\n",
              "      <th>Region</th>\n",
              "      <td>-0.005487</td>\n",
              "      <td>-0.005561</td>\n",
              "      <td>-0.029169</td>\n",
              "      <td>-0.027144</td>\n",
              "      <td>-0.038122</td>\n",
              "      <td>-0.033091</td>\n",
              "      <td>-0.006485</td>\n",
              "      <td>-0.008907</td>\n",
              "      <td>0.011315</td>\n",
              "      <td>-0.016098</td>\n",
              "      <td>0.076775</td>\n",
              "      <td>0.097393</td>\n",
              "      <td>1.000000</td>\n",
              "      <td>0.047520</td>\n",
              "      <td>-0.000691</td>\n",
              "      <td>-0.011595</td>\n",
              "    </tr>\n",
              "    <tr>\n",
              "      <th>TrafficType</th>\n",
              "      <td>-0.033561</td>\n",
              "      <td>-0.014376</td>\n",
              "      <td>-0.034491</td>\n",
              "      <td>-0.024675</td>\n",
              "      <td>-0.043064</td>\n",
              "      <td>-0.036377</td>\n",
              "      <td>0.078286</td>\n",
              "      <td>0.078616</td>\n",
              "      <td>0.012532</td>\n",
              "      <td>0.052301</td>\n",
              "      <td>0.189154</td>\n",
              "      <td>0.111938</td>\n",
              "      <td>0.047520</td>\n",
              "      <td>1.000000</td>\n",
              "      <td>-0.002221</td>\n",
              "      <td>-0.005113</td>\n",
              "    </tr>\n",
              "    <tr>\n",
              "      <th>Weekend</th>\n",
              "      <td>0.026417</td>\n",
              "      <td>0.014990</td>\n",
              "      <td>0.035785</td>\n",
              "      <td>0.024078</td>\n",
              "      <td>0.016092</td>\n",
              "      <td>0.007311</td>\n",
              "      <td>-0.046514</td>\n",
              "      <td>-0.062587</td>\n",
              "      <td>0.012002</td>\n",
              "      <td>-0.016767</td>\n",
              "      <td>0.000284</td>\n",
              "      <td>-0.040261</td>\n",
              "      <td>-0.000691</td>\n",
              "      <td>-0.002221</td>\n",
              "      <td>1.000000</td>\n",
              "      <td>0.029295</td>\n",
              "    </tr>\n",
              "    <tr>\n",
              "      <th>Revenue</th>\n",
              "      <td>0.138917</td>\n",
              "      <td>0.093587</td>\n",
              "      <td>0.095200</td>\n",
              "      <td>0.070345</td>\n",
              "      <td>0.158538</td>\n",
              "      <td>0.152373</td>\n",
              "      <td>-0.150673</td>\n",
              "      <td>-0.207071</td>\n",
              "      <td>0.492569</td>\n",
              "      <td>-0.082305</td>\n",
              "      <td>-0.014668</td>\n",
              "      <td>0.023984</td>\n",
              "      <td>-0.011595</td>\n",
              "      <td>-0.005113</td>\n",
              "      <td>0.029295</td>\n",
              "      <td>1.000000</td>\n",
              "    </tr>\n",
              "  </tbody>\n",
              "</table>\n",
              "</div>\n",
              "      <button class=\"colab-df-convert\" onclick=\"convertToInteractive('df-ad103786-c6b7-41f7-ac07-b64abf17bb4c')\"\n",
              "              title=\"Convert this dataframe to an interactive table.\"\n",
              "              style=\"display:none;\">\n",
              "        \n",
              "  <svg xmlns=\"http://www.w3.org/2000/svg\" height=\"24px\"viewBox=\"0 0 24 24\"\n",
              "       width=\"24px\">\n",
              "    <path d=\"M0 0h24v24H0V0z\" fill=\"none\"/>\n",
              "    <path d=\"M18.56 5.44l.94 2.06.94-2.06 2.06-.94-2.06-.94-.94-2.06-.94 2.06-2.06.94zm-11 1L8.5 8.5l.94-2.06 2.06-.94-2.06-.94L8.5 2.5l-.94 2.06-2.06.94zm10 10l.94 2.06.94-2.06 2.06-.94-2.06-.94-.94-2.06-.94 2.06-2.06.94z\"/><path d=\"M17.41 7.96l-1.37-1.37c-.4-.4-.92-.59-1.43-.59-.52 0-1.04.2-1.43.59L10.3 9.45l-7.72 7.72c-.78.78-.78 2.05 0 2.83L4 21.41c.39.39.9.59 1.41.59.51 0 1.02-.2 1.41-.59l7.78-7.78 2.81-2.81c.8-.78.8-2.07 0-2.86zM5.41 20L4 18.59l7.72-7.72 1.47 1.35L5.41 20z\"/>\n",
              "  </svg>\n",
              "      </button>\n",
              "      \n",
              "  <style>\n",
              "    .colab-df-container {\n",
              "      display:flex;\n",
              "      flex-wrap:wrap;\n",
              "      gap: 12px;\n",
              "    }\n",
              "\n",
              "    .colab-df-convert {\n",
              "      background-color: #E8F0FE;\n",
              "      border: none;\n",
              "      border-radius: 50%;\n",
              "      cursor: pointer;\n",
              "      display: none;\n",
              "      fill: #1967D2;\n",
              "      height: 32px;\n",
              "      padding: 0 0 0 0;\n",
              "      width: 32px;\n",
              "    }\n",
              "\n",
              "    .colab-df-convert:hover {\n",
              "      background-color: #E2EBFA;\n",
              "      box-shadow: 0px 1px 2px rgba(60, 64, 67, 0.3), 0px 1px 3px 1px rgba(60, 64, 67, 0.15);\n",
              "      fill: #174EA6;\n",
              "    }\n",
              "\n",
              "    [theme=dark] .colab-df-convert {\n",
              "      background-color: #3B4455;\n",
              "      fill: #D2E3FC;\n",
              "    }\n",
              "\n",
              "    [theme=dark] .colab-df-convert:hover {\n",
              "      background-color: #434B5C;\n",
              "      box-shadow: 0px 1px 3px 1px rgba(0, 0, 0, 0.15);\n",
              "      filter: drop-shadow(0px 1px 2px rgba(0, 0, 0, 0.3));\n",
              "      fill: #FFFFFF;\n",
              "    }\n",
              "  </style>\n",
              "\n",
              "      <script>\n",
              "        const buttonEl =\n",
              "          document.querySelector('#df-ad103786-c6b7-41f7-ac07-b64abf17bb4c button.colab-df-convert');\n",
              "        buttonEl.style.display =\n",
              "          google.colab.kernel.accessAllowed ? 'block' : 'none';\n",
              "\n",
              "        async function convertToInteractive(key) {\n",
              "          const element = document.querySelector('#df-ad103786-c6b7-41f7-ac07-b64abf17bb4c');\n",
              "          const dataTable =\n",
              "            await google.colab.kernel.invokeFunction('convertToInteractive',\n",
              "                                                     [key], {});\n",
              "          if (!dataTable) return;\n",
              "\n",
              "          const docLinkHtml = 'Like what you see? Visit the ' +\n",
              "            '<a target=\"_blank\" href=https://colab.research.google.com/notebooks/data_table.ipynb>data table notebook</a>'\n",
              "            + ' to learn more about interactive tables.';\n",
              "          element.innerHTML = '';\n",
              "          dataTable['output_type'] = 'display_data';\n",
              "          await google.colab.output.renderOutput(dataTable, element);\n",
              "          const docLink = document.createElement('div');\n",
              "          docLink.innerHTML = docLinkHtml;\n",
              "          element.appendChild(docLink);\n",
              "        }\n",
              "      </script>\n",
              "    </div>\n",
              "  </div>\n",
              "  "
            ]
          },
          "metadata": {},
          "execution_count": 9
        }
      ]
    },
    {
      "cell_type": "code",
      "source": [
        "# Basic Data Cleaning\n",
        "df.columns = df.columns.str.lower().str.replace(' ', '_') # A\n",
        " \n",
        "string_columns = list(df.dtypes[df.dtypes == 'object'].index) # B\n",
        " \n",
        "for col in string_columns:\n",
        "    df[col] = df[col].str.lower().str.replace(' ', '_') # C"
      ],
      "metadata": {
        "id": "ff_y5W05n7BF"
      },
      "execution_count": null,
      "outputs": []
    },
    {
      "cell_type": "code",
      "source": [
        "df.head()"
      ],
      "metadata": {
        "colab": {
          "base_uri": "https://localhost:8080/",
          "height": 270
        },
        "id": "dxI8deEhoMxk",
        "outputId": "e069486d-193d-4e44-a1d6-be1caedaa304"
      },
      "execution_count": null,
      "outputs": [
        {
          "output_type": "execute_result",
          "data": {
            "text/plain": [
              "   administrative  administrative_duration  informational  \\\n",
              "0               0                      0.0              0   \n",
              "1               0                      0.0              0   \n",
              "2               0                      0.0              0   \n",
              "3               0                      0.0              0   \n",
              "4               0                      0.0              0   \n",
              "\n",
              "   informational_duration  productrelated  productrelated_duration  \\\n",
              "0                     0.0               1                 0.000000   \n",
              "1                     0.0               2                64.000000   \n",
              "2                     0.0               1                 0.000000   \n",
              "3                     0.0               2                 2.666667   \n",
              "4                     0.0              10               627.500000   \n",
              "\n",
              "   bouncerates  exitrates  pagevalues  specialday month  operatingsystems  \\\n",
              "0         0.20       0.20         0.0         0.0   feb                 1   \n",
              "1         0.00       0.10         0.0         0.0   feb                 2   \n",
              "2         0.20       0.20         0.0         0.0   feb                 4   \n",
              "3         0.05       0.14         0.0         0.0   feb                 3   \n",
              "4         0.02       0.05         0.0         0.0   feb                 3   \n",
              "\n",
              "   browser  region  traffictype        visitortype  weekend  revenue  \n",
              "0        1       1            1  returning_visitor    False    False  \n",
              "1        2       1            2  returning_visitor    False    False  \n",
              "2        1       9            3  returning_visitor    False    False  \n",
              "3        2       2            4  returning_visitor    False    False  \n",
              "4        3       1            4  returning_visitor     True    False  "
            ],
            "text/html": [
              "\n",
              "  <div id=\"df-ea4b909c-62d8-4a78-bf1b-f66269e36cdf\">\n",
              "    <div class=\"colab-df-container\">\n",
              "      <div>\n",
              "<style scoped>\n",
              "    .dataframe tbody tr th:only-of-type {\n",
              "        vertical-align: middle;\n",
              "    }\n",
              "\n",
              "    .dataframe tbody tr th {\n",
              "        vertical-align: top;\n",
              "    }\n",
              "\n",
              "    .dataframe thead th {\n",
              "        text-align: right;\n",
              "    }\n",
              "</style>\n",
              "<table border=\"1\" class=\"dataframe\">\n",
              "  <thead>\n",
              "    <tr style=\"text-align: right;\">\n",
              "      <th></th>\n",
              "      <th>administrative</th>\n",
              "      <th>administrative_duration</th>\n",
              "      <th>informational</th>\n",
              "      <th>informational_duration</th>\n",
              "      <th>productrelated</th>\n",
              "      <th>productrelated_duration</th>\n",
              "      <th>bouncerates</th>\n",
              "      <th>exitrates</th>\n",
              "      <th>pagevalues</th>\n",
              "      <th>specialday</th>\n",
              "      <th>month</th>\n",
              "      <th>operatingsystems</th>\n",
              "      <th>browser</th>\n",
              "      <th>region</th>\n",
              "      <th>traffictype</th>\n",
              "      <th>visitortype</th>\n",
              "      <th>weekend</th>\n",
              "      <th>revenue</th>\n",
              "    </tr>\n",
              "  </thead>\n",
              "  <tbody>\n",
              "    <tr>\n",
              "      <th>0</th>\n",
              "      <td>0</td>\n",
              "      <td>0.0</td>\n",
              "      <td>0</td>\n",
              "      <td>0.0</td>\n",
              "      <td>1</td>\n",
              "      <td>0.000000</td>\n",
              "      <td>0.20</td>\n",
              "      <td>0.20</td>\n",
              "      <td>0.0</td>\n",
              "      <td>0.0</td>\n",
              "      <td>feb</td>\n",
              "      <td>1</td>\n",
              "      <td>1</td>\n",
              "      <td>1</td>\n",
              "      <td>1</td>\n",
              "      <td>returning_visitor</td>\n",
              "      <td>False</td>\n",
              "      <td>False</td>\n",
              "    </tr>\n",
              "    <tr>\n",
              "      <th>1</th>\n",
              "      <td>0</td>\n",
              "      <td>0.0</td>\n",
              "      <td>0</td>\n",
              "      <td>0.0</td>\n",
              "      <td>2</td>\n",
              "      <td>64.000000</td>\n",
              "      <td>0.00</td>\n",
              "      <td>0.10</td>\n",
              "      <td>0.0</td>\n",
              "      <td>0.0</td>\n",
              "      <td>feb</td>\n",
              "      <td>2</td>\n",
              "      <td>2</td>\n",
              "      <td>1</td>\n",
              "      <td>2</td>\n",
              "      <td>returning_visitor</td>\n",
              "      <td>False</td>\n",
              "      <td>False</td>\n",
              "    </tr>\n",
              "    <tr>\n",
              "      <th>2</th>\n",
              "      <td>0</td>\n",
              "      <td>0.0</td>\n",
              "      <td>0</td>\n",
              "      <td>0.0</td>\n",
              "      <td>1</td>\n",
              "      <td>0.000000</td>\n",
              "      <td>0.20</td>\n",
              "      <td>0.20</td>\n",
              "      <td>0.0</td>\n",
              "      <td>0.0</td>\n",
              "      <td>feb</td>\n",
              "      <td>4</td>\n",
              "      <td>1</td>\n",
              "      <td>9</td>\n",
              "      <td>3</td>\n",
              "      <td>returning_visitor</td>\n",
              "      <td>False</td>\n",
              "      <td>False</td>\n",
              "    </tr>\n",
              "    <tr>\n",
              "      <th>3</th>\n",
              "      <td>0</td>\n",
              "      <td>0.0</td>\n",
              "      <td>0</td>\n",
              "      <td>0.0</td>\n",
              "      <td>2</td>\n",
              "      <td>2.666667</td>\n",
              "      <td>0.05</td>\n",
              "      <td>0.14</td>\n",
              "      <td>0.0</td>\n",
              "      <td>0.0</td>\n",
              "      <td>feb</td>\n",
              "      <td>3</td>\n",
              "      <td>2</td>\n",
              "      <td>2</td>\n",
              "      <td>4</td>\n",
              "      <td>returning_visitor</td>\n",
              "      <td>False</td>\n",
              "      <td>False</td>\n",
              "    </tr>\n",
              "    <tr>\n",
              "      <th>4</th>\n",
              "      <td>0</td>\n",
              "      <td>0.0</td>\n",
              "      <td>0</td>\n",
              "      <td>0.0</td>\n",
              "      <td>10</td>\n",
              "      <td>627.500000</td>\n",
              "      <td>0.02</td>\n",
              "      <td>0.05</td>\n",
              "      <td>0.0</td>\n",
              "      <td>0.0</td>\n",
              "      <td>feb</td>\n",
              "      <td>3</td>\n",
              "      <td>3</td>\n",
              "      <td>1</td>\n",
              "      <td>4</td>\n",
              "      <td>returning_visitor</td>\n",
              "      <td>True</td>\n",
              "      <td>False</td>\n",
              "    </tr>\n",
              "  </tbody>\n",
              "</table>\n",
              "</div>\n",
              "      <button class=\"colab-df-convert\" onclick=\"convertToInteractive('df-ea4b909c-62d8-4a78-bf1b-f66269e36cdf')\"\n",
              "              title=\"Convert this dataframe to an interactive table.\"\n",
              "              style=\"display:none;\">\n",
              "        \n",
              "  <svg xmlns=\"http://www.w3.org/2000/svg\" height=\"24px\"viewBox=\"0 0 24 24\"\n",
              "       width=\"24px\">\n",
              "    <path d=\"M0 0h24v24H0V0z\" fill=\"none\"/>\n",
              "    <path d=\"M18.56 5.44l.94 2.06.94-2.06 2.06-.94-2.06-.94-.94-2.06-.94 2.06-2.06.94zm-11 1L8.5 8.5l.94-2.06 2.06-.94-2.06-.94L8.5 2.5l-.94 2.06-2.06.94zm10 10l.94 2.06.94-2.06 2.06-.94-2.06-.94-.94-2.06-.94 2.06-2.06.94z\"/><path d=\"M17.41 7.96l-1.37-1.37c-.4-.4-.92-.59-1.43-.59-.52 0-1.04.2-1.43.59L10.3 9.45l-7.72 7.72c-.78.78-.78 2.05 0 2.83L4 21.41c.39.39.9.59 1.41.59.51 0 1.02-.2 1.41-.59l7.78-7.78 2.81-2.81c.8-.78.8-2.07 0-2.86zM5.41 20L4 18.59l7.72-7.72 1.47 1.35L5.41 20z\"/>\n",
              "  </svg>\n",
              "      </button>\n",
              "      \n",
              "  <style>\n",
              "    .colab-df-container {\n",
              "      display:flex;\n",
              "      flex-wrap:wrap;\n",
              "      gap: 12px;\n",
              "    }\n",
              "\n",
              "    .colab-df-convert {\n",
              "      background-color: #E8F0FE;\n",
              "      border: none;\n",
              "      border-radius: 50%;\n",
              "      cursor: pointer;\n",
              "      display: none;\n",
              "      fill: #1967D2;\n",
              "      height: 32px;\n",
              "      padding: 0 0 0 0;\n",
              "      width: 32px;\n",
              "    }\n",
              "\n",
              "    .colab-df-convert:hover {\n",
              "      background-color: #E2EBFA;\n",
              "      box-shadow: 0px 1px 2px rgba(60, 64, 67, 0.3), 0px 1px 3px 1px rgba(60, 64, 67, 0.15);\n",
              "      fill: #174EA6;\n",
              "    }\n",
              "\n",
              "    [theme=dark] .colab-df-convert {\n",
              "      background-color: #3B4455;\n",
              "      fill: #D2E3FC;\n",
              "    }\n",
              "\n",
              "    [theme=dark] .colab-df-convert:hover {\n",
              "      background-color: #434B5C;\n",
              "      box-shadow: 0px 1px 3px 1px rgba(0, 0, 0, 0.15);\n",
              "      filter: drop-shadow(0px 1px 2px rgba(0, 0, 0, 0.3));\n",
              "      fill: #FFFFFF;\n",
              "    }\n",
              "  </style>\n",
              "\n",
              "      <script>\n",
              "        const buttonEl =\n",
              "          document.querySelector('#df-ea4b909c-62d8-4a78-bf1b-f66269e36cdf button.colab-df-convert');\n",
              "        buttonEl.style.display =\n",
              "          google.colab.kernel.accessAllowed ? 'block' : 'none';\n",
              "\n",
              "        async function convertToInteractive(key) {\n",
              "          const element = document.querySelector('#df-ea4b909c-62d8-4a78-bf1b-f66269e36cdf');\n",
              "          const dataTable =\n",
              "            await google.colab.kernel.invokeFunction('convertToInteractive',\n",
              "                                                     [key], {});\n",
              "          if (!dataTable) return;\n",
              "\n",
              "          const docLinkHtml = 'Like what you see? Visit the ' +\n",
              "            '<a target=\"_blank\" href=https://colab.research.google.com/notebooks/data_table.ipynb>data table notebook</a>'\n",
              "            + ' to learn more about interactive tables.';\n",
              "          element.innerHTML = '';\n",
              "          dataTable['output_type'] = 'display_data';\n",
              "          await google.colab.output.renderOutput(dataTable, element);\n",
              "          const docLink = document.createElement('div');\n",
              "          docLink.innerHTML = docLinkHtml;\n",
              "          element.appendChild(docLink);\n",
              "        }\n",
              "      </script>\n",
              "    </div>\n",
              "  </div>\n",
              "  "
            ]
          },
          "metadata": {},
          "execution_count": 11
        }
      ]
    },
    {
      "cell_type": "code",
      "source": [
        "# 999999999 - several values of that in the income, assets, and debt column\n",
        "# if you ever need to replace values in a col -> here is your template for that\n",
        "# for c in ['income', 'assets','debt']:\n",
        "#  df[c] = df[c].replace(to_replace=99999999,value=np.nan)\n",
        "# df = df[df.status != 'unk']\n",
        "df.nunique()"
      ],
      "metadata": {
        "colab": {
          "base_uri": "https://localhost:8080/"
        },
        "id": "QgiFctezoNkI",
        "outputId": "7ccb5458-704d-46e9-d393-ab3baf9ff53a"
      },
      "execution_count": null,
      "outputs": [
        {
          "output_type": "execute_result",
          "data": {
            "text/plain": [
              "administrative               27\n",
              "administrative_duration    3335\n",
              "informational                17\n",
              "informational_duration     1258\n",
              "productrelated              311\n",
              "productrelated_duration    9551\n",
              "bouncerates                1872\n",
              "exitrates                  4777\n",
              "pagevalues                 2704\n",
              "specialday                    6\n",
              "month                        10\n",
              "operatingsystems              8\n",
              "browser                      13\n",
              "region                        9\n",
              "traffictype                  20\n",
              "visitortype                   3\n",
              "weekend                       2\n",
              "revenue                       2\n",
              "dtype: int64"
            ]
          },
          "metadata": {},
          "execution_count": 12
        }
      ]
    },
    {
      "cell_type": "code",
      "source": [
        "df['revenue'].unique()"
      ],
      "metadata": {
        "colab": {
          "base_uri": "https://localhost:8080/"
        },
        "id": "HuDlZL6opORB",
        "outputId": "62cf5a37-dea0-421c-bd59-237678638522"
      },
      "execution_count": null,
      "outputs": [
        {
          "output_type": "execute_result",
          "data": {
            "text/plain": [
              "array([False,  True])"
            ]
          },
          "metadata": {},
          "execution_count": 13
        }
      ]
    },
    {
      "cell_type": "code",
      "source": [
        "df['revenue'].value_counts()"
      ],
      "metadata": {
        "colab": {
          "base_uri": "https://localhost:8080/"
        },
        "id": "M4BbaLw8pWMk",
        "outputId": "0e508ff8-3429-4b34-aee5-15f921360573"
      },
      "execution_count": null,
      "outputs": [
        {
          "output_type": "execute_result",
          "data": {
            "text/plain": [
              "False    10422\n",
              "True      1908\n",
              "Name: revenue, dtype: int64"
            ]
          },
          "metadata": {},
          "execution_count": 14
        }
      ]
    },
    {
      "cell_type": "code",
      "source": [
        "# df = df[df.status != 0]\n",
        "df.revenue.value_counts() "
      ],
      "metadata": {
        "id": "Ut7jQ1wcpkdy",
        "colab": {
          "base_uri": "https://localhost:8080/"
        },
        "outputId": "d0fc059d-96a1-40ee-f0f4-59895f1debed"
      },
      "execution_count": null,
      "outputs": [
        {
          "output_type": "execute_result",
          "data": {
            "text/plain": [
              "False    10422\n",
              "True      1908\n",
              "Name: revenue, dtype: int64"
            ]
          },
          "metadata": {},
          "execution_count": 15
        }
      ]
    },
    {
      "cell_type": "code",
      "source": [
        "# Replace with your target variable --- df.YOUR_TARGET_VARIABLE  \n",
        "# Look for major data imbalances\n",
        "# Also replace your X label\n",
        "# REPLACE YOUR TARGET VARIABLE\n",
        "plt.figure(figsize=(6, 4))\n",
        "\n",
        "sns.histplot(df.revenue, bins=40, color='black', alpha=1)\n",
        "plt.ylabel('Frequency')\n",
        "plt.xlabel('revenue')\n",
        "plt.title('revenue')\n",
        "\n",
        "plt.show()"
      ],
      "metadata": {
        "colab": {
          "base_uri": "https://localhost:8080/",
          "height": 295
        },
        "id": "Ayg9-vrTp0NU",
        "outputId": "1a865035-5284-4d41-b705-26e3131ad664"
      },
      "execution_count": null,
      "outputs": [
        {
          "output_type": "display_data",
          "data": {
            "text/plain": [
              "<Figure size 432x288 with 1 Axes>"
            ],
            "image/png": "[encoded data removed]"
          },
          "metadata": {
            "needs_background": "light"
          }
        }
      ]
    },
    {
      "cell_type": "markdown",
      "source": [
        "Notes\n",
        "(1) Check for NaN under a single DataFrame column:\n",
        "\n",
        "df['your column name'].isnull().values.any()\n",
        "\n",
        "(2) Count the NaN under a single DataFrame column:\n",
        "\n",
        "df['your column name'].isnull().sum()\n",
        "\n",
        "(3) Check for NaN under an entire DataFrame:\n",
        "df.isnull().values.any()\n",
        "\n",
        "(4) Count the NaN under an entire DataFrame:\n",
        "df.isnull().sum().sum()"
      ],
      "metadata": {
        "id": "fBljPIjUp86W"
      }
    },
    {
      "cell_type": "code",
      "source": [
        "# Check for nulls --- you do NOT want nulls when you train\n",
        "df.isnull().sum()"
      ],
      "metadata": {
        "colab": {
          "base_uri": "https://localhost:8080/"
        },
        "id": "8qHxyaXfqDzi",
        "outputId": "4c1cd4e6-1143-40b3-ac64-e6725b5d8543"
      },
      "execution_count": null,
      "outputs": [
        {
          "output_type": "execute_result",
          "data": {
            "text/plain": [
              "administrative             0\n",
              "administrative_duration    0\n",
              "informational              0\n",
              "informational_duration     0\n",
              "productrelated             0\n",
              "productrelated_duration    0\n",
              "bouncerates                0\n",
              "exitrates                  0\n",
              "pagevalues                 0\n",
              "specialday                 0\n",
              "month                      0\n",
              "operatingsystems           0\n",
              "browser                    0\n",
              "region                     0\n",
              "traffictype                0\n",
              "visitortype                0\n",
              "weekend                    0\n",
              "revenue                    0\n",
              "dtype: int64"
            ]
          },
          "metadata": {},
          "execution_count": 18
        }
      ]
    },
    {
      "cell_type": "code",
      "source": [
        "#delete columns --- this may or may NOT be needed.  As before - skip if you don't need it\n",
        "# You will encounter times where you will want to delete columns.  This is how you do that.\n",
        "# df = df.drop(['x5_latitude', 'x6_longitude', 'x1_transaction_date'], axis=1)\n",
        "# df"
      ],
      "metadata": {
        "id": "Fm-FVk5kqYfS"
      },
      "execution_count": null,
      "outputs": []
    },
    {
      "cell_type": "code",
      "source": [
        "# Split the data into test, train, validation sets... 80/20\n",
        "from sklearn.model_selection import train_test_split\n",
        "# This gives the 80/20 train test split\n",
        "df_train_full, df_test = train_test_split(df, test_size=0.2, random_state=11)\n",
        "\n",
        "len(df_train_full), len(df_test)\n",
        "# Replace nulls with 0's - these are pandas dataframes\n",
        "df_train_full = df_train_full.fillna(0)\n",
        "\n",
        "df_test = df_test.fillna(0)\n",
        "len(df_train_full),len(df_test)"
      ],
      "metadata": {
        "colab": {
          "base_uri": "https://localhost:8080/"
        },
        "id": "jJwApnmRqa8p",
        "outputId": "9a47fe7d-9fb5-4393-9784-edac86cce5e6"
      },
      "execution_count": null,
      "outputs": [
        {
          "output_type": "execute_result",
          "data": {
            "text/plain": [
              "(9864, 2466)"
            ]
          },
          "metadata": {},
          "execution_count": 19
        }
      ]
    },
    {
      "cell_type": "code",
      "source": [
        "#Split the y out into train/test/splits... these are numpy ndarrays ... msrp is your target variables\n",
        "# Replace with your target variable!!!  \n",
        "y_train = (df_train_full.revenue).values\n",
        "y_test = (df_test.revenue).values\n",
        "del df_train_full['revenue']\n",
        "del df_test['revenue']"
      ],
      "metadata": {
        "id": "e7wWDlEvu58z"
      },
      "execution_count": null,
      "outputs": []
    },
    {
      "cell_type": "code",
      "source": [
        "len(y_train),len(y_test)\n"
      ],
      "metadata": {
        "colab": {
          "base_uri": "https://localhost:8080/"
        },
        "id": "QT4gIVgMvCUS",
        "outputId": "c13fd808-1c06-439f-ebaa-e4f0614eb7bb"
      },
      "execution_count": null,
      "outputs": [
        {
          "output_type": "execute_result",
          "data": {
            "text/plain": [
              "(9864, 2466)"
            ]
          },
          "metadata": {},
          "execution_count": 21
        }
      ]
    },
    {
      "cell_type": "code",
      "source": [
        "# Convert these data frames into a LIST of DICTIONARIES (each element in the list is a dictionary (the record))\n",
        "# IF YOU HAVE CAT values... we need to encode them... pandas get dummies OR dictionary vectorizor OR several other examples... allow us to encode\n",
        "# this example will work with ANY cat data.\n",
        "dict_train = df_train_full.to_dict(orient='records')\n",
        "dict_test = df_test.to_dict(orient='records')"
      ],
      "metadata": {
        "id": "XTb5P5nhvFpC"
      },
      "execution_count": null,
      "outputs": []
    },
    {
      "cell_type": "code",
      "source": [
        "# Convert the LIST OF DICTIONARIES into a Feature Matrix (does all of the encoding)\n",
        "from sklearn.feature_extraction import DictVectorizer\n",
        " \n",
        "dv = DictVectorizer(sparse=False)\n",
        " \n",
        "X_train = dv.fit_transform(dict_train)\n",
        "X_test = dv.transform(dict_test)\n",
        "features = dv.feature_names_  #Features as they exist in the Vectorized Dictionary (this is an ndarray)"
      ],
      "metadata": {
        "id": "gxEVjWk9vZ_h"
      },
      "execution_count": null,
      "outputs": []
    },
    {
      "cell_type": "code",
      "source": [
        "features"
      ],
      "metadata": {
        "colab": {
          "base_uri": "https://localhost:8080/"
        },
        "id": "_hdqEBmZvZ35",
        "outputId": "1ff39049-7aac-496b-d7f9-fe4ac5890de1"
      },
      "execution_count": null,
      "outputs": [
        {
          "output_type": "execute_result",
          "data": {
            "text/plain": [
              "['administrative',\n",
              " 'administrative_duration',\n",
              " 'bouncerates',\n",
              " 'browser',\n",
              " 'exitrates',\n",
              " 'informational',\n",
              " 'informational_duration',\n",
              " 'month=aug',\n",
              " 'month=dec',\n",
              " 'month=feb',\n",
              " 'month=jul',\n",
              " 'month=june',\n",
              " 'month=mar',\n",
              " 'month=may',\n",
              " 'month=nov',\n",
              " 'month=oct',\n",
              " 'month=sep',\n",
              " 'operatingsystems',\n",
              " 'pagevalues',\n",
              " 'productrelated',\n",
              " 'productrelated_duration',\n",
              " 'region',\n",
              " 'specialday',\n",
              " 'traffictype',\n",
              " 'visitortype=new_visitor',\n",
              " 'visitortype=other',\n",
              " 'visitortype=returning_visitor',\n",
              " 'weekend']"
            ]
          },
          "metadata": {},
          "execution_count": 24
        }
      ]
    },
    {
      "cell_type": "code",
      "source": [
        "X_test.shape"
      ],
      "metadata": {
        "colab": {
          "base_uri": "https://localhost:8080/"
        },
        "id": "xHHqdPQpv9Gc",
        "outputId": "2ccba3ff-3459-41c4-dc81-be4d8a3144a9"
      },
      "execution_count": null,
      "outputs": [
        {
          "output_type": "execute_result",
          "data": {
            "text/plain": [
              "(2466, 28)"
            ]
          },
          "metadata": {},
          "execution_count": 25
        }
      ]
    },
    {
      "cell_type": "code",
      "source": [
        "# Compare Algorithms with the Algorithm Harness\n",
        "# https://scikit-learn.org/stable/supervised_learning.html#supervised-learning\n",
        "from sklearn.metrics import roc_auc_score\n",
        "from time import time\n",
        "from sklearn.metrics import explained_variance_score,mean_absolute_error,r2_score\n",
        "from pandas import read_csv\n",
        "from matplotlib import pyplot\n",
        "from sklearn.model_selection import KFold\n",
        "from sklearn.model_selection import cross_val_score\n",
        "from sklearn.linear_model import LogisticRegression\n",
        "from sklearn.tree import DecisionTreeClassifier\n",
        "from sklearn.neighbors import KNeighborsClassifier\n",
        "from sklearn.discriminant_analysis import LinearDiscriminantAnalysis\n",
        "from sklearn.naive_bayes import GaussianNB\n",
        "from sklearn.svm import SVC\n",
        "models = []\n",
        "models.append(('LR', LogisticRegression(solver='liblinear')))\n",
        "models.append(('LDA', LinearDiscriminantAnalysis()))\n",
        "models.append(('KNN', KNeighborsClassifier()))\n",
        "models.append(('CART', DecisionTreeClassifier()))\n",
        "models.append(('NB', GaussianNB()))\n",
        "models.append(('SVM', SVC(gamma='auto')))\n",
        "# evaluate each model in turn\n",
        "results = []\n",
        "names = []\n",
        "scoring = 'roc_auc'\n",
        "# scoring = 'accuracy'\n",
        "# you can also use other metrics to score your models: https://iqcode.com/code/python/sklearn-cross-val-score-scoring-options\n",
        "for name, model in models:\n",
        "    start = time()\n",
        "    kfold = KFold(n_splits=10, random_state=7, shuffle=True)\n",
        "    model.fit(X_train, y_train)\n",
        "    train_time = time() - start\n",
        "    cv_results = cross_val_score(model, X_train, y_train, cv=kfold, scoring=scoring)\n",
        "    predict_time = time()-start \n",
        "    results.append(cv_results)\n",
        "    names.append(name)\n",
        "    msg = \"%s: %f (%f)\" % (name, cv_results.mean(), cv_results.std())\n",
        "    #y_pred = model.predict_proba(X_train)[:, 1]\n",
        "    #auc = roc_auc_score(y_train, y_pred)\n",
        "    print(msg)\n",
        "    print(\"Score for each of the 10 K-fold tests: \",cv_results)\n",
        "    print(model)\n",
        "    print(\"\\tTraining time: %0.3fs\" % train_time)\n",
        "    print(\"\\tPrediction time: %0.3fs\" % predict_time)\n",
        "    #y_pred = model.predict(X_test)\n",
        "    #print(\"\\tExplained variance:\", explained_variance_score(y_test, y_pred))\n",
        "    print()\n",
        "    \n",
        "    \n",
        "    \n",
        "# boxplot algorithm comparison\n",
        "fig = pyplot.figure()\n",
        "fig.suptitle('Algorithm Comparison')\n",
        "ax = fig.add_subplot(111)\n",
        "pyplot.boxplot(results)\n",
        "ax.set_xticklabels(names)\n",
        "pyplot.show()"
      ],
      "metadata": {
        "colab": {
          "base_uri": "https://localhost:8080/",
          "height": 1000
        },
        "id": "1a5Q67iywPuN",
        "outputId": "b959d154-d529-4fa5-fae0-a2a282405f56"
      },
      "execution_count": null,
      "outputs": [
        {
          "output_type": "stream",
          "name": "stdout",
          "text": [
            "LR: 0.894390 (0.018003)\n",
            "Score for each of the 10 K-fold tests:  [0.91865685 0.86211811 0.88744728 0.89877164 0.89589066 0.87081529\n",
            " 0.88058798 0.90304296 0.91155315 0.91501595]\n",
            "LogisticRegression(solver='liblinear')\n",
            "\tTraining time: 0.265s\n",
            "\tPrediction time: 2.209s\n",
            "\n",
            "LDA: 0.895432 (0.017615)\n",
            "Score for each of the 10 K-fold tests:  [0.91857972 0.8616021  0.88799097 0.90206828 0.89907051 0.87484812\n",
            " 0.88246273 0.90097884 0.90863234 0.91808612]\n",
            "LinearDiscriminantAnalysis()\n",
            "\tTraining time: 0.142s\n",
            "\tPrediction time: 1.756s\n",
            "\n",
            "KNN: 0.762532 (0.025535)\n",
            "Score for each of the 10 K-fold tests:  [0.76616449 0.75604063 0.72433521 0.77332373 0.7724309  0.74335254\n",
            " 0.72835942 0.81647907 0.76374586 0.78108852]\n",
            "KNeighborsClassifier()\n",
            "\tTraining time: 0.002s\n",
            "\tPrediction time: 2.338s\n",
            "\n",
            "CART: 0.737740 (0.020318)\n",
            "Score for each of the 10 K-fold tests:  [0.74773211 0.72894995 0.7195779  0.76624312 0.73063047 0.73239085\n",
            " 0.69974035 0.75950622 0.72807923 0.76454545]\n",
            "DecisionTreeClassifier()\n",
            "\tTraining time: 0.213s\n",
            "\tPrediction time: 1.349s\n",
            "\n",
            "NB: 0.818325 (0.023831)\n",
            "Score for each of the 10 K-fold tests:  [0.85682989 0.78199279 0.82343153 0.80138459 0.78810845 0.80575703\n",
            " 0.81380186 0.82185706 0.84105921 0.8490311 ]\n",
            "GaussianNB()\n",
            "\tTraining time: 0.005s\n",
            "\tPrediction time: 0.078s\n",
            "\n",
            "SVM: 0.796177 (0.010423)\n",
            "Score for each of the 10 K-fold tests:  [0.8019763  0.79030224 0.78478401 0.78668229 0.8098858  0.78475427\n",
            " 0.78976184 0.81453993 0.80582484 0.79325758]\n",
            "SVC(gamma='auto')\n",
            "\tTraining time: 11.971s\n",
            "\tPrediction time: 95.156s\n",
            "\n"
          ]
        },
        {
          "output_type": "display_data",
          "data": {
            "text/plain": [
              "<Figure size 432x288 with 1 Axes>"
            ],
            "image/png": "[encoded data removed]"
          },
          "metadata": {
            "needs_background": "light"
          }
        }
      ]
    },
    {
      "cell_type": "code",
      "source": [
        "# once you have identified a couple of models... being to drill down and tweak it\n",
        "# %%timeit -n 1\n",
        "# if you uncomment %%timeit it will not put lr into memory\n",
        "# Let's assume that the decision tree is the one we want to explore\n",
        "from sklearn.tree import DecisionTreeClassifier\n",
        "dt = DecisionTreeClassifier()\n",
        "dt.fit(X_train, y_train)  # in this step here... you are training the data to the model... ie:  fitting the data to the model"
      ],
      "metadata": {
        "colab": {
          "base_uri": "https://localhost:8080/",
          "height": 74
        },
        "id": "ToDKTRl91ozp",
        "outputId": "91bf24d9-129f-4bfb-ed4b-d604240cde65"
      },
      "execution_count": null,
      "outputs": [
        {
          "output_type": "execute_result",
          "data": {
            "text/plain": [
              "DecisionTreeClassifier()"
            ],
            "text/html": [
              "<style>#sk-container-id-1 {color: black;background-color: white;}#sk-container-id-1 pre{padding: 0;}#sk-container-id-1 div.sk-toggleable {background-color: white;}#sk-container-id-1 label.sk-toggleable__label {cursor: pointer;display: block;width: 100%;margin-bottom: 0;padding: 0.3em;box-sizing: border-box;text-align: center;}#sk-container-id-1 label.sk-toggleable__label-arrow:before {content: \"▸\";float: left;margin-right: 0.25em;color: #696969;}#sk-container-id-1 label.sk-toggleable__label-arrow:hover:before {color: black;}#sk-container-id-1 div.sk-estimator:hover label.sk-toggleable__label-arrow:before {color: black;}#sk-container-id-1 div.sk-toggleable__content {max-height: 0;max-width: 0;overflow: hidden;text-align: left;background-color: #f0f8ff;}#sk-container-id-1 div.sk-toggleable__content pre {margin: 0.2em;color: black;border-radius: 0.25em;background-color: #f0f8ff;}#sk-container-id-1 input.sk-toggleable__control:checked~div.sk-toggleable__content {max-height: 200px;max-width: 100%;overflow: auto;}#sk-container-id-1 input.sk-toggleable__control:checked~label.sk-toggleable__label-arrow:before {content: \"▾\";}#sk-container-id-1 div.sk-estimator input.sk-toggleable__control:checked~label.sk-toggleable__label {background-color: #d4ebff;}#sk-container-id-1 div.sk-label input.sk-toggleable__control:checked~label.sk-toggleable__label {background-color: #d4ebff;}#sk-container-id-1 input.sk-hidden--visually {border: 0;clip: rect(1px 1px 1px 1px);clip: rect(1px, 1px, 1px, 1px);height: 1px;margin: -1px;overflow: hidden;padding: 0;position: absolute;width: 1px;}#sk-container-id-1 div.sk-estimator {font-family: monospace;background-color: #f0f8ff;border: 1px dotted black;border-radius: 0.25em;box-sizing: border-box;margin-bottom: 0.5em;}#sk-container-id-1 div.sk-estimator:hover {background-color: #d4ebff;}#sk-container-id-1 div.sk-parallel-item::after {content: \"\";width: 100%;border-bottom: 1px solid gray;flex-grow: 1;}#sk-container-id-1 div.sk-label:hover label.sk-toggleable__label {background-color: #d4ebff;}#sk-container-id-1 div.sk-serial::before {content: \"\";position: absolute;border-left: 1px solid gray;box-sizing: border-box;top: 0;bottom: 0;left: 50%;z-index: 0;}#sk-container-id-1 div.sk-serial {display: flex;flex-direction: column;align-items: center;background-color: white;padding-right: 0.2em;padding-left: 0.2em;position: relative;}#sk-container-id-1 div.sk-item {position: relative;z-index: 1;}#sk-container-id-1 div.sk-parallel {display: flex;align-items: stretch;justify-content: center;background-color: white;position: relative;}#sk-container-id-1 div.sk-item::before, #sk-container-id-1 div.sk-parallel-item::before {content: \"\";position: absolute;border-left: 1px solid gray;box-sizing: border-box;top: 0;bottom: 0;left: 50%;z-index: -1;}#sk-container-id-1 div.sk-parallel-item {display: flex;flex-direction: column;z-index: 1;position: relative;background-color: white;}#sk-container-id-1 div.sk-parallel-item:first-child::after {align-self: flex-end;width: 50%;}#sk-container-id-1 div.sk-parallel-item:last-child::after {align-self: flex-start;width: 50%;}#sk-container-id-1 div.sk-parallel-item:only-child::after {width: 0;}#sk-container-id-1 div.sk-dashed-wrapped {border: 1px dashed gray;margin: 0 0.4em 0.5em 0.4em;box-sizing: border-box;padding-bottom: 0.4em;background-color: white;}#sk-container-id-1 div.sk-label label {font-family: monospace;font-weight: bold;display: inline-block;line-height: 1.2em;}#sk-container-id-1 div.sk-label-container {text-align: center;}#sk-container-id-1 div.sk-container {/* jupyter's `normalize.less` sets `[hidden] { display: none; }` but bootstrap.min.css set `[hidden] { display: none !important; }` so we also need the `!important` here to be able to override the default hidden behavior on the sphinx rendered scikit-learn.org. See: https://github.com/scikit-learn/scikit-learn/issues/21755 */display: inline-block !important;position: relative;}#sk-container-id-1 div.sk-text-repr-fallback {display: none;}</style><div id=\"sk-container-id-1\" class=\"sk-top-container\"><div class=\"sk-text-repr-fallback\"><pre>DecisionTreeClassifier()</pre><b>In a Jupyter environment, please rerun this cell to show the HTML representation or trust the notebook. <br />On GitHub, the HTML representation is unable to render, please try loading this page with nbviewer.org.</b></div><div class=\"sk-container\" hidden><div class=\"sk-item\"><div class=\"sk-estimator sk-toggleable\"><input class=\"sk-toggleable__control sk-hidden--visually\" id=\"sk-estimator-id-1\" type=\"checkbox\" checked><label for=\"sk-estimator-id-1\" class=\"sk-toggleable__label sk-toggleable__label-arrow\">DecisionTreeClassifier</label><div class=\"sk-toggleable__content\"><pre>DecisionTreeClassifier()</pre></div></div></div></div></div>"
            ]
          },
          "metadata": {},
          "execution_count": 28
        }
      ]
    },
    {
      "cell_type": "code",
      "source": [
        "# This will give you the list of Hyperparameters of your model\n",
        "dt.get_params()"
      ],
      "metadata": {
        "colab": {
          "base_uri": "https://localhost:8080/"
        },
        "id": "pmXF-FBz2H1i",
        "outputId": "81f43594-0a75-42c6-c551-a8ce82582340"
      },
      "execution_count": null,
      "outputs": [
        {
          "output_type": "execute_result",
          "data": {
            "text/plain": [
              "{'ccp_alpha': 0.0,\n",
              " 'class_weight': None,\n",
              " 'criterion': 'gini',\n",
              " 'max_depth': None,\n",
              " 'max_features': None,\n",
              " 'max_leaf_nodes': None,\n",
              " 'min_impurity_decrease': 0.0,\n",
              " 'min_samples_leaf': 1,\n",
              " 'min_samples_split': 2,\n",
              " 'min_weight_fraction_leaf': 0.0,\n",
              " 'random_state': None,\n",
              " 'splitter': 'best'}"
            ]
          },
          "metadata": {},
          "execution_count": 29
        }
      ]
    },
    {
      "cell_type": "code",
      "source": [
        "# You have converted the dataframe into a list of dictionaries - validate the headers\n",
        "type(X_train)\n",
        "type(dv.feature_names_)\n",
        "type(dt.feature_importances_)\n",
        "dv.feature_names_"
      ],
      "metadata": {
        "colab": {
          "base_uri": "https://localhost:8080/"
        },
        "id": "fUkksRy12WQS",
        "outputId": "f819ddb3-a15b-4492-c3c9-6e58ea0e850f"
      },
      "execution_count": null,
      "outputs": [
        {
          "output_type": "execute_result",
          "data": {
            "text/plain": [
              "['administrative',\n",
              " 'administrative_duration',\n",
              " 'bouncerates',\n",
              " 'browser',\n",
              " 'exitrates',\n",
              " 'informational',\n",
              " 'informational_duration',\n",
              " 'month=aug',\n",
              " 'month=dec',\n",
              " 'month=feb',\n",
              " 'month=jul',\n",
              " 'month=june',\n",
              " 'month=mar',\n",
              " 'month=may',\n",
              " 'month=nov',\n",
              " 'month=oct',\n",
              " 'month=sep',\n",
              " 'operatingsystems',\n",
              " 'pagevalues',\n",
              " 'productrelated',\n",
              " 'productrelated_duration',\n",
              " 'region',\n",
              " 'specialday',\n",
              " 'traffictype',\n",
              " 'visitortype=new_visitor',\n",
              " 'visitortype=other',\n",
              " 'visitortype=returning_visitor',\n",
              " 'weekend']"
            ]
          },
          "metadata": {},
          "execution_count": 30
        }
      ]
    },
    {
      "cell_type": "code",
      "source": [
        "# These are the model properties.  You can call all of these\n",
        "def get_properties(model):   \n",
        "  return [i for i in model.__dict__ if i.endswith('_')] \n",
        "get_properties(dt)"
      ],
      "metadata": {
        "colab": {
          "base_uri": "https://localhost:8080/"
        },
        "id": "nXBSzZNl28Fz",
        "outputId": "1a4064d0-3635-4b4e-92b9-134c5c5fa3e5"
      },
      "execution_count": null,
      "outputs": [
        {
          "output_type": "execute_result",
          "data": {
            "text/plain": [
              "['n_features_in_',\n",
              " 'n_outputs_',\n",
              " 'classes_',\n",
              " 'n_classes_',\n",
              " 'max_features_',\n",
              " 'tree_']"
            ]
          },
          "metadata": {},
          "execution_count": 31
        }
      ]
    },
    {
      "cell_type": "code",
      "source": [
        "# Very important.  Once you have a trained model - interegate the coefficients to see WHAT is important\n",
        "feature_names=dv.feature_names_\n",
        "# Evaluate the coefficients to learn what the model thinks is important in the predictions.\n",
        "for i,j in zip(feature_names, dt.feature_importances_): print('%.3f' % j, i)"
      ],
      "metadata": {
        "colab": {
          "base_uri": "https://localhost:8080/"
        },
        "id": "wOXb1aFj3C_6",
        "outputId": "ecb64ce4-fa6a-4112-fd8c-69d896442e0d"
      },
      "execution_count": null,
      "outputs": [
        {
          "output_type": "stream",
          "name": "stdout",
          "text": [
            "0.044 administrative\n",
            "0.047 administrative_duration\n",
            "0.078 bouncerates\n",
            "0.019 browser\n",
            "0.082 exitrates\n",
            "0.014 informational\n",
            "0.023 informational_duration\n",
            "0.001 month=aug\n",
            "0.007 month=dec\n",
            "0.000 month=feb\n",
            "0.003 month=jul\n",
            "0.001 month=june\n",
            "0.009 month=mar\n",
            "0.004 month=may\n",
            "0.024 month=nov\n",
            "0.003 month=oct\n",
            "0.003 month=sep\n",
            "0.014 operatingsystems\n",
            "0.415 pagevalues\n",
            "0.066 productrelated\n",
            "0.075 productrelated_duration\n",
            "0.029 region\n",
            "0.002 specialday\n",
            "0.018 traffictype\n",
            "0.006 visitortype=new_visitor\n",
            "0.001 visitortype=other\n",
            "0.003 visitortype=returning_visitor\n",
            "0.006 weekend\n"
          ]
        }
      ]
    },
    {
      "cell_type": "code",
      "source": [
        "from sklearn.metrics import confusion_matrix\n",
        "from sklearn.metrics import precision_score, recall_score, f1_score, accuracy_score\n",
        "import matplotlib.pyplot as plt\n",
        "# predict_proba predicts the probability and predict just predicts the category\n",
        "# y_pred = dt.predict_proba(X_test)[:, 1]\n",
        "y_pred = dt.predict(X_test)\n",
        "\n",
        "conf_matrix = confusion_matrix(y_true=y_test, y_pred=y_pred)\n",
        "#\n",
        "# Print the confusion matrix using Matplotlib\n",
        "#\n",
        "fig, ax = plt.subplots(figsize=(5, 5))\n",
        "ax.matshow(conf_matrix, cmap=plt.cm.Oranges, alpha=0.3)\n",
        "for i in range(conf_matrix.shape[0]):\n",
        "    for j in range(conf_matrix.shape[1]):\n",
        "        ax.text(x=j, y=i,s=conf_matrix[i, j], va='center', ha='center', size='xx-large')\n",
        " \n",
        "plt.xlabel('Predictions', fontsize=18)\n",
        "plt.ylabel('Actuals', fontsize=18)\n",
        "plt.title('Confusion Matrix', fontsize=18)\n",
        "plt.show()"
      ],
      "metadata": {
        "colab": {
          "base_uri": "https://localhost:8080/",
          "height": 365
        },
        "id": "sf64oPqS4fX4",
        "outputId": "cd522ed6-0814-47d7-f5c0-f7d711a9d45b"
      },
      "execution_count": null,
      "outputs": [
        {
          "output_type": "display_data",
          "data": {
            "text/plain": [
              "<Figure size 360x360 with 1 Axes>"
            ],
            "image/png": "[encoded data removed]"
          },
          "metadata": {
            "needs_background": "light"
          }
        }
      ]
    },
    {
      "cell_type": "code",
      "source": [
        "from sklearn.metrics import classification_report\n",
        "print(classification_report(y_test, y_pred))"
      ],
      "metadata": {
        "colab": {
          "base_uri": "https://localhost:8080/"
        },
        "id": "ZkLpJgdh9sY4",
        "outputId": "5ac84d02-d9d5-4b15-9609-fea6ecc501b9"
      },
      "execution_count": null,
      "outputs": [
        {
          "output_type": "stream",
          "name": "stdout",
          "text": [
            "              precision    recall  f1-score   support\n",
            "\n",
            "       False       0.91      0.92      0.91      2077\n",
            "        True       0.54      0.52      0.53       389\n",
            "\n",
            "    accuracy                           0.85      2466\n",
            "   macro avg       0.72      0.72      0.72      2466\n",
            "weighted avg       0.85      0.85      0.85      2466\n",
            "\n"
          ]
        }
      ]
    },
    {
      "cell_type": "code",
      "source": [
        "# Take a peek at your predictions:\n",
        "# Take a look at the first 10 rows and compare the predictions.\n",
        "pred_y = dt.predict(X_test)\n",
        "print(\"The first 10 prediction {}\".format(pred_y[:10].round(0)))\n",
        "print(\"The real first 10 labels {}\".format(y_test[:10]))"
      ],
      "metadata": {
        "colab": {
          "base_uri": "https://localhost:8080/"
        },
        "id": "235GOTC__Jdf",
        "outputId": "76b2c90e-a1ce-4bdb-f773-9b09af962bdb"
      },
      "execution_count": null,
      "outputs": [
        {
          "output_type": "stream",
          "name": "stdout",
          "text": [
            "The first 10 prediction [0. 0. 0. 0. 0. 0. 0. 0. 0. 1.]\n",
            "The real first 10 labels [False False False False False False False False False  True]\n"
          ]
        }
      ]
    },
    {
      "cell_type": "code",
      "source": [
        "# How to make predictions with BRAND NEW VALUES\n",
        "type(df_train_full.head(1))"
      ],
      "metadata": {
        "colab": {
          "base_uri": "https://localhost:8080/"
        },
        "id": "V9UEiUFy_M4g",
        "outputId": "0dc1b0d0-68c3-4e9f-d40f-b5f8eef54024"
      },
      "execution_count": null,
      "outputs": [
        {
          "output_type": "execute_result",
          "data": {
            "text/plain": [
              "pandas.core.frame.DataFrame"
            ]
          },
          "metadata": {},
          "execution_count": 36
        }
      ]
    },
    {
      "cell_type": "code",
      "source": [
        "# Use double brackets around the iloc to force it to return a pandas dataframe and not a series\n",
        "# Then you can convert ANY record into a dictionary.\n",
        "# This is important because when you want to make a prediction - it must be in this format\n",
        "df_train_full.iloc[[21]]"
      ],
      "metadata": {
        "colab": {
          "base_uri": "https://localhost:8080/",
          "height": 145
        },
        "id": "Ecv0_lT6_gDP",
        "outputId": "6d12984c-2cc3-45eb-9cd2-69547b3f986a"
      },
      "execution_count": null,
      "outputs": [
        {
          "output_type": "execute_result",
          "data": {
            "text/plain": [
              "       administrative  administrative_duration  informational  \\\n",
              "10683               9                  227.375              4   \n",
              "\n",
              "       informational_duration  productrelated  productrelated_duration  \\\n",
              "10683                  102.25              48              2849.482143   \n",
              "\n",
              "       bouncerates  exitrates  pagevalues  specialday month  operatingsystems  \\\n",
              "10683          0.0   0.014854    4.741626         0.0   nov                 2   \n",
              "\n",
              "       browser  region  traffictype        visitortype  weekend  \n",
              "10683        2       4            2  returning_visitor    False  "
            ],
            "text/html": [
              "\n",
              "  <div id=\"df-19af32c6-26c8-498c-8287-308e83c0e994\">\n",
              "    <div class=\"colab-df-container\">\n",
              "      <div>\n",
              "<style scoped>\n",
              "    .dataframe tbody tr th:only-of-type {\n",
              "        vertical-align: middle;\n",
              "    }\n",
              "\n",
              "    .dataframe tbody tr th {\n",
              "        vertical-align: top;\n",
              "    }\n",
              "\n",
              "    .dataframe thead th {\n",
              "        text-align: right;\n",
              "    }\n",
              "</style>\n",
              "<table border=\"1\" class=\"dataframe\">\n",
              "  <thead>\n",
              "    <tr style=\"text-align: right;\">\n",
              "      <th></th>\n",
              "      <th>administrative</th>\n",
              "      <th>administrative_duration</th>\n",
              "      <th>informational</th>\n",
              "      <th>informational_duration</th>\n",
              "      <th>productrelated</th>\n",
              "      <th>productrelated_duration</th>\n",
              "      <th>bouncerates</th>\n",
              "      <th>exitrates</th>\n",
              "      <th>pagevalues</th>\n",
              "      <th>specialday</th>\n",
              "      <th>month</th>\n",
              "      <th>operatingsystems</th>\n",
              "      <th>browser</th>\n",
              "      <th>region</th>\n",
              "      <th>traffictype</th>\n",
              "      <th>visitortype</th>\n",
              "      <th>weekend</th>\n",
              "    </tr>\n",
              "  </thead>\n",
              "  <tbody>\n",
              "    <tr>\n",
              "      <th>10683</th>\n",
              "      <td>9</td>\n",
              "      <td>227.375</td>\n",
              "      <td>4</td>\n",
              "      <td>102.25</td>\n",
              "      <td>48</td>\n",
              "      <td>2849.482143</td>\n",
              "      <td>0.0</td>\n",
              "      <td>0.014854</td>\n",
              "      <td>4.741626</td>\n",
              "      <td>0.0</td>\n",
              "      <td>nov</td>\n",
              "      <td>2</td>\n",
              "      <td>2</td>\n",
              "      <td>4</td>\n",
              "      <td>2</td>\n",
              "      <td>returning_visitor</td>\n",
              "      <td>False</td>\n",
              "    </tr>\n",
              "  </tbody>\n",
              "</table>\n",
              "</div>\n",
              "      <button class=\"colab-df-convert\" onclick=\"convertToInteractive('df-19af32c6-26c8-498c-8287-308e83c0e994')\"\n",
              "              title=\"Convert this dataframe to an interactive table.\"\n",
              "              style=\"display:none;\">\n",
              "        \n",
              "  <svg xmlns=\"http://www.w3.org/2000/svg\" height=\"24px\"viewBox=\"0 0 24 24\"\n",
              "       width=\"24px\">\n",
              "    <path d=\"M0 0h24v24H0V0z\" fill=\"none\"/>\n",
              "    <path d=\"M18.56 5.44l.94 2.06.94-2.06 2.06-.94-2.06-.94-.94-2.06-.94 2.06-2.06.94zm-11 1L8.5 8.5l.94-2.06 2.06-.94-2.06-.94L8.5 2.5l-.94 2.06-2.06.94zm10 10l.94 2.06.94-2.06 2.06-.94-2.06-.94-.94-2.06-.94 2.06-2.06.94z\"/><path d=\"M17.41 7.96l-1.37-1.37c-.4-.4-.92-.59-1.43-.59-.52 0-1.04.2-1.43.59L10.3 9.45l-7.72 7.72c-.78.78-.78 2.05 0 2.83L4 21.41c.39.39.9.59 1.41.59.51 0 1.02-.2 1.41-.59l7.78-7.78 2.81-2.81c.8-.78.8-2.07 0-2.86zM5.41 20L4 18.59l7.72-7.72 1.47 1.35L5.41 20z\"/>\n",
              "  </svg>\n",
              "      </button>\n",
              "      \n",
              "  <style>\n",
              "    .colab-df-container {\n",
              "      display:flex;\n",
              "      flex-wrap:wrap;\n",
              "      gap: 12px;\n",
              "    }\n",
              "\n",
              "    .colab-df-convert {\n",
              "      background-color: #E8F0FE;\n",
              "      border: none;\n",
              "      border-radius: 50%;\n",
              "      cursor: pointer;\n",
              "      display: none;\n",
              "      fill: #1967D2;\n",
              "      height: 32px;\n",
              "      padding: 0 0 0 0;\n",
              "      width: 32px;\n",
              "    }\n",
              "\n",
              "    .colab-df-convert:hover {\n",
              "      background-color: #E2EBFA;\n",
              "      box-shadow: 0px 1px 2px rgba(60, 64, 67, 0.3), 0px 1px 3px 1px rgba(60, 64, 67, 0.15);\n",
              "      fill: #174EA6;\n",
              "    }\n",
              "\n",
              "    [theme=dark] .colab-df-convert {\n",
              "      background-color: #3B4455;\n",
              "      fill: #D2E3FC;\n",
              "    }\n",
              "\n",
              "    [theme=dark] .colab-df-convert:hover {\n",
              "      background-color: #434B5C;\n",
              "      box-shadow: 0px 1px 3px 1px rgba(0, 0, 0, 0.15);\n",
              "      filter: drop-shadow(0px 1px 2px rgba(0, 0, 0, 0.3));\n",
              "      fill: #FFFFFF;\n",
              "    }\n",
              "  </style>\n",
              "\n",
              "      <script>\n",
              "        const buttonEl =\n",
              "          document.querySelector('#df-19af32c6-26c8-498c-8287-308e83c0e994 button.colab-df-convert');\n",
              "        buttonEl.style.display =\n",
              "          google.colab.kernel.accessAllowed ? 'block' : 'none';\n",
              "\n",
              "        async function convertToInteractive(key) {\n",
              "          const element = document.querySelector('#df-19af32c6-26c8-498c-8287-308e83c0e994');\n",
              "          const dataTable =\n",
              "            await google.colab.kernel.invokeFunction('convertToInteractive',\n",
              "                                                     [key], {});\n",
              "          if (!dataTable) return;\n",
              "\n",
              "          const docLinkHtml = 'Like what you see? Visit the ' +\n",
              "            '<a target=\"_blank\" href=https://colab.research.google.com/notebooks/data_table.ipynb>data table notebook</a>'\n",
              "            + ' to learn more about interactive tables.';\n",
              "          element.innerHTML = '';\n",
              "          dataTable['output_type'] = 'display_data';\n",
              "          await google.colab.output.renderOutput(dataTable, element);\n",
              "          const docLink = document.createElement('div');\n",
              "          docLink.innerHTML = docLinkHtml;\n",
              "          element.appendChild(docLink);\n",
              "        }\n",
              "      </script>\n",
              "    </div>\n",
              "  </div>\n",
              "  "
            ]
          },
          "metadata": {},
          "execution_count": 37
        }
      ]
    },
    {
      "cell_type": "code",
      "source": [
        "# How to convert any pandas row into a dictionary... needed for predictions\n",
        "df_train_full.iloc[[213]].to_dict('records')[0]"
      ],
      "metadata": {
        "colab": {
          "base_uri": "https://localhost:8080/"
        },
        "id": "FcEdnhCA_nrY",
        "outputId": "5452ce95-9656-4500-c116-cbd7f36460e6"
      },
      "execution_count": null,
      "outputs": [
        {
          "output_type": "execute_result",
          "data": {
            "text/plain": [
              "{'administrative': 7,\n",
              " 'administrative_duration': 103.6,\n",
              " 'informational': 0,\n",
              " 'informational_duration': 0.0,\n",
              " 'productrelated': 72,\n",
              " 'productrelated_duration': 1933.559259,\n",
              " 'bouncerates': 0.005333333,\n",
              " 'exitrates': 0.026377261,\n",
              " 'pagevalues': 7.806338478,\n",
              " 'specialday': 0.0,\n",
              " 'month': 'sep',\n",
              " 'operatingsystems': 2,\n",
              " 'browser': 2,\n",
              " 'region': 6,\n",
              " 'traffictype': 2,\n",
              " 'visitortype': 'returning_visitor',\n",
              " 'weekend': False}"
            ]
          },
          "metadata": {},
          "execution_count": 38
        }
      ]
    },
    {
      "cell_type": "code",
      "source": [
        "# How to convert any pandas row into a dictionary... needed for predictions\n",
        "df_train_full.head(21).to_dict('records')[0]"
      ],
      "metadata": {
        "colab": {
          "base_uri": "https://localhost:8080/"
        },
        "id": "LsIbRl7j_xkf",
        "outputId": "f0fc5824-7d07-4bc6-b797-d30a7ec9fc7f"
      },
      "execution_count": null,
      "outputs": [
        {
          "output_type": "execute_result",
          "data": {
            "text/plain": [
              "{'administrative': 0,\n",
              " 'administrative_duration': 0.0,\n",
              " 'informational': 0,\n",
              " 'informational_duration': 0.0,\n",
              " 'productrelated': 30,\n",
              " 'productrelated_duration': 849.75,\n",
              " 'bouncerates': 0.077419355,\n",
              " 'exitrates': 0.112903226,\n",
              " 'pagevalues': 0.0,\n",
              " 'specialday': 0.8,\n",
              " 'month': 'may',\n",
              " 'operatingsystems': 2,\n",
              " 'browser': 2,\n",
              " 'region': 3,\n",
              " 'traffictype': 20,\n",
              " 'visitortype': 'returning_visitor',\n",
              " 'weekend': False}"
            ]
          },
          "metadata": {},
          "execution_count": 39
        }
      ]
    },
    {
      "cell_type": "code",
      "source": [
        "#item = df_train.head(1).to_dict('records')[0]\n",
        "item = df_train_full.iloc[[213]].to_dict('records')[0]\n",
        "actual = y_train[[213]]"
      ],
      "metadata": {
        "id": "xLXtnot8_3S5"
      },
      "execution_count": null,
      "outputs": []
    },
    {
      "cell_type": "code",
      "source": [
        "item\n"
      ],
      "metadata": {
        "colab": {
          "base_uri": "https://localhost:8080/"
        },
        "id": "MpbiblV5__OW",
        "outputId": "be3d8d8e-a510-4f91-99ec-a2b1ddf3574f"
      },
      "execution_count": null,
      "outputs": [
        {
          "output_type": "execute_result",
          "data": {
            "text/plain": [
              "{'administrative': 7,\n",
              " 'administrative_duration': 103.6,\n",
              " 'informational': 0,\n",
              " 'informational_duration': 0.0,\n",
              " 'productrelated': 72,\n",
              " 'productrelated_duration': 1933.559259,\n",
              " 'bouncerates': 0.005333333,\n",
              " 'exitrates': 0.026377261,\n",
              " 'pagevalues': 7.806338478,\n",
              " 'specialday': 0.0,\n",
              " 'month': 'sep',\n",
              " 'operatingsystems': 2,\n",
              " 'browser': 2,\n",
              " 'region': 6,\n",
              " 'traffictype': 2,\n",
              " 'visitortype': 'returning_visitor',\n",
              " 'weekend': False}"
            ]
          },
          "metadata": {},
          "execution_count": 41
        }
      ]
    },
    {
      "cell_type": "code",
      "source": [
        "# The item to be predicted is passed in.  \n",
        "def model_prediction(item, dv, model):\n",
        "    X = dv.transform([item])\n",
        "    y_pred = model.predict(X)\n",
        "    return y_pred[0]"
      ],
      "metadata": {
        "id": "HzueU9CQAD9A"
      },
      "execution_count": null,
      "outputs": []
    },
    {
      "cell_type": "code",
      "source": [
        "# The item to be predicted is passed in. Probability Model \n",
        "def model_prediction_proba(item, dv, model):\n",
        "    X = dv.transform([item])\n",
        "    y_pred = model.predict_proba(X)[:, 1]\n",
        "    return y_pred[0]"
      ],
      "metadata": {
        "id": "qPNehTt8AObA"
      },
      "execution_count": null,
      "outputs": []
    },
    {
      "cell_type": "code",
      "source": [
        "model_prediction(item,dv,dt)"
      ],
      "metadata": {
        "colab": {
          "base_uri": "https://localhost:8080/"
        },
        "id": "chGepKFjAS6e",
        "outputId": "221da3a3-c30c-4a3b-9a75-90dff91b9d97"
      },
      "execution_count": null,
      "outputs": [
        {
          "output_type": "execute_result",
          "data": {
            "text/plain": [
              "False"
            ]
          },
          "metadata": {},
          "execution_count": 44
        }
      ]
    },
    {
      "cell_type": "code",
      "source": [
        "actual"
      ],
      "metadata": {
        "colab": {
          "base_uri": "https://localhost:8080/"
        },
        "id": "rtDHgE_IAaqG",
        "outputId": "a9ea1044-b227-40c0-8d59-d7f20ba9a6f3"
      },
      "execution_count": null,
      "outputs": [
        {
          "output_type": "execute_result",
          "data": {
            "text/plain": [
              "array([False])"
            ]
          },
          "metadata": {},
          "execution_count": 45
        }
      ]
    },
    {
      "cell_type": "code",
      "source": [
        "model_prediction_proba(item,dv,dt)"
      ],
      "metadata": {
        "colab": {
          "base_uri": "https://localhost:8080/"
        },
        "id": "HALiy2NqCQt2",
        "outputId": "3dd9c1c9-a9e7-4544-8ba6-9b509dd41592"
      },
      "execution_count": null,
      "outputs": [
        {
          "output_type": "execute_result",
          "data": {
            "text/plain": [
              "0.0"
            ]
          },
          "metadata": {},
          "execution_count": 46
        }
      ]
    },
    {
      "cell_type": "code",
      "source": [
        "# How to convert any pandas row into a dictionary... needed for predictions\n",
        "# This will give you a template that you can manipulate to create predictions with new values\n",
        "df_train_full.iloc[[2]].to_dict('records')[0]"
      ],
      "metadata": {
        "colab": {
          "base_uri": "https://localhost:8080/"
        },
        "id": "OqYgPI7rAbvN",
        "outputId": "a20fde90-3f9d-4b26-deb0-301c1c441004"
      },
      "execution_count": null,
      "outputs": [
        {
          "output_type": "execute_result",
          "data": {
            "text/plain": [
              "{'administrative': 9,\n",
              " 'administrative_duration': 444.2847222,\n",
              " 'informational': 0,\n",
              " 'informational_duration': 0.0,\n",
              " 'productrelated': 534,\n",
              " 'productrelated_duration': 18504.12621,\n",
              " 'bouncerates': 0.010856514,\n",
              " 'exitrates': 0.023309001,\n",
              " 'pagevalues': 2.54795624,\n",
              " 'specialday': 0.0,\n",
              " 'month': 'nov',\n",
              " 'operatingsystems': 2,\n",
              " 'browser': 2,\n",
              " 'region': 3,\n",
              " 'traffictype': 2,\n",
              " 'visitortype': 'returning_visitor',\n",
              " 'weekend': True}"
            ]
          },
          "metadata": {},
          "execution_count": 47
        }
      ]
    },
    {
      "cell_type": "code",
      "source": [
        "# The list above can be copied into here.  Take everything after a \" : \" and put it in a [] so you can pass it in as a pd.DF\n",
        "# create a DataFrame by transforming scalar values to list   (toggle the weekend)\n",
        "\n",
        "myItem = {'administrative': 9,\n",
        " 'administrative_duration': 444.2847222,\n",
        " 'informational': 0,\n",
        " 'informational_duration': 0.0,\n",
        " 'productrelated': 534,\n",
        " 'productrelated_duration': 18504.12621,\n",
        " 'bouncerates': 0.010856514,\n",
        " 'exitrates': 0.023309001,\n",
        " 'pagevalues': 2.54795624,\n",
        " 'specialday': 0.0,\n",
        " 'month': 'nov',\n",
        " 'operatingsystems': 2,\n",
        " 'browser': 2,\n",
        " 'region': 3,\n",
        " 'traffictype': 2,\n",
        " 'visitortype': 'returning_visitor',\n",
        " 'weekend': True}\n",
        "\n"
      ],
      "metadata": {
        "id": "-oYinpMICJSf"
      },
      "execution_count": null,
      "outputs": []
    },
    {
      "cell_type": "code",
      "source": [
        "newDF = pd.DataFrame.from_dict(myItem)"
      ],
      "metadata": {
        "id": "JnG0GmHGCqZu"
      },
      "execution_count": null,
      "outputs": []
    },
    {
      "cell_type": "code",
      "source": [
        "newDF.head()"
      ],
      "metadata": {
        "id": "G0FElOaRCucd"
      },
      "execution_count": null,
      "outputs": []
    },
    {
      "cell_type": "code",
      "source": [
        "item = newDF.to_dict('records')[0]"
      ],
      "metadata": {
        "id": "ips80zYSCvnl"
      },
      "execution_count": null,
      "outputs": []
    },
    {
      "cell_type": "code",
      "source": [
        "model_prediction(item,dv,dt)"
      ],
      "metadata": {
        "id": "tITvtexvDoUu"
      },
      "execution_count": null,
      "outputs": []
    },
    {
      "cell_type": "code",
      "source": [
        "# Hyperparameter Tuning... light...\n",
        "# Look at the model parameters.   You can tune these.\n",
        "dt.get_params()"
      ],
      "metadata": {
        "id": "UPEr_muTDwsG"
      },
      "execution_count": null,
      "outputs": []
    },
    {
      "cell_type": "code",
      "source": [
        "from sklearn.tree import DecisionTreeClassifier\n",
        "from sklearn.model_selection import GridSearchCV\n",
        "params = {'min_samples_leaf': [1, 3],'max_depth': [4,6,8],'min_samples_split': [2,4]}\n",
        "grid_search_cv = GridSearchCV(DecisionTreeClassifier(random_state=42), params, verbose=1, cv=3)\n",
        "grid_search_cv.fit(X_train, y_train)"
      ],
      "metadata": {
        "id": "T2w1VgvCD6aw"
      },
      "execution_count": null,
      "outputs": []
    },
    {
      "cell_type": "code",
      "source": [
        "grid_search_cv.best_estimator_    # this will output the best values for the hyperparameters\n"
      ],
      "metadata": {
        "id": "k_DQBNV4EcP-"
      },
      "execution_count": null,
      "outputs": []
    },
    {
      "cell_type": "code",
      "source": [
        "# Let's assume that the decision tree is the one we want to explore\n",
        "from sklearn.tree import DecisionTreeClassifier\n",
        "dt = DecisionTreeClassifier(max_depth=4, min_samples_leaf=3, random_state=42)\n",
        "dt.fit(X_train, y_train)"
      ],
      "metadata": {
        "id": "yBzEdWadEjUG"
      },
      "execution_count": null,
      "outputs": []
    },
    {
      "cell_type": "code",
      "source": [
        "from sklearn.tree import export_graphviz\n",
        "export_graphviz( \n",
        " grid_search_cv.best_estimator_,\n",
        " out_file=('tree.dot'),\n",
        " feature_names=dv.feature_names_,\n",
        " class_names=None,\n",
        " filled=True,\n",
        ")"
      ],
      "metadata": {
        "id": "MIHOagwYFlQm"
      },
      "execution_count": null,
      "outputs": []
    },
    {
      "cell_type": "code",
      "source": [
        "!pip install pydot\n",
        "import pydot\n",
        "\n",
        "(graph,) = pydot.graph_from_dot_file('tree.dot')\n",
        "graph.write_png('tree.png')"
      ],
      "metadata": {
        "id": "a0I7OkEyFryW"
      },
      "execution_count": null,
      "outputs": []
    }
  ]
}