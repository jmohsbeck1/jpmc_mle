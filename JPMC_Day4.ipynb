{
  "nbformat": 4,
  "nbformat_minor": 0,
  "metadata": {
    "colab": {
      "provenance": [],
      "include_colab_link": true
    },
    "kernelspec": {
      "name": "python3",
      "display_name": "Python 3"
    },
    "language_info": {
      "name": "python"
    }
  },
  "cells": [
    {
      "cell_type": "markdown",
      "metadata": {
        "id": "view-in-github",
        "colab_type": "text"
      },
      "source": [
        "<a href=\"https://colab.research.google.com/github/jmohsbeck1/jpmc_mle/blob/labs/JPMC_Day4.ipynb\" target=\"_parent\"><img src=\"https://colab.research.google.com/assets/colab-badge.svg\" alt=\"Open In Colab\"/></a>"
      ]
    },
    {
      "cell_type": "code",
      "execution_count": 108,
      "metadata": {
        "colab": {
          "base_uri": "https://localhost:8080/",
          "height": 393
        },
        "id": "POzpprekiHG4",
        "outputId": "e8136f96-0c6f-4e38-c3a9-bd25f24207ad"
      },
      "outputs": [
        {
          "output_type": "stream",
          "name": "stderr",
          "text": [
            "/usr/local/lib/python3.9/dist-packages/sklearn/datasets/_openml.py:932: FutureWarning: The default value of `parser` will change from `'liac-arff'` to `'auto'` in 1.4. You can set `parser='auto'` to silence this warning. Therefore, an `ImportError` will be raised from 1.4 if the dataset is dense and pandas is not installed. Note that the pandas parser may return different data types. See the Notes Section in fetch_openml's API doc for details.\n",
            "  warn(\n"
          ]
        },
        {
          "output_type": "execute_result",
          "data": {
            "text/plain": [
              "      Age Attrition     BusinessTravel  DailyRate             Department  \\\n",
              "26     32       Yes  Travel_Frequently       1125  Research  Development   \n",
              "1400   38        No  Travel_Frequently       1444        Human Resources   \n",
              "1333   46       Yes      Travel_Rarely       1254                  Sales   \n",
              "1371   56        No      Travel_Rarely       1443                  Sales   \n",
              "1100   35        No      Travel_Rarely       1402                  Sales   \n",
              "\n",
              "      DistanceFromHome  Education EducationField  EmployeeCount  \\\n",
              "26                  16          1  Life Sciences              1   \n",
              "1400                 1          4          Other              1   \n",
              "1333                10          3  Life Sciences              1   \n",
              "1371                11          5      Marketing              1   \n",
              "1100                28          4  Life Sciences              1   \n",
              "\n",
              "      EmployeeNumber  EnvironmentSatisfaction  Gender  HourlyRate  \\\n",
              "26                33                        2  Female          72   \n",
              "1400            1972                        4    Male          88   \n",
              "1333            1869                        3  Female          64   \n",
              "1371            1935                        4  Female          89   \n",
              "1100            1554                        2  Female          98   \n",
              "\n",
              "      JobInvolvement  JobLevel               JobRole  JobSatisfaction  \\\n",
              "26                 1         1    Research Scientist                1   \n",
              "1400               3         1       Human Resources                2   \n",
              "1333               3         3       Sales Executive                2   \n",
              "1371               2         2       Sales Executive                1   \n",
              "1100               2         1  Sales Representative                3   \n",
              "\n",
              "     MaritalStatus  MonthlyIncome  MonthlyRate  NumCompaniesWorked Over18  \\\n",
              "26          Single           3919         4681                   1      Y   \n",
              "1400       Married           2991         5224                   0      Y   \n",
              "1333       Married           7314        14011                   5      Y   \n",
              "1371       Married           5380        20328                   4      Y   \n",
              "1100       Married           2430        26204                   0      Y   \n",
              "\n",
              "     OverTime  PercentSalaryHike  PerformanceRating  RelationshipSatisfaction  \\\n",
              "26        Yes                 22                  4                         2   \n",
              "1400      Yes                 11                  3                         2   \n",
              "1333       No                 21                  4                         3   \n",
              "1371       No                 16                  3                         3   \n",
              "1100       No                 23                  4                         1   \n",
              "\n",
              "      StandardHours  StockOptionLevel  TotalWorkingYears  \\\n",
              "26               80                 0                 10   \n",
              "1400             80                 1                  7   \n",
              "1333             80                 3                 14   \n",
              "1371             80                 1                  6   \n",
              "1100             80                 2                  6   \n",
              "\n",
              "      TrainingTimesLastYear  WorkLifeBalance  YearsAtCompany  \\\n",
              "26                        5                3              10   \n",
              "1400                      2                3               6   \n",
              "1333                      2                3               8   \n",
              "1371                      3                3               0   \n",
              "1100                      5                3               5   \n",
              "\n",
              "      YearsInCurrentRole  YearsSinceLastPromotion  YearsWithCurrManager  \n",
              "26                     2                        6                     7  \n",
              "1400                   2                        1                     2  \n",
              "1333                   7                        0                     7  \n",
              "1371                   0                        0                     0  \n",
              "1100                   3                        4                     2  "
            ],
            "text/html": [
              "\n",
              "  <div id=\"df-469dd7b8-47be-4f71-b224-f601c1a8b5c6\">\n",
              "    <div class=\"colab-df-container\">\n",
              "      <div>\n",
              "<style scoped>\n",
              "    .dataframe tbody tr th:only-of-type {\n",
              "        vertical-align: middle;\n",
              "    }\n",
              "\n",
              "    .dataframe tbody tr th {\n",
              "        vertical-align: top;\n",
              "    }\n",
              "\n",
              "    .dataframe thead th {\n",
              "        text-align: right;\n",
              "    }\n",
              "</style>\n",
              "<table border=\"1\" class=\"dataframe\">\n",
              "  <thead>\n",
              "    <tr style=\"text-align: right;\">\n",
              "      <th></th>\n",
              "      <th>Age</th>\n",
              "      <th>Attrition</th>\n",
              "      <th>BusinessTravel</th>\n",
              "      <th>DailyRate</th>\n",
              "      <th>Department</th>\n",
              "      <th>DistanceFromHome</th>\n",
              "      <th>Education</th>\n",
              "      <th>EducationField</th>\n",
              "      <th>EmployeeCount</th>\n",
              "      <th>EmployeeNumber</th>\n",
              "      <th>EnvironmentSatisfaction</th>\n",
              "      <th>Gender</th>\n",
              "      <th>HourlyRate</th>\n",
              "      <th>JobInvolvement</th>\n",
              "      <th>JobLevel</th>\n",
              "      <th>JobRole</th>\n",
              "      <th>JobSatisfaction</th>\n",
              "      <th>MaritalStatus</th>\n",
              "      <th>MonthlyIncome</th>\n",
              "      <th>MonthlyRate</th>\n",
              "      <th>NumCompaniesWorked</th>\n",
              "      <th>Over18</th>\n",
              "      <th>OverTime</th>\n",
              "      <th>PercentSalaryHike</th>\n",
              "      <th>PerformanceRating</th>\n",
              "      <th>RelationshipSatisfaction</th>\n",
              "      <th>StandardHours</th>\n",
              "      <th>StockOptionLevel</th>\n",
              "      <th>TotalWorkingYears</th>\n",
              "      <th>TrainingTimesLastYear</th>\n",
              "      <th>WorkLifeBalance</th>\n",
              "      <th>YearsAtCompany</th>\n",
              "      <th>YearsInCurrentRole</th>\n",
              "      <th>YearsSinceLastPromotion</th>\n",
              "      <th>YearsWithCurrManager</th>\n",
              "    </tr>\n",
              "  </thead>\n",
              "  <tbody>\n",
              "    <tr>\n",
              "      <th>26</th>\n",
              "      <td>32</td>\n",
              "      <td>Yes</td>\n",
              "      <td>Travel_Frequently</td>\n",
              "      <td>1125</td>\n",
              "      <td>Research  Development</td>\n",
              "      <td>16</td>\n",
              "      <td>1</td>\n",
              "      <td>Life Sciences</td>\n",
              "      <td>1</td>\n",
              "      <td>33</td>\n",
              "      <td>2</td>\n",
              "      <td>Female</td>\n",
              "      <td>72</td>\n",
              "      <td>1</td>\n",
              "      <td>1</td>\n",
              "      <td>Research Scientist</td>\n",
              "      <td>1</td>\n",
              "      <td>Single</td>\n",
              "      <td>3919</td>\n",
              "      <td>4681</td>\n",
              "      <td>1</td>\n",
              "      <td>Y</td>\n",
              "      <td>Yes</td>\n",
              "      <td>22</td>\n",
              "      <td>4</td>\n",
              "      <td>2</td>\n",
              "      <td>80</td>\n",
              "      <td>0</td>\n",
              "      <td>10</td>\n",
              "      <td>5</td>\n",
              "      <td>3</td>\n",
              "      <td>10</td>\n",
              "      <td>2</td>\n",
              "      <td>6</td>\n",
              "      <td>7</td>\n",
              "    </tr>\n",
              "    <tr>\n",
              "      <th>1400</th>\n",
              "      <td>38</td>\n",
              "      <td>No</td>\n",
              "      <td>Travel_Frequently</td>\n",
              "      <td>1444</td>\n",
              "      <td>Human Resources</td>\n",
              "      <td>1</td>\n",
              "      <td>4</td>\n",
              "      <td>Other</td>\n",
              "      <td>1</td>\n",
              "      <td>1972</td>\n",
              "      <td>4</td>\n",
              "      <td>Male</td>\n",
              "      <td>88</td>\n",
              "      <td>3</td>\n",
              "      <td>1</td>\n",
              "      <td>Human Resources</td>\n",
              "      <td>2</td>\n",
              "      <td>Married</td>\n",
              "      <td>2991</td>\n",
              "      <td>5224</td>\n",
              "      <td>0</td>\n",
              "      <td>Y</td>\n",
              "      <td>Yes</td>\n",
              "      <td>11</td>\n",
              "      <td>3</td>\n",
              "      <td>2</td>\n",
              "      <td>80</td>\n",
              "      <td>1</td>\n",
              "      <td>7</td>\n",
              "      <td>2</td>\n",
              "      <td>3</td>\n",
              "      <td>6</td>\n",
              "      <td>2</td>\n",
              "      <td>1</td>\n",
              "      <td>2</td>\n",
              "    </tr>\n",
              "    <tr>\n",
              "      <th>1333</th>\n",
              "      <td>46</td>\n",
              "      <td>Yes</td>\n",
              "      <td>Travel_Rarely</td>\n",
              "      <td>1254</td>\n",
              "      <td>Sales</td>\n",
              "      <td>10</td>\n",
              "      <td>3</td>\n",
              "      <td>Life Sciences</td>\n",
              "      <td>1</td>\n",
              "      <td>1869</td>\n",
              "      <td>3</td>\n",
              "      <td>Female</td>\n",
              "      <td>64</td>\n",
              "      <td>3</td>\n",
              "      <td>3</td>\n",
              "      <td>Sales Executive</td>\n",
              "      <td>2</td>\n",
              "      <td>Married</td>\n",
              "      <td>7314</td>\n",
              "      <td>14011</td>\n",
              "      <td>5</td>\n",
              "      <td>Y</td>\n",
              "      <td>No</td>\n",
              "      <td>21</td>\n",
              "      <td>4</td>\n",
              "      <td>3</td>\n",
              "      <td>80</td>\n",
              "      <td>3</td>\n",
              "      <td>14</td>\n",
              "      <td>2</td>\n",
              "      <td>3</td>\n",
              "      <td>8</td>\n",
              "      <td>7</td>\n",
              "      <td>0</td>\n",
              "      <td>7</td>\n",
              "    </tr>\n",
              "    <tr>\n",
              "      <th>1371</th>\n",
              "      <td>56</td>\n",
              "      <td>No</td>\n",
              "      <td>Travel_Rarely</td>\n",
              "      <td>1443</td>\n",
              "      <td>Sales</td>\n",
              "      <td>11</td>\n",
              "      <td>5</td>\n",
              "      <td>Marketing</td>\n",
              "      <td>1</td>\n",
              "      <td>1935</td>\n",
              "      <td>4</td>\n",
              "      <td>Female</td>\n",
              "      <td>89</td>\n",
              "      <td>2</td>\n",
              "      <td>2</td>\n",
              "      <td>Sales Executive</td>\n",
              "      <td>1</td>\n",
              "      <td>Married</td>\n",
              "      <td>5380</td>\n",
              "      <td>20328</td>\n",
              "      <td>4</td>\n",
              "      <td>Y</td>\n",
              "      <td>No</td>\n",
              "      <td>16</td>\n",
              "      <td>3</td>\n",
              "      <td>3</td>\n",
              "      <td>80</td>\n",
              "      <td>1</td>\n",
              "      <td>6</td>\n",
              "      <td>3</td>\n",
              "      <td>3</td>\n",
              "      <td>0</td>\n",
              "      <td>0</td>\n",
              "      <td>0</td>\n",
              "      <td>0</td>\n",
              "    </tr>\n",
              "    <tr>\n",
              "      <th>1100</th>\n",
              "      <td>35</td>\n",
              "      <td>No</td>\n",
              "      <td>Travel_Rarely</td>\n",
              "      <td>1402</td>\n",
              "      <td>Sales</td>\n",
              "      <td>28</td>\n",
              "      <td>4</td>\n",
              "      <td>Life Sciences</td>\n",
              "      <td>1</td>\n",
              "      <td>1554</td>\n",
              "      <td>2</td>\n",
              "      <td>Female</td>\n",
              "      <td>98</td>\n",
              "      <td>2</td>\n",
              "      <td>1</td>\n",
              "      <td>Sales Representative</td>\n",
              "      <td>3</td>\n",
              "      <td>Married</td>\n",
              "      <td>2430</td>\n",
              "      <td>26204</td>\n",
              "      <td>0</td>\n",
              "      <td>Y</td>\n",
              "      <td>No</td>\n",
              "      <td>23</td>\n",
              "      <td>4</td>\n",
              "      <td>1</td>\n",
              "      <td>80</td>\n",
              "      <td>2</td>\n",
              "      <td>6</td>\n",
              "      <td>5</td>\n",
              "      <td>3</td>\n",
              "      <td>5</td>\n",
              "      <td>3</td>\n",
              "      <td>4</td>\n",
              "      <td>2</td>\n",
              "    </tr>\n",
              "  </tbody>\n",
              "</table>\n",
              "</div>\n",
              "      <button class=\"colab-df-convert\" onclick=\"convertToInteractive('df-469dd7b8-47be-4f71-b224-f601c1a8b5c6')\"\n",
              "              title=\"Convert this dataframe to an interactive table.\"\n",
              "              style=\"display:none;\">\n",
              "        \n",
              "  <svg xmlns=\"http://www.w3.org/2000/svg\" height=\"24px\"viewBox=\"0 0 24 24\"\n",
              "       width=\"24px\">\n",
              "    <path d=\"M0 0h24v24H0V0z\" fill=\"none\"/>\n",
              "    <path d=\"M18.56 5.44l.94 2.06.94-2.06 2.06-.94-2.06-.94-.94-2.06-.94 2.06-2.06.94zm-11 1L8.5 8.5l.94-2.06 2.06-.94-2.06-.94L8.5 2.5l-.94 2.06-2.06.94zm10 10l.94 2.06.94-2.06 2.06-.94-2.06-.94-.94-2.06-.94 2.06-2.06.94z\"/><path d=\"M17.41 7.96l-1.37-1.37c-.4-.4-.92-.59-1.43-.59-.52 0-1.04.2-1.43.59L10.3 9.45l-7.72 7.72c-.78.78-.78 2.05 0 2.83L4 21.41c.39.39.9.59 1.41.59.51 0 1.02-.2 1.41-.59l7.78-7.78 2.81-2.81c.8-.78.8-2.07 0-2.86zM5.41 20L4 18.59l7.72-7.72 1.47 1.35L5.41 20z\"/>\n",
              "  </svg>\n",
              "      </button>\n",
              "      \n",
              "  <style>\n",
              "    .colab-df-container {\n",
              "      display:flex;\n",
              "      flex-wrap:wrap;\n",
              "      gap: 12px;\n",
              "    }\n",
              "\n",
              "    .colab-df-convert {\n",
              "      background-color: #E8F0FE;\n",
              "      border: none;\n",
              "      border-radius: 50%;\n",
              "      cursor: pointer;\n",
              "      display: none;\n",
              "      fill: #1967D2;\n",
              "      height: 32px;\n",
              "      padding: 0 0 0 0;\n",
              "      width: 32px;\n",
              "    }\n",
              "\n",
              "    .colab-df-convert:hover {\n",
              "      background-color: #E2EBFA;\n",
              "      box-shadow: 0px 1px 2px rgba(60, 64, 67, 0.3), 0px 1px 3px 1px rgba(60, 64, 67, 0.15);\n",
              "      fill: #174EA6;\n",
              "    }\n",
              "\n",
              "    [theme=dark] .colab-df-convert {\n",
              "      background-color: #3B4455;\n",
              "      fill: #D2E3FC;\n",
              "    }\n",
              "\n",
              "    [theme=dark] .colab-df-convert:hover {\n",
              "      background-color: #434B5C;\n",
              "      box-shadow: 0px 1px 3px 1px rgba(0, 0, 0, 0.15);\n",
              "      filter: drop-shadow(0px 1px 2px rgba(0, 0, 0, 0.3));\n",
              "      fill: #FFFFFF;\n",
              "    }\n",
              "  </style>\n",
              "\n",
              "      <script>\n",
              "        const buttonEl =\n",
              "          document.querySelector('#df-469dd7b8-47be-4f71-b224-f601c1a8b5c6 button.colab-df-convert');\n",
              "        buttonEl.style.display =\n",
              "          google.colab.kernel.accessAllowed ? 'block' : 'none';\n",
              "\n",
              "        async function convertToInteractive(key) {\n",
              "          const element = document.querySelector('#df-469dd7b8-47be-4f71-b224-f601c1a8b5c6');\n",
              "          const dataTable =\n",
              "            await google.colab.kernel.invokeFunction('convertToInteractive',\n",
              "                                                     [key], {});\n",
              "          if (!dataTable) return;\n",
              "\n",
              "          const docLinkHtml = 'Like what you see? Visit the ' +\n",
              "            '<a target=\"_blank\" href=https://colab.research.google.com/notebooks/data_table.ipynb>data table notebook</a>'\n",
              "            + ' to learn more about interactive tables.';\n",
              "          element.innerHTML = '';\n",
              "          dataTable['output_type'] = 'display_data';\n",
              "          await google.colab.output.renderOutput(dataTable, element);\n",
              "          const docLink = document.createElement('div');\n",
              "          docLink.innerHTML = docLinkHtml;\n",
              "          element.appendChild(docLink);\n",
              "        }\n",
              "      </script>\n",
              "    </div>\n",
              "  </div>\n",
              "  "
            ]
          },
          "metadata": {},
          "execution_count": 108
        }
      ],
      "source": [
        "# John Mohsbeck\n",
        "# Day 4 Lab\n",
        "# Outliers\n",
        "# Feature Selection\n",
        "import pandas as pd\n",
        "import matplotlib.pyplot as plt\n",
        "import seaborn as sns\n",
        "\n",
        "# load a dataset from openML\n",
        "# Dataset: IBM attrition dataset\n",
        "# Based on features, try to predeict if employee stays or leaves\n",
        "import ssl \n",
        "ssl._create_default_https_context = ssl._create_unverified_context\n",
        "import certifi\n",
        "from sklearn.datasets import fetch_openml \n",
        "# Download the dataset from openml\n",
        "dataset = fetch_openml(data_id=43696, as_frame=True)\n",
        "#Extract feature matrix X and show 5 random samples\n",
        "df = dataset[\"frame\"]\n",
        "pd.set_option(\"display.max_columns\", None)\n",
        "df.sample(5)"
      ]
    },
    {
      "cell_type": "code",
      "source": [
        "# Basic Data Cleaning\n",
        "# Make columns lower case\n",
        "df.columns = df.columns.str.lower().str.replace(' ', '_') # A\n",
        " \n",
        "string_columns = list(df.dtypes[df.dtypes == 'object'].index) # B\n",
        " \n",
        "for col in string_columns:\n",
        "    df[col] = df[col].str.lower().str.replace(' ', '_') # C"
      ],
      "metadata": {
        "id": "0BDqWb8j4-Dp"
      },
      "execution_count": 109,
      "outputs": []
    },
    {
      "cell_type": "code",
      "source": [
        "df.head(1)"
      ],
      "metadata": {
        "colab": {
          "base_uri": "https://localhost:8080/",
          "height": 145
        },
        "id": "ke_IV9Xz5BJv",
        "outputId": "2ffc3d2e-6009-486e-e3b2-6ee5e3340afa"
      },
      "execution_count": 110,
      "outputs": [
        {
          "output_type": "execute_result",
          "data": {
            "text/plain": [
              "   age attrition businesstravel  dailyrate department  distancefromhome  \\\n",
              "0   41       yes  travel_rarely       1102      sales                 1   \n",
              "\n",
              "   education educationfield  employeecount  employeenumber  \\\n",
              "0          2  life_sciences              1               1   \n",
              "\n",
              "   environmentsatisfaction  gender  hourlyrate  jobinvolvement  joblevel  \\\n",
              "0                        2  female          94               3         2   \n",
              "\n",
              "           jobrole  jobsatisfaction maritalstatus  monthlyincome  monthlyrate  \\\n",
              "0  sales_executive                4        single           5993        19479   \n",
              "\n",
              "   numcompaniesworked over18 overtime  percentsalaryhike  performancerating  \\\n",
              "0                   8      y      yes                 11                  3   \n",
              "\n",
              "   relationshipsatisfaction  standardhours  stockoptionlevel  \\\n",
              "0                         1             80                 0   \n",
              "\n",
              "   totalworkingyears  trainingtimeslastyear  worklifebalance  yearsatcompany  \\\n",
              "0                  8                      0                1               6   \n",
              "\n",
              "   yearsincurrentrole  yearssincelastpromotion  yearswithcurrmanager  \n",
              "0                   4                        0                     5  "
            ],
            "text/html": [
              "\n",
              "  <div id=\"df-bf52239f-6cd2-46d9-8ab3-b8ad179fed6d\">\n",
              "    <div class=\"colab-df-container\">\n",
              "      <div>\n",
              "<style scoped>\n",
              "    .dataframe tbody tr th:only-of-type {\n",
              "        vertical-align: middle;\n",
              "    }\n",
              "\n",
              "    .dataframe tbody tr th {\n",
              "        vertical-align: top;\n",
              "    }\n",
              "\n",
              "    .dataframe thead th {\n",
              "        text-align: right;\n",
              "    }\n",
              "</style>\n",
              "<table border=\"1\" class=\"dataframe\">\n",
              "  <thead>\n",
              "    <tr style=\"text-align: right;\">\n",
              "      <th></th>\n",
              "      <th>age</th>\n",
              "      <th>attrition</th>\n",
              "      <th>businesstravel</th>\n",
              "      <th>dailyrate</th>\n",
              "      <th>department</th>\n",
              "      <th>distancefromhome</th>\n",
              "      <th>education</th>\n",
              "      <th>educationfield</th>\n",
              "      <th>employeecount</th>\n",
              "      <th>employeenumber</th>\n",
              "      <th>environmentsatisfaction</th>\n",
              "      <th>gender</th>\n",
              "      <th>hourlyrate</th>\n",
              "      <th>jobinvolvement</th>\n",
              "      <th>joblevel</th>\n",
              "      <th>jobrole</th>\n",
              "      <th>jobsatisfaction</th>\n",
              "      <th>maritalstatus</th>\n",
              "      <th>monthlyincome</th>\n",
              "      <th>monthlyrate</th>\n",
              "      <th>numcompaniesworked</th>\n",
              "      <th>over18</th>\n",
              "      <th>overtime</th>\n",
              "      <th>percentsalaryhike</th>\n",
              "      <th>performancerating</th>\n",
              "      <th>relationshipsatisfaction</th>\n",
              "      <th>standardhours</th>\n",
              "      <th>stockoptionlevel</th>\n",
              "      <th>totalworkingyears</th>\n",
              "      <th>trainingtimeslastyear</th>\n",
              "      <th>worklifebalance</th>\n",
              "      <th>yearsatcompany</th>\n",
              "      <th>yearsincurrentrole</th>\n",
              "      <th>yearssincelastpromotion</th>\n",
              "      <th>yearswithcurrmanager</th>\n",
              "    </tr>\n",
              "  </thead>\n",
              "  <tbody>\n",
              "    <tr>\n",
              "      <th>0</th>\n",
              "      <td>41</td>\n",
              "      <td>yes</td>\n",
              "      <td>travel_rarely</td>\n",
              "      <td>1102</td>\n",
              "      <td>sales</td>\n",
              "      <td>1</td>\n",
              "      <td>2</td>\n",
              "      <td>life_sciences</td>\n",
              "      <td>1</td>\n",
              "      <td>1</td>\n",
              "      <td>2</td>\n",
              "      <td>female</td>\n",
              "      <td>94</td>\n",
              "      <td>3</td>\n",
              "      <td>2</td>\n",
              "      <td>sales_executive</td>\n",
              "      <td>4</td>\n",
              "      <td>single</td>\n",
              "      <td>5993</td>\n",
              "      <td>19479</td>\n",
              "      <td>8</td>\n",
              "      <td>y</td>\n",
              "      <td>yes</td>\n",
              "      <td>11</td>\n",
              "      <td>3</td>\n",
              "      <td>1</td>\n",
              "      <td>80</td>\n",
              "      <td>0</td>\n",
              "      <td>8</td>\n",
              "      <td>0</td>\n",
              "      <td>1</td>\n",
              "      <td>6</td>\n",
              "      <td>4</td>\n",
              "      <td>0</td>\n",
              "      <td>5</td>\n",
              "    </tr>\n",
              "  </tbody>\n",
              "</table>\n",
              "</div>\n",
              "      <button class=\"colab-df-convert\" onclick=\"convertToInteractive('df-bf52239f-6cd2-46d9-8ab3-b8ad179fed6d')\"\n",
              "              title=\"Convert this dataframe to an interactive table.\"\n",
              "              style=\"display:none;\">\n",
              "        \n",
              "  <svg xmlns=\"http://www.w3.org/2000/svg\" height=\"24px\"viewBox=\"0 0 24 24\"\n",
              "       width=\"24px\">\n",
              "    <path d=\"M0 0h24v24H0V0z\" fill=\"none\"/>\n",
              "    <path d=\"M18.56 5.44l.94 2.06.94-2.06 2.06-.94-2.06-.94-.94-2.06-.94 2.06-2.06.94zm-11 1L8.5 8.5l.94-2.06 2.06-.94-2.06-.94L8.5 2.5l-.94 2.06-2.06.94zm10 10l.94 2.06.94-2.06 2.06-.94-2.06-.94-.94-2.06-.94 2.06-2.06.94z\"/><path d=\"M17.41 7.96l-1.37-1.37c-.4-.4-.92-.59-1.43-.59-.52 0-1.04.2-1.43.59L10.3 9.45l-7.72 7.72c-.78.78-.78 2.05 0 2.83L4 21.41c.39.39.9.59 1.41.59.51 0 1.02-.2 1.41-.59l7.78-7.78 2.81-2.81c.8-.78.8-2.07 0-2.86zM5.41 20L4 18.59l7.72-7.72 1.47 1.35L5.41 20z\"/>\n",
              "  </svg>\n",
              "      </button>\n",
              "      \n",
              "  <style>\n",
              "    .colab-df-container {\n",
              "      display:flex;\n",
              "      flex-wrap:wrap;\n",
              "      gap: 12px;\n",
              "    }\n",
              "\n",
              "    .colab-df-convert {\n",
              "      background-color: #E8F0FE;\n",
              "      border: none;\n",
              "      border-radius: 50%;\n",
              "      cursor: pointer;\n",
              "      display: none;\n",
              "      fill: #1967D2;\n",
              "      height: 32px;\n",
              "      padding: 0 0 0 0;\n",
              "      width: 32px;\n",
              "    }\n",
              "\n",
              "    .colab-df-convert:hover {\n",
              "      background-color: #E2EBFA;\n",
              "      box-shadow: 0px 1px 2px rgba(60, 64, 67, 0.3), 0px 1px 3px 1px rgba(60, 64, 67, 0.15);\n",
              "      fill: #174EA6;\n",
              "    }\n",
              "\n",
              "    [theme=dark] .colab-df-convert {\n",
              "      background-color: #3B4455;\n",
              "      fill: #D2E3FC;\n",
              "    }\n",
              "\n",
              "    [theme=dark] .colab-df-convert:hover {\n",
              "      background-color: #434B5C;\n",
              "      box-shadow: 0px 1px 3px 1px rgba(0, 0, 0, 0.15);\n",
              "      filter: drop-shadow(0px 1px 2px rgba(0, 0, 0, 0.3));\n",
              "      fill: #FFFFFF;\n",
              "    }\n",
              "  </style>\n",
              "\n",
              "      <script>\n",
              "        const buttonEl =\n",
              "          document.querySelector('#df-bf52239f-6cd2-46d9-8ab3-b8ad179fed6d button.colab-df-convert');\n",
              "        buttonEl.style.display =\n",
              "          google.colab.kernel.accessAllowed ? 'block' : 'none';\n",
              "\n",
              "        async function convertToInteractive(key) {\n",
              "          const element = document.querySelector('#df-bf52239f-6cd2-46d9-8ab3-b8ad179fed6d');\n",
              "          const dataTable =\n",
              "            await google.colab.kernel.invokeFunction('convertToInteractive',\n",
              "                                                     [key], {});\n",
              "          if (!dataTable) return;\n",
              "\n",
              "          const docLinkHtml = 'Like what you see? Visit the ' +\n",
              "            '<a target=\"_blank\" href=https://colab.research.google.com/notebooks/data_table.ipynb>data table notebook</a>'\n",
              "            + ' to learn more about interactive tables.';\n",
              "          element.innerHTML = '';\n",
              "          dataTable['output_type'] = 'display_data';\n",
              "          await google.colab.output.renderOutput(dataTable, element);\n",
              "          const docLink = document.createElement('div');\n",
              "          docLink.innerHTML = docLinkHtml;\n",
              "          element.appendChild(docLink);\n",
              "        }\n",
              "      </script>\n",
              "    </div>\n",
              "  </div>\n",
              "  "
            ]
          },
          "metadata": {},
          "execution_count": 110
        }
      ]
    },
    {
      "cell_type": "markdown",
      "source": [
        "# Tukey Method"
      ],
      "metadata": {
        "id": "EpOmRdlvthAN"
      }
    },
    {
      "cell_type": "code",
      "source": [
        "df = df.dropna()"
      ],
      "metadata": {
        "id": "2oN3RY7MkZ-J"
      },
      "execution_count": 111,
      "outputs": []
    },
    {
      "cell_type": "code",
      "source": [
        "df['monthlyincome']"
      ],
      "metadata": {
        "colab": {
          "base_uri": "https://localhost:8080/"
        },
        "id": "KIoJAvvXkkAg",
        "outputId": "1c978452-3169-4abf-a848-bda143b82a2f"
      },
      "execution_count": 112,
      "outputs": [
        {
          "output_type": "execute_result",
          "data": {
            "text/plain": [
              "0       5993\n",
              "1       5130\n",
              "2       2090\n",
              "3       2909\n",
              "4       3468\n",
              "        ... \n",
              "1465    2571\n",
              "1466    9991\n",
              "1467    6142\n",
              "1468    5390\n",
              "1469    4404\n",
              "Name: monthlyincome, Length: 1470, dtype: int64"
            ]
          },
          "metadata": {},
          "execution_count": 112
        }
      ]
    },
    {
      "cell_type": "code",
      "source": [
        "# MonthlyIncome has outliers\n",
        "# Will Use Tukey method\n",
        "sns.boxplot(x=df['monthlyincome'])\n",
        "plt.show()"
      ],
      "metadata": {
        "colab": {
          "base_uri": "https://localhost:8080/",
          "height": 279
        },
        "id": "QoRfkRJYkr9k",
        "outputId": "553261e6-a49a-4616-fde4-755e300b4002"
      },
      "execution_count": 113,
      "outputs": [
        {
          "output_type": "display_data",
          "data": {
            "text/plain": [
              "<Figure size 432x288 with 1 Axes>"
            ],
            "image/png": "[encoded data removed]"
          },
          "metadata": {
            "needs_background": "light"
          }
        }
      ]
    },
    {
      "cell_type": "code",
      "source": [
        "sns.distplot(df['monthlyincome'],bins=15,kde=True)\n",
        "plt.show()"
      ],
      "metadata": {
        "colab": {
          "base_uri": "https://localhost:8080/",
          "height": 335
        },
        "id": "zDoDeXZ-k-GX",
        "outputId": "96cc379b-2769-4a8f-bb65-1b0b5ac4acde"
      },
      "execution_count": 114,
      "outputs": [
        {
          "output_type": "stream",
          "name": "stderr",
          "text": [
            "/usr/local/lib/python3.9/dist-packages/seaborn/distributions.py:2619: FutureWarning: `distplot` is a deprecated function and will be removed in a future version. Please adapt your code to use either `displot` (a figure-level function with similar flexibility) or `histplot` (an axes-level function for histograms).\n",
            "  warnings.warn(msg, FutureWarning)\n"
          ]
        },
        {
          "output_type": "display_data",
          "data": {
            "text/plain": [
              "<Figure size 432x288 with 1 Axes>"
            ],
            "image/png": "[encoded data removed]"
          },
          "metadata": {
            "needs_background": "light"
          }
        }
      ]
    },
    {
      "cell_type": "code",
      "source": [
        "df[['monthlyincome']].describe()"
      ],
      "metadata": {
        "colab": {
          "base_uri": "https://localhost:8080/",
          "height": 300
        },
        "id": "0B5uy58-lMkG",
        "outputId": "bf8c09e5-628f-4150-9b02-64f5b93fc011"
      },
      "execution_count": 115,
      "outputs": [
        {
          "output_type": "execute_result",
          "data": {
            "text/plain": [
              "       monthlyincome\n",
              "count    1470.000000\n",
              "mean     6502.931293\n",
              "std      4707.956783\n",
              "min      1009.000000\n",
              "25%      2911.000000\n",
              "50%      4919.000000\n",
              "75%      8379.000000\n",
              "max     19999.000000"
            ],
            "text/html": [
              "\n",
              "  <div id=\"df-d3792084-f7b1-4c0f-8dbb-613305e1c83a\">\n",
              "    <div class=\"colab-df-container\">\n",
              "      <div>\n",
              "<style scoped>\n",
              "    .dataframe tbody tr th:only-of-type {\n",
              "        vertical-align: middle;\n",
              "    }\n",
              "\n",
              "    .dataframe tbody tr th {\n",
              "        vertical-align: top;\n",
              "    }\n",
              "\n",
              "    .dataframe thead th {\n",
              "        text-align: right;\n",
              "    }\n",
              "</style>\n",
              "<table border=\"1\" class=\"dataframe\">\n",
              "  <thead>\n",
              "    <tr style=\"text-align: right;\">\n",
              "      <th></th>\n",
              "      <th>monthlyincome</th>\n",
              "    </tr>\n",
              "  </thead>\n",
              "  <tbody>\n",
              "    <tr>\n",
              "      <th>count</th>\n",
              "      <td>1470.000000</td>\n",
              "    </tr>\n",
              "    <tr>\n",
              "      <th>mean</th>\n",
              "      <td>6502.931293</td>\n",
              "    </tr>\n",
              "    <tr>\n",
              "      <th>std</th>\n",
              "      <td>4707.956783</td>\n",
              "    </tr>\n",
              "    <tr>\n",
              "      <th>min</th>\n",
              "      <td>1009.000000</td>\n",
              "    </tr>\n",
              "    <tr>\n",
              "      <th>25%</th>\n",
              "      <td>2911.000000</td>\n",
              "    </tr>\n",
              "    <tr>\n",
              "      <th>50%</th>\n",
              "      <td>4919.000000</td>\n",
              "    </tr>\n",
              "    <tr>\n",
              "      <th>75%</th>\n",
              "      <td>8379.000000</td>\n",
              "    </tr>\n",
              "    <tr>\n",
              "      <th>max</th>\n",
              "      <td>19999.000000</td>\n",
              "    </tr>\n",
              "  </tbody>\n",
              "</table>\n",
              "</div>\n",
              "      <button class=\"colab-df-convert\" onclick=\"convertToInteractive('df-d3792084-f7b1-4c0f-8dbb-613305e1c83a')\"\n",
              "              title=\"Convert this dataframe to an interactive table.\"\n",
              "              style=\"display:none;\">\n",
              "        \n",
              "  <svg xmlns=\"http://www.w3.org/2000/svg\" height=\"24px\"viewBox=\"0 0 24 24\"\n",
              "       width=\"24px\">\n",
              "    <path d=\"M0 0h24v24H0V0z\" fill=\"none\"/>\n",
              "    <path d=\"M18.56 5.44l.94 2.06.94-2.06 2.06-.94-2.06-.94-.94-2.06-.94 2.06-2.06.94zm-11 1L8.5 8.5l.94-2.06 2.06-.94-2.06-.94L8.5 2.5l-.94 2.06-2.06.94zm10 10l.94 2.06.94-2.06 2.06-.94-2.06-.94-.94-2.06-.94 2.06-2.06.94z\"/><path d=\"M17.41 7.96l-1.37-1.37c-.4-.4-.92-.59-1.43-.59-.52 0-1.04.2-1.43.59L10.3 9.45l-7.72 7.72c-.78.78-.78 2.05 0 2.83L4 21.41c.39.39.9.59 1.41.59.51 0 1.02-.2 1.41-.59l7.78-7.78 2.81-2.81c.8-.78.8-2.07 0-2.86zM5.41 20L4 18.59l7.72-7.72 1.47 1.35L5.41 20z\"/>\n",
              "  </svg>\n",
              "      </button>\n",
              "      \n",
              "  <style>\n",
              "    .colab-df-container {\n",
              "      display:flex;\n",
              "      flex-wrap:wrap;\n",
              "      gap: 12px;\n",
              "    }\n",
              "\n",
              "    .colab-df-convert {\n",
              "      background-color: #E8F0FE;\n",
              "      border: none;\n",
              "      border-radius: 50%;\n",
              "      cursor: pointer;\n",
              "      display: none;\n",
              "      fill: #1967D2;\n",
              "      height: 32px;\n",
              "      padding: 0 0 0 0;\n",
              "      width: 32px;\n",
              "    }\n",
              "\n",
              "    .colab-df-convert:hover {\n",
              "      background-color: #E2EBFA;\n",
              "      box-shadow: 0px 1px 2px rgba(60, 64, 67, 0.3), 0px 1px 3px 1px rgba(60, 64, 67, 0.15);\n",
              "      fill: #174EA6;\n",
              "    }\n",
              "\n",
              "    [theme=dark] .colab-df-convert {\n",
              "      background-color: #3B4455;\n",
              "      fill: #D2E3FC;\n",
              "    }\n",
              "\n",
              "    [theme=dark] .colab-df-convert:hover {\n",
              "      background-color: #434B5C;\n",
              "      box-shadow: 0px 1px 3px 1px rgba(0, 0, 0, 0.15);\n",
              "      filter: drop-shadow(0px 1px 2px rgba(0, 0, 0, 0.3));\n",
              "      fill: #FFFFFF;\n",
              "    }\n",
              "  </style>\n",
              "\n",
              "      <script>\n",
              "        const buttonEl =\n",
              "          document.querySelector('#df-d3792084-f7b1-4c0f-8dbb-613305e1c83a button.colab-df-convert');\n",
              "        buttonEl.style.display =\n",
              "          google.colab.kernel.accessAllowed ? 'block' : 'none';\n",
              "\n",
              "        async function convertToInteractive(key) {\n",
              "          const element = document.querySelector('#df-d3792084-f7b1-4c0f-8dbb-613305e1c83a');\n",
              "          const dataTable =\n",
              "            await google.colab.kernel.invokeFunction('convertToInteractive',\n",
              "                                                     [key], {});\n",
              "          if (!dataTable) return;\n",
              "\n",
              "          const docLinkHtml = 'Like what you see? Visit the ' +\n",
              "            '<a target=\"_blank\" href=https://colab.research.google.com/notebooks/data_table.ipynb>data table notebook</a>'\n",
              "            + ' to learn more about interactive tables.';\n",
              "          element.innerHTML = '';\n",
              "          dataTable['output_type'] = 'display_data';\n",
              "          await google.colab.output.renderOutput(dataTable, element);\n",
              "          const docLink = document.createElement('div');\n",
              "          docLink.innerHTML = docLinkHtml;\n",
              "          element.appendChild(docLink);\n",
              "        }\n",
              "      </script>\n",
              "    </div>\n",
              "  </div>\n",
              "  "
            ]
          },
          "metadata": {},
          "execution_count": 115
        }
      ]
    },
    {
      "cell_type": "code",
      "source": [
        "Q1 = df['monthlyincome'].quantile(0.25)\n",
        "Q1"
      ],
      "metadata": {
        "colab": {
          "base_uri": "https://localhost:8080/"
        },
        "id": "GhjnY8xQnBBN",
        "outputId": "bdb310ab-c22f-4a50-a048-5f59d9ba8661"
      },
      "execution_count": 116,
      "outputs": [
        {
          "output_type": "execute_result",
          "data": {
            "text/plain": [
              "2911.0"
            ]
          },
          "metadata": {},
          "execution_count": 116
        }
      ]
    },
    {
      "cell_type": "code",
      "source": [
        "Q3 = df['monthlyincome'].quantile(0.75)\n",
        "Q3"
      ],
      "metadata": {
        "colab": {
          "base_uri": "https://localhost:8080/"
        },
        "id": "a849Owg0nG1u",
        "outputId": "615c4e4f-6c83-44e8-a92a-8922dc6710cc"
      },
      "execution_count": 117,
      "outputs": [
        {
          "output_type": "execute_result",
          "data": {
            "text/plain": [
              "8379.0"
            ]
          },
          "metadata": {},
          "execution_count": 117
        }
      ]
    },
    {
      "cell_type": "code",
      "source": [
        "IQR = Q3 - Q1\n",
        "IQR"
      ],
      "metadata": {
        "colab": {
          "base_uri": "https://localhost:8080/"
        },
        "id": "v4ITZ8dynNni",
        "outputId": "34912adb-469f-4c24-8c58-90e2df419757"
      },
      "execution_count": 118,
      "outputs": [
        {
          "output_type": "execute_result",
          "data": {
            "text/plain": [
              "5468.0"
            ]
          },
          "metadata": {},
          "execution_count": 118
        }
      ]
    },
    {
      "cell_type": "code",
      "source": [
        "# Using -0.15 for lower_lim\n",
        "lower_lim = Q1 - 0.15 * IQR\n",
        "lower_lim"
      ],
      "metadata": {
        "colab": {
          "base_uri": "https://localhost:8080/"
        },
        "id": "sEHGin0JnPRx",
        "outputId": "91f17bb9-97b3-4a9a-87cf-03e1a02fe8f3"
      },
      "execution_count": 119,
      "outputs": [
        {
          "output_type": "execute_result",
          "data": {
            "text/plain": [
              "2090.8"
            ]
          },
          "metadata": {},
          "execution_count": 119
        }
      ]
    },
    {
      "cell_type": "code",
      "source": [
        "# Using +0.15 for upper_lim\n",
        "upper_lim = Q3 + 0.15 * IQR\n",
        "upper_lim"
      ],
      "metadata": {
        "colab": {
          "base_uri": "https://localhost:8080/"
        },
        "id": "l4xjodfhnWHw",
        "outputId": "4130a397-44ef-4abb-8fd7-be69a4b98101"
      },
      "execution_count": 120,
      "outputs": [
        {
          "output_type": "execute_result",
          "data": {
            "text/plain": [
              "9199.2"
            ]
          },
          "metadata": {},
          "execution_count": 120
        }
      ]
    },
    {
      "cell_type": "code",
      "source": [
        "# Dropping Outliers\n",
        "outlier_15_low = (df['monthlyincome'] < lower_lim)\n",
        "outlier_15_up = (df['monthlyincome'] > upper_lim)"
      ],
      "metadata": {
        "id": "_qVC2aq5ncG0"
      },
      "execution_count": 121,
      "outputs": []
    },
    {
      "cell_type": "code",
      "source": [
        "sum(outlier_15_up)"
      ],
      "metadata": {
        "colab": {
          "base_uri": "https://localhost:8080/"
        },
        "id": "5qNgzEUunlLH",
        "outputId": "a8e28dd5-c81a-4170-e08a-a325b7d8b6d8"
      },
      "execution_count": 122,
      "outputs": [
        {
          "output_type": "execute_result",
          "data": {
            "text/plain": [
              "330"
            ]
          },
          "metadata": {},
          "execution_count": 122
        }
      ]
    },
    {
      "cell_type": "code",
      "source": [
        "sum(outlier_15_low)"
      ],
      "metadata": {
        "colab": {
          "base_uri": "https://localhost:8080/"
        },
        "id": "A4lP9a0JoIbn",
        "outputId": "0db40cc2-ef0e-442d-fce5-66f1b786a42e"
      },
      "execution_count": 123,
      "outputs": [
        {
          "output_type": "execute_result",
          "data": {
            "text/plain": [
              "70"
            ]
          },
          "metadata": {},
          "execution_count": 123
        }
      ]
    },
    {
      "cell_type": "code",
      "source": [
        "len(df['monthlyincome'])"
      ],
      "metadata": {
        "colab": {
          "base_uri": "https://localhost:8080/"
        },
        "id": "KcH5RxJ8noZb",
        "outputId": "f516ea56-1c27-4cd2-d083-a742943e193c"
      },
      "execution_count": 124,
      "outputs": [
        {
          "output_type": "execute_result",
          "data": {
            "text/plain": [
              "1470"
            ]
          },
          "metadata": {},
          "execution_count": 124
        }
      ]
    },
    {
      "cell_type": "code",
      "source": [
        "n_outliers = sum(outlier_15_up) + sum(outlier_15_low)\n",
        "n_outliers"
      ],
      "metadata": {
        "colab": {
          "base_uri": "https://localhost:8080/"
        },
        "id": "OwQiopChn4sL",
        "outputId": "50b84430-084d-4d4a-eb6b-e7edf4a8c07f"
      },
      "execution_count": 125,
      "outputs": [
        {
          "output_type": "execute_result",
          "data": {
            "text/plain": [
              "400"
            ]
          },
          "metadata": {},
          "execution_count": 125
        }
      ]
    },
    {
      "cell_type": "code",
      "source": [
        "n_total = len(df['monthlyincome'])\n",
        "print(\"Total: \" + str(n_total))\n",
        "n_outliers = len(df['monthlyincome'][outlier_15_low]) + len(df['monthlyincome'][outlier_15_up])\n",
        "print(\"Outlier Count: \" + str(n_outliers))\n",
        "n_valid = n_total - n_outliers\n",
        "print(\"Total Feature Count After Outliers Removed: \" + str(n_valid))"
      ],
      "metadata": {
        "colab": {
          "base_uri": "https://localhost:8080/"
        },
        "id": "wfNi7MkRonsK",
        "outputId": "1ef9322c-a96c-4fc7-a7cd-a86d661cb23b"
      },
      "execution_count": 126,
      "outputs": [
        {
          "output_type": "stream",
          "name": "stdout",
          "text": [
            "Total: 1470\n",
            "Outlier Count: 400\n",
            "Total Feature Count After Outliers Removed: 1070\n"
          ]
        }
      ]
    },
    {
      "cell_type": "code",
      "source": [
        "df['monthlyincome'][(outlier_15_low | outlier_15_up)]  # example records that are outliers"
      ],
      "metadata": {
        "colab": {
          "base_uri": "https://localhost:8080/"
        },
        "id": "HrwriFdwpGBo",
        "outputId": "e18c0c48-3296-4548-c015-25bee2855c70"
      },
      "execution_count": 127,
      "outputs": [
        {
          "output_type": "execute_result",
          "data": {
            "text/plain": [
              "2        2090\n",
              "8        9526\n",
              "14       2028\n",
              "15       9980\n",
              "18      15427\n",
              "        ...  \n",
              "1457     2001\n",
              "1461    10854\n",
              "1462    12031\n",
              "1463     9936\n",
              "1466     9991\n",
              "Name: monthlyincome, Length: 400, dtype: int64"
            ]
          },
          "metadata": {},
          "execution_count": 127
        }
      ]
    },
    {
      "cell_type": "code",
      "source": [
        "df['monthlyincome'][~(outlier_15_low | outlier_15_up)]  # all of the records that are NOT outliers"
      ],
      "metadata": {
        "colab": {
          "base_uri": "https://localhost:8080/"
        },
        "id": "VKBIvsREpe36",
        "outputId": "4c919409-5d34-488e-c575-4d6e1cff9b95"
      },
      "execution_count": 128,
      "outputs": [
        {
          "output_type": "execute_result",
          "data": {
            "text/plain": [
              "0       5993\n",
              "1       5130\n",
              "3       2909\n",
              "4       3468\n",
              "5       3068\n",
              "        ... \n",
              "1464    2966\n",
              "1465    2571\n",
              "1467    6142\n",
              "1468    5390\n",
              "1469    4404\n",
              "Name: monthlyincome, Length: 1070, dtype: int64"
            ]
          },
          "metadata": {},
          "execution_count": 128
        }
      ]
    },
    {
      "cell_type": "code",
      "source": [
        "df = df[~(outlier_15_low | outlier_15_up)] \n",
        "df.head()"
      ],
      "metadata": {
        "colab": {
          "base_uri": "https://localhost:8080/",
          "height": 270
        },
        "id": "yKjXA1C8pjPh",
        "outputId": "8a17c767-7811-4c5f-85d8-670d00ed9683"
      },
      "execution_count": 129,
      "outputs": [
        {
          "output_type": "execute_result",
          "data": {
            "text/plain": [
              "   age attrition     businesstravel  dailyrate             department  \\\n",
              "0   41       yes      travel_rarely       1102                  sales   \n",
              "1   49        no  travel_frequently        279  research__development   \n",
              "3   33        no  travel_frequently       1392  research__development   \n",
              "4   27        no      travel_rarely        591  research__development   \n",
              "5   32        no  travel_frequently       1005  research__development   \n",
              "\n",
              "   distancefromhome  education educationfield  employeecount  employeenumber  \\\n",
              "0                 1          2  life_sciences              1               1   \n",
              "1                 8          1  life_sciences              1               2   \n",
              "3                 3          4  life_sciences              1               5   \n",
              "4                 2          1        medical              1               7   \n",
              "5                 2          2  life_sciences              1               8   \n",
              "\n",
              "   environmentsatisfaction  gender  hourlyrate  jobinvolvement  joblevel  \\\n",
              "0                        2  female          94               3         2   \n",
              "1                        3    male          61               2         2   \n",
              "3                        4  female          56               3         1   \n",
              "4                        1    male          40               3         1   \n",
              "5                        4    male          79               3         1   \n",
              "\n",
              "                 jobrole  jobsatisfaction maritalstatus  monthlyincome  \\\n",
              "0        sales_executive                4        single           5993   \n",
              "1     research_scientist                2       married           5130   \n",
              "3     research_scientist                3       married           2909   \n",
              "4  laboratory_technician                2       married           3468   \n",
              "5  laboratory_technician                4        single           3068   \n",
              "\n",
              "   monthlyrate  numcompaniesworked over18 overtime  percentsalaryhike  \\\n",
              "0        19479                   8      y      yes                 11   \n",
              "1        24907                   1      y       no                 23   \n",
              "3        23159                   1      y      yes                 11   \n",
              "4        16632                   9      y       no                 12   \n",
              "5        11864                   0      y       no                 13   \n",
              "\n",
              "   performancerating  relationshipsatisfaction  standardhours  \\\n",
              "0                  3                         1             80   \n",
              "1                  4                         4             80   \n",
              "3                  3                         3             80   \n",
              "4                  3                         4             80   \n",
              "5                  3                         3             80   \n",
              "\n",
              "   stockoptionlevel  totalworkingyears  trainingtimeslastyear  \\\n",
              "0                 0                  8                      0   \n",
              "1                 1                 10                      3   \n",
              "3                 0                  8                      3   \n",
              "4                 1                  6                      3   \n",
              "5                 0                  8                      2   \n",
              "\n",
              "   worklifebalance  yearsatcompany  yearsincurrentrole  \\\n",
              "0                1               6                   4   \n",
              "1                3              10                   7   \n",
              "3                3               8                   7   \n",
              "4                3               2                   2   \n",
              "5                2               7                   7   \n",
              "\n",
              "   yearssincelastpromotion  yearswithcurrmanager  \n",
              "0                        0                     5  \n",
              "1                        1                     7  \n",
              "3                        3                     0  \n",
              "4                        2                     2  \n",
              "5                        3                     6  "
            ],
            "text/html": [
              "\n",
              "  <div id=\"df-daa7b8e6-9635-4a00-a581-c13b9c115048\">\n",
              "    <div class=\"colab-df-container\">\n",
              "      <div>\n",
              "<style scoped>\n",
              "    .dataframe tbody tr th:only-of-type {\n",
              "        vertical-align: middle;\n",
              "    }\n",
              "\n",
              "    .dataframe tbody tr th {\n",
              "        vertical-align: top;\n",
              "    }\n",
              "\n",
              "    .dataframe thead th {\n",
              "        text-align: right;\n",
              "    }\n",
              "</style>\n",
              "<table border=\"1\" class=\"dataframe\">\n",
              "  <thead>\n",
              "    <tr style=\"text-align: right;\">\n",
              "      <th></th>\n",
              "      <th>age</th>\n",
              "      <th>attrition</th>\n",
              "      <th>businesstravel</th>\n",
              "      <th>dailyrate</th>\n",
              "      <th>department</th>\n",
              "      <th>distancefromhome</th>\n",
              "      <th>education</th>\n",
              "      <th>educationfield</th>\n",
              "      <th>employeecount</th>\n",
              "      <th>employeenumber</th>\n",
              "      <th>environmentsatisfaction</th>\n",
              "      <th>gender</th>\n",
              "      <th>hourlyrate</th>\n",
              "      <th>jobinvolvement</th>\n",
              "      <th>joblevel</th>\n",
              "      <th>jobrole</th>\n",
              "      <th>jobsatisfaction</th>\n",
              "      <th>maritalstatus</th>\n",
              "      <th>monthlyincome</th>\n",
              "      <th>monthlyrate</th>\n",
              "      <th>numcompaniesworked</th>\n",
              "      <th>over18</th>\n",
              "      <th>overtime</th>\n",
              "      <th>percentsalaryhike</th>\n",
              "      <th>performancerating</th>\n",
              "      <th>relationshipsatisfaction</th>\n",
              "      <th>standardhours</th>\n",
              "      <th>stockoptionlevel</th>\n",
              "      <th>totalworkingyears</th>\n",
              "      <th>trainingtimeslastyear</th>\n",
              "      <th>worklifebalance</th>\n",
              "      <th>yearsatcompany</th>\n",
              "      <th>yearsincurrentrole</th>\n",
              "      <th>yearssincelastpromotion</th>\n",
              "      <th>yearswithcurrmanager</th>\n",
              "    </tr>\n",
              "  </thead>\n",
              "  <tbody>\n",
              "    <tr>\n",
              "      <th>0</th>\n",
              "      <td>41</td>\n",
              "      <td>yes</td>\n",
              "      <td>travel_rarely</td>\n",
              "      <td>1102</td>\n",
              "      <td>sales</td>\n",
              "      <td>1</td>\n",
              "      <td>2</td>\n",
              "      <td>life_sciences</td>\n",
              "      <td>1</td>\n",
              "      <td>1</td>\n",
              "      <td>2</td>\n",
              "      <td>female</td>\n",
              "      <td>94</td>\n",
              "      <td>3</td>\n",
              "      <td>2</td>\n",
              "      <td>sales_executive</td>\n",
              "      <td>4</td>\n",
              "      <td>single</td>\n",
              "      <td>5993</td>\n",
              "      <td>19479</td>\n",
              "      <td>8</td>\n",
              "      <td>y</td>\n",
              "      <td>yes</td>\n",
              "      <td>11</td>\n",
              "      <td>3</td>\n",
              "      <td>1</td>\n",
              "      <td>80</td>\n",
              "      <td>0</td>\n",
              "      <td>8</td>\n",
              "      <td>0</td>\n",
              "      <td>1</td>\n",
              "      <td>6</td>\n",
              "      <td>4</td>\n",
              "      <td>0</td>\n",
              "      <td>5</td>\n",
              "    </tr>\n",
              "    <tr>\n",
              "      <th>1</th>\n",
              "      <td>49</td>\n",
              "      <td>no</td>\n",
              "      <td>travel_frequently</td>\n",
              "      <td>279</td>\n",
              "      <td>research__development</td>\n",
              "      <td>8</td>\n",
              "      <td>1</td>\n",
              "      <td>life_sciences</td>\n",
              "      <td>1</td>\n",
              "      <td>2</td>\n",
              "      <td>3</td>\n",
              "      <td>male</td>\n",
              "      <td>61</td>\n",
              "      <td>2</td>\n",
              "      <td>2</td>\n",
              "      <td>research_scientist</td>\n",
              "      <td>2</td>\n",
              "      <td>married</td>\n",
              "      <td>5130</td>\n",
              "      <td>24907</td>\n",
              "      <td>1</td>\n",
              "      <td>y</td>\n",
              "      <td>no</td>\n",
              "      <td>23</td>\n",
              "      <td>4</td>\n",
              "      <td>4</td>\n",
              "      <td>80</td>\n",
              "      <td>1</td>\n",
              "      <td>10</td>\n",
              "      <td>3</td>\n",
              "      <td>3</td>\n",
              "      <td>10</td>\n",
              "      <td>7</td>\n",
              "      <td>1</td>\n",
              "      <td>7</td>\n",
              "    </tr>\n",
              "    <tr>\n",
              "      <th>3</th>\n",
              "      <td>33</td>\n",
              "      <td>no</td>\n",
              "      <td>travel_frequently</td>\n",
              "      <td>1392</td>\n",
              "      <td>research__development</td>\n",
              "      <td>3</td>\n",
              "      <td>4</td>\n",
              "      <td>life_sciences</td>\n",
              "      <td>1</td>\n",
              "      <td>5</td>\n",
              "      <td>4</td>\n",
              "      <td>female</td>\n",
              "      <td>56</td>\n",
              "      <td>3</td>\n",
              "      <td>1</td>\n",
              "      <td>research_scientist</td>\n",
              "      <td>3</td>\n",
              "      <td>married</td>\n",
              "      <td>2909</td>\n",
              "      <td>23159</td>\n",
              "      <td>1</td>\n",
              "      <td>y</td>\n",
              "      <td>yes</td>\n",
              "      <td>11</td>\n",
              "      <td>3</td>\n",
              "      <td>3</td>\n",
              "      <td>80</td>\n",
              "      <td>0</td>\n",
              "      <td>8</td>\n",
              "      <td>3</td>\n",
              "      <td>3</td>\n",
              "      <td>8</td>\n",
              "      <td>7</td>\n",
              "      <td>3</td>\n",
              "      <td>0</td>\n",
              "    </tr>\n",
              "    <tr>\n",
              "      <th>4</th>\n",
              "      <td>27</td>\n",
              "      <td>no</td>\n",
              "      <td>travel_rarely</td>\n",
              "      <td>591</td>\n",
              "      <td>research__development</td>\n",
              "      <td>2</td>\n",
              "      <td>1</td>\n",
              "      <td>medical</td>\n",
              "      <td>1</td>\n",
              "      <td>7</td>\n",
              "      <td>1</td>\n",
              "      <td>male</td>\n",
              "      <td>40</td>\n",
              "      <td>3</td>\n",
              "      <td>1</td>\n",
              "      <td>laboratory_technician</td>\n",
              "      <td>2</td>\n",
              "      <td>married</td>\n",
              "      <td>3468</td>\n",
              "      <td>16632</td>\n",
              "      <td>9</td>\n",
              "      <td>y</td>\n",
              "      <td>no</td>\n",
              "      <td>12</td>\n",
              "      <td>3</td>\n",
              "      <td>4</td>\n",
              "      <td>80</td>\n",
              "      <td>1</td>\n",
              "      <td>6</td>\n",
              "      <td>3</td>\n",
              "      <td>3</td>\n",
              "      <td>2</td>\n",
              "      <td>2</td>\n",
              "      <td>2</td>\n",
              "      <td>2</td>\n",
              "    </tr>\n",
              "    <tr>\n",
              "      <th>5</th>\n",
              "      <td>32</td>\n",
              "      <td>no</td>\n",
              "      <td>travel_frequently</td>\n",
              "      <td>1005</td>\n",
              "      <td>research__development</td>\n",
              "      <td>2</td>\n",
              "      <td>2</td>\n",
              "      <td>life_sciences</td>\n",
              "      <td>1</td>\n",
              "      <td>8</td>\n",
              "      <td>4</td>\n",
              "      <td>male</td>\n",
              "      <td>79</td>\n",
              "      <td>3</td>\n",
              "      <td>1</td>\n",
              "      <td>laboratory_technician</td>\n",
              "      <td>4</td>\n",
              "      <td>single</td>\n",
              "      <td>3068</td>\n",
              "      <td>11864</td>\n",
              "      <td>0</td>\n",
              "      <td>y</td>\n",
              "      <td>no</td>\n",
              "      <td>13</td>\n",
              "      <td>3</td>\n",
              "      <td>3</td>\n",
              "      <td>80</td>\n",
              "      <td>0</td>\n",
              "      <td>8</td>\n",
              "      <td>2</td>\n",
              "      <td>2</td>\n",
              "      <td>7</td>\n",
              "      <td>7</td>\n",
              "      <td>3</td>\n",
              "      <td>6</td>\n",
              "    </tr>\n",
              "  </tbody>\n",
              "</table>\n",
              "</div>\n",
              "      <button class=\"colab-df-convert\" onclick=\"convertToInteractive('df-daa7b8e6-9635-4a00-a581-c13b9c115048')\"\n",
              "              title=\"Convert this dataframe to an interactive table.\"\n",
              "              style=\"display:none;\">\n",
              "        \n",
              "  <svg xmlns=\"http://www.w3.org/2000/svg\" height=\"24px\"viewBox=\"0 0 24 24\"\n",
              "       width=\"24px\">\n",
              "    <path d=\"M0 0h24v24H0V0z\" fill=\"none\"/>\n",
              "    <path d=\"M18.56 5.44l.94 2.06.94-2.06 2.06-.94-2.06-.94-.94-2.06-.94 2.06-2.06.94zm-11 1L8.5 8.5l.94-2.06 2.06-.94-2.06-.94L8.5 2.5l-.94 2.06-2.06.94zm10 10l.94 2.06.94-2.06 2.06-.94-2.06-.94-.94-2.06-.94 2.06-2.06.94z\"/><path d=\"M17.41 7.96l-1.37-1.37c-.4-.4-.92-.59-1.43-.59-.52 0-1.04.2-1.43.59L10.3 9.45l-7.72 7.72c-.78.78-.78 2.05 0 2.83L4 21.41c.39.39.9.59 1.41.59.51 0 1.02-.2 1.41-.59l7.78-7.78 2.81-2.81c.8-.78.8-2.07 0-2.86zM5.41 20L4 18.59l7.72-7.72 1.47 1.35L5.41 20z\"/>\n",
              "  </svg>\n",
              "      </button>\n",
              "      \n",
              "  <style>\n",
              "    .colab-df-container {\n",
              "      display:flex;\n",
              "      flex-wrap:wrap;\n",
              "      gap: 12px;\n",
              "    }\n",
              "\n",
              "    .colab-df-convert {\n",
              "      background-color: #E8F0FE;\n",
              "      border: none;\n",
              "      border-radius: 50%;\n",
              "      cursor: pointer;\n",
              "      display: none;\n",
              "      fill: #1967D2;\n",
              "      height: 32px;\n",
              "      padding: 0 0 0 0;\n",
              "      width: 32px;\n",
              "    }\n",
              "\n",
              "    .colab-df-convert:hover {\n",
              "      background-color: #E2EBFA;\n",
              "      box-shadow: 0px 1px 2px rgba(60, 64, 67, 0.3), 0px 1px 3px 1px rgba(60, 64, 67, 0.15);\n",
              "      fill: #174EA6;\n",
              "    }\n",
              "\n",
              "    [theme=dark] .colab-df-convert {\n",
              "      background-color: #3B4455;\n",
              "      fill: #D2E3FC;\n",
              "    }\n",
              "\n",
              "    [theme=dark] .colab-df-convert:hover {\n",
              "      background-color: #434B5C;\n",
              "      box-shadow: 0px 1px 3px 1px rgba(0, 0, 0, 0.15);\n",
              "      filter: drop-shadow(0px 1px 2px rgba(0, 0, 0, 0.3));\n",
              "      fill: #FFFFFF;\n",
              "    }\n",
              "  </style>\n",
              "\n",
              "      <script>\n",
              "        const buttonEl =\n",
              "          document.querySelector('#df-daa7b8e6-9635-4a00-a581-c13b9c115048 button.colab-df-convert');\n",
              "        buttonEl.style.display =\n",
              "          google.colab.kernel.accessAllowed ? 'block' : 'none';\n",
              "\n",
              "        async function convertToInteractive(key) {\n",
              "          const element = document.querySelector('#df-daa7b8e6-9635-4a00-a581-c13b9c115048');\n",
              "          const dataTable =\n",
              "            await google.colab.kernel.invokeFunction('convertToInteractive',\n",
              "                                                     [key], {});\n",
              "          if (!dataTable) return;\n",
              "\n",
              "          const docLinkHtml = 'Like what you see? Visit the ' +\n",
              "            '<a target=\"_blank\" href=https://colab.research.google.com/notebooks/data_table.ipynb>data table notebook</a>'\n",
              "            + ' to learn more about interactive tables.';\n",
              "          element.innerHTML = '';\n",
              "          dataTable['output_type'] = 'display_data';\n",
              "          await google.colab.output.renderOutput(dataTable, element);\n",
              "          const docLink = document.createElement('div');\n",
              "          docLink.innerHTML = docLinkHtml;\n",
              "          element.appendChild(docLink);\n",
              "        }\n",
              "      </script>\n",
              "    </div>\n",
              "  </div>\n",
              "  "
            ]
          },
          "metadata": {},
          "execution_count": 129
        }
      ]
    },
    {
      "cell_type": "code",
      "source": [
        "# Save file\n",
        "df.to_csv('IBM_AttritionDF_no_outliers.csv')"
      ],
      "metadata": {
        "id": "pdbleQfYptKp"
      },
      "execution_count": 130,
      "outputs": []
    },
    {
      "cell_type": "code",
      "source": [
        "outliers = df['monthlyincome'][(outlier_15_low | outlier_15_up)]\n",
        "valid_data = df['monthlyincome'][~(outlier_15_low | outlier_15_up)]\n",
        "\n",
        "sns.distplot(outliers, label='Outliers')\n",
        "sns.distplot(valid_data, label='Valid Data')"
      ],
      "metadata": {
        "colab": {
          "base_uri": "https://localhost:8080/",
          "height": 460
        },
        "id": "RGSu8nC5pzKQ",
        "outputId": "238fe4bd-05af-47dc-e3ed-677ba1830e48"
      },
      "execution_count": 131,
      "outputs": [
        {
          "output_type": "stream",
          "name": "stderr",
          "text": [
            "/usr/local/lib/python3.9/dist-packages/seaborn/distributions.py:2619: FutureWarning: `distplot` is a deprecated function and will be removed in a future version. Please adapt your code to use either `displot` (a figure-level function with similar flexibility) or `histplot` (an axes-level function for histograms).\n",
            "  warnings.warn(msg, FutureWarning)\n",
            "/usr/local/lib/python3.9/dist-packages/seaborn/distributions.py:2657: RuntimeWarning: Mean of empty slice.\n",
            "  line, = ax.plot(a.mean(), 0)\n",
            "/usr/local/lib/python3.9/dist-packages/numpy/core/_methods.py:189: RuntimeWarning: invalid value encountered in double_scalars\n",
            "  ret = ret.dtype.type(ret / rcount)\n",
            "/usr/local/lib/python3.9/dist-packages/numpy/lib/histograms.py:906: RuntimeWarning: invalid value encountered in true_divide\n",
            "  return n/db/n.sum(), bin_edges\n"
          ]
        },
        {
          "output_type": "execute_result",
          "data": {
            "text/plain": [
              "<AxesSubplot:xlabel='monthlyincome', ylabel='Density'>"
            ]
          },
          "metadata": {},
          "execution_count": 131
        },
        {
          "output_type": "display_data",
          "data": {
            "text/plain": [
              "<Figure size 432x288 with 1 Axes>"
            ],
            "image/png": "[encoded data removed]"
          },
          "metadata": {
            "needs_background": "light"
          }
        }
      ]
    },
    {
      "cell_type": "code",
      "source": [
        "sns.boxplot(x = df['monthlyincome'])\n",
        "plt.show()"
      ],
      "metadata": {
        "colab": {
          "base_uri": "https://localhost:8080/",
          "height": 279
        },
        "id": "v_8t21RdqJFa",
        "outputId": "422a31ab-e3f8-41c0-db65-08c222ed1fe2"
      },
      "execution_count": 132,
      "outputs": [
        {
          "output_type": "display_data",
          "data": {
            "text/plain": [
              "<Figure size 432x288 with 1 Axes>"
            ],
            "image/png": "[encoded data removed]"
          },
          "metadata": {
            "needs_background": "light"
          }
        }
      ]
    },
    {
      "cell_type": "code",
      "source": [
        "sns.distplot(df['monthlyincome'],bins=10,kde=False)\n",
        "plt.show()"
      ],
      "metadata": {
        "colab": {
          "base_uri": "https://localhost:8080/",
          "height": 335
        },
        "id": "Rpty60x_qNqT",
        "outputId": "39949704-ef0c-4106-c6a7-305b56f0660c"
      },
      "execution_count": 133,
      "outputs": [
        {
          "output_type": "stream",
          "name": "stderr",
          "text": [
            "/usr/local/lib/python3.9/dist-packages/seaborn/distributions.py:2619: FutureWarning: `distplot` is a deprecated function and will be removed in a future version. Please adapt your code to use either `displot` (a figure-level function with similar flexibility) or `histplot` (an axes-level function for histograms).\n",
            "  warnings.warn(msg, FutureWarning)\n"
          ]
        },
        {
          "output_type": "display_data",
          "data": {
            "text/plain": [
              "<Figure size 432x288 with 1 Axes>"
            ],
            "image/png": "[encoded data removed]"
          },
          "metadata": {
            "needs_background": "light"
          }
        }
      ]
    },
    {
      "cell_type": "markdown",
      "source": [
        "# Winsorize Method"
      ],
      "metadata": {
        "id": "6aXTm8L1q5ZT"
      }
    },
    {
      "cell_type": "code",
      "source": [
        "# Download the dataset from openml\n",
        "dataset = fetch_openml(data_id=43696, as_frame=True)\n",
        "#Extract feature matrix X and show 5 random samples\n",
        "df = dataset[\"frame\"]\n",
        "pd.set_option(\"display.max_columns\", None)\n",
        "df.sample(5)"
      ],
      "metadata": {
        "colab": {
          "base_uri": "https://localhost:8080/",
          "height": 393
        },
        "id": "Zmj6UoRIrWDr",
        "outputId": "72793864-b312-44b6-ebd7-3cdfcd76b36c"
      },
      "execution_count": 134,
      "outputs": [
        {
          "output_type": "stream",
          "name": "stderr",
          "text": [
            "/usr/local/lib/python3.9/dist-packages/sklearn/datasets/_openml.py:932: FutureWarning: The default value of `parser` will change from `'liac-arff'` to `'auto'` in 1.4. You can set `parser='auto'` to silence this warning. Therefore, an `ImportError` will be raised from 1.4 if the dataset is dense and pandas is not installed. Note that the pandas parser may return different data types. See the Notes Section in fetch_openml's API doc for details.\n",
            "  warn(\n"
          ]
        },
        {
          "output_type": "execute_result",
          "data": {
            "text/plain": [
              "     Age Attrition     BusinessTravel  DailyRate             Department  \\\n",
              "494   34        No      Travel_Rarely        204                  Sales   \n",
              "166   41        No      Travel_Rarely        465  Research  Development   \n",
              "559   38        No      Travel_Rarely        268  Research  Development   \n",
              "582   40        No  Travel_Frequently        791  Research  Development   \n",
              "867   50        No  Travel_Frequently       1421  Research  Development   \n",
              "\n",
              "     DistanceFromHome  Education    EducationField  EmployeeCount  \\\n",
              "494                14          3  Technical Degree              1   \n",
              "166                14          3     Life Sciences              1   \n",
              "559                 2          5           Medical              1   \n",
              "582                 2          2           Medical              1   \n",
              "867                 2          3           Medical              1   \n",
              "\n",
              "     EmployeeNumber  EnvironmentSatisfaction  Gender  HourlyRate  \\\n",
              "494             666                        3  Female          31   \n",
              "166             227                        1    Male          56   \n",
              "559             773                        4    Male          92   \n",
              "582             807                        3  Female          38   \n",
              "867            1215                        4  Female          30   \n",
              "\n",
              "     JobInvolvement  JobLevel                    JobRole  JobSatisfaction  \\\n",
              "494               3         1       Sales Representative                3   \n",
              "166               3         1         Research Scientist                3   \n",
              "559               3         1         Research Scientist                3   \n",
              "582               4         2  Healthcare Representative                2   \n",
              "867               3         4                    Manager                1   \n",
              "\n",
              "    MaritalStatus  MonthlyIncome  MonthlyRate  NumCompaniesWorked Over18  \\\n",
              "494      Divorced           2579         2912                   1      Y   \n",
              "166      Divorced           2451         4609                   4      Y   \n",
              "559       Married           3057        20471                   6      Y   \n",
              "582       Married           4244         9931                   1      Y   \n",
              "867       Married          17856         9490                   2      Y   \n",
              "\n",
              "    OverTime  PercentSalaryHike  PerformanceRating  RelationshipSatisfaction  \\\n",
              "494      Yes                 18                  3                         4   \n",
              "166       No                 12                  3                         1   \n",
              "559      Yes                 13                  3                         2   \n",
              "582       No                 24                  4                         4   \n",
              "867       No                 22                  4                         3   \n",
              "\n",
              "     StandardHours  StockOptionLevel  TotalWorkingYears  \\\n",
              "494             80                 2                  8   \n",
              "166             80                 1                 13   \n",
              "559             80                 1                  6   \n",
              "582             80                 1                  8   \n",
              "867             80                 1                 32   \n",
              "\n",
              "     TrainingTimesLastYear  WorkLifeBalance  YearsAtCompany  \\\n",
              "494                      3                3               8   \n",
              "166                      2                3               9   \n",
              "559                      0                1               1   \n",
              "582                      2                3               8   \n",
              "867                      3                3               2   \n",
              "\n",
              "     YearsInCurrentRole  YearsSinceLastPromotion  YearsWithCurrManager  \n",
              "494                   2                        0                     6  \n",
              "166                   8                        1                     8  \n",
              "559                   0                        0                     1  \n",
              "582                   7                        3                     7  \n",
              "867                   2                        2                     2  "
            ],
            "text/html": [
              "\n",
              "  <div id=\"df-2a94a64b-6044-40d2-8c08-0298e39310e0\">\n",
              "    <div class=\"colab-df-container\">\n",
              "      <div>\n",
              "<style scoped>\n",
              "    .dataframe tbody tr th:only-of-type {\n",
              "        vertical-align: middle;\n",
              "    }\n",
              "\n",
              "    .dataframe tbody tr th {\n",
              "        vertical-align: top;\n",
              "    }\n",
              "\n",
              "    .dataframe thead th {\n",
              "        text-align: right;\n",
              "    }\n",
              "</style>\n",
              "<table border=\"1\" class=\"dataframe\">\n",
              "  <thead>\n",
              "    <tr style=\"text-align: right;\">\n",
              "      <th></th>\n",
              "      <th>Age</th>\n",
              "      <th>Attrition</th>\n",
              "      <th>BusinessTravel</th>\n",
              "      <th>DailyRate</th>\n",
              "      <th>Department</th>\n",
              "      <th>DistanceFromHome</th>\n",
              "      <th>Education</th>\n",
              "      <th>EducationField</th>\n",
              "      <th>EmployeeCount</th>\n",
              "      <th>EmployeeNumber</th>\n",
              "      <th>EnvironmentSatisfaction</th>\n",
              "      <th>Gender</th>\n",
              "      <th>HourlyRate</th>\n",
              "      <th>JobInvolvement</th>\n",
              "      <th>JobLevel</th>\n",
              "      <th>JobRole</th>\n",
              "      <th>JobSatisfaction</th>\n",
              "      <th>MaritalStatus</th>\n",
              "      <th>MonthlyIncome</th>\n",
              "      <th>MonthlyRate</th>\n",
              "      <th>NumCompaniesWorked</th>\n",
              "      <th>Over18</th>\n",
              "      <th>OverTime</th>\n",
              "      <th>PercentSalaryHike</th>\n",
              "      <th>PerformanceRating</th>\n",
              "      <th>RelationshipSatisfaction</th>\n",
              "      <th>StandardHours</th>\n",
              "      <th>StockOptionLevel</th>\n",
              "      <th>TotalWorkingYears</th>\n",
              "      <th>TrainingTimesLastYear</th>\n",
              "      <th>WorkLifeBalance</th>\n",
              "      <th>YearsAtCompany</th>\n",
              "      <th>YearsInCurrentRole</th>\n",
              "      <th>YearsSinceLastPromotion</th>\n",
              "      <th>YearsWithCurrManager</th>\n",
              "    </tr>\n",
              "  </thead>\n",
              "  <tbody>\n",
              "    <tr>\n",
              "      <th>494</th>\n",
              "      <td>34</td>\n",
              "      <td>No</td>\n",
              "      <td>Travel_Rarely</td>\n",
              "      <td>204</td>\n",
              "      <td>Sales</td>\n",
              "      <td>14</td>\n",
              "      <td>3</td>\n",
              "      <td>Technical Degree</td>\n",
              "      <td>1</td>\n",
              "      <td>666</td>\n",
              "      <td>3</td>\n",
              "      <td>Female</td>\n",
              "      <td>31</td>\n",
              "      <td>3</td>\n",
              "      <td>1</td>\n",
              "      <td>Sales Representative</td>\n",
              "      <td>3</td>\n",
              "      <td>Divorced</td>\n",
              "      <td>2579</td>\n",
              "      <td>2912</td>\n",
              "      <td>1</td>\n",
              "      <td>Y</td>\n",
              "      <td>Yes</td>\n",
              "      <td>18</td>\n",
              "      <td>3</td>\n",
              "      <td>4</td>\n",
              "      <td>80</td>\n",
              "      <td>2</td>\n",
              "      <td>8</td>\n",
              "      <td>3</td>\n",
              "      <td>3</td>\n",
              "      <td>8</td>\n",
              "      <td>2</td>\n",
              "      <td>0</td>\n",
              "      <td>6</td>\n",
              "    </tr>\n",
              "    <tr>\n",
              "      <th>166</th>\n",
              "      <td>41</td>\n",
              "      <td>No</td>\n",
              "      <td>Travel_Rarely</td>\n",
              "      <td>465</td>\n",
              "      <td>Research  Development</td>\n",
              "      <td>14</td>\n",
              "      <td>3</td>\n",
              "      <td>Life Sciences</td>\n",
              "      <td>1</td>\n",
              "      <td>227</td>\n",
              "      <td>1</td>\n",
              "      <td>Male</td>\n",
              "      <td>56</td>\n",
              "      <td>3</td>\n",
              "      <td>1</td>\n",
              "      <td>Research Scientist</td>\n",
              "      <td>3</td>\n",
              "      <td>Divorced</td>\n",
              "      <td>2451</td>\n",
              "      <td>4609</td>\n",
              "      <td>4</td>\n",
              "      <td>Y</td>\n",
              "      <td>No</td>\n",
              "      <td>12</td>\n",
              "      <td>3</td>\n",
              "      <td>1</td>\n",
              "      <td>80</td>\n",
              "      <td>1</td>\n",
              "      <td>13</td>\n",
              "      <td>2</td>\n",
              "      <td>3</td>\n",
              "      <td>9</td>\n",
              "      <td>8</td>\n",
              "      <td>1</td>\n",
              "      <td>8</td>\n",
              "    </tr>\n",
              "    <tr>\n",
              "      <th>559</th>\n",
              "      <td>38</td>\n",
              "      <td>No</td>\n",
              "      <td>Travel_Rarely</td>\n",
              "      <td>268</td>\n",
              "      <td>Research  Development</td>\n",
              "      <td>2</td>\n",
              "      <td>5</td>\n",
              "      <td>Medical</td>\n",
              "      <td>1</td>\n",
              "      <td>773</td>\n",
              "      <td>4</td>\n",
              "      <td>Male</td>\n",
              "      <td>92</td>\n",
              "      <td>3</td>\n",
              "      <td>1</td>\n",
              "      <td>Research Scientist</td>\n",
              "      <td>3</td>\n",
              "      <td>Married</td>\n",
              "      <td>3057</td>\n",
              "      <td>20471</td>\n",
              "      <td>6</td>\n",
              "      <td>Y</td>\n",
              "      <td>Yes</td>\n",
              "      <td>13</td>\n",
              "      <td>3</td>\n",
              "      <td>2</td>\n",
              "      <td>80</td>\n",
              "      <td>1</td>\n",
              "      <td>6</td>\n",
              "      <td>0</td>\n",
              "      <td>1</td>\n",
              "      <td>1</td>\n",
              "      <td>0</td>\n",
              "      <td>0</td>\n",
              "      <td>1</td>\n",
              "    </tr>\n",
              "    <tr>\n",
              "      <th>582</th>\n",
              "      <td>40</td>\n",
              "      <td>No</td>\n",
              "      <td>Travel_Frequently</td>\n",
              "      <td>791</td>\n",
              "      <td>Research  Development</td>\n",
              "      <td>2</td>\n",
              "      <td>2</td>\n",
              "      <td>Medical</td>\n",
              "      <td>1</td>\n",
              "      <td>807</td>\n",
              "      <td>3</td>\n",
              "      <td>Female</td>\n",
              "      <td>38</td>\n",
              "      <td>4</td>\n",
              "      <td>2</td>\n",
              "      <td>Healthcare Representative</td>\n",
              "      <td>2</td>\n",
              "      <td>Married</td>\n",
              "      <td>4244</td>\n",
              "      <td>9931</td>\n",
              "      <td>1</td>\n",
              "      <td>Y</td>\n",
              "      <td>No</td>\n",
              "      <td>24</td>\n",
              "      <td>4</td>\n",
              "      <td>4</td>\n",
              "      <td>80</td>\n",
              "      <td>1</td>\n",
              "      <td>8</td>\n",
              "      <td>2</td>\n",
              "      <td>3</td>\n",
              "      <td>8</td>\n",
              "      <td>7</td>\n",
              "      <td>3</td>\n",
              "      <td>7</td>\n",
              "    </tr>\n",
              "    <tr>\n",
              "      <th>867</th>\n",
              "      <td>50</td>\n",
              "      <td>No</td>\n",
              "      <td>Travel_Frequently</td>\n",
              "      <td>1421</td>\n",
              "      <td>Research  Development</td>\n",
              "      <td>2</td>\n",
              "      <td>3</td>\n",
              "      <td>Medical</td>\n",
              "      <td>1</td>\n",
              "      <td>1215</td>\n",
              "      <td>4</td>\n",
              "      <td>Female</td>\n",
              "      <td>30</td>\n",
              "      <td>3</td>\n",
              "      <td>4</td>\n",
              "      <td>Manager</td>\n",
              "      <td>1</td>\n",
              "      <td>Married</td>\n",
              "      <td>17856</td>\n",
              "      <td>9490</td>\n",
              "      <td>2</td>\n",
              "      <td>Y</td>\n",
              "      <td>No</td>\n",
              "      <td>22</td>\n",
              "      <td>4</td>\n",
              "      <td>3</td>\n",
              "      <td>80</td>\n",
              "      <td>1</td>\n",
              "      <td>32</td>\n",
              "      <td>3</td>\n",
              "      <td>3</td>\n",
              "      <td>2</td>\n",
              "      <td>2</td>\n",
              "      <td>2</td>\n",
              "      <td>2</td>\n",
              "    </tr>\n",
              "  </tbody>\n",
              "</table>\n",
              "</div>\n",
              "      <button class=\"colab-df-convert\" onclick=\"convertToInteractive('df-2a94a64b-6044-40d2-8c08-0298e39310e0')\"\n",
              "              title=\"Convert this dataframe to an interactive table.\"\n",
              "              style=\"display:none;\">\n",
              "        \n",
              "  <svg xmlns=\"http://www.w3.org/2000/svg\" height=\"24px\"viewBox=\"0 0 24 24\"\n",
              "       width=\"24px\">\n",
              "    <path d=\"M0 0h24v24H0V0z\" fill=\"none\"/>\n",
              "    <path d=\"M18.56 5.44l.94 2.06.94-2.06 2.06-.94-2.06-.94-.94-2.06-.94 2.06-2.06.94zm-11 1L8.5 8.5l.94-2.06 2.06-.94-2.06-.94L8.5 2.5l-.94 2.06-2.06.94zm10 10l.94 2.06.94-2.06 2.06-.94-2.06-.94-.94-2.06-.94 2.06-2.06.94z\"/><path d=\"M17.41 7.96l-1.37-1.37c-.4-.4-.92-.59-1.43-.59-.52 0-1.04.2-1.43.59L10.3 9.45l-7.72 7.72c-.78.78-.78 2.05 0 2.83L4 21.41c.39.39.9.59 1.41.59.51 0 1.02-.2 1.41-.59l7.78-7.78 2.81-2.81c.8-.78.8-2.07 0-2.86zM5.41 20L4 18.59l7.72-7.72 1.47 1.35L5.41 20z\"/>\n",
              "  </svg>\n",
              "      </button>\n",
              "      \n",
              "  <style>\n",
              "    .colab-df-container {\n",
              "      display:flex;\n",
              "      flex-wrap:wrap;\n",
              "      gap: 12px;\n",
              "    }\n",
              "\n",
              "    .colab-df-convert {\n",
              "      background-color: #E8F0FE;\n",
              "      border: none;\n",
              "      border-radius: 50%;\n",
              "      cursor: pointer;\n",
              "      display: none;\n",
              "      fill: #1967D2;\n",
              "      height: 32px;\n",
              "      padding: 0 0 0 0;\n",
              "      width: 32px;\n",
              "    }\n",
              "\n",
              "    .colab-df-convert:hover {\n",
              "      background-color: #E2EBFA;\n",
              "      box-shadow: 0px 1px 2px rgba(60, 64, 67, 0.3), 0px 1px 3px 1px rgba(60, 64, 67, 0.15);\n",
              "      fill: #174EA6;\n",
              "    }\n",
              "\n",
              "    [theme=dark] .colab-df-convert {\n",
              "      background-color: #3B4455;\n",
              "      fill: #D2E3FC;\n",
              "    }\n",
              "\n",
              "    [theme=dark] .colab-df-convert:hover {\n",
              "      background-color: #434B5C;\n",
              "      box-shadow: 0px 1px 3px 1px rgba(0, 0, 0, 0.15);\n",
              "      filter: drop-shadow(0px 1px 2px rgba(0, 0, 0, 0.3));\n",
              "      fill: #FFFFFF;\n",
              "    }\n",
              "  </style>\n",
              "\n",
              "      <script>\n",
              "        const buttonEl =\n",
              "          document.querySelector('#df-2a94a64b-6044-40d2-8c08-0298e39310e0 button.colab-df-convert');\n",
              "        buttonEl.style.display =\n",
              "          google.colab.kernel.accessAllowed ? 'block' : 'none';\n",
              "\n",
              "        async function convertToInteractive(key) {\n",
              "          const element = document.querySelector('#df-2a94a64b-6044-40d2-8c08-0298e39310e0');\n",
              "          const dataTable =\n",
              "            await google.colab.kernel.invokeFunction('convertToInteractive',\n",
              "                                                     [key], {});\n",
              "          if (!dataTable) return;\n",
              "\n",
              "          const docLinkHtml = 'Like what you see? Visit the ' +\n",
              "            '<a target=\"_blank\" href=https://colab.research.google.com/notebooks/data_table.ipynb>data table notebook</a>'\n",
              "            + ' to learn more about interactive tables.';\n",
              "          element.innerHTML = '';\n",
              "          dataTable['output_type'] = 'display_data';\n",
              "          await google.colab.output.renderOutput(dataTable, element);\n",
              "          const docLink = document.createElement('div');\n",
              "          docLink.innerHTML = docLinkHtml;\n",
              "          element.appendChild(docLink);\n",
              "        }\n",
              "      </script>\n",
              "    </div>\n",
              "  </div>\n",
              "  "
            ]
          },
          "metadata": {},
          "execution_count": 134
        }
      ]
    },
    {
      "cell_type": "code",
      "source": [
        "# Basic Data Cleaning\n",
        "# Make columns lower case\n",
        "df.columns = df.columns.str.lower().str.replace(' ', '_') # A\n",
        " \n",
        "string_columns = list(df.dtypes[df.dtypes == 'object'].index) # B\n",
        " \n",
        "for col in string_columns:\n",
        "    df[col] = df[col].str.lower().str.replace(' ', '_') # C\n",
        "\n",
        "df.head(1)"
      ],
      "metadata": {
        "colab": {
          "base_uri": "https://localhost:8080/",
          "height": 145
        },
        "id": "6E2EkiRz_Al5",
        "outputId": "acbe233b-1611-4ad9-ba8e-371f00842a7c"
      },
      "execution_count": 135,
      "outputs": [
        {
          "output_type": "execute_result",
          "data": {
            "text/plain": [
              "   age attrition businesstravel  dailyrate department  distancefromhome  \\\n",
              "0   41       yes  travel_rarely       1102      sales                 1   \n",
              "\n",
              "   education educationfield  employeecount  employeenumber  \\\n",
              "0          2  life_sciences              1               1   \n",
              "\n",
              "   environmentsatisfaction  gender  hourlyrate  jobinvolvement  joblevel  \\\n",
              "0                        2  female          94               3         2   \n",
              "\n",
              "           jobrole  jobsatisfaction maritalstatus  monthlyincome  monthlyrate  \\\n",
              "0  sales_executive                4        single           5993        19479   \n",
              "\n",
              "   numcompaniesworked over18 overtime  percentsalaryhike  performancerating  \\\n",
              "0                   8      y      yes                 11                  3   \n",
              "\n",
              "   relationshipsatisfaction  standardhours  stockoptionlevel  \\\n",
              "0                         1             80                 0   \n",
              "\n",
              "   totalworkingyears  trainingtimeslastyear  worklifebalance  yearsatcompany  \\\n",
              "0                  8                      0                1               6   \n",
              "\n",
              "   yearsincurrentrole  yearssincelastpromotion  yearswithcurrmanager  \n",
              "0                   4                        0                     5  "
            ],
            "text/html": [
              "\n",
              "  <div id=\"df-150d514b-6a61-4a2f-a3ac-8b3e3faa8ce3\">\n",
              "    <div class=\"colab-df-container\">\n",
              "      <div>\n",
              "<style scoped>\n",
              "    .dataframe tbody tr th:only-of-type {\n",
              "        vertical-align: middle;\n",
              "    }\n",
              "\n",
              "    .dataframe tbody tr th {\n",
              "        vertical-align: top;\n",
              "    }\n",
              "\n",
              "    .dataframe thead th {\n",
              "        text-align: right;\n",
              "    }\n",
              "</style>\n",
              "<table border=\"1\" class=\"dataframe\">\n",
              "  <thead>\n",
              "    <tr style=\"text-align: right;\">\n",
              "      <th></th>\n",
              "      <th>age</th>\n",
              "      <th>attrition</th>\n",
              "      <th>businesstravel</th>\n",
              "      <th>dailyrate</th>\n",
              "      <th>department</th>\n",
              "      <th>distancefromhome</th>\n",
              "      <th>education</th>\n",
              "      <th>educationfield</th>\n",
              "      <th>employeecount</th>\n",
              "      <th>employeenumber</th>\n",
              "      <th>environmentsatisfaction</th>\n",
              "      <th>gender</th>\n",
              "      <th>hourlyrate</th>\n",
              "      <th>jobinvolvement</th>\n",
              "      <th>joblevel</th>\n",
              "      <th>jobrole</th>\n",
              "      <th>jobsatisfaction</th>\n",
              "      <th>maritalstatus</th>\n",
              "      <th>monthlyincome</th>\n",
              "      <th>monthlyrate</th>\n",
              "      <th>numcompaniesworked</th>\n",
              "      <th>over18</th>\n",
              "      <th>overtime</th>\n",
              "      <th>percentsalaryhike</th>\n",
              "      <th>performancerating</th>\n",
              "      <th>relationshipsatisfaction</th>\n",
              "      <th>standardhours</th>\n",
              "      <th>stockoptionlevel</th>\n",
              "      <th>totalworkingyears</th>\n",
              "      <th>trainingtimeslastyear</th>\n",
              "      <th>worklifebalance</th>\n",
              "      <th>yearsatcompany</th>\n",
              "      <th>yearsincurrentrole</th>\n",
              "      <th>yearssincelastpromotion</th>\n",
              "      <th>yearswithcurrmanager</th>\n",
              "    </tr>\n",
              "  </thead>\n",
              "  <tbody>\n",
              "    <tr>\n",
              "      <th>0</th>\n",
              "      <td>41</td>\n",
              "      <td>yes</td>\n",
              "      <td>travel_rarely</td>\n",
              "      <td>1102</td>\n",
              "      <td>sales</td>\n",
              "      <td>1</td>\n",
              "      <td>2</td>\n",
              "      <td>life_sciences</td>\n",
              "      <td>1</td>\n",
              "      <td>1</td>\n",
              "      <td>2</td>\n",
              "      <td>female</td>\n",
              "      <td>94</td>\n",
              "      <td>3</td>\n",
              "      <td>2</td>\n",
              "      <td>sales_executive</td>\n",
              "      <td>4</td>\n",
              "      <td>single</td>\n",
              "      <td>5993</td>\n",
              "      <td>19479</td>\n",
              "      <td>8</td>\n",
              "      <td>y</td>\n",
              "      <td>yes</td>\n",
              "      <td>11</td>\n",
              "      <td>3</td>\n",
              "      <td>1</td>\n",
              "      <td>80</td>\n",
              "      <td>0</td>\n",
              "      <td>8</td>\n",
              "      <td>0</td>\n",
              "      <td>1</td>\n",
              "      <td>6</td>\n",
              "      <td>4</td>\n",
              "      <td>0</td>\n",
              "      <td>5</td>\n",
              "    </tr>\n",
              "  </tbody>\n",
              "</table>\n",
              "</div>\n",
              "      <button class=\"colab-df-convert\" onclick=\"convertToInteractive('df-150d514b-6a61-4a2f-a3ac-8b3e3faa8ce3')\"\n",
              "              title=\"Convert this dataframe to an interactive table.\"\n",
              "              style=\"display:none;\">\n",
              "        \n",
              "  <svg xmlns=\"http://www.w3.org/2000/svg\" height=\"24px\"viewBox=\"0 0 24 24\"\n",
              "       width=\"24px\">\n",
              "    <path d=\"M0 0h24v24H0V0z\" fill=\"none\"/>\n",
              "    <path d=\"M18.56 5.44l.94 2.06.94-2.06 2.06-.94-2.06-.94-.94-2.06-.94 2.06-2.06.94zm-11 1L8.5 8.5l.94-2.06 2.06-.94-2.06-.94L8.5 2.5l-.94 2.06-2.06.94zm10 10l.94 2.06.94-2.06 2.06-.94-2.06-.94-.94-2.06-.94 2.06-2.06.94z\"/><path d=\"M17.41 7.96l-1.37-1.37c-.4-.4-.92-.59-1.43-.59-.52 0-1.04.2-1.43.59L10.3 9.45l-7.72 7.72c-.78.78-.78 2.05 0 2.83L4 21.41c.39.39.9.59 1.41.59.51 0 1.02-.2 1.41-.59l7.78-7.78 2.81-2.81c.8-.78.8-2.07 0-2.86zM5.41 20L4 18.59l7.72-7.72 1.47 1.35L5.41 20z\"/>\n",
              "  </svg>\n",
              "      </button>\n",
              "      \n",
              "  <style>\n",
              "    .colab-df-container {\n",
              "      display:flex;\n",
              "      flex-wrap:wrap;\n",
              "      gap: 12px;\n",
              "    }\n",
              "\n",
              "    .colab-df-convert {\n",
              "      background-color: #E8F0FE;\n",
              "      border: none;\n",
              "      border-radius: 50%;\n",
              "      cursor: pointer;\n",
              "      display: none;\n",
              "      fill: #1967D2;\n",
              "      height: 32px;\n",
              "      padding: 0 0 0 0;\n",
              "      width: 32px;\n",
              "    }\n",
              "\n",
              "    .colab-df-convert:hover {\n",
              "      background-color: #E2EBFA;\n",
              "      box-shadow: 0px 1px 2px rgba(60, 64, 67, 0.3), 0px 1px 3px 1px rgba(60, 64, 67, 0.15);\n",
              "      fill: #174EA6;\n",
              "    }\n",
              "\n",
              "    [theme=dark] .colab-df-convert {\n",
              "      background-color: #3B4455;\n",
              "      fill: #D2E3FC;\n",
              "    }\n",
              "\n",
              "    [theme=dark] .colab-df-convert:hover {\n",
              "      background-color: #434B5C;\n",
              "      box-shadow: 0px 1px 3px 1px rgba(0, 0, 0, 0.15);\n",
              "      filter: drop-shadow(0px 1px 2px rgba(0, 0, 0, 0.3));\n",
              "      fill: #FFFFFF;\n",
              "    }\n",
              "  </style>\n",
              "\n",
              "      <script>\n",
              "        const buttonEl =\n",
              "          document.querySelector('#df-150d514b-6a61-4a2f-a3ac-8b3e3faa8ce3 button.colab-df-convert');\n",
              "        buttonEl.style.display =\n",
              "          google.colab.kernel.accessAllowed ? 'block' : 'none';\n",
              "\n",
              "        async function convertToInteractive(key) {\n",
              "          const element = document.querySelector('#df-150d514b-6a61-4a2f-a3ac-8b3e3faa8ce3');\n",
              "          const dataTable =\n",
              "            await google.colab.kernel.invokeFunction('convertToInteractive',\n",
              "                                                     [key], {});\n",
              "          if (!dataTable) return;\n",
              "\n",
              "          const docLinkHtml = 'Like what you see? Visit the ' +\n",
              "            '<a target=\"_blank\" href=https://colab.research.google.com/notebooks/data_table.ipynb>data table notebook</a>'\n",
              "            + ' to learn more about interactive tables.';\n",
              "          element.innerHTML = '';\n",
              "          dataTable['output_type'] = 'display_data';\n",
              "          await google.colab.output.renderOutput(dataTable, element);\n",
              "          const docLink = document.createElement('div');\n",
              "          docLink.innerHTML = docLinkHtml;\n",
              "          element.appendChild(docLink);\n",
              "        }\n",
              "      </script>\n",
              "    </div>\n",
              "  </div>\n",
              "  "
            ]
          },
          "metadata": {},
          "execution_count": 135
        }
      ]
    },
    {
      "cell_type": "code",
      "source": [
        "from scipy.stats.mstats import winsorize\n"
      ],
      "metadata": {
        "id": "b08X11U7uXV8"
      },
      "execution_count": 136,
      "outputs": []
    },
    {
      "cell_type": "code",
      "source": [
        "df['monthlyincome'].quantile(0.01)"
      ],
      "metadata": {
        "colab": {
          "base_uri": "https://localhost:8080/"
        },
        "id": "HlTPH6J4ubm7",
        "outputId": "8f2a9a7b-8edc-4465-d9ff-1f1fe73841d2"
      },
      "execution_count": 137,
      "outputs": [
        {
          "output_type": "execute_result",
          "data": {
            "text/plain": [
              "1382.46"
            ]
          },
          "metadata": {},
          "execution_count": 137
        }
      ]
    },
    {
      "cell_type": "code",
      "source": [
        "df['monthlyincome'].quantile(0.85)"
      ],
      "metadata": {
        "colab": {
          "base_uri": "https://localhost:8080/"
        },
        "id": "B8hF3Q5_udSj",
        "outputId": "912a2f88-fddf-48ca-9a28-48c18818cfd5"
      },
      "execution_count": 138,
      "outputs": [
        {
          "output_type": "execute_result",
          "data": {
            "text/plain": [
              "10927.8"
            ]
          },
          "metadata": {},
          "execution_count": 138
        }
      ]
    },
    {
      "cell_type": "code",
      "source": [
        "# how do we treat outliers with the winsorization method\n",
        "df_table_win = winsorize(df['monthlyincome'],(0.01,0.15))  # lower boundary 1% - upper boundary 1-0.10 or 90th percentile or higher"
      ],
      "metadata": {
        "id": "DFLPqMz8uzJ2"
      },
      "execution_count": 139,
      "outputs": []
    },
    {
      "cell_type": "code",
      "source": [
        "df_table_win"
      ],
      "metadata": {
        "colab": {
          "base_uri": "https://localhost:8080/"
        },
        "id": "zfKFhiB5u7bj",
        "outputId": "060d1d11-72a7-48bc-f7ce-cabe687ab58a"
      },
      "execution_count": 140,
      "outputs": [
        {
          "output_type": "execute_result",
          "data": {
            "text/plain": [
              "masked_array(data=[5993, 5130, 2090, ..., 6142, 5390, 4404],\n",
              "             mask=False,\n",
              "       fill_value=999999)"
            ]
          },
          "metadata": {},
          "execution_count": 140
        }
      ]
    },
    {
      "cell_type": "code",
      "source": [
        "sns.boxplot(x=df_table_win)"
      ],
      "metadata": {
        "colab": {
          "base_uri": "https://localhost:8080/",
          "height": 283
        },
        "id": "hbUqUkgVu9b6",
        "outputId": "38bfda30-a1b8-4695-d2ce-fd1ebefd2e3c"
      },
      "execution_count": 141,
      "outputs": [
        {
          "output_type": "execute_result",
          "data": {
            "text/plain": [
              "<AxesSubplot:>"
            ]
          },
          "metadata": {},
          "execution_count": 141
        },
        {
          "output_type": "display_data",
          "data": {
            "text/plain": [
              "<Figure size 432x288 with 1 Axes>"
            ],
            "image/png": "[encoded data removed]"
          },
          "metadata": {
            "needs_background": "light"
          }
        }
      ]
    },
    {
      "cell_type": "code",
      "source": [
        "sns.distplot(df_table_win,bins=10,kde=True)"
      ],
      "metadata": {
        "colab": {
          "base_uri": "https://localhost:8080/",
          "height": 339
        },
        "id": "KAmv_szCvEJO",
        "outputId": "7d7ea617-ba51-4492-a474-e00735881043"
      },
      "execution_count": 142,
      "outputs": [
        {
          "output_type": "stream",
          "name": "stderr",
          "text": [
            "/usr/local/lib/python3.9/dist-packages/seaborn/distributions.py:2619: FutureWarning: `distplot` is a deprecated function and will be removed in a future version. Please adapt your code to use either `displot` (a figure-level function with similar flexibility) or `histplot` (an axes-level function for histograms).\n",
            "  warnings.warn(msg, FutureWarning)\n"
          ]
        },
        {
          "output_type": "execute_result",
          "data": {
            "text/plain": [
              "<AxesSubplot:ylabel='Density'>"
            ]
          },
          "metadata": {},
          "execution_count": 142
        },
        {
          "output_type": "display_data",
          "data": {
            "text/plain": [
              "<Figure size 432x288 with 1 Axes>"
            ],
            "image/png": "[encoded data removed]"
          },
          "metadata": {
            "needs_background": "light"
          }
        }
      ]
    },
    {
      "cell_type": "code",
      "source": [
        "df_table_win = pd.DataFrame(df_table_win)[0]\n",
        "df_table_win.describe()"
      ],
      "metadata": {
        "colab": {
          "base_uri": "https://localhost:8080/"
        },
        "id": "Ksx8MXh2vITk",
        "outputId": "98e1e48b-fe78-4966-f299-e8b6792210c5"
      },
      "execution_count": 143,
      "outputs": [
        {
          "output_type": "execute_result",
          "data": {
            "text/plain": [
              "count     1470.000000\n",
              "mean      5742.736054\n",
              "std       3123.144396\n",
              "min       1359.000000\n",
              "25%       2911.000000\n",
              "50%       4919.000000\n",
              "75%       8379.000000\n",
              "max      10932.000000\n",
              "Name: 0, dtype: float64"
            ]
          },
          "metadata": {},
          "execution_count": 143
        }
      ]
    },
    {
      "cell_type": "code",
      "source": [],
      "metadata": {
        "id": "UKHkA5LDy1X8"
      },
      "execution_count": null,
      "outputs": []
    },
    {
      "cell_type": "markdown",
      "source": [
        "# Log Transformations"
      ],
      "metadata": {
        "id": "lpdISuoBy2N9"
      }
    },
    {
      "cell_type": "code",
      "source": [
        "# Download the dataset from openml\n",
        "dataset = fetch_openml(data_id=43696, as_frame=True)\n",
        "#Extract feature matrix X and show 5 random samples\n",
        "df = dataset[\"frame\"]\n",
        "pd.set_option(\"display.max_columns\", None)\n",
        "df.sample(5)"
      ],
      "metadata": {
        "colab": {
          "base_uri": "https://localhost:8080/",
          "height": 393
        },
        "id": "p45UZY-0y5rX",
        "outputId": "3efcae76-f093-47d9-8ad4-52fe40d35daa"
      },
      "execution_count": 144,
      "outputs": [
        {
          "output_type": "stream",
          "name": "stderr",
          "text": [
            "/usr/local/lib/python3.9/dist-packages/sklearn/datasets/_openml.py:932: FutureWarning: The default value of `parser` will change from `'liac-arff'` to `'auto'` in 1.4. You can set `parser='auto'` to silence this warning. Therefore, an `ImportError` will be raised from 1.4 if the dataset is dense and pandas is not installed. Note that the pandas parser may return different data types. See the Notes Section in fetch_openml's API doc for details.\n",
            "  warn(\n"
          ]
        },
        {
          "output_type": "execute_result",
          "data": {
            "text/plain": [
              "      Age Attrition BusinessTravel  DailyRate             Department  \\\n",
              "176    33        No  Travel_Rarely        134  Research  Development   \n",
              "1437   39        No     Non-Travel        105  Research  Development   \n",
              "1205   32       Yes  Travel_Rarely       1259  Research  Development   \n",
              "910    23        No  Travel_Rarely        373  Research  Development   \n",
              "1315   36        No  Travel_Rarely        430  Research  Development   \n",
              "\n",
              "      DistanceFromHome  Education EducationField  EmployeeCount  \\\n",
              "176                  2          3  Life Sciences              1   \n",
              "1437                 9          3  Life Sciences              1   \n",
              "1205                 2          4  Life Sciences              1   \n",
              "910                  1          2  Life Sciences              1   \n",
              "1315                 2          4          Other              1   \n",
              "\n",
              "      EmployeeNumber  EnvironmentSatisfaction  Gender  HourlyRate  \\\n",
              "176              242                        3    Male          90   \n",
              "1437            2022                        4    Male          87   \n",
              "1205            1692                        4    Male          95   \n",
              "910             1270                        4    Male          47   \n",
              "1315            1847                        4  Female          73   \n",
              "\n",
              "      JobInvolvement  JobLevel                JobRole  JobSatisfaction  \\\n",
              "176                3         1     Research Scientist                4   \n",
              "1437               3         5                Manager                4   \n",
              "1205               3         1  Laboratory Technician                2   \n",
              "910                3         1     Research Scientist                3   \n",
              "1315               3         2     Research Scientist                2   \n",
              "\n",
              "     MaritalStatus  MonthlyIncome  MonthlyRate  NumCompaniesWorked Over18  \\\n",
              "176         Single           2500        10515                   0      Y   \n",
              "1437        Single          19431        15302                   2      Y   \n",
              "1205        Single           1393        24852                   1      Y   \n",
              "910        Married           1223        16901                   1      Y   \n",
              "1315       Married           6962        19573                   4      Y   \n",
              "\n",
              "     OverTime  PercentSalaryHike  PerformanceRating  RelationshipSatisfaction  \\\n",
              "176        No                 14                  3                         1   \n",
              "1437       No                 13                  3                         3   \n",
              "1205       No                 12                  3                         1   \n",
              "910        No                 22                  4                         4   \n",
              "1315      Yes                 22                  4                         4   \n",
              "\n",
              "      StandardHours  StockOptionLevel  TotalWorkingYears  \\\n",
              "176              80                 0                  4   \n",
              "1437             80                 0                 21   \n",
              "1205             80                 0                  1   \n",
              "910              80                 1                  1   \n",
              "1315             80                 1                 15   \n",
              "\n",
              "      TrainingTimesLastYear  WorkLifeBalance  YearsAtCompany  \\\n",
              "176                       2                4               3   \n",
              "1437                      3                2               6   \n",
              "1205                      2                3               1   \n",
              "910                       2                3               1   \n",
              "1315                      2                3               1   \n",
              "\n",
              "      YearsInCurrentRole  YearsSinceLastPromotion  YearsWithCurrManager  \n",
              "176                    1                        0                     2  \n",
              "1437                   0                        1                     3  \n",
              "1205                   0                        0                     0  \n",
              "910                    0                        0                     1  \n",
              "1315                   0                        0                     0  "
            ],
            "text/html": [
              "\n",
              "  <div id=\"df-fc1045ce-b015-4108-8e6c-2061154b4913\">\n",
              "    <div class=\"colab-df-container\">\n",
              "      <div>\n",
              "<style scoped>\n",
              "    .dataframe tbody tr th:only-of-type {\n",
              "        vertical-align: middle;\n",
              "    }\n",
              "\n",
              "    .dataframe tbody tr th {\n",
              "        vertical-align: top;\n",
              "    }\n",
              "\n",
              "    .dataframe thead th {\n",
              "        text-align: right;\n",
              "    }\n",
              "</style>\n",
              "<table border=\"1\" class=\"dataframe\">\n",
              "  <thead>\n",
              "    <tr style=\"text-align: right;\">\n",
              "      <th></th>\n",
              "      <th>Age</th>\n",
              "      <th>Attrition</th>\n",
              "      <th>BusinessTravel</th>\n",
              "      <th>DailyRate</th>\n",
              "      <th>Department</th>\n",
              "      <th>DistanceFromHome</th>\n",
              "      <th>Education</th>\n",
              "      <th>EducationField</th>\n",
              "      <th>EmployeeCount</th>\n",
              "      <th>EmployeeNumber</th>\n",
              "      <th>EnvironmentSatisfaction</th>\n",
              "      <th>Gender</th>\n",
              "      <th>HourlyRate</th>\n",
              "      <th>JobInvolvement</th>\n",
              "      <th>JobLevel</th>\n",
              "      <th>JobRole</th>\n",
              "      <th>JobSatisfaction</th>\n",
              "      <th>MaritalStatus</th>\n",
              "      <th>MonthlyIncome</th>\n",
              "      <th>MonthlyRate</th>\n",
              "      <th>NumCompaniesWorked</th>\n",
              "      <th>Over18</th>\n",
              "      <th>OverTime</th>\n",
              "      <th>PercentSalaryHike</th>\n",
              "      <th>PerformanceRating</th>\n",
              "      <th>RelationshipSatisfaction</th>\n",
              "      <th>StandardHours</th>\n",
              "      <th>StockOptionLevel</th>\n",
              "      <th>TotalWorkingYears</th>\n",
              "      <th>TrainingTimesLastYear</th>\n",
              "      <th>WorkLifeBalance</th>\n",
              "      <th>YearsAtCompany</th>\n",
              "      <th>YearsInCurrentRole</th>\n",
              "      <th>YearsSinceLastPromotion</th>\n",
              "      <th>YearsWithCurrManager</th>\n",
              "    </tr>\n",
              "  </thead>\n",
              "  <tbody>\n",
              "    <tr>\n",
              "      <th>176</th>\n",
              "      <td>33</td>\n",
              "      <td>No</td>\n",
              "      <td>Travel_Rarely</td>\n",
              "      <td>134</td>\n",
              "      <td>Research  Development</td>\n",
              "      <td>2</td>\n",
              "      <td>3</td>\n",
              "      <td>Life Sciences</td>\n",
              "      <td>1</td>\n",
              "      <td>242</td>\n",
              "      <td>3</td>\n",
              "      <td>Male</td>\n",
              "      <td>90</td>\n",
              "      <td>3</td>\n",
              "      <td>1</td>\n",
              "      <td>Research Scientist</td>\n",
              "      <td>4</td>\n",
              "      <td>Single</td>\n",
              "      <td>2500</td>\n",
              "      <td>10515</td>\n",
              "      <td>0</td>\n",
              "      <td>Y</td>\n",
              "      <td>No</td>\n",
              "      <td>14</td>\n",
              "      <td>3</td>\n",
              "      <td>1</td>\n",
              "      <td>80</td>\n",
              "      <td>0</td>\n",
              "      <td>4</td>\n",
              "      <td>2</td>\n",
              "      <td>4</td>\n",
              "      <td>3</td>\n",
              "      <td>1</td>\n",
              "      <td>0</td>\n",
              "      <td>2</td>\n",
              "    </tr>\n",
              "    <tr>\n",
              "      <th>1437</th>\n",
              "      <td>39</td>\n",
              "      <td>No</td>\n",
              "      <td>Non-Travel</td>\n",
              "      <td>105</td>\n",
              "      <td>Research  Development</td>\n",
              "      <td>9</td>\n",
              "      <td>3</td>\n",
              "      <td>Life Sciences</td>\n",
              "      <td>1</td>\n",
              "      <td>2022</td>\n",
              "      <td>4</td>\n",
              "      <td>Male</td>\n",
              "      <td>87</td>\n",
              "      <td>3</td>\n",
              "      <td>5</td>\n",
              "      <td>Manager</td>\n",
              "      <td>4</td>\n",
              "      <td>Single</td>\n",
              "      <td>19431</td>\n",
              "      <td>15302</td>\n",
              "      <td>2</td>\n",
              "      <td>Y</td>\n",
              "      <td>No</td>\n",
              "      <td>13</td>\n",
              "      <td>3</td>\n",
              "      <td>3</td>\n",
              "      <td>80</td>\n",
              "      <td>0</td>\n",
              "      <td>21</td>\n",
              "      <td>3</td>\n",
              "      <td>2</td>\n",
              "      <td>6</td>\n",
              "      <td>0</td>\n",
              "      <td>1</td>\n",
              "      <td>3</td>\n",
              "    </tr>\n",
              "    <tr>\n",
              "      <th>1205</th>\n",
              "      <td>32</td>\n",
              "      <td>Yes</td>\n",
              "      <td>Travel_Rarely</td>\n",
              "      <td>1259</td>\n",
              "      <td>Research  Development</td>\n",
              "      <td>2</td>\n",
              "      <td>4</td>\n",
              "      <td>Life Sciences</td>\n",
              "      <td>1</td>\n",
              "      <td>1692</td>\n",
              "      <td>4</td>\n",
              "      <td>Male</td>\n",
              "      <td>95</td>\n",
              "      <td>3</td>\n",
              "      <td>1</td>\n",
              "      <td>Laboratory Technician</td>\n",
              "      <td>2</td>\n",
              "      <td>Single</td>\n",
              "      <td>1393</td>\n",
              "      <td>24852</td>\n",
              "      <td>1</td>\n",
              "      <td>Y</td>\n",
              "      <td>No</td>\n",
              "      <td>12</td>\n",
              "      <td>3</td>\n",
              "      <td>1</td>\n",
              "      <td>80</td>\n",
              "      <td>0</td>\n",
              "      <td>1</td>\n",
              "      <td>2</td>\n",
              "      <td>3</td>\n",
              "      <td>1</td>\n",
              "      <td>0</td>\n",
              "      <td>0</td>\n",
              "      <td>0</td>\n",
              "    </tr>\n",
              "    <tr>\n",
              "      <th>910</th>\n",
              "      <td>23</td>\n",
              "      <td>No</td>\n",
              "      <td>Travel_Rarely</td>\n",
              "      <td>373</td>\n",
              "      <td>Research  Development</td>\n",
              "      <td>1</td>\n",
              "      <td>2</td>\n",
              "      <td>Life Sciences</td>\n",
              "      <td>1</td>\n",
              "      <td>1270</td>\n",
              "      <td>4</td>\n",
              "      <td>Male</td>\n",
              "      <td>47</td>\n",
              "      <td>3</td>\n",
              "      <td>1</td>\n",
              "      <td>Research Scientist</td>\n",
              "      <td>3</td>\n",
              "      <td>Married</td>\n",
              "      <td>1223</td>\n",
              "      <td>16901</td>\n",
              "      <td>1</td>\n",
              "      <td>Y</td>\n",
              "      <td>No</td>\n",
              "      <td>22</td>\n",
              "      <td>4</td>\n",
              "      <td>4</td>\n",
              "      <td>80</td>\n",
              "      <td>1</td>\n",
              "      <td>1</td>\n",
              "      <td>2</td>\n",
              "      <td>3</td>\n",
              "      <td>1</td>\n",
              "      <td>0</td>\n",
              "      <td>0</td>\n",
              "      <td>1</td>\n",
              "    </tr>\n",
              "    <tr>\n",
              "      <th>1315</th>\n",
              "      <td>36</td>\n",
              "      <td>No</td>\n",
              "      <td>Travel_Rarely</td>\n",
              "      <td>430</td>\n",
              "      <td>Research  Development</td>\n",
              "      <td>2</td>\n",
              "      <td>4</td>\n",
              "      <td>Other</td>\n",
              "      <td>1</td>\n",
              "      <td>1847</td>\n",
              "      <td>4</td>\n",
              "      <td>Female</td>\n",
              "      <td>73</td>\n",
              "      <td>3</td>\n",
              "      <td>2</td>\n",
              "      <td>Research Scientist</td>\n",
              "      <td>2</td>\n",
              "      <td>Married</td>\n",
              "      <td>6962</td>\n",
              "      <td>19573</td>\n",
              "      <td>4</td>\n",
              "      <td>Y</td>\n",
              "      <td>Yes</td>\n",
              "      <td>22</td>\n",
              "      <td>4</td>\n",
              "      <td>4</td>\n",
              "      <td>80</td>\n",
              "      <td>1</td>\n",
              "      <td>15</td>\n",
              "      <td>2</td>\n",
              "      <td>3</td>\n",
              "      <td>1</td>\n",
              "      <td>0</td>\n",
              "      <td>0</td>\n",
              "      <td>0</td>\n",
              "    </tr>\n",
              "  </tbody>\n",
              "</table>\n",
              "</div>\n",
              "      <button class=\"colab-df-convert\" onclick=\"convertToInteractive('df-fc1045ce-b015-4108-8e6c-2061154b4913')\"\n",
              "              title=\"Convert this dataframe to an interactive table.\"\n",
              "              style=\"display:none;\">\n",
              "        \n",
              "  <svg xmlns=\"http://www.w3.org/2000/svg\" height=\"24px\"viewBox=\"0 0 24 24\"\n",
              "       width=\"24px\">\n",
              "    <path d=\"M0 0h24v24H0V0z\" fill=\"none\"/>\n",
              "    <path d=\"M18.56 5.44l.94 2.06.94-2.06 2.06-.94-2.06-.94-.94-2.06-.94 2.06-2.06.94zm-11 1L8.5 8.5l.94-2.06 2.06-.94-2.06-.94L8.5 2.5l-.94 2.06-2.06.94zm10 10l.94 2.06.94-2.06 2.06-.94-2.06-.94-.94-2.06-.94 2.06-2.06.94z\"/><path d=\"M17.41 7.96l-1.37-1.37c-.4-.4-.92-.59-1.43-.59-.52 0-1.04.2-1.43.59L10.3 9.45l-7.72 7.72c-.78.78-.78 2.05 0 2.83L4 21.41c.39.39.9.59 1.41.59.51 0 1.02-.2 1.41-.59l7.78-7.78 2.81-2.81c.8-.78.8-2.07 0-2.86zM5.41 20L4 18.59l7.72-7.72 1.47 1.35L5.41 20z\"/>\n",
              "  </svg>\n",
              "      </button>\n",
              "      \n",
              "  <style>\n",
              "    .colab-df-container {\n",
              "      display:flex;\n",
              "      flex-wrap:wrap;\n",
              "      gap: 12px;\n",
              "    }\n",
              "\n",
              "    .colab-df-convert {\n",
              "      background-color: #E8F0FE;\n",
              "      border: none;\n",
              "      border-radius: 50%;\n",
              "      cursor: pointer;\n",
              "      display: none;\n",
              "      fill: #1967D2;\n",
              "      height: 32px;\n",
              "      padding: 0 0 0 0;\n",
              "      width: 32px;\n",
              "    }\n",
              "\n",
              "    .colab-df-convert:hover {\n",
              "      background-color: #E2EBFA;\n",
              "      box-shadow: 0px 1px 2px rgba(60, 64, 67, 0.3), 0px 1px 3px 1px rgba(60, 64, 67, 0.15);\n",
              "      fill: #174EA6;\n",
              "    }\n",
              "\n",
              "    [theme=dark] .colab-df-convert {\n",
              "      background-color: #3B4455;\n",
              "      fill: #D2E3FC;\n",
              "    }\n",
              "\n",
              "    [theme=dark] .colab-df-convert:hover {\n",
              "      background-color: #434B5C;\n",
              "      box-shadow: 0px 1px 3px 1px rgba(0, 0, 0, 0.15);\n",
              "      filter: drop-shadow(0px 1px 2px rgba(0, 0, 0, 0.3));\n",
              "      fill: #FFFFFF;\n",
              "    }\n",
              "  </style>\n",
              "\n",
              "      <script>\n",
              "        const buttonEl =\n",
              "          document.querySelector('#df-fc1045ce-b015-4108-8e6c-2061154b4913 button.colab-df-convert');\n",
              "        buttonEl.style.display =\n",
              "          google.colab.kernel.accessAllowed ? 'block' : 'none';\n",
              "\n",
              "        async function convertToInteractive(key) {\n",
              "          const element = document.querySelector('#df-fc1045ce-b015-4108-8e6c-2061154b4913');\n",
              "          const dataTable =\n",
              "            await google.colab.kernel.invokeFunction('convertToInteractive',\n",
              "                                                     [key], {});\n",
              "          if (!dataTable) return;\n",
              "\n",
              "          const docLinkHtml = 'Like what you see? Visit the ' +\n",
              "            '<a target=\"_blank\" href=https://colab.research.google.com/notebooks/data_table.ipynb>data table notebook</a>'\n",
              "            + ' to learn more about interactive tables.';\n",
              "          element.innerHTML = '';\n",
              "          dataTable['output_type'] = 'display_data';\n",
              "          await google.colab.output.renderOutput(dataTable, element);\n",
              "          const docLink = document.createElement('div');\n",
              "          docLink.innerHTML = docLinkHtml;\n",
              "          element.appendChild(docLink);\n",
              "        }\n",
              "      </script>\n",
              "    </div>\n",
              "  </div>\n",
              "  "
            ]
          },
          "metadata": {},
          "execution_count": 144
        }
      ]
    },
    {
      "cell_type": "code",
      "source": [
        "# Basic Data Cleaning\n",
        "# Make columns lower case\n",
        "df.columns = df.columns.str.lower().str.replace(' ', '_') # A\n",
        " \n",
        "string_columns = list(df.dtypes[df.dtypes == 'object'].index) # B\n",
        " \n",
        "for col in string_columns:\n",
        "    df[col] = df[col].str.lower().str.replace(' ', '_') # C\n",
        "\n",
        "df.head(1)"
      ],
      "metadata": {
        "colab": {
          "base_uri": "https://localhost:8080/",
          "height": 145
        },
        "id": "8IApxvotSVAs",
        "outputId": "f8c60866-8948-4443-fd1c-22324f7905ac"
      },
      "execution_count": 145,
      "outputs": [
        {
          "output_type": "execute_result",
          "data": {
            "text/plain": [
              "   age attrition businesstravel  dailyrate department  distancefromhome  \\\n",
              "0   41       yes  travel_rarely       1102      sales                 1   \n",
              "\n",
              "   education educationfield  employeecount  employeenumber  \\\n",
              "0          2  life_sciences              1               1   \n",
              "\n",
              "   environmentsatisfaction  gender  hourlyrate  jobinvolvement  joblevel  \\\n",
              "0                        2  female          94               3         2   \n",
              "\n",
              "           jobrole  jobsatisfaction maritalstatus  monthlyincome  monthlyrate  \\\n",
              "0  sales_executive                4        single           5993        19479   \n",
              "\n",
              "   numcompaniesworked over18 overtime  percentsalaryhike  performancerating  \\\n",
              "0                   8      y      yes                 11                  3   \n",
              "\n",
              "   relationshipsatisfaction  standardhours  stockoptionlevel  \\\n",
              "0                         1             80                 0   \n",
              "\n",
              "   totalworkingyears  trainingtimeslastyear  worklifebalance  yearsatcompany  \\\n",
              "0                  8                      0                1               6   \n",
              "\n",
              "   yearsincurrentrole  yearssincelastpromotion  yearswithcurrmanager  \n",
              "0                   4                        0                     5  "
            ],
            "text/html": [
              "\n",
              "  <div id=\"df-8a0ad486-a716-4103-8f79-14ffcca28c8c\">\n",
              "    <div class=\"colab-df-container\">\n",
              "      <div>\n",
              "<style scoped>\n",
              "    .dataframe tbody tr th:only-of-type {\n",
              "        vertical-align: middle;\n",
              "    }\n",
              "\n",
              "    .dataframe tbody tr th {\n",
              "        vertical-align: top;\n",
              "    }\n",
              "\n",
              "    .dataframe thead th {\n",
              "        text-align: right;\n",
              "    }\n",
              "</style>\n",
              "<table border=\"1\" class=\"dataframe\">\n",
              "  <thead>\n",
              "    <tr style=\"text-align: right;\">\n",
              "      <th></th>\n",
              "      <th>age</th>\n",
              "      <th>attrition</th>\n",
              "      <th>businesstravel</th>\n",
              "      <th>dailyrate</th>\n",
              "      <th>department</th>\n",
              "      <th>distancefromhome</th>\n",
              "      <th>education</th>\n",
              "      <th>educationfield</th>\n",
              "      <th>employeecount</th>\n",
              "      <th>employeenumber</th>\n",
              "      <th>environmentsatisfaction</th>\n",
              "      <th>gender</th>\n",
              "      <th>hourlyrate</th>\n",
              "      <th>jobinvolvement</th>\n",
              "      <th>joblevel</th>\n",
              "      <th>jobrole</th>\n",
              "      <th>jobsatisfaction</th>\n",
              "      <th>maritalstatus</th>\n",
              "      <th>monthlyincome</th>\n",
              "      <th>monthlyrate</th>\n",
              "      <th>numcompaniesworked</th>\n",
              "      <th>over18</th>\n",
              "      <th>overtime</th>\n",
              "      <th>percentsalaryhike</th>\n",
              "      <th>performancerating</th>\n",
              "      <th>relationshipsatisfaction</th>\n",
              "      <th>standardhours</th>\n",
              "      <th>stockoptionlevel</th>\n",
              "      <th>totalworkingyears</th>\n",
              "      <th>trainingtimeslastyear</th>\n",
              "      <th>worklifebalance</th>\n",
              "      <th>yearsatcompany</th>\n",
              "      <th>yearsincurrentrole</th>\n",
              "      <th>yearssincelastpromotion</th>\n",
              "      <th>yearswithcurrmanager</th>\n",
              "    </tr>\n",
              "  </thead>\n",
              "  <tbody>\n",
              "    <tr>\n",
              "      <th>0</th>\n",
              "      <td>41</td>\n",
              "      <td>yes</td>\n",
              "      <td>travel_rarely</td>\n",
              "      <td>1102</td>\n",
              "      <td>sales</td>\n",
              "      <td>1</td>\n",
              "      <td>2</td>\n",
              "      <td>life_sciences</td>\n",
              "      <td>1</td>\n",
              "      <td>1</td>\n",
              "      <td>2</td>\n",
              "      <td>female</td>\n",
              "      <td>94</td>\n",
              "      <td>3</td>\n",
              "      <td>2</td>\n",
              "      <td>sales_executive</td>\n",
              "      <td>4</td>\n",
              "      <td>single</td>\n",
              "      <td>5993</td>\n",
              "      <td>19479</td>\n",
              "      <td>8</td>\n",
              "      <td>y</td>\n",
              "      <td>yes</td>\n",
              "      <td>11</td>\n",
              "      <td>3</td>\n",
              "      <td>1</td>\n",
              "      <td>80</td>\n",
              "      <td>0</td>\n",
              "      <td>8</td>\n",
              "      <td>0</td>\n",
              "      <td>1</td>\n",
              "      <td>6</td>\n",
              "      <td>4</td>\n",
              "      <td>0</td>\n",
              "      <td>5</td>\n",
              "    </tr>\n",
              "  </tbody>\n",
              "</table>\n",
              "</div>\n",
              "      <button class=\"colab-df-convert\" onclick=\"convertToInteractive('df-8a0ad486-a716-4103-8f79-14ffcca28c8c')\"\n",
              "              title=\"Convert this dataframe to an interactive table.\"\n",
              "              style=\"display:none;\">\n",
              "        \n",
              "  <svg xmlns=\"http://www.w3.org/2000/svg\" height=\"24px\"viewBox=\"0 0 24 24\"\n",
              "       width=\"24px\">\n",
              "    <path d=\"M0 0h24v24H0V0z\" fill=\"none\"/>\n",
              "    <path d=\"M18.56 5.44l.94 2.06.94-2.06 2.06-.94-2.06-.94-.94-2.06-.94 2.06-2.06.94zm-11 1L8.5 8.5l.94-2.06 2.06-.94-2.06-.94L8.5 2.5l-.94 2.06-2.06.94zm10 10l.94 2.06.94-2.06 2.06-.94-2.06-.94-.94-2.06-.94 2.06-2.06.94z\"/><path d=\"M17.41 7.96l-1.37-1.37c-.4-.4-.92-.59-1.43-.59-.52 0-1.04.2-1.43.59L10.3 9.45l-7.72 7.72c-.78.78-.78 2.05 0 2.83L4 21.41c.39.39.9.59 1.41.59.51 0 1.02-.2 1.41-.59l7.78-7.78 2.81-2.81c.8-.78.8-2.07 0-2.86zM5.41 20L4 18.59l7.72-7.72 1.47 1.35L5.41 20z\"/>\n",
              "  </svg>\n",
              "      </button>\n",
              "      \n",
              "  <style>\n",
              "    .colab-df-container {\n",
              "      display:flex;\n",
              "      flex-wrap:wrap;\n",
              "      gap: 12px;\n",
              "    }\n",
              "\n",
              "    .colab-df-convert {\n",
              "      background-color: #E8F0FE;\n",
              "      border: none;\n",
              "      border-radius: 50%;\n",
              "      cursor: pointer;\n",
              "      display: none;\n",
              "      fill: #1967D2;\n",
              "      height: 32px;\n",
              "      padding: 0 0 0 0;\n",
              "      width: 32px;\n",
              "    }\n",
              "\n",
              "    .colab-df-convert:hover {\n",
              "      background-color: #E2EBFA;\n",
              "      box-shadow: 0px 1px 2px rgba(60, 64, 67, 0.3), 0px 1px 3px 1px rgba(60, 64, 67, 0.15);\n",
              "      fill: #174EA6;\n",
              "    }\n",
              "\n",
              "    [theme=dark] .colab-df-convert {\n",
              "      background-color: #3B4455;\n",
              "      fill: #D2E3FC;\n",
              "    }\n",
              "\n",
              "    [theme=dark] .colab-df-convert:hover {\n",
              "      background-color: #434B5C;\n",
              "      box-shadow: 0px 1px 3px 1px rgba(0, 0, 0, 0.15);\n",
              "      filter: drop-shadow(0px 1px 2px rgba(0, 0, 0, 0.3));\n",
              "      fill: #FFFFFF;\n",
              "    }\n",
              "  </style>\n",
              "\n",
              "      <script>\n",
              "        const buttonEl =\n",
              "          document.querySelector('#df-8a0ad486-a716-4103-8f79-14ffcca28c8c button.colab-df-convert');\n",
              "        buttonEl.style.display =\n",
              "          google.colab.kernel.accessAllowed ? 'block' : 'none';\n",
              "\n",
              "        async function convertToInteractive(key) {\n",
              "          const element = document.querySelector('#df-8a0ad486-a716-4103-8f79-14ffcca28c8c');\n",
              "          const dataTable =\n",
              "            await google.colab.kernel.invokeFunction('convertToInteractive',\n",
              "                                                     [key], {});\n",
              "          if (!dataTable) return;\n",
              "\n",
              "          const docLinkHtml = 'Like what you see? Visit the ' +\n",
              "            '<a target=\"_blank\" href=https://colab.research.google.com/notebooks/data_table.ipynb>data table notebook</a>'\n",
              "            + ' to learn more about interactive tables.';\n",
              "          element.innerHTML = '';\n",
              "          dataTable['output_type'] = 'display_data';\n",
              "          await google.colab.output.renderOutput(dataTable, element);\n",
              "          const docLink = document.createElement('div');\n",
              "          docLink.innerHTML = docLinkHtml;\n",
              "          element.appendChild(docLink);\n",
              "        }\n",
              "      </script>\n",
              "    </div>\n",
              "  </div>\n",
              "  "
            ]
          },
          "metadata": {},
          "execution_count": 145
        }
      ]
    },
    {
      "cell_type": "code",
      "source": [
        "df['monthlyincome'].head()\n",
        "sns.boxplot(x=df['monthlyincome'])"
      ],
      "metadata": {
        "colab": {
          "base_uri": "https://localhost:8080/",
          "height": 297
        },
        "id": "-nNNMrRXzQM2",
        "outputId": "73e85e6f-bd55-4ddf-abbd-f0c3605357c0"
      },
      "execution_count": 146,
      "outputs": [
        {
          "output_type": "execute_result",
          "data": {
            "text/plain": [
              "<AxesSubplot:xlabel='monthlyincome'>"
            ]
          },
          "metadata": {},
          "execution_count": 146
        },
        {
          "output_type": "display_data",
          "data": {
            "text/plain": [
              "<Figure size 432x288 with 1 Axes>"
            ],
            "image/png": "[encoded data removed]"
          },
          "metadata": {
            "needs_background": "light"
          }
        }
      ]
    },
    {
      "cell_type": "code",
      "source": [
        "sns.distplot(df['monthlyincome'],bins=10,kde=False)"
      ],
      "metadata": {
        "colab": {
          "base_uri": "https://localhost:8080/",
          "height": 353
        },
        "id": "wnOnNrihznwD",
        "outputId": "97791cd0-f54b-43d6-82cd-81fd76ff0137"
      },
      "execution_count": 147,
      "outputs": [
        {
          "output_type": "stream",
          "name": "stderr",
          "text": [
            "/usr/local/lib/python3.9/dist-packages/seaborn/distributions.py:2619: FutureWarning: `distplot` is a deprecated function and will be removed in a future version. Please adapt your code to use either `displot` (a figure-level function with similar flexibility) or `histplot` (an axes-level function for histograms).\n",
            "  warnings.warn(msg, FutureWarning)\n"
          ]
        },
        {
          "output_type": "execute_result",
          "data": {
            "text/plain": [
              "<AxesSubplot:xlabel='monthlyincome'>"
            ]
          },
          "metadata": {},
          "execution_count": 147
        },
        {
          "output_type": "display_data",
          "data": {
            "text/plain": [
              "<Figure size 432x288 with 1 Axes>"
            ],
            "image/png": "[encoded data removed]"
          },
          "metadata": {
            "needs_background": "light"
          }
        }
      ]
    },
    {
      "cell_type": "code",
      "source": [
        "import numpy as np\n",
        "df_monthlyincome_log = np.log(df['monthlyincome'])"
      ],
      "metadata": {
        "id": "_OGO6bgpzzgQ"
      },
      "execution_count": 149,
      "outputs": []
    },
    {
      "cell_type": "code",
      "source": [
        "df['monthlyincome'].head()"
      ],
      "metadata": {
        "colab": {
          "base_uri": "https://localhost:8080/"
        },
        "id": "FLc5XShjz7K_",
        "outputId": "050067ba-cb5d-41fb-b99c-734aa001cfd0"
      },
      "execution_count": 150,
      "outputs": [
        {
          "output_type": "execute_result",
          "data": {
            "text/plain": [
              "0    5993\n",
              "1    5130\n",
              "2    2090\n",
              "3    2909\n",
              "4    3468\n",
              "Name: monthlyincome, dtype: int64"
            ]
          },
          "metadata": {},
          "execution_count": 150
        }
      ]
    },
    {
      "cell_type": "code",
      "source": [
        "df_monthlyincome_log.head()"
      ],
      "metadata": {
        "colab": {
          "base_uri": "https://localhost:8080/"
        },
        "id": "sc44sQH30A0X",
        "outputId": "280fc861-47c8-4803-a1df-29d27d4fd63d"
      },
      "execution_count": 151,
      "outputs": [
        {
          "output_type": "execute_result",
          "data": {
            "text/plain": [
              "0    8.698347\n",
              "1    8.542861\n",
              "2    7.644919\n",
              "3    7.975565\n",
              "4    8.151333\n",
              "Name: monthlyincome, dtype: float64"
            ]
          },
          "metadata": {},
          "execution_count": 151
        }
      ]
    },
    {
      "cell_type": "code",
      "source": [
        "sns.boxplot(x=df_monthlyincome_log)"
      ],
      "metadata": {
        "colab": {
          "base_uri": "https://localhost:8080/",
          "height": 297
        },
        "id": "r9uA2Fii0Dc0",
        "outputId": "b8b095c4-a2b3-4e35-e3aa-2be6a6ebaded"
      },
      "execution_count": 152,
      "outputs": [
        {
          "output_type": "execute_result",
          "data": {
            "text/plain": [
              "<AxesSubplot:xlabel='monthlyincome'>"
            ]
          },
          "metadata": {},
          "execution_count": 152
        },
        {
          "output_type": "display_data",
          "data": {
            "text/plain": [
              "<Figure size 432x288 with 1 Axes>"
            ],
            "image/png": "[encoded data removed]"
          },
          "metadata": {
            "needs_background": "light"
          }
        }
      ]
    },
    {
      "cell_type": "code",
      "source": [
        "sns.distplot(df_monthlyincome_log,bins=12,kde=False)"
      ],
      "metadata": {
        "colab": {
          "base_uri": "https://localhost:8080/",
          "height": 353
        },
        "id": "ulrIlv_10aQf",
        "outputId": "ed907dc3-2179-4b82-f66f-c84a14364eda"
      },
      "execution_count": 153,
      "outputs": [
        {
          "output_type": "stream",
          "name": "stderr",
          "text": [
            "/usr/local/lib/python3.9/dist-packages/seaborn/distributions.py:2619: FutureWarning: `distplot` is a deprecated function and will be removed in a future version. Please adapt your code to use either `displot` (a figure-level function with similar flexibility) or `histplot` (an axes-level function for histograms).\n",
            "  warnings.warn(msg, FutureWarning)\n"
          ]
        },
        {
          "output_type": "execute_result",
          "data": {
            "text/plain": [
              "<AxesSubplot:xlabel='monthlyincome'>"
            ]
          },
          "metadata": {},
          "execution_count": 153
        },
        {
          "output_type": "display_data",
          "data": {
            "text/plain": [
              "<Figure size 432x288 with 1 Axes>"
            ],
            "image/png": "[encoded data removed]"
          },
          "metadata": {
            "needs_background": "light"
          }
        }
      ]
    },
    {
      "cell_type": "markdown",
      "source": [
        "# Feature Selection"
      ],
      "metadata": {
        "id": "PSVrvxW_0vQY"
      }
    },
    {
      "cell_type": "markdown",
      "source": [
        "In this notebook we will develop a Python class for feature detection. The objective is to create a an object that encompasses several different feature selection methods and that can be applied to multiple datasets. This class will implement five different feature selection methods:\n",
        "\n",
        "1. Remove columns with a missing fraction greater than a specified threshold\n",
        "2. Remove features with only a single unique value\n",
        "3. Remove collinear features as idenfitied by a correlation coefficient greater than a specified value\n",
        "4. Remove features with 0.0 importance from a gradient boosting machine\n",
        "5. Remove features that do not contribute to a specified cumulative feature importance from the gradient boosting machine"
      ],
      "metadata": {
        "id": "4YvMO2F705EQ"
      }
    },
    {
      "cell_type": "code",
      "source": [
        "import pandas as pd\n",
        "import numpy as np\n",
        "\n",
        "import lightgbm as lgb\n",
        "\n",
        "from sklearn.model_selection import KFold\n",
        "\n",
        "import matplotlib.pyplot as plt\n",
        "import seaborn as sns\n",
        "\n",
        "import gc\n",
        "\n",
        "from sklearn.exceptions import NotFittedError\n",
        "\n",
        "from itertools import chain"
      ],
      "metadata": {
        "id": "9LR9MAQ70x4C"
      },
      "execution_count": 160,
      "outputs": []
    },
    {
      "cell_type": "code",
      "source": [
        "# Use IBM_AttritionDF_no _outliers.csv after Tukey outlier method\n",
        "ibm_attr_train = pd.read_csv('/content/IBM_AttritionDF_no_outliers.csv')\n",
        "#ibm_attr_train.sample(5)\n",
        "ibm_attr_train_labels = ibm_attr_train['attrition']\n",
        "ibm_attr_train = ibm_attr_train.drop(columns = 'attrition')\n",
        "ibm_attr_train.head()"
      ],
      "metadata": {
        "id": "mRvRLe8p1Smr",
        "colab": {
          "base_uri": "https://localhost:8080/",
          "height": 288
        },
        "outputId": "463363e2-bd91-4393-caf8-ac7692bbaa08"
      },
      "execution_count": 163,
      "outputs": [
        {
          "output_type": "execute_result",
          "data": {
            "text/plain": [
              "   Unnamed: 0  age     businesstravel  dailyrate             department  \\\n",
              "0           0   41      travel_rarely       1102                  sales   \n",
              "1           1   49  travel_frequently        279  research__development   \n",
              "2           3   33  travel_frequently       1392  research__development   \n",
              "3           4   27      travel_rarely        591  research__development   \n",
              "4           5   32  travel_frequently       1005  research__development   \n",
              "\n",
              "   distancefromhome  education educationfield  employeecount  employeenumber  \\\n",
              "0                 1          2  life_sciences              1               1   \n",
              "1                 8          1  life_sciences              1               2   \n",
              "2                 3          4  life_sciences              1               5   \n",
              "3                 2          1        medical              1               7   \n",
              "4                 2          2  life_sciences              1               8   \n",
              "\n",
              "   environmentsatisfaction  gender  hourlyrate  jobinvolvement  joblevel  \\\n",
              "0                        2  female          94               3         2   \n",
              "1                        3    male          61               2         2   \n",
              "2                        4  female          56               3         1   \n",
              "3                        1    male          40               3         1   \n",
              "4                        4    male          79               3         1   \n",
              "\n",
              "                 jobrole  jobsatisfaction maritalstatus  monthlyincome  \\\n",
              "0        sales_executive                4        single           5993   \n",
              "1     research_scientist                2       married           5130   \n",
              "2     research_scientist                3       married           2909   \n",
              "3  laboratory_technician                2       married           3468   \n",
              "4  laboratory_technician                4        single           3068   \n",
              "\n",
              "   monthlyrate  numcompaniesworked over18 overtime  percentsalaryhike  \\\n",
              "0        19479                   8      y      yes                 11   \n",
              "1        24907                   1      y       no                 23   \n",
              "2        23159                   1      y      yes                 11   \n",
              "3        16632                   9      y       no                 12   \n",
              "4        11864                   0      y       no                 13   \n",
              "\n",
              "   performancerating  relationshipsatisfaction  standardhours  \\\n",
              "0                  3                         1             80   \n",
              "1                  4                         4             80   \n",
              "2                  3                         3             80   \n",
              "3                  3                         4             80   \n",
              "4                  3                         3             80   \n",
              "\n",
              "   stockoptionlevel  totalworkingyears  trainingtimeslastyear  \\\n",
              "0                 0                  8                      0   \n",
              "1                 1                 10                      3   \n",
              "2                 0                  8                      3   \n",
              "3                 1                  6                      3   \n",
              "4                 0                  8                      2   \n",
              "\n",
              "   worklifebalance  yearsatcompany  yearsincurrentrole  \\\n",
              "0                1               6                   4   \n",
              "1                3              10                   7   \n",
              "2                3               8                   7   \n",
              "3                3               2                   2   \n",
              "4                2               7                   7   \n",
              "\n",
              "   yearssincelastpromotion  yearswithcurrmanager  \n",
              "0                        0                     5  \n",
              "1                        1                     7  \n",
              "2                        3                     0  \n",
              "3                        2                     2  \n",
              "4                        3                     6  "
            ],
            "text/html": [
              "\n",
              "  <div id=\"df-b70f9b73-e213-4ff9-b615-bcdcd60245da\">\n",
              "    <div class=\"colab-df-container\">\n",
              "      <div>\n",
              "<style scoped>\n",
              "    .dataframe tbody tr th:only-of-type {\n",
              "        vertical-align: middle;\n",
              "    }\n",
              "\n",
              "    .dataframe tbody tr th {\n",
              "        vertical-align: top;\n",
              "    }\n",
              "\n",
              "    .dataframe thead th {\n",
              "        text-align: right;\n",
              "    }\n",
              "</style>\n",
              "<table border=\"1\" class=\"dataframe\">\n",
              "  <thead>\n",
              "    <tr style=\"text-align: right;\">\n",
              "      <th></th>\n",
              "      <th>Unnamed: 0</th>\n",
              "      <th>age</th>\n",
              "      <th>businesstravel</th>\n",
              "      <th>dailyrate</th>\n",
              "      <th>department</th>\n",
              "      <th>distancefromhome</th>\n",
              "      <th>education</th>\n",
              "      <th>educationfield</th>\n",
              "      <th>employeecount</th>\n",
              "      <th>employeenumber</th>\n",
              "      <th>environmentsatisfaction</th>\n",
              "      <th>gender</th>\n",
              "      <th>hourlyrate</th>\n",
              "      <th>jobinvolvement</th>\n",
              "      <th>joblevel</th>\n",
              "      <th>jobrole</th>\n",
              "      <th>jobsatisfaction</th>\n",
              "      <th>maritalstatus</th>\n",
              "      <th>monthlyincome</th>\n",
              "      <th>monthlyrate</th>\n",
              "      <th>numcompaniesworked</th>\n",
              "      <th>over18</th>\n",
              "      <th>overtime</th>\n",
              "      <th>percentsalaryhike</th>\n",
              "      <th>performancerating</th>\n",
              "      <th>relationshipsatisfaction</th>\n",
              "      <th>standardhours</th>\n",
              "      <th>stockoptionlevel</th>\n",
              "      <th>totalworkingyears</th>\n",
              "      <th>trainingtimeslastyear</th>\n",
              "      <th>worklifebalance</th>\n",
              "      <th>yearsatcompany</th>\n",
              "      <th>yearsincurrentrole</th>\n",
              "      <th>yearssincelastpromotion</th>\n",
              "      <th>yearswithcurrmanager</th>\n",
              "    </tr>\n",
              "  </thead>\n",
              "  <tbody>\n",
              "    <tr>\n",
              "      <th>0</th>\n",
              "      <td>0</td>\n",
              "      <td>41</td>\n",
              "      <td>travel_rarely</td>\n",
              "      <td>1102</td>\n",
              "      <td>sales</td>\n",
              "      <td>1</td>\n",
              "      <td>2</td>\n",
              "      <td>life_sciences</td>\n",
              "      <td>1</td>\n",
              "      <td>1</td>\n",
              "      <td>2</td>\n",
              "      <td>female</td>\n",
              "      <td>94</td>\n",
              "      <td>3</td>\n",
              "      <td>2</td>\n",
              "      <td>sales_executive</td>\n",
              "      <td>4</td>\n",
              "      <td>single</td>\n",
              "      <td>5993</td>\n",
              "      <td>19479</td>\n",
              "      <td>8</td>\n",
              "      <td>y</td>\n",
              "      <td>yes</td>\n",
              "      <td>11</td>\n",
              "      <td>3</td>\n",
              "      <td>1</td>\n",
              "      <td>80</td>\n",
              "      <td>0</td>\n",
              "      <td>8</td>\n",
              "      <td>0</td>\n",
              "      <td>1</td>\n",
              "      <td>6</td>\n",
              "      <td>4</td>\n",
              "      <td>0</td>\n",
              "      <td>5</td>\n",
              "    </tr>\n",
              "    <tr>\n",
              "      <th>1</th>\n",
              "      <td>1</td>\n",
              "      <td>49</td>\n",
              "      <td>travel_frequently</td>\n",
              "      <td>279</td>\n",
              "      <td>research__development</td>\n",
              "      <td>8</td>\n",
              "      <td>1</td>\n",
              "      <td>life_sciences</td>\n",
              "      <td>1</td>\n",
              "      <td>2</td>\n",
              "      <td>3</td>\n",
              "      <td>male</td>\n",
              "      <td>61</td>\n",
              "      <td>2</td>\n",
              "      <td>2</td>\n",
              "      <td>research_scientist</td>\n",
              "      <td>2</td>\n",
              "      <td>married</td>\n",
              "      <td>5130</td>\n",
              "      <td>24907</td>\n",
              "      <td>1</td>\n",
              "      <td>y</td>\n",
              "      <td>no</td>\n",
              "      <td>23</td>\n",
              "      <td>4</td>\n",
              "      <td>4</td>\n",
              "      <td>80</td>\n",
              "      <td>1</td>\n",
              "      <td>10</td>\n",
              "      <td>3</td>\n",
              "      <td>3</td>\n",
              "      <td>10</td>\n",
              "      <td>7</td>\n",
              "      <td>1</td>\n",
              "      <td>7</td>\n",
              "    </tr>\n",
              "    <tr>\n",
              "      <th>2</th>\n",
              "      <td>3</td>\n",
              "      <td>33</td>\n",
              "      <td>travel_frequently</td>\n",
              "      <td>1392</td>\n",
              "      <td>research__development</td>\n",
              "      <td>3</td>\n",
              "      <td>4</td>\n",
              "      <td>life_sciences</td>\n",
              "      <td>1</td>\n",
              "      <td>5</td>\n",
              "      <td>4</td>\n",
              "      <td>female</td>\n",
              "      <td>56</td>\n",
              "      <td>3</td>\n",
              "      <td>1</td>\n",
              "      <td>research_scientist</td>\n",
              "      <td>3</td>\n",
              "      <td>married</td>\n",
              "      <td>2909</td>\n",
              "      <td>23159</td>\n",
              "      <td>1</td>\n",
              "      <td>y</td>\n",
              "      <td>yes</td>\n",
              "      <td>11</td>\n",
              "      <td>3</td>\n",
              "      <td>3</td>\n",
              "      <td>80</td>\n",
              "      <td>0</td>\n",
              "      <td>8</td>\n",
              "      <td>3</td>\n",
              "      <td>3</td>\n",
              "      <td>8</td>\n",
              "      <td>7</td>\n",
              "      <td>3</td>\n",
              "      <td>0</td>\n",
              "    </tr>\n",
              "    <tr>\n",
              "      <th>3</th>\n",
              "      <td>4</td>\n",
              "      <td>27</td>\n",
              "      <td>travel_rarely</td>\n",
              "      <td>591</td>\n",
              "      <td>research__development</td>\n",
              "      <td>2</td>\n",
              "      <td>1</td>\n",
              "      <td>medical</td>\n",
              "      <td>1</td>\n",
              "      <td>7</td>\n",
              "      <td>1</td>\n",
              "      <td>male</td>\n",
              "      <td>40</td>\n",
              "      <td>3</td>\n",
              "      <td>1</td>\n",
              "      <td>laboratory_technician</td>\n",
              "      <td>2</td>\n",
              "      <td>married</td>\n",
              "      <td>3468</td>\n",
              "      <td>16632</td>\n",
              "      <td>9</td>\n",
              "      <td>y</td>\n",
              "      <td>no</td>\n",
              "      <td>12</td>\n",
              "      <td>3</td>\n",
              "      <td>4</td>\n",
              "      <td>80</td>\n",
              "      <td>1</td>\n",
              "      <td>6</td>\n",
              "      <td>3</td>\n",
              "      <td>3</td>\n",
              "      <td>2</td>\n",
              "      <td>2</td>\n",
              "      <td>2</td>\n",
              "      <td>2</td>\n",
              "    </tr>\n",
              "    <tr>\n",
              "      <th>4</th>\n",
              "      <td>5</td>\n",
              "      <td>32</td>\n",
              "      <td>travel_frequently</td>\n",
              "      <td>1005</td>\n",
              "      <td>research__development</td>\n",
              "      <td>2</td>\n",
              "      <td>2</td>\n",
              "      <td>life_sciences</td>\n",
              "      <td>1</td>\n",
              "      <td>8</td>\n",
              "      <td>4</td>\n",
              "      <td>male</td>\n",
              "      <td>79</td>\n",
              "      <td>3</td>\n",
              "      <td>1</td>\n",
              "      <td>laboratory_technician</td>\n",
              "      <td>4</td>\n",
              "      <td>single</td>\n",
              "      <td>3068</td>\n",
              "      <td>11864</td>\n",
              "      <td>0</td>\n",
              "      <td>y</td>\n",
              "      <td>no</td>\n",
              "      <td>13</td>\n",
              "      <td>3</td>\n",
              "      <td>3</td>\n",
              "      <td>80</td>\n",
              "      <td>0</td>\n",
              "      <td>8</td>\n",
              "      <td>2</td>\n",
              "      <td>2</td>\n",
              "      <td>7</td>\n",
              "      <td>7</td>\n",
              "      <td>3</td>\n",
              "      <td>6</td>\n",
              "    </tr>\n",
              "  </tbody>\n",
              "</table>\n",
              "</div>\n",
              "      <button class=\"colab-df-convert\" onclick=\"convertToInteractive('df-b70f9b73-e213-4ff9-b615-bcdcd60245da')\"\n",
              "              title=\"Convert this dataframe to an interactive table.\"\n",
              "              style=\"display:none;\">\n",
              "        \n",
              "  <svg xmlns=\"http://www.w3.org/2000/svg\" height=\"24px\"viewBox=\"0 0 24 24\"\n",
              "       width=\"24px\">\n",
              "    <path d=\"M0 0h24v24H0V0z\" fill=\"none\"/>\n",
              "    <path d=\"M18.56 5.44l.94 2.06.94-2.06 2.06-.94-2.06-.94-.94-2.06-.94 2.06-2.06.94zm-11 1L8.5 8.5l.94-2.06 2.06-.94-2.06-.94L8.5 2.5l-.94 2.06-2.06.94zm10 10l.94 2.06.94-2.06 2.06-.94-2.06-.94-.94-2.06-.94 2.06-2.06.94z\"/><path d=\"M17.41 7.96l-1.37-1.37c-.4-.4-.92-.59-1.43-.59-.52 0-1.04.2-1.43.59L10.3 9.45l-7.72 7.72c-.78.78-.78 2.05 0 2.83L4 21.41c.39.39.9.59 1.41.59.51 0 1.02-.2 1.41-.59l7.78-7.78 2.81-2.81c.8-.78.8-2.07 0-2.86zM5.41 20L4 18.59l7.72-7.72 1.47 1.35L5.41 20z\"/>\n",
              "  </svg>\n",
              "      </button>\n",
              "      \n",
              "  <style>\n",
              "    .colab-df-container {\n",
              "      display:flex;\n",
              "      flex-wrap:wrap;\n",
              "      gap: 12px;\n",
              "    }\n",
              "\n",
              "    .colab-df-convert {\n",
              "      background-color: #E8F0FE;\n",
              "      border: none;\n",
              "      border-radius: 50%;\n",
              "      cursor: pointer;\n",
              "      display: none;\n",
              "      fill: #1967D2;\n",
              "      height: 32px;\n",
              "      padding: 0 0 0 0;\n",
              "      width: 32px;\n",
              "    }\n",
              "\n",
              "    .colab-df-convert:hover {\n",
              "      background-color: #E2EBFA;\n",
              "      box-shadow: 0px 1px 2px rgba(60, 64, 67, 0.3), 0px 1px 3px 1px rgba(60, 64, 67, 0.15);\n",
              "      fill: #174EA6;\n",
              "    }\n",
              "\n",
              "    [theme=dark] .colab-df-convert {\n",
              "      background-color: #3B4455;\n",
              "      fill: #D2E3FC;\n",
              "    }\n",
              "\n",
              "    [theme=dark] .colab-df-convert:hover {\n",
              "      background-color: #434B5C;\n",
              "      box-shadow: 0px 1px 3px 1px rgba(0, 0, 0, 0.15);\n",
              "      filter: drop-shadow(0px 1px 2px rgba(0, 0, 0, 0.3));\n",
              "      fill: #FFFFFF;\n",
              "    }\n",
              "  </style>\n",
              "\n",
              "      <script>\n",
              "        const buttonEl =\n",
              "          document.querySelector('#df-b70f9b73-e213-4ff9-b615-bcdcd60245da button.colab-df-convert');\n",
              "        buttonEl.style.display =\n",
              "          google.colab.kernel.accessAllowed ? 'block' : 'none';\n",
              "\n",
              "        async function convertToInteractive(key) {\n",
              "          const element = document.querySelector('#df-b70f9b73-e213-4ff9-b615-bcdcd60245da');\n",
              "          const dataTable =\n",
              "            await google.colab.kernel.invokeFunction('convertToInteractive',\n",
              "                                                     [key], {});\n",
              "          if (!dataTable) return;\n",
              "\n",
              "          const docLinkHtml = 'Like what you see? Visit the ' +\n",
              "            '<a target=\"_blank\" href=https://colab.research.google.com/notebooks/data_table.ipynb>data table notebook</a>'\n",
              "            + ' to learn more about interactive tables.';\n",
              "          element.innerHTML = '';\n",
              "          dataTable['output_type'] = 'display_data';\n",
              "          await google.colab.output.renderOutput(dataTable, element);\n",
              "          const docLink = document.createElement('div');\n",
              "          docLink.innerHTML = docLinkHtml;\n",
              "          element.appendChild(docLink);\n",
              "        }\n",
              "      </script>\n",
              "    </div>\n",
              "  </div>\n",
              "  "
            ]
          },
          "metadata": {},
          "execution_count": 163
        }
      ]
    },
    {
      "cell_type": "code",
      "source": [
        "\n",
        "\n",
        "class FeatureSelector():\n",
        "    \"\"\"\n",
        "    Class for performing feature selection for machine learning or data preprocessing.\n",
        "    \n",
        "    Implements five different methods\n",
        "    \n",
        "        1. Remove columns with a missing percentage greater than a specified threshold\n",
        "        2. Remove columns with a single unique value\n",
        "        3. Remove collinear variables with a correlation greater than a specified correlation coefficient\n",
        "        4. Remove features with 0.0 feature importance from a gradient boosting machine (gbm)\n",
        "        5. Remove features that do not contribute to a specified cumulative feature importance from the gbm\n",
        "        \n",
        "    Attributes\n",
        "    --------\n",
        "    \n",
        "    record_missing : dataframe\n",
        "        Records the fraction of missing values for features with missing fraction above threshold\n",
        "    \n",
        "    record_single_unique : dataframe\n",
        "        Records the features that have a single unique value\n",
        "    \n",
        "    record_collinear : dataframe\n",
        "        Records the pairs of collinear variables with a correlation coefficient above the threshold\n",
        "    \n",
        "    record_zero_importance : dataframe\n",
        "        Records the zero importance features in the data according to the gbm\n",
        "    \n",
        "    record_low_importance : dataframe\n",
        "        Records the lowest importance features not needed to reach the threshold of cumulative importance according to the gbm\n",
        "    \n",
        "    feature_importances : dataframe\n",
        "        All the features importances from the gbm\n",
        "    \n",
        "    removal_ops : dict\n",
        "        Dictionary of removal operations and associated features for removal identified\n",
        "        \n",
        "    Notes\n",
        "    --------\n",
        "    \n",
        "        - All 5 operations can be run with the `identify_all` method.\n",
        "        - Calculating the feature importances requires labels (a supervised learning task) \n",
        "          for training the gradient boosting machine\n",
        "        - For the feature importances, the dataframe is first one-hot encoded before training the gbm.\n",
        "    \n",
        "    \"\"\"\n",
        "    \n",
        "    def __init__(self):\n",
        "        \n",
        "        # Dataframes recording information about features to remove\n",
        "        self.record_missing = None\n",
        "        self.record_single_unique = None\n",
        "        self.record_collinear = None\n",
        "        self.record_zero_importance = None\n",
        "        self.record_low_importance = None\n",
        "        \n",
        "        self.feature_importances = None\n",
        "        \n",
        "        # Dictionary to hold removal operations\n",
        "        self.removal_ops = {}\n",
        "        \n",
        "        \n",
        "        \n",
        "    def identify_missing(self, data, missing_threshold):\n",
        "        \"\"\"Find the features with a fraction of missing values above `missing_threshold`\"\"\"\n",
        "        \n",
        "        self.missing_threshold = missing_threshold\n",
        "\n",
        "        # Calculate the fraction of missing in each column \n",
        "        missing_series = data.isnull().sum() / data.shape[0]\n",
        "        \n",
        "        self.missing_stats = pd.DataFrame(missing_series).rename(columns = {'index': 'feature', 0: 'missing_fraction'})\n",
        "\n",
        "        # Find the columns with a missing percentage above the threshold\n",
        "        record_missing = pd.DataFrame(missing_series[missing_series > missing_threshold]).reset_index().rename(columns = {'index': 'feature', 0: 'missing_fraction'})\n",
        "\n",
        "        to_drop = list(record_missing['feature'])\n",
        "\n",
        "        self.record_missing = record_missing\n",
        "        self.removal_ops['missing'] = to_drop\n",
        "        \n",
        "        print('%d features with greater than %0.2f missing values.\\n' % (len(self.removal_ops['missing']), self.missing_threshold))\n",
        "        \n",
        "    def identify_single_unique(self, data):\n",
        "        \"\"\"Identifies features with only a single unique value. NaNs do not count as a unique value. \"\"\"\n",
        "\n",
        "        # Calculate the unique counts in each column\n",
        "        unique_counts = data.nunique()\n",
        "\n",
        "        self.unique_stats = pd.DataFrame(unique_counts).rename(columns = {'index': 'feature', 0: 'nunique'})\n",
        "        \n",
        "        # Find the columns with only one unique count\n",
        "        record_single_unique = pd.DataFrame(unique_counts[unique_counts == 1]).reset_index().rename(columns = {'index': 'feature', 0: 'nunique'})\n",
        "\n",
        "        to_drop = list(record_single_unique['feature'])\n",
        "    \n",
        "        self.record_single_unique = record_single_unique\n",
        "        self.removal_ops['single_unique'] = to_drop\n",
        "        \n",
        "        print('%d features with a single unique value.\\n' % len(self.removal_ops['single_unique']))\n",
        "    \n",
        "    def identify_collinear(self, data, correlation_threshold):\n",
        "        \"\"\"\n",
        "        Finds collinear features based on the correlation coefficient between features. \n",
        "        For each pair of features with a correlation coefficient greather than `correlation_threshold`,\n",
        "        only one of the pair is identified for removal. \n",
        "\n",
        "        Using code adapted from: https://gist.github.com/Swarchal/e29a3a1113403710b6850590641f046c\n",
        "        \n",
        "        Parameters\n",
        "        --------\n",
        "\n",
        "        data : dataframe\n",
        "            Data observations in the rows and features in the columns\n",
        "\n",
        "        correlation_threshold : float between 0 and 1\n",
        "            Value of the Pearson correlation cofficient for identifying correlation features\n",
        "\n",
        "        \"\"\"\n",
        "        \n",
        "        self.correlation_threshold = correlation_threshold\n",
        "\n",
        "        # Calculate the correlations between every column\n",
        "        corr_matrix = data.corr()\n",
        "        \n",
        "        self.corr_matrix = corr_matrix\n",
        "    \n",
        "        # Extract the upper triangle of the correlation matrix\n",
        "        upper = corr_matrix.where(np.triu(np.ones(corr_matrix.shape), k = 1).astype(np.bool))\n",
        "        \n",
        "        # Select the features with correlations above the threshold\n",
        "        # Need to use the absolute value\n",
        "        to_drop = [column for column in upper.columns if any(upper[column].abs() > correlation_threshold)]\n",
        "\n",
        "        # Dataframe to hold correlated pairs\n",
        "        record_collinear = pd.DataFrame(columns = ['drop_feature', 'corr_feature', 'corr_value'])\n",
        "\n",
        "        # Iterate through the columns to drop\n",
        "        for column in to_drop:\n",
        "\n",
        "            # Find the correlated features\n",
        "            corr_features = list(upper.index[upper[column].abs() > correlation_threshold])\n",
        "\n",
        "            # Find the correlated values\n",
        "            corr_values = list(upper[column][upper[column].abs() > correlation_threshold])\n",
        "            drop_features = [column for _ in range(len(corr_features))]    \n",
        "\n",
        "            # Record the information (need a temp df for now)\n",
        "            temp_df = pd.DataFrame.from_dict({'drop_feature': drop_features,\n",
        "                                             'corr_feature': corr_features,\n",
        "                                             'corr_value': corr_values})\n",
        "\n",
        "            # Add to dataframe\n",
        "            record_collinear = record_collinear.append(temp_df, ignore_index = True)\n",
        "\n",
        "            \n",
        "        self.record_collinear = record_collinear\n",
        "        self.removal_ops['collinear'] = to_drop\n",
        "        \n",
        "        print('%d features with a correlation greater than %0.2f.\\n' % (len(self.removal_ops['collinear']), self.correlation_threshold))\n",
        "\n",
        "    def identify_zero_importance(self, features, labels, eval_metric, task='classification', \n",
        "                                 n_iterations=10, early_stopping = True):\n",
        "        \"\"\"\n",
        "        \n",
        "        Identify the features with zero importance according to a gradient boosting machine.\n",
        "        The gbm can be trained with early stopping using a validation set to prevent overfitting. \n",
        "        The feature importances are averaged over n_iterations to reduce variance. \n",
        "        \n",
        "        Uses the LightGBM implementation (http://lightgbm.readthedocs.io/en/latest/index.html)\n",
        "\n",
        "        Parameters \n",
        "        --------\n",
        "        features : dataframe\n",
        "            Data for training the model with observations in the rows\n",
        "            and features in the columns\n",
        "\n",
        "        labels : array, shape = (1, )\n",
        "            Array of labels for training the model. These can be either binary \n",
        "            (if task is 'classification') or continuous (if task is 'regression')\n",
        "\n",
        "        eval_metric : string\n",
        "            Evaluation metric to use for the gradient boosting machine\n",
        "\n",
        "        task : string, default = 'classification'\n",
        "            The machine learning task, either 'classification' or 'regression'\n",
        "\n",
        "        n_iterations : int, default = 10\n",
        "            Number of iterations to train the gradient boosting machine\n",
        "            \n",
        "        early_stopping : boolean, default = True\n",
        "            Whether or not to use early stopping with a validation set when training\n",
        "        \n",
        "        \n",
        "        Notes\n",
        "        --------\n",
        "        \n",
        "        - Features are one-hot encoded to handle the categorical variables before training.\n",
        "        - The gbm is not optimized for any particular task and might need some hyperparameter tuning\n",
        "        - Feature importances, including zero importance features, can change across runs\n",
        "\n",
        "        \"\"\"\n",
        "\n",
        "        # One hot encoding\n",
        "        features = pd.get_dummies(features)\n",
        "\n",
        "        # Extract feature names\n",
        "        feature_names = list(features.columns)\n",
        "\n",
        "        # Convert to np array\n",
        "        features = np.array(features)\n",
        "        labels = np.array(labels).reshape((-1, ))\n",
        "\n",
        "        # Empty array for feature importances\n",
        "        feature_importance_values = np.zeros(len(feature_names))\n",
        "        \n",
        "        print('Training Gradient Boosting Model\\n')\n",
        "        \n",
        "        # Iterate through each fold\n",
        "        for _ in range(n_iterations):\n",
        "\n",
        "            if task == 'classification':\n",
        "                model = lgb.LGBMClassifier(n_estimators=1000, learning_rate = 0.05, verbose = -1)\n",
        "\n",
        "            elif task == 'regression':\n",
        "                model = lgb.LGBMRegressor(n_estimators=1000, learning_rate = 0.05, verbose = -1)\n",
        "\n",
        "            else:\n",
        "                raise ValueError('Task must be either \"classification\" or \"regression\"')\n",
        "                \n",
        "            # If training using early stopping need a validation set\n",
        "            if early_stopping:\n",
        "                \n",
        "                train_features, valid_features, train_labels, valid_labels = train_test_split(features, labels, test_size = 0.15)\n",
        "\n",
        "                # Train the model with early stopping\n",
        "                model.fit(train_features, train_labels, eval_metric = eval_metric,\n",
        "                          eval_set = [(valid_features, valid_labels)],\n",
        "                          early_stopping_rounds = 100, verbose = -1)\n",
        "                \n",
        "                # Clean up memory\n",
        "                gc.enable()\n",
        "                del train_features, train_labels, valid_features, valid_labels\n",
        "                gc.collect()\n",
        "                \n",
        "            else:\n",
        "                model.fit(features, labels)\n",
        "\n",
        "            # Record the feature importances\n",
        "            feature_importance_values += model.feature_importances_ / n_iterations\n",
        "\n",
        "        feature_importances = pd.DataFrame({'feature': feature_names, 'importance': feature_importance_values})\n",
        "\n",
        "        # Sort features according to importance\n",
        "        feature_importances = feature_importances.sort_values('importance', ascending = False).reset_index(drop = True)\n",
        "\n",
        "        # Normalize the feature importances to add up to one\n",
        "        feature_importances['normalized_importance'] = feature_importances['importance'] / feature_importances['importance'].sum()\n",
        "        feature_importances['cumulative_importance'] = np.cumsum(feature_importances['normalized_importance'])\n",
        "\n",
        "        # Extract the features with zero importance\n",
        "        record_zero_importance = feature_importances[feature_importances['importance'] == 0.0]\n",
        "        \n",
        "        to_drop = list(record_zero_importance['feature'])\n",
        "\n",
        "        self.feature_importances = feature_importances\n",
        "        self.record_zero_importance = record_zero_importance\n",
        "        self.removal_ops['zero_importance'] = to_drop\n",
        "        \n",
        "        print('\\n%d features with zero importance.\\n' % len(self.removal_ops['zero_importance']))\n",
        "    \n",
        "    def identify_low_importance(self, cumulative_importance):\n",
        "        \"\"\"\n",
        "        Finds the lowest importance features not needed to account for `cumulative_importance` \n",
        "        of the feature importance from the gradient boosting machine. As an example, if cumulative\n",
        "        importance is set to 0.95, this will retain only the most important features needed to \n",
        "        reach 95% of the total feature importance. The identified features are those not needed.\n",
        "\n",
        "        Parameters\n",
        "        --------\n",
        "        cumulative_importance : float between 0 and 1\n",
        "            The fraction of cumulative importance to account for \n",
        "\n",
        "        \"\"\"\n",
        "\n",
        "        self.cumulative_importance = cumulative_importance\n",
        "        \n",
        "        # The feature importances need to be calculated before running\n",
        "        if self.feature_importances is None:\n",
        "            raise NotFittedError('Feature importances have not yet been determined. Call the `identify_zero_importance` method` first.')\n",
        "            \n",
        "        # Make sure most important features are on top\n",
        "        self.feature_importances = self.feature_importances.sort_values('cumulative_importance')\n",
        "\n",
        "        # Identify the features not needed to reach the cumulative_importance\n",
        "        record_low_importance = self.feature_importances[self.feature_importances['cumulative_importance'] > cumulative_importance]\n",
        "\n",
        "        to_drop = list(record_low_importance['feature'])\n",
        "\n",
        "        self.record_low_importance = record_low_importance\n",
        "        self.removal_ops['low_importance'] = to_drop\n",
        "    \n",
        "        print('%d features that do not contribute to cumulative importance of %0.2f.\\n' % (len(self.removal_ops['low_importance']), self.cumulative_importance))\n",
        "        \n",
        "    def identify_all(self, features, labels, selection_params):\n",
        "        \"\"\"\n",
        "        Use all five of the methods to identify features to remove.\n",
        "        \n",
        "        Parameters\n",
        "        --------\n",
        "        \n",
        "        features : dataframe\n",
        "            Data for training the model with observations in the rows\n",
        "            and features in the columns\n",
        "\n",
        "        labels : array, shape = (1, )\n",
        "            Array of labels for training the model. These can be either binary \n",
        "            (if task is 'classification') or continuous (if task is 'regression')\n",
        "            \n",
        "        selection_params : dict\n",
        "           Parameters to use in the five feature selection methhods.\n",
        "           Params must contain the keys ['missing_threshold', 'correlation_threshold', 'eval_metric', 'task', 'cumulative_importance']\n",
        "        \n",
        "        \"\"\"\n",
        "        \n",
        "        # Check for all required parameters\n",
        "        for param in ['missing_threshold', 'correlation_threshold', 'eval_metric', 'task', 'cumulative_importance']:\n",
        "            if param not in selection_params.keys():\n",
        "                raise ValueError('%s is a required parameter for this method' % param)\n",
        "        \n",
        "        # Implement each of the five methods\n",
        "        self.identify_missing(features, selection_params['missing_threshold'])\n",
        "        self.identify_single_unique(features)\n",
        "        self.identify_collinear(features, selection_params['correlation_threshold'])\n",
        "        self.identify_zero_importance(features, labels, selection_params['eval_metric'], selection_params['task'])\n",
        "        self.identify_low_importance(selection_params['cumulative_importance'])\n",
        "        \n",
        "        # Find the number of features identified to drop\n",
        "        self.n_identified = len(set(list(chain(*list(self.removal_ops.values())))))\n",
        "        print('%d total features out of %d identified for removal.\\n' % (self.n_identified, pd.get_dummies(features).shape[1]))\n",
        "        \n",
        "    def check_identified(self):\n",
        "        \"\"\"Check the identified features before removal. Returns a set of the unique features identified.\"\"\"\n",
        "        \n",
        "        all_identified = set(list(chain(*list(self.removal_ops.values()))))\n",
        "        print('%d features identified for removal' % len(all_identified))\n",
        "        \n",
        "        return all_identified\n",
        "        \n",
        "    \n",
        "    def remove(self, data, methods):\n",
        "        \"\"\"\n",
        "        Remove the features from the data according to the specified methods.\n",
        "        \n",
        "        Parameters\n",
        "        --------\n",
        "            data : dataframe\n",
        "                Dataframe with features to remove\n",
        "            methods : 'all' or list of methods\n",
        "                If methods == 'all', any methods that have identified features will be used\n",
        "                Otherwise, only the specified methods will be used.\n",
        "                Can be one of ['missing', 'single_unique', 'collinear', 'zero_importance', 'low_importance']\n",
        "                \n",
        "        Return\n",
        "        --------\n",
        "            data : dataframe\n",
        "                Dataframe with identified features removed\n",
        "                \n",
        "        \n",
        "        Notes \n",
        "        --------\n",
        "            - This first one-hot encodes the categorical variables in accordance with the gradient boosting machine.\n",
        "            - Check the features that will be removed before transforming data!\n",
        "        \n",
        "        \"\"\"\n",
        "        \n",
        "        \n",
        "        features_to_drop = []\n",
        "        \n",
        "        data = pd.get_dummies(data)\n",
        "        \n",
        "        if methods == 'all':\n",
        "            \n",
        "            print('{} methods have been run'.format(list(self.removal_ops.keys())))\n",
        "            \n",
        "            # Find the unique features to drop\n",
        "            features_to_drop = set(list(chain(*list(self.removal_ops.values()))))\n",
        "            \n",
        "        else:\n",
        "            # Iterate through the specified methods\n",
        "            for method in methods:\n",
        "                # Check to make sure the method has been run\n",
        "                if method not in self.removal_ops.keys():\n",
        "                    raise NotFittedError('%s method has not been run' % method)\n",
        "                    \n",
        "                # Append the features identified for removal\n",
        "                else:\n",
        "                    features_to_drop.append(self.removal_ops[method])\n",
        "        \n",
        "            # Find the unique features to drop\n",
        "            features_to_drop = set(list(chain(*features_to_drop)))\n",
        "            \n",
        "        # Remove the features and return the data\n",
        "        data = data.drop(columns = features_to_drop)\n",
        "        self.removed_features = features_to_drop\n",
        "        \n",
        "        print('Removed %d features' % len(features_to_drop))\n",
        "        return data\n",
        "    \n",
        "    def plot_missing2(self):\n",
        "        \"\"\"Histogram of missing fraction in each feature\"\"\"\n",
        "        if self.record_missing is None:\n",
        "            raise NotImplementedError(\"Missing values have not been calculated. Run `identify_missing`\")\n",
        "        \n",
        "        self.reset_plot()\n",
        "        self.missing_stats.plot.hist(color = 'red', edgecolor = 'k', figsize = (6, 4), fontsize = 14)\n",
        "        plt.ylabel('Frequency', size = 18)\n",
        "        plt.xlabel('Missing Fraction', size = 18); plt.title('Missing Fraction Histogram', size = 18);\n",
        "\n",
        "    def plot_missing(self, threshold=0.0):\n",
        "        \"\"\"Histogram of missing fraction in each feature and print columns with missing values above threshold\"\"\"\n",
        "        if self.record_missing is None:\n",
        "            raise NotImplementedError(\"Missing values have not been calculated. Run `identify_missing`\")\n",
        "    \n",
        "        # Extract the column names with missing fraction above threshold\n",
        "        cols_above_threshold = self.missing_stats[self.missing_stats['missing_fraction'] > threshold].index.tolist()\n",
        "        print(f\"Columns with missing fraction above {threshold:.2f}: {cols_above_threshold}\")\n",
        "    \n",
        "        # Plot the missing fraction histogram\n",
        "        self.reset_plot()\n",
        "        self.missing_stats.plot.bar(y='missing_fraction', color='red', edgecolor='k', figsize=(len(self.missing_stats), 4), fontsize=14)\n",
        "        plt.xticks(rotation=90)\n",
        "        plt.ylabel('Missing Fraction', size=18)\n",
        "        plt.xlabel('Feature', size=18)\n",
        "        plt.title('Missing Fraction Histogram', size=18);\n",
        "\n",
        "    \n",
        "    def plot_unique(self):\n",
        "        \"\"\"Histogram of number of unique values in each feature\"\"\"\n",
        "        if self.record_single_unique is None:\n",
        "            raise NotImplementedError('Unique values have not been calculated. Run `identify_single_unique`')\n",
        "        \n",
        "        self.reset_plot()\n",
        "        self.unique_stats.plot.hist(edgecolor = 'k', figsize = (6, 4), fontsize = 14)\n",
        "        plt.ylabel('Frequency', size = 18)\n",
        "        plt.xlabel('Unique Values', size = 18); plt.title('Unique Values Histogram', size = 18);\n",
        "        \n",
        "    \n",
        "    def plot_collinear(self):\n",
        "        \"\"\"\n",
        "        Heatmap of the features with correlations above the correlated threshold in the data.\n",
        "        \n",
        "        Notes\n",
        "        --------\n",
        "            - Not all of the plotted correlations are above the threshold because this plots\n",
        "            all the variables that have been idenfitied as having even one correlation above the threshold\n",
        "            - The features on the x-axis are those that will be removed. The features on the y-axis\n",
        "            are the correlated feature with those on the x-axis\n",
        "        \n",
        "        \"\"\"\n",
        "        \n",
        "        if self.record_collinear is None:\n",
        "            raise NotImplementedError('Collinear features have not been idenfitied. Run `identify_collinear`.')\n",
        "        \n",
        "        # Identify the correlations that were above the threshold\n",
        "        corr_matrix_plot = self.corr_matrix.loc[list(set(self.record_collinear['corr_feature'])), \n",
        "                                                list(set(self.record_collinear['drop_feature']))]\n",
        "\n",
        "        # Set up the matplotlib figure\n",
        "        f, ax = plt.subplots(figsize=(10, 8))\n",
        "\n",
        "        # Generate a custom diverging colormap\n",
        "        cmap = sns.diverging_palette(220, 10, as_cmap=True)\n",
        "\n",
        "        # Draw the heatmap with the mask and correct aspect ratio\n",
        "        sns.heatmap(corr_matrix_plot, cmap=cmap, center=0,\n",
        "                    linewidths=.25, cbar_kws={\"shrink\": 0.6})\n",
        "\n",
        "        ax.set_yticks([x + 0.5 for x in list(range(corr_matrix_plot.shape[0]))])\n",
        "        ax.set_yticklabels(list(corr_matrix_plot.index), size = int(160 / corr_matrix_plot.shape[0]));\n",
        "\n",
        "        ax.set_xticks([x + 0.5 for x in list(range(corr_matrix_plot.shape[1]))])\n",
        "        ax.set_xticklabels(list(corr_matrix_plot.columns), size = int(160 / corr_matrix_plot.shape[1]));\n",
        "        \n",
        "        plt.xlabel('Features to Remove', size = 8); plt.ylabel('Correlated Feature', size = 8)\n",
        "        plt.title(\"Correlations Above Threshold\", size = 14)\n",
        "        \n",
        "    def plot_feature_importances(self, threshold = None):\n",
        "        \"\"\"\n",
        "        Plots 15 most important features and the cumulative importance of features.\n",
        "        If `threshold` is provided, prints the number of features needed to reach `threshold` cumulative importance.\n",
        "\n",
        "        Parameters\n",
        "        --------\n",
        "        threshold : float, between 0 and 1 default = None\n",
        "            Threshold for printing information about cumulative importances\n",
        "\n",
        "        \"\"\"\n",
        "        \n",
        "        if self.record_zero_importance is None:\n",
        "            raise NotImplementedError('Feature importances have not been determined. Run `idenfity_zero_importance`')\n",
        "\n",
        "        self.reset_plot()\n",
        "        \n",
        "        # Make a horizontal bar chart of feature importances\n",
        "        plt.figure(figsize = (10, 6))\n",
        "        ax = plt.subplot()\n",
        "\n",
        "        # Need to reverse the index to plot most important on top\n",
        "        ax.barh(list(reversed(list(self.feature_importances.index[:15]))), \n",
        "                self.feature_importances['normalized_importance'].head(15), \n",
        "                align = 'center', edgecolor = 'k')\n",
        "\n",
        "        # Set the yticks and labels\n",
        "        ax.set_yticks(list(reversed(list(self.feature_importances.index[:15]))))\n",
        "        ax.set_yticklabels(self.feature_importances['feature'].head(15), size = 12)\n",
        "\n",
        "        # Plot labeling\n",
        "        plt.xlabel('Normalized Importance', size = 16); plt.title('Feature Importances', size = 18)\n",
        "        plt.show()\n",
        "\n",
        "        # Cumulative importance plot\n",
        "        plt.figure(figsize = (6, 4))\n",
        "        plt.plot(list(range(1, len(self.feature_importances) + 1)), self.feature_importances['cumulative_importance'], 'r-')\n",
        "        plt.xlabel('Number of Features', size = 14); plt.ylabel('Cumulative Importance', size = 14); \n",
        "        plt.title('Cumulative Feature Importance', size = 16);\n",
        "\n",
        "        if threshold:\n",
        "\n",
        "            # Index of minimum number of features needed for cumulative importance threshold\n",
        "            importance_index = np.min(np.where(self.feature_importances['cumulative_importance'] > threshold))\n",
        "            plt.vlines(x = importance_index + 1, ymin = 0, ymax = 1, linestyles='--', colors = 'blue')\n",
        "            plt.show()\n",
        "\n",
        "            print('%d features required for %0.2f of cumulative importance' % (importance_index + 1, threshold))\n",
        "\n",
        "        \n",
        "    def reset_plot(self):\n",
        "        plt.rcParams = plt.rcParamsDefault"
      ],
      "metadata": {
        "id": "5nLVRU8H1hD6"
      },
      "execution_count": 164,
      "outputs": []
    },
    {
      "cell_type": "code",
      "source": [
        "fs = FeatureSelector()"
      ],
      "metadata": {
        "id": "50bgG4Ii2QXv"
      },
      "execution_count": 165,
      "outputs": []
    },
    {
      "cell_type": "code",
      "source": [
        "fs.identify_missing(ibm_attr_train,0.10)\n",
        "# fs.plot_missing()"
      ],
      "metadata": {
        "colab": {
          "base_uri": "https://localhost:8080/"
        },
        "id": "9r3ed8Ob2QSo",
        "outputId": "3707ffe6-01d0-4ef0-ba39-e8aba782893a"
      },
      "execution_count": 171,
      "outputs": [
        {
          "output_type": "stream",
          "name": "stdout",
          "text": [
            "0 features with greater than 0.10 missing values.\n",
            "\n"
          ]
        }
      ]
    },
    {
      "cell_type": "code",
      "source": [
        "fs.identify_single_unique(ibm_attr_train)"
      ],
      "metadata": {
        "colab": {
          "base_uri": "https://localhost:8080/"
        },
        "id": "AjU4vTKt2P6x",
        "outputId": "f3f8af6c-c5a2-46bf-8fd3-3b638c5ea899"
      },
      "execution_count": 172,
      "outputs": [
        {
          "output_type": "stream",
          "name": "stdout",
          "text": [
            "3 features with a single unique value.\n",
            "\n"
          ]
        }
      ]
    },
    {
      "cell_type": "code",
      "source": [
        "fs.identify_collinear(ibm_attr_train, 0.99)\n",
        "fs.plot_collinear()"
      ],
      "metadata": {
        "colab": {
          "base_uri": "https://localhost:8080/",
          "height": 919
        },
        "id": "BdnYrraZ2vbz",
        "outputId": "ba971dbb-4410-48e1-e76d-1cd3d7307c64"
      },
      "execution_count": 173,
      "outputs": [
        {
          "output_type": "stream",
          "name": "stderr",
          "text": [
            "<ipython-input-164-8079b9b9a9c0>:128: DeprecationWarning: `np.bool` is a deprecated alias for the builtin `bool`. To silence this warning, use `bool` by itself. Doing this will not modify any behavior and is safe. If you specifically wanted the numpy scalar type, use `np.bool_` here.\n",
            "Deprecated in NumPy 1.20; for more details and guidance: https://numpy.org/devdocs/release/1.20.0-notes.html#deprecations\n",
            "  upper = corr_matrix.where(np.triu(np.ones(corr_matrix.shape), k = 1).astype(np.bool))\n"
          ]
        },
        {
          "output_type": "stream",
          "name": "stdout",
          "text": [
            "1 features with a correlation greater than 0.99.\n",
            "\n"
          ]
        },
        {
          "output_type": "display_data",
          "data": {
            "text/plain": [
              "<Figure size 720x576 with 2 Axes>"
            ],
            "image/png": "[encoded data removed]"
          },
          "metadata": {
            "needs_background": "light"
          }
        }
      ]
    },
    {
      "cell_type": "code",
      "source": [
        "fs.identify_collinear(ibm_attr_train, 0.50)\n",
        "fs.plot_collinear()"
      ],
      "metadata": {
        "colab": {
          "base_uri": "https://localhost:8080/",
          "height": 858
        },
        "id": "-Y3YUX6c2zp1",
        "outputId": "b54d40c7-2ae3-433a-d8c2-6f5ec22a4c16"
      },
      "execution_count": 175,
      "outputs": [
        {
          "output_type": "stream",
          "name": "stderr",
          "text": [
            "<ipython-input-164-8079b9b9a9c0>:128: DeprecationWarning: `np.bool` is a deprecated alias for the builtin `bool`. To silence this warning, use `bool` by itself. Doing this will not modify any behavior and is safe. If you specifically wanted the numpy scalar type, use `np.bool_` here.\n",
            "Deprecated in NumPy 1.20; for more details and guidance: https://numpy.org/devdocs/release/1.20.0-notes.html#deprecations\n",
            "  upper = corr_matrix.where(np.triu(np.ones(corr_matrix.shape), k = 1).astype(np.bool))\n"
          ]
        },
        {
          "output_type": "stream",
          "name": "stdout",
          "text": [
            "8 features with a correlation greater than 0.50.\n",
            "\n"
          ]
        },
        {
          "output_type": "display_data",
          "data": {
            "text/plain": [
              "<Figure size 720x576 with 2 Axes>"
            ],
            "image/png": "[encoded data removed]"
          },
          "metadata": {
            "needs_background": "light"
          }
        }
      ]
    },
    {
      "cell_type": "code",
      "source": [
        "fs.identify_zero_importance(ibm_attr_train, train_labels, eval_metric='auc')"
      ],
      "metadata": {
        "colab": {
          "base_uri": "https://localhost:8080/"
        },
        "id": "bxINqz-N36Xg",
        "outputId": "e77184ee-ee39-4dfb-ce8b-ba6641497b53"
      },
      "execution_count": null,
      "outputs": [
        {
          "output_type": "stream",
          "name": "stdout",
          "text": [
            "Training Gradient Boosting Model\n",
            "\n",
            "Training until validation scores don't improve for 100 rounds.\n",
            "Early stopping, best iteration is:\n",
            "[69]\tvalid_0's binary_logloss: 0.243376\tvalid_0's auc: 0.74204\n",
            "Training until validation scores don't improve for 100 rounds.\n",
            "Early stopping, best iteration is:\n",
            "[44]\tvalid_0's binary_logloss: 0.251159\tvalid_0's auc: 0.728458\n",
            "Training until validation scores don't improve for 100 rounds.\n",
            "Early stopping, best iteration is:\n",
            "[46]\tvalid_0's binary_logloss: 0.245264\tvalid_0's auc: 0.750209\n",
            "Training until validation scores don't improve for 100 rounds.\n",
            "Early stopping, best iteration is:\n",
            "[9]\tvalid_0's binary_logloss: 0.222948\tvalid_0's auc: 0.741075\n",
            "Training until validation scores don't improve for 100 rounds.\n",
            "Early stopping, best iteration is:\n",
            "[26]\tvalid_0's binary_logloss: 0.236982\tvalid_0's auc: 0.718067\n",
            "Training until validation scores don't improve for 100 rounds.\n",
            "Early stopping, best iteration is:\n",
            "[25]\tvalid_0's binary_logloss: 0.261202\tvalid_0's auc: 0.747536\n",
            "Training until validation scores don't improve for 100 rounds.\n",
            "Early stopping, best iteration is:\n",
            "[12]\tvalid_0's binary_logloss: 0.255851\tvalid_0's auc: 0.719994\n",
            "Training until validation scores don't improve for 100 rounds.\n",
            "Early stopping, best iteration is:\n",
            "[29]\tvalid_0's binary_logloss: 0.274215\tvalid_0's auc: 0.700623\n",
            "Training until validation scores don't improve for 100 rounds.\n",
            "Early stopping, best iteration is:\n",
            "[50]\tvalid_0's binary_logloss: 0.244846\tvalid_0's auc: 0.706811\n",
            "Training until validation scores don't improve for 100 rounds.\n",
            "Early stopping, best iteration is:\n",
            "[116]\tvalid_0's binary_logloss: 0.235087\tvalid_0's auc: 0.758177\n",
            "\n",
            "90 features with zero importance.\n",
            "\n"
          ]
        }
      ]
    },
    {
      "cell_type": "code",
      "source": [
        "fs.plot_feature_importances(threshold = 0.99)"
      ],
      "metadata": {
        "colab": {
          "base_uri": "https://localhost:8080/",
          "height": 714
        },
        "id": "zSCYqeKb4y3D",
        "outputId": "fbc957ae-1dad-4988-c97b-97ccb1c9eb95"
      },
      "execution_count": null,
      "outputs": [
        {
          "output_type": "display_data",
          "data": {
            "text/plain": [
              "<Figure size 720x432 with 1 Axes>"
            ],
            "image/png": "[encoded data removed]"
          },
          "metadata": {
            "needs_background": "light"
          }
        },
        {
          "output_type": "display_data",
          "data": {
            "text/plain": [
              "<Figure size 432x288 with 1 Axes>"
            ],
            "image/png": "[encoded data removed]"
          },
          "metadata": {
            "needs_background": "light"
          }
        },
        {
          "output_type": "stream",
          "name": "stdout",
          "text": [
            "105 features required for 0.99 of cumulative importance\n"
          ]
        }
      ]
    },
    {
      "cell_type": "code",
      "source": [
        "fs.identify_all(train, train_labels, {'missing_threshold': 0.8, 'correlation_threshold': 0.95, 'eval_metric': 'auc','task': 'classification', 'cumulative_importance': 0.95})"
      ],
      "metadata": {
        "colab": {
          "base_uri": "https://localhost:8080/"
        },
        "id": "KC1W7Tjw45_M",
        "outputId": "e6b96a73-e1c4-4d0e-d5be-a828e2e52c19"
      },
      "execution_count": null,
      "outputs": [
        {
          "output_type": "stream",
          "name": "stdout",
          "text": [
            "0 features with greater than 0.80 missing values.\n",
            "\n",
            "5 features with a single unique value.\n",
            "\n"
          ]
        },
        {
          "output_type": "stream",
          "name": "stderr",
          "text": [
            "<ipython-input-63-2e7bcd4280db>:144: DeprecationWarning: `np.bool` is a deprecated alias for the builtin `bool`. To silence this warning, use `bool` by itself. Doing this will not modify any behavior and is safe. If you specifically wanted the numpy scalar type, use `np.bool_` here.\n",
            "Deprecated in NumPy 1.20; for more details and guidance: https://numpy.org/devdocs/release/1.20.0-notes.html#deprecations\n",
            "  upper = corr_matrix.where(np.triu(np.ones(corr_matrix.shape), k = 1).astype(np.bool))\n"
          ]
        },
        {
          "output_type": "stream",
          "name": "stdout",
          "text": [
            "31 features with a correlation greater than 0.95.\n",
            "\n",
            "Training Gradient Boosting Model\n",
            "\n",
            "Training until validation scores don't improve for 100 rounds.\n",
            "Early stopping, best iteration is:\n",
            "[81]\tvalid_0's binary_logloss: 0.257148\tvalid_0's auc: 0.785121\n",
            "Training until validation scores don't improve for 100 rounds.\n",
            "Early stopping, best iteration is:\n",
            "[32]\tvalid_0's binary_logloss: 0.242774\tvalid_0's auc: 0.735393\n",
            "Training until validation scores don't improve for 100 rounds.\n",
            "Early stopping, best iteration is:\n",
            "[40]\tvalid_0's binary_logloss: 0.27325\tvalid_0's auc: 0.690991\n",
            "Training until validation scores don't improve for 100 rounds.\n",
            "Early stopping, best iteration is:\n",
            "[12]\tvalid_0's binary_logloss: 0.23911\tvalid_0's auc: 0.735497\n",
            "Training until validation scores don't improve for 100 rounds.\n",
            "Early stopping, best iteration is:\n",
            "[7]\tvalid_0's binary_logloss: 0.250416\tvalid_0's auc: 0.725511\n",
            "Training until validation scores don't improve for 100 rounds.\n",
            "Early stopping, best iteration is:\n",
            "[29]\tvalid_0's binary_logloss: 0.285282\tvalid_0's auc: 0.673005\n",
            "Training until validation scores don't improve for 100 rounds.\n",
            "Early stopping, best iteration is:\n",
            "[40]\tvalid_0's binary_logloss: 0.253481\tvalid_0's auc: 0.724545\n",
            "Training until validation scores don't improve for 100 rounds.\n",
            "Early stopping, best iteration is:\n",
            "[72]\tvalid_0's binary_logloss: 0.248824\tvalid_0's auc: 0.711302\n",
            "Training until validation scores don't improve for 100 rounds.\n",
            "Early stopping, best iteration is:\n",
            "[62]\tvalid_0's binary_logloss: 0.232061\tvalid_0's auc: 0.7186\n",
            "Training until validation scores don't improve for 100 rounds.\n",
            "Early stopping, best iteration is:\n",
            "[49]\tvalid_0's binary_logloss: 0.24483\tvalid_0's auc: 0.721555\n",
            "\n",
            "87 features with zero importance.\n",
            "\n",
            "170 features that do not contribute to cumulative importance of 0.95.\n",
            "\n",
            "187 total features out of 240 identified for removal.\n",
            "\n"
          ]
        }
      ]
    },
    {
      "cell_type": "code",
      "source": [
        "features_identified = fs.check_identified()"
      ],
      "metadata": {
        "colab": {
          "base_uri": "https://localhost:8080/"
        },
        "id": "7L9_t7Se6Dna",
        "outputId": "db32cc73-bafc-47e8-b51d-e0279fd4ec8d"
      },
      "execution_count": null,
      "outputs": [
        {
          "output_type": "stream",
          "name": "stdout",
          "text": [
            "187 features identified for removal\n"
          ]
        }
      ]
    },
    {
      "cell_type": "code",
      "source": [
        "list(features_identified)[:10]"
      ],
      "metadata": {
        "colab": {
          "base_uri": "https://localhost:8080/"
        },
        "id": "NypueTHw6GQk",
        "outputId": "97683741-29ec-46a0-a509-c5ded3c40220"
      },
      "execution_count": null,
      "outputs": [
        {
          "output_type": "execute_result",
          "data": {
            "text/plain": [
              "['NONLIVINGAREA_MODE',\n",
              " 'LIVE_REGION_NOT_WORK_REGION',\n",
              " 'ORGANIZATION_TYPE_Realtor',\n",
              " 'ORGANIZATION_TYPE_Agriculture',\n",
              " 'NAME_TYPE_SUITE_Spouse, partner',\n",
              " 'APARTMENTS_MEDI',\n",
              " 'ORGANIZATION_TYPE_Industry: type 3',\n",
              " 'ORGANIZATION_TYPE_Government',\n",
              " 'AMT_GOODS_PRICE',\n",
              " 'AMT_REQ_CREDIT_BUREAU_DAY']"
            ]
          },
          "metadata": {},
          "execution_count": 86
        }
      ]
    },
    {
      "cell_type": "code",
      "source": [
        "train_removed = fs.remove(train, methods = 'all')"
      ],
      "metadata": {
        "colab": {
          "base_uri": "https://localhost:8080/"
        },
        "id": "eD6a86L96igx",
        "outputId": "a3422413-aba3-4a4e-970d-c2d56e764b96"
      },
      "execution_count": null,
      "outputs": [
        {
          "output_type": "stream",
          "name": "stdout",
          "text": [
            "['missing', 'single_unique', 'collinear', 'zero_importance', 'low_importance'] methods have been run\n",
            "Removed 187 features\n"
          ]
        }
      ]
    },
    {
      "cell_type": "code",
      "source": [
        "train_removed.info()"
      ],
      "metadata": {
        "colab": {
          "base_uri": "https://localhost:8080/"
        },
        "id": "8cEI1odC7Abl",
        "outputId": "c098cae2-516f-4f60-9136-78e089ac942d"
      },
      "execution_count": null,
      "outputs": [
        {
          "output_type": "stream",
          "name": "stdout",
          "text": [
            "<class 'pandas.core.frame.DataFrame'>\n",
            "Int64Index: 10000 entries, 1024 to 11572\n",
            "Data columns (total 53 columns):\n",
            " #   Column                                             Non-Null Count  Dtype  \n",
            "---  ------                                             --------------  -----  \n",
            " 0   SK_ID_CURR                                         10000 non-null  int64  \n",
            " 1   CNT_CHILDREN                                       10000 non-null  int64  \n",
            " 2   AMT_INCOME_TOTAL                                   10000 non-null  float64\n",
            " 3   AMT_CREDIT                                         10000 non-null  float64\n",
            " 4   AMT_ANNUITY                                        10000 non-null  float64\n",
            " 5   REGION_POPULATION_RELATIVE                         10000 non-null  float64\n",
            " 6   DAYS_BIRTH                                         10000 non-null  float64\n",
            " 7   DAYS_EMPLOYED                                      10000 non-null  float64\n",
            " 8   DAYS_REGISTRATION                                  10000 non-null  float64\n",
            " 9   DAYS_ID_PUBLISH                                    10000 non-null  float64\n",
            " 10  OWN_CAR_AGE                                        3371 non-null   float64\n",
            " 11  FLAG_PHONE                                         10000 non-null  float64\n",
            " 12  CNT_FAM_MEMBERS                                    10000 non-null  float64\n",
            " 13  HOUR_APPR_PROCESS_START                            10000 non-null  float64\n",
            " 14  EXT_SOURCE_1                                       4384 non-null   float64\n",
            " 15  EXT_SOURCE_2                                       9973 non-null   float64\n",
            " 16  EXT_SOURCE_3                                       8015 non-null   float64\n",
            " 17  APARTMENTS_AVG                                     4944 non-null   float64\n",
            " 18  BASEMENTAREA_AVG                                   4193 non-null   float64\n",
            " 19  YEARS_BEGINEXPLUATATION_AVG                        5125 non-null   float64\n",
            " 20  YEARS_BUILD_AVG                                    3367 non-null   float64\n",
            " 21  COMMONAREA_AVG                                     3033 non-null   float64\n",
            " 22  ELEVATORS_AVG                                      4702 non-null   float64\n",
            " 23  ENTRANCES_AVG                                      5000 non-null   float64\n",
            " 24  FLOORSMAX_AVG                                      5065 non-null   float64\n",
            " 25  FLOORSMIN_AVG                                      3211 non-null   float64\n",
            " 26  LANDAREA_AVG                                       4091 non-null   float64\n",
            " 27  LIVINGAPARTMENTS_AVG                               3168 non-null   float64\n",
            " 28  LIVINGAREA_AVG                                     4981 non-null   float64\n",
            " 29  NONLIVINGAPARTMENTS_AVG                            3076 non-null   float64\n",
            " 30  NONLIVINGAREA_AVG                                  4533 non-null   float64\n",
            " 31  YEARS_BEGINEXPLUATATION_MODE                       5125 non-null   float64\n",
            " 32  TOTALAREA_MODE                                     5192 non-null   float64\n",
            " 33  OBS_30_CNT_SOCIAL_CIRCLE                           9956 non-null   float64\n",
            " 34  DEF_30_CNT_SOCIAL_CIRCLE                           9956 non-null   float64\n",
            " 35  DAYS_LAST_PHONE_CHANGE                             10000 non-null  float64\n",
            " 36  FLAG_DOCUMENT_3                                    10000 non-null  float64\n",
            " 37  AMT_REQ_CREDIT_BUREAU_MON                          8640 non-null   float64\n",
            " 38  AMT_REQ_CREDIT_BUREAU_QRT                          8640 non-null   float64\n",
            " 39  AMT_REQ_CREDIT_BUREAU_YEAR                         8640 non-null   float64\n",
            " 40  NAME_CONTRACT_TYPE_Cash loans                      10000 non-null  uint8  \n",
            " 41  CODE_GENDER_F                                      10000 non-null  uint8  \n",
            " 42  NAME_TYPE_SUITE_Family                             10000 non-null  uint8  \n",
            " 43  NAME_INCOME_TYPE_Working                           10000 non-null  uint8  \n",
            " 44  NAME_EDUCATION_TYPE_Higher education               10000 non-null  uint8  \n",
            " 45  NAME_EDUCATION_TYPE_Secondary / secondary special  10000 non-null  uint8  \n",
            " 46  NAME_FAMILY_STATUS_Married                         10000 non-null  uint8  \n",
            " 47  NAME_FAMILY_STATUS_Separated                       10000 non-null  uint8  \n",
            " 48  NAME_FAMILY_STATUS_Single / not married            10000 non-null  uint8  \n",
            " 49  OCCUPATION_TYPE_Drivers                            10000 non-null  uint8  \n",
            " 50  WEEKDAY_APPR_PROCESS_START_THURSDAY                10000 non-null  uint8  \n",
            " 51  WEEKDAY_APPR_PROCESS_START_WEDNESDAY               10000 non-null  uint8  \n",
            " 52  ORGANIZATION_TYPE_Business Entity Type 3           10000 non-null  uint8  \n",
            "dtypes: float64(38), int64(2), uint8(13)\n",
            "memory usage: 3.3 MB\n"
          ]
        }
      ]
    },
    {
      "cell_type": "code",
      "source": [
        "train_removed.to_csv('applicationData_after_FS.csv')"
      ],
      "metadata": {
        "id": "w31-s4mQ7ADa"
      },
      "execution_count": null,
      "outputs": []
    }
  ]
}