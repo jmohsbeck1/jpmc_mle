{
  "nbformat": 4,
  "nbformat_minor": 0,
  "metadata": {
    "colab": {
      "provenance": [],
      "include_colab_link": true
    },
    "kernelspec": {
      "name": "python3",
      "display_name": "Python 3"
    },
    "language_info": {
      "name": "python"
    }
  },
  "cells": [
    {
      "cell_type": "markdown",
      "metadata": {
        "id": "view-in-github",
        "colab_type": "text"
      },
      "source": [
        "<a href=\"https://colab.research.google.com/github/jmohsbeck1/jpmc_mle/blob/labs/JPMC_Day4.ipynb\" target=\"_parent\"><img src=\"https://colab.research.google.com/assets/colab-badge.svg\" alt=\"Open In Colab\"/></a>"
      ]
    },
    {
      "cell_type": "code",
      "execution_count": 1,
      "metadata": {
        "colab": {
          "base_uri": "https://localhost:8080/",
          "height": 393
        },
        "id": "POzpprekiHG4",
        "outputId": "64a524b6-c5f6-476c-e998-90c7fafbc048"
      },
      "outputs": [
        {
          "output_type": "stream",
          "name": "stderr",
          "text": [
            "/usr/local/lib/python3.9/dist-packages/sklearn/datasets/_openml.py:932: FutureWarning: The default value of `parser` will change from `'liac-arff'` to `'auto'` in 1.4. You can set `parser='auto'` to silence this warning. Therefore, an `ImportError` will be raised from 1.4 if the dataset is dense and pandas is not installed. Note that the pandas parser may return different data types. See the Notes Section in fetch_openml's API doc for details.\n",
            "  warn(\n"
          ]
        },
        {
          "output_type": "execute_result",
          "data": {
            "text/plain": [
              "      Age Attrition BusinessTravel  DailyRate             Department  \\\n",
              "273    37        No  Travel_Rarely        228                  Sales   \n",
              "1278   36        No  Travel_Rarely       1383  Research  Development   \n",
              "934    25        No  Travel_Rarely        266  Research  Development   \n",
              "1367   27        No  Travel_Rarely       1354  Research  Development   \n",
              "1023   56        No  Travel_Rarely       1255  Research  Development   \n",
              "\n",
              "      DistanceFromHome  Education    EducationField  EmployeeCount  \\\n",
              "273                  6          4           Medical              1   \n",
              "1278                10          3     Life Sciences              1   \n",
              "934                  1          3           Medical              1   \n",
              "1367                 2          4  Technical Degree              1   \n",
              "1023                 1          2     Life Sciences              1   \n",
              "\n",
              "      EmployeeNumber  EnvironmentSatisfaction  Gender  HourlyRate  \\\n",
              "273              378                        3    Male          98   \n",
              "1278            1790                        4    Male          90   \n",
              "934             1303                        4  Female          40   \n",
              "1367            1931                        2    Male          41   \n",
              "1023            1441                        1  Female          90   \n",
              "\n",
              "      JobInvolvement  JobLevel                    JobRole  JobSatisfaction  \\\n",
              "273                3         2            Sales Executive                4   \n",
              "1278               3         3  Healthcare Representative                1   \n",
              "934                3         1         Research Scientist                2   \n",
              "1367               3         1         Research Scientist                2   \n",
              "1023               3         1         Research Scientist                1   \n",
              "\n",
              "     MaritalStatus  MonthlyIncome  MonthlyRate  NumCompaniesWorked Over18  \\\n",
              "273        Married           6502        22825                   4      Y   \n",
              "1278       Married           8321        25949                   7      Y   \n",
              "934         Single           2096        18830                   1      Y   \n",
              "1367       Married           2226         6073                   1      Y   \n",
              "1023       Married           2066        10494                   2      Y   \n",
              "\n",
              "     OverTime  PercentSalaryHike  PerformanceRating  RelationshipSatisfaction  \\\n",
              "273        No                 14                  3                         2   \n",
              "1278      Yes                 13                  3                         4   \n",
              "934        No                 18                  3                         4   \n",
              "1367       No                 11                  3                         3   \n",
              "1023       No                 22                  4                         4   \n",
              "\n",
              "      StandardHours  StockOptionLevel  TotalWorkingYears  \\\n",
              "273              80                 1                  7   \n",
              "1278             80                 1                 15   \n",
              "934              80                 0                  2   \n",
              "1367             80                 1                  6   \n",
              "1023             80                 1                  5   \n",
              "\n",
              "      TrainingTimesLastYear  WorkLifeBalance  YearsAtCompany  \\\n",
              "273                       5                4               5   \n",
              "1278                      1                3              12   \n",
              "934                       3                2               2   \n",
              "1367                      3                2               5   \n",
              "1023                      3                4               3   \n",
              "\n",
              "      YearsInCurrentRole  YearsSinceLastPromotion  YearsWithCurrManager  \n",
              "273                    4                        0                     1  \n",
              "1278                   8                        5                     7  \n",
              "934                    2                        2                     1  \n",
              "1367                   3                        1                     2  \n",
              "1023                   2                        1                     0  "
            ],
            "text/html": [
              "\n",
              "  <div id=\"df-dcea0450-998a-4227-b9a1-f56a218119fe\">\n",
              "    <div class=\"colab-df-container\">\n",
              "      <div>\n",
              "<style scoped>\n",
              "    .dataframe tbody tr th:only-of-type {\n",
              "        vertical-align: middle;\n",
              "    }\n",
              "\n",
              "    .dataframe tbody tr th {\n",
              "        vertical-align: top;\n",
              "    }\n",
              "\n",
              "    .dataframe thead th {\n",
              "        text-align: right;\n",
              "    }\n",
              "</style>\n",
              "<table border=\"1\" class=\"dataframe\">\n",
              "  <thead>\n",
              "    <tr style=\"text-align: right;\">\n",
              "      <th></th>\n",
              "      <th>Age</th>\n",
              "      <th>Attrition</th>\n",
              "      <th>BusinessTravel</th>\n",
              "      <th>DailyRate</th>\n",
              "      <th>Department</th>\n",
              "      <th>DistanceFromHome</th>\n",
              "      <th>Education</th>\n",
              "      <th>EducationField</th>\n",
              "      <th>EmployeeCount</th>\n",
              "      <th>EmployeeNumber</th>\n",
              "      <th>EnvironmentSatisfaction</th>\n",
              "      <th>Gender</th>\n",
              "      <th>HourlyRate</th>\n",
              "      <th>JobInvolvement</th>\n",
              "      <th>JobLevel</th>\n",
              "      <th>JobRole</th>\n",
              "      <th>JobSatisfaction</th>\n",
              "      <th>MaritalStatus</th>\n",
              "      <th>MonthlyIncome</th>\n",
              "      <th>MonthlyRate</th>\n",
              "      <th>NumCompaniesWorked</th>\n",
              "      <th>Over18</th>\n",
              "      <th>OverTime</th>\n",
              "      <th>PercentSalaryHike</th>\n",
              "      <th>PerformanceRating</th>\n",
              "      <th>RelationshipSatisfaction</th>\n",
              "      <th>StandardHours</th>\n",
              "      <th>StockOptionLevel</th>\n",
              "      <th>TotalWorkingYears</th>\n",
              "      <th>TrainingTimesLastYear</th>\n",
              "      <th>WorkLifeBalance</th>\n",
              "      <th>YearsAtCompany</th>\n",
              "      <th>YearsInCurrentRole</th>\n",
              "      <th>YearsSinceLastPromotion</th>\n",
              "      <th>YearsWithCurrManager</th>\n",
              "    </tr>\n",
              "  </thead>\n",
              "  <tbody>\n",
              "    <tr>\n",
              "      <th>273</th>\n",
              "      <td>37</td>\n",
              "      <td>No</td>\n",
              "      <td>Travel_Rarely</td>\n",
              "      <td>228</td>\n",
              "      <td>Sales</td>\n",
              "      <td>6</td>\n",
              "      <td>4</td>\n",
              "      <td>Medical</td>\n",
              "      <td>1</td>\n",
              "      <td>378</td>\n",
              "      <td>3</td>\n",
              "      <td>Male</td>\n",
              "      <td>98</td>\n",
              "      <td>3</td>\n",
              "      <td>2</td>\n",
              "      <td>Sales Executive</td>\n",
              "      <td>4</td>\n",
              "      <td>Married</td>\n",
              "      <td>6502</td>\n",
              "      <td>22825</td>\n",
              "      <td>4</td>\n",
              "      <td>Y</td>\n",
              "      <td>No</td>\n",
              "      <td>14</td>\n",
              "      <td>3</td>\n",
              "      <td>2</td>\n",
              "      <td>80</td>\n",
              "      <td>1</td>\n",
              "      <td>7</td>\n",
              "      <td>5</td>\n",
              "      <td>4</td>\n",
              "      <td>5</td>\n",
              "      <td>4</td>\n",
              "      <td>0</td>\n",
              "      <td>1</td>\n",
              "    </tr>\n",
              "    <tr>\n",
              "      <th>1278</th>\n",
              "      <td>36</td>\n",
              "      <td>No</td>\n",
              "      <td>Travel_Rarely</td>\n",
              "      <td>1383</td>\n",
              "      <td>Research  Development</td>\n",
              "      <td>10</td>\n",
              "      <td>3</td>\n",
              "      <td>Life Sciences</td>\n",
              "      <td>1</td>\n",
              "      <td>1790</td>\n",
              "      <td>4</td>\n",
              "      <td>Male</td>\n",
              "      <td>90</td>\n",
              "      <td>3</td>\n",
              "      <td>3</td>\n",
              "      <td>Healthcare Representative</td>\n",
              "      <td>1</td>\n",
              "      <td>Married</td>\n",
              "      <td>8321</td>\n",
              "      <td>25949</td>\n",
              "      <td>7</td>\n",
              "      <td>Y</td>\n",
              "      <td>Yes</td>\n",
              "      <td>13</td>\n",
              "      <td>3</td>\n",
              "      <td>4</td>\n",
              "      <td>80</td>\n",
              "      <td>1</td>\n",
              "      <td>15</td>\n",
              "      <td>1</td>\n",
              "      <td>3</td>\n",
              "      <td>12</td>\n",
              "      <td>8</td>\n",
              "      <td>5</td>\n",
              "      <td>7</td>\n",
              "    </tr>\n",
              "    <tr>\n",
              "      <th>934</th>\n",
              "      <td>25</td>\n",
              "      <td>No</td>\n",
              "      <td>Travel_Rarely</td>\n",
              "      <td>266</td>\n",
              "      <td>Research  Development</td>\n",
              "      <td>1</td>\n",
              "      <td>3</td>\n",
              "      <td>Medical</td>\n",
              "      <td>1</td>\n",
              "      <td>1303</td>\n",
              "      <td>4</td>\n",
              "      <td>Female</td>\n",
              "      <td>40</td>\n",
              "      <td>3</td>\n",
              "      <td>1</td>\n",
              "      <td>Research Scientist</td>\n",
              "      <td>2</td>\n",
              "      <td>Single</td>\n",
              "      <td>2096</td>\n",
              "      <td>18830</td>\n",
              "      <td>1</td>\n",
              "      <td>Y</td>\n",
              "      <td>No</td>\n",
              "      <td>18</td>\n",
              "      <td>3</td>\n",
              "      <td>4</td>\n",
              "      <td>80</td>\n",
              "      <td>0</td>\n",
              "      <td>2</td>\n",
              "      <td>3</td>\n",
              "      <td>2</td>\n",
              "      <td>2</td>\n",
              "      <td>2</td>\n",
              "      <td>2</td>\n",
              "      <td>1</td>\n",
              "    </tr>\n",
              "    <tr>\n",
              "      <th>1367</th>\n",
              "      <td>27</td>\n",
              "      <td>No</td>\n",
              "      <td>Travel_Rarely</td>\n",
              "      <td>1354</td>\n",
              "      <td>Research  Development</td>\n",
              "      <td>2</td>\n",
              "      <td>4</td>\n",
              "      <td>Technical Degree</td>\n",
              "      <td>1</td>\n",
              "      <td>1931</td>\n",
              "      <td>2</td>\n",
              "      <td>Male</td>\n",
              "      <td>41</td>\n",
              "      <td>3</td>\n",
              "      <td>1</td>\n",
              "      <td>Research Scientist</td>\n",
              "      <td>2</td>\n",
              "      <td>Married</td>\n",
              "      <td>2226</td>\n",
              "      <td>6073</td>\n",
              "      <td>1</td>\n",
              "      <td>Y</td>\n",
              "      <td>No</td>\n",
              "      <td>11</td>\n",
              "      <td>3</td>\n",
              "      <td>3</td>\n",
              "      <td>80</td>\n",
              "      <td>1</td>\n",
              "      <td>6</td>\n",
              "      <td>3</td>\n",
              "      <td>2</td>\n",
              "      <td>5</td>\n",
              "      <td>3</td>\n",
              "      <td>1</td>\n",
              "      <td>2</td>\n",
              "    </tr>\n",
              "    <tr>\n",
              "      <th>1023</th>\n",
              "      <td>56</td>\n",
              "      <td>No</td>\n",
              "      <td>Travel_Rarely</td>\n",
              "      <td>1255</td>\n",
              "      <td>Research  Development</td>\n",
              "      <td>1</td>\n",
              "      <td>2</td>\n",
              "      <td>Life Sciences</td>\n",
              "      <td>1</td>\n",
              "      <td>1441</td>\n",
              "      <td>1</td>\n",
              "      <td>Female</td>\n",
              "      <td>90</td>\n",
              "      <td>3</td>\n",
              "      <td>1</td>\n",
              "      <td>Research Scientist</td>\n",
              "      <td>1</td>\n",
              "      <td>Married</td>\n",
              "      <td>2066</td>\n",
              "      <td>10494</td>\n",
              "      <td>2</td>\n",
              "      <td>Y</td>\n",
              "      <td>No</td>\n",
              "      <td>22</td>\n",
              "      <td>4</td>\n",
              "      <td>4</td>\n",
              "      <td>80</td>\n",
              "      <td>1</td>\n",
              "      <td>5</td>\n",
              "      <td>3</td>\n",
              "      <td>4</td>\n",
              "      <td>3</td>\n",
              "      <td>2</td>\n",
              "      <td>1</td>\n",
              "      <td>0</td>\n",
              "    </tr>\n",
              "  </tbody>\n",
              "</table>\n",
              "</div>\n",
              "      <button class=\"colab-df-convert\" onclick=\"convertToInteractive('df-dcea0450-998a-4227-b9a1-f56a218119fe')\"\n",
              "              title=\"Convert this dataframe to an interactive table.\"\n",
              "              style=\"display:none;\">\n",
              "        \n",
              "  <svg xmlns=\"http://www.w3.org/2000/svg\" height=\"24px\"viewBox=\"0 0 24 24\"\n",
              "       width=\"24px\">\n",
              "    <path d=\"M0 0h24v24H0V0z\" fill=\"none\"/>\n",
              "    <path d=\"M18.56 5.44l.94 2.06.94-2.06 2.06-.94-2.06-.94-.94-2.06-.94 2.06-2.06.94zm-11 1L8.5 8.5l.94-2.06 2.06-.94-2.06-.94L8.5 2.5l-.94 2.06-2.06.94zm10 10l.94 2.06.94-2.06 2.06-.94-2.06-.94-.94-2.06-.94 2.06-2.06.94z\"/><path d=\"M17.41 7.96l-1.37-1.37c-.4-.4-.92-.59-1.43-.59-.52 0-1.04.2-1.43.59L10.3 9.45l-7.72 7.72c-.78.78-.78 2.05 0 2.83L4 21.41c.39.39.9.59 1.41.59.51 0 1.02-.2 1.41-.59l7.78-7.78 2.81-2.81c.8-.78.8-2.07 0-2.86zM5.41 20L4 18.59l7.72-7.72 1.47 1.35L5.41 20z\"/>\n",
              "  </svg>\n",
              "      </button>\n",
              "      \n",
              "  <style>\n",
              "    .colab-df-container {\n",
              "      display:flex;\n",
              "      flex-wrap:wrap;\n",
              "      gap: 12px;\n",
              "    }\n",
              "\n",
              "    .colab-df-convert {\n",
              "      background-color: #E8F0FE;\n",
              "      border: none;\n",
              "      border-radius: 50%;\n",
              "      cursor: pointer;\n",
              "      display: none;\n",
              "      fill: #1967D2;\n",
              "      height: 32px;\n",
              "      padding: 0 0 0 0;\n",
              "      width: 32px;\n",
              "    }\n",
              "\n",
              "    .colab-df-convert:hover {\n",
              "      background-color: #E2EBFA;\n",
              "      box-shadow: 0px 1px 2px rgba(60, 64, 67, 0.3), 0px 1px 3px 1px rgba(60, 64, 67, 0.15);\n",
              "      fill: #174EA6;\n",
              "    }\n",
              "\n",
              "    [theme=dark] .colab-df-convert {\n",
              "      background-color: #3B4455;\n",
              "      fill: #D2E3FC;\n",
              "    }\n",
              "\n",
              "    [theme=dark] .colab-df-convert:hover {\n",
              "      background-color: #434B5C;\n",
              "      box-shadow: 0px 1px 3px 1px rgba(0, 0, 0, 0.15);\n",
              "      filter: drop-shadow(0px 1px 2px rgba(0, 0, 0, 0.3));\n",
              "      fill: #FFFFFF;\n",
              "    }\n",
              "  </style>\n",
              "\n",
              "      <script>\n",
              "        const buttonEl =\n",
              "          document.querySelector('#df-dcea0450-998a-4227-b9a1-f56a218119fe button.colab-df-convert');\n",
              "        buttonEl.style.display =\n",
              "          google.colab.kernel.accessAllowed ? 'block' : 'none';\n",
              "\n",
              "        async function convertToInteractive(key) {\n",
              "          const element = document.querySelector('#df-dcea0450-998a-4227-b9a1-f56a218119fe');\n",
              "          const dataTable =\n",
              "            await google.colab.kernel.invokeFunction('convertToInteractive',\n",
              "                                                     [key], {});\n",
              "          if (!dataTable) return;\n",
              "\n",
              "          const docLinkHtml = 'Like what you see? Visit the ' +\n",
              "            '<a target=\"_blank\" href=https://colab.research.google.com/notebooks/data_table.ipynb>data table notebook</a>'\n",
              "            + ' to learn more about interactive tables.';\n",
              "          element.innerHTML = '';\n",
              "          dataTable['output_type'] = 'display_data';\n",
              "          await google.colab.output.renderOutput(dataTable, element);\n",
              "          const docLink = document.createElement('div');\n",
              "          docLink.innerHTML = docLinkHtml;\n",
              "          element.appendChild(docLink);\n",
              "        }\n",
              "      </script>\n",
              "    </div>\n",
              "  </div>\n",
              "  "
            ]
          },
          "metadata": {},
          "execution_count": 1
        }
      ],
      "source": [
        "# John Mohsbeck\n",
        "# Day 4 Lab\n",
        "# Outliers\n",
        "# Feature Selection\n",
        "import pandas as pd\n",
        "import matplotlib.pyplot as plt\n",
        "import seaborn as sns\n",
        "\n",
        "\n",
        "\n",
        "# load a dataset from openML\n",
        "# Dataset: IBM attrition dataset\n",
        "# Based on features, try to predeict if employee stays or leaves\n",
        "import ssl \n",
        "ssl._create_default_https_context = ssl._create_unverified_context\n",
        "import certifi\n",
        "from sklearn.datasets import fetch_openml \n",
        "# Download the dataset from openml\n",
        "dataset = fetch_openml(data_id=43696, as_frame=True)\n",
        "#Extract feature matrix X and show 5 random samples\n",
        "df = dataset[\"frame\"]\n",
        "pd.set_option(\"display.max_columns\", None)\n",
        "df.sample(5)"
      ]
    },
    {
      "cell_type": "code",
      "source": [
        "# Basic Data Cleaning\n",
        "# mmake columns lower case\n",
        "df.columns = df.columns.str.lower().str.replace(' ', '_') # A\n",
        " \n",
        "string_columns = list(df.dtypes[df.dtypes == 'object'].index) # B\n",
        " \n",
        "for col in string_columns:\n",
        "    df[col] = df[col].str.lower().str.replace(' ', '_') # C"
      ],
      "metadata": {
        "id": "0BDqWb8j4-Dp"
      },
      "execution_count": 3,
      "outputs": []
    },
    {
      "cell_type": "code",
      "source": [
        "df.head(1)"
      ],
      "metadata": {
        "id": "ke_IV9Xz5BJv",
        "outputId": "dec65939-4c56-41da-c6ae-324e4f2cd4cc",
        "colab": {
          "base_uri": "https://localhost:8080/",
          "height": 145
        }
      },
      "execution_count": 9,
      "outputs": [
        {
          "output_type": "execute_result",
          "data": {
            "text/plain": [
              "   age attrition businesstravel  dailyrate department  distancefromhome  \\\n",
              "0   41       yes  travel_rarely       1102      sales                 1   \n",
              "\n",
              "   education educationfield  employeecount  employeenumber  \\\n",
              "0          2  life_sciences              1               1   \n",
              "\n",
              "   environmentsatisfaction  gender  hourlyrate  jobinvolvement  joblevel  \\\n",
              "0                        2  female          94               3         2   \n",
              "\n",
              "           jobrole  jobsatisfaction maritalstatus  monthlyincome  monthlyrate  \\\n",
              "0  sales_executive                4        single           5993        19479   \n",
              "\n",
              "   numcompaniesworked over18 overtime  percentsalaryhike  performancerating  \\\n",
              "0                   8      y      yes                 11                  3   \n",
              "\n",
              "   relationshipsatisfaction  standardhours  stockoptionlevel  \\\n",
              "0                         1             80                 0   \n",
              "\n",
              "   totalworkingyears  trainingtimeslastyear  worklifebalance  yearsatcompany  \\\n",
              "0                  8                      0                1               6   \n",
              "\n",
              "   yearsincurrentrole  yearssincelastpromotion  yearswithcurrmanager  \n",
              "0                   4                        0                     5  "
            ],
            "text/html": [
              "\n",
              "  <div id=\"df-18b7c5a4-1212-4560-a22a-8f8fdb3699fb\">\n",
              "    <div class=\"colab-df-container\">\n",
              "      <div>\n",
              "<style scoped>\n",
              "    .dataframe tbody tr th:only-of-type {\n",
              "        vertical-align: middle;\n",
              "    }\n",
              "\n",
              "    .dataframe tbody tr th {\n",
              "        vertical-align: top;\n",
              "    }\n",
              "\n",
              "    .dataframe thead th {\n",
              "        text-align: right;\n",
              "    }\n",
              "</style>\n",
              "<table border=\"1\" class=\"dataframe\">\n",
              "  <thead>\n",
              "    <tr style=\"text-align: right;\">\n",
              "      <th></th>\n",
              "      <th>age</th>\n",
              "      <th>attrition</th>\n",
              "      <th>businesstravel</th>\n",
              "      <th>dailyrate</th>\n",
              "      <th>department</th>\n",
              "      <th>distancefromhome</th>\n",
              "      <th>education</th>\n",
              "      <th>educationfield</th>\n",
              "      <th>employeecount</th>\n",
              "      <th>employeenumber</th>\n",
              "      <th>environmentsatisfaction</th>\n",
              "      <th>gender</th>\n",
              "      <th>hourlyrate</th>\n",
              "      <th>jobinvolvement</th>\n",
              "      <th>joblevel</th>\n",
              "      <th>jobrole</th>\n",
              "      <th>jobsatisfaction</th>\n",
              "      <th>maritalstatus</th>\n",
              "      <th>monthlyincome</th>\n",
              "      <th>monthlyrate</th>\n",
              "      <th>numcompaniesworked</th>\n",
              "      <th>over18</th>\n",
              "      <th>overtime</th>\n",
              "      <th>percentsalaryhike</th>\n",
              "      <th>performancerating</th>\n",
              "      <th>relationshipsatisfaction</th>\n",
              "      <th>standardhours</th>\n",
              "      <th>stockoptionlevel</th>\n",
              "      <th>totalworkingyears</th>\n",
              "      <th>trainingtimeslastyear</th>\n",
              "      <th>worklifebalance</th>\n",
              "      <th>yearsatcompany</th>\n",
              "      <th>yearsincurrentrole</th>\n",
              "      <th>yearssincelastpromotion</th>\n",
              "      <th>yearswithcurrmanager</th>\n",
              "    </tr>\n",
              "  </thead>\n",
              "  <tbody>\n",
              "    <tr>\n",
              "      <th>0</th>\n",
              "      <td>41</td>\n",
              "      <td>yes</td>\n",
              "      <td>travel_rarely</td>\n",
              "      <td>1102</td>\n",
              "      <td>sales</td>\n",
              "      <td>1</td>\n",
              "      <td>2</td>\n",
              "      <td>life_sciences</td>\n",
              "      <td>1</td>\n",
              "      <td>1</td>\n",
              "      <td>2</td>\n",
              "      <td>female</td>\n",
              "      <td>94</td>\n",
              "      <td>3</td>\n",
              "      <td>2</td>\n",
              "      <td>sales_executive</td>\n",
              "      <td>4</td>\n",
              "      <td>single</td>\n",
              "      <td>5993</td>\n",
              "      <td>19479</td>\n",
              "      <td>8</td>\n",
              "      <td>y</td>\n",
              "      <td>yes</td>\n",
              "      <td>11</td>\n",
              "      <td>3</td>\n",
              "      <td>1</td>\n",
              "      <td>80</td>\n",
              "      <td>0</td>\n",
              "      <td>8</td>\n",
              "      <td>0</td>\n",
              "      <td>1</td>\n",
              "      <td>6</td>\n",
              "      <td>4</td>\n",
              "      <td>0</td>\n",
              "      <td>5</td>\n",
              "    </tr>\n",
              "  </tbody>\n",
              "</table>\n",
              "</div>\n",
              "      <button class=\"colab-df-convert\" onclick=\"convertToInteractive('df-18b7c5a4-1212-4560-a22a-8f8fdb3699fb')\"\n",
              "              title=\"Convert this dataframe to an interactive table.\"\n",
              "              style=\"display:none;\">\n",
              "        \n",
              "  <svg xmlns=\"http://www.w3.org/2000/svg\" height=\"24px\"viewBox=\"0 0 24 24\"\n",
              "       width=\"24px\">\n",
              "    <path d=\"M0 0h24v24H0V0z\" fill=\"none\"/>\n",
              "    <path d=\"M18.56 5.44l.94 2.06.94-2.06 2.06-.94-2.06-.94-.94-2.06-.94 2.06-2.06.94zm-11 1L8.5 8.5l.94-2.06 2.06-.94-2.06-.94L8.5 2.5l-.94 2.06-2.06.94zm10 10l.94 2.06.94-2.06 2.06-.94-2.06-.94-.94-2.06-.94 2.06-2.06.94z\"/><path d=\"M17.41 7.96l-1.37-1.37c-.4-.4-.92-.59-1.43-.59-.52 0-1.04.2-1.43.59L10.3 9.45l-7.72 7.72c-.78.78-.78 2.05 0 2.83L4 21.41c.39.39.9.59 1.41.59.51 0 1.02-.2 1.41-.59l7.78-7.78 2.81-2.81c.8-.78.8-2.07 0-2.86zM5.41 20L4 18.59l7.72-7.72 1.47 1.35L5.41 20z\"/>\n",
              "  </svg>\n",
              "      </button>\n",
              "      \n",
              "  <style>\n",
              "    .colab-df-container {\n",
              "      display:flex;\n",
              "      flex-wrap:wrap;\n",
              "      gap: 12px;\n",
              "    }\n",
              "\n",
              "    .colab-df-convert {\n",
              "      background-color: #E8F0FE;\n",
              "      border: none;\n",
              "      border-radius: 50%;\n",
              "      cursor: pointer;\n",
              "      display: none;\n",
              "      fill: #1967D2;\n",
              "      height: 32px;\n",
              "      padding: 0 0 0 0;\n",
              "      width: 32px;\n",
              "    }\n",
              "\n",
              "    .colab-df-convert:hover {\n",
              "      background-color: #E2EBFA;\n",
              "      box-shadow: 0px 1px 2px rgba(60, 64, 67, 0.3), 0px 1px 3px 1px rgba(60, 64, 67, 0.15);\n",
              "      fill: #174EA6;\n",
              "    }\n",
              "\n",
              "    [theme=dark] .colab-df-convert {\n",
              "      background-color: #3B4455;\n",
              "      fill: #D2E3FC;\n",
              "    }\n",
              "\n",
              "    [theme=dark] .colab-df-convert:hover {\n",
              "      background-color: #434B5C;\n",
              "      box-shadow: 0px 1px 3px 1px rgba(0, 0, 0, 0.15);\n",
              "      filter: drop-shadow(0px 1px 2px rgba(0, 0, 0, 0.3));\n",
              "      fill: #FFFFFF;\n",
              "    }\n",
              "  </style>\n",
              "\n",
              "      <script>\n",
              "        const buttonEl =\n",
              "          document.querySelector('#df-18b7c5a4-1212-4560-a22a-8f8fdb3699fb button.colab-df-convert');\n",
              "        buttonEl.style.display =\n",
              "          google.colab.kernel.accessAllowed ? 'block' : 'none';\n",
              "\n",
              "        async function convertToInteractive(key) {\n",
              "          const element = document.querySelector('#df-18b7c5a4-1212-4560-a22a-8f8fdb3699fb');\n",
              "          const dataTable =\n",
              "            await google.colab.kernel.invokeFunction('convertToInteractive',\n",
              "                                                     [key], {});\n",
              "          if (!dataTable) return;\n",
              "\n",
              "          const docLinkHtml = 'Like what you see? Visit the ' +\n",
              "            '<a target=\"_blank\" href=https://colab.research.google.com/notebooks/data_table.ipynb>data table notebook</a>'\n",
              "            + ' to learn more about interactive tables.';\n",
              "          element.innerHTML = '';\n",
              "          dataTable['output_type'] = 'display_data';\n",
              "          await google.colab.output.renderOutput(dataTable, element);\n",
              "          const docLink = document.createElement('div');\n",
              "          docLink.innerHTML = docLinkHtml;\n",
              "          element.appendChild(docLink);\n",
              "        }\n",
              "      </script>\n",
              "    </div>\n",
              "  </div>\n",
              "  "
            ]
          },
          "metadata": {},
          "execution_count": 9
        }
      ]
    },
    {
      "cell_type": "markdown",
      "source": [
        "# Tukey Method"
      ],
      "metadata": {
        "id": "EpOmRdlvthAN"
      }
    },
    {
      "cell_type": "code",
      "source": [
        "df = df.dropna()"
      ],
      "metadata": {
        "id": "2oN3RY7MkZ-J"
      },
      "execution_count": 10,
      "outputs": []
    },
    {
      "cell_type": "code",
      "source": [
        "df['monthlyincome']"
      ],
      "metadata": {
        "colab": {
          "base_uri": "https://localhost:8080/"
        },
        "id": "KIoJAvvXkkAg",
        "outputId": "80394b71-3294-49bd-aef9-f3da67673657"
      },
      "execution_count": 11,
      "outputs": [
        {
          "output_type": "execute_result",
          "data": {
            "text/plain": [
              "0       5993\n",
              "1       5130\n",
              "2       2090\n",
              "3       2909\n",
              "4       3468\n",
              "        ... \n",
              "1465    2571\n",
              "1466    9991\n",
              "1467    6142\n",
              "1468    5390\n",
              "1469    4404\n",
              "Name: monthlyincome, Length: 1470, dtype: int64"
            ]
          },
          "metadata": {},
          "execution_count": 11
        }
      ]
    },
    {
      "cell_type": "code",
      "source": [
        "# MonthlyIncome has outliers\n",
        "# Will Use Tukey method\n",
        "sns.boxplot(x=df['monthlyincome'])\n",
        "plt.show()"
      ],
      "metadata": {
        "colab": {
          "base_uri": "https://localhost:8080/",
          "height": 279
        },
        "id": "QoRfkRJYkr9k",
        "outputId": "fef4632a-3a69-42b1-b708-19f407786296"
      },
      "execution_count": 13,
      "outputs": [
        {
          "output_type": "display_data",
          "data": {
            "text/plain": [
              "<Figure size 432x288 with 1 Axes>"
            ],
            "image/png": "[encoded data removed]"
          },
          "metadata": {
            "needs_background": "light"
          }
        }
      ]
    },
    {
      "cell_type": "code",
      "source": [
        "sns.distplot(df['monthlyincome'],bins=15,kde=True)\n",
        "plt.show()"
      ],
      "metadata": {
        "colab": {
          "base_uri": "https://localhost:8080/",
          "height": 335
        },
        "id": "zDoDeXZ-k-GX",
        "outputId": "de7a080d-601a-47de-bb4b-dd40fcfc25ca"
      },
      "execution_count": 14,
      "outputs": [
        {
          "output_type": "stream",
          "name": "stderr",
          "text": [
            "/usr/local/lib/python3.9/dist-packages/seaborn/distributions.py:2619: FutureWarning: `distplot` is a deprecated function and will be removed in a future version. Please adapt your code to use either `displot` (a figure-level function with similar flexibility) or `histplot` (an axes-level function for histograms).\n",
            "  warnings.warn(msg, FutureWarning)\n"
          ]
        },
        {
          "output_type": "display_data",
          "data": {
            "text/plain": [
              "<Figure size 432x288 with 1 Axes>"
            ],
            "image/png": "[encoded data removed]"
          },
          "metadata": {
            "needs_background": "light"
          }
        }
      ]
    },
    {
      "cell_type": "code",
      "source": [
        "df[['monthlyincome']].describe()"
      ],
      "metadata": {
        "colab": {
          "base_uri": "https://localhost:8080/",
          "height": 300
        },
        "id": "0B5uy58-lMkG",
        "outputId": "7774d8c8-0489-450c-e164-539a7977bcfc"
      },
      "execution_count": 15,
      "outputs": [
        {
          "output_type": "execute_result",
          "data": {
            "text/plain": [
              "       monthlyincome\n",
              "count    1470.000000\n",
              "mean     6502.931293\n",
              "std      4707.956783\n",
              "min      1009.000000\n",
              "25%      2911.000000\n",
              "50%      4919.000000\n",
              "75%      8379.000000\n",
              "max     19999.000000"
            ],
            "text/html": [
              "\n",
              "  <div id=\"df-e444860d-034d-4141-8e22-11bfdbc79273\">\n",
              "    <div class=\"colab-df-container\">\n",
              "      <div>\n",
              "<style scoped>\n",
              "    .dataframe tbody tr th:only-of-type {\n",
              "        vertical-align: middle;\n",
              "    }\n",
              "\n",
              "    .dataframe tbody tr th {\n",
              "        vertical-align: top;\n",
              "    }\n",
              "\n",
              "    .dataframe thead th {\n",
              "        text-align: right;\n",
              "    }\n",
              "</style>\n",
              "<table border=\"1\" class=\"dataframe\">\n",
              "  <thead>\n",
              "    <tr style=\"text-align: right;\">\n",
              "      <th></th>\n",
              "      <th>monthlyincome</th>\n",
              "    </tr>\n",
              "  </thead>\n",
              "  <tbody>\n",
              "    <tr>\n",
              "      <th>count</th>\n",
              "      <td>1470.000000</td>\n",
              "    </tr>\n",
              "    <tr>\n",
              "      <th>mean</th>\n",
              "      <td>6502.931293</td>\n",
              "    </tr>\n",
              "    <tr>\n",
              "      <th>std</th>\n",
              "      <td>4707.956783</td>\n",
              "    </tr>\n",
              "    <tr>\n",
              "      <th>min</th>\n",
              "      <td>1009.000000</td>\n",
              "    </tr>\n",
              "    <tr>\n",
              "      <th>25%</th>\n",
              "      <td>2911.000000</td>\n",
              "    </tr>\n",
              "    <tr>\n",
              "      <th>50%</th>\n",
              "      <td>4919.000000</td>\n",
              "    </tr>\n",
              "    <tr>\n",
              "      <th>75%</th>\n",
              "      <td>8379.000000</td>\n",
              "    </tr>\n",
              "    <tr>\n",
              "      <th>max</th>\n",
              "      <td>19999.000000</td>\n",
              "    </tr>\n",
              "  </tbody>\n",
              "</table>\n",
              "</div>\n",
              "      <button class=\"colab-df-convert\" onclick=\"convertToInteractive('df-e444860d-034d-4141-8e22-11bfdbc79273')\"\n",
              "              title=\"Convert this dataframe to an interactive table.\"\n",
              "              style=\"display:none;\">\n",
              "        \n",
              "  <svg xmlns=\"http://www.w3.org/2000/svg\" height=\"24px\"viewBox=\"0 0 24 24\"\n",
              "       width=\"24px\">\n",
              "    <path d=\"M0 0h24v24H0V0z\" fill=\"none\"/>\n",
              "    <path d=\"M18.56 5.44l.94 2.06.94-2.06 2.06-.94-2.06-.94-.94-2.06-.94 2.06-2.06.94zm-11 1L8.5 8.5l.94-2.06 2.06-.94-2.06-.94L8.5 2.5l-.94 2.06-2.06.94zm10 10l.94 2.06.94-2.06 2.06-.94-2.06-.94-.94-2.06-.94 2.06-2.06.94z\"/><path d=\"M17.41 7.96l-1.37-1.37c-.4-.4-.92-.59-1.43-.59-.52 0-1.04.2-1.43.59L10.3 9.45l-7.72 7.72c-.78.78-.78 2.05 0 2.83L4 21.41c.39.39.9.59 1.41.59.51 0 1.02-.2 1.41-.59l7.78-7.78 2.81-2.81c.8-.78.8-2.07 0-2.86zM5.41 20L4 18.59l7.72-7.72 1.47 1.35L5.41 20z\"/>\n",
              "  </svg>\n",
              "      </button>\n",
              "      \n",
              "  <style>\n",
              "    .colab-df-container {\n",
              "      display:flex;\n",
              "      flex-wrap:wrap;\n",
              "      gap: 12px;\n",
              "    }\n",
              "\n",
              "    .colab-df-convert {\n",
              "      background-color: #E8F0FE;\n",
              "      border: none;\n",
              "      border-radius: 50%;\n",
              "      cursor: pointer;\n",
              "      display: none;\n",
              "      fill: #1967D2;\n",
              "      height: 32px;\n",
              "      padding: 0 0 0 0;\n",
              "      width: 32px;\n",
              "    }\n",
              "\n",
              "    .colab-df-convert:hover {\n",
              "      background-color: #E2EBFA;\n",
              "      box-shadow: 0px 1px 2px rgba(60, 64, 67, 0.3), 0px 1px 3px 1px rgba(60, 64, 67, 0.15);\n",
              "      fill: #174EA6;\n",
              "    }\n",
              "\n",
              "    [theme=dark] .colab-df-convert {\n",
              "      background-color: #3B4455;\n",
              "      fill: #D2E3FC;\n",
              "    }\n",
              "\n",
              "    [theme=dark] .colab-df-convert:hover {\n",
              "      background-color: #434B5C;\n",
              "      box-shadow: 0px 1px 3px 1px rgba(0, 0, 0, 0.15);\n",
              "      filter: drop-shadow(0px 1px 2px rgba(0, 0, 0, 0.3));\n",
              "      fill: #FFFFFF;\n",
              "    }\n",
              "  </style>\n",
              "\n",
              "      <script>\n",
              "        const buttonEl =\n",
              "          document.querySelector('#df-e444860d-034d-4141-8e22-11bfdbc79273 button.colab-df-convert');\n",
              "        buttonEl.style.display =\n",
              "          google.colab.kernel.accessAllowed ? 'block' : 'none';\n",
              "\n",
              "        async function convertToInteractive(key) {\n",
              "          const element = document.querySelector('#df-e444860d-034d-4141-8e22-11bfdbc79273');\n",
              "          const dataTable =\n",
              "            await google.colab.kernel.invokeFunction('convertToInteractive',\n",
              "                                                     [key], {});\n",
              "          if (!dataTable) return;\n",
              "\n",
              "          const docLinkHtml = 'Like what you see? Visit the ' +\n",
              "            '<a target=\"_blank\" href=https://colab.research.google.com/notebooks/data_table.ipynb>data table notebook</a>'\n",
              "            + ' to learn more about interactive tables.';\n",
              "          element.innerHTML = '';\n",
              "          dataTable['output_type'] = 'display_data';\n",
              "          await google.colab.output.renderOutput(dataTable, element);\n",
              "          const docLink = document.createElement('div');\n",
              "          docLink.innerHTML = docLinkHtml;\n",
              "          element.appendChild(docLink);\n",
              "        }\n",
              "      </script>\n",
              "    </div>\n",
              "  </div>\n",
              "  "
            ]
          },
          "metadata": {},
          "execution_count": 15
        }
      ]
    },
    {
      "cell_type": "code",
      "source": [
        "Q1 = df['monthlyincome'].quantile(0.25)\n",
        "Q1"
      ],
      "metadata": {
        "colab": {
          "base_uri": "https://localhost:8080/"
        },
        "id": "GhjnY8xQnBBN",
        "outputId": "b4f71d13-5bfd-4a13-9771-283dce82f674"
      },
      "execution_count": 17,
      "outputs": [
        {
          "output_type": "execute_result",
          "data": {
            "text/plain": [
              "2911.0"
            ]
          },
          "metadata": {},
          "execution_count": 17
        }
      ]
    },
    {
      "cell_type": "code",
      "source": [
        "Q3 = df['monthlyincome'].quantile(0.75)\n",
        "Q3"
      ],
      "metadata": {
        "colab": {
          "base_uri": "https://localhost:8080/"
        },
        "id": "a849Owg0nG1u",
        "outputId": "5893cc2a-7dab-4b7a-c035-05ea798e1176"
      },
      "execution_count": 18,
      "outputs": [
        {
          "output_type": "execute_result",
          "data": {
            "text/plain": [
              "8379.0"
            ]
          },
          "metadata": {},
          "execution_count": 18
        }
      ]
    },
    {
      "cell_type": "code",
      "source": [
        "IQR = Q3 - Q1\n",
        "IQR"
      ],
      "metadata": {
        "colab": {
          "base_uri": "https://localhost:8080/"
        },
        "id": "v4ITZ8dynNni",
        "outputId": "ec824d9f-0220-4a06-abcc-cfbe0ee1bc09"
      },
      "execution_count": 19,
      "outputs": [
        {
          "output_type": "execute_result",
          "data": {
            "text/plain": [
              "5468.0"
            ]
          },
          "metadata": {},
          "execution_count": 19
        }
      ]
    },
    {
      "cell_type": "code",
      "source": [
        "lower_lim = Q1 - 0.15 * IQR\n",
        "lower_lim"
      ],
      "metadata": {
        "colab": {
          "base_uri": "https://localhost:8080/"
        },
        "id": "sEHGin0JnPRx",
        "outputId": "e9be250c-ed2b-4f2f-edd0-ea98e50af104"
      },
      "execution_count": 52,
      "outputs": [
        {
          "output_type": "execute_result",
          "data": {
            "text/plain": [
              "2090.8"
            ]
          },
          "metadata": {},
          "execution_count": 52
        }
      ]
    },
    {
      "cell_type": "code",
      "source": [
        "upper_lim = Q3 + 0.15 * IQR\n",
        "upper_lim"
      ],
      "metadata": {
        "colab": {
          "base_uri": "https://localhost:8080/"
        },
        "id": "l4xjodfhnWHw",
        "outputId": "726a8cd0-9250-4ac8-f810-dcc4c7b3f099"
      },
      "execution_count": 53,
      "outputs": [
        {
          "output_type": "execute_result",
          "data": {
            "text/plain": [
              "9199.2"
            ]
          },
          "metadata": {},
          "execution_count": 53
        }
      ]
    },
    {
      "cell_type": "code",
      "source": [
        "# Dropping Outliers\n",
        "outlier_15_low = (df['monthlyincome'] < lower_lim)\n",
        "outlier_15_up = (df['monthlyincome'] > upper_lim)"
      ],
      "metadata": {
        "id": "_qVC2aq5ncG0"
      },
      "execution_count": 54,
      "outputs": []
    },
    {
      "cell_type": "code",
      "source": [
        "sum(outlier_15_up)"
      ],
      "metadata": {
        "colab": {
          "base_uri": "https://localhost:8080/"
        },
        "id": "5qNgzEUunlLH",
        "outputId": "42e2783b-1e8a-4a36-a624-1bed712dbdb6"
      },
      "execution_count": 55,
      "outputs": [
        {
          "output_type": "execute_result",
          "data": {
            "text/plain": [
              "216"
            ]
          },
          "metadata": {},
          "execution_count": 55
        }
      ]
    },
    {
      "cell_type": "code",
      "source": [
        "sum(outlier_15_low)"
      ],
      "metadata": {
        "colab": {
          "base_uri": "https://localhost:8080/"
        },
        "id": "A4lP9a0JoIbn",
        "outputId": "370e9201-c10d-47e3-fa28-fc3dd736879a"
      },
      "execution_count": 56,
      "outputs": [
        {
          "output_type": "execute_result",
          "data": {
            "text/plain": [
              "0"
            ]
          },
          "metadata": {},
          "execution_count": 56
        }
      ]
    },
    {
      "cell_type": "code",
      "source": [
        "len(df['monthlyincome'])"
      ],
      "metadata": {
        "colab": {
          "base_uri": "https://localhost:8080/"
        },
        "id": "KcH5RxJ8noZb",
        "outputId": "5d22e3e0-82bf-4fe0-bde6-fe03883f5aba"
      },
      "execution_count": 57,
      "outputs": [
        {
          "output_type": "execute_result",
          "data": {
            "text/plain": [
              "1286"
            ]
          },
          "metadata": {},
          "execution_count": 57
        }
      ]
    },
    {
      "cell_type": "code",
      "source": [
        "n_outliers = sum(outlier_15_up) + sum(outlier_15_low)\n",
        "n_outliers"
      ],
      "metadata": {
        "colab": {
          "base_uri": "https://localhost:8080/"
        },
        "id": "OwQiopChn4sL",
        "outputId": "e26ae1c6-cfdf-4c03-d9a9-86a5268c000f"
      },
      "execution_count": 58,
      "outputs": [
        {
          "output_type": "execute_result",
          "data": {
            "text/plain": [
              "216"
            ]
          },
          "metadata": {},
          "execution_count": 58
        }
      ]
    },
    {
      "cell_type": "code",
      "source": [
        "n_total = len(df['monthlyincome'])\n",
        "print(\"Total: \" + str(n_total))\n",
        "n_outliers = len(df['monthlyincome'][outlier_15_low]) + len(df['monthlyincome'][outlier_15_up])\n",
        "print(\"Outlier Count: \" + str(n_outliers))\n",
        "n_valid = n_total - n_outliers\n",
        "print(\"Total Feature Count After Outliers Removed: \" + str(n_valid))"
      ],
      "metadata": {
        "colab": {
          "base_uri": "https://localhost:8080/"
        },
        "id": "wfNi7MkRonsK",
        "outputId": "1e5698d2-ecb6-47dc-c932-d208fa0fbbc3"
      },
      "execution_count": 59,
      "outputs": [
        {
          "output_type": "stream",
          "name": "stdout",
          "text": [
            "Total: 1286\n",
            "Outlier Count: 216\n",
            "Total Feature Count After Outliers Removed: 1070\n"
          ]
        }
      ]
    },
    {
      "cell_type": "code",
      "source": [
        "df['monthlyincome'][(outlier_15_low | outlier_15_up)]  # example records that are outliers"
      ],
      "metadata": {
        "colab": {
          "base_uri": "https://localhost:8080/"
        },
        "id": "HrwriFdwpGBo",
        "outputId": "147c99e3-0813-4083-bafb-49c62adef60a"
      },
      "execution_count": 60,
      "outputs": [
        {
          "output_type": "execute_result",
          "data": {
            "text/plain": [
              "8        9526\n",
              "15       9980\n",
              "18      15427\n",
              "22      11994\n",
              "28      10248\n",
              "        ...  \n",
              "1445    13570\n",
              "1461    10854\n",
              "1462    12031\n",
              "1463     9936\n",
              "1466     9991\n",
              "Name: monthlyincome, Length: 216, dtype: int64"
            ]
          },
          "metadata": {},
          "execution_count": 60
        }
      ]
    },
    {
      "cell_type": "code",
      "source": [
        "df['monthlyincome'][~(outlier_15_low | outlier_15_up)]  # all of the records that are NOT outliers"
      ],
      "metadata": {
        "colab": {
          "base_uri": "https://localhost:8080/"
        },
        "id": "VKBIvsREpe36",
        "outputId": "0314dc29-c81b-41a4-b386-d9483365bfd5"
      },
      "execution_count": 61,
      "outputs": [
        {
          "output_type": "execute_result",
          "data": {
            "text/plain": [
              "0       5993\n",
              "1       5130\n",
              "3       2909\n",
              "4       3468\n",
              "5       3068\n",
              "        ... \n",
              "1464    2966\n",
              "1465    2571\n",
              "1467    6142\n",
              "1468    5390\n",
              "1469    4404\n",
              "Name: monthlyincome, Length: 1070, dtype: int64"
            ]
          },
          "metadata": {},
          "execution_count": 61
        }
      ]
    },
    {
      "cell_type": "code",
      "source": [
        "df = df[~(outlier_15_low | outlier_15_up)] \n",
        "df.head()"
      ],
      "metadata": {
        "colab": {
          "base_uri": "https://localhost:8080/",
          "height": 270
        },
        "id": "yKjXA1C8pjPh",
        "outputId": "30c65c4d-b74d-4ec8-b820-8be95ea80d73"
      },
      "execution_count": 62,
      "outputs": [
        {
          "output_type": "execute_result",
          "data": {
            "text/plain": [
              "   age attrition     businesstravel  dailyrate             department  \\\n",
              "0   41       yes      travel_rarely       1102                  sales   \n",
              "1   49        no  travel_frequently        279  research__development   \n",
              "3   33        no  travel_frequently       1392  research__development   \n",
              "4   27        no      travel_rarely        591  research__development   \n",
              "5   32        no  travel_frequently       1005  research__development   \n",
              "\n",
              "   distancefromhome  education educationfield  employeecount  employeenumber  \\\n",
              "0                 1          2  life_sciences              1               1   \n",
              "1                 8          1  life_sciences              1               2   \n",
              "3                 3          4  life_sciences              1               5   \n",
              "4                 2          1        medical              1               7   \n",
              "5                 2          2  life_sciences              1               8   \n",
              "\n",
              "   environmentsatisfaction  gender  hourlyrate  jobinvolvement  joblevel  \\\n",
              "0                        2  female          94               3         2   \n",
              "1                        3    male          61               2         2   \n",
              "3                        4  female          56               3         1   \n",
              "4                        1    male          40               3         1   \n",
              "5                        4    male          79               3         1   \n",
              "\n",
              "                 jobrole  jobsatisfaction maritalstatus  monthlyincome  \\\n",
              "0        sales_executive                4        single           5993   \n",
              "1     research_scientist                2       married           5130   \n",
              "3     research_scientist                3       married           2909   \n",
              "4  laboratory_technician                2       married           3468   \n",
              "5  laboratory_technician                4        single           3068   \n",
              "\n",
              "   monthlyrate  numcompaniesworked over18 overtime  percentsalaryhike  \\\n",
              "0        19479                   8      y      yes                 11   \n",
              "1        24907                   1      y       no                 23   \n",
              "3        23159                   1      y      yes                 11   \n",
              "4        16632                   9      y       no                 12   \n",
              "5        11864                   0      y       no                 13   \n",
              "\n",
              "   performancerating  relationshipsatisfaction  standardhours  \\\n",
              "0                  3                         1             80   \n",
              "1                  4                         4             80   \n",
              "3                  3                         3             80   \n",
              "4                  3                         4             80   \n",
              "5                  3                         3             80   \n",
              "\n",
              "   stockoptionlevel  totalworkingyears  trainingtimeslastyear  \\\n",
              "0                 0                  8                      0   \n",
              "1                 1                 10                      3   \n",
              "3                 0                  8                      3   \n",
              "4                 1                  6                      3   \n",
              "5                 0                  8                      2   \n",
              "\n",
              "   worklifebalance  yearsatcompany  yearsincurrentrole  \\\n",
              "0                1               6                   4   \n",
              "1                3              10                   7   \n",
              "3                3               8                   7   \n",
              "4                3               2                   2   \n",
              "5                2               7                   7   \n",
              "\n",
              "   yearssincelastpromotion  yearswithcurrmanager  \n",
              "0                        0                     5  \n",
              "1                        1                     7  \n",
              "3                        3                     0  \n",
              "4                        2                     2  \n",
              "5                        3                     6  "
            ],
            "text/html": [
              "\n",
              "  <div id=\"df-1cb6b673-a9ec-4eca-8db7-f5d7d57976c3\">\n",
              "    <div class=\"colab-df-container\">\n",
              "      <div>\n",
              "<style scoped>\n",
              "    .dataframe tbody tr th:only-of-type {\n",
              "        vertical-align: middle;\n",
              "    }\n",
              "\n",
              "    .dataframe tbody tr th {\n",
              "        vertical-align: top;\n",
              "    }\n",
              "\n",
              "    .dataframe thead th {\n",
              "        text-align: right;\n",
              "    }\n",
              "</style>\n",
              "<table border=\"1\" class=\"dataframe\">\n",
              "  <thead>\n",
              "    <tr style=\"text-align: right;\">\n",
              "      <th></th>\n",
              "      <th>age</th>\n",
              "      <th>attrition</th>\n",
              "      <th>businesstravel</th>\n",
              "      <th>dailyrate</th>\n",
              "      <th>department</th>\n",
              "      <th>distancefromhome</th>\n",
              "      <th>education</th>\n",
              "      <th>educationfield</th>\n",
              "      <th>employeecount</th>\n",
              "      <th>employeenumber</th>\n",
              "      <th>environmentsatisfaction</th>\n",
              "      <th>gender</th>\n",
              "      <th>hourlyrate</th>\n",
              "      <th>jobinvolvement</th>\n",
              "      <th>joblevel</th>\n",
              "      <th>jobrole</th>\n",
              "      <th>jobsatisfaction</th>\n",
              "      <th>maritalstatus</th>\n",
              "      <th>monthlyincome</th>\n",
              "      <th>monthlyrate</th>\n",
              "      <th>numcompaniesworked</th>\n",
              "      <th>over18</th>\n",
              "      <th>overtime</th>\n",
              "      <th>percentsalaryhike</th>\n",
              "      <th>performancerating</th>\n",
              "      <th>relationshipsatisfaction</th>\n",
              "      <th>standardhours</th>\n",
              "      <th>stockoptionlevel</th>\n",
              "      <th>totalworkingyears</th>\n",
              "      <th>trainingtimeslastyear</th>\n",
              "      <th>worklifebalance</th>\n",
              "      <th>yearsatcompany</th>\n",
              "      <th>yearsincurrentrole</th>\n",
              "      <th>yearssincelastpromotion</th>\n",
              "      <th>yearswithcurrmanager</th>\n",
              "    </tr>\n",
              "  </thead>\n",
              "  <tbody>\n",
              "    <tr>\n",
              "      <th>0</th>\n",
              "      <td>41</td>\n",
              "      <td>yes</td>\n",
              "      <td>travel_rarely</td>\n",
              "      <td>1102</td>\n",
              "      <td>sales</td>\n",
              "      <td>1</td>\n",
              "      <td>2</td>\n",
              "      <td>life_sciences</td>\n",
              "      <td>1</td>\n",
              "      <td>1</td>\n",
              "      <td>2</td>\n",
              "      <td>female</td>\n",
              "      <td>94</td>\n",
              "      <td>3</td>\n",
              "      <td>2</td>\n",
              "      <td>sales_executive</td>\n",
              "      <td>4</td>\n",
              "      <td>single</td>\n",
              "      <td>5993</td>\n",
              "      <td>19479</td>\n",
              "      <td>8</td>\n",
              "      <td>y</td>\n",
              "      <td>yes</td>\n",
              "      <td>11</td>\n",
              "      <td>3</td>\n",
              "      <td>1</td>\n",
              "      <td>80</td>\n",
              "      <td>0</td>\n",
              "      <td>8</td>\n",
              "      <td>0</td>\n",
              "      <td>1</td>\n",
              "      <td>6</td>\n",
              "      <td>4</td>\n",
              "      <td>0</td>\n",
              "      <td>5</td>\n",
              "    </tr>\n",
              "    <tr>\n",
              "      <th>1</th>\n",
              "      <td>49</td>\n",
              "      <td>no</td>\n",
              "      <td>travel_frequently</td>\n",
              "      <td>279</td>\n",
              "      <td>research__development</td>\n",
              "      <td>8</td>\n",
              "      <td>1</td>\n",
              "      <td>life_sciences</td>\n",
              "      <td>1</td>\n",
              "      <td>2</td>\n",
              "      <td>3</td>\n",
              "      <td>male</td>\n",
              "      <td>61</td>\n",
              "      <td>2</td>\n",
              "      <td>2</td>\n",
              "      <td>research_scientist</td>\n",
              "      <td>2</td>\n",
              "      <td>married</td>\n",
              "      <td>5130</td>\n",
              "      <td>24907</td>\n",
              "      <td>1</td>\n",
              "      <td>y</td>\n",
              "      <td>no</td>\n",
              "      <td>23</td>\n",
              "      <td>4</td>\n",
              "      <td>4</td>\n",
              "      <td>80</td>\n",
              "      <td>1</td>\n",
              "      <td>10</td>\n",
              "      <td>3</td>\n",
              "      <td>3</td>\n",
              "      <td>10</td>\n",
              "      <td>7</td>\n",
              "      <td>1</td>\n",
              "      <td>7</td>\n",
              "    </tr>\n",
              "    <tr>\n",
              "      <th>3</th>\n",
              "      <td>33</td>\n",
              "      <td>no</td>\n",
              "      <td>travel_frequently</td>\n",
              "      <td>1392</td>\n",
              "      <td>research__development</td>\n",
              "      <td>3</td>\n",
              "      <td>4</td>\n",
              "      <td>life_sciences</td>\n",
              "      <td>1</td>\n",
              "      <td>5</td>\n",
              "      <td>4</td>\n",
              "      <td>female</td>\n",
              "      <td>56</td>\n",
              "      <td>3</td>\n",
              "      <td>1</td>\n",
              "      <td>research_scientist</td>\n",
              "      <td>3</td>\n",
              "      <td>married</td>\n",
              "      <td>2909</td>\n",
              "      <td>23159</td>\n",
              "      <td>1</td>\n",
              "      <td>y</td>\n",
              "      <td>yes</td>\n",
              "      <td>11</td>\n",
              "      <td>3</td>\n",
              "      <td>3</td>\n",
              "      <td>80</td>\n",
              "      <td>0</td>\n",
              "      <td>8</td>\n",
              "      <td>3</td>\n",
              "      <td>3</td>\n",
              "      <td>8</td>\n",
              "      <td>7</td>\n",
              "      <td>3</td>\n",
              "      <td>0</td>\n",
              "    </tr>\n",
              "    <tr>\n",
              "      <th>4</th>\n",
              "      <td>27</td>\n",
              "      <td>no</td>\n",
              "      <td>travel_rarely</td>\n",
              "      <td>591</td>\n",
              "      <td>research__development</td>\n",
              "      <td>2</td>\n",
              "      <td>1</td>\n",
              "      <td>medical</td>\n",
              "      <td>1</td>\n",
              "      <td>7</td>\n",
              "      <td>1</td>\n",
              "      <td>male</td>\n",
              "      <td>40</td>\n",
              "      <td>3</td>\n",
              "      <td>1</td>\n",
              "      <td>laboratory_technician</td>\n",
              "      <td>2</td>\n",
              "      <td>married</td>\n",
              "      <td>3468</td>\n",
              "      <td>16632</td>\n",
              "      <td>9</td>\n",
              "      <td>y</td>\n",
              "      <td>no</td>\n",
              "      <td>12</td>\n",
              "      <td>3</td>\n",
              "      <td>4</td>\n",
              "      <td>80</td>\n",
              "      <td>1</td>\n",
              "      <td>6</td>\n",
              "      <td>3</td>\n",
              "      <td>3</td>\n",
              "      <td>2</td>\n",
              "      <td>2</td>\n",
              "      <td>2</td>\n",
              "      <td>2</td>\n",
              "    </tr>\n",
              "    <tr>\n",
              "      <th>5</th>\n",
              "      <td>32</td>\n",
              "      <td>no</td>\n",
              "      <td>travel_frequently</td>\n",
              "      <td>1005</td>\n",
              "      <td>research__development</td>\n",
              "      <td>2</td>\n",
              "      <td>2</td>\n",
              "      <td>life_sciences</td>\n",
              "      <td>1</td>\n",
              "      <td>8</td>\n",
              "      <td>4</td>\n",
              "      <td>male</td>\n",
              "      <td>79</td>\n",
              "      <td>3</td>\n",
              "      <td>1</td>\n",
              "      <td>laboratory_technician</td>\n",
              "      <td>4</td>\n",
              "      <td>single</td>\n",
              "      <td>3068</td>\n",
              "      <td>11864</td>\n",
              "      <td>0</td>\n",
              "      <td>y</td>\n",
              "      <td>no</td>\n",
              "      <td>13</td>\n",
              "      <td>3</td>\n",
              "      <td>3</td>\n",
              "      <td>80</td>\n",
              "      <td>0</td>\n",
              "      <td>8</td>\n",
              "      <td>2</td>\n",
              "      <td>2</td>\n",
              "      <td>7</td>\n",
              "      <td>7</td>\n",
              "      <td>3</td>\n",
              "      <td>6</td>\n",
              "    </tr>\n",
              "  </tbody>\n",
              "</table>\n",
              "</div>\n",
              "      <button class=\"colab-df-convert\" onclick=\"convertToInteractive('df-1cb6b673-a9ec-4eca-8db7-f5d7d57976c3')\"\n",
              "              title=\"Convert this dataframe to an interactive table.\"\n",
              "              style=\"display:none;\">\n",
              "        \n",
              "  <svg xmlns=\"http://www.w3.org/2000/svg\" height=\"24px\"viewBox=\"0 0 24 24\"\n",
              "       width=\"24px\">\n",
              "    <path d=\"M0 0h24v24H0V0z\" fill=\"none\"/>\n",
              "    <path d=\"M18.56 5.44l.94 2.06.94-2.06 2.06-.94-2.06-.94-.94-2.06-.94 2.06-2.06.94zm-11 1L8.5 8.5l.94-2.06 2.06-.94-2.06-.94L8.5 2.5l-.94 2.06-2.06.94zm10 10l.94 2.06.94-2.06 2.06-.94-2.06-.94-.94-2.06-.94 2.06-2.06.94z\"/><path d=\"M17.41 7.96l-1.37-1.37c-.4-.4-.92-.59-1.43-.59-.52 0-1.04.2-1.43.59L10.3 9.45l-7.72 7.72c-.78.78-.78 2.05 0 2.83L4 21.41c.39.39.9.59 1.41.59.51 0 1.02-.2 1.41-.59l7.78-7.78 2.81-2.81c.8-.78.8-2.07 0-2.86zM5.41 20L4 18.59l7.72-7.72 1.47 1.35L5.41 20z\"/>\n",
              "  </svg>\n",
              "      </button>\n",
              "      \n",
              "  <style>\n",
              "    .colab-df-container {\n",
              "      display:flex;\n",
              "      flex-wrap:wrap;\n",
              "      gap: 12px;\n",
              "    }\n",
              "\n",
              "    .colab-df-convert {\n",
              "      background-color: #E8F0FE;\n",
              "      border: none;\n",
              "      border-radius: 50%;\n",
              "      cursor: pointer;\n",
              "      display: none;\n",
              "      fill: #1967D2;\n",
              "      height: 32px;\n",
              "      padding: 0 0 0 0;\n",
              "      width: 32px;\n",
              "    }\n",
              "\n",
              "    .colab-df-convert:hover {\n",
              "      background-color: #E2EBFA;\n",
              "      box-shadow: 0px 1px 2px rgba(60, 64, 67, 0.3), 0px 1px 3px 1px rgba(60, 64, 67, 0.15);\n",
              "      fill: #174EA6;\n",
              "    }\n",
              "\n",
              "    [theme=dark] .colab-df-convert {\n",
              "      background-color: #3B4455;\n",
              "      fill: #D2E3FC;\n",
              "    }\n",
              "\n",
              "    [theme=dark] .colab-df-convert:hover {\n",
              "      background-color: #434B5C;\n",
              "      box-shadow: 0px 1px 3px 1px rgba(0, 0, 0, 0.15);\n",
              "      filter: drop-shadow(0px 1px 2px rgba(0, 0, 0, 0.3));\n",
              "      fill: #FFFFFF;\n",
              "    }\n",
              "  </style>\n",
              "\n",
              "      <script>\n",
              "        const buttonEl =\n",
              "          document.querySelector('#df-1cb6b673-a9ec-4eca-8db7-f5d7d57976c3 button.colab-df-convert');\n",
              "        buttonEl.style.display =\n",
              "          google.colab.kernel.accessAllowed ? 'block' : 'none';\n",
              "\n",
              "        async function convertToInteractive(key) {\n",
              "          const element = document.querySelector('#df-1cb6b673-a9ec-4eca-8db7-f5d7d57976c3');\n",
              "          const dataTable =\n",
              "            await google.colab.kernel.invokeFunction('convertToInteractive',\n",
              "                                                     [key], {});\n",
              "          if (!dataTable) return;\n",
              "\n",
              "          const docLinkHtml = 'Like what you see? Visit the ' +\n",
              "            '<a target=\"_blank\" href=https://colab.research.google.com/notebooks/data_table.ipynb>data table notebook</a>'\n",
              "            + ' to learn more about interactive tables.';\n",
              "          element.innerHTML = '';\n",
              "          dataTable['output_type'] = 'display_data';\n",
              "          await google.colab.output.renderOutput(dataTable, element);\n",
              "          const docLink = document.createElement('div');\n",
              "          docLink.innerHTML = docLinkHtml;\n",
              "          element.appendChild(docLink);\n",
              "        }\n",
              "      </script>\n",
              "    </div>\n",
              "  </div>\n",
              "  "
            ]
          },
          "metadata": {},
          "execution_count": 62
        }
      ]
    },
    {
      "cell_type": "code",
      "source": [
        "df.to_csv('IBM_AttritionDF_no_outliers.csv')"
      ],
      "metadata": {
        "id": "pdbleQfYptKp"
      },
      "execution_count": 63,
      "outputs": []
    },
    {
      "cell_type": "code",
      "source": [
        "outliers = df['monthlyincome'][(outlier_15_low | outlier_15_up)]\n",
        "valid_data = df['monthlyincome'][~(outlier_15_low | outlier_15_up)]\n",
        "\n",
        "sns.distplot(outliers, label='Outliers')\n",
        "sns.distplot(valid_data, label='Valid Data')"
      ],
      "metadata": {
        "colab": {
          "base_uri": "https://localhost:8080/",
          "height": 460
        },
        "id": "RGSu8nC5pzKQ",
        "outputId": "0a1ba114-d490-4456-b08c-e15b2f0f8802"
      },
      "execution_count": 64,
      "outputs": [
        {
          "output_type": "stream",
          "name": "stderr",
          "text": [
            "/usr/local/lib/python3.9/dist-packages/seaborn/distributions.py:2619: FutureWarning: `distplot` is a deprecated function and will be removed in a future version. Please adapt your code to use either `displot` (a figure-level function with similar flexibility) or `histplot` (an axes-level function for histograms).\n",
            "  warnings.warn(msg, FutureWarning)\n",
            "/usr/local/lib/python3.9/dist-packages/seaborn/distributions.py:2657: RuntimeWarning: Mean of empty slice.\n",
            "  line, = ax.plot(a.mean(), 0)\n",
            "/usr/local/lib/python3.9/dist-packages/numpy/core/_methods.py:189: RuntimeWarning: invalid value encountered in double_scalars\n",
            "  ret = ret.dtype.type(ret / rcount)\n",
            "/usr/local/lib/python3.9/dist-packages/numpy/lib/histograms.py:906: RuntimeWarning: invalid value encountered in true_divide\n",
            "  return n/db/n.sum(), bin_edges\n"
          ]
        },
        {
          "output_type": "execute_result",
          "data": {
            "text/plain": [
              "<AxesSubplot:xlabel='monthlyincome', ylabel='Density'>"
            ]
          },
          "metadata": {},
          "execution_count": 64
        },
        {
          "output_type": "display_data",
          "data": {
            "text/plain": [
              "<Figure size 432x288 with 1 Axes>"
            ],
            "image/png": "[encoded data removed]"
          },
          "metadata": {
            "needs_background": "light"
          }
        }
      ]
    },
    {
      "cell_type": "code",
      "source": [
        "sns.boxplot(x = df['monthlyincome'])\n",
        "plt.show()"
      ],
      "metadata": {
        "colab": {
          "base_uri": "https://localhost:8080/",
          "height": 279
        },
        "id": "v_8t21RdqJFa",
        "outputId": "31798111-3e73-4c2e-abc4-36ab6fe4cef9"
      },
      "execution_count": 65,
      "outputs": [
        {
          "output_type": "display_data",
          "data": {
            "text/plain": [
              "<Figure size 432x288 with 1 Axes>"
            ],
            "image/png": "[encoded data removed]"
          },
          "metadata": {
            "needs_background": "light"
          }
        }
      ]
    },
    {
      "cell_type": "code",
      "source": [
        "sns.distplot(df['table'],bins=10,kde=False)\n",
        "plt.show()"
      ],
      "metadata": {
        "colab": {
          "base_uri": "https://localhost:8080/",
          "height": 334
        },
        "id": "Rpty60x_qNqT",
        "outputId": "0f11e396-fe77-4250-d6a6-a0f9d8db3dc4"
      },
      "execution_count": null,
      "outputs": [
        {
          "output_type": "stream",
          "name": "stderr",
          "text": [
            "/usr/local/lib/python3.9/dist-packages/seaborn/distributions.py:2619: FutureWarning: `distplot` is a deprecated function and will be removed in a future version. Please adapt your code to use either `displot` (a figure-level function with similar flexibility) or `histplot` (an axes-level function for histograms).\n",
            "  warnings.warn(msg, FutureWarning)\n"
          ]
        },
        {
          "output_type": "display_data",
          "data": {
            "text/plain": [
              "<Figure size 432x288 with 1 Axes>"
            ],
            "image/png": "[encoded data removed]"
          },
          "metadata": {
            "needs_background": "light"
          }
        }
      ]
    },
    {
      "cell_type": "markdown",
      "source": [
        "# Winsorize Method"
      ],
      "metadata": {
        "id": "6aXTm8L1q5ZT"
      }
    },
    {
      "cell_type": "code",
      "source": [
        "df = sns.load_dataset (\"diamonds\")\n",
        "sns.boxplot(x = df['table'])\n",
        "plt.show()"
      ],
      "metadata": {
        "colab": {
          "base_uri": "https://localhost:8080/",
          "height": 279
        },
        "id": "Zmj6UoRIrWDr",
        "outputId": "20f55760-7fa2-435a-8d30-9c3dbe676b96"
      },
      "execution_count": null,
      "outputs": [
        {
          "output_type": "display_data",
          "data": {
            "text/plain": [
              "<Figure size 432x288 with 1 Axes>"
            ],
            "image/png": "[encoded data removed]"
          },
          "metadata": {
            "needs_background": "light"
          }
        }
      ]
    },
    {
      "cell_type": "code",
      "source": [
        "from scipy.stats.mstats import winsorize\n"
      ],
      "metadata": {
        "id": "b08X11U7uXV8"
      },
      "execution_count": null,
      "outputs": []
    },
    {
      "cell_type": "code",
      "source": [
        "df['table'].quantile(0.01)"
      ],
      "metadata": {
        "colab": {
          "base_uri": "https://localhost:8080/"
        },
        "id": "HlTPH6J4ubm7",
        "outputId": "38fe81b3-8d40-4f1c-ed62-751b6de2e864"
      },
      "execution_count": null,
      "outputs": [
        {
          "output_type": "execute_result",
          "data": {
            "text/plain": [
              "53.0"
            ]
          },
          "metadata": {},
          "execution_count": 40
        }
      ]
    },
    {
      "cell_type": "code",
      "source": [
        "df['table'].quantile(0.98)"
      ],
      "metadata": {
        "colab": {
          "base_uri": "https://localhost:8080/"
        },
        "id": "B8hF3Q5_udSj",
        "outputId": "3a491007-fc05-430e-a99f-ea0de77d2c92"
      },
      "execution_count": null,
      "outputs": [
        {
          "output_type": "execute_result",
          "data": {
            "text/plain": [
              "63.0"
            ]
          },
          "metadata": {},
          "execution_count": 41
        }
      ]
    },
    {
      "cell_type": "code",
      "source": [
        "# how do we treat outliers with the winsorization method\n",
        "df_table_win = winsorize(df['table'],(0.01,0.02))  # lower boundary 1% - upper boundary 1-0.02 or 98th percentile or higher"
      ],
      "metadata": {
        "id": "DFLPqMz8uzJ2"
      },
      "execution_count": null,
      "outputs": []
    },
    {
      "cell_type": "code",
      "source": [
        "df_table_win"
      ],
      "metadata": {
        "colab": {
          "base_uri": "https://localhost:8080/"
        },
        "id": "zfKFhiB5u7bj",
        "outputId": "fa89fb62-8487-4da1-9a8e-f2d5c21d2a85"
      },
      "execution_count": null,
      "outputs": [
        {
          "output_type": "execute_result",
          "data": {
            "text/plain": [
              "masked_array(data=[55., 61., 63., ..., 60., 58., 55.],\n",
              "             mask=False,\n",
              "       fill_value=1e+20)"
            ]
          },
          "metadata": {},
          "execution_count": 43
        }
      ]
    },
    {
      "cell_type": "code",
      "source": [
        "sns.boxplot(x=df_table_win)"
      ],
      "metadata": {
        "colab": {
          "base_uri": "https://localhost:8080/",
          "height": 282
        },
        "id": "hbUqUkgVu9b6",
        "outputId": "31ddf70d-5a41-4298-b210-541ec481bc58"
      },
      "execution_count": null,
      "outputs": [
        {
          "output_type": "execute_result",
          "data": {
            "text/plain": [
              "<AxesSubplot:>"
            ]
          },
          "metadata": {},
          "execution_count": 44
        },
        {
          "output_type": "display_data",
          "data": {
            "text/plain": [
              "<Figure size 432x288 with 1 Axes>"
            ],
            "image/png": "[encoded data removed]"
          },
          "metadata": {
            "needs_background": "light"
          }
        }
      ]
    },
    {
      "cell_type": "code",
      "source": [
        "sns.distplot(df_table_win,bins=10,kde=True)"
      ],
      "metadata": {
        "colab": {
          "base_uri": "https://localhost:8080/",
          "height": 337
        },
        "id": "KAmv_szCvEJO",
        "outputId": "178452a2-1f2a-4bd2-d874-fee127efeb95"
      },
      "execution_count": null,
      "outputs": [
        {
          "output_type": "stream",
          "name": "stderr",
          "text": [
            "/usr/local/lib/python3.9/dist-packages/seaborn/distributions.py:2619: FutureWarning: `distplot` is a deprecated function and will be removed in a future version. Please adapt your code to use either `displot` (a figure-level function with similar flexibility) or `histplot` (an axes-level function for histograms).\n",
            "  warnings.warn(msg, FutureWarning)\n"
          ]
        },
        {
          "output_type": "execute_result",
          "data": {
            "text/plain": [
              "<AxesSubplot:ylabel='Density'>"
            ]
          },
          "metadata": {},
          "execution_count": 45
        },
        {
          "output_type": "display_data",
          "data": {
            "text/plain": [
              "<Figure size 432x288 with 1 Axes>"
            ],
            "image/png": "[encoded data removed]"
          },
          "metadata": {
            "needs_background": "light"
          }
        }
      ]
    },
    {
      "cell_type": "code",
      "source": [
        "df_table_win = pd.DataFrame(df_table_win)[0]\n",
        "df_table_win.describe()"
      ],
      "metadata": {
        "colab": {
          "base_uri": "https://localhost:8080/"
        },
        "id": "Ksx8MXh2vITk",
        "outputId": "09647f5e-4674-4c19-cba0-0ba37f12b54c"
      },
      "execution_count": null,
      "outputs": [
        {
          "output_type": "execute_result",
          "data": {
            "text/plain": [
              "count    53940.000000\n",
              "mean        57.434607\n",
              "std          2.142774\n",
              "min         53.000000\n",
              "25%         56.000000\n",
              "50%         57.000000\n",
              "75%         59.000000\n",
              "max         63.000000\n",
              "Name: 0, dtype: float64"
            ]
          },
          "metadata": {},
          "execution_count": 46
        }
      ]
    },
    {
      "cell_type": "code",
      "source": [],
      "metadata": {
        "id": "UKHkA5LDy1X8"
      },
      "execution_count": null,
      "outputs": []
    },
    {
      "cell_type": "markdown",
      "source": [
        "# Log Transformations"
      ],
      "metadata": {
        "id": "lpdISuoBy2N9"
      }
    },
    {
      "cell_type": "code",
      "source": [
        "df = sns.load_dataset (\"diamonds\")\n",
        "df.head()"
      ],
      "metadata": {
        "colab": {
          "base_uri": "https://localhost:8080/",
          "height": 206
        },
        "id": "p45UZY-0y5rX",
        "outputId": "689d523a-8ccd-4f1f-cbed-c1d427962eac"
      },
      "execution_count": null,
      "outputs": [
        {
          "output_type": "execute_result",
          "data": {
            "text/plain": [
              "   carat      cut color clarity  depth  table  price     x     y     z\n",
              "0   0.23    Ideal     E     SI2   61.5   55.0    326  3.95  3.98  2.43\n",
              "1   0.21  Premium     E     SI1   59.8   61.0    326  3.89  3.84  2.31\n",
              "2   0.23     Good     E     VS1   56.9   65.0    327  4.05  4.07  2.31\n",
              "3   0.29  Premium     I     VS2   62.4   58.0    334  4.20  4.23  2.63\n",
              "4   0.31     Good     J     SI2   63.3   58.0    335  4.34  4.35  2.75"
            ],
            "text/html": [
              "\n",
              "  <div id=\"df-2aa990f0-b933-4762-8062-65cca208d53a\">\n",
              "    <div class=\"colab-df-container\">\n",
              "      <div>\n",
              "<style scoped>\n",
              "    .dataframe tbody tr th:only-of-type {\n",
              "        vertical-align: middle;\n",
              "    }\n",
              "\n",
              "    .dataframe tbody tr th {\n",
              "        vertical-align: top;\n",
              "    }\n",
              "\n",
              "    .dataframe thead th {\n",
              "        text-align: right;\n",
              "    }\n",
              "</style>\n",
              "<table border=\"1\" class=\"dataframe\">\n",
              "  <thead>\n",
              "    <tr style=\"text-align: right;\">\n",
              "      <th></th>\n",
              "      <th>carat</th>\n",
              "      <th>cut</th>\n",
              "      <th>color</th>\n",
              "      <th>clarity</th>\n",
              "      <th>depth</th>\n",
              "      <th>table</th>\n",
              "      <th>price</th>\n",
              "      <th>x</th>\n",
              "      <th>y</th>\n",
              "      <th>z</th>\n",
              "    </tr>\n",
              "  </thead>\n",
              "  <tbody>\n",
              "    <tr>\n",
              "      <th>0</th>\n",
              "      <td>0.23</td>\n",
              "      <td>Ideal</td>\n",
              "      <td>E</td>\n",
              "      <td>SI2</td>\n",
              "      <td>61.5</td>\n",
              "      <td>55.0</td>\n",
              "      <td>326</td>\n",
              "      <td>3.95</td>\n",
              "      <td>3.98</td>\n",
              "      <td>2.43</td>\n",
              "    </tr>\n",
              "    <tr>\n",
              "      <th>1</th>\n",
              "      <td>0.21</td>\n",
              "      <td>Premium</td>\n",
              "      <td>E</td>\n",
              "      <td>SI1</td>\n",
              "      <td>59.8</td>\n",
              "      <td>61.0</td>\n",
              "      <td>326</td>\n",
              "      <td>3.89</td>\n",
              "      <td>3.84</td>\n",
              "      <td>2.31</td>\n",
              "    </tr>\n",
              "    <tr>\n",
              "      <th>2</th>\n",
              "      <td>0.23</td>\n",
              "      <td>Good</td>\n",
              "      <td>E</td>\n",
              "      <td>VS1</td>\n",
              "      <td>56.9</td>\n",
              "      <td>65.0</td>\n",
              "      <td>327</td>\n",
              "      <td>4.05</td>\n",
              "      <td>4.07</td>\n",
              "      <td>2.31</td>\n",
              "    </tr>\n",
              "    <tr>\n",
              "      <th>3</th>\n",
              "      <td>0.29</td>\n",
              "      <td>Premium</td>\n",
              "      <td>I</td>\n",
              "      <td>VS2</td>\n",
              "      <td>62.4</td>\n",
              "      <td>58.0</td>\n",
              "      <td>334</td>\n",
              "      <td>4.20</td>\n",
              "      <td>4.23</td>\n",
              "      <td>2.63</td>\n",
              "    </tr>\n",
              "    <tr>\n",
              "      <th>4</th>\n",
              "      <td>0.31</td>\n",
              "      <td>Good</td>\n",
              "      <td>J</td>\n",
              "      <td>SI2</td>\n",
              "      <td>63.3</td>\n",
              "      <td>58.0</td>\n",
              "      <td>335</td>\n",
              "      <td>4.34</td>\n",
              "      <td>4.35</td>\n",
              "      <td>2.75</td>\n",
              "    </tr>\n",
              "  </tbody>\n",
              "</table>\n",
              "</div>\n",
              "      <button class=\"colab-df-convert\" onclick=\"convertToInteractive('df-2aa990f0-b933-4762-8062-65cca208d53a')\"\n",
              "              title=\"Convert this dataframe to an interactive table.\"\n",
              "              style=\"display:none;\">\n",
              "        \n",
              "  <svg xmlns=\"http://www.w3.org/2000/svg\" height=\"24px\"viewBox=\"0 0 24 24\"\n",
              "       width=\"24px\">\n",
              "    <path d=\"M0 0h24v24H0V0z\" fill=\"none\"/>\n",
              "    <path d=\"M18.56 5.44l.94 2.06.94-2.06 2.06-.94-2.06-.94-.94-2.06-.94 2.06-2.06.94zm-11 1L8.5 8.5l.94-2.06 2.06-.94-2.06-.94L8.5 2.5l-.94 2.06-2.06.94zm10 10l.94 2.06.94-2.06 2.06-.94-2.06-.94-.94-2.06-.94 2.06-2.06.94z\"/><path d=\"M17.41 7.96l-1.37-1.37c-.4-.4-.92-.59-1.43-.59-.52 0-1.04.2-1.43.59L10.3 9.45l-7.72 7.72c-.78.78-.78 2.05 0 2.83L4 21.41c.39.39.9.59 1.41.59.51 0 1.02-.2 1.41-.59l7.78-7.78 2.81-2.81c.8-.78.8-2.07 0-2.86zM5.41 20L4 18.59l7.72-7.72 1.47 1.35L5.41 20z\"/>\n",
              "  </svg>\n",
              "      </button>\n",
              "      \n",
              "  <style>\n",
              "    .colab-df-container {\n",
              "      display:flex;\n",
              "      flex-wrap:wrap;\n",
              "      gap: 12px;\n",
              "    }\n",
              "\n",
              "    .colab-df-convert {\n",
              "      background-color: #E8F0FE;\n",
              "      border: none;\n",
              "      border-radius: 50%;\n",
              "      cursor: pointer;\n",
              "      display: none;\n",
              "      fill: #1967D2;\n",
              "      height: 32px;\n",
              "      padding: 0 0 0 0;\n",
              "      width: 32px;\n",
              "    }\n",
              "\n",
              "    .colab-df-convert:hover {\n",
              "      background-color: #E2EBFA;\n",
              "      box-shadow: 0px 1px 2px rgba(60, 64, 67, 0.3), 0px 1px 3px 1px rgba(60, 64, 67, 0.15);\n",
              "      fill: #174EA6;\n",
              "    }\n",
              "\n",
              "    [theme=dark] .colab-df-convert {\n",
              "      background-color: #3B4455;\n",
              "      fill: #D2E3FC;\n",
              "    }\n",
              "\n",
              "    [theme=dark] .colab-df-convert:hover {\n",
              "      background-color: #434B5C;\n",
              "      box-shadow: 0px 1px 3px 1px rgba(0, 0, 0, 0.15);\n",
              "      filter: drop-shadow(0px 1px 2px rgba(0, 0, 0, 0.3));\n",
              "      fill: #FFFFFF;\n",
              "    }\n",
              "  </style>\n",
              "\n",
              "      <script>\n",
              "        const buttonEl =\n",
              "          document.querySelector('#df-2aa990f0-b933-4762-8062-65cca208d53a button.colab-df-convert');\n",
              "        buttonEl.style.display =\n",
              "          google.colab.kernel.accessAllowed ? 'block' : 'none';\n",
              "\n",
              "        async function convertToInteractive(key) {\n",
              "          const element = document.querySelector('#df-2aa990f0-b933-4762-8062-65cca208d53a');\n",
              "          const dataTable =\n",
              "            await google.colab.kernel.invokeFunction('convertToInteractive',\n",
              "                                                     [key], {});\n",
              "          if (!dataTable) return;\n",
              "\n",
              "          const docLinkHtml = 'Like what you see? Visit the ' +\n",
              "            '<a target=\"_blank\" href=https://colab.research.google.com/notebooks/data_table.ipynb>data table notebook</a>'\n",
              "            + ' to learn more about interactive tables.';\n",
              "          element.innerHTML = '';\n",
              "          dataTable['output_type'] = 'display_data';\n",
              "          await google.colab.output.renderOutput(dataTable, element);\n",
              "          const docLink = document.createElement('div');\n",
              "          docLink.innerHTML = docLinkHtml;\n",
              "          element.appendChild(docLink);\n",
              "        }\n",
              "      </script>\n",
              "    </div>\n",
              "  </div>\n",
              "  "
            ]
          },
          "metadata": {},
          "execution_count": 47
        }
      ]
    },
    {
      "cell_type": "code",
      "source": [
        "df['carat'].head()\n",
        "sns.boxplot(x=df['carat'])"
      ],
      "metadata": {
        "colab": {
          "base_uri": "https://localhost:8080/",
          "height": 296
        },
        "id": "-nNNMrRXzQM2",
        "outputId": "01335439-53b9-4e0d-fafd-743a005a5e30"
      },
      "execution_count": null,
      "outputs": [
        {
          "output_type": "execute_result",
          "data": {
            "text/plain": [
              "<AxesSubplot:xlabel='carat'>"
            ]
          },
          "metadata": {},
          "execution_count": 49
        },
        {
          "output_type": "display_data",
          "data": {
            "text/plain": [
              "<Figure size 432x288 with 1 Axes>"
            ],
            "image/png": "[encoded data removed]"
          },
          "metadata": {
            "needs_background": "light"
          }
        }
      ]
    },
    {
      "cell_type": "code",
      "source": [
        "sns.distplot(df['carat'],bins=10,kde=False)"
      ],
      "metadata": {
        "colab": {
          "base_uri": "https://localhost:8080/",
          "height": 351
        },
        "id": "wnOnNrihznwD",
        "outputId": "851f5828-262a-4982-f81f-a695211a70df"
      },
      "execution_count": null,
      "outputs": [
        {
          "output_type": "stream",
          "name": "stderr",
          "text": [
            "/usr/local/lib/python3.9/dist-packages/seaborn/distributions.py:2619: FutureWarning: `distplot` is a deprecated function and will be removed in a future version. Please adapt your code to use either `displot` (a figure-level function with similar flexibility) or `histplot` (an axes-level function for histograms).\n",
            "  warnings.warn(msg, FutureWarning)\n"
          ]
        },
        {
          "output_type": "execute_result",
          "data": {
            "text/plain": [
              "<AxesSubplot:xlabel='carat'>"
            ]
          },
          "metadata": {},
          "execution_count": 50
        },
        {
          "output_type": "display_data",
          "data": {
            "text/plain": [
              "<Figure size 432x288 with 1 Axes>"
            ],
            "image/png": "[encoded data removed]"
          },
          "metadata": {
            "needs_background": "light"
          }
        }
      ]
    },
    {
      "cell_type": "code",
      "source": [
        "import numpy as np\n",
        "df_carat_log = np.log(df['carat'])"
      ],
      "metadata": {
        "id": "_OGO6bgpzzgQ"
      },
      "execution_count": null,
      "outputs": []
    },
    {
      "cell_type": "code",
      "source": [
        "df['carat'].head()"
      ],
      "metadata": {
        "colab": {
          "base_uri": "https://localhost:8080/"
        },
        "id": "FLc5XShjz7K_",
        "outputId": "843f4a12-ae11-49a1-8d25-ff4e256a936e"
      },
      "execution_count": null,
      "outputs": [
        {
          "output_type": "execute_result",
          "data": {
            "text/plain": [
              "0    0.23\n",
              "1    0.21\n",
              "2    0.23\n",
              "3    0.29\n",
              "4    0.31\n",
              "Name: carat, dtype: float64"
            ]
          },
          "metadata": {},
          "execution_count": 52
        }
      ]
    },
    {
      "cell_type": "code",
      "source": [
        "df_carat_log.head()"
      ],
      "metadata": {
        "colab": {
          "base_uri": "https://localhost:8080/"
        },
        "id": "sc44sQH30A0X",
        "outputId": "f9dcfec2-f6aa-4ed1-aa2b-15ad70ee6536"
      },
      "execution_count": null,
      "outputs": [
        {
          "output_type": "execute_result",
          "data": {
            "text/plain": [
              "0   -1.469676\n",
              "1   -1.560648\n",
              "2   -1.469676\n",
              "3   -1.237874\n",
              "4   -1.171183\n",
              "Name: carat, dtype: float64"
            ]
          },
          "metadata": {},
          "execution_count": 53
        }
      ]
    },
    {
      "cell_type": "code",
      "source": [
        "sns.boxplot(x=df_carat_log)"
      ],
      "metadata": {
        "colab": {
          "base_uri": "https://localhost:8080/",
          "height": 296
        },
        "id": "r9uA2Fii0Dc0",
        "outputId": "56a03f64-900c-4166-f089-359986c2e531"
      },
      "execution_count": null,
      "outputs": [
        {
          "output_type": "execute_result",
          "data": {
            "text/plain": [
              "<AxesSubplot:xlabel='carat'>"
            ]
          },
          "metadata": {},
          "execution_count": 54
        },
        {
          "output_type": "display_data",
          "data": {
            "text/plain": [
              "<Figure size 432x288 with 1 Axes>"
            ],
            "image/png": "[encoded data removed]"
          },
          "metadata": {
            "needs_background": "light"
          }
        }
      ]
    },
    {
      "cell_type": "code",
      "source": [
        "sns.distplot(df_carat_log,bins=12,kde=False)"
      ],
      "metadata": {
        "colab": {
          "base_uri": "https://localhost:8080/",
          "height": 296
        },
        "id": "ulrIlv_10aQf",
        "outputId": "fe1ca35b-9201-4a5c-fc7e-b1b27693c461"
      },
      "execution_count": null,
      "outputs": [
        {
          "output_type": "execute_result",
          "data": {
            "text/plain": [
              "<AxesSubplot:xlabel='carat'>"
            ]
          },
          "metadata": {},
          "execution_count": 56
        },
        {
          "output_type": "display_data",
          "data": {
            "text/plain": [
              "<Figure size 432x288 with 1 Axes>"
            ],
            "image/png": "[encoded data removed]"
          },
          "metadata": {
            "needs_background": "light"
          }
        }
      ]
    },
    {
      "cell_type": "markdown",
      "source": [
        "# Feature Selection"
      ],
      "metadata": {
        "id": "PSVrvxW_0vQY"
      }
    },
    {
      "cell_type": "markdown",
      "source": [
        "In this notebook we will develop a Python class for feature detection. The objective is to create a an object that encompasses several different feature selection methods and that can be applied to multiple datasets. This class will implement five different feature selection methods:\n",
        "\n",
        "1. Remove columns with a missing fraction greater than a specified threshold\n",
        "2. Remove features with only a single unique value\n",
        "3. Remove collinear features as idenfitied by a correlation coefficient greater than a specified value\n",
        "4. Remove features with 0.0 importance from a gradient boosting machine\n",
        "5. Remove features that do not contribute to a specified cumulative feature importance from the gradient boosting machine"
      ],
      "metadata": {
        "id": "4YvMO2F705EQ"
      }
    },
    {
      "cell_type": "code",
      "source": [
        "import pandas as pd\n",
        "import numpy as np\n",
        "\n",
        "import lightgbm as lgb\n",
        "\n",
        "from sklearn.model_selection import KFold\n",
        "\n",
        "import matplotlib.pyplot as plt\n",
        "import seaborn as sns\n",
        "\n",
        "import gc\n",
        "\n",
        "from sklearn.exceptions import NotFittedError\n",
        "\n",
        "from itertools import chain"
      ],
      "metadata": {
        "id": "9LR9MAQ70x4C"
      },
      "execution_count": null,
      "outputs": []
    },
    {
      "cell_type": "code",
      "source": [
        "# You can download the data from here:  https://drive.google.com/file/d/1nyQzb-5o-B7TVH06LL4XglPaxdAHbTuf/view?usp=share_link\n",
        "train = pd.read_csv('/content/application_train.csv')\n",
        "train = train.sample(10000)\n",
        "train_labels = train['TARGET']\n",
        "train = train.drop(columns = 'TARGET')"
      ],
      "metadata": {
        "id": "mRvRLe8p1Smr"
      },
      "execution_count": null,
      "outputs": []
    },
    {
      "cell_type": "code",
      "source": [
        "train.head()"
      ],
      "metadata": {
        "colab": {
          "base_uri": "https://localhost:8080/",
          "height": 300
        },
        "id": "WdeeX8v31gMP",
        "outputId": "0eec5830-ea14-42ec-844b-43e4b764c386"
      },
      "execution_count": null,
      "outputs": [
        {
          "output_type": "execute_result",
          "data": {
            "text/plain": [
              "      SK_ID_CURR NAME_CONTRACT_TYPE CODE_GENDER FLAG_OWN_CAR FLAG_OWN_REALTY  \\\n",
              "1024      101184         Cash loans           F            N               Y   \n",
              "276       100319         Cash loans           F            N               Y   \n",
              "6730      107856         Cash loans           F            N               N   \n",
              "1461      101719         Cash loans           F            N               Y   \n",
              "3601      104205         Cash loans           M            Y               N   \n",
              "\n",
              "      CNT_CHILDREN  AMT_INCOME_TOTAL  AMT_CREDIT  AMT_ANNUITY  \\\n",
              "1024             0          103500.0    545040.0      26640.0   \n",
              "276              1          135000.0    781920.0      32868.0   \n",
              "6730             0           81000.0    152820.0       7893.0   \n",
              "1461             1          139500.0    640080.0      24129.0   \n",
              "3601             1          135000.0    497520.0      52920.0   \n",
              "\n",
              "      AMT_GOODS_PRICE  ... FLAG_DOCUMENT_18 FLAG_DOCUMENT_19 FLAG_DOCUMENT_20  \\\n",
              "1024         450000.0  ...              0.0              0.0              0.0   \n",
              "276          675000.0  ...              0.0              0.0              0.0   \n",
              "6730         135000.0  ...              0.0              0.0              0.0   \n",
              "1461         450000.0  ...              0.0              0.0              0.0   \n",
              "3601         450000.0  ...              0.0              0.0              0.0   \n",
              "\n",
              "     FLAG_DOCUMENT_21 AMT_REQ_CREDIT_BUREAU_HOUR  AMT_REQ_CREDIT_BUREAU_DAY  \\\n",
              "1024              0.0                        0.0                        0.0   \n",
              "276               0.0                        0.0                        0.0   \n",
              "6730              0.0                        0.0                        0.0   \n",
              "1461              0.0                        0.0                        0.0   \n",
              "3601              0.0                        0.0                        0.0   \n",
              "\n",
              "      AMT_REQ_CREDIT_BUREAU_WEEK  AMT_REQ_CREDIT_BUREAU_MON  \\\n",
              "1024                         0.0                        0.0   \n",
              "276                          0.0                        0.0   \n",
              "6730                         0.0                        0.0   \n",
              "1461                         0.0                        1.0   \n",
              "3601                         0.0                        0.0   \n",
              "\n",
              "      AMT_REQ_CREDIT_BUREAU_QRT  AMT_REQ_CREDIT_BUREAU_YEAR  \n",
              "1024                        0.0                         0.0  \n",
              "276                         0.0                         1.0  \n",
              "6730                        0.0                         0.0  \n",
              "1461                        0.0                         1.0  \n",
              "3601                        0.0                         0.0  \n",
              "\n",
              "[5 rows x 121 columns]"
            ],
            "text/html": [
              "\n",
              "  <div id=\"df-264251b7-3018-409d-823f-7e740e0ca2ac\">\n",
              "    <div class=\"colab-df-container\">\n",
              "      <div>\n",
              "<style scoped>\n",
              "    .dataframe tbody tr th:only-of-type {\n",
              "        vertical-align: middle;\n",
              "    }\n",
              "\n",
              "    .dataframe tbody tr th {\n",
              "        vertical-align: top;\n",
              "    }\n",
              "\n",
              "    .dataframe thead th {\n",
              "        text-align: right;\n",
              "    }\n",
              "</style>\n",
              "<table border=\"1\" class=\"dataframe\">\n",
              "  <thead>\n",
              "    <tr style=\"text-align: right;\">\n",
              "      <th></th>\n",
              "      <th>SK_ID_CURR</th>\n",
              "      <th>NAME_CONTRACT_TYPE</th>\n",
              "      <th>CODE_GENDER</th>\n",
              "      <th>FLAG_OWN_CAR</th>\n",
              "      <th>FLAG_OWN_REALTY</th>\n",
              "      <th>CNT_CHILDREN</th>\n",
              "      <th>AMT_INCOME_TOTAL</th>\n",
              "      <th>AMT_CREDIT</th>\n",
              "      <th>AMT_ANNUITY</th>\n",
              "      <th>AMT_GOODS_PRICE</th>\n",
              "      <th>...</th>\n",
              "      <th>FLAG_DOCUMENT_18</th>\n",
              "      <th>FLAG_DOCUMENT_19</th>\n",
              "      <th>FLAG_DOCUMENT_20</th>\n",
              "      <th>FLAG_DOCUMENT_21</th>\n",
              "      <th>AMT_REQ_CREDIT_BUREAU_HOUR</th>\n",
              "      <th>AMT_REQ_CREDIT_BUREAU_DAY</th>\n",
              "      <th>AMT_REQ_CREDIT_BUREAU_WEEK</th>\n",
              "      <th>AMT_REQ_CREDIT_BUREAU_MON</th>\n",
              "      <th>AMT_REQ_CREDIT_BUREAU_QRT</th>\n",
              "      <th>AMT_REQ_CREDIT_BUREAU_YEAR</th>\n",
              "    </tr>\n",
              "  </thead>\n",
              "  <tbody>\n",
              "    <tr>\n",
              "      <th>1024</th>\n",
              "      <td>101184</td>\n",
              "      <td>Cash loans</td>\n",
              "      <td>F</td>\n",
              "      <td>N</td>\n",
              "      <td>Y</td>\n",
              "      <td>0</td>\n",
              "      <td>103500.0</td>\n",
              "      <td>545040.0</td>\n",
              "      <td>26640.0</td>\n",
              "      <td>450000.0</td>\n",
              "      <td>...</td>\n",
              "      <td>0.0</td>\n",
              "      <td>0.0</td>\n",
              "      <td>0.0</td>\n",
              "      <td>0.0</td>\n",
              "      <td>0.0</td>\n",
              "      <td>0.0</td>\n",
              "      <td>0.0</td>\n",
              "      <td>0.0</td>\n",
              "      <td>0.0</td>\n",
              "      <td>0.0</td>\n",
              "    </tr>\n",
              "    <tr>\n",
              "      <th>276</th>\n",
              "      <td>100319</td>\n",
              "      <td>Cash loans</td>\n",
              "      <td>F</td>\n",
              "      <td>N</td>\n",
              "      <td>Y</td>\n",
              "      <td>1</td>\n",
              "      <td>135000.0</td>\n",
              "      <td>781920.0</td>\n",
              "      <td>32868.0</td>\n",
              "      <td>675000.0</td>\n",
              "      <td>...</td>\n",
              "      <td>0.0</td>\n",
              "      <td>0.0</td>\n",
              "      <td>0.0</td>\n",
              "      <td>0.0</td>\n",
              "      <td>0.0</td>\n",
              "      <td>0.0</td>\n",
              "      <td>0.0</td>\n",
              "      <td>0.0</td>\n",
              "      <td>0.0</td>\n",
              "      <td>1.0</td>\n",
              "    </tr>\n",
              "    <tr>\n",
              "      <th>6730</th>\n",
              "      <td>107856</td>\n",
              "      <td>Cash loans</td>\n",
              "      <td>F</td>\n",
              "      <td>N</td>\n",
              "      <td>N</td>\n",
              "      <td>0</td>\n",
              "      <td>81000.0</td>\n",
              "      <td>152820.0</td>\n",
              "      <td>7893.0</td>\n",
              "      <td>135000.0</td>\n",
              "      <td>...</td>\n",
              "      <td>0.0</td>\n",
              "      <td>0.0</td>\n",
              "      <td>0.0</td>\n",
              "      <td>0.0</td>\n",
              "      <td>0.0</td>\n",
              "      <td>0.0</td>\n",
              "      <td>0.0</td>\n",
              "      <td>0.0</td>\n",
              "      <td>0.0</td>\n",
              "      <td>0.0</td>\n",
              "    </tr>\n",
              "    <tr>\n",
              "      <th>1461</th>\n",
              "      <td>101719</td>\n",
              "      <td>Cash loans</td>\n",
              "      <td>F</td>\n",
              "      <td>N</td>\n",
              "      <td>Y</td>\n",
              "      <td>1</td>\n",
              "      <td>139500.0</td>\n",
              "      <td>640080.0</td>\n",
              "      <td>24129.0</td>\n",
              "      <td>450000.0</td>\n",
              "      <td>...</td>\n",
              "      <td>0.0</td>\n",
              "      <td>0.0</td>\n",
              "      <td>0.0</td>\n",
              "      <td>0.0</td>\n",
              "      <td>0.0</td>\n",
              "      <td>0.0</td>\n",
              "      <td>0.0</td>\n",
              "      <td>1.0</td>\n",
              "      <td>0.0</td>\n",
              "      <td>1.0</td>\n",
              "    </tr>\n",
              "    <tr>\n",
              "      <th>3601</th>\n",
              "      <td>104205</td>\n",
              "      <td>Cash loans</td>\n",
              "      <td>M</td>\n",
              "      <td>Y</td>\n",
              "      <td>N</td>\n",
              "      <td>1</td>\n",
              "      <td>135000.0</td>\n",
              "      <td>497520.0</td>\n",
              "      <td>52920.0</td>\n",
              "      <td>450000.0</td>\n",
              "      <td>...</td>\n",
              "      <td>0.0</td>\n",
              "      <td>0.0</td>\n",
              "      <td>0.0</td>\n",
              "      <td>0.0</td>\n",
              "      <td>0.0</td>\n",
              "      <td>0.0</td>\n",
              "      <td>0.0</td>\n",
              "      <td>0.0</td>\n",
              "      <td>0.0</td>\n",
              "      <td>0.0</td>\n",
              "    </tr>\n",
              "  </tbody>\n",
              "</table>\n",
              "<p>5 rows × 121 columns</p>\n",
              "</div>\n",
              "      <button class=\"colab-df-convert\" onclick=\"convertToInteractive('df-264251b7-3018-409d-823f-7e740e0ca2ac')\"\n",
              "              title=\"Convert this dataframe to an interactive table.\"\n",
              "              style=\"display:none;\">\n",
              "        \n",
              "  <svg xmlns=\"http://www.w3.org/2000/svg\" height=\"24px\"viewBox=\"0 0 24 24\"\n",
              "       width=\"24px\">\n",
              "    <path d=\"M0 0h24v24H0V0z\" fill=\"none\"/>\n",
              "    <path d=\"M18.56 5.44l.94 2.06.94-2.06 2.06-.94-2.06-.94-.94-2.06-.94 2.06-2.06.94zm-11 1L8.5 8.5l.94-2.06 2.06-.94-2.06-.94L8.5 2.5l-.94 2.06-2.06.94zm10 10l.94 2.06.94-2.06 2.06-.94-2.06-.94-.94-2.06-.94 2.06-2.06.94z\"/><path d=\"M17.41 7.96l-1.37-1.37c-.4-.4-.92-.59-1.43-.59-.52 0-1.04.2-1.43.59L10.3 9.45l-7.72 7.72c-.78.78-.78 2.05 0 2.83L4 21.41c.39.39.9.59 1.41.59.51 0 1.02-.2 1.41-.59l7.78-7.78 2.81-2.81c.8-.78.8-2.07 0-2.86zM5.41 20L4 18.59l7.72-7.72 1.47 1.35L5.41 20z\"/>\n",
              "  </svg>\n",
              "      </button>\n",
              "      \n",
              "  <style>\n",
              "    .colab-df-container {\n",
              "      display:flex;\n",
              "      flex-wrap:wrap;\n",
              "      gap: 12px;\n",
              "    }\n",
              "\n",
              "    .colab-df-convert {\n",
              "      background-color: #E8F0FE;\n",
              "      border: none;\n",
              "      border-radius: 50%;\n",
              "      cursor: pointer;\n",
              "      display: none;\n",
              "      fill: #1967D2;\n",
              "      height: 32px;\n",
              "      padding: 0 0 0 0;\n",
              "      width: 32px;\n",
              "    }\n",
              "\n",
              "    .colab-df-convert:hover {\n",
              "      background-color: #E2EBFA;\n",
              "      box-shadow: 0px 1px 2px rgba(60, 64, 67, 0.3), 0px 1px 3px 1px rgba(60, 64, 67, 0.15);\n",
              "      fill: #174EA6;\n",
              "    }\n",
              "\n",
              "    [theme=dark] .colab-df-convert {\n",
              "      background-color: #3B4455;\n",
              "      fill: #D2E3FC;\n",
              "    }\n",
              "\n",
              "    [theme=dark] .colab-df-convert:hover {\n",
              "      background-color: #434B5C;\n",
              "      box-shadow: 0px 1px 3px 1px rgba(0, 0, 0, 0.15);\n",
              "      filter: drop-shadow(0px 1px 2px rgba(0, 0, 0, 0.3));\n",
              "      fill: #FFFFFF;\n",
              "    }\n",
              "  </style>\n",
              "\n",
              "      <script>\n",
              "        const buttonEl =\n",
              "          document.querySelector('#df-264251b7-3018-409d-823f-7e740e0ca2ac button.colab-df-convert');\n",
              "        buttonEl.style.display =\n",
              "          google.colab.kernel.accessAllowed ? 'block' : 'none';\n",
              "\n",
              "        async function convertToInteractive(key) {\n",
              "          const element = document.querySelector('#df-264251b7-3018-409d-823f-7e740e0ca2ac');\n",
              "          const dataTable =\n",
              "            await google.colab.kernel.invokeFunction('convertToInteractive',\n",
              "                                                     [key], {});\n",
              "          if (!dataTable) return;\n",
              "\n",
              "          const docLinkHtml = 'Like what you see? Visit the ' +\n",
              "            '<a target=\"_blank\" href=https://colab.research.google.com/notebooks/data_table.ipynb>data table notebook</a>'\n",
              "            + ' to learn more about interactive tables.';\n",
              "          element.innerHTML = '';\n",
              "          dataTable['output_type'] = 'display_data';\n",
              "          await google.colab.output.renderOutput(dataTable, element);\n",
              "          const docLink = document.createElement('div');\n",
              "          docLink.innerHTML = docLinkHtml;\n",
              "          element.appendChild(docLink);\n",
              "        }\n",
              "      </script>\n",
              "    </div>\n",
              "  </div>\n",
              "  "
            ]
          },
          "metadata": {},
          "execution_count": 61
        }
      ]
    },
    {
      "cell_type": "code",
      "source": [
        "import pandas as pd\n",
        "import numpy as np\n",
        "\n",
        "import lightgbm as lgb\n",
        "\n",
        "from sklearn.model_selection import train_test_split\n",
        "\n",
        "import matplotlib.pyplot as plt\n",
        "import seaborn as sns\n",
        "\n",
        "import gc\n",
        "\n",
        "from sklearn.exceptions import NotFittedError\n",
        "\n",
        "from itertools import chain\n",
        "\n",
        "class FeatureSelector():\n",
        "    \"\"\"\n",
        "    Class for performing feature selection for machine learning or data preprocessing.\n",
        "    \n",
        "    Implements five different methods\n",
        "    \n",
        "        1. Remove columns with a missing percentage greater than a specified threshold\n",
        "        2. Remove columns with a single unique value\n",
        "        3. Remove collinear variables with a correlation greater than a specified correlation coefficient\n",
        "        4. Remove features with 0.0 feature importance from a gradient boosting machine (gbm)\n",
        "        5. Remove features that do not contribute to a specified cumulative feature importance from the gbm\n",
        "        \n",
        "    Attributes\n",
        "    --------\n",
        "    \n",
        "    record_missing : dataframe\n",
        "        Records the fraction of missing values for features with missing fraction above threshold\n",
        "    \n",
        "    record_single_unique : dataframe\n",
        "        Records the features that have a single unique value\n",
        "    \n",
        "    record_collinear : dataframe\n",
        "        Records the pairs of collinear variables with a correlation coefficient above the threshold\n",
        "    \n",
        "    record_zero_importance : dataframe\n",
        "        Records the zero importance features in the data according to the gbm\n",
        "    \n",
        "    record_low_importance : dataframe\n",
        "        Records the lowest importance features not needed to reach the threshold of cumulative importance according to the gbm\n",
        "    \n",
        "    feature_importances : dataframe\n",
        "        All the features importances from the gbm\n",
        "    \n",
        "    removal_ops : dict\n",
        "        Dictionary of removal operations and associated features for removal identified\n",
        "        \n",
        "    Notes\n",
        "    --------\n",
        "    \n",
        "        - All 5 operations can be run with the `identify_all` method.\n",
        "        - Calculating the feature importances requires labels (a supervised learning task) \n",
        "          for training the gradient boosting machine\n",
        "        - For the feature importances, the dataframe is first one-hot encoded before training the gbm.\n",
        "    \n",
        "    \"\"\"\n",
        "    \n",
        "    def __init__(self):\n",
        "        \n",
        "        # Dataframes recording information about features to remove\n",
        "        self.record_missing = None\n",
        "        self.record_single_unique = None\n",
        "        self.record_collinear = None\n",
        "        self.record_zero_importance = None\n",
        "        self.record_low_importance = None\n",
        "        \n",
        "        self.feature_importances = None\n",
        "        \n",
        "        # Dictionary to hold removal operations\n",
        "        self.removal_ops = {}\n",
        "        \n",
        "        \n",
        "        \n",
        "    def identify_missing(self, data, missing_threshold):\n",
        "        \"\"\"Find the features with a fraction of missing values above `missing_threshold`\"\"\"\n",
        "        \n",
        "        self.missing_threshold = missing_threshold\n",
        "\n",
        "        # Calculate the fraction of missing in each column \n",
        "        missing_series = data.isnull().sum() / data.shape[0]\n",
        "        \n",
        "        self.missing_stats = pd.DataFrame(missing_series).rename(columns = {'index': 'feature', 0: 'missing_fraction'})\n",
        "\n",
        "        # Find the columns with a missing percentage above the threshold\n",
        "        record_missing = pd.DataFrame(missing_series[missing_series > missing_threshold]).reset_index().rename(columns = {'index': 'feature', 0: 'missing_fraction'})\n",
        "\n",
        "        to_drop = list(record_missing['feature'])\n",
        "\n",
        "        self.record_missing = record_missing\n",
        "        self.removal_ops['missing'] = to_drop\n",
        "        \n",
        "        print('%d features with greater than %0.2f missing values.\\n' % (len(self.removal_ops['missing']), self.missing_threshold))\n",
        "        \n",
        "    def identify_single_unique(self, data):\n",
        "        \"\"\"Identifies features with only a single unique value. NaNs do not count as a unique value. \"\"\"\n",
        "\n",
        "        # Calculate the unique counts in each column\n",
        "        unique_counts = data.nunique()\n",
        "\n",
        "        self.unique_stats = pd.DataFrame(unique_counts).rename(columns = {'index': 'feature', 0: 'nunique'})\n",
        "        \n",
        "        # Find the columns with only one unique count\n",
        "        record_single_unique = pd.DataFrame(unique_counts[unique_counts == 1]).reset_index().rename(columns = {'index': 'feature', 0: 'nunique'})\n",
        "\n",
        "        to_drop = list(record_single_unique['feature'])\n",
        "    \n",
        "        self.record_single_unique = record_single_unique\n",
        "        self.removal_ops['single_unique'] = to_drop\n",
        "        \n",
        "        print('%d features with a single unique value.\\n' % len(self.removal_ops['single_unique']))\n",
        "    \n",
        "    def identify_collinear(self, data, correlation_threshold):\n",
        "        \"\"\"\n",
        "        Finds collinear features based on the correlation coefficient between features. \n",
        "        For each pair of features with a correlation coefficient greather than `correlation_threshold`,\n",
        "        only one of the pair is identified for removal. \n",
        "\n",
        "        Using code adapted from: https://gist.github.com/Swarchal/e29a3a1113403710b6850590641f046c\n",
        "        \n",
        "        Parameters\n",
        "        --------\n",
        "\n",
        "        data : dataframe\n",
        "            Data observations in the rows and features in the columns\n",
        "\n",
        "        correlation_threshold : float between 0 and 1\n",
        "            Value of the Pearson correlation cofficient for identifying correlation features\n",
        "\n",
        "        \"\"\"\n",
        "        \n",
        "        self.correlation_threshold = correlation_threshold\n",
        "\n",
        "        # Calculate the correlations between every column\n",
        "        corr_matrix = data.corr()\n",
        "        \n",
        "        self.corr_matrix = corr_matrix\n",
        "    \n",
        "        # Extract the upper triangle of the correlation matrix\n",
        "        upper = corr_matrix.where(np.triu(np.ones(corr_matrix.shape), k = 1).astype(np.bool))\n",
        "        \n",
        "        # Select the features with correlations above the threshold\n",
        "        # Need to use the absolute value\n",
        "        to_drop = [column for column in upper.columns if any(upper[column].abs() > correlation_threshold)]\n",
        "\n",
        "        # Dataframe to hold correlated pairs\n",
        "        record_collinear = pd.DataFrame(columns = ['drop_feature', 'corr_feature', 'corr_value'])\n",
        "\n",
        "        # Iterate through the columns to drop\n",
        "        for column in to_drop:\n",
        "\n",
        "            # Find the correlated features\n",
        "            corr_features = list(upper.index[upper[column].abs() > correlation_threshold])\n",
        "\n",
        "            # Find the correlated values\n",
        "            corr_values = list(upper[column][upper[column].abs() > correlation_threshold])\n",
        "            drop_features = [column for _ in range(len(corr_features))]    \n",
        "\n",
        "            # Record the information (need a temp df for now)\n",
        "            temp_df = pd.DataFrame.from_dict({'drop_feature': drop_features,\n",
        "                                             'corr_feature': corr_features,\n",
        "                                             'corr_value': corr_values})\n",
        "\n",
        "            # Add to dataframe\n",
        "            record_collinear = record_collinear.append(temp_df, ignore_index = True)\n",
        "\n",
        "            \n",
        "        self.record_collinear = record_collinear\n",
        "        self.removal_ops['collinear'] = to_drop\n",
        "        \n",
        "        print('%d features with a correlation greater than %0.2f.\\n' % (len(self.removal_ops['collinear']), self.correlation_threshold))\n",
        "\n",
        "    def identify_zero_importance(self, features, labels, eval_metric, task='classification', \n",
        "                                 n_iterations=10, early_stopping = True):\n",
        "        \"\"\"\n",
        "        \n",
        "        Identify the features with zero importance according to a gradient boosting machine.\n",
        "        The gbm can be trained with early stopping using a validation set to prevent overfitting. \n",
        "        The feature importances are averaged over n_iterations to reduce variance. \n",
        "        \n",
        "        Uses the LightGBM implementation (http://lightgbm.readthedocs.io/en/latest/index.html)\n",
        "\n",
        "        Parameters \n",
        "        --------\n",
        "        features : dataframe\n",
        "            Data for training the model with observations in the rows\n",
        "            and features in the columns\n",
        "\n",
        "        labels : array, shape = (1, )\n",
        "            Array of labels for training the model. These can be either binary \n",
        "            (if task is 'classification') or continuous (if task is 'regression')\n",
        "\n",
        "        eval_metric : string\n",
        "            Evaluation metric to use for the gradient boosting machine\n",
        "\n",
        "        task : string, default = 'classification'\n",
        "            The machine learning task, either 'classification' or 'regression'\n",
        "\n",
        "        n_iterations : int, default = 10\n",
        "            Number of iterations to train the gradient boosting machine\n",
        "            \n",
        "        early_stopping : boolean, default = True\n",
        "            Whether or not to use early stopping with a validation set when training\n",
        "        \n",
        "        \n",
        "        Notes\n",
        "        --------\n",
        "        \n",
        "        - Features are one-hot encoded to handle the categorical variables before training.\n",
        "        - The gbm is not optimized for any particular task and might need some hyperparameter tuning\n",
        "        - Feature importances, including zero importance features, can change across runs\n",
        "\n",
        "        \"\"\"\n",
        "\n",
        "        # One hot encoding\n",
        "        features = pd.get_dummies(features)\n",
        "\n",
        "        # Extract feature names\n",
        "        feature_names = list(features.columns)\n",
        "\n",
        "        # Convert to np array\n",
        "        features = np.array(features)\n",
        "        labels = np.array(labels).reshape((-1, ))\n",
        "\n",
        "        # Empty array for feature importances\n",
        "        feature_importance_values = np.zeros(len(feature_names))\n",
        "        \n",
        "        print('Training Gradient Boosting Model\\n')\n",
        "        \n",
        "        # Iterate through each fold\n",
        "        for _ in range(n_iterations):\n",
        "\n",
        "            if task == 'classification':\n",
        "                model = lgb.LGBMClassifier(n_estimators=1000, learning_rate = 0.05, verbose = -1)\n",
        "\n",
        "            elif task == 'regression':\n",
        "                model = lgb.LGBMRegressor(n_estimators=1000, learning_rate = 0.05, verbose = -1)\n",
        "\n",
        "            else:\n",
        "                raise ValueError('Task must be either \"classification\" or \"regression\"')\n",
        "                \n",
        "            # If training using early stopping need a validation set\n",
        "            if early_stopping:\n",
        "                \n",
        "                train_features, valid_features, train_labels, valid_labels = train_test_split(features, labels, test_size = 0.15)\n",
        "\n",
        "                # Train the model with early stopping\n",
        "                model.fit(train_features, train_labels, eval_metric = eval_metric,\n",
        "                          eval_set = [(valid_features, valid_labels)],\n",
        "                          early_stopping_rounds = 100, verbose = -1)\n",
        "                \n",
        "                # Clean up memory\n",
        "                gc.enable()\n",
        "                del train_features, train_labels, valid_features, valid_labels\n",
        "                gc.collect()\n",
        "                \n",
        "            else:\n",
        "                model.fit(features, labels)\n",
        "\n",
        "            # Record the feature importances\n",
        "            feature_importance_values += model.feature_importances_ / n_iterations\n",
        "\n",
        "        feature_importances = pd.DataFrame({'feature': feature_names, 'importance': feature_importance_values})\n",
        "\n",
        "        # Sort features according to importance\n",
        "        feature_importances = feature_importances.sort_values('importance', ascending = False).reset_index(drop = True)\n",
        "\n",
        "        # Normalize the feature importances to add up to one\n",
        "        feature_importances['normalized_importance'] = feature_importances['importance'] / feature_importances['importance'].sum()\n",
        "        feature_importances['cumulative_importance'] = np.cumsum(feature_importances['normalized_importance'])\n",
        "\n",
        "        # Extract the features with zero importance\n",
        "        record_zero_importance = feature_importances[feature_importances['importance'] == 0.0]\n",
        "        \n",
        "        to_drop = list(record_zero_importance['feature'])\n",
        "\n",
        "        self.feature_importances = feature_importances\n",
        "        self.record_zero_importance = record_zero_importance\n",
        "        self.removal_ops['zero_importance'] = to_drop\n",
        "        \n",
        "        print('\\n%d features with zero importance.\\n' % len(self.removal_ops['zero_importance']))\n",
        "    \n",
        "    def identify_low_importance(self, cumulative_importance):\n",
        "        \"\"\"\n",
        "        Finds the lowest importance features not needed to account for `cumulative_importance` \n",
        "        of the feature importance from the gradient boosting machine. As an example, if cumulative\n",
        "        importance is set to 0.95, this will retain only the most important features needed to \n",
        "        reach 95% of the total feature importance. The identified features are those not needed.\n",
        "\n",
        "        Parameters\n",
        "        --------\n",
        "        cumulative_importance : float between 0 and 1\n",
        "            The fraction of cumulative importance to account for \n",
        "\n",
        "        \"\"\"\n",
        "\n",
        "        self.cumulative_importance = cumulative_importance\n",
        "        \n",
        "        # The feature importances need to be calculated before running\n",
        "        if self.feature_importances is None:\n",
        "            raise NotFittedError('Feature importances have not yet been determined. Call the `identify_zero_importance` method` first.')\n",
        "            \n",
        "        # Make sure most important features are on top\n",
        "        self.feature_importances = self.feature_importances.sort_values('cumulative_importance')\n",
        "\n",
        "        # Identify the features not needed to reach the cumulative_importance\n",
        "        record_low_importance = self.feature_importances[self.feature_importances['cumulative_importance'] > cumulative_importance]\n",
        "\n",
        "        to_drop = list(record_low_importance['feature'])\n",
        "\n",
        "        self.record_low_importance = record_low_importance\n",
        "        self.removal_ops['low_importance'] = to_drop\n",
        "    \n",
        "        print('%d features that do not contribute to cumulative importance of %0.2f.\\n' % (len(self.removal_ops['low_importance']), self.cumulative_importance))\n",
        "        \n",
        "    def identify_all(self, features, labels, selection_params):\n",
        "        \"\"\"\n",
        "        Use all five of the methods to identify features to remove.\n",
        "        \n",
        "        Parameters\n",
        "        --------\n",
        "        \n",
        "        features : dataframe\n",
        "            Data for training the model with observations in the rows\n",
        "            and features in the columns\n",
        "\n",
        "        labels : array, shape = (1, )\n",
        "            Array of labels for training the model. These can be either binary \n",
        "            (if task is 'classification') or continuous (if task is 'regression')\n",
        "            \n",
        "        selection_params : dict\n",
        "           Parameters to use in the five feature selection methhods.\n",
        "           Params must contain the keys ['missing_threshold', 'correlation_threshold', 'eval_metric', 'task', 'cumulative_importance']\n",
        "        \n",
        "        \"\"\"\n",
        "        \n",
        "        # Check for all required parameters\n",
        "        for param in ['missing_threshold', 'correlation_threshold', 'eval_metric', 'task', 'cumulative_importance']:\n",
        "            if param not in selection_params.keys():\n",
        "                raise ValueError('%s is a required parameter for this method' % param)\n",
        "        \n",
        "        # Implement each of the five methods\n",
        "        self.identify_missing(features, selection_params['missing_threshold'])\n",
        "        self.identify_single_unique(features)\n",
        "        self.identify_collinear(features, selection_params['correlation_threshold'])\n",
        "        self.identify_zero_importance(features, labels, selection_params['eval_metric'], selection_params['task'])\n",
        "        self.identify_low_importance(selection_params['cumulative_importance'])\n",
        "        \n",
        "        # Find the number of features identified to drop\n",
        "        self.n_identified = len(set(list(chain(*list(self.removal_ops.values())))))\n",
        "        print('%d total features out of %d identified for removal.\\n' % (self.n_identified, pd.get_dummies(features).shape[1]))\n",
        "        \n",
        "    def check_identified(self):\n",
        "        \"\"\"Check the identified features before removal. Returns a set of the unique features identified.\"\"\"\n",
        "        \n",
        "        all_identified = set(list(chain(*list(self.removal_ops.values()))))\n",
        "        print('%d features identified for removal' % len(all_identified))\n",
        "        \n",
        "        return all_identified\n",
        "        \n",
        "    \n",
        "    def remove(self, data, methods):\n",
        "        \"\"\"\n",
        "        Remove the features from the data according to the specified methods.\n",
        "        \n",
        "        Parameters\n",
        "        --------\n",
        "            data : dataframe\n",
        "                Dataframe with features to remove\n",
        "            methods : 'all' or list of methods\n",
        "                If methods == 'all', any methods that have identified features will be used\n",
        "                Otherwise, only the specified methods will be used.\n",
        "                Can be one of ['missing', 'single_unique', 'collinear', 'zero_importance', 'low_importance']\n",
        "                \n",
        "        Return\n",
        "        --------\n",
        "            data : dataframe\n",
        "                Dataframe with identified features removed\n",
        "                \n",
        "        \n",
        "        Notes \n",
        "        --------\n",
        "            - This first one-hot encodes the categorical variables in accordance with the gradient boosting machine.\n",
        "            - Check the features that will be removed before transforming data!\n",
        "        \n",
        "        \"\"\"\n",
        "        \n",
        "        \n",
        "        features_to_drop = []\n",
        "        \n",
        "        data = pd.get_dummies(data)\n",
        "        \n",
        "        if methods == 'all':\n",
        "            \n",
        "            print('{} methods have been run'.format(list(self.removal_ops.keys())))\n",
        "            \n",
        "            # Find the unique features to drop\n",
        "            features_to_drop = set(list(chain(*list(self.removal_ops.values()))))\n",
        "            \n",
        "        else:\n",
        "            # Iterate through the specified methods\n",
        "            for method in methods:\n",
        "                # Check to make sure the method has been run\n",
        "                if method not in self.removal_ops.keys():\n",
        "                    raise NotFittedError('%s method has not been run' % method)\n",
        "                    \n",
        "                # Append the features identified for removal\n",
        "                else:\n",
        "                    features_to_drop.append(self.removal_ops[method])\n",
        "        \n",
        "            # Find the unique features to drop\n",
        "            features_to_drop = set(list(chain(*features_to_drop)))\n",
        "            \n",
        "        # Remove the features and return the data\n",
        "        data = data.drop(columns = features_to_drop)\n",
        "        self.removed_features = features_to_drop\n",
        "        \n",
        "        print('Removed %d features' % len(features_to_drop))\n",
        "        return data\n",
        "    \n",
        "    def plot_missing2(self):\n",
        "        \"\"\"Histogram of missing fraction in each feature\"\"\"\n",
        "        if self.record_missing is None:\n",
        "            raise NotImplementedError(\"Missing values have not been calculated. Run `identify_missing`\")\n",
        "        \n",
        "        self.reset_plot()\n",
        "        self.missing_stats.plot.hist(color = 'red', edgecolor = 'k', figsize = (6, 4), fontsize = 14)\n",
        "        plt.ylabel('Frequency', size = 18)\n",
        "        plt.xlabel('Missing Fraction', size = 18); plt.title('Missing Fraction Histogram', size = 18);\n",
        "\n",
        "    def plot_missing(self, threshold=0.0):\n",
        "        \"\"\"Histogram of missing fraction in each feature and print columns with missing values above threshold\"\"\"\n",
        "        if self.record_missing is None:\n",
        "            raise NotImplementedError(\"Missing values have not been calculated. Run `identify_missing`\")\n",
        "    \n",
        "        # Extract the column names with missing fraction above threshold\n",
        "        cols_above_threshold = self.missing_stats[self.missing_stats['missing_fraction'] > threshold].index.tolist()\n",
        "        print(f\"Columns with missing fraction above {threshold:.2f}: {cols_above_threshold}\")\n",
        "    \n",
        "        # Plot the missing fraction histogram\n",
        "        self.reset_plot()\n",
        "        self.missing_stats.plot.bar(y='missing_fraction', color='red', edgecolor='k', figsize=(len(self.missing_stats), 4), fontsize=14)\n",
        "        plt.xticks(rotation=90)\n",
        "        plt.ylabel('Missing Fraction', size=18)\n",
        "        plt.xlabel('Feature', size=18)\n",
        "        plt.title('Missing Fraction Histogram', size=18);\n",
        "\n",
        "    \n",
        "    def plot_unique(self):\n",
        "        \"\"\"Histogram of number of unique values in each feature\"\"\"\n",
        "        if self.record_single_unique is None:\n",
        "            raise NotImplementedError('Unique values have not been calculated. Run `identify_single_unique`')\n",
        "        \n",
        "        self.reset_plot()\n",
        "        self.unique_stats.plot.hist(edgecolor = 'k', figsize = (6, 4), fontsize = 14)\n",
        "        plt.ylabel('Frequency', size = 18)\n",
        "        plt.xlabel('Unique Values', size = 18); plt.title('Unique Values Histogram', size = 18);\n",
        "        \n",
        "    \n",
        "    def plot_collinear(self):\n",
        "        \"\"\"\n",
        "        Heatmap of the features with correlations above the correlated threshold in the data.\n",
        "        \n",
        "        Notes\n",
        "        --------\n",
        "            - Not all of the plotted correlations are above the threshold because this plots\n",
        "            all the variables that have been idenfitied as having even one correlation above the threshold\n",
        "            - The features on the x-axis are those that will be removed. The features on the y-axis\n",
        "            are the correlated feature with those on the x-axis\n",
        "        \n",
        "        \"\"\"\n",
        "        \n",
        "        if self.record_collinear is None:\n",
        "            raise NotImplementedError('Collinear features have not been idenfitied. Run `identify_collinear`.')\n",
        "        \n",
        "        # Identify the correlations that were above the threshold\n",
        "        corr_matrix_plot = self.corr_matrix.loc[list(set(self.record_collinear['corr_feature'])), \n",
        "                                                list(set(self.record_collinear['drop_feature']))]\n",
        "\n",
        "        # Set up the matplotlib figure\n",
        "        f, ax = plt.subplots(figsize=(10, 8))\n",
        "\n",
        "        # Generate a custom diverging colormap\n",
        "        cmap = sns.diverging_palette(220, 10, as_cmap=True)\n",
        "\n",
        "        # Draw the heatmap with the mask and correct aspect ratio\n",
        "        sns.heatmap(corr_matrix_plot, cmap=cmap, center=0,\n",
        "                    linewidths=.25, cbar_kws={\"shrink\": 0.6})\n",
        "\n",
        "        ax.set_yticks([x + 0.5 for x in list(range(corr_matrix_plot.shape[0]))])\n",
        "        ax.set_yticklabels(list(corr_matrix_plot.index), size = int(160 / corr_matrix_plot.shape[0]));\n",
        "\n",
        "        ax.set_xticks([x + 0.5 for x in list(range(corr_matrix_plot.shape[1]))])\n",
        "        ax.set_xticklabels(list(corr_matrix_plot.columns), size = int(160 / corr_matrix_plot.shape[1]));\n",
        "        \n",
        "        plt.xlabel('Features to Remove', size = 8); plt.ylabel('Correlated Feature', size = 8)\n",
        "        plt.title(\"Correlations Above Threshold\", size = 14)\n",
        "        \n",
        "    def plot_feature_importances(self, threshold = None):\n",
        "        \"\"\"\n",
        "        Plots 15 most important features and the cumulative importance of features.\n",
        "        If `threshold` is provided, prints the number of features needed to reach `threshold` cumulative importance.\n",
        "\n",
        "        Parameters\n",
        "        --------\n",
        "        threshold : float, between 0 and 1 default = None\n",
        "            Threshold for printing information about cumulative importances\n",
        "\n",
        "        \"\"\"\n",
        "        \n",
        "        if self.record_zero_importance is None:\n",
        "            raise NotImplementedError('Feature importances have not been determined. Run `idenfity_zero_importance`')\n",
        "\n",
        "        self.reset_plot()\n",
        "        \n",
        "        # Make a horizontal bar chart of feature importances\n",
        "        plt.figure(figsize = (10, 6))\n",
        "        ax = plt.subplot()\n",
        "\n",
        "        # Need to reverse the index to plot most important on top\n",
        "        ax.barh(list(reversed(list(self.feature_importances.index[:15]))), \n",
        "                self.feature_importances['normalized_importance'].head(15), \n",
        "                align = 'center', edgecolor = 'k')\n",
        "\n",
        "        # Set the yticks and labels\n",
        "        ax.set_yticks(list(reversed(list(self.feature_importances.index[:15]))))\n",
        "        ax.set_yticklabels(self.feature_importances['feature'].head(15), size = 12)\n",
        "\n",
        "        # Plot labeling\n",
        "        plt.xlabel('Normalized Importance', size = 16); plt.title('Feature Importances', size = 18)\n",
        "        plt.show()\n",
        "\n",
        "        # Cumulative importance plot\n",
        "        plt.figure(figsize = (6, 4))\n",
        "        plt.plot(list(range(1, len(self.feature_importances) + 1)), self.feature_importances['cumulative_importance'], 'r-')\n",
        "        plt.xlabel('Number of Features', size = 14); plt.ylabel('Cumulative Importance', size = 14); \n",
        "        plt.title('Cumulative Feature Importance', size = 16);\n",
        "\n",
        "        if threshold:\n",
        "\n",
        "            # Index of minimum number of features needed for cumulative importance threshold\n",
        "            importance_index = np.min(np.where(self.feature_importances['cumulative_importance'] > threshold))\n",
        "            plt.vlines(x = importance_index + 1, ymin = 0, ymax = 1, linestyles='--', colors = 'blue')\n",
        "            plt.show()\n",
        "\n",
        "            print('%d features required for %0.2f of cumulative importance' % (importance_index + 1, threshold))\n",
        "\n",
        "        \n",
        "    def reset_plot(self):\n",
        "        plt.rcParams = plt.rcParamsDefault"
      ],
      "metadata": {
        "id": "5nLVRU8H1hD6"
      },
      "execution_count": null,
      "outputs": []
    },
    {
      "cell_type": "code",
      "source": [
        "fs = FeatureSelector()"
      ],
      "metadata": {
        "id": "50bgG4Ii2QXv"
      },
      "execution_count": null,
      "outputs": []
    },
    {
      "cell_type": "code",
      "source": [
        "fs.identify_missing(train,0.6)\n",
        "# fs.plot_missing()"
      ],
      "metadata": {
        "colab": {
          "base_uri": "https://localhost:8080/"
        },
        "id": "9r3ed8Ob2QSo",
        "outputId": "f4d4f388-3dee-4bfd-ff76-59434b8312b7"
      },
      "execution_count": null,
      "outputs": [
        {
          "output_type": "stream",
          "name": "stdout",
          "text": [
            "17 features with greater than 0.60 missing values.\n",
            "\n"
          ]
        }
      ]
    },
    {
      "cell_type": "code",
      "source": [
        "fs.identify_single_unique(train)"
      ],
      "metadata": {
        "colab": {
          "base_uri": "https://localhost:8080/"
        },
        "id": "AjU4vTKt2P6x",
        "outputId": "60908b73-b44c-423c-abff-4e6745baa735"
      },
      "execution_count": null,
      "outputs": [
        {
          "output_type": "stream",
          "name": "stdout",
          "text": [
            "5 features with a single unique value.\n",
            "\n"
          ]
        }
      ]
    },
    {
      "cell_type": "code",
      "source": [
        "fs.identify_collinear(train, 0.99)\n",
        "fs.plot_collinear()"
      ],
      "metadata": {
        "colab": {
          "base_uri": "https://localhost:8080/",
          "height": 762
        },
        "id": "BdnYrraZ2vbz",
        "outputId": "20be4b3c-e883-443f-f877-0af07b80eb8a"
      },
      "execution_count": null,
      "outputs": [
        {
          "output_type": "stream",
          "name": "stderr",
          "text": [
            "<ipython-input-63-2e7bcd4280db>:144: DeprecationWarning: `np.bool` is a deprecated alias for the builtin `bool`. To silence this warning, use `bool` by itself. Doing this will not modify any behavior and is safe. If you specifically wanted the numpy scalar type, use `np.bool_` here.\n",
            "Deprecated in NumPy 1.20; for more details and guidance: https://numpy.org/devdocs/release/1.20.0-notes.html#deprecations\n",
            "  upper = corr_matrix.where(np.triu(np.ones(corr_matrix.shape), k = 1).astype(np.bool))\n"
          ]
        },
        {
          "output_type": "stream",
          "name": "stdout",
          "text": [
            "15 features with a correlation greater than 0.99.\n",
            "\n"
          ]
        },
        {
          "output_type": "display_data",
          "data": {
            "text/plain": [
              "<Figure size 720x576 with 2 Axes>"
            ],
            "image/png": "[encoded data removed]"
          },
          "metadata": {
            "needs_background": "light"
          }
        }
      ]
    },
    {
      "cell_type": "code",
      "source": [
        "fs.identify_collinear(train, 0.50)\n",
        "fs.plot_collinear()"
      ],
      "metadata": {
        "colab": {
          "base_uri": "https://localhost:8080/",
          "height": 662
        },
        "id": "-Y3YUX6c2zp1",
        "outputId": "7e03d79a-0fbc-496f-c124-581f374777a7"
      },
      "execution_count": null,
      "outputs": [
        {
          "output_type": "stream",
          "name": "stderr",
          "text": [
            "<ipython-input-63-2e7bcd4280db>:144: DeprecationWarning: `np.bool` is a deprecated alias for the builtin `bool`. To silence this warning, use `bool` by itself. Doing this will not modify any behavior and is safe. If you specifically wanted the numpy scalar type, use `np.bool_` here.\n",
            "Deprecated in NumPy 1.20; for more details and guidance: https://numpy.org/devdocs/release/1.20.0-notes.html#deprecations\n",
            "  upper = corr_matrix.where(np.triu(np.ones(corr_matrix.shape), k = 1).astype(np.bool))\n"
          ]
        },
        {
          "output_type": "stream",
          "name": "stdout",
          "text": [
            "51 features with a correlation greater than 0.50.\n",
            "\n"
          ]
        },
        {
          "output_type": "display_data",
          "data": {
            "text/plain": [
              "<Figure size 720x576 with 2 Axes>"
            ],
            "image/png": "[encoded data removed]"
          },
          "metadata": {
            "needs_background": "light"
          }
        }
      ]
    },
    {
      "cell_type": "code",
      "source": [
        "fs.identify_zero_importance(train, train_labels, eval_metric='auc')"
      ],
      "metadata": {
        "colab": {
          "base_uri": "https://localhost:8080/"
        },
        "id": "bxINqz-N36Xg",
        "outputId": "e77184ee-ee39-4dfb-ce8b-ba6641497b53"
      },
      "execution_count": null,
      "outputs": [
        {
          "output_type": "stream",
          "name": "stdout",
          "text": [
            "Training Gradient Boosting Model\n",
            "\n",
            "Training until validation scores don't improve for 100 rounds.\n",
            "Early stopping, best iteration is:\n",
            "[69]\tvalid_0's binary_logloss: 0.243376\tvalid_0's auc: 0.74204\n",
            "Training until validation scores don't improve for 100 rounds.\n",
            "Early stopping, best iteration is:\n",
            "[44]\tvalid_0's binary_logloss: 0.251159\tvalid_0's auc: 0.728458\n",
            "Training until validation scores don't improve for 100 rounds.\n",
            "Early stopping, best iteration is:\n",
            "[46]\tvalid_0's binary_logloss: 0.245264\tvalid_0's auc: 0.750209\n",
            "Training until validation scores don't improve for 100 rounds.\n",
            "Early stopping, best iteration is:\n",
            "[9]\tvalid_0's binary_logloss: 0.222948\tvalid_0's auc: 0.741075\n",
            "Training until validation scores don't improve for 100 rounds.\n",
            "Early stopping, best iteration is:\n",
            "[26]\tvalid_0's binary_logloss: 0.236982\tvalid_0's auc: 0.718067\n",
            "Training until validation scores don't improve for 100 rounds.\n",
            "Early stopping, best iteration is:\n",
            "[25]\tvalid_0's binary_logloss: 0.261202\tvalid_0's auc: 0.747536\n",
            "Training until validation scores don't improve for 100 rounds.\n",
            "Early stopping, best iteration is:\n",
            "[12]\tvalid_0's binary_logloss: 0.255851\tvalid_0's auc: 0.719994\n",
            "Training until validation scores don't improve for 100 rounds.\n",
            "Early stopping, best iteration is:\n",
            "[29]\tvalid_0's binary_logloss: 0.274215\tvalid_0's auc: 0.700623\n",
            "Training until validation scores don't improve for 100 rounds.\n",
            "Early stopping, best iteration is:\n",
            "[50]\tvalid_0's binary_logloss: 0.244846\tvalid_0's auc: 0.706811\n",
            "Training until validation scores don't improve for 100 rounds.\n",
            "Early stopping, best iteration is:\n",
            "[116]\tvalid_0's binary_logloss: 0.235087\tvalid_0's auc: 0.758177\n",
            "\n",
            "90 features with zero importance.\n",
            "\n"
          ]
        }
      ]
    },
    {
      "cell_type": "code",
      "source": [
        "fs.plot_feature_importances(threshold = 0.99)"
      ],
      "metadata": {
        "colab": {
          "base_uri": "https://localhost:8080/",
          "height": 714
        },
        "id": "zSCYqeKb4y3D",
        "outputId": "fbc957ae-1dad-4988-c97b-97ccb1c9eb95"
      },
      "execution_count": null,
      "outputs": [
        {
          "output_type": "display_data",
          "data": {
            "text/plain": [
              "<Figure size 720x432 with 1 Axes>"
            ],
            "image/png": "[encoded data removed]"
          },
          "metadata": {
            "needs_background": "light"
          }
        },
        {
          "output_type": "display_data",
          "data": {
            "text/plain": [
              "<Figure size 432x288 with 1 Axes>"
            ],
            "image/png": "[encoded data removed]"
          },
          "metadata": {
            "needs_background": "light"
          }
        },
        {
          "output_type": "stream",
          "name": "stdout",
          "text": [
            "105 features required for 0.99 of cumulative importance\n"
          ]
        }
      ]
    },
    {
      "cell_type": "code",
      "source": [
        "fs.identify_all(train, train_labels, {'missing_threshold': 0.8, 'correlation_threshold': 0.95, 'eval_metric': 'auc','task': 'classification', 'cumulative_importance': 0.95})"
      ],
      "metadata": {
        "colab": {
          "base_uri": "https://localhost:8080/"
        },
        "id": "KC1W7Tjw45_M",
        "outputId": "e6b96a73-e1c4-4d0e-d5be-a828e2e52c19"
      },
      "execution_count": null,
      "outputs": [
        {
          "output_type": "stream",
          "name": "stdout",
          "text": [
            "0 features with greater than 0.80 missing values.\n",
            "\n",
            "5 features with a single unique value.\n",
            "\n"
          ]
        },
        {
          "output_type": "stream",
          "name": "stderr",
          "text": [
            "<ipython-input-63-2e7bcd4280db>:144: DeprecationWarning: `np.bool` is a deprecated alias for the builtin `bool`. To silence this warning, use `bool` by itself. Doing this will not modify any behavior and is safe. If you specifically wanted the numpy scalar type, use `np.bool_` here.\n",
            "Deprecated in NumPy 1.20; for more details and guidance: https://numpy.org/devdocs/release/1.20.0-notes.html#deprecations\n",
            "  upper = corr_matrix.where(np.triu(np.ones(corr_matrix.shape), k = 1).astype(np.bool))\n"
          ]
        },
        {
          "output_type": "stream",
          "name": "stdout",
          "text": [
            "31 features with a correlation greater than 0.95.\n",
            "\n",
            "Training Gradient Boosting Model\n",
            "\n",
            "Training until validation scores don't improve for 100 rounds.\n",
            "Early stopping, best iteration is:\n",
            "[81]\tvalid_0's binary_logloss: 0.257148\tvalid_0's auc: 0.785121\n",
            "Training until validation scores don't improve for 100 rounds.\n",
            "Early stopping, best iteration is:\n",
            "[32]\tvalid_0's binary_logloss: 0.242774\tvalid_0's auc: 0.735393\n",
            "Training until validation scores don't improve for 100 rounds.\n",
            "Early stopping, best iteration is:\n",
            "[40]\tvalid_0's binary_logloss: 0.27325\tvalid_0's auc: 0.690991\n",
            "Training until validation scores don't improve for 100 rounds.\n",
            "Early stopping, best iteration is:\n",
            "[12]\tvalid_0's binary_logloss: 0.23911\tvalid_0's auc: 0.735497\n",
            "Training until validation scores don't improve for 100 rounds.\n",
            "Early stopping, best iteration is:\n",
            "[7]\tvalid_0's binary_logloss: 0.250416\tvalid_0's auc: 0.725511\n",
            "Training until validation scores don't improve for 100 rounds.\n",
            "Early stopping, best iteration is:\n",
            "[29]\tvalid_0's binary_logloss: 0.285282\tvalid_0's auc: 0.673005\n",
            "Training until validation scores don't improve for 100 rounds.\n",
            "Early stopping, best iteration is:\n",
            "[40]\tvalid_0's binary_logloss: 0.253481\tvalid_0's auc: 0.724545\n",
            "Training until validation scores don't improve for 100 rounds.\n",
            "Early stopping, best iteration is:\n",
            "[72]\tvalid_0's binary_logloss: 0.248824\tvalid_0's auc: 0.711302\n",
            "Training until validation scores don't improve for 100 rounds.\n",
            "Early stopping, best iteration is:\n",
            "[62]\tvalid_0's binary_logloss: 0.232061\tvalid_0's auc: 0.7186\n",
            "Training until validation scores don't improve for 100 rounds.\n",
            "Early stopping, best iteration is:\n",
            "[49]\tvalid_0's binary_logloss: 0.24483\tvalid_0's auc: 0.721555\n",
            "\n",
            "87 features with zero importance.\n",
            "\n",
            "170 features that do not contribute to cumulative importance of 0.95.\n",
            "\n",
            "187 total features out of 240 identified for removal.\n",
            "\n"
          ]
        }
      ]
    },
    {
      "cell_type": "code",
      "source": [
        "features_identified = fs.check_identified()"
      ],
      "metadata": {
        "colab": {
          "base_uri": "https://localhost:8080/"
        },
        "id": "7L9_t7Se6Dna",
        "outputId": "db32cc73-bafc-47e8-b51d-e0279fd4ec8d"
      },
      "execution_count": null,
      "outputs": [
        {
          "output_type": "stream",
          "name": "stdout",
          "text": [
            "187 features identified for removal\n"
          ]
        }
      ]
    },
    {
      "cell_type": "code",
      "source": [
        "list(features_identified)[:10]"
      ],
      "metadata": {
        "colab": {
          "base_uri": "https://localhost:8080/"
        },
        "id": "NypueTHw6GQk",
        "outputId": "97683741-29ec-46a0-a509-c5ded3c40220"
      },
      "execution_count": null,
      "outputs": [
        {
          "output_type": "execute_result",
          "data": {
            "text/plain": [
              "['NONLIVINGAREA_MODE',\n",
              " 'LIVE_REGION_NOT_WORK_REGION',\n",
              " 'ORGANIZATION_TYPE_Realtor',\n",
              " 'ORGANIZATION_TYPE_Agriculture',\n",
              " 'NAME_TYPE_SUITE_Spouse, partner',\n",
              " 'APARTMENTS_MEDI',\n",
              " 'ORGANIZATION_TYPE_Industry: type 3',\n",
              " 'ORGANIZATION_TYPE_Government',\n",
              " 'AMT_GOODS_PRICE',\n",
              " 'AMT_REQ_CREDIT_BUREAU_DAY']"
            ]
          },
          "metadata": {},
          "execution_count": 86
        }
      ]
    },
    {
      "cell_type": "code",
      "source": [
        "train_removed = fs.remove(train, methods = 'all')"
      ],
      "metadata": {
        "colab": {
          "base_uri": "https://localhost:8080/"
        },
        "id": "eD6a86L96igx",
        "outputId": "a3422413-aba3-4a4e-970d-c2d56e764b96"
      },
      "execution_count": null,
      "outputs": [
        {
          "output_type": "stream",
          "name": "stdout",
          "text": [
            "['missing', 'single_unique', 'collinear', 'zero_importance', 'low_importance'] methods have been run\n",
            "Removed 187 features\n"
          ]
        }
      ]
    },
    {
      "cell_type": "code",
      "source": [
        "train_removed.info()"
      ],
      "metadata": {
        "colab": {
          "base_uri": "https://localhost:8080/"
        },
        "id": "8cEI1odC7Abl",
        "outputId": "c098cae2-516f-4f60-9136-78e089ac942d"
      },
      "execution_count": null,
      "outputs": [
        {
          "output_type": "stream",
          "name": "stdout",
          "text": [
            "<class 'pandas.core.frame.DataFrame'>\n",
            "Int64Index: 10000 entries, 1024 to 11572\n",
            "Data columns (total 53 columns):\n",
            " #   Column                                             Non-Null Count  Dtype  \n",
            "---  ------                                             --------------  -----  \n",
            " 0   SK_ID_CURR                                         10000 non-null  int64  \n",
            " 1   CNT_CHILDREN                                       10000 non-null  int64  \n",
            " 2   AMT_INCOME_TOTAL                                   10000 non-null  float64\n",
            " 3   AMT_CREDIT                                         10000 non-null  float64\n",
            " 4   AMT_ANNUITY                                        10000 non-null  float64\n",
            " 5   REGION_POPULATION_RELATIVE                         10000 non-null  float64\n",
            " 6   DAYS_BIRTH                                         10000 non-null  float64\n",
            " 7   DAYS_EMPLOYED                                      10000 non-null  float64\n",
            " 8   DAYS_REGISTRATION                                  10000 non-null  float64\n",
            " 9   DAYS_ID_PUBLISH                                    10000 non-null  float64\n",
            " 10  OWN_CAR_AGE                                        3371 non-null   float64\n",
            " 11  FLAG_PHONE                                         10000 non-null  float64\n",
            " 12  CNT_FAM_MEMBERS                                    10000 non-null  float64\n",
            " 13  HOUR_APPR_PROCESS_START                            10000 non-null  float64\n",
            " 14  EXT_SOURCE_1                                       4384 non-null   float64\n",
            " 15  EXT_SOURCE_2                                       9973 non-null   float64\n",
            " 16  EXT_SOURCE_3                                       8015 non-null   float64\n",
            " 17  APARTMENTS_AVG                                     4944 non-null   float64\n",
            " 18  BASEMENTAREA_AVG                                   4193 non-null   float64\n",
            " 19  YEARS_BEGINEXPLUATATION_AVG                        5125 non-null   float64\n",
            " 20  YEARS_BUILD_AVG                                    3367 non-null   float64\n",
            " 21  COMMONAREA_AVG                                     3033 non-null   float64\n",
            " 22  ELEVATORS_AVG                                      4702 non-null   float64\n",
            " 23  ENTRANCES_AVG                                      5000 non-null   float64\n",
            " 24  FLOORSMAX_AVG                                      5065 non-null   float64\n",
            " 25  FLOORSMIN_AVG                                      3211 non-null   float64\n",
            " 26  LANDAREA_AVG                                       4091 non-null   float64\n",
            " 27  LIVINGAPARTMENTS_AVG                               3168 non-null   float64\n",
            " 28  LIVINGAREA_AVG                                     4981 non-null   float64\n",
            " 29  NONLIVINGAPARTMENTS_AVG                            3076 non-null   float64\n",
            " 30  NONLIVINGAREA_AVG                                  4533 non-null   float64\n",
            " 31  YEARS_BEGINEXPLUATATION_MODE                       5125 non-null   float64\n",
            " 32  TOTALAREA_MODE                                     5192 non-null   float64\n",
            " 33  OBS_30_CNT_SOCIAL_CIRCLE                           9956 non-null   float64\n",
            " 34  DEF_30_CNT_SOCIAL_CIRCLE                           9956 non-null   float64\n",
            " 35  DAYS_LAST_PHONE_CHANGE                             10000 non-null  float64\n",
            " 36  FLAG_DOCUMENT_3                                    10000 non-null  float64\n",
            " 37  AMT_REQ_CREDIT_BUREAU_MON                          8640 non-null   float64\n",
            " 38  AMT_REQ_CREDIT_BUREAU_QRT                          8640 non-null   float64\n",
            " 39  AMT_REQ_CREDIT_BUREAU_YEAR                         8640 non-null   float64\n",
            " 40  NAME_CONTRACT_TYPE_Cash loans                      10000 non-null  uint8  \n",
            " 41  CODE_GENDER_F                                      10000 non-null  uint8  \n",
            " 42  NAME_TYPE_SUITE_Family                             10000 non-null  uint8  \n",
            " 43  NAME_INCOME_TYPE_Working                           10000 non-null  uint8  \n",
            " 44  NAME_EDUCATION_TYPE_Higher education               10000 non-null  uint8  \n",
            " 45  NAME_EDUCATION_TYPE_Secondary / secondary special  10000 non-null  uint8  \n",
            " 46  NAME_FAMILY_STATUS_Married                         10000 non-null  uint8  \n",
            " 47  NAME_FAMILY_STATUS_Separated                       10000 non-null  uint8  \n",
            " 48  NAME_FAMILY_STATUS_Single / not married            10000 non-null  uint8  \n",
            " 49  OCCUPATION_TYPE_Drivers                            10000 non-null  uint8  \n",
            " 50  WEEKDAY_APPR_PROCESS_START_THURSDAY                10000 non-null  uint8  \n",
            " 51  WEEKDAY_APPR_PROCESS_START_WEDNESDAY               10000 non-null  uint8  \n",
            " 52  ORGANIZATION_TYPE_Business Entity Type 3           10000 non-null  uint8  \n",
            "dtypes: float64(38), int64(2), uint8(13)\n",
            "memory usage: 3.3 MB\n"
          ]
        }
      ]
    },
    {
      "cell_type": "code",
      "source": [
        "train_removed.to_csv('applicationData_after_FS.csv')"
      ],
      "metadata": {
        "id": "w31-s4mQ7ADa"
      },
      "execution_count": null,
      "outputs": []
    },
    {
      "cell_type": "code",
      "source": [
        "# BONUS --- collect live market data"
      ],
      "metadata": {
        "id": "sznpDFErEp7h"
      },
      "execution_count": null,
      "outputs": []
    },
    {
      "cell_type": "code",
      "source": [
        "!pip install yfinance\n",
        "!pip install plotly"
      ],
      "metadata": {
        "colab": {
          "base_uri": "https://localhost:8080/",
          "height": 1000
        },
        "id": "XwQRRq0EEs3L",
        "outputId": "94ed88a4-9c1d-421c-fe33-3b0fa3226d1d"
      },
      "execution_count": null,
      "outputs": [
        {
          "output_type": "stream",
          "name": "stdout",
          "text": [
            "Looking in indexes: https://pypi.org/simple, https://us-python.pkg.dev/colab-wheels/public/simple/\n",
            "Collecting yfinance\n",
            "  Downloading yfinance-0.2.12-py2.py3-none-any.whl (59 kB)\n",
            "\u001b[2K     \u001b[90m━━━━━━━━━━━━━━━━━━━━━━━━━━━━━━━━━━━━━━━━\u001b[0m \u001b[32m59.2/59.2 KB\u001b[0m \u001b[31m3.0 MB/s\u001b[0m eta \u001b[36m0:00:00\u001b[0m\n",
            "\u001b[?25hCollecting beautifulsoup4>=4.11.1\n",
            "  Downloading beautifulsoup4-4.11.2-py3-none-any.whl (129 kB)\n",
            "\u001b[2K     \u001b[90m━━━━━━━━━━━━━━━━━━━━━━━━━━━━━━━━━━━━━━\u001b[0m \u001b[32m129.4/129.4 KB\u001b[0m \u001b[31m11.3 MB/s\u001b[0m eta \u001b[36m0:00:00\u001b[0m\n",
            "\u001b[?25hCollecting requests>=2.26\n",
            "  Downloading requests-2.28.2-py3-none-any.whl (62 kB)\n",
            "\u001b[2K     \u001b[90m━━━━━━━━━━━━━━━━━━━━━━━━━━━━━━━━━━━━━━━━\u001b[0m \u001b[32m62.8/62.8 KB\u001b[0m \u001b[31m7.1 MB/s\u001b[0m eta \u001b[36m0:00:00\u001b[0m\n",
            "\u001b[?25hRequirement already satisfied: lxml>=4.9.1 in /usr/local/lib/python3.9/dist-packages (from yfinance) (4.9.2)\n",
            "Requirement already satisfied: numpy>=1.16.5 in /usr/local/lib/python3.9/dist-packages (from yfinance) (1.22.4)\n",
            "Collecting appdirs>=1.4.4\n",
            "  Downloading appdirs-1.4.4-py2.py3-none-any.whl (9.6 kB)\n",
            "Collecting cryptography>=3.3.2\n",
            "  Downloading cryptography-39.0.2-cp36-abi3-manylinux_2_28_x86_64.whl (4.2 MB)\n",
            "\u001b[2K     \u001b[90m━━━━━━━━━━━━━━━━━━━━━━━━━━━━━━━━━━━━━━━━\u001b[0m \u001b[32m4.2/4.2 MB\u001b[0m \u001b[31m15.4 MB/s\u001b[0m eta \u001b[36m0:00:00\u001b[0m\n",
            "\u001b[?25hCollecting frozendict>=2.3.4\n",
            "  Downloading frozendict-2.3.5-cp39-cp39-manylinux_2_17_x86_64.manylinux2014_x86_64.whl (112 kB)\n",
            "\u001b[2K     \u001b[90m━━━━━━━━━━━━━━━━━━━━━━━━━━━━━━━━━━━━━━\u001b[0m \u001b[32m112.8/112.8 KB\u001b[0m \u001b[31m12.7 MB/s\u001b[0m eta \u001b[36m0:00:00\u001b[0m\n",
            "\u001b[?25hRequirement already satisfied: pandas>=1.3.0 in /usr/local/lib/python3.9/dist-packages (from yfinance) (1.3.5)\n",
            "Requirement already satisfied: pytz>=2022.5 in /usr/local/lib/python3.9/dist-packages (from yfinance) (2022.7.1)\n",
            "Requirement already satisfied: multitasking>=0.0.7 in /usr/local/lib/python3.9/dist-packages (from yfinance) (0.0.11)\n",
            "Collecting html5lib>=1.1\n",
            "  Downloading html5lib-1.1-py2.py3-none-any.whl (112 kB)\n",
            "\u001b[2K     \u001b[90m━━━━━━━━━━━━━━━━━━━━━━━━━━━━━━━━━━━━━━\u001b[0m \u001b[32m112.2/112.2 KB\u001b[0m \u001b[31m11.2 MB/s\u001b[0m eta \u001b[36m0:00:00\u001b[0m\n",
            "\u001b[?25hCollecting soupsieve>1.2\n",
            "  Downloading soupsieve-2.4-py3-none-any.whl (37 kB)\n",
            "Requirement already satisfied: cffi>=1.12 in /usr/local/lib/python3.9/dist-packages (from cryptography>=3.3.2->yfinance) (1.15.1)\n",
            "Requirement already satisfied: six>=1.9 in /usr/local/lib/python3.9/dist-packages (from html5lib>=1.1->yfinance) (1.15.0)\n",
            "Requirement already satisfied: webencodings in /usr/local/lib/python3.9/dist-packages (from html5lib>=1.1->yfinance) (0.5.1)\n",
            "Requirement already satisfied: python-dateutil>=2.7.3 in /usr/local/lib/python3.9/dist-packages (from pandas>=1.3.0->yfinance) (2.8.2)\n",
            "Requirement already satisfied: idna<4,>=2.5 in /usr/local/lib/python3.9/dist-packages (from requests>=2.26->yfinance) (2.10)\n",
            "Requirement already satisfied: urllib3<1.27,>=1.21.1 in /usr/local/lib/python3.9/dist-packages (from requests>=2.26->yfinance) (1.26.14)\n",
            "Collecting charset-normalizer<4,>=2\n",
            "  Downloading charset_normalizer-3.1.0-cp39-cp39-manylinux_2_17_x86_64.manylinux2014_x86_64.whl (199 kB)\n",
            "\u001b[2K     \u001b[90m━━━━━━━━━━━━━━━━━━━━━━━━━━━━━━━━━━━━━━━\u001b[0m \u001b[32m199.2/199.2 KB\u001b[0m \u001b[31m7.3 MB/s\u001b[0m eta \u001b[36m0:00:00\u001b[0m\n",
            "\u001b[?25hRequirement already satisfied: certifi>=2017.4.17 in /usr/local/lib/python3.9/dist-packages (from requests>=2.26->yfinance) (2022.12.7)\n",
            "Requirement already satisfied: pycparser in /usr/local/lib/python3.9/dist-packages (from cffi>=1.12->cryptography>=3.3.2->yfinance) (2.21)\n",
            "Installing collected packages: appdirs, soupsieve, html5lib, frozendict, charset-normalizer, requests, cryptography, beautifulsoup4, yfinance\n",
            "  Attempting uninstall: html5lib\n",
            "    Found existing installation: html5lib 1.0.1\n",
            "    Uninstalling html5lib-1.0.1:\n",
            "      Successfully uninstalled html5lib-1.0.1\n",
            "  Attempting uninstall: requests\n",
            "    Found existing installation: requests 2.25.1\n",
            "    Uninstalling requests-2.25.1:\n",
            "      Successfully uninstalled requests-2.25.1\n",
            "  Attempting uninstall: beautifulsoup4\n",
            "    Found existing installation: beautifulsoup4 4.6.3\n",
            "    Uninstalling beautifulsoup4-4.6.3:\n",
            "      Successfully uninstalled beautifulsoup4-4.6.3\n",
            "Successfully installed appdirs-1.4.4 beautifulsoup4-4.11.2 charset-normalizer-3.1.0 cryptography-39.0.2 frozendict-2.3.5 html5lib-1.1 requests-2.28.2 soupsieve-2.4 yfinance-0.2.12\n"
          ]
        },
        {
          "output_type": "display_data",
          "data": {
            "application/vnd.colab-display-data+json": {
              "pip_warning": {
                "packages": [
                  "requests"
                ]
              }
            }
          },
          "metadata": {}
        },
        {
          "output_type": "stream",
          "name": "stdout",
          "text": [
            "Looking in indexes: https://pypi.org/simple, https://us-python.pkg.dev/colab-wheels/public/simple/\n",
            "Requirement already satisfied: plotly in /usr/local/lib/python3.9/dist-packages (5.5.0)\n",
            "Requirement already satisfied: tenacity>=6.2.0 in /usr/local/lib/python3.9/dist-packages (from plotly) (8.2.2)\n",
            "Requirement already satisfied: six in /usr/local/lib/python3.9/dist-packages (from plotly) (1.15.0)\n"
          ]
        }
      ]
    },
    {
      "cell_type": "code",
      "source": [
        "import numpy as np\n",
        "import pandas as pd\n",
        "# Data Source\n",
        "import yfinance as yf\n",
        "import plotly.graph_objs as go"
      ],
      "metadata": {
        "id": "ZlY4Dt0BEv-a"
      },
      "execution_count": null,
      "outputs": []
    },
    {
      "cell_type": "code",
      "source": [
        "jpmc_data = yf.download(tickers='JPM',period='1d',interval='1m')\n",
        "jpmc_data"
      ],
      "metadata": {
        "colab": {
          "base_uri": "https://localhost:8080/",
          "height": 472
        },
        "id": "VtdXlGFfE_2C",
        "outputId": "1d92246d-2717-42ab-9987-ed8d938f78b7"
      },
      "execution_count": null,
      "outputs": [
        {
          "output_type": "stream",
          "name": "stdout",
          "text": [
            "\r[*********************100%***********************]  1 of 1 completed\n"
          ]
        },
        {
          "output_type": "execute_result",
          "data": {
            "text/plain": [
              "                                 Open        High         Low       Close  \\\n",
              "Datetime                                                                    \n",
              "2023-03-09 09:30:00-05:00  136.759995  137.270004  136.600006  137.160004   \n",
              "2023-03-09 09:31:00-05:00  137.149994  137.179993  136.779999  137.059998   \n",
              "2023-03-09 09:32:00-05:00  137.059998  137.115005  136.910004  136.934998   \n",
              "2023-03-09 09:33:00-05:00  136.929993  137.070007  136.850006  137.039993   \n",
              "2023-03-09 09:34:00-05:00  137.039993  137.087097  136.850006  137.087097   \n",
              "...                               ...         ...         ...         ...   \n",
              "2023-03-09 10:50:00-05:00  135.089996  135.199997  135.080002  135.130005   \n",
              "2023-03-09 10:51:00-05:00  135.139999  135.149994  135.139999  135.139999   \n",
              "2023-03-09 10:52:00-05:00  135.169998  135.179993  135.080002  135.080002   \n",
              "2023-03-09 10:53:00-05:00  135.070007  135.250000  135.054993  135.214996   \n",
              "2023-03-09 10:54:00-05:00  135.220001  135.220001  135.220001  135.220001   \n",
              "\n",
              "                            Adj Close  Volume  \n",
              "Datetime                                       \n",
              "2023-03-09 09:30:00-05:00  137.160004  281441  \n",
              "2023-03-09 09:31:00-05:00  137.059998   33117  \n",
              "2023-03-09 09:32:00-05:00  136.934998   23350  \n",
              "2023-03-09 09:33:00-05:00  137.039993   44605  \n",
              "2023-03-09 09:34:00-05:00  137.087097   38175  \n",
              "...                               ...     ...  \n",
              "2023-03-09 10:50:00-05:00  135.130005   26129  \n",
              "2023-03-09 10:51:00-05:00  135.139999   46033  \n",
              "2023-03-09 10:52:00-05:00  135.080002   19338  \n",
              "2023-03-09 10:53:00-05:00  135.214996   25852  \n",
              "2023-03-09 10:54:00-05:00  135.220001       0  \n",
              "\n",
              "[85 rows x 6 columns]"
            ],
            "text/html": [
              "\n",
              "  <div id=\"df-a2f5c9d3-8f66-47ff-91cf-434e935c5a69\">\n",
              "    <div class=\"colab-df-container\">\n",
              "      <div>\n",
              "<style scoped>\n",
              "    .dataframe tbody tr th:only-of-type {\n",
              "        vertical-align: middle;\n",
              "    }\n",
              "\n",
              "    .dataframe tbody tr th {\n",
              "        vertical-align: top;\n",
              "    }\n",
              "\n",
              "    .dataframe thead th {\n",
              "        text-align: right;\n",
              "    }\n",
              "</style>\n",
              "<table border=\"1\" class=\"dataframe\">\n",
              "  <thead>\n",
              "    <tr style=\"text-align: right;\">\n",
              "      <th></th>\n",
              "      <th>Open</th>\n",
              "      <th>High</th>\n",
              "      <th>Low</th>\n",
              "      <th>Close</th>\n",
              "      <th>Adj Close</th>\n",
              "      <th>Volume</th>\n",
              "    </tr>\n",
              "    <tr>\n",
              "      <th>Datetime</th>\n",
              "      <th></th>\n",
              "      <th></th>\n",
              "      <th></th>\n",
              "      <th></th>\n",
              "      <th></th>\n",
              "      <th></th>\n",
              "    </tr>\n",
              "  </thead>\n",
              "  <tbody>\n",
              "    <tr>\n",
              "      <th>2023-03-09 09:30:00-05:00</th>\n",
              "      <td>136.759995</td>\n",
              "      <td>137.270004</td>\n",
              "      <td>136.600006</td>\n",
              "      <td>137.160004</td>\n",
              "      <td>137.160004</td>\n",
              "      <td>281441</td>\n",
              "    </tr>\n",
              "    <tr>\n",
              "      <th>2023-03-09 09:31:00-05:00</th>\n",
              "      <td>137.149994</td>\n",
              "      <td>137.179993</td>\n",
              "      <td>136.779999</td>\n",
              "      <td>137.059998</td>\n",
              "      <td>137.059998</td>\n",
              "      <td>33117</td>\n",
              "    </tr>\n",
              "    <tr>\n",
              "      <th>2023-03-09 09:32:00-05:00</th>\n",
              "      <td>137.059998</td>\n",
              "      <td>137.115005</td>\n",
              "      <td>136.910004</td>\n",
              "      <td>136.934998</td>\n",
              "      <td>136.934998</td>\n",
              "      <td>23350</td>\n",
              "    </tr>\n",
              "    <tr>\n",
              "      <th>2023-03-09 09:33:00-05:00</th>\n",
              "      <td>136.929993</td>\n",
              "      <td>137.070007</td>\n",
              "      <td>136.850006</td>\n",
              "      <td>137.039993</td>\n",
              "      <td>137.039993</td>\n",
              "      <td>44605</td>\n",
              "    </tr>\n",
              "    <tr>\n",
              "      <th>2023-03-09 09:34:00-05:00</th>\n",
              "      <td>137.039993</td>\n",
              "      <td>137.087097</td>\n",
              "      <td>136.850006</td>\n",
              "      <td>137.087097</td>\n",
              "      <td>137.087097</td>\n",
              "      <td>38175</td>\n",
              "    </tr>\n",
              "    <tr>\n",
              "      <th>...</th>\n",
              "      <td>...</td>\n",
              "      <td>...</td>\n",
              "      <td>...</td>\n",
              "      <td>...</td>\n",
              "      <td>...</td>\n",
              "      <td>...</td>\n",
              "    </tr>\n",
              "    <tr>\n",
              "      <th>2023-03-09 10:50:00-05:00</th>\n",
              "      <td>135.089996</td>\n",
              "      <td>135.199997</td>\n",
              "      <td>135.080002</td>\n",
              "      <td>135.130005</td>\n",
              "      <td>135.130005</td>\n",
              "      <td>26129</td>\n",
              "    </tr>\n",
              "    <tr>\n",
              "      <th>2023-03-09 10:51:00-05:00</th>\n",
              "      <td>135.139999</td>\n",
              "      <td>135.149994</td>\n",
              "      <td>135.139999</td>\n",
              "      <td>135.139999</td>\n",
              "      <td>135.139999</td>\n",
              "      <td>46033</td>\n",
              "    </tr>\n",
              "    <tr>\n",
              "      <th>2023-03-09 10:52:00-05:00</th>\n",
              "      <td>135.169998</td>\n",
              "      <td>135.179993</td>\n",
              "      <td>135.080002</td>\n",
              "      <td>135.080002</td>\n",
              "      <td>135.080002</td>\n",
              "      <td>19338</td>\n",
              "    </tr>\n",
              "    <tr>\n",
              "      <th>2023-03-09 10:53:00-05:00</th>\n",
              "      <td>135.070007</td>\n",
              "      <td>135.250000</td>\n",
              "      <td>135.054993</td>\n",
              "      <td>135.214996</td>\n",
              "      <td>135.214996</td>\n",
              "      <td>25852</td>\n",
              "    </tr>\n",
              "    <tr>\n",
              "      <th>2023-03-09 10:54:00-05:00</th>\n",
              "      <td>135.220001</td>\n",
              "      <td>135.220001</td>\n",
              "      <td>135.220001</td>\n",
              "      <td>135.220001</td>\n",
              "      <td>135.220001</td>\n",
              "      <td>0</td>\n",
              "    </tr>\n",
              "  </tbody>\n",
              "</table>\n",
              "<p>85 rows × 6 columns</p>\n",
              "</div>\n",
              "      <button class=\"colab-df-convert\" onclick=\"convertToInteractive('df-a2f5c9d3-8f66-47ff-91cf-434e935c5a69')\"\n",
              "              title=\"Convert this dataframe to an interactive table.\"\n",
              "              style=\"display:none;\">\n",
              "        \n",
              "  <svg xmlns=\"http://www.w3.org/2000/svg\" height=\"24px\"viewBox=\"0 0 24 24\"\n",
              "       width=\"24px\">\n",
              "    <path d=\"M0 0h24v24H0V0z\" fill=\"none\"/>\n",
              "    <path d=\"M18.56 5.44l.94 2.06.94-2.06 2.06-.94-2.06-.94-.94-2.06-.94 2.06-2.06.94zm-11 1L8.5 8.5l.94-2.06 2.06-.94-2.06-.94L8.5 2.5l-.94 2.06-2.06.94zm10 10l.94 2.06.94-2.06 2.06-.94-2.06-.94-.94-2.06-.94 2.06-2.06.94z\"/><path d=\"M17.41 7.96l-1.37-1.37c-.4-.4-.92-.59-1.43-.59-.52 0-1.04.2-1.43.59L10.3 9.45l-7.72 7.72c-.78.78-.78 2.05 0 2.83L4 21.41c.39.39.9.59 1.41.59.51 0 1.02-.2 1.41-.59l7.78-7.78 2.81-2.81c.8-.78.8-2.07 0-2.86zM5.41 20L4 18.59l7.72-7.72 1.47 1.35L5.41 20z\"/>\n",
              "  </svg>\n",
              "      </button>\n",
              "      \n",
              "  <style>\n",
              "    .colab-df-container {\n",
              "      display:flex;\n",
              "      flex-wrap:wrap;\n",
              "      gap: 12px;\n",
              "    }\n",
              "\n",
              "    .colab-df-convert {\n",
              "      background-color: #E8F0FE;\n",
              "      border: none;\n",
              "      border-radius: 50%;\n",
              "      cursor: pointer;\n",
              "      display: none;\n",
              "      fill: #1967D2;\n",
              "      height: 32px;\n",
              "      padding: 0 0 0 0;\n",
              "      width: 32px;\n",
              "    }\n",
              "\n",
              "    .colab-df-convert:hover {\n",
              "      background-color: #E2EBFA;\n",
              "      box-shadow: 0px 1px 2px rgba(60, 64, 67, 0.3), 0px 1px 3px 1px rgba(60, 64, 67, 0.15);\n",
              "      fill: #174EA6;\n",
              "    }\n",
              "\n",
              "    [theme=dark] .colab-df-convert {\n",
              "      background-color: #3B4455;\n",
              "      fill: #D2E3FC;\n",
              "    }\n",
              "\n",
              "    [theme=dark] .colab-df-convert:hover {\n",
              "      background-color: #434B5C;\n",
              "      box-shadow: 0px 1px 3px 1px rgba(0, 0, 0, 0.15);\n",
              "      filter: drop-shadow(0px 1px 2px rgba(0, 0, 0, 0.3));\n",
              "      fill: #FFFFFF;\n",
              "    }\n",
              "  </style>\n",
              "\n",
              "      <script>\n",
              "        const buttonEl =\n",
              "          document.querySelector('#df-a2f5c9d3-8f66-47ff-91cf-434e935c5a69 button.colab-df-convert');\n",
              "        buttonEl.style.display =\n",
              "          google.colab.kernel.accessAllowed ? 'block' : 'none';\n",
              "\n",
              "        async function convertToInteractive(key) {\n",
              "          const element = document.querySelector('#df-a2f5c9d3-8f66-47ff-91cf-434e935c5a69');\n",
              "          const dataTable =\n",
              "            await google.colab.kernel.invokeFunction('convertToInteractive',\n",
              "                                                     [key], {});\n",
              "          if (!dataTable) return;\n",
              "\n",
              "          const docLinkHtml = 'Like what you see? Visit the ' +\n",
              "            '<a target=\"_blank\" href=https://colab.research.google.com/notebooks/data_table.ipynb>data table notebook</a>'\n",
              "            + ' to learn more about interactive tables.';\n",
              "          element.innerHTML = '';\n",
              "          dataTable['output_type'] = 'display_data';\n",
              "          await google.colab.output.renderOutput(dataTable, element);\n",
              "          const docLink = document.createElement('div');\n",
              "          docLink.innerHTML = docLinkHtml;\n",
              "          element.appendChild(docLink);\n",
              "        }\n",
              "      </script>\n",
              "    </div>\n",
              "  </div>\n",
              "  "
            ]
          },
          "metadata": {},
          "execution_count": 6
        }
      ]
    },
    {
      "cell_type": "code",
      "source": [
        "# Define my figure\n",
        "fig = go.Figure()"
      ],
      "metadata": {
        "id": "vu9U5Q9wFK4j"
      },
      "execution_count": null,
      "outputs": []
    },
    {
      "cell_type": "code",
      "source": [
        "fig.add_trace(go.Candlestick(x=jpmc_data.index,\n",
        "                             open=jpmc_data['Open'],\n",
        "                             high=jpmc_data['High'],\n",
        "                             low=jpmc_data['Low'],\n",
        "                             close=jpmc_data['Close'], name='Market Data for JPMC'))\n",
        "# Add titles\n",
        "fig.update_layout(\n",
        "    title='JPMC live share price evolution',\n",
        "    yaxis_title='Stock Price (USD per Shares)')\n",
        "\n",
        "# X-Axes\n",
        "fig.update_xaxes(\n",
        "    rangeslider_visible=True,\n",
        "    rangeselector=dict(\n",
        "        buttons=list([\n",
        "            dict(count=15, label=\"15m\", step=\"minute\", stepmode=\"backward\"),\n",
        "            dict(count=45, label=\"45m\", step=\"minute\", stepmode=\"backward\"),\n",
        "            dict(count=1, label=\"HTD\", step=\"hour\", stepmode=\"todate\"),\n",
        "            dict(count=3, label=\"3h\", step=\"hour\", stepmode=\"backward\"),\n",
        "            dict(step=\"all\")\n",
        "        ])\n",
        "    )\n",
        ")\n",
        "# Show\n",
        "fig.show()"
      ],
      "metadata": {
        "id": "8J0RnRowFNBi",
        "outputId": "f68c27b5-8143-4fde-f4aa-51c41c1d4ed9",
        "colab": {
          "base_uri": "https://localhost:8080/",
          "height": 542
        }
      },
      "execution_count": null,
      "outputs": [
        {
          "output_type": "display_data",
          "data": {
            "text/html": [
              "<html>\n",
              "<head><meta charset=\"utf-8\" /></head>\n",
              "<body>\n",
              "    <div>            <script src=\"https://cdnjs.cloudflare.com/ajax/libs/mathjax/2.7.5/MathJax.js?config=TeX-AMS-MML_SVG\"></script><script type=\"text/javascript\">if (window.MathJax) {MathJax.Hub.Config({SVG: {font: \"STIX-Web\"}});}</script>                <script type=\"text/javascript\">window.PlotlyConfig = {MathJaxConfig: 'local'};</script>\n",
              "        <script src=\"https://cdn.plot.ly/plotly-2.8.3.min.js\"></script>                <div id=\"89368148-5887-461e-a5d0-0990608f2678\" class=\"plotly-graph-div\" style=\"height:525px; width:100%;\"></div>            <script type=\"text/javascript\">                                    window.PLOTLYENV=window.PLOTLYENV || {};                                    if (document.getElementById(\"89368148-5887-461e-a5d0-0990608f2678\")) {                    Plotly.newPlot(                        \"89368148-5887-461e-a5d0-0990608f2678\",                        [{\"close\":[137.16000366210938,137.05999755859375,136.93499755859375,137.0399932861328,137.08709716796875,137.19000244140625,137.1999969482422,137.25,137.22000122070312,137.08999633789062,136.9499969482422,136.64999389648438,136.67160034179688,136.52000427246094,136.39500427246094,136.47000122070312,136.38999938964844,136.24000549316406,136.6999969482422,136.72000122070312,136.5,136.25990295410156,135.9600067138672,135.92999267578125,135.8300018310547,135.84500122070312,135.75999450683594,135.58999633789062,135.63999938964844,135.5500030517578,135.44000244140625,135.1999969482422,135.36500549316406,135.6199951171875,135.36000061035156,135.3000030517578,135.32000732421875,135.2667999267578,135.27499389648438,135.24000549316406,135.17999267578125,135.14889526367188,135.02999877929688,134.8300018310547,134.91000366210938,135.05999755859375,134.92999267578125,134.63999938964844,134.7100067138672,134.77999877929688,134.6699981689453,134.7100067138672,134.61000061035156,134.6699981689453,134.5399932861328,134.52999877929688,134.61000061035156,134.63999938964844,134.9499969482422,134.97999572753906,135.01939392089844,135.0800018310547,135.08999633789062,135.17999267578125,135.2050018310547,135.31959533691406,135.2899932861328,135.13999938964844,135.22000122070312,135.1999969482422,135.13999938964844,135.1199951171875,135.1096954345703,135.0500030517578,135.14999389648438,135.14999389648438,135.08999633789062,135.04299926757812,135.19000244140625,135.12460327148438,135.1300048828125,135.13999938964844,135.0800018310547,135.21499633789062,135.2100067138672,135.02999877929688,134.7899932861328],\"high\":[137.27000427246094,137.17999267578125,137.11500549316406,137.07000732421875,137.08709716796875,137.27000427246094,137.3000030517578,137.30999755859375,137.35000610351562,137.25,137.10000610351562,137.0,136.72999572753906,136.75,136.57000732421875,136.47000122070312,136.56500244140625,136.4320068359375,136.6999969482422,136.80999755859375,136.75999450683594,136.5800018310547,136.25999450683594,135.9949951171875,135.9550018310547,135.85000610351562,135.9199981689453,135.74000549316406,135.72000122070312,135.8000030517578,135.60000610351562,135.4550018310547,135.39500427246094,135.6699981689453,135.6309051513672,135.4600067138672,135.3800048828125,135.41000366210938,135.3699951171875,135.28500366210938,135.2449951171875,135.25,135.13999938964844,135.02999877929688,134.9600067138672,135.06539916992188,135.1300048828125,135.05999755859375,134.74000549316406,134.86000061035156,134.8000030517578,134.7899932861328,134.6999969482422,134.6999969482422,134.67999267578125,134.5926971435547,134.64999389648438,134.7899932861328,135.0,135.0,135.0399932861328,135.0800018310547,135.17999267578125,135.1862030029297,135.22000122070312,135.35499572753906,135.38999938964844,135.3000030517578,135.2550048828125,135.2899932861328,135.22999572753906,135.1999969482422,135.125,135.17999267578125,135.14999389648438,135.1699981689453,135.2200927734375,135.0800018310547,135.22999572753906,135.2899932861328,135.1999969482422,135.14999389648438,135.17999267578125,135.25,135.2353057861328,135.21249389648438,135.0399932861328],\"low\":[136.60000610351562,136.77999877929688,136.91000366210938,136.85000610351562,136.85000610351562,137.0601043701172,137.16000366210938,137.19000244140625,137.1300048828125,137.00999450683594,136.8800048828125,136.64500427246094,136.60000610351562,136.47000122070312,136.3699951171875,136.25999450683594,136.3800048828125,136.24000549316406,136.25999450683594,136.61000061035156,136.5,136.25990295410156,135.91000366210938,135.8800048828125,135.75999450683594,135.7100067138672,135.7100067138672,135.58999633789062,135.58560180664062,135.5500030517578,135.4250030517578,135.1999969482422,135.19000244140625,135.30999755859375,135.3300018310547,135.27000427246094,135.27000427246094,135.24000549316406,135.1699981689453,135.17959594726562,135.16000366210938,135.05999755859375,135.02000427246094,134.82000732421875,134.8300018310547,134.8800048828125,134.9199981689453,134.63999938964844,134.60000610351562,134.67999267578125,134.58999633789062,134.6199951171875,134.50999450683594,134.5800018310547,134.52000427246094,134.49000549316406,134.50999450683594,134.58999633789062,134.63999938964844,134.86000061035156,134.89999389648438,134.94500732421875,135.05999755859375,135.0399932861328,135.0800018310547,135.2100067138672,135.25379943847656,135.1199951171875,135.1300048828125,135.1793975830078,135.07179260253906,135.05499267578125,134.99000549316406,135.03500366210938,135.0500030517578,135.08999633789062,135.08999633789062,134.96099853515625,135.05499267578125,135.12460327148438,135.0800018310547,135.11000061035156,135.0800018310547,135.05499267578125,135.1649932861328,135.02999877929688,134.78500366210938],\"name\":\"Market Data for JPMC\",\"open\":[136.75999450683594,137.14999389648438,137.05999755859375,136.92999267578125,137.0399932861328,137.07139587402344,137.18499755859375,137.2050018310547,137.25999450683594,137.24000549316406,137.0800018310547,136.97000122070312,136.6300048828125,136.6750030517578,136.52999877929688,136.3800048828125,136.48500061035156,136.40499877929688,136.25999450683594,136.6999969482422,136.72000122070312,136.5,136.2100067138672,135.9600067138672,135.9199981689453,135.82699584960938,135.85000610351562,135.72999572753906,135.58560180664062,135.6199951171875,135.5500030517578,135.4499969482422,135.19000244140625,135.36500549316406,135.6300048828125,135.36000061035156,135.2899932861328,135.30999755859375,135.25650024414062,135.28500366210938,135.2449951171875,135.17999267578125,135.13999938964844,135.02999877929688,134.8300018310547,134.88999938964844,135.06500244140625,134.9199981689453,134.61000061035156,134.7100067138672,134.7899932861328,134.6699981689453,134.69000244140625,134.61000061035156,134.6699981689453,134.5399932861328,134.50999450683594,134.6300048828125,134.64999389648438,134.9600067138672,134.97999572753906,135.00999450683594,135.08999633789062,135.0800018310547,135.18499755859375,135.2100067138672,135.3300018310547,135.2899932861328,135.13999938964844,135.22999572753906,135.2100067138672,135.13999938964844,135.11000061035156,135.14999389648438,135.05999755859375,135.13330078125,135.14999389648438,135.05999755859375,135.05499267578125,135.17999267578125,135.08999633789062,135.1199951171875,135.1699981689453,135.07000732421875,135.22000122070312,135.1999969482422,135.0399932861328],\"x\":[\"2023-03-09T09:30:00-05:00\",\"2023-03-09T09:31:00-05:00\",\"2023-03-09T09:32:00-05:00\",\"2023-03-09T09:33:00-05:00\",\"2023-03-09T09:34:00-05:00\",\"2023-03-09T09:35:00-05:00\",\"2023-03-09T09:36:00-05:00\",\"2023-03-09T09:37:00-05:00\",\"2023-03-09T09:38:00-05:00\",\"2023-03-09T09:39:00-05:00\",\"2023-03-09T09:40:00-05:00\",\"2023-03-09T09:41:00-05:00\",\"2023-03-09T09:42:00-05:00\",\"2023-03-09T09:43:00-05:00\",\"2023-03-09T09:44:00-05:00\",\"2023-03-09T09:45:00-05:00\",\"2023-03-09T09:46:00-05:00\",\"2023-03-09T09:47:00-05:00\",\"2023-03-09T09:48:00-05:00\",\"2023-03-09T09:49:00-05:00\",\"2023-03-09T09:50:00-05:00\",\"2023-03-09T09:51:00-05:00\",\"2023-03-09T09:52:00-05:00\",\"2023-03-09T09:53:00-05:00\",\"2023-03-09T09:54:00-05:00\",\"2023-03-09T09:55:00-05:00\",\"2023-03-09T09:56:00-05:00\",\"2023-03-09T09:57:00-05:00\",\"2023-03-09T09:58:00-05:00\",\"2023-03-09T09:59:00-05:00\",\"2023-03-09T10:00:00-05:00\",\"2023-03-09T10:01:00-05:00\",\"2023-03-09T10:02:00-05:00\",\"2023-03-09T10:03:00-05:00\",\"2023-03-09T10:04:00-05:00\",\"2023-03-09T10:05:00-05:00\",\"2023-03-09T10:06:00-05:00\",\"2023-03-09T10:07:00-05:00\",\"2023-03-09T10:08:00-05:00\",\"2023-03-09T10:09:00-05:00\",\"2023-03-09T10:10:00-05:00\",\"2023-03-09T10:11:00-05:00\",\"2023-03-09T10:12:00-05:00\",\"2023-03-09T10:13:00-05:00\",\"2023-03-09T10:14:00-05:00\",\"2023-03-09T10:15:00-05:00\",\"2023-03-09T10:16:00-05:00\",\"2023-03-09T10:17:00-05:00\",\"2023-03-09T10:18:00-05:00\",\"2023-03-09T10:19:00-05:00\",\"2023-03-09T10:20:00-05:00\",\"2023-03-09T10:21:00-05:00\",\"2023-03-09T10:22:00-05:00\",\"2023-03-09T10:23:00-05:00\",\"2023-03-09T10:24:00-05:00\",\"2023-03-09T10:25:00-05:00\",\"2023-03-09T10:26:00-05:00\",\"2023-03-09T10:27:00-05:00\",\"2023-03-09T10:28:00-05:00\",\"2023-03-09T10:29:00-05:00\",\"2023-03-09T10:30:00-05:00\",\"2023-03-09T10:31:00-05:00\",\"2023-03-09T10:32:00-05:00\",\"2023-03-09T10:33:00-05:00\",\"2023-03-09T10:34:00-05:00\",\"2023-03-09T10:35:00-05:00\",\"2023-03-09T10:36:00-05:00\",\"2023-03-09T10:37:00-05:00\",\"2023-03-09T10:38:00-05:00\",\"2023-03-09T10:39:00-05:00\",\"2023-03-09T10:40:00-05:00\",\"2023-03-09T10:41:00-05:00\",\"2023-03-09T10:42:00-05:00\",\"2023-03-09T10:43:00-05:00\",\"2023-03-09T10:44:00-05:00\",\"2023-03-09T10:45:00-05:00\",\"2023-03-09T10:46:00-05:00\",\"2023-03-09T10:47:00-05:00\",\"2023-03-09T10:48:00-05:00\",\"2023-03-09T10:49:00-05:00\",\"2023-03-09T10:50:00-05:00\",\"2023-03-09T10:51:00-05:00\",\"2023-03-09T10:52:00-05:00\",\"2023-03-09T10:53:00-05:00\",\"2023-03-09T10:54:00-05:00\",\"2023-03-09T10:55:00-05:00\",\"2023-03-09T10:56:00-05:00\"],\"type\":\"candlestick\"}],                        {\"template\":{\"data\":{\"bar\":[{\"error_x\":{\"color\":\"#2a3f5f\"},\"error_y\":{\"color\":\"#2a3f5f\"},\"marker\":{\"line\":{\"color\":\"#E5ECF6\",\"width\":0.5},\"pattern\":{\"fillmode\":\"overlay\",\"size\":10,\"solidity\":0.2}},\"type\":\"bar\"}],\"barpolar\":[{\"marker\":{\"line\":{\"color\":\"#E5ECF6\",\"width\":0.5},\"pattern\":{\"fillmode\":\"overlay\",\"size\":10,\"solidity\":0.2}},\"type\":\"barpolar\"}],\"carpet\":[{\"aaxis\":{\"endlinecolor\":\"#2a3f5f\",\"gridcolor\":\"white\",\"linecolor\":\"white\",\"minorgridcolor\":\"white\",\"startlinecolor\":\"#2a3f5f\"},\"baxis\":{\"endlinecolor\":\"#2a3f5f\",\"gridcolor\":\"white\",\"linecolor\":\"white\",\"minorgridcolor\":\"white\",\"startlinecolor\":\"#2a3f5f\"},\"type\":\"carpet\"}],\"choropleth\":[{\"colorbar\":{\"outlinewidth\":0,\"ticks\":\"\"},\"type\":\"choropleth\"}],\"contour\":[{\"colorbar\":{\"outlinewidth\":0,\"ticks\":\"\"},\"colorscale\":[[0.0,\"#0d0887\"],[0.1111111111111111,\"#46039f\"],[0.2222222222222222,\"#7201a8\"],[0.3333333333333333,\"#9c179e\"],[0.4444444444444444,\"#bd3786\"],[0.5555555555555556,\"#d8576b\"],[0.6666666666666666,\"#ed7953\"],[0.7777777777777778,\"#fb9f3a\"],[0.8888888888888888,\"#fdca26\"],[1.0,\"#f0f921\"]],\"type\":\"contour\"}],\"contourcarpet\":[{\"colorbar\":{\"outlinewidth\":0,\"ticks\":\"\"},\"type\":\"contourcarpet\"}],\"heatmap\":[{\"colorbar\":{\"outlinewidth\":0,\"ticks\":\"\"},\"colorscale\":[[0.0,\"#0d0887\"],[0.1111111111111111,\"#46039f\"],[0.2222222222222222,\"#7201a8\"],[0.3333333333333333,\"#9c179e\"],[0.4444444444444444,\"#bd3786\"],[0.5555555555555556,\"#d8576b\"],[0.6666666666666666,\"#ed7953\"],[0.7777777777777778,\"#fb9f3a\"],[0.8888888888888888,\"#fdca26\"],[1.0,\"#f0f921\"]],\"type\":\"heatmap\"}],\"heatmapgl\":[{\"colorbar\":{\"outlinewidth\":0,\"ticks\":\"\"},\"colorscale\":[[0.0,\"#0d0887\"],[0.1111111111111111,\"#46039f\"],[0.2222222222222222,\"#7201a8\"],[0.3333333333333333,\"#9c179e\"],[0.4444444444444444,\"#bd3786\"],[0.5555555555555556,\"#d8576b\"],[0.6666666666666666,\"#ed7953\"],[0.7777777777777778,\"#fb9f3a\"],[0.8888888888888888,\"#fdca26\"],[1.0,\"#f0f921\"]],\"type\":\"heatmapgl\"}],\"histogram\":[{\"marker\":{\"pattern\":{\"fillmode\":\"overlay\",\"size\":10,\"solidity\":0.2}},\"type\":\"histogram\"}],\"histogram2d\":[{\"colorbar\":{\"outlinewidth\":0,\"ticks\":\"\"},\"colorscale\":[[0.0,\"#0d0887\"],[0.1111111111111111,\"#46039f\"],[0.2222222222222222,\"#7201a8\"],[0.3333333333333333,\"#9c179e\"],[0.4444444444444444,\"#bd3786\"],[0.5555555555555556,\"#d8576b\"],[0.6666666666666666,\"#ed7953\"],[0.7777777777777778,\"#fb9f3a\"],[0.8888888888888888,\"#fdca26\"],[1.0,\"#f0f921\"]],\"type\":\"histogram2d\"}],\"histogram2dcontour\":[{\"colorbar\":{\"outlinewidth\":0,\"ticks\":\"\"},\"colorscale\":[[0.0,\"#0d0887\"],[0.1111111111111111,\"#46039f\"],[0.2222222222222222,\"#7201a8\"],[0.3333333333333333,\"#9c179e\"],[0.4444444444444444,\"#bd3786\"],[0.5555555555555556,\"#d8576b\"],[0.6666666666666666,\"#ed7953\"],[0.7777777777777778,\"#fb9f3a\"],[0.8888888888888888,\"#fdca26\"],[1.0,\"#f0f921\"]],\"type\":\"histogram2dcontour\"}],\"mesh3d\":[{\"colorbar\":{\"outlinewidth\":0,\"ticks\":\"\"},\"type\":\"mesh3d\"}],\"parcoords\":[{\"line\":{\"colorbar\":{\"outlinewidth\":0,\"ticks\":\"\"}},\"type\":\"parcoords\"}],\"pie\":[{\"automargin\":true,\"type\":\"pie\"}],\"scatter\":[{\"marker\":{\"colorbar\":{\"outlinewidth\":0,\"ticks\":\"\"}},\"type\":\"scatter\"}],\"scatter3d\":[{\"line\":{\"colorbar\":{\"outlinewidth\":0,\"ticks\":\"\"}},\"marker\":{\"colorbar\":{\"outlinewidth\":0,\"ticks\":\"\"}},\"type\":\"scatter3d\"}],\"scattercarpet\":[{\"marker\":{\"colorbar\":{\"outlinewidth\":0,\"ticks\":\"\"}},\"type\":\"scattercarpet\"}],\"scattergeo\":[{\"marker\":{\"colorbar\":{\"outlinewidth\":0,\"ticks\":\"\"}},\"type\":\"scattergeo\"}],\"scattergl\":[{\"marker\":{\"colorbar\":{\"outlinewidth\":0,\"ticks\":\"\"}},\"type\":\"scattergl\"}],\"scattermapbox\":[{\"marker\":{\"colorbar\":{\"outlinewidth\":0,\"ticks\":\"\"}},\"type\":\"scattermapbox\"}],\"scatterpolar\":[{\"marker\":{\"colorbar\":{\"outlinewidth\":0,\"ticks\":\"\"}},\"type\":\"scatterpolar\"}],\"scatterpolargl\":[{\"marker\":{\"colorbar\":{\"outlinewidth\":0,\"ticks\":\"\"}},\"type\":\"scatterpolargl\"}],\"scatterternary\":[{\"marker\":{\"colorbar\":{\"outlinewidth\":0,\"ticks\":\"\"}},\"type\":\"scatterternary\"}],\"surface\":[{\"colorbar\":{\"outlinewidth\":0,\"ticks\":\"\"},\"colorscale\":[[0.0,\"#0d0887\"],[0.1111111111111111,\"#46039f\"],[0.2222222222222222,\"#7201a8\"],[0.3333333333333333,\"#9c179e\"],[0.4444444444444444,\"#bd3786\"],[0.5555555555555556,\"#d8576b\"],[0.6666666666666666,\"#ed7953\"],[0.7777777777777778,\"#fb9f3a\"],[0.8888888888888888,\"#fdca26\"],[1.0,\"#f0f921\"]],\"type\":\"surface\"}],\"table\":[{\"cells\":{\"fill\":{\"color\":\"#EBF0F8\"},\"line\":{\"color\":\"white\"}},\"header\":{\"fill\":{\"color\":\"#C8D4E3\"},\"line\":{\"color\":\"white\"}},\"type\":\"table\"}]},\"layout\":{\"annotationdefaults\":{\"arrowcolor\":\"#2a3f5f\",\"arrowhead\":0,\"arrowwidth\":1},\"autotypenumbers\":\"strict\",\"coloraxis\":{\"colorbar\":{\"outlinewidth\":0,\"ticks\":\"\"}},\"colorscale\":{\"diverging\":[[0,\"#8e0152\"],[0.1,\"#c51b7d\"],[0.2,\"#de77ae\"],[0.3,\"#f1b6da\"],[0.4,\"#fde0ef\"],[0.5,\"#f7f7f7\"],[0.6,\"#e6f5d0\"],[0.7,\"#b8e186\"],[0.8,\"#7fbc41\"],[0.9,\"#4d9221\"],[1,\"#276419\"]],\"sequential\":[[0.0,\"#0d0887\"],[0.1111111111111111,\"#46039f\"],[0.2222222222222222,\"#7201a8\"],[0.3333333333333333,\"#9c179e\"],[0.4444444444444444,\"#bd3786\"],[0.5555555555555556,\"#d8576b\"],[0.6666666666666666,\"#ed7953\"],[0.7777777777777778,\"#fb9f3a\"],[0.8888888888888888,\"#fdca26\"],[1.0,\"#f0f921\"]],\"sequentialminus\":[[0.0,\"#0d0887\"],[0.1111111111111111,\"#46039f\"],[0.2222222222222222,\"#7201a8\"],[0.3333333333333333,\"#9c179e\"],[0.4444444444444444,\"#bd3786\"],[0.5555555555555556,\"#d8576b\"],[0.6666666666666666,\"#ed7953\"],[0.7777777777777778,\"#fb9f3a\"],[0.8888888888888888,\"#fdca26\"],[1.0,\"#f0f921\"]]},\"colorway\":[\"#636efa\",\"#EF553B\",\"#00cc96\",\"#ab63fa\",\"#FFA15A\",\"#19d3f3\",\"#FF6692\",\"#B6E880\",\"#FF97FF\",\"#FECB52\"],\"font\":{\"color\":\"#2a3f5f\"},\"geo\":{\"bgcolor\":\"white\",\"lakecolor\":\"white\",\"landcolor\":\"#E5ECF6\",\"showlakes\":true,\"showland\":true,\"subunitcolor\":\"white\"},\"hoverlabel\":{\"align\":\"left\"},\"hovermode\":\"closest\",\"mapbox\":{\"style\":\"light\"},\"paper_bgcolor\":\"white\",\"plot_bgcolor\":\"#E5ECF6\",\"polar\":{\"angularaxis\":{\"gridcolor\":\"white\",\"linecolor\":\"white\",\"ticks\":\"\"},\"bgcolor\":\"#E5ECF6\",\"radialaxis\":{\"gridcolor\":\"white\",\"linecolor\":\"white\",\"ticks\":\"\"}},\"scene\":{\"xaxis\":{\"backgroundcolor\":\"#E5ECF6\",\"gridcolor\":\"white\",\"gridwidth\":2,\"linecolor\":\"white\",\"showbackground\":true,\"ticks\":\"\",\"zerolinecolor\":\"white\"},\"yaxis\":{\"backgroundcolor\":\"#E5ECF6\",\"gridcolor\":\"white\",\"gridwidth\":2,\"linecolor\":\"white\",\"showbackground\":true,\"ticks\":\"\",\"zerolinecolor\":\"white\"},\"zaxis\":{\"backgroundcolor\":\"#E5ECF6\",\"gridcolor\":\"white\",\"gridwidth\":2,\"linecolor\":\"white\",\"showbackground\":true,\"ticks\":\"\",\"zerolinecolor\":\"white\"}},\"shapedefaults\":{\"line\":{\"color\":\"#2a3f5f\"}},\"ternary\":{\"aaxis\":{\"gridcolor\":\"white\",\"linecolor\":\"white\",\"ticks\":\"\"},\"baxis\":{\"gridcolor\":\"white\",\"linecolor\":\"white\",\"ticks\":\"\"},\"bgcolor\":\"#E5ECF6\",\"caxis\":{\"gridcolor\":\"white\",\"linecolor\":\"white\",\"ticks\":\"\"}},\"title\":{\"x\":0.05},\"xaxis\":{\"automargin\":true,\"gridcolor\":\"white\",\"linecolor\":\"white\",\"ticks\":\"\",\"title\":{\"standoff\":15},\"zerolinecolor\":\"white\",\"zerolinewidth\":2},\"yaxis\":{\"automargin\":true,\"gridcolor\":\"white\",\"linecolor\":\"white\",\"ticks\":\"\",\"title\":{\"standoff\":15},\"zerolinecolor\":\"white\",\"zerolinewidth\":2}}},\"title\":{\"text\":\"JPMC live share price evolution\"},\"yaxis\":{\"title\":{\"text\":\"Stock Price (USD per Shares)\"}},\"xaxis\":{\"rangeslider\":{\"visible\":true},\"rangeselector\":{\"buttons\":[{\"count\":15,\"label\":\"15m\",\"step\":\"minute\",\"stepmode\":\"backward\"},{\"count\":45,\"label\":\"45m\",\"step\":\"minute\",\"stepmode\":\"backward\"},{\"count\":1,\"label\":\"HTD\",\"step\":\"hour\",\"stepmode\":\"todate\"},{\"count\":3,\"label\":\"3h\",\"step\":\"hour\",\"stepmode\":\"backward\"},{\"step\":\"all\"}]}}},                        {\"responsive\": true}                    ).then(function(){\n",
              "                            \n",
              "var gd = document.getElementById('89368148-5887-461e-a5d0-0990608f2678');\n",
              "var x = new MutationObserver(function (mutations, observer) {{\n",
              "        var display = window.getComputedStyle(gd).display;\n",
              "        if (!display || display === 'none') {{\n",
              "            console.log([gd, 'removed!']);\n",
              "            Plotly.purge(gd);\n",
              "            observer.disconnect();\n",
              "        }}\n",
              "}});\n",
              "\n",
              "// Listen for the removal of the full notebook cells\n",
              "var notebookContainer = gd.closest('#notebook-container');\n",
              "if (notebookContainer) {{\n",
              "    x.observe(notebookContainer, {childList: true});\n",
              "}}\n",
              "\n",
              "// Listen for the clearing of the current output cell\n",
              "var outputEl = gd.closest('.output');\n",
              "if (outputEl) {{\n",
              "    x.observe(outputEl, {childList: true});\n",
              "}}\n",
              "\n",
              "                        })                };                            </script>        </div>\n",
              "</body>\n",
              "</html>"
            ]
          },
          "metadata": {}
        }
      ]
    }
  ]
}