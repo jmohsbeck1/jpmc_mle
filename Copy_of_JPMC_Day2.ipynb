{
  "nbformat": 4,
  "nbformat_minor": 0,
  "metadata": {
    "colab": {
      "provenance": [],
      "include_colab_link": true
    },
    "kernelspec": {
      "name": "python3",
      "display_name": "Python 3"
    },
    "language_info": {
      "name": "python"
    }
  },
  "cells": [
    {
      "cell_type": "markdown",
      "metadata": {
        "id": "view-in-github",
        "colab_type": "text"
      },
      "source": [
        "<a href=\"https://colab.research.google.com/github/jmohsbeck1/jpmc_mle/blob/main/Copy_of_JPMC_Day2.ipynb\" target=\"_parent\"><img src=\"https://colab.research.google.com/assets/colab-badge.svg\" alt=\"Open In Colab\"/></a>"
      ]
    },
    {
      "cell_type": "code",
      "execution_count": null,
      "metadata": {
        "id": "uL9icuBGPINd"
      },
      "outputs": [],
      "source": [
        "# Exploratory Data Analysis\n",
        "# Import basic libraries\n",
        "import numpy as np \n",
        "import pandas as pd \n",
        "# import visualization libraries\n",
        "import seaborn as sns\n",
        "import matplotlib.pyplot as plt\n",
        "%matplotlib inline"
      ]
    },
    {
      "cell_type": "code",
      "source": [
        "# Set the Environment\n",
        "# Ignore Warnings\n",
        "import warnings\n",
        "warnings.simplefilter(action='ignore', category=FutureWarning)\n",
        "\n",
        "#Write out the versions of all packages to requirements.txt\n",
        "!pip freeze >> requirements.txt\n",
        "\n",
        "# Remove the restriction on Jupyter that limits the columns displayed (the ... in the middle)\n",
        "pd.set_option('max_columns',None)\n",
        "# Docs: https://pandas.pydata.org/pandas-docs/stable/reference/api/pandas.set_option.html#\n",
        "\n",
        "# Pretty Display of variables.  for instance, you can call df.head() and df.tail() in the same cell and BOTH display w/o print\n",
        "from IPython.core.interactiveshell import InteractiveShell\n",
        "InteractiveShell.ast_node_interactivity = \"all\"\n",
        "\n",
        "# List of ALL Magic Commands.  To run a magic command %var  --- i.e.:  %env\n",
        "%lsmagic\n",
        "# %env  -- list environment variables\n",
        "# %%time  -- gives you information about how long a cel took to run\n",
        "# %%timeit -- runs a cell 100,000 times and then gives you the average time the cell will take to run (can be LONG)\n",
        "# %pdb -- python debugger\n",
        "\n",
        "# to display nice model diagram\n",
        "from sklearn import set_config\n",
        "set_config(display='diagram')\n",
        "\n",
        "# Python ≥3.5 is required\n",
        "import sys\n",
        "assert sys.version_info >= (3, 5)\n",
        "\n",
        "# Scikit-Learn ≥0.20 is required\n",
        "import sklearn\n",
        "assert sklearn.__version__ >= \"0.20\"\n",
        "\n",
        "print(\"\\n Numpy: \" + np.__version__)\n",
        "print(\"\\n sklearn: \" + sklearn.__version__)"
      ],
      "metadata": {
        "colab": {
          "base_uri": "https://localhost:8080/"
        },
        "id": "mxqT928KScLr",
        "outputId": "e5c3d5ef-457d-44bd-c897-c2fbb76dc846"
      },
      "execution_count": null,
      "outputs": [
        {
          "output_type": "execute_result",
          "data": {
            "text/plain": [
              "Available line magics:\n",
              "%alias  %alias_magic  %autoawait  %autocall  %automagic  %autosave  %bookmark  %cat  %cd  %clear  %colors  %conda  %config  %connect_info  %cp  %debug  %dhist  %dirs  %doctest_mode  %ed  %edit  %env  %gui  %hist  %history  %killbgscripts  %ldir  %less  %lf  %lk  %ll  %load  %load_ext  %loadpy  %logoff  %logon  %logstart  %logstate  %logstop  %ls  %lsmagic  %lx  %macro  %magic  %man  %matplotlib  %mkdir  %more  %mv  %notebook  %page  %pastebin  %pdb  %pdef  %pdoc  %pfile  %pinfo  %pinfo2  %pip  %popd  %pprint  %precision  %prun  %psearch  %psource  %pushd  %pwd  %pycat  %pylab  %qtconsole  %quickref  %recall  %rehashx  %reload_ext  %rep  %rerun  %reset  %reset_selective  %rm  %rmdir  %run  %save  %sc  %set_env  %shell  %store  %sx  %system  %tb  %tensorflow_version  %time  %timeit  %unalias  %unload_ext  %who  %who_ls  %whos  %xdel  %xmode\n",
              "\n",
              "Available cell magics:\n",
              "%%!  %%HTML  %%SVG  %%bash  %%bigquery  %%capture  %%debug  %%file  %%html  %%javascript  %%js  %%latex  %%markdown  %%perl  %%prun  %%pypy  %%python  %%python2  %%python3  %%ruby  %%script  %%sh  %%shell  %%svg  %%sx  %%system  %%time  %%timeit  %%writefile\n",
              "\n",
              "Automagic is ON, % prefix IS NOT needed for line magics."
            ],
            "application/json": {
              "line": {
                "automagic": "AutoMagics",
                "autocall": "AutoMagics",
                "alias_magic": "BasicMagics",
                "lsmagic": "BasicMagics",
                "magic": "BasicMagics",
                "page": "BasicMagics",
                "pprint": "BasicMagics",
                "colors": "BasicMagics",
                "xmode": "BasicMagics",
                "quickref": "BasicMagics",
                "doctest_mode": "BasicMagics",
                "gui": "BasicMagics",
                "precision": "BasicMagics",
                "notebook": "BasicMagics",
                "save": "CodeMagics",
                "pastebin": "CodeMagics",
                "loadpy": "CodeMagics",
                "load": "CodeMagics",
                "edit": "KernelMagics",
                "config": "ConfigMagics",
                "prun": "ExecutionMagics",
                "pdb": "ExecutionMagics",
                "debug": "ExecutionMagics",
                "tb": "ExecutionMagics",
                "run": "ExecutionMagics",
                "timeit": "ExecutionMagics",
                "time": "ExecutionMagics",
                "macro": "ExecutionMagics",
                "load_ext": "ExtensionMagics",
                "unload_ext": "ExtensionMagics",
                "reload_ext": "ExtensionMagics",
                "history": "HistoryMagics",
                "recall": "HistoryMagics",
                "rerun": "HistoryMagics",
                "logstart": "LoggingMagics",
                "logstop": "LoggingMagics",
                "logoff": "LoggingMagics",
                "logon": "LoggingMagics",
                "logstate": "LoggingMagics",
                "pinfo": "NamespaceMagics",
                "pinfo2": "NamespaceMagics",
                "pdef": "NamespaceMagics",
                "pdoc": "NamespaceMagics",
                "psource": "NamespaceMagics",
                "pfile": "NamespaceMagics",
                "psearch": "NamespaceMagics",
                "who_ls": "NamespaceMagics",
                "who": "NamespaceMagics",
                "whos": "NamespaceMagics",
                "reset": "NamespaceMagics",
                "reset_selective": "NamespaceMagics",
                "xdel": "NamespaceMagics",
                "alias": "OSMagics",
                "unalias": "OSMagics",
                "rehashx": "OSMagics",
                "pwd": "OSMagics",
                "cd": "OSMagics",
                "env": "OSMagics",
                "set_env": "OSMagics",
                "pushd": "OSMagics",
                "popd": "OSMagics",
                "dirs": "OSMagics",
                "dhist": "OSMagics",
                "sc": "OSMagics",
                "sx": "OSMagics",
                "system": "OSMagics",
                "bookmark": "OSMagics",
                "pycat": "OSMagics",
                "pip": "Other",
                "conda": "PackagingMagics",
                "matplotlib": "PylabMagics",
                "pylab": "PylabMagics",
                "killbgscripts": "ScriptMagics",
                "autoawait": "AsyncMagics",
                "ed": "Other",
                "hist": "Other",
                "rep": "Other",
                "clear": "KernelMagics",
                "less": "KernelMagics",
                "more": "KernelMagics",
                "man": "KernelMagics",
                "connect_info": "KernelMagics",
                "qtconsole": "KernelMagics",
                "autosave": "KernelMagics",
                "mkdir": "Other",
                "rmdir": "Other",
                "mv": "Other",
                "rm": "Other",
                "cp": "Other",
                "cat": "Other",
                "ls": "Other",
                "ll": "Other",
                "lf": "Other",
                "lk": "Other",
                "ldir": "Other",
                "lx": "Other",
                "store": "StoreMagics",
                "shell": "Other",
                "tensorflow_version": "Other"
              },
              "cell": {
                "js": "DisplayMagics",
                "javascript": "DisplayMagics",
                "latex": "DisplayMagics",
                "svg": "DisplayMagics",
                "html": "DisplayMagics",
                "markdown": "DisplayMagics",
                "prun": "ExecutionMagics",
                "debug": "ExecutionMagics",
                "timeit": "ExecutionMagics",
                "time": "ExecutionMagics",
                "capture": "ExecutionMagics",
                "sx": "OSMagics",
                "system": "OSMagics",
                "!": "OSMagics",
                "writefile": "OSMagics",
                "script": "ScriptMagics",
                "sh": "Other",
                "bash": "Other",
                "perl": "Other",
                "ruby": "Other",
                "python": "Other",
                "python2": "Other",
                "python3": "Other",
                "pypy": "Other",
                "SVG": "Other",
                "HTML": "Other",
                "file": "Other",
                "bigquery": "Other",
                "shell": "Other"
              }
            }
          },
          "metadata": {},
          "execution_count": 9
        },
        {
          "output_type": "stream",
          "name": "stdout",
          "text": [
            "\n",
            " Numpy: 1.22.4\n",
            "\n",
            " sklearn: 1.2.1\n"
          ]
        }
      ]
    },
    {
      "cell_type": "code",
      "source": [
        "df = pd.read_csv(\"https://raw.githubusercontent.com/fenago/datasets/main/healthcare-dataset-stroke-data.csv?raw=true\")\n",
        "df.head(5)"
      ],
      "metadata": {
        "colab": {
          "base_uri": "https://localhost:8080/",
          "height": 206
        },
        "id": "GsPlJe-jRTi1",
        "outputId": "444675d5-ae4d-4921-fe2c-f1eb2434ecb2"
      },
      "execution_count": null,
      "outputs": [
        {
          "output_type": "execute_result",
          "data": {
            "text/plain": [
              "      id  gender   age  hypertension  heart_disease ever_married  \\\n",
              "0   9046    Male  67.0             0              1          Yes   \n",
              "1  51676  Female  61.0             0              0          Yes   \n",
              "2  31112    Male  80.0             0              1          Yes   \n",
              "3  60182  Female  49.0             0              0          Yes   \n",
              "4   1665  Female  79.0             1              0          Yes   \n",
              "\n",
              "       work_type Residence_type  avg_glucose_level   bmi   smoking_status  \\\n",
              "0        Private          Urban             228.69  36.6  formerly smoked   \n",
              "1  Self-employed          Rural             202.21   NaN     never smoked   \n",
              "2        Private          Rural             105.92  32.5     never smoked   \n",
              "3        Private          Urban             171.23  34.4           smokes   \n",
              "4  Self-employed          Rural             174.12  24.0     never smoked   \n",
              "\n",
              "   stroke  \n",
              "0       1  \n",
              "1       1  \n",
              "2       1  \n",
              "3       1  \n",
              "4       1  "
            ],
            "text/html": [
              "\n",
              "  <div id=\"df-fdf93a3a-a762-426f-b6b8-04453c53c232\">\n",
              "    <div class=\"colab-df-container\">\n",
              "      <div>\n",
              "<style scoped>\n",
              "    .dataframe tbody tr th:only-of-type {\n",
              "        vertical-align: middle;\n",
              "    }\n",
              "\n",
              "    .dataframe tbody tr th {\n",
              "        vertical-align: top;\n",
              "    }\n",
              "\n",
              "    .dataframe thead th {\n",
              "        text-align: right;\n",
              "    }\n",
              "</style>\n",
              "<table border=\"1\" class=\"dataframe\">\n",
              "  <thead>\n",
              "    <tr style=\"text-align: right;\">\n",
              "      <th></th>\n",
              "      <th>id</th>\n",
              "      <th>gender</th>\n",
              "      <th>age</th>\n",
              "      <th>hypertension</th>\n",
              "      <th>heart_disease</th>\n",
              "      <th>ever_married</th>\n",
              "      <th>work_type</th>\n",
              "      <th>Residence_type</th>\n",
              "      <th>avg_glucose_level</th>\n",
              "      <th>bmi</th>\n",
              "      <th>smoking_status</th>\n",
              "      <th>stroke</th>\n",
              "    </tr>\n",
              "  </thead>\n",
              "  <tbody>\n",
              "    <tr>\n",
              "      <th>0</th>\n",
              "      <td>9046</td>\n",
              "      <td>Male</td>\n",
              "      <td>67.0</td>\n",
              "      <td>0</td>\n",
              "      <td>1</td>\n",
              "      <td>Yes</td>\n",
              "      <td>Private</td>\n",
              "      <td>Urban</td>\n",
              "      <td>228.69</td>\n",
              "      <td>36.6</td>\n",
              "      <td>formerly smoked</td>\n",
              "      <td>1</td>\n",
              "    </tr>\n",
              "    <tr>\n",
              "      <th>1</th>\n",
              "      <td>51676</td>\n",
              "      <td>Female</td>\n",
              "      <td>61.0</td>\n",
              "      <td>0</td>\n",
              "      <td>0</td>\n",
              "      <td>Yes</td>\n",
              "      <td>Self-employed</td>\n",
              "      <td>Rural</td>\n",
              "      <td>202.21</td>\n",
              "      <td>NaN</td>\n",
              "      <td>never smoked</td>\n",
              "      <td>1</td>\n",
              "    </tr>\n",
              "    <tr>\n",
              "      <th>2</th>\n",
              "      <td>31112</td>\n",
              "      <td>Male</td>\n",
              "      <td>80.0</td>\n",
              "      <td>0</td>\n",
              "      <td>1</td>\n",
              "      <td>Yes</td>\n",
              "      <td>Private</td>\n",
              "      <td>Rural</td>\n",
              "      <td>105.92</td>\n",
              "      <td>32.5</td>\n",
              "      <td>never smoked</td>\n",
              "      <td>1</td>\n",
              "    </tr>\n",
              "    <tr>\n",
              "      <th>3</th>\n",
              "      <td>60182</td>\n",
              "      <td>Female</td>\n",
              "      <td>49.0</td>\n",
              "      <td>0</td>\n",
              "      <td>0</td>\n",
              "      <td>Yes</td>\n",
              "      <td>Private</td>\n",
              "      <td>Urban</td>\n",
              "      <td>171.23</td>\n",
              "      <td>34.4</td>\n",
              "      <td>smokes</td>\n",
              "      <td>1</td>\n",
              "    </tr>\n",
              "    <tr>\n",
              "      <th>4</th>\n",
              "      <td>1665</td>\n",
              "      <td>Female</td>\n",
              "      <td>79.0</td>\n",
              "      <td>1</td>\n",
              "      <td>0</td>\n",
              "      <td>Yes</td>\n",
              "      <td>Self-employed</td>\n",
              "      <td>Rural</td>\n",
              "      <td>174.12</td>\n",
              "      <td>24.0</td>\n",
              "      <td>never smoked</td>\n",
              "      <td>1</td>\n",
              "    </tr>\n",
              "  </tbody>\n",
              "</table>\n",
              "</div>\n",
              "      <button class=\"colab-df-convert\" onclick=\"convertToInteractive('df-fdf93a3a-a762-426f-b6b8-04453c53c232')\"\n",
              "              title=\"Convert this dataframe to an interactive table.\"\n",
              "              style=\"display:none;\">\n",
              "        \n",
              "  <svg xmlns=\"http://www.w3.org/2000/svg\" height=\"24px\"viewBox=\"0 0 24 24\"\n",
              "       width=\"24px\">\n",
              "    <path d=\"M0 0h24v24H0V0z\" fill=\"none\"/>\n",
              "    <path d=\"M18.56 5.44l.94 2.06.94-2.06 2.06-.94-2.06-.94-.94-2.06-.94 2.06-2.06.94zm-11 1L8.5 8.5l.94-2.06 2.06-.94-2.06-.94L8.5 2.5l-.94 2.06-2.06.94zm10 10l.94 2.06.94-2.06 2.06-.94-2.06-.94-.94-2.06-.94 2.06-2.06.94z\"/><path d=\"M17.41 7.96l-1.37-1.37c-.4-.4-.92-.59-1.43-.59-.52 0-1.04.2-1.43.59L10.3 9.45l-7.72 7.72c-.78.78-.78 2.05 0 2.83L4 21.41c.39.39.9.59 1.41.59.51 0 1.02-.2 1.41-.59l7.78-7.78 2.81-2.81c.8-.78.8-2.07 0-2.86zM5.41 20L4 18.59l7.72-7.72 1.47 1.35L5.41 20z\"/>\n",
              "  </svg>\n",
              "      </button>\n",
              "      \n",
              "  <style>\n",
              "    .colab-df-container {\n",
              "      display:flex;\n",
              "      flex-wrap:wrap;\n",
              "      gap: 12px;\n",
              "    }\n",
              "\n",
              "    .colab-df-convert {\n",
              "      background-color: #E8F0FE;\n",
              "      border: none;\n",
              "      border-radius: 50%;\n",
              "      cursor: pointer;\n",
              "      display: none;\n",
              "      fill: #1967D2;\n",
              "      height: 32px;\n",
              "      padding: 0 0 0 0;\n",
              "      width: 32px;\n",
              "    }\n",
              "\n",
              "    .colab-df-convert:hover {\n",
              "      background-color: #E2EBFA;\n",
              "      box-shadow: 0px 1px 2px rgba(60, 64, 67, 0.3), 0px 1px 3px 1px rgba(60, 64, 67, 0.15);\n",
              "      fill: #174EA6;\n",
              "    }\n",
              "\n",
              "    [theme=dark] .colab-df-convert {\n",
              "      background-color: #3B4455;\n",
              "      fill: #D2E3FC;\n",
              "    }\n",
              "\n",
              "    [theme=dark] .colab-df-convert:hover {\n",
              "      background-color: #434B5C;\n",
              "      box-shadow: 0px 1px 3px 1px rgba(0, 0, 0, 0.15);\n",
              "      filter: drop-shadow(0px 1px 2px rgba(0, 0, 0, 0.3));\n",
              "      fill: #FFFFFF;\n",
              "    }\n",
              "  </style>\n",
              "\n",
              "      <script>\n",
              "        const buttonEl =\n",
              "          document.querySelector('#df-fdf93a3a-a762-426f-b6b8-04453c53c232 button.colab-df-convert');\n",
              "        buttonEl.style.display =\n",
              "          google.colab.kernel.accessAllowed ? 'block' : 'none';\n",
              "\n",
              "        async function convertToInteractive(key) {\n",
              "          const element = document.querySelector('#df-fdf93a3a-a762-426f-b6b8-04453c53c232');\n",
              "          const dataTable =\n",
              "            await google.colab.kernel.invokeFunction('convertToInteractive',\n",
              "                                                     [key], {});\n",
              "          if (!dataTable) return;\n",
              "\n",
              "          const docLinkHtml = 'Like what you see? Visit the ' +\n",
              "            '<a target=\"_blank\" href=https://colab.research.google.com/notebooks/data_table.ipynb>data table notebook</a>'\n",
              "            + ' to learn more about interactive tables.';\n",
              "          element.innerHTML = '';\n",
              "          dataTable['output_type'] = 'display_data';\n",
              "          await google.colab.output.renderOutput(dataTable, element);\n",
              "          const docLink = document.createElement('div');\n",
              "          docLink.innerHTML = docLinkHtml;\n",
              "          element.appendChild(docLink);\n",
              "        }\n",
              "      </script>\n",
              "    </div>\n",
              "  </div>\n",
              "  "
            ]
          },
          "metadata": {},
          "execution_count": 10
        }
      ]
    },
    {
      "cell_type": "code",
      "source": [
        "# Getting Meta Data Information about the dataset\n",
        "df.info()"
      ],
      "metadata": {
        "colab": {
          "base_uri": "https://localhost:8080/"
        },
        "id": "NSL1r8uWRsZt",
        "outputId": "c55b5c43-0244-4447-d258-ae5d0e22ec38"
      },
      "execution_count": null,
      "outputs": [
        {
          "output_type": "stream",
          "name": "stdout",
          "text": [
            "<class 'pandas.core.frame.DataFrame'>\n",
            "RangeIndex: 5110 entries, 0 to 5109\n",
            "Data columns (total 12 columns):\n",
            " #   Column             Non-Null Count  Dtype  \n",
            "---  ------             --------------  -----  \n",
            " 0   id                 5110 non-null   int64  \n",
            " 1   gender             5110 non-null   object \n",
            " 2   age                5110 non-null   float64\n",
            " 3   hypertension       5110 non-null   int64  \n",
            " 4   heart_disease      5110 non-null   int64  \n",
            " 5   ever_married       5110 non-null   object \n",
            " 6   work_type          5110 non-null   object \n",
            " 7   Residence_type     5110 non-null   object \n",
            " 8   avg_glucose_level  5110 non-null   float64\n",
            " 9   bmi                4909 non-null   float64\n",
            " 10  smoking_status     5110 non-null   object \n",
            " 11  stroke             5110 non-null   int64  \n",
            "dtypes: float64(3), int64(4), object(5)\n",
            "memory usage: 479.2+ KB\n"
          ]
        }
      ]
    },
    {
      "cell_type": "code",
      "source": [
        "# Pull descriptive statistics from your overall dataset\n",
        "df.describe().T"
      ],
      "metadata": {
        "colab": {
          "base_uri": "https://localhost:8080/",
          "height": 269
        },
        "id": "fmMQa1jJSwcC",
        "outputId": "fb663878-8e0c-4aaf-f1fa-0e9be69447ca"
      },
      "execution_count": null,
      "outputs": [
        {
          "output_type": "execute_result",
          "data": {
            "text/plain": [
              "                    count          mean           std    min        25%  \\\n",
              "id                 5110.0  36517.829354  21161.721625  67.00  17741.250   \n",
              "age                5110.0     43.226614     22.612647   0.08     25.000   \n",
              "hypertension       5110.0      0.097456      0.296607   0.00      0.000   \n",
              "heart_disease      5110.0      0.054012      0.226063   0.00      0.000   \n",
              "avg_glucose_level  5110.0    106.147677     45.283560  55.12     77.245   \n",
              "bmi                4909.0     28.893237      7.854067  10.30     23.500   \n",
              "stroke             5110.0      0.048728      0.215320   0.00      0.000   \n",
              "\n",
              "                         50%       75%       max  \n",
              "id                 36932.000  54682.00  72940.00  \n",
              "age                   45.000     61.00     82.00  \n",
              "hypertension           0.000      0.00      1.00  \n",
              "heart_disease          0.000      0.00      1.00  \n",
              "avg_glucose_level     91.885    114.09    271.74  \n",
              "bmi                   28.100     33.10     97.60  \n",
              "stroke                 0.000      0.00      1.00  "
            ],
            "text/html": [
              "\n",
              "  <div id=\"df-bf2f1120-6140-4806-ae98-c34843e60c13\">\n",
              "    <div class=\"colab-df-container\">\n",
              "      <div>\n",
              "<style scoped>\n",
              "    .dataframe tbody tr th:only-of-type {\n",
              "        vertical-align: middle;\n",
              "    }\n",
              "\n",
              "    .dataframe tbody tr th {\n",
              "        vertical-align: top;\n",
              "    }\n",
              "\n",
              "    .dataframe thead th {\n",
              "        text-align: right;\n",
              "    }\n",
              "</style>\n",
              "<table border=\"1\" class=\"dataframe\">\n",
              "  <thead>\n",
              "    <tr style=\"text-align: right;\">\n",
              "      <th></th>\n",
              "      <th>count</th>\n",
              "      <th>mean</th>\n",
              "      <th>std</th>\n",
              "      <th>min</th>\n",
              "      <th>25%</th>\n",
              "      <th>50%</th>\n",
              "      <th>75%</th>\n",
              "      <th>max</th>\n",
              "    </tr>\n",
              "  </thead>\n",
              "  <tbody>\n",
              "    <tr>\n",
              "      <th>id</th>\n",
              "      <td>5110.0</td>\n",
              "      <td>36517.829354</td>\n",
              "      <td>21161.721625</td>\n",
              "      <td>67.00</td>\n",
              "      <td>17741.250</td>\n",
              "      <td>36932.000</td>\n",
              "      <td>54682.00</td>\n",
              "      <td>72940.00</td>\n",
              "    </tr>\n",
              "    <tr>\n",
              "      <th>age</th>\n",
              "      <td>5110.0</td>\n",
              "      <td>43.226614</td>\n",
              "      <td>22.612647</td>\n",
              "      <td>0.08</td>\n",
              "      <td>25.000</td>\n",
              "      <td>45.000</td>\n",
              "      <td>61.00</td>\n",
              "      <td>82.00</td>\n",
              "    </tr>\n",
              "    <tr>\n",
              "      <th>hypertension</th>\n",
              "      <td>5110.0</td>\n",
              "      <td>0.097456</td>\n",
              "      <td>0.296607</td>\n",
              "      <td>0.00</td>\n",
              "      <td>0.000</td>\n",
              "      <td>0.000</td>\n",
              "      <td>0.00</td>\n",
              "      <td>1.00</td>\n",
              "    </tr>\n",
              "    <tr>\n",
              "      <th>heart_disease</th>\n",
              "      <td>5110.0</td>\n",
              "      <td>0.054012</td>\n",
              "      <td>0.226063</td>\n",
              "      <td>0.00</td>\n",
              "      <td>0.000</td>\n",
              "      <td>0.000</td>\n",
              "      <td>0.00</td>\n",
              "      <td>1.00</td>\n",
              "    </tr>\n",
              "    <tr>\n",
              "      <th>avg_glucose_level</th>\n",
              "      <td>5110.0</td>\n",
              "      <td>106.147677</td>\n",
              "      <td>45.283560</td>\n",
              "      <td>55.12</td>\n",
              "      <td>77.245</td>\n",
              "      <td>91.885</td>\n",
              "      <td>114.09</td>\n",
              "      <td>271.74</td>\n",
              "    </tr>\n",
              "    <tr>\n",
              "      <th>bmi</th>\n",
              "      <td>4909.0</td>\n",
              "      <td>28.893237</td>\n",
              "      <td>7.854067</td>\n",
              "      <td>10.30</td>\n",
              "      <td>23.500</td>\n",
              "      <td>28.100</td>\n",
              "      <td>33.10</td>\n",
              "      <td>97.60</td>\n",
              "    </tr>\n",
              "    <tr>\n",
              "      <th>stroke</th>\n",
              "      <td>5110.0</td>\n",
              "      <td>0.048728</td>\n",
              "      <td>0.215320</td>\n",
              "      <td>0.00</td>\n",
              "      <td>0.000</td>\n",
              "      <td>0.000</td>\n",
              "      <td>0.00</td>\n",
              "      <td>1.00</td>\n",
              "    </tr>\n",
              "  </tbody>\n",
              "</table>\n",
              "</div>\n",
              "      <button class=\"colab-df-convert\" onclick=\"convertToInteractive('df-bf2f1120-6140-4806-ae98-c34843e60c13')\"\n",
              "              title=\"Convert this dataframe to an interactive table.\"\n",
              "              style=\"display:none;\">\n",
              "        \n",
              "  <svg xmlns=\"http://www.w3.org/2000/svg\" height=\"24px\"viewBox=\"0 0 24 24\"\n",
              "       width=\"24px\">\n",
              "    <path d=\"M0 0h24v24H0V0z\" fill=\"none\"/>\n",
              "    <path d=\"M18.56 5.44l.94 2.06.94-2.06 2.06-.94-2.06-.94-.94-2.06-.94 2.06-2.06.94zm-11 1L8.5 8.5l.94-2.06 2.06-.94-2.06-.94L8.5 2.5l-.94 2.06-2.06.94zm10 10l.94 2.06.94-2.06 2.06-.94-2.06-.94-.94-2.06-.94 2.06-2.06.94z\"/><path d=\"M17.41 7.96l-1.37-1.37c-.4-.4-.92-.59-1.43-.59-.52 0-1.04.2-1.43.59L10.3 9.45l-7.72 7.72c-.78.78-.78 2.05 0 2.83L4 21.41c.39.39.9.59 1.41.59.51 0 1.02-.2 1.41-.59l7.78-7.78 2.81-2.81c.8-.78.8-2.07 0-2.86zM5.41 20L4 18.59l7.72-7.72 1.47 1.35L5.41 20z\"/>\n",
              "  </svg>\n",
              "      </button>\n",
              "      \n",
              "  <style>\n",
              "    .colab-df-container {\n",
              "      display:flex;\n",
              "      flex-wrap:wrap;\n",
              "      gap: 12px;\n",
              "    }\n",
              "\n",
              "    .colab-df-convert {\n",
              "      background-color: #E8F0FE;\n",
              "      border: none;\n",
              "      border-radius: 50%;\n",
              "      cursor: pointer;\n",
              "      display: none;\n",
              "      fill: #1967D2;\n",
              "      height: 32px;\n",
              "      padding: 0 0 0 0;\n",
              "      width: 32px;\n",
              "    }\n",
              "\n",
              "    .colab-df-convert:hover {\n",
              "      background-color: #E2EBFA;\n",
              "      box-shadow: 0px 1px 2px rgba(60, 64, 67, 0.3), 0px 1px 3px 1px rgba(60, 64, 67, 0.15);\n",
              "      fill: #174EA6;\n",
              "    }\n",
              "\n",
              "    [theme=dark] .colab-df-convert {\n",
              "      background-color: #3B4455;\n",
              "      fill: #D2E3FC;\n",
              "    }\n",
              "\n",
              "    [theme=dark] .colab-df-convert:hover {\n",
              "      background-color: #434B5C;\n",
              "      box-shadow: 0px 1px 3px 1px rgba(0, 0, 0, 0.15);\n",
              "      filter: drop-shadow(0px 1px 2px rgba(0, 0, 0, 0.3));\n",
              "      fill: #FFFFFF;\n",
              "    }\n",
              "  </style>\n",
              "\n",
              "      <script>\n",
              "        const buttonEl =\n",
              "          document.querySelector('#df-bf2f1120-6140-4806-ae98-c34843e60c13 button.colab-df-convert');\n",
              "        buttonEl.style.display =\n",
              "          google.colab.kernel.accessAllowed ? 'block' : 'none';\n",
              "\n",
              "        async function convertToInteractive(key) {\n",
              "          const element = document.querySelector('#df-bf2f1120-6140-4806-ae98-c34843e60c13');\n",
              "          const dataTable =\n",
              "            await google.colab.kernel.invokeFunction('convertToInteractive',\n",
              "                                                     [key], {});\n",
              "          if (!dataTable) return;\n",
              "\n",
              "          const docLinkHtml = 'Like what you see? Visit the ' +\n",
              "            '<a target=\"_blank\" href=https://colab.research.google.com/notebooks/data_table.ipynb>data table notebook</a>'\n",
              "            + ' to learn more about interactive tables.';\n",
              "          element.innerHTML = '';\n",
              "          dataTable['output_type'] = 'display_data';\n",
              "          await google.colab.output.renderOutput(dataTable, element);\n",
              "          const docLink = document.createElement('div');\n",
              "          docLink.innerHTML = docLinkHtml;\n",
              "          element.appendChild(docLink);\n",
              "        }\n",
              "      </script>\n",
              "    </div>\n",
              "  </div>\n",
              "  "
            ]
          },
          "metadata": {},
          "execution_count": 6
        }
      ]
    },
    {
      "cell_type": "code",
      "source": [
        "# Checking for Null Values \n",
        "df.isnull().sum()"
      ],
      "metadata": {
        "colab": {
          "base_uri": "https://localhost:8080/"
        },
        "id": "CWbCmkh3UDdn",
        "outputId": "35d056b0-47ed-48ad-bbc0-1206ac8af300"
      },
      "execution_count": null,
      "outputs": [
        {
          "output_type": "execute_result",
          "data": {
            "text/plain": [
              "id                     0\n",
              "gender                 0\n",
              "age                    0\n",
              "hypertension           0\n",
              "heart_disease          0\n",
              "ever_married           0\n",
              "work_type              0\n",
              "Residence_type         0\n",
              "avg_glucose_level      0\n",
              "bmi                  201\n",
              "smoking_status         0\n",
              "stroke                 0\n",
              "dtype: int64"
            ]
          },
          "metadata": {},
          "execution_count": 7
        }
      ]
    },
    {
      "cell_type": "code",
      "source": [],
      "metadata": {
        "id": "Y4vq8XLjxHVb"
      },
      "execution_count": null,
      "outputs": []
    },
    {
      "cell_type": "code",
      "source": [],
      "metadata": {
        "id": "PlH6ANRCxJvv"
      },
      "execution_count": null,
      "outputs": []
    },
    {
      "cell_type": "code",
      "source": [
        "# Gender (0 = Female; 1 = Male, 2 = Other).  --- just a note for me so I don't forget"
      ],
      "metadata": {
        "id": "UP5kUH6KUJdg"
      },
      "execution_count": null,
      "outputs": []
    },
    {
      "cell_type": "code",
      "source": [
        "# Preprocessing - go through all cat cols and validate against the data dictionary\n",
        "print('Gender ' + str(sorted(df['gender'].unique())))"
      ],
      "metadata": {
        "colab": {
          "base_uri": "https://localhost:8080/"
        },
        "id": "RllWaCnFUOAt",
        "outputId": "e4f10af2-d467-4298-9464-4bed29e25096"
      },
      "execution_count": null,
      "outputs": [
        {
          "output_type": "stream",
          "name": "stdout",
          "text": [
            "Gender ['Female', 'Male', 'Other']\n"
          ]
        }
      ]
    },
    {
      "cell_type": "code",
      "source": [
        "fill = (df.gender == 'Female')\n",
        "df.loc[fill, 'gender'] = 0"
      ],
      "metadata": {
        "id": "vurSG_MHx_9t"
      },
      "execution_count": null,
      "outputs": []
    },
    {
      "cell_type": "code",
      "source": [
        "fill = (df.gender == 'Male')\n",
        "df.loc[fill, 'gender'] = 1"
      ],
      "metadata": {
        "id": "U9cD6Qk4yMfU"
      },
      "execution_count": null,
      "outputs": []
    },
    {
      "cell_type": "code",
      "source": [
        "fill = (df.gender == 'Other')\n",
        "df.loc[fill, 'gender'] = 2"
      ],
      "metadata": {
        "id": "dxg4jAT-yVy1"
      },
      "execution_count": null,
      "outputs": []
    },
    {
      "cell_type": "code",
      "source": [
        "df['gender'].value_counts()"
      ],
      "metadata": {
        "colab": {
          "base_uri": "https://localhost:8080/"
        },
        "id": "3I-0NVo8vml-",
        "outputId": "7809b9de-0125-4e68-fd4d-aa09962637a9"
      },
      "execution_count": null,
      "outputs": [
        {
          "output_type": "execute_result",
          "data": {
            "text/plain": [
              "0    2994\n",
              "1    2115\n",
              "2       1\n",
              "Name: gender, dtype: int64"
            ]
          },
          "metadata": {},
          "execution_count": 16
        }
      ]
    },
    {
      "cell_type": "code",
      "source": [],
      "metadata": {
        "id": "jLrQoKl8vsas"
      },
      "execution_count": null,
      "outputs": []
    },
    {
      "cell_type": "code",
      "source": [
        "# AGE is not Cat...It is Num\n",
        "print('AGE ' + str(sorted(df['age'].unique())))"
      ],
      "metadata": {
        "colab": {
          "base_uri": "https://localhost:8080/"
        },
        "id": "eWC6fCIPU_mC",
        "outputId": "b252f6c0-071c-44d1-d0c0-d12079f8ad18"
      },
      "execution_count": null,
      "outputs": [
        {
          "output_type": "stream",
          "name": "stdout",
          "text": [
            "AGE [0.08, 0.16, 0.24, 0.32, 0.4, 0.48, 0.56, 0.64, 0.72, 0.8, 0.88, 1.0, 1.08, 1.16, 1.24, 1.32, 1.4, 1.48, 1.56, 1.64, 1.72, 1.8, 1.88, 2.0, 3.0, 4.0, 5.0, 6.0, 7.0, 8.0, 9.0, 10.0, 11.0, 12.0, 13.0, 14.0, 15.0, 16.0, 17.0, 18.0, 19.0, 20.0, 21.0, 22.0, 23.0, 24.0, 25.0, 26.0, 27.0, 28.0, 29.0, 30.0, 31.0, 32.0, 33.0, 34.0, 35.0, 36.0, 37.0, 38.0, 39.0, 40.0, 41.0, 42.0, 43.0, 44.0, 45.0, 46.0, 47.0, 48.0, 49.0, 50.0, 51.0, 52.0, 53.0, 54.0, 55.0, 56.0, 57.0, 58.0, 59.0, 60.0, 61.0, 62.0, 63.0, 64.0, 65.0, 66.0, 67.0, 68.0, 69.0, 70.0, 71.0, 72.0, 73.0, 74.0, 75.0, 76.0, 77.0, 78.0, 79.0, 80.0, 81.0, 82.0]\n"
          ]
        }
      ]
    },
    {
      "cell_type": "code",
      "source": [
        "# HyperTension (0 = No Hypertension; 1 = Yes Hypertension).\n",
        "\n",
        "print('HyperTension ' + str(sorted(df['hypertension'].unique())))"
      ],
      "metadata": {
        "colab": {
          "base_uri": "https://localhost:8080/"
        },
        "id": "ncN9BBd2VOWH",
        "outputId": "200a66c2-bd44-4d00-cd32-5e8fe25a06b7"
      },
      "execution_count": null,
      "outputs": [
        {
          "output_type": "stream",
          "name": "stdout",
          "text": [
            "HyperTension [0, 1]\n"
          ]
        }
      ]
    },
    {
      "cell_type": "code",
      "source": [
        "# heart_disease (0 = No heart_disease; 1 = Yes heart_disease).\n",
        "print('heart_disease ' + str(sorted(df['heart_disease'].unique())))"
      ],
      "metadata": {
        "colab": {
          "base_uri": "https://localhost:8080/"
        },
        "id": "qUe9lgo5VVuO",
        "outputId": "6e81323d-ea42-4035-9ec9-12c103619786"
      },
      "execution_count": null,
      "outputs": [
        {
          "output_type": "stream",
          "name": "stdout",
          "text": [
            "heart_disease [0, 1]\n"
          ]
        }
      ]
    },
    {
      "cell_type": "code",
      "source": [
        "# Ever Married  0: Not Married, 1: Married\n",
        "print('ever_married' + str(sorted(df['ever_married'].unique())))"
      ],
      "metadata": {
        "colab": {
          "base_uri": "https://localhost:8080/"
        },
        "id": "Dfy7kb_7VwRm",
        "outputId": "7b0fe306-16f5-49b7-d9d4-faca64e493be"
      },
      "execution_count": null,
      "outputs": [
        {
          "output_type": "stream",
          "name": "stdout",
          "text": [
            "ever_married['No', 'Yes']\n"
          ]
        }
      ]
    },
    {
      "cell_type": "code",
      "source": [
        "fill = (df.ever_married == 'No')\n",
        "df.loc[fill, 'ever_married'] = 0"
      ],
      "metadata": {
        "id": "2YH5GZtmyj9g"
      },
      "execution_count": null,
      "outputs": []
    },
    {
      "cell_type": "code",
      "source": [
        "fill = (df.ever_married == 'Yes')\n",
        "df.loc[fill, 'ever_married'] = 1"
      ],
      "metadata": {
        "id": "JTpd2TOKyo5p"
      },
      "execution_count": null,
      "outputs": []
    },
    {
      "cell_type": "code",
      "source": [],
      "metadata": {
        "id": "txP4zZt_WeSH"
      },
      "execution_count": null,
      "outputs": []
    },
    {
      "cell_type": "code",
      "source": [
        "# Work Type: 0: Never_worked, 1: Children, 2: Govt_job ,  3:Self-employed , 4 : Private, \n",
        "print('work_type ' + str(sorted(df['work_type'].unique())))"
      ],
      "metadata": {
        "colab": {
          "base_uri": "https://localhost:8080/"
        },
        "id": "NQpGB-naWuUT",
        "outputId": "13b32a4c-0fcd-4cb3-e3f7-adca4873befb"
      },
      "execution_count": null,
      "outputs": [
        {
          "output_type": "stream",
          "name": "stdout",
          "text": [
            "work_type ['Govt_job', 'Never_worked', 'Private', 'Self-employed', 'children']\n"
          ]
        }
      ]
    },
    {
      "cell_type": "code",
      "source": [
        "fill = (df.work_type == 'Never_worked')\n",
        "df.loc[fill, 'work_type'] = 0\n",
        "fill = (df.work_type == 'children')\n",
        "df.loc[fill, 'work_type'] = 1\n",
        "fill = (df.work_type == 'Govt_job')\n",
        "df.loc[fill, 'work_type'] = 2\n",
        "fill = (df.work_type == 'Self-employed')\n",
        "df.loc[fill, 'work_type'] = 3\n",
        "fill = (df.work_type == 'Private')\n",
        "df.loc[fill, 'work_type'] = 4"
      ],
      "metadata": {
        "id": "l_7yg6XZW0qp"
      },
      "execution_count": null,
      "outputs": []
    },
    {
      "cell_type": "code",
      "source": [
        "# Residence Type  0: Rural, 1: Urban\n",
        "print('Residence_type ' + str(sorted(df['Residence_type'].unique())))"
      ],
      "metadata": {
        "colab": {
          "base_uri": "https://localhost:8080/"
        },
        "id": "ZJqai--oW-Xc",
        "outputId": "6fc09439-7b89-4a3b-d463-2013d3bb3334"
      },
      "execution_count": null,
      "outputs": [
        {
          "output_type": "stream",
          "name": "stdout",
          "text": [
            "Residence_type [0, 1]\n"
          ]
        }
      ]
    },
    {
      "cell_type": "code",
      "source": [
        "fill = (df.Residence_type == 'Rural')\n",
        "df.loc[fill, 'Residence_type'] = 0\n",
        "fill = (df.Residence_type == 'Urban')\n",
        "df.loc[fill, 'Residence_type'] = 1"
      ],
      "metadata": {
        "id": "5yopu-dD0gcI"
      },
      "execution_count": null,
      "outputs": []
    },
    {
      "cell_type": "code",
      "source": [
        "print('avg_glucose_level ' + str(sorted(df['avg_glucose_level'].unique())))"
      ],
      "metadata": {
        "colab": {
          "base_uri": "https://localhost:8080/"
        },
        "id": "uCN3ucxtxMTs",
        "outputId": "f286a9c9-d632-4111-f2c7-45845c9f71a6"
      },
      "execution_count": null,
      "outputs": [
        {
          "output_type": "stream",
          "name": "stdout",
          "text": [
            "avg_glucose_level [55.12, 55.22, 55.23, 55.25, 55.26, 55.27, 55.28, 55.32, 55.34, 55.35, 55.39, 55.41, 55.42, 55.46, 55.47, 55.51, 55.57, 55.58, 55.59, 55.61, 55.62, 55.64, 55.67, 55.72, 55.78, 55.79, 55.83, 55.84, 55.86, 55.93, 55.96, 56.07, 56.08, 56.11, 56.12, 56.13, 56.18, 56.21, 56.23, 56.3, 56.31, 56.32, 56.33, 56.34, 56.37, 56.42, 56.43, 56.47, 56.48, 56.51, 56.63, 56.64, 56.67, 56.71, 56.74, 56.75, 56.77, 56.79, 56.84, 56.85, 56.87, 56.89, 56.9, 56.94, 56.95, 56.96, 56.99, 57.02, 57.06, 57.08, 57.09, 57.1, 57.15, 57.17, 57.26, 57.27, 57.28, 57.3, 57.33, 57.37, 57.38, 57.4, 57.42, 57.43, 57.46, 57.47, 57.51, 57.52, 57.56, 57.57, 57.59, 57.6, 57.76, 57.77, 57.79, 57.8, 57.82, 57.83, 57.89, 57.92, 57.93, 57.94, 57.95, 57.96, 58.01, 58.02, 58.03, 58.09, 58.14, 58.19, 58.23, 58.24, 58.25, 58.26, 58.29, 58.3, 58.35, 58.37, 58.38, 58.39, 58.41, 58.42, 58.47, 58.48, 58.51, 58.55, 58.57, 58.63, 58.64, 58.65, 58.66, 58.69, 58.7, 58.71, 58.72, 58.81, 58.86, 58.87, 58.88, 58.89, 58.95, 58.96, 59.0, 59.05, 59.07, 59.11, 59.14, 59.15, 59.17, 59.2, 59.26, 59.28, 59.31, 59.32, 59.35, 59.36, 59.43, 59.48, 59.49, 59.52, 59.54, 59.61, 59.62, 59.63, 59.67, 59.68, 59.74, 59.76, 59.78, 59.82, 59.83, 59.85, 59.86, 59.87, 59.89, 59.91, 59.93, 59.99, 60.01, 60.02, 60.05, 60.06, 60.09, 60.13, 60.17, 60.2, 60.22, 60.26, 60.32, 60.34, 60.35, 60.36, 60.37, 60.39, 60.4, 60.41, 60.5, 60.53, 60.56, 60.57, 60.6, 60.61, 60.64, 60.67, 60.69, 60.7, 60.73, 60.74, 60.77, 60.84, 60.91, 60.94, 60.96, 60.98, 60.99, 61.01, 61.04, 61.07, 61.1, 61.11, 61.13, 61.27, 61.29, 61.32, 61.34, 61.36, 61.38, 61.42, 61.45, 61.47, 61.53, 61.54, 61.57, 61.61, 61.67, 61.68, 61.75, 61.78, 61.8, 61.81, 61.83, 61.87, 61.88, 61.94, 61.96, 61.98, 62.0, 62.02, 62.08, 62.12, 62.13, 62.2, 62.21, 62.25, 62.27, 62.32, 62.37, 62.4, 62.41, 62.44, 62.46, 62.47, 62.48, 62.49, 62.52, 62.54, 62.55, 62.56, 62.57, 62.6, 62.61, 62.62, 62.63, 62.64, 62.66, 62.67, 62.68, 62.69, 62.78, 62.81, 62.89, 62.91, 62.93, 62.99, 63.01, 63.08, 63.16, 63.18, 63.19, 63.22, 63.26, 63.27, 63.28, 63.32, 63.33, 63.37, 63.4, 63.41, 63.42, 63.43, 63.45, 63.47, 63.49, 63.53, 63.56, 63.57, 63.6, 63.61, 63.63, 63.64, 63.65, 63.69, 63.71, 63.72, 63.73, 63.74, 63.78, 63.82, 63.86, 63.9, 63.94, 63.95, 63.98, 64.02, 64.06, 64.07, 64.08, 64.09, 64.1, 64.14, 64.15, 64.17, 64.18, 64.2, 64.27, 64.29, 64.37, 64.4, 64.41, 64.44, 64.45, 64.51, 64.55, 64.6, 64.62, 64.64, 64.66, 64.68, 64.84, 64.85, 64.87, 64.92, 64.94, 64.99, 65.01, 65.04, 65.05, 65.07, 65.08, 65.09, 65.12, 65.15, 65.16, 65.21, 65.22, 65.24, 65.25, 65.28, 65.29, 65.3, 65.32, 65.33, 65.34, 65.36, 65.38, 65.4, 65.41, 65.42, 65.43, 65.44, 65.45, 65.46, 65.47, 65.48, 65.49, 65.5, 65.51, 65.52, 65.58, 65.59, 65.6, 65.61, 65.63, 65.66, 65.67, 65.68, 65.69, 65.7, 65.71, 65.77, 65.78, 65.79, 65.81, 65.82, 65.84, 65.85, 65.87, 65.88, 65.9, 65.91, 65.93, 65.95, 65.96, 65.98, 66.01, 66.03, 66.06, 66.07, 66.08, 66.11, 66.12, 66.13, 66.16, 66.17, 66.2, 66.22, 66.24, 66.25, 66.29, 66.3, 66.32, 66.33, 66.36, 66.42, 66.46, 66.47, 66.51, 66.55, 66.59, 66.61, 66.67, 66.69, 66.7, 66.71, 66.72, 66.85, 66.96, 67.02, 67.03, 67.06, 67.07, 67.08, 67.1, 67.21, 67.26, 67.27, 67.28, 67.29, 67.3, 67.33, 67.38, 67.39, 67.41, 67.5, 67.53, 67.55, 67.56, 67.66, 67.68, 67.73, 67.75, 67.76, 67.78, 67.79, 67.8, 67.81, 67.84, 67.87, 67.9, 67.92, 67.96, 67.97, 67.99, 68.01, 68.02, 68.07, 68.09, 68.12, 68.13, 68.17, 68.18, 68.19, 68.24, 68.27, 68.34, 68.35, 68.37, 68.38, 68.4, 68.41, 68.42, 68.43, 68.44, 68.48, 68.49, 68.52, 68.53, 68.56, 68.6, 68.61, 68.62, 68.66, 68.68, 68.7, 68.72, 68.76, 68.78, 68.79, 68.8, 68.84, 68.86, 68.88, 68.91, 68.94, 68.96, 68.98, 68.99, 69.01, 69.04, 69.06, 69.09, 69.11, 69.12, 69.15, 69.16, 69.17, 69.18, 69.2, 69.21, 69.22, 69.23, 69.24, 69.25, 69.26, 69.28, 69.3, 69.34, 69.35, 69.37, 69.38, 69.4, 69.42, 69.45, 69.46, 69.47, 69.48, 69.5, 69.52, 69.53, 69.54, 69.58, 69.61, 69.67, 69.68, 69.7, 69.72, 69.74, 69.76, 69.77, 69.79, 69.82, 69.84, 69.87, 69.88, 69.89, 69.91, 69.92, 69.94, 69.97, 69.99, 70.0, 70.01, 70.02, 70.03, 70.04, 70.06, 70.07, 70.08, 70.09, 70.11, 70.13, 70.15, 70.16, 70.18, 70.19, 70.21, 70.22, 70.23, 70.25, 70.28, 70.29, 70.3, 70.31, 70.32, 70.33, 70.34, 70.35, 70.37, 70.38, 70.43, 70.45, 70.48, 70.51, 70.52, 70.53, 70.54, 70.55, 70.56, 70.58, 70.59, 70.61, 70.65, 70.66, 70.67, 70.7, 70.71, 70.73, 70.75, 70.78, 70.87, 70.89, 70.91, 70.92, 70.93, 70.94, 70.96, 70.98, 71.02, 71.06, 71.08, 71.12, 71.15, 71.16, 71.18, 71.2, 71.22, 71.25, 71.26, 71.29, 71.3, 71.31, 71.32, 71.34, 71.37, 71.38, 71.4, 71.42, 71.43, 71.44, 71.46, 71.5, 71.58, 71.59, 71.63, 71.66, 71.7, 71.71, 71.73, 71.77, 71.79, 71.8, 71.81, 71.88, 71.89, 71.91, 71.92, 71.93, 71.94, 71.97, 71.98, 72.0, 72.01, 72.02, 72.03, 72.04, 72.06, 72.07, 72.08, 72.09, 72.1, 72.12, 72.13, 72.16, 72.17, 72.18, 72.19, 72.2, 72.28, 72.29, 72.33, 72.34, 72.35, 72.36, 72.39, 72.42, 72.49, 72.5, 72.52, 72.53, 72.54, 72.55, 72.56, 72.6, 72.61, 72.62, 72.63, 72.64, 72.65, 72.67, 72.71, 72.73, 72.75, 72.76, 72.79, 72.81, 72.84, 72.88, 72.93, 72.94, 72.96, 72.99, 73.0, 73.01, 73.02, 73.04, 73.06, 73.07, 73.08, 73.18, 73.19, 73.2, 73.24, 73.27, 73.28, 73.29, 73.31, 73.32, 73.33, 73.36, 73.37, 73.39, 73.4, 73.41, 73.44, 73.48, 73.49, 73.5, 73.54, 73.56, 73.57, 73.58, 73.6, 73.62, 73.63, 73.65, 73.66, 73.67, 73.69, 73.7, 73.71, 73.72, 73.73, 73.74, 73.75, 73.76, 73.78, 73.81, 73.83, 73.87, 73.89, 73.92, 73.94, 73.98, 73.99, 74.0, 74.01, 74.02, 74.04, 74.05, 74.06, 74.08, 74.09, 74.1, 74.11, 74.12, 74.14, 74.15, 74.16, 74.17, 74.19, 74.2, 74.22, 74.23, 74.24, 74.26, 74.28, 74.29, 74.32, 74.33, 74.34, 74.35, 74.36, 74.39, 74.42, 74.43, 74.44, 74.46, 74.5, 74.51, 74.52, 74.53, 74.54, 74.55, 74.58, 74.61, 74.63, 74.64, 74.65, 74.66, 74.7, 74.72, 74.79, 74.8, 74.81, 74.82, 74.83, 74.85, 74.86, 74.88, 74.9, 74.91, 74.96, 74.98, 74.99, 75.0, 75.02, 75.03, 75.04, 75.05, 75.06, 75.07, 75.08, 75.09, 75.1, 75.13, 75.15, 75.16, 75.18, 75.19, 75.22, 75.23, 75.25, 75.27, 75.28, 75.29, 75.3, 75.32, 75.34, 75.39, 75.4, 75.41, 75.42, 75.43, 75.46, 75.47, 75.5, 75.52, 75.53, 75.56, 75.62, 75.64, 75.67, 75.69, 75.7, 75.73, 75.74, 75.77, 75.78, 75.79, 75.82, 75.84, 75.85, 75.86, 75.87, 75.88, 75.9, 75.91, 75.92, 75.93, 75.94, 75.95, 75.98, 76.0, 76.03, 76.04, 76.05, 76.08, 76.09, 76.1, 76.11, 76.12, 76.13, 76.15, 76.19, 76.2, 76.21, 76.22, 76.25, 76.26, 76.28, 76.3, 76.31, 76.34, 76.35, 76.36, 76.42, 76.43, 76.44, 76.45, 76.46, 76.47, 76.5, 76.51, 76.52, 76.55, 76.56, 76.57, 76.58, 76.62, 76.63, 76.64, 76.66, 76.68, 76.7, 76.72, 76.74, 76.77, 76.78, 76.79, 76.81, 76.82, 76.83, 76.88, 76.89, 76.92, 76.93, 76.98, 76.99, 77.01, 77.04, 77.06, 77.07, 77.08, 77.1, 77.12, 77.16, 77.19, 77.2, 77.23, 77.24, 77.26, 77.28, 77.29, 77.3, 77.32, 77.33, 77.35, 77.37, 77.42, 77.43, 77.44, 77.45, 77.46, 77.48, 77.49, 77.5, 77.51, 77.52, 77.53, 77.54, 77.55, 77.57, 77.59, 77.6, 77.63, 77.65, 77.66, 77.67, 77.68, 77.72, 77.73, 77.75, 77.76, 77.77, 77.79, 77.82, 77.83, 77.86, 77.87, 77.88, 77.91, 77.92, 77.93, 77.94, 77.95, 77.96, 77.99, 78.0, 78.02, 78.03, 78.04, 78.05, 78.08, 78.09, 78.11, 78.12, 78.14, 78.16, 78.18, 78.23, 78.24, 78.26, 78.28, 78.29, 78.3, 78.32, 78.34, 78.35, 78.38, 78.4, 78.42, 78.43, 78.44, 78.45, 78.46, 78.48, 78.49, 78.5, 78.52, 78.53, 78.57, 78.59, 78.65, 78.68, 78.7, 78.73, 78.74, 78.75, 78.76, 78.78, 78.79, 78.8, 78.81, 78.85, 78.88, 78.9, 78.91, 78.92, 78.93, 78.94, 78.96, 78.97, 78.98, 78.99, 79.0, 79.02, 79.03, 79.05, 79.08, 79.09, 79.13, 79.14, 79.15, 79.16, 79.17, 79.18, 79.2, 79.21, 79.22, 79.25, 79.26, 79.27, 79.3, 79.33, 79.34, 79.35, 79.36, 79.39, 79.42, 79.44, 79.47, 79.49, 79.51, 79.53, 79.54, 79.55, 79.56, 79.57, 79.58, 79.59, 79.6, 79.61, 79.62, 79.63, 79.64, 79.66, 79.69, 79.7, 79.73, 79.76, 79.77, 79.79, 79.8, 79.81, 79.82, 79.83, 79.84, 79.85, 79.87, 79.89, 79.91, 79.92, 79.94, 79.95, 79.96, 79.98, 79.99, 80.0, 80.01, 80.05, 80.06, 80.07, 80.08, 80.09, 80.1, 80.13, 80.15, 80.17, 80.18, 80.19, 80.2, 80.21, 80.22, 80.24, 80.25, 80.27, 80.28, 80.3, 80.33, 80.34, 80.35, 80.4, 80.42, 80.43, 80.44, 80.47, 80.48, 80.51, 80.54, 80.55, 80.57, 80.59, 80.63, 80.67, 80.72, 80.73, 80.74, 80.75, 80.76, 80.77, 80.79, 80.8, 80.81, 80.82, 80.83, 80.84, 80.85, 80.86, 80.88, 80.89, 80.92, 80.93, 80.94, 80.96, 80.97, 80.98, 80.99, 81.0, 81.02, 81.03, 81.05, 81.06, 81.1, 81.11, 81.13, 81.15, 81.18, 81.2, 81.21, 81.24, 81.25, 81.26, 81.28, 81.31, 81.32, 81.33, 81.36, 81.38, 81.42, 81.43, 81.44, 81.51, 81.53, 81.54, 81.58, 81.59, 81.6, 81.64, 81.66, 81.68, 81.71, 81.73, 81.74, 81.76, 81.77, 81.78, 81.84, 81.87, 81.88, 81.9, 81.92, 81.94, 81.95, 81.96, 81.99, 82.0, 82.01, 82.02, 82.05, 82.06, 82.07, 82.08, 82.09, 82.1, 82.12, 82.13, 82.14, 82.15, 82.18, 82.19, 82.2, 82.21, 82.24, 82.25, 82.26, 82.27, 82.28, 82.3, 82.31, 82.32, 82.33, 82.34, 82.35, 82.36, 82.37, 82.38, 82.39, 82.4, 82.41, 82.42, 82.43, 82.44, 82.46, 82.47, 82.48, 82.49, 82.53, 82.56, 82.57, 82.58, 82.59, 82.61, 82.62, 82.63, 82.64, 82.67, 82.68, 82.69, 82.71, 82.72, 82.73, 82.77, 82.81, 82.83, 82.84, 82.85, 82.86, 82.88, 82.89, 82.9, 82.91, 82.93, 82.94, 82.95, 82.99, 83.01, 83.02, 83.03, 83.06, 83.07, 83.09, 83.1, 83.12, 83.13, 83.14, 83.15, 83.16, 83.2, 83.23, 83.24, 83.26, 83.27, 83.28, 83.3, 83.33, 83.34, 83.37, 83.41, 83.42, 83.43, 83.44, 83.5, 83.51, 83.52, 83.53, 83.55, 83.56, 83.57, 83.58, 83.59, 83.6, 83.61, 83.62, 83.64, 83.65, 83.66, 83.68, 83.7, 83.73, 83.74, 83.75, 83.76, 83.78, 83.79, 83.8, 83.82, 83.83, 83.84, 83.85, 83.86, 83.88, 83.89, 83.91, 83.93, 83.94, 83.95, 83.97, 84.02, 84.03, 84.04, 84.06, 84.07, 84.08, 84.09, 84.1, 84.11, 84.12, 84.13, 84.14, 84.16, 84.17, 84.18, 84.19, 84.2, 84.21, 84.25, 84.27, 84.3, 84.31, 84.35, 84.37, 84.38, 84.4, 84.41, 84.42, 84.43, 84.44, 84.46, 84.47, 84.48, 84.49, 84.5, 84.54, 84.56, 84.58, 84.59, 84.6, 84.62, 84.63, 84.66, 84.68, 84.69, 84.7, 84.75, 84.78, 84.79, 84.81, 84.84, 84.85, 84.86, 84.88, 84.9, 84.91, 84.92, 84.93, 84.94, 84.96, 84.99, 85.0, 85.02, 85.03, 85.04, 85.06, 85.07, 85.08, 85.12, 85.13, 85.15, 85.16, 85.17, 85.18, 85.22, 85.23, 85.27, 85.28, 85.29, 85.33, 85.35, 85.37, 85.38, 85.46, 85.48, 85.51, 85.52, 85.53, 85.54, 85.55, 85.57, 85.59, 85.6, 85.62, 85.64, 85.65, 85.66, 85.68, 85.77, 85.79, 85.81, 85.82, 85.83, 85.84, 85.86, 85.87, 85.88, 85.9, 85.91, 85.92, 85.96, 85.97, 85.98, 85.99, 86.0, 86.03, 86.04, 86.05, 86.06, 86.07, 86.09, 86.1, 86.11, 86.15, 86.19, 86.21, 86.23, 86.24, 86.25, 86.26, 86.3, 86.32, 86.33, 86.34, 86.35, 86.36, 86.37, 86.38, 86.39, 86.4, 86.46, 86.49, 86.51, 86.53, 86.55, 86.57, 86.58, 86.6, 86.61, 86.62, 86.67, 86.68, 86.7, 86.73, 86.74, 86.75, 86.78, 86.84, 86.85, 86.86, 86.87, 86.91, 86.92, 86.93, 86.94, 86.95, 86.96, 86.97, 86.99, 87.0, 87.01, 87.03, 87.06, 87.08, 87.09, 87.1, 87.11, 87.12, 87.15, 87.16, 87.17, 87.18, 87.2, 87.21, 87.23, 87.24, 87.25, 87.26, 87.27, 87.29, 87.33, 87.34, 87.39, 87.4, 87.41, 87.43, 87.44, 87.47, 87.49, 87.5, 87.51, 87.52, 87.54, 87.56, 87.62, 87.66, 87.69, 87.7, 87.71, 87.72, 87.74, 87.77, 87.78, 87.79, 87.8, 87.81, 87.82, 87.84, 87.85, 87.86, 87.87, 87.88, 87.91, 87.92, 87.93, 87.94, 87.95, 87.96, 87.98, 88.0, 88.02, 88.04, 88.05, 88.06, 88.1, 88.11, 88.13, 88.17, 88.18, 88.19, 88.2, 88.23, 88.24, 88.27, 88.29, 88.31, 88.32, 88.33, 88.34, 88.38, 88.39, 88.41, 88.43, 88.44, 88.47, 88.48, 88.49, 88.5, 88.51, 88.52, 88.53, 88.54, 88.56, 88.57, 88.6, 88.62, 88.63, 88.65, 88.66, 88.68, 88.69, 88.75, 88.78, 88.79, 88.81, 88.82, 88.83, 88.85, 88.88, 88.89, 88.9, 88.92, 88.97, 88.98, 89.0, 89.01, 89.02, 89.03, 89.04, 89.05, 89.06, 89.11, 89.13, 89.14, 89.16, 89.17, 89.18, 89.21, 89.22, 89.24, 89.28, 89.29, 89.3, 89.31, 89.32, 89.33, 89.37, 89.38, 89.41, 89.42, 89.43, 89.44, 89.45, 89.52, 89.53, 89.57, 89.58, 89.59, 89.61, 89.63, 89.68, 89.7, 89.72, 89.73, 89.74, 89.75, 89.77, 89.81, 89.83, 89.84, 89.85, 89.86, 89.87, 89.88, 89.93, 89.95, 89.96, 89.98, 89.99, 90.0, 90.01, 90.04, 90.06, 90.07, 90.1, 90.11, 90.12, 90.15, 90.16, 90.19, 90.21, 90.22, 90.26, 90.28, 90.29, 90.3, 90.31, 90.35, 90.36, 90.38, 90.39, 90.4, 90.42, 90.43, 90.44, 90.46, 90.49, 90.51, 90.52, 90.54, 90.55, 90.57, 90.58, 90.6, 90.61, 90.62, 90.65, 90.66, 90.67, 90.68, 90.69, 90.71, 90.73, 90.74, 90.77, 90.78, 90.84, 90.87, 90.9, 90.91, 90.92, 90.95, 90.96, 90.97, 91.0, 91.01, 91.02, 91.04, 91.05, 91.08, 91.09, 91.13, 91.16, 91.18, 91.19, 91.21, 91.23, 91.25, 91.28, 91.3, 91.32, 91.34, 91.35, 91.36, 91.44, 91.45, 91.46, 91.47, 91.53, 91.54, 91.56, 91.57, 91.58, 91.6, 91.61, 91.63, 91.65, 91.68, 91.69, 91.71, 91.72, 91.81, 91.82, 91.85, 91.88, 91.89, 91.9, 91.92, 91.93, 91.95, 91.96, 91.97, 91.98, 92.0, 92.02, 92.04, 92.06, 92.08, 92.11, 92.13, 92.14, 92.15, 92.16, 92.17, 92.2, 92.21, 92.22, 92.23, 92.24, 92.26, 92.27, 92.3, 92.32, 92.34, 92.35, 92.37, 92.39, 92.4, 92.43, 92.44, 92.48, 92.49, 92.56, 92.59, 92.62, 92.64, 92.65, 92.67, 92.7, 92.71, 92.72, 92.73, 92.74, 92.75, 92.76, 92.77, 92.78, 92.81, 92.82, 92.86, 92.87, 92.9, 92.95, 92.96, 92.97, 92.98, 92.99, 93.0, 93.02, 93.03, 93.04, 93.05, 93.07, 93.11, 93.13, 93.14, 93.15, 93.17, 93.18, 93.2, 93.21, 93.23, 93.24, 93.25, 93.28, 93.29, 93.3, 93.34, 93.36, 93.47, 93.48, 93.51, 93.52, 93.55, 93.58, 93.6, 93.61, 93.62, 93.64, 93.67, 93.68, 93.71, 93.72, 93.73, 93.74, 93.76, 93.77, 93.78, 93.79, 93.8, 93.81, 93.85, 93.88, 93.89, 93.9, 93.93, 93.96, 93.97, 93.99, 94.0, 94.03, 94.04, 94.06, 94.07, 94.09, 94.11, 94.12, 94.14, 94.15, 94.18, 94.19, 94.2, 94.22, 94.23, 94.24, 94.25, 94.26, 94.27, 94.29, 94.3, 94.33, 94.34, 94.37, 94.38, 94.39, 94.4, 94.44, 94.45, 94.47, 94.48, 94.49, 94.53, 94.59, 94.61, 94.62, 94.63, 94.64, 94.65, 94.66, 94.67, 94.68, 94.69, 94.71, 94.75, 94.76, 94.77, 94.78, 94.88, 94.89, 94.92, 94.96, 94.98, 95.01, 95.02, 95.04, 95.05, 95.07, 95.08, 95.1, 95.12, 95.16, 95.18, 95.19, 95.2, 95.23, 95.24, 95.25, 95.27, 95.28, 95.29, 95.31, 95.32, 95.33, 95.36, 95.37, 95.38, 95.39, 95.4, 95.42, 95.43, 95.44, 95.46, 95.47, 95.49, 95.5, 95.52, 95.57, 95.58, 95.59, 95.62, 95.66, 95.7, 95.75, 95.79, 95.8, 95.81, 95.82, 95.84, 95.85, 95.86, 95.87, 95.88, 95.89, 95.93, 95.94, 95.98, 96.0, 96.01, 96.02, 96.03, 96.04, 96.06, 96.1, 96.14, 96.15, 96.16, 96.17, 96.18, 96.19, 96.2, 96.21, 96.24, 96.25, 96.26, 96.28, 96.29, 96.3, 96.35, 96.37, 96.42, 96.43, 96.47, 96.52, 96.57, 96.58, 96.59, 96.62, 96.63, 96.69, 96.7, 96.73, 96.75, 96.77, 96.78, 96.79, 96.81, 96.82, 96.84, 96.85, 96.86, 96.88, 96.91, 96.93, 96.95, 96.97, 96.98, 96.99, 97.04, 97.05, 97.06, 97.08, 97.12, 97.14, 97.16, 97.22, 97.23, 97.24, 97.25, 97.26, 97.27, 97.28, 97.31, 97.32, 97.34, 97.35, 97.37, 97.39, 97.4, 97.41, 97.43, 97.46, 97.47, 97.49, 97.5, 97.51, 97.52, 97.53, 97.55, 97.57, 97.58, 97.59, 97.6, 97.61, 97.64, 97.65, 97.68, 97.73, 97.76, 97.78, 97.81, 97.84, 97.86, 97.87, 97.89, 97.9, 97.92, 97.93, 97.95, 97.96, 97.97, 97.99, 98.01, 98.02, 98.03, 98.05, 98.07, 98.09, 98.1, 98.12, 98.14, 98.22, 98.23, 98.24, 98.27, 98.3, 98.34, 98.35, 98.37, 98.39, 98.41, 98.42, 98.44, 98.45, 98.46, 98.52, 98.53, 98.54, 98.55, 98.56, 98.57, 98.58, 98.61, 98.65, 98.66, 98.67, 98.69, 98.7, 98.71, 98.73, 98.74, 98.76, 98.84, 98.85, 98.9, 98.91, 98.92, 98.99, 99.0, 99.01, 99.06, 99.07, 99.1, 99.12, 99.13, 99.14, 99.15, 99.16, 99.2, 99.21, 99.23, 99.29, 99.3, 99.33, 99.34, 99.35, 99.36, 99.4, 99.44, 99.47, 99.48, 99.49, 99.58, 99.6, 99.64, 99.65, 99.67, 99.68, 99.69, 99.71, 99.72, 99.73, 99.75, 99.76, 99.78, 99.79, 99.8, 99.82, 99.83, 99.84, 99.87, 99.91, 99.92, 99.94, 99.96, 99.97, 100.01, 100.02, 100.03, 100.05, 100.06, 100.08, 100.09, 100.12, 100.15, 100.16, 100.19, 100.2, 100.22, 100.26, 100.29, 100.31, 100.33, 100.35, 100.39, 100.41, 100.42, 100.47, 100.49, 100.52, 100.54, 100.6, 100.61, 100.65, 100.66, 100.71, 100.74, 100.75, 100.8, 100.81, 100.82, 100.83, 100.84, 100.85, 100.88, 100.91, 100.93, 100.96, 100.97, 100.98, 101.02, 101.05, 101.06, 101.07, 101.09, 101.12, 101.13, 101.15, 101.19, 101.22, 101.24, 101.25, 101.26, 101.28, 101.3, 101.31, 101.32, 101.34, 101.35, 101.37, 101.41, 101.43, 101.45, 101.46, 101.5, 101.52, 101.53, 101.56, 101.57, 101.58, 101.6, 101.61, 101.65, 101.66, 101.75, 101.76, 101.79, 101.81, 101.83, 101.85, 101.87, 101.89, 101.92, 101.93, 101.95, 101.96, 101.98, 101.99, 102.0, 102.01, 102.03, 102.04, 102.05, 102.06, 102.07, 102.08, 102.1, 102.11, 102.13, 102.15, 102.16, 102.21, 102.27, 102.28, 102.3, 102.34, 102.35, 102.36, 102.37, 102.39, 102.4, 102.42, 102.46, 102.47, 102.48, 102.5, 102.51, 102.53, 102.54, 102.58, 102.61, 102.64, 102.71, 102.73, 102.76, 102.77, 102.84, 102.87, 102.88, 102.89, 102.9, 102.91, 102.92, 102.96, 102.97, 103.0, 103.01, 103.06, 103.08, 103.09, 103.11, 103.12, 103.15, 103.17, 103.21, 103.22, 103.25, 103.26, 103.28, 103.29, 103.34, 103.35, 103.37, 103.43, 103.44, 103.45, 103.46, 103.48, 103.5, 103.51, 103.55, 103.56, 103.58, 103.6, 103.61, 103.62, 103.65, 103.66, 103.68, 103.69, 103.72, 103.73, 103.76, 103.78, 103.79, 103.81, 103.86, 103.89, 103.92, 103.94, 104.0, 104.02, 104.03, 104.04, 104.05, 104.07, 104.08, 104.09, 104.12, 104.16, 104.21, 104.23, 104.24, 104.26, 104.3, 104.33, 104.34, 104.36, 104.37, 104.38, 104.4, 104.42, 104.45, 104.47, 104.48, 104.51, 104.55, 104.62, 104.64, 104.66, 104.7, 104.72, 104.75, 104.77, 104.79, 104.86, 104.9, 104.92, 104.95, 105.05, 105.08, 105.18, 105.19, 105.22, 105.26, 105.28, 105.29, 105.34, 105.36, 105.47, 105.48, 105.49, 105.51, 105.52, 105.55, 105.59, 105.61, 105.63, 105.72, 105.73, 105.74, 105.75, 105.76, 105.77, 105.88, 105.9, 105.91, 105.92, 105.93, 105.95, 105.99, 106.01, 106.02, 106.03, 106.08, 106.1, 106.11, 106.13, 106.18, 106.22, 106.23, 106.24, 106.27, 106.33, 106.35, 106.4, 106.41, 106.43, 106.47, 106.51, 106.52, 106.53, 106.54, 106.56, 106.58, 106.59, 106.65, 106.68, 106.69, 106.7, 106.73, 106.74, 106.76, 106.8, 106.83, 106.84, 106.85, 106.95, 106.97, 106.98, 107.02, 107.06, 107.11, 107.17, 107.18, 107.21, 107.22, 107.25, 107.26, 107.27, 107.29, 107.33, 107.4, 107.41, 107.42, 107.43, 107.45, 107.46, 107.47, 107.49, 107.5, 107.52, 107.55, 107.58, 107.59, 107.61, 107.69, 107.72, 107.74, 107.78, 107.82, 107.83, 107.84, 107.91, 107.97, 107.98, 107.99, 108.03, 108.06, 108.08, 108.1, 108.12, 108.14, 108.18, 108.2, 108.23, 108.32, 108.33, 108.34, 108.35, 108.38, 108.43, 108.47, 108.51, 108.53, 108.56, 108.61, 108.62, 108.63, 108.64, 108.65, 108.68, 108.71, 108.72, 108.75, 108.79, 108.8, 108.82, 108.87, 108.89, 108.96, 109.0, 109.02, 109.03, 109.09, 109.1, 109.12, 109.16, 109.19, 109.22, 109.23, 109.27, 109.3, 109.32, 109.33, 109.39, 109.4, 109.46, 109.47, 109.51, 109.52, 109.56, 109.59, 109.65, 109.68, 109.69, 109.73, 109.78, 109.81, 109.82, 109.85, 109.88, 109.97, 110.07, 110.1, 110.14, 110.15, 110.16, 110.17, 110.18, 110.2, 110.23, 110.25, 110.28, 110.32, 110.33, 110.36, 110.38, 110.41, 110.42, 110.47, 110.52, 110.53, 110.55, 110.6, 110.63, 110.66, 110.68, 110.69, 110.7, 110.72, 110.73, 110.76, 110.78, 110.84, 110.85, 110.87, 110.89, 110.91, 110.92, 110.96, 110.97, 110.99, 111.02, 111.04, 111.08, 111.1, 111.13, 111.15, 111.19, 111.21, 111.22, 111.24, 111.27, 111.32, 111.33, 111.36, 111.37, 111.38, 111.41, 111.43, 111.47, 111.48, 111.61, 111.64, 111.65, 111.68, 111.71, 111.73, 111.76, 111.77, 111.78, 111.79, 111.81, 111.84, 111.85, 111.92, 111.93, 111.94, 111.96, 111.98, 111.99, 112.02, 112.06, 112.07, 112.08, 112.09, 112.11, 112.12, 112.16, 112.17, 112.19, 112.2, 112.22, 112.23, 112.24, 112.25, 112.29, 112.3, 112.31, 112.33, 112.34, 112.35, 112.37, 112.38, 112.39, 112.41, 112.43, 112.44, 112.46, 112.47, 112.54, 112.55, 112.62, 112.64, 112.66, 112.69, 112.7, 112.72, 112.75, 112.77, 112.79, 112.83, 112.92, 112.94, 112.95, 112.96, 112.98, 113.01, 113.05, 113.08, 113.1, 113.11, 113.2, 113.21, 113.24, 113.25, 113.26, 113.28, 113.34, 113.4, 113.41, 113.45, 113.47, 113.57, 113.63, 113.64, 113.65, 113.68, 113.74, 113.8, 113.84, 113.85, 113.86, 113.87, 113.95, 113.96, 114.01, 114.02, 114.05, 114.09, 114.16, 114.18, 114.21, 114.25, 114.32, 114.33, 114.34, 114.37, 114.41, 114.45, 114.46, 114.47, 114.5, 114.53, 114.54, 114.61, 114.71, 114.76, 114.77, 114.79, 114.82, 114.84, 114.88, 114.89, 114.92, 114.94, 114.99, 115.03, 115.07, 115.12, 115.13, 115.16, 115.21, 115.22, 115.23, 115.29, 115.4, 115.42, 115.43, 115.46, 115.47, 115.52, 115.54, 115.68, 115.69, 115.71, 115.79, 115.83, 115.86, 115.91, 115.92, 115.93, 115.98, 115.99, 116.02, 116.04, 116.06, 116.1, 116.12, 116.14, 116.2, 116.21, 116.23, 116.25, 116.38, 116.44, 116.49, 116.5, 116.55, 116.6, 116.62, 116.64, 116.66, 116.67, 116.68, 116.69, 116.76, 116.78, 116.84, 116.85, 116.93, 116.95, 116.98, 117.03, 117.04, 117.31, 117.34, 117.45, 117.59, 117.63, 117.69, 117.75, 117.77, 117.92, 117.98, 118.03, 118.14, 118.21, 118.22, 118.41, 118.44, 118.46, 118.51, 118.55, 118.61, 118.62, 118.66, 118.69, 118.7, 118.75, 118.81, 118.82, 118.85, 118.87, 118.88, 118.89, 118.93, 119.01, 119.03, 119.04, 119.13, 119.3, 119.32, 119.34, 119.4, 119.52, 119.58, 119.61, 119.62, 119.67, 119.77, 119.88, 119.9, 119.96, 120.03, 120.05, 120.06, 120.07, 120.09, 120.15, 120.22, 120.23, 120.25, 120.27, 120.31, 120.43, 120.44, 120.46, 120.56, 120.58, 120.77, 120.85, 120.94, 120.96, 121.04, 121.11, 121.14, 121.15, 121.17, 121.19, 121.27, 121.32, 121.39, 121.43, 121.44, 121.46, 121.6, 121.66, 121.71, 121.8, 121.83, 121.99, 122.01, 122.04, 122.1, 122.19, 122.22, 122.23, 122.25, 122.26, 122.31, 122.32, 122.38, 122.39, 122.41, 122.43, 122.46, 122.48, 122.5, 122.73, 122.74, 122.75, 122.83, 122.91, 123.0, 123.04, 123.08, 123.1, 123.15, 123.21, 123.23, 123.36, 123.39, 123.47, 123.49, 123.61, 123.65, 123.66, 123.79, 123.81, 123.83, 123.87, 123.89, 123.94, 123.95, 123.98, 124.01, 124.06, 124.08, 124.13, 124.16, 124.26, 124.31, 124.34, 124.35, 124.37, 124.38, 124.39, 124.45, 124.48, 124.49, 124.5, 124.54, 124.6, 124.61, 124.64, 124.66, 124.78, 124.92, 125.03, 125.09, 125.11, 125.14, 125.2, 125.26, 125.29, 125.3, 125.32, 125.33, 125.38, 125.43, 125.63, 125.68, 125.74, 125.87, 125.89, 125.98, 126.04, 126.09, 126.12, 126.18, 126.32, 126.34, 126.35, 126.39, 126.57, 126.67, 126.68, 126.82, 126.85, 126.96, 126.99, 127.13, 127.18, 127.2, 127.21, 127.23, 127.25, 127.28, 127.29, 127.32, 127.4, 127.42, 127.57, 127.71, 127.75, 127.78, 128.04, 128.17, 128.23, 128.28, 128.61, 128.63, 128.72, 128.97, 129.01, 129.07, 129.16, 129.19, 129.31, 129.43, 129.53, 129.54, 129.66, 129.73, 129.97, 129.98, 130.0, 130.07, 130.15, 130.34, 130.37, 130.54, 130.56, 130.61, 131.05, 131.19, 131.23, 131.28, 131.3, 131.4, 131.41, 131.42, 131.43, 131.51, 131.63, 131.77, 131.8, 131.81, 131.85, 131.89, 131.99, 132.08, 132.41, 132.46, 132.85, 132.88, 133.13, 133.19, 133.2, 133.24, 133.58, 133.62, 133.63, 133.76, 133.82, 134.12, 134.23, 134.24, 134.29, 134.33, 134.39, 134.45, 134.59, 134.61, 134.65, 134.76, 134.8, 135.19, 135.32, 135.63, 135.64, 135.74, 135.75, 135.79, 135.82, 135.84, 135.89, 136.1, 136.18, 136.2, 136.23, 136.8, 136.81, 136.96, 137.22, 137.27, 137.3, 137.45, 137.74, 137.77, 137.91, 137.94, 137.96, 138.02, 138.06, 138.07, 138.16, 138.29, 138.44, 138.47, 138.51, 138.55, 139.2, 139.43, 139.48, 139.67, 139.72, 139.77, 139.81, 139.87, 139.9, 140.07, 140.08, 140.1, 140.14, 140.28, 140.39, 140.4, 140.52, 140.93, 140.96, 141.09, 141.15, 141.16, 141.23, 141.24, 141.37, 141.8, 141.84, 142.02, 142.12, 142.31, 142.38, 142.57, 142.63, 142.64, 142.68, 142.82, 143.15, 143.33, 143.43, 143.45, 143.47, 143.97, 144.08, 144.1, 144.14, 144.15, 144.16, 144.2, 144.23, 144.33, 144.48, 144.9, 145.03, 145.15, 145.18, 145.22, 145.23, 145.25, 145.26, 145.37, 145.46, 145.5, 145.71, 145.94, 146.01, 146.08, 146.1, 146.21, 146.44, 146.59, 146.61, 146.97, 147.04, 147.12, 147.14, 147.42, 147.48, 147.5, 147.74, 148.24, 148.37, 148.52, 148.72, 148.91, 149.13, 149.15, 149.17, 149.42, 149.62, 149.68, 149.75, 149.8, 149.9, 149.95, 150.0, 150.03, 150.1, 150.27, 150.45, 150.74, 151.16, 151.23, 151.25, 151.26, 151.3, 151.33, 151.56, 152.02, 152.38, 152.56, 152.81, 152.84, 152.87, 153.08, 153.24, 153.31, 153.34, 153.38, 153.48, 153.6, 153.76, 154.03, 154.08, 154.6, 154.67, 154.75, 155.14, 155.17, 155.23, 155.32, 155.43, 155.86, 156.18, 156.43, 156.45, 156.57, 156.69, 156.7, 156.82, 157.01, 157.57, 157.67, 157.77, 158.31, 158.33, 158.48, 158.89, 158.9, 158.93, 159.39, 159.67, 159.7, 159.79, 160.0, 160.64, 160.76, 160.83, 160.87, 160.94, 161.0, 161.28, 161.57, 161.95, 162.14, 162.23, 162.24, 162.3, 162.72, 162.93, 162.96, 163.02, 163.17, 163.56, 163.7, 163.82, 164.67, 164.7, 164.77, 165.11, 165.31, 165.36, 165.47, 165.99, 166.29, 166.38, 167.13, 167.16, 167.31, 167.41, 167.59, 167.66, 168.06, 168.15, 168.68, 169.43, 169.49, 169.67, 169.74, 169.97, 170.05, 170.22, 170.76, 170.88, 170.93, 170.95, 171.23, 172.27, 172.33, 172.86, 173.14, 173.43, 173.9, 173.96, 173.97, 174.12, 174.37, 174.43, 174.54, 175.29, 175.74, 175.92, 176.25, 176.34, 176.38, 176.42, 176.48, 176.71, 176.78, 177.56, 177.91, 178.29, 178.33, 178.76, 178.89, 179.12, 179.14, 179.38, 179.67, 180.45, 180.63, 180.76, 180.8, 180.93, 181.23, 181.3, 182.2, 182.22, 182.52, 182.86, 182.9, 182.99, 183.0, 183.1, 183.34, 183.43, 183.45, 183.87, 184.15, 184.25, 184.4, 185.0, 185.17, 185.27, 185.28, 185.31, 185.49, 185.71, 186.17, 186.21, 186.32, 186.4, 186.45, 186.54, 186.95, 187.22, 187.47, 187.52, 187.87, 187.88, 187.99, 188.11, 188.13, 188.69, 189.44, 189.45, 189.49, 189.57, 189.82, 189.84, 189.88, 190.13, 190.14, 190.32, 190.4, 190.67, 190.7, 190.89, 190.92, 191.15, 191.33, 191.47, 191.48, 191.61, 191.66, 191.78, 191.79, 191.82, 191.94, 192.16, 192.37, 192.39, 192.47, 192.5, 193.22, 193.45, 193.61, 193.8, 193.81, 193.83, 193.87, 193.88, 193.94, 194.04, 194.37, 194.53, 194.62, 194.75, 194.98, 194.99, 195.03, 195.04, 195.16, 195.23, 195.25, 195.43, 195.61, 195.71, 195.74, 196.01, 196.08, 196.2, 196.25, 196.26, 196.33, 196.36, 196.5, 196.58, 196.61, 196.71, 196.81, 196.91, 196.92, 197.06, 197.09, 197.1, 197.11, 197.28, 197.36, 197.54, 197.58, 197.69, 197.79, 198.02, 198.12, 198.21, 198.24, 198.3, 198.32, 198.33, 198.36, 198.69, 198.79, 198.84, 199.14, 199.18, 199.2, 199.38, 199.42, 199.78, 199.83, 199.84, 199.86, 199.88, 199.96, 200.14, 200.16, 200.25, 200.28, 200.46, 200.49, 200.59, 200.62, 200.66, 200.68, 200.73, 200.8, 200.91, 200.98, 201.01, 201.07, 201.25, 201.38, 201.45, 201.58, 201.76, 201.96, 202.05, 202.06, 202.21, 202.38, 202.51, 202.55, 202.57, 202.66, 202.67, 202.98, 203.01, 203.04, 203.16, 203.27, 203.36, 203.44, 203.57, 203.76, 203.81, 203.87, 204.05, 204.17, 204.5, 204.57, 204.63, 204.77, 204.86, 204.92, 204.98, 205.0, 205.01, 205.23, 205.26, 205.33, 205.35, 205.5, 205.77, 205.78, 205.84, 205.97, 206.09, 206.15, 206.25, 206.33, 206.4, 206.49, 206.52, 206.53, 206.59, 206.62, 206.66, 206.72, 206.98, 207.28, 207.32, 207.37, 207.45, 207.58, 207.6, 207.62, 207.64, 207.71, 207.79, 207.84, 207.95, 207.96, 208.05, 208.06, 208.17, 208.2, 208.3, 208.31, 208.39, 208.65, 208.69, 208.78, 208.85, 208.99, 209.06, 209.15, 209.26, 209.5, 209.58, 209.86, 209.9, 210.0, 210.23, 210.4, 210.48, 210.78, 210.94, 210.95, 210.96, 211.03, 211.06, 211.12, 211.35, 211.49, 211.58, 211.78, 211.83, 211.88, 212.01, 212.02, 212.08, 212.19, 212.62, 212.87, 212.92, 212.97, 213.03, 213.11, 213.22, 213.33, 213.37, 213.38, 213.43, 213.54, 213.8, 213.87, 213.92, 214.05, 214.09, 214.42, 214.43, 214.45, 214.51, 214.73, 214.77, 215.07, 215.33, 215.6, 215.64, 215.69, 215.72, 215.81, 215.9, 215.92, 215.94, 216.0, 216.07, 216.19, 216.38, 216.4, 216.58, 216.64, 216.7, 216.71, 216.88, 216.9, 216.92, 216.94, 216.96, 217.0, 217.08, 217.11, 217.3, 217.39, 217.4, 217.55, 217.57, 217.66, 217.71, 217.74, 217.75, 217.79, 217.84, 217.94, 218.0, 218.1, 218.46, 218.54, 218.6, 218.65, 219.17, 219.38, 219.39, 219.5, 219.53, 219.67, 219.7, 219.72, 219.73, 219.8, 219.81, 219.82, 219.84, 219.91, 219.92, 219.96, 219.97, 220.24, 220.26, 220.36, 220.47, 220.49, 220.52, 220.64, 221.06, 221.08, 221.24, 221.29, 221.43, 221.58, 221.79, 221.8, 221.83, 221.89, 222.21, 222.29, 222.46, 222.52, 222.58, 222.6, 222.66, 222.85, 223.14, 223.16, 223.26, 223.35, 223.36, 223.58, 223.64, 223.68, 223.78, 223.83, 223.9, 224.1, 224.63, 224.71, 225.35, 225.47, 225.6, 226.11, 226.28, 226.38, 226.7, 226.73, 226.75, 226.84, 226.88, 226.93, 226.98, 227.04, 227.1, 227.16, 227.23, 227.28, 227.51, 227.68, 227.74, 227.81, 227.89, 227.91, 227.94, 227.96, 227.98, 228.05, 228.08, 228.2, 228.26, 228.42, 228.5, 228.56, 228.69, 228.7, 228.92, 229.2, 229.21, 229.58, 229.73, 229.86, 229.92, 229.94, 230.59, 230.68, 230.74, 230.78, 231.15, 231.19, 231.31, 231.43, 231.5, 231.54, 231.56, 231.61, 231.69, 231.71, 231.72, 231.76, 231.95, 232.12, 232.29, 232.64, 232.78, 232.81, 232.89, 233.29, 233.3, 233.47, 233.52, 233.59, 233.71, 233.94, 234.06, 234.27, 234.35, 234.45, 234.5, 234.51, 234.58, 234.82, 235.06, 235.45, 235.54, 235.63, 235.85, 236.04, 236.14, 236.79, 236.84, 237.15, 237.17, 237.21, 237.58, 237.74, 237.75, 238.27, 238.53, 238.78, 239.07, 239.19, 239.21, 239.28, 239.52, 239.64, 239.82, 239.95, 240.09, 240.59, 240.69, 240.71, 240.81, 240.86, 242.3, 242.52, 242.62, 242.84, 242.94, 243.5, 243.52, 243.53, 243.58, 243.59, 243.73, 244.28, 244.3, 246.34, 246.53, 247.48, 247.51, 247.69, 247.87, 247.97, 248.24, 248.37, 249.29, 249.31, 250.2, 250.8, 250.89, 251.46, 251.6, 251.99, 252.72, 253.16, 253.86, 253.93, 254.6, 254.63, 254.95, 255.17, 256.74, 259.63, 260.85, 261.67, 263.32, 263.56, 266.59, 267.6, 267.61, 267.76, 271.74]\n"
          ]
        }
      ]
    },
    {
      "cell_type": "code",
      "source": [
        "print('BMI ' + str(sorted(df['bmi'].unique())))"
      ],
      "metadata": {
        "colab": {
          "base_uri": "https://localhost:8080/"
        },
        "id": "9QmSp4DUxX98",
        "outputId": "bc4965dd-4d7c-4284-f1c8-68a102458f84"
      },
      "execution_count": null,
      "outputs": [
        {
          "output_type": "stream",
          "name": "stdout",
          "text": [
            "BMI [10.3, 19.4, 36.6, nan, 11.3, 11.5, 12.0, 12.3, 12.8, 13.0, 13.2, 13.3, 13.4, 13.5, 13.7, 13.8, 13.9, 14.0, 14.1, 14.2, 14.3, 14.4, 14.5, 14.6, 14.8, 14.9, 15.0, 15.1, 15.2, 15.3, 15.4, 15.5, 15.6, 15.7, 15.8, 15.9, 16.0, 16.1, 16.2, 16.3, 16.4, 16.5, 16.6, 16.7, 16.8, 16.9, 17.0, 17.1, 17.2, 17.3, 17.4, 17.5, 17.6, 17.7, 17.8, 17.9, 18.0, 18.1, 18.2, 18.3, 18.4, 18.5, 18.6, 18.7, 18.8, 18.9, 19.0, 19.1, 19.2, 19.3, 19.5, 19.6, 19.7, 19.8, 19.9, 20.0, 20.1, 20.2, 20.3, 20.4, 20.5, 20.6, 20.7, 20.8, 20.9, 21.0, 21.1, 21.2, 21.3, 21.4, 21.5, 21.6, 21.7, 21.8, 21.9, 22.0, 22.1, 22.2, 22.3, 22.4, 22.5, 22.6, 22.7, 22.8, 22.9, 23.0, 23.1, 23.2, 23.3, 23.4, 23.5, 23.6, 23.7, 23.8, 23.9, 24.0, 24.1, 24.2, 24.3, 24.4, 24.5, 24.6, 24.7, 24.8, 24.9, 25.0, 25.1, 25.2, 25.3, 25.4, 25.5, 25.6, 25.7, 25.8, 25.9, 26.0, 26.1, 26.2, 26.3, 26.4, 26.5, 26.6, 26.7, 26.8, 26.9, 27.0, 27.1, 27.2, 27.3, 27.4, 27.5, 27.6, 27.7, 27.8, 27.9, 28.0, 28.1, 28.2, 28.3, 28.4, 28.5, 28.6, 28.7, 28.8, 28.9, 29.0, 29.1, 29.2, 29.3, 29.4, 29.5, 29.6, 29.7, 29.8, 29.9, 30.0, 30.1, 30.2, 30.3, 30.4, 30.5, 30.6, 30.7, 30.8, 30.9, 31.0, 31.1, 31.2, 31.3, 31.4, 31.5, 31.6, 31.7, 31.8, 31.9, 32.0, 32.1, 32.2, 32.3, 32.4, 32.5, 32.6, 32.7, 32.8, 32.9, 33.0, 33.1, 33.2, 33.3, 33.4, 33.5, 33.6, 33.7, 33.8, 33.9, 34.0, 34.1, 34.2, 34.3, 34.4, 34.5, 34.6, 34.7, 34.8, 34.9, 35.0, 35.1, 35.2, 35.3, 35.4, 35.5, 35.6, 35.7, 35.8, 35.9, 36.0, 36.1, 36.2, 36.3, 36.4, 36.5, 36.7, 36.8, 36.9, 37.0, 37.1, 37.2, 37.3, 37.4, 37.5, 37.6, 37.7, 37.8, 37.9, 38.0, 38.1, 38.2, 38.3, 38.4, 38.5, 38.6, 38.7, 38.8, 38.9, 39.0, 39.1, 39.2, 39.3, 39.4, 39.5, 39.6, 39.7, 39.8, 39.9, 40.0, 40.1, 40.2, 40.3, 40.4, 40.5, 40.6, 40.7, 40.8, 40.9, 41.0, 41.1, 41.2, 41.3, 41.4, 41.5, 41.6, 41.7, 41.8, 41.9, 42.0, 42.1, 42.2, 42.3, 42.4, 42.5, 42.6, 42.7, 42.8, 42.9, 43.0, 43.1, 43.2, 43.3, 43.4, 43.6, 43.7, 43.8, 43.9, 44.0, 44.1, 44.2, 44.3, 44.4, 44.5, 44.6, 44.7, 44.8, 44.9, 45.0, 45.1, 45.2, 45.3, 45.4, 45.5, 45.7, 45.8, 45.9, 46.0, 46.1, 46.2, 46.3, 46.4, 46.5, 46.6, 46.8, 46.9, 47.1, 47.3, 47.4, 47.5, 47.6, 47.8, 47.9, 48.0, 48.1, 48.2, 48.3, 48.4, 48.5, 48.7, 48.8, 48.9, 49.2, 49.3, 49.4, 49.5, 49.8, 49.9, 50.1, 50.2, 50.3, 50.4, 50.5, 50.6, 50.8, 50.9, 51.0, 51.5, 51.7, 51.8, 51.9, 52.3, 52.5, 52.7, 52.8, 52.9, 53.4, 53.5, 53.8, 53.9, 54.0, 54.1, 54.2, 54.3, 54.6, 54.7, 54.8, 55.0, 55.1, 55.2, 55.7, 55.9, 56.0, 56.1, 56.6, 57.2, 57.3, 57.5, 57.7, 57.9, 58.1, 59.7, 60.2, 60.9, 61.2, 61.6, 63.3, 64.4, 64.8, 66.8, 71.9, 78.0, 92.0, 97.6]\n"
          ]
        }
      ]
    },
    {
      "cell_type": "code",
      "source": [
        "# Smoking Status  0:Unknown, 1: Never Smoked, 2: Formerly Smoked, 3: Smokes\n",
        "print('Smoking Status ' + str(sorted(df['smoking_status'].unique())))"
      ],
      "metadata": {
        "colab": {
          "base_uri": "https://localhost:8080/"
        },
        "id": "024z-hz2xhq7",
        "outputId": "808e4624-d8b3-495e-f76a-c44a2114c433"
      },
      "execution_count": null,
      "outputs": [
        {
          "output_type": "stream",
          "name": "stdout",
          "text": [
            "Smoking Status ['Unknown', 'formerly smoked', 'never smoked', 'smokes']\n"
          ]
        }
      ]
    },
    {
      "cell_type": "code",
      "source": [
        "fill = (df.smoking_status == 'Unknown')\n",
        "df.loc[fill, 'smoking_status'] = 0\n",
        "fill = (df.smoking_status == 'never smoked')\n",
        "df.loc[fill, 'smoking_status'] = 1\n",
        "fill = (df.smoking_status == 'formerly smoked')\n",
        "df.loc[fill, 'smoking_status'] = 2\n",
        "fill = (df.smoking_status == 'smokes')\n",
        "df.loc[fill, 'smoking_status'] = 3"
      ],
      "metadata": {
        "id": "YP_-cjuH1Et7"
      },
      "execution_count": null,
      "outputs": []
    },
    {
      "cell_type": "code",
      "source": [
        "print('Stroke ' + str(sorted(df['stroke'].unique())))"
      ],
      "metadata": {
        "colab": {
          "base_uri": "https://localhost:8080/"
        },
        "id": "cWWna1djxolx",
        "outputId": "77fe75df-1a1d-4752-cc2d-ce1f372147b6"
      },
      "execution_count": null,
      "outputs": [
        {
          "output_type": "stream",
          "name": "stdout",
          "text": [
            "Stroke [0, 1]\n"
          ]
        }
      ]
    },
    {
      "cell_type": "code",
      "source": [
        "# Univariate Analysis - Analyze 1 variable at a time\n",
        "# This analysis is restricted to cat cols ... \n",
        "# Think about this... when you did a \"describe\" - you were analyzing the numeric cols... one at a time\n",
        "sns.countplot(x=\"stroke\", data=df)"
      ],
      "metadata": {
        "colab": {
          "base_uri": "https://localhost:8080/",
          "height": 296
        },
        "id": "CSbHgnn6Xnn8",
        "outputId": "d68110d4-94ee-4b9f-f1ed-146c413d7e50"
      },
      "execution_count": null,
      "outputs": [
        {
          "output_type": "execute_result",
          "data": {
            "text/plain": [
              "<AxesSubplot:xlabel='stroke', ylabel='count'>"
            ]
          },
          "metadata": {},
          "execution_count": 33
        },
        {
          "output_type": "display_data",
          "data": {
            "text/plain": [
              "<Figure size 432x288 with 1 Axes>"
            ],
            "image/png": "[encoded data removed]"
          },
          "metadata": {
            "needs_background": "light"
          }
        }
      ]
    },
    {
      "cell_type": "code",
      "source": [
        "df['stroke'].value_counts()"
      ],
      "metadata": {
        "colab": {
          "base_uri": "https://localhost:8080/"
        },
        "id": "-GfNrDorY7Vs",
        "outputId": "24cf6388-9e9e-4cd4-b229-e2b906c719e7"
      },
      "execution_count": null,
      "outputs": [
        {
          "output_type": "execute_result",
          "data": {
            "text/plain": [
              "0    4861\n",
              "1     249\n",
              "Name: stroke, dtype: int64"
            ]
          },
          "metadata": {},
          "execution_count": 34
        }
      ]
    },
    {
      "cell_type": "code",
      "source": [
        "6636 / (23364 + 6636)"
      ],
      "metadata": {
        "colab": {
          "base_uri": "https://localhost:8080/"
        },
        "id": "i26tvDvAZCZ6",
        "outputId": "09ed2d8b-e75a-47b4-c294-3ddc7c7bff84"
      },
      "execution_count": null,
      "outputs": [
        {
          "output_type": "execute_result",
          "data": {
            "text/plain": [
              "0.2212"
            ]
          },
          "metadata": {},
          "execution_count": 37
        }
      ]
    },
    {
      "cell_type": "code",
      "source": [
        "df['stroke'].value_counts(normalize=True)"
      ],
      "metadata": {
        "colab": {
          "base_uri": "https://localhost:8080/"
        },
        "id": "7cNFRfLnZo3o",
        "outputId": "7298e5f2-8825-4100-cb36-3c4c7f7cfea8"
      },
      "execution_count": null,
      "outputs": [
        {
          "output_type": "execute_result",
          "data": {
            "text/plain": [
              "0    0.951272\n",
              "1    0.048728\n",
              "Name: stroke, dtype: float64"
            ]
          },
          "metadata": {},
          "execution_count": 35
        }
      ]
    },
    {
      "cell_type": "code",
      "source": [
        "sns.countplot(x=\"gender\", data=df)"
      ],
      "metadata": {
        "colab": {
          "base_uri": "https://localhost:8080/",
          "height": 296
        },
        "id": "a08XkgaSZNlk",
        "outputId": "7b02dd42-fb35-44bf-e5c8-0e734cc52e13"
      },
      "execution_count": null,
      "outputs": [
        {
          "output_type": "execute_result",
          "data": {
            "text/plain": [
              "<AxesSubplot:xlabel='gender', ylabel='count'>"
            ]
          },
          "metadata": {},
          "execution_count": 36
        },
        {
          "output_type": "display_data",
          "data": {
            "text/plain": [
              "<Figure size 432x288 with 1 Axes>"
            ],
            "image/png": "[encoded data removed]"
          },
          "metadata": {
            "needs_background": "light"
          }
        }
      ]
    },
    {
      "cell_type": "code",
      "source": [
        "df['gender'].value_counts()"
      ],
      "metadata": {
        "colab": {
          "base_uri": "https://localhost:8080/"
        },
        "id": "wCGyVdZVZSJb",
        "outputId": "4b1fa008-688b-45ae-a4e0-cb33b895027c"
      },
      "execution_count": null,
      "outputs": [
        {
          "output_type": "execute_result",
          "data": {
            "text/plain": [
              "0    2994\n",
              "1    2115\n",
              "2       1\n",
              "Name: gender, dtype: int64"
            ]
          },
          "metadata": {},
          "execution_count": 37
        }
      ]
    },
    {
      "cell_type": "code",
      "source": [
        "df['gender'].value_counts(normalize=True)"
      ],
      "metadata": {
        "colab": {
          "base_uri": "https://localhost:8080/"
        },
        "id": "XUrlZKHGZ3Aj",
        "outputId": "c9448672-2063-4b37-b97e-12c1c41586b1"
      },
      "execution_count": null,
      "outputs": [
        {
          "output_type": "execute_result",
          "data": {
            "text/plain": [
              "0    0.585910\n",
              "1    0.413894\n",
              "2    0.000196\n",
              "Name: gender, dtype: float64"
            ]
          },
          "metadata": {},
          "execution_count": 38
        }
      ]
    },
    {
      "cell_type": "code",
      "source": [
        "sns.countplot(x=\"hypertension\", data=df)"
      ],
      "metadata": {
        "colab": {
          "base_uri": "https://localhost:8080/",
          "height": 296
        },
        "id": "7F7ambsaZaFi",
        "outputId": "2ecae064-0ac8-4acd-ab01-d3fb13546334"
      },
      "execution_count": null,
      "outputs": [
        {
          "output_type": "execute_result",
          "data": {
            "text/plain": [
              "<AxesSubplot:xlabel='hypertension', ylabel='count'>"
            ]
          },
          "metadata": {},
          "execution_count": 39
        },
        {
          "output_type": "display_data",
          "data": {
            "text/plain": [
              "<Figure size 432x288 with 1 Axes>"
            ],
            "image/png": "[encoded data removed]"
          },
          "metadata": {
            "needs_background": "light"
          }
        }
      ]
    },
    {
      "cell_type": "code",
      "source": [
        "df['hypertension'].value_counts()"
      ],
      "metadata": {
        "colab": {
          "base_uri": "https://localhost:8080/"
        },
        "id": "v5ceCNI8Z-5J",
        "outputId": "b0136d77-5a2a-4801-ca98-80aa90f1e50a"
      },
      "execution_count": null,
      "outputs": [
        {
          "output_type": "execute_result",
          "data": {
            "text/plain": [
              "0    4612\n",
              "1     498\n",
              "Name: hypertension, dtype: int64"
            ]
          },
          "metadata": {},
          "execution_count": 40
        }
      ]
    },
    {
      "cell_type": "code",
      "source": [
        "df['hypertension'].value_counts(normalize=True)"
      ],
      "metadata": {
        "colab": {
          "base_uri": "https://localhost:8080/"
        },
        "id": "WZx0MJPOaBCR",
        "outputId": "7a7ecf4c-6fd5-4f10-97a9-0b0151b35de6"
      },
      "execution_count": null,
      "outputs": [
        {
          "output_type": "execute_result",
          "data": {
            "text/plain": [
              "0    0.902544\n",
              "1    0.097456\n",
              "Name: hypertension, dtype: float64"
            ]
          },
          "metadata": {},
          "execution_count": 41
        }
      ]
    },
    {
      "cell_type": "code",
      "source": [
        "sns.countplot(x=\"MARRIAGE\", data=df)"
      ],
      "metadata": {
        "colab": {
          "base_uri": "https://localhost:8080/",
          "height": 296
        },
        "id": "ufofQxQkajQo",
        "outputId": "b414ee1e-2a8c-4984-cc36-32b7370bddaf"
      },
      "execution_count": null,
      "outputs": [
        {
          "output_type": "execute_result",
          "data": {
            "text/plain": [
              "<AxesSubplot:xlabel='MARRIAGE', ylabel='count'>"
            ]
          },
          "metadata": {},
          "execution_count": 45
        },
        {
          "output_type": "display_data",
          "data": {
            "text/plain": [
              "<Figure size 432x288 with 1 Axes>"
            ],
            "image/png": "[encoded data removed]"
          },
          "metadata": {
            "needs_background": "light"
          }
        }
      ]
    },
    {
      "cell_type": "code",
      "source": [
        " sns.countplot(x=\"heart_disease\", data=df)\n",
        " df['heart_disease'].value_counts(normalize=True)\n",
        " df['heart_disease'].value_counts()\n",
        "\n"
      ],
      "metadata": {
        "colab": {
          "base_uri": "https://localhost:8080/",
          "height": 368
        },
        "id": "JBhWobBy4-dl",
        "outputId": "da20c3e8-2b28-4b0b-d2db-238782180243"
      },
      "execution_count": null,
      "outputs": [
        {
          "output_type": "execute_result",
          "data": {
            "text/plain": [
              "<AxesSubplot:xlabel='heart_disease', ylabel='count'>"
            ]
          },
          "metadata": {},
          "execution_count": 43
        },
        {
          "output_type": "execute_result",
          "data": {
            "text/plain": [
              "0    0.945988\n",
              "1    0.054012\n",
              "Name: heart_disease, dtype: float64"
            ]
          },
          "metadata": {},
          "execution_count": 43
        },
        {
          "output_type": "execute_result",
          "data": {
            "text/plain": [
              "0    4834\n",
              "1     276\n",
              "Name: heart_disease, dtype: int64"
            ]
          },
          "metadata": {},
          "execution_count": 43
        },
        {
          "output_type": "display_data",
          "data": {
            "text/plain": [
              "<Figure size 432x288 with 1 Axes>"
            ],
            "image/png": "[encoded data removed]"
          },
          "metadata": {
            "needs_background": "light"
          }
        }
      ]
    },
    {
      "cell_type": "code",
      "source": [
        "sns.countplot(x=\"ever_married\", data=df)\n",
        "\n",
        "df['ever_married'].value_counts()\n",
        " \n",
        " "
      ],
      "metadata": {
        "colab": {
          "base_uri": "https://localhost:8080/",
          "height": 370
        },
        "id": "NsfmsuZ75JNr",
        "outputId": "6dbb4f04-90f8-4d61-d826-800deeb60cc8"
      },
      "execution_count": null,
      "outputs": [
        {
          "output_type": "execute_result",
          "data": {
            "text/plain": [
              "<AxesSubplot:xlabel='ever_married', ylabel='count'>"
            ]
          },
          "metadata": {},
          "execution_count": 45
        },
        {
          "output_type": "execute_result",
          "data": {
            "text/plain": [
              "1    0.656164\n",
              "0    0.343836\n",
              "Name: ever_married, dtype: float64"
            ]
          },
          "metadata": {},
          "execution_count": 45
        },
        {
          "output_type": "execute_result",
          "data": {
            "text/plain": [
              "1    3353\n",
              "0    1757\n",
              "Name: ever_married, dtype: int64"
            ]
          },
          "metadata": {},
          "execution_count": 45
        },
        {
          "output_type": "display_data",
          "data": {
            "text/plain": [
              "<Figure size 432x288 with 1 Axes>"
            ],
            "image/png": "[encoded data removed]"
          },
          "metadata": {
            "needs_background": "light"
          }
        }
      ]
    },
    {
      "cell_type": "code",
      "source": [
        "df['ever_married'].value_counts(normalize=True)"
      ],
      "metadata": {
        "colab": {
          "base_uri": "https://localhost:8080/"
        },
        "id": "lbkfqUGn5g_L",
        "outputId": "b567c72d-fca9-4d3f-91e1-d9ced2e4818e"
      },
      "execution_count": null,
      "outputs": [
        {
          "output_type": "execute_result",
          "data": {
            "text/plain": [
              "1    0.656164\n",
              "0    0.343836\n",
              "Name: ever_married, dtype: float64"
            ]
          },
          "metadata": {},
          "execution_count": 46
        }
      ]
    },
    {
      "cell_type": "code",
      "source": [
        "sns.countplot(x=\"work_type\", data=df)"
      ],
      "metadata": {
        "colab": {
          "base_uri": "https://localhost:8080/",
          "height": 297
        },
        "id": "vlBw3hrm5jma",
        "outputId": "b9af5e0c-848a-4c51-d5af-4637a7cd6f84"
      },
      "execution_count": null,
      "outputs": [
        {
          "output_type": "execute_result",
          "data": {
            "text/plain": [
              "<AxesSubplot:xlabel='work_type', ylabel='count'>"
            ]
          },
          "metadata": {},
          "execution_count": 47
        },
        {
          "output_type": "display_data",
          "data": {
            "text/plain": [
              "<Figure size 432x288 with 1 Axes>"
            ],
            "image/png": "[encoded data removed]"
          },
          "metadata": {
            "needs_background": "light"
          }
        }
      ]
    },
    {
      "cell_type": "code",
      "source": [
        "df['work_type'].value_counts(normalize=True)"
      ],
      "metadata": {
        "colab": {
          "base_uri": "https://localhost:8080/"
        },
        "id": "6AMH6nlR5tl9",
        "outputId": "e084c868-db2c-41c4-e987-12be3dd90032"
      },
      "execution_count": null,
      "outputs": [
        {
          "output_type": "execute_result",
          "data": {
            "text/plain": [
              "4    0.572407\n",
              "3    0.160274\n",
              "1    0.134442\n",
              "2    0.128571\n",
              "0    0.004305\n",
              "Name: work_type, dtype: float64"
            ]
          },
          "metadata": {},
          "execution_count": 48
        }
      ]
    },
    {
      "cell_type": "code",
      "source": [
        "sns.countplot(x=\"Residence_type\", data=df)"
      ],
      "metadata": {
        "colab": {
          "base_uri": "https://localhost:8080/",
          "height": 297
        },
        "id": "_UiKHMaf5xQ2",
        "outputId": "68706873-e318-479a-e333-a482cb30345b"
      },
      "execution_count": null,
      "outputs": [
        {
          "output_type": "execute_result",
          "data": {
            "text/plain": [
              "<AxesSubplot:xlabel='Residence_type', ylabel='count'>"
            ]
          },
          "metadata": {},
          "execution_count": 49
        },
        {
          "output_type": "display_data",
          "data": {
            "text/plain": [
              "<Figure size 432x288 with 1 Axes>"
            ],
            "image/png": "[encoded data removed]"
          },
          "metadata": {
            "needs_background": "light"
          }
        }
      ]
    },
    {
      "cell_type": "code",
      "source": [
        "df['Residence_type'].value_counts(normalize=True)"
      ],
      "metadata": {
        "colab": {
          "base_uri": "https://localhost:8080/"
        },
        "id": "JVY8-q4G500T",
        "outputId": "d583bf70-e961-4f3d-de81-3e394b00518d"
      },
      "execution_count": null,
      "outputs": [
        {
          "output_type": "execute_result",
          "data": {
            "text/plain": [
              "1    0.508023\n",
              "0    0.491977\n",
              "Name: Residence_type, dtype: float64"
            ]
          },
          "metadata": {},
          "execution_count": 50
        }
      ]
    },
    {
      "cell_type": "code",
      "source": [
        "sns.countplot(x=\"smoking_status\", data=df)"
      ],
      "metadata": {
        "colab": {
          "base_uri": "https://localhost:8080/",
          "height": 297
        },
        "id": "WcSYevH553j6",
        "outputId": "96b31e7e-5b42-4ecf-ca7f-66d56959ad6f"
      },
      "execution_count": null,
      "outputs": [
        {
          "output_type": "execute_result",
          "data": {
            "text/plain": [
              "<AxesSubplot:xlabel='smoking_status', ylabel='count'>"
            ]
          },
          "metadata": {},
          "execution_count": 51
        },
        {
          "output_type": "display_data",
          "data": {
            "text/plain": [
              "<Figure size 432x288 with 1 Axes>"
            ],
            "image/png": "[encoded data removed]"
          },
          "metadata": {
            "needs_background": "light"
          }
        }
      ]
    },
    {
      "cell_type": "code",
      "source": [
        "df['smoking_status'].value_counts(normalize=True)"
      ],
      "metadata": {
        "colab": {
          "base_uri": "https://localhost:8080/"
        },
        "id": "x5niR0aF58Tu",
        "outputId": "a854808a-b5f3-4405-c49c-65af6595fbdd"
      },
      "execution_count": null,
      "outputs": [
        {
          "output_type": "execute_result",
          "data": {
            "text/plain": [
              "1    0.370254\n",
              "0    0.302153\n",
              "2    0.173190\n",
              "3    0.154403\n",
              "Name: smoking_status, dtype: float64"
            ]
          },
          "metadata": {},
          "execution_count": 52
        }
      ]
    },
    {
      "cell_type": "code",
      "source": [
        "# Bivariate Analysis\n",
        "sns.set(rc={'figure.figsize':(12,8)})\n",
        "edu = sns.countplot(x='smoking_status', hue='stroke', data=df)\n",
        "plt.show()"
      ],
      "metadata": {
        "colab": {
          "base_uri": "https://localhost:8080/",
          "height": 502
        },
        "id": "kvYipa1wa563",
        "outputId": "cde02e0a-a22e-42bd-9625-fbc062b68e33"
      },
      "execution_count": null,
      "outputs": [
        {
          "output_type": "display_data",
          "data": {
            "text/plain": [
              "<Figure size 864x576 with 1 Axes>"
            ],
            "image/png": "[encoded data removed]"
          },
          "metadata": {}
        }
      ]
    },
    {
      "cell_type": "code",
      "source": [
        "pd.crosstab(df.smoking_status,df.stroke,margins=True)"
      ],
      "metadata": {
        "colab": {
          "base_uri": "https://localhost:8080/",
          "height": 238
        },
        "id": "l3ykzfBwfUyi",
        "outputId": "a19e0d54-ee65-4810-a267-572a3e49d2a5"
      },
      "execution_count": null,
      "outputs": [
        {
          "output_type": "execute_result",
          "data": {
            "text/plain": [
              "stroke             0    1   All\n",
              "smoking_status                 \n",
              "0               1497   47  1544\n",
              "1               1802   90  1892\n",
              "2                815   70   885\n",
              "3                747   42   789\n",
              "All             4861  249  5110"
            ],
            "text/html": [
              "\n",
              "  <div id=\"df-f02cab1c-953a-487b-a82c-be6995bd9a74\">\n",
              "    <div class=\"colab-df-container\">\n",
              "      <div>\n",
              "<style scoped>\n",
              "    .dataframe tbody tr th:only-of-type {\n",
              "        vertical-align: middle;\n",
              "    }\n",
              "\n",
              "    .dataframe tbody tr th {\n",
              "        vertical-align: top;\n",
              "    }\n",
              "\n",
              "    .dataframe thead th {\n",
              "        text-align: right;\n",
              "    }\n",
              "</style>\n",
              "<table border=\"1\" class=\"dataframe\">\n",
              "  <thead>\n",
              "    <tr style=\"text-align: right;\">\n",
              "      <th>stroke</th>\n",
              "      <th>0</th>\n",
              "      <th>1</th>\n",
              "      <th>All</th>\n",
              "    </tr>\n",
              "    <tr>\n",
              "      <th>smoking_status</th>\n",
              "      <th></th>\n",
              "      <th></th>\n",
              "      <th></th>\n",
              "    </tr>\n",
              "  </thead>\n",
              "  <tbody>\n",
              "    <tr>\n",
              "      <th>0</th>\n",
              "      <td>1497</td>\n",
              "      <td>47</td>\n",
              "      <td>1544</td>\n",
              "    </tr>\n",
              "    <tr>\n",
              "      <th>1</th>\n",
              "      <td>1802</td>\n",
              "      <td>90</td>\n",
              "      <td>1892</td>\n",
              "    </tr>\n",
              "    <tr>\n",
              "      <th>2</th>\n",
              "      <td>815</td>\n",
              "      <td>70</td>\n",
              "      <td>885</td>\n",
              "    </tr>\n",
              "    <tr>\n",
              "      <th>3</th>\n",
              "      <td>747</td>\n",
              "      <td>42</td>\n",
              "      <td>789</td>\n",
              "    </tr>\n",
              "    <tr>\n",
              "      <th>All</th>\n",
              "      <td>4861</td>\n",
              "      <td>249</td>\n",
              "      <td>5110</td>\n",
              "    </tr>\n",
              "  </tbody>\n",
              "</table>\n",
              "</div>\n",
              "      <button class=\"colab-df-convert\" onclick=\"convertToInteractive('df-f02cab1c-953a-487b-a82c-be6995bd9a74')\"\n",
              "              title=\"Convert this dataframe to an interactive table.\"\n",
              "              style=\"display:none;\">\n",
              "        \n",
              "  <svg xmlns=\"http://www.w3.org/2000/svg\" height=\"24px\"viewBox=\"0 0 24 24\"\n",
              "       width=\"24px\">\n",
              "    <path d=\"M0 0h24v24H0V0z\" fill=\"none\"/>\n",
              "    <path d=\"M18.56 5.44l.94 2.06.94-2.06 2.06-.94-2.06-.94-.94-2.06-.94 2.06-2.06.94zm-11 1L8.5 8.5l.94-2.06 2.06-.94-2.06-.94L8.5 2.5l-.94 2.06-2.06.94zm10 10l.94 2.06.94-2.06 2.06-.94-2.06-.94-.94-2.06-.94 2.06-2.06.94z\"/><path d=\"M17.41 7.96l-1.37-1.37c-.4-.4-.92-.59-1.43-.59-.52 0-1.04.2-1.43.59L10.3 9.45l-7.72 7.72c-.78.78-.78 2.05 0 2.83L4 21.41c.39.39.9.59 1.41.59.51 0 1.02-.2 1.41-.59l7.78-7.78 2.81-2.81c.8-.78.8-2.07 0-2.86zM5.41 20L4 18.59l7.72-7.72 1.47 1.35L5.41 20z\"/>\n",
              "  </svg>\n",
              "      </button>\n",
              "      \n",
              "  <style>\n",
              "    .colab-df-container {\n",
              "      display:flex;\n",
              "      flex-wrap:wrap;\n",
              "      gap: 12px;\n",
              "    }\n",
              "\n",
              "    .colab-df-convert {\n",
              "      background-color: #E8F0FE;\n",
              "      border: none;\n",
              "      border-radius: 50%;\n",
              "      cursor: pointer;\n",
              "      display: none;\n",
              "      fill: #1967D2;\n",
              "      height: 32px;\n",
              "      padding: 0 0 0 0;\n",
              "      width: 32px;\n",
              "    }\n",
              "\n",
              "    .colab-df-convert:hover {\n",
              "      background-color: #E2EBFA;\n",
              "      box-shadow: 0px 1px 2px rgba(60, 64, 67, 0.3), 0px 1px 3px 1px rgba(60, 64, 67, 0.15);\n",
              "      fill: #174EA6;\n",
              "    }\n",
              "\n",
              "    [theme=dark] .colab-df-convert {\n",
              "      background-color: #3B4455;\n",
              "      fill: #D2E3FC;\n",
              "    }\n",
              "\n",
              "    [theme=dark] .colab-df-convert:hover {\n",
              "      background-color: #434B5C;\n",
              "      box-shadow: 0px 1px 3px 1px rgba(0, 0, 0, 0.15);\n",
              "      filter: drop-shadow(0px 1px 2px rgba(0, 0, 0, 0.3));\n",
              "      fill: #FFFFFF;\n",
              "    }\n",
              "  </style>\n",
              "\n",
              "      <script>\n",
              "        const buttonEl =\n",
              "          document.querySelector('#df-f02cab1c-953a-487b-a82c-be6995bd9a74 button.colab-df-convert');\n",
              "        buttonEl.style.display =\n",
              "          google.colab.kernel.accessAllowed ? 'block' : 'none';\n",
              "\n",
              "        async function convertToInteractive(key) {\n",
              "          const element = document.querySelector('#df-f02cab1c-953a-487b-a82c-be6995bd9a74');\n",
              "          const dataTable =\n",
              "            await google.colab.kernel.invokeFunction('convertToInteractive',\n",
              "                                                     [key], {});\n",
              "          if (!dataTable) return;\n",
              "\n",
              "          const docLinkHtml = 'Like what you see? Visit the ' +\n",
              "            '<a target=\"_blank\" href=https://colab.research.google.com/notebooks/data_table.ipynb>data table notebook</a>'\n",
              "            + ' to learn more about interactive tables.';\n",
              "          element.innerHTML = '';\n",
              "          dataTable['output_type'] = 'display_data';\n",
              "          await google.colab.output.renderOutput(dataTable, element);\n",
              "          const docLink = document.createElement('div');\n",
              "          docLink.innerHTML = docLinkHtml;\n",
              "          element.appendChild(docLink);\n",
              "        }\n",
              "      </script>\n",
              "    </div>\n",
              "  </div>\n",
              "  "
            ]
          },
          "metadata": {},
          "execution_count": 54
        }
      ]
    },
    {
      "cell_type": "code",
      "source": [
        "pd.crosstab(df.hypertension,df.stroke,normalize='index',margins=True)"
      ],
      "metadata": {
        "colab": {
          "base_uri": "https://localhost:8080/",
          "height": 175
        },
        "id": "oaa3O83Dfhov",
        "outputId": "56d9dbe3-b628-4df1-eb81-24af15f432fc"
      },
      "execution_count": null,
      "outputs": [
        {
          "output_type": "execute_result",
          "data": {
            "text/plain": [
              "stroke               0         1\n",
              "hypertension                    \n",
              "0             0.960321  0.039679\n",
              "1             0.867470  0.132530\n",
              "All           0.951272  0.048728"
            ],
            "text/html": [
              "\n",
              "  <div id=\"df-9798b213-8731-4e2d-b7bc-74666f48b4a8\">\n",
              "    <div class=\"colab-df-container\">\n",
              "      <div>\n",
              "<style scoped>\n",
              "    .dataframe tbody tr th:only-of-type {\n",
              "        vertical-align: middle;\n",
              "    }\n",
              "\n",
              "    .dataframe tbody tr th {\n",
              "        vertical-align: top;\n",
              "    }\n",
              "\n",
              "    .dataframe thead th {\n",
              "        text-align: right;\n",
              "    }\n",
              "</style>\n",
              "<table border=\"1\" class=\"dataframe\">\n",
              "  <thead>\n",
              "    <tr style=\"text-align: right;\">\n",
              "      <th>stroke</th>\n",
              "      <th>0</th>\n",
              "      <th>1</th>\n",
              "    </tr>\n",
              "    <tr>\n",
              "      <th>hypertension</th>\n",
              "      <th></th>\n",
              "      <th></th>\n",
              "    </tr>\n",
              "  </thead>\n",
              "  <tbody>\n",
              "    <tr>\n",
              "      <th>0</th>\n",
              "      <td>0.960321</td>\n",
              "      <td>0.039679</td>\n",
              "    </tr>\n",
              "    <tr>\n",
              "      <th>1</th>\n",
              "      <td>0.867470</td>\n",
              "      <td>0.132530</td>\n",
              "    </tr>\n",
              "    <tr>\n",
              "      <th>All</th>\n",
              "      <td>0.951272</td>\n",
              "      <td>0.048728</td>\n",
              "    </tr>\n",
              "  </tbody>\n",
              "</table>\n",
              "</div>\n",
              "      <button class=\"colab-df-convert\" onclick=\"convertToInteractive('df-9798b213-8731-4e2d-b7bc-74666f48b4a8')\"\n",
              "              title=\"Convert this dataframe to an interactive table.\"\n",
              "              style=\"display:none;\">\n",
              "        \n",
              "  <svg xmlns=\"http://www.w3.org/2000/svg\" height=\"24px\"viewBox=\"0 0 24 24\"\n",
              "       width=\"24px\">\n",
              "    <path d=\"M0 0h24v24H0V0z\" fill=\"none\"/>\n",
              "    <path d=\"M18.56 5.44l.94 2.06.94-2.06 2.06-.94-2.06-.94-.94-2.06-.94 2.06-2.06.94zm-11 1L8.5 8.5l.94-2.06 2.06-.94-2.06-.94L8.5 2.5l-.94 2.06-2.06.94zm10 10l.94 2.06.94-2.06 2.06-.94-2.06-.94-.94-2.06-.94 2.06-2.06.94z\"/><path d=\"M17.41 7.96l-1.37-1.37c-.4-.4-.92-.59-1.43-.59-.52 0-1.04.2-1.43.59L10.3 9.45l-7.72 7.72c-.78.78-.78 2.05 0 2.83L4 21.41c.39.39.9.59 1.41.59.51 0 1.02-.2 1.41-.59l7.78-7.78 2.81-2.81c.8-.78.8-2.07 0-2.86zM5.41 20L4 18.59l7.72-7.72 1.47 1.35L5.41 20z\"/>\n",
              "  </svg>\n",
              "      </button>\n",
              "      \n",
              "  <style>\n",
              "    .colab-df-container {\n",
              "      display:flex;\n",
              "      flex-wrap:wrap;\n",
              "      gap: 12px;\n",
              "    }\n",
              "\n",
              "    .colab-df-convert {\n",
              "      background-color: #E8F0FE;\n",
              "      border: none;\n",
              "      border-radius: 50%;\n",
              "      cursor: pointer;\n",
              "      display: none;\n",
              "      fill: #1967D2;\n",
              "      height: 32px;\n",
              "      padding: 0 0 0 0;\n",
              "      width: 32px;\n",
              "    }\n",
              "\n",
              "    .colab-df-convert:hover {\n",
              "      background-color: #E2EBFA;\n",
              "      box-shadow: 0px 1px 2px rgba(60, 64, 67, 0.3), 0px 1px 3px 1px rgba(60, 64, 67, 0.15);\n",
              "      fill: #174EA6;\n",
              "    }\n",
              "\n",
              "    [theme=dark] .colab-df-convert {\n",
              "      background-color: #3B4455;\n",
              "      fill: #D2E3FC;\n",
              "    }\n",
              "\n",
              "    [theme=dark] .colab-df-convert:hover {\n",
              "      background-color: #434B5C;\n",
              "      box-shadow: 0px 1px 3px 1px rgba(0, 0, 0, 0.15);\n",
              "      filter: drop-shadow(0px 1px 2px rgba(0, 0, 0, 0.3));\n",
              "      fill: #FFFFFF;\n",
              "    }\n",
              "  </style>\n",
              "\n",
              "      <script>\n",
              "        const buttonEl =\n",
              "          document.querySelector('#df-9798b213-8731-4e2d-b7bc-74666f48b4a8 button.colab-df-convert');\n",
              "        buttonEl.style.display =\n",
              "          google.colab.kernel.accessAllowed ? 'block' : 'none';\n",
              "\n",
              "        async function convertToInteractive(key) {\n",
              "          const element = document.querySelector('#df-9798b213-8731-4e2d-b7bc-74666f48b4a8');\n",
              "          const dataTable =\n",
              "            await google.colab.kernel.invokeFunction('convertToInteractive',\n",
              "                                                     [key], {});\n",
              "          if (!dataTable) return;\n",
              "\n",
              "          const docLinkHtml = 'Like what you see? Visit the ' +\n",
              "            '<a target=\"_blank\" href=https://colab.research.google.com/notebooks/data_table.ipynb>data table notebook</a>'\n",
              "            + ' to learn more about interactive tables.';\n",
              "          element.innerHTML = '';\n",
              "          dataTable['output_type'] = 'display_data';\n",
              "          await google.colab.output.renderOutput(dataTable, element);\n",
              "          const docLink = document.createElement('div');\n",
              "          docLink.innerHTML = docLinkHtml;\n",
              "          element.appendChild(docLink);\n",
              "        }\n",
              "      </script>\n",
              "    </div>\n",
              "  </div>\n",
              "  "
            ]
          },
          "metadata": {},
          "execution_count": 55
        }
      ]
    },
    {
      "cell_type": "code",
      "source": [
        "sns.set(rc={'figure.figsize':(12,8)})\n",
        "edu = sns.countplot(x='hypertension', hue='stroke', data=df)\n",
        "plt.show()"
      ],
      "metadata": {
        "colab": {
          "base_uri": "https://localhost:8080/",
          "height": 502
        },
        "id": "bRI2N4xmf2a2",
        "outputId": "69c0fc9f-a628-49d6-ab76-1bb63c432425"
      },
      "execution_count": null,
      "outputs": [
        {
          "output_type": "display_data",
          "data": {
            "text/plain": [
              "<Figure size 864x576 with 1 Axes>"
            ],
            "image/png": "[encoded data removed]"
          },
          "metadata": {}
        }
      ]
    },
    {
      "cell_type": "code",
      "source": [
        "sns.catplot(x=\"stroke\", y=\"hypertension\", jitter=True, data=df);"
      ],
      "metadata": {
        "colab": {
          "base_uri": "https://localhost:8080/",
          "height": 365
        },
        "id": "b39ShtNrh2bF",
        "outputId": "6fd201d0-2f07-42f6-9f6b-a424f0e4b1f5"
      },
      "execution_count": null,
      "outputs": [
        {
          "output_type": "display_data",
          "data": {
            "text/plain": [
              "<Figure size 360x360 with 1 Axes>"
            ],
            "image/png": "[encoded data removed]"
          },
          "metadata": {}
        }
      ]
    },
    {
      "cell_type": "code",
      "source": [
        "pd.crosstab(df.bmi,df.stroke)"
      ],
      "metadata": {
        "colab": {
          "base_uri": "https://localhost:8080/",
          "height": 455
        },
        "id": "cA0Jgs6XiAzf",
        "outputId": "413db1dc-8066-4dfb-bf12-c51e2306c920"
      },
      "execution_count": null,
      "outputs": [
        {
          "output_type": "execute_result",
          "data": {
            "text/plain": [
              "stroke  0  1\n",
              "bmi         \n",
              "10.3    1  0\n",
              "11.3    1  0\n",
              "11.5    1  0\n",
              "12.0    1  0\n",
              "12.3    1  0\n",
              "...    .. ..\n",
              "66.8    1  0\n",
              "71.9    1  0\n",
              "78.0    1  0\n",
              "92.0    1  0\n",
              "97.6    1  0\n",
              "\n",
              "[418 rows x 2 columns]"
            ],
            "text/html": [
              "\n",
              "  <div id=\"df-95304189-9aaa-49c9-9622-461f0c735661\">\n",
              "    <div class=\"colab-df-container\">\n",
              "      <div>\n",
              "<style scoped>\n",
              "    .dataframe tbody tr th:only-of-type {\n",
              "        vertical-align: middle;\n",
              "    }\n",
              "\n",
              "    .dataframe tbody tr th {\n",
              "        vertical-align: top;\n",
              "    }\n",
              "\n",
              "    .dataframe thead th {\n",
              "        text-align: right;\n",
              "    }\n",
              "</style>\n",
              "<table border=\"1\" class=\"dataframe\">\n",
              "  <thead>\n",
              "    <tr style=\"text-align: right;\">\n",
              "      <th>stroke</th>\n",
              "      <th>0</th>\n",
              "      <th>1</th>\n",
              "    </tr>\n",
              "    <tr>\n",
              "      <th>bmi</th>\n",
              "      <th></th>\n",
              "      <th></th>\n",
              "    </tr>\n",
              "  </thead>\n",
              "  <tbody>\n",
              "    <tr>\n",
              "      <th>10.3</th>\n",
              "      <td>1</td>\n",
              "      <td>0</td>\n",
              "    </tr>\n",
              "    <tr>\n",
              "      <th>11.3</th>\n",
              "      <td>1</td>\n",
              "      <td>0</td>\n",
              "    </tr>\n",
              "    <tr>\n",
              "      <th>11.5</th>\n",
              "      <td>1</td>\n",
              "      <td>0</td>\n",
              "    </tr>\n",
              "    <tr>\n",
              "      <th>12.0</th>\n",
              "      <td>1</td>\n",
              "      <td>0</td>\n",
              "    </tr>\n",
              "    <tr>\n",
              "      <th>12.3</th>\n",
              "      <td>1</td>\n",
              "      <td>0</td>\n",
              "    </tr>\n",
              "    <tr>\n",
              "      <th>...</th>\n",
              "      <td>...</td>\n",
              "      <td>...</td>\n",
              "    </tr>\n",
              "    <tr>\n",
              "      <th>66.8</th>\n",
              "      <td>1</td>\n",
              "      <td>0</td>\n",
              "    </tr>\n",
              "    <tr>\n",
              "      <th>71.9</th>\n",
              "      <td>1</td>\n",
              "      <td>0</td>\n",
              "    </tr>\n",
              "    <tr>\n",
              "      <th>78.0</th>\n",
              "      <td>1</td>\n",
              "      <td>0</td>\n",
              "    </tr>\n",
              "    <tr>\n",
              "      <th>92.0</th>\n",
              "      <td>1</td>\n",
              "      <td>0</td>\n",
              "    </tr>\n",
              "    <tr>\n",
              "      <th>97.6</th>\n",
              "      <td>1</td>\n",
              "      <td>0</td>\n",
              "    </tr>\n",
              "  </tbody>\n",
              "</table>\n",
              "<p>418 rows × 2 columns</p>\n",
              "</div>\n",
              "      <button class=\"colab-df-convert\" onclick=\"convertToInteractive('df-95304189-9aaa-49c9-9622-461f0c735661')\"\n",
              "              title=\"Convert this dataframe to an interactive table.\"\n",
              "              style=\"display:none;\">\n",
              "        \n",
              "  <svg xmlns=\"http://www.w3.org/2000/svg\" height=\"24px\"viewBox=\"0 0 24 24\"\n",
              "       width=\"24px\">\n",
              "    <path d=\"M0 0h24v24H0V0z\" fill=\"none\"/>\n",
              "    <path d=\"M18.56 5.44l.94 2.06.94-2.06 2.06-.94-2.06-.94-.94-2.06-.94 2.06-2.06.94zm-11 1L8.5 8.5l.94-2.06 2.06-.94-2.06-.94L8.5 2.5l-.94 2.06-2.06.94zm10 10l.94 2.06.94-2.06 2.06-.94-2.06-.94-.94-2.06-.94 2.06-2.06.94z\"/><path d=\"M17.41 7.96l-1.37-1.37c-.4-.4-.92-.59-1.43-.59-.52 0-1.04.2-1.43.59L10.3 9.45l-7.72 7.72c-.78.78-.78 2.05 0 2.83L4 21.41c.39.39.9.59 1.41.59.51 0 1.02-.2 1.41-.59l7.78-7.78 2.81-2.81c.8-.78.8-2.07 0-2.86zM5.41 20L4 18.59l7.72-7.72 1.47 1.35L5.41 20z\"/>\n",
              "  </svg>\n",
              "      </button>\n",
              "      \n",
              "  <style>\n",
              "    .colab-df-container {\n",
              "      display:flex;\n",
              "      flex-wrap:wrap;\n",
              "      gap: 12px;\n",
              "    }\n",
              "\n",
              "    .colab-df-convert {\n",
              "      background-color: #E8F0FE;\n",
              "      border: none;\n",
              "      border-radius: 50%;\n",
              "      cursor: pointer;\n",
              "      display: none;\n",
              "      fill: #1967D2;\n",
              "      height: 32px;\n",
              "      padding: 0 0 0 0;\n",
              "      width: 32px;\n",
              "    }\n",
              "\n",
              "    .colab-df-convert:hover {\n",
              "      background-color: #E2EBFA;\n",
              "      box-shadow: 0px 1px 2px rgba(60, 64, 67, 0.3), 0px 1px 3px 1px rgba(60, 64, 67, 0.15);\n",
              "      fill: #174EA6;\n",
              "    }\n",
              "\n",
              "    [theme=dark] .colab-df-convert {\n",
              "      background-color: #3B4455;\n",
              "      fill: #D2E3FC;\n",
              "    }\n",
              "\n",
              "    [theme=dark] .colab-df-convert:hover {\n",
              "      background-color: #434B5C;\n",
              "      box-shadow: 0px 1px 3px 1px rgba(0, 0, 0, 0.15);\n",
              "      filter: drop-shadow(0px 1px 2px rgba(0, 0, 0, 0.3));\n",
              "      fill: #FFFFFF;\n",
              "    }\n",
              "  </style>\n",
              "\n",
              "      <script>\n",
              "        const buttonEl =\n",
              "          document.querySelector('#df-95304189-9aaa-49c9-9622-461f0c735661 button.colab-df-convert');\n",
              "        buttonEl.style.display =\n",
              "          google.colab.kernel.accessAllowed ? 'block' : 'none';\n",
              "\n",
              "        async function convertToInteractive(key) {\n",
              "          const element = document.querySelector('#df-95304189-9aaa-49c9-9622-461f0c735661');\n",
              "          const dataTable =\n",
              "            await google.colab.kernel.invokeFunction('convertToInteractive',\n",
              "                                                     [key], {});\n",
              "          if (!dataTable) return;\n",
              "\n",
              "          const docLinkHtml = 'Like what you see? Visit the ' +\n",
              "            '<a target=\"_blank\" href=https://colab.research.google.com/notebooks/data_table.ipynb>data table notebook</a>'\n",
              "            + ' to learn more about interactive tables.';\n",
              "          element.innerHTML = '';\n",
              "          dataTable['output_type'] = 'display_data';\n",
              "          await google.colab.output.renderOutput(dataTable, element);\n",
              "          const docLink = document.createElement('div');\n",
              "          docLink.innerHTML = docLinkHtml;\n",
              "          element.appendChild(docLink);\n",
              "        }\n",
              "      </script>\n",
              "    </div>\n",
              "  </div>\n",
              "  "
            ]
          },
          "metadata": {},
          "execution_count": 63
        }
      ]
    },
    {
      "cell_type": "code",
      "source": [
        "pd.crosstab(df.hypertension,df.stroke,normalize='index',margins=True)"
      ],
      "metadata": {
        "colab": {
          "base_uri": "https://localhost:8080/",
          "height": 175
        },
        "id": "WeuLlcRsi8b8",
        "outputId": "906b0e73-7865-4e15-bfda-0262f56a26ea"
      },
      "execution_count": null,
      "outputs": [
        {
          "output_type": "execute_result",
          "data": {
            "text/plain": [
              "stroke               0         1\n",
              "hypertension                    \n",
              "0             0.960321  0.039679\n",
              "1             0.867470  0.132530\n",
              "All           0.951272  0.048728"
            ],
            "text/html": [
              "\n",
              "  <div id=\"df-ff8f5109-c1ba-47c6-a042-34a8c9d2a636\">\n",
              "    <div class=\"colab-df-container\">\n",
              "      <div>\n",
              "<style scoped>\n",
              "    .dataframe tbody tr th:only-of-type {\n",
              "        vertical-align: middle;\n",
              "    }\n",
              "\n",
              "    .dataframe tbody tr th {\n",
              "        vertical-align: top;\n",
              "    }\n",
              "\n",
              "    .dataframe thead th {\n",
              "        text-align: right;\n",
              "    }\n",
              "</style>\n",
              "<table border=\"1\" class=\"dataframe\">\n",
              "  <thead>\n",
              "    <tr style=\"text-align: right;\">\n",
              "      <th>stroke</th>\n",
              "      <th>0</th>\n",
              "      <th>1</th>\n",
              "    </tr>\n",
              "    <tr>\n",
              "      <th>hypertension</th>\n",
              "      <th></th>\n",
              "      <th></th>\n",
              "    </tr>\n",
              "  </thead>\n",
              "  <tbody>\n",
              "    <tr>\n",
              "      <th>0</th>\n",
              "      <td>0.960321</td>\n",
              "      <td>0.039679</td>\n",
              "    </tr>\n",
              "    <tr>\n",
              "      <th>1</th>\n",
              "      <td>0.867470</td>\n",
              "      <td>0.132530</td>\n",
              "    </tr>\n",
              "    <tr>\n",
              "      <th>All</th>\n",
              "      <td>0.951272</td>\n",
              "      <td>0.048728</td>\n",
              "    </tr>\n",
              "  </tbody>\n",
              "</table>\n",
              "</div>\n",
              "      <button class=\"colab-df-convert\" onclick=\"convertToInteractive('df-ff8f5109-c1ba-47c6-a042-34a8c9d2a636')\"\n",
              "              title=\"Convert this dataframe to an interactive table.\"\n",
              "              style=\"display:none;\">\n",
              "        \n",
              "  <svg xmlns=\"http://www.w3.org/2000/svg\" height=\"24px\"viewBox=\"0 0 24 24\"\n",
              "       width=\"24px\">\n",
              "    <path d=\"M0 0h24v24H0V0z\" fill=\"none\"/>\n",
              "    <path d=\"M18.56 5.44l.94 2.06.94-2.06 2.06-.94-2.06-.94-.94-2.06-.94 2.06-2.06.94zm-11 1L8.5 8.5l.94-2.06 2.06-.94-2.06-.94L8.5 2.5l-.94 2.06-2.06.94zm10 10l.94 2.06.94-2.06 2.06-.94-2.06-.94-.94-2.06-.94 2.06-2.06.94z\"/><path d=\"M17.41 7.96l-1.37-1.37c-.4-.4-.92-.59-1.43-.59-.52 0-1.04.2-1.43.59L10.3 9.45l-7.72 7.72c-.78.78-.78 2.05 0 2.83L4 21.41c.39.39.9.59 1.41.59.51 0 1.02-.2 1.41-.59l7.78-7.78 2.81-2.81c.8-.78.8-2.07 0-2.86zM5.41 20L4 18.59l7.72-7.72 1.47 1.35L5.41 20z\"/>\n",
              "  </svg>\n",
              "      </button>\n",
              "      \n",
              "  <style>\n",
              "    .colab-df-container {\n",
              "      display:flex;\n",
              "      flex-wrap:wrap;\n",
              "      gap: 12px;\n",
              "    }\n",
              "\n",
              "    .colab-df-convert {\n",
              "      background-color: #E8F0FE;\n",
              "      border: none;\n",
              "      border-radius: 50%;\n",
              "      cursor: pointer;\n",
              "      display: none;\n",
              "      fill: #1967D2;\n",
              "      height: 32px;\n",
              "      padding: 0 0 0 0;\n",
              "      width: 32px;\n",
              "    }\n",
              "\n",
              "    .colab-df-convert:hover {\n",
              "      background-color: #E2EBFA;\n",
              "      box-shadow: 0px 1px 2px rgba(60, 64, 67, 0.3), 0px 1px 3px 1px rgba(60, 64, 67, 0.15);\n",
              "      fill: #174EA6;\n",
              "    }\n",
              "\n",
              "    [theme=dark] .colab-df-convert {\n",
              "      background-color: #3B4455;\n",
              "      fill: #D2E3FC;\n",
              "    }\n",
              "\n",
              "    [theme=dark] .colab-df-convert:hover {\n",
              "      background-color: #434B5C;\n",
              "      box-shadow: 0px 1px 3px 1px rgba(0, 0, 0, 0.15);\n",
              "      filter: drop-shadow(0px 1px 2px rgba(0, 0, 0, 0.3));\n",
              "      fill: #FFFFFF;\n",
              "    }\n",
              "  </style>\n",
              "\n",
              "      <script>\n",
              "        const buttonEl =\n",
              "          document.querySelector('#df-ff8f5109-c1ba-47c6-a042-34a8c9d2a636 button.colab-df-convert');\n",
              "        buttonEl.style.display =\n",
              "          google.colab.kernel.accessAllowed ? 'block' : 'none';\n",
              "\n",
              "        async function convertToInteractive(key) {\n",
              "          const element = document.querySelector('#df-ff8f5109-c1ba-47c6-a042-34a8c9d2a636');\n",
              "          const dataTable =\n",
              "            await google.colab.kernel.invokeFunction('convertToInteractive',\n",
              "                                                     [key], {});\n",
              "          if (!dataTable) return;\n",
              "\n",
              "          const docLinkHtml = 'Like what you see? Visit the ' +\n",
              "            '<a target=\"_blank\" href=https://colab.research.google.com/notebooks/data_table.ipynb>data table notebook</a>'\n",
              "            + ' to learn more about interactive tables.';\n",
              "          element.innerHTML = '';\n",
              "          dataTable['output_type'] = 'display_data';\n",
              "          await google.colab.output.renderOutput(dataTable, element);\n",
              "          const docLink = document.createElement('div');\n",
              "          docLink.innerHTML = docLinkHtml;\n",
              "          element.appendChild(docLink);\n",
              "        }\n",
              "      </script>\n",
              "    </div>\n",
              "  </div>\n",
              "  "
            ]
          },
          "metadata": {},
          "execution_count": 62
        }
      ]
    },
    {
      "cell_type": "code",
      "source": [
        "# Correlation\n",
        "sns.set(rc={'figure.figsize':(30,10)})\n",
        "sns.set_context(\"talk\", font_scale=0.7)"
      ],
      "metadata": {
        "id": "H3yarL7SjfB6"
      },
      "execution_count": null,
      "outputs": []
    },
    {
      "cell_type": "code",
      "source": [
        "sns.heatmap(df.iloc[:,1:].corr(method='spearman'), cmap='rainbow_r', annot=True)"
      ],
      "metadata": {
        "colab": {
          "base_uri": "https://localhost:8080/",
          "height": 508
        },
        "id": "bqgk0oVxjqoZ",
        "outputId": "d55fd943-f403-4134-cab0-5cc63210ad83"
      },
      "execution_count": null,
      "outputs": [
        {
          "output_type": "execute_result",
          "data": {
            "text/plain": [
              "<AxesSubplot:>"
            ]
          },
          "metadata": {},
          "execution_count": 36
        },
        {
          "output_type": "display_data",
          "data": {
            "text/plain": [
              "<Figure size 864x576 with 2 Axes>"
            ],
            "image/png": "[encoded data removed]"
          },
          "metadata": {}
        }
      ]
    }
  ]
}