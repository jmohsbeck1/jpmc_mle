{
  "nbformat": 4,
  "nbformat_minor": 0,
  "metadata": {
    "colab": {
      "provenance": [],
      "include_colab_link": true
    },
    "kernelspec": {
      "name": "python3",
      "display_name": "Python 3"
    },
    "language_info": {
      "name": "python"
    }
  },
  "cells": [
    {
      "cell_type": "markdown",
      "metadata": {
        "id": "view-in-github",
        "colab_type": "text"
      },
      "source": [
        "<a href=\"https://colab.research.google.com/github/jmohsbeck1/jpmc_mle/blob/week-Apr.-24/JPMC_Session6.ipynb\" target=\"_parent\"><img src=\"https://colab.research.google.com/assets/colab-badge.svg\" alt=\"Open In Colab\"/></a>"
      ]
    },
    {
      "cell_type": "markdown",
      "source": [
        "\n",
        "\n",
        "Process of b\n",
        "1. Define the Model - define topology, network arch, etc. (creating a class)\n",
        "* ...\n",
        "# define the model\n",
        "model = ...\n",
        "2. Compile the model - loss function, optimization (Adam, sgd) Gradient Descent.  (instantiating a class into an object) - \n",
        "* https://www.tensorflow.org/api_docs/python/tf/keras/optimizers.  \n",
        "The three most common loss functions are:\n",
        "* https://www.tensorflow.org/api_docs/python/tf/keras/losses\n",
        "* ‘binary_crossentropy‘ for binary classification\n",
        "* ‘sparse_categorical_crossentropy‘ for multi-class classification\n",
        "* ‘mse‘ (mean squared error) for regression\n",
        "* Metrics: https://www.tensorflow.org/api_docs/python/tf/keras/metrics\n",
        "* ...\n",
        "# compile the model\n",
        "model.compile(optimizer='sgd', loss='binary_crossentropy', metrics=['accuracy'])\n",
        "3. Fit the model - epochs (loops through the training dataset) and the batch size: num of samples ni an epoch used to estimate the models error. Slow. Training Process... cpu intensive\n",
        "* # fit the model\n",
        "model.fit(X, y, epochs=100, batch_size=32, verbose=0)\n",
        "4. Evaluation of the model\n",
        "* ...\n",
        "# evaluate the model\n",
        "loss = model.evaluate(X, y, verbose=0)\n",
        "5. Make Predictions\n",
        "* ...\n",
        "# make a prediction\n",
        "yhat = model.predict(X)\n",
        "\n",
        "\n",
        "\n"
      ],
      "metadata": {
        "id": "K7ezvlyKZQwX"
      }
    },
    {
      "cell_type": "code",
      "execution_count": null,
      "metadata": {
        "id": "IbnP6s0EYt34"
      },
      "outputs": [],
      "source": []
    }
  ]
}