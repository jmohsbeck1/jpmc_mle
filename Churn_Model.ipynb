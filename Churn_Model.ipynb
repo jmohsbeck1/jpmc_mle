{
  "nbformat": 4,
  "nbformat_minor": 0,
  "metadata": {
    "colab": {
      "provenance": [],
      "name": "Churn_model.ipynb",
      "include_colab_link": true
    },
    "kernelspec": {
      "name": "python3",
      "display_name": "Python 3"
    },
    "language_info": {
      "name": "python"
    }
  },
  "cells": [
    {
      "cell_type": "markdown",
      "metadata": {
        "id": "view-in-github",
        "colab_type": "text"
      },
      "source": [
        "<a href=\"https://colab.research.google.com/github/jmohsbeck1/jpmc_mle/blob/Mar.-29/Churn_Model.ipynb\" target=\"_parent\"><img src=\"https://colab.research.google.com/assets/colab-badge.svg\" alt=\"Open In Colab\"/></a>"
      ]
    },
    {
      "cell_type": "code",
      "execution_count": null,
      "metadata": {
        "id": "dpuQHPlZ66u0"
      },
      "outputs": [],
      "source": [
        "# John Mohsbeck\n",
        "# Data Bank Churn dataset\n",
        "# Data preparation\n",
        "# EDA\n",
        "# Feature Importance\n",
        "# Logistic Regression model\n",
        "# Performance Metrics\n",
        "\n",
        "import pandas as pd\n",
        "import numpy as np\n",
        "\n",
        "import seaborn as sns\n",
        "from matplotlib import pyplot as plt\n",
        "%matplotlib inline"
      ]
    },
    {
      "cell_type": "code",
      "source": [
        "df = pd.read_csv(\"Churn_Modelling.csv\")\n",
        "print(len(df))\n",
        "df.head()"
      ],
      "metadata": {
        "colab": {
          "base_uri": "https://localhost:8080/",
          "height": 288
        },
        "id": "yKfPWdYC9E5y",
        "outputId": "5e09eb2d-082b-447d-b34d-557e86079f8a"
      },
      "execution_count": null,
      "outputs": [
        {
          "output_type": "stream",
          "name": "stdout",
          "text": [
            "10000\n"
          ]
        },
        {
          "output_type": "execute_result",
          "data": {
            "text/plain": [
              "   RowNumber  CustomerId   Surname  CreditScore Geography  Gender  Age  \\\n",
              "0          1    15634602  Hargrave          619    France  Female   42   \n",
              "1          2    15647311      Hill          608     Spain  Female   41   \n",
              "2          3    15619304      Onio          502    France  Female   42   \n",
              "3          4    15701354      Boni          699    France  Female   39   \n",
              "4          5    15737888  Mitchell          850     Spain  Female   43   \n",
              "\n",
              "   Tenure    Balance  NumOfProducts  HasCrCard  IsActiveMember  \\\n",
              "0       2       0.00              1          1               1   \n",
              "1       1   83807.86              1          0               1   \n",
              "2       8  159660.80              3          1               0   \n",
              "3       1       0.00              2          0               0   \n",
              "4       2  125510.82              1          1               1   \n",
              "\n",
              "   EstimatedSalary  Exited  \n",
              "0        101348.88       1  \n",
              "1        112542.58       0  \n",
              "2        113931.57       1  \n",
              "3         93826.63       0  \n",
              "4         79084.10       0  "
            ],
            "text/html": [
              "\n",
              "  <div id=\"df-45a91723-b8c9-4b11-9c93-c9ef045dfa1c\">\n",
              "    <div class=\"colab-df-container\">\n",
              "      <div>\n",
              "<style scoped>\n",
              "    .dataframe tbody tr th:only-of-type {\n",
              "        vertical-align: middle;\n",
              "    }\n",
              "\n",
              "    .dataframe tbody tr th {\n",
              "        vertical-align: top;\n",
              "    }\n",
              "\n",
              "    .dataframe thead th {\n",
              "        text-align: right;\n",
              "    }\n",
              "</style>\n",
              "<table border=\"1\" class=\"dataframe\">\n",
              "  <thead>\n",
              "    <tr style=\"text-align: right;\">\n",
              "      <th></th>\n",
              "      <th>RowNumber</th>\n",
              "      <th>CustomerId</th>\n",
              "      <th>Surname</th>\n",
              "      <th>CreditScore</th>\n",
              "      <th>Geography</th>\n",
              "      <th>Gender</th>\n",
              "      <th>Age</th>\n",
              "      <th>Tenure</th>\n",
              "      <th>Balance</th>\n",
              "      <th>NumOfProducts</th>\n",
              "      <th>HasCrCard</th>\n",
              "      <th>IsActiveMember</th>\n",
              "      <th>EstimatedSalary</th>\n",
              "      <th>Exited</th>\n",
              "    </tr>\n",
              "  </thead>\n",
              "  <tbody>\n",
              "    <tr>\n",
              "      <th>0</th>\n",
              "      <td>1</td>\n",
              "      <td>15634602</td>\n",
              "      <td>Hargrave</td>\n",
              "      <td>619</td>\n",
              "      <td>France</td>\n",
              "      <td>Female</td>\n",
              "      <td>42</td>\n",
              "      <td>2</td>\n",
              "      <td>0.00</td>\n",
              "      <td>1</td>\n",
              "      <td>1</td>\n",
              "      <td>1</td>\n",
              "      <td>101348.88</td>\n",
              "      <td>1</td>\n",
              "    </tr>\n",
              "    <tr>\n",
              "      <th>1</th>\n",
              "      <td>2</td>\n",
              "      <td>15647311</td>\n",
              "      <td>Hill</td>\n",
              "      <td>608</td>\n",
              "      <td>Spain</td>\n",
              "      <td>Female</td>\n",
              "      <td>41</td>\n",
              "      <td>1</td>\n",
              "      <td>83807.86</td>\n",
              "      <td>1</td>\n",
              "      <td>0</td>\n",
              "      <td>1</td>\n",
              "      <td>112542.58</td>\n",
              "      <td>0</td>\n",
              "    </tr>\n",
              "    <tr>\n",
              "      <th>2</th>\n",
              "      <td>3</td>\n",
              "      <td>15619304</td>\n",
              "      <td>Onio</td>\n",
              "      <td>502</td>\n",
              "      <td>France</td>\n",
              "      <td>Female</td>\n",
              "      <td>42</td>\n",
              "      <td>8</td>\n",
              "      <td>159660.80</td>\n",
              "      <td>3</td>\n",
              "      <td>1</td>\n",
              "      <td>0</td>\n",
              "      <td>113931.57</td>\n",
              "      <td>1</td>\n",
              "    </tr>\n",
              "    <tr>\n",
              "      <th>3</th>\n",
              "      <td>4</td>\n",
              "      <td>15701354</td>\n",
              "      <td>Boni</td>\n",
              "      <td>699</td>\n",
              "      <td>France</td>\n",
              "      <td>Female</td>\n",
              "      <td>39</td>\n",
              "      <td>1</td>\n",
              "      <td>0.00</td>\n",
              "      <td>2</td>\n",
              "      <td>0</td>\n",
              "      <td>0</td>\n",
              "      <td>93826.63</td>\n",
              "      <td>0</td>\n",
              "    </tr>\n",
              "    <tr>\n",
              "      <th>4</th>\n",
              "      <td>5</td>\n",
              "      <td>15737888</td>\n",
              "      <td>Mitchell</td>\n",
              "      <td>850</td>\n",
              "      <td>Spain</td>\n",
              "      <td>Female</td>\n",
              "      <td>43</td>\n",
              "      <td>2</td>\n",
              "      <td>125510.82</td>\n",
              "      <td>1</td>\n",
              "      <td>1</td>\n",
              "      <td>1</td>\n",
              "      <td>79084.10</td>\n",
              "      <td>0</td>\n",
              "    </tr>\n",
              "  </tbody>\n",
              "</table>\n",
              "</div>\n",
              "      <button class=\"colab-df-convert\" onclick=\"convertToInteractive('df-45a91723-b8c9-4b11-9c93-c9ef045dfa1c')\"\n",
              "              title=\"Convert this dataframe to an interactive table.\"\n",
              "              style=\"display:none;\">\n",
              "        \n",
              "  <svg xmlns=\"http://www.w3.org/2000/svg\" height=\"24px\"viewBox=\"0 0 24 24\"\n",
              "       width=\"24px\">\n",
              "    <path d=\"M0 0h24v24H0V0z\" fill=\"none\"/>\n",
              "    <path d=\"M18.56 5.44l.94 2.06.94-2.06 2.06-.94-2.06-.94-.94-2.06-.94 2.06-2.06.94zm-11 1L8.5 8.5l.94-2.06 2.06-.94-2.06-.94L8.5 2.5l-.94 2.06-2.06.94zm10 10l.94 2.06.94-2.06 2.06-.94-2.06-.94-.94-2.06-.94 2.06-2.06.94z\"/><path d=\"M17.41 7.96l-1.37-1.37c-.4-.4-.92-.59-1.43-.59-.52 0-1.04.2-1.43.59L10.3 9.45l-7.72 7.72c-.78.78-.78 2.05 0 2.83L4 21.41c.39.39.9.59 1.41.59.51 0 1.02-.2 1.41-.59l7.78-7.78 2.81-2.81c.8-.78.8-2.07 0-2.86zM5.41 20L4 18.59l7.72-7.72 1.47 1.35L5.41 20z\"/>\n",
              "  </svg>\n",
              "      </button>\n",
              "      \n",
              "  <style>\n",
              "    .colab-df-container {\n",
              "      display:flex;\n",
              "      flex-wrap:wrap;\n",
              "      gap: 12px;\n",
              "    }\n",
              "\n",
              "    .colab-df-convert {\n",
              "      background-color: #E8F0FE;\n",
              "      border: none;\n",
              "      border-radius: 50%;\n",
              "      cursor: pointer;\n",
              "      display: none;\n",
              "      fill: #1967D2;\n",
              "      height: 32px;\n",
              "      padding: 0 0 0 0;\n",
              "      width: 32px;\n",
              "    }\n",
              "\n",
              "    .colab-df-convert:hover {\n",
              "      background-color: #E2EBFA;\n",
              "      box-shadow: 0px 1px 2px rgba(60, 64, 67, 0.3), 0px 1px 3px 1px rgba(60, 64, 67, 0.15);\n",
              "      fill: #174EA6;\n",
              "    }\n",
              "\n",
              "    [theme=dark] .colab-df-convert {\n",
              "      background-color: #3B4455;\n",
              "      fill: #D2E3FC;\n",
              "    }\n",
              "\n",
              "    [theme=dark] .colab-df-convert:hover {\n",
              "      background-color: #434B5C;\n",
              "      box-shadow: 0px 1px 3px 1px rgba(0, 0, 0, 0.15);\n",
              "      filter: drop-shadow(0px 1px 2px rgba(0, 0, 0, 0.3));\n",
              "      fill: #FFFFFF;\n",
              "    }\n",
              "  </style>\n",
              "\n",
              "      <script>\n",
              "        const buttonEl =\n",
              "          document.querySelector('#df-45a91723-b8c9-4b11-9c93-c9ef045dfa1c button.colab-df-convert');\n",
              "        buttonEl.style.display =\n",
              "          google.colab.kernel.accessAllowed ? 'block' : 'none';\n",
              "\n",
              "        async function convertToInteractive(key) {\n",
              "          const element = document.querySelector('#df-45a91723-b8c9-4b11-9c93-c9ef045dfa1c');\n",
              "          const dataTable =\n",
              "            await google.colab.kernel.invokeFunction('convertToInteractive',\n",
              "                                                     [key], {});\n",
              "          if (!dataTable) return;\n",
              "\n",
              "          const docLinkHtml = 'Like what you see? Visit the ' +\n",
              "            '<a target=\"_blank\" href=https://colab.research.google.com/notebooks/data_table.ipynb>data table notebook</a>'\n",
              "            + ' to learn more about interactive tables.';\n",
              "          element.innerHTML = '';\n",
              "          dataTable['output_type'] = 'display_data';\n",
              "          await google.colab.output.renderOutput(dataTable, element);\n",
              "          const docLink = document.createElement('div');\n",
              "          docLink.innerHTML = docLinkHtml;\n",
              "          element.appendChild(docLink);\n",
              "        }\n",
              "      </script>\n",
              "    </div>\n",
              "  </div>\n",
              "  "
            ]
          },
          "metadata": {},
          "execution_count": 2
        }
      ]
    },
    {
      "cell_type": "markdown",
      "source": [
        "# Data Prep"
      ],
      "metadata": {
        "id": "0qf-rpfE-jga"
      }
    },
    {
      "cell_type": "markdown",
      "source": [
        "Dataset\n",
        "\n",
        "records: 10000\n",
        "\n",
        "columns: 14"
      ],
      "metadata": {
        "id": "K5_lQjOaj3iM"
      }
    },
    {
      "cell_type": "code",
      "source": [
        "df.shape"
      ],
      "metadata": {
        "colab": {
          "base_uri": "https://localhost:8080/"
        },
        "id": "Ms2tS6nyj0V9",
        "outputId": "f64071bd-33cf-4934-a386-351d981c0421"
      },
      "execution_count": null,
      "outputs": [
        {
          "output_type": "execute_result",
          "data": {
            "text/plain": [
              "(10000, 14)"
            ]
          },
          "metadata": {},
          "execution_count": 3
        }
      ]
    },
    {
      "cell_type": "code",
      "source": [
        "df.head().T"
      ],
      "metadata": {
        "colab": {
          "base_uri": "https://localhost:8080/",
          "height": 489
        },
        "id": "A8FxbjTb9KMY",
        "outputId": "a0473a31-e016-4735-d649-137d384bf091"
      },
      "execution_count": null,
      "outputs": [
        {
          "output_type": "execute_result",
          "data": {
            "text/plain": [
              "                         0          1          2         3          4\n",
              "RowNumber                1          2          3         4          5\n",
              "CustomerId        15634602   15647311   15619304  15701354   15737888\n",
              "Surname           Hargrave       Hill       Onio      Boni   Mitchell\n",
              "CreditScore            619        608        502       699        850\n",
              "Geography           France      Spain     France    France      Spain\n",
              "Gender              Female     Female     Female    Female     Female\n",
              "Age                     42         41         42        39         43\n",
              "Tenure                   2          1          8         1          2\n",
              "Balance                0.0   83807.86   159660.8       0.0  125510.82\n",
              "NumOfProducts            1          1          3         2          1\n",
              "HasCrCard                1          0          1         0          1\n",
              "IsActiveMember           1          1          0         0          1\n",
              "EstimatedSalary  101348.88  112542.58  113931.57  93826.63    79084.1\n",
              "Exited                   1          0          1         0          0"
            ],
            "text/html": [
              "\n",
              "  <div id=\"df-be84488a-3dae-416f-9326-9655a45195bf\">\n",
              "    <div class=\"colab-df-container\">\n",
              "      <div>\n",
              "<style scoped>\n",
              "    .dataframe tbody tr th:only-of-type {\n",
              "        vertical-align: middle;\n",
              "    }\n",
              "\n",
              "    .dataframe tbody tr th {\n",
              "        vertical-align: top;\n",
              "    }\n",
              "\n",
              "    .dataframe thead th {\n",
              "        text-align: right;\n",
              "    }\n",
              "</style>\n",
              "<table border=\"1\" class=\"dataframe\">\n",
              "  <thead>\n",
              "    <tr style=\"text-align: right;\">\n",
              "      <th></th>\n",
              "      <th>0</th>\n",
              "      <th>1</th>\n",
              "      <th>2</th>\n",
              "      <th>3</th>\n",
              "      <th>4</th>\n",
              "    </tr>\n",
              "  </thead>\n",
              "  <tbody>\n",
              "    <tr>\n",
              "      <th>RowNumber</th>\n",
              "      <td>1</td>\n",
              "      <td>2</td>\n",
              "      <td>3</td>\n",
              "      <td>4</td>\n",
              "      <td>5</td>\n",
              "    </tr>\n",
              "    <tr>\n",
              "      <th>CustomerId</th>\n",
              "      <td>15634602</td>\n",
              "      <td>15647311</td>\n",
              "      <td>15619304</td>\n",
              "      <td>15701354</td>\n",
              "      <td>15737888</td>\n",
              "    </tr>\n",
              "    <tr>\n",
              "      <th>Surname</th>\n",
              "      <td>Hargrave</td>\n",
              "      <td>Hill</td>\n",
              "      <td>Onio</td>\n",
              "      <td>Boni</td>\n",
              "      <td>Mitchell</td>\n",
              "    </tr>\n",
              "    <tr>\n",
              "      <th>CreditScore</th>\n",
              "      <td>619</td>\n",
              "      <td>608</td>\n",
              "      <td>502</td>\n",
              "      <td>699</td>\n",
              "      <td>850</td>\n",
              "    </tr>\n",
              "    <tr>\n",
              "      <th>Geography</th>\n",
              "      <td>France</td>\n",
              "      <td>Spain</td>\n",
              "      <td>France</td>\n",
              "      <td>France</td>\n",
              "      <td>Spain</td>\n",
              "    </tr>\n",
              "    <tr>\n",
              "      <th>Gender</th>\n",
              "      <td>Female</td>\n",
              "      <td>Female</td>\n",
              "      <td>Female</td>\n",
              "      <td>Female</td>\n",
              "      <td>Female</td>\n",
              "    </tr>\n",
              "    <tr>\n",
              "      <th>Age</th>\n",
              "      <td>42</td>\n",
              "      <td>41</td>\n",
              "      <td>42</td>\n",
              "      <td>39</td>\n",
              "      <td>43</td>\n",
              "    </tr>\n",
              "    <tr>\n",
              "      <th>Tenure</th>\n",
              "      <td>2</td>\n",
              "      <td>1</td>\n",
              "      <td>8</td>\n",
              "      <td>1</td>\n",
              "      <td>2</td>\n",
              "    </tr>\n",
              "    <tr>\n",
              "      <th>Balance</th>\n",
              "      <td>0.0</td>\n",
              "      <td>83807.86</td>\n",
              "      <td>159660.8</td>\n",
              "      <td>0.0</td>\n",
              "      <td>125510.82</td>\n",
              "    </tr>\n",
              "    <tr>\n",
              "      <th>NumOfProducts</th>\n",
              "      <td>1</td>\n",
              "      <td>1</td>\n",
              "      <td>3</td>\n",
              "      <td>2</td>\n",
              "      <td>1</td>\n",
              "    </tr>\n",
              "    <tr>\n",
              "      <th>HasCrCard</th>\n",
              "      <td>1</td>\n",
              "      <td>0</td>\n",
              "      <td>1</td>\n",
              "      <td>0</td>\n",
              "      <td>1</td>\n",
              "    </tr>\n",
              "    <tr>\n",
              "      <th>IsActiveMember</th>\n",
              "      <td>1</td>\n",
              "      <td>1</td>\n",
              "      <td>0</td>\n",
              "      <td>0</td>\n",
              "      <td>1</td>\n",
              "    </tr>\n",
              "    <tr>\n",
              "      <th>EstimatedSalary</th>\n",
              "      <td>101348.88</td>\n",
              "      <td>112542.58</td>\n",
              "      <td>113931.57</td>\n",
              "      <td>93826.63</td>\n",
              "      <td>79084.1</td>\n",
              "    </tr>\n",
              "    <tr>\n",
              "      <th>Exited</th>\n",
              "      <td>1</td>\n",
              "      <td>0</td>\n",
              "      <td>1</td>\n",
              "      <td>0</td>\n",
              "      <td>0</td>\n",
              "    </tr>\n",
              "  </tbody>\n",
              "</table>\n",
              "</div>\n",
              "      <button class=\"colab-df-convert\" onclick=\"convertToInteractive('df-be84488a-3dae-416f-9326-9655a45195bf')\"\n",
              "              title=\"Convert this dataframe to an interactive table.\"\n",
              "              style=\"display:none;\">\n",
              "        \n",
              "  <svg xmlns=\"http://www.w3.org/2000/svg\" height=\"24px\"viewBox=\"0 0 24 24\"\n",
              "       width=\"24px\">\n",
              "    <path d=\"M0 0h24v24H0V0z\" fill=\"none\"/>\n",
              "    <path d=\"M18.56 5.44l.94 2.06.94-2.06 2.06-.94-2.06-.94-.94-2.06-.94 2.06-2.06.94zm-11 1L8.5 8.5l.94-2.06 2.06-.94-2.06-.94L8.5 2.5l-.94 2.06-2.06.94zm10 10l.94 2.06.94-2.06 2.06-.94-2.06-.94-.94-2.06-.94 2.06-2.06.94z\"/><path d=\"M17.41 7.96l-1.37-1.37c-.4-.4-.92-.59-1.43-.59-.52 0-1.04.2-1.43.59L10.3 9.45l-7.72 7.72c-.78.78-.78 2.05 0 2.83L4 21.41c.39.39.9.59 1.41.59.51 0 1.02-.2 1.41-.59l7.78-7.78 2.81-2.81c.8-.78.8-2.07 0-2.86zM5.41 20L4 18.59l7.72-7.72 1.47 1.35L5.41 20z\"/>\n",
              "  </svg>\n",
              "      </button>\n",
              "      \n",
              "  <style>\n",
              "    .colab-df-container {\n",
              "      display:flex;\n",
              "      flex-wrap:wrap;\n",
              "      gap: 12px;\n",
              "    }\n",
              "\n",
              "    .colab-df-convert {\n",
              "      background-color: #E8F0FE;\n",
              "      border: none;\n",
              "      border-radius: 50%;\n",
              "      cursor: pointer;\n",
              "      display: none;\n",
              "      fill: #1967D2;\n",
              "      height: 32px;\n",
              "      padding: 0 0 0 0;\n",
              "      width: 32px;\n",
              "    }\n",
              "\n",
              "    .colab-df-convert:hover {\n",
              "      background-color: #E2EBFA;\n",
              "      box-shadow: 0px 1px 2px rgba(60, 64, 67, 0.3), 0px 1px 3px 1px rgba(60, 64, 67, 0.15);\n",
              "      fill: #174EA6;\n",
              "    }\n",
              "\n",
              "    [theme=dark] .colab-df-convert {\n",
              "      background-color: #3B4455;\n",
              "      fill: #D2E3FC;\n",
              "    }\n",
              "\n",
              "    [theme=dark] .colab-df-convert:hover {\n",
              "      background-color: #434B5C;\n",
              "      box-shadow: 0px 1px 3px 1px rgba(0, 0, 0, 0.15);\n",
              "      filter: drop-shadow(0px 1px 2px rgba(0, 0, 0, 0.3));\n",
              "      fill: #FFFFFF;\n",
              "    }\n",
              "  </style>\n",
              "\n",
              "      <script>\n",
              "        const buttonEl =\n",
              "          document.querySelector('#df-be84488a-3dae-416f-9326-9655a45195bf button.colab-df-convert');\n",
              "        buttonEl.style.display =\n",
              "          google.colab.kernel.accessAllowed ? 'block' : 'none';\n",
              "\n",
              "        async function convertToInteractive(key) {\n",
              "          const element = document.querySelector('#df-be84488a-3dae-416f-9326-9655a45195bf');\n",
              "          const dataTable =\n",
              "            await google.colab.kernel.invokeFunction('convertToInteractive',\n",
              "                                                     [key], {});\n",
              "          if (!dataTable) return;\n",
              "\n",
              "          const docLinkHtml = 'Like what you see? Visit the ' +\n",
              "            '<a target=\"_blank\" href=https://colab.research.google.com/notebooks/data_table.ipynb>data table notebook</a>'\n",
              "            + ' to learn more about interactive tables.';\n",
              "          element.innerHTML = '';\n",
              "          dataTable['output_type'] = 'display_data';\n",
              "          await google.colab.output.renderOutput(dataTable, element);\n",
              "          const docLink = document.createElement('div');\n",
              "          docLink.innerHTML = docLinkHtml;\n",
              "          element.appendChild(docLink);\n",
              "        }\n",
              "      </script>\n",
              "    </div>\n",
              "  </div>\n",
              "  "
            ]
          },
          "metadata": {},
          "execution_count": 4
        }
      ]
    },
    {
      "cell_type": "code",
      "source": [
        "df.dtypes"
      ],
      "metadata": {
        "colab": {
          "base_uri": "https://localhost:8080/"
        },
        "id": "8LabYCda96ho",
        "outputId": "4974faa7-1413-433f-dfa5-2eacf6d60db8"
      },
      "execution_count": null,
      "outputs": [
        {
          "output_type": "execute_result",
          "data": {
            "text/plain": [
              "RowNumber            int64\n",
              "CustomerId           int64\n",
              "Surname             object\n",
              "CreditScore          int64\n",
              "Geography           object\n",
              "Gender              object\n",
              "Age                  int64\n",
              "Tenure               int64\n",
              "Balance            float64\n",
              "NumOfProducts        int64\n",
              "HasCrCard            int64\n",
              "IsActiveMember       int64\n",
              "EstimatedSalary    float64\n",
              "Exited               int64\n",
              "dtype: object"
            ]
          },
          "metadata": {},
          "execution_count": 5
        }
      ]
    },
    {
      "cell_type": "code",
      "source": [
        "df.isnull().sum()"
      ],
      "metadata": {
        "colab": {
          "base_uri": "https://localhost:8080/"
        },
        "id": "HlPptDSvjFby",
        "outputId": "91b76a7e-8a6d-44f9-8165-c3e0860f0ad5"
      },
      "execution_count": null,
      "outputs": [
        {
          "output_type": "execute_result",
          "data": {
            "text/plain": [
              "RowNumber          0\n",
              "CustomerId         0\n",
              "Surname            0\n",
              "CreditScore        0\n",
              "Geography          0\n",
              "Gender             0\n",
              "Age                0\n",
              "Tenure             0\n",
              "Balance            0\n",
              "NumOfProducts      0\n",
              "HasCrCard          0\n",
              "IsActiveMember     0\n",
              "EstimatedSalary    0\n",
              "Exited             0\n",
              "dtype: int64"
            ]
          },
          "metadata": {},
          "execution_count": 6
        }
      ]
    },
    {
      "cell_type": "code",
      "source": [
        "df.dtypes"
      ],
      "metadata": {
        "colab": {
          "base_uri": "https://localhost:8080/"
        },
        "id": "r4O3QufA-42T",
        "outputId": "236061a1-7dc2-4fb0-b233-dcacb87c088b"
      },
      "execution_count": null,
      "outputs": [
        {
          "output_type": "execute_result",
          "data": {
            "text/plain": [
              "RowNumber            int64\n",
              "CustomerId           int64\n",
              "Surname             object\n",
              "CreditScore          int64\n",
              "Geography           object\n",
              "Gender              object\n",
              "Age                  int64\n",
              "Tenure               int64\n",
              "Balance            float64\n",
              "NumOfProducts        int64\n",
              "HasCrCard            int64\n",
              "IsActiveMember       int64\n",
              "EstimatedSalary    float64\n",
              "Exited               int64\n",
              "dtype: object"
            ]
          },
          "metadata": {},
          "execution_count": 7
        }
      ]
    },
    {
      "cell_type": "markdown",
      "source": [
        "Replace blanks with underscore \"_\" and transform column names to lower case."
      ],
      "metadata": {
        "id": "ETPVcvIvlCfC"
      }
    },
    {
      "cell_type": "code",
      "source": [
        "df.columns = df.columns.str.lower().str.replace(' ', '_')\n",
        "\n",
        "string_columns = list(df.dtypes[df.dtypes == 'object'].index)\n",
        "\n",
        "for col in string_columns:\n",
        "    df[col] = df[col].str.lower().str.replace(' ', '_')"
      ],
      "metadata": {
        "id": "8q_qcwTY_HDZ"
      },
      "execution_count": null,
      "outputs": []
    },
    {
      "cell_type": "code",
      "source": [
        "df.head()"
      ],
      "metadata": {
        "colab": {
          "base_uri": "https://localhost:8080/",
          "height": 270
        },
        "id": "fcTKBJ7t9xBl",
        "outputId": "bde7cac0-c3b0-4348-ccc5-507dca100f22"
      },
      "execution_count": null,
      "outputs": [
        {
          "output_type": "execute_result",
          "data": {
            "text/plain": [
              "   rownumber  customerid   surname  creditscore geography  gender  age  \\\n",
              "0          1    15634602  hargrave          619    france  female   42   \n",
              "1          2    15647311      hill          608     spain  female   41   \n",
              "2          3    15619304      onio          502    france  female   42   \n",
              "3          4    15701354      boni          699    france  female   39   \n",
              "4          5    15737888  mitchell          850     spain  female   43   \n",
              "\n",
              "   tenure    balance  numofproducts  hascrcard  isactivemember  \\\n",
              "0       2       0.00              1          1               1   \n",
              "1       1   83807.86              1          0               1   \n",
              "2       8  159660.80              3          1               0   \n",
              "3       1       0.00              2          0               0   \n",
              "4       2  125510.82              1          1               1   \n",
              "\n",
              "   estimatedsalary  exited  \n",
              "0        101348.88       1  \n",
              "1        112542.58       0  \n",
              "2        113931.57       1  \n",
              "3         93826.63       0  \n",
              "4         79084.10       0  "
            ],
            "text/html": [
              "\n",
              "  <div id=\"df-0d78aa6c-d4ab-4a7c-8f7a-cbaeea881552\">\n",
              "    <div class=\"colab-df-container\">\n",
              "      <div>\n",
              "<style scoped>\n",
              "    .dataframe tbody tr th:only-of-type {\n",
              "        vertical-align: middle;\n",
              "    }\n",
              "\n",
              "    .dataframe tbody tr th {\n",
              "        vertical-align: top;\n",
              "    }\n",
              "\n",
              "    .dataframe thead th {\n",
              "        text-align: right;\n",
              "    }\n",
              "</style>\n",
              "<table border=\"1\" class=\"dataframe\">\n",
              "  <thead>\n",
              "    <tr style=\"text-align: right;\">\n",
              "      <th></th>\n",
              "      <th>rownumber</th>\n",
              "      <th>customerid</th>\n",
              "      <th>surname</th>\n",
              "      <th>creditscore</th>\n",
              "      <th>geography</th>\n",
              "      <th>gender</th>\n",
              "      <th>age</th>\n",
              "      <th>tenure</th>\n",
              "      <th>balance</th>\n",
              "      <th>numofproducts</th>\n",
              "      <th>hascrcard</th>\n",
              "      <th>isactivemember</th>\n",
              "      <th>estimatedsalary</th>\n",
              "      <th>exited</th>\n",
              "    </tr>\n",
              "  </thead>\n",
              "  <tbody>\n",
              "    <tr>\n",
              "      <th>0</th>\n",
              "      <td>1</td>\n",
              "      <td>15634602</td>\n",
              "      <td>hargrave</td>\n",
              "      <td>619</td>\n",
              "      <td>france</td>\n",
              "      <td>female</td>\n",
              "      <td>42</td>\n",
              "      <td>2</td>\n",
              "      <td>0.00</td>\n",
              "      <td>1</td>\n",
              "      <td>1</td>\n",
              "      <td>1</td>\n",
              "      <td>101348.88</td>\n",
              "      <td>1</td>\n",
              "    </tr>\n",
              "    <tr>\n",
              "      <th>1</th>\n",
              "      <td>2</td>\n",
              "      <td>15647311</td>\n",
              "      <td>hill</td>\n",
              "      <td>608</td>\n",
              "      <td>spain</td>\n",
              "      <td>female</td>\n",
              "      <td>41</td>\n",
              "      <td>1</td>\n",
              "      <td>83807.86</td>\n",
              "      <td>1</td>\n",
              "      <td>0</td>\n",
              "      <td>1</td>\n",
              "      <td>112542.58</td>\n",
              "      <td>0</td>\n",
              "    </tr>\n",
              "    <tr>\n",
              "      <th>2</th>\n",
              "      <td>3</td>\n",
              "      <td>15619304</td>\n",
              "      <td>onio</td>\n",
              "      <td>502</td>\n",
              "      <td>france</td>\n",
              "      <td>female</td>\n",
              "      <td>42</td>\n",
              "      <td>8</td>\n",
              "      <td>159660.80</td>\n",
              "      <td>3</td>\n",
              "      <td>1</td>\n",
              "      <td>0</td>\n",
              "      <td>113931.57</td>\n",
              "      <td>1</td>\n",
              "    </tr>\n",
              "    <tr>\n",
              "      <th>3</th>\n",
              "      <td>4</td>\n",
              "      <td>15701354</td>\n",
              "      <td>boni</td>\n",
              "      <td>699</td>\n",
              "      <td>france</td>\n",
              "      <td>female</td>\n",
              "      <td>39</td>\n",
              "      <td>1</td>\n",
              "      <td>0.00</td>\n",
              "      <td>2</td>\n",
              "      <td>0</td>\n",
              "      <td>0</td>\n",
              "      <td>93826.63</td>\n",
              "      <td>0</td>\n",
              "    </tr>\n",
              "    <tr>\n",
              "      <th>4</th>\n",
              "      <td>5</td>\n",
              "      <td>15737888</td>\n",
              "      <td>mitchell</td>\n",
              "      <td>850</td>\n",
              "      <td>spain</td>\n",
              "      <td>female</td>\n",
              "      <td>43</td>\n",
              "      <td>2</td>\n",
              "      <td>125510.82</td>\n",
              "      <td>1</td>\n",
              "      <td>1</td>\n",
              "      <td>1</td>\n",
              "      <td>79084.10</td>\n",
              "      <td>0</td>\n",
              "    </tr>\n",
              "  </tbody>\n",
              "</table>\n",
              "</div>\n",
              "      <button class=\"colab-df-convert\" onclick=\"convertToInteractive('df-0d78aa6c-d4ab-4a7c-8f7a-cbaeea881552')\"\n",
              "              title=\"Convert this dataframe to an interactive table.\"\n",
              "              style=\"display:none;\">\n",
              "        \n",
              "  <svg xmlns=\"http://www.w3.org/2000/svg\" height=\"24px\"viewBox=\"0 0 24 24\"\n",
              "       width=\"24px\">\n",
              "    <path d=\"M0 0h24v24H0V0z\" fill=\"none\"/>\n",
              "    <path d=\"M18.56 5.44l.94 2.06.94-2.06 2.06-.94-2.06-.94-.94-2.06-.94 2.06-2.06.94zm-11 1L8.5 8.5l.94-2.06 2.06-.94-2.06-.94L8.5 2.5l-.94 2.06-2.06.94zm10 10l.94 2.06.94-2.06 2.06-.94-2.06-.94-.94-2.06-.94 2.06-2.06.94z\"/><path d=\"M17.41 7.96l-1.37-1.37c-.4-.4-.92-.59-1.43-.59-.52 0-1.04.2-1.43.59L10.3 9.45l-7.72 7.72c-.78.78-.78 2.05 0 2.83L4 21.41c.39.39.9.59 1.41.59.51 0 1.02-.2 1.41-.59l7.78-7.78 2.81-2.81c.8-.78.8-2.07 0-2.86zM5.41 20L4 18.59l7.72-7.72 1.47 1.35L5.41 20z\"/>\n",
              "  </svg>\n",
              "      </button>\n",
              "      \n",
              "  <style>\n",
              "    .colab-df-container {\n",
              "      display:flex;\n",
              "      flex-wrap:wrap;\n",
              "      gap: 12px;\n",
              "    }\n",
              "\n",
              "    .colab-df-convert {\n",
              "      background-color: #E8F0FE;\n",
              "      border: none;\n",
              "      border-radius: 50%;\n",
              "      cursor: pointer;\n",
              "      display: none;\n",
              "      fill: #1967D2;\n",
              "      height: 32px;\n",
              "      padding: 0 0 0 0;\n",
              "      width: 32px;\n",
              "    }\n",
              "\n",
              "    .colab-df-convert:hover {\n",
              "      background-color: #E2EBFA;\n",
              "      box-shadow: 0px 1px 2px rgba(60, 64, 67, 0.3), 0px 1px 3px 1px rgba(60, 64, 67, 0.15);\n",
              "      fill: #174EA6;\n",
              "    }\n",
              "\n",
              "    [theme=dark] .colab-df-convert {\n",
              "      background-color: #3B4455;\n",
              "      fill: #D2E3FC;\n",
              "    }\n",
              "\n",
              "    [theme=dark] .colab-df-convert:hover {\n",
              "      background-color: #434B5C;\n",
              "      box-shadow: 0px 1px 3px 1px rgba(0, 0, 0, 0.15);\n",
              "      filter: drop-shadow(0px 1px 2px rgba(0, 0, 0, 0.3));\n",
              "      fill: #FFFFFF;\n",
              "    }\n",
              "  </style>\n",
              "\n",
              "      <script>\n",
              "        const buttonEl =\n",
              "          document.querySelector('#df-0d78aa6c-d4ab-4a7c-8f7a-cbaeea881552 button.colab-df-convert');\n",
              "        buttonEl.style.display =\n",
              "          google.colab.kernel.accessAllowed ? 'block' : 'none';\n",
              "\n",
              "        async function convertToInteractive(key) {\n",
              "          const element = document.querySelector('#df-0d78aa6c-d4ab-4a7c-8f7a-cbaeea881552');\n",
              "          const dataTable =\n",
              "            await google.colab.kernel.invokeFunction('convertToInteractive',\n",
              "                                                     [key], {});\n",
              "          if (!dataTable) return;\n",
              "\n",
              "          const docLinkHtml = 'Like what you see? Visit the ' +\n",
              "            '<a target=\"_blank\" href=https://colab.research.google.com/notebooks/data_table.ipynb>data table notebook</a>'\n",
              "            + ' to learn more about interactive tables.';\n",
              "          element.innerHTML = '';\n",
              "          dataTable['output_type'] = 'display_data';\n",
              "          await google.colab.output.renderOutput(dataTable, element);\n",
              "          const docLink = document.createElement('div');\n",
              "          docLink.innerHTML = docLinkHtml;\n",
              "          element.appendChild(docLink);\n",
              "        }\n",
              "      </script>\n",
              "    </div>\n",
              "  </div>\n",
              "  "
            ]
          },
          "metadata": {},
          "execution_count": 9
        }
      ]
    },
    {
      "cell_type": "code",
      "source": [
        "df.nunique()"
      ],
      "metadata": {
        "colab": {
          "base_uri": "https://localhost:8080/"
        },
        "id": "sHHw9AGekwHz",
        "outputId": "46ae72df-3657-47a2-ce15-4af4e8872e1e"
      },
      "execution_count": null,
      "outputs": [
        {
          "output_type": "execute_result",
          "data": {
            "text/plain": [
              "rownumber          10000\n",
              "customerid         10000\n",
              "surname             2931\n",
              "creditscore          460\n",
              "geography              3\n",
              "gender                 2\n",
              "age                   70\n",
              "tenure                11\n",
              "balance             6382\n",
              "numofproducts          4\n",
              "hascrcard              2\n",
              "isactivemember         2\n",
              "estimatedsalary     9999\n",
              "exited                 2\n",
              "dtype: int64"
            ]
          },
          "metadata": {},
          "execution_count": 10
        }
      ]
    },
    {
      "cell_type": "code",
      "source": [
        "df['exited'].unique()"
      ],
      "metadata": {
        "colab": {
          "base_uri": "https://localhost:8080/"
        },
        "id": "8QvJAzk5lLuT",
        "outputId": "4794f542-9bd2-464a-bce3-224c6c2e08ab"
      },
      "execution_count": null,
      "outputs": [
        {
          "output_type": "execute_result",
          "data": {
            "text/plain": [
              "array([1, 0])"
            ]
          },
          "metadata": {},
          "execution_count": 11
        }
      ]
    },
    {
      "cell_type": "code",
      "source": [
        "df.dtypes"
      ],
      "metadata": {
        "colab": {
          "base_uri": "https://localhost:8080/"
        },
        "id": "yDqT-DZC_NcT",
        "outputId": "c4349f07-b44b-4fb4-8056-567101d365b5"
      },
      "execution_count": null,
      "outputs": [
        {
          "output_type": "execute_result",
          "data": {
            "text/plain": [
              "rownumber            int64\n",
              "customerid           int64\n",
              "surname             object\n",
              "creditscore          int64\n",
              "geography           object\n",
              "gender              object\n",
              "age                  int64\n",
              "tenure               int64\n",
              "balance            float64\n",
              "numofproducts        int64\n",
              "hascrcard            int64\n",
              "isactivemember       int64\n",
              "estimatedsalary    float64\n",
              "exited               int64\n",
              "dtype: object"
            ]
          },
          "metadata": {},
          "execution_count": 12
        }
      ]
    },
    {
      "cell_type": "code",
      "source": [
        "df['exited'].nunique()"
      ],
      "metadata": {
        "colab": {
          "base_uri": "https://localhost:8080/"
        },
        "id": "J0hHkAnvAUDK",
        "outputId": "2f29e583-885f-4b58-9ba8-454f250b837c"
      },
      "execution_count": null,
      "outputs": [
        {
          "output_type": "execute_result",
          "data": {
            "text/plain": [
              "2"
            ]
          },
          "metadata": {},
          "execution_count": 13
        }
      ]
    },
    {
      "cell_type": "code",
      "source": [
        "df['exited'].sample(25)"
      ],
      "metadata": {
        "colab": {
          "base_uri": "https://localhost:8080/"
        },
        "id": "Lea2qYRs_3xy",
        "outputId": "ee0657a3-751d-47db-f7d6-c86f10987c45"
      },
      "execution_count": null,
      "outputs": [
        {
          "output_type": "execute_result",
          "data": {
            "text/plain": [
              "9341    0\n",
              "141     0\n",
              "2366    0\n",
              "7511    0\n",
              "9737    0\n",
              "4128    0\n",
              "1862    1\n",
              "9475    0\n",
              "2193    0\n",
              "6759    0\n",
              "4855    0\n",
              "890     0\n",
              "946     1\n",
              "5869    0\n",
              "7749    1\n",
              "3169    0\n",
              "3055    0\n",
              "422     1\n",
              "4016    0\n",
              "3068    0\n",
              "5946    0\n",
              "8466    0\n",
              "6186    1\n",
              "2211    0\n",
              "9850    0\n",
              "Name: exited, dtype: int64"
            ]
          },
          "metadata": {},
          "execution_count": 14
        }
      ]
    },
    {
      "cell_type": "code",
      "source": [
        "df.exited.value_counts()"
      ],
      "metadata": {
        "colab": {
          "base_uri": "https://localhost:8080/"
        },
        "id": "roL0bFZMmH3q",
        "outputId": "ed6657cc-8bda-47cf-d2d3-1c5d0544225f"
      },
      "execution_count": null,
      "outputs": [
        {
          "output_type": "execute_result",
          "data": {
            "text/plain": [
              "0    7963\n",
              "1    2037\n",
              "Name: exited, dtype: int64"
            ]
          },
          "metadata": {},
          "execution_count": 15
        }
      ]
    },
    {
      "cell_type": "markdown",
      "source": [
        "Checking for duplicates.\n",
        "Found 0 duplicates."
      ],
      "metadata": {
        "id": "9UnJQCwYp7mU"
      }
    },
    {
      "cell_type": "code",
      "source": [
        "duplicates = df.duplicated()\n",
        "print(duplicates.sum())"
      ],
      "metadata": {
        "colab": {
          "base_uri": "https://localhost:8080/"
        },
        "id": "jwcO__RupY21",
        "outputId": "336ec296-8486-4e26-f98e-164acf6c7725"
      },
      "execution_count": null,
      "outputs": [
        {
          "output_type": "stream",
          "name": "stdout",
          "text": [
            "0\n"
          ]
        }
      ]
    },
    {
      "cell_type": "markdown",
      "source": [
        "##Dataset is Imbalanced\n",
        "\n",
        "Exited: 1622\n",
        "Stay: 6378"
      ],
      "metadata": {
        "id": "D0CwoGQSmeBZ"
      }
    },
    {
      "cell_type": "markdown",
      "source": [
        "1. Split df(80/20):  80% => df_train_full, 20% => df_test.\n",
        "\n",
        "2. Split df_train_full(67/33):  67% => df_train, 33% => df_val."
      ],
      "metadata": {
        "id": "Ha8yDAoglksC"
      }
    },
    {
      "cell_type": "code",
      "source": [
        "from sklearn.model_selection import train_test_split\n",
        "df_train_full, df_test = train_test_split(df, test_size=0.2, random_state=1)\n",
        "df_train, df_val = train_test_split(df_train_full, test_size=0.33, random_state=11)\n",
        "y_train = df_train.exited.values\n",
        "y_val = df_val.exited.values\n",
        "del df_train['exited']\n",
        "del df_val['exited']\n"
      ],
      "metadata": {
        "id": "exGe9Kb__6jT"
      },
      "execution_count": null,
      "outputs": []
    },
    {
      "cell_type": "markdown",
      "source": [
        "# EDA"
      ],
      "metadata": {
        "id": "5LjLlvYzBrP9"
      }
    },
    {
      "cell_type": "code",
      "source": [
        "df_train_full.isnull().sum()"
      ],
      "metadata": {
        "colab": {
          "base_uri": "https://localhost:8080/"
        },
        "id": "v9CHOhs5BtzF",
        "outputId": "00d206ef-f7bf-4d37-e229-44ddc1c3d00f"
      },
      "execution_count": null,
      "outputs": [
        {
          "output_type": "execute_result",
          "data": {
            "text/plain": [
              "rownumber          0\n",
              "customerid         0\n",
              "surname            0\n",
              "creditscore        0\n",
              "geography          0\n",
              "gender             0\n",
              "age                0\n",
              "tenure             0\n",
              "balance            0\n",
              "numofproducts      0\n",
              "hascrcard          0\n",
              "isactivemember     0\n",
              "estimatedsalary    0\n",
              "exited             0\n",
              "dtype: int64"
            ]
          },
          "metadata": {},
          "execution_count": 18
        }
      ]
    },
    {
      "cell_type": "code",
      "source": [
        "df_train_full.exited.value_counts()"
      ],
      "metadata": {
        "colab": {
          "base_uri": "https://localhost:8080/"
        },
        "id": "hFa8bBYJBzAc",
        "outputId": "4a40ef2b-0ead-420c-f01c-74e97e98fd20"
      },
      "execution_count": null,
      "outputs": [
        {
          "output_type": "execute_result",
          "data": {
            "text/plain": [
              "0    6378\n",
              "1    1622\n",
              "Name: exited, dtype: int64"
            ]
          },
          "metadata": {},
          "execution_count": 19
        }
      ]
    },
    {
      "cell_type": "code",
      "source": [
        "1622 / (6378 + 1622)"
      ],
      "metadata": {
        "colab": {
          "base_uri": "https://localhost:8080/"
        },
        "id": "wfUMnaEaCRh9",
        "outputId": "ce9df3de-9a40-4659-9d38-6dedd40c59ba"
      },
      "execution_count": null,
      "outputs": [
        {
          "output_type": "execute_result",
          "data": {
            "text/plain": [
              "0.20275"
            ]
          },
          "metadata": {},
          "execution_count": 20
        }
      ]
    },
    {
      "cell_type": "markdown",
      "source": [
        "Global Mean"
      ],
      "metadata": {
        "id": "Tr6tQ3EhrXV0"
      }
    },
    {
      "cell_type": "code",
      "source": [
        "global_mean = df_train_full.exited.mean()\n",
        "round(global_mean,5)"
      ],
      "metadata": {
        "colab": {
          "base_uri": "https://localhost:8080/"
        },
        "id": "CeSivyIHCUPI",
        "outputId": "d91d9d85-e406-4ff1-9765-1333faa73f7c"
      },
      "execution_count": null,
      "outputs": [
        {
          "output_type": "execute_result",
          "data": {
            "text/plain": [
              "0.20275"
            ]
          },
          "metadata": {},
          "execution_count": 21
        }
      ]
    },
    {
      "cell_type": "code",
      "source": [
        "df.dtypes"
      ],
      "metadata": {
        "colab": {
          "base_uri": "https://localhost:8080/"
        },
        "id": "sUGgdxLQn8Lx",
        "outputId": "587cf468-8722-43f6-8446-88c828025fd2"
      },
      "execution_count": null,
      "outputs": [
        {
          "output_type": "execute_result",
          "data": {
            "text/plain": [
              "rownumber            int64\n",
              "customerid           int64\n",
              "surname             object\n",
              "creditscore          int64\n",
              "geography           object\n",
              "gender              object\n",
              "age                  int64\n",
              "tenure               int64\n",
              "balance            float64\n",
              "numofproducts        int64\n",
              "hascrcard            int64\n",
              "isactivemember       int64\n",
              "estimatedsalary    float64\n",
              "exited               int64\n",
              "dtype: object"
            ]
          },
          "metadata": {},
          "execution_count": 22
        }
      ]
    },
    {
      "cell_type": "markdown",
      "source": [
        "List categorial features and numeric features."
      ],
      "metadata": {
        "id": "_lHbTBF0mE8d"
      }
    },
    {
      "cell_type": "code",
      "source": [
        "categorical = ['geography', 'gender', 'tenure', 'numofproducts', 'hascrcard', 'isactivemember']\n",
        "numerical = ['creditscore', 'age', 'balance', 'estimatedsalary']"
      ],
      "metadata": {
        "id": "yfv0zhLcDd2n"
      },
      "execution_count": null,
      "outputs": []
    },
    {
      "cell_type": "code",
      "source": [
        "df_train_full[categorical].nunique()"
      ],
      "metadata": {
        "colab": {
          "base_uri": "https://localhost:8080/"
        },
        "id": "mEUwAS6pEG2h",
        "outputId": "44596459-5514-4de1-9790-d8dc4e06662b"
      },
      "execution_count": null,
      "outputs": [
        {
          "output_type": "execute_result",
          "data": {
            "text/plain": [
              "geography          3\n",
              "gender             2\n",
              "tenure            11\n",
              "numofproducts      4\n",
              "hascrcard          2\n",
              "isactivemember     2\n",
              "dtype: int64"
            ]
          },
          "metadata": {},
          "execution_count": 24
        }
      ]
    },
    {
      "cell_type": "code",
      "source": [
        "df_train_full[numerical].describe()"
      ],
      "metadata": {
        "colab": {
          "base_uri": "https://localhost:8080/",
          "height": 300
        },
        "id": "5pvZNT_cEnBY",
        "outputId": "44d5efc0-55f6-4f8c-ca94-4fd52081c8ba"
      },
      "execution_count": null,
      "outputs": [
        {
          "output_type": "execute_result",
          "data": {
            "text/plain": [
              "       creditscore          age        balance  estimatedsalary\n",
              "count  8000.000000  8000.000000    8000.000000      8000.000000\n",
              "mean    650.313625    38.887250   76463.443272    100143.429649\n",
              "std      96.676990    10.468894   62372.543408     57574.884151\n",
              "min     350.000000    18.000000       0.000000        91.750000\n",
              "25%     583.000000    32.000000       0.000000     51014.837500\n",
              "50%     651.000000    37.000000   97055.145000     99836.215000\n",
              "75%     718.000000    44.000000  127639.372500    149373.527500\n",
              "max     850.000000    92.000000  250898.090000    199970.740000"
            ],
            "text/html": [
              "\n",
              "  <div id=\"df-d6bd8212-2042-4f2f-8958-382ce6444929\">\n",
              "    <div class=\"colab-df-container\">\n",
              "      <div>\n",
              "<style scoped>\n",
              "    .dataframe tbody tr th:only-of-type {\n",
              "        vertical-align: middle;\n",
              "    }\n",
              "\n",
              "    .dataframe tbody tr th {\n",
              "        vertical-align: top;\n",
              "    }\n",
              "\n",
              "    .dataframe thead th {\n",
              "        text-align: right;\n",
              "    }\n",
              "</style>\n",
              "<table border=\"1\" class=\"dataframe\">\n",
              "  <thead>\n",
              "    <tr style=\"text-align: right;\">\n",
              "      <th></th>\n",
              "      <th>creditscore</th>\n",
              "      <th>age</th>\n",
              "      <th>balance</th>\n",
              "      <th>estimatedsalary</th>\n",
              "    </tr>\n",
              "  </thead>\n",
              "  <tbody>\n",
              "    <tr>\n",
              "      <th>count</th>\n",
              "      <td>8000.000000</td>\n",
              "      <td>8000.000000</td>\n",
              "      <td>8000.000000</td>\n",
              "      <td>8000.000000</td>\n",
              "    </tr>\n",
              "    <tr>\n",
              "      <th>mean</th>\n",
              "      <td>650.313625</td>\n",
              "      <td>38.887250</td>\n",
              "      <td>76463.443272</td>\n",
              "      <td>100143.429649</td>\n",
              "    </tr>\n",
              "    <tr>\n",
              "      <th>std</th>\n",
              "      <td>96.676990</td>\n",
              "      <td>10.468894</td>\n",
              "      <td>62372.543408</td>\n",
              "      <td>57574.884151</td>\n",
              "    </tr>\n",
              "    <tr>\n",
              "      <th>min</th>\n",
              "      <td>350.000000</td>\n",
              "      <td>18.000000</td>\n",
              "      <td>0.000000</td>\n",
              "      <td>91.750000</td>\n",
              "    </tr>\n",
              "    <tr>\n",
              "      <th>25%</th>\n",
              "      <td>583.000000</td>\n",
              "      <td>32.000000</td>\n",
              "      <td>0.000000</td>\n",
              "      <td>51014.837500</td>\n",
              "    </tr>\n",
              "    <tr>\n",
              "      <th>50%</th>\n",
              "      <td>651.000000</td>\n",
              "      <td>37.000000</td>\n",
              "      <td>97055.145000</td>\n",
              "      <td>99836.215000</td>\n",
              "    </tr>\n",
              "    <tr>\n",
              "      <th>75%</th>\n",
              "      <td>718.000000</td>\n",
              "      <td>44.000000</td>\n",
              "      <td>127639.372500</td>\n",
              "      <td>149373.527500</td>\n",
              "    </tr>\n",
              "    <tr>\n",
              "      <th>max</th>\n",
              "      <td>850.000000</td>\n",
              "      <td>92.000000</td>\n",
              "      <td>250898.090000</td>\n",
              "      <td>199970.740000</td>\n",
              "    </tr>\n",
              "  </tbody>\n",
              "</table>\n",
              "</div>\n",
              "      <button class=\"colab-df-convert\" onclick=\"convertToInteractive('df-d6bd8212-2042-4f2f-8958-382ce6444929')\"\n",
              "              title=\"Convert this dataframe to an interactive table.\"\n",
              "              style=\"display:none;\">\n",
              "        \n",
              "  <svg xmlns=\"http://www.w3.org/2000/svg\" height=\"24px\"viewBox=\"0 0 24 24\"\n",
              "       width=\"24px\">\n",
              "    <path d=\"M0 0h24v24H0V0z\" fill=\"none\"/>\n",
              "    <path d=\"M18.56 5.44l.94 2.06.94-2.06 2.06-.94-2.06-.94-.94-2.06-.94 2.06-2.06.94zm-11 1L8.5 8.5l.94-2.06 2.06-.94-2.06-.94L8.5 2.5l-.94 2.06-2.06.94zm10 10l.94 2.06.94-2.06 2.06-.94-2.06-.94-.94-2.06-.94 2.06-2.06.94z\"/><path d=\"M17.41 7.96l-1.37-1.37c-.4-.4-.92-.59-1.43-.59-.52 0-1.04.2-1.43.59L10.3 9.45l-7.72 7.72c-.78.78-.78 2.05 0 2.83L4 21.41c.39.39.9.59 1.41.59.51 0 1.02-.2 1.41-.59l7.78-7.78 2.81-2.81c.8-.78.8-2.07 0-2.86zM5.41 20L4 18.59l7.72-7.72 1.47 1.35L5.41 20z\"/>\n",
              "  </svg>\n",
              "      </button>\n",
              "      \n",
              "  <style>\n",
              "    .colab-df-container {\n",
              "      display:flex;\n",
              "      flex-wrap:wrap;\n",
              "      gap: 12px;\n",
              "    }\n",
              "\n",
              "    .colab-df-convert {\n",
              "      background-color: #E8F0FE;\n",
              "      border: none;\n",
              "      border-radius: 50%;\n",
              "      cursor: pointer;\n",
              "      display: none;\n",
              "      fill: #1967D2;\n",
              "      height: 32px;\n",
              "      padding: 0 0 0 0;\n",
              "      width: 32px;\n",
              "    }\n",
              "\n",
              "    .colab-df-convert:hover {\n",
              "      background-color: #E2EBFA;\n",
              "      box-shadow: 0px 1px 2px rgba(60, 64, 67, 0.3), 0px 1px 3px 1px rgba(60, 64, 67, 0.15);\n",
              "      fill: #174EA6;\n",
              "    }\n",
              "\n",
              "    [theme=dark] .colab-df-convert {\n",
              "      background-color: #3B4455;\n",
              "      fill: #D2E3FC;\n",
              "    }\n",
              "\n",
              "    [theme=dark] .colab-df-convert:hover {\n",
              "      background-color: #434B5C;\n",
              "      box-shadow: 0px 1px 3px 1px rgba(0, 0, 0, 0.15);\n",
              "      filter: drop-shadow(0px 1px 2px rgba(0, 0, 0, 0.3));\n",
              "      fill: #FFFFFF;\n",
              "    }\n",
              "  </style>\n",
              "\n",
              "      <script>\n",
              "        const buttonEl =\n",
              "          document.querySelector('#df-d6bd8212-2042-4f2f-8958-382ce6444929 button.colab-df-convert');\n",
              "        buttonEl.style.display =\n",
              "          google.colab.kernel.accessAllowed ? 'block' : 'none';\n",
              "\n",
              "        async function convertToInteractive(key) {\n",
              "          const element = document.querySelector('#df-d6bd8212-2042-4f2f-8958-382ce6444929');\n",
              "          const dataTable =\n",
              "            await google.colab.kernel.invokeFunction('convertToInteractive',\n",
              "                                                     [key], {});\n",
              "          if (!dataTable) return;\n",
              "\n",
              "          const docLinkHtml = 'Like what you see? Visit the ' +\n",
              "            '<a target=\"_blank\" href=https://colab.research.google.com/notebooks/data_table.ipynb>data table notebook</a>'\n",
              "            + ' to learn more about interactive tables.';\n",
              "          element.innerHTML = '';\n",
              "          dataTable['output_type'] = 'display_data';\n",
              "          await google.colab.output.renderOutput(dataTable, element);\n",
              "          const docLink = document.createElement('div');\n",
              "          docLink.innerHTML = docLinkHtml;\n",
              "          element.appendChild(docLink);\n",
              "        }\n",
              "      </script>\n",
              "    </div>\n",
              "  </div>\n",
              "  "
            ]
          },
          "metadata": {},
          "execution_count": 25
        }
      ]
    },
    {
      "cell_type": "code",
      "source": [
        "df_train_full.corr()"
      ],
      "metadata": {
        "colab": {
          "base_uri": "https://localhost:8080/",
          "height": 438
        },
        "id": "QeqEp-kPEq_2",
        "outputId": "a2e8be67-0b15-424a-b5a7-daae6528ad86"
      },
      "execution_count": null,
      "outputs": [
        {
          "output_type": "execute_result",
          "data": {
            "text/plain": [
              "                 rownumber  customerid  creditscore       age    tenure  \\\n",
              "rownumber         1.000000    0.001165     0.003744 -0.009885 -0.008162   \n",
              "customerid        0.001165    1.000000     0.004212  0.010086 -0.004541   \n",
              "creditscore       0.003744    0.004212     1.000000 -0.007697 -0.001942   \n",
              "age              -0.009885    0.010086    -0.007697  1.000000 -0.012859   \n",
              "tenure           -0.008162   -0.004541    -0.001942 -0.012859  1.000000   \n",
              "balance          -0.008754   -0.006472    -0.001585  0.028930 -0.007597   \n",
              "numofproducts     0.008319    0.013681     0.015114 -0.029657  0.015562   \n",
              "hascrcard        -0.002024   -0.013930    -0.001258 -0.014857  0.024802   \n",
              "isactivemember   -0.002751   -0.002100     0.031762  0.088084 -0.030183   \n",
              "estimatedsalary  -0.003735    0.021884     0.000399 -0.010799  0.000881   \n",
              "exited           -0.026526   -0.010516    -0.026420  0.278079 -0.008248   \n",
              "\n",
              "                  balance  numofproducts  hascrcard  isactivemember  \\\n",
              "rownumber       -0.008754       0.008319  -0.002024       -0.002751   \n",
              "customerid      -0.006472       0.013681  -0.013930       -0.002100   \n",
              "creditscore     -0.001585       0.015114  -0.001258        0.031762   \n",
              "age              0.028930      -0.029657  -0.014857        0.088084   \n",
              "tenure          -0.007597       0.015562   0.024802       -0.030183   \n",
              "balance          1.000000      -0.313202  -0.013750       -0.011692   \n",
              "numofproducts   -0.313202       1.000000   0.005514        0.006243   \n",
              "hascrcard       -0.013750       0.005514   1.000000       -0.006068   \n",
              "isactivemember  -0.011692       0.006243  -0.006068        1.000000   \n",
              "estimatedsalary  0.009864       0.018054  -0.006200       -0.006182   \n",
              "exited           0.116926      -0.040868  -0.014177       -0.159633   \n",
              "\n",
              "                 estimatedsalary    exited  \n",
              "rownumber              -0.003735 -0.026526  \n",
              "customerid              0.021884 -0.010516  \n",
              "creditscore             0.000399 -0.026420  \n",
              "age                    -0.010799  0.278079  \n",
              "tenure                  0.000881 -0.008248  \n",
              "balance                 0.009864  0.116926  \n",
              "numofproducts           0.018054 -0.040868  \n",
              "hascrcard              -0.006200 -0.014177  \n",
              "isactivemember         -0.006182 -0.159633  \n",
              "estimatedsalary         1.000000  0.006483  \n",
              "exited                  0.006483  1.000000  "
            ],
            "text/html": [
              "\n",
              "  <div id=\"df-e036529a-ba17-4ec4-8a69-5ed667c20a5e\">\n",
              "    <div class=\"colab-df-container\">\n",
              "      <div>\n",
              "<style scoped>\n",
              "    .dataframe tbody tr th:only-of-type {\n",
              "        vertical-align: middle;\n",
              "    }\n",
              "\n",
              "    .dataframe tbody tr th {\n",
              "        vertical-align: top;\n",
              "    }\n",
              "\n",
              "    .dataframe thead th {\n",
              "        text-align: right;\n",
              "    }\n",
              "</style>\n",
              "<table border=\"1\" class=\"dataframe\">\n",
              "  <thead>\n",
              "    <tr style=\"text-align: right;\">\n",
              "      <th></th>\n",
              "      <th>rownumber</th>\n",
              "      <th>customerid</th>\n",
              "      <th>creditscore</th>\n",
              "      <th>age</th>\n",
              "      <th>tenure</th>\n",
              "      <th>balance</th>\n",
              "      <th>numofproducts</th>\n",
              "      <th>hascrcard</th>\n",
              "      <th>isactivemember</th>\n",
              "      <th>estimatedsalary</th>\n",
              "      <th>exited</th>\n",
              "    </tr>\n",
              "  </thead>\n",
              "  <tbody>\n",
              "    <tr>\n",
              "      <th>rownumber</th>\n",
              "      <td>1.000000</td>\n",
              "      <td>0.001165</td>\n",
              "      <td>0.003744</td>\n",
              "      <td>-0.009885</td>\n",
              "      <td>-0.008162</td>\n",
              "      <td>-0.008754</td>\n",
              "      <td>0.008319</td>\n",
              "      <td>-0.002024</td>\n",
              "      <td>-0.002751</td>\n",
              "      <td>-0.003735</td>\n",
              "      <td>-0.026526</td>\n",
              "    </tr>\n",
              "    <tr>\n",
              "      <th>customerid</th>\n",
              "      <td>0.001165</td>\n",
              "      <td>1.000000</td>\n",
              "      <td>0.004212</td>\n",
              "      <td>0.010086</td>\n",
              "      <td>-0.004541</td>\n",
              "      <td>-0.006472</td>\n",
              "      <td>0.013681</td>\n",
              "      <td>-0.013930</td>\n",
              "      <td>-0.002100</td>\n",
              "      <td>0.021884</td>\n",
              "      <td>-0.010516</td>\n",
              "    </tr>\n",
              "    <tr>\n",
              "      <th>creditscore</th>\n",
              "      <td>0.003744</td>\n",
              "      <td>0.004212</td>\n",
              "      <td>1.000000</td>\n",
              "      <td>-0.007697</td>\n",
              "      <td>-0.001942</td>\n",
              "      <td>-0.001585</td>\n",
              "      <td>0.015114</td>\n",
              "      <td>-0.001258</td>\n",
              "      <td>0.031762</td>\n",
              "      <td>0.000399</td>\n",
              "      <td>-0.026420</td>\n",
              "    </tr>\n",
              "    <tr>\n",
              "      <th>age</th>\n",
              "      <td>-0.009885</td>\n",
              "      <td>0.010086</td>\n",
              "      <td>-0.007697</td>\n",
              "      <td>1.000000</td>\n",
              "      <td>-0.012859</td>\n",
              "      <td>0.028930</td>\n",
              "      <td>-0.029657</td>\n",
              "      <td>-0.014857</td>\n",
              "      <td>0.088084</td>\n",
              "      <td>-0.010799</td>\n",
              "      <td>0.278079</td>\n",
              "    </tr>\n",
              "    <tr>\n",
              "      <th>tenure</th>\n",
              "      <td>-0.008162</td>\n",
              "      <td>-0.004541</td>\n",
              "      <td>-0.001942</td>\n",
              "      <td>-0.012859</td>\n",
              "      <td>1.000000</td>\n",
              "      <td>-0.007597</td>\n",
              "      <td>0.015562</td>\n",
              "      <td>0.024802</td>\n",
              "      <td>-0.030183</td>\n",
              "      <td>0.000881</td>\n",
              "      <td>-0.008248</td>\n",
              "    </tr>\n",
              "    <tr>\n",
              "      <th>balance</th>\n",
              "      <td>-0.008754</td>\n",
              "      <td>-0.006472</td>\n",
              "      <td>-0.001585</td>\n",
              "      <td>0.028930</td>\n",
              "      <td>-0.007597</td>\n",
              "      <td>1.000000</td>\n",
              "      <td>-0.313202</td>\n",
              "      <td>-0.013750</td>\n",
              "      <td>-0.011692</td>\n",
              "      <td>0.009864</td>\n",
              "      <td>0.116926</td>\n",
              "    </tr>\n",
              "    <tr>\n",
              "      <th>numofproducts</th>\n",
              "      <td>0.008319</td>\n",
              "      <td>0.013681</td>\n",
              "      <td>0.015114</td>\n",
              "      <td>-0.029657</td>\n",
              "      <td>0.015562</td>\n",
              "      <td>-0.313202</td>\n",
              "      <td>1.000000</td>\n",
              "      <td>0.005514</td>\n",
              "      <td>0.006243</td>\n",
              "      <td>0.018054</td>\n",
              "      <td>-0.040868</td>\n",
              "    </tr>\n",
              "    <tr>\n",
              "      <th>hascrcard</th>\n",
              "      <td>-0.002024</td>\n",
              "      <td>-0.013930</td>\n",
              "      <td>-0.001258</td>\n",
              "      <td>-0.014857</td>\n",
              "      <td>0.024802</td>\n",
              "      <td>-0.013750</td>\n",
              "      <td>0.005514</td>\n",
              "      <td>1.000000</td>\n",
              "      <td>-0.006068</td>\n",
              "      <td>-0.006200</td>\n",
              "      <td>-0.014177</td>\n",
              "    </tr>\n",
              "    <tr>\n",
              "      <th>isactivemember</th>\n",
              "      <td>-0.002751</td>\n",
              "      <td>-0.002100</td>\n",
              "      <td>0.031762</td>\n",
              "      <td>0.088084</td>\n",
              "      <td>-0.030183</td>\n",
              "      <td>-0.011692</td>\n",
              "      <td>0.006243</td>\n",
              "      <td>-0.006068</td>\n",
              "      <td>1.000000</td>\n",
              "      <td>-0.006182</td>\n",
              "      <td>-0.159633</td>\n",
              "    </tr>\n",
              "    <tr>\n",
              "      <th>estimatedsalary</th>\n",
              "      <td>-0.003735</td>\n",
              "      <td>0.021884</td>\n",
              "      <td>0.000399</td>\n",
              "      <td>-0.010799</td>\n",
              "      <td>0.000881</td>\n",
              "      <td>0.009864</td>\n",
              "      <td>0.018054</td>\n",
              "      <td>-0.006200</td>\n",
              "      <td>-0.006182</td>\n",
              "      <td>1.000000</td>\n",
              "      <td>0.006483</td>\n",
              "    </tr>\n",
              "    <tr>\n",
              "      <th>exited</th>\n",
              "      <td>-0.026526</td>\n",
              "      <td>-0.010516</td>\n",
              "      <td>-0.026420</td>\n",
              "      <td>0.278079</td>\n",
              "      <td>-0.008248</td>\n",
              "      <td>0.116926</td>\n",
              "      <td>-0.040868</td>\n",
              "      <td>-0.014177</td>\n",
              "      <td>-0.159633</td>\n",
              "      <td>0.006483</td>\n",
              "      <td>1.000000</td>\n",
              "    </tr>\n",
              "  </tbody>\n",
              "</table>\n",
              "</div>\n",
              "      <button class=\"colab-df-convert\" onclick=\"convertToInteractive('df-e036529a-ba17-4ec4-8a69-5ed667c20a5e')\"\n",
              "              title=\"Convert this dataframe to an interactive table.\"\n",
              "              style=\"display:none;\">\n",
              "        \n",
              "  <svg xmlns=\"http://www.w3.org/2000/svg\" height=\"24px\"viewBox=\"0 0 24 24\"\n",
              "       width=\"24px\">\n",
              "    <path d=\"M0 0h24v24H0V0z\" fill=\"none\"/>\n",
              "    <path d=\"M18.56 5.44l.94 2.06.94-2.06 2.06-.94-2.06-.94-.94-2.06-.94 2.06-2.06.94zm-11 1L8.5 8.5l.94-2.06 2.06-.94-2.06-.94L8.5 2.5l-.94 2.06-2.06.94zm10 10l.94 2.06.94-2.06 2.06-.94-2.06-.94-.94-2.06-.94 2.06-2.06.94z\"/><path d=\"M17.41 7.96l-1.37-1.37c-.4-.4-.92-.59-1.43-.59-.52 0-1.04.2-1.43.59L10.3 9.45l-7.72 7.72c-.78.78-.78 2.05 0 2.83L4 21.41c.39.39.9.59 1.41.59.51 0 1.02-.2 1.41-.59l7.78-7.78 2.81-2.81c.8-.78.8-2.07 0-2.86zM5.41 20L4 18.59l7.72-7.72 1.47 1.35L5.41 20z\"/>\n",
              "  </svg>\n",
              "      </button>\n",
              "      \n",
              "  <style>\n",
              "    .colab-df-container {\n",
              "      display:flex;\n",
              "      flex-wrap:wrap;\n",
              "      gap: 12px;\n",
              "    }\n",
              "\n",
              "    .colab-df-convert {\n",
              "      background-color: #E8F0FE;\n",
              "      border: none;\n",
              "      border-radius: 50%;\n",
              "      cursor: pointer;\n",
              "      display: none;\n",
              "      fill: #1967D2;\n",
              "      height: 32px;\n",
              "      padding: 0 0 0 0;\n",
              "      width: 32px;\n",
              "    }\n",
              "\n",
              "    .colab-df-convert:hover {\n",
              "      background-color: #E2EBFA;\n",
              "      box-shadow: 0px 1px 2px rgba(60, 64, 67, 0.3), 0px 1px 3px 1px rgba(60, 64, 67, 0.15);\n",
              "      fill: #174EA6;\n",
              "    }\n",
              "\n",
              "    [theme=dark] .colab-df-convert {\n",
              "      background-color: #3B4455;\n",
              "      fill: #D2E3FC;\n",
              "    }\n",
              "\n",
              "    [theme=dark] .colab-df-convert:hover {\n",
              "      background-color: #434B5C;\n",
              "      box-shadow: 0px 1px 3px 1px rgba(0, 0, 0, 0.15);\n",
              "      filter: drop-shadow(0px 1px 2px rgba(0, 0, 0, 0.3));\n",
              "      fill: #FFFFFF;\n",
              "    }\n",
              "  </style>\n",
              "\n",
              "      <script>\n",
              "        const buttonEl =\n",
              "          document.querySelector('#df-e036529a-ba17-4ec4-8a69-5ed667c20a5e button.colab-df-convert');\n",
              "        buttonEl.style.display =\n",
              "          google.colab.kernel.accessAllowed ? 'block' : 'none';\n",
              "\n",
              "        async function convertToInteractive(key) {\n",
              "          const element = document.querySelector('#df-e036529a-ba17-4ec4-8a69-5ed667c20a5e');\n",
              "          const dataTable =\n",
              "            await google.colab.kernel.invokeFunction('convertToInteractive',\n",
              "                                                     [key], {});\n",
              "          if (!dataTable) return;\n",
              "\n",
              "          const docLinkHtml = 'Like what you see? Visit the ' +\n",
              "            '<a target=\"_blank\" href=https://colab.research.google.com/notebooks/data_table.ipynb>data table notebook</a>'\n",
              "            + ' to learn more about interactive tables.';\n",
              "          element.innerHTML = '';\n",
              "          dataTable['output_type'] = 'display_data';\n",
              "          await google.colab.output.renderOutput(dataTable, element);\n",
              "          const docLink = document.createElement('div');\n",
              "          docLink.innerHTML = docLinkHtml;\n",
              "          element.appendChild(docLink);\n",
              "        }\n",
              "      </script>\n",
              "    </div>\n",
              "  </div>\n",
              "  "
            ]
          },
          "metadata": {},
          "execution_count": 26
        }
      ]
    },
    {
      "cell_type": "markdown",
      "source": [
        "Age is positively correleated to exited.\n",
        "\n",
        "Balance is positively correlated to exited.\n",
        "\n",
        "numofproducts, hascrcard and isactivemember are negatively correlated to exited"
      ],
      "metadata": {
        "id": "plJzJh0S6VMf"
      }
    },
    {
      "cell_type": "markdown",
      "source": [
        "# Feature Importance"
      ],
      "metadata": {
        "id": "1gyvJHO1GV0u"
      }
    },
    {
      "cell_type": "code",
      "source": [
        "female_mean = df_train_full[df_train_full.gender == 'female'].exited.mean()\n",
        "print('gender == female:', round(female_mean, 3))\n",
        "\n",
        "male_mean = df_train_full[df_train_full.gender == 'male'].exited.mean()\n",
        "print('gender == male:  ', round(male_mean, 3))"
      ],
      "metadata": {
        "colab": {
          "base_uri": "https://localhost:8080/"
        },
        "id": "DCeElh5RGq1y",
        "outputId": "9fc8bec1-89b0-4878-e7b2-2b90cdf0f7e7"
      },
      "execution_count": null,
      "outputs": [
        {
          "output_type": "stream",
          "name": "stdout",
          "text": [
            "gender == female: 0.249\n",
            "gender == male:   0.164\n"
          ]
        }
      ]
    },
    {
      "cell_type": "markdown",
      "source": [
        "Female risk ratio: 1.229;  high > 1.0 => risky"
      ],
      "metadata": {
        "id": "Zp5JqLrloRY2"
      }
    },
    {
      "cell_type": "code",
      "source": [
        "female_mean / global_mean\n"
      ],
      "metadata": {
        "colab": {
          "base_uri": "https://localhost:8080/"
        },
        "id": "xchbvPdeI6_s",
        "outputId": "16d77d27-1c79-446f-a73f-ac42bcef1aa0"
      },
      "execution_count": null,
      "outputs": [
        {
          "output_type": "execute_result",
          "data": {
            "text/plain": [
              "1.2296637092961358"
            ]
          },
          "metadata": {},
          "execution_count": 28
        }
      ]
    },
    {
      "cell_type": "markdown",
      "source": [
        "Male risk ratio: 0.807;  > 0.50 but < 1.0 => less risky than females"
      ],
      "metadata": {
        "id": "RyGRoO_coary"
      }
    },
    {
      "cell_type": "code",
      "source": [
        "male_mean / global_mean"
      ],
      "metadata": {
        "colab": {
          "base_uri": "https://localhost:8080/"
        },
        "id": "clse0pLaJSy9",
        "outputId": "6c851dd1-f876-4fbc-8ce5-62e975b64304"
      },
      "execution_count": null,
      "outputs": [
        {
          "output_type": "execute_result",
          "data": {
            "text/plain": [
              "0.8076816986463685"
            ]
          },
          "metadata": {},
          "execution_count": 29
        }
      ]
    },
    {
      "cell_type": "code",
      "source": [
        "df_group = df_train_full.groupby(by='gender').exited.agg(['mean'])\n",
        "df_group['diff'] = df_group['mean'] - global_mean\n",
        "df_group['risk'] = df_group['mean'] / global_mean\n",
        "df_group"
      ],
      "metadata": {
        "colab": {
          "base_uri": "https://localhost:8080/",
          "height": 143
        },
        "id": "S2bDUmGVLy4V",
        "outputId": "eba8c4f1-b817-4819-d6fd-fe419c0dbb2d"
      },
      "execution_count": null,
      "outputs": [
        {
          "output_type": "execute_result",
          "data": {
            "text/plain": [
              "            mean      diff      risk\n",
              "gender                              \n",
              "female  0.249314  0.046564  1.229664\n",
              "male    0.163757 -0.038993  0.807682"
            ],
            "text/html": [
              "\n",
              "  <div id=\"df-f88517d5-90cf-4887-952c-86b24395055b\">\n",
              "    <div class=\"colab-df-container\">\n",
              "      <div>\n",
              "<style scoped>\n",
              "    .dataframe tbody tr th:only-of-type {\n",
              "        vertical-align: middle;\n",
              "    }\n",
              "\n",
              "    .dataframe tbody tr th {\n",
              "        vertical-align: top;\n",
              "    }\n",
              "\n",
              "    .dataframe thead th {\n",
              "        text-align: right;\n",
              "    }\n",
              "</style>\n",
              "<table border=\"1\" class=\"dataframe\">\n",
              "  <thead>\n",
              "    <tr style=\"text-align: right;\">\n",
              "      <th></th>\n",
              "      <th>mean</th>\n",
              "      <th>diff</th>\n",
              "      <th>risk</th>\n",
              "    </tr>\n",
              "    <tr>\n",
              "      <th>gender</th>\n",
              "      <th></th>\n",
              "      <th></th>\n",
              "      <th></th>\n",
              "    </tr>\n",
              "  </thead>\n",
              "  <tbody>\n",
              "    <tr>\n",
              "      <th>female</th>\n",
              "      <td>0.249314</td>\n",
              "      <td>0.046564</td>\n",
              "      <td>1.229664</td>\n",
              "    </tr>\n",
              "    <tr>\n",
              "      <th>male</th>\n",
              "      <td>0.163757</td>\n",
              "      <td>-0.038993</td>\n",
              "      <td>0.807682</td>\n",
              "    </tr>\n",
              "  </tbody>\n",
              "</table>\n",
              "</div>\n",
              "      <button class=\"colab-df-convert\" onclick=\"convertToInteractive('df-f88517d5-90cf-4887-952c-86b24395055b')\"\n",
              "              title=\"Convert this dataframe to an interactive table.\"\n",
              "              style=\"display:none;\">\n",
              "        \n",
              "  <svg xmlns=\"http://www.w3.org/2000/svg\" height=\"24px\"viewBox=\"0 0 24 24\"\n",
              "       width=\"24px\">\n",
              "    <path d=\"M0 0h24v24H0V0z\" fill=\"none\"/>\n",
              "    <path d=\"M18.56 5.44l.94 2.06.94-2.06 2.06-.94-2.06-.94-.94-2.06-.94 2.06-2.06.94zm-11 1L8.5 8.5l.94-2.06 2.06-.94-2.06-.94L8.5 2.5l-.94 2.06-2.06.94zm10 10l.94 2.06.94-2.06 2.06-.94-2.06-.94-.94-2.06-.94 2.06-2.06.94z\"/><path d=\"M17.41 7.96l-1.37-1.37c-.4-.4-.92-.59-1.43-.59-.52 0-1.04.2-1.43.59L10.3 9.45l-7.72 7.72c-.78.78-.78 2.05 0 2.83L4 21.41c.39.39.9.59 1.41.59.51 0 1.02-.2 1.41-.59l7.78-7.78 2.81-2.81c.8-.78.8-2.07 0-2.86zM5.41 20L4 18.59l7.72-7.72 1.47 1.35L5.41 20z\"/>\n",
              "  </svg>\n",
              "      </button>\n",
              "      \n",
              "  <style>\n",
              "    .colab-df-container {\n",
              "      display:flex;\n",
              "      flex-wrap:wrap;\n",
              "      gap: 12px;\n",
              "    }\n",
              "\n",
              "    .colab-df-convert {\n",
              "      background-color: #E8F0FE;\n",
              "      border: none;\n",
              "      border-radius: 50%;\n",
              "      cursor: pointer;\n",
              "      display: none;\n",
              "      fill: #1967D2;\n",
              "      height: 32px;\n",
              "      padding: 0 0 0 0;\n",
              "      width: 32px;\n",
              "    }\n",
              "\n",
              "    .colab-df-convert:hover {\n",
              "      background-color: #E2EBFA;\n",
              "      box-shadow: 0px 1px 2px rgba(60, 64, 67, 0.3), 0px 1px 3px 1px rgba(60, 64, 67, 0.15);\n",
              "      fill: #174EA6;\n",
              "    }\n",
              "\n",
              "    [theme=dark] .colab-df-convert {\n",
              "      background-color: #3B4455;\n",
              "      fill: #D2E3FC;\n",
              "    }\n",
              "\n",
              "    [theme=dark] .colab-df-convert:hover {\n",
              "      background-color: #434B5C;\n",
              "      box-shadow: 0px 1px 3px 1px rgba(0, 0, 0, 0.15);\n",
              "      filter: drop-shadow(0px 1px 2px rgba(0, 0, 0, 0.3));\n",
              "      fill: #FFFFFF;\n",
              "    }\n",
              "  </style>\n",
              "\n",
              "      <script>\n",
              "        const buttonEl =\n",
              "          document.querySelector('#df-f88517d5-90cf-4887-952c-86b24395055b button.colab-df-convert');\n",
              "        buttonEl.style.display =\n",
              "          google.colab.kernel.accessAllowed ? 'block' : 'none';\n",
              "\n",
              "        async function convertToInteractive(key) {\n",
              "          const element = document.querySelector('#df-f88517d5-90cf-4887-952c-86b24395055b');\n",
              "          const dataTable =\n",
              "            await google.colab.kernel.invokeFunction('convertToInteractive',\n",
              "                                                     [key], {});\n",
              "          if (!dataTable) return;\n",
              "\n",
              "          const docLinkHtml = 'Like what you see? Visit the ' +\n",
              "            '<a target=\"_blank\" href=https://colab.research.google.com/notebooks/data_table.ipynb>data table notebook</a>'\n",
              "            + ' to learn more about interactive tables.';\n",
              "          element.innerHTML = '';\n",
              "          dataTable['output_type'] = 'display_data';\n",
              "          await google.colab.output.renderOutput(dataTable, element);\n",
              "          const docLink = document.createElement('div');\n",
              "          docLink.innerHTML = docLinkHtml;\n",
              "          element.appendChild(docLink);\n",
              "        }\n",
              "      </script>\n",
              "    </div>\n",
              "  </div>\n",
              "  "
            ]
          },
          "metadata": {},
          "execution_count": 30
        }
      ]
    },
    {
      "cell_type": "markdown",
      "source": [
        "isactivemeber risk ratio"
      ],
      "metadata": {
        "id": "1oEgazDBuac5"
      }
    },
    {
      "cell_type": "code",
      "source": [
        "isactivemember_no = df_train_full[df_train_full.isactivemember == 0].exited.mean()\n",
        "print('isactivemember No:', round(isactivemember_no, 3))\n",
        "\n",
        "isactivemember_yes = df_train_full[df_train_full.isactivemember == 1].exited.mean()\n",
        "print('isactivemember Yes:', round(isactivemember_yes, 3))"
      ],
      "metadata": {
        "colab": {
          "base_uri": "https://localhost:8080/"
        },
        "id": "_eTqls-OJ6ID",
        "outputId": "ec6f9d01-31ad-4c61-a10c-d04dbd0d0df3"
      },
      "execution_count": null,
      "outputs": [
        {
          "output_type": "stream",
          "name": "stdout",
          "text": [
            "isactivemember No: 0.268\n",
            "isactivemember Yes: 0.14\n"
          ]
        }
      ]
    },
    {
      "cell_type": "markdown",
      "source": [
        "isactivemember No: has risk ratio > 1.0 => risky"
      ],
      "metadata": {
        "id": "IWQSmPmB7Hkt"
      }
    },
    {
      "cell_type": "code",
      "source": [
        "isactivemember_no / global_mean"
      ],
      "metadata": {
        "colab": {
          "base_uri": "https://localhost:8080/"
        },
        "id": "VW3rxB0wKd0X",
        "outputId": "47d6395b-9b24-4bbb-a3ab-dd666ea34764"
      },
      "execution_count": null,
      "outputs": [
        {
          "output_type": "execute_result",
          "data": {
            "text/plain": [
              "1.3239149009209348"
            ]
          },
          "metadata": {},
          "execution_count": 32
        }
      ]
    },
    {
      "cell_type": "code",
      "source": [
        "isactivemember_yes / global_mean"
      ],
      "metadata": {
        "colab": {
          "base_uri": "https://localhost:8080/"
        },
        "id": "ZvnOcA5RKgjd",
        "outputId": "9dd05b14-890c-4696-e3be-eb9b54280324"
      },
      "execution_count": null,
      "outputs": [
        {
          "output_type": "execute_result",
          "data": {
            "text/plain": [
              "0.690650187488022"
            ]
          },
          "metadata": {},
          "execution_count": 33
        }
      ]
    },
    {
      "cell_type": "markdown",
      "source": [
        "hascrcard risk ratio"
      ],
      "metadata": {
        "id": "kSPmWk9-vBsY"
      }
    },
    {
      "cell_type": "code",
      "source": [
        "hascrcard_no = df_train_full[df_train_full.hascrcard == 0].exited.mean()\n",
        "print('hascrcard No:', round(hascrcard_no, 3))\n",
        "\n",
        "hascrcard_yes = df_train_full[df_train_full.hascrcard == 1].exited.mean()\n",
        "print('hascrcard yes:', round(hascrcard_yes, 3))"
      ],
      "metadata": {
        "colab": {
          "base_uri": "https://localhost:8080/"
        },
        "outputId": "152b6bd5-ece5-4a61-abb3-aff41927e780",
        "id": "XePg6PdnsT5C"
      },
      "execution_count": null,
      "outputs": [
        {
          "output_type": "stream",
          "name": "stdout",
          "text": [
            "hascrcard No: 0.212\n",
            "hascrcard yes: 0.199\n"
          ]
        }
      ]
    },
    {
      "cell_type": "code",
      "source": [
        "hascrcard_no / global_mean"
      ],
      "metadata": {
        "colab": {
          "base_uri": "https://localhost:8080/"
        },
        "id": "-ap8oLiAuoUt",
        "outputId": "bc3d7385-f842-4ba5-9528-50b9f9723aa0"
      },
      "execution_count": null,
      "outputs": [
        {
          "output_type": "execute_result",
          "data": {
            "text/plain": [
              "1.0436700151079652"
            ]
          },
          "metadata": {},
          "execution_count": 35
        }
      ]
    },
    {
      "cell_type": "markdown",
      "source": [
        "Hascrcard No: risk ratio > 1.0 => risky"
      ],
      "metadata": {
        "id": "wmuhNdsg7ZON"
      }
    },
    {
      "cell_type": "code",
      "source": [
        "hascrcard_yes / global_mean\n"
      ],
      "metadata": {
        "colab": {
          "base_uri": "https://localhost:8080/"
        },
        "id": "YVtAKTNuuwd8",
        "outputId": "98ea023f-dd43-4b88-a47f-3c774e185a6a"
      },
      "execution_count": null,
      "outputs": [
        {
          "output_type": "execute_result",
          "data": {
            "text/plain": [
              "0.9819019597925971"
            ]
          },
          "metadata": {},
          "execution_count": 36
        }
      ]
    },
    {
      "cell_type": "markdown",
      "source": [
        "Numofproducts risk ratio"
      ],
      "metadata": {
        "id": "g3O6j6orvPqV"
      }
    },
    {
      "cell_type": "code",
      "source": [
        "numofproducts_one = df_train_full[df_train_full.numofproducts == 1].exited.mean()\n",
        "print('number of products 1:', round(numofproducts_one, 3))\n",
        "\n",
        "numofproducts_two = df_train_full[df_train_full.numofproducts == 2].exited.mean()\n",
        "print('number of products 2:', round(numofproducts_two, 3))\n",
        "\n",
        "numofproducts_three = df_train_full[df_train_full.numofproducts == 3].exited.mean()\n",
        "print('number of products 3:', round(numofproducts_three, 3))\n",
        "\n",
        "numofproducts_four = df_train_full[df_train_full.numofproducts == 4].exited.mean()\n",
        "print('number of products 4:', round(numofproducts_four, 3))"
      ],
      "metadata": {
        "colab": {
          "base_uri": "https://localhost:8080/"
        },
        "outputId": "6741d6d7-04bd-4023-826b-86bafc63f4ca",
        "id": "WEtOPPQSvbra"
      },
      "execution_count": null,
      "outputs": [
        {
          "output_type": "stream",
          "name": "stdout",
          "text": [
            "number of products 1: 0.274\n",
            "number of products 2: 0.077\n",
            "number of products 3: 0.817\n",
            "number of products 4: 1.0\n"
          ]
        }
      ]
    },
    {
      "cell_type": "markdown",
      "source": [
        "number of products of 1, 3 & 4; risk ratio > 1.0 => risky"
      ],
      "metadata": {
        "id": "mPicbloj8SyC"
      }
    },
    {
      "cell_type": "code",
      "source": [
        "numofproducts_one / global_mean"
      ],
      "metadata": {
        "colab": {
          "base_uri": "https://localhost:8080/"
        },
        "id": "PXN0U_z87yU7",
        "outputId": "dbaa9b8c-38d1-4261-8238-45fdb2be8a4f"
      },
      "execution_count": null,
      "outputs": [
        {
          "output_type": "execute_result",
          "data": {
            "text/plain": [
              "1.3514325731676886"
            ]
          },
          "metadata": {},
          "execution_count": 38
        }
      ]
    },
    {
      "cell_type": "code",
      "source": [
        "numofproducts_two / global_mean"
      ],
      "metadata": {
        "colab": {
          "base_uri": "https://localhost:8080/"
        },
        "id": "WtzzTXLQ780r",
        "outputId": "107e769d-6d51-42d6-e8e3-9bc17f870535"
      },
      "execution_count": null,
      "outputs": [
        {
          "output_type": "execute_result",
          "data": {
            "text/plain": [
              "0.37764122068156847"
            ]
          },
          "metadata": {},
          "execution_count": 39
        }
      ]
    },
    {
      "cell_type": "code",
      "source": [
        "numofproducts_three / global_mean"
      ],
      "metadata": {
        "colab": {
          "base_uri": "https://localhost:8080/"
        },
        "id": "o7rcsIbu8CmT",
        "outputId": "cceaa63a-2cbe-49d4-85f8-3343eb2a406d"
      },
      "execution_count": null,
      "outputs": [
        {
          "output_type": "execute_result",
          "data": {
            "text/plain": [
              "4.031327241299708"
            ]
          },
          "metadata": {},
          "execution_count": 40
        }
      ]
    },
    {
      "cell_type": "code",
      "source": [
        "numofproducts_four / global_mean"
      ],
      "metadata": {
        "colab": {
          "base_uri": "https://localhost:8080/"
        },
        "id": "IT1rePrM8MIq",
        "outputId": "d6ffde48-de18-410b-b1ec-fefa2c6b30d5"
      },
      "execution_count": null,
      "outputs": [
        {
          "output_type": "execute_result",
          "data": {
            "text/plain": [
              "4.932182490752157"
            ]
          },
          "metadata": {},
          "execution_count": 41
        }
      ]
    },
    {
      "cell_type": "code",
      "source": [
        "from IPython.display import display\n",
        "global_mean = df_train_full.exited.mean()\n",
        "global_mean"
      ],
      "metadata": {
        "colab": {
          "base_uri": "https://localhost:8080/"
        },
        "id": "S10fpFW0L1lv",
        "outputId": "7a82a43b-0064-461b-9536-182427690805"
      },
      "execution_count": null,
      "outputs": [
        {
          "output_type": "execute_result",
          "data": {
            "text/plain": [
              "0.20275"
            ]
          },
          "metadata": {},
          "execution_count": 42
        }
      ]
    },
    {
      "cell_type": "markdown",
      "source": [
        "Compute Risk ratio and Risk differnces across categorical feature vs exited"
      ],
      "metadata": {
        "id": "_alRmTaBDldq"
      }
    },
    {
      "cell_type": "code",
      "source": [
        "for col in categorical:\n",
        "    df_group = df_train_full.groupby(by=col).exited.agg(['mean'])\n",
        "    df_group['diff'] = df_group['mean'] - global_mean\n",
        "    df_group['risk'] = df_group['mean'] / global_mean\n",
        "    display(df_group)"
      ],
      "metadata": {
        "colab": {
          "base_uri": "https://localhost:8080/",
          "height": 1000
        },
        "id": "ENU99F5QL6RR",
        "outputId": "246490a4-0e21-46b3-a783-ea7ee5740685"
      },
      "execution_count": null,
      "outputs": [
        {
          "output_type": "display_data",
          "data": {
            "text/plain": [
              "               mean      diff      risk\n",
              "geography                              \n",
              "france     0.160991 -0.041759  0.794039\n",
              "germany    0.318227  0.115477  1.569552\n",
              "spain      0.168522 -0.034228  0.831183"
            ],
            "text/html": [
              "\n",
              "  <div id=\"df-25bbce31-93b5-46e4-bfae-5c9b862b71e3\">\n",
              "    <div class=\"colab-df-container\">\n",
              "      <div>\n",
              "<style scoped>\n",
              "    .dataframe tbody tr th:only-of-type {\n",
              "        vertical-align: middle;\n",
              "    }\n",
              "\n",
              "    .dataframe tbody tr th {\n",
              "        vertical-align: top;\n",
              "    }\n",
              "\n",
              "    .dataframe thead th {\n",
              "        text-align: right;\n",
              "    }\n",
              "</style>\n",
              "<table border=\"1\" class=\"dataframe\">\n",
              "  <thead>\n",
              "    <tr style=\"text-align: right;\">\n",
              "      <th></th>\n",
              "      <th>mean</th>\n",
              "      <th>diff</th>\n",
              "      <th>risk</th>\n",
              "    </tr>\n",
              "    <tr>\n",
              "      <th>geography</th>\n",
              "      <th></th>\n",
              "      <th></th>\n",
              "      <th></th>\n",
              "    </tr>\n",
              "  </thead>\n",
              "  <tbody>\n",
              "    <tr>\n",
              "      <th>france</th>\n",
              "      <td>0.160991</td>\n",
              "      <td>-0.041759</td>\n",
              "      <td>0.794039</td>\n",
              "    </tr>\n",
              "    <tr>\n",
              "      <th>germany</th>\n",
              "      <td>0.318227</td>\n",
              "      <td>0.115477</td>\n",
              "      <td>1.569552</td>\n",
              "    </tr>\n",
              "    <tr>\n",
              "      <th>spain</th>\n",
              "      <td>0.168522</td>\n",
              "      <td>-0.034228</td>\n",
              "      <td>0.831183</td>\n",
              "    </tr>\n",
              "  </tbody>\n",
              "</table>\n",
              "</div>\n",
              "      <button class=\"colab-df-convert\" onclick=\"convertToInteractive('df-25bbce31-93b5-46e4-bfae-5c9b862b71e3')\"\n",
              "              title=\"Convert this dataframe to an interactive table.\"\n",
              "              style=\"display:none;\">\n",
              "        \n",
              "  <svg xmlns=\"http://www.w3.org/2000/svg\" height=\"24px\"viewBox=\"0 0 24 24\"\n",
              "       width=\"24px\">\n",
              "    <path d=\"M0 0h24v24H0V0z\" fill=\"none\"/>\n",
              "    <path d=\"M18.56 5.44l.94 2.06.94-2.06 2.06-.94-2.06-.94-.94-2.06-.94 2.06-2.06.94zm-11 1L8.5 8.5l.94-2.06 2.06-.94-2.06-.94L8.5 2.5l-.94 2.06-2.06.94zm10 10l.94 2.06.94-2.06 2.06-.94-2.06-.94-.94-2.06-.94 2.06-2.06.94z\"/><path d=\"M17.41 7.96l-1.37-1.37c-.4-.4-.92-.59-1.43-.59-.52 0-1.04.2-1.43.59L10.3 9.45l-7.72 7.72c-.78.78-.78 2.05 0 2.83L4 21.41c.39.39.9.59 1.41.59.51 0 1.02-.2 1.41-.59l7.78-7.78 2.81-2.81c.8-.78.8-2.07 0-2.86zM5.41 20L4 18.59l7.72-7.72 1.47 1.35L5.41 20z\"/>\n",
              "  </svg>\n",
              "      </button>\n",
              "      \n",
              "  <style>\n",
              "    .colab-df-container {\n",
              "      display:flex;\n",
              "      flex-wrap:wrap;\n",
              "      gap: 12px;\n",
              "    }\n",
              "\n",
              "    .colab-df-convert {\n",
              "      background-color: #E8F0FE;\n",
              "      border: none;\n",
              "      border-radius: 50%;\n",
              "      cursor: pointer;\n",
              "      display: none;\n",
              "      fill: #1967D2;\n",
              "      height: 32px;\n",
              "      padding: 0 0 0 0;\n",
              "      width: 32px;\n",
              "    }\n",
              "\n",
              "    .colab-df-convert:hover {\n",
              "      background-color: #E2EBFA;\n",
              "      box-shadow: 0px 1px 2px rgba(60, 64, 67, 0.3), 0px 1px 3px 1px rgba(60, 64, 67, 0.15);\n",
              "      fill: #174EA6;\n",
              "    }\n",
              "\n",
              "    [theme=dark] .colab-df-convert {\n",
              "      background-color: #3B4455;\n",
              "      fill: #D2E3FC;\n",
              "    }\n",
              "\n",
              "    [theme=dark] .colab-df-convert:hover {\n",
              "      background-color: #434B5C;\n",
              "      box-shadow: 0px 1px 3px 1px rgba(0, 0, 0, 0.15);\n",
              "      filter: drop-shadow(0px 1px 2px rgba(0, 0, 0, 0.3));\n",
              "      fill: #FFFFFF;\n",
              "    }\n",
              "  </style>\n",
              "\n",
              "      <script>\n",
              "        const buttonEl =\n",
              "          document.querySelector('#df-25bbce31-93b5-46e4-bfae-5c9b862b71e3 button.colab-df-convert');\n",
              "        buttonEl.style.display =\n",
              "          google.colab.kernel.accessAllowed ? 'block' : 'none';\n",
              "\n",
              "        async function convertToInteractive(key) {\n",
              "          const element = document.querySelector('#df-25bbce31-93b5-46e4-bfae-5c9b862b71e3');\n",
              "          const dataTable =\n",
              "            await google.colab.kernel.invokeFunction('convertToInteractive',\n",
              "                                                     [key], {});\n",
              "          if (!dataTable) return;\n",
              "\n",
              "          const docLinkHtml = 'Like what you see? Visit the ' +\n",
              "            '<a target=\"_blank\" href=https://colab.research.google.com/notebooks/data_table.ipynb>data table notebook</a>'\n",
              "            + ' to learn more about interactive tables.';\n",
              "          element.innerHTML = '';\n",
              "          dataTable['output_type'] = 'display_data';\n",
              "          await google.colab.output.renderOutput(dataTable, element);\n",
              "          const docLink = document.createElement('div');\n",
              "          docLink.innerHTML = docLinkHtml;\n",
              "          element.appendChild(docLink);\n",
              "        }\n",
              "      </script>\n",
              "    </div>\n",
              "  </div>\n",
              "  "
            ]
          },
          "metadata": {}
        },
        {
          "output_type": "display_data",
          "data": {
            "text/plain": [
              "            mean      diff      risk\n",
              "gender                              \n",
              "female  0.249314  0.046564  1.229664\n",
              "male    0.163757 -0.038993  0.807682"
            ],
            "text/html": [
              "\n",
              "  <div id=\"df-9b2b5a51-9fc2-4ac7-bedc-ddfae0207561\">\n",
              "    <div class=\"colab-df-container\">\n",
              "      <div>\n",
              "<style scoped>\n",
              "    .dataframe tbody tr th:only-of-type {\n",
              "        vertical-align: middle;\n",
              "    }\n",
              "\n",
              "    .dataframe tbody tr th {\n",
              "        vertical-align: top;\n",
              "    }\n",
              "\n",
              "    .dataframe thead th {\n",
              "        text-align: right;\n",
              "    }\n",
              "</style>\n",
              "<table border=\"1\" class=\"dataframe\">\n",
              "  <thead>\n",
              "    <tr style=\"text-align: right;\">\n",
              "      <th></th>\n",
              "      <th>mean</th>\n",
              "      <th>diff</th>\n",
              "      <th>risk</th>\n",
              "    </tr>\n",
              "    <tr>\n",
              "      <th>gender</th>\n",
              "      <th></th>\n",
              "      <th></th>\n",
              "      <th></th>\n",
              "    </tr>\n",
              "  </thead>\n",
              "  <tbody>\n",
              "    <tr>\n",
              "      <th>female</th>\n",
              "      <td>0.249314</td>\n",
              "      <td>0.046564</td>\n",
              "      <td>1.229664</td>\n",
              "    </tr>\n",
              "    <tr>\n",
              "      <th>male</th>\n",
              "      <td>0.163757</td>\n",
              "      <td>-0.038993</td>\n",
              "      <td>0.807682</td>\n",
              "    </tr>\n",
              "  </tbody>\n",
              "</table>\n",
              "</div>\n",
              "      <button class=\"colab-df-convert\" onclick=\"convertToInteractive('df-9b2b5a51-9fc2-4ac7-bedc-ddfae0207561')\"\n",
              "              title=\"Convert this dataframe to an interactive table.\"\n",
              "              style=\"display:none;\">\n",
              "        \n",
              "  <svg xmlns=\"http://www.w3.org/2000/svg\" height=\"24px\"viewBox=\"0 0 24 24\"\n",
              "       width=\"24px\">\n",
              "    <path d=\"M0 0h24v24H0V0z\" fill=\"none\"/>\n",
              "    <path d=\"M18.56 5.44l.94 2.06.94-2.06 2.06-.94-2.06-.94-.94-2.06-.94 2.06-2.06.94zm-11 1L8.5 8.5l.94-2.06 2.06-.94-2.06-.94L8.5 2.5l-.94 2.06-2.06.94zm10 10l.94 2.06.94-2.06 2.06-.94-2.06-.94-.94-2.06-.94 2.06-2.06.94z\"/><path d=\"M17.41 7.96l-1.37-1.37c-.4-.4-.92-.59-1.43-.59-.52 0-1.04.2-1.43.59L10.3 9.45l-7.72 7.72c-.78.78-.78 2.05 0 2.83L4 21.41c.39.39.9.59 1.41.59.51 0 1.02-.2 1.41-.59l7.78-7.78 2.81-2.81c.8-.78.8-2.07 0-2.86zM5.41 20L4 18.59l7.72-7.72 1.47 1.35L5.41 20z\"/>\n",
              "  </svg>\n",
              "      </button>\n",
              "      \n",
              "  <style>\n",
              "    .colab-df-container {\n",
              "      display:flex;\n",
              "      flex-wrap:wrap;\n",
              "      gap: 12px;\n",
              "    }\n",
              "\n",
              "    .colab-df-convert {\n",
              "      background-color: #E8F0FE;\n",
              "      border: none;\n",
              "      border-radius: 50%;\n",
              "      cursor: pointer;\n",
              "      display: none;\n",
              "      fill: #1967D2;\n",
              "      height: 32px;\n",
              "      padding: 0 0 0 0;\n",
              "      width: 32px;\n",
              "    }\n",
              "\n",
              "    .colab-df-convert:hover {\n",
              "      background-color: #E2EBFA;\n",
              "      box-shadow: 0px 1px 2px rgba(60, 64, 67, 0.3), 0px 1px 3px 1px rgba(60, 64, 67, 0.15);\n",
              "      fill: #174EA6;\n",
              "    }\n",
              "\n",
              "    [theme=dark] .colab-df-convert {\n",
              "      background-color: #3B4455;\n",
              "      fill: #D2E3FC;\n",
              "    }\n",
              "\n",
              "    [theme=dark] .colab-df-convert:hover {\n",
              "      background-color: #434B5C;\n",
              "      box-shadow: 0px 1px 3px 1px rgba(0, 0, 0, 0.15);\n",
              "      filter: drop-shadow(0px 1px 2px rgba(0, 0, 0, 0.3));\n",
              "      fill: #FFFFFF;\n",
              "    }\n",
              "  </style>\n",
              "\n",
              "      <script>\n",
              "        const buttonEl =\n",
              "          document.querySelector('#df-9b2b5a51-9fc2-4ac7-bedc-ddfae0207561 button.colab-df-convert');\n",
              "        buttonEl.style.display =\n",
              "          google.colab.kernel.accessAllowed ? 'block' : 'none';\n",
              "\n",
              "        async function convertToInteractive(key) {\n",
              "          const element = document.querySelector('#df-9b2b5a51-9fc2-4ac7-bedc-ddfae0207561');\n",
              "          const dataTable =\n",
              "            await google.colab.kernel.invokeFunction('convertToInteractive',\n",
              "                                                     [key], {});\n",
              "          if (!dataTable) return;\n",
              "\n",
              "          const docLinkHtml = 'Like what you see? Visit the ' +\n",
              "            '<a target=\"_blank\" href=https://colab.research.google.com/notebooks/data_table.ipynb>data table notebook</a>'\n",
              "            + ' to learn more about interactive tables.';\n",
              "          element.innerHTML = '';\n",
              "          dataTable['output_type'] = 'display_data';\n",
              "          await google.colab.output.renderOutput(dataTable, element);\n",
              "          const docLink = document.createElement('div');\n",
              "          docLink.innerHTML = docLinkHtml;\n",
              "          element.appendChild(docLink);\n",
              "        }\n",
              "      </script>\n",
              "    </div>\n",
              "  </div>\n",
              "  "
            ]
          },
          "metadata": {}
        },
        {
          "output_type": "display_data",
          "data": {
            "text/plain": [
              "            mean      diff      risk\n",
              "tenure                              \n",
              "0       0.239521  0.036771  1.181361\n",
              "1       0.213483  0.010733  1.052938\n",
              "2       0.181168 -0.021582  0.893554\n",
              "3       0.223881  0.021131  1.104220\n",
              "4       0.202500 -0.000250  0.998767\n",
              "5       0.197789 -0.004961  0.975530\n",
              "6       0.201777 -0.000973  0.995199\n",
              "7       0.174070 -0.028680  0.858543\n",
              "8       0.193267 -0.009483  0.953227\n",
              "9       0.220102  0.017352  1.085582\n",
              "10      0.210526  0.007776  1.038354"
            ],
            "text/html": [
              "\n",
              "  <div id=\"df-96943dd4-f983-43a0-9b18-cda08b929c1a\">\n",
              "    <div class=\"colab-df-container\">\n",
              "      <div>\n",
              "<style scoped>\n",
              "    .dataframe tbody tr th:only-of-type {\n",
              "        vertical-align: middle;\n",
              "    }\n",
              "\n",
              "    .dataframe tbody tr th {\n",
              "        vertical-align: top;\n",
              "    }\n",
              "\n",
              "    .dataframe thead th {\n",
              "        text-align: right;\n",
              "    }\n",
              "</style>\n",
              "<table border=\"1\" class=\"dataframe\">\n",
              "  <thead>\n",
              "    <tr style=\"text-align: right;\">\n",
              "      <th></th>\n",
              "      <th>mean</th>\n",
              "      <th>diff</th>\n",
              "      <th>risk</th>\n",
              "    </tr>\n",
              "    <tr>\n",
              "      <th>tenure</th>\n",
              "      <th></th>\n",
              "      <th></th>\n",
              "      <th></th>\n",
              "    </tr>\n",
              "  </thead>\n",
              "  <tbody>\n",
              "    <tr>\n",
              "      <th>0</th>\n",
              "      <td>0.239521</td>\n",
              "      <td>0.036771</td>\n",
              "      <td>1.181361</td>\n",
              "    </tr>\n",
              "    <tr>\n",
              "      <th>1</th>\n",
              "      <td>0.213483</td>\n",
              "      <td>0.010733</td>\n",
              "      <td>1.052938</td>\n",
              "    </tr>\n",
              "    <tr>\n",
              "      <th>2</th>\n",
              "      <td>0.181168</td>\n",
              "      <td>-0.021582</td>\n",
              "      <td>0.893554</td>\n",
              "    </tr>\n",
              "    <tr>\n",
              "      <th>3</th>\n",
              "      <td>0.223881</td>\n",
              "      <td>0.021131</td>\n",
              "      <td>1.104220</td>\n",
              "    </tr>\n",
              "    <tr>\n",
              "      <th>4</th>\n",
              "      <td>0.202500</td>\n",
              "      <td>-0.000250</td>\n",
              "      <td>0.998767</td>\n",
              "    </tr>\n",
              "    <tr>\n",
              "      <th>5</th>\n",
              "      <td>0.197789</td>\n",
              "      <td>-0.004961</td>\n",
              "      <td>0.975530</td>\n",
              "    </tr>\n",
              "    <tr>\n",
              "      <th>6</th>\n",
              "      <td>0.201777</td>\n",
              "      <td>-0.000973</td>\n",
              "      <td>0.995199</td>\n",
              "    </tr>\n",
              "    <tr>\n",
              "      <th>7</th>\n",
              "      <td>0.174070</td>\n",
              "      <td>-0.028680</td>\n",
              "      <td>0.858543</td>\n",
              "    </tr>\n",
              "    <tr>\n",
              "      <th>8</th>\n",
              "      <td>0.193267</td>\n",
              "      <td>-0.009483</td>\n",
              "      <td>0.953227</td>\n",
              "    </tr>\n",
              "    <tr>\n",
              "      <th>9</th>\n",
              "      <td>0.220102</td>\n",
              "      <td>0.017352</td>\n",
              "      <td>1.085582</td>\n",
              "    </tr>\n",
              "    <tr>\n",
              "      <th>10</th>\n",
              "      <td>0.210526</td>\n",
              "      <td>0.007776</td>\n",
              "      <td>1.038354</td>\n",
              "    </tr>\n",
              "  </tbody>\n",
              "</table>\n",
              "</div>\n",
              "      <button class=\"colab-df-convert\" onclick=\"convertToInteractive('df-96943dd4-f983-43a0-9b18-cda08b929c1a')\"\n",
              "              title=\"Convert this dataframe to an interactive table.\"\n",
              "              style=\"display:none;\">\n",
              "        \n",
              "  <svg xmlns=\"http://www.w3.org/2000/svg\" height=\"24px\"viewBox=\"0 0 24 24\"\n",
              "       width=\"24px\">\n",
              "    <path d=\"M0 0h24v24H0V0z\" fill=\"none\"/>\n",
              "    <path d=\"M18.56 5.44l.94 2.06.94-2.06 2.06-.94-2.06-.94-.94-2.06-.94 2.06-2.06.94zm-11 1L8.5 8.5l.94-2.06 2.06-.94-2.06-.94L8.5 2.5l-.94 2.06-2.06.94zm10 10l.94 2.06.94-2.06 2.06-.94-2.06-.94-.94-2.06-.94 2.06-2.06.94z\"/><path d=\"M17.41 7.96l-1.37-1.37c-.4-.4-.92-.59-1.43-.59-.52 0-1.04.2-1.43.59L10.3 9.45l-7.72 7.72c-.78.78-.78 2.05 0 2.83L4 21.41c.39.39.9.59 1.41.59.51 0 1.02-.2 1.41-.59l7.78-7.78 2.81-2.81c.8-.78.8-2.07 0-2.86zM5.41 20L4 18.59l7.72-7.72 1.47 1.35L5.41 20z\"/>\n",
              "  </svg>\n",
              "      </button>\n",
              "      \n",
              "  <style>\n",
              "    .colab-df-container {\n",
              "      display:flex;\n",
              "      flex-wrap:wrap;\n",
              "      gap: 12px;\n",
              "    }\n",
              "\n",
              "    .colab-df-convert {\n",
              "      background-color: #E8F0FE;\n",
              "      border: none;\n",
              "      border-radius: 50%;\n",
              "      cursor: pointer;\n",
              "      display: none;\n",
              "      fill: #1967D2;\n",
              "      height: 32px;\n",
              "      padding: 0 0 0 0;\n",
              "      width: 32px;\n",
              "    }\n",
              "\n",
              "    .colab-df-convert:hover {\n",
              "      background-color: #E2EBFA;\n",
              "      box-shadow: 0px 1px 2px rgba(60, 64, 67, 0.3), 0px 1px 3px 1px rgba(60, 64, 67, 0.15);\n",
              "      fill: #174EA6;\n",
              "    }\n",
              "\n",
              "    [theme=dark] .colab-df-convert {\n",
              "      background-color: #3B4455;\n",
              "      fill: #D2E3FC;\n",
              "    }\n",
              "\n",
              "    [theme=dark] .colab-df-convert:hover {\n",
              "      background-color: #434B5C;\n",
              "      box-shadow: 0px 1px 3px 1px rgba(0, 0, 0, 0.15);\n",
              "      filter: drop-shadow(0px 1px 2px rgba(0, 0, 0, 0.3));\n",
              "      fill: #FFFFFF;\n",
              "    }\n",
              "  </style>\n",
              "\n",
              "      <script>\n",
              "        const buttonEl =\n",
              "          document.querySelector('#df-96943dd4-f983-43a0-9b18-cda08b929c1a button.colab-df-convert');\n",
              "        buttonEl.style.display =\n",
              "          google.colab.kernel.accessAllowed ? 'block' : 'none';\n",
              "\n",
              "        async function convertToInteractive(key) {\n",
              "          const element = document.querySelector('#df-96943dd4-f983-43a0-9b18-cda08b929c1a');\n",
              "          const dataTable =\n",
              "            await google.colab.kernel.invokeFunction('convertToInteractive',\n",
              "                                                     [key], {});\n",
              "          if (!dataTable) return;\n",
              "\n",
              "          const docLinkHtml = 'Like what you see? Visit the ' +\n",
              "            '<a target=\"_blank\" href=https://colab.research.google.com/notebooks/data_table.ipynb>data table notebook</a>'\n",
              "            + ' to learn more about interactive tables.';\n",
              "          element.innerHTML = '';\n",
              "          dataTable['output_type'] = 'display_data';\n",
              "          await google.colab.output.renderOutput(dataTable, element);\n",
              "          const docLink = document.createElement('div');\n",
              "          docLink.innerHTML = docLinkHtml;\n",
              "          element.appendChild(docLink);\n",
              "        }\n",
              "      </script>\n",
              "    </div>\n",
              "  </div>\n",
              "  "
            ]
          },
          "metadata": {}
        },
        {
          "output_type": "display_data",
          "data": {
            "text/plain": [
              "                   mean      diff      risk\n",
              "numofproducts                              \n",
              "1              0.274003  0.071253  1.351433\n",
              "2              0.076567 -0.126183  0.377641\n",
              "3              0.817352  0.614602  4.031327\n",
              "4              1.000000  0.797250  4.932182"
            ],
            "text/html": [
              "\n",
              "  <div id=\"df-6f862bae-a5a6-4f40-95eb-7e9a757116c0\">\n",
              "    <div class=\"colab-df-container\">\n",
              "      <div>\n",
              "<style scoped>\n",
              "    .dataframe tbody tr th:only-of-type {\n",
              "        vertical-align: middle;\n",
              "    }\n",
              "\n",
              "    .dataframe tbody tr th {\n",
              "        vertical-align: top;\n",
              "    }\n",
              "\n",
              "    .dataframe thead th {\n",
              "        text-align: right;\n",
              "    }\n",
              "</style>\n",
              "<table border=\"1\" class=\"dataframe\">\n",
              "  <thead>\n",
              "    <tr style=\"text-align: right;\">\n",
              "      <th></th>\n",
              "      <th>mean</th>\n",
              "      <th>diff</th>\n",
              "      <th>risk</th>\n",
              "    </tr>\n",
              "    <tr>\n",
              "      <th>numofproducts</th>\n",
              "      <th></th>\n",
              "      <th></th>\n",
              "      <th></th>\n",
              "    </tr>\n",
              "  </thead>\n",
              "  <tbody>\n",
              "    <tr>\n",
              "      <th>1</th>\n",
              "      <td>0.274003</td>\n",
              "      <td>0.071253</td>\n",
              "      <td>1.351433</td>\n",
              "    </tr>\n",
              "    <tr>\n",
              "      <th>2</th>\n",
              "      <td>0.076567</td>\n",
              "      <td>-0.126183</td>\n",
              "      <td>0.377641</td>\n",
              "    </tr>\n",
              "    <tr>\n",
              "      <th>3</th>\n",
              "      <td>0.817352</td>\n",
              "      <td>0.614602</td>\n",
              "      <td>4.031327</td>\n",
              "    </tr>\n",
              "    <tr>\n",
              "      <th>4</th>\n",
              "      <td>1.000000</td>\n",
              "      <td>0.797250</td>\n",
              "      <td>4.932182</td>\n",
              "    </tr>\n",
              "  </tbody>\n",
              "</table>\n",
              "</div>\n",
              "      <button class=\"colab-df-convert\" onclick=\"convertToInteractive('df-6f862bae-a5a6-4f40-95eb-7e9a757116c0')\"\n",
              "              title=\"Convert this dataframe to an interactive table.\"\n",
              "              style=\"display:none;\">\n",
              "        \n",
              "  <svg xmlns=\"http://www.w3.org/2000/svg\" height=\"24px\"viewBox=\"0 0 24 24\"\n",
              "       width=\"24px\">\n",
              "    <path d=\"M0 0h24v24H0V0z\" fill=\"none\"/>\n",
              "    <path d=\"M18.56 5.44l.94 2.06.94-2.06 2.06-.94-2.06-.94-.94-2.06-.94 2.06-2.06.94zm-11 1L8.5 8.5l.94-2.06 2.06-.94-2.06-.94L8.5 2.5l-.94 2.06-2.06.94zm10 10l.94 2.06.94-2.06 2.06-.94-2.06-.94-.94-2.06-.94 2.06-2.06.94z\"/><path d=\"M17.41 7.96l-1.37-1.37c-.4-.4-.92-.59-1.43-.59-.52 0-1.04.2-1.43.59L10.3 9.45l-7.72 7.72c-.78.78-.78 2.05 0 2.83L4 21.41c.39.39.9.59 1.41.59.51 0 1.02-.2 1.41-.59l7.78-7.78 2.81-2.81c.8-.78.8-2.07 0-2.86zM5.41 20L4 18.59l7.72-7.72 1.47 1.35L5.41 20z\"/>\n",
              "  </svg>\n",
              "      </button>\n",
              "      \n",
              "  <style>\n",
              "    .colab-df-container {\n",
              "      display:flex;\n",
              "      flex-wrap:wrap;\n",
              "      gap: 12px;\n",
              "    }\n",
              "\n",
              "    .colab-df-convert {\n",
              "      background-color: #E8F0FE;\n",
              "      border: none;\n",
              "      border-radius: 50%;\n",
              "      cursor: pointer;\n",
              "      display: none;\n",
              "      fill: #1967D2;\n",
              "      height: 32px;\n",
              "      padding: 0 0 0 0;\n",
              "      width: 32px;\n",
              "    }\n",
              "\n",
              "    .colab-df-convert:hover {\n",
              "      background-color: #E2EBFA;\n",
              "      box-shadow: 0px 1px 2px rgba(60, 64, 67, 0.3), 0px 1px 3px 1px rgba(60, 64, 67, 0.15);\n",
              "      fill: #174EA6;\n",
              "    }\n",
              "\n",
              "    [theme=dark] .colab-df-convert {\n",
              "      background-color: #3B4455;\n",
              "      fill: #D2E3FC;\n",
              "    }\n",
              "\n",
              "    [theme=dark] .colab-df-convert:hover {\n",
              "      background-color: #434B5C;\n",
              "      box-shadow: 0px 1px 3px 1px rgba(0, 0, 0, 0.15);\n",
              "      filter: drop-shadow(0px 1px 2px rgba(0, 0, 0, 0.3));\n",
              "      fill: #FFFFFF;\n",
              "    }\n",
              "  </style>\n",
              "\n",
              "      <script>\n",
              "        const buttonEl =\n",
              "          document.querySelector('#df-6f862bae-a5a6-4f40-95eb-7e9a757116c0 button.colab-df-convert');\n",
              "        buttonEl.style.display =\n",
              "          google.colab.kernel.accessAllowed ? 'block' : 'none';\n",
              "\n",
              "        async function convertToInteractive(key) {\n",
              "          const element = document.querySelector('#df-6f862bae-a5a6-4f40-95eb-7e9a757116c0');\n",
              "          const dataTable =\n",
              "            await google.colab.kernel.invokeFunction('convertToInteractive',\n",
              "                                                     [key], {});\n",
              "          if (!dataTable) return;\n",
              "\n",
              "          const docLinkHtml = 'Like what you see? Visit the ' +\n",
              "            '<a target=\"_blank\" href=https://colab.research.google.com/notebooks/data_table.ipynb>data table notebook</a>'\n",
              "            + ' to learn more about interactive tables.';\n",
              "          element.innerHTML = '';\n",
              "          dataTable['output_type'] = 'display_data';\n",
              "          await google.colab.output.renderOutput(dataTable, element);\n",
              "          const docLink = document.createElement('div');\n",
              "          docLink.innerHTML = docLinkHtml;\n",
              "          element.appendChild(docLink);\n",
              "        }\n",
              "      </script>\n",
              "    </div>\n",
              "  </div>\n",
              "  "
            ]
          },
          "metadata": {}
        },
        {
          "output_type": "display_data",
          "data": {
            "text/plain": [
              "               mean      diff      risk\n",
              "hascrcard                              \n",
              "0          0.211604  0.008854  1.043670\n",
              "1          0.199081 -0.003669  0.981902"
            ],
            "text/html": [
              "\n",
              "  <div id=\"df-d585e76d-7d4a-46eb-8342-952a7f440dde\">\n",
              "    <div class=\"colab-df-container\">\n",
              "      <div>\n",
              "<style scoped>\n",
              "    .dataframe tbody tr th:only-of-type {\n",
              "        vertical-align: middle;\n",
              "    }\n",
              "\n",
              "    .dataframe tbody tr th {\n",
              "        vertical-align: top;\n",
              "    }\n",
              "\n",
              "    .dataframe thead th {\n",
              "        text-align: right;\n",
              "    }\n",
              "</style>\n",
              "<table border=\"1\" class=\"dataframe\">\n",
              "  <thead>\n",
              "    <tr style=\"text-align: right;\">\n",
              "      <th></th>\n",
              "      <th>mean</th>\n",
              "      <th>diff</th>\n",
              "      <th>risk</th>\n",
              "    </tr>\n",
              "    <tr>\n",
              "      <th>hascrcard</th>\n",
              "      <th></th>\n",
              "      <th></th>\n",
              "      <th></th>\n",
              "    </tr>\n",
              "  </thead>\n",
              "  <tbody>\n",
              "    <tr>\n",
              "      <th>0</th>\n",
              "      <td>0.211604</td>\n",
              "      <td>0.008854</td>\n",
              "      <td>1.043670</td>\n",
              "    </tr>\n",
              "    <tr>\n",
              "      <th>1</th>\n",
              "      <td>0.199081</td>\n",
              "      <td>-0.003669</td>\n",
              "      <td>0.981902</td>\n",
              "    </tr>\n",
              "  </tbody>\n",
              "</table>\n",
              "</div>\n",
              "      <button class=\"colab-df-convert\" onclick=\"convertToInteractive('df-d585e76d-7d4a-46eb-8342-952a7f440dde')\"\n",
              "              title=\"Convert this dataframe to an interactive table.\"\n",
              "              style=\"display:none;\">\n",
              "        \n",
              "  <svg xmlns=\"http://www.w3.org/2000/svg\" height=\"24px\"viewBox=\"0 0 24 24\"\n",
              "       width=\"24px\">\n",
              "    <path d=\"M0 0h24v24H0V0z\" fill=\"none\"/>\n",
              "    <path d=\"M18.56 5.44l.94 2.06.94-2.06 2.06-.94-2.06-.94-.94-2.06-.94 2.06-2.06.94zm-11 1L8.5 8.5l.94-2.06 2.06-.94-2.06-.94L8.5 2.5l-.94 2.06-2.06.94zm10 10l.94 2.06.94-2.06 2.06-.94-2.06-.94-.94-2.06-.94 2.06-2.06.94z\"/><path d=\"M17.41 7.96l-1.37-1.37c-.4-.4-.92-.59-1.43-.59-.52 0-1.04.2-1.43.59L10.3 9.45l-7.72 7.72c-.78.78-.78 2.05 0 2.83L4 21.41c.39.39.9.59 1.41.59.51 0 1.02-.2 1.41-.59l7.78-7.78 2.81-2.81c.8-.78.8-2.07 0-2.86zM5.41 20L4 18.59l7.72-7.72 1.47 1.35L5.41 20z\"/>\n",
              "  </svg>\n",
              "      </button>\n",
              "      \n",
              "  <style>\n",
              "    .colab-df-container {\n",
              "      display:flex;\n",
              "      flex-wrap:wrap;\n",
              "      gap: 12px;\n",
              "    }\n",
              "\n",
              "    .colab-df-convert {\n",
              "      background-color: #E8F0FE;\n",
              "      border: none;\n",
              "      border-radius: 50%;\n",
              "      cursor: pointer;\n",
              "      display: none;\n",
              "      fill: #1967D2;\n",
              "      height: 32px;\n",
              "      padding: 0 0 0 0;\n",
              "      width: 32px;\n",
              "    }\n",
              "\n",
              "    .colab-df-convert:hover {\n",
              "      background-color: #E2EBFA;\n",
              "      box-shadow: 0px 1px 2px rgba(60, 64, 67, 0.3), 0px 1px 3px 1px rgba(60, 64, 67, 0.15);\n",
              "      fill: #174EA6;\n",
              "    }\n",
              "\n",
              "    [theme=dark] .colab-df-convert {\n",
              "      background-color: #3B4455;\n",
              "      fill: #D2E3FC;\n",
              "    }\n",
              "\n",
              "    [theme=dark] .colab-df-convert:hover {\n",
              "      background-color: #434B5C;\n",
              "      box-shadow: 0px 1px 3px 1px rgba(0, 0, 0, 0.15);\n",
              "      filter: drop-shadow(0px 1px 2px rgba(0, 0, 0, 0.3));\n",
              "      fill: #FFFFFF;\n",
              "    }\n",
              "  </style>\n",
              "\n",
              "      <script>\n",
              "        const buttonEl =\n",
              "          document.querySelector('#df-d585e76d-7d4a-46eb-8342-952a7f440dde button.colab-df-convert');\n",
              "        buttonEl.style.display =\n",
              "          google.colab.kernel.accessAllowed ? 'block' : 'none';\n",
              "\n",
              "        async function convertToInteractive(key) {\n",
              "          const element = document.querySelector('#df-d585e76d-7d4a-46eb-8342-952a7f440dde');\n",
              "          const dataTable =\n",
              "            await google.colab.kernel.invokeFunction('convertToInteractive',\n",
              "                                                     [key], {});\n",
              "          if (!dataTable) return;\n",
              "\n",
              "          const docLinkHtml = 'Like what you see? Visit the ' +\n",
              "            '<a target=\"_blank\" href=https://colab.research.google.com/notebooks/data_table.ipynb>data table notebook</a>'\n",
              "            + ' to learn more about interactive tables.';\n",
              "          element.innerHTML = '';\n",
              "          dataTable['output_type'] = 'display_data';\n",
              "          await google.colab.output.renderOutput(dataTable, element);\n",
              "          const docLink = document.createElement('div');\n",
              "          docLink.innerHTML = docLinkHtml;\n",
              "          element.appendChild(docLink);\n",
              "        }\n",
              "      </script>\n",
              "    </div>\n",
              "  </div>\n",
              "  "
            ]
          },
          "metadata": {}
        },
        {
          "output_type": "display_data",
          "data": {
            "text/plain": [
              "                    mean      diff      risk\n",
              "isactivemember                              \n",
              "0               0.268424  0.065674  1.323915\n",
              "1               0.140029 -0.062721  0.690650"
            ],
            "text/html": [
              "\n",
              "  <div id=\"df-9c451699-9196-4498-99d7-81928ddb180f\">\n",
              "    <div class=\"colab-df-container\">\n",
              "      <div>\n",
              "<style scoped>\n",
              "    .dataframe tbody tr th:only-of-type {\n",
              "        vertical-align: middle;\n",
              "    }\n",
              "\n",
              "    .dataframe tbody tr th {\n",
              "        vertical-align: top;\n",
              "    }\n",
              "\n",
              "    .dataframe thead th {\n",
              "        text-align: right;\n",
              "    }\n",
              "</style>\n",
              "<table border=\"1\" class=\"dataframe\">\n",
              "  <thead>\n",
              "    <tr style=\"text-align: right;\">\n",
              "      <th></th>\n",
              "      <th>mean</th>\n",
              "      <th>diff</th>\n",
              "      <th>risk</th>\n",
              "    </tr>\n",
              "    <tr>\n",
              "      <th>isactivemember</th>\n",
              "      <th></th>\n",
              "      <th></th>\n",
              "      <th></th>\n",
              "    </tr>\n",
              "  </thead>\n",
              "  <tbody>\n",
              "    <tr>\n",
              "      <th>0</th>\n",
              "      <td>0.268424</td>\n",
              "      <td>0.065674</td>\n",
              "      <td>1.323915</td>\n",
              "    </tr>\n",
              "    <tr>\n",
              "      <th>1</th>\n",
              "      <td>0.140029</td>\n",
              "      <td>-0.062721</td>\n",
              "      <td>0.690650</td>\n",
              "    </tr>\n",
              "  </tbody>\n",
              "</table>\n",
              "</div>\n",
              "      <button class=\"colab-df-convert\" onclick=\"convertToInteractive('df-9c451699-9196-4498-99d7-81928ddb180f')\"\n",
              "              title=\"Convert this dataframe to an interactive table.\"\n",
              "              style=\"display:none;\">\n",
              "        \n",
              "  <svg xmlns=\"http://www.w3.org/2000/svg\" height=\"24px\"viewBox=\"0 0 24 24\"\n",
              "       width=\"24px\">\n",
              "    <path d=\"M0 0h24v24H0V0z\" fill=\"none\"/>\n",
              "    <path d=\"M18.56 5.44l.94 2.06.94-2.06 2.06-.94-2.06-.94-.94-2.06-.94 2.06-2.06.94zm-11 1L8.5 8.5l.94-2.06 2.06-.94-2.06-.94L8.5 2.5l-.94 2.06-2.06.94zm10 10l.94 2.06.94-2.06 2.06-.94-2.06-.94-.94-2.06-.94 2.06-2.06.94z\"/><path d=\"M17.41 7.96l-1.37-1.37c-.4-.4-.92-.59-1.43-.59-.52 0-1.04.2-1.43.59L10.3 9.45l-7.72 7.72c-.78.78-.78 2.05 0 2.83L4 21.41c.39.39.9.59 1.41.59.51 0 1.02-.2 1.41-.59l7.78-7.78 2.81-2.81c.8-.78.8-2.07 0-2.86zM5.41 20L4 18.59l7.72-7.72 1.47 1.35L5.41 20z\"/>\n",
              "  </svg>\n",
              "      </button>\n",
              "      \n",
              "  <style>\n",
              "    .colab-df-container {\n",
              "      display:flex;\n",
              "      flex-wrap:wrap;\n",
              "      gap: 12px;\n",
              "    }\n",
              "\n",
              "    .colab-df-convert {\n",
              "      background-color: #E8F0FE;\n",
              "      border: none;\n",
              "      border-radius: 50%;\n",
              "      cursor: pointer;\n",
              "      display: none;\n",
              "      fill: #1967D2;\n",
              "      height: 32px;\n",
              "      padding: 0 0 0 0;\n",
              "      width: 32px;\n",
              "    }\n",
              "\n",
              "    .colab-df-convert:hover {\n",
              "      background-color: #E2EBFA;\n",
              "      box-shadow: 0px 1px 2px rgba(60, 64, 67, 0.3), 0px 1px 3px 1px rgba(60, 64, 67, 0.15);\n",
              "      fill: #174EA6;\n",
              "    }\n",
              "\n",
              "    [theme=dark] .colab-df-convert {\n",
              "      background-color: #3B4455;\n",
              "      fill: #D2E3FC;\n",
              "    }\n",
              "\n",
              "    [theme=dark] .colab-df-convert:hover {\n",
              "      background-color: #434B5C;\n",
              "      box-shadow: 0px 1px 3px 1px rgba(0, 0, 0, 0.15);\n",
              "      filter: drop-shadow(0px 1px 2px rgba(0, 0, 0, 0.3));\n",
              "      fill: #FFFFFF;\n",
              "    }\n",
              "  </style>\n",
              "\n",
              "      <script>\n",
              "        const buttonEl =\n",
              "          document.querySelector('#df-9c451699-9196-4498-99d7-81928ddb180f button.colab-df-convert');\n",
              "        buttonEl.style.display =\n",
              "          google.colab.kernel.accessAllowed ? 'block' : 'none';\n",
              "\n",
              "        async function convertToInteractive(key) {\n",
              "          const element = document.querySelector('#df-9c451699-9196-4498-99d7-81928ddb180f');\n",
              "          const dataTable =\n",
              "            await google.colab.kernel.invokeFunction('convertToInteractive',\n",
              "                                                     [key], {});\n",
              "          if (!dataTable) return;\n",
              "\n",
              "          const docLinkHtml = 'Like what you see? Visit the ' +\n",
              "            '<a target=\"_blank\" href=https://colab.research.google.com/notebooks/data_table.ipynb>data table notebook</a>'\n",
              "            + ' to learn more about interactive tables.';\n",
              "          element.innerHTML = '';\n",
              "          dataTable['output_type'] = 'display_data';\n",
              "          await google.colab.output.renderOutput(dataTable, element);\n",
              "          const docLink = document.createElement('div');\n",
              "          docLink.innerHTML = docLinkHtml;\n",
              "          element.appendChild(docLink);\n",
              "        }\n",
              "      </script>\n",
              "    </div>\n",
              "  </div>\n",
              "  "
            ]
          },
          "metadata": {}
        }
      ]
    },
    {
      "cell_type": "markdown",
      "source": [
        "Compute Mutual Information Scores"
      ],
      "metadata": {
        "id": "DEykLjOvEDPZ"
      }
    },
    {
      "cell_type": "code",
      "source": [
        "from sklearn.metrics import mutual_info_score\n",
        "def calculate_mi(series):\n",
        "    return mutual_info_score(series, df_train_full.exited)\n",
        "\n",
        "df_mi = df_train_full[categorical].apply(calculate_mi)\n",
        "df_mi = df_mi.sort_values(ascending=False).to_frame(name='MI')\n",
        "\n",
        "\n",
        "display(df_mi.head(10))\n",
        "display(df_mi.tail(5))\n",
        "\n",
        "# Most useful categorical numofproducts to exited according to MI score\n",
        "# Least useful categorical: tenure, hascrcard"
      ],
      "metadata": {
        "colab": {
          "base_uri": "https://localhost:8080/",
          "height": 427
        },
        "id": "4FBcOBS9NklJ",
        "outputId": "fc529dde-aad5-4e36-b8ca-0a9022831759"
      },
      "execution_count": null,
      "outputs": [
        {
          "output_type": "display_data",
          "data": {
            "text/plain": [
              "                      MI\n",
              "numofproducts   0.069025\n",
              "geography       0.013117\n",
              "isactivemember  0.012872\n",
              "gender          0.005598\n",
              "tenure          0.000904\n",
              "hascrcard       0.000100"
            ],
            "text/html": [
              "\n",
              "  <div id=\"df-12ebea78-cf01-4857-b9e5-f4aec78924ce\">\n",
              "    <div class=\"colab-df-container\">\n",
              "      <div>\n",
              "<style scoped>\n",
              "    .dataframe tbody tr th:only-of-type {\n",
              "        vertical-align: middle;\n",
              "    }\n",
              "\n",
              "    .dataframe tbody tr th {\n",
              "        vertical-align: top;\n",
              "    }\n",
              "\n",
              "    .dataframe thead th {\n",
              "        text-align: right;\n",
              "    }\n",
              "</style>\n",
              "<table border=\"1\" class=\"dataframe\">\n",
              "  <thead>\n",
              "    <tr style=\"text-align: right;\">\n",
              "      <th></th>\n",
              "      <th>MI</th>\n",
              "    </tr>\n",
              "  </thead>\n",
              "  <tbody>\n",
              "    <tr>\n",
              "      <th>numofproducts</th>\n",
              "      <td>0.069025</td>\n",
              "    </tr>\n",
              "    <tr>\n",
              "      <th>geography</th>\n",
              "      <td>0.013117</td>\n",
              "    </tr>\n",
              "    <tr>\n",
              "      <th>isactivemember</th>\n",
              "      <td>0.012872</td>\n",
              "    </tr>\n",
              "    <tr>\n",
              "      <th>gender</th>\n",
              "      <td>0.005598</td>\n",
              "    </tr>\n",
              "    <tr>\n",
              "      <th>tenure</th>\n",
              "      <td>0.000904</td>\n",
              "    </tr>\n",
              "    <tr>\n",
              "      <th>hascrcard</th>\n",
              "      <td>0.000100</td>\n",
              "    </tr>\n",
              "  </tbody>\n",
              "</table>\n",
              "</div>\n",
              "      <button class=\"colab-df-convert\" onclick=\"convertToInteractive('df-12ebea78-cf01-4857-b9e5-f4aec78924ce')\"\n",
              "              title=\"Convert this dataframe to an interactive table.\"\n",
              "              style=\"display:none;\">\n",
              "        \n",
              "  <svg xmlns=\"http://www.w3.org/2000/svg\" height=\"24px\"viewBox=\"0 0 24 24\"\n",
              "       width=\"24px\">\n",
              "    <path d=\"M0 0h24v24H0V0z\" fill=\"none\"/>\n",
              "    <path d=\"M18.56 5.44l.94 2.06.94-2.06 2.06-.94-2.06-.94-.94-2.06-.94 2.06-2.06.94zm-11 1L8.5 8.5l.94-2.06 2.06-.94-2.06-.94L8.5 2.5l-.94 2.06-2.06.94zm10 10l.94 2.06.94-2.06 2.06-.94-2.06-.94-.94-2.06-.94 2.06-2.06.94z\"/><path d=\"M17.41 7.96l-1.37-1.37c-.4-.4-.92-.59-1.43-.59-.52 0-1.04.2-1.43.59L10.3 9.45l-7.72 7.72c-.78.78-.78 2.05 0 2.83L4 21.41c.39.39.9.59 1.41.59.51 0 1.02-.2 1.41-.59l7.78-7.78 2.81-2.81c.8-.78.8-2.07 0-2.86zM5.41 20L4 18.59l7.72-7.72 1.47 1.35L5.41 20z\"/>\n",
              "  </svg>\n",
              "      </button>\n",
              "      \n",
              "  <style>\n",
              "    .colab-df-container {\n",
              "      display:flex;\n",
              "      flex-wrap:wrap;\n",
              "      gap: 12px;\n",
              "    }\n",
              "\n",
              "    .colab-df-convert {\n",
              "      background-color: #E8F0FE;\n",
              "      border: none;\n",
              "      border-radius: 50%;\n",
              "      cursor: pointer;\n",
              "      display: none;\n",
              "      fill: #1967D2;\n",
              "      height: 32px;\n",
              "      padding: 0 0 0 0;\n",
              "      width: 32px;\n",
              "    }\n",
              "\n",
              "    .colab-df-convert:hover {\n",
              "      background-color: #E2EBFA;\n",
              "      box-shadow: 0px 1px 2px rgba(60, 64, 67, 0.3), 0px 1px 3px 1px rgba(60, 64, 67, 0.15);\n",
              "      fill: #174EA6;\n",
              "    }\n",
              "\n",
              "    [theme=dark] .colab-df-convert {\n",
              "      background-color: #3B4455;\n",
              "      fill: #D2E3FC;\n",
              "    }\n",
              "\n",
              "    [theme=dark] .colab-df-convert:hover {\n",
              "      background-color: #434B5C;\n",
              "      box-shadow: 0px 1px 3px 1px rgba(0, 0, 0, 0.15);\n",
              "      filter: drop-shadow(0px 1px 2px rgba(0, 0, 0, 0.3));\n",
              "      fill: #FFFFFF;\n",
              "    }\n",
              "  </style>\n",
              "\n",
              "      <script>\n",
              "        const buttonEl =\n",
              "          document.querySelector('#df-12ebea78-cf01-4857-b9e5-f4aec78924ce button.colab-df-convert');\n",
              "        buttonEl.style.display =\n",
              "          google.colab.kernel.accessAllowed ? 'block' : 'none';\n",
              "\n",
              "        async function convertToInteractive(key) {\n",
              "          const element = document.querySelector('#df-12ebea78-cf01-4857-b9e5-f4aec78924ce');\n",
              "          const dataTable =\n",
              "            await google.colab.kernel.invokeFunction('convertToInteractive',\n",
              "                                                     [key], {});\n",
              "          if (!dataTable) return;\n",
              "\n",
              "          const docLinkHtml = 'Like what you see? Visit the ' +\n",
              "            '<a target=\"_blank\" href=https://colab.research.google.com/notebooks/data_table.ipynb>data table notebook</a>'\n",
              "            + ' to learn more about interactive tables.';\n",
              "          element.innerHTML = '';\n",
              "          dataTable['output_type'] = 'display_data';\n",
              "          await google.colab.output.renderOutput(dataTable, element);\n",
              "          const docLink = document.createElement('div');\n",
              "          docLink.innerHTML = docLinkHtml;\n",
              "          element.appendChild(docLink);\n",
              "        }\n",
              "      </script>\n",
              "    </div>\n",
              "  </div>\n",
              "  "
            ]
          },
          "metadata": {}
        },
        {
          "output_type": "display_data",
          "data": {
            "text/plain": [
              "                      MI\n",
              "geography       0.013117\n",
              "isactivemember  0.012872\n",
              "gender          0.005598\n",
              "tenure          0.000904\n",
              "hascrcard       0.000100"
            ],
            "text/html": [
              "\n",
              "  <div id=\"df-504650c7-ac19-48d4-a5cb-82663b901798\">\n",
              "    <div class=\"colab-df-container\">\n",
              "      <div>\n",
              "<style scoped>\n",
              "    .dataframe tbody tr th:only-of-type {\n",
              "        vertical-align: middle;\n",
              "    }\n",
              "\n",
              "    .dataframe tbody tr th {\n",
              "        vertical-align: top;\n",
              "    }\n",
              "\n",
              "    .dataframe thead th {\n",
              "        text-align: right;\n",
              "    }\n",
              "</style>\n",
              "<table border=\"1\" class=\"dataframe\">\n",
              "  <thead>\n",
              "    <tr style=\"text-align: right;\">\n",
              "      <th></th>\n",
              "      <th>MI</th>\n",
              "    </tr>\n",
              "  </thead>\n",
              "  <tbody>\n",
              "    <tr>\n",
              "      <th>geography</th>\n",
              "      <td>0.013117</td>\n",
              "    </tr>\n",
              "    <tr>\n",
              "      <th>isactivemember</th>\n",
              "      <td>0.012872</td>\n",
              "    </tr>\n",
              "    <tr>\n",
              "      <th>gender</th>\n",
              "      <td>0.005598</td>\n",
              "    </tr>\n",
              "    <tr>\n",
              "      <th>tenure</th>\n",
              "      <td>0.000904</td>\n",
              "    </tr>\n",
              "    <tr>\n",
              "      <th>hascrcard</th>\n",
              "      <td>0.000100</td>\n",
              "    </tr>\n",
              "  </tbody>\n",
              "</table>\n",
              "</div>\n",
              "      <button class=\"colab-df-convert\" onclick=\"convertToInteractive('df-504650c7-ac19-48d4-a5cb-82663b901798')\"\n",
              "              title=\"Convert this dataframe to an interactive table.\"\n",
              "              style=\"display:none;\">\n",
              "        \n",
              "  <svg xmlns=\"http://www.w3.org/2000/svg\" height=\"24px\"viewBox=\"0 0 24 24\"\n",
              "       width=\"24px\">\n",
              "    <path d=\"M0 0h24v24H0V0z\" fill=\"none\"/>\n",
              "    <path d=\"M18.56 5.44l.94 2.06.94-2.06 2.06-.94-2.06-.94-.94-2.06-.94 2.06-2.06.94zm-11 1L8.5 8.5l.94-2.06 2.06-.94-2.06-.94L8.5 2.5l-.94 2.06-2.06.94zm10 10l.94 2.06.94-2.06 2.06-.94-2.06-.94-.94-2.06-.94 2.06-2.06.94z\"/><path d=\"M17.41 7.96l-1.37-1.37c-.4-.4-.92-.59-1.43-.59-.52 0-1.04.2-1.43.59L10.3 9.45l-7.72 7.72c-.78.78-.78 2.05 0 2.83L4 21.41c.39.39.9.59 1.41.59.51 0 1.02-.2 1.41-.59l7.78-7.78 2.81-2.81c.8-.78.8-2.07 0-2.86zM5.41 20L4 18.59l7.72-7.72 1.47 1.35L5.41 20z\"/>\n",
              "  </svg>\n",
              "      </button>\n",
              "      \n",
              "  <style>\n",
              "    .colab-df-container {\n",
              "      display:flex;\n",
              "      flex-wrap:wrap;\n",
              "      gap: 12px;\n",
              "    }\n",
              "\n",
              "    .colab-df-convert {\n",
              "      background-color: #E8F0FE;\n",
              "      border: none;\n",
              "      border-radius: 50%;\n",
              "      cursor: pointer;\n",
              "      display: none;\n",
              "      fill: #1967D2;\n",
              "      height: 32px;\n",
              "      padding: 0 0 0 0;\n",
              "      width: 32px;\n",
              "    }\n",
              "\n",
              "    .colab-df-convert:hover {\n",
              "      background-color: #E2EBFA;\n",
              "      box-shadow: 0px 1px 2px rgba(60, 64, 67, 0.3), 0px 1px 3px 1px rgba(60, 64, 67, 0.15);\n",
              "      fill: #174EA6;\n",
              "    }\n",
              "\n",
              "    [theme=dark] .colab-df-convert {\n",
              "      background-color: #3B4455;\n",
              "      fill: #D2E3FC;\n",
              "    }\n",
              "\n",
              "    [theme=dark] .colab-df-convert:hover {\n",
              "      background-color: #434B5C;\n",
              "      box-shadow: 0px 1px 3px 1px rgba(0, 0, 0, 0.15);\n",
              "      filter: drop-shadow(0px 1px 2px rgba(0, 0, 0, 0.3));\n",
              "      fill: #FFFFFF;\n",
              "    }\n",
              "  </style>\n",
              "\n",
              "      <script>\n",
              "        const buttonEl =\n",
              "          document.querySelector('#df-504650c7-ac19-48d4-a5cb-82663b901798 button.colab-df-convert');\n",
              "        buttonEl.style.display =\n",
              "          google.colab.kernel.accessAllowed ? 'block' : 'none';\n",
              "\n",
              "        async function convertToInteractive(key) {\n",
              "          const element = document.querySelector('#df-504650c7-ac19-48d4-a5cb-82663b901798');\n",
              "          const dataTable =\n",
              "            await google.colab.kernel.invokeFunction('convertToInteractive',\n",
              "                                                     [key], {});\n",
              "          if (!dataTable) return;\n",
              "\n",
              "          const docLinkHtml = 'Like what you see? Visit the ' +\n",
              "            '<a target=\"_blank\" href=https://colab.research.google.com/notebooks/data_table.ipynb>data table notebook</a>'\n",
              "            + ' to learn more about interactive tables.';\n",
              "          element.innerHTML = '';\n",
              "          dataTable['output_type'] = 'display_data';\n",
              "          await google.colab.output.renderOutput(dataTable, element);\n",
              "          const docLink = document.createElement('div');\n",
              "          docLink.innerHTML = docLinkHtml;\n",
              "          element.appendChild(docLink);\n",
              "        }\n",
              "      </script>\n",
              "    </div>\n",
              "  </div>\n",
              "  "
            ]
          },
          "metadata": {}
        }
      ]
    },
    {
      "cell_type": "markdown",
      "source": [
        "# One Hot Encoding"
      ],
      "metadata": {
        "id": "UsPLI0SQOYOA"
      }
    },
    {
      "cell_type": "code",
      "source": [
        "from sklearn.feature_extraction import DictVectorizer\n",
        "train_dict = df_train[categorical + numerical].to_dict(orient='records')\n"
      ],
      "metadata": {
        "id": "VoJDNknoR-8p"
      },
      "execution_count": null,
      "outputs": []
    },
    {
      "cell_type": "code",
      "source": [
        "train_dict[0]"
      ],
      "metadata": {
        "colab": {
          "base_uri": "https://localhost:8080/"
        },
        "id": "7lR94HlCSItY",
        "outputId": "b2d2b2d6-e0ab-46cc-f124-e63913d5439c"
      },
      "execution_count": null,
      "outputs": [
        {
          "output_type": "execute_result",
          "data": {
            "text/plain": [
              "{'geography': 'spain',\n",
              " 'gender': 'male',\n",
              " 'tenure': 9,\n",
              " 'numofproducts': 2,\n",
              " 'hascrcard': 1,\n",
              " 'isactivemember': 0,\n",
              " 'creditscore': 648,\n",
              " 'age': 46,\n",
              " 'balance': 127209.0,\n",
              " 'estimatedsalary': 77405.95}"
            ]
          },
          "metadata": {},
          "execution_count": 47
        }
      ]
    },
    {
      "cell_type": "code",
      "source": [
        "dv = DictVectorizer(sparse=False)\n",
        "dv.fit(train_dict)"
      ],
      "metadata": {
        "colab": {
          "base_uri": "https://localhost:8080/",
          "height": 75
        },
        "id": "-t3IqFV6SKP1",
        "outputId": "e36e0e65-adc8-494a-eb05-85bfd1ed09b2"
      },
      "execution_count": null,
      "outputs": [
        {
          "output_type": "execute_result",
          "data": {
            "text/plain": [
              "DictVectorizer(sparse=False)"
            ],
            "text/html": [
              "<style>#sk-container-id-1 {color: black;background-color: white;}#sk-container-id-1 pre{padding: 0;}#sk-container-id-1 div.sk-toggleable {background-color: white;}#sk-container-id-1 label.sk-toggleable__label {cursor: pointer;display: block;width: 100%;margin-bottom: 0;padding: 0.3em;box-sizing: border-box;text-align: center;}#sk-container-id-1 label.sk-toggleable__label-arrow:before {content: \"▸\";float: left;margin-right: 0.25em;color: #696969;}#sk-container-id-1 label.sk-toggleable__label-arrow:hover:before {color: black;}#sk-container-id-1 div.sk-estimator:hover label.sk-toggleable__label-arrow:before {color: black;}#sk-container-id-1 div.sk-toggleable__content {max-height: 0;max-width: 0;overflow: hidden;text-align: left;background-color: #f0f8ff;}#sk-container-id-1 div.sk-toggleable__content pre {margin: 0.2em;color: black;border-radius: 0.25em;background-color: #f0f8ff;}#sk-container-id-1 input.sk-toggleable__control:checked~div.sk-toggleable__content {max-height: 200px;max-width: 100%;overflow: auto;}#sk-container-id-1 input.sk-toggleable__control:checked~label.sk-toggleable__label-arrow:before {content: \"▾\";}#sk-container-id-1 div.sk-estimator input.sk-toggleable__control:checked~label.sk-toggleable__label {background-color: #d4ebff;}#sk-container-id-1 div.sk-label input.sk-toggleable__control:checked~label.sk-toggleable__label {background-color: #d4ebff;}#sk-container-id-1 input.sk-hidden--visually {border: 0;clip: rect(1px 1px 1px 1px);clip: rect(1px, 1px, 1px, 1px);height: 1px;margin: -1px;overflow: hidden;padding: 0;position: absolute;width: 1px;}#sk-container-id-1 div.sk-estimator {font-family: monospace;background-color: #f0f8ff;border: 1px dotted black;border-radius: 0.25em;box-sizing: border-box;margin-bottom: 0.5em;}#sk-container-id-1 div.sk-estimator:hover {background-color: #d4ebff;}#sk-container-id-1 div.sk-parallel-item::after {content: \"\";width: 100%;border-bottom: 1px solid gray;flex-grow: 1;}#sk-container-id-1 div.sk-label:hover label.sk-toggleable__label {background-color: #d4ebff;}#sk-container-id-1 div.sk-serial::before {content: \"\";position: absolute;border-left: 1px solid gray;box-sizing: border-box;top: 0;bottom: 0;left: 50%;z-index: 0;}#sk-container-id-1 div.sk-serial {display: flex;flex-direction: column;align-items: center;background-color: white;padding-right: 0.2em;padding-left: 0.2em;position: relative;}#sk-container-id-1 div.sk-item {position: relative;z-index: 1;}#sk-container-id-1 div.sk-parallel {display: flex;align-items: stretch;justify-content: center;background-color: white;position: relative;}#sk-container-id-1 div.sk-item::before, #sk-container-id-1 div.sk-parallel-item::before {content: \"\";position: absolute;border-left: 1px solid gray;box-sizing: border-box;top: 0;bottom: 0;left: 50%;z-index: -1;}#sk-container-id-1 div.sk-parallel-item {display: flex;flex-direction: column;z-index: 1;position: relative;background-color: white;}#sk-container-id-1 div.sk-parallel-item:first-child::after {align-self: flex-end;width: 50%;}#sk-container-id-1 div.sk-parallel-item:last-child::after {align-self: flex-start;width: 50%;}#sk-container-id-1 div.sk-parallel-item:only-child::after {width: 0;}#sk-container-id-1 div.sk-dashed-wrapped {border: 1px dashed gray;margin: 0 0.4em 0.5em 0.4em;box-sizing: border-box;padding-bottom: 0.4em;background-color: white;}#sk-container-id-1 div.sk-label label {font-family: monospace;font-weight: bold;display: inline-block;line-height: 1.2em;}#sk-container-id-1 div.sk-label-container {text-align: center;}#sk-container-id-1 div.sk-container {/* jupyter's `normalize.less` sets `[hidden] { display: none; }` but bootstrap.min.css set `[hidden] { display: none !important; }` so we also need the `!important` here to be able to override the default hidden behavior on the sphinx rendered scikit-learn.org. See: https://github.com/scikit-learn/scikit-learn/issues/21755 */display: inline-block !important;position: relative;}#sk-container-id-1 div.sk-text-repr-fallback {display: none;}</style><div id=\"sk-container-id-1\" class=\"sk-top-container\"><div class=\"sk-text-repr-fallback\"><pre>DictVectorizer(sparse=False)</pre><b>In a Jupyter environment, please rerun this cell to show the HTML representation or trust the notebook. <br />On GitHub, the HTML representation is unable to render, please try loading this page with nbviewer.org.</b></div><div class=\"sk-container\" hidden><div class=\"sk-item\"><div class=\"sk-estimator sk-toggleable\"><input class=\"sk-toggleable__control sk-hidden--visually\" id=\"sk-estimator-id-1\" type=\"checkbox\" checked><label for=\"sk-estimator-id-1\" class=\"sk-toggleable__label sk-toggleable__label-arrow\">DictVectorizer</label><div class=\"sk-toggleable__content\"><pre>DictVectorizer(sparse=False)</pre></div></div></div></div></div>"
            ]
          },
          "metadata": {},
          "execution_count": 46
        }
      ]
    },
    {
      "cell_type": "code",
      "source": [
        "X_train = dv.transform(train_dict)\n",
        "X_train.shape"
      ],
      "metadata": {
        "colab": {
          "base_uri": "https://localhost:8080/"
        },
        "id": "LDGG5sw9SiJl",
        "outputId": "b98bd7f4-3c08-4519-d7a5-4887b201494b"
      },
      "execution_count": null,
      "outputs": [
        {
          "output_type": "execute_result",
          "data": {
            "text/plain": [
              "(5360, 13)"
            ]
          },
          "metadata": {},
          "execution_count": 47
        }
      ]
    },
    {
      "cell_type": "code",
      "source": [
        "type(X_train)"
      ],
      "metadata": {
        "id": "q7qgTZISh1Op",
        "outputId": "2462b44a-4b06-4f1b-aa8c-3ed81d4b78e0",
        "colab": {
          "base_uri": "https://localhost:8080/"
        }
      },
      "execution_count": null,
      "outputs": [
        {
          "output_type": "execute_result",
          "data": {
            "text/plain": [
              "numpy.ndarray"
            ]
          },
          "metadata": {},
          "execution_count": 48
        }
      ]
    },
    {
      "cell_type": "code",
      "source": [
        "dv.feature_names_"
      ],
      "metadata": {
        "colab": {
          "base_uri": "https://localhost:8080/"
        },
        "id": "Zre_QMJlSqw2",
        "outputId": "ed5723bd-4f0e-47a6-a778-e28b98bee29f"
      },
      "execution_count": null,
      "outputs": [
        {
          "output_type": "execute_result",
          "data": {
            "text/plain": [
              "['age',\n",
              " 'balance',\n",
              " 'creditscore',\n",
              " 'estimatedsalary',\n",
              " 'gender=female',\n",
              " 'gender=male',\n",
              " 'geography=france',\n",
              " 'geography=germany',\n",
              " 'geography=spain',\n",
              " 'hascrcard',\n",
              " 'isactivemember',\n",
              " 'numofproducts',\n",
              " 'tenure']"
            ]
          },
          "metadata": {},
          "execution_count": 49
        }
      ]
    },
    {
      "cell_type": "markdown",
      "source": [
        "# Train our Logistic Regression Model"
      ],
      "metadata": {
        "id": "hs9gfFAaS_iY"
      }
    },
    {
      "cell_type": "code",
      "source": [
        "from sklearn.linear_model import LogisticRegression\n",
        "model = LogisticRegression(solver='liblinear', random_state=1)\n",
        "model.fit(X_train, y_train)\n",
        "\n",
        "val_dict = df_val[categorical + numerical].to_dict(orient='records')\n",
        "X_val = dv.transform(val_dict)\n",
        "\n",
        "y_pred = model.predict_proba(X_val)\n",
        "\n",
        "y_pred\n",
        "\n",
        "y_pred = model.predict_proba(X_val)[:,1]\n",
        "y_pred\n",
        "\n",
        "\n"
      ],
      "metadata": {
        "id": "0vQEFEpXFkoS",
        "outputId": "d8d357ab-9e95-4dae-d538-eecac3089dae",
        "colab": {
          "base_uri": "https://localhost:8080/"
        }
      },
      "execution_count": null,
      "outputs": [
        {
          "output_type": "execute_result",
          "data": {
            "text/plain": [
              "array([0.08624693, 0.08447113, 0.25434001, ..., 0.28506909, 0.29989179,\n",
              "       0.17403539])"
            ]
          },
          "metadata": {},
          "execution_count": 50
        }
      ]
    },
    {
      "cell_type": "code",
      "source": [
        "len(y_val)"
      ],
      "metadata": {
        "id": "95VB2e4LIgYQ",
        "outputId": "247635f6-3876-4275-9c4b-e2c9076cc76d",
        "colab": {
          "base_uri": "https://localhost:8080/"
        }
      },
      "execution_count": null,
      "outputs": [
        {
          "output_type": "execute_result",
          "data": {
            "text/plain": [
              "2640"
            ]
          },
          "metadata": {},
          "execution_count": 51
        }
      ]
    },
    {
      "cell_type": "code",
      "source": [
        "len(y_pred)"
      ],
      "metadata": {
        "id": "_s-3Ry-7Ii12",
        "outputId": "dacf7607-57b3-40ab-98df-5ee3de71740a",
        "colab": {
          "base_uri": "https://localhost:8080/"
        }
      },
      "execution_count": null,
      "outputs": [
        {
          "output_type": "execute_result",
          "data": {
            "text/plain": [
              "2640"
            ]
          },
          "metadata": {},
          "execution_count": 52
        }
      ]
    },
    {
      "cell_type": "code",
      "source": [
        "len(X_train)"
      ],
      "metadata": {
        "id": "2QwMeRhUIm2X",
        "outputId": "6c994c2d-b184-4806-d05a-67c0a1aadb78",
        "colab": {
          "base_uri": "https://localhost:8080/"
        }
      },
      "execution_count": null,
      "outputs": [
        {
          "output_type": "execute_result",
          "data": {
            "text/plain": [
              "5360"
            ]
          },
          "metadata": {},
          "execution_count": 55
        }
      ]
    },
    {
      "cell_type": "code",
      "source": [
        "from sklearn.metrics import accuracy_score\n",
        "\n",
        "# Make predictions on the test set\n",
        "y_pred = model.predict(X_train)\n",
        "\n",
        "# Calculate the accuracy\n",
        "# accuracy = accuracy_score(y_test, y_pred)\n",
        "accuracy = accuracy_score(y_train, y_pred)\n",
        "print(f\"Test set accuracy: {accuracy:.2f}\")"
      ],
      "metadata": {
        "id": "sr8I0dXsD0ed",
        "outputId": "6f542966-b6ea-4761-a324-3838cf8e9d80",
        "colab": {
          "base_uri": "https://localhost:8080/"
        }
      },
      "execution_count": null,
      "outputs": [
        {
          "output_type": "stream",
          "name": "stdout",
          "text": [
            "Test set accuracy: 0.79\n"
          ]
        }
      ]
    },
    {
      "cell_type": "code",
      "source": [
        "val_dict = df_val[categorical + numerical].to_dict(orient='records')\n",
        "X_val = dv.transform(val_dict)"
      ],
      "metadata": {
        "id": "3p2nvD56S-Il"
      },
      "execution_count": null,
      "outputs": []
    },
    {
      "cell_type": "code",
      "source": [
        "y_pred = model.predict_proba(X_val)"
      ],
      "metadata": {
        "id": "_YbJsg8DTlqu"
      },
      "execution_count": null,
      "outputs": []
    },
    {
      "cell_type": "code",
      "source": [
        "y_pred"
      ],
      "metadata": {
        "colab": {
          "base_uri": "https://localhost:8080/"
        },
        "id": "gtIEb62NTqUn",
        "outputId": "4c87c46e-0b4d-46f6-91e3-265e02dae669"
      },
      "execution_count": null,
      "outputs": [
        {
          "output_type": "execute_result",
          "data": {
            "text/plain": [
              "array([[0.91375307, 0.08624693],\n",
              "       [0.91552887, 0.08447113],\n",
              "       [0.74565999, 0.25434001],\n",
              "       ...,\n",
              "       [0.71493091, 0.28506909],\n",
              "       [0.70010821, 0.29989179],\n",
              "       [0.82596461, 0.17403539]])"
            ]
          },
          "metadata": {},
          "execution_count": 56
        }
      ]
    },
    {
      "cell_type": "code",
      "source": [
        "y_pred = model.predict_proba(X_val)[:,1]\n",
        "y_pred"
      ],
      "metadata": {
        "colab": {
          "base_uri": "https://localhost:8080/"
        },
        "id": "pg_yfdP9TuI5",
        "outputId": "2466589d-8b53-4280-871a-f3ce0b69fd93"
      },
      "execution_count": null,
      "outputs": [
        {
          "output_type": "execute_result",
          "data": {
            "text/plain": [
              "array([0.08624693, 0.08447113, 0.25434001, ..., 0.28506909, 0.29989179,\n",
              "       0.17403539])"
            ]
          },
          "metadata": {},
          "execution_count": 57
        }
      ]
    },
    {
      "cell_type": "markdown",
      "source": [
        "Show Max & Min of y_pred"
      ],
      "metadata": {
        "id": "Te4GVTh8_uUL"
      }
    },
    {
      "cell_type": "code",
      "source": [
        "max(y_pred)"
      ],
      "metadata": {
        "colab": {
          "base_uri": "https://localhost:8080/"
        },
        "id": "1yeGaOBi_emM",
        "outputId": "54d07b58-2cbf-4503-c796-32510584d29f"
      },
      "execution_count": null,
      "outputs": [
        {
          "output_type": "execute_result",
          "data": {
            "text/plain": [
              "0.7592834881929926"
            ]
          },
          "metadata": {},
          "execution_count": 58
        }
      ]
    },
    {
      "cell_type": "code",
      "source": [
        "min(y_pred)"
      ],
      "metadata": {
        "colab": {
          "base_uri": "https://localhost:8080/"
        },
        "id": "D8d2leb4_rn2",
        "outputId": "612fbdb3-351e-4031-b1b8-86fe06233992"
      },
      "execution_count": null,
      "outputs": [
        {
          "output_type": "execute_result",
          "data": {
            "text/plain": [
              "0.03685726521795917"
            ]
          },
          "metadata": {},
          "execution_count": 59
        }
      ]
    },
    {
      "cell_type": "code",
      "source": [
        "exited = y_pred > 0.5"
      ],
      "metadata": {
        "id": "nXlRuRYhUu0g"
      },
      "execution_count": null,
      "outputs": []
    },
    {
      "cell_type": "code",
      "source": [
        "(y_val == exited).mean()"
      ],
      "metadata": {
        "colab": {
          "base_uri": "https://localhost:8080/"
        },
        "id": "wMtZ_nVrUynI",
        "outputId": "aa4e7c59-489b-41cd-9571-ec254ddf8f3e"
      },
      "execution_count": null,
      "outputs": [
        {
          "output_type": "execute_result",
          "data": {
            "text/plain": [
              "0.7901515151515152"
            ]
          },
          "metadata": {},
          "execution_count": 61
        }
      ]
    },
    {
      "cell_type": "markdown",
      "source": [
        "Show Y intercept"
      ],
      "metadata": {
        "id": "mywF4KrMEZ4h"
      }
    },
    {
      "cell_type": "code",
      "source": [
        "model.intercept_[0]"
      ],
      "metadata": {
        "colab": {
          "base_uri": "https://localhost:8080/"
        },
        "id": "FWB01DinWlRf",
        "outputId": "cd0d0197-e959-4fc0-9b9f-80086e6bec87"
      },
      "execution_count": null,
      "outputs": [
        {
          "output_type": "execute_result",
          "data": {
            "text/plain": [
              "-0.0005703091676461757"
            ]
          },
          "metadata": {},
          "execution_count": 62
        }
      ]
    },
    {
      "cell_type": "markdown",
      "source": [
        "Show Coefficients"
      ],
      "metadata": {
        "id": "viOTFEA4EddQ"
      }
    },
    {
      "cell_type": "code",
      "source": [
        "dict(zip(dv.feature_names_, model.coef_[0].round(7)))"
      ],
      "metadata": {
        "colab": {
          "base_uri": "https://localhost:8080/"
        },
        "id": "OfFj-qgSXjqx",
        "outputId": "f79a34ff-80ff-4b5a-8113-78b718be755d"
      },
      "execution_count": null,
      "outputs": [
        {
          "output_type": "execute_result",
          "data": {
            "text/plain": [
              "{'age': 0.0413732,\n",
              " 'balance': 3.3e-06,\n",
              " 'creditscore': -0.0048121,\n",
              " 'estimatedsalary': -1.5e-06,\n",
              " 'gender=female': 0.0015991,\n",
              " 'gender=male': -0.0021694,\n",
              " 'geography=france': -0.0016313,\n",
              " 'geography=germany': 0.0016032,\n",
              " 'geography=spain': -0.0005422,\n",
              " 'hascrcard': -0.0007043,\n",
              " 'isactivemember': -0.0031144,\n",
              " 'numofproducts': -0.0010604,\n",
              " 'tenure': -0.0056406}"
            ]
          },
          "metadata": {},
          "execution_count": 63
        }
      ]
    },
    {
      "cell_type": "markdown",
      "source": [
        "# Let's use the model on a few single records from the dataset to check their predict probablity\n",
        "\n",
        "\n"
      ],
      "metadata": {
        "id": "xfMCH67kaiXl"
      }
    },
    {
      "cell_type": "code",
      "source": [
        "customer = {\n",
        "    'creditscore' : 549,\n",
        "    'geography' : 'spain',\n",
        "    'gender' : 'female',\n",
        "    'age' :   24,\n",
        "    'tenure' : 9,\n",
        "    'balance' : 0,\n",
        "    'numofproducts' : 2,\n",
        "    'hascrcard' : 1,\n",
        "    'isactivemember' : 1,\n",
        "    'estimatedsalary' : 14406.41\n",
        "}"
      ],
      "metadata": {
        "id": "LZl2GGlb2iFh"
      },
      "execution_count": null,
      "outputs": []
    },
    {
      "cell_type": "code",
      "source": [
        "X_test = dv.transform([customer])\n",
        "model.predict_proba(X_test)[0, 1]"
      ],
      "metadata": {
        "id": "nJU4YIp4boKF",
        "outputId": "a3d5df2d-c579-49df-ec1b-45161656b086",
        "colab": {
          "base_uri": "https://localhost:8080/"
        }
      },
      "execution_count": null,
      "outputs": [
        {
          "output_type": "execute_result",
          "data": {
            "text/plain": [
              "0.15102699837385597"
            ]
          },
          "metadata": {},
          "execution_count": 65
        }
      ]
    },
    {
      "cell_type": "code",
      "source": [
        "print(list(X_test[0]))"
      ],
      "metadata": {
        "colab": {
          "base_uri": "https://localhost:8080/"
        },
        "id": "yIqvmeu_5FJG",
        "outputId": "f22cc99c-4bbe-48fd-8377-c2be3d339f33"
      },
      "execution_count": null,
      "outputs": [
        {
          "output_type": "stream",
          "name": "stdout",
          "text": [
            "[24.0, 0.0, 549.0, 14406.41, 1.0, 0.0, 0.0, 0.0, 1.0, 1.0, 1.0, 2.0, 9.0]\n"
          ]
        }
      ]
    },
    {
      "cell_type": "code",
      "source": [
        "customer = {\n",
        "   'creditscore' : 475,\n",
        "    'geography' : 'france',\n",
        "    'gender' : 'female',\n",
        "    'age' :   45,\n",
        "    'tenure' : 0,\n",
        "    'balance' : 134264.04,\n",
        "    'numofproducts' : 1,\n",
        "    'hascrcard' : 1,\n",
        "    'isactivemember' : 0,\n",
        "    'estimatedsalary' : 27822.99 \n",
        "\n",
        "}"
      ],
      "metadata": {
        "id": "x9k30_KB7G_x"
      },
      "execution_count": null,
      "outputs": []
    },
    {
      "cell_type": "code",
      "source": [
        "X_test = dv.transform([customer])\n",
        "model.predict_proba(X_test)[0, 1]"
      ],
      "metadata": {
        "colab": {
          "base_uri": "https://localhost:8080/"
        },
        "outputId": "0ce879a6-21b3-4c67-c94e-6c489a085b48",
        "id": "HC9q_aG68CcB"
      },
      "execution_count": null,
      "outputs": [
        {
          "output_type": "execute_result",
          "data": {
            "text/plain": [
              "0.49249714958118584"
            ]
          },
          "metadata": {},
          "execution_count": 68
        }
      ]
    },
    {
      "cell_type": "code",
      "source": [
        "print(list(X_test[0]))"
      ],
      "metadata": {
        "id": "VvrkxmdN800k",
        "outputId": "5a9a1b0a-17a6-4e16-8e64-57764f0b46f8",
        "colab": {
          "base_uri": "https://localhost:8080/"
        }
      },
      "execution_count": null,
      "outputs": [
        {
          "output_type": "stream",
          "name": "stdout",
          "text": [
            "[45.0, 134264.04, 475.0, 27822.99, 1.0, 0.0, 1.0, 0.0, 0.0, 1.0, 0.0, 1.0, 0.0]\n"
          ]
        }
      ]
    },
    {
      "cell_type": "code",
      "source": [
        "customer = {\n",
        "   'creditscore' : 576,\n",
        "    'geography' : 'germany',\n",
        "    'gender' : 'female',\n",
        "    'age' :   71,\n",
        "    'tenure' : 6,\n",
        "    'balance' : 140273.47,\n",
        "    'numofproducts' : 1,\n",
        "    'hascrcard' : 1,\n",
        "    'isactivemember' : 1,\n",
        "    'estimatedsalary' :  193135.25\n",
        "\n",
        "}"
      ],
      "metadata": {
        "id": "t3UkDLOW9rTp"
      },
      "execution_count": null,
      "outputs": []
    },
    {
      "cell_type": "code",
      "source": [
        "X_test = dv.transform([customer])\n",
        "model.predict_proba(X_test)[0, 1]"
      ],
      "metadata": {
        "colab": {
          "base_uri": "https://localhost:8080/"
        },
        "outputId": "b713e9e1-55dc-46d4-a00d-5dc4081d8814",
        "id": "T_eCzGpn9wrD"
      },
      "execution_count": null,
      "outputs": [
        {
          "output_type": "execute_result",
          "data": {
            "text/plain": [
              "0.5741919442980223"
            ]
          },
          "metadata": {},
          "execution_count": 71
        }
      ]
    },
    {
      "cell_type": "code",
      "source": [
        "print(list(X_test[0]))\n"
      ],
      "metadata": {
        "colab": {
          "base_uri": "https://localhost:8080/"
        },
        "id": "s1By4GDb92m4",
        "outputId": "5af76c28-9418-4f9a-e18c-b17d310fc1e3"
      },
      "execution_count": null,
      "outputs": [
        {
          "output_type": "stream",
          "name": "stdout",
          "text": [
            "[71.0, 140273.47, 576.0, 193135.25, 1.0, 0.0, 0.0, 1.0, 0.0, 1.0, 1.0, 1.0, 6.0]\n"
          ]
        }
      ]
    },
    {
      "cell_type": "markdown",
      "source": [
        "##############################################################################\n",
        "\n",
        "Performance Metrics\n"
      ],
      "metadata": {
        "id": "7PrVcQIXkFb9"
      }
    },
    {
      "cell_type": "code",
      "source": [
        "y_pred = model.predict_proba(X_val)[:, 1]\n",
        "exited = y_pred >= 0.5\n",
        "(exited == y_val).mean()"
      ],
      "metadata": {
        "colab": {
          "base_uri": "https://localhost:8080/"
        },
        "id": "Zs9aSooRFqf-",
        "outputId": "cb18ffb8-5187-45d5-8fb6-12485c5cdf20"
      },
      "execution_count": null,
      "outputs": [
        {
          "output_type": "execute_result",
          "data": {
            "text/plain": [
              "0.7901515151515152"
            ]
          },
          "metadata": {},
          "execution_count": 73
        }
      ]
    },
    {
      "cell_type": "code",
      "source": [
        "from sklearn.metrics import accuracy_score\n",
        "accuracy_score(y_val, y_pred >= 0.5)\n",
        "\n",
        "thresholds = np.linspace(0, 1, 11)\n",
        "thresholds\n",
        "\n",
        "thresholds = np.linspace(0, 1, 21)\n",
        "\n",
        "accuracies = []\n",
        "\n",
        "for t in thresholds:\n",
        "    acc = accuracy_score(y_val, y_pred >= t)\n",
        "    accuracies.append(acc)\n",
        "    print('%0.2f %0.3f' % (t, acc))\n",
        "\n",
        "# Highest accuracy occurs at 45% threshold"
      ],
      "metadata": {
        "colab": {
          "base_uri": "https://localhost:8080/"
        },
        "id": "z29fwtVOF2IA",
        "outputId": "74126e68-a992-4f07-ec01-48543ec3ee02"
      },
      "execution_count": null,
      "outputs": [
        {
          "output_type": "stream",
          "name": "stdout",
          "text": [
            "0.00 0.209\n",
            "0.05 0.216\n",
            "0.10 0.327\n",
            "0.15 0.494\n",
            "0.20 0.619\n",
            "0.25 0.695\n",
            "0.30 0.756\n",
            "0.35 0.777\n",
            "0.40 0.783\n",
            "0.45 0.791\n",
            "0.50 0.790\n",
            "0.55 0.789\n",
            "0.60 0.789\n",
            "0.65 0.791\n",
            "0.70 0.791\n",
            "0.75 0.791\n",
            "0.80 0.791\n",
            "0.85 0.791\n",
            "0.90 0.791\n",
            "0.95 0.791\n",
            "1.00 0.791\n"
          ]
        }
      ]
    },
    {
      "cell_type": "code",
      "source": [
        "plt.figure(figsize=(6, 4))\n",
        "\n",
        "plt.plot(thresholds, accuracies, color='black')\n",
        "\n",
        "plt.title('Threshold vs Accuracy')\n",
        "plt.xlabel('Threshold')\n",
        "plt.ylabel('Accuracy')\n",
        "\n",
        "plt.xticks(np.linspace(0, 1, 11))\n",
        "\n",
        "# plt.savefig('04_threshold_accuracy.svg')\n",
        "\n",
        "plt.show()"
      ],
      "metadata": {
        "colab": {
          "base_uri": "https://localhost:8080/",
          "height": 410
        },
        "id": "KfkKMXAPGKDi",
        "outputId": "b44a43c4-256a-465c-c75a-65e59a5728ad"
      },
      "execution_count": null,
      "outputs": [
        {
          "output_type": "display_data",
          "data": {
            "text/plain": [
              "<Figure size 600x400 with 1 Axes>"
            ],
            "image/png": "[encoded data removed]"
          },
          "metadata": {}
        }
      ]
    },
    {
      "cell_type": "markdown",
      "source": [
        " Test with small subset of features:\n",
        "\n",
        " numofproducts, geography, isactivemember"
      ],
      "metadata": {
        "id": "htXttga9GsF_"
      }
    },
    {
      "cell_type": "code",
      "source": [
        "small_subset = ['numofproducts', 'geography', 'isactivemember']\n",
        "train_dict_small = df_train[small_subset].to_dict(orient='records')\n",
        "dv_small = DictVectorizer(sparse=False)\n",
        "dv_small.fit(train_dict_small)\n",
        "\n",
        "X_small_train = dv_small.transform(train_dict_small)\n",
        "\n",
        "model_small = LogisticRegression(solver='liblinear', random_state=1)\n",
        "model_small.fit(X_small_train, y_train)\n",
        "\n",
        "val_dict_small = df_val[small_subset].to_dict(orient='records')\n",
        "X_small_val = dv_small.transform(val_dict_small)\n",
        "\n",
        "y_pred_small = model_small.predict_proba(X_small_val)[:, 1]\n",
        "\n",
        "exited_small = y_pred_small >= 0.50\n",
        "(exited_small == y_val).mean()\n",
        "\n",
        "accuracy_score(y_val, exited_small)"
      ],
      "metadata": {
        "colab": {
          "base_uri": "https://localhost:8080/"
        },
        "id": "n1j_NdM1GQ4P",
        "outputId": "e0919dd3-d008-4da1-eb87-2a0563b2b42d"
      },
      "execution_count": null,
      "outputs": [
        {
          "output_type": "execute_result",
          "data": {
            "text/plain": [
              "0.7912878787878788"
            ]
          },
          "metadata": {},
          "execution_count": 76
        }
      ]
    },
    {
      "cell_type": "markdown",
      "source": [
        "Confusion Matrix"
      ],
      "metadata": {
        "id": "7FuzM970JOas"
      }
    },
    {
      "cell_type": "code",
      "source": [
        "size_val = len(y_val)\n",
        "baseline = np.repeat(False,size_val)\n",
        "\n",
        "accuracy_score(baseline,y_val)\n",
        "\n",
        "true_positive = ((y_pred >= 0.5) & (y_val == 1)).sum()\n",
        "false_positive = ((y_pred >= 0.5) & (y_val == 0)).sum()\n",
        "false_negative = ((y_pred < 0.5) & (y_val == 1)).sum()\n",
        "true_negative = ((y_pred < 0.5) & (y_val == 0)).sum()\n",
        "\n",
        "confusion_table = np.array(\n",
        "     # predict neg    pos\n",
        "    [[true_negative, false_positive], # actual neg\n",
        "     [false_negative, true_positive]]) # actual pos\n",
        "\n",
        "confusion_table"
      ],
      "metadata": {
        "colab": {
          "base_uri": "https://localhost:8080/"
        },
        "id": "r7j6ZBp0H3oz",
        "outputId": "05595bfb-6c6f-4642-cac3-1cb7ed823443"
      },
      "execution_count": null,
      "outputs": [
        {
          "output_type": "execute_result",
          "data": {
            "text/plain": [
              "array([[2055,   34],\n",
              "       [ 520,   31]])"
            ]
          },
          "metadata": {},
          "execution_count": 77
        }
      ]
    },
    {
      "cell_type": "markdown",
      "source": [
        "Confusion table shows:\n",
        "\n",
        "1. False negative almost 20%, shows many accounts being ignored by the business and those accounts exited."
      ],
      "metadata": {
        "id": "k7THlK9PIlZ0"
      }
    },
    {
      "cell_type": "code",
      "source": [
        "confusion_table / confusion_table.sum()"
      ],
      "metadata": {
        "colab": {
          "base_uri": "https://localhost:8080/"
        },
        "id": "FXn7IaKAIG67",
        "outputId": "f8a08ab5-5dce-44d2-acbf-1367dc747689"
      },
      "execution_count": null,
      "outputs": [
        {
          "output_type": "execute_result",
          "data": {
            "text/plain": [
              "array([[0.77840909, 0.01287879],\n",
              "       [0.1969697 , 0.01174242]])"
            ]
          },
          "metadata": {},
          "execution_count": 79
        }
      ]
    },
    {
      "cell_type": "markdown",
      "source": [
        "Precision, Recall"
      ],
      "metadata": {
        "id": "g6kLeIvsJmbE"
      }
    },
    {
      "cell_type": "code",
      "source": [
        "precision = true_positive / (true_positive + false_positive)\n",
        "recall = true_positive / (true_positive + false_negative)\n",
        "precision, recall\n",
        "\n",
        "scores = []\n",
        "\n",
        "thresholds = np.linspace(0, 1, 101)\n",
        "\n",
        "for t in thresholds: #B\n",
        "    tp = ((y_pred >= t) & (y_val == 1)).sum()\n",
        "    fp = ((y_pred >= t) & (y_val == 0)).sum()\n",
        "    fn = ((y_pred < t) & (y_val == 1)).sum()\n",
        "    tn = ((y_pred < t) & (y_val == 0)).sum()\n",
        "    scores.append((t, tp, fp, fn, tn))\n",
        "\n",
        "df_scores = pd.DataFrame(scores)\n",
        "df_scores.columns = ['threshold', 'tp', 'fp', 'fn', 'tn']\n",
        "\n",
        "df_scores[::10]\n",
        "\n",
        "df_scores['tpr'] = df_scores.tp / (df_scores.tp + df_scores.fn)\n",
        "df_scores['fpr'] = df_scores.fp / (df_scores.fp + df_scores.tn)\n",
        "\n",
        "df_scores[::10]\n",
        "\n",
        "plt.figure(figsize=(6, 4))\n",
        "\n",
        "plt.plot(df_scores.threshold, df_scores.tpr, color='black', linestyle='solid', label='TPR')\n",
        "plt.plot(df_scores.threshold, df_scores.fpr, color='black', linestyle='dashed', label='FPR')\n",
        "plt.legend()\n",
        "\n",
        "plt.xticks(np.linspace(0, 1, 11))\n",
        "plt.yticks(np.linspace(0, 1, 11))\n",
        "\n",
        "plt.xlabel('Thresholds')\n",
        "plt.title('TPR and FPR')\n",
        "\n",
        "# plt.savefig('04_fpr_tpr_plot.svg')\n",
        "\n",
        "plt.show()"
      ],
      "metadata": {
        "colab": {
          "base_uri": "https://localhost:8080/",
          "height": 410
        },
        "id": "R39zwuGfJop-",
        "outputId": "f8600526-70ef-467c-8df9-d45d5ff89eb5"
      },
      "execution_count": null,
      "outputs": [
        {
          "output_type": "display_data",
          "data": {
            "text/plain": [
              "<Figure size 600x400 with 1 Axes>"
            ],
            "image/png": "[encoded data removed]"
          },
          "metadata": {}
        }
      ]
    },
    {
      "cell_type": "markdown",
      "source": [
        "Compare to random model"
      ],
      "metadata": {
        "id": "2-rasi2gKB1v"
      }
    },
    {
      "cell_type": "code",
      "source": [
        "np.random.seed(1)\n",
        "y_rand = np.random.uniform(0,1,size=len(y_val))\n",
        "\n",
        "y_rand\n",
        "\n",
        "def tpr_fpr_dataframe(y_val, y_pred):\n",
        "    scores = []\n",
        "\n",
        "    thresholds = np.linspace(0, 1, 101)\n",
        "\n",
        "    for t in thresholds:\n",
        "        tp = ((y_pred >= t) & (y_val == 1)).sum()\n",
        "        fp = ((y_pred >= t) & (y_val == 0)).sum()\n",
        "        fn = ((y_pred < t) & (y_val == 1)).sum()\n",
        "        tn = ((y_pred < t) & (y_val == 0)).sum()\n",
        "\n",
        "        scores.append((t, tp, fp, fn, tn))\n",
        "\n",
        "    df_scores = pd.DataFrame(scores)\n",
        "    df_scores.columns = ['threshold', 'tp', 'fp', 'fn', 'tn']\n",
        "\n",
        "    df_scores['tpr'] = df_scores.tp / (df_scores.tp + df_scores.fn)\n",
        "    df_scores['fpr'] = df_scores.fp / (df_scores.fp + df_scores.tn)\n",
        "\n",
        "    return df_scores\n",
        "\n",
        "np.random.seed(1)\n",
        "y_rand = np.random.uniform(0, 1, size=len(y_val))\n",
        "df_rand = tpr_fpr_dataframe(y_val, y_rand)\n",
        "df_rand[::10]"
      ],
      "metadata": {
        "colab": {
          "base_uri": "https://localhost:8080/",
          "height": 394
        },
        "id": "fMkb4_DDKF1l",
        "outputId": "8f335467-a759-4deb-986d-7f8cc9485c5b"
      },
      "execution_count": null,
      "outputs": [
        {
          "output_type": "execute_result",
          "data": {
            "text/plain": [
              "     threshold   tp    fp   fn    tn       tpr       fpr\n",
              "0          0.0  551  2089    0     0  1.000000  1.000000\n",
              "10         0.1  498  1892   53   197  0.903811  0.905697\n",
              "20         0.2  448  1665  103   424  0.813067  0.797032\n",
              "30         0.3  393  1453  158   636  0.713249  0.695548\n",
              "40         0.4  346  1247  205   842  0.627949  0.596936\n",
              "50         0.5  286  1048  265  1041  0.519056  0.501675\n",
              "60         0.6  229   834  322  1255  0.415608  0.399234\n",
              "70         0.7  166   610  385  1479  0.301270  0.292006\n",
              "80         0.8  121   411  430  1678  0.219601  0.196745\n",
              "90         0.9   64   202  487  1887  0.116152  0.096697\n",
              "100        1.0    0     0  551  2089  0.000000  0.000000"
            ],
            "text/html": [
              "\n",
              "  <div id=\"df-33e1d363-3fdf-474d-b12b-f791fcc21d59\">\n",
              "    <div class=\"colab-df-container\">\n",
              "      <div>\n",
              "<style scoped>\n",
              "    .dataframe tbody tr th:only-of-type {\n",
              "        vertical-align: middle;\n",
              "    }\n",
              "\n",
              "    .dataframe tbody tr th {\n",
              "        vertical-align: top;\n",
              "    }\n",
              "\n",
              "    .dataframe thead th {\n",
              "        text-align: right;\n",
              "    }\n",
              "</style>\n",
              "<table border=\"1\" class=\"dataframe\">\n",
              "  <thead>\n",
              "    <tr style=\"text-align: right;\">\n",
              "      <th></th>\n",
              "      <th>threshold</th>\n",
              "      <th>tp</th>\n",
              "      <th>fp</th>\n",
              "      <th>fn</th>\n",
              "      <th>tn</th>\n",
              "      <th>tpr</th>\n",
              "      <th>fpr</th>\n",
              "    </tr>\n",
              "  </thead>\n",
              "  <tbody>\n",
              "    <tr>\n",
              "      <th>0</th>\n",
              "      <td>0.0</td>\n",
              "      <td>551</td>\n",
              "      <td>2089</td>\n",
              "      <td>0</td>\n",
              "      <td>0</td>\n",
              "      <td>1.000000</td>\n",
              "      <td>1.000000</td>\n",
              "    </tr>\n",
              "    <tr>\n",
              "      <th>10</th>\n",
              "      <td>0.1</td>\n",
              "      <td>498</td>\n",
              "      <td>1892</td>\n",
              "      <td>53</td>\n",
              "      <td>197</td>\n",
              "      <td>0.903811</td>\n",
              "      <td>0.905697</td>\n",
              "    </tr>\n",
              "    <tr>\n",
              "      <th>20</th>\n",
              "      <td>0.2</td>\n",
              "      <td>448</td>\n",
              "      <td>1665</td>\n",
              "      <td>103</td>\n",
              "      <td>424</td>\n",
              "      <td>0.813067</td>\n",
              "      <td>0.797032</td>\n",
              "    </tr>\n",
              "    <tr>\n",
              "      <th>30</th>\n",
              "      <td>0.3</td>\n",
              "      <td>393</td>\n",
              "      <td>1453</td>\n",
              "      <td>158</td>\n",
              "      <td>636</td>\n",
              "      <td>0.713249</td>\n",
              "      <td>0.695548</td>\n",
              "    </tr>\n",
              "    <tr>\n",
              "      <th>40</th>\n",
              "      <td>0.4</td>\n",
              "      <td>346</td>\n",
              "      <td>1247</td>\n",
              "      <td>205</td>\n",
              "      <td>842</td>\n",
              "      <td>0.627949</td>\n",
              "      <td>0.596936</td>\n",
              "    </tr>\n",
              "    <tr>\n",
              "      <th>50</th>\n",
              "      <td>0.5</td>\n",
              "      <td>286</td>\n",
              "      <td>1048</td>\n",
              "      <td>265</td>\n",
              "      <td>1041</td>\n",
              "      <td>0.519056</td>\n",
              "      <td>0.501675</td>\n",
              "    </tr>\n",
              "    <tr>\n",
              "      <th>60</th>\n",
              "      <td>0.6</td>\n",
              "      <td>229</td>\n",
              "      <td>834</td>\n",
              "      <td>322</td>\n",
              "      <td>1255</td>\n",
              "      <td>0.415608</td>\n",
              "      <td>0.399234</td>\n",
              "    </tr>\n",
              "    <tr>\n",
              "      <th>70</th>\n",
              "      <td>0.7</td>\n",
              "      <td>166</td>\n",
              "      <td>610</td>\n",
              "      <td>385</td>\n",
              "      <td>1479</td>\n",
              "      <td>0.301270</td>\n",
              "      <td>0.292006</td>\n",
              "    </tr>\n",
              "    <tr>\n",
              "      <th>80</th>\n",
              "      <td>0.8</td>\n",
              "      <td>121</td>\n",
              "      <td>411</td>\n",
              "      <td>430</td>\n",
              "      <td>1678</td>\n",
              "      <td>0.219601</td>\n",
              "      <td>0.196745</td>\n",
              "    </tr>\n",
              "    <tr>\n",
              "      <th>90</th>\n",
              "      <td>0.9</td>\n",
              "      <td>64</td>\n",
              "      <td>202</td>\n",
              "      <td>487</td>\n",
              "      <td>1887</td>\n",
              "      <td>0.116152</td>\n",
              "      <td>0.096697</td>\n",
              "    </tr>\n",
              "    <tr>\n",
              "      <th>100</th>\n",
              "      <td>1.0</td>\n",
              "      <td>0</td>\n",
              "      <td>0</td>\n",
              "      <td>551</td>\n",
              "      <td>2089</td>\n",
              "      <td>0.000000</td>\n",
              "      <td>0.000000</td>\n",
              "    </tr>\n",
              "  </tbody>\n",
              "</table>\n",
              "</div>\n",
              "      <button class=\"colab-df-convert\" onclick=\"convertToInteractive('df-33e1d363-3fdf-474d-b12b-f791fcc21d59')\"\n",
              "              title=\"Convert this dataframe to an interactive table.\"\n",
              "              style=\"display:none;\">\n",
              "        \n",
              "  <svg xmlns=\"http://www.w3.org/2000/svg\" height=\"24px\"viewBox=\"0 0 24 24\"\n",
              "       width=\"24px\">\n",
              "    <path d=\"M0 0h24v24H0V0z\" fill=\"none\"/>\n",
              "    <path d=\"M18.56 5.44l.94 2.06.94-2.06 2.06-.94-2.06-.94-.94-2.06-.94 2.06-2.06.94zm-11 1L8.5 8.5l.94-2.06 2.06-.94-2.06-.94L8.5 2.5l-.94 2.06-2.06.94zm10 10l.94 2.06.94-2.06 2.06-.94-2.06-.94-.94-2.06-.94 2.06-2.06.94z\"/><path d=\"M17.41 7.96l-1.37-1.37c-.4-.4-.92-.59-1.43-.59-.52 0-1.04.2-1.43.59L10.3 9.45l-7.72 7.72c-.78.78-.78 2.05 0 2.83L4 21.41c.39.39.9.59 1.41.59.51 0 1.02-.2 1.41-.59l7.78-7.78 2.81-2.81c.8-.78.8-2.07 0-2.86zM5.41 20L4 18.59l7.72-7.72 1.47 1.35L5.41 20z\"/>\n",
              "  </svg>\n",
              "      </button>\n",
              "      \n",
              "  <style>\n",
              "    .colab-df-container {\n",
              "      display:flex;\n",
              "      flex-wrap:wrap;\n",
              "      gap: 12px;\n",
              "    }\n",
              "\n",
              "    .colab-df-convert {\n",
              "      background-color: #E8F0FE;\n",
              "      border: none;\n",
              "      border-radius: 50%;\n",
              "      cursor: pointer;\n",
              "      display: none;\n",
              "      fill: #1967D2;\n",
              "      height: 32px;\n",
              "      padding: 0 0 0 0;\n",
              "      width: 32px;\n",
              "    }\n",
              "\n",
              "    .colab-df-convert:hover {\n",
              "      background-color: #E2EBFA;\n",
              "      box-shadow: 0px 1px 2px rgba(60, 64, 67, 0.3), 0px 1px 3px 1px rgba(60, 64, 67, 0.15);\n",
              "      fill: #174EA6;\n",
              "    }\n",
              "\n",
              "    [theme=dark] .colab-df-convert {\n",
              "      background-color: #3B4455;\n",
              "      fill: #D2E3FC;\n",
              "    }\n",
              "\n",
              "    [theme=dark] .colab-df-convert:hover {\n",
              "      background-color: #434B5C;\n",
              "      box-shadow: 0px 1px 3px 1px rgba(0, 0, 0, 0.15);\n",
              "      filter: drop-shadow(0px 1px 2px rgba(0, 0, 0, 0.3));\n",
              "      fill: #FFFFFF;\n",
              "    }\n",
              "  </style>\n",
              "\n",
              "      <script>\n",
              "        const buttonEl =\n",
              "          document.querySelector('#df-33e1d363-3fdf-474d-b12b-f791fcc21d59 button.colab-df-convert');\n",
              "        buttonEl.style.display =\n",
              "          google.colab.kernel.accessAllowed ? 'block' : 'none';\n",
              "\n",
              "        async function convertToInteractive(key) {\n",
              "          const element = document.querySelector('#df-33e1d363-3fdf-474d-b12b-f791fcc21d59');\n",
              "          const dataTable =\n",
              "            await google.colab.kernel.invokeFunction('convertToInteractive',\n",
              "                                                     [key], {});\n",
              "          if (!dataTable) return;\n",
              "\n",
              "          const docLinkHtml = 'Like what you see? Visit the ' +\n",
              "            '<a target=\"_blank\" href=https://colab.research.google.com/notebooks/data_table.ipynb>data table notebook</a>'\n",
              "            + ' to learn more about interactive tables.';\n",
              "          element.innerHTML = '';\n",
              "          dataTable['output_type'] = 'display_data';\n",
              "          await google.colab.output.renderOutput(dataTable, element);\n",
              "          const docLink = document.createElement('div');\n",
              "          docLink.innerHTML = docLinkHtml;\n",
              "          element.appendChild(docLink);\n",
              "        }\n",
              "      </script>\n",
              "    </div>\n",
              "  </div>\n",
              "  "
            ]
          },
          "metadata": {},
          "execution_count": 81
        }
      ]
    },
    {
      "cell_type": "code",
      "source": [
        "plt.figure(figsize=(6, 4))\n",
        "\n",
        "plt.plot(df_rand.threshold, df_rand.tpr, color='black', linestyle='solid', label='TPR')\n",
        "plt.plot(df_rand.threshold, df_rand.fpr, color='black', linestyle='dashed', label='FPR')\n",
        "plt.legend()\n",
        "\n",
        "plt.xticks(np.linspace(0, 1, 11))\n",
        "plt.yticks(np.linspace(0, 1, 11))\n",
        "\n",
        "plt.xlabel('Thresholds')\n",
        "plt.title('TPR and FPR for the random model')\n",
        "\n",
        "#plt.savefig('04_fpr_tpr_plot_random.svg')\n",
        "\n",
        "plt.show()"
      ],
      "metadata": {
        "colab": {
          "base_uri": "https://localhost:8080/",
          "height": 410
        },
        "id": "sgkvkq4pKbjW",
        "outputId": "7a5ba3e0-0c4f-453c-dc36-5bae3fd3fa40"
      },
      "execution_count": null,
      "outputs": [
        {
          "output_type": "display_data",
          "data": {
            "text/plain": [
              "<Figure size 600x400 with 1 Axes>"
            ],
            "image/png": "[encoded data removed]"
          },
          "metadata": {}
        }
      ]
    },
    {
      "cell_type": "markdown",
      "source": [
        "Compare to ideal"
      ],
      "metadata": {
        "id": "b2I7gWS4KlCf"
      }
    },
    {
      "cell_type": "code",
      "source": [
        "num_neg = (y_val == 0).sum()\n",
        "num_pos = (y_val == 1).sum()\n",
        "\n",
        "y_ideal = np.repeat([0, 1], [num_neg, num_pos])\n",
        "y_pred_ideal = np.linspace(0, 1, num_neg + num_pos)\n",
        "\n",
        "df_ideal = tpr_fpr_dataframe(y_ideal, y_pred_ideal)\n",
        "df_ideal[::10]"
      ],
      "metadata": {
        "colab": {
          "base_uri": "https://localhost:8080/",
          "height": 394
        },
        "id": "GnUvNIXzKrXG",
        "outputId": "718f7316-827c-474b-feff-efd684cfa102"
      },
      "execution_count": null,
      "outputs": [
        {
          "output_type": "execute_result",
          "data": {
            "text/plain": [
              "     threshold   tp    fp   fn    tn       tpr       fpr\n",
              "0          0.0  551  2089    0     0  1.000000  1.000000\n",
              "10         0.1  551  1825    0   264  1.000000  0.873624\n",
              "20         0.2  551  1561    0   528  1.000000  0.747247\n",
              "30         0.3  551  1297    0   792  1.000000  0.620871\n",
              "40         0.4  551  1033    0  1056  1.000000  0.494495\n",
              "50         0.5  551   769    0  1320  1.000000  0.368119\n",
              "60         0.6  551   505    0  1584  1.000000  0.241742\n",
              "70         0.7  551   241    0  1848  1.000000  0.115366\n",
              "80         0.8  528     0   23  2089  0.958258  0.000000\n",
              "90         0.9  264     0  287  2089  0.479129  0.000000\n",
              "100        1.0    1     0  550  2089  0.001815  0.000000"
            ],
            "text/html": [
              "\n",
              "  <div id=\"df-5ff461f3-3951-428e-b178-fde8ce25df06\">\n",
              "    <div class=\"colab-df-container\">\n",
              "      <div>\n",
              "<style scoped>\n",
              "    .dataframe tbody tr th:only-of-type {\n",
              "        vertical-align: middle;\n",
              "    }\n",
              "\n",
              "    .dataframe tbody tr th {\n",
              "        vertical-align: top;\n",
              "    }\n",
              "\n",
              "    .dataframe thead th {\n",
              "        text-align: right;\n",
              "    }\n",
              "</style>\n",
              "<table border=\"1\" class=\"dataframe\">\n",
              "  <thead>\n",
              "    <tr style=\"text-align: right;\">\n",
              "      <th></th>\n",
              "      <th>threshold</th>\n",
              "      <th>tp</th>\n",
              "      <th>fp</th>\n",
              "      <th>fn</th>\n",
              "      <th>tn</th>\n",
              "      <th>tpr</th>\n",
              "      <th>fpr</th>\n",
              "    </tr>\n",
              "  </thead>\n",
              "  <tbody>\n",
              "    <tr>\n",
              "      <th>0</th>\n",
              "      <td>0.0</td>\n",
              "      <td>551</td>\n",
              "      <td>2089</td>\n",
              "      <td>0</td>\n",
              "      <td>0</td>\n",
              "      <td>1.000000</td>\n",
              "      <td>1.000000</td>\n",
              "    </tr>\n",
              "    <tr>\n",
              "      <th>10</th>\n",
              "      <td>0.1</td>\n",
              "      <td>551</td>\n",
              "      <td>1825</td>\n",
              "      <td>0</td>\n",
              "      <td>264</td>\n",
              "      <td>1.000000</td>\n",
              "      <td>0.873624</td>\n",
              "    </tr>\n",
              "    <tr>\n",
              "      <th>20</th>\n",
              "      <td>0.2</td>\n",
              "      <td>551</td>\n",
              "      <td>1561</td>\n",
              "      <td>0</td>\n",
              "      <td>528</td>\n",
              "      <td>1.000000</td>\n",
              "      <td>0.747247</td>\n",
              "    </tr>\n",
              "    <tr>\n",
              "      <th>30</th>\n",
              "      <td>0.3</td>\n",
              "      <td>551</td>\n",
              "      <td>1297</td>\n",
              "      <td>0</td>\n",
              "      <td>792</td>\n",
              "      <td>1.000000</td>\n",
              "      <td>0.620871</td>\n",
              "    </tr>\n",
              "    <tr>\n",
              "      <th>40</th>\n",
              "      <td>0.4</td>\n",
              "      <td>551</td>\n",
              "      <td>1033</td>\n",
              "      <td>0</td>\n",
              "      <td>1056</td>\n",
              "      <td>1.000000</td>\n",
              "      <td>0.494495</td>\n",
              "    </tr>\n",
              "    <tr>\n",
              "      <th>50</th>\n",
              "      <td>0.5</td>\n",
              "      <td>551</td>\n",
              "      <td>769</td>\n",
              "      <td>0</td>\n",
              "      <td>1320</td>\n",
              "      <td>1.000000</td>\n",
              "      <td>0.368119</td>\n",
              "    </tr>\n",
              "    <tr>\n",
              "      <th>60</th>\n",
              "      <td>0.6</td>\n",
              "      <td>551</td>\n",
              "      <td>505</td>\n",
              "      <td>0</td>\n",
              "      <td>1584</td>\n",
              "      <td>1.000000</td>\n",
              "      <td>0.241742</td>\n",
              "    </tr>\n",
              "    <tr>\n",
              "      <th>70</th>\n",
              "      <td>0.7</td>\n",
              "      <td>551</td>\n",
              "      <td>241</td>\n",
              "      <td>0</td>\n",
              "      <td>1848</td>\n",
              "      <td>1.000000</td>\n",
              "      <td>0.115366</td>\n",
              "    </tr>\n",
              "    <tr>\n",
              "      <th>80</th>\n",
              "      <td>0.8</td>\n",
              "      <td>528</td>\n",
              "      <td>0</td>\n",
              "      <td>23</td>\n",
              "      <td>2089</td>\n",
              "      <td>0.958258</td>\n",
              "      <td>0.000000</td>\n",
              "    </tr>\n",
              "    <tr>\n",
              "      <th>90</th>\n",
              "      <td>0.9</td>\n",
              "      <td>264</td>\n",
              "      <td>0</td>\n",
              "      <td>287</td>\n",
              "      <td>2089</td>\n",
              "      <td>0.479129</td>\n",
              "      <td>0.000000</td>\n",
              "    </tr>\n",
              "    <tr>\n",
              "      <th>100</th>\n",
              "      <td>1.0</td>\n",
              "      <td>1</td>\n",
              "      <td>0</td>\n",
              "      <td>550</td>\n",
              "      <td>2089</td>\n",
              "      <td>0.001815</td>\n",
              "      <td>0.000000</td>\n",
              "    </tr>\n",
              "  </tbody>\n",
              "</table>\n",
              "</div>\n",
              "      <button class=\"colab-df-convert\" onclick=\"convertToInteractive('df-5ff461f3-3951-428e-b178-fde8ce25df06')\"\n",
              "              title=\"Convert this dataframe to an interactive table.\"\n",
              "              style=\"display:none;\">\n",
              "        \n",
              "  <svg xmlns=\"http://www.w3.org/2000/svg\" height=\"24px\"viewBox=\"0 0 24 24\"\n",
              "       width=\"24px\">\n",
              "    <path d=\"M0 0h24v24H0V0z\" fill=\"none\"/>\n",
              "    <path d=\"M18.56 5.44l.94 2.06.94-2.06 2.06-.94-2.06-.94-.94-2.06-.94 2.06-2.06.94zm-11 1L8.5 8.5l.94-2.06 2.06-.94-2.06-.94L8.5 2.5l-.94 2.06-2.06.94zm10 10l.94 2.06.94-2.06 2.06-.94-2.06-.94-.94-2.06-.94 2.06-2.06.94z\"/><path d=\"M17.41 7.96l-1.37-1.37c-.4-.4-.92-.59-1.43-.59-.52 0-1.04.2-1.43.59L10.3 9.45l-7.72 7.72c-.78.78-.78 2.05 0 2.83L4 21.41c.39.39.9.59 1.41.59.51 0 1.02-.2 1.41-.59l7.78-7.78 2.81-2.81c.8-.78.8-2.07 0-2.86zM5.41 20L4 18.59l7.72-7.72 1.47 1.35L5.41 20z\"/>\n",
              "  </svg>\n",
              "      </button>\n",
              "      \n",
              "  <style>\n",
              "    .colab-df-container {\n",
              "      display:flex;\n",
              "      flex-wrap:wrap;\n",
              "      gap: 12px;\n",
              "    }\n",
              "\n",
              "    .colab-df-convert {\n",
              "      background-color: #E8F0FE;\n",
              "      border: none;\n",
              "      border-radius: 50%;\n",
              "      cursor: pointer;\n",
              "      display: none;\n",
              "      fill: #1967D2;\n",
              "      height: 32px;\n",
              "      padding: 0 0 0 0;\n",
              "      width: 32px;\n",
              "    }\n",
              "\n",
              "    .colab-df-convert:hover {\n",
              "      background-color: #E2EBFA;\n",
              "      box-shadow: 0px 1px 2px rgba(60, 64, 67, 0.3), 0px 1px 3px 1px rgba(60, 64, 67, 0.15);\n",
              "      fill: #174EA6;\n",
              "    }\n",
              "\n",
              "    [theme=dark] .colab-df-convert {\n",
              "      background-color: #3B4455;\n",
              "      fill: #D2E3FC;\n",
              "    }\n",
              "\n",
              "    [theme=dark] .colab-df-convert:hover {\n",
              "      background-color: #434B5C;\n",
              "      box-shadow: 0px 1px 3px 1px rgba(0, 0, 0, 0.15);\n",
              "      filter: drop-shadow(0px 1px 2px rgba(0, 0, 0, 0.3));\n",
              "      fill: #FFFFFF;\n",
              "    }\n",
              "  </style>\n",
              "\n",
              "      <script>\n",
              "        const buttonEl =\n",
              "          document.querySelector('#df-5ff461f3-3951-428e-b178-fde8ce25df06 button.colab-df-convert');\n",
              "        buttonEl.style.display =\n",
              "          google.colab.kernel.accessAllowed ? 'block' : 'none';\n",
              "\n",
              "        async function convertToInteractive(key) {\n",
              "          const element = document.querySelector('#df-5ff461f3-3951-428e-b178-fde8ce25df06');\n",
              "          const dataTable =\n",
              "            await google.colab.kernel.invokeFunction('convertToInteractive',\n",
              "                                                     [key], {});\n",
              "          if (!dataTable) return;\n",
              "\n",
              "          const docLinkHtml = 'Like what you see? Visit the ' +\n",
              "            '<a target=\"_blank\" href=https://colab.research.google.com/notebooks/data_table.ipynb>data table notebook</a>'\n",
              "            + ' to learn more about interactive tables.';\n",
              "          element.innerHTML = '';\n",
              "          dataTable['output_type'] = 'display_data';\n",
              "          await google.colab.output.renderOutput(dataTable, element);\n",
              "          const docLink = document.createElement('div');\n",
              "          docLink.innerHTML = docLinkHtml;\n",
              "          element.appendChild(docLink);\n",
              "        }\n",
              "      </script>\n",
              "    </div>\n",
              "  </div>\n",
              "  "
            ]
          },
          "metadata": {},
          "execution_count": 83
        }
      ]
    },
    {
      "cell_type": "markdown",
      "source": [
        "Ideal plot"
      ],
      "metadata": {
        "id": "Sb9W6sReK48A"
      }
    },
    {
      "cell_type": "code",
      "source": [
        "plt.figure(figsize=(6, 4))\n",
        "\n",
        "plt.plot(df_ideal.threshold, df_ideal.tpr, color='black', linestyle='solid', label='TPR')\n",
        "plt.plot(df_ideal.threshold, df_ideal.fpr, color='black', linestyle='dashed', label='FPR')\n",
        "plt.legend()\n",
        "\n",
        "plt.xticks(np.linspace(0, 1, 11))\n",
        "plt.yticks(np.linspace(0, 1, 11))\n",
        "\n",
        "plt.vlines(1 - y_val.mean(), -1, 2, linewidth=0.5, linestyle='dashed', color='grey')\n",
        "plt.ylim(-0.03, 1.03)\n",
        "\n",
        "plt.xlabel('Thresholds')\n",
        "plt.title('TPR and FPR for the ideal model')\n",
        "\n",
        "# plt.savefig('04_fpr_tpr_plot_ideal.svg')\n",
        "\n",
        "plt.show()"
      ],
      "metadata": {
        "colab": {
          "base_uri": "https://localhost:8080/",
          "height": 410
        },
        "id": "5pNpOBo2K1F-",
        "outputId": "c5a770be-8f21-4008-f491-6273fa3d455d"
      },
      "execution_count": null,
      "outputs": [
        {
          "output_type": "display_data",
          "data": {
            "text/plain": [
              "<Figure size 600x400 with 1 Axes>"
            ],
            "image/png": "[encoded data removed]"
          },
          "metadata": {}
        }
      ]
    },
    {
      "cell_type": "markdown",
      "source": [
        "Compare the model to random and ideal"
      ],
      "metadata": {
        "id": "4V8e46SPLD23"
      }
    },
    {
      "cell_type": "code",
      "source": [
        "plt.figure(figsize=(5, 5))\n",
        "\n",
        "plt.plot(df_scores.fpr, df_scores.tpr, color='black', label='Model')\n",
        "plt.plot(df_rand.fpr, df_rand.tpr, color='black', lw=1,\n",
        "         linestyle='dashed', alpha=0.5, label='Random')\n",
        "plt.plot(df_ideal.fpr, df_ideal.tpr, color='black', lw=0.5,\n",
        "         linestyle='solid', alpha=0.5, label='Ideal')\n",
        "\n",
        "plt.legend()\n",
        "\n",
        "plt.xlim([-0.02, 1.02])\n",
        "plt.ylim([-0.02, 1.02])\n",
        "plt.xlabel('False Positive Rate')\n",
        "plt.ylabel('True Positive Rate')\n",
        "\n",
        "plt.title('ROC curve')\n",
        "\n",
        "# plt.savefig('04_roc_curve_with_baselines.svg')\n",
        "\n",
        "plt.show()"
      ],
      "metadata": {
        "colab": {
          "base_uri": "https://localhost:8080/",
          "height": 487
        },
        "id": "U4BBUJkjLEhn",
        "outputId": "72ae3a50-93d7-4112-dd0a-c218991c3668"
      },
      "execution_count": null,
      "outputs": [
        {
          "output_type": "display_data",
          "data": {
            "text/plain": [
              "<Figure size 500x500 with 1 Axes>"
            ],
            "image/png": "[encoded data removed]"
          },
          "metadata": {}
        }
      ]
    },
    {
      "cell_type": "markdown",
      "source": [
        "AUC, ROC curve"
      ],
      "metadata": {
        "id": "ShWG7-ECLQ9H"
      }
    },
    {
      "cell_type": "code",
      "source": [
        "from sklearn.metrics import roc_curve\n",
        "from sklearn.metrics import auc\n",
        "\n",
        "fpr, tpr, thresholds = roc_curve(y_val, y_pred)\n",
        "\n",
        "plt.figure(figsize=(5, 5))\n",
        "\n",
        "plt.plot(fpr, tpr, color='black')\n",
        "plt.plot([0, 1], [0, 1], color='black', lw=0.7, linestyle='dashed', alpha=0.5)\n",
        "\n",
        "plt.xlim([-0.02, 1.02])\n",
        "plt.ylim([-0.02, 1.02])\n",
        "plt.xlabel('False Positive Rate')\n",
        "plt.ylabel('True Positive Rate')\n",
        "\n",
        "plt.title('ROC curve')\n",
        "\n",
        "plt.show()"
      ],
      "metadata": {
        "colab": {
          "base_uri": "https://localhost:8080/",
          "height": 487
        },
        "id": "2IEyB4R6LT1X",
        "outputId": "fee9c4b9-3225-448d-c776-b006ae4358ca"
      },
      "execution_count": null,
      "outputs": [
        {
          "output_type": "display_data",
          "data": {
            "text/plain": [
              "<Figure size 500x500 with 1 Axes>"
            ],
            "image/png": "[encoded data removed]"
          },
          "metadata": {}
        }
      ]
    },
    {
      "cell_type": "markdown",
      "source": [
        "Observation:\n",
        "\n",
        "1. Small set of features, the model has better ROC for FPR < 40%\n",
        "2. Full set of features, the model has better ROC for FPR > 40%"
      ],
      "metadata": {
        "id": "hAe86aGQLjc4"
      }
    },
    {
      "cell_type": "code",
      "source": [
        "fpr_large, tpr_large, _ = roc_curve(y_val, y_pred)\n",
        "fpr_small, tpr_small, _ = roc_curve(y_val, y_pred_small)\n",
        "\n",
        "plt.figure(figsize=(5, 5))\n",
        "\n",
        "plt.plot(fpr_large, tpr_large, color='black', linestyle='solid', label='Large')\n",
        "plt.plot(fpr_small, tpr_small, color='black', linestyle='dashed', label='Small')\n",
        "plt.plot([0, 1], [0, 1], color='black', lw=0.7, linestyle='dashed', alpha=0.5)\n",
        "\n",
        "plt.xlim([-0.02, 1.02])\n",
        "plt.ylim([-0.02, 1.02])\n",
        "plt.xlabel('False Positive Rate')\n",
        "plt.ylabel('True Positive Rate')\n",
        "\n",
        "plt.title('ROC curve')\n",
        "plt.legend(loc='lower right')\n",
        "\n",
        "plt.show()"
      ],
      "metadata": {
        "colab": {
          "base_uri": "https://localhost:8080/",
          "height": 487
        },
        "id": "ZoGBZsVCLj8u",
        "outputId": "341ad384-1914-4252-aba7-3403512c4611"
      },
      "execution_count": null,
      "outputs": [
        {
          "output_type": "display_data",
          "data": {
            "text/plain": [
              "<Figure size 500x500 with 1 Axes>"
            ],
            "image/png": "[encoded data removed]"
          },
          "metadata": {}
        }
      ]
    },
    {
      "cell_type": "markdown",
      "source": [
        "Perform K-fold splits=10\n"
      ],
      "metadata": {
        "id": "xQumL8aHMuDJ"
      }
    },
    {
      "cell_type": "code",
      "source": [
        "from sklearn.metrics import roc_auc_score\n",
        "roc_auc_score(y_val, y_pred)\n",
        "\n",
        "def train(df, y):\n",
        "    cat = df[categorical + numerical].to_dict(orient='records')\n",
        "    \n",
        "    dv = DictVectorizer(sparse=False)\n",
        "    dv.fit(cat)\n",
        "\n",
        "    X = dv.transform(cat)\n",
        "\n",
        "    model = LogisticRegression(solver='liblinear')\n",
        "    model.fit(X, y)\n",
        "\n",
        "    return dv, model\n",
        "\n",
        "\n",
        "def predict(df, dv, model):\n",
        "    cat = df[categorical + numerical].to_dict(orient='records')\n",
        "    \n",
        "    X = dv.transform(cat)\n",
        "\n",
        "    y_pred = model.predict_proba(X)[:, 1]\n",
        "\n",
        "    return y_pred\n",
        "\n",
        "from sklearn.model_selection import KFold\n",
        "kfold = KFold(n_splits=10, shuffle=True, random_state=1)"
      ],
      "metadata": {
        "id": "7SjfpNIbMui-"
      },
      "execution_count": null,
      "outputs": []
    },
    {
      "cell_type": "markdown",
      "source": [],
      "metadata": {
        "id": "zDGjme0PNmIp"
      }
    },
    {
      "cell_type": "code",
      "source": [
        "aucs = []\n",
        "\n",
        "for train_idx, val_idx in kfold.split(df_train_full):\n",
        "    df_train = df_train_full.iloc[train_idx]\n",
        "    y_train = df_train.exited.values\n",
        "\n",
        "    df_val = df_train_full.iloc[val_idx]\n",
        "    y_val = df_val.exited.values\n",
        "\n",
        "    dv, model = train(df_train, y_train)\n",
        "    y_pred = predict(df_val, dv, model)\n",
        "\n",
        "    rocauc = roc_auc_score(y_val, y_pred)\n",
        "    aucs.append(rocauc)"
      ],
      "metadata": {
        "id": "NoyCHFUvNmgf"
      },
      "execution_count": null,
      "outputs": []
    },
    {
      "cell_type": "code",
      "source": [
        "np.array(aucs).round(3)\n",
        "\n",
        "print('auc = %0.3f ± %0.3f' % (np.mean(aucs), np.std(aucs)))"
      ],
      "metadata": {
        "id": "0Ar0TgM_QRh9",
        "outputId": "b75e9680-03e9-4f10-a84c-53bae6995bcd",
        "colab": {
          "base_uri": "https://localhost:8080/"
        }
      },
      "execution_count": null,
      "outputs": [
        {
          "output_type": "stream",
          "name": "stdout",
          "text": [
            "auc = 0.664 ± 0.014\n"
          ]
        }
      ]
    },
    {
      "cell_type": "markdown",
      "source": [
        "Tune the model... we have logistic regression... and one of the hyperparams is C"
      ],
      "metadata": {
        "id": "fjaV3NWZQVgc"
      }
    },
    {
      "cell_type": "code",
      "source": [
        "def train(df, y, C=1.0):\n",
        "    cat = df[categorical + numerical].to_dict(orient='records')\n",
        "    \n",
        "    dv = DictVectorizer(sparse=False)\n",
        "    dv.fit(cat)\n",
        "\n",
        "    X = dv.transform(cat)\n",
        "\n",
        "    model = LogisticRegression(solver='liblinear', C=C)\n",
        "    model.fit(X, y)\n",
        "\n",
        "    return dv, model\n",
        "\n",
        "nfolds = 5\n",
        "kfold = KFold(n_splits=nfolds, shuffle=True, random_state=1)"
      ],
      "metadata": {
        "id": "16siniM4QacM"
      },
      "execution_count": null,
      "outputs": []
    },
    {
      "cell_type": "code",
      "source": [
        "for C in [0.001, 0.01, 0.1, 0.5, 1, 10]:\n",
        "    aucs = []\n",
        "\n",
        "    for train_idx, val_idx in kfold.split(df_train_full):\n",
        "        df_train = df_train_full.iloc[train_idx]\n",
        "        df_val = df_train_full.iloc[val_idx]\n",
        "\n",
        "        y_train = df_train.exited.values\n",
        "        y_val = df_val.exited.values\n",
        "\n",
        "        dv, model = train(df_train, y_train, C=C)\n",
        "        y_pred = predict(df_val, dv, model)\n",
        "        \n",
        "        auc = roc_auc_score(y_val, y_pred)\n",
        "        aucs.append(auc)\n",
        "\n",
        "    print('C=%s, auc = %0.3f ± %0.3f' % (C, np.mean(aucs), np.std(aucs)))"
      ],
      "metadata": {
        "id": "z36empsUQkbc",
        "outputId": "d74d681a-22c3-4360-a921-74afe69eb5dc",
        "colab": {
          "base_uri": "https://localhost:8080/"
        }
      },
      "execution_count": null,
      "outputs": [
        {
          "output_type": "stream",
          "name": "stdout",
          "text": [
            "C=0.001, auc = 0.663 ± 0.008\n",
            "C=0.01, auc = 0.663 ± 0.008\n",
            "C=0.1, auc = 0.663 ± 0.008\n",
            "C=0.5, auc = 0.663 ± 0.008\n",
            "C=1, auc = 0.663 ± 0.008\n",
            "C=10, auc = 0.663 ± 0.008\n"
          ]
        }
      ]
    },
    {
      "cell_type": "markdown",
      "source": [],
      "metadata": {
        "id": "cF-GjQ_6Qzp9"
      }
    },
    {
      "cell_type": "code",
      "source": [
        "y_train = df_train_full.exited.values\n",
        "y_test = df_test.exited.values\n",
        "\n",
        "dv, model = train(df_train_full, y_train, C=0.5)\n",
        "y_pred = predict(df_test, dv, model)\n",
        "\n",
        "auc = roc_auc_score(y_test, y_pred)\n",
        "print('auc = %.3f' % auc)"
      ],
      "metadata": {
        "id": "lnoGInifQ0EE",
        "outputId": "9c6742b5-7b52-489e-d413-832d2bd8a899",
        "colab": {
          "base_uri": "https://localhost:8080/"
        }
      },
      "execution_count": null,
      "outputs": [
        {
          "output_type": "stream",
          "name": "stdout",
          "text": [
            "auc = 0.684\n"
          ]
        }
      ]
    },
    {
      "cell_type": "markdown",
      "source": [
        "Compare Full vs Tuned\n",
        "\n",
        "1. After tuning hyperparameter \"C\", the plot shows some inprovement for FPR < 40%"
      ],
      "metadata": {
        "id": "sN6icLZ8R4Dd"
      }
    },
    {
      "cell_type": "code",
      "source": [
        "#fpr_large, tpr_large, _ = roc_curve(y_val, y_pred)\n",
        "#fpr_small, tpr_small, _ = roc_curve(y_val, y_pred_small)\n",
        "\n",
        "fpr_tuned, tpr_tuned, _ = roc_curve(y_test, y_pred)\n",
        "\n",
        "plt.figure(figsize=(5, 5))\n",
        "\n",
        "plt.plot(fpr_tuned, tpr_tuned, color='black', linestyle='solid', label='Tuned')\n",
        "plt.plot(fpr_small, tpr_small, color='black', linestyle='dashed', label='Small')\n",
        "plt.plot([0, 1], [0, 1], color='black', lw=0.7, linestyle='dashed', alpha=0.5)\n",
        "\n",
        "plt.xlim([-0.02, 1.02])\n",
        "plt.ylim([-0.02, 1.02])\n",
        "plt.xlabel('False Positive Rate')\n",
        "plt.ylabel('True Positive Rate')\n",
        "\n",
        "plt.title('ROC curve')\n",
        "plt.legend(loc='lower right')\n",
        "\n",
        "plt.show()"
      ],
      "metadata": {
        "id": "Hz1a2nIrRqbz",
        "outputId": "c692bdf9-80c7-4b7c-adac-b36ceaad3853",
        "colab": {
          "base_uri": "https://localhost:8080/",
          "height": 487
        }
      },
      "execution_count": 100,
      "outputs": [
        {
          "output_type": "display_data",
          "data": {
            "text/plain": [
              "<Figure size 500x500 with 1 Axes>"
            ],
            "image/png": "[encoded data removed]"
          },
          "metadata": {}
        }
      ]
    }
  ]
}