{
  "nbformat": 4,
  "nbformat_minor": 0,
  "metadata": {
    "colab": {
      "provenance": [],
      "authorship_tag": "ABX9TyNbhusUA4GIMQ3845FjC8/y",
      "include_colab_link": true
    },
    "kernelspec": {
      "name": "python3",
      "display_name": "Python 3"
    },
    "language_info": {
      "name": "python"
    }
  },
  "cells": [
    {
      "cell_type": "markdown",
      "metadata": {
        "id": "view-in-github",
        "colab_type": "text"
      },
      "source": [
        "<a href=\"https://colab.research.google.com/github/jmohsbeck1/jpmc_mle/blob/week-Apr.-11/JM_HyperParams_tuning.ipynb\" target=\"_parent\"><img src=\"https://colab.research.google.com/assets/colab-badge.svg\" alt=\"Open In Colab\"/></a>"
      ]
    },
    {
      "cell_type": "code",
      "execution_count": null,
      "metadata": {
        "id": "e-k4-RhjmiNo"
      },
      "outputs": [],
      "source": [
        "#\n",
        "# John Mohsbeck\n",
        "# 4-11-2023\n",
        "# \n",
        "# Hyperparameter Optimization: Grid Search vs. Random Search vs. Bayesian Optimization in Action"
      ]
    },
    {
      "cell_type": "code",
      "source": [
        "# Import necessary libraries\n",
        "import pandas as pd\n",
        "from sklearn.model_selection import train_test_split\n",
        "from sklearn.preprocessing import StandardScaler, LabelEncoder\n",
        "from sklearn.ensemble import RandomForestClassifier\n",
        "from sklearn.model_selection import GridSearchCV\n",
        "\n",
        "# Load the dataset\n",
        "url = \"https://raw.githubusercontent.com/fenago/datasets/main/diamonds.csv\"\n",
        "diamonds = pd.read_csv(url)\n",
        "\n",
        "# Preprocessing\n",
        "label_encoder = LabelEncoder()\n",
        "diamonds['cut'] = label_encoder.fit_transform(diamonds['cut'])\n",
        "diamonds['color'] = label_encoder.fit_transform(diamonds['color'])\n",
        "diamonds['clarity'] = label_encoder.fit_transform(diamonds['clarity'])\n",
        "\n",
        "# Split the dataset into training and test sets\n",
        "X = diamonds.drop('cut', axis=1)\n",
        "y = diamonds['cut']\n",
        "X_train, X_test, y_train, y_test = train_test_split(X, y, test_size=0.2, random_state=42)\n",
        "\n",
        "# Scale the features\n",
        "scaler = StandardScaler()\n",
        "X_train = scaler.fit_transform(X_train)\n",
        "X_test = scaler.transform(X_test)"
      ],
      "metadata": {
        "id": "yNpyQXTnmvDF"
      },
      "execution_count": 1,
      "outputs": []
    },
    {
      "cell_type": "markdown",
      "source": [
        "RandomForestClassifier model\n",
        "\n",
        "GridSearchCV"
      ],
      "metadata": {
        "id": "mJV8p-AVxUEk"
      }
    },
    {
      "cell_type": "code",
      "source": [
        "# Create a RandomForestClassifier model\n",
        "rf = RandomForestClassifier()\n",
        "\n",
        "# Define hyperparameters to be tuned\n",
        "hyperparameters = {\n",
        "    'n_estimators': [10, 50, 100, 200],\n",
        "    'max_depth': [None, 10, 20, 30],\n",
        "    'min_samples_split': [2, 5, 10]\n",
        "}\n",
        "\n",
        "# Create the GridSearchCV object\n",
        "grid_search = GridSearchCV(estimator=rf, param_grid=hyperparameters, cv=5, n_jobs=-1, verbose=1)\n",
        "\n",
        "# Fit the model on the training set\n",
        "grid_search.fit(X_train, y_train)\n",
        "\n",
        "# Get the best hyperparameters found by GridSearchCV\n",
        "best_params = grid_search.best_params_\n",
        "print(\"Best hyperparameters found by GridSearchCV:\", best_params)\n",
        "\n",
        "# Evaluate the model on the test set\n",
        "test_score = grid_search.score(X_test, y_test)\n",
        "print(\"Test set accuracy with best hyperparameters:\", test_score)"
      ],
      "metadata": {
        "colab": {
          "base_uri": "https://localhost:8080/"
        },
        "id": "2P9qyUsqnnz7",
        "outputId": "99b76ab2-164f-46c5-f35e-e438619cda64"
      },
      "execution_count": 2,
      "outputs": [
        {
          "output_type": "stream",
          "name": "stdout",
          "text": [
            "Fitting 5 folds for each of 48 candidates, totalling 240 fits\n",
            "Best hyperparameters found by GridSearchCV: {'max_depth': 30, 'min_samples_split': 10, 'n_estimators': 200}\n",
            "Test set accuracy with best hyperparameters: 0.7868001483129403\n"
          ]
        }
      ]
    },
    {
      "cell_type": "markdown",
      "source": [
        "RandomForestRegressor model \n",
        "\n",
        "RandomizedSearchCV"
      ],
      "metadata": {
        "id": "Dcna2dUVxMgV"
      }
    },
    {
      "cell_type": "code",
      "source": [
        "# Import necessary libraries\n",
        "import pandas as pd\n",
        "from sklearn.model_selection import train_test_split\n",
        "from sklearn.preprocessing import StandardScaler, LabelEncoder\n",
        "from sklearn.ensemble import RandomForestRegressor\n",
        "from sklearn.model_selection import RandomizedSearchCV\n",
        "\n",
        "# Load the dataset\n",
        "url = \"https://raw.githubusercontent.com/fenago/datasets/main/diamonds.csv\"\n",
        "diamonds = pd.read_csv(url)\n",
        "\n",
        "# Preprocessing\n",
        "label_encoder = LabelEncoder()\n",
        "diamonds['cut'] = label_encoder.fit_transform(diamonds['cut'])\n",
        "diamonds['color'] = label_encoder.fit_transform(diamonds['color'])\n",
        "diamonds['clarity'] = label_encoder.fit_transform(diamonds['clarity'])\n",
        "\n",
        "# Split the dataset into training and test sets\n",
        "X = diamonds.drop('price', axis=1)\n",
        "y = diamonds['price']\n",
        "X_train, X_test, y_train, y_test = train_test_split(X, y, test_size=0.2, random_state=42)\n",
        "\n",
        "# Scale the features\n",
        "scaler = StandardScaler()\n",
        "X_train = scaler.fit_transform(X_train)\n",
        "X_test = scaler.transform(X_test)"
      ],
      "metadata": {
        "id": "_a4yJKA7woOG"
      },
      "execution_count": 3,
      "outputs": []
    },
    {
      "cell_type": "code",
      "source": [
        "# Create a RandomForestRegressor model\n",
        "rf = RandomForestRegressor()\n",
        "\n",
        "# Define hyperparameters to be tuned\n",
        "hyperparameters = {\n",
        "    'n_estimators': [10, 50, 100, 200],\n",
        "    'max_depth': [None, 10, 20, 30],\n",
        "    'min_samples_split': [2, 5, 10]\n",
        "}\n",
        "\n",
        "# Create the RandomizedSearchCV object\n",
        "random_search = RandomizedSearchCV(estimator=rf, param_distributions=hyperparameters, n_iter=10, cv=5, n_jobs=-1, verbose=1, random_state=42)\n",
        "\n",
        "# Fit the model on the training set\n",
        "random_search.fit(X_train, y_train)\n",
        "\n",
        "# Get the best hyperparameters found by RandomizedSearchCV\n",
        "best_params = random_search.best_params_\n",
        "print(\"Best hyperparameters found by RandomizedSearchCV:\", best_params)\n",
        "\n",
        "# Evaluate the model on the test set\n",
        "test_score = random_search.score(X_test, y_test)\n",
        "print(\"Test set R^2 score with best hyperparameters:\", test_score)"
      ],
      "metadata": {
        "colab": {
          "base_uri": "https://localhost:8080/"
        },
        "id": "D0Rj3qjKxpm9",
        "outputId": "aa54ad6c-746e-433f-9045-edb52d26251a"
      },
      "execution_count": 4,
      "outputs": [
        {
          "output_type": "stream",
          "name": "stdout",
          "text": [
            "Fitting 5 folds for each of 10 candidates, totalling 50 fits\n",
            "Best hyperparameters found by RandomizedSearchCV: {'n_estimators': 50, 'min_samples_split': 2, 'max_depth': 30}\n",
            "Test set R^2 score with best hyperparameters: 0.9999650617633047\n"
          ]
        }
      ]
    },
    {
      "cell_type": "code",
      "source": [],
      "metadata": {
        "id": "5ExEU3mCxQ8k"
      },
      "execution_count": null,
      "outputs": []
    }
  ]
}