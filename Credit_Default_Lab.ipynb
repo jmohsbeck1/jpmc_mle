{
  "nbformat": 4,
  "nbformat_minor": 0,
  "metadata": {
    "colab": {
      "provenance": [],
      "include_colab_link": true
    },
    "kernelspec": {
      "name": "python3",
      "display_name": "Python 3"
    },
    "language_info": {
      "name": "python"
    }
  },
  "cells": [
    {
      "cell_type": "markdown",
      "metadata": {
        "id": "view-in-github",
        "colab_type": "text"
      },
      "source": [
        "<a href=\"https://colab.research.google.com/github/jmohsbeck1/jpmc_mle/blob/machine_learning_bootcamp/Credit_Default_Lab.ipynb\" target=\"_parent\"><img src=\"https://colab.research.google.com/assets/colab-badge.svg\" alt=\"Open In Colab\"/></a>"
      ]
    },
    {
      "cell_type": "markdown",
      "source": [
        "# Credit Default ML model lab\n",
        "# Machine learning bootcamp"
      ],
      "metadata": {
        "id": "eotcgjqChS4m"
      }
    },
    {
      "cell_type": "code",
      "source": [
        "import pandas as pd\n",
        "pd.set_option('display.max_columns', None)\n",
        "import numpy as np\n",
        "import math\n",
        "\n",
        "import seaborn as sns\n",
        "import matplotlib.pyplot as plt\n",
        "%matplotlib inline\n",
        "\n",
        "from IPython.display import display\n",
        "\n",
        "from sklearn.model_selection import train_test_split\n",
        "from sklearn.feature_extraction import DictVectorizer\n",
        "from sklearn.linear_model import LogisticRegression\n",
        "\n",
        "from sklearn.metrics import mutual_info_score\n",
        "from sklearn.metrics import precision_score, recall_score, f1_score, accuracy_score\n",
        "from sklearn.metrics import precision_recall_curve\n",
        "from sklearn.metrics import PrecisionRecallDisplay\n",
        "from sklearn.metrics import roc_auc_score\n",
        "from sklearn.metrics import confusion_matrix, roc_curve, auc, ConfusionMatrixDisplay\n",
        "from sklearn.metrics import roc_auc_score\n",
        "from sklearn.metrics import accuracy_score"
      ],
      "metadata": {
        "id": "4NoSodRIY8Jh"
      },
      "execution_count": 61,
      "outputs": []
    },
    {
      "cell_type": "code",
      "source": [
        "!pip install kaggle\n",
        "\n",
        "import os\n",
        "\n",
        "os.environ['KAGGLE_USERNAME'] = 'johnmohsbeck'\n",
        "os.environ['KAGGLE_KEY'] = 'd1f230cf1aba75ec936a726ca195c7a1'"
      ],
      "metadata": {
        "id": "b6iar4rUY7NM",
        "outputId": "a56590cb-725d-41be-c9e7-be733328df7d",
        "colab": {
          "base_uri": "https://localhost:8080/"
        }
      },
      "execution_count": 2,
      "outputs": [
        {
          "output_type": "stream",
          "name": "stdout",
          "text": [
            "Looking in indexes: https://pypi.org/simple, https://us-python.pkg.dev/colab-wheels/public/simple/\n",
            "Requirement already satisfied: kaggle in /usr/local/lib/python3.10/dist-packages (1.5.13)\n",
            "Requirement already satisfied: six>=1.10 in /usr/local/lib/python3.10/dist-packages (from kaggle) (1.16.0)\n",
            "Requirement already satisfied: certifi in /usr/local/lib/python3.10/dist-packages (from kaggle) (2022.12.7)\n",
            "Requirement already satisfied: python-dateutil in /usr/local/lib/python3.10/dist-packages (from kaggle) (2.8.2)\n",
            "Requirement already satisfied: requests in /usr/local/lib/python3.10/dist-packages (from kaggle) (2.27.1)\n",
            "Requirement already satisfied: tqdm in /usr/local/lib/python3.10/dist-packages (from kaggle) (4.65.0)\n",
            "Requirement already satisfied: python-slugify in /usr/local/lib/python3.10/dist-packages (from kaggle) (8.0.1)\n",
            "Requirement already satisfied: urllib3 in /usr/local/lib/python3.10/dist-packages (from kaggle) (1.26.15)\n",
            "Requirement already satisfied: text-unidecode>=1.3 in /usr/local/lib/python3.10/dist-packages (from python-slugify->kaggle) (1.3)\n",
            "Requirement already satisfied: charset-normalizer~=2.0.0 in /usr/local/lib/python3.10/dist-packages (from requests->kaggle) (2.0.12)\n",
            "Requirement already satisfied: idna<4,>=2.5 in /usr/local/lib/python3.10/dist-packages (from requests->kaggle) (3.4)\n"
          ]
        }
      ]
    },
    {
      "cell_type": "code",
      "source": [
        "import kaggle\n",
        "\n",
        "kaggle.api.dataset_download_files('pratjain/credit-card-default', path='./data', unzip=True)"
      ],
      "metadata": {
        "id": "2wTcuWiRZNmh"
      },
      "execution_count": 3,
      "outputs": []
    },
    {
      "cell_type": "markdown",
      "source": [
        "## Read the Dataset\n",
        "\n",
        "https://www.kaggle.com/datasets/pratjain/credit-card-default\n"
      ],
      "metadata": {
        "id": "sPKccRArci28"
      }
    },
    {
      "cell_type": "code",
      "source": [
        "df = pd.read_csv('./data/credit_card_default_TRAIN.csv')"
      ],
      "metadata": {
        "id": "FeTdUeYkZres"
      },
      "execution_count": 4,
      "outputs": []
    },
    {
      "cell_type": "code",
      "source": [
        "df.shape"
      ],
      "metadata": {
        "colab": {
          "base_uri": "https://localhost:8080/"
        },
        "id": "sytSvb3Havde",
        "outputId": "520d078e-16e6-4d24-8923-670fda0e2c03"
      },
      "execution_count": 5,
      "outputs": [
        {
          "output_type": "execute_result",
          "data": {
            "text/plain": [
              "(22501, 25)"
            ]
          },
          "metadata": {},
          "execution_count": 5
        }
      ]
    },
    {
      "cell_type": "code",
      "source": [
        "df.head()"
      ],
      "metadata": {
        "colab": {
          "base_uri": "https://localhost:8080/",
          "height": 352
        },
        "id": "pNjFOWRThtx0",
        "outputId": "e8234fdb-9117-4730-9c78-6145cba8db0a"
      },
      "execution_count": 6,
      "outputs": [
        {
          "output_type": "execute_result",
          "data": {
            "text/plain": [
              "  Variable         X1   X2         X3        X4   X5     X6     X7     X8  \\\n",
              "0       ID  LIMIT_BAL  SEX  EDUCATION  MARRIAGE  AGE  PAY_0  PAY_2  PAY_3   \n",
              "1        1      20000    2          2         1   24      2      2     -1   \n",
              "2        2     120000    2          2         2   26     -1      2      0   \n",
              "3        3      90000    2          2         2   34      0      0      0   \n",
              "4        4      50000    2          2         1   37      0      0      0   \n",
              "\n",
              "      X9  ...        X15        X16        X17       X18       X19       X20  \\\n",
              "0  PAY_4  ...  BILL_AMT4  BILL_AMT5  BILL_AMT6  PAY_AMT1  PAY_AMT2  PAY_AMT3   \n",
              "1     -1  ...          0          0          0         0       689         0   \n",
              "2      0  ...       3272       3455       3261         0      1000      1000   \n",
              "3      0  ...      14331      14948      15549      1518      1500      1000   \n",
              "4      0  ...      28314      28959      29547      2000      2019      1200   \n",
              "\n",
              "        X21       X22       X23                           Y  \n",
              "0  PAY_AMT4  PAY_AMT5  PAY_AMT6  default payment next month  \n",
              "1         0         0         0                           1  \n",
              "2      1000         0      2000                           1  \n",
              "3      1000      1000      5000                           0  \n",
              "4      1100      1069      1000                           0  \n",
              "\n",
              "[5 rows x 25 columns]"
            ],
            "text/html": [
              "\n",
              "  <div id=\"df-51f54bec-7819-4c74-befb-d59c66ee99b9\">\n",
              "    <div class=\"colab-df-container\">\n",
              "      <div>\n",
              "<style scoped>\n",
              "    .dataframe tbody tr th:only-of-type {\n",
              "        vertical-align: middle;\n",
              "    }\n",
              "\n",
              "    .dataframe tbody tr th {\n",
              "        vertical-align: top;\n",
              "    }\n",
              "\n",
              "    .dataframe thead th {\n",
              "        text-align: right;\n",
              "    }\n",
              "</style>\n",
              "<table border=\"1\" class=\"dataframe\">\n",
              "  <thead>\n",
              "    <tr style=\"text-align: right;\">\n",
              "      <th></th>\n",
              "      <th>Variable</th>\n",
              "      <th>X1</th>\n",
              "      <th>X2</th>\n",
              "      <th>X3</th>\n",
              "      <th>X4</th>\n",
              "      <th>X5</th>\n",
              "      <th>X6</th>\n",
              "      <th>X7</th>\n",
              "      <th>X8</th>\n",
              "      <th>X9</th>\n",
              "      <th>...</th>\n",
              "      <th>X15</th>\n",
              "      <th>X16</th>\n",
              "      <th>X17</th>\n",
              "      <th>X18</th>\n",
              "      <th>X19</th>\n",
              "      <th>X20</th>\n",
              "      <th>X21</th>\n",
              "      <th>X22</th>\n",
              "      <th>X23</th>\n",
              "      <th>Y</th>\n",
              "    </tr>\n",
              "  </thead>\n",
              "  <tbody>\n",
              "    <tr>\n",
              "      <th>0</th>\n",
              "      <td>ID</td>\n",
              "      <td>LIMIT_BAL</td>\n",
              "      <td>SEX</td>\n",
              "      <td>EDUCATION</td>\n",
              "      <td>MARRIAGE</td>\n",
              "      <td>AGE</td>\n",
              "      <td>PAY_0</td>\n",
              "      <td>PAY_2</td>\n",
              "      <td>PAY_3</td>\n",
              "      <td>PAY_4</td>\n",
              "      <td>...</td>\n",
              "      <td>BILL_AMT4</td>\n",
              "      <td>BILL_AMT5</td>\n",
              "      <td>BILL_AMT6</td>\n",
              "      <td>PAY_AMT1</td>\n",
              "      <td>PAY_AMT2</td>\n",
              "      <td>PAY_AMT3</td>\n",
              "      <td>PAY_AMT4</td>\n",
              "      <td>PAY_AMT5</td>\n",
              "      <td>PAY_AMT6</td>\n",
              "      <td>default payment next month</td>\n",
              "    </tr>\n",
              "    <tr>\n",
              "      <th>1</th>\n",
              "      <td>1</td>\n",
              "      <td>20000</td>\n",
              "      <td>2</td>\n",
              "      <td>2</td>\n",
              "      <td>1</td>\n",
              "      <td>24</td>\n",
              "      <td>2</td>\n",
              "      <td>2</td>\n",
              "      <td>-1</td>\n",
              "      <td>-1</td>\n",
              "      <td>...</td>\n",
              "      <td>0</td>\n",
              "      <td>0</td>\n",
              "      <td>0</td>\n",
              "      <td>0</td>\n",
              "      <td>689</td>\n",
              "      <td>0</td>\n",
              "      <td>0</td>\n",
              "      <td>0</td>\n",
              "      <td>0</td>\n",
              "      <td>1</td>\n",
              "    </tr>\n",
              "    <tr>\n",
              "      <th>2</th>\n",
              "      <td>2</td>\n",
              "      <td>120000</td>\n",
              "      <td>2</td>\n",
              "      <td>2</td>\n",
              "      <td>2</td>\n",
              "      <td>26</td>\n",
              "      <td>-1</td>\n",
              "      <td>2</td>\n",
              "      <td>0</td>\n",
              "      <td>0</td>\n",
              "      <td>...</td>\n",
              "      <td>3272</td>\n",
              "      <td>3455</td>\n",
              "      <td>3261</td>\n",
              "      <td>0</td>\n",
              "      <td>1000</td>\n",
              "      <td>1000</td>\n",
              "      <td>1000</td>\n",
              "      <td>0</td>\n",
              "      <td>2000</td>\n",
              "      <td>1</td>\n",
              "    </tr>\n",
              "    <tr>\n",
              "      <th>3</th>\n",
              "      <td>3</td>\n",
              "      <td>90000</td>\n",
              "      <td>2</td>\n",
              "      <td>2</td>\n",
              "      <td>2</td>\n",
              "      <td>34</td>\n",
              "      <td>0</td>\n",
              "      <td>0</td>\n",
              "      <td>0</td>\n",
              "      <td>0</td>\n",
              "      <td>...</td>\n",
              "      <td>14331</td>\n",
              "      <td>14948</td>\n",
              "      <td>15549</td>\n",
              "      <td>1518</td>\n",
              "      <td>1500</td>\n",
              "      <td>1000</td>\n",
              "      <td>1000</td>\n",
              "      <td>1000</td>\n",
              "      <td>5000</td>\n",
              "      <td>0</td>\n",
              "    </tr>\n",
              "    <tr>\n",
              "      <th>4</th>\n",
              "      <td>4</td>\n",
              "      <td>50000</td>\n",
              "      <td>2</td>\n",
              "      <td>2</td>\n",
              "      <td>1</td>\n",
              "      <td>37</td>\n",
              "      <td>0</td>\n",
              "      <td>0</td>\n",
              "      <td>0</td>\n",
              "      <td>0</td>\n",
              "      <td>...</td>\n",
              "      <td>28314</td>\n",
              "      <td>28959</td>\n",
              "      <td>29547</td>\n",
              "      <td>2000</td>\n",
              "      <td>2019</td>\n",
              "      <td>1200</td>\n",
              "      <td>1100</td>\n",
              "      <td>1069</td>\n",
              "      <td>1000</td>\n",
              "      <td>0</td>\n",
              "    </tr>\n",
              "  </tbody>\n",
              "</table>\n",
              "<p>5 rows × 25 columns</p>\n",
              "</div>\n",
              "      <button class=\"colab-df-convert\" onclick=\"convertToInteractive('df-51f54bec-7819-4c74-befb-d59c66ee99b9')\"\n",
              "              title=\"Convert this dataframe to an interactive table.\"\n",
              "              style=\"display:none;\">\n",
              "        \n",
              "  <svg xmlns=\"http://www.w3.org/2000/svg\" height=\"24px\"viewBox=\"0 0 24 24\"\n",
              "       width=\"24px\">\n",
              "    <path d=\"M0 0h24v24H0V0z\" fill=\"none\"/>\n",
              "    <path d=\"M18.56 5.44l.94 2.06.94-2.06 2.06-.94-2.06-.94-.94-2.06-.94 2.06-2.06.94zm-11 1L8.5 8.5l.94-2.06 2.06-.94-2.06-.94L8.5 2.5l-.94 2.06-2.06.94zm10 10l.94 2.06.94-2.06 2.06-.94-2.06-.94-.94-2.06-.94 2.06-2.06.94z\"/><path d=\"M17.41 7.96l-1.37-1.37c-.4-.4-.92-.59-1.43-.59-.52 0-1.04.2-1.43.59L10.3 9.45l-7.72 7.72c-.78.78-.78 2.05 0 2.83L4 21.41c.39.39.9.59 1.41.59.51 0 1.02-.2 1.41-.59l7.78-7.78 2.81-2.81c.8-.78.8-2.07 0-2.86zM5.41 20L4 18.59l7.72-7.72 1.47 1.35L5.41 20z\"/>\n",
              "  </svg>\n",
              "      </button>\n",
              "      \n",
              "  <style>\n",
              "    .colab-df-container {\n",
              "      display:flex;\n",
              "      flex-wrap:wrap;\n",
              "      gap: 12px;\n",
              "    }\n",
              "\n",
              "    .colab-df-convert {\n",
              "      background-color: #E8F0FE;\n",
              "      border: none;\n",
              "      border-radius: 50%;\n",
              "      cursor: pointer;\n",
              "      display: none;\n",
              "      fill: #1967D2;\n",
              "      height: 32px;\n",
              "      padding: 0 0 0 0;\n",
              "      width: 32px;\n",
              "    }\n",
              "\n",
              "    .colab-df-convert:hover {\n",
              "      background-color: #E2EBFA;\n",
              "      box-shadow: 0px 1px 2px rgba(60, 64, 67, 0.3), 0px 1px 3px 1px rgba(60, 64, 67, 0.15);\n",
              "      fill: #174EA6;\n",
              "    }\n",
              "\n",
              "    [theme=dark] .colab-df-convert {\n",
              "      background-color: #3B4455;\n",
              "      fill: #D2E3FC;\n",
              "    }\n",
              "\n",
              "    [theme=dark] .colab-df-convert:hover {\n",
              "      background-color: #434B5C;\n",
              "      box-shadow: 0px 1px 3px 1px rgba(0, 0, 0, 0.15);\n",
              "      filter: drop-shadow(0px 1px 2px rgba(0, 0, 0, 0.3));\n",
              "      fill: #FFFFFF;\n",
              "    }\n",
              "  </style>\n",
              "\n",
              "      <script>\n",
              "        const buttonEl =\n",
              "          document.querySelector('#df-51f54bec-7819-4c74-befb-d59c66ee99b9 button.colab-df-convert');\n",
              "        buttonEl.style.display =\n",
              "          google.colab.kernel.accessAllowed ? 'block' : 'none';\n",
              "\n",
              "        async function convertToInteractive(key) {\n",
              "          const element = document.querySelector('#df-51f54bec-7819-4c74-befb-d59c66ee99b9');\n",
              "          const dataTable =\n",
              "            await google.colab.kernel.invokeFunction('convertToInteractive',\n",
              "                                                     [key], {});\n",
              "          if (!dataTable) return;\n",
              "\n",
              "          const docLinkHtml = 'Like what you see? Visit the ' +\n",
              "            '<a target=\"_blank\" href=https://colab.research.google.com/notebooks/data_table.ipynb>data table notebook</a>'\n",
              "            + ' to learn more about interactive tables.';\n",
              "          element.innerHTML = '';\n",
              "          dataTable['output_type'] = 'display_data';\n",
              "          await google.colab.output.renderOutput(dataTable, element);\n",
              "          const docLink = document.createElement('div');\n",
              "          docLink.innerHTML = docLinkHtml;\n",
              "          element.appendChild(docLink);\n",
              "        }\n",
              "      </script>\n",
              "    </div>\n",
              "  </div>\n",
              "  "
            ]
          },
          "metadata": {},
          "execution_count": 6
        }
      ]
    },
    {
      "cell_type": "code",
      "source": [
        "first_rec = df.iloc[0]\n",
        "print(first_rec)"
      ],
      "metadata": {
        "colab": {
          "base_uri": "https://localhost:8080/"
        },
        "id": "kOf_Z043lS6D",
        "outputId": "22164139-b144-4ace-8fdc-10c8ed264197"
      },
      "execution_count": 7,
      "outputs": [
        {
          "output_type": "stream",
          "name": "stdout",
          "text": [
            "Variable                            ID\n",
            "X1                           LIMIT_BAL\n",
            "X2                                 SEX\n",
            "X3                           EDUCATION\n",
            "X4                            MARRIAGE\n",
            "X5                                 AGE\n",
            "X6                               PAY_0\n",
            "X7                               PAY_2\n",
            "X8                               PAY_3\n",
            "X9                               PAY_4\n",
            "X10                              PAY_5\n",
            "X11                              PAY_6\n",
            "X12                          BILL_AMT1\n",
            "X13                          BILL_AMT2\n",
            "X14                          BILL_AMT3\n",
            "X15                          BILL_AMT4\n",
            "X16                          BILL_AMT5\n",
            "X17                          BILL_AMT6\n",
            "X18                           PAY_AMT1\n",
            "X19                           PAY_AMT2\n",
            "X20                           PAY_AMT3\n",
            "X21                           PAY_AMT4\n",
            "X22                           PAY_AMT5\n",
            "X23                           PAY_AMT6\n",
            "Y           default payment next month\n",
            "Name: 0, dtype: object\n"
          ]
        }
      ]
    },
    {
      "cell_type": "code",
      "source": [
        "cols = first_rec.to_list()"
      ],
      "metadata": {
        "id": "QBLd1ZMMlnJ9"
      },
      "execution_count": 8,
      "outputs": []
    },
    {
      "cell_type": "code",
      "source": [
        "cols"
      ],
      "metadata": {
        "colab": {
          "base_uri": "https://localhost:8080/"
        },
        "id": "PuPE9ob0l0y6",
        "outputId": "897a4616-7e15-477c-966f-2fa022d02e79"
      },
      "execution_count": 9,
      "outputs": [
        {
          "output_type": "execute_result",
          "data": {
            "text/plain": [
              "['ID',\n",
              " 'LIMIT_BAL',\n",
              " 'SEX',\n",
              " 'EDUCATION',\n",
              " 'MARRIAGE',\n",
              " 'AGE',\n",
              " 'PAY_0',\n",
              " 'PAY_2',\n",
              " 'PAY_3',\n",
              " 'PAY_4',\n",
              " 'PAY_5',\n",
              " 'PAY_6',\n",
              " 'BILL_AMT1',\n",
              " 'BILL_AMT2',\n",
              " 'BILL_AMT3',\n",
              " 'BILL_AMT4',\n",
              " 'BILL_AMT5',\n",
              " 'BILL_AMT6',\n",
              " 'PAY_AMT1',\n",
              " 'PAY_AMT2',\n",
              " 'PAY_AMT3',\n",
              " 'PAY_AMT4',\n",
              " 'PAY_AMT5',\n",
              " 'PAY_AMT6',\n",
              " 'default payment next month']"
            ]
          },
          "metadata": {},
          "execution_count": 9
        }
      ]
    },
    {
      "cell_type": "code",
      "source": [
        "df.columns = cols"
      ],
      "metadata": {
        "id": "POEi6bYcl38q"
      },
      "execution_count": 10,
      "outputs": []
    },
    {
      "cell_type": "code",
      "source": [
        "df.head(1)"
      ],
      "metadata": {
        "colab": {
          "base_uri": "https://localhost:8080/",
          "height": 278
        },
        "id": "Q4lrhbpDl7Vs",
        "outputId": "5dd6e2da-606a-485d-ce6c-dfd694f5bf71"
      },
      "execution_count": 11,
      "outputs": [
        {
          "output_type": "execute_result",
          "data": {
            "text/plain": [
              "   ID  LIMIT_BAL  SEX  EDUCATION  MARRIAGE  AGE  PAY_0  PAY_2  PAY_3  PAY_4  \\\n",
              "0  ID  LIMIT_BAL  SEX  EDUCATION  MARRIAGE  AGE  PAY_0  PAY_2  PAY_3  PAY_4   \n",
              "\n",
              "   ...  BILL_AMT4  BILL_AMT5  BILL_AMT6  PAY_AMT1  PAY_AMT2  PAY_AMT3  \\\n",
              "0  ...  BILL_AMT4  BILL_AMT5  BILL_AMT6  PAY_AMT1  PAY_AMT2  PAY_AMT3   \n",
              "\n",
              "   PAY_AMT4  PAY_AMT5  PAY_AMT6  default payment next month  \n",
              "0  PAY_AMT4  PAY_AMT5  PAY_AMT6  default payment next month  \n",
              "\n",
              "[1 rows x 25 columns]"
            ],
            "text/html": [
              "\n",
              "  <div id=\"df-8e008beb-3be3-4f0c-996a-1bf66cfe29e0\">\n",
              "    <div class=\"colab-df-container\">\n",
              "      <div>\n",
              "<style scoped>\n",
              "    .dataframe tbody tr th:only-of-type {\n",
              "        vertical-align: middle;\n",
              "    }\n",
              "\n",
              "    .dataframe tbody tr th {\n",
              "        vertical-align: top;\n",
              "    }\n",
              "\n",
              "    .dataframe thead th {\n",
              "        text-align: right;\n",
              "    }\n",
              "</style>\n",
              "<table border=\"1\" class=\"dataframe\">\n",
              "  <thead>\n",
              "    <tr style=\"text-align: right;\">\n",
              "      <th></th>\n",
              "      <th>ID</th>\n",
              "      <th>LIMIT_BAL</th>\n",
              "      <th>SEX</th>\n",
              "      <th>EDUCATION</th>\n",
              "      <th>MARRIAGE</th>\n",
              "      <th>AGE</th>\n",
              "      <th>PAY_0</th>\n",
              "      <th>PAY_2</th>\n",
              "      <th>PAY_3</th>\n",
              "      <th>PAY_4</th>\n",
              "      <th>...</th>\n",
              "      <th>BILL_AMT4</th>\n",
              "      <th>BILL_AMT5</th>\n",
              "      <th>BILL_AMT6</th>\n",
              "      <th>PAY_AMT1</th>\n",
              "      <th>PAY_AMT2</th>\n",
              "      <th>PAY_AMT3</th>\n",
              "      <th>PAY_AMT4</th>\n",
              "      <th>PAY_AMT5</th>\n",
              "      <th>PAY_AMT6</th>\n",
              "      <th>default payment next month</th>\n",
              "    </tr>\n",
              "  </thead>\n",
              "  <tbody>\n",
              "    <tr>\n",
              "      <th>0</th>\n",
              "      <td>ID</td>\n",
              "      <td>LIMIT_BAL</td>\n",
              "      <td>SEX</td>\n",
              "      <td>EDUCATION</td>\n",
              "      <td>MARRIAGE</td>\n",
              "      <td>AGE</td>\n",
              "      <td>PAY_0</td>\n",
              "      <td>PAY_2</td>\n",
              "      <td>PAY_3</td>\n",
              "      <td>PAY_4</td>\n",
              "      <td>...</td>\n",
              "      <td>BILL_AMT4</td>\n",
              "      <td>BILL_AMT5</td>\n",
              "      <td>BILL_AMT6</td>\n",
              "      <td>PAY_AMT1</td>\n",
              "      <td>PAY_AMT2</td>\n",
              "      <td>PAY_AMT3</td>\n",
              "      <td>PAY_AMT4</td>\n",
              "      <td>PAY_AMT5</td>\n",
              "      <td>PAY_AMT6</td>\n",
              "      <td>default payment next month</td>\n",
              "    </tr>\n",
              "  </tbody>\n",
              "</table>\n",
              "<p>1 rows × 25 columns</p>\n",
              "</div>\n",
              "      <button class=\"colab-df-convert\" onclick=\"convertToInteractive('df-8e008beb-3be3-4f0c-996a-1bf66cfe29e0')\"\n",
              "              title=\"Convert this dataframe to an interactive table.\"\n",
              "              style=\"display:none;\">\n",
              "        \n",
              "  <svg xmlns=\"http://www.w3.org/2000/svg\" height=\"24px\"viewBox=\"0 0 24 24\"\n",
              "       width=\"24px\">\n",
              "    <path d=\"M0 0h24v24H0V0z\" fill=\"none\"/>\n",
              "    <path d=\"M18.56 5.44l.94 2.06.94-2.06 2.06-.94-2.06-.94-.94-2.06-.94 2.06-2.06.94zm-11 1L8.5 8.5l.94-2.06 2.06-.94-2.06-.94L8.5 2.5l-.94 2.06-2.06.94zm10 10l.94 2.06.94-2.06 2.06-.94-2.06-.94-.94-2.06-.94 2.06-2.06.94z\"/><path d=\"M17.41 7.96l-1.37-1.37c-.4-.4-.92-.59-1.43-.59-.52 0-1.04.2-1.43.59L10.3 9.45l-7.72 7.72c-.78.78-.78 2.05 0 2.83L4 21.41c.39.39.9.59 1.41.59.51 0 1.02-.2 1.41-.59l7.78-7.78 2.81-2.81c.8-.78.8-2.07 0-2.86zM5.41 20L4 18.59l7.72-7.72 1.47 1.35L5.41 20z\"/>\n",
              "  </svg>\n",
              "      </button>\n",
              "      \n",
              "  <style>\n",
              "    .colab-df-container {\n",
              "      display:flex;\n",
              "      flex-wrap:wrap;\n",
              "      gap: 12px;\n",
              "    }\n",
              "\n",
              "    .colab-df-convert {\n",
              "      background-color: #E8F0FE;\n",
              "      border: none;\n",
              "      border-radius: 50%;\n",
              "      cursor: pointer;\n",
              "      display: none;\n",
              "      fill: #1967D2;\n",
              "      height: 32px;\n",
              "      padding: 0 0 0 0;\n",
              "      width: 32px;\n",
              "    }\n",
              "\n",
              "    .colab-df-convert:hover {\n",
              "      background-color: #E2EBFA;\n",
              "      box-shadow: 0px 1px 2px rgba(60, 64, 67, 0.3), 0px 1px 3px 1px rgba(60, 64, 67, 0.15);\n",
              "      fill: #174EA6;\n",
              "    }\n",
              "\n",
              "    [theme=dark] .colab-df-convert {\n",
              "      background-color: #3B4455;\n",
              "      fill: #D2E3FC;\n",
              "    }\n",
              "\n",
              "    [theme=dark] .colab-df-convert:hover {\n",
              "      background-color: #434B5C;\n",
              "      box-shadow: 0px 1px 3px 1px rgba(0, 0, 0, 0.15);\n",
              "      filter: drop-shadow(0px 1px 2px rgba(0, 0, 0, 0.3));\n",
              "      fill: #FFFFFF;\n",
              "    }\n",
              "  </style>\n",
              "\n",
              "      <script>\n",
              "        const buttonEl =\n",
              "          document.querySelector('#df-8e008beb-3be3-4f0c-996a-1bf66cfe29e0 button.colab-df-convert');\n",
              "        buttonEl.style.display =\n",
              "          google.colab.kernel.accessAllowed ? 'block' : 'none';\n",
              "\n",
              "        async function convertToInteractive(key) {\n",
              "          const element = document.querySelector('#df-8e008beb-3be3-4f0c-996a-1bf66cfe29e0');\n",
              "          const dataTable =\n",
              "            await google.colab.kernel.invokeFunction('convertToInteractive',\n",
              "                                                     [key], {});\n",
              "          if (!dataTable) return;\n",
              "\n",
              "          const docLinkHtml = 'Like what you see? Visit the ' +\n",
              "            '<a target=\"_blank\" href=https://colab.research.google.com/notebooks/data_table.ipynb>data table notebook</a>'\n",
              "            + ' to learn more about interactive tables.';\n",
              "          element.innerHTML = '';\n",
              "          dataTable['output_type'] = 'display_data';\n",
              "          await google.colab.output.renderOutput(dataTable, element);\n",
              "          const docLink = document.createElement('div');\n",
              "          docLink.innerHTML = docLinkHtml;\n",
              "          element.appendChild(docLink);\n",
              "        }\n",
              "      </script>\n",
              "    </div>\n",
              "  </div>\n",
              "  "
            ]
          },
          "metadata": {},
          "execution_count": 11
        }
      ]
    },
    {
      "cell_type": "code",
      "source": [
        "df.drop(index=df.index[0], axis=0, inplace=True)"
      ],
      "metadata": {
        "id": "7ftWIXbroR4q"
      },
      "execution_count": 12,
      "outputs": []
    },
    {
      "cell_type": "code",
      "source": [
        "df.head()"
      ],
      "metadata": {
        "colab": {
          "base_uri": "https://localhost:8080/",
          "height": 352
        },
        "id": "0mVQ50NioUPx",
        "outputId": "eda39727-a12e-46c9-91d1-ab922eba641e"
      },
      "execution_count": 13,
      "outputs": [
        {
          "output_type": "execute_result",
          "data": {
            "text/plain": [
              "  ID LIMIT_BAL SEX EDUCATION MARRIAGE AGE PAY_0 PAY_2 PAY_3 PAY_4  ...  \\\n",
              "1  1     20000   2         2        1  24     2     2    -1    -1  ...   \n",
              "2  2    120000   2         2        2  26    -1     2     0     0  ...   \n",
              "3  3     90000   2         2        2  34     0     0     0     0  ...   \n",
              "4  4     50000   2         2        1  37     0     0     0     0  ...   \n",
              "5  5     50000   1         2        1  57    -1     0    -1     0  ...   \n",
              "\n",
              "  BILL_AMT4 BILL_AMT5 BILL_AMT6 PAY_AMT1 PAY_AMT2 PAY_AMT3 PAY_AMT4 PAY_AMT5  \\\n",
              "1         0         0         0        0      689        0        0        0   \n",
              "2      3272      3455      3261        0     1000     1000     1000        0   \n",
              "3     14331     14948     15549     1518     1500     1000     1000     1000   \n",
              "4     28314     28959     29547     2000     2019     1200     1100     1069   \n",
              "5     20940     19146     19131     2000    36681    10000     9000      689   \n",
              "\n",
              "  PAY_AMT6 default payment next month  \n",
              "1        0                          1  \n",
              "2     2000                          1  \n",
              "3     5000                          0  \n",
              "4     1000                          0  \n",
              "5      679                          0  \n",
              "\n",
              "[5 rows x 25 columns]"
            ],
            "text/html": [
              "\n",
              "  <div id=\"df-f3ecaaa4-a948-41a2-b6f3-e630a1a8f276\">\n",
              "    <div class=\"colab-df-container\">\n",
              "      <div>\n",
              "<style scoped>\n",
              "    .dataframe tbody tr th:only-of-type {\n",
              "        vertical-align: middle;\n",
              "    }\n",
              "\n",
              "    .dataframe tbody tr th {\n",
              "        vertical-align: top;\n",
              "    }\n",
              "\n",
              "    .dataframe thead th {\n",
              "        text-align: right;\n",
              "    }\n",
              "</style>\n",
              "<table border=\"1\" class=\"dataframe\">\n",
              "  <thead>\n",
              "    <tr style=\"text-align: right;\">\n",
              "      <th></th>\n",
              "      <th>ID</th>\n",
              "      <th>LIMIT_BAL</th>\n",
              "      <th>SEX</th>\n",
              "      <th>EDUCATION</th>\n",
              "      <th>MARRIAGE</th>\n",
              "      <th>AGE</th>\n",
              "      <th>PAY_0</th>\n",
              "      <th>PAY_2</th>\n",
              "      <th>PAY_3</th>\n",
              "      <th>PAY_4</th>\n",
              "      <th>...</th>\n",
              "      <th>BILL_AMT4</th>\n",
              "      <th>BILL_AMT5</th>\n",
              "      <th>BILL_AMT6</th>\n",
              "      <th>PAY_AMT1</th>\n",
              "      <th>PAY_AMT2</th>\n",
              "      <th>PAY_AMT3</th>\n",
              "      <th>PAY_AMT4</th>\n",
              "      <th>PAY_AMT5</th>\n",
              "      <th>PAY_AMT6</th>\n",
              "      <th>default payment next month</th>\n",
              "    </tr>\n",
              "  </thead>\n",
              "  <tbody>\n",
              "    <tr>\n",
              "      <th>1</th>\n",
              "      <td>1</td>\n",
              "      <td>20000</td>\n",
              "      <td>2</td>\n",
              "      <td>2</td>\n",
              "      <td>1</td>\n",
              "      <td>24</td>\n",
              "      <td>2</td>\n",
              "      <td>2</td>\n",
              "      <td>-1</td>\n",
              "      <td>-1</td>\n",
              "      <td>...</td>\n",
              "      <td>0</td>\n",
              "      <td>0</td>\n",
              "      <td>0</td>\n",
              "      <td>0</td>\n",
              "      <td>689</td>\n",
              "      <td>0</td>\n",
              "      <td>0</td>\n",
              "      <td>0</td>\n",
              "      <td>0</td>\n",
              "      <td>1</td>\n",
              "    </tr>\n",
              "    <tr>\n",
              "      <th>2</th>\n",
              "      <td>2</td>\n",
              "      <td>120000</td>\n",
              "      <td>2</td>\n",
              "      <td>2</td>\n",
              "      <td>2</td>\n",
              "      <td>26</td>\n",
              "      <td>-1</td>\n",
              "      <td>2</td>\n",
              "      <td>0</td>\n",
              "      <td>0</td>\n",
              "      <td>...</td>\n",
              "      <td>3272</td>\n",
              "      <td>3455</td>\n",
              "      <td>3261</td>\n",
              "      <td>0</td>\n",
              "      <td>1000</td>\n",
              "      <td>1000</td>\n",
              "      <td>1000</td>\n",
              "      <td>0</td>\n",
              "      <td>2000</td>\n",
              "      <td>1</td>\n",
              "    </tr>\n",
              "    <tr>\n",
              "      <th>3</th>\n",
              "      <td>3</td>\n",
              "      <td>90000</td>\n",
              "      <td>2</td>\n",
              "      <td>2</td>\n",
              "      <td>2</td>\n",
              "      <td>34</td>\n",
              "      <td>0</td>\n",
              "      <td>0</td>\n",
              "      <td>0</td>\n",
              "      <td>0</td>\n",
              "      <td>...</td>\n",
              "      <td>14331</td>\n",
              "      <td>14948</td>\n",
              "      <td>15549</td>\n",
              "      <td>1518</td>\n",
              "      <td>1500</td>\n",
              "      <td>1000</td>\n",
              "      <td>1000</td>\n",
              "      <td>1000</td>\n",
              "      <td>5000</td>\n",
              "      <td>0</td>\n",
              "    </tr>\n",
              "    <tr>\n",
              "      <th>4</th>\n",
              "      <td>4</td>\n",
              "      <td>50000</td>\n",
              "      <td>2</td>\n",
              "      <td>2</td>\n",
              "      <td>1</td>\n",
              "      <td>37</td>\n",
              "      <td>0</td>\n",
              "      <td>0</td>\n",
              "      <td>0</td>\n",
              "      <td>0</td>\n",
              "      <td>...</td>\n",
              "      <td>28314</td>\n",
              "      <td>28959</td>\n",
              "      <td>29547</td>\n",
              "      <td>2000</td>\n",
              "      <td>2019</td>\n",
              "      <td>1200</td>\n",
              "      <td>1100</td>\n",
              "      <td>1069</td>\n",
              "      <td>1000</td>\n",
              "      <td>0</td>\n",
              "    </tr>\n",
              "    <tr>\n",
              "      <th>5</th>\n",
              "      <td>5</td>\n",
              "      <td>50000</td>\n",
              "      <td>1</td>\n",
              "      <td>2</td>\n",
              "      <td>1</td>\n",
              "      <td>57</td>\n",
              "      <td>-1</td>\n",
              "      <td>0</td>\n",
              "      <td>-1</td>\n",
              "      <td>0</td>\n",
              "      <td>...</td>\n",
              "      <td>20940</td>\n",
              "      <td>19146</td>\n",
              "      <td>19131</td>\n",
              "      <td>2000</td>\n",
              "      <td>36681</td>\n",
              "      <td>10000</td>\n",
              "      <td>9000</td>\n",
              "      <td>689</td>\n",
              "      <td>679</td>\n",
              "      <td>0</td>\n",
              "    </tr>\n",
              "  </tbody>\n",
              "</table>\n",
              "<p>5 rows × 25 columns</p>\n",
              "</div>\n",
              "      <button class=\"colab-df-convert\" onclick=\"convertToInteractive('df-f3ecaaa4-a948-41a2-b6f3-e630a1a8f276')\"\n",
              "              title=\"Convert this dataframe to an interactive table.\"\n",
              "              style=\"display:none;\">\n",
              "        \n",
              "  <svg xmlns=\"http://www.w3.org/2000/svg\" height=\"24px\"viewBox=\"0 0 24 24\"\n",
              "       width=\"24px\">\n",
              "    <path d=\"M0 0h24v24H0V0z\" fill=\"none\"/>\n",
              "    <path d=\"M18.56 5.44l.94 2.06.94-2.06 2.06-.94-2.06-.94-.94-2.06-.94 2.06-2.06.94zm-11 1L8.5 8.5l.94-2.06 2.06-.94-2.06-.94L8.5 2.5l-.94 2.06-2.06.94zm10 10l.94 2.06.94-2.06 2.06-.94-2.06-.94-.94-2.06-.94 2.06-2.06.94z\"/><path d=\"M17.41 7.96l-1.37-1.37c-.4-.4-.92-.59-1.43-.59-.52 0-1.04.2-1.43.59L10.3 9.45l-7.72 7.72c-.78.78-.78 2.05 0 2.83L4 21.41c.39.39.9.59 1.41.59.51 0 1.02-.2 1.41-.59l7.78-7.78 2.81-2.81c.8-.78.8-2.07 0-2.86zM5.41 20L4 18.59l7.72-7.72 1.47 1.35L5.41 20z\"/>\n",
              "  </svg>\n",
              "      </button>\n",
              "      \n",
              "  <style>\n",
              "    .colab-df-container {\n",
              "      display:flex;\n",
              "      flex-wrap:wrap;\n",
              "      gap: 12px;\n",
              "    }\n",
              "\n",
              "    .colab-df-convert {\n",
              "      background-color: #E8F0FE;\n",
              "      border: none;\n",
              "      border-radius: 50%;\n",
              "      cursor: pointer;\n",
              "      display: none;\n",
              "      fill: #1967D2;\n",
              "      height: 32px;\n",
              "      padding: 0 0 0 0;\n",
              "      width: 32px;\n",
              "    }\n",
              "\n",
              "    .colab-df-convert:hover {\n",
              "      background-color: #E2EBFA;\n",
              "      box-shadow: 0px 1px 2px rgba(60, 64, 67, 0.3), 0px 1px 3px 1px rgba(60, 64, 67, 0.15);\n",
              "      fill: #174EA6;\n",
              "    }\n",
              "\n",
              "    [theme=dark] .colab-df-convert {\n",
              "      background-color: #3B4455;\n",
              "      fill: #D2E3FC;\n",
              "    }\n",
              "\n",
              "    [theme=dark] .colab-df-convert:hover {\n",
              "      background-color: #434B5C;\n",
              "      box-shadow: 0px 1px 3px 1px rgba(0, 0, 0, 0.15);\n",
              "      filter: drop-shadow(0px 1px 2px rgba(0, 0, 0, 0.3));\n",
              "      fill: #FFFFFF;\n",
              "    }\n",
              "  </style>\n",
              "\n",
              "      <script>\n",
              "        const buttonEl =\n",
              "          document.querySelector('#df-f3ecaaa4-a948-41a2-b6f3-e630a1a8f276 button.colab-df-convert');\n",
              "        buttonEl.style.display =\n",
              "          google.colab.kernel.accessAllowed ? 'block' : 'none';\n",
              "\n",
              "        async function convertToInteractive(key) {\n",
              "          const element = document.querySelector('#df-f3ecaaa4-a948-41a2-b6f3-e630a1a8f276');\n",
              "          const dataTable =\n",
              "            await google.colab.kernel.invokeFunction('convertToInteractive',\n",
              "                                                     [key], {});\n",
              "          if (!dataTable) return;\n",
              "\n",
              "          const docLinkHtml = 'Like what you see? Visit the ' +\n",
              "            '<a target=\"_blank\" href=https://colab.research.google.com/notebooks/data_table.ipynb>data table notebook</a>'\n",
              "            + ' to learn more about interactive tables.';\n",
              "          element.innerHTML = '';\n",
              "          dataTable['output_type'] = 'display_data';\n",
              "          await google.colab.output.renderOutput(dataTable, element);\n",
              "          const docLink = document.createElement('div');\n",
              "          docLink.innerHTML = docLinkHtml;\n",
              "          element.appendChild(docLink);\n",
              "        }\n",
              "      </script>\n",
              "    </div>\n",
              "  </div>\n",
              "  "
            ]
          },
          "metadata": {},
          "execution_count": 13
        }
      ]
    },
    {
      "cell_type": "code",
      "source": [
        "df.info()"
      ],
      "metadata": {
        "colab": {
          "base_uri": "https://localhost:8080/"
        },
        "id": "Suw3Fb4xaxmg",
        "outputId": "cf53ef99-3bee-4a91-a041-79b254925ce7"
      },
      "execution_count": 14,
      "outputs": [
        {
          "output_type": "stream",
          "name": "stdout",
          "text": [
            "<class 'pandas.core.frame.DataFrame'>\n",
            "RangeIndex: 22500 entries, 1 to 22500\n",
            "Data columns (total 25 columns):\n",
            " #   Column                      Non-Null Count  Dtype \n",
            "---  ------                      --------------  ----- \n",
            " 0   ID                          22500 non-null  object\n",
            " 1   LIMIT_BAL                   22500 non-null  object\n",
            " 2   SEX                         22500 non-null  object\n",
            " 3   EDUCATION                   22500 non-null  object\n",
            " 4   MARRIAGE                    22500 non-null  object\n",
            " 5   AGE                         22500 non-null  object\n",
            " 6   PAY_0                       22500 non-null  object\n",
            " 7   PAY_2                       22500 non-null  object\n",
            " 8   PAY_3                       22500 non-null  object\n",
            " 9   PAY_4                       22500 non-null  object\n",
            " 10  PAY_5                       22500 non-null  object\n",
            " 11  PAY_6                       22500 non-null  object\n",
            " 12  BILL_AMT1                   22500 non-null  object\n",
            " 13  BILL_AMT2                   22500 non-null  object\n",
            " 14  BILL_AMT3                   22500 non-null  object\n",
            " 15  BILL_AMT4                   22500 non-null  object\n",
            " 16  BILL_AMT5                   22500 non-null  object\n",
            " 17  BILL_AMT6                   22500 non-null  object\n",
            " 18  PAY_AMT1                    22500 non-null  object\n",
            " 19  PAY_AMT2                    22500 non-null  object\n",
            " 20  PAY_AMT3                    22500 non-null  object\n",
            " 21  PAY_AMT4                    22500 non-null  object\n",
            " 22  PAY_AMT5                    22500 non-null  object\n",
            " 23  PAY_AMT6                    22500 non-null  object\n",
            " 24  default payment next month  22500 non-null  object\n",
            "dtypes: object(25)\n",
            "memory usage: 4.3+ MB\n"
          ]
        }
      ]
    },
    {
      "cell_type": "markdown",
      "source": [
        "## Transpose the Dataset to Make it Wide (not long)"
      ],
      "metadata": {
        "id": "QA_-4gOTco4l"
      }
    },
    {
      "cell_type": "code",
      "source": [
        "df.head().T"
      ],
      "metadata": {
        "colab": {
          "base_uri": "https://localhost:8080/",
          "height": 834
        },
        "id": "Mli79Rc0a1DR",
        "outputId": "e117b589-4659-4f5b-89a7-3c94745b6417"
      },
      "execution_count": 15,
      "outputs": [
        {
          "output_type": "execute_result",
          "data": {
            "text/plain": [
              "                                1       2      3      4      5\n",
              "ID                              1       2      3      4      5\n",
              "LIMIT_BAL                   20000  120000  90000  50000  50000\n",
              "SEX                             2       2      2      2      1\n",
              "EDUCATION                       2       2      2      2      2\n",
              "MARRIAGE                        1       2      2      1      1\n",
              "AGE                            24      26     34     37     57\n",
              "PAY_0                           2      -1      0      0     -1\n",
              "PAY_2                           2       2      0      0      0\n",
              "PAY_3                          -1       0      0      0     -1\n",
              "PAY_4                          -1       0      0      0      0\n",
              "PAY_5                          -2       0      0      0      0\n",
              "PAY_6                          -2       2      0      0      0\n",
              "BILL_AMT1                    3913    2682  29239  46990   8617\n",
              "BILL_AMT2                    3102    1725  14027  48233   5670\n",
              "BILL_AMT3                     689    2682  13559  49291  35835\n",
              "BILL_AMT4                       0    3272  14331  28314  20940\n",
              "BILL_AMT5                       0    3455  14948  28959  19146\n",
              "BILL_AMT6                       0    3261  15549  29547  19131\n",
              "PAY_AMT1                        0       0   1518   2000   2000\n",
              "PAY_AMT2                      689    1000   1500   2019  36681\n",
              "PAY_AMT3                        0    1000   1000   1200  10000\n",
              "PAY_AMT4                        0    1000   1000   1100   9000\n",
              "PAY_AMT5                        0       0   1000   1069    689\n",
              "PAY_AMT6                        0    2000   5000   1000    679\n",
              "default payment next month      1       1      0      0      0"
            ],
            "text/html": [
              "\n",
              "  <div id=\"df-df56097c-59c6-482c-8c25-389a8b22cb40\">\n",
              "    <div class=\"colab-df-container\">\n",
              "      <div>\n",
              "<style scoped>\n",
              "    .dataframe tbody tr th:only-of-type {\n",
              "        vertical-align: middle;\n",
              "    }\n",
              "\n",
              "    .dataframe tbody tr th {\n",
              "        vertical-align: top;\n",
              "    }\n",
              "\n",
              "    .dataframe thead th {\n",
              "        text-align: right;\n",
              "    }\n",
              "</style>\n",
              "<table border=\"1\" class=\"dataframe\">\n",
              "  <thead>\n",
              "    <tr style=\"text-align: right;\">\n",
              "      <th></th>\n",
              "      <th>1</th>\n",
              "      <th>2</th>\n",
              "      <th>3</th>\n",
              "      <th>4</th>\n",
              "      <th>5</th>\n",
              "    </tr>\n",
              "  </thead>\n",
              "  <tbody>\n",
              "    <tr>\n",
              "      <th>ID</th>\n",
              "      <td>1</td>\n",
              "      <td>2</td>\n",
              "      <td>3</td>\n",
              "      <td>4</td>\n",
              "      <td>5</td>\n",
              "    </tr>\n",
              "    <tr>\n",
              "      <th>LIMIT_BAL</th>\n",
              "      <td>20000</td>\n",
              "      <td>120000</td>\n",
              "      <td>90000</td>\n",
              "      <td>50000</td>\n",
              "      <td>50000</td>\n",
              "    </tr>\n",
              "    <tr>\n",
              "      <th>SEX</th>\n",
              "      <td>2</td>\n",
              "      <td>2</td>\n",
              "      <td>2</td>\n",
              "      <td>2</td>\n",
              "      <td>1</td>\n",
              "    </tr>\n",
              "    <tr>\n",
              "      <th>EDUCATION</th>\n",
              "      <td>2</td>\n",
              "      <td>2</td>\n",
              "      <td>2</td>\n",
              "      <td>2</td>\n",
              "      <td>2</td>\n",
              "    </tr>\n",
              "    <tr>\n",
              "      <th>MARRIAGE</th>\n",
              "      <td>1</td>\n",
              "      <td>2</td>\n",
              "      <td>2</td>\n",
              "      <td>1</td>\n",
              "      <td>1</td>\n",
              "    </tr>\n",
              "    <tr>\n",
              "      <th>AGE</th>\n",
              "      <td>24</td>\n",
              "      <td>26</td>\n",
              "      <td>34</td>\n",
              "      <td>37</td>\n",
              "      <td>57</td>\n",
              "    </tr>\n",
              "    <tr>\n",
              "      <th>PAY_0</th>\n",
              "      <td>2</td>\n",
              "      <td>-1</td>\n",
              "      <td>0</td>\n",
              "      <td>0</td>\n",
              "      <td>-1</td>\n",
              "    </tr>\n",
              "    <tr>\n",
              "      <th>PAY_2</th>\n",
              "      <td>2</td>\n",
              "      <td>2</td>\n",
              "      <td>0</td>\n",
              "      <td>0</td>\n",
              "      <td>0</td>\n",
              "    </tr>\n",
              "    <tr>\n",
              "      <th>PAY_3</th>\n",
              "      <td>-1</td>\n",
              "      <td>0</td>\n",
              "      <td>0</td>\n",
              "      <td>0</td>\n",
              "      <td>-1</td>\n",
              "    </tr>\n",
              "    <tr>\n",
              "      <th>PAY_4</th>\n",
              "      <td>-1</td>\n",
              "      <td>0</td>\n",
              "      <td>0</td>\n",
              "      <td>0</td>\n",
              "      <td>0</td>\n",
              "    </tr>\n",
              "    <tr>\n",
              "      <th>PAY_5</th>\n",
              "      <td>-2</td>\n",
              "      <td>0</td>\n",
              "      <td>0</td>\n",
              "      <td>0</td>\n",
              "      <td>0</td>\n",
              "    </tr>\n",
              "    <tr>\n",
              "      <th>PAY_6</th>\n",
              "      <td>-2</td>\n",
              "      <td>2</td>\n",
              "      <td>0</td>\n",
              "      <td>0</td>\n",
              "      <td>0</td>\n",
              "    </tr>\n",
              "    <tr>\n",
              "      <th>BILL_AMT1</th>\n",
              "      <td>3913</td>\n",
              "      <td>2682</td>\n",
              "      <td>29239</td>\n",
              "      <td>46990</td>\n",
              "      <td>8617</td>\n",
              "    </tr>\n",
              "    <tr>\n",
              "      <th>BILL_AMT2</th>\n",
              "      <td>3102</td>\n",
              "      <td>1725</td>\n",
              "      <td>14027</td>\n",
              "      <td>48233</td>\n",
              "      <td>5670</td>\n",
              "    </tr>\n",
              "    <tr>\n",
              "      <th>BILL_AMT3</th>\n",
              "      <td>689</td>\n",
              "      <td>2682</td>\n",
              "      <td>13559</td>\n",
              "      <td>49291</td>\n",
              "      <td>35835</td>\n",
              "    </tr>\n",
              "    <tr>\n",
              "      <th>BILL_AMT4</th>\n",
              "      <td>0</td>\n",
              "      <td>3272</td>\n",
              "      <td>14331</td>\n",
              "      <td>28314</td>\n",
              "      <td>20940</td>\n",
              "    </tr>\n",
              "    <tr>\n",
              "      <th>BILL_AMT5</th>\n",
              "      <td>0</td>\n",
              "      <td>3455</td>\n",
              "      <td>14948</td>\n",
              "      <td>28959</td>\n",
              "      <td>19146</td>\n",
              "    </tr>\n",
              "    <tr>\n",
              "      <th>BILL_AMT6</th>\n",
              "      <td>0</td>\n",
              "      <td>3261</td>\n",
              "      <td>15549</td>\n",
              "      <td>29547</td>\n",
              "      <td>19131</td>\n",
              "    </tr>\n",
              "    <tr>\n",
              "      <th>PAY_AMT1</th>\n",
              "      <td>0</td>\n",
              "      <td>0</td>\n",
              "      <td>1518</td>\n",
              "      <td>2000</td>\n",
              "      <td>2000</td>\n",
              "    </tr>\n",
              "    <tr>\n",
              "      <th>PAY_AMT2</th>\n",
              "      <td>689</td>\n",
              "      <td>1000</td>\n",
              "      <td>1500</td>\n",
              "      <td>2019</td>\n",
              "      <td>36681</td>\n",
              "    </tr>\n",
              "    <tr>\n",
              "      <th>PAY_AMT3</th>\n",
              "      <td>0</td>\n",
              "      <td>1000</td>\n",
              "      <td>1000</td>\n",
              "      <td>1200</td>\n",
              "      <td>10000</td>\n",
              "    </tr>\n",
              "    <tr>\n",
              "      <th>PAY_AMT4</th>\n",
              "      <td>0</td>\n",
              "      <td>1000</td>\n",
              "      <td>1000</td>\n",
              "      <td>1100</td>\n",
              "      <td>9000</td>\n",
              "    </tr>\n",
              "    <tr>\n",
              "      <th>PAY_AMT5</th>\n",
              "      <td>0</td>\n",
              "      <td>0</td>\n",
              "      <td>1000</td>\n",
              "      <td>1069</td>\n",
              "      <td>689</td>\n",
              "    </tr>\n",
              "    <tr>\n",
              "      <th>PAY_AMT6</th>\n",
              "      <td>0</td>\n",
              "      <td>2000</td>\n",
              "      <td>5000</td>\n",
              "      <td>1000</td>\n",
              "      <td>679</td>\n",
              "    </tr>\n",
              "    <tr>\n",
              "      <th>default payment next month</th>\n",
              "      <td>1</td>\n",
              "      <td>1</td>\n",
              "      <td>0</td>\n",
              "      <td>0</td>\n",
              "      <td>0</td>\n",
              "    </tr>\n",
              "  </tbody>\n",
              "</table>\n",
              "</div>\n",
              "      <button class=\"colab-df-convert\" onclick=\"convertToInteractive('df-df56097c-59c6-482c-8c25-389a8b22cb40')\"\n",
              "              title=\"Convert this dataframe to an interactive table.\"\n",
              "              style=\"display:none;\">\n",
              "        \n",
              "  <svg xmlns=\"http://www.w3.org/2000/svg\" height=\"24px\"viewBox=\"0 0 24 24\"\n",
              "       width=\"24px\">\n",
              "    <path d=\"M0 0h24v24H0V0z\" fill=\"none\"/>\n",
              "    <path d=\"M18.56 5.44l.94 2.06.94-2.06 2.06-.94-2.06-.94-.94-2.06-.94 2.06-2.06.94zm-11 1L8.5 8.5l.94-2.06 2.06-.94-2.06-.94L8.5 2.5l-.94 2.06-2.06.94zm10 10l.94 2.06.94-2.06 2.06-.94-2.06-.94-.94-2.06-.94 2.06-2.06.94z\"/><path d=\"M17.41 7.96l-1.37-1.37c-.4-.4-.92-.59-1.43-.59-.52 0-1.04.2-1.43.59L10.3 9.45l-7.72 7.72c-.78.78-.78 2.05 0 2.83L4 21.41c.39.39.9.59 1.41.59.51 0 1.02-.2 1.41-.59l7.78-7.78 2.81-2.81c.8-.78.8-2.07 0-2.86zM5.41 20L4 18.59l7.72-7.72 1.47 1.35L5.41 20z\"/>\n",
              "  </svg>\n",
              "      </button>\n",
              "      \n",
              "  <style>\n",
              "    .colab-df-container {\n",
              "      display:flex;\n",
              "      flex-wrap:wrap;\n",
              "      gap: 12px;\n",
              "    }\n",
              "\n",
              "    .colab-df-convert {\n",
              "      background-color: #E8F0FE;\n",
              "      border: none;\n",
              "      border-radius: 50%;\n",
              "      cursor: pointer;\n",
              "      display: none;\n",
              "      fill: #1967D2;\n",
              "      height: 32px;\n",
              "      padding: 0 0 0 0;\n",
              "      width: 32px;\n",
              "    }\n",
              "\n",
              "    .colab-df-convert:hover {\n",
              "      background-color: #E2EBFA;\n",
              "      box-shadow: 0px 1px 2px rgba(60, 64, 67, 0.3), 0px 1px 3px 1px rgba(60, 64, 67, 0.15);\n",
              "      fill: #174EA6;\n",
              "    }\n",
              "\n",
              "    [theme=dark] .colab-df-convert {\n",
              "      background-color: #3B4455;\n",
              "      fill: #D2E3FC;\n",
              "    }\n",
              "\n",
              "    [theme=dark] .colab-df-convert:hover {\n",
              "      background-color: #434B5C;\n",
              "      box-shadow: 0px 1px 3px 1px rgba(0, 0, 0, 0.15);\n",
              "      filter: drop-shadow(0px 1px 2px rgba(0, 0, 0, 0.3));\n",
              "      fill: #FFFFFF;\n",
              "    }\n",
              "  </style>\n",
              "\n",
              "      <script>\n",
              "        const buttonEl =\n",
              "          document.querySelector('#df-df56097c-59c6-482c-8c25-389a8b22cb40 button.colab-df-convert');\n",
              "        buttonEl.style.display =\n",
              "          google.colab.kernel.accessAllowed ? 'block' : 'none';\n",
              "\n",
              "        async function convertToInteractive(key) {\n",
              "          const element = document.querySelector('#df-df56097c-59c6-482c-8c25-389a8b22cb40');\n",
              "          const dataTable =\n",
              "            await google.colab.kernel.invokeFunction('convertToInteractive',\n",
              "                                                     [key], {});\n",
              "          if (!dataTable) return;\n",
              "\n",
              "          const docLinkHtml = 'Like what you see? Visit the ' +\n",
              "            '<a target=\"_blank\" href=https://colab.research.google.com/notebooks/data_table.ipynb>data table notebook</a>'\n",
              "            + ' to learn more about interactive tables.';\n",
              "          element.innerHTML = '';\n",
              "          dataTable['output_type'] = 'display_data';\n",
              "          await google.colab.output.renderOutput(dataTable, element);\n",
              "          const docLink = document.createElement('div');\n",
              "          docLink.innerHTML = docLinkHtml;\n",
              "          element.appendChild(docLink);\n",
              "        }\n",
              "      </script>\n",
              "    </div>\n",
              "  </div>\n",
              "  "
            ]
          },
          "metadata": {},
          "execution_count": 15
        }
      ]
    },
    {
      "cell_type": "markdown",
      "source": [
        "Data Types"
      ],
      "metadata": {
        "id": "t3M9BL9Bcu7E"
      }
    },
    {
      "cell_type": "markdown",
      "source": [
        "Column Names and Naming Conventions"
      ],
      "metadata": {
        "id": "DuUNqqI9dL3X"
      }
    },
    {
      "cell_type": "code",
      "source": [
        "df.columns = df.columns.str.lower().str.replace(' ', '_')\n",
        "\n",
        "string_columns = list(df.dtypes[df.dtypes == 'object'].index)"
      ],
      "metadata": {
        "id": "0xZAmifRdIy4"
      },
      "execution_count": 16,
      "outputs": []
    },
    {
      "cell_type": "code",
      "source": [
        "for col in string_columns:\n",
        " df[col] = df[col].str.lower().str.replace(' ', '_')"
      ],
      "metadata": {
        "id": "T3cLp2UfdXDi"
      },
      "execution_count": 17,
      "outputs": []
    },
    {
      "cell_type": "code",
      "source": [
        "df.dtypes"
      ],
      "metadata": {
        "colab": {
          "base_uri": "https://localhost:8080/"
        },
        "id": "V9aXbjQadbj3",
        "outputId": "32af9014-27b9-4561-a068-1c0f2239c5e6"
      },
      "execution_count": 18,
      "outputs": [
        {
          "output_type": "execute_result",
          "data": {
            "text/plain": [
              "id                            object\n",
              "limit_bal                     object\n",
              "sex                           object\n",
              "education                     object\n",
              "marriage                      object\n",
              "age                           object\n",
              "pay_0                         object\n",
              "pay_2                         object\n",
              "pay_3                         object\n",
              "pay_4                         object\n",
              "pay_5                         object\n",
              "pay_6                         object\n",
              "bill_amt1                     object\n",
              "bill_amt2                     object\n",
              "bill_amt3                     object\n",
              "bill_amt4                     object\n",
              "bill_amt5                     object\n",
              "bill_amt6                     object\n",
              "pay_amt1                      object\n",
              "pay_amt2                      object\n",
              "pay_amt3                      object\n",
              "pay_amt4                      object\n",
              "pay_amt5                      object\n",
              "pay_amt6                      object\n",
              "default_payment_next_month    object\n",
              "dtype: object"
            ]
          },
          "metadata": {},
          "execution_count": 18
        }
      ]
    },
    {
      "cell_type": "code",
      "source": [
        "df.nunique()"
      ],
      "metadata": {
        "id": "wEWVSG8NgUKe",
        "outputId": "299b2165-ccb1-4af0-d408-b53cdafda3a1",
        "colab": {
          "base_uri": "https://localhost:8080/"
        }
      },
      "execution_count": 19,
      "outputs": [
        {
          "output_type": "execute_result",
          "data": {
            "text/plain": [
              "id                            22500\n",
              "limit_bal                        77\n",
              "sex                               2\n",
              "education                         7\n",
              "marriage                          4\n",
              "age                              55\n",
              "pay_0                            11\n",
              "pay_2                            11\n",
              "pay_3                            11\n",
              "pay_4                            11\n",
              "pay_5                            10\n",
              "pay_6                            10\n",
              "bill_amt1                     17712\n",
              "bill_amt2                     17398\n",
              "bill_amt3                     17152\n",
              "bill_amt4                     16769\n",
              "bill_amt5                     16359\n",
              "bill_amt6                     15972\n",
              "pay_amt1                       6592\n",
              "pay_amt2                       6476\n",
              "pay_amt3                       6050\n",
              "pay_amt4                       5732\n",
              "pay_amt5                       5674\n",
              "pay_amt6                       5684\n",
              "default_payment_next_month        2\n",
              "dtype: int64"
            ]
          },
          "metadata": {},
          "execution_count": 19
        }
      ]
    },
    {
      "cell_type": "markdown",
      "source": [
        "Drop unnecessary features"
      ],
      "metadata": {
        "id": "tw-g6VC8gu7f"
      }
    },
    {
      "cell_type": "code",
      "source": [
        "df.drop(['id'], axis=1, inplace=True)"
      ],
      "metadata": {
        "id": "w2oS5Ar3hbJu"
      },
      "execution_count": 20,
      "outputs": []
    },
    {
      "cell_type": "code",
      "source": [
        "df.info()"
      ],
      "metadata": {
        "id": "RkA0klDnhxSl",
        "outputId": "37d396f5-3393-44f2-91c6-425697a694bb",
        "colab": {
          "base_uri": "https://localhost:8080/"
        }
      },
      "execution_count": 21,
      "outputs": [
        {
          "output_type": "stream",
          "name": "stdout",
          "text": [
            "<class 'pandas.core.frame.DataFrame'>\n",
            "RangeIndex: 22500 entries, 1 to 22500\n",
            "Data columns (total 24 columns):\n",
            " #   Column                      Non-Null Count  Dtype \n",
            "---  ------                      --------------  ----- \n",
            " 0   limit_bal                   22500 non-null  object\n",
            " 1   sex                         22500 non-null  object\n",
            " 2   education                   22500 non-null  object\n",
            " 3   marriage                    22500 non-null  object\n",
            " 4   age                         22500 non-null  object\n",
            " 5   pay_0                       22500 non-null  object\n",
            " 6   pay_2                       22500 non-null  object\n",
            " 7   pay_3                       22500 non-null  object\n",
            " 8   pay_4                       22500 non-null  object\n",
            " 9   pay_5                       22500 non-null  object\n",
            " 10  pay_6                       22500 non-null  object\n",
            " 11  bill_amt1                   22500 non-null  object\n",
            " 12  bill_amt2                   22500 non-null  object\n",
            " 13  bill_amt3                   22500 non-null  object\n",
            " 14  bill_amt4                   22500 non-null  object\n",
            " 15  bill_amt5                   22500 non-null  object\n",
            " 16  bill_amt6                   22500 non-null  object\n",
            " 17  pay_amt1                    22500 non-null  object\n",
            " 18  pay_amt2                    22500 non-null  object\n",
            " 19  pay_amt3                    22500 non-null  object\n",
            " 20  pay_amt4                    22500 non-null  object\n",
            " 21  pay_amt5                    22500 non-null  object\n",
            " 22  pay_amt6                    22500 non-null  object\n",
            " 23  default_payment_next_month  22500 non-null  object\n",
            "dtypes: object(24)\n",
            "memory usage: 4.1+ MB\n"
          ]
        }
      ]
    },
    {
      "cell_type": "code",
      "source": [
        "df.to_csv('credit_default_pre1.csv')"
      ],
      "metadata": {
        "id": "tUl8PQ_SnDdq"
      },
      "execution_count": 22,
      "outputs": []
    },
    {
      "cell_type": "markdown",
      "source": [
        "Check for duplicates"
      ],
      "metadata": {
        "id": "ExkVmZabzUI-"
      }
    },
    {
      "cell_type": "code",
      "source": [
        "duplicates = df.duplicated()"
      ],
      "metadata": {
        "id": "P5xIbcFfy_yl"
      },
      "execution_count": 23,
      "outputs": []
    },
    {
      "cell_type": "code",
      "source": [
        "duplicates.sum()"
      ],
      "metadata": {
        "id": "OQdZJVIQzMLf",
        "outputId": "b46afe04-3dbe-41ac-96d2-8bfe422b91a7",
        "colab": {
          "base_uri": "https://localhost:8080/"
        }
      },
      "execution_count": 24,
      "outputs": [
        {
          "output_type": "execute_result",
          "data": {
            "text/plain": [
              "20"
            ]
          },
          "metadata": {},
          "execution_count": 24
        }
      ]
    },
    {
      "cell_type": "code",
      "source": [
        "df.drop_duplicates(keep='first', inplace=True)"
      ],
      "metadata": {
        "id": "Lg4cIlk9zqUs"
      },
      "execution_count": 25,
      "outputs": []
    },
    {
      "cell_type": "code",
      "source": [
        "df.shape"
      ],
      "metadata": {
        "id": "tVL_bvUyz0Zm",
        "outputId": "53bd0b47-7518-4dba-cfe9-8e8bef4285bc",
        "colab": {
          "base_uri": "https://localhost:8080/"
        }
      },
      "execution_count": 26,
      "outputs": [
        {
          "output_type": "execute_result",
          "data": {
            "text/plain": [
              "(22480, 24)"
            ]
          },
          "metadata": {},
          "execution_count": 26
        }
      ]
    },
    {
      "cell_type": "markdown",
      "source": [
        "Check for missing values"
      ],
      "metadata": {
        "id": "KzqJfzu60YoG"
      }
    },
    {
      "cell_type": "code",
      "source": [
        "df.isna().sum()"
      ],
      "metadata": {
        "id": "p3v2W17Qz3F4",
        "outputId": "c4713d07-d429-49fe-e9cb-38f67908234f",
        "colab": {
          "base_uri": "https://localhost:8080/"
        }
      },
      "execution_count": 27,
      "outputs": [
        {
          "output_type": "execute_result",
          "data": {
            "text/plain": [
              "limit_bal                     0\n",
              "sex                           0\n",
              "education                     0\n",
              "marriage                      0\n",
              "age                           0\n",
              "pay_0                         0\n",
              "pay_2                         0\n",
              "pay_3                         0\n",
              "pay_4                         0\n",
              "pay_5                         0\n",
              "pay_6                         0\n",
              "bill_amt1                     0\n",
              "bill_amt2                     0\n",
              "bill_amt3                     0\n",
              "bill_amt4                     0\n",
              "bill_amt5                     0\n",
              "bill_amt6                     0\n",
              "pay_amt1                      0\n",
              "pay_amt2                      0\n",
              "pay_amt3                      0\n",
              "pay_amt4                      0\n",
              "pay_amt5                      0\n",
              "pay_amt6                      0\n",
              "default_payment_next_month    0\n",
              "dtype: int64"
            ]
          },
          "metadata": {},
          "execution_count": 27
        }
      ]
    },
    {
      "cell_type": "code",
      "source": [
        "df.info()"
      ],
      "metadata": {
        "colab": {
          "base_uri": "https://localhost:8080/"
        },
        "id": "Bz81LBMNQVcT",
        "outputId": "d9059fcc-bd2f-46fc-fb06-4302763409a7"
      },
      "execution_count": 28,
      "outputs": [
        {
          "output_type": "stream",
          "name": "stdout",
          "text": [
            "<class 'pandas.core.frame.DataFrame'>\n",
            "Int64Index: 22480 entries, 1 to 22500\n",
            "Data columns (total 24 columns):\n",
            " #   Column                      Non-Null Count  Dtype \n",
            "---  ------                      --------------  ----- \n",
            " 0   limit_bal                   22480 non-null  object\n",
            " 1   sex                         22480 non-null  object\n",
            " 2   education                   22480 non-null  object\n",
            " 3   marriage                    22480 non-null  object\n",
            " 4   age                         22480 non-null  object\n",
            " 5   pay_0                       22480 non-null  object\n",
            " 6   pay_2                       22480 non-null  object\n",
            " 7   pay_3                       22480 non-null  object\n",
            " 8   pay_4                       22480 non-null  object\n",
            " 9   pay_5                       22480 non-null  object\n",
            " 10  pay_6                       22480 non-null  object\n",
            " 11  bill_amt1                   22480 non-null  object\n",
            " 12  bill_amt2                   22480 non-null  object\n",
            " 13  bill_amt3                   22480 non-null  object\n",
            " 14  bill_amt4                   22480 non-null  object\n",
            " 15  bill_amt5                   22480 non-null  object\n",
            " 16  bill_amt6                   22480 non-null  object\n",
            " 17  pay_amt1                    22480 non-null  object\n",
            " 18  pay_amt2                    22480 non-null  object\n",
            " 19  pay_amt3                    22480 non-null  object\n",
            " 20  pay_amt4                    22480 non-null  object\n",
            " 21  pay_amt5                    22480 non-null  object\n",
            " 22  pay_amt6                    22480 non-null  object\n",
            " 23  default_payment_next_month  22480 non-null  object\n",
            "dtypes: object(24)\n",
            "memory usage: 4.3+ MB\n"
          ]
        }
      ]
    },
    {
      "cell_type": "markdown",
      "source": [
        "## Change data types to numeric: float or int"
      ],
      "metadata": {
        "id": "CQymq4gdZCvf"
      }
    },
    {
      "cell_type": "code",
      "source": [
        "for col in df:\n",
        "  if col == 'limit_bal':\n",
        "    df[col] = df[col].astype('float')\n",
        "  elif 'amt' in col:\n",
        "    df[col] = df[col].astype('float')\n",
        "  else:\n",
        "    df[col] = df[col].astype('int')\n",
        "  print(col)"
      ],
      "metadata": {
        "id": "87aUMB9JU_ei",
        "outputId": "6c251b06-c5bf-4b28-d63a-7ca5addd5524",
        "colab": {
          "base_uri": "https://localhost:8080/"
        }
      },
      "execution_count": 29,
      "outputs": [
        {
          "output_type": "stream",
          "name": "stdout",
          "text": [
            "limit_bal\n",
            "sex\n",
            "education\n",
            "marriage\n",
            "age\n",
            "pay_0\n",
            "pay_2\n",
            "pay_3\n",
            "pay_4\n",
            "pay_5\n",
            "pay_6\n",
            "bill_amt1\n",
            "bill_amt2\n",
            "bill_amt3\n",
            "bill_amt4\n",
            "bill_amt5\n",
            "bill_amt6\n",
            "pay_amt1\n",
            "pay_amt2\n",
            "pay_amt3\n",
            "pay_amt4\n",
            "pay_amt5\n",
            "pay_amt6\n",
            "default_payment_next_month\n"
          ]
        }
      ]
    },
    {
      "cell_type": "code",
      "source": [
        "df.dtypes"
      ],
      "metadata": {
        "id": "KinciKEqYJoZ",
        "outputId": "280c9ae4-6b64-4475-92d2-a64b3298ef48",
        "colab": {
          "base_uri": "https://localhost:8080/"
        }
      },
      "execution_count": 30,
      "outputs": [
        {
          "output_type": "execute_result",
          "data": {
            "text/plain": [
              "limit_bal                     float64\n",
              "sex                             int64\n",
              "education                       int64\n",
              "marriage                        int64\n",
              "age                             int64\n",
              "pay_0                           int64\n",
              "pay_2                           int64\n",
              "pay_3                           int64\n",
              "pay_4                           int64\n",
              "pay_5                           int64\n",
              "pay_6                           int64\n",
              "bill_amt1                     float64\n",
              "bill_amt2                     float64\n",
              "bill_amt3                     float64\n",
              "bill_amt4                     float64\n",
              "bill_amt5                     float64\n",
              "bill_amt6                     float64\n",
              "pay_amt1                      float64\n",
              "pay_amt2                      float64\n",
              "pay_amt3                      float64\n",
              "pay_amt4                      float64\n",
              "pay_amt5                      float64\n",
              "pay_amt6                      float64\n",
              "default_payment_next_month      int64\n",
              "dtype: object"
            ]
          },
          "metadata": {},
          "execution_count": 30
        }
      ]
    },
    {
      "cell_type": "markdown",
      "source": [
        "################################################################################\n"
      ],
      "metadata": {
        "id": "dz03_pwE0Tmw"
      }
    },
    {
      "cell_type": "code",
      "source": [
        "df.rename(columns={'default_payment_next_month':'default'}, inplace=True)"
      ],
      "metadata": {
        "id": "mueLCKl9AQj0"
      },
      "execution_count": 31,
      "outputs": []
    },
    {
      "cell_type": "markdown",
      "source": [
        "Split the Data for Testing and Training"
      ],
      "metadata": {
        "id": "Bwh6s31cdvNb"
      }
    },
    {
      "cell_type": "code",
      "source": [
        "df_train_full, df_test = train_test_split(df, test_size=0.2, random_state=1)"
      ],
      "metadata": {
        "id": "JoXa4GeSdwHr"
      },
      "execution_count": 32,
      "outputs": []
    },
    {
      "cell_type": "markdown",
      "source": [
        "Train, Test, Validate"
      ],
      "metadata": {
        "id": "jZWVccfHeDMb"
      }
    },
    {
      "cell_type": "code",
      "source": [
        "df_train, df_val = train_test_split(df_train_full, test_size=0.33, random_state=11)\n",
        "\n",
        "y_train = df_train.default.values\n",
        "y_val = df_val.default.values\n",
        "\n",
        "del df_train['default']\n",
        "del df_val['default']"
      ],
      "metadata": {
        "id": "HOK_Mrb0d8iO"
      },
      "execution_count": 33,
      "outputs": []
    },
    {
      "cell_type": "markdown",
      "source": [
        "Exploratory Data Analysis"
      ],
      "metadata": {
        "id": "YFk4SbiEeVBr"
      }
    },
    {
      "cell_type": "code",
      "source": [
        "df_train_full.isnull().sum()"
      ],
      "metadata": {
        "colab": {
          "base_uri": "https://localhost:8080/"
        },
        "id": "vWCPfSCNeZjO",
        "outputId": "50c741b2-b0e5-47ca-ded3-77e85e8b4e6f"
      },
      "execution_count": 34,
      "outputs": [
        {
          "output_type": "execute_result",
          "data": {
            "text/plain": [
              "limit_bal    0\n",
              "sex          0\n",
              "education    0\n",
              "marriage     0\n",
              "age          0\n",
              "pay_0        0\n",
              "pay_2        0\n",
              "pay_3        0\n",
              "pay_4        0\n",
              "pay_5        0\n",
              "pay_6        0\n",
              "bill_amt1    0\n",
              "bill_amt2    0\n",
              "bill_amt3    0\n",
              "bill_amt4    0\n",
              "bill_amt5    0\n",
              "bill_amt6    0\n",
              "pay_amt1     0\n",
              "pay_amt2     0\n",
              "pay_amt3     0\n",
              "pay_amt4     0\n",
              "pay_amt5     0\n",
              "pay_amt6     0\n",
              "default      0\n",
              "dtype: int64"
            ]
          },
          "metadata": {},
          "execution_count": 34
        }
      ]
    },
    {
      "cell_type": "markdown",
      "source": [
        "Validate the Distribution of the Target Variable"
      ],
      "metadata": {
        "id": "opqADTHLeiFC"
      }
    },
    {
      "cell_type": "code",
      "source": [
        "df_train_full.default.value_counts()"
      ],
      "metadata": {
        "colab": {
          "base_uri": "https://localhost:8080/"
        },
        "id": "LDdXlUDPejbP",
        "outputId": "ec88627d-d11a-453a-9bbd-21e676a31fec"
      },
      "execution_count": 35,
      "outputs": [
        {
          "output_type": "execute_result",
          "data": {
            "text/plain": [
              "0    13930\n",
              "1     4054\n",
              "Name: default, dtype: int64"
            ]
          },
          "metadata": {},
          "execution_count": 35
        }
      ]
    },
    {
      "cell_type": "code",
      "source": [
        "defaulted = 4054/(4054 + 13930)\n",
        "print(\"percentage of customers Defaulted: \", round(defaulted, 5))"
      ],
      "metadata": {
        "colab": {
          "base_uri": "https://localhost:8080/"
        },
        "id": "CebiolLRep4h",
        "outputId": "f5c66820-9b61-4ada-885e-6327c2ac5b26"
      },
      "execution_count": 36,
      "outputs": [
        {
          "output_type": "stream",
          "name": "stdout",
          "text": [
            "percentage of customers Defaulted:  0.22542\n"
          ]
        }
      ]
    },
    {
      "cell_type": "markdown",
      "source": [
        "Compute the MEAN of the Target Variable"
      ],
      "metadata": {
        "id": "2n6bjEVefJT6"
      }
    },
    {
      "cell_type": "code",
      "source": [
        "global_mean = df_train_full.default.mean()\n",
        "round(global_mean, 3)\n"
      ],
      "metadata": {
        "colab": {
          "base_uri": "https://localhost:8080/"
        },
        "id": "zSQSZR4afFnD",
        "outputId": "989135c5-453a-4521-e99e-eb601510cc2a"
      },
      "execution_count": 37,
      "outputs": [
        {
          "output_type": "execute_result",
          "data": {
            "text/plain": [
              "0.225"
            ]
          },
          "metadata": {},
          "execution_count": 37
        }
      ]
    },
    {
      "cell_type": "markdown",
      "source": [
        "## We have an ImBalanced Dataset"
      ],
      "metadata": {
        "id": "ZvyeFR9Vfqad"
      }
    },
    {
      "cell_type": "markdown",
      "source": [
        "# Numerical Columns Require Different Treatments\n",
        "\n",
        "## numerical: will have the names of numerical variables\n",
        "\n",
        "## categorical columns have few numeric values"
      ],
      "metadata": {
        "id": "N2E6b-SYf2Og"
      }
    },
    {
      "cell_type": "code",
      "source": [
        "numerical = ['limit_bal','age','pay_0','pay_2','pay_3','pay_4','pay_5','pay_6','bill_amt1','bill_amt2','bill_amt3','bill_amt4','bill_amt5','bill_amt6','pay_amt1','pay_amt2','pay_amt3','pay_amt4','pay_amt5','pay_amt6']\n",
        "\n",
        "categorical = ['sex', 'education', 'marriage']\n"
      ],
      "metadata": {
        "id": "I1IlrkZRfNsM"
      },
      "execution_count": 38,
      "outputs": []
    },
    {
      "cell_type": "markdown",
      "source": [
        "# Numerical Data\n",
        "\n",
        "## Get the Descriptive statistics for each column (Univariate Analysis)"
      ],
      "metadata": {
        "id": "TR0-P4zlgp7S"
      }
    },
    {
      "cell_type": "code",
      "source": [
        "df_train_full[numerical].describe()"
      ],
      "metadata": {
        "colab": {
          "base_uri": "https://localhost:8080/",
          "height": 364
        },
        "id": "GED4_nLag1-7",
        "outputId": "fe06f5b0-cb68-45ba-c940-9500d3ec979e"
      },
      "execution_count": 39,
      "outputs": [
        {
          "output_type": "execute_result",
          "data": {
            "text/plain": [
              "           limit_bal           age         pay_0         pay_2         pay_3  \\\n",
              "count   17984.000000  17984.000000  17984.000000  17984.000000  17984.000000   \n",
              "mean   163737.415480     35.197120      0.014012     -0.099589     -0.132507   \n",
              "std    128529.716674      9.303451      1.114789      1.193754      1.198510   \n",
              "min     10000.000000     21.000000     -2.000000     -2.000000     -2.000000   \n",
              "25%     50000.000000     28.000000     -1.000000     -1.000000     -1.000000   \n",
              "50%    140000.000000     33.000000      0.000000      0.000000      0.000000   \n",
              "75%    230000.000000     41.000000      0.000000      0.000000      0.000000   \n",
              "max    800000.000000     79.000000      8.000000      8.000000      8.000000   \n",
              "\n",
              "              pay_4         pay_5         pay_6      bill_amt1      bill_amt2  \\\n",
              "count  17984.000000  17984.000000  17984.000000   17984.000000   17984.000000   \n",
              "mean      -0.192504     -0.238823     -0.261288   50399.448788   48434.668872   \n",
              "std        1.158744      1.128541      1.150113   71090.058184   68894.062529   \n",
              "min       -2.000000     -2.000000     -2.000000 -165580.000000  -69777.000000   \n",
              "25%       -1.000000     -1.000000     -1.000000    3858.750000    3272.500000   \n",
              "50%        0.000000      0.000000      0.000000   23160.000000   22081.500000   \n",
              "75%        0.000000      0.000000      0.000000   65923.000000   62999.750000   \n",
              "max        8.000000      8.000000      8.000000  610723.000000  572834.000000   \n",
              "\n",
              "          bill_amt3      bill_amt4      bill_amt5      bill_amt6  \\\n",
              "count  1.798400e+04   17984.000000   17984.000000   17984.000000   \n",
              "mean   4.626113e+04   42167.730649   39986.747998   38643.436054   \n",
              "std    6.732882e+04   62014.962831   59477.727782   58480.879713   \n",
              "min   -1.572640e+05 -170000.000000  -46627.000000  -51183.000000   \n",
              "25%    3.002000e+03    2430.750000    1905.750000    1339.750000   \n",
              "50%    2.046650e+04   19145.000000   18401.000000   17423.000000   \n",
              "75%    5.952325e+04   52289.500000   49911.000000   49051.000000   \n",
              "max    1.664089e+06  628699.000000  823540.000000  699944.000000   \n",
              "\n",
              "            pay_amt1      pay_amt2       pay_amt3       pay_amt4  \\\n",
              "count   17984.000000  1.798400e+04   17984.000000   17984.000000   \n",
              "mean     5484.431272  5.767289e+03    4787.711021    4659.101368   \n",
              "std     15426.304170  2.131107e+04   14312.799326   14640.814424   \n",
              "min         0.000000  0.000000e+00       0.000000       0.000000   \n",
              "25%      1000.000000  8.200000e+02     381.000000     300.000000   \n",
              "50%      2100.000000  2.000000e+03    1684.000000    1500.000000   \n",
              "75%      5000.000000  5.000000e+03    4250.000000    4000.000000   \n",
              "max    505000.000000  1.684259e+06  371718.000000  497000.000000   \n",
              "\n",
              "            pay_amt5       pay_amt6  \n",
              "count   17984.000000   17984.000000  \n",
              "mean     4710.843250    5048.734319  \n",
              "std     14789.971146   16791.132472  \n",
              "min         0.000000       0.000000  \n",
              "25%       291.000000     104.750000  \n",
              "50%      1500.000000    1500.000000  \n",
              "75%      4003.000000    4000.000000  \n",
              "max    417990.000000  527143.000000  "
            ],
            "text/html": [
              "\n",
              "  <div id=\"df-f88590bc-e0ce-46be-9684-ea39ee8b5bee\">\n",
              "    <div class=\"colab-df-container\">\n",
              "      <div>\n",
              "<style scoped>\n",
              "    .dataframe tbody tr th:only-of-type {\n",
              "        vertical-align: middle;\n",
              "    }\n",
              "\n",
              "    .dataframe tbody tr th {\n",
              "        vertical-align: top;\n",
              "    }\n",
              "\n",
              "    .dataframe thead th {\n",
              "        text-align: right;\n",
              "    }\n",
              "</style>\n",
              "<table border=\"1\" class=\"dataframe\">\n",
              "  <thead>\n",
              "    <tr style=\"text-align: right;\">\n",
              "      <th></th>\n",
              "      <th>limit_bal</th>\n",
              "      <th>age</th>\n",
              "      <th>pay_0</th>\n",
              "      <th>pay_2</th>\n",
              "      <th>pay_3</th>\n",
              "      <th>pay_4</th>\n",
              "      <th>pay_5</th>\n",
              "      <th>pay_6</th>\n",
              "      <th>bill_amt1</th>\n",
              "      <th>bill_amt2</th>\n",
              "      <th>bill_amt3</th>\n",
              "      <th>bill_amt4</th>\n",
              "      <th>bill_amt5</th>\n",
              "      <th>bill_amt6</th>\n",
              "      <th>pay_amt1</th>\n",
              "      <th>pay_amt2</th>\n",
              "      <th>pay_amt3</th>\n",
              "      <th>pay_amt4</th>\n",
              "      <th>pay_amt5</th>\n",
              "      <th>pay_amt6</th>\n",
              "    </tr>\n",
              "  </thead>\n",
              "  <tbody>\n",
              "    <tr>\n",
              "      <th>count</th>\n",
              "      <td>17984.000000</td>\n",
              "      <td>17984.000000</td>\n",
              "      <td>17984.000000</td>\n",
              "      <td>17984.000000</td>\n",
              "      <td>17984.000000</td>\n",
              "      <td>17984.000000</td>\n",
              "      <td>17984.000000</td>\n",
              "      <td>17984.000000</td>\n",
              "      <td>17984.000000</td>\n",
              "      <td>17984.000000</td>\n",
              "      <td>1.798400e+04</td>\n",
              "      <td>17984.000000</td>\n",
              "      <td>17984.000000</td>\n",
              "      <td>17984.000000</td>\n",
              "      <td>17984.000000</td>\n",
              "      <td>1.798400e+04</td>\n",
              "      <td>17984.000000</td>\n",
              "      <td>17984.000000</td>\n",
              "      <td>17984.000000</td>\n",
              "      <td>17984.000000</td>\n",
              "    </tr>\n",
              "    <tr>\n",
              "      <th>mean</th>\n",
              "      <td>163737.415480</td>\n",
              "      <td>35.197120</td>\n",
              "      <td>0.014012</td>\n",
              "      <td>-0.099589</td>\n",
              "      <td>-0.132507</td>\n",
              "      <td>-0.192504</td>\n",
              "      <td>-0.238823</td>\n",
              "      <td>-0.261288</td>\n",
              "      <td>50399.448788</td>\n",
              "      <td>48434.668872</td>\n",
              "      <td>4.626113e+04</td>\n",
              "      <td>42167.730649</td>\n",
              "      <td>39986.747998</td>\n",
              "      <td>38643.436054</td>\n",
              "      <td>5484.431272</td>\n",
              "      <td>5.767289e+03</td>\n",
              "      <td>4787.711021</td>\n",
              "      <td>4659.101368</td>\n",
              "      <td>4710.843250</td>\n",
              "      <td>5048.734319</td>\n",
              "    </tr>\n",
              "    <tr>\n",
              "      <th>std</th>\n",
              "      <td>128529.716674</td>\n",
              "      <td>9.303451</td>\n",
              "      <td>1.114789</td>\n",
              "      <td>1.193754</td>\n",
              "      <td>1.198510</td>\n",
              "      <td>1.158744</td>\n",
              "      <td>1.128541</td>\n",
              "      <td>1.150113</td>\n",
              "      <td>71090.058184</td>\n",
              "      <td>68894.062529</td>\n",
              "      <td>6.732882e+04</td>\n",
              "      <td>62014.962831</td>\n",
              "      <td>59477.727782</td>\n",
              "      <td>58480.879713</td>\n",
              "      <td>15426.304170</td>\n",
              "      <td>2.131107e+04</td>\n",
              "      <td>14312.799326</td>\n",
              "      <td>14640.814424</td>\n",
              "      <td>14789.971146</td>\n",
              "      <td>16791.132472</td>\n",
              "    </tr>\n",
              "    <tr>\n",
              "      <th>min</th>\n",
              "      <td>10000.000000</td>\n",
              "      <td>21.000000</td>\n",
              "      <td>-2.000000</td>\n",
              "      <td>-2.000000</td>\n",
              "      <td>-2.000000</td>\n",
              "      <td>-2.000000</td>\n",
              "      <td>-2.000000</td>\n",
              "      <td>-2.000000</td>\n",
              "      <td>-165580.000000</td>\n",
              "      <td>-69777.000000</td>\n",
              "      <td>-1.572640e+05</td>\n",
              "      <td>-170000.000000</td>\n",
              "      <td>-46627.000000</td>\n",
              "      <td>-51183.000000</td>\n",
              "      <td>0.000000</td>\n",
              "      <td>0.000000e+00</td>\n",
              "      <td>0.000000</td>\n",
              "      <td>0.000000</td>\n",
              "      <td>0.000000</td>\n",
              "      <td>0.000000</td>\n",
              "    </tr>\n",
              "    <tr>\n",
              "      <th>25%</th>\n",
              "      <td>50000.000000</td>\n",
              "      <td>28.000000</td>\n",
              "      <td>-1.000000</td>\n",
              "      <td>-1.000000</td>\n",
              "      <td>-1.000000</td>\n",
              "      <td>-1.000000</td>\n",
              "      <td>-1.000000</td>\n",
              "      <td>-1.000000</td>\n",
              "      <td>3858.750000</td>\n",
              "      <td>3272.500000</td>\n",
              "      <td>3.002000e+03</td>\n",
              "      <td>2430.750000</td>\n",
              "      <td>1905.750000</td>\n",
              "      <td>1339.750000</td>\n",
              "      <td>1000.000000</td>\n",
              "      <td>8.200000e+02</td>\n",
              "      <td>381.000000</td>\n",
              "      <td>300.000000</td>\n",
              "      <td>291.000000</td>\n",
              "      <td>104.750000</td>\n",
              "    </tr>\n",
              "    <tr>\n",
              "      <th>50%</th>\n",
              "      <td>140000.000000</td>\n",
              "      <td>33.000000</td>\n",
              "      <td>0.000000</td>\n",
              "      <td>0.000000</td>\n",
              "      <td>0.000000</td>\n",
              "      <td>0.000000</td>\n",
              "      <td>0.000000</td>\n",
              "      <td>0.000000</td>\n",
              "      <td>23160.000000</td>\n",
              "      <td>22081.500000</td>\n",
              "      <td>2.046650e+04</td>\n",
              "      <td>19145.000000</td>\n",
              "      <td>18401.000000</td>\n",
              "      <td>17423.000000</td>\n",
              "      <td>2100.000000</td>\n",
              "      <td>2.000000e+03</td>\n",
              "      <td>1684.000000</td>\n",
              "      <td>1500.000000</td>\n",
              "      <td>1500.000000</td>\n",
              "      <td>1500.000000</td>\n",
              "    </tr>\n",
              "    <tr>\n",
              "      <th>75%</th>\n",
              "      <td>230000.000000</td>\n",
              "      <td>41.000000</td>\n",
              "      <td>0.000000</td>\n",
              "      <td>0.000000</td>\n",
              "      <td>0.000000</td>\n",
              "      <td>0.000000</td>\n",
              "      <td>0.000000</td>\n",
              "      <td>0.000000</td>\n",
              "      <td>65923.000000</td>\n",
              "      <td>62999.750000</td>\n",
              "      <td>5.952325e+04</td>\n",
              "      <td>52289.500000</td>\n",
              "      <td>49911.000000</td>\n",
              "      <td>49051.000000</td>\n",
              "      <td>5000.000000</td>\n",
              "      <td>5.000000e+03</td>\n",
              "      <td>4250.000000</td>\n",
              "      <td>4000.000000</td>\n",
              "      <td>4003.000000</td>\n",
              "      <td>4000.000000</td>\n",
              "    </tr>\n",
              "    <tr>\n",
              "      <th>max</th>\n",
              "      <td>800000.000000</td>\n",
              "      <td>79.000000</td>\n",
              "      <td>8.000000</td>\n",
              "      <td>8.000000</td>\n",
              "      <td>8.000000</td>\n",
              "      <td>8.000000</td>\n",
              "      <td>8.000000</td>\n",
              "      <td>8.000000</td>\n",
              "      <td>610723.000000</td>\n",
              "      <td>572834.000000</td>\n",
              "      <td>1.664089e+06</td>\n",
              "      <td>628699.000000</td>\n",
              "      <td>823540.000000</td>\n",
              "      <td>699944.000000</td>\n",
              "      <td>505000.000000</td>\n",
              "      <td>1.684259e+06</td>\n",
              "      <td>371718.000000</td>\n",
              "      <td>497000.000000</td>\n",
              "      <td>417990.000000</td>\n",
              "      <td>527143.000000</td>\n",
              "    </tr>\n",
              "  </tbody>\n",
              "</table>\n",
              "</div>\n",
              "      <button class=\"colab-df-convert\" onclick=\"convertToInteractive('df-f88590bc-e0ce-46be-9684-ea39ee8b5bee')\"\n",
              "              title=\"Convert this dataframe to an interactive table.\"\n",
              "              style=\"display:none;\">\n",
              "        \n",
              "  <svg xmlns=\"http://www.w3.org/2000/svg\" height=\"24px\"viewBox=\"0 0 24 24\"\n",
              "       width=\"24px\">\n",
              "    <path d=\"M0 0h24v24H0V0z\" fill=\"none\"/>\n",
              "    <path d=\"M18.56 5.44l.94 2.06.94-2.06 2.06-.94-2.06-.94-.94-2.06-.94 2.06-2.06.94zm-11 1L8.5 8.5l.94-2.06 2.06-.94-2.06-.94L8.5 2.5l-.94 2.06-2.06.94zm10 10l.94 2.06.94-2.06 2.06-.94-2.06-.94-.94-2.06-.94 2.06-2.06.94z\"/><path d=\"M17.41 7.96l-1.37-1.37c-.4-.4-.92-.59-1.43-.59-.52 0-1.04.2-1.43.59L10.3 9.45l-7.72 7.72c-.78.78-.78 2.05 0 2.83L4 21.41c.39.39.9.59 1.41.59.51 0 1.02-.2 1.41-.59l7.78-7.78 2.81-2.81c.8-.78.8-2.07 0-2.86zM5.41 20L4 18.59l7.72-7.72 1.47 1.35L5.41 20z\"/>\n",
              "  </svg>\n",
              "      </button>\n",
              "      \n",
              "  <style>\n",
              "    .colab-df-container {\n",
              "      display:flex;\n",
              "      flex-wrap:wrap;\n",
              "      gap: 12px;\n",
              "    }\n",
              "\n",
              "    .colab-df-convert {\n",
              "      background-color: #E8F0FE;\n",
              "      border: none;\n",
              "      border-radius: 50%;\n",
              "      cursor: pointer;\n",
              "      display: none;\n",
              "      fill: #1967D2;\n",
              "      height: 32px;\n",
              "      padding: 0 0 0 0;\n",
              "      width: 32px;\n",
              "    }\n",
              "\n",
              "    .colab-df-convert:hover {\n",
              "      background-color: #E2EBFA;\n",
              "      box-shadow: 0px 1px 2px rgba(60, 64, 67, 0.3), 0px 1px 3px 1px rgba(60, 64, 67, 0.15);\n",
              "      fill: #174EA6;\n",
              "    }\n",
              "\n",
              "    [theme=dark] .colab-df-convert {\n",
              "      background-color: #3B4455;\n",
              "      fill: #D2E3FC;\n",
              "    }\n",
              "\n",
              "    [theme=dark] .colab-df-convert:hover {\n",
              "      background-color: #434B5C;\n",
              "      box-shadow: 0px 1px 3px 1px rgba(0, 0, 0, 0.15);\n",
              "      filter: drop-shadow(0px 1px 2px rgba(0, 0, 0, 0.3));\n",
              "      fill: #FFFFFF;\n",
              "    }\n",
              "  </style>\n",
              "\n",
              "      <script>\n",
              "        const buttonEl =\n",
              "          document.querySelector('#df-f88590bc-e0ce-46be-9684-ea39ee8b5bee button.colab-df-convert');\n",
              "        buttonEl.style.display =\n",
              "          google.colab.kernel.accessAllowed ? 'block' : 'none';\n",
              "\n",
              "        async function convertToInteractive(key) {\n",
              "          const element = document.querySelector('#df-f88590bc-e0ce-46be-9684-ea39ee8b5bee');\n",
              "          const dataTable =\n",
              "            await google.colab.kernel.invokeFunction('convertToInteractive',\n",
              "                                                     [key], {});\n",
              "          if (!dataTable) return;\n",
              "\n",
              "          const docLinkHtml = 'Like what you see? Visit the ' +\n",
              "            '<a target=\"_blank\" href=https://colab.research.google.com/notebooks/data_table.ipynb>data table notebook</a>'\n",
              "            + ' to learn more about interactive tables.';\n",
              "          element.innerHTML = '';\n",
              "          dataTable['output_type'] = 'display_data';\n",
              "          await google.colab.output.renderOutput(dataTable, element);\n",
              "          const docLink = document.createElement('div');\n",
              "          docLink.innerHTML = docLinkHtml;\n",
              "          element.appendChild(docLink);\n",
              "        }\n",
              "      </script>\n",
              "    </div>\n",
              "  </div>\n",
              "  "
            ]
          },
          "metadata": {},
          "execution_count": 39
        }
      ]
    },
    {
      "cell_type": "markdown",
      "source": [
        "# Correlations"
      ],
      "metadata": {
        "id": "Rcnwefulg-2V"
      }
    },
    {
      "cell_type": "code",
      "source": [
        "df_train_full.corr()"
      ],
      "metadata": {
        "colab": {
          "base_uri": "https://localhost:8080/",
          "height": 896
        },
        "id": "9z4mrHF6hBDS",
        "outputId": "b55c4d99-4fe9-4d03-c5cc-cb226479a834"
      },
      "execution_count": 40,
      "outputs": [
        {
          "output_type": "execute_result",
          "data": {
            "text/plain": [
              "           limit_bal       sex  education  marriage       age     pay_0  \\\n",
              "limit_bal   1.000000  0.013176  -0.235039 -0.104543  0.146169 -0.262975   \n",
              "sex         0.013176  1.000000   0.014841 -0.014753 -0.133654 -0.048603   \n",
              "education  -0.235039  0.014841   1.000000 -0.140316  0.165728  0.114870   \n",
              "marriage   -0.104543 -0.014753  -0.140316  1.000000 -0.419362  0.014221   \n",
              "age         0.146169 -0.133654   0.165728 -0.419362  1.000000 -0.027852   \n",
              "pay_0      -0.262975 -0.048603   0.114870  0.014221 -0.027852  1.000000   \n",
              "pay_2      -0.294270 -0.057229   0.134301  0.017820 -0.044182  0.662813   \n",
              "pay_3      -0.283341 -0.058781   0.122018  0.028212 -0.047200  0.562804   \n",
              "pay_4      -0.262753 -0.048830   0.119453  0.025724 -0.042203  0.529948   \n",
              "pay_5      -0.242959 -0.042114   0.105759  0.032136 -0.045408  0.497795   \n",
              "pay_6      -0.230585 -0.029825   0.091779  0.030495 -0.038077  0.463548   \n",
              "bill_amt1   0.279106 -0.037054   0.024204 -0.021145  0.056818  0.182936   \n",
              "bill_amt2   0.273136 -0.035171   0.017556 -0.022917  0.056070  0.186628   \n",
              "bill_amt3   0.280909 -0.027244   0.011044 -0.028224  0.056932  0.174906   \n",
              "bill_amt4   0.289704 -0.021123  -0.002108 -0.027366  0.055006  0.179247   \n",
              "bill_amt5   0.290311 -0.020523  -0.007075 -0.027598  0.054419  0.181170   \n",
              "bill_amt6   0.287934 -0.018608  -0.007272 -0.026070  0.054366  0.175431   \n",
              "pay_amt1    0.200111  0.003217  -0.043201 -0.019259  0.030252 -0.087880   \n",
              "pay_amt2    0.191452 -0.005282  -0.033584 -0.020604  0.025684 -0.082691   \n",
              "pay_amt3    0.220586 -0.003615  -0.041795 -0.013206  0.028375 -0.083370   \n",
              "pay_amt4    0.203286 -0.003847  -0.038966 -0.014897  0.019441 -0.065149   \n",
              "pay_amt5    0.222311 -0.000381  -0.042717 -0.005221  0.023145 -0.063066   \n",
              "pay_amt6    0.225792 -0.014366  -0.046146 -0.006271  0.017733 -0.064241   \n",
              "default    -0.143557 -0.046386   0.029121 -0.033064  0.014073  0.322446   \n",
              "\n",
              "              pay_2     pay_3     pay_4     pay_5  ...  bill_amt4  bill_amt5  \\\n",
              "limit_bal -0.294270 -0.283341 -0.262753 -0.242959  ...   0.289704   0.290311   \n",
              "sex       -0.057229 -0.058781 -0.048830 -0.042114  ...  -0.021123  -0.020523   \n",
              "education  0.134301  0.122018  0.119453  0.105759  ...  -0.002108  -0.007075   \n",
              "marriage   0.017820  0.028212  0.025724  0.032136  ...  -0.027366  -0.027598   \n",
              "age       -0.044182 -0.047200 -0.042203 -0.045408  ...   0.055006   0.054419   \n",
              "pay_0      0.662813  0.562804  0.529948  0.497795  ...   0.179247   0.181170   \n",
              "pay_2      1.000000  0.759605  0.657052  0.614374  ...   0.221823   0.220452   \n",
              "pay_3      0.759605  1.000000  0.773770  0.678935  ...   0.225251   0.222335   \n",
              "pay_4      0.657052  0.773770  1.000000  0.817870  ...   0.247739   0.244201   \n",
              "pay_5      0.614374  0.678935  0.817870  1.000000  ...   0.274233   0.271004   \n",
              "pay_6      0.563837  0.621036  0.710157  0.805524  ...   0.267190   0.290318   \n",
              "bill_amt1  0.231110  0.201670  0.199933  0.204979  ...   0.860555   0.836478   \n",
              "bill_amt2  0.232452  0.231724  0.224462  0.225388  ...   0.893204   0.867019   \n",
              "bill_amt3  0.218664  0.221447  0.241808  0.240396  ...   0.923043   0.893045   \n",
              "bill_amt4  0.221823  0.225251  0.247739  0.274233  ...   1.000000   0.948690   \n",
              "bill_amt5  0.220452  0.222335  0.244201  0.271004  ...   0.948690   1.000000   \n",
              "bill_amt6  0.215521  0.218655  0.238582  0.262493  ...   0.910210   0.949811   \n",
              "pay_amt1  -0.085677  0.004184 -0.007350 -0.007535  ...   0.237202   0.217987   \n",
              "pay_amt2  -0.071886 -0.074857 -0.001457 -0.008290  ...   0.209308   0.189464   \n",
              "pay_amt3  -0.064114 -0.063533 -0.071259  0.012233  ...   0.291049   0.237114   \n",
              "pay_amt4  -0.050660 -0.049774 -0.042521 -0.061510  ...   0.132688   0.287587   \n",
              "pay_amt5  -0.045977 -0.038358 -0.036017 -0.036420  ...   0.162186   0.145186   \n",
              "pay_amt6  -0.039070 -0.039140 -0.027838 -0.028997  ...   0.165022   0.150430   \n",
              "default    0.257033  0.231303  0.212623  0.203901  ...  -0.000658   0.002427   \n",
              "\n",
              "           bill_amt6  pay_amt1  pay_amt2  pay_amt3  pay_amt4  pay_amt5  \\\n",
              "limit_bal   0.287934  0.200111  0.191452  0.220586  0.203286  0.222311   \n",
              "sex        -0.018608  0.003217 -0.005282 -0.003615 -0.003847 -0.000381   \n",
              "education  -0.007272 -0.043201 -0.033584 -0.041795 -0.038966 -0.042717   \n",
              "marriage   -0.026070 -0.019259 -0.020604 -0.013206 -0.014897 -0.005221   \n",
              "age         0.054366  0.030252  0.025684  0.028375  0.019441  0.023145   \n",
              "pay_0       0.175431 -0.087880 -0.082691 -0.083370 -0.065149 -0.063066   \n",
              "pay_2       0.215521 -0.085677 -0.071886 -0.064114 -0.050660 -0.045977   \n",
              "pay_3       0.218655  0.004184 -0.074857 -0.063533 -0.049774 -0.038358   \n",
              "pay_4       0.238582 -0.007350 -0.001457 -0.071259 -0.042521 -0.036017   \n",
              "pay_5       0.262493 -0.007535 -0.008290  0.012233 -0.061510 -0.036420   \n",
              "pay_6       0.283940 -0.001540 -0.012140  0.005944  0.023241 -0.049140   \n",
              "bill_amt1   0.811552  0.136728  0.100689  0.148623  0.169853  0.164041   \n",
              "bill_amt2   0.840027  0.288637  0.089844  0.137994  0.157372  0.159998   \n",
              "bill_amt3   0.864705  0.251750  0.341332  0.134979  0.162514  0.196605   \n",
              "bill_amt4   0.910210  0.237202  0.209308  0.291049  0.132688  0.162186   \n",
              "bill_amt5   0.949811  0.217987  0.189464  0.237114  0.287587  0.145186   \n",
              "bill_amt6   1.000000  0.201839  0.181511  0.220294  0.250041  0.306097   \n",
              "pay_amt1    0.201839  1.000000  0.153559  0.165423  0.141686  0.163493   \n",
              "pay_amt2    0.181511  0.153559  1.000000  0.184581  0.148292  0.238354   \n",
              "pay_amt3    0.220294  0.165423  0.184581  1.000000  0.165410  0.151687   \n",
              "pay_amt4    0.250041  0.141686  0.148292  0.165410  1.000000  0.136618   \n",
              "pay_amt5    0.306097  0.163493  0.238354  0.151687  0.136618  1.000000   \n",
              "pay_amt6    0.115216  0.194355  0.145048  0.159169  0.141830  0.161795   \n",
              "default     0.004218 -0.075394 -0.054353 -0.061984 -0.055503 -0.052828   \n",
              "\n",
              "           pay_amt6   default  \n",
              "limit_bal  0.225792 -0.143557  \n",
              "sex       -0.014366 -0.046386  \n",
              "education -0.046146  0.029121  \n",
              "marriage  -0.006271 -0.033064  \n",
              "age        0.017733  0.014073  \n",
              "pay_0     -0.064241  0.322446  \n",
              "pay_2     -0.039070  0.257033  \n",
              "pay_3     -0.039140  0.231303  \n",
              "pay_4     -0.027838  0.212623  \n",
              "pay_5     -0.028997  0.203901  \n",
              "pay_6     -0.029050  0.183886  \n",
              "bill_amt1  0.168876 -0.016571  \n",
              "bill_amt2  0.171378 -0.010090  \n",
              "bill_amt3  0.173333 -0.007125  \n",
              "bill_amt4  0.165022 -0.000658  \n",
              "bill_amt5  0.150430  0.002427  \n",
              "bill_amt6  0.115216  0.004218  \n",
              "pay_amt1   0.194355 -0.075394  \n",
              "pay_amt2   0.145048 -0.054353  \n",
              "pay_amt3   0.159169 -0.061984  \n",
              "pay_amt4   0.141830 -0.055503  \n",
              "pay_amt5   0.161795 -0.052828  \n",
              "pay_amt6   1.000000 -0.056244  \n",
              "default   -0.056244  1.000000  \n",
              "\n",
              "[24 rows x 24 columns]"
            ],
            "text/html": [
              "\n",
              "  <div id=\"df-55d0f51b-23fe-4713-81c1-5a7e05ce986b\">\n",
              "    <div class=\"colab-df-container\">\n",
              "      <div>\n",
              "<style scoped>\n",
              "    .dataframe tbody tr th:only-of-type {\n",
              "        vertical-align: middle;\n",
              "    }\n",
              "\n",
              "    .dataframe tbody tr th {\n",
              "        vertical-align: top;\n",
              "    }\n",
              "\n",
              "    .dataframe thead th {\n",
              "        text-align: right;\n",
              "    }\n",
              "</style>\n",
              "<table border=\"1\" class=\"dataframe\">\n",
              "  <thead>\n",
              "    <tr style=\"text-align: right;\">\n",
              "      <th></th>\n",
              "      <th>limit_bal</th>\n",
              "      <th>sex</th>\n",
              "      <th>education</th>\n",
              "      <th>marriage</th>\n",
              "      <th>age</th>\n",
              "      <th>pay_0</th>\n",
              "      <th>pay_2</th>\n",
              "      <th>pay_3</th>\n",
              "      <th>pay_4</th>\n",
              "      <th>pay_5</th>\n",
              "      <th>...</th>\n",
              "      <th>bill_amt4</th>\n",
              "      <th>bill_amt5</th>\n",
              "      <th>bill_amt6</th>\n",
              "      <th>pay_amt1</th>\n",
              "      <th>pay_amt2</th>\n",
              "      <th>pay_amt3</th>\n",
              "      <th>pay_amt4</th>\n",
              "      <th>pay_amt5</th>\n",
              "      <th>pay_amt6</th>\n",
              "      <th>default</th>\n",
              "    </tr>\n",
              "  </thead>\n",
              "  <tbody>\n",
              "    <tr>\n",
              "      <th>limit_bal</th>\n",
              "      <td>1.000000</td>\n",
              "      <td>0.013176</td>\n",
              "      <td>-0.235039</td>\n",
              "      <td>-0.104543</td>\n",
              "      <td>0.146169</td>\n",
              "      <td>-0.262975</td>\n",
              "      <td>-0.294270</td>\n",
              "      <td>-0.283341</td>\n",
              "      <td>-0.262753</td>\n",
              "      <td>-0.242959</td>\n",
              "      <td>...</td>\n",
              "      <td>0.289704</td>\n",
              "      <td>0.290311</td>\n",
              "      <td>0.287934</td>\n",
              "      <td>0.200111</td>\n",
              "      <td>0.191452</td>\n",
              "      <td>0.220586</td>\n",
              "      <td>0.203286</td>\n",
              "      <td>0.222311</td>\n",
              "      <td>0.225792</td>\n",
              "      <td>-0.143557</td>\n",
              "    </tr>\n",
              "    <tr>\n",
              "      <th>sex</th>\n",
              "      <td>0.013176</td>\n",
              "      <td>1.000000</td>\n",
              "      <td>0.014841</td>\n",
              "      <td>-0.014753</td>\n",
              "      <td>-0.133654</td>\n",
              "      <td>-0.048603</td>\n",
              "      <td>-0.057229</td>\n",
              "      <td>-0.058781</td>\n",
              "      <td>-0.048830</td>\n",
              "      <td>-0.042114</td>\n",
              "      <td>...</td>\n",
              "      <td>-0.021123</td>\n",
              "      <td>-0.020523</td>\n",
              "      <td>-0.018608</td>\n",
              "      <td>0.003217</td>\n",
              "      <td>-0.005282</td>\n",
              "      <td>-0.003615</td>\n",
              "      <td>-0.003847</td>\n",
              "      <td>-0.000381</td>\n",
              "      <td>-0.014366</td>\n",
              "      <td>-0.046386</td>\n",
              "    </tr>\n",
              "    <tr>\n",
              "      <th>education</th>\n",
              "      <td>-0.235039</td>\n",
              "      <td>0.014841</td>\n",
              "      <td>1.000000</td>\n",
              "      <td>-0.140316</td>\n",
              "      <td>0.165728</td>\n",
              "      <td>0.114870</td>\n",
              "      <td>0.134301</td>\n",
              "      <td>0.122018</td>\n",
              "      <td>0.119453</td>\n",
              "      <td>0.105759</td>\n",
              "      <td>...</td>\n",
              "      <td>-0.002108</td>\n",
              "      <td>-0.007075</td>\n",
              "      <td>-0.007272</td>\n",
              "      <td>-0.043201</td>\n",
              "      <td>-0.033584</td>\n",
              "      <td>-0.041795</td>\n",
              "      <td>-0.038966</td>\n",
              "      <td>-0.042717</td>\n",
              "      <td>-0.046146</td>\n",
              "      <td>0.029121</td>\n",
              "    </tr>\n",
              "    <tr>\n",
              "      <th>marriage</th>\n",
              "      <td>-0.104543</td>\n",
              "      <td>-0.014753</td>\n",
              "      <td>-0.140316</td>\n",
              "      <td>1.000000</td>\n",
              "      <td>-0.419362</td>\n",
              "      <td>0.014221</td>\n",
              "      <td>0.017820</td>\n",
              "      <td>0.028212</td>\n",
              "      <td>0.025724</td>\n",
              "      <td>0.032136</td>\n",
              "      <td>...</td>\n",
              "      <td>-0.027366</td>\n",
              "      <td>-0.027598</td>\n",
              "      <td>-0.026070</td>\n",
              "      <td>-0.019259</td>\n",
              "      <td>-0.020604</td>\n",
              "      <td>-0.013206</td>\n",
              "      <td>-0.014897</td>\n",
              "      <td>-0.005221</td>\n",
              "      <td>-0.006271</td>\n",
              "      <td>-0.033064</td>\n",
              "    </tr>\n",
              "    <tr>\n",
              "      <th>age</th>\n",
              "      <td>0.146169</td>\n",
              "      <td>-0.133654</td>\n",
              "      <td>0.165728</td>\n",
              "      <td>-0.419362</td>\n",
              "      <td>1.000000</td>\n",
              "      <td>-0.027852</td>\n",
              "      <td>-0.044182</td>\n",
              "      <td>-0.047200</td>\n",
              "      <td>-0.042203</td>\n",
              "      <td>-0.045408</td>\n",
              "      <td>...</td>\n",
              "      <td>0.055006</td>\n",
              "      <td>0.054419</td>\n",
              "      <td>0.054366</td>\n",
              "      <td>0.030252</td>\n",
              "      <td>0.025684</td>\n",
              "      <td>0.028375</td>\n",
              "      <td>0.019441</td>\n",
              "      <td>0.023145</td>\n",
              "      <td>0.017733</td>\n",
              "      <td>0.014073</td>\n",
              "    </tr>\n",
              "    <tr>\n",
              "      <th>pay_0</th>\n",
              "      <td>-0.262975</td>\n",
              "      <td>-0.048603</td>\n",
              "      <td>0.114870</td>\n",
              "      <td>0.014221</td>\n",
              "      <td>-0.027852</td>\n",
              "      <td>1.000000</td>\n",
              "      <td>0.662813</td>\n",
              "      <td>0.562804</td>\n",
              "      <td>0.529948</td>\n",
              "      <td>0.497795</td>\n",
              "      <td>...</td>\n",
              "      <td>0.179247</td>\n",
              "      <td>0.181170</td>\n",
              "      <td>0.175431</td>\n",
              "      <td>-0.087880</td>\n",
              "      <td>-0.082691</td>\n",
              "      <td>-0.083370</td>\n",
              "      <td>-0.065149</td>\n",
              "      <td>-0.063066</td>\n",
              "      <td>-0.064241</td>\n",
              "      <td>0.322446</td>\n",
              "    </tr>\n",
              "    <tr>\n",
              "      <th>pay_2</th>\n",
              "      <td>-0.294270</td>\n",
              "      <td>-0.057229</td>\n",
              "      <td>0.134301</td>\n",
              "      <td>0.017820</td>\n",
              "      <td>-0.044182</td>\n",
              "      <td>0.662813</td>\n",
              "      <td>1.000000</td>\n",
              "      <td>0.759605</td>\n",
              "      <td>0.657052</td>\n",
              "      <td>0.614374</td>\n",
              "      <td>...</td>\n",
              "      <td>0.221823</td>\n",
              "      <td>0.220452</td>\n",
              "      <td>0.215521</td>\n",
              "      <td>-0.085677</td>\n",
              "      <td>-0.071886</td>\n",
              "      <td>-0.064114</td>\n",
              "      <td>-0.050660</td>\n",
              "      <td>-0.045977</td>\n",
              "      <td>-0.039070</td>\n",
              "      <td>0.257033</td>\n",
              "    </tr>\n",
              "    <tr>\n",
              "      <th>pay_3</th>\n",
              "      <td>-0.283341</td>\n",
              "      <td>-0.058781</td>\n",
              "      <td>0.122018</td>\n",
              "      <td>0.028212</td>\n",
              "      <td>-0.047200</td>\n",
              "      <td>0.562804</td>\n",
              "      <td>0.759605</td>\n",
              "      <td>1.000000</td>\n",
              "      <td>0.773770</td>\n",
              "      <td>0.678935</td>\n",
              "      <td>...</td>\n",
              "      <td>0.225251</td>\n",
              "      <td>0.222335</td>\n",
              "      <td>0.218655</td>\n",
              "      <td>0.004184</td>\n",
              "      <td>-0.074857</td>\n",
              "      <td>-0.063533</td>\n",
              "      <td>-0.049774</td>\n",
              "      <td>-0.038358</td>\n",
              "      <td>-0.039140</td>\n",
              "      <td>0.231303</td>\n",
              "    </tr>\n",
              "    <tr>\n",
              "      <th>pay_4</th>\n",
              "      <td>-0.262753</td>\n",
              "      <td>-0.048830</td>\n",
              "      <td>0.119453</td>\n",
              "      <td>0.025724</td>\n",
              "      <td>-0.042203</td>\n",
              "      <td>0.529948</td>\n",
              "      <td>0.657052</td>\n",
              "      <td>0.773770</td>\n",
              "      <td>1.000000</td>\n",
              "      <td>0.817870</td>\n",
              "      <td>...</td>\n",
              "      <td>0.247739</td>\n",
              "      <td>0.244201</td>\n",
              "      <td>0.238582</td>\n",
              "      <td>-0.007350</td>\n",
              "      <td>-0.001457</td>\n",
              "      <td>-0.071259</td>\n",
              "      <td>-0.042521</td>\n",
              "      <td>-0.036017</td>\n",
              "      <td>-0.027838</td>\n",
              "      <td>0.212623</td>\n",
              "    </tr>\n",
              "    <tr>\n",
              "      <th>pay_5</th>\n",
              "      <td>-0.242959</td>\n",
              "      <td>-0.042114</td>\n",
              "      <td>0.105759</td>\n",
              "      <td>0.032136</td>\n",
              "      <td>-0.045408</td>\n",
              "      <td>0.497795</td>\n",
              "      <td>0.614374</td>\n",
              "      <td>0.678935</td>\n",
              "      <td>0.817870</td>\n",
              "      <td>1.000000</td>\n",
              "      <td>...</td>\n",
              "      <td>0.274233</td>\n",
              "      <td>0.271004</td>\n",
              "      <td>0.262493</td>\n",
              "      <td>-0.007535</td>\n",
              "      <td>-0.008290</td>\n",
              "      <td>0.012233</td>\n",
              "      <td>-0.061510</td>\n",
              "      <td>-0.036420</td>\n",
              "      <td>-0.028997</td>\n",
              "      <td>0.203901</td>\n",
              "    </tr>\n",
              "    <tr>\n",
              "      <th>pay_6</th>\n",
              "      <td>-0.230585</td>\n",
              "      <td>-0.029825</td>\n",
              "      <td>0.091779</td>\n",
              "      <td>0.030495</td>\n",
              "      <td>-0.038077</td>\n",
              "      <td>0.463548</td>\n",
              "      <td>0.563837</td>\n",
              "      <td>0.621036</td>\n",
              "      <td>0.710157</td>\n",
              "      <td>0.805524</td>\n",
              "      <td>...</td>\n",
              "      <td>0.267190</td>\n",
              "      <td>0.290318</td>\n",
              "      <td>0.283940</td>\n",
              "      <td>-0.001540</td>\n",
              "      <td>-0.012140</td>\n",
              "      <td>0.005944</td>\n",
              "      <td>0.023241</td>\n",
              "      <td>-0.049140</td>\n",
              "      <td>-0.029050</td>\n",
              "      <td>0.183886</td>\n",
              "    </tr>\n",
              "    <tr>\n",
              "      <th>bill_amt1</th>\n",
              "      <td>0.279106</td>\n",
              "      <td>-0.037054</td>\n",
              "      <td>0.024204</td>\n",
              "      <td>-0.021145</td>\n",
              "      <td>0.056818</td>\n",
              "      <td>0.182936</td>\n",
              "      <td>0.231110</td>\n",
              "      <td>0.201670</td>\n",
              "      <td>0.199933</td>\n",
              "      <td>0.204979</td>\n",
              "      <td>...</td>\n",
              "      <td>0.860555</td>\n",
              "      <td>0.836478</td>\n",
              "      <td>0.811552</td>\n",
              "      <td>0.136728</td>\n",
              "      <td>0.100689</td>\n",
              "      <td>0.148623</td>\n",
              "      <td>0.169853</td>\n",
              "      <td>0.164041</td>\n",
              "      <td>0.168876</td>\n",
              "      <td>-0.016571</td>\n",
              "    </tr>\n",
              "    <tr>\n",
              "      <th>bill_amt2</th>\n",
              "      <td>0.273136</td>\n",
              "      <td>-0.035171</td>\n",
              "      <td>0.017556</td>\n",
              "      <td>-0.022917</td>\n",
              "      <td>0.056070</td>\n",
              "      <td>0.186628</td>\n",
              "      <td>0.232452</td>\n",
              "      <td>0.231724</td>\n",
              "      <td>0.224462</td>\n",
              "      <td>0.225388</td>\n",
              "      <td>...</td>\n",
              "      <td>0.893204</td>\n",
              "      <td>0.867019</td>\n",
              "      <td>0.840027</td>\n",
              "      <td>0.288637</td>\n",
              "      <td>0.089844</td>\n",
              "      <td>0.137994</td>\n",
              "      <td>0.157372</td>\n",
              "      <td>0.159998</td>\n",
              "      <td>0.171378</td>\n",
              "      <td>-0.010090</td>\n",
              "    </tr>\n",
              "    <tr>\n",
              "      <th>bill_amt3</th>\n",
              "      <td>0.280909</td>\n",
              "      <td>-0.027244</td>\n",
              "      <td>0.011044</td>\n",
              "      <td>-0.028224</td>\n",
              "      <td>0.056932</td>\n",
              "      <td>0.174906</td>\n",
              "      <td>0.218664</td>\n",
              "      <td>0.221447</td>\n",
              "      <td>0.241808</td>\n",
              "      <td>0.240396</td>\n",
              "      <td>...</td>\n",
              "      <td>0.923043</td>\n",
              "      <td>0.893045</td>\n",
              "      <td>0.864705</td>\n",
              "      <td>0.251750</td>\n",
              "      <td>0.341332</td>\n",
              "      <td>0.134979</td>\n",
              "      <td>0.162514</td>\n",
              "      <td>0.196605</td>\n",
              "      <td>0.173333</td>\n",
              "      <td>-0.007125</td>\n",
              "    </tr>\n",
              "    <tr>\n",
              "      <th>bill_amt4</th>\n",
              "      <td>0.289704</td>\n",
              "      <td>-0.021123</td>\n",
              "      <td>-0.002108</td>\n",
              "      <td>-0.027366</td>\n",
              "      <td>0.055006</td>\n",
              "      <td>0.179247</td>\n",
              "      <td>0.221823</td>\n",
              "      <td>0.225251</td>\n",
              "      <td>0.247739</td>\n",
              "      <td>0.274233</td>\n",
              "      <td>...</td>\n",
              "      <td>1.000000</td>\n",
              "      <td>0.948690</td>\n",
              "      <td>0.910210</td>\n",
              "      <td>0.237202</td>\n",
              "      <td>0.209308</td>\n",
              "      <td>0.291049</td>\n",
              "      <td>0.132688</td>\n",
              "      <td>0.162186</td>\n",
              "      <td>0.165022</td>\n",
              "      <td>-0.000658</td>\n",
              "    </tr>\n",
              "    <tr>\n",
              "      <th>bill_amt5</th>\n",
              "      <td>0.290311</td>\n",
              "      <td>-0.020523</td>\n",
              "      <td>-0.007075</td>\n",
              "      <td>-0.027598</td>\n",
              "      <td>0.054419</td>\n",
              "      <td>0.181170</td>\n",
              "      <td>0.220452</td>\n",
              "      <td>0.222335</td>\n",
              "      <td>0.244201</td>\n",
              "      <td>0.271004</td>\n",
              "      <td>...</td>\n",
              "      <td>0.948690</td>\n",
              "      <td>1.000000</td>\n",
              "      <td>0.949811</td>\n",
              "      <td>0.217987</td>\n",
              "      <td>0.189464</td>\n",
              "      <td>0.237114</td>\n",
              "      <td>0.287587</td>\n",
              "      <td>0.145186</td>\n",
              "      <td>0.150430</td>\n",
              "      <td>0.002427</td>\n",
              "    </tr>\n",
              "    <tr>\n",
              "      <th>bill_amt6</th>\n",
              "      <td>0.287934</td>\n",
              "      <td>-0.018608</td>\n",
              "      <td>-0.007272</td>\n",
              "      <td>-0.026070</td>\n",
              "      <td>0.054366</td>\n",
              "      <td>0.175431</td>\n",
              "      <td>0.215521</td>\n",
              "      <td>0.218655</td>\n",
              "      <td>0.238582</td>\n",
              "      <td>0.262493</td>\n",
              "      <td>...</td>\n",
              "      <td>0.910210</td>\n",
              "      <td>0.949811</td>\n",
              "      <td>1.000000</td>\n",
              "      <td>0.201839</td>\n",
              "      <td>0.181511</td>\n",
              "      <td>0.220294</td>\n",
              "      <td>0.250041</td>\n",
              "      <td>0.306097</td>\n",
              "      <td>0.115216</td>\n",
              "      <td>0.004218</td>\n",
              "    </tr>\n",
              "    <tr>\n",
              "      <th>pay_amt1</th>\n",
              "      <td>0.200111</td>\n",
              "      <td>0.003217</td>\n",
              "      <td>-0.043201</td>\n",
              "      <td>-0.019259</td>\n",
              "      <td>0.030252</td>\n",
              "      <td>-0.087880</td>\n",
              "      <td>-0.085677</td>\n",
              "      <td>0.004184</td>\n",
              "      <td>-0.007350</td>\n",
              "      <td>-0.007535</td>\n",
              "      <td>...</td>\n",
              "      <td>0.237202</td>\n",
              "      <td>0.217987</td>\n",
              "      <td>0.201839</td>\n",
              "      <td>1.000000</td>\n",
              "      <td>0.153559</td>\n",
              "      <td>0.165423</td>\n",
              "      <td>0.141686</td>\n",
              "      <td>0.163493</td>\n",
              "      <td>0.194355</td>\n",
              "      <td>-0.075394</td>\n",
              "    </tr>\n",
              "    <tr>\n",
              "      <th>pay_amt2</th>\n",
              "      <td>0.191452</td>\n",
              "      <td>-0.005282</td>\n",
              "      <td>-0.033584</td>\n",
              "      <td>-0.020604</td>\n",
              "      <td>0.025684</td>\n",
              "      <td>-0.082691</td>\n",
              "      <td>-0.071886</td>\n",
              "      <td>-0.074857</td>\n",
              "      <td>-0.001457</td>\n",
              "      <td>-0.008290</td>\n",
              "      <td>...</td>\n",
              "      <td>0.209308</td>\n",
              "      <td>0.189464</td>\n",
              "      <td>0.181511</td>\n",
              "      <td>0.153559</td>\n",
              "      <td>1.000000</td>\n",
              "      <td>0.184581</td>\n",
              "      <td>0.148292</td>\n",
              "      <td>0.238354</td>\n",
              "      <td>0.145048</td>\n",
              "      <td>-0.054353</td>\n",
              "    </tr>\n",
              "    <tr>\n",
              "      <th>pay_amt3</th>\n",
              "      <td>0.220586</td>\n",
              "      <td>-0.003615</td>\n",
              "      <td>-0.041795</td>\n",
              "      <td>-0.013206</td>\n",
              "      <td>0.028375</td>\n",
              "      <td>-0.083370</td>\n",
              "      <td>-0.064114</td>\n",
              "      <td>-0.063533</td>\n",
              "      <td>-0.071259</td>\n",
              "      <td>0.012233</td>\n",
              "      <td>...</td>\n",
              "      <td>0.291049</td>\n",
              "      <td>0.237114</td>\n",
              "      <td>0.220294</td>\n",
              "      <td>0.165423</td>\n",
              "      <td>0.184581</td>\n",
              "      <td>1.000000</td>\n",
              "      <td>0.165410</td>\n",
              "      <td>0.151687</td>\n",
              "      <td>0.159169</td>\n",
              "      <td>-0.061984</td>\n",
              "    </tr>\n",
              "    <tr>\n",
              "      <th>pay_amt4</th>\n",
              "      <td>0.203286</td>\n",
              "      <td>-0.003847</td>\n",
              "      <td>-0.038966</td>\n",
              "      <td>-0.014897</td>\n",
              "      <td>0.019441</td>\n",
              "      <td>-0.065149</td>\n",
              "      <td>-0.050660</td>\n",
              "      <td>-0.049774</td>\n",
              "      <td>-0.042521</td>\n",
              "      <td>-0.061510</td>\n",
              "      <td>...</td>\n",
              "      <td>0.132688</td>\n",
              "      <td>0.287587</td>\n",
              "      <td>0.250041</td>\n",
              "      <td>0.141686</td>\n",
              "      <td>0.148292</td>\n",
              "      <td>0.165410</td>\n",
              "      <td>1.000000</td>\n",
              "      <td>0.136618</td>\n",
              "      <td>0.141830</td>\n",
              "      <td>-0.055503</td>\n",
              "    </tr>\n",
              "    <tr>\n",
              "      <th>pay_amt5</th>\n",
              "      <td>0.222311</td>\n",
              "      <td>-0.000381</td>\n",
              "      <td>-0.042717</td>\n",
              "      <td>-0.005221</td>\n",
              "      <td>0.023145</td>\n",
              "      <td>-0.063066</td>\n",
              "      <td>-0.045977</td>\n",
              "      <td>-0.038358</td>\n",
              "      <td>-0.036017</td>\n",
              "      <td>-0.036420</td>\n",
              "      <td>...</td>\n",
              "      <td>0.162186</td>\n",
              "      <td>0.145186</td>\n",
              "      <td>0.306097</td>\n",
              "      <td>0.163493</td>\n",
              "      <td>0.238354</td>\n",
              "      <td>0.151687</td>\n",
              "      <td>0.136618</td>\n",
              "      <td>1.000000</td>\n",
              "      <td>0.161795</td>\n",
              "      <td>-0.052828</td>\n",
              "    </tr>\n",
              "    <tr>\n",
              "      <th>pay_amt6</th>\n",
              "      <td>0.225792</td>\n",
              "      <td>-0.014366</td>\n",
              "      <td>-0.046146</td>\n",
              "      <td>-0.006271</td>\n",
              "      <td>0.017733</td>\n",
              "      <td>-0.064241</td>\n",
              "      <td>-0.039070</td>\n",
              "      <td>-0.039140</td>\n",
              "      <td>-0.027838</td>\n",
              "      <td>-0.028997</td>\n",
              "      <td>...</td>\n",
              "      <td>0.165022</td>\n",
              "      <td>0.150430</td>\n",
              "      <td>0.115216</td>\n",
              "      <td>0.194355</td>\n",
              "      <td>0.145048</td>\n",
              "      <td>0.159169</td>\n",
              "      <td>0.141830</td>\n",
              "      <td>0.161795</td>\n",
              "      <td>1.000000</td>\n",
              "      <td>-0.056244</td>\n",
              "    </tr>\n",
              "    <tr>\n",
              "      <th>default</th>\n",
              "      <td>-0.143557</td>\n",
              "      <td>-0.046386</td>\n",
              "      <td>0.029121</td>\n",
              "      <td>-0.033064</td>\n",
              "      <td>0.014073</td>\n",
              "      <td>0.322446</td>\n",
              "      <td>0.257033</td>\n",
              "      <td>0.231303</td>\n",
              "      <td>0.212623</td>\n",
              "      <td>0.203901</td>\n",
              "      <td>...</td>\n",
              "      <td>-0.000658</td>\n",
              "      <td>0.002427</td>\n",
              "      <td>0.004218</td>\n",
              "      <td>-0.075394</td>\n",
              "      <td>-0.054353</td>\n",
              "      <td>-0.061984</td>\n",
              "      <td>-0.055503</td>\n",
              "      <td>-0.052828</td>\n",
              "      <td>-0.056244</td>\n",
              "      <td>1.000000</td>\n",
              "    </tr>\n",
              "  </tbody>\n",
              "</table>\n",
              "<p>24 rows × 24 columns</p>\n",
              "</div>\n",
              "      <button class=\"colab-df-convert\" onclick=\"convertToInteractive('df-55d0f51b-23fe-4713-81c1-5a7e05ce986b')\"\n",
              "              title=\"Convert this dataframe to an interactive table.\"\n",
              "              style=\"display:none;\">\n",
              "        \n",
              "  <svg xmlns=\"http://www.w3.org/2000/svg\" height=\"24px\"viewBox=\"0 0 24 24\"\n",
              "       width=\"24px\">\n",
              "    <path d=\"M0 0h24v24H0V0z\" fill=\"none\"/>\n",
              "    <path d=\"M18.56 5.44l.94 2.06.94-2.06 2.06-.94-2.06-.94-.94-2.06-.94 2.06-2.06.94zm-11 1L8.5 8.5l.94-2.06 2.06-.94-2.06-.94L8.5 2.5l-.94 2.06-2.06.94zm10 10l.94 2.06.94-2.06 2.06-.94-2.06-.94-.94-2.06-.94 2.06-2.06.94z\"/><path d=\"M17.41 7.96l-1.37-1.37c-.4-.4-.92-.59-1.43-.59-.52 0-1.04.2-1.43.59L10.3 9.45l-7.72 7.72c-.78.78-.78 2.05 0 2.83L4 21.41c.39.39.9.59 1.41.59.51 0 1.02-.2 1.41-.59l7.78-7.78 2.81-2.81c.8-.78.8-2.07 0-2.86zM5.41 20L4 18.59l7.72-7.72 1.47 1.35L5.41 20z\"/>\n",
              "  </svg>\n",
              "      </button>\n",
              "      \n",
              "  <style>\n",
              "    .colab-df-container {\n",
              "      display:flex;\n",
              "      flex-wrap:wrap;\n",
              "      gap: 12px;\n",
              "    }\n",
              "\n",
              "    .colab-df-convert {\n",
              "      background-color: #E8F0FE;\n",
              "      border: none;\n",
              "      border-radius: 50%;\n",
              "      cursor: pointer;\n",
              "      display: none;\n",
              "      fill: #1967D2;\n",
              "      height: 32px;\n",
              "      padding: 0 0 0 0;\n",
              "      width: 32px;\n",
              "    }\n",
              "\n",
              "    .colab-df-convert:hover {\n",
              "      background-color: #E2EBFA;\n",
              "      box-shadow: 0px 1px 2px rgba(60, 64, 67, 0.3), 0px 1px 3px 1px rgba(60, 64, 67, 0.15);\n",
              "      fill: #174EA6;\n",
              "    }\n",
              "\n",
              "    [theme=dark] .colab-df-convert {\n",
              "      background-color: #3B4455;\n",
              "      fill: #D2E3FC;\n",
              "    }\n",
              "\n",
              "    [theme=dark] .colab-df-convert:hover {\n",
              "      background-color: #434B5C;\n",
              "      box-shadow: 0px 1px 3px 1px rgba(0, 0, 0, 0.15);\n",
              "      filter: drop-shadow(0px 1px 2px rgba(0, 0, 0, 0.3));\n",
              "      fill: #FFFFFF;\n",
              "    }\n",
              "  </style>\n",
              "\n",
              "      <script>\n",
              "        const buttonEl =\n",
              "          document.querySelector('#df-55d0f51b-23fe-4713-81c1-5a7e05ce986b button.colab-df-convert');\n",
              "        buttonEl.style.display =\n",
              "          google.colab.kernel.accessAllowed ? 'block' : 'none';\n",
              "\n",
              "        async function convertToInteractive(key) {\n",
              "          const element = document.querySelector('#df-55d0f51b-23fe-4713-81c1-5a7e05ce986b');\n",
              "          const dataTable =\n",
              "            await google.colab.kernel.invokeFunction('convertToInteractive',\n",
              "                                                     [key], {});\n",
              "          if (!dataTable) return;\n",
              "\n",
              "          const docLinkHtml = 'Like what you see? Visit the ' +\n",
              "            '<a target=\"_blank\" href=https://colab.research.google.com/notebooks/data_table.ipynb>data table notebook</a>'\n",
              "            + ' to learn more about interactive tables.';\n",
              "          element.innerHTML = '';\n",
              "          dataTable['output_type'] = 'display_data';\n",
              "          await google.colab.output.renderOutput(dataTable, element);\n",
              "          const docLink = document.createElement('div');\n",
              "          docLink.innerHTML = docLinkHtml;\n",
              "          element.appendChild(docLink);\n",
              "        }\n",
              "      </script>\n",
              "    </div>\n",
              "  </div>\n",
              "  "
            ]
          },
          "metadata": {},
          "execution_count": 40
        }
      ]
    },
    {
      "cell_type": "markdown",
      "source": [
        "# Feature Importance"
      ],
      "metadata": {
        "id": "vHgdb7cShH70"
      }
    },
    {
      "cell_type": "markdown",
      "source": [
        "## Feature Importance Based on Sex, Education, Marriage"
      ],
      "metadata": {
        "id": "JWsB1tkuhzSn"
      }
    },
    {
      "cell_type": "code",
      "source": [
        "male_mean = df_train_full[df_train_full.sex == 1].default.mean()\n",
        "\n",
        "female_mean = df_train_full[df_train_full.sex == 2].default.mean()"
      ],
      "metadata": {
        "id": "A0HebQBzh1zE"
      },
      "execution_count": 41,
      "outputs": []
    },
    {
      "cell_type": "markdown",
      "source": [
        "## MARRIAGE: Marital status (1=married, 2=single, 3=others)"
      ],
      "metadata": {
        "id": "d50FKDOrLTuS"
      }
    },
    {
      "cell_type": "code",
      "source": [
        "never_married = df_train_full[df_train_full.marriage == 0].default.mean()\n",
        "\n",
        "married_mean = df_train_full[df_train_full.marriage == 1].default.mean()\n",
        "\n",
        "single_mean = df_train_full[df_train_full.marriage == 2].default.mean()\n",
        "\n",
        "other_mean  = df_train_full[df_train_full.marriage == 3].default.mean()"
      ],
      "metadata": {
        "id": "-HFvFFdDGv6h"
      },
      "execution_count": 42,
      "outputs": []
    },
    {
      "cell_type": "markdown",
      "source": [
        "## EDUCATION: (1=graduate school, 2=university, 3=high school, 4=others, 5=unknown, 6=unknown)"
      ],
      "metadata": {
        "id": "Dd7cWFDzJrj6"
      }
    },
    {
      "cell_type": "code",
      "source": [
        "grad_school_mean = df_train_full[df_train_full.education == 1].default.mean()\n",
        "\n",
        "university_mean = df_train_full[df_train_full.education == 2].default.mean()\n",
        "\n",
        "high_school_mean = df_train_full[df_train_full.education == 3].default.mean()\n",
        "\n",
        "other_mean  = df_train_full[df_train_full.education == 4].default.mean()\n",
        "\n",
        "unknown_mean = df_train_full[df_train_full.education > 4].default.mean()"
      ],
      "metadata": {
        "id": "fe6DDUauJkXj"
      },
      "execution_count": 43,
      "outputs": []
    },
    {
      "cell_type": "markdown",
      "source": [
        "## Risk Ratio\n",
        "\n",
        "##  risk = group rate / global_rate"
      ],
      "metadata": {
        "id": "DQwVywJ6ir8y"
      }
    },
    {
      "cell_type": "markdown",
      "source": [
        "## Compute Risk Ratio"
      ],
      "metadata": {
        "id": "ZaBvItIjjYQC"
      }
    },
    {
      "cell_type": "code",
      "source": [
        "global_mean = df_train_full.default.mean()\n",
        "print('global_mean: ', round(global_mean, 5))\n",
        "\n",
        "df_group = df_train_full.groupby(by='sex').default.agg(['mean'])\n",
        "\n",
        "df_group['diff'] = df_group['mean'] - global_mean\n",
        "\n",
        "df_group['risk'] = df_group['mean'] / global_mean\n",
        "\n",
        "df_group\n"
      ],
      "metadata": {
        "colab": {
          "base_uri": "https://localhost:8080/",
          "height": 162
        },
        "id": "WayOXvvKjS81",
        "outputId": "4ed0aa29-69c7-48f5-eaee-cf04dc0f5415"
      },
      "execution_count": 44,
      "outputs": [
        {
          "output_type": "stream",
          "name": "stdout",
          "text": [
            "global_mean:  0.22542\n"
          ]
        },
        {
          "output_type": "execute_result",
          "data": {
            "text/plain": [
              "         mean      diff      risk\n",
              "sex                              \n",
              "1    0.249505  0.024082  1.106832\n",
              "2    0.209822 -0.015600  0.930795"
            ],
            "text/html": [
              "\n",
              "  <div id=\"df-4cb5f89c-2242-415a-9f46-26004e835d9a\">\n",
              "    <div class=\"colab-df-container\">\n",
              "      <div>\n",
              "<style scoped>\n",
              "    .dataframe tbody tr th:only-of-type {\n",
              "        vertical-align: middle;\n",
              "    }\n",
              "\n",
              "    .dataframe tbody tr th {\n",
              "        vertical-align: top;\n",
              "    }\n",
              "\n",
              "    .dataframe thead th {\n",
              "        text-align: right;\n",
              "    }\n",
              "</style>\n",
              "<table border=\"1\" class=\"dataframe\">\n",
              "  <thead>\n",
              "    <tr style=\"text-align: right;\">\n",
              "      <th></th>\n",
              "      <th>mean</th>\n",
              "      <th>diff</th>\n",
              "      <th>risk</th>\n",
              "    </tr>\n",
              "    <tr>\n",
              "      <th>sex</th>\n",
              "      <th></th>\n",
              "      <th></th>\n",
              "      <th></th>\n",
              "    </tr>\n",
              "  </thead>\n",
              "  <tbody>\n",
              "    <tr>\n",
              "      <th>1</th>\n",
              "      <td>0.249505</td>\n",
              "      <td>0.024082</td>\n",
              "      <td>1.106832</td>\n",
              "    </tr>\n",
              "    <tr>\n",
              "      <th>2</th>\n",
              "      <td>0.209822</td>\n",
              "      <td>-0.015600</td>\n",
              "      <td>0.930795</td>\n",
              "    </tr>\n",
              "  </tbody>\n",
              "</table>\n",
              "</div>\n",
              "      <button class=\"colab-df-convert\" onclick=\"convertToInteractive('df-4cb5f89c-2242-415a-9f46-26004e835d9a')\"\n",
              "              title=\"Convert this dataframe to an interactive table.\"\n",
              "              style=\"display:none;\">\n",
              "        \n",
              "  <svg xmlns=\"http://www.w3.org/2000/svg\" height=\"24px\"viewBox=\"0 0 24 24\"\n",
              "       width=\"24px\">\n",
              "    <path d=\"M0 0h24v24H0V0z\" fill=\"none\"/>\n",
              "    <path d=\"M18.56 5.44l.94 2.06.94-2.06 2.06-.94-2.06-.94-.94-2.06-.94 2.06-2.06.94zm-11 1L8.5 8.5l.94-2.06 2.06-.94-2.06-.94L8.5 2.5l-.94 2.06-2.06.94zm10 10l.94 2.06.94-2.06 2.06-.94-2.06-.94-.94-2.06-.94 2.06-2.06.94z\"/><path d=\"M17.41 7.96l-1.37-1.37c-.4-.4-.92-.59-1.43-.59-.52 0-1.04.2-1.43.59L10.3 9.45l-7.72 7.72c-.78.78-.78 2.05 0 2.83L4 21.41c.39.39.9.59 1.41.59.51 0 1.02-.2 1.41-.59l7.78-7.78 2.81-2.81c.8-.78.8-2.07 0-2.86zM5.41 20L4 18.59l7.72-7.72 1.47 1.35L5.41 20z\"/>\n",
              "  </svg>\n",
              "      </button>\n",
              "      \n",
              "  <style>\n",
              "    .colab-df-container {\n",
              "      display:flex;\n",
              "      flex-wrap:wrap;\n",
              "      gap: 12px;\n",
              "    }\n",
              "\n",
              "    .colab-df-convert {\n",
              "      background-color: #E8F0FE;\n",
              "      border: none;\n",
              "      border-radius: 50%;\n",
              "      cursor: pointer;\n",
              "      display: none;\n",
              "      fill: #1967D2;\n",
              "      height: 32px;\n",
              "      padding: 0 0 0 0;\n",
              "      width: 32px;\n",
              "    }\n",
              "\n",
              "    .colab-df-convert:hover {\n",
              "      background-color: #E2EBFA;\n",
              "      box-shadow: 0px 1px 2px rgba(60, 64, 67, 0.3), 0px 1px 3px 1px rgba(60, 64, 67, 0.15);\n",
              "      fill: #174EA6;\n",
              "    }\n",
              "\n",
              "    [theme=dark] .colab-df-convert {\n",
              "      background-color: #3B4455;\n",
              "      fill: #D2E3FC;\n",
              "    }\n",
              "\n",
              "    [theme=dark] .colab-df-convert:hover {\n",
              "      background-color: #434B5C;\n",
              "      box-shadow: 0px 1px 3px 1px rgba(0, 0, 0, 0.15);\n",
              "      filter: drop-shadow(0px 1px 2px rgba(0, 0, 0, 0.3));\n",
              "      fill: #FFFFFF;\n",
              "    }\n",
              "  </style>\n",
              "\n",
              "      <script>\n",
              "        const buttonEl =\n",
              "          document.querySelector('#df-4cb5f89c-2242-415a-9f46-26004e835d9a button.colab-df-convert');\n",
              "        buttonEl.style.display =\n",
              "          google.colab.kernel.accessAllowed ? 'block' : 'none';\n",
              "\n",
              "        async function convertToInteractive(key) {\n",
              "          const element = document.querySelector('#df-4cb5f89c-2242-415a-9f46-26004e835d9a');\n",
              "          const dataTable =\n",
              "            await google.colab.kernel.invokeFunction('convertToInteractive',\n",
              "                                                     [key], {});\n",
              "          if (!dataTable) return;\n",
              "\n",
              "          const docLinkHtml = 'Like what you see? Visit the ' +\n",
              "            '<a target=\"_blank\" href=https://colab.research.google.com/notebooks/data_table.ipynb>data table notebook</a>'\n",
              "            + ' to learn more about interactive tables.';\n",
              "          element.innerHTML = '';\n",
              "          dataTable['output_type'] = 'display_data';\n",
              "          await google.colab.output.renderOutput(dataTable, element);\n",
              "          const docLink = document.createElement('div');\n",
              "          docLink.innerHTML = docLinkHtml;\n",
              "          element.appendChild(docLink);\n",
              "        }\n",
              "      </script>\n",
              "    </div>\n",
              "  </div>\n",
              "  "
            ]
          },
          "metadata": {},
          "execution_count": 44
        }
      ]
    },
    {
      "cell_type": "markdown",
      "source": [
        "## Risk Ratio for ALL Categorical Variables\n",
        "\n",
        "## Converted Analysis"
      ],
      "metadata": {
        "id": "n20f7oHdkNRX"
      }
    },
    {
      "cell_type": "markdown",
      "source": [
        "## Mutual Information : Categorical"
      ],
      "metadata": {
        "id": "5SfX14HHlpXB"
      }
    },
    {
      "cell_type": "code",
      "source": [
        "def calculate_mi(series):\n",
        " return mutual_info_score(series, df_train_full.default)"
      ],
      "metadata": {
        "id": "P8gKtMyLlmax"
      },
      "execution_count": 45,
      "outputs": []
    },
    {
      "cell_type": "code",
      "source": [
        "df_mi = df_train_full[categorical].apply(calculate_mi)\n",
        "\n",
        "df_mi = df_mi.sort_values(ascending=False).to_frame(name='MI')\n",
        "\n",
        "print(round(df_mi, 5))"
      ],
      "metadata": {
        "colab": {
          "base_uri": "https://localhost:8080/"
        },
        "id": "7ss95f7jl3iK",
        "outputId": "4247cf71-9524-4d2d-e471-9cb92e162e43"
      },
      "execution_count": 46,
      "outputs": [
        {
          "output_type": "stream",
          "name": "stdout",
          "text": [
            "                MI\n",
            "education  0.00274\n",
            "marriage   0.00107\n",
            "sex        0.00107\n"
          ]
        }
      ]
    },
    {
      "cell_type": "markdown",
      "source": [
        "# Correlation Coefficient"
      ],
      "metadata": {
        "id": "W8V1L9-SmJwU"
      }
    },
    {
      "cell_type": "code",
      "source": [
        "df_train_full[numerical].corrwith(df_train_full.default)"
      ],
      "metadata": {
        "colab": {
          "base_uri": "https://localhost:8080/"
        },
        "id": "X4rdzkj1mNSl",
        "outputId": "e00cebf9-b338-48eb-c763-041e1e7ba0e2"
      },
      "execution_count": 47,
      "outputs": [
        {
          "output_type": "execute_result",
          "data": {
            "text/plain": [
              "limit_bal   -0.143557\n",
              "age          0.014073\n",
              "pay_0        0.322446\n",
              "pay_2        0.257033\n",
              "pay_3        0.231303\n",
              "pay_4        0.212623\n",
              "pay_5        0.203901\n",
              "pay_6        0.183886\n",
              "bill_amt1   -0.016571\n",
              "bill_amt2   -0.010090\n",
              "bill_amt3   -0.007125\n",
              "bill_amt4   -0.000658\n",
              "bill_amt5    0.002427\n",
              "bill_amt6    0.004218\n",
              "pay_amt1    -0.075394\n",
              "pay_amt2    -0.054353\n",
              "pay_amt3    -0.061984\n",
              "pay_amt4    -0.055503\n",
              "pay_amt5    -0.052828\n",
              "pay_amt6    -0.056244\n",
              "dtype: float64"
            ]
          },
          "metadata": {},
          "execution_count": 47
        }
      ]
    },
    {
      "cell_type": "markdown",
      "source": [
        "# Machine learning\n",
        "\n",
        "## Predictive Analytics from the clean Telco Dataset\n",
        "\n",
        "## ML for Classification\n"
      ],
      "metadata": {
        "id": "b47cL7Qznj7Q"
      }
    },
    {
      "cell_type": "markdown",
      "source": [
        "## Linear Regression from Scratch in Python"
      ],
      "metadata": {
        "id": "y1fx08SKe89m"
      }
    },
    {
      "cell_type": "code",
      "source": [
        "def linear_regression(xi):\n",
        "  result = bias\n",
        "  for j in range(n):\n",
        "    result = result + xi[j] * w[j]\n",
        "  return result"
      ],
      "metadata": {
        "id": "PV9QFSjJfE4v"
      },
      "execution_count": 48,
      "outputs": []
    },
    {
      "cell_type": "markdown",
      "source": [
        "## Logistic Regression from Scratch using Python"
      ],
      "metadata": {
        "id": "ZuRgVtXBfTLe"
      }
    },
    {
      "cell_type": "code",
      "source": [
        "def logistic_regression(xi):\n",
        "  score = bias\n",
        "  for j in range(n):\n",
        "    score = score + xi[j] * w[j]\n",
        "    prob = sigmoid(score)\n",
        "  return prob\n",
        "\n",
        "def sigmoid(score):\n",
        "  return 1 / (1 + math.exp(-score))"
      ],
      "metadata": {
        "id": "6i_bWAG4fVXI"
      },
      "execution_count": 49,
      "outputs": []
    },
    {
      "cell_type": "markdown",
      "source": [
        "## Training the Logistic Regression Model"
      ],
      "metadata": {
        "id": "VkF9rGetfsUh"
      }
    },
    {
      "cell_type": "code",
      "source": [
        "X_train = df_train\n",
        "X_val = df_val"
      ],
      "metadata": {
        "id": "5WiKgfppbmyH"
      },
      "execution_count": 50,
      "outputs": []
    },
    {
      "cell_type": "code",
      "source": [
        "model = LogisticRegression(solver='liblinear', random_state=1)\n",
        "\n",
        "model.fit(X_train, y_train)"
      ],
      "metadata": {
        "colab": {
          "base_uri": "https://localhost:8080/",
          "height": 75
        },
        "id": "TEbPKTr3fPUZ",
        "outputId": "abd486f8-4de0-4be5-beed-81cb58ae0607"
      },
      "execution_count": 51,
      "outputs": [
        {
          "output_type": "execute_result",
          "data": {
            "text/plain": [
              "LogisticRegression(random_state=1, solver='liblinear')"
            ],
            "text/html": [
              "<style>#sk-container-id-1 {color: black;background-color: white;}#sk-container-id-1 pre{padding: 0;}#sk-container-id-1 div.sk-toggleable {background-color: white;}#sk-container-id-1 label.sk-toggleable__label {cursor: pointer;display: block;width: 100%;margin-bottom: 0;padding: 0.3em;box-sizing: border-box;text-align: center;}#sk-container-id-1 label.sk-toggleable__label-arrow:before {content: \"▸\";float: left;margin-right: 0.25em;color: #696969;}#sk-container-id-1 label.sk-toggleable__label-arrow:hover:before {color: black;}#sk-container-id-1 div.sk-estimator:hover label.sk-toggleable__label-arrow:before {color: black;}#sk-container-id-1 div.sk-toggleable__content {max-height: 0;max-width: 0;overflow: hidden;text-align: left;background-color: #f0f8ff;}#sk-container-id-1 div.sk-toggleable__content pre {margin: 0.2em;color: black;border-radius: 0.25em;background-color: #f0f8ff;}#sk-container-id-1 input.sk-toggleable__control:checked~div.sk-toggleable__content {max-height: 200px;max-width: 100%;overflow: auto;}#sk-container-id-1 input.sk-toggleable__control:checked~label.sk-toggleable__label-arrow:before {content: \"▾\";}#sk-container-id-1 div.sk-estimator input.sk-toggleable__control:checked~label.sk-toggleable__label {background-color: #d4ebff;}#sk-container-id-1 div.sk-label input.sk-toggleable__control:checked~label.sk-toggleable__label {background-color: #d4ebff;}#sk-container-id-1 input.sk-hidden--visually {border: 0;clip: rect(1px 1px 1px 1px);clip: rect(1px, 1px, 1px, 1px);height: 1px;margin: -1px;overflow: hidden;padding: 0;position: absolute;width: 1px;}#sk-container-id-1 div.sk-estimator {font-family: monospace;background-color: #f0f8ff;border: 1px dotted black;border-radius: 0.25em;box-sizing: border-box;margin-bottom: 0.5em;}#sk-container-id-1 div.sk-estimator:hover {background-color: #d4ebff;}#sk-container-id-1 div.sk-parallel-item::after {content: \"\";width: 100%;border-bottom: 1px solid gray;flex-grow: 1;}#sk-container-id-1 div.sk-label:hover label.sk-toggleable__label {background-color: #d4ebff;}#sk-container-id-1 div.sk-serial::before {content: \"\";position: absolute;border-left: 1px solid gray;box-sizing: border-box;top: 0;bottom: 0;left: 50%;z-index: 0;}#sk-container-id-1 div.sk-serial {display: flex;flex-direction: column;align-items: center;background-color: white;padding-right: 0.2em;padding-left: 0.2em;position: relative;}#sk-container-id-1 div.sk-item {position: relative;z-index: 1;}#sk-container-id-1 div.sk-parallel {display: flex;align-items: stretch;justify-content: center;background-color: white;position: relative;}#sk-container-id-1 div.sk-item::before, #sk-container-id-1 div.sk-parallel-item::before {content: \"\";position: absolute;border-left: 1px solid gray;box-sizing: border-box;top: 0;bottom: 0;left: 50%;z-index: -1;}#sk-container-id-1 div.sk-parallel-item {display: flex;flex-direction: column;z-index: 1;position: relative;background-color: white;}#sk-container-id-1 div.sk-parallel-item:first-child::after {align-self: flex-end;width: 50%;}#sk-container-id-1 div.sk-parallel-item:last-child::after {align-self: flex-start;width: 50%;}#sk-container-id-1 div.sk-parallel-item:only-child::after {width: 0;}#sk-container-id-1 div.sk-dashed-wrapped {border: 1px dashed gray;margin: 0 0.4em 0.5em 0.4em;box-sizing: border-box;padding-bottom: 0.4em;background-color: white;}#sk-container-id-1 div.sk-label label {font-family: monospace;font-weight: bold;display: inline-block;line-height: 1.2em;}#sk-container-id-1 div.sk-label-container {text-align: center;}#sk-container-id-1 div.sk-container {/* jupyter's `normalize.less` sets `[hidden] { display: none; }` but bootstrap.min.css set `[hidden] { display: none !important; }` so we also need the `!important` here to be able to override the default hidden behavior on the sphinx rendered scikit-learn.org. See: https://github.com/scikit-learn/scikit-learn/issues/21755 */display: inline-block !important;position: relative;}#sk-container-id-1 div.sk-text-repr-fallback {display: none;}</style><div id=\"sk-container-id-1\" class=\"sk-top-container\"><div class=\"sk-text-repr-fallback\"><pre>LogisticRegression(random_state=1, solver=&#x27;liblinear&#x27;)</pre><b>In a Jupyter environment, please rerun this cell to show the HTML representation or trust the notebook. <br />On GitHub, the HTML representation is unable to render, please try loading this page with nbviewer.org.</b></div><div class=\"sk-container\" hidden><div class=\"sk-item\"><div class=\"sk-estimator sk-toggleable\"><input class=\"sk-toggleable__control sk-hidden--visually\" id=\"sk-estimator-id-1\" type=\"checkbox\" checked><label for=\"sk-estimator-id-1\" class=\"sk-toggleable__label sk-toggleable__label-arrow\">LogisticRegression</label><div class=\"sk-toggleable__content\"><pre>LogisticRegression(random_state=1, solver=&#x27;liblinear&#x27;)</pre></div></div></div></div></div>"
            ]
          },
          "metadata": {},
          "execution_count": 51
        }
      ]
    },
    {
      "cell_type": "markdown",
      "source": [
        "## Test the model"
      ],
      "metadata": {
        "id": "QISEYFVVgByC"
      }
    },
    {
      "cell_type": "code",
      "source": [
        "y_pred = model.predict_proba(X_val)"
      ],
      "metadata": {
        "id": "DhDhKAEkgGEg"
      },
      "execution_count": 52,
      "outputs": []
    },
    {
      "cell_type": "code",
      "source": [
        "y_pred = model.predict_proba(X_val)[:, 1]\n",
        "\n",
        "y_pred >= 0.5"
      ],
      "metadata": {
        "colab": {
          "base_uri": "https://localhost:8080/"
        },
        "id": "yxRH_kkQgUhZ",
        "outputId": "0337b943-8cdb-48cc-c985-f70a49e5f65f"
      },
      "execution_count": 53,
      "outputs": [
        {
          "output_type": "execute_result",
          "data": {
            "text/plain": [
              "array([False, False, False, ..., False, False, False])"
            ]
          },
          "metadata": {},
          "execution_count": 53
        }
      ]
    },
    {
      "cell_type": "markdown",
      "source": [
        "## Accuracy"
      ],
      "metadata": {
        "id": "GVym5pktgfQf"
      }
    },
    {
      "cell_type": "code",
      "source": [
        "defaulted = y_pred >= 0.5\n",
        "\n",
        "(y_val == defaulted).mean() #Quality Measure called ACCURACY"
      ],
      "metadata": {
        "colab": {
          "base_uri": "https://localhost:8080/"
        },
        "id": "u4V2oS6AgYiB",
        "outputId": "dae78d13-38fb-4dc2-da25-986beddc1188"
      },
      "execution_count": 54,
      "outputs": [
        {
          "output_type": "execute_result",
          "data": {
            "text/plain": [
              "0.7703454085930919"
            ]
          },
          "metadata": {},
          "execution_count": 54
        }
      ]
    },
    {
      "cell_type": "code",
      "source": [
        "# Predict\n",
        "y_pred = model.predict(X_val)\n"
      ],
      "metadata": {
        "id": "tSeeENdcl9oW"
      },
      "execution_count": 55,
      "outputs": []
    },
    {
      "cell_type": "code",
      "source": [
        "# Score\n",
        "accuracy_score(y_val, y_pred)"
      ],
      "metadata": {
        "colab": {
          "base_uri": "https://localhost:8080/"
        },
        "id": "BQD90Cv9ltlu",
        "outputId": "3e3cfc5e-8e38-4205-a656-20c4561009dd"
      },
      "execution_count": 56,
      "outputs": [
        {
          "output_type": "execute_result",
          "data": {
            "text/plain": [
              "0.7703454085930919"
            ]
          },
          "metadata": {},
          "execution_count": 56
        }
      ]
    },
    {
      "cell_type": "markdown",
      "source": [
        "## Confusion matrix"
      ],
      "metadata": {
        "id": "eZJnYOFnjJR1"
      }
    },
    {
      "cell_type": "code",
      "source": [
        "# Confusion Matrix\n",
        "cm = confusion_matrix(y_val, y_pred)\n",
        "disp = ConfusionMatrixDisplay(confusion_matrix=cm, display_labels=[\"No Default\", \"Default\"])\n",
        "disp.plot(cmap=plt.cm.Blues)\n",
        "plt.title(\"Confusion Matrix\")\n",
        "plt.show()"
      ],
      "metadata": {
        "colab": {
          "base_uri": "https://localhost:8080/",
          "height": 472
        },
        "id": "RyCqoRnCjOKt",
        "outputId": "88b54e59-e88b-43e1-fb90-dc5934ac7056"
      },
      "execution_count": 57,
      "outputs": [
        {
          "output_type": "display_data",
          "data": {
            "text/plain": [
              "<Figure size 640x480 with 2 Axes>"
            ],
            "image/png": "[encoded data removed]"
          },
          "metadata": {}
        }
      ]
    },
    {
      "cell_type": "markdown",
      "source": [
        "## Drop amt columns and rerun the model"
      ],
      "metadata": {
        "id": "kXejiubQhJih"
      }
    },
    {
      "cell_type": "code",
      "source": [
        "X_train = df_train.copy(deep=True)\n",
        "X_val = df_val.copy(deep=True)\n",
        "\n",
        "print(type(df_train))"
      ],
      "metadata": {
        "colab": {
          "base_uri": "https://localhost:8080/"
        },
        "id": "Rx0Urb0lsCDx",
        "outputId": "6c3e8c95-136b-411c-f6d9-eb691cdf0bbc"
      },
      "execution_count": 81,
      "outputs": [
        {
          "output_type": "stream",
          "name": "stdout",
          "text": [
            "<class 'pandas.core.frame.DataFrame'>\n"
          ]
        }
      ]
    },
    {
      "cell_type": "code",
      "source": [
        "X_train.drop(['bill_amt1', 'bill_amt2', 'bill_amt3', 'bill_amt4', 'bill_amt5', 'bill_amt6'], axis=1, inplace=True)\n",
        "\n",
        "X_train.drop(['pay_amt1','pay_amt2','pay_amt3', 'pay_amt4', 'pay_amt5', 'pay_amt6'], axis=1, inplace=True)"
      ],
      "metadata": {
        "colab": {
          "base_uri": "https://localhost:8080/",
          "height": 355
        },
        "id": "vaXO9OyMslpr",
        "outputId": "186bfe90-ec39-4844-b9c7-380a3926d04a"
      },
      "execution_count": 82,
      "outputs": [
        {
          "output_type": "error",
          "ename": "KeyError",
          "evalue": "ignored",
          "traceback": [
            "\u001b[0;31m---------------------------------------------------------------------------\u001b[0m",
            "\u001b[0;31mKeyError\u001b[0m                                  Traceback (most recent call last)",
            "\u001b[0;32m<ipython-input-82-501b4767c694>\u001b[0m in \u001b[0;36m<cell line: 1>\u001b[0;34m()\u001b[0m\n\u001b[0;32m----> 1\u001b[0;31m \u001b[0mX_train\u001b[0m\u001b[0;34m.\u001b[0m\u001b[0mdrop\u001b[0m\u001b[0;34m(\u001b[0m\u001b[0;34m[\u001b[0m\u001b[0;34m'bill_amt1'\u001b[0m\u001b[0;34m,\u001b[0m \u001b[0;34m'bill_amt2'\u001b[0m\u001b[0;34m,\u001b[0m \u001b[0;34m'bill_amt3'\u001b[0m\u001b[0;34m,\u001b[0m \u001b[0;34m'bill_amt4'\u001b[0m\u001b[0;34m,\u001b[0m \u001b[0;34m'bill_amt5'\u001b[0m\u001b[0;34m,\u001b[0m \u001b[0;34m'bill_amt6'\u001b[0m\u001b[0;34m]\u001b[0m\u001b[0;34m,\u001b[0m \u001b[0maxis\u001b[0m\u001b[0;34m=\u001b[0m\u001b[0;36m1\u001b[0m\u001b[0;34m,\u001b[0m \u001b[0minplace\u001b[0m\u001b[0;34m=\u001b[0m\u001b[0;32mTrue\u001b[0m\u001b[0;34m)\u001b[0m\u001b[0;34m\u001b[0m\u001b[0;34m\u001b[0m\u001b[0m\n\u001b[0m\u001b[1;32m      2\u001b[0m \u001b[0;34m\u001b[0m\u001b[0m\n\u001b[1;32m      3\u001b[0m \u001b[0mX_train\u001b[0m\u001b[0;34m.\u001b[0m\u001b[0mdrop\u001b[0m\u001b[0;34m(\u001b[0m\u001b[0;34m[\u001b[0m\u001b[0;34m'pay_amt1'\u001b[0m\u001b[0;34m,\u001b[0m\u001b[0;34m'pay_amt2'\u001b[0m\u001b[0;34m,\u001b[0m\u001b[0;34m'pay_amt3'\u001b[0m\u001b[0;34m,\u001b[0m \u001b[0;34m'pay_amt4'\u001b[0m\u001b[0;34m,\u001b[0m \u001b[0;34m'pay_amt5'\u001b[0m\u001b[0;34m,\u001b[0m \u001b[0;34m'pay_amt6'\u001b[0m\u001b[0;34m]\u001b[0m\u001b[0;34m,\u001b[0m \u001b[0maxis\u001b[0m\u001b[0;34m=\u001b[0m\u001b[0;36m1\u001b[0m\u001b[0;34m,\u001b[0m \u001b[0minplace\u001b[0m\u001b[0;34m=\u001b[0m\u001b[0;32mTrue\u001b[0m\u001b[0;34m)\u001b[0m\u001b[0;34m\u001b[0m\u001b[0;34m\u001b[0m\u001b[0m\n",
            "\u001b[0;32m/usr/local/lib/python3.10/dist-packages/pandas/util/_decorators.py\u001b[0m in \u001b[0;36mwrapper\u001b[0;34m(*args, **kwargs)\u001b[0m\n\u001b[1;32m    329\u001b[0m                     \u001b[0mstacklevel\u001b[0m\u001b[0;34m=\u001b[0m\u001b[0mfind_stack_level\u001b[0m\u001b[0;34m(\u001b[0m\u001b[0;34m)\u001b[0m\u001b[0;34m,\u001b[0m\u001b[0;34m\u001b[0m\u001b[0;34m\u001b[0m\u001b[0m\n\u001b[1;32m    330\u001b[0m                 )\n\u001b[0;32m--> 331\u001b[0;31m             \u001b[0;32mreturn\u001b[0m \u001b[0mfunc\u001b[0m\u001b[0;34m(\u001b[0m\u001b[0;34m*\u001b[0m\u001b[0margs\u001b[0m\u001b[0;34m,\u001b[0m \u001b[0;34m**\u001b[0m\u001b[0mkwargs\u001b[0m\u001b[0;34m)\u001b[0m\u001b[0;34m\u001b[0m\u001b[0;34m\u001b[0m\u001b[0m\n\u001b[0m\u001b[1;32m    332\u001b[0m \u001b[0;34m\u001b[0m\u001b[0m\n\u001b[1;32m    333\u001b[0m         \u001b[0;31m# error: \"Callable[[VarArg(Any), KwArg(Any)], Any]\" has no\u001b[0m\u001b[0;34m\u001b[0m\u001b[0;34m\u001b[0m\u001b[0m\n",
            "\u001b[0;32m/usr/local/lib/python3.10/dist-packages/pandas/core/frame.py\u001b[0m in \u001b[0;36mdrop\u001b[0;34m(self, labels, axis, index, columns, level, inplace, errors)\u001b[0m\n\u001b[1;32m   5397\u001b[0m                 \u001b[0mweight\u001b[0m  \u001b[0;36m1.0\u001b[0m     \u001b[0;36m0.8\u001b[0m\u001b[0;34m\u001b[0m\u001b[0;34m\u001b[0m\u001b[0m\n\u001b[1;32m   5398\u001b[0m         \"\"\"\n\u001b[0;32m-> 5399\u001b[0;31m         return super().drop(\n\u001b[0m\u001b[1;32m   5400\u001b[0m             \u001b[0mlabels\u001b[0m\u001b[0;34m=\u001b[0m\u001b[0mlabels\u001b[0m\u001b[0;34m,\u001b[0m\u001b[0;34m\u001b[0m\u001b[0;34m\u001b[0m\u001b[0m\n\u001b[1;32m   5401\u001b[0m             \u001b[0maxis\u001b[0m\u001b[0;34m=\u001b[0m\u001b[0maxis\u001b[0m\u001b[0;34m,\u001b[0m\u001b[0;34m\u001b[0m\u001b[0;34m\u001b[0m\u001b[0m\n",
            "\u001b[0;32m/usr/local/lib/python3.10/dist-packages/pandas/util/_decorators.py\u001b[0m in \u001b[0;36mwrapper\u001b[0;34m(*args, **kwargs)\u001b[0m\n\u001b[1;32m    329\u001b[0m                     \u001b[0mstacklevel\u001b[0m\u001b[0;34m=\u001b[0m\u001b[0mfind_stack_level\u001b[0m\u001b[0;34m(\u001b[0m\u001b[0;34m)\u001b[0m\u001b[0;34m,\u001b[0m\u001b[0;34m\u001b[0m\u001b[0;34m\u001b[0m\u001b[0m\n\u001b[1;32m    330\u001b[0m                 )\n\u001b[0;32m--> 331\u001b[0;31m             \u001b[0;32mreturn\u001b[0m \u001b[0mfunc\u001b[0m\u001b[0;34m(\u001b[0m\u001b[0;34m*\u001b[0m\u001b[0margs\u001b[0m\u001b[0;34m,\u001b[0m \u001b[0;34m**\u001b[0m\u001b[0mkwargs\u001b[0m\u001b[0;34m)\u001b[0m\u001b[0;34m\u001b[0m\u001b[0;34m\u001b[0m\u001b[0m\n\u001b[0m\u001b[1;32m    332\u001b[0m \u001b[0;34m\u001b[0m\u001b[0m\n\u001b[1;32m    333\u001b[0m         \u001b[0;31m# error: \"Callable[[VarArg(Any), KwArg(Any)], Any]\" has no\u001b[0m\u001b[0;34m\u001b[0m\u001b[0;34m\u001b[0m\u001b[0m\n",
            "\u001b[0;32m/usr/local/lib/python3.10/dist-packages/pandas/core/generic.py\u001b[0m in \u001b[0;36mdrop\u001b[0;34m(self, labels, axis, index, columns, level, inplace, errors)\u001b[0m\n\u001b[1;32m   4503\u001b[0m         \u001b[0;32mfor\u001b[0m \u001b[0maxis\u001b[0m\u001b[0;34m,\u001b[0m \u001b[0mlabels\u001b[0m \u001b[0;32min\u001b[0m \u001b[0maxes\u001b[0m\u001b[0;34m.\u001b[0m\u001b[0mitems\u001b[0m\u001b[0;34m(\u001b[0m\u001b[0;34m)\u001b[0m\u001b[0;34m:\u001b[0m\u001b[0;34m\u001b[0m\u001b[0;34m\u001b[0m\u001b[0m\n\u001b[1;32m   4504\u001b[0m             \u001b[0;32mif\u001b[0m \u001b[0mlabels\u001b[0m \u001b[0;32mis\u001b[0m \u001b[0;32mnot\u001b[0m \u001b[0;32mNone\u001b[0m\u001b[0;34m:\u001b[0m\u001b[0;34m\u001b[0m\u001b[0;34m\u001b[0m\u001b[0m\n\u001b[0;32m-> 4505\u001b[0;31m                 \u001b[0mobj\u001b[0m \u001b[0;34m=\u001b[0m \u001b[0mobj\u001b[0m\u001b[0;34m.\u001b[0m\u001b[0m_drop_axis\u001b[0m\u001b[0;34m(\u001b[0m\u001b[0mlabels\u001b[0m\u001b[0;34m,\u001b[0m \u001b[0maxis\u001b[0m\u001b[0;34m,\u001b[0m \u001b[0mlevel\u001b[0m\u001b[0;34m=\u001b[0m\u001b[0mlevel\u001b[0m\u001b[0;34m,\u001b[0m \u001b[0merrors\u001b[0m\u001b[0;34m=\u001b[0m\u001b[0merrors\u001b[0m\u001b[0;34m)\u001b[0m\u001b[0;34m\u001b[0m\u001b[0;34m\u001b[0m\u001b[0m\n\u001b[0m\u001b[1;32m   4506\u001b[0m \u001b[0;34m\u001b[0m\u001b[0m\n\u001b[1;32m   4507\u001b[0m         \u001b[0;32mif\u001b[0m \u001b[0minplace\u001b[0m\u001b[0;34m:\u001b[0m\u001b[0;34m\u001b[0m\u001b[0;34m\u001b[0m\u001b[0m\n",
            "\u001b[0;32m/usr/local/lib/python3.10/dist-packages/pandas/core/generic.py\u001b[0m in \u001b[0;36m_drop_axis\u001b[0;34m(self, labels, axis, level, errors, only_slice)\u001b[0m\n\u001b[1;32m   4544\u001b[0m                 \u001b[0mnew_axis\u001b[0m \u001b[0;34m=\u001b[0m \u001b[0maxis\u001b[0m\u001b[0;34m.\u001b[0m\u001b[0mdrop\u001b[0m\u001b[0;34m(\u001b[0m\u001b[0mlabels\u001b[0m\u001b[0;34m,\u001b[0m \u001b[0mlevel\u001b[0m\u001b[0;34m=\u001b[0m\u001b[0mlevel\u001b[0m\u001b[0;34m,\u001b[0m \u001b[0merrors\u001b[0m\u001b[0;34m=\u001b[0m\u001b[0merrors\u001b[0m\u001b[0;34m)\u001b[0m\u001b[0;34m\u001b[0m\u001b[0;34m\u001b[0m\u001b[0m\n\u001b[1;32m   4545\u001b[0m             \u001b[0;32melse\u001b[0m\u001b[0;34m:\u001b[0m\u001b[0;34m\u001b[0m\u001b[0;34m\u001b[0m\u001b[0m\n\u001b[0;32m-> 4546\u001b[0;31m                 \u001b[0mnew_axis\u001b[0m \u001b[0;34m=\u001b[0m \u001b[0maxis\u001b[0m\u001b[0;34m.\u001b[0m\u001b[0mdrop\u001b[0m\u001b[0;34m(\u001b[0m\u001b[0mlabels\u001b[0m\u001b[0;34m,\u001b[0m \u001b[0merrors\u001b[0m\u001b[0;34m=\u001b[0m\u001b[0merrors\u001b[0m\u001b[0;34m)\u001b[0m\u001b[0;34m\u001b[0m\u001b[0;34m\u001b[0m\u001b[0m\n\u001b[0m\u001b[1;32m   4547\u001b[0m             \u001b[0mindexer\u001b[0m \u001b[0;34m=\u001b[0m \u001b[0maxis\u001b[0m\u001b[0;34m.\u001b[0m\u001b[0mget_indexer\u001b[0m\u001b[0;34m(\u001b[0m\u001b[0mnew_axis\u001b[0m\u001b[0;34m)\u001b[0m\u001b[0;34m\u001b[0m\u001b[0;34m\u001b[0m\u001b[0m\n\u001b[1;32m   4548\u001b[0m \u001b[0;34m\u001b[0m\u001b[0m\n",
            "\u001b[0;32m/usr/local/lib/python3.10/dist-packages/pandas/core/indexes/base.py\u001b[0m in \u001b[0;36mdrop\u001b[0;34m(self, labels, errors)\u001b[0m\n\u001b[1;32m   6932\u001b[0m         \u001b[0;32mif\u001b[0m \u001b[0mmask\u001b[0m\u001b[0;34m.\u001b[0m\u001b[0many\u001b[0m\u001b[0;34m(\u001b[0m\u001b[0;34m)\u001b[0m\u001b[0;34m:\u001b[0m\u001b[0;34m\u001b[0m\u001b[0;34m\u001b[0m\u001b[0m\n\u001b[1;32m   6933\u001b[0m             \u001b[0;32mif\u001b[0m \u001b[0merrors\u001b[0m \u001b[0;34m!=\u001b[0m \u001b[0;34m\"ignore\"\u001b[0m\u001b[0;34m:\u001b[0m\u001b[0;34m\u001b[0m\u001b[0;34m\u001b[0m\u001b[0m\n\u001b[0;32m-> 6934\u001b[0;31m                 \u001b[0;32mraise\u001b[0m \u001b[0mKeyError\u001b[0m\u001b[0;34m(\u001b[0m\u001b[0;34mf\"{list(labels[mask])} not found in axis\"\u001b[0m\u001b[0;34m)\u001b[0m\u001b[0;34m\u001b[0m\u001b[0;34m\u001b[0m\u001b[0m\n\u001b[0m\u001b[1;32m   6935\u001b[0m             \u001b[0mindexer\u001b[0m \u001b[0;34m=\u001b[0m \u001b[0mindexer\u001b[0m\u001b[0;34m[\u001b[0m\u001b[0;34m~\u001b[0m\u001b[0mmask\u001b[0m\u001b[0;34m]\u001b[0m\u001b[0;34m\u001b[0m\u001b[0;34m\u001b[0m\u001b[0m\n\u001b[1;32m   6936\u001b[0m         \u001b[0;32mreturn\u001b[0m \u001b[0mself\u001b[0m\u001b[0;34m.\u001b[0m\u001b[0mdelete\u001b[0m\u001b[0;34m(\u001b[0m\u001b[0mindexer\u001b[0m\u001b[0;34m)\u001b[0m\u001b[0;34m\u001b[0m\u001b[0;34m\u001b[0m\u001b[0m\n",
            "\u001b[0;31mKeyError\u001b[0m: \"['bill_amt1', 'bill_amt2', 'bill_amt3', 'bill_amt4', 'bill_amt5', 'bill_amt6'] not found in axis\""
          ]
        }
      ]
    },
    {
      "cell_type": "code",
      "source": [
        "X_val.drop(['bill_amt1', 'bill_amt2', 'bill_amt3', 'bill_amt4', 'bill_amt5', 'bill_amt6'], axis=1, inplace=True)\n",
        "\n",
        "X_val.drop(['pay_amt1','pay_amt2','pay_amt3', 'pay_amt4', 'pay_amt5', 'pay_amt6'], axis=1, inplace=True)"
      ],
      "metadata": {
        "colab": {
          "base_uri": "https://localhost:8080/",
          "height": 355
        },
        "id": "WhTicohNue9S",
        "outputId": "b18d73f3-b2c6-41db-b987-6cd55fca8814"
      },
      "execution_count": 75,
      "outputs": [
        {
          "output_type": "error",
          "ename": "KeyError",
          "evalue": "ignored",
          "traceback": [
            "\u001b[0;31m---------------------------------------------------------------------------\u001b[0m",
            "\u001b[0;31mKeyError\u001b[0m                                  Traceback (most recent call last)",
            "\u001b[0;32m<ipython-input-75-215f95089ead>\u001b[0m in \u001b[0;36m<cell line: 1>\u001b[0;34m()\u001b[0m\n\u001b[0;32m----> 1\u001b[0;31m \u001b[0mX_val\u001b[0m\u001b[0;34m.\u001b[0m\u001b[0mdrop\u001b[0m\u001b[0;34m(\u001b[0m\u001b[0;34m[\u001b[0m\u001b[0;34m'bill_amt1'\u001b[0m\u001b[0;34m,\u001b[0m \u001b[0;34m'bill_amt2'\u001b[0m\u001b[0;34m,\u001b[0m \u001b[0;34m'bill_amt3'\u001b[0m\u001b[0;34m,\u001b[0m \u001b[0;34m'bill_amt4'\u001b[0m\u001b[0;34m,\u001b[0m \u001b[0;34m'bill_amt5'\u001b[0m\u001b[0;34m,\u001b[0m \u001b[0;34m'bill_amt6'\u001b[0m\u001b[0;34m]\u001b[0m\u001b[0;34m,\u001b[0m \u001b[0maxis\u001b[0m\u001b[0;34m=\u001b[0m\u001b[0;36m1\u001b[0m\u001b[0;34m,\u001b[0m \u001b[0minplace\u001b[0m\u001b[0;34m=\u001b[0m\u001b[0;32mTrue\u001b[0m\u001b[0;34m)\u001b[0m\u001b[0;34m\u001b[0m\u001b[0;34m\u001b[0m\u001b[0m\n\u001b[0m\u001b[1;32m      2\u001b[0m \u001b[0;34m\u001b[0m\u001b[0m\n\u001b[1;32m      3\u001b[0m \u001b[0mX_val\u001b[0m\u001b[0;34m.\u001b[0m\u001b[0mdrop\u001b[0m\u001b[0;34m(\u001b[0m\u001b[0;34m[\u001b[0m\u001b[0;34m'pay_amt1'\u001b[0m\u001b[0;34m,\u001b[0m\u001b[0;34m'pay_amt2'\u001b[0m\u001b[0;34m,\u001b[0m\u001b[0;34m'pay_amt3'\u001b[0m\u001b[0;34m,\u001b[0m \u001b[0;34m'pay_amt4'\u001b[0m\u001b[0;34m,\u001b[0m \u001b[0;34m'pay_amt5'\u001b[0m\u001b[0;34m,\u001b[0m \u001b[0;34m'pay_amt6'\u001b[0m\u001b[0;34m]\u001b[0m\u001b[0;34m,\u001b[0m \u001b[0maxis\u001b[0m\u001b[0;34m=\u001b[0m\u001b[0;36m1\u001b[0m\u001b[0;34m,\u001b[0m \u001b[0minplace\u001b[0m\u001b[0;34m=\u001b[0m\u001b[0;32mTrue\u001b[0m\u001b[0;34m)\u001b[0m\u001b[0;34m\u001b[0m\u001b[0;34m\u001b[0m\u001b[0m\n",
            "\u001b[0;32m/usr/local/lib/python3.10/dist-packages/pandas/util/_decorators.py\u001b[0m in \u001b[0;36mwrapper\u001b[0;34m(*args, **kwargs)\u001b[0m\n\u001b[1;32m    329\u001b[0m                     \u001b[0mstacklevel\u001b[0m\u001b[0;34m=\u001b[0m\u001b[0mfind_stack_level\u001b[0m\u001b[0;34m(\u001b[0m\u001b[0;34m)\u001b[0m\u001b[0;34m,\u001b[0m\u001b[0;34m\u001b[0m\u001b[0;34m\u001b[0m\u001b[0m\n\u001b[1;32m    330\u001b[0m                 )\n\u001b[0;32m--> 331\u001b[0;31m             \u001b[0;32mreturn\u001b[0m \u001b[0mfunc\u001b[0m\u001b[0;34m(\u001b[0m\u001b[0;34m*\u001b[0m\u001b[0margs\u001b[0m\u001b[0;34m,\u001b[0m \u001b[0;34m**\u001b[0m\u001b[0mkwargs\u001b[0m\u001b[0;34m)\u001b[0m\u001b[0;34m\u001b[0m\u001b[0;34m\u001b[0m\u001b[0m\n\u001b[0m\u001b[1;32m    332\u001b[0m \u001b[0;34m\u001b[0m\u001b[0m\n\u001b[1;32m    333\u001b[0m         \u001b[0;31m# error: \"Callable[[VarArg(Any), KwArg(Any)], Any]\" has no\u001b[0m\u001b[0;34m\u001b[0m\u001b[0;34m\u001b[0m\u001b[0m\n",
            "\u001b[0;32m/usr/local/lib/python3.10/dist-packages/pandas/core/frame.py\u001b[0m in \u001b[0;36mdrop\u001b[0;34m(self, labels, axis, index, columns, level, inplace, errors)\u001b[0m\n\u001b[1;32m   5397\u001b[0m                 \u001b[0mweight\u001b[0m  \u001b[0;36m1.0\u001b[0m     \u001b[0;36m0.8\u001b[0m\u001b[0;34m\u001b[0m\u001b[0;34m\u001b[0m\u001b[0m\n\u001b[1;32m   5398\u001b[0m         \"\"\"\n\u001b[0;32m-> 5399\u001b[0;31m         return super().drop(\n\u001b[0m\u001b[1;32m   5400\u001b[0m             \u001b[0mlabels\u001b[0m\u001b[0;34m=\u001b[0m\u001b[0mlabels\u001b[0m\u001b[0;34m,\u001b[0m\u001b[0;34m\u001b[0m\u001b[0;34m\u001b[0m\u001b[0m\n\u001b[1;32m   5401\u001b[0m             \u001b[0maxis\u001b[0m\u001b[0;34m=\u001b[0m\u001b[0maxis\u001b[0m\u001b[0;34m,\u001b[0m\u001b[0;34m\u001b[0m\u001b[0;34m\u001b[0m\u001b[0m\n",
            "\u001b[0;32m/usr/local/lib/python3.10/dist-packages/pandas/util/_decorators.py\u001b[0m in \u001b[0;36mwrapper\u001b[0;34m(*args, **kwargs)\u001b[0m\n\u001b[1;32m    329\u001b[0m                     \u001b[0mstacklevel\u001b[0m\u001b[0;34m=\u001b[0m\u001b[0mfind_stack_level\u001b[0m\u001b[0;34m(\u001b[0m\u001b[0;34m)\u001b[0m\u001b[0;34m,\u001b[0m\u001b[0;34m\u001b[0m\u001b[0;34m\u001b[0m\u001b[0m\n\u001b[1;32m    330\u001b[0m                 )\n\u001b[0;32m--> 331\u001b[0;31m             \u001b[0;32mreturn\u001b[0m \u001b[0mfunc\u001b[0m\u001b[0;34m(\u001b[0m\u001b[0;34m*\u001b[0m\u001b[0margs\u001b[0m\u001b[0;34m,\u001b[0m \u001b[0;34m**\u001b[0m\u001b[0mkwargs\u001b[0m\u001b[0;34m)\u001b[0m\u001b[0;34m\u001b[0m\u001b[0;34m\u001b[0m\u001b[0m\n\u001b[0m\u001b[1;32m    332\u001b[0m \u001b[0;34m\u001b[0m\u001b[0m\n\u001b[1;32m    333\u001b[0m         \u001b[0;31m# error: \"Callable[[VarArg(Any), KwArg(Any)], Any]\" has no\u001b[0m\u001b[0;34m\u001b[0m\u001b[0;34m\u001b[0m\u001b[0m\n",
            "\u001b[0;32m/usr/local/lib/python3.10/dist-packages/pandas/core/generic.py\u001b[0m in \u001b[0;36mdrop\u001b[0;34m(self, labels, axis, index, columns, level, inplace, errors)\u001b[0m\n\u001b[1;32m   4503\u001b[0m         \u001b[0;32mfor\u001b[0m \u001b[0maxis\u001b[0m\u001b[0;34m,\u001b[0m \u001b[0mlabels\u001b[0m \u001b[0;32min\u001b[0m \u001b[0maxes\u001b[0m\u001b[0;34m.\u001b[0m\u001b[0mitems\u001b[0m\u001b[0;34m(\u001b[0m\u001b[0;34m)\u001b[0m\u001b[0;34m:\u001b[0m\u001b[0;34m\u001b[0m\u001b[0;34m\u001b[0m\u001b[0m\n\u001b[1;32m   4504\u001b[0m             \u001b[0;32mif\u001b[0m \u001b[0mlabels\u001b[0m \u001b[0;32mis\u001b[0m \u001b[0;32mnot\u001b[0m \u001b[0;32mNone\u001b[0m\u001b[0;34m:\u001b[0m\u001b[0;34m\u001b[0m\u001b[0;34m\u001b[0m\u001b[0m\n\u001b[0;32m-> 4505\u001b[0;31m                 \u001b[0mobj\u001b[0m \u001b[0;34m=\u001b[0m \u001b[0mobj\u001b[0m\u001b[0;34m.\u001b[0m\u001b[0m_drop_axis\u001b[0m\u001b[0;34m(\u001b[0m\u001b[0mlabels\u001b[0m\u001b[0;34m,\u001b[0m \u001b[0maxis\u001b[0m\u001b[0;34m,\u001b[0m \u001b[0mlevel\u001b[0m\u001b[0;34m=\u001b[0m\u001b[0mlevel\u001b[0m\u001b[0;34m,\u001b[0m \u001b[0merrors\u001b[0m\u001b[0;34m=\u001b[0m\u001b[0merrors\u001b[0m\u001b[0;34m)\u001b[0m\u001b[0;34m\u001b[0m\u001b[0;34m\u001b[0m\u001b[0m\n\u001b[0m\u001b[1;32m   4506\u001b[0m \u001b[0;34m\u001b[0m\u001b[0m\n\u001b[1;32m   4507\u001b[0m         \u001b[0;32mif\u001b[0m \u001b[0minplace\u001b[0m\u001b[0;34m:\u001b[0m\u001b[0;34m\u001b[0m\u001b[0;34m\u001b[0m\u001b[0m\n",
            "\u001b[0;32m/usr/local/lib/python3.10/dist-packages/pandas/core/generic.py\u001b[0m in \u001b[0;36m_drop_axis\u001b[0;34m(self, labels, axis, level, errors, only_slice)\u001b[0m\n\u001b[1;32m   4544\u001b[0m                 \u001b[0mnew_axis\u001b[0m \u001b[0;34m=\u001b[0m \u001b[0maxis\u001b[0m\u001b[0;34m.\u001b[0m\u001b[0mdrop\u001b[0m\u001b[0;34m(\u001b[0m\u001b[0mlabels\u001b[0m\u001b[0;34m,\u001b[0m \u001b[0mlevel\u001b[0m\u001b[0;34m=\u001b[0m\u001b[0mlevel\u001b[0m\u001b[0;34m,\u001b[0m \u001b[0merrors\u001b[0m\u001b[0;34m=\u001b[0m\u001b[0merrors\u001b[0m\u001b[0;34m)\u001b[0m\u001b[0;34m\u001b[0m\u001b[0;34m\u001b[0m\u001b[0m\n\u001b[1;32m   4545\u001b[0m             \u001b[0;32melse\u001b[0m\u001b[0;34m:\u001b[0m\u001b[0;34m\u001b[0m\u001b[0;34m\u001b[0m\u001b[0m\n\u001b[0;32m-> 4546\u001b[0;31m                 \u001b[0mnew_axis\u001b[0m \u001b[0;34m=\u001b[0m \u001b[0maxis\u001b[0m\u001b[0;34m.\u001b[0m\u001b[0mdrop\u001b[0m\u001b[0;34m(\u001b[0m\u001b[0mlabels\u001b[0m\u001b[0;34m,\u001b[0m \u001b[0merrors\u001b[0m\u001b[0;34m=\u001b[0m\u001b[0merrors\u001b[0m\u001b[0;34m)\u001b[0m\u001b[0;34m\u001b[0m\u001b[0;34m\u001b[0m\u001b[0m\n\u001b[0m\u001b[1;32m   4547\u001b[0m             \u001b[0mindexer\u001b[0m \u001b[0;34m=\u001b[0m \u001b[0maxis\u001b[0m\u001b[0;34m.\u001b[0m\u001b[0mget_indexer\u001b[0m\u001b[0;34m(\u001b[0m\u001b[0mnew_axis\u001b[0m\u001b[0;34m)\u001b[0m\u001b[0;34m\u001b[0m\u001b[0;34m\u001b[0m\u001b[0m\n\u001b[1;32m   4548\u001b[0m \u001b[0;34m\u001b[0m\u001b[0m\n",
            "\u001b[0;32m/usr/local/lib/python3.10/dist-packages/pandas/core/indexes/base.py\u001b[0m in \u001b[0;36mdrop\u001b[0;34m(self, labels, errors)\u001b[0m\n\u001b[1;32m   6932\u001b[0m         \u001b[0;32mif\u001b[0m \u001b[0mmask\u001b[0m\u001b[0;34m.\u001b[0m\u001b[0many\u001b[0m\u001b[0;34m(\u001b[0m\u001b[0;34m)\u001b[0m\u001b[0;34m:\u001b[0m\u001b[0;34m\u001b[0m\u001b[0;34m\u001b[0m\u001b[0m\n\u001b[1;32m   6933\u001b[0m             \u001b[0;32mif\u001b[0m \u001b[0merrors\u001b[0m \u001b[0;34m!=\u001b[0m \u001b[0;34m\"ignore\"\u001b[0m\u001b[0;34m:\u001b[0m\u001b[0;34m\u001b[0m\u001b[0;34m\u001b[0m\u001b[0m\n\u001b[0;32m-> 6934\u001b[0;31m                 \u001b[0;32mraise\u001b[0m \u001b[0mKeyError\u001b[0m\u001b[0;34m(\u001b[0m\u001b[0;34mf\"{list(labels[mask])} not found in axis\"\u001b[0m\u001b[0;34m)\u001b[0m\u001b[0;34m\u001b[0m\u001b[0;34m\u001b[0m\u001b[0m\n\u001b[0m\u001b[1;32m   6935\u001b[0m             \u001b[0mindexer\u001b[0m \u001b[0;34m=\u001b[0m \u001b[0mindexer\u001b[0m\u001b[0;34m[\u001b[0m\u001b[0;34m~\u001b[0m\u001b[0mmask\u001b[0m\u001b[0;34m]\u001b[0m\u001b[0;34m\u001b[0m\u001b[0;34m\u001b[0m\u001b[0m\n\u001b[1;32m   6936\u001b[0m         \u001b[0;32mreturn\u001b[0m \u001b[0mself\u001b[0m\u001b[0;34m.\u001b[0m\u001b[0mdelete\u001b[0m\u001b[0;34m(\u001b[0m\u001b[0mindexer\u001b[0m\u001b[0;34m)\u001b[0m\u001b[0;34m\u001b[0m\u001b[0;34m\u001b[0m\u001b[0m\n",
            "\u001b[0;31mKeyError\u001b[0m: \"['bill_amt1', 'bill_amt2', 'bill_amt3', 'bill_amt4', 'bill_amt5', 'bill_amt6'] not found in axis\""
          ]
        }
      ]
    },
    {
      "cell_type": "code",
      "source": [
        "X_train.head()"
      ],
      "metadata": {
        "colab": {
          "base_uri": "https://localhost:8080/",
          "height": 206
        },
        "id": "L_vYR7-suGG5",
        "outputId": "5f944726-513a-4b7f-8fe8-7006cfc8595d"
      },
      "execution_count": 68,
      "outputs": [
        {
          "output_type": "execute_result",
          "data": {
            "text/plain": [
              "       limit_bal  sex  education  marriage  age  pay_0  pay_2  pay_3  pay_4  \\\n",
              "11483   100000.0    2          2         1   47      0      0      0      0   \n",
              "7826    100000.0    2          1         2   32      1      2      0      0   \n",
              "9791     60000.0    1          2         2   23      0      0      2      2   \n",
              "830      50000.0    2          2         1   48      0     -1     -1      0   \n",
              "19643   200000.0    2          1         2   29     -2     -2     -2     -2   \n",
              "\n",
              "       pay_5  pay_6  \n",
              "11483      0      0  \n",
              "7826      -1      0  \n",
              "9791      -1      0  \n",
              "830        0      0  \n",
              "19643     -2     -2  "
            ],
            "text/html": [
              "\n",
              "  <div id=\"df-ce35adbf-85d2-45e7-9f90-eee23ad22e78\">\n",
              "    <div class=\"colab-df-container\">\n",
              "      <div>\n",
              "<style scoped>\n",
              "    .dataframe tbody tr th:only-of-type {\n",
              "        vertical-align: middle;\n",
              "    }\n",
              "\n",
              "    .dataframe tbody tr th {\n",
              "        vertical-align: top;\n",
              "    }\n",
              "\n",
              "    .dataframe thead th {\n",
              "        text-align: right;\n",
              "    }\n",
              "</style>\n",
              "<table border=\"1\" class=\"dataframe\">\n",
              "  <thead>\n",
              "    <tr style=\"text-align: right;\">\n",
              "      <th></th>\n",
              "      <th>limit_bal</th>\n",
              "      <th>sex</th>\n",
              "      <th>education</th>\n",
              "      <th>marriage</th>\n",
              "      <th>age</th>\n",
              "      <th>pay_0</th>\n",
              "      <th>pay_2</th>\n",
              "      <th>pay_3</th>\n",
              "      <th>pay_4</th>\n",
              "      <th>pay_5</th>\n",
              "      <th>pay_6</th>\n",
              "    </tr>\n",
              "  </thead>\n",
              "  <tbody>\n",
              "    <tr>\n",
              "      <th>11483</th>\n",
              "      <td>100000.0</td>\n",
              "      <td>2</td>\n",
              "      <td>2</td>\n",
              "      <td>1</td>\n",
              "      <td>47</td>\n",
              "      <td>0</td>\n",
              "      <td>0</td>\n",
              "      <td>0</td>\n",
              "      <td>0</td>\n",
              "      <td>0</td>\n",
              "      <td>0</td>\n",
              "    </tr>\n",
              "    <tr>\n",
              "      <th>7826</th>\n",
              "      <td>100000.0</td>\n",
              "      <td>2</td>\n",
              "      <td>1</td>\n",
              "      <td>2</td>\n",
              "      <td>32</td>\n",
              "      <td>1</td>\n",
              "      <td>2</td>\n",
              "      <td>0</td>\n",
              "      <td>0</td>\n",
              "      <td>-1</td>\n",
              "      <td>0</td>\n",
              "    </tr>\n",
              "    <tr>\n",
              "      <th>9791</th>\n",
              "      <td>60000.0</td>\n",
              "      <td>1</td>\n",
              "      <td>2</td>\n",
              "      <td>2</td>\n",
              "      <td>23</td>\n",
              "      <td>0</td>\n",
              "      <td>0</td>\n",
              "      <td>2</td>\n",
              "      <td>2</td>\n",
              "      <td>-1</td>\n",
              "      <td>0</td>\n",
              "    </tr>\n",
              "    <tr>\n",
              "      <th>830</th>\n",
              "      <td>50000.0</td>\n",
              "      <td>2</td>\n",
              "      <td>2</td>\n",
              "      <td>1</td>\n",
              "      <td>48</td>\n",
              "      <td>0</td>\n",
              "      <td>-1</td>\n",
              "      <td>-1</td>\n",
              "      <td>0</td>\n",
              "      <td>0</td>\n",
              "      <td>0</td>\n",
              "    </tr>\n",
              "    <tr>\n",
              "      <th>19643</th>\n",
              "      <td>200000.0</td>\n",
              "      <td>2</td>\n",
              "      <td>1</td>\n",
              "      <td>2</td>\n",
              "      <td>29</td>\n",
              "      <td>-2</td>\n",
              "      <td>-2</td>\n",
              "      <td>-2</td>\n",
              "      <td>-2</td>\n",
              "      <td>-2</td>\n",
              "      <td>-2</td>\n",
              "    </tr>\n",
              "  </tbody>\n",
              "</table>\n",
              "</div>\n",
              "      <button class=\"colab-df-convert\" onclick=\"convertToInteractive('df-ce35adbf-85d2-45e7-9f90-eee23ad22e78')\"\n",
              "              title=\"Convert this dataframe to an interactive table.\"\n",
              "              style=\"display:none;\">\n",
              "        \n",
              "  <svg xmlns=\"http://www.w3.org/2000/svg\" height=\"24px\"viewBox=\"0 0 24 24\"\n",
              "       width=\"24px\">\n",
              "    <path d=\"M0 0h24v24H0V0z\" fill=\"none\"/>\n",
              "    <path d=\"M18.56 5.44l.94 2.06.94-2.06 2.06-.94-2.06-.94-.94-2.06-.94 2.06-2.06.94zm-11 1L8.5 8.5l.94-2.06 2.06-.94-2.06-.94L8.5 2.5l-.94 2.06-2.06.94zm10 10l.94 2.06.94-2.06 2.06-.94-2.06-.94-.94-2.06-.94 2.06-2.06.94z\"/><path d=\"M17.41 7.96l-1.37-1.37c-.4-.4-.92-.59-1.43-.59-.52 0-1.04.2-1.43.59L10.3 9.45l-7.72 7.72c-.78.78-.78 2.05 0 2.83L4 21.41c.39.39.9.59 1.41.59.51 0 1.02-.2 1.41-.59l7.78-7.78 2.81-2.81c.8-.78.8-2.07 0-2.86zM5.41 20L4 18.59l7.72-7.72 1.47 1.35L5.41 20z\"/>\n",
              "  </svg>\n",
              "      </button>\n",
              "      \n",
              "  <style>\n",
              "    .colab-df-container {\n",
              "      display:flex;\n",
              "      flex-wrap:wrap;\n",
              "      gap: 12px;\n",
              "    }\n",
              "\n",
              "    .colab-df-convert {\n",
              "      background-color: #E8F0FE;\n",
              "      border: none;\n",
              "      border-radius: 50%;\n",
              "      cursor: pointer;\n",
              "      display: none;\n",
              "      fill: #1967D2;\n",
              "      height: 32px;\n",
              "      padding: 0 0 0 0;\n",
              "      width: 32px;\n",
              "    }\n",
              "\n",
              "    .colab-df-convert:hover {\n",
              "      background-color: #E2EBFA;\n",
              "      box-shadow: 0px 1px 2px rgba(60, 64, 67, 0.3), 0px 1px 3px 1px rgba(60, 64, 67, 0.15);\n",
              "      fill: #174EA6;\n",
              "    }\n",
              "\n",
              "    [theme=dark] .colab-df-convert {\n",
              "      background-color: #3B4455;\n",
              "      fill: #D2E3FC;\n",
              "    }\n",
              "\n",
              "    [theme=dark] .colab-df-convert:hover {\n",
              "      background-color: #434B5C;\n",
              "      box-shadow: 0px 1px 3px 1px rgba(0, 0, 0, 0.15);\n",
              "      filter: drop-shadow(0px 1px 2px rgba(0, 0, 0, 0.3));\n",
              "      fill: #FFFFFF;\n",
              "    }\n",
              "  </style>\n",
              "\n",
              "      <script>\n",
              "        const buttonEl =\n",
              "          document.querySelector('#df-ce35adbf-85d2-45e7-9f90-eee23ad22e78 button.colab-df-convert');\n",
              "        buttonEl.style.display =\n",
              "          google.colab.kernel.accessAllowed ? 'block' : 'none';\n",
              "\n",
              "        async function convertToInteractive(key) {\n",
              "          const element = document.querySelector('#df-ce35adbf-85d2-45e7-9f90-eee23ad22e78');\n",
              "          const dataTable =\n",
              "            await google.colab.kernel.invokeFunction('convertToInteractive',\n",
              "                                                     [key], {});\n",
              "          if (!dataTable) return;\n",
              "\n",
              "          const docLinkHtml = 'Like what you see? Visit the ' +\n",
              "            '<a target=\"_blank\" href=https://colab.research.google.com/notebooks/data_table.ipynb>data table notebook</a>'\n",
              "            + ' to learn more about interactive tables.';\n",
              "          element.innerHTML = '';\n",
              "          dataTable['output_type'] = 'display_data';\n",
              "          await google.colab.output.renderOutput(dataTable, element);\n",
              "          const docLink = document.createElement('div');\n",
              "          docLink.innerHTML = docLinkHtml;\n",
              "          element.appendChild(docLink);\n",
              "        }\n",
              "      </script>\n",
              "    </div>\n",
              "  </div>\n",
              "  "
            ]
          },
          "metadata": {},
          "execution_count": 68
        }
      ]
    },
    {
      "cell_type": "code",
      "source": [
        "X_val.head()"
      ],
      "metadata": {
        "colab": {
          "base_uri": "https://localhost:8080/",
          "height": 206
        },
        "id": "-dS8oF-TuuIA",
        "outputId": "dbf4992c-3bbb-4400-8b02-659c27da51c6"
      },
      "execution_count": 69,
      "outputs": [
        {
          "output_type": "execute_result",
          "data": {
            "text/plain": [
              "       limit_bal  sex  education  marriage  age  pay_0  pay_2  pay_3  pay_4  \\\n",
              "13510    30000.0    2          3         3   48      0      0      2      0   \n",
              "10365   180000.0    2          2         1   41      2      0      0      0   \n",
              "19150    70000.0    2          1         1   36      1      2      2      0   \n",
              "15318    60000.0    2          1         2   31     -1     -1     -1     -1   \n",
              "20674    20000.0    1          2         2   35      0      0      0      3   \n",
              "\n",
              "       pay_5  pay_6  \n",
              "13510      0      0  \n",
              "10365      0      0  \n",
              "19150      0      2  \n",
              "15318     -2     -2  \n",
              "20674      7      6  "
            ],
            "text/html": [
              "\n",
              "  <div id=\"df-66346419-2e09-4a04-ae0a-e2ef87f9fc27\">\n",
              "    <div class=\"colab-df-container\">\n",
              "      <div>\n",
              "<style scoped>\n",
              "    .dataframe tbody tr th:only-of-type {\n",
              "        vertical-align: middle;\n",
              "    }\n",
              "\n",
              "    .dataframe tbody tr th {\n",
              "        vertical-align: top;\n",
              "    }\n",
              "\n",
              "    .dataframe thead th {\n",
              "        text-align: right;\n",
              "    }\n",
              "</style>\n",
              "<table border=\"1\" class=\"dataframe\">\n",
              "  <thead>\n",
              "    <tr style=\"text-align: right;\">\n",
              "      <th></th>\n",
              "      <th>limit_bal</th>\n",
              "      <th>sex</th>\n",
              "      <th>education</th>\n",
              "      <th>marriage</th>\n",
              "      <th>age</th>\n",
              "      <th>pay_0</th>\n",
              "      <th>pay_2</th>\n",
              "      <th>pay_3</th>\n",
              "      <th>pay_4</th>\n",
              "      <th>pay_5</th>\n",
              "      <th>pay_6</th>\n",
              "    </tr>\n",
              "  </thead>\n",
              "  <tbody>\n",
              "    <tr>\n",
              "      <th>13510</th>\n",
              "      <td>30000.0</td>\n",
              "      <td>2</td>\n",
              "      <td>3</td>\n",
              "      <td>3</td>\n",
              "      <td>48</td>\n",
              "      <td>0</td>\n",
              "      <td>0</td>\n",
              "      <td>2</td>\n",
              "      <td>0</td>\n",
              "      <td>0</td>\n",
              "      <td>0</td>\n",
              "    </tr>\n",
              "    <tr>\n",
              "      <th>10365</th>\n",
              "      <td>180000.0</td>\n",
              "      <td>2</td>\n",
              "      <td>2</td>\n",
              "      <td>1</td>\n",
              "      <td>41</td>\n",
              "      <td>2</td>\n",
              "      <td>0</td>\n",
              "      <td>0</td>\n",
              "      <td>0</td>\n",
              "      <td>0</td>\n",
              "      <td>0</td>\n",
              "    </tr>\n",
              "    <tr>\n",
              "      <th>19150</th>\n",
              "      <td>70000.0</td>\n",
              "      <td>2</td>\n",
              "      <td>1</td>\n",
              "      <td>1</td>\n",
              "      <td>36</td>\n",
              "      <td>1</td>\n",
              "      <td>2</td>\n",
              "      <td>2</td>\n",
              "      <td>0</td>\n",
              "      <td>0</td>\n",
              "      <td>2</td>\n",
              "    </tr>\n",
              "    <tr>\n",
              "      <th>15318</th>\n",
              "      <td>60000.0</td>\n",
              "      <td>2</td>\n",
              "      <td>1</td>\n",
              "      <td>2</td>\n",
              "      <td>31</td>\n",
              "      <td>-1</td>\n",
              "      <td>-1</td>\n",
              "      <td>-1</td>\n",
              "      <td>-1</td>\n",
              "      <td>-2</td>\n",
              "      <td>-2</td>\n",
              "    </tr>\n",
              "    <tr>\n",
              "      <th>20674</th>\n",
              "      <td>20000.0</td>\n",
              "      <td>1</td>\n",
              "      <td>2</td>\n",
              "      <td>2</td>\n",
              "      <td>35</td>\n",
              "      <td>0</td>\n",
              "      <td>0</td>\n",
              "      <td>0</td>\n",
              "      <td>3</td>\n",
              "      <td>7</td>\n",
              "      <td>6</td>\n",
              "    </tr>\n",
              "  </tbody>\n",
              "</table>\n",
              "</div>\n",
              "      <button class=\"colab-df-convert\" onclick=\"convertToInteractive('df-66346419-2e09-4a04-ae0a-e2ef87f9fc27')\"\n",
              "              title=\"Convert this dataframe to an interactive table.\"\n",
              "              style=\"display:none;\">\n",
              "        \n",
              "  <svg xmlns=\"http://www.w3.org/2000/svg\" height=\"24px\"viewBox=\"0 0 24 24\"\n",
              "       width=\"24px\">\n",
              "    <path d=\"M0 0h24v24H0V0z\" fill=\"none\"/>\n",
              "    <path d=\"M18.56 5.44l.94 2.06.94-2.06 2.06-.94-2.06-.94-.94-2.06-.94 2.06-2.06.94zm-11 1L8.5 8.5l.94-2.06 2.06-.94-2.06-.94L8.5 2.5l-.94 2.06-2.06.94zm10 10l.94 2.06.94-2.06 2.06-.94-2.06-.94-.94-2.06-.94 2.06-2.06.94z\"/><path d=\"M17.41 7.96l-1.37-1.37c-.4-.4-.92-.59-1.43-.59-.52 0-1.04.2-1.43.59L10.3 9.45l-7.72 7.72c-.78.78-.78 2.05 0 2.83L4 21.41c.39.39.9.59 1.41.59.51 0 1.02-.2 1.41-.59l7.78-7.78 2.81-2.81c.8-.78.8-2.07 0-2.86zM5.41 20L4 18.59l7.72-7.72 1.47 1.35L5.41 20z\"/>\n",
              "  </svg>\n",
              "      </button>\n",
              "      \n",
              "  <style>\n",
              "    .colab-df-container {\n",
              "      display:flex;\n",
              "      flex-wrap:wrap;\n",
              "      gap: 12px;\n",
              "    }\n",
              "\n",
              "    .colab-df-convert {\n",
              "      background-color: #E8F0FE;\n",
              "      border: none;\n",
              "      border-radius: 50%;\n",
              "      cursor: pointer;\n",
              "      display: none;\n",
              "      fill: #1967D2;\n",
              "      height: 32px;\n",
              "      padding: 0 0 0 0;\n",
              "      width: 32px;\n",
              "    }\n",
              "\n",
              "    .colab-df-convert:hover {\n",
              "      background-color: #E2EBFA;\n",
              "      box-shadow: 0px 1px 2px rgba(60, 64, 67, 0.3), 0px 1px 3px 1px rgba(60, 64, 67, 0.15);\n",
              "      fill: #174EA6;\n",
              "    }\n",
              "\n",
              "    [theme=dark] .colab-df-convert {\n",
              "      background-color: #3B4455;\n",
              "      fill: #D2E3FC;\n",
              "    }\n",
              "\n",
              "    [theme=dark] .colab-df-convert:hover {\n",
              "      background-color: #434B5C;\n",
              "      box-shadow: 0px 1px 3px 1px rgba(0, 0, 0, 0.15);\n",
              "      filter: drop-shadow(0px 1px 2px rgba(0, 0, 0, 0.3));\n",
              "      fill: #FFFFFF;\n",
              "    }\n",
              "  </style>\n",
              "\n",
              "      <script>\n",
              "        const buttonEl =\n",
              "          document.querySelector('#df-66346419-2e09-4a04-ae0a-e2ef87f9fc27 button.colab-df-convert');\n",
              "        buttonEl.style.display =\n",
              "          google.colab.kernel.accessAllowed ? 'block' : 'none';\n",
              "\n",
              "        async function convertToInteractive(key) {\n",
              "          const element = document.querySelector('#df-66346419-2e09-4a04-ae0a-e2ef87f9fc27');\n",
              "          const dataTable =\n",
              "            await google.colab.kernel.invokeFunction('convertToInteractive',\n",
              "                                                     [key], {});\n",
              "          if (!dataTable) return;\n",
              "\n",
              "          const docLinkHtml = 'Like what you see? Visit the ' +\n",
              "            '<a target=\"_blank\" href=https://colab.research.google.com/notebooks/data_table.ipynb>data table notebook</a>'\n",
              "            + ' to learn more about interactive tables.';\n",
              "          element.innerHTML = '';\n",
              "          dataTable['output_type'] = 'display_data';\n",
              "          await google.colab.output.renderOutput(dataTable, element);\n",
              "          const docLink = document.createElement('div');\n",
              "          docLink.innerHTML = docLinkHtml;\n",
              "          element.appendChild(docLink);\n",
              "        }\n",
              "      </script>\n",
              "    </div>\n",
              "  </div>\n",
              "  "
            ]
          },
          "metadata": {},
          "execution_count": 69
        }
      ]
    },
    {
      "cell_type": "code",
      "source": [
        "model = LogisticRegression(solver='liblinear', random_state=1)\n",
        "\n",
        "model.fit(X_train, y_train)"
      ],
      "metadata": {
        "colab": {
          "base_uri": "https://localhost:8080/",
          "height": 75
        },
        "id": "RqYDRFC8uLEz",
        "outputId": "dbc78cd5-c946-41e9-9960-3f0802208475"
      },
      "execution_count": 70,
      "outputs": [
        {
          "output_type": "execute_result",
          "data": {
            "text/plain": [
              "LogisticRegression(random_state=1, solver='liblinear')"
            ],
            "text/html": [
              "<style>#sk-container-id-3 {color: black;background-color: white;}#sk-container-id-3 pre{padding: 0;}#sk-container-id-3 div.sk-toggleable {background-color: white;}#sk-container-id-3 label.sk-toggleable__label {cursor: pointer;display: block;width: 100%;margin-bottom: 0;padding: 0.3em;box-sizing: border-box;text-align: center;}#sk-container-id-3 label.sk-toggleable__label-arrow:before {content: \"▸\";float: left;margin-right: 0.25em;color: #696969;}#sk-container-id-3 label.sk-toggleable__label-arrow:hover:before {color: black;}#sk-container-id-3 div.sk-estimator:hover label.sk-toggleable__label-arrow:before {color: black;}#sk-container-id-3 div.sk-toggleable__content {max-height: 0;max-width: 0;overflow: hidden;text-align: left;background-color: #f0f8ff;}#sk-container-id-3 div.sk-toggleable__content pre {margin: 0.2em;color: black;border-radius: 0.25em;background-color: #f0f8ff;}#sk-container-id-3 input.sk-toggleable__control:checked~div.sk-toggleable__content {max-height: 200px;max-width: 100%;overflow: auto;}#sk-container-id-3 input.sk-toggleable__control:checked~label.sk-toggleable__label-arrow:before {content: \"▾\";}#sk-container-id-3 div.sk-estimator input.sk-toggleable__control:checked~label.sk-toggleable__label {background-color: #d4ebff;}#sk-container-id-3 div.sk-label input.sk-toggleable__control:checked~label.sk-toggleable__label {background-color: #d4ebff;}#sk-container-id-3 input.sk-hidden--visually {border: 0;clip: rect(1px 1px 1px 1px);clip: rect(1px, 1px, 1px, 1px);height: 1px;margin: -1px;overflow: hidden;padding: 0;position: absolute;width: 1px;}#sk-container-id-3 div.sk-estimator {font-family: monospace;background-color: #f0f8ff;border: 1px dotted black;border-radius: 0.25em;box-sizing: border-box;margin-bottom: 0.5em;}#sk-container-id-3 div.sk-estimator:hover {background-color: #d4ebff;}#sk-container-id-3 div.sk-parallel-item::after {content: \"\";width: 100%;border-bottom: 1px solid gray;flex-grow: 1;}#sk-container-id-3 div.sk-label:hover label.sk-toggleable__label {background-color: #d4ebff;}#sk-container-id-3 div.sk-serial::before {content: \"\";position: absolute;border-left: 1px solid gray;box-sizing: border-box;top: 0;bottom: 0;left: 50%;z-index: 0;}#sk-container-id-3 div.sk-serial {display: flex;flex-direction: column;align-items: center;background-color: white;padding-right: 0.2em;padding-left: 0.2em;position: relative;}#sk-container-id-3 div.sk-item {position: relative;z-index: 1;}#sk-container-id-3 div.sk-parallel {display: flex;align-items: stretch;justify-content: center;background-color: white;position: relative;}#sk-container-id-3 div.sk-item::before, #sk-container-id-3 div.sk-parallel-item::before {content: \"\";position: absolute;border-left: 1px solid gray;box-sizing: border-box;top: 0;bottom: 0;left: 50%;z-index: -1;}#sk-container-id-3 div.sk-parallel-item {display: flex;flex-direction: column;z-index: 1;position: relative;background-color: white;}#sk-container-id-3 div.sk-parallel-item:first-child::after {align-self: flex-end;width: 50%;}#sk-container-id-3 div.sk-parallel-item:last-child::after {align-self: flex-start;width: 50%;}#sk-container-id-3 div.sk-parallel-item:only-child::after {width: 0;}#sk-container-id-3 div.sk-dashed-wrapped {border: 1px dashed gray;margin: 0 0.4em 0.5em 0.4em;box-sizing: border-box;padding-bottom: 0.4em;background-color: white;}#sk-container-id-3 div.sk-label label {font-family: monospace;font-weight: bold;display: inline-block;line-height: 1.2em;}#sk-container-id-3 div.sk-label-container {text-align: center;}#sk-container-id-3 div.sk-container {/* jupyter's `normalize.less` sets `[hidden] { display: none; }` but bootstrap.min.css set `[hidden] { display: none !important; }` so we also need the `!important` here to be able to override the default hidden behavior on the sphinx rendered scikit-learn.org. See: https://github.com/scikit-learn/scikit-learn/issues/21755 */display: inline-block !important;position: relative;}#sk-container-id-3 div.sk-text-repr-fallback {display: none;}</style><div id=\"sk-container-id-3\" class=\"sk-top-container\"><div class=\"sk-text-repr-fallback\"><pre>LogisticRegression(random_state=1, solver=&#x27;liblinear&#x27;)</pre><b>In a Jupyter environment, please rerun this cell to show the HTML representation or trust the notebook. <br />On GitHub, the HTML representation is unable to render, please try loading this page with nbviewer.org.</b></div><div class=\"sk-container\" hidden><div class=\"sk-item\"><div class=\"sk-estimator sk-toggleable\"><input class=\"sk-toggleable__control sk-hidden--visually\" id=\"sk-estimator-id-3\" type=\"checkbox\" checked><label for=\"sk-estimator-id-3\" class=\"sk-toggleable__label sk-toggleable__label-arrow\">LogisticRegression</label><div class=\"sk-toggleable__content\"><pre>LogisticRegression(random_state=1, solver=&#x27;liblinear&#x27;)</pre></div></div></div></div></div>"
            ]
          },
          "metadata": {},
          "execution_count": 70
        }
      ]
    },
    {
      "cell_type": "markdown",
      "source": [
        "## Test the model"
      ],
      "metadata": {
        "id": "cUtfZWvhuVN5"
      }
    },
    {
      "cell_type": "code",
      "source": [
        "y_pred = model.predict_proba(X_val)"
      ],
      "metadata": {
        "id": "khNMv3p1uQeq"
      },
      "execution_count": 71,
      "outputs": []
    },
    {
      "cell_type": "code",
      "source": [
        "y_pred = model.predict_proba(X_val)[:, 1]\n",
        "\n",
        "y_pred >= 0.5"
      ],
      "metadata": {
        "colab": {
          "base_uri": "https://localhost:8080/"
        },
        "id": "J0rSxhIKu2xR",
        "outputId": "b726db5b-589b-499f-b397-b22e6910c533"
      },
      "execution_count": 72,
      "outputs": [
        {
          "output_type": "execute_result",
          "data": {
            "text/plain": [
              "array([False, False, False, ..., False, False, False])"
            ]
          },
          "metadata": {},
          "execution_count": 72
        }
      ]
    },
    {
      "cell_type": "code",
      "source": [
        "defaulted = y_pred >= 0.5\n",
        "\n",
        "(y_val == defaulted).mean() #Quality Measure called ACCURACY"
      ],
      "metadata": {
        "colab": {
          "base_uri": "https://localhost:8080/"
        },
        "id": "xVhaR8ytu9ZS",
        "outputId": "1a94b99b-a06a-4664-a231-c63915afaf18"
      },
      "execution_count": 73,
      "outputs": [
        {
          "output_type": "execute_result",
          "data": {
            "text/plain": [
              "0.7703454085930919"
            ]
          },
          "metadata": {},
          "execution_count": 73
        }
      ]
    }
  ]
}