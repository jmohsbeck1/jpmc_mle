{
  "nbformat": 4,
  "nbformat_minor": 0,
  "metadata": {
    "colab": {
      "provenance": [],
      "include_colab_link": true
    },
    "kernelspec": {
      "name": "python3",
      "display_name": "Python 3"
    },
    "language_info": {
      "name": "python"
    }
  },
  "cells": [
    {
      "cell_type": "markdown",
      "metadata": {
        "id": "view-in-github",
        "colab_type": "text"
      },
      "source": [
        "<a href=\"https://colab.research.google.com/github/jmohsbeck1/jpmc_mle/blob/machine_learning_bootcamp/Credit_Default_Lab.ipynb\" target=\"_parent\"><img src=\"https://colab.research.google.com/assets/colab-badge.svg\" alt=\"Open In Colab\"/></a>"
      ]
    },
    {
      "cell_type": "markdown",
      "source": [
        "# Leads Data ML model lab\n",
        "# Machine learning bootcamp"
      ],
      "metadata": {
        "id": "eotcgjqChS4m"
      }
    },
    {
      "cell_type": "code",
      "source": [
        "import pandas as pd\n",
        "import numpy as np\n",
        "import math\n",
        "\n",
        "import seaborn as sns\n",
        "import matplotlib.pyplot as plt\n",
        "%matplotlib inline\n",
        "\n",
        "from IPython.display import display \n",
        "\n",
        "from sklearn.model_selection import train_test_split\n",
        "from sklearn.feature_extraction import DictVectorizer\n",
        "from sklearn.linear_model import LogisticRegression\n",
        "\n",
        "from sklearn.metrics import mutual_info_score\n",
        "from sklearn.metrics import precision_score, recall_score, f1_score, accuracy_score\n",
        "from sklearn.metrics import precision_recall_curve\n",
        "from sklearn.metrics import PrecisionRecallDisplay\n",
        "from sklearn.metrics import roc_auc_score\n",
        "from sklearn.metrics import confusion_matrix, roc_curve, auc, ConfusionMatrixDisplay\n",
        "from sklearn.metrics import roc_auc_score\n",
        "from sklearn.metrics import accuracy_score"
      ],
      "metadata": {
        "id": "4NoSodRIY8Jh"
      },
      "execution_count": null,
      "outputs": []
    },
    {
      "cell_type": "code",
      "source": [
        "!pip install kaggle\n",
        "\n",
        "import os\n",
        "\n",
        "os.environ['KAGGLE_USERNAME'] = 'johnmohsbeck'\n",
        "os.environ['KAGGLE_KEY'] = 'd1f230cf1aba75ec936a726ca195c7a1'"
      ],
      "metadata": {
        "id": "b6iar4rUY7NM",
        "outputId": "91e94a81-7a25-4a89-a936-4ea378539c04",
        "colab": {
          "base_uri": "https://localhost:8080/"
        }
      },
      "execution_count": null,
      "outputs": [
        {
          "output_type": "stream",
          "name": "stdout",
          "text": [
            "Looking in indexes: https://pypi.org/simple, https://us-python.pkg.dev/colab-wheels/public/simple/\n",
            "Requirement already satisfied: kaggle in /usr/local/lib/python3.10/dist-packages (1.5.13)\n",
            "Requirement already satisfied: six>=1.10 in /usr/local/lib/python3.10/dist-packages (from kaggle) (1.16.0)\n",
            "Requirement already satisfied: certifi in /usr/local/lib/python3.10/dist-packages (from kaggle) (2022.12.7)\n",
            "Requirement already satisfied: python-dateutil in /usr/local/lib/python3.10/dist-packages (from kaggle) (2.8.2)\n",
            "Requirement already satisfied: requests in /usr/local/lib/python3.10/dist-packages (from kaggle) (2.27.1)\n",
            "Requirement already satisfied: tqdm in /usr/local/lib/python3.10/dist-packages (from kaggle) (4.65.0)\n",
            "Requirement already satisfied: python-slugify in /usr/local/lib/python3.10/dist-packages (from kaggle) (8.0.1)\n",
            "Requirement already satisfied: urllib3 in /usr/local/lib/python3.10/dist-packages (from kaggle) (1.26.15)\n",
            "Requirement already satisfied: text-unidecode>=1.3 in /usr/local/lib/python3.10/dist-packages (from python-slugify->kaggle) (1.3)\n",
            "Requirement already satisfied: charset-normalizer~=2.0.0 in /usr/local/lib/python3.10/dist-packages (from requests->kaggle) (2.0.12)\n",
            "Requirement already satisfied: idna<4,>=2.5 in /usr/local/lib/python3.10/dist-packages (from requests->kaggle) (3.4)\n"
          ]
        }
      ]
    },
    {
      "cell_type": "code",
      "source": [
        "import kaggle\n",
        "\n",
        "kaggle.api.dataset_download_files('ashydv/leads-dataset', path='./data', unzip=True)"
      ],
      "metadata": {
        "id": "2wTcuWiRZNmh"
      },
      "execution_count": null,
      "outputs": []
    },
    {
      "cell_type": "markdown",
      "source": [
        "## Read the Dataset\n",
        "\n",
        "https://www.kaggle.com/datasets/ashydv/leads-dataset"
      ],
      "metadata": {
        "id": "sPKccRArci28"
      }
    },
    {
      "cell_type": "code",
      "source": [
        "df = pd.read_csv('./data/Leads.csv')"
      ],
      "metadata": {
        "id": "FeTdUeYkZres"
      },
      "execution_count": null,
      "outputs": []
    },
    {
      "cell_type": "code",
      "source": [
        "df.shape"
      ],
      "metadata": {
        "colab": {
          "base_uri": "https://localhost:8080/"
        },
        "id": "sytSvb3Havde",
        "outputId": "4598c665-097f-4645-930b-822a766b9afe"
      },
      "execution_count": null,
      "outputs": [
        {
          "output_type": "execute_result",
          "data": {
            "text/plain": [
              "(9240, 37)"
            ]
          },
          "metadata": {},
          "execution_count": 5
        }
      ]
    },
    {
      "cell_type": "code",
      "source": [
        "df.info()"
      ],
      "metadata": {
        "colab": {
          "base_uri": "https://localhost:8080/"
        },
        "id": "Suw3Fb4xaxmg",
        "outputId": "e2266f2e-782e-4102-8d00-bc081398e5ec"
      },
      "execution_count": null,
      "outputs": [
        {
          "output_type": "stream",
          "name": "stdout",
          "text": [
            "<class 'pandas.core.frame.DataFrame'>\n",
            "RangeIndex: 9240 entries, 0 to 9239\n",
            "Data columns (total 37 columns):\n",
            " #   Column                                         Non-Null Count  Dtype  \n",
            "---  ------                                         --------------  -----  \n",
            " 0   Prospect ID                                    9240 non-null   object \n",
            " 1   Lead Number                                    9240 non-null   int64  \n",
            " 2   Lead Origin                                    9240 non-null   object \n",
            " 3   Lead Source                                    9204 non-null   object \n",
            " 4   Do Not Email                                   9240 non-null   object \n",
            " 5   Do Not Call                                    9240 non-null   object \n",
            " 6   Converted                                      9240 non-null   int64  \n",
            " 7   TotalVisits                                    9103 non-null   float64\n",
            " 8   Total Time Spent on Website                    9240 non-null   int64  \n",
            " 9   Page Views Per Visit                           9103 non-null   float64\n",
            " 10  Last Activity                                  9137 non-null   object \n",
            " 11  Country                                        6779 non-null   object \n",
            " 12  Specialization                                 7802 non-null   object \n",
            " 13  How did you hear about X Education             7033 non-null   object \n",
            " 14  What is your current occupation                6550 non-null   object \n",
            " 15  What matters most to you in choosing a course  6531 non-null   object \n",
            " 16  Search                                         9240 non-null   object \n",
            " 17  Magazine                                       9240 non-null   object \n",
            " 18  Newspaper Article                              9240 non-null   object \n",
            " 19  X Education Forums                             9240 non-null   object \n",
            " 20  Newspaper                                      9240 non-null   object \n",
            " 21  Digital Advertisement                          9240 non-null   object \n",
            " 22  Through Recommendations                        9240 non-null   object \n",
            " 23  Receive More Updates About Our Courses         9240 non-null   object \n",
            " 24  Tags                                           5887 non-null   object \n",
            " 25  Lead Quality                                   4473 non-null   object \n",
            " 26  Update me on Supply Chain Content              9240 non-null   object \n",
            " 27  Get updates on DM Content                      9240 non-null   object \n",
            " 28  Lead Profile                                   6531 non-null   object \n",
            " 29  City                                           7820 non-null   object \n",
            " 30  Asymmetrique Activity Index                    5022 non-null   object \n",
            " 31  Asymmetrique Profile Index                     5022 non-null   object \n",
            " 32  Asymmetrique Activity Score                    5022 non-null   float64\n",
            " 33  Asymmetrique Profile Score                     5022 non-null   float64\n",
            " 34  I agree to pay the amount through cheque       9240 non-null   object \n",
            " 35  A free copy of Mastering The Interview         9240 non-null   object \n",
            " 36  Last Notable Activity                          9240 non-null   object \n",
            "dtypes: float64(4), int64(3), object(30)\n",
            "memory usage: 2.6+ MB\n"
          ]
        }
      ]
    },
    {
      "cell_type": "markdown",
      "source": [
        "## Transpose the Dataset to Make it Wide (not long)"
      ],
      "metadata": {
        "id": "QA_-4gOTco4l"
      }
    },
    {
      "cell_type": "code",
      "source": [
        "df.head().T"
      ],
      "metadata": {
        "colab": {
          "base_uri": "https://localhost:8080/",
          "height": 1000
        },
        "id": "Mli79Rc0a1DR",
        "outputId": "7089f4de-3c9f-48d6-8fbe-06d7e05b1ae6"
      },
      "execution_count": null,
      "outputs": [
        {
          "output_type": "execute_result",
          "data": {
            "text/plain": [
              "                                                                                  0  \\\n",
              "Prospect ID                                    7927b2df-8bba-4d29-b9a2-b6e0beafe620   \n",
              "Lead Number                                                                  660737   \n",
              "Lead Origin                                                                     API   \n",
              "Lead Source                                                              Olark Chat   \n",
              "Do Not Email                                                                     No   \n",
              "Do Not Call                                                                      No   \n",
              "Converted                                                                         0   \n",
              "TotalVisits                                                                     0.0   \n",
              "Total Time Spent on Website                                                       0   \n",
              "Page Views Per Visit                                                            0.0   \n",
              "Last Activity                                               Page Visited on Website   \n",
              "Country                                                                         NaN   \n",
              "Specialization                                                               Select   \n",
              "How did you hear about X Education                                           Select   \n",
              "What is your current occupation                                          Unemployed   \n",
              "What matters most to you in choosing a course               Better Career Prospects   \n",
              "Search                                                                           No   \n",
              "Magazine                                                                         No   \n",
              "Newspaper Article                                                                No   \n",
              "X Education Forums                                                               No   \n",
              "Newspaper                                                                        No   \n",
              "Digital Advertisement                                                            No   \n",
              "Through Recommendations                                                          No   \n",
              "Receive More Updates About Our Courses                                           No   \n",
              "Tags                                                    Interested in other courses   \n",
              "Lead Quality                                                       Low in Relevance   \n",
              "Update me on Supply Chain Content                                                No   \n",
              "Get updates on DM Content                                                        No   \n",
              "Lead Profile                                                                 Select   \n",
              "City                                                                         Select   \n",
              "Asymmetrique Activity Index                                               02.Medium   \n",
              "Asymmetrique Profile Index                                                02.Medium   \n",
              "Asymmetrique Activity Score                                                    15.0   \n",
              "Asymmetrique Profile Score                                                     15.0   \n",
              "I agree to pay the amount through cheque                                         No   \n",
              "A free copy of Mastering The Interview                                           No   \n",
              "Last Notable Activity                                                      Modified   \n",
              "\n",
              "                                                                                  1  \\\n",
              "Prospect ID                                    2a272436-5132-4136-86fa-dcc88c88f482   \n",
              "Lead Number                                                                  660728   \n",
              "Lead Origin                                                                     API   \n",
              "Lead Source                                                          Organic Search   \n",
              "Do Not Email                                                                     No   \n",
              "Do Not Call                                                                      No   \n",
              "Converted                                                                         0   \n",
              "TotalVisits                                                                     5.0   \n",
              "Total Time Spent on Website                                                     674   \n",
              "Page Views Per Visit                                                            2.5   \n",
              "Last Activity                                                          Email Opened   \n",
              "Country                                                                       India   \n",
              "Specialization                                                               Select   \n",
              "How did you hear about X Education                                           Select   \n",
              "What is your current occupation                                          Unemployed   \n",
              "What matters most to you in choosing a course               Better Career Prospects   \n",
              "Search                                                                           No   \n",
              "Magazine                                                                         No   \n",
              "Newspaper Article                                                                No   \n",
              "X Education Forums                                                               No   \n",
              "Newspaper                                                                        No   \n",
              "Digital Advertisement                                                            No   \n",
              "Through Recommendations                                                          No   \n",
              "Receive More Updates About Our Courses                                           No   \n",
              "Tags                                                                        Ringing   \n",
              "Lead Quality                                                                    NaN   \n",
              "Update me on Supply Chain Content                                                No   \n",
              "Get updates on DM Content                                                        No   \n",
              "Lead Profile                                                                 Select   \n",
              "City                                                                         Select   \n",
              "Asymmetrique Activity Index                                               02.Medium   \n",
              "Asymmetrique Profile Index                                                02.Medium   \n",
              "Asymmetrique Activity Score                                                    15.0   \n",
              "Asymmetrique Profile Score                                                     15.0   \n",
              "I agree to pay the amount through cheque                                         No   \n",
              "A free copy of Mastering The Interview                                           No   \n",
              "Last Notable Activity                                                  Email Opened   \n",
              "\n",
              "                                                                                  2  \\\n",
              "Prospect ID                                    8cc8c611-a219-4f35-ad23-fdfd2656bd8a   \n",
              "Lead Number                                                                  660727   \n",
              "Lead Origin                                                 Landing Page Submission   \n",
              "Lead Source                                                          Direct Traffic   \n",
              "Do Not Email                                                                     No   \n",
              "Do Not Call                                                                      No   \n",
              "Converted                                                                         1   \n",
              "TotalVisits                                                                     2.0   \n",
              "Total Time Spent on Website                                                    1532   \n",
              "Page Views Per Visit                                                            2.0   \n",
              "Last Activity                                                          Email Opened   \n",
              "Country                                                                       India   \n",
              "Specialization                                              Business Administration   \n",
              "How did you hear about X Education                                           Select   \n",
              "What is your current occupation                                             Student   \n",
              "What matters most to you in choosing a course               Better Career Prospects   \n",
              "Search                                                                           No   \n",
              "Magazine                                                                         No   \n",
              "Newspaper Article                                                                No   \n",
              "X Education Forums                                                               No   \n",
              "Newspaper                                                                        No   \n",
              "Digital Advertisement                                                            No   \n",
              "Through Recommendations                                                          No   \n",
              "Receive More Updates About Our Courses                                           No   \n",
              "Tags                                            Will revert after reading the email   \n",
              "Lead Quality                                                               Might be   \n",
              "Update me on Supply Chain Content                                                No   \n",
              "Get updates on DM Content                                                        No   \n",
              "Lead Profile                                                         Potential Lead   \n",
              "City                                                                         Mumbai   \n",
              "Asymmetrique Activity Index                                               02.Medium   \n",
              "Asymmetrique Profile Index                                                  01.High   \n",
              "Asymmetrique Activity Score                                                    14.0   \n",
              "Asymmetrique Profile Score                                                     20.0   \n",
              "I agree to pay the amount through cheque                                         No   \n",
              "A free copy of Mastering The Interview                                          Yes   \n",
              "Last Notable Activity                                                  Email Opened   \n",
              "\n",
              "                                                                                  3  \\\n",
              "Prospect ID                                    0cc2df48-7cf4-4e39-9de9-19797f9b38cc   \n",
              "Lead Number                                                                  660719   \n",
              "Lead Origin                                                 Landing Page Submission   \n",
              "Lead Source                                                          Direct Traffic   \n",
              "Do Not Email                                                                     No   \n",
              "Do Not Call                                                                      No   \n",
              "Converted                                                                         0   \n",
              "TotalVisits                                                                     1.0   \n",
              "Total Time Spent on Website                                                     305   \n",
              "Page Views Per Visit                                                            1.0   \n",
              "Last Activity                                                           Unreachable   \n",
              "Country                                                                       India   \n",
              "Specialization                                                Media and Advertising   \n",
              "How did you hear about X Education                                    Word Of Mouth   \n",
              "What is your current occupation                                          Unemployed   \n",
              "What matters most to you in choosing a course               Better Career Prospects   \n",
              "Search                                                                           No   \n",
              "Magazine                                                                         No   \n",
              "Newspaper Article                                                                No   \n",
              "X Education Forums                                                               No   \n",
              "Newspaper                                                                        No   \n",
              "Digital Advertisement                                                            No   \n",
              "Through Recommendations                                                          No   \n",
              "Receive More Updates About Our Courses                                           No   \n",
              "Tags                                                                        Ringing   \n",
              "Lead Quality                                                               Not Sure   \n",
              "Update me on Supply Chain Content                                                No   \n",
              "Get updates on DM Content                                                        No   \n",
              "Lead Profile                                                                 Select   \n",
              "City                                                                         Mumbai   \n",
              "Asymmetrique Activity Index                                               02.Medium   \n",
              "Asymmetrique Profile Index                                                  01.High   \n",
              "Asymmetrique Activity Score                                                    13.0   \n",
              "Asymmetrique Profile Score                                                     17.0   \n",
              "I agree to pay the amount through cheque                                         No   \n",
              "A free copy of Mastering The Interview                                           No   \n",
              "Last Notable Activity                                                      Modified   \n",
              "\n",
              "                                                                                  4  \n",
              "Prospect ID                                    3256f628-e534-4826-9d63-4a8b88782852  \n",
              "Lead Number                                                                  660681  \n",
              "Lead Origin                                                 Landing Page Submission  \n",
              "Lead Source                                                                  Google  \n",
              "Do Not Email                                                                     No  \n",
              "Do Not Call                                                                      No  \n",
              "Converted                                                                         1  \n",
              "TotalVisits                                                                     2.0  \n",
              "Total Time Spent on Website                                                    1428  \n",
              "Page Views Per Visit                                                            1.0  \n",
              "Last Activity                                                     Converted to Lead  \n",
              "Country                                                                       India  \n",
              "Specialization                                                               Select  \n",
              "How did you hear about X Education                                            Other  \n",
              "What is your current occupation                                          Unemployed  \n",
              "What matters most to you in choosing a course               Better Career Prospects  \n",
              "Search                                                                           No  \n",
              "Magazine                                                                         No  \n",
              "Newspaper Article                                                                No  \n",
              "X Education Forums                                                               No  \n",
              "Newspaper                                                                        No  \n",
              "Digital Advertisement                                                            No  \n",
              "Through Recommendations                                                          No  \n",
              "Receive More Updates About Our Courses                                           No  \n",
              "Tags                                            Will revert after reading the email  \n",
              "Lead Quality                                                               Might be  \n",
              "Update me on Supply Chain Content                                                No  \n",
              "Get updates on DM Content                                                        No  \n",
              "Lead Profile                                                                 Select  \n",
              "City                                                                         Mumbai  \n",
              "Asymmetrique Activity Index                                               02.Medium  \n",
              "Asymmetrique Profile Index                                                  01.High  \n",
              "Asymmetrique Activity Score                                                    15.0  \n",
              "Asymmetrique Profile Score                                                     18.0  \n",
              "I agree to pay the amount through cheque                                         No  \n",
              "A free copy of Mastering The Interview                                           No  \n",
              "Last Notable Activity                                                      Modified  "
            ],
            "text/html": [
              "\n",
              "  <div id=\"df-84a8975b-3edb-42e5-ba66-26383b824762\">\n",
              "    <div class=\"colab-df-container\">\n",
              "      <div>\n",
              "<style scoped>\n",
              "    .dataframe tbody tr th:only-of-type {\n",
              "        vertical-align: middle;\n",
              "    }\n",
              "\n",
              "    .dataframe tbody tr th {\n",
              "        vertical-align: top;\n",
              "    }\n",
              "\n",
              "    .dataframe thead th {\n",
              "        text-align: right;\n",
              "    }\n",
              "</style>\n",
              "<table border=\"1\" class=\"dataframe\">\n",
              "  <thead>\n",
              "    <tr style=\"text-align: right;\">\n",
              "      <th></th>\n",
              "      <th>0</th>\n",
              "      <th>1</th>\n",
              "      <th>2</th>\n",
              "      <th>3</th>\n",
              "      <th>4</th>\n",
              "    </tr>\n",
              "  </thead>\n",
              "  <tbody>\n",
              "    <tr>\n",
              "      <th>Prospect ID</th>\n",
              "      <td>7927b2df-8bba-4d29-b9a2-b6e0beafe620</td>\n",
              "      <td>2a272436-5132-4136-86fa-dcc88c88f482</td>\n",
              "      <td>8cc8c611-a219-4f35-ad23-fdfd2656bd8a</td>\n",
              "      <td>0cc2df48-7cf4-4e39-9de9-19797f9b38cc</td>\n",
              "      <td>3256f628-e534-4826-9d63-4a8b88782852</td>\n",
              "    </tr>\n",
              "    <tr>\n",
              "      <th>Lead Number</th>\n",
              "      <td>660737</td>\n",
              "      <td>660728</td>\n",
              "      <td>660727</td>\n",
              "      <td>660719</td>\n",
              "      <td>660681</td>\n",
              "    </tr>\n",
              "    <tr>\n",
              "      <th>Lead Origin</th>\n",
              "      <td>API</td>\n",
              "      <td>API</td>\n",
              "      <td>Landing Page Submission</td>\n",
              "      <td>Landing Page Submission</td>\n",
              "      <td>Landing Page Submission</td>\n",
              "    </tr>\n",
              "    <tr>\n",
              "      <th>Lead Source</th>\n",
              "      <td>Olark Chat</td>\n",
              "      <td>Organic Search</td>\n",
              "      <td>Direct Traffic</td>\n",
              "      <td>Direct Traffic</td>\n",
              "      <td>Google</td>\n",
              "    </tr>\n",
              "    <tr>\n",
              "      <th>Do Not Email</th>\n",
              "      <td>No</td>\n",
              "      <td>No</td>\n",
              "      <td>No</td>\n",
              "      <td>No</td>\n",
              "      <td>No</td>\n",
              "    </tr>\n",
              "    <tr>\n",
              "      <th>Do Not Call</th>\n",
              "      <td>No</td>\n",
              "      <td>No</td>\n",
              "      <td>No</td>\n",
              "      <td>No</td>\n",
              "      <td>No</td>\n",
              "    </tr>\n",
              "    <tr>\n",
              "      <th>Converted</th>\n",
              "      <td>0</td>\n",
              "      <td>0</td>\n",
              "      <td>1</td>\n",
              "      <td>0</td>\n",
              "      <td>1</td>\n",
              "    </tr>\n",
              "    <tr>\n",
              "      <th>TotalVisits</th>\n",
              "      <td>0.0</td>\n",
              "      <td>5.0</td>\n",
              "      <td>2.0</td>\n",
              "      <td>1.0</td>\n",
              "      <td>2.0</td>\n",
              "    </tr>\n",
              "    <tr>\n",
              "      <th>Total Time Spent on Website</th>\n",
              "      <td>0</td>\n",
              "      <td>674</td>\n",
              "      <td>1532</td>\n",
              "      <td>305</td>\n",
              "      <td>1428</td>\n",
              "    </tr>\n",
              "    <tr>\n",
              "      <th>Page Views Per Visit</th>\n",
              "      <td>0.0</td>\n",
              "      <td>2.5</td>\n",
              "      <td>2.0</td>\n",
              "      <td>1.0</td>\n",
              "      <td>1.0</td>\n",
              "    </tr>\n",
              "    <tr>\n",
              "      <th>Last Activity</th>\n",
              "      <td>Page Visited on Website</td>\n",
              "      <td>Email Opened</td>\n",
              "      <td>Email Opened</td>\n",
              "      <td>Unreachable</td>\n",
              "      <td>Converted to Lead</td>\n",
              "    </tr>\n",
              "    <tr>\n",
              "      <th>Country</th>\n",
              "      <td>NaN</td>\n",
              "      <td>India</td>\n",
              "      <td>India</td>\n",
              "      <td>India</td>\n",
              "      <td>India</td>\n",
              "    </tr>\n",
              "    <tr>\n",
              "      <th>Specialization</th>\n",
              "      <td>Select</td>\n",
              "      <td>Select</td>\n",
              "      <td>Business Administration</td>\n",
              "      <td>Media and Advertising</td>\n",
              "      <td>Select</td>\n",
              "    </tr>\n",
              "    <tr>\n",
              "      <th>How did you hear about X Education</th>\n",
              "      <td>Select</td>\n",
              "      <td>Select</td>\n",
              "      <td>Select</td>\n",
              "      <td>Word Of Mouth</td>\n",
              "      <td>Other</td>\n",
              "    </tr>\n",
              "    <tr>\n",
              "      <th>What is your current occupation</th>\n",
              "      <td>Unemployed</td>\n",
              "      <td>Unemployed</td>\n",
              "      <td>Student</td>\n",
              "      <td>Unemployed</td>\n",
              "      <td>Unemployed</td>\n",
              "    </tr>\n",
              "    <tr>\n",
              "      <th>What matters most to you in choosing a course</th>\n",
              "      <td>Better Career Prospects</td>\n",
              "      <td>Better Career Prospects</td>\n",
              "      <td>Better Career Prospects</td>\n",
              "      <td>Better Career Prospects</td>\n",
              "      <td>Better Career Prospects</td>\n",
              "    </tr>\n",
              "    <tr>\n",
              "      <th>Search</th>\n",
              "      <td>No</td>\n",
              "      <td>No</td>\n",
              "      <td>No</td>\n",
              "      <td>No</td>\n",
              "      <td>No</td>\n",
              "    </tr>\n",
              "    <tr>\n",
              "      <th>Magazine</th>\n",
              "      <td>No</td>\n",
              "      <td>No</td>\n",
              "      <td>No</td>\n",
              "      <td>No</td>\n",
              "      <td>No</td>\n",
              "    </tr>\n",
              "    <tr>\n",
              "      <th>Newspaper Article</th>\n",
              "      <td>No</td>\n",
              "      <td>No</td>\n",
              "      <td>No</td>\n",
              "      <td>No</td>\n",
              "      <td>No</td>\n",
              "    </tr>\n",
              "    <tr>\n",
              "      <th>X Education Forums</th>\n",
              "      <td>No</td>\n",
              "      <td>No</td>\n",
              "      <td>No</td>\n",
              "      <td>No</td>\n",
              "      <td>No</td>\n",
              "    </tr>\n",
              "    <tr>\n",
              "      <th>Newspaper</th>\n",
              "      <td>No</td>\n",
              "      <td>No</td>\n",
              "      <td>No</td>\n",
              "      <td>No</td>\n",
              "      <td>No</td>\n",
              "    </tr>\n",
              "    <tr>\n",
              "      <th>Digital Advertisement</th>\n",
              "      <td>No</td>\n",
              "      <td>No</td>\n",
              "      <td>No</td>\n",
              "      <td>No</td>\n",
              "      <td>No</td>\n",
              "    </tr>\n",
              "    <tr>\n",
              "      <th>Through Recommendations</th>\n",
              "      <td>No</td>\n",
              "      <td>No</td>\n",
              "      <td>No</td>\n",
              "      <td>No</td>\n",
              "      <td>No</td>\n",
              "    </tr>\n",
              "    <tr>\n",
              "      <th>Receive More Updates About Our Courses</th>\n",
              "      <td>No</td>\n",
              "      <td>No</td>\n",
              "      <td>No</td>\n",
              "      <td>No</td>\n",
              "      <td>No</td>\n",
              "    </tr>\n",
              "    <tr>\n",
              "      <th>Tags</th>\n",
              "      <td>Interested in other courses</td>\n",
              "      <td>Ringing</td>\n",
              "      <td>Will revert after reading the email</td>\n",
              "      <td>Ringing</td>\n",
              "      <td>Will revert after reading the email</td>\n",
              "    </tr>\n",
              "    <tr>\n",
              "      <th>Lead Quality</th>\n",
              "      <td>Low in Relevance</td>\n",
              "      <td>NaN</td>\n",
              "      <td>Might be</td>\n",
              "      <td>Not Sure</td>\n",
              "      <td>Might be</td>\n",
              "    </tr>\n",
              "    <tr>\n",
              "      <th>Update me on Supply Chain Content</th>\n",
              "      <td>No</td>\n",
              "      <td>No</td>\n",
              "      <td>No</td>\n",
              "      <td>No</td>\n",
              "      <td>No</td>\n",
              "    </tr>\n",
              "    <tr>\n",
              "      <th>Get updates on DM Content</th>\n",
              "      <td>No</td>\n",
              "      <td>No</td>\n",
              "      <td>No</td>\n",
              "      <td>No</td>\n",
              "      <td>No</td>\n",
              "    </tr>\n",
              "    <tr>\n",
              "      <th>Lead Profile</th>\n",
              "      <td>Select</td>\n",
              "      <td>Select</td>\n",
              "      <td>Potential Lead</td>\n",
              "      <td>Select</td>\n",
              "      <td>Select</td>\n",
              "    </tr>\n",
              "    <tr>\n",
              "      <th>City</th>\n",
              "      <td>Select</td>\n",
              "      <td>Select</td>\n",
              "      <td>Mumbai</td>\n",
              "      <td>Mumbai</td>\n",
              "      <td>Mumbai</td>\n",
              "    </tr>\n",
              "    <tr>\n",
              "      <th>Asymmetrique Activity Index</th>\n",
              "      <td>02.Medium</td>\n",
              "      <td>02.Medium</td>\n",
              "      <td>02.Medium</td>\n",
              "      <td>02.Medium</td>\n",
              "      <td>02.Medium</td>\n",
              "    </tr>\n",
              "    <tr>\n",
              "      <th>Asymmetrique Profile Index</th>\n",
              "      <td>02.Medium</td>\n",
              "      <td>02.Medium</td>\n",
              "      <td>01.High</td>\n",
              "      <td>01.High</td>\n",
              "      <td>01.High</td>\n",
              "    </tr>\n",
              "    <tr>\n",
              "      <th>Asymmetrique Activity Score</th>\n",
              "      <td>15.0</td>\n",
              "      <td>15.0</td>\n",
              "      <td>14.0</td>\n",
              "      <td>13.0</td>\n",
              "      <td>15.0</td>\n",
              "    </tr>\n",
              "    <tr>\n",
              "      <th>Asymmetrique Profile Score</th>\n",
              "      <td>15.0</td>\n",
              "      <td>15.0</td>\n",
              "      <td>20.0</td>\n",
              "      <td>17.0</td>\n",
              "      <td>18.0</td>\n",
              "    </tr>\n",
              "    <tr>\n",
              "      <th>I agree to pay the amount through cheque</th>\n",
              "      <td>No</td>\n",
              "      <td>No</td>\n",
              "      <td>No</td>\n",
              "      <td>No</td>\n",
              "      <td>No</td>\n",
              "    </tr>\n",
              "    <tr>\n",
              "      <th>A free copy of Mastering The Interview</th>\n",
              "      <td>No</td>\n",
              "      <td>No</td>\n",
              "      <td>Yes</td>\n",
              "      <td>No</td>\n",
              "      <td>No</td>\n",
              "    </tr>\n",
              "    <tr>\n",
              "      <th>Last Notable Activity</th>\n",
              "      <td>Modified</td>\n",
              "      <td>Email Opened</td>\n",
              "      <td>Email Opened</td>\n",
              "      <td>Modified</td>\n",
              "      <td>Modified</td>\n",
              "    </tr>\n",
              "  </tbody>\n",
              "</table>\n",
              "</div>\n",
              "      <button class=\"colab-df-convert\" onclick=\"convertToInteractive('df-84a8975b-3edb-42e5-ba66-26383b824762')\"\n",
              "              title=\"Convert this dataframe to an interactive table.\"\n",
              "              style=\"display:none;\">\n",
              "        \n",
              "  <svg xmlns=\"http://www.w3.org/2000/svg\" height=\"24px\"viewBox=\"0 0 24 24\"\n",
              "       width=\"24px\">\n",
              "    <path d=\"M0 0h24v24H0V0z\" fill=\"none\"/>\n",
              "    <path d=\"M18.56 5.44l.94 2.06.94-2.06 2.06-.94-2.06-.94-.94-2.06-.94 2.06-2.06.94zm-11 1L8.5 8.5l.94-2.06 2.06-.94-2.06-.94L8.5 2.5l-.94 2.06-2.06.94zm10 10l.94 2.06.94-2.06 2.06-.94-2.06-.94-.94-2.06-.94 2.06-2.06.94z\"/><path d=\"M17.41 7.96l-1.37-1.37c-.4-.4-.92-.59-1.43-.59-.52 0-1.04.2-1.43.59L10.3 9.45l-7.72 7.72c-.78.78-.78 2.05 0 2.83L4 21.41c.39.39.9.59 1.41.59.51 0 1.02-.2 1.41-.59l7.78-7.78 2.81-2.81c.8-.78.8-2.07 0-2.86zM5.41 20L4 18.59l7.72-7.72 1.47 1.35L5.41 20z\"/>\n",
              "  </svg>\n",
              "      </button>\n",
              "      \n",
              "  <style>\n",
              "    .colab-df-container {\n",
              "      display:flex;\n",
              "      flex-wrap:wrap;\n",
              "      gap: 12px;\n",
              "    }\n",
              "\n",
              "    .colab-df-convert {\n",
              "      background-color: #E8F0FE;\n",
              "      border: none;\n",
              "      border-radius: 50%;\n",
              "      cursor: pointer;\n",
              "      display: none;\n",
              "      fill: #1967D2;\n",
              "      height: 32px;\n",
              "      padding: 0 0 0 0;\n",
              "      width: 32px;\n",
              "    }\n",
              "\n",
              "    .colab-df-convert:hover {\n",
              "      background-color: #E2EBFA;\n",
              "      box-shadow: 0px 1px 2px rgba(60, 64, 67, 0.3), 0px 1px 3px 1px rgba(60, 64, 67, 0.15);\n",
              "      fill: #174EA6;\n",
              "    }\n",
              "\n",
              "    [theme=dark] .colab-df-convert {\n",
              "      background-color: #3B4455;\n",
              "      fill: #D2E3FC;\n",
              "    }\n",
              "\n",
              "    [theme=dark] .colab-df-convert:hover {\n",
              "      background-color: #434B5C;\n",
              "      box-shadow: 0px 1px 3px 1px rgba(0, 0, 0, 0.15);\n",
              "      filter: drop-shadow(0px 1px 2px rgba(0, 0, 0, 0.3));\n",
              "      fill: #FFFFFF;\n",
              "    }\n",
              "  </style>\n",
              "\n",
              "      <script>\n",
              "        const buttonEl =\n",
              "          document.querySelector('#df-84a8975b-3edb-42e5-ba66-26383b824762 button.colab-df-convert');\n",
              "        buttonEl.style.display =\n",
              "          google.colab.kernel.accessAllowed ? 'block' : 'none';\n",
              "\n",
              "        async function convertToInteractive(key) {\n",
              "          const element = document.querySelector('#df-84a8975b-3edb-42e5-ba66-26383b824762');\n",
              "          const dataTable =\n",
              "            await google.colab.kernel.invokeFunction('convertToInteractive',\n",
              "                                                     [key], {});\n",
              "          if (!dataTable) return;\n",
              "\n",
              "          const docLinkHtml = 'Like what you see? Visit the ' +\n",
              "            '<a target=\"_blank\" href=https://colab.research.google.com/notebooks/data_table.ipynb>data table notebook</a>'\n",
              "            + ' to learn more about interactive tables.';\n",
              "          element.innerHTML = '';\n",
              "          dataTable['output_type'] = 'display_data';\n",
              "          await google.colab.output.renderOutput(dataTable, element);\n",
              "          const docLink = document.createElement('div');\n",
              "          docLink.innerHTML = docLinkHtml;\n",
              "          element.appendChild(docLink);\n",
              "        }\n",
              "      </script>\n",
              "    </div>\n",
              "  </div>\n",
              "  "
            ]
          },
          "metadata": {},
          "execution_count": 7
        }
      ]
    },
    {
      "cell_type": "markdown",
      "source": [
        "Data Types"
      ],
      "metadata": {
        "id": "t3M9BL9Bcu7E"
      }
    },
    {
      "cell_type": "markdown",
      "source": [
        "Column Names and Naming Conventions"
      ],
      "metadata": {
        "id": "DuUNqqI9dL3X"
      }
    },
    {
      "cell_type": "code",
      "source": [
        "df.columns = df.columns.str.lower().str.replace(' ', '_')\n",
        "\n",
        "string_columns = list(df.dtypes[df.dtypes == 'object'].index)"
      ],
      "metadata": {
        "id": "0xZAmifRdIy4"
      },
      "execution_count": null,
      "outputs": []
    },
    {
      "cell_type": "code",
      "source": [
        "for col in string_columns:\n",
        " df[col] = df[col].str.lower().str.replace(' ', '_')"
      ],
      "metadata": {
        "id": "T3cLp2UfdXDi"
      },
      "execution_count": null,
      "outputs": []
    },
    {
      "cell_type": "code",
      "source": [
        "df.dtypes"
      ],
      "metadata": {
        "colab": {
          "base_uri": "https://localhost:8080/"
        },
        "id": "V9aXbjQadbj3",
        "outputId": "a5b6af0b-8a17-403f-f85e-94409a192de3"
      },
      "execution_count": null,
      "outputs": [
        {
          "output_type": "execute_result",
          "data": {
            "text/plain": [
              "prospect_id                                       object\n",
              "lead_number                                        int64\n",
              "lead_origin                                       object\n",
              "lead_source                                       object\n",
              "do_not_email                                      object\n",
              "do_not_call                                       object\n",
              "converted                                          int64\n",
              "totalvisits                                      float64\n",
              "total_time_spent_on_website                        int64\n",
              "page_views_per_visit                             float64\n",
              "last_activity                                     object\n",
              "country                                           object\n",
              "specialization                                    object\n",
              "how_did_you_hear_about_x_education                object\n",
              "what_is_your_current_occupation                   object\n",
              "what_matters_most_to_you_in_choosing_a_course     object\n",
              "search                                            object\n",
              "magazine                                          object\n",
              "newspaper_article                                 object\n",
              "x_education_forums                                object\n",
              "newspaper                                         object\n",
              "digital_advertisement                             object\n",
              "through_recommendations                           object\n",
              "receive_more_updates_about_our_courses            object\n",
              "tags                                              object\n",
              "lead_quality                                      object\n",
              "update_me_on_supply_chain_content                 object\n",
              "get_updates_on_dm_content                         object\n",
              "lead_profile                                      object\n",
              "city                                              object\n",
              "asymmetrique_activity_index                       object\n",
              "asymmetrique_profile_index                        object\n",
              "asymmetrique_activity_score                      float64\n",
              "asymmetrique_profile_score                       float64\n",
              "i_agree_to_pay_the_amount_through_cheque          object\n",
              "a_free_copy_of_mastering_the_interview            object\n",
              "last_notable_activity                             object\n",
              "dtype: object"
            ]
          },
          "metadata": {},
          "execution_count": 10
        }
      ]
    },
    {
      "cell_type": "code",
      "source": [
        "df.nunique()"
      ],
      "metadata": {
        "id": "wEWVSG8NgUKe",
        "outputId": "34089e00-c8ee-4d79-fd11-f373b690f254",
        "colab": {
          "base_uri": "https://localhost:8080/"
        }
      },
      "execution_count": null,
      "outputs": [
        {
          "output_type": "execute_result",
          "data": {
            "text/plain": [
              "prospect_id                                      9240\n",
              "lead_number                                      9240\n",
              "lead_origin                                         5\n",
              "lead_source                                        20\n",
              "do_not_email                                        2\n",
              "do_not_call                                         2\n",
              "converted                                           2\n",
              "totalvisits                                        41\n",
              "total_time_spent_on_website                      1731\n",
              "page_views_per_visit                              114\n",
              "last_activity                                      17\n",
              "country                                            38\n",
              "specialization                                     19\n",
              "how_did_you_hear_about_x_education                 10\n",
              "what_is_your_current_occupation                     6\n",
              "what_matters_most_to_you_in_choosing_a_course       3\n",
              "search                                              2\n",
              "magazine                                            1\n",
              "newspaper_article                                   2\n",
              "x_education_forums                                  2\n",
              "newspaper                                           2\n",
              "digital_advertisement                               2\n",
              "through_recommendations                             2\n",
              "receive_more_updates_about_our_courses              1\n",
              "tags                                               26\n",
              "lead_quality                                        5\n",
              "update_me_on_supply_chain_content                   1\n",
              "get_updates_on_dm_content                           1\n",
              "lead_profile                                        6\n",
              "city                                                7\n",
              "asymmetrique_activity_index                         3\n",
              "asymmetrique_profile_index                          3\n",
              "asymmetrique_activity_score                        12\n",
              "asymmetrique_profile_score                         10\n",
              "i_agree_to_pay_the_amount_through_cheque            1\n",
              "a_free_copy_of_mastering_the_interview              2\n",
              "last_notable_activity                              16\n",
              "dtype: int64"
            ]
          },
          "metadata": {},
          "execution_count": 11
        }
      ]
    },
    {
      "cell_type": "markdown",
      "source": [
        "Drop unnecessary features"
      ],
      "metadata": {
        "id": "tw-g6VC8gu7f"
      }
    },
    {
      "cell_type": "code",
      "source": [
        "df.drop(['prospect_id','lead_number'], axis=1, inplace=True)"
      ],
      "metadata": {
        "id": "w2oS5Ar3hbJu"
      },
      "execution_count": null,
      "outputs": []
    },
    {
      "cell_type": "code",
      "source": [
        "df.drop(['magazine','receive_more_updates_about_our_courses', 'update_me_on_supply_chain_content', 'get_updates_on_dm_content', 'i_agree_to_pay_the_amount_through_cheque' ], axis=1, inplace=True)"
      ],
      "metadata": {
        "id": "XrhW8Zo9yBoL"
      },
      "execution_count": null,
      "outputs": []
    },
    {
      "cell_type": "code",
      "source": [
        "df.drop(['asymmetrique_activity_index', 'asymmetrique_profile_index', 'asymmetrique_activity_score', 'asymmetrique_profile_score'], axis=1, inplace=True)"
      ],
      "metadata": {
        "id": "UolDXntO2-Pp"
      },
      "execution_count": null,
      "outputs": []
    },
    {
      "cell_type": "code",
      "source": [
        "df.info()"
      ],
      "metadata": {
        "id": "RkA0klDnhxSl",
        "outputId": "2b547c9f-7caa-4c34-b873-b40b399c4689",
        "colab": {
          "base_uri": "https://localhost:8080/"
        }
      },
      "execution_count": null,
      "outputs": [
        {
          "output_type": "stream",
          "name": "stdout",
          "text": [
            "<class 'pandas.core.frame.DataFrame'>\n",
            "RangeIndex: 9240 entries, 0 to 9239\n",
            "Data columns (total 26 columns):\n",
            " #   Column                                         Non-Null Count  Dtype  \n",
            "---  ------                                         --------------  -----  \n",
            " 0   lead_origin                                    9240 non-null   object \n",
            " 1   lead_source                                    9204 non-null   object \n",
            " 2   do_not_email                                   9240 non-null   object \n",
            " 3   do_not_call                                    9240 non-null   object \n",
            " 4   converted                                      9240 non-null   int64  \n",
            " 5   totalvisits                                    9103 non-null   float64\n",
            " 6   total_time_spent_on_website                    9240 non-null   int64  \n",
            " 7   page_views_per_visit                           9103 non-null   float64\n",
            " 8   last_activity                                  9137 non-null   object \n",
            " 9   country                                        6779 non-null   object \n",
            " 10  specialization                                 7802 non-null   object \n",
            " 11  how_did_you_hear_about_x_education             7033 non-null   object \n",
            " 12  what_is_your_current_occupation                6550 non-null   object \n",
            " 13  what_matters_most_to_you_in_choosing_a_course  6531 non-null   object \n",
            " 14  search                                         9240 non-null   object \n",
            " 15  newspaper_article                              9240 non-null   object \n",
            " 16  x_education_forums                             9240 non-null   object \n",
            " 17  newspaper                                      9240 non-null   object \n",
            " 18  digital_advertisement                          9240 non-null   object \n",
            " 19  through_recommendations                        9240 non-null   object \n",
            " 20  tags                                           5887 non-null   object \n",
            " 21  lead_quality                                   4473 non-null   object \n",
            " 22  lead_profile                                   6531 non-null   object \n",
            " 23  city                                           7820 non-null   object \n",
            " 24  a_free_copy_of_mastering_the_interview         9240 non-null   object \n",
            " 25  last_notable_activity                          9240 non-null   object \n",
            "dtypes: float64(2), int64(2), object(22)\n",
            "memory usage: 1.8+ MB\n"
          ]
        }
      ]
    },
    {
      "cell_type": "markdown",
      "source": [
        "Check for duplicates"
      ],
      "metadata": {
        "id": "ExkVmZabzUI-"
      }
    },
    {
      "cell_type": "code",
      "source": [
        "duplicates = df.duplicated()"
      ],
      "metadata": {
        "id": "P5xIbcFfy_yl"
      },
      "execution_count": null,
      "outputs": []
    },
    {
      "cell_type": "code",
      "source": [
        "duplicates.sum()"
      ],
      "metadata": {
        "id": "OQdZJVIQzMLf",
        "outputId": "e8148feb-d224-43cd-f259-4e20ae4c8841",
        "colab": {
          "base_uri": "https://localhost:8080/"
        }
      },
      "execution_count": null,
      "outputs": [
        {
          "output_type": "execute_result",
          "data": {
            "text/plain": [
              "1465"
            ]
          },
          "metadata": {},
          "execution_count": 17
        }
      ]
    },
    {
      "cell_type": "code",
      "source": [
        "df.drop_duplicates(keep='first', inplace=True)"
      ],
      "metadata": {
        "id": "Lg4cIlk9zqUs"
      },
      "execution_count": null,
      "outputs": []
    },
    {
      "cell_type": "code",
      "source": [
        "df.shape"
      ],
      "metadata": {
        "id": "tVL_bvUyz0Zm",
        "outputId": "498a529d-773e-497d-ed30-2a47c70d5059",
        "colab": {
          "base_uri": "https://localhost:8080/"
        }
      },
      "execution_count": null,
      "outputs": [
        {
          "output_type": "execute_result",
          "data": {
            "text/plain": [
              "(7775, 26)"
            ]
          },
          "metadata": {},
          "execution_count": 19
        }
      ]
    },
    {
      "cell_type": "markdown",
      "source": [
        "Check for missing values"
      ],
      "metadata": {
        "id": "KzqJfzu60YoG"
      }
    },
    {
      "cell_type": "code",
      "source": [
        "df.isna().sum()"
      ],
      "metadata": {
        "id": "p3v2W17Qz3F4",
        "outputId": "4b50a3f5-bc52-401f-b935-3fefb262eef6",
        "colab": {
          "base_uri": "https://localhost:8080/"
        }
      },
      "execution_count": null,
      "outputs": [
        {
          "output_type": "execute_result",
          "data": {
            "text/plain": [
              "lead_origin                                         0\n",
              "lead_source                                        29\n",
              "do_not_email                                        0\n",
              "do_not_call                                         0\n",
              "converted                                           0\n",
              "totalvisits                                       136\n",
              "total_time_spent_on_website                         0\n",
              "page_views_per_visit                              136\n",
              "last_activity                                     102\n",
              "country                                           998\n",
              "specialization                                    655\n",
              "how_did_you_hear_about_x_education               1423\n",
              "what_is_your_current_occupation                  1906\n",
              "what_matters_most_to_you_in_choosing_a_course    1925\n",
              "search                                              0\n",
              "newspaper_article                                   0\n",
              "x_education_forums                                  0\n",
              "newspaper                                           0\n",
              "digital_advertisement                               0\n",
              "through_recommendations                             0\n",
              "tags                                             2328\n",
              "lead_quality                                     3590\n",
              "lead_profile                                     1925\n",
              "city                                              638\n",
              "a_free_copy_of_mastering_the_interview              0\n",
              "last_notable_activity                               0\n",
              "dtype: int64"
            ]
          },
          "metadata": {},
          "execution_count": 20
        }
      ]
    },
    {
      "cell_type": "code",
      "source": [
        "df.dropna(inplace=True)"
      ],
      "metadata": {
        "id": "cjF7cQ6s2MQX"
      },
      "execution_count": null,
      "outputs": []
    },
    {
      "cell_type": "code",
      "source": [
        "df.info()"
      ],
      "metadata": {
        "id": "Kgo6woKR2Vc_",
        "outputId": "fd097327-e08e-47df-b2ae-560671b8cfc6",
        "colab": {
          "base_uri": "https://localhost:8080/"
        }
      },
      "execution_count": null,
      "outputs": [
        {
          "output_type": "stream",
          "name": "stdout",
          "text": [
            "<class 'pandas.core.frame.DataFrame'>\n",
            "Int64Index: 3474 entries, 2 to 9239\n",
            "Data columns (total 26 columns):\n",
            " #   Column                                         Non-Null Count  Dtype  \n",
            "---  ------                                         --------------  -----  \n",
            " 0   lead_origin                                    3474 non-null   object \n",
            " 1   lead_source                                    3474 non-null   object \n",
            " 2   do_not_email                                   3474 non-null   object \n",
            " 3   do_not_call                                    3474 non-null   object \n",
            " 4   converted                                      3474 non-null   int64  \n",
            " 5   totalvisits                                    3474 non-null   float64\n",
            " 6   total_time_spent_on_website                    3474 non-null   int64  \n",
            " 7   page_views_per_visit                           3474 non-null   float64\n",
            " 8   last_activity                                  3474 non-null   object \n",
            " 9   country                                        3474 non-null   object \n",
            " 10  specialization                                 3474 non-null   object \n",
            " 11  how_did_you_hear_about_x_education             3474 non-null   object \n",
            " 12  what_is_your_current_occupation                3474 non-null   object \n",
            " 13  what_matters_most_to_you_in_choosing_a_course  3474 non-null   object \n",
            " 14  search                                         3474 non-null   object \n",
            " 15  newspaper_article                              3474 non-null   object \n",
            " 16  x_education_forums                             3474 non-null   object \n",
            " 17  newspaper                                      3474 non-null   object \n",
            " 18  digital_advertisement                          3474 non-null   object \n",
            " 19  through_recommendations                        3474 non-null   object \n",
            " 20  tags                                           3474 non-null   object \n",
            " 21  lead_quality                                   3474 non-null   object \n",
            " 22  lead_profile                                   3474 non-null   object \n",
            " 23  city                                           3474 non-null   object \n",
            " 24  a_free_copy_of_mastering_the_interview         3474 non-null   object \n",
            " 25  last_notable_activity                          3474 non-null   object \n",
            "dtypes: float64(2), int64(2), object(22)\n",
            "memory usage: 732.8+ KB\n"
          ]
        }
      ]
    },
    {
      "cell_type": "code",
      "source": [
        "df.nunique()"
      ],
      "metadata": {
        "id": "VFDgNPOM37Qh",
        "outputId": "ee26d1a7-c5d5-4abb-b79c-72c4c18c8d9c",
        "colab": {
          "base_uri": "https://localhost:8080/"
        }
      },
      "execution_count": null,
      "outputs": [
        {
          "output_type": "execute_result",
          "data": {
            "text/plain": [
              "lead_origin                                         3\n",
              "lead_source                                        12\n",
              "do_not_email                                        2\n",
              "do_not_call                                         2\n",
              "converted                                           2\n",
              "totalvisits                                        34\n",
              "total_time_spent_on_website                      1465\n",
              "page_views_per_visit                               91\n",
              "last_activity                                      16\n",
              "country                                            28\n",
              "specialization                                     19\n",
              "how_did_you_hear_about_x_education                 10\n",
              "what_is_your_current_occupation                     6\n",
              "what_matters_most_to_you_in_choosing_a_course       2\n",
              "search                                              2\n",
              "newspaper_article                                   2\n",
              "x_education_forums                                  1\n",
              "newspaper                                           2\n",
              "digital_advertisement                               2\n",
              "through_recommendations                             2\n",
              "tags                                               25\n",
              "lead_quality                                        5\n",
              "lead_profile                                        6\n",
              "city                                                7\n",
              "a_free_copy_of_mastering_the_interview              2\n",
              "last_notable_activity                              14\n",
              "dtype: int64"
            ]
          },
          "metadata": {},
          "execution_count": 23
        }
      ]
    },
    {
      "cell_type": "code",
      "source": [
        "df.drop(['x_education_forums'], axis=1, inplace=True)"
      ],
      "metadata": {
        "id": "kv5Yc6NR4QS6"
      },
      "execution_count": null,
      "outputs": []
    },
    {
      "cell_type": "code",
      "source": [
        "df.info()"
      ],
      "metadata": {
        "colab": {
          "base_uri": "https://localhost:8080/"
        },
        "id": "Bz81LBMNQVcT",
        "outputId": "01dc4f82-06d3-4e95-c996-50abaae5ce4e"
      },
      "execution_count": null,
      "outputs": [
        {
          "output_type": "stream",
          "name": "stdout",
          "text": [
            "<class 'pandas.core.frame.DataFrame'>\n",
            "Int64Index: 3474 entries, 2 to 9239\n",
            "Data columns (total 25 columns):\n",
            " #   Column                                         Non-Null Count  Dtype  \n",
            "---  ------                                         --------------  -----  \n",
            " 0   lead_origin                                    3474 non-null   object \n",
            " 1   lead_source                                    3474 non-null   object \n",
            " 2   do_not_email                                   3474 non-null   object \n",
            " 3   do_not_call                                    3474 non-null   object \n",
            " 4   converted                                      3474 non-null   int64  \n",
            " 5   totalvisits                                    3474 non-null   float64\n",
            " 6   total_time_spent_on_website                    3474 non-null   int64  \n",
            " 7   page_views_per_visit                           3474 non-null   float64\n",
            " 8   last_activity                                  3474 non-null   object \n",
            " 9   country                                        3474 non-null   object \n",
            " 10  specialization                                 3474 non-null   object \n",
            " 11  how_did_you_hear_about_x_education             3474 non-null   object \n",
            " 12  what_is_your_current_occupation                3474 non-null   object \n",
            " 13  what_matters_most_to_you_in_choosing_a_course  3474 non-null   object \n",
            " 14  search                                         3474 non-null   object \n",
            " 15  newspaper_article                              3474 non-null   object \n",
            " 16  newspaper                                      3474 non-null   object \n",
            " 17  digital_advertisement                          3474 non-null   object \n",
            " 18  through_recommendations                        3474 non-null   object \n",
            " 19  tags                                           3474 non-null   object \n",
            " 20  lead_quality                                   3474 non-null   object \n",
            " 21  lead_profile                                   3474 non-null   object \n",
            " 22  city                                           3474 non-null   object \n",
            " 23  a_free_copy_of_mastering_the_interview         3474 non-null   object \n",
            " 24  last_notable_activity                          3474 non-null   object \n",
            "dtypes: float64(2), int64(2), object(21)\n",
            "memory usage: 705.7+ KB\n"
          ]
        }
      ]
    },
    {
      "cell_type": "code",
      "source": [
        "df.to_csv(\"data_leads_1.csv\")"
      ],
      "metadata": {
        "id": "OvIS4RZiPVnH"
      },
      "execution_count": null,
      "outputs": []
    },
    {
      "cell_type": "markdown",
      "source": [
        "################################################################################\n"
      ],
      "metadata": {
        "id": "dz03_pwE0Tmw"
      }
    },
    {
      "cell_type": "markdown",
      "source": [
        "Split the Data for Testing and Training"
      ],
      "metadata": {
        "id": "Bwh6s31cdvNb"
      }
    },
    {
      "cell_type": "code",
      "source": [
        "df_train_full, df_test = train_test_split(df, test_size=0.2, random_state=1)"
      ],
      "metadata": {
        "id": "JoXa4GeSdwHr"
      },
      "execution_count": null,
      "outputs": []
    },
    {
      "cell_type": "markdown",
      "source": [
        "Train, Test, Validate"
      ],
      "metadata": {
        "id": "jZWVccfHeDMb"
      }
    },
    {
      "cell_type": "code",
      "source": [
        "df_train, df_val = train_test_split(df_train_full, test_size=0.33, random_state=11)\n",
        "\n",
        "y_train = df_train.converted.values\n",
        "y_val = df_val.converted.values\n",
        "\n",
        "del df_train['converted']\n",
        "del df_val['converted']"
      ],
      "metadata": {
        "id": "HOK_Mrb0d8iO"
      },
      "execution_count": null,
      "outputs": []
    },
    {
      "cell_type": "markdown",
      "source": [
        "Exploratory Data Analysis"
      ],
      "metadata": {
        "id": "YFk4SbiEeVBr"
      }
    },
    {
      "cell_type": "code",
      "source": [
        "df_train_full.isnull().sum()"
      ],
      "metadata": {
        "colab": {
          "base_uri": "https://localhost:8080/"
        },
        "id": "vWCPfSCNeZjO",
        "outputId": "42761476-610c-4825-ea6b-3e8d4dfe5c0f"
      },
      "execution_count": null,
      "outputs": [
        {
          "output_type": "execute_result",
          "data": {
            "text/plain": [
              "lead_origin                                      0\n",
              "lead_source                                      0\n",
              "do_not_email                                     0\n",
              "do_not_call                                      0\n",
              "converted                                        0\n",
              "totalvisits                                      0\n",
              "total_time_spent_on_website                      0\n",
              "page_views_per_visit                             0\n",
              "last_activity                                    0\n",
              "country                                          0\n",
              "specialization                                   0\n",
              "how_did_you_hear_about_x_education               0\n",
              "what_is_your_current_occupation                  0\n",
              "what_matters_most_to_you_in_choosing_a_course    0\n",
              "search                                           0\n",
              "newspaper_article                                0\n",
              "newspaper                                        0\n",
              "digital_advertisement                            0\n",
              "through_recommendations                          0\n",
              "tags                                             0\n",
              "lead_quality                                     0\n",
              "lead_profile                                     0\n",
              "city                                             0\n",
              "a_free_copy_of_mastering_the_interview           0\n",
              "last_notable_activity                            0\n",
              "dtype: int64"
            ]
          },
          "metadata": {},
          "execution_count": 29
        }
      ]
    },
    {
      "cell_type": "markdown",
      "source": [
        "Validate the Distribution of the Target Variable"
      ],
      "metadata": {
        "id": "opqADTHLeiFC"
      }
    },
    {
      "cell_type": "code",
      "source": [
        "df_train_full.converted.value_counts()"
      ],
      "metadata": {
        "colab": {
          "base_uri": "https://localhost:8080/"
        },
        "id": "LDdXlUDPejbP",
        "outputId": "8e226111-4ed5-498c-c783-ed4c1e15debe"
      },
      "execution_count": null,
      "outputs": [
        {
          "output_type": "execute_result",
          "data": {
            "text/plain": [
              "1    1456\n",
              "0    1323\n",
              "Name: converted, dtype: int64"
            ]
          },
          "metadata": {},
          "execution_count": 30
        }
      ]
    },
    {
      "cell_type": "code",
      "source": [
        "stopped = 1456/(1456 + 1323)\n",
        "print(\"percentage of customers Converted: \", round(stopped, 5))"
      ],
      "metadata": {
        "colab": {
          "base_uri": "https://localhost:8080/"
        },
        "id": "CebiolLRep4h",
        "outputId": "347ccfeb-4492-4006-9f5b-ba0dd791588d"
      },
      "execution_count": null,
      "outputs": [
        {
          "output_type": "stream",
          "name": "stdout",
          "text": [
            "percentage of customers Converted:  0.52393\n"
          ]
        }
      ]
    },
    {
      "cell_type": "markdown",
      "source": [
        "Compute the MEAN of the Target Variable"
      ],
      "metadata": {
        "id": "2n6bjEVefJT6"
      }
    },
    {
      "cell_type": "code",
      "source": [
        "global_mean = df_train_full.converted.mean()\n",
        "round(global_mean, 3)\n"
      ],
      "metadata": {
        "colab": {
          "base_uri": "https://localhost:8080/"
        },
        "id": "zSQSZR4afFnD",
        "outputId": "be601105-2d63-41ae-a3a8-9aa730e7404b"
      },
      "execution_count": null,
      "outputs": [
        {
          "output_type": "execute_result",
          "data": {
            "text/plain": [
              "0.524"
            ]
          },
          "metadata": {},
          "execution_count": 32
        }
      ]
    },
    {
      "cell_type": "markdown",
      "source": [
        "## We have an Balanced Dataset"
      ],
      "metadata": {
        "id": "ZvyeFR9Vfqad"
      }
    },
    {
      "cell_type": "markdown",
      "source": [
        "# Categorical & Numerical Columns Require Different Treatments\n",
        "\n",
        "## categorical:  which will contain the names of categorical variables\n",
        "## numerical: will have the names of numerical variables"
      ],
      "metadata": {
        "id": "N2E6b-SYf2Og"
      }
    },
    {
      "cell_type": "code",
      "source": [
        " categorical = ['lead_origin','lead_source','do_not_email','do_not_call','last_activity','country','specialization',\n",
        "              'how_did_you_hear_about_x_education','what_is_your_current_occupation','what_matters_most_to_you_in_choosing_a_course',\n",
        "              'search','newspaper_article','newspaper','digital_advertisement','through_recommendations','tags','lead_quality','lead_profile',\n",
        "              'city','a_free_copy_of_mastering_the_interview','last_notable_activity']\n",
        "\n",
        "numerical = ['totalvisits', 'total_time_spent_on_website', 'page_views_per_visit']"
      ],
      "metadata": {
        "id": "I1IlrkZRfNsM"
      },
      "execution_count": null,
      "outputs": []
    },
    {
      "cell_type": "markdown",
      "source": [
        "# Categorical Data"
      ],
      "metadata": {
        "id": "X1m4LdAZgfQY"
      }
    },
    {
      "cell_type": "code",
      "source": [
        "df_train_full[categorical].nunique()"
      ],
      "metadata": {
        "colab": {
          "base_uri": "https://localhost:8080/"
        },
        "id": "QkVbLnE_gblx",
        "outputId": "e6c686cc-17ee-4e29-dbc0-3b0f218bc9c5"
      },
      "execution_count": null,
      "outputs": [
        {
          "output_type": "execute_result",
          "data": {
            "text/plain": [
              "lead_origin                                       3\n",
              "lead_source                                      10\n",
              "do_not_email                                      2\n",
              "do_not_call                                       2\n",
              "last_activity                                    15\n",
              "country                                          28\n",
              "specialization                                   19\n",
              "how_did_you_hear_about_x_education               10\n",
              "what_is_your_current_occupation                   6\n",
              "what_matters_most_to_you_in_choosing_a_course     2\n",
              "search                                            2\n",
              "newspaper_article                                 1\n",
              "newspaper                                         1\n",
              "digital_advertisement                             2\n",
              "through_recommendations                           2\n",
              "tags                                             23\n",
              "lead_quality                                      5\n",
              "lead_profile                                      6\n",
              "city                                              7\n",
              "a_free_copy_of_mastering_the_interview            2\n",
              "last_notable_activity                            12\n",
              "dtype: int64"
            ]
          },
          "metadata": {},
          "execution_count": 34
        }
      ]
    },
    {
      "cell_type": "markdown",
      "source": [
        "# Numerical Data\n",
        "\n",
        "## Get the Descriptive statistics for each column (Univariate Analysis)"
      ],
      "metadata": {
        "id": "TR0-P4zlgp7S"
      }
    },
    {
      "cell_type": "code",
      "source": [
        "df_train_full[numerical].describe()"
      ],
      "metadata": {
        "colab": {
          "base_uri": "https://localhost:8080/",
          "height": 300
        },
        "id": "GED4_nLag1-7",
        "outputId": "b9b9ea2d-71b2-4ba2-a770-a3b22da8e6a6"
      },
      "execution_count": null,
      "outputs": [
        {
          "output_type": "execute_result",
          "data": {
            "text/plain": [
              "       totalvisits  total_time_spent_on_website  page_views_per_visit\n",
              "count  2779.000000                  2779.000000           2779.000000\n",
              "mean      4.686218                   720.257287              3.213883\n",
              "std       5.962216                   557.839713              1.849806\n",
              "min       0.000000                     0.000000              0.000000\n",
              "25%       2.000000                   210.000000              2.000000\n",
              "50%       4.000000                   590.000000              3.000000\n",
              "75%       5.000000                  1212.500000              4.000000\n",
              "max     251.000000                  2272.000000             15.000000"
            ],
            "text/html": [
              "\n",
              "  <div id=\"df-9e3aeecb-ae41-4183-837f-afbf1b8bf19d\">\n",
              "    <div class=\"colab-df-container\">\n",
              "      <div>\n",
              "<style scoped>\n",
              "    .dataframe tbody tr th:only-of-type {\n",
              "        vertical-align: middle;\n",
              "    }\n",
              "\n",
              "    .dataframe tbody tr th {\n",
              "        vertical-align: top;\n",
              "    }\n",
              "\n",
              "    .dataframe thead th {\n",
              "        text-align: right;\n",
              "    }\n",
              "</style>\n",
              "<table border=\"1\" class=\"dataframe\">\n",
              "  <thead>\n",
              "    <tr style=\"text-align: right;\">\n",
              "      <th></th>\n",
              "      <th>totalvisits</th>\n",
              "      <th>total_time_spent_on_website</th>\n",
              "      <th>page_views_per_visit</th>\n",
              "    </tr>\n",
              "  </thead>\n",
              "  <tbody>\n",
              "    <tr>\n",
              "      <th>count</th>\n",
              "      <td>2779.000000</td>\n",
              "      <td>2779.000000</td>\n",
              "      <td>2779.000000</td>\n",
              "    </tr>\n",
              "    <tr>\n",
              "      <th>mean</th>\n",
              "      <td>4.686218</td>\n",
              "      <td>720.257287</td>\n",
              "      <td>3.213883</td>\n",
              "    </tr>\n",
              "    <tr>\n",
              "      <th>std</th>\n",
              "      <td>5.962216</td>\n",
              "      <td>557.839713</td>\n",
              "      <td>1.849806</td>\n",
              "    </tr>\n",
              "    <tr>\n",
              "      <th>min</th>\n",
              "      <td>0.000000</td>\n",
              "      <td>0.000000</td>\n",
              "      <td>0.000000</td>\n",
              "    </tr>\n",
              "    <tr>\n",
              "      <th>25%</th>\n",
              "      <td>2.000000</td>\n",
              "      <td>210.000000</td>\n",
              "      <td>2.000000</td>\n",
              "    </tr>\n",
              "    <tr>\n",
              "      <th>50%</th>\n",
              "      <td>4.000000</td>\n",
              "      <td>590.000000</td>\n",
              "      <td>3.000000</td>\n",
              "    </tr>\n",
              "    <tr>\n",
              "      <th>75%</th>\n",
              "      <td>5.000000</td>\n",
              "      <td>1212.500000</td>\n",
              "      <td>4.000000</td>\n",
              "    </tr>\n",
              "    <tr>\n",
              "      <th>max</th>\n",
              "      <td>251.000000</td>\n",
              "      <td>2272.000000</td>\n",
              "      <td>15.000000</td>\n",
              "    </tr>\n",
              "  </tbody>\n",
              "</table>\n",
              "</div>\n",
              "      <button class=\"colab-df-convert\" onclick=\"convertToInteractive('df-9e3aeecb-ae41-4183-837f-afbf1b8bf19d')\"\n",
              "              title=\"Convert this dataframe to an interactive table.\"\n",
              "              style=\"display:none;\">\n",
              "        \n",
              "  <svg xmlns=\"http://www.w3.org/2000/svg\" height=\"24px\"viewBox=\"0 0 24 24\"\n",
              "       width=\"24px\">\n",
              "    <path d=\"M0 0h24v24H0V0z\" fill=\"none\"/>\n",
              "    <path d=\"M18.56 5.44l.94 2.06.94-2.06 2.06-.94-2.06-.94-.94-2.06-.94 2.06-2.06.94zm-11 1L8.5 8.5l.94-2.06 2.06-.94-2.06-.94L8.5 2.5l-.94 2.06-2.06.94zm10 10l.94 2.06.94-2.06 2.06-.94-2.06-.94-.94-2.06-.94 2.06-2.06.94z\"/><path d=\"M17.41 7.96l-1.37-1.37c-.4-.4-.92-.59-1.43-.59-.52 0-1.04.2-1.43.59L10.3 9.45l-7.72 7.72c-.78.78-.78 2.05 0 2.83L4 21.41c.39.39.9.59 1.41.59.51 0 1.02-.2 1.41-.59l7.78-7.78 2.81-2.81c.8-.78.8-2.07 0-2.86zM5.41 20L4 18.59l7.72-7.72 1.47 1.35L5.41 20z\"/>\n",
              "  </svg>\n",
              "      </button>\n",
              "      \n",
              "  <style>\n",
              "    .colab-df-container {\n",
              "      display:flex;\n",
              "      flex-wrap:wrap;\n",
              "      gap: 12px;\n",
              "    }\n",
              "\n",
              "    .colab-df-convert {\n",
              "      background-color: #E8F0FE;\n",
              "      border: none;\n",
              "      border-radius: 50%;\n",
              "      cursor: pointer;\n",
              "      display: none;\n",
              "      fill: #1967D2;\n",
              "      height: 32px;\n",
              "      padding: 0 0 0 0;\n",
              "      width: 32px;\n",
              "    }\n",
              "\n",
              "    .colab-df-convert:hover {\n",
              "      background-color: #E2EBFA;\n",
              "      box-shadow: 0px 1px 2px rgba(60, 64, 67, 0.3), 0px 1px 3px 1px rgba(60, 64, 67, 0.15);\n",
              "      fill: #174EA6;\n",
              "    }\n",
              "\n",
              "    [theme=dark] .colab-df-convert {\n",
              "      background-color: #3B4455;\n",
              "      fill: #D2E3FC;\n",
              "    }\n",
              "\n",
              "    [theme=dark] .colab-df-convert:hover {\n",
              "      background-color: #434B5C;\n",
              "      box-shadow: 0px 1px 3px 1px rgba(0, 0, 0, 0.15);\n",
              "      filter: drop-shadow(0px 1px 2px rgba(0, 0, 0, 0.3));\n",
              "      fill: #FFFFFF;\n",
              "    }\n",
              "  </style>\n",
              "\n",
              "      <script>\n",
              "        const buttonEl =\n",
              "          document.querySelector('#df-9e3aeecb-ae41-4183-837f-afbf1b8bf19d button.colab-df-convert');\n",
              "        buttonEl.style.display =\n",
              "          google.colab.kernel.accessAllowed ? 'block' : 'none';\n",
              "\n",
              "        async function convertToInteractive(key) {\n",
              "          const element = document.querySelector('#df-9e3aeecb-ae41-4183-837f-afbf1b8bf19d');\n",
              "          const dataTable =\n",
              "            await google.colab.kernel.invokeFunction('convertToInteractive',\n",
              "                                                     [key], {});\n",
              "          if (!dataTable) return;\n",
              "\n",
              "          const docLinkHtml = 'Like what you see? Visit the ' +\n",
              "            '<a target=\"_blank\" href=https://colab.research.google.com/notebooks/data_table.ipynb>data table notebook</a>'\n",
              "            + ' to learn more about interactive tables.';\n",
              "          element.innerHTML = '';\n",
              "          dataTable['output_type'] = 'display_data';\n",
              "          await google.colab.output.renderOutput(dataTable, element);\n",
              "          const docLink = document.createElement('div');\n",
              "          docLink.innerHTML = docLinkHtml;\n",
              "          element.appendChild(docLink);\n",
              "        }\n",
              "      </script>\n",
              "    </div>\n",
              "  </div>\n",
              "  "
            ]
          },
          "metadata": {},
          "execution_count": 35
        }
      ]
    },
    {
      "cell_type": "markdown",
      "source": [
        "# Correlations"
      ],
      "metadata": {
        "id": "Rcnwefulg-2V"
      }
    },
    {
      "cell_type": "code",
      "source": [
        "df_train_full.corr()"
      ],
      "metadata": {
        "colab": {
          "base_uri": "https://localhost:8080/",
          "height": 231
        },
        "id": "9z4mrHF6hBDS",
        "outputId": "847eca12-3cad-4de7-c255-5dddd225c347"
      },
      "execution_count": null,
      "outputs": [
        {
          "output_type": "stream",
          "name": "stderr",
          "text": [
            "<ipython-input-36-e1a2823212c6>:1: FutureWarning: The default value of numeric_only in DataFrame.corr is deprecated. In a future version, it will default to False. Select only valid columns or specify the value of numeric_only to silence this warning.\n",
            "  df_train_full.corr()\n"
          ]
        },
        {
          "output_type": "execute_result",
          "data": {
            "text/plain": [
              "                             converted  totalvisits  \\\n",
              "converted                     1.000000     0.076735   \n",
              "totalvisits                   0.076735     1.000000   \n",
              "total_time_spent_on_website   0.486906     0.019455   \n",
              "page_views_per_visit          0.059756     0.292185   \n",
              "\n",
              "                             total_time_spent_on_website  page_views_per_visit  \n",
              "converted                                       0.486906              0.059756  \n",
              "totalvisits                                     0.019455              0.292185  \n",
              "total_time_spent_on_website                     1.000000              0.039303  \n",
              "page_views_per_visit                            0.039303              1.000000  "
            ],
            "text/html": [
              "\n",
              "  <div id=\"df-f8727539-38b4-470b-9913-b3d30ce0b3ea\">\n",
              "    <div class=\"colab-df-container\">\n",
              "      <div>\n",
              "<style scoped>\n",
              "    .dataframe tbody tr th:only-of-type {\n",
              "        vertical-align: middle;\n",
              "    }\n",
              "\n",
              "    .dataframe tbody tr th {\n",
              "        vertical-align: top;\n",
              "    }\n",
              "\n",
              "    .dataframe thead th {\n",
              "        text-align: right;\n",
              "    }\n",
              "</style>\n",
              "<table border=\"1\" class=\"dataframe\">\n",
              "  <thead>\n",
              "    <tr style=\"text-align: right;\">\n",
              "      <th></th>\n",
              "      <th>converted</th>\n",
              "      <th>totalvisits</th>\n",
              "      <th>total_time_spent_on_website</th>\n",
              "      <th>page_views_per_visit</th>\n",
              "    </tr>\n",
              "  </thead>\n",
              "  <tbody>\n",
              "    <tr>\n",
              "      <th>converted</th>\n",
              "      <td>1.000000</td>\n",
              "      <td>0.076735</td>\n",
              "      <td>0.486906</td>\n",
              "      <td>0.059756</td>\n",
              "    </tr>\n",
              "    <tr>\n",
              "      <th>totalvisits</th>\n",
              "      <td>0.076735</td>\n",
              "      <td>1.000000</td>\n",
              "      <td>0.019455</td>\n",
              "      <td>0.292185</td>\n",
              "    </tr>\n",
              "    <tr>\n",
              "      <th>total_time_spent_on_website</th>\n",
              "      <td>0.486906</td>\n",
              "      <td>0.019455</td>\n",
              "      <td>1.000000</td>\n",
              "      <td>0.039303</td>\n",
              "    </tr>\n",
              "    <tr>\n",
              "      <th>page_views_per_visit</th>\n",
              "      <td>0.059756</td>\n",
              "      <td>0.292185</td>\n",
              "      <td>0.039303</td>\n",
              "      <td>1.000000</td>\n",
              "    </tr>\n",
              "  </tbody>\n",
              "</table>\n",
              "</div>\n",
              "      <button class=\"colab-df-convert\" onclick=\"convertToInteractive('df-f8727539-38b4-470b-9913-b3d30ce0b3ea')\"\n",
              "              title=\"Convert this dataframe to an interactive table.\"\n",
              "              style=\"display:none;\">\n",
              "        \n",
              "  <svg xmlns=\"http://www.w3.org/2000/svg\" height=\"24px\"viewBox=\"0 0 24 24\"\n",
              "       width=\"24px\">\n",
              "    <path d=\"M0 0h24v24H0V0z\" fill=\"none\"/>\n",
              "    <path d=\"M18.56 5.44l.94 2.06.94-2.06 2.06-.94-2.06-.94-.94-2.06-.94 2.06-2.06.94zm-11 1L8.5 8.5l.94-2.06 2.06-.94-2.06-.94L8.5 2.5l-.94 2.06-2.06.94zm10 10l.94 2.06.94-2.06 2.06-.94-2.06-.94-.94-2.06-.94 2.06-2.06.94z\"/><path d=\"M17.41 7.96l-1.37-1.37c-.4-.4-.92-.59-1.43-.59-.52 0-1.04.2-1.43.59L10.3 9.45l-7.72 7.72c-.78.78-.78 2.05 0 2.83L4 21.41c.39.39.9.59 1.41.59.51 0 1.02-.2 1.41-.59l7.78-7.78 2.81-2.81c.8-.78.8-2.07 0-2.86zM5.41 20L4 18.59l7.72-7.72 1.47 1.35L5.41 20z\"/>\n",
              "  </svg>\n",
              "      </button>\n",
              "      \n",
              "  <style>\n",
              "    .colab-df-container {\n",
              "      display:flex;\n",
              "      flex-wrap:wrap;\n",
              "      gap: 12px;\n",
              "    }\n",
              "\n",
              "    .colab-df-convert {\n",
              "      background-color: #E8F0FE;\n",
              "      border: none;\n",
              "      border-radius: 50%;\n",
              "      cursor: pointer;\n",
              "      display: none;\n",
              "      fill: #1967D2;\n",
              "      height: 32px;\n",
              "      padding: 0 0 0 0;\n",
              "      width: 32px;\n",
              "    }\n",
              "\n",
              "    .colab-df-convert:hover {\n",
              "      background-color: #E2EBFA;\n",
              "      box-shadow: 0px 1px 2px rgba(60, 64, 67, 0.3), 0px 1px 3px 1px rgba(60, 64, 67, 0.15);\n",
              "      fill: #174EA6;\n",
              "    }\n",
              "\n",
              "    [theme=dark] .colab-df-convert {\n",
              "      background-color: #3B4455;\n",
              "      fill: #D2E3FC;\n",
              "    }\n",
              "\n",
              "    [theme=dark] .colab-df-convert:hover {\n",
              "      background-color: #434B5C;\n",
              "      box-shadow: 0px 1px 3px 1px rgba(0, 0, 0, 0.15);\n",
              "      filter: drop-shadow(0px 1px 2px rgba(0, 0, 0, 0.3));\n",
              "      fill: #FFFFFF;\n",
              "    }\n",
              "  </style>\n",
              "\n",
              "      <script>\n",
              "        const buttonEl =\n",
              "          document.querySelector('#df-f8727539-38b4-470b-9913-b3d30ce0b3ea button.colab-df-convert');\n",
              "        buttonEl.style.display =\n",
              "          google.colab.kernel.accessAllowed ? 'block' : 'none';\n",
              "\n",
              "        async function convertToInteractive(key) {\n",
              "          const element = document.querySelector('#df-f8727539-38b4-470b-9913-b3d30ce0b3ea');\n",
              "          const dataTable =\n",
              "            await google.colab.kernel.invokeFunction('convertToInteractive',\n",
              "                                                     [key], {});\n",
              "          if (!dataTable) return;\n",
              "\n",
              "          const docLinkHtml = 'Like what you see? Visit the ' +\n",
              "            '<a target=\"_blank\" href=https://colab.research.google.com/notebooks/data_table.ipynb>data table notebook</a>'\n",
              "            + ' to learn more about interactive tables.';\n",
              "          element.innerHTML = '';\n",
              "          dataTable['output_type'] = 'display_data';\n",
              "          await google.colab.output.renderOutput(dataTable, element);\n",
              "          const docLink = document.createElement('div');\n",
              "          docLink.innerHTML = docLinkHtml;\n",
              "          element.appendChild(docLink);\n",
              "        }\n",
              "      </script>\n",
              "    </div>\n",
              "  </div>\n",
              "  "
            ]
          },
          "metadata": {},
          "execution_count": 36
        }
      ]
    },
    {
      "cell_type": "markdown",
      "source": [
        "# Feature Importance"
      ],
      "metadata": {
        "id": "vHgdb7cShH70"
      }
    },
    {
      "cell_type": "markdown",
      "source": [
        "## Feature Importance Based on Country"
      ],
      "metadata": {
        "id": "JWsB1tkuhzSn"
      }
    },
    {
      "cell_type": "code",
      "source": [
        "india_mean = df_train_full[df_train_full.country == 'india'].converted.mean()\n",
        "\n",
        "non_india_male_mean = df_train_full[df_train_full.country != 'india'].converted.mean()"
      ],
      "metadata": {
        "id": "A0HebQBzh1zE"
      },
      "execution_count": null,
      "outputs": []
    },
    {
      "cell_type": "markdown",
      "source": [
        "## Feature Importance based on What Matters Most"
      ],
      "metadata": {
        "id": "crYI09w-iFtF"
      }
    },
    {
      "cell_type": "code",
      "source": [
        "what_matters_most_better_career = df_train_full[df_train_full.what_matters_most_to_you_in_choosing_a_course == 'better_career_prospects'].converted.mean()\n",
        "print('what matters == better_career_prospects:', round(what_matters_most_better_career, 3))\n",
        "\n",
        "what_matters_most_other = df_train_full[df_train_full.what_matters_most_to_you_in_choosing_a_course == 'other'].converted.mean()\n",
        "print('what matters most == other:', round(what_matters_most_other, 3))"
      ],
      "metadata": {
        "colab": {
          "base_uri": "https://localhost:8080/"
        },
        "id": "xdgpG1DLiLZo",
        "outputId": "9a349a06-2c79-4b5b-cf1e-e3185b33fe9f"
      },
      "execution_count": null,
      "outputs": [
        {
          "output_type": "stream",
          "name": "stdout",
          "text": [
            "what matters == better_career_prospects: 0.524\n",
            "what matters most == other: 0.0\n"
          ]
        }
      ]
    },
    {
      "cell_type": "markdown",
      "source": [
        "## Risk Ratio"
      ],
      "metadata": {
        "id": "DQwVywJ6ir8y"
      }
    },
    {
      "cell_type": "code",
      "source": [
        "# risk = group rate / global_rate\n",
        "\n",
        "# For “gender == female”, for example, the risk of churning is 1.02:\n",
        "# risk = 27.7% / 27% = 1.02"
      ],
      "metadata": {
        "id": "IAL-Xnl9iu10"
      },
      "execution_count": null,
      "outputs": []
    },
    {
      "cell_type": "markdown",
      "source": [
        "## Compute Risk Ratio"
      ],
      "metadata": {
        "id": "ZaBvItIjjYQC"
      }
    },
    {
      "cell_type": "code",
      "source": [
        "global_mean = df_train_full.converted.mean()\n",
        "print('global_mean: ', round(global_mean, 5))\n",
        "\n",
        "df_group = df_train_full.groupby(by='country').converted.agg(['mean'])\n",
        "\n",
        "df_group['diff'] = df_group['mean'] - global_mean\n",
        "\n",
        "df_group['risk'] = df_group['mean'] / global_mean\n",
        "\n",
        "df_group\n"
      ],
      "metadata": {
        "colab": {
          "base_uri": "https://localhost:8080/",
          "height": 977
        },
        "id": "WayOXvvKjS81",
        "outputId": "237c47b9-b6b5-4362-878d-c45653142ead"
      },
      "execution_count": null,
      "outputs": [
        {
          "output_type": "stream",
          "name": "stdout",
          "text": [
            "global_mean:  0.52393\n"
          ]
        },
        {
          "output_type": "execute_result",
          "data": {
            "text/plain": [
              "                          mean      diff      risk\n",
              "country                                           \n",
              "australia             0.500000 -0.023929  0.954327\n",
              "bahrain               1.000000  0.476071  1.908654\n",
              "bangladesh            1.000000  0.476071  1.908654\n",
              "canada                0.000000 -0.523929  0.000000\n",
              "china                 0.000000 -0.523929  0.000000\n",
              "denmark               1.000000  0.476071  1.908654\n",
              "france                0.750000  0.226071  1.431490\n",
              "germany               1.000000  0.476071  1.908654\n",
              "ghana                 0.000000 -0.523929  0.000000\n",
              "hong_kong             0.800000  0.276071  1.526923\n",
              "india                 0.528529  0.004599  1.008778\n",
              "indonesia             0.000000 -0.523929  0.000000\n",
              "italy                 0.000000 -0.523929  0.000000\n",
              "kuwait                0.000000 -0.523929  0.000000\n",
              "malaysia              0.000000 -0.523929  0.000000\n",
              "netherlands           0.500000 -0.023929  0.954327\n",
              "nigeria               0.000000 -0.523929  0.000000\n",
              "oman                  0.500000 -0.023929  0.954327\n",
              "qatar                 0.500000 -0.023929  0.954327\n",
              "saudi_arabia          0.125000 -0.398929  0.238582\n",
              "singapore             0.500000 -0.023929  0.954327\n",
              "south_africa          0.000000 -0.523929  0.000000\n",
              "sweden                0.000000 -0.523929  0.000000\n",
              "tanzania              0.000000 -0.523929  0.000000\n",
              "uganda                0.000000 -0.523929  0.000000\n",
              "united_arab_emirates  0.500000 -0.023929  0.954327\n",
              "united_kingdom        0.333333 -0.190596  0.636218\n",
              "united_states         0.260870 -0.263060  0.497910"
            ],
            "text/html": [
              "\n",
              "  <div id=\"df-0f105fd0-d3aa-41dc-a9d3-f02f8e2a7812\">\n",
              "    <div class=\"colab-df-container\">\n",
              "      <div>\n",
              "<style scoped>\n",
              "    .dataframe tbody tr th:only-of-type {\n",
              "        vertical-align: middle;\n",
              "    }\n",
              "\n",
              "    .dataframe tbody tr th {\n",
              "        vertical-align: top;\n",
              "    }\n",
              "\n",
              "    .dataframe thead th {\n",
              "        text-align: right;\n",
              "    }\n",
              "</style>\n",
              "<table border=\"1\" class=\"dataframe\">\n",
              "  <thead>\n",
              "    <tr style=\"text-align: right;\">\n",
              "      <th></th>\n",
              "      <th>mean</th>\n",
              "      <th>diff</th>\n",
              "      <th>risk</th>\n",
              "    </tr>\n",
              "    <tr>\n",
              "      <th>country</th>\n",
              "      <th></th>\n",
              "      <th></th>\n",
              "      <th></th>\n",
              "    </tr>\n",
              "  </thead>\n",
              "  <tbody>\n",
              "    <tr>\n",
              "      <th>australia</th>\n",
              "      <td>0.500000</td>\n",
              "      <td>-0.023929</td>\n",
              "      <td>0.954327</td>\n",
              "    </tr>\n",
              "    <tr>\n",
              "      <th>bahrain</th>\n",
              "      <td>1.000000</td>\n",
              "      <td>0.476071</td>\n",
              "      <td>1.908654</td>\n",
              "    </tr>\n",
              "    <tr>\n",
              "      <th>bangladesh</th>\n",
              "      <td>1.000000</td>\n",
              "      <td>0.476071</td>\n",
              "      <td>1.908654</td>\n",
              "    </tr>\n",
              "    <tr>\n",
              "      <th>canada</th>\n",
              "      <td>0.000000</td>\n",
              "      <td>-0.523929</td>\n",
              "      <td>0.000000</td>\n",
              "    </tr>\n",
              "    <tr>\n",
              "      <th>china</th>\n",
              "      <td>0.000000</td>\n",
              "      <td>-0.523929</td>\n",
              "      <td>0.000000</td>\n",
              "    </tr>\n",
              "    <tr>\n",
              "      <th>denmark</th>\n",
              "      <td>1.000000</td>\n",
              "      <td>0.476071</td>\n",
              "      <td>1.908654</td>\n",
              "    </tr>\n",
              "    <tr>\n",
              "      <th>france</th>\n",
              "      <td>0.750000</td>\n",
              "      <td>0.226071</td>\n",
              "      <td>1.431490</td>\n",
              "    </tr>\n",
              "    <tr>\n",
              "      <th>germany</th>\n",
              "      <td>1.000000</td>\n",
              "      <td>0.476071</td>\n",
              "      <td>1.908654</td>\n",
              "    </tr>\n",
              "    <tr>\n",
              "      <th>ghana</th>\n",
              "      <td>0.000000</td>\n",
              "      <td>-0.523929</td>\n",
              "      <td>0.000000</td>\n",
              "    </tr>\n",
              "    <tr>\n",
              "      <th>hong_kong</th>\n",
              "      <td>0.800000</td>\n",
              "      <td>0.276071</td>\n",
              "      <td>1.526923</td>\n",
              "    </tr>\n",
              "    <tr>\n",
              "      <th>india</th>\n",
              "      <td>0.528529</td>\n",
              "      <td>0.004599</td>\n",
              "      <td>1.008778</td>\n",
              "    </tr>\n",
              "    <tr>\n",
              "      <th>indonesia</th>\n",
              "      <td>0.000000</td>\n",
              "      <td>-0.523929</td>\n",
              "      <td>0.000000</td>\n",
              "    </tr>\n",
              "    <tr>\n",
              "      <th>italy</th>\n",
              "      <td>0.000000</td>\n",
              "      <td>-0.523929</td>\n",
              "      <td>0.000000</td>\n",
              "    </tr>\n",
              "    <tr>\n",
              "      <th>kuwait</th>\n",
              "      <td>0.000000</td>\n",
              "      <td>-0.523929</td>\n",
              "      <td>0.000000</td>\n",
              "    </tr>\n",
              "    <tr>\n",
              "      <th>malaysia</th>\n",
              "      <td>0.000000</td>\n",
              "      <td>-0.523929</td>\n",
              "      <td>0.000000</td>\n",
              "    </tr>\n",
              "    <tr>\n",
              "      <th>netherlands</th>\n",
              "      <td>0.500000</td>\n",
              "      <td>-0.023929</td>\n",
              "      <td>0.954327</td>\n",
              "    </tr>\n",
              "    <tr>\n",
              "      <th>nigeria</th>\n",
              "      <td>0.000000</td>\n",
              "      <td>-0.523929</td>\n",
              "      <td>0.000000</td>\n",
              "    </tr>\n",
              "    <tr>\n",
              "      <th>oman</th>\n",
              "      <td>0.500000</td>\n",
              "      <td>-0.023929</td>\n",
              "      <td>0.954327</td>\n",
              "    </tr>\n",
              "    <tr>\n",
              "      <th>qatar</th>\n",
              "      <td>0.500000</td>\n",
              "      <td>-0.023929</td>\n",
              "      <td>0.954327</td>\n",
              "    </tr>\n",
              "    <tr>\n",
              "      <th>saudi_arabia</th>\n",
              "      <td>0.125000</td>\n",
              "      <td>-0.398929</td>\n",
              "      <td>0.238582</td>\n",
              "    </tr>\n",
              "    <tr>\n",
              "      <th>singapore</th>\n",
              "      <td>0.500000</td>\n",
              "      <td>-0.023929</td>\n",
              "      <td>0.954327</td>\n",
              "    </tr>\n",
              "    <tr>\n",
              "      <th>south_africa</th>\n",
              "      <td>0.000000</td>\n",
              "      <td>-0.523929</td>\n",
              "      <td>0.000000</td>\n",
              "    </tr>\n",
              "    <tr>\n",
              "      <th>sweden</th>\n",
              "      <td>0.000000</td>\n",
              "      <td>-0.523929</td>\n",
              "      <td>0.000000</td>\n",
              "    </tr>\n",
              "    <tr>\n",
              "      <th>tanzania</th>\n",
              "      <td>0.000000</td>\n",
              "      <td>-0.523929</td>\n",
              "      <td>0.000000</td>\n",
              "    </tr>\n",
              "    <tr>\n",
              "      <th>uganda</th>\n",
              "      <td>0.000000</td>\n",
              "      <td>-0.523929</td>\n",
              "      <td>0.000000</td>\n",
              "    </tr>\n",
              "    <tr>\n",
              "      <th>united_arab_emirates</th>\n",
              "      <td>0.500000</td>\n",
              "      <td>-0.023929</td>\n",
              "      <td>0.954327</td>\n",
              "    </tr>\n",
              "    <tr>\n",
              "      <th>united_kingdom</th>\n",
              "      <td>0.333333</td>\n",
              "      <td>-0.190596</td>\n",
              "      <td>0.636218</td>\n",
              "    </tr>\n",
              "    <tr>\n",
              "      <th>united_states</th>\n",
              "      <td>0.260870</td>\n",
              "      <td>-0.263060</td>\n",
              "      <td>0.497910</td>\n",
              "    </tr>\n",
              "  </tbody>\n",
              "</table>\n",
              "</div>\n",
              "      <button class=\"colab-df-convert\" onclick=\"convertToInteractive('df-0f105fd0-d3aa-41dc-a9d3-f02f8e2a7812')\"\n",
              "              title=\"Convert this dataframe to an interactive table.\"\n",
              "              style=\"display:none;\">\n",
              "        \n",
              "  <svg xmlns=\"http://www.w3.org/2000/svg\" height=\"24px\"viewBox=\"0 0 24 24\"\n",
              "       width=\"24px\">\n",
              "    <path d=\"M0 0h24v24H0V0z\" fill=\"none\"/>\n",
              "    <path d=\"M18.56 5.44l.94 2.06.94-2.06 2.06-.94-2.06-.94-.94-2.06-.94 2.06-2.06.94zm-11 1L8.5 8.5l.94-2.06 2.06-.94-2.06-.94L8.5 2.5l-.94 2.06-2.06.94zm10 10l.94 2.06.94-2.06 2.06-.94-2.06-.94-.94-2.06-.94 2.06-2.06.94z\"/><path d=\"M17.41 7.96l-1.37-1.37c-.4-.4-.92-.59-1.43-.59-.52 0-1.04.2-1.43.59L10.3 9.45l-7.72 7.72c-.78.78-.78 2.05 0 2.83L4 21.41c.39.39.9.59 1.41.59.51 0 1.02-.2 1.41-.59l7.78-7.78 2.81-2.81c.8-.78.8-2.07 0-2.86zM5.41 20L4 18.59l7.72-7.72 1.47 1.35L5.41 20z\"/>\n",
              "  </svg>\n",
              "      </button>\n",
              "      \n",
              "  <style>\n",
              "    .colab-df-container {\n",
              "      display:flex;\n",
              "      flex-wrap:wrap;\n",
              "      gap: 12px;\n",
              "    }\n",
              "\n",
              "    .colab-df-convert {\n",
              "      background-color: #E8F0FE;\n",
              "      border: none;\n",
              "      border-radius: 50%;\n",
              "      cursor: pointer;\n",
              "      display: none;\n",
              "      fill: #1967D2;\n",
              "      height: 32px;\n",
              "      padding: 0 0 0 0;\n",
              "      width: 32px;\n",
              "    }\n",
              "\n",
              "    .colab-df-convert:hover {\n",
              "      background-color: #E2EBFA;\n",
              "      box-shadow: 0px 1px 2px rgba(60, 64, 67, 0.3), 0px 1px 3px 1px rgba(60, 64, 67, 0.15);\n",
              "      fill: #174EA6;\n",
              "    }\n",
              "\n",
              "    [theme=dark] .colab-df-convert {\n",
              "      background-color: #3B4455;\n",
              "      fill: #D2E3FC;\n",
              "    }\n",
              "\n",
              "    [theme=dark] .colab-df-convert:hover {\n",
              "      background-color: #434B5C;\n",
              "      box-shadow: 0px 1px 3px 1px rgba(0, 0, 0, 0.15);\n",
              "      filter: drop-shadow(0px 1px 2px rgba(0, 0, 0, 0.3));\n",
              "      fill: #FFFFFF;\n",
              "    }\n",
              "  </style>\n",
              "\n",
              "      <script>\n",
              "        const buttonEl =\n",
              "          document.querySelector('#df-0f105fd0-d3aa-41dc-a9d3-f02f8e2a7812 button.colab-df-convert');\n",
              "        buttonEl.style.display =\n",
              "          google.colab.kernel.accessAllowed ? 'block' : 'none';\n",
              "\n",
              "        async function convertToInteractive(key) {\n",
              "          const element = document.querySelector('#df-0f105fd0-d3aa-41dc-a9d3-f02f8e2a7812');\n",
              "          const dataTable =\n",
              "            await google.colab.kernel.invokeFunction('convertToInteractive',\n",
              "                                                     [key], {});\n",
              "          if (!dataTable) return;\n",
              "\n",
              "          const docLinkHtml = 'Like what you see? Visit the ' +\n",
              "            '<a target=\"_blank\" href=https://colab.research.google.com/notebooks/data_table.ipynb>data table notebook</a>'\n",
              "            + ' to learn more about interactive tables.';\n",
              "          element.innerHTML = '';\n",
              "          dataTable['output_type'] = 'display_data';\n",
              "          await google.colab.output.renderOutput(dataTable, element);\n",
              "          const docLink = document.createElement('div');\n",
              "          docLink.innerHTML = docLinkHtml;\n",
              "          element.appendChild(docLink);\n",
              "        }\n",
              "      </script>\n",
              "    </div>\n",
              "  </div>\n",
              "  "
            ]
          },
          "metadata": {},
          "execution_count": 40
        }
      ]
    },
    {
      "cell_type": "markdown",
      "source": [
        "## Risk Ratio for ALL Categorical Variables\n",
        "\n",
        "## Converted Analysis "
      ],
      "metadata": {
        "id": "n20f7oHdkNRX"
      }
    },
    {
      "cell_type": "markdown",
      "source": [
        "## Mutual Information : Categorical"
      ],
      "metadata": {
        "id": "5SfX14HHlpXB"
      }
    },
    {
      "cell_type": "code",
      "source": [
        "def calculate_mi(series):\n",
        " return mutual_info_score(series, df_train_full.converted)"
      ],
      "metadata": {
        "id": "P8gKtMyLlmax"
      },
      "execution_count": null,
      "outputs": []
    },
    {
      "cell_type": "code",
      "source": [
        "df_mi = df_train_full[categorical].apply(calculate_mi)\n",
        "\n",
        "df_mi = df_mi.sort_values(ascending=False).to_frame(name='MI')\n",
        "\n",
        "print(round(df_mi, 5))"
      ],
      "metadata": {
        "colab": {
          "base_uri": "https://localhost:8080/"
        },
        "id": "7ss95f7jl3iK",
        "outputId": "58db9e89-7050-4cbe-deb1-92acfc0aa3e9"
      },
      "execution_count": null,
      "outputs": [
        {
          "output_type": "stream",
          "name": "stdout",
          "text": [
            "                                                    MI\n",
            "tags                                           0.54727\n",
            "lead_quality                                   0.23191\n",
            "lead_profile                                   0.09808\n",
            "what_is_your_current_occupation                0.06099\n",
            "last_activity                                  0.04510\n",
            "last_notable_activity                          0.04300\n",
            "do_not_email                                   0.01939\n",
            "specialization                                 0.01398\n",
            "lead_source                                    0.01252\n",
            "country                                        0.00771\n",
            "how_did_you_hear_about_x_education             0.00740\n",
            "lead_origin                                    0.00404\n",
            "city                                           0.00370\n",
            "a_free_copy_of_mastering_the_interview         0.00233\n",
            "through_recommendations                        0.00116\n",
            "what_matters_most_to_you_in_choosing_a_course  0.00027\n",
            "do_not_call                                    0.00023\n",
            "search                                         0.00009\n",
            "digital_advertisement                          0.00000\n",
            "newspaper                                      0.00000\n",
            "newspaper_article                              0.00000\n"
          ]
        }
      ]
    },
    {
      "cell_type": "markdown",
      "source": [
        "# Correlation Coefficient"
      ],
      "metadata": {
        "id": "W8V1L9-SmJwU"
      }
    },
    {
      "cell_type": "code",
      "source": [
        "df_train_full[numerical].corrwith(df_train_full.converted)"
      ],
      "metadata": {
        "colab": {
          "base_uri": "https://localhost:8080/"
        },
        "id": "X4rdzkj1mNSl",
        "outputId": "9c3bd2a3-a97c-4901-f903-11430cdf5f4a"
      },
      "execution_count": null,
      "outputs": [
        {
          "output_type": "execute_result",
          "data": {
            "text/plain": [
              "totalvisits                    0.076735\n",
              "total_time_spent_on_website    0.486906\n",
              "page_views_per_visit           0.059756\n",
              "dtype: float64"
            ]
          },
          "metadata": {},
          "execution_count": 43
        }
      ]
    },
    {
      "cell_type": "markdown",
      "source": [
        "# Feature Engineering\n",
        "\n",
        "## Transform all categorical variables to numeric forms\n",
        "\n",
        "## One Hot Encoding\n",
        "\n",
        "## DictVectorizer"
      ],
      "metadata": {
        "id": "zkLeLyv9mYXG"
      }
    },
    {
      "cell_type": "code",
      "source": [
        "train_dict = df_train[categorical + numerical].to_dict(orient='records')"
      ],
      "metadata": {
        "id": "84bBiZI7mfXO"
      },
      "execution_count": null,
      "outputs": []
    },
    {
      "cell_type": "markdown",
      "source": [
        "## Dictionary Vectorizer"
      ],
      "metadata": {
        "id": "orqtprlkm-Vn"
      }
    },
    {
      "cell_type": "code",
      "source": [
        "dv = DictVectorizer(sparse=False)\n",
        "\n",
        "dv.fit(train_dict)\n",
        "\n",
        "X_train = dv.transform(train_dict)"
      ],
      "metadata": {
        "id": "3ir0vxz9nAFH"
      },
      "execution_count": null,
      "outputs": []
    },
    {
      "cell_type": "markdown",
      "source": [
        "## Peek at the Vectorized Data"
      ],
      "metadata": {
        "id": "XgAdTx26nGun"
      }
    },
    {
      "cell_type": "code",
      "source": [
        "X_train[0]\n",
        "\n",
        "dv.get_feature_names_out()"
      ],
      "metadata": {
        "colab": {
          "base_uri": "https://localhost:8080/"
        },
        "id": "NFraLtFPnIXG",
        "outputId": "fc7a39ea-406e-4381-c454-7f593f94a2c5"
      },
      "execution_count": null,
      "outputs": [
        {
          "output_type": "execute_result",
          "data": {
            "text/plain": [
              "array(['a_free_copy_of_mastering_the_interview=no',\n",
              "       'a_free_copy_of_mastering_the_interview=yes', 'city=mumbai',\n",
              "       'city=other_cities', 'city=other_cities_of_maharashtra',\n",
              "       'city=other_metro_cities', 'city=select', 'city=thane_&_outskirts',\n",
              "       'city=tier_ii_cities', 'country=australia', 'country=bahrain',\n",
              "       'country=bangladesh', 'country=denmark', 'country=france',\n",
              "       'country=ghana', 'country=hong_kong', 'country=india',\n",
              "       'country=indonesia', 'country=kuwait', 'country=malaysia',\n",
              "       'country=netherlands', 'country=nigeria', 'country=oman',\n",
              "       'country=qatar', 'country=saudi_arabia', 'country=singapore',\n",
              "       'country=south_africa', 'country=sweden', 'country=tanzania',\n",
              "       'country=uganda', 'country=united_arab_emirates',\n",
              "       'country=united_kingdom', 'country=united_states',\n",
              "       'digital_advertisement=no', 'digital_advertisement=yes',\n",
              "       'do_not_call=no', 'do_not_call=yes', 'do_not_email=no',\n",
              "       'do_not_email=yes',\n",
              "       'how_did_you_hear_about_x_education=advertisements',\n",
              "       'how_did_you_hear_about_x_education=email',\n",
              "       'how_did_you_hear_about_x_education=multiple_sources',\n",
              "       'how_did_you_hear_about_x_education=online_search',\n",
              "       'how_did_you_hear_about_x_education=other',\n",
              "       'how_did_you_hear_about_x_education=select',\n",
              "       'how_did_you_hear_about_x_education=sms',\n",
              "       'how_did_you_hear_about_x_education=social_media',\n",
              "       'how_did_you_hear_about_x_education=student_of_someschool',\n",
              "       'how_did_you_hear_about_x_education=word_of_mouth',\n",
              "       'last_activity=converted_to_lead', 'last_activity=email_bounced',\n",
              "       'last_activity=email_link_clicked', 'last_activity=email_opened',\n",
              "       'last_activity=form_submitted_on_website',\n",
              "       'last_activity=had_a_phone_conversation',\n",
              "       'last_activity=olark_chat_conversation',\n",
              "       'last_activity=page_visited_on_website', 'last_activity=sms_sent',\n",
              "       'last_activity=unreachable', 'last_activity=unsubscribed',\n",
              "       'last_activity=view_in_browser_link_clicked',\n",
              "       'last_activity=visited_booth_in_tradeshow',\n",
              "       'last_notable_activity=email_bounced',\n",
              "       'last_notable_activity=email_link_clicked',\n",
              "       'last_notable_activity=email_opened',\n",
              "       'last_notable_activity=had_a_phone_conversation',\n",
              "       'last_notable_activity=modified',\n",
              "       'last_notable_activity=olark_chat_conversation',\n",
              "       'last_notable_activity=page_visited_on_website',\n",
              "       'last_notable_activity=sms_sent',\n",
              "       'last_notable_activity=unreachable',\n",
              "       'last_notable_activity=unsubscribed',\n",
              "       'last_notable_activity=view_in_browser_link_clicked',\n",
              "       'lead_origin=api', 'lead_origin=landing_page_submission',\n",
              "       'lead_origin=lead_add_form',\n",
              "       'lead_profile=dual_specialization_student',\n",
              "       'lead_profile=lateral_student', 'lead_profile=other_leads',\n",
              "       'lead_profile=potential_lead', 'lead_profile=select',\n",
              "       'lead_profile=student_of_someschool',\n",
              "       'lead_quality=high_in_relevance', 'lead_quality=low_in_relevance',\n",
              "       'lead_quality=might_be', 'lead_quality=not_sure',\n",
              "       'lead_quality=worst', 'lead_source=direct_traffic',\n",
              "       'lead_source=facebook', 'lead_source=google',\n",
              "       'lead_source=olark_chat', 'lead_source=organic_search',\n",
              "       'lead_source=reference', 'lead_source=referral_sites',\n",
              "       'lead_source=social_media', 'lead_source=testone', 'newspaper=no',\n",
              "       'newspaper_article=no', 'page_views_per_visit', 'search=no',\n",
              "       'search=yes', 'specialization=banking,_investment_and_insurance',\n",
              "       'specialization=business_administration',\n",
              "       'specialization=e-business', 'specialization=e-commerce',\n",
              "       'specialization=finance_management',\n",
              "       'specialization=healthcare_management',\n",
              "       'specialization=hospitality_management',\n",
              "       'specialization=human_resource_management',\n",
              "       'specialization=international_business',\n",
              "       'specialization=it_projects_management',\n",
              "       'specialization=marketing_management',\n",
              "       'specialization=media_and_advertising',\n",
              "       'specialization=operations_management',\n",
              "       'specialization=retail_management',\n",
              "       'specialization=rural_and_agribusiness', 'specialization=select',\n",
              "       'specialization=services_excellence',\n",
              "       'specialization=supply_chain_management',\n",
              "       'specialization=travel_and_tourism', 'tags=already_a_student',\n",
              "       'tags=busy', 'tags=closed_by_horizzon',\n",
              "       'tags=diploma_holder_(not_eligible)',\n",
              "       'tags=graduation_in_progress',\n",
              "       'tags=in_confusion_whether_part_time_or_dlp',\n",
              "       'tags=in_touch_with_eins', 'tags=interested__in_full_time_mba',\n",
              "       'tags=interested_in_next_batch',\n",
              "       'tags=interested_in_other_courses', 'tags=invalid_number',\n",
              "       'tags=lateral_student', 'tags=lost_to_eins', 'tags=lost_to_others',\n",
              "       'tags=not_doing_further_education', 'tags=number_not_provided',\n",
              "       'tags=opp_hangup', 'tags=ringing', 'tags=still_thinking',\n",
              "       'tags=switched_off',\n",
              "       'tags=want_to_take_admission_but_has_financial_problems',\n",
              "       'tags=will_revert_after_reading_the_email',\n",
              "       'tags=wrong_number_given', 'through_recommendations=no',\n",
              "       'through_recommendations=yes', 'total_time_spent_on_website',\n",
              "       'totalvisits', 'what_is_your_current_occupation=businessman',\n",
              "       'what_is_your_current_occupation=housewife',\n",
              "       'what_is_your_current_occupation=other',\n",
              "       'what_is_your_current_occupation=student',\n",
              "       'what_is_your_current_occupation=unemployed',\n",
              "       'what_is_your_current_occupation=working_professional',\n",
              "       'what_matters_most_to_you_in_choosing_a_course=better_career_prospects',\n",
              "       'what_matters_most_to_you_in_choosing_a_course=other'],\n",
              "      dtype=object)"
            ]
          },
          "metadata": {},
          "execution_count": 46
        }
      ]
    },
    {
      "cell_type": "markdown",
      "source": [
        "# Machine learning\n",
        "\n",
        "## Predictive Analytics from the clean Telco Dataset\n",
        "\n",
        "## ML for Classification\n"
      ],
      "metadata": {
        "id": "b47cL7Qznj7Q"
      }
    },
    {
      "cell_type": "markdown",
      "source": [
        "## Linear Regression from Scratch in Python"
      ],
      "metadata": {
        "id": "y1fx08SKe89m"
      }
    },
    {
      "cell_type": "code",
      "source": [
        "def linear_regression(xi):\n",
        "  result = bias\n",
        "  for j in range(n):\n",
        "    result = result + xi[j] * w[j]\n",
        "  return result"
      ],
      "metadata": {
        "id": "PV9QFSjJfE4v"
      },
      "execution_count": null,
      "outputs": []
    },
    {
      "cell_type": "markdown",
      "source": [
        "## Logistic Regression from Scratch using Python"
      ],
      "metadata": {
        "id": "ZuRgVtXBfTLe"
      }
    },
    {
      "cell_type": "code",
      "source": [
        "def logistic_regression(xi):\n",
        "  score = bias\n",
        "  for j in range(n):\n",
        "    score = score + xi[j] * w[j]\n",
        "    prob = sigmoid(score)\n",
        "  return prob\n",
        "\n",
        "def sigmoid(score):\n",
        "  return 1 / (1 + math.exp(-score))"
      ],
      "metadata": {
        "id": "6i_bWAG4fVXI"
      },
      "execution_count": null,
      "outputs": []
    },
    {
      "cell_type": "markdown",
      "source": [
        "## Training the Logistic Regression Model"
      ],
      "metadata": {
        "id": "VkF9rGetfsUh"
      }
    },
    {
      "cell_type": "code",
      "source": [
        "model = LogisticRegression(solver='liblinear', random_state=1)\n",
        "\n",
        "model.fit(X_train, y_train)"
      ],
      "metadata": {
        "colab": {
          "base_uri": "https://localhost:8080/",
          "height": 75
        },
        "id": "TEbPKTr3fPUZ",
        "outputId": "f9ebb53f-86e9-4a78-db28-dfab65011e3b"
      },
      "execution_count": null,
      "outputs": [
        {
          "output_type": "execute_result",
          "data": {
            "text/plain": [
              "LogisticRegression(random_state=1, solver='liblinear')"
            ],
            "text/html": [
              "<style>#sk-container-id-1 {color: black;background-color: white;}#sk-container-id-1 pre{padding: 0;}#sk-container-id-1 div.sk-toggleable {background-color: white;}#sk-container-id-1 label.sk-toggleable__label {cursor: pointer;display: block;width: 100%;margin-bottom: 0;padding: 0.3em;box-sizing: border-box;text-align: center;}#sk-container-id-1 label.sk-toggleable__label-arrow:before {content: \"▸\";float: left;margin-right: 0.25em;color: #696969;}#sk-container-id-1 label.sk-toggleable__label-arrow:hover:before {color: black;}#sk-container-id-1 div.sk-estimator:hover label.sk-toggleable__label-arrow:before {color: black;}#sk-container-id-1 div.sk-toggleable__content {max-height: 0;max-width: 0;overflow: hidden;text-align: left;background-color: #f0f8ff;}#sk-container-id-1 div.sk-toggleable__content pre {margin: 0.2em;color: black;border-radius: 0.25em;background-color: #f0f8ff;}#sk-container-id-1 input.sk-toggleable__control:checked~div.sk-toggleable__content {max-height: 200px;max-width: 100%;overflow: auto;}#sk-container-id-1 input.sk-toggleable__control:checked~label.sk-toggleable__label-arrow:before {content: \"▾\";}#sk-container-id-1 div.sk-estimator input.sk-toggleable__control:checked~label.sk-toggleable__label {background-color: #d4ebff;}#sk-container-id-1 div.sk-label input.sk-toggleable__control:checked~label.sk-toggleable__label {background-color: #d4ebff;}#sk-container-id-1 input.sk-hidden--visually {border: 0;clip: rect(1px 1px 1px 1px);clip: rect(1px, 1px, 1px, 1px);height: 1px;margin: -1px;overflow: hidden;padding: 0;position: absolute;width: 1px;}#sk-container-id-1 div.sk-estimator {font-family: monospace;background-color: #f0f8ff;border: 1px dotted black;border-radius: 0.25em;box-sizing: border-box;margin-bottom: 0.5em;}#sk-container-id-1 div.sk-estimator:hover {background-color: #d4ebff;}#sk-container-id-1 div.sk-parallel-item::after {content: \"\";width: 100%;border-bottom: 1px solid gray;flex-grow: 1;}#sk-container-id-1 div.sk-label:hover label.sk-toggleable__label {background-color: #d4ebff;}#sk-container-id-1 div.sk-serial::before {content: \"\";position: absolute;border-left: 1px solid gray;box-sizing: border-box;top: 0;bottom: 0;left: 50%;z-index: 0;}#sk-container-id-1 div.sk-serial {display: flex;flex-direction: column;align-items: center;background-color: white;padding-right: 0.2em;padding-left: 0.2em;position: relative;}#sk-container-id-1 div.sk-item {position: relative;z-index: 1;}#sk-container-id-1 div.sk-parallel {display: flex;align-items: stretch;justify-content: center;background-color: white;position: relative;}#sk-container-id-1 div.sk-item::before, #sk-container-id-1 div.sk-parallel-item::before {content: \"\";position: absolute;border-left: 1px solid gray;box-sizing: border-box;top: 0;bottom: 0;left: 50%;z-index: -1;}#sk-container-id-1 div.sk-parallel-item {display: flex;flex-direction: column;z-index: 1;position: relative;background-color: white;}#sk-container-id-1 div.sk-parallel-item:first-child::after {align-self: flex-end;width: 50%;}#sk-container-id-1 div.sk-parallel-item:last-child::after {align-self: flex-start;width: 50%;}#sk-container-id-1 div.sk-parallel-item:only-child::after {width: 0;}#sk-container-id-1 div.sk-dashed-wrapped {border: 1px dashed gray;margin: 0 0.4em 0.5em 0.4em;box-sizing: border-box;padding-bottom: 0.4em;background-color: white;}#sk-container-id-1 div.sk-label label {font-family: monospace;font-weight: bold;display: inline-block;line-height: 1.2em;}#sk-container-id-1 div.sk-label-container {text-align: center;}#sk-container-id-1 div.sk-container {/* jupyter's `normalize.less` sets `[hidden] { display: none; }` but bootstrap.min.css set `[hidden] { display: none !important; }` so we also need the `!important` here to be able to override the default hidden behavior on the sphinx rendered scikit-learn.org. See: https://github.com/scikit-learn/scikit-learn/issues/21755 */display: inline-block !important;position: relative;}#sk-container-id-1 div.sk-text-repr-fallback {display: none;}</style><div id=\"sk-container-id-1\" class=\"sk-top-container\"><div class=\"sk-text-repr-fallback\"><pre>LogisticRegression(random_state=1, solver=&#x27;liblinear&#x27;)</pre><b>In a Jupyter environment, please rerun this cell to show the HTML representation or trust the notebook. <br />On GitHub, the HTML representation is unable to render, please try loading this page with nbviewer.org.</b></div><div class=\"sk-container\" hidden><div class=\"sk-item\"><div class=\"sk-estimator sk-toggleable\"><input class=\"sk-toggleable__control sk-hidden--visually\" id=\"sk-estimator-id-1\" type=\"checkbox\" checked><label for=\"sk-estimator-id-1\" class=\"sk-toggleable__label sk-toggleable__label-arrow\">LogisticRegression</label><div class=\"sk-toggleable__content\"><pre>LogisticRegression(random_state=1, solver=&#x27;liblinear&#x27;)</pre></div></div></div></div></div>"
            ]
          },
          "metadata": {},
          "execution_count": 49
        }
      ]
    },
    {
      "cell_type": "markdown",
      "source": [
        "## One Hot Encoding"
      ],
      "metadata": {
        "id": "QISEYFVVgByC"
      }
    },
    {
      "cell_type": "code",
      "source": [
        "val_dict = df_val[categorical + numerical].to_dict(orient='records')\n",
        "\n",
        "X_val = dv.transform(val_dict)\n",
        "\n",
        "y_pred = model.predict_proba(X_val)"
      ],
      "metadata": {
        "id": "DhDhKAEkgGEg"
      },
      "execution_count": null,
      "outputs": []
    },
    {
      "cell_type": "code",
      "source": [
        "y_pred = model.predict_proba(X_val)[:, 1]\n",
        "\n",
        "y_pred >= 0.5"
      ],
      "metadata": {
        "colab": {
          "base_uri": "https://localhost:8080/"
        },
        "id": "yxRH_kkQgUhZ",
        "outputId": "8dfc9971-940d-4394-df64-6959d65e810b"
      },
      "execution_count": null,
      "outputs": [
        {
          "output_type": "execute_result",
          "data": {
            "text/plain": [
              "array([ True, False, False,  True, False, False, False,  True, False,\n",
              "       False,  True,  True, False,  True,  True, False,  True,  True,\n",
              "        True, False,  True,  True,  True,  True, False, False, False,\n",
              "       False, False,  True,  True, False, False,  True, False,  True,\n",
              "       False, False,  True, False,  True,  True,  True,  True,  True,\n",
              "       False, False,  True,  True,  True, False, False,  True,  True,\n",
              "        True, False,  True,  True,  True,  True, False,  True,  True,\n",
              "        True, False, False, False, False, False, False, False, False,\n",
              "        True,  True,  True, False,  True,  True, False, False,  True,\n",
              "       False, False, False, False,  True, False, False, False,  True,\n",
              "        True, False, False,  True,  True,  True, False, False, False,\n",
              "       False,  True, False,  True,  True, False,  True, False, False,\n",
              "       False, False,  True,  True, False, False, False, False,  True,\n",
              "        True, False, False,  True,  True, False,  True,  True, False,\n",
              "       False, False, False, False, False, False, False, False,  True,\n",
              "       False,  True,  True,  True, False,  True,  True,  True, False,\n",
              "        True, False, False,  True, False, False, False,  True,  True,\n",
              "        True,  True,  True,  True, False,  True,  True, False,  True,\n",
              "       False, False,  True,  True,  True, False,  True, False, False,\n",
              "       False,  True,  True, False,  True,  True, False, False,  True,\n",
              "       False, False,  True, False,  True,  True,  True,  True,  True,\n",
              "        True,  True, False, False, False,  True, False, False, False,\n",
              "       False, False,  True, False, False,  True,  True,  True,  True,\n",
              "        True, False,  True, False, False, False,  True,  True,  True,\n",
              "        True,  True,  True,  True, False,  True, False,  True,  True,\n",
              "        True, False, False,  True, False, False, False, False,  True,\n",
              "       False,  True,  True, False, False, False,  True,  True, False,\n",
              "       False, False,  True, False,  True, False, False,  True, False,\n",
              "       False,  True,  True, False,  True,  True,  True,  True, False,\n",
              "       False,  True, False, False,  True,  True,  True, False, False,\n",
              "        True,  True, False, False, False,  True, False, False,  True,\n",
              "        True, False, False,  True,  True, False, False, False,  True,\n",
              "        True,  True, False, False,  True,  True, False, False, False,\n",
              "       False, False,  True,  True,  True, False, False,  True,  True,\n",
              "       False,  True, False, False, False,  True, False, False, False,\n",
              "       False,  True, False,  True,  True,  True,  True,  True,  True,\n",
              "       False,  True,  True, False,  True,  True, False, False,  True,\n",
              "       False, False,  True, False,  True,  True,  True, False,  True,\n",
              "        True,  True, False, False, False,  True, False,  True,  True,\n",
              "        True,  True, False, False,  True,  True, False, False,  True,\n",
              "        True,  True, False, False, False, False,  True,  True, False,\n",
              "        True,  True, False,  True,  True, False, False,  True, False,\n",
              "       False, False,  True,  True, False,  True, False,  True, False,\n",
              "       False, False,  True, False,  True, False,  True, False, False,\n",
              "        True,  True,  True,  True, False,  True,  True, False,  True,\n",
              "        True, False,  True,  True, False, False,  True, False,  True,\n",
              "        True,  True,  True,  True,  True, False,  True, False,  True,\n",
              "       False, False, False, False, False, False, False, False, False,\n",
              "       False,  True, False, False, False,  True, False, False,  True,\n",
              "       False, False, False,  True, False,  True,  True,  True,  True,\n",
              "       False, False,  True,  True, False,  True, False, False, False,\n",
              "       False,  True, False,  True, False,  True, False,  True,  True,\n",
              "        True,  True, False, False, False,  True, False,  True, False,\n",
              "       False,  True,  True,  True, False,  True,  True,  True,  True,\n",
              "        True,  True, False,  True, False,  True, False,  True,  True,\n",
              "        True,  True, False,  True,  True, False, False, False,  True,\n",
              "        True, False, False, False,  True,  True, False,  True,  True,\n",
              "        True,  True, False, False,  True, False, False, False,  True,\n",
              "        True, False,  True, False,  True, False, False,  True,  True,\n",
              "        True,  True, False,  True,  True,  True, False, False,  True,\n",
              "       False, False,  True,  True, False, False,  True, False, False,\n",
              "        True, False, False,  True,  True,  True, False,  True, False,\n",
              "        True,  True,  True,  True,  True, False,  True, False,  True,\n",
              "        True,  True,  True, False,  True, False,  True,  True,  True,\n",
              "       False,  True, False, False,  True,  True,  True,  True,  True,\n",
              "       False, False,  True,  True,  True, False,  True, False, False,\n",
              "        True,  True,  True,  True,  True,  True,  True, False, False,\n",
              "       False, False,  True, False,  True, False,  True,  True, False,\n",
              "        True,  True, False, False, False, False, False,  True,  True,\n",
              "        True,  True,  True, False, False,  True,  True,  True, False,\n",
              "       False,  True,  True, False,  True,  True,  True,  True, False,\n",
              "        True, False, False,  True,  True,  True, False,  True,  True,\n",
              "        True,  True, False, False,  True, False, False,  True,  True,\n",
              "        True,  True,  True, False,  True, False, False,  True,  True,\n",
              "        True,  True,  True, False,  True,  True, False,  True,  True,\n",
              "        True,  True, False,  True, False,  True,  True, False,  True,\n",
              "        True,  True, False, False,  True,  True,  True, False,  True,\n",
              "        True,  True,  True, False, False,  True, False,  True, False,\n",
              "       False,  True, False,  True,  True,  True, False,  True,  True,\n",
              "        True,  True,  True,  True, False, False,  True, False, False,\n",
              "       False,  True, False,  True,  True, False,  True, False,  True,\n",
              "        True, False,  True,  True, False, False, False,  True,  True,\n",
              "       False,  True,  True, False,  True, False,  True,  True,  True,\n",
              "       False,  True,  True, False,  True, False, False, False,  True,\n",
              "       False, False, False,  True,  True,  True,  True,  True, False,\n",
              "        True, False,  True,  True,  True, False,  True, False, False,\n",
              "       False,  True, False,  True, False,  True,  True,  True, False,\n",
              "        True, False,  True, False, False,  True,  True, False,  True,\n",
              "       False, False, False, False,  True,  True,  True, False, False,\n",
              "       False,  True,  True,  True, False,  True,  True, False,  True,\n",
              "       False,  True,  True, False, False,  True, False, False, False,\n",
              "        True,  True,  True,  True,  True, False,  True, False,  True,\n",
              "       False, False,  True,  True, False,  True,  True,  True,  True,\n",
              "        True,  True,  True,  True,  True, False,  True,  True, False,\n",
              "        True, False, False, False,  True, False,  True,  True,  True,\n",
              "       False, False, False,  True,  True,  True,  True, False,  True,\n",
              "        True,  True, False, False,  True,  True, False,  True, False,\n",
              "       False, False,  True,  True, False, False,  True, False, False,\n",
              "        True,  True, False, False,  True,  True,  True, False, False,\n",
              "       False,  True,  True, False,  True,  True,  True, False,  True,\n",
              "       False, False, False,  True,  True, False, False, False, False,\n",
              "       False, False, False, False, False, False,  True, False, False])"
            ]
          },
          "metadata": {},
          "execution_count": 51
        }
      ]
    },
    {
      "cell_type": "markdown",
      "source": [
        "## Introducing Accuracy"
      ],
      "metadata": {
        "id": "GVym5pktgfQf"
      }
    },
    {
      "cell_type": "code",
      "source": [
        "converted = y_pred >= 0.5\n",
        "\n",
        "(y_val == converted).mean() #Quality Measure called ACCURACY"
      ],
      "metadata": {
        "colab": {
          "base_uri": "https://localhost:8080/"
        },
        "id": "u4V2oS6AgYiB",
        "outputId": "5ff7a754-378c-4e29-bb21-fb11fc5397da"
      },
      "execution_count": null,
      "outputs": [
        {
          "output_type": "execute_result",
          "data": {
            "text/plain": [
              "0.9531590413943355"
            ]
          },
          "metadata": {},
          "execution_count": 52
        }
      ]
    },
    {
      "cell_type": "code",
      "source": [
        "# Predict\n",
        "y_pred = model.predict(X_val)\n"
      ],
      "metadata": {
        "id": "tSeeENdcl9oW"
      },
      "execution_count": null,
      "outputs": []
    },
    {
      "cell_type": "code",
      "source": [
        "# Score\n",
        "accuracy_score(y_val, y_pred)"
      ],
      "metadata": {
        "colab": {
          "base_uri": "https://localhost:8080/"
        },
        "id": "BQD90Cv9ltlu",
        "outputId": "e87c51a3-7f07-46d7-e787-f95b528f416e"
      },
      "execution_count": null,
      "outputs": [
        {
          "output_type": "execute_result",
          "data": {
            "text/plain": [
              "0.9531590413943355"
            ]
          },
          "metadata": {},
          "execution_count": 71
        }
      ]
    },
    {
      "cell_type": "markdown",
      "source": [
        "## Confusion matrix"
      ],
      "metadata": {
        "id": "eZJnYOFnjJR1"
      }
    },
    {
      "cell_type": "code",
      "source": [
        "# Confusion Matrix\n",
        "cm = confusion_matrix(y_val, y_pred)\n",
        "disp = ConfusionMatrixDisplay(confusion_matrix=cm, display_labels=[\"Not Open\", \"Is Open\"])\n",
        "disp.plot(cmap=plt.cm.Blues)\n",
        "plt.title(\"Confusion Matrix\")\n",
        "plt.show()"
      ],
      "metadata": {
        "colab": {
          "base_uri": "https://localhost:8080/",
          "height": 472
        },
        "id": "RyCqoRnCjOKt",
        "outputId": "3bf9244e-b753-4268-c3ec-634702fe5fed"
      },
      "execution_count": null,
      "outputs": [
        {
          "output_type": "display_data",
          "data": {
            "text/plain": [
              "<Figure size 640x480 with 2 Axes>"
            ],
            "image/png": "[encoded data removed]"
          },
          "metadata": {}
        }
      ]
    },
    {
      "cell_type": "markdown",
      "source": [
        "## Model Interpretation"
      ],
      "metadata": {
        "id": "kXejiubQhJih"
      }
    },
    {
      "cell_type": "markdown",
      "source": [
        "## Coefficients"
      ],
      "metadata": {
        "id": "ML7Ia2zMhS1Q"
      }
    },
    {
      "cell_type": "code",
      "source": [
        "dict(zip(dv.get_feature_names_out(), model.coef_[0].round(3)))"
      ],
      "metadata": {
        "colab": {
          "base_uri": "https://localhost:8080/"
        },
        "id": "5c0tfPpfg36x",
        "outputId": "3db00db6-8d27-4881-dd91-d0d17f790aca"
      },
      "execution_count": null,
      "outputs": [
        {
          "output_type": "execute_result",
          "data": {
            "text/plain": [
              "{'a_free_copy_of_mastering_the_interview=no': -0.269,\n",
              " 'a_free_copy_of_mastering_the_interview=yes': 0.147,\n",
              " 'city=mumbai': -0.02,\n",
              " 'city=other_cities': -0.017,\n",
              " 'city=other_cities_of_maharashtra': 0.27,\n",
              " 'city=other_metro_cities': -0.292,\n",
              " 'city=select': 0.054,\n",
              " 'city=thane_&_outskirts': -0.288,\n",
              " 'city=tier_ii_cities': 0.173,\n",
              " 'country=australia': -0.027,\n",
              " 'country=bahrain': 0.079,\n",
              " 'country=bangladesh': 0.015,\n",
              " 'country=denmark': 0.005,\n",
              " 'country=france': 0.083,\n",
              " 'country=ghana': -0.005,\n",
              " 'country=hong_kong': 0.448,\n",
              " 'country=india': 0.345,\n",
              " 'country=indonesia': -0.023,\n",
              " 'country=kuwait': -0.023,\n",
              " 'country=malaysia': -0.002,\n",
              " 'country=netherlands': 0.007,\n",
              " 'country=nigeria': -0.033,\n",
              " 'country=oman': -0.029,\n",
              " 'country=qatar': -0.007,\n",
              " 'country=saudi_arabia': -0.451,\n",
              " 'country=singapore': -0.093,\n",
              " 'country=south_africa': -0.014,\n",
              " 'country=sweden': -0.003,\n",
              " 'country=tanzania': -0.008,\n",
              " 'country=uganda': -0.011,\n",
              " 'country=united_arab_emirates': -0.295,\n",
              " 'country=united_kingdom': -0.017,\n",
              " 'country=united_states': -0.064,\n",
              " 'digital_advertisement=no': -0.126,\n",
              " 'digital_advertisement=yes': 0.004,\n",
              " 'do_not_call=no': -0.137,\n",
              " 'do_not_call=yes': 0.015,\n",
              " 'do_not_email=no': 0.443,\n",
              " 'do_not_email=yes': -0.566,\n",
              " 'how_did_you_hear_about_x_education=advertisements': -0.125,\n",
              " 'how_did_you_hear_about_x_education=email': 0.007,\n",
              " 'how_did_you_hear_about_x_education=multiple_sources': -0.587,\n",
              " 'how_did_you_hear_about_x_education=online_search': 0.059,\n",
              " 'how_did_you_hear_about_x_education=other': 0.538,\n",
              " 'how_did_you_hear_about_x_education=select': -0.594,\n",
              " 'how_did_you_hear_about_x_education=sms': 0.461,\n",
              " 'how_did_you_hear_about_x_education=social_media': 0.066,\n",
              " 'how_did_you_hear_about_x_education=student_of_someschool': -0.32,\n",
              " 'how_did_you_hear_about_x_education=word_of_mouth': 0.371,\n",
              " 'last_activity=converted_to_lead': -0.028,\n",
              " 'last_activity=email_bounced': -0.334,\n",
              " 'last_activity=email_link_clicked': -0.305,\n",
              " 'last_activity=email_opened': 0.254,\n",
              " 'last_activity=form_submitted_on_website': -0.088,\n",
              " 'last_activity=had_a_phone_conversation': -0.153,\n",
              " 'last_activity=olark_chat_conversation': 0.289,\n",
              " 'last_activity=page_visited_on_website': -0.58,\n",
              " 'last_activity=sms_sent': 0.782,\n",
              " 'last_activity=unreachable': 0.051,\n",
              " 'last_activity=unsubscribed': 0.042,\n",
              " 'last_activity=view_in_browser_link_clicked': -0.037,\n",
              " 'last_activity=visited_booth_in_tradeshow': -0.015,\n",
              " 'last_notable_activity=email_bounced': 0.372,\n",
              " 'last_notable_activity=email_link_clicked': 0.293,\n",
              " 'last_notable_activity=email_opened': -0.45,\n",
              " 'last_notable_activity=had_a_phone_conversation': 0.251,\n",
              " 'last_notable_activity=modified': -0.934,\n",
              " 'last_notable_activity=olark_chat_conversation': -0.019,\n",
              " 'last_notable_activity=page_visited_on_website': 0.165,\n",
              " 'last_notable_activity=sms_sent': 0.07,\n",
              " 'last_notable_activity=unreachable': 0.169,\n",
              " 'last_notable_activity=unsubscribed': -0.003,\n",
              " 'last_notable_activity=view_in_browser_link_clicked': -0.037,\n",
              " 'lead_origin=api': -0.257,\n",
              " 'lead_origin=landing_page_submission': -0.116,\n",
              " 'lead_origin=lead_add_form': 0.25,\n",
              " 'lead_profile=dual_specialization_student': 0.074,\n",
              " 'lead_profile=lateral_student': 0.057,\n",
              " 'lead_profile=other_leads': 0.074,\n",
              " 'lead_profile=potential_lead': 0.145,\n",
              " 'lead_profile=select': -0.256,\n",
              " 'lead_profile=student_of_someschool': -0.216,\n",
              " 'lead_quality=high_in_relevance': 1.286,\n",
              " 'lead_quality=low_in_relevance': 0.321,\n",
              " 'lead_quality=might_be': -0.111,\n",
              " 'lead_quality=not_sure': 0.104,\n",
              " 'lead_quality=worst': -1.723,\n",
              " 'lead_source=direct_traffic': -0.347,\n",
              " 'lead_source=facebook': -0.189,\n",
              " 'lead_source=google': -0.212,\n",
              " 'lead_source=olark_chat': 0.132,\n",
              " 'lead_source=organic_search': 0.354,\n",
              " 'lead_source=reference': 0.25,\n",
              " 'lead_source=referral_sites': -0.098,\n",
              " 'lead_source=social_media': -0.004,\n",
              " 'lead_source=testone': -0.009,\n",
              " 'newspaper=no': -0.122,\n",
              " 'newspaper_article=no': -0.122,\n",
              " 'page_views_per_visit': -0.185,\n",
              " 'search=no': -0.184,\n",
              " 'search=yes': 0.061,\n",
              " 'specialization=banking,_investment_and_insurance': 0.691,\n",
              " 'specialization=business_administration': -0.041,\n",
              " 'specialization=e-business': 0.082,\n",
              " 'specialization=e-commerce': 0.36,\n",
              " 'specialization=finance_management': 0.126,\n",
              " 'specialization=healthcare_management': 0.068,\n",
              " 'specialization=hospitality_management': -0.379,\n",
              " 'specialization=human_resource_management': -0.274,\n",
              " 'specialization=international_business': -0.194,\n",
              " 'specialization=it_projects_management': 0.737,\n",
              " 'specialization=marketing_management': -0.071,\n",
              " 'specialization=media_and_advertising': -0.529,\n",
              " 'specialization=operations_management': 0.351,\n",
              " 'specialization=retail_management': -0.455,\n",
              " 'specialization=rural_and_agribusiness': 0.27,\n",
              " 'specialization=select': -0.174,\n",
              " 'specialization=services_excellence': -0.131,\n",
              " 'specialization=supply_chain_management': -0.254,\n",
              " 'specialization=travel_and_tourism': -0.307,\n",
              " 'tags=already_a_student': -1.274,\n",
              " 'tags=busy': 0.993,\n",
              " 'tags=closed_by_horizzon': 2.792,\n",
              " 'tags=diploma_holder_(not_eligible)': -0.996,\n",
              " 'tags=graduation_in_progress': 0.019,\n",
              " 'tags=in_confusion_whether_part_time_or_dlp': 0.117,\n",
              " 'tags=in_touch_with_eins': 0.546,\n",
              " 'tags=interested__in_full_time_mba': -1.144,\n",
              " 'tags=interested_in_next_batch': 0.524,\n",
              " 'tags=interested_in_other_courses': -1.517,\n",
              " 'tags=invalid_number': -0.834,\n",
              " 'tags=lateral_student': 0.423,\n",
              " 'tags=lost_to_eins': 3.318,\n",
              " 'tags=lost_to_others': -0.031,\n",
              " 'tags=not_doing_further_education': -0.846,\n",
              " 'tags=number_not_provided': -0.685,\n",
              " 'tags=opp_hangup': -0.454,\n",
              " 'tags=ringing': -2.46,\n",
              " 'tags=still_thinking': -0.196,\n",
              " 'tags=switched_off': -1.779,\n",
              " 'tags=want_to_take_admission_but_has_financial_problems': 0.259,\n",
              " 'tags=will_revert_after_reading_the_email': 4.112,\n",
              " 'tags=wrong_number_given': -1.01,\n",
              " 'through_recommendations=no': -0.202,\n",
              " 'through_recommendations=yes': 0.08,\n",
              " 'total_time_spent_on_website': 0.002,\n",
              " 'totalvisits': 0.05,\n",
              " 'what_is_your_current_occupation=businessman': 0.019,\n",
              " 'what_is_your_current_occupation=housewife': 0.228,\n",
              " 'what_is_your_current_occupation=other': 0.1,\n",
              " 'what_is_your_current_occupation=student': -0.289,\n",
              " 'what_is_your_current_occupation=unemployed': -0.527,\n",
              " 'what_is_your_current_occupation=working_professional': 0.347,\n",
              " 'what_matters_most_to_you_in_choosing_a_course=better_career_prospects': -0.114,\n",
              " 'what_matters_most_to_you_in_choosing_a_course=other': -0.009}"
            ]
          },
          "metadata": {},
          "execution_count": 75
        }
      ]
    },
    {
      "cell_type": "markdown",
      "source": [
        "## Prepare a Small Subset to Break Down the Categoricals"
      ],
      "metadata": {
        "id": "AIxZbJXhh7EC"
      }
    },
    {
      "cell_type": "code",
      "source": [
        "small_subset = ['country', 'tags', 'total_time_spent_on_website']\n",
        "\n",
        "train_dict_small = df_train[small_subset].to_dict(orient='records')\n",
        "\n",
        "dv_small = DictVectorizer(sparse=False)\n",
        "\n",
        "dv_small.fit(train_dict_small)\n",
        "\n",
        "X_small_train = dv_small.transform(train_dict_small)\n",
        "\n",
        "dv_small.get_feature_names_out()"
      ],
      "metadata": {
        "colab": {
          "base_uri": "https://localhost:8080/"
        },
        "id": "ZpSv1wmLhdC8",
        "outputId": "97a9cce0-d284-401d-80ba-2bd169e8fa9b"
      },
      "execution_count": null,
      "outputs": [
        {
          "output_type": "execute_result",
          "data": {
            "text/plain": [
              "array(['country=australia', 'country=bahrain', 'country=bangladesh',\n",
              "       'country=denmark', 'country=france', 'country=ghana',\n",
              "       'country=hong_kong', 'country=india', 'country=indonesia',\n",
              "       'country=kuwait', 'country=malaysia', 'country=netherlands',\n",
              "       'country=nigeria', 'country=oman', 'country=qatar',\n",
              "       'country=saudi_arabia', 'country=singapore',\n",
              "       'country=south_africa', 'country=sweden', 'country=tanzania',\n",
              "       'country=uganda', 'country=united_arab_emirates',\n",
              "       'country=united_kingdom', 'country=united_states',\n",
              "       'tags=already_a_student', 'tags=busy', 'tags=closed_by_horizzon',\n",
              "       'tags=diploma_holder_(not_eligible)',\n",
              "       'tags=graduation_in_progress',\n",
              "       'tags=in_confusion_whether_part_time_or_dlp',\n",
              "       'tags=in_touch_with_eins', 'tags=interested__in_full_time_mba',\n",
              "       'tags=interested_in_next_batch',\n",
              "       'tags=interested_in_other_courses', 'tags=invalid_number',\n",
              "       'tags=lateral_student', 'tags=lost_to_eins', 'tags=lost_to_others',\n",
              "       'tags=not_doing_further_education', 'tags=number_not_provided',\n",
              "       'tags=opp_hangup', 'tags=ringing', 'tags=still_thinking',\n",
              "       'tags=switched_off',\n",
              "       'tags=want_to_take_admission_but_has_financial_problems',\n",
              "       'tags=will_revert_after_reading_the_email',\n",
              "       'tags=wrong_number_given', 'total_time_spent_on_website'],\n",
              "      dtype=object)"
            ]
          },
          "metadata": {},
          "execution_count": 76
        }
      ]
    },
    {
      "cell_type": "markdown",
      "source": [
        "## Train the Small Subset"
      ],
      "metadata": {
        "id": "RoE0XaMNiSWr"
      }
    },
    {
      "cell_type": "code",
      "source": [
        "model_small = LogisticRegression(solver='liblinear', random_state=1)\n",
        "\n",
        "model_small.fit(X_small_train, y_train)\n",
        "\n",
        "model_small.intercept_[0] #Check the bias\n",
        "\n",
        "dict(zip(dv_small.get_feature_names_out(), model_small.coef_[0].round(3))) #Check the other weights"
      ],
      "metadata": {
        "colab": {
          "base_uri": "https://localhost:8080/"
        },
        "id": "IJM9kEmViTsk",
        "outputId": "3348d10a-df89-411f-9714-d6d3142cbf76"
      },
      "execution_count": null,
      "outputs": [
        {
          "output_type": "execute_result",
          "data": {
            "text/plain": [
              "{'country=australia': -0.11,\n",
              " 'country=bahrain': 0.034,\n",
              " 'country=bangladesh': 0.003,\n",
              " 'country=denmark': 0.004,\n",
              " 'country=france': 0.011,\n",
              " 'country=ghana': -0.018,\n",
              " 'country=hong_kong': 0.063,\n",
              " 'country=india': -0.442,\n",
              " 'country=indonesia': -0.034,\n",
              " 'country=kuwait': -0.062,\n",
              " 'country=malaysia': -0.015,\n",
              " 'country=netherlands': 0.003,\n",
              " 'country=nigeria': -0.045,\n",
              " 'country=oman': -0.026,\n",
              " 'country=qatar': -0.015,\n",
              " 'country=saudi_arabia': -0.243,\n",
              " 'country=singapore': -0.091,\n",
              " 'country=south_africa': -0.077,\n",
              " 'country=sweden': -0.019,\n",
              " 'country=tanzania': -0.013,\n",
              " 'country=uganda': -0.014,\n",
              " 'country=united_arab_emirates': -0.231,\n",
              " 'country=united_kingdom': -0.034,\n",
              " 'country=united_states': -0.195,\n",
              " 'tags=already_a_student': -2.209,\n",
              " 'tags=busy': 1.424,\n",
              " 'tags=closed_by_horizzon': 3.183,\n",
              " 'tags=diploma_holder_(not_eligible)': -0.616,\n",
              " 'tags=graduation_in_progress': -0.307,\n",
              " 'tags=in_confusion_whether_part_time_or_dlp': 0.006,\n",
              " 'tags=in_touch_with_eins': 0.171,\n",
              " 'tags=interested__in_full_time_mba': -0.996,\n",
              " 'tags=interested_in_next_batch': 0.15,\n",
              " 'tags=interested_in_other_courses': -1.793,\n",
              " 'tags=invalid_number': -0.624,\n",
              " 'tags=lateral_student': 0.091,\n",
              " 'tags=lost_to_eins': 2.079,\n",
              " 'tags=lost_to_others': -0.023,\n",
              " 'tags=not_doing_further_education': -1.454,\n",
              " 'tags=number_not_provided': -0.489,\n",
              " 'tags=opp_hangup': -0.261,\n",
              " 'tags=ringing': -2.276,\n",
              " 'tags=still_thinking': -0.056,\n",
              " 'tags=switched_off': -1.504,\n",
              " 'tags=want_to_take_admission_but_has_financial_problems': 0.137,\n",
              " 'tags=will_revert_after_reading_the_email': 4.322,\n",
              " 'tags=wrong_number_given': -0.525,\n",
              " 'total_time_spent_on_website': 0.001}"
            ]
          },
          "metadata": {},
          "execution_count": 77
        }
      ]
    },
    {
      "cell_type": "markdown",
      "source": [
        "## Understanding The Importance of Categories"
      ],
      "metadata": {
        "id": "Y3QqJCe7irUy"
      }
    },
    {
      "cell_type": "code",
      "source": [
        "dict(zip(dv_small.get_feature_names_out(), model_small.coef_[0].round(3)))"
      ],
      "metadata": {
        "colab": {
          "base_uri": "https://localhost:8080/"
        },
        "id": "YA55P88fitaj",
        "outputId": "fcbcb6a4-beef-473e-a94b-aa5ba0431920"
      },
      "execution_count": null,
      "outputs": [
        {
          "output_type": "execute_result",
          "data": {
            "text/plain": [
              "{'country=australia': -0.11,\n",
              " 'country=bahrain': 0.034,\n",
              " 'country=bangladesh': 0.003,\n",
              " 'country=denmark': 0.004,\n",
              " 'country=france': 0.011,\n",
              " 'country=ghana': -0.018,\n",
              " 'country=hong_kong': 0.063,\n",
              " 'country=india': -0.442,\n",
              " 'country=indonesia': -0.034,\n",
              " 'country=kuwait': -0.062,\n",
              " 'country=malaysia': -0.015,\n",
              " 'country=netherlands': 0.003,\n",
              " 'country=nigeria': -0.045,\n",
              " 'country=oman': -0.026,\n",
              " 'country=qatar': -0.015,\n",
              " 'country=saudi_arabia': -0.243,\n",
              " 'country=singapore': -0.091,\n",
              " 'country=south_africa': -0.077,\n",
              " 'country=sweden': -0.019,\n",
              " 'country=tanzania': -0.013,\n",
              " 'country=uganda': -0.014,\n",
              " 'country=united_arab_emirates': -0.231,\n",
              " 'country=united_kingdom': -0.034,\n",
              " 'country=united_states': -0.195,\n",
              " 'tags=already_a_student': -2.209,\n",
              " 'tags=busy': 1.424,\n",
              " 'tags=closed_by_horizzon': 3.183,\n",
              " 'tags=diploma_holder_(not_eligible)': -0.616,\n",
              " 'tags=graduation_in_progress': -0.307,\n",
              " 'tags=in_confusion_whether_part_time_or_dlp': 0.006,\n",
              " 'tags=in_touch_with_eins': 0.171,\n",
              " 'tags=interested__in_full_time_mba': -0.996,\n",
              " 'tags=interested_in_next_batch': 0.15,\n",
              " 'tags=interested_in_other_courses': -1.793,\n",
              " 'tags=invalid_number': -0.624,\n",
              " 'tags=lateral_student': 0.091,\n",
              " 'tags=lost_to_eins': 2.079,\n",
              " 'tags=lost_to_others': -0.023,\n",
              " 'tags=not_doing_further_education': -1.454,\n",
              " 'tags=number_not_provided': -0.489,\n",
              " 'tags=opp_hangup': -0.261,\n",
              " 'tags=ringing': -2.276,\n",
              " 'tags=still_thinking': -0.056,\n",
              " 'tags=switched_off': -1.504,\n",
              " 'tags=want_to_take_admission_but_has_financial_problems': 0.137,\n",
              " 'tags=will_revert_after_reading_the_email': 4.322,\n",
              " 'tags=wrong_number_given': -0.525,\n",
              " 'total_time_spent_on_website': 0.001}"
            ]
          },
          "metadata": {},
          "execution_count": 78
        }
      ]
    }
  ]
}