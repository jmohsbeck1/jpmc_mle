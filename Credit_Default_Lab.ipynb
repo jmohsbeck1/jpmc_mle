{
  "nbformat": 4,
  "nbformat_minor": 0,
  "metadata": {
    "colab": {
      "provenance": [],
      "include_colab_link": true
    },
    "kernelspec": {
      "name": "python3",
      "display_name": "Python 3"
    },
    "language_info": {
      "name": "python"
    }
  },
  "cells": [
    {
      "cell_type": "markdown",
      "metadata": {
        "id": "view-in-github",
        "colab_type": "text"
      },
      "source": [
        "<a href=\"https://colab.research.google.com/github/jmohsbeck1/jpmc_mle/blob/machine_learning_bootcamp/Credit_Default_Lab.ipynb\" target=\"_parent\"><img src=\"https://colab.research.google.com/assets/colab-badge.svg\" alt=\"Open In Colab\"/></a>"
      ]
    },
    {
      "cell_type": "markdown",
      "source": [
        "# Credit Default ML model lab\n",
        "# Machine learning bootcamp"
      ],
      "metadata": {
        "id": "eotcgjqChS4m"
      }
    },
    {
      "cell_type": "code",
      "source": [
        "import pandas as pd\n",
        "import numpy as np\n",
        "import math\n",
        "\n",
        "import seaborn as sns\n",
        "import matplotlib.pyplot as plt\n",
        "%matplotlib inline\n",
        "\n",
        "from IPython.display import display\n",
        "\n",
        "from sklearn.model_selection import train_test_split\n",
        "from sklearn.feature_extraction import DictVectorizer\n",
        "from sklearn.linear_model import LogisticRegression\n",
        "\n",
        "from sklearn.metrics import mutual_info_score\n",
        "from sklearn.metrics import precision_score, recall_score, f1_score, accuracy_score\n",
        "from sklearn.metrics import precision_recall_curve\n",
        "from sklearn.metrics import PrecisionRecallDisplay\n",
        "from sklearn.metrics import roc_auc_score\n",
        "from sklearn.metrics import confusion_matrix, roc_curve, auc, ConfusionMatrixDisplay\n",
        "from sklearn.metrics import roc_auc_score\n",
        "from sklearn.metrics import accuracy_score"
      ],
      "metadata": {
        "id": "4NoSodRIY8Jh"
      },
      "execution_count": null,
      "outputs": []
    },
    {
      "cell_type": "code",
      "source": [
        "!pip install kaggle\n",
        "\n",
        "import os\n",
        "\n",
        "os.environ['KAGGLE_USERNAME'] = 'johnmohsbeck'\n",
        "os.environ['KAGGLE_KEY'] = 'd1f230cf1aba75ec936a726ca195c7a1'"
      ],
      "metadata": {
        "id": "b6iar4rUY7NM",
        "outputId": "926a1f53-de0a-4249-907c-8ed387fecfb7",
        "colab": {
          "base_uri": "https://localhost:8080/"
        }
      },
      "execution_count": null,
      "outputs": [
        {
          "output_type": "stream",
          "name": "stdout",
          "text": [
            "Looking in indexes: https://pypi.org/simple, https://us-python.pkg.dev/colab-wheels/public/simple/\n",
            "Requirement already satisfied: kaggle in /usr/local/lib/python3.10/dist-packages (1.5.13)\n",
            "Requirement already satisfied: six>=1.10 in /usr/local/lib/python3.10/dist-packages (from kaggle) (1.16.0)\n",
            "Requirement already satisfied: certifi in /usr/local/lib/python3.10/dist-packages (from kaggle) (2022.12.7)\n",
            "Requirement already satisfied: python-dateutil in /usr/local/lib/python3.10/dist-packages (from kaggle) (2.8.2)\n",
            "Requirement already satisfied: requests in /usr/local/lib/python3.10/dist-packages (from kaggle) (2.27.1)\n",
            "Requirement already satisfied: tqdm in /usr/local/lib/python3.10/dist-packages (from kaggle) (4.65.0)\n",
            "Requirement already satisfied: python-slugify in /usr/local/lib/python3.10/dist-packages (from kaggle) (8.0.1)\n",
            "Requirement already satisfied: urllib3 in /usr/local/lib/python3.10/dist-packages (from kaggle) (1.26.15)\n",
            "Requirement already satisfied: text-unidecode>=1.3 in /usr/local/lib/python3.10/dist-packages (from python-slugify->kaggle) (1.3)\n",
            "Requirement already satisfied: charset-normalizer~=2.0.0 in /usr/local/lib/python3.10/dist-packages (from requests->kaggle) (2.0.12)\n",
            "Requirement already satisfied: idna<4,>=2.5 in /usr/local/lib/python3.10/dist-packages (from requests->kaggle) (3.4)\n"
          ]
        }
      ]
    },
    {
      "cell_type": "code",
      "source": [
        "import kaggle\n",
        "\n",
        "kaggle.api.dataset_download_files('pratjain/credit-card-default', path='./data', unzip=True)"
      ],
      "metadata": {
        "id": "2wTcuWiRZNmh"
      },
      "execution_count": null,
      "outputs": []
    },
    {
      "cell_type": "markdown",
      "source": [
        "## Read the Dataset\n",
        "\n",
        "https://www.kaggle.com/datasets/pratjain/credit-card-default\n"
      ],
      "metadata": {
        "id": "sPKccRArci28"
      }
    },
    {
      "cell_type": "code",
      "source": [
        "df = pd.read_csv('./data/credit_card_default_TRAIN.csv')"
      ],
      "metadata": {
        "id": "FeTdUeYkZres"
      },
      "execution_count": null,
      "outputs": []
    },
    {
      "cell_type": "code",
      "source": [
        "df.shape"
      ],
      "metadata": {
        "colab": {
          "base_uri": "https://localhost:8080/"
        },
        "id": "sytSvb3Havde",
        "outputId": "1e235ffd-625d-4dc0-d2c0-e78dfda5fb1a"
      },
      "execution_count": null,
      "outputs": [
        {
          "output_type": "execute_result",
          "data": {
            "text/plain": [
              "(22501, 25)"
            ]
          },
          "metadata": {},
          "execution_count": 5
        }
      ]
    },
    {
      "cell_type": "code",
      "source": [
        "df.head()"
      ],
      "metadata": {
        "colab": {
          "base_uri": "https://localhost:8080/",
          "height": 352
        },
        "id": "pNjFOWRThtx0",
        "outputId": "4ec20760-77e4-47a9-86ee-528975743cc1"
      },
      "execution_count": null,
      "outputs": [
        {
          "output_type": "execute_result",
          "data": {
            "text/plain": [
              "  Variable         X1   X2         X3        X4   X5     X6     X7     X8  \\\n",
              "0       ID  LIMIT_BAL  SEX  EDUCATION  MARRIAGE  AGE  PAY_0  PAY_2  PAY_3   \n",
              "1        1      20000    2          2         1   24      2      2     -1   \n",
              "2        2     120000    2          2         2   26     -1      2      0   \n",
              "3        3      90000    2          2         2   34      0      0      0   \n",
              "4        4      50000    2          2         1   37      0      0      0   \n",
              "\n",
              "      X9  ...        X15        X16        X17       X18       X19       X20  \\\n",
              "0  PAY_4  ...  BILL_AMT4  BILL_AMT5  BILL_AMT6  PAY_AMT1  PAY_AMT2  PAY_AMT3   \n",
              "1     -1  ...          0          0          0         0       689         0   \n",
              "2      0  ...       3272       3455       3261         0      1000      1000   \n",
              "3      0  ...      14331      14948      15549      1518      1500      1000   \n",
              "4      0  ...      28314      28959      29547      2000      2019      1200   \n",
              "\n",
              "        X21       X22       X23                           Y  \n",
              "0  PAY_AMT4  PAY_AMT5  PAY_AMT6  default payment next month  \n",
              "1         0         0         0                           1  \n",
              "2      1000         0      2000                           1  \n",
              "3      1000      1000      5000                           0  \n",
              "4      1100      1069      1000                           0  \n",
              "\n",
              "[5 rows x 25 columns]"
            ],
            "text/html": [
              "\n",
              "  <div id=\"df-db35abef-293a-4986-a21f-fafa08006839\">\n",
              "    <div class=\"colab-df-container\">\n",
              "      <div>\n",
              "<style scoped>\n",
              "    .dataframe tbody tr th:only-of-type {\n",
              "        vertical-align: middle;\n",
              "    }\n",
              "\n",
              "    .dataframe tbody tr th {\n",
              "        vertical-align: top;\n",
              "    }\n",
              "\n",
              "    .dataframe thead th {\n",
              "        text-align: right;\n",
              "    }\n",
              "</style>\n",
              "<table border=\"1\" class=\"dataframe\">\n",
              "  <thead>\n",
              "    <tr style=\"text-align: right;\">\n",
              "      <th></th>\n",
              "      <th>Variable</th>\n",
              "      <th>X1</th>\n",
              "      <th>X2</th>\n",
              "      <th>X3</th>\n",
              "      <th>X4</th>\n",
              "      <th>X5</th>\n",
              "      <th>X6</th>\n",
              "      <th>X7</th>\n",
              "      <th>X8</th>\n",
              "      <th>X9</th>\n",
              "      <th>...</th>\n",
              "      <th>X15</th>\n",
              "      <th>X16</th>\n",
              "      <th>X17</th>\n",
              "      <th>X18</th>\n",
              "      <th>X19</th>\n",
              "      <th>X20</th>\n",
              "      <th>X21</th>\n",
              "      <th>X22</th>\n",
              "      <th>X23</th>\n",
              "      <th>Y</th>\n",
              "    </tr>\n",
              "  </thead>\n",
              "  <tbody>\n",
              "    <tr>\n",
              "      <th>0</th>\n",
              "      <td>ID</td>\n",
              "      <td>LIMIT_BAL</td>\n",
              "      <td>SEX</td>\n",
              "      <td>EDUCATION</td>\n",
              "      <td>MARRIAGE</td>\n",
              "      <td>AGE</td>\n",
              "      <td>PAY_0</td>\n",
              "      <td>PAY_2</td>\n",
              "      <td>PAY_3</td>\n",
              "      <td>PAY_4</td>\n",
              "      <td>...</td>\n",
              "      <td>BILL_AMT4</td>\n",
              "      <td>BILL_AMT5</td>\n",
              "      <td>BILL_AMT6</td>\n",
              "      <td>PAY_AMT1</td>\n",
              "      <td>PAY_AMT2</td>\n",
              "      <td>PAY_AMT3</td>\n",
              "      <td>PAY_AMT4</td>\n",
              "      <td>PAY_AMT5</td>\n",
              "      <td>PAY_AMT6</td>\n",
              "      <td>default payment next month</td>\n",
              "    </tr>\n",
              "    <tr>\n",
              "      <th>1</th>\n",
              "      <td>1</td>\n",
              "      <td>20000</td>\n",
              "      <td>2</td>\n",
              "      <td>2</td>\n",
              "      <td>1</td>\n",
              "      <td>24</td>\n",
              "      <td>2</td>\n",
              "      <td>2</td>\n",
              "      <td>-1</td>\n",
              "      <td>-1</td>\n",
              "      <td>...</td>\n",
              "      <td>0</td>\n",
              "      <td>0</td>\n",
              "      <td>0</td>\n",
              "      <td>0</td>\n",
              "      <td>689</td>\n",
              "      <td>0</td>\n",
              "      <td>0</td>\n",
              "      <td>0</td>\n",
              "      <td>0</td>\n",
              "      <td>1</td>\n",
              "    </tr>\n",
              "    <tr>\n",
              "      <th>2</th>\n",
              "      <td>2</td>\n",
              "      <td>120000</td>\n",
              "      <td>2</td>\n",
              "      <td>2</td>\n",
              "      <td>2</td>\n",
              "      <td>26</td>\n",
              "      <td>-1</td>\n",
              "      <td>2</td>\n",
              "      <td>0</td>\n",
              "      <td>0</td>\n",
              "      <td>...</td>\n",
              "      <td>3272</td>\n",
              "      <td>3455</td>\n",
              "      <td>3261</td>\n",
              "      <td>0</td>\n",
              "      <td>1000</td>\n",
              "      <td>1000</td>\n",
              "      <td>1000</td>\n",
              "      <td>0</td>\n",
              "      <td>2000</td>\n",
              "      <td>1</td>\n",
              "    </tr>\n",
              "    <tr>\n",
              "      <th>3</th>\n",
              "      <td>3</td>\n",
              "      <td>90000</td>\n",
              "      <td>2</td>\n",
              "      <td>2</td>\n",
              "      <td>2</td>\n",
              "      <td>34</td>\n",
              "      <td>0</td>\n",
              "      <td>0</td>\n",
              "      <td>0</td>\n",
              "      <td>0</td>\n",
              "      <td>...</td>\n",
              "      <td>14331</td>\n",
              "      <td>14948</td>\n",
              "      <td>15549</td>\n",
              "      <td>1518</td>\n",
              "      <td>1500</td>\n",
              "      <td>1000</td>\n",
              "      <td>1000</td>\n",
              "      <td>1000</td>\n",
              "      <td>5000</td>\n",
              "      <td>0</td>\n",
              "    </tr>\n",
              "    <tr>\n",
              "      <th>4</th>\n",
              "      <td>4</td>\n",
              "      <td>50000</td>\n",
              "      <td>2</td>\n",
              "      <td>2</td>\n",
              "      <td>1</td>\n",
              "      <td>37</td>\n",
              "      <td>0</td>\n",
              "      <td>0</td>\n",
              "      <td>0</td>\n",
              "      <td>0</td>\n",
              "      <td>...</td>\n",
              "      <td>28314</td>\n",
              "      <td>28959</td>\n",
              "      <td>29547</td>\n",
              "      <td>2000</td>\n",
              "      <td>2019</td>\n",
              "      <td>1200</td>\n",
              "      <td>1100</td>\n",
              "      <td>1069</td>\n",
              "      <td>1000</td>\n",
              "      <td>0</td>\n",
              "    </tr>\n",
              "  </tbody>\n",
              "</table>\n",
              "<p>5 rows × 25 columns</p>\n",
              "</div>\n",
              "      <button class=\"colab-df-convert\" onclick=\"convertToInteractive('df-db35abef-293a-4986-a21f-fafa08006839')\"\n",
              "              title=\"Convert this dataframe to an interactive table.\"\n",
              "              style=\"display:none;\">\n",
              "        \n",
              "  <svg xmlns=\"http://www.w3.org/2000/svg\" height=\"24px\"viewBox=\"0 0 24 24\"\n",
              "       width=\"24px\">\n",
              "    <path d=\"M0 0h24v24H0V0z\" fill=\"none\"/>\n",
              "    <path d=\"M18.56 5.44l.94 2.06.94-2.06 2.06-.94-2.06-.94-.94-2.06-.94 2.06-2.06.94zm-11 1L8.5 8.5l.94-2.06 2.06-.94-2.06-.94L8.5 2.5l-.94 2.06-2.06.94zm10 10l.94 2.06.94-2.06 2.06-.94-2.06-.94-.94-2.06-.94 2.06-2.06.94z\"/><path d=\"M17.41 7.96l-1.37-1.37c-.4-.4-.92-.59-1.43-.59-.52 0-1.04.2-1.43.59L10.3 9.45l-7.72 7.72c-.78.78-.78 2.05 0 2.83L4 21.41c.39.39.9.59 1.41.59.51 0 1.02-.2 1.41-.59l7.78-7.78 2.81-2.81c.8-.78.8-2.07 0-2.86zM5.41 20L4 18.59l7.72-7.72 1.47 1.35L5.41 20z\"/>\n",
              "  </svg>\n",
              "      </button>\n",
              "      \n",
              "  <style>\n",
              "    .colab-df-container {\n",
              "      display:flex;\n",
              "      flex-wrap:wrap;\n",
              "      gap: 12px;\n",
              "    }\n",
              "\n",
              "    .colab-df-convert {\n",
              "      background-color: #E8F0FE;\n",
              "      border: none;\n",
              "      border-radius: 50%;\n",
              "      cursor: pointer;\n",
              "      display: none;\n",
              "      fill: #1967D2;\n",
              "      height: 32px;\n",
              "      padding: 0 0 0 0;\n",
              "      width: 32px;\n",
              "    }\n",
              "\n",
              "    .colab-df-convert:hover {\n",
              "      background-color: #E2EBFA;\n",
              "      box-shadow: 0px 1px 2px rgba(60, 64, 67, 0.3), 0px 1px 3px 1px rgba(60, 64, 67, 0.15);\n",
              "      fill: #174EA6;\n",
              "    }\n",
              "\n",
              "    [theme=dark] .colab-df-convert {\n",
              "      background-color: #3B4455;\n",
              "      fill: #D2E3FC;\n",
              "    }\n",
              "\n",
              "    [theme=dark] .colab-df-convert:hover {\n",
              "      background-color: #434B5C;\n",
              "      box-shadow: 0px 1px 3px 1px rgba(0, 0, 0, 0.15);\n",
              "      filter: drop-shadow(0px 1px 2px rgba(0, 0, 0, 0.3));\n",
              "      fill: #FFFFFF;\n",
              "    }\n",
              "  </style>\n",
              "\n",
              "      <script>\n",
              "        const buttonEl =\n",
              "          document.querySelector('#df-db35abef-293a-4986-a21f-fafa08006839 button.colab-df-convert');\n",
              "        buttonEl.style.display =\n",
              "          google.colab.kernel.accessAllowed ? 'block' : 'none';\n",
              "\n",
              "        async function convertToInteractive(key) {\n",
              "          const element = document.querySelector('#df-db35abef-293a-4986-a21f-fafa08006839');\n",
              "          const dataTable =\n",
              "            await google.colab.kernel.invokeFunction('convertToInteractive',\n",
              "                                                     [key], {});\n",
              "          if (!dataTable) return;\n",
              "\n",
              "          const docLinkHtml = 'Like what you see? Visit the ' +\n",
              "            '<a target=\"_blank\" href=https://colab.research.google.com/notebooks/data_table.ipynb>data table notebook</a>'\n",
              "            + ' to learn more about interactive tables.';\n",
              "          element.innerHTML = '';\n",
              "          dataTable['output_type'] = 'display_data';\n",
              "          await google.colab.output.renderOutput(dataTable, element);\n",
              "          const docLink = document.createElement('div');\n",
              "          docLink.innerHTML = docLinkHtml;\n",
              "          element.appendChild(docLink);\n",
              "        }\n",
              "      </script>\n",
              "    </div>\n",
              "  </div>\n",
              "  "
            ]
          },
          "metadata": {},
          "execution_count": 6
        }
      ]
    },
    {
      "cell_type": "code",
      "source": [
        "first_rec = df.iloc[0]\n",
        "print(first_rec)"
      ],
      "metadata": {
        "colab": {
          "base_uri": "https://localhost:8080/"
        },
        "id": "kOf_Z043lS6D",
        "outputId": "ff1ca1ea-3b01-492a-e7b8-8d9a41f243f8"
      },
      "execution_count": null,
      "outputs": [
        {
          "output_type": "stream",
          "name": "stdout",
          "text": [
            "Variable                            ID\n",
            "X1                           LIMIT_BAL\n",
            "X2                                 SEX\n",
            "X3                           EDUCATION\n",
            "X4                            MARRIAGE\n",
            "X5                                 AGE\n",
            "X6                               PAY_0\n",
            "X7                               PAY_2\n",
            "X8                               PAY_3\n",
            "X9                               PAY_4\n",
            "X10                              PAY_5\n",
            "X11                              PAY_6\n",
            "X12                          BILL_AMT1\n",
            "X13                          BILL_AMT2\n",
            "X14                          BILL_AMT3\n",
            "X15                          BILL_AMT4\n",
            "X16                          BILL_AMT5\n",
            "X17                          BILL_AMT6\n",
            "X18                           PAY_AMT1\n",
            "X19                           PAY_AMT2\n",
            "X20                           PAY_AMT3\n",
            "X21                           PAY_AMT4\n",
            "X22                           PAY_AMT5\n",
            "X23                           PAY_AMT6\n",
            "Y           default payment next month\n",
            "Name: 0, dtype: object\n"
          ]
        }
      ]
    },
    {
      "cell_type": "code",
      "source": [
        "cols = first_rec.to_list()"
      ],
      "metadata": {
        "id": "QBLd1ZMMlnJ9"
      },
      "execution_count": null,
      "outputs": []
    },
    {
      "cell_type": "code",
      "source": [
        "cols"
      ],
      "metadata": {
        "colab": {
          "base_uri": "https://localhost:8080/"
        },
        "id": "PuPE9ob0l0y6",
        "outputId": "9dbab937-0e1e-4ea8-c466-b6d628cfee84"
      },
      "execution_count": null,
      "outputs": [
        {
          "output_type": "execute_result",
          "data": {
            "text/plain": [
              "['ID',\n",
              " 'LIMIT_BAL',\n",
              " 'SEX',\n",
              " 'EDUCATION',\n",
              " 'MARRIAGE',\n",
              " 'AGE',\n",
              " 'PAY_0',\n",
              " 'PAY_2',\n",
              " 'PAY_3',\n",
              " 'PAY_4',\n",
              " 'PAY_5',\n",
              " 'PAY_6',\n",
              " 'BILL_AMT1',\n",
              " 'BILL_AMT2',\n",
              " 'BILL_AMT3',\n",
              " 'BILL_AMT4',\n",
              " 'BILL_AMT5',\n",
              " 'BILL_AMT6',\n",
              " 'PAY_AMT1',\n",
              " 'PAY_AMT2',\n",
              " 'PAY_AMT3',\n",
              " 'PAY_AMT4',\n",
              " 'PAY_AMT5',\n",
              " 'PAY_AMT6',\n",
              " 'default payment next month']"
            ]
          },
          "metadata": {},
          "execution_count": 9
        }
      ]
    },
    {
      "cell_type": "code",
      "source": [
        "df.columns = cols"
      ],
      "metadata": {
        "id": "POEi6bYcl38q"
      },
      "execution_count": null,
      "outputs": []
    },
    {
      "cell_type": "code",
      "source": [
        "df.head(1)"
      ],
      "metadata": {
        "colab": {
          "base_uri": "https://localhost:8080/",
          "height": 278
        },
        "id": "Q4lrhbpDl7Vs",
        "outputId": "7b6b792c-473e-4f02-bc21-cc08ceb0a35e"
      },
      "execution_count": null,
      "outputs": [
        {
          "output_type": "execute_result",
          "data": {
            "text/plain": [
              "   ID  LIMIT_BAL  SEX  EDUCATION  MARRIAGE  AGE  PAY_0  PAY_2  PAY_3  PAY_4  \\\n",
              "0  ID  LIMIT_BAL  SEX  EDUCATION  MARRIAGE  AGE  PAY_0  PAY_2  PAY_3  PAY_4   \n",
              "\n",
              "   ...  BILL_AMT4  BILL_AMT5  BILL_AMT6  PAY_AMT1  PAY_AMT2  PAY_AMT3  \\\n",
              "0  ...  BILL_AMT4  BILL_AMT5  BILL_AMT6  PAY_AMT1  PAY_AMT2  PAY_AMT3   \n",
              "\n",
              "   PAY_AMT4  PAY_AMT5  PAY_AMT6  default payment next month  \n",
              "0  PAY_AMT4  PAY_AMT5  PAY_AMT6  default payment next month  \n",
              "\n",
              "[1 rows x 25 columns]"
            ],
            "text/html": [
              "\n",
              "  <div id=\"df-42359b88-783b-4a41-b345-b9768dccd00c\">\n",
              "    <div class=\"colab-df-container\">\n",
              "      <div>\n",
              "<style scoped>\n",
              "    .dataframe tbody tr th:only-of-type {\n",
              "        vertical-align: middle;\n",
              "    }\n",
              "\n",
              "    .dataframe tbody tr th {\n",
              "        vertical-align: top;\n",
              "    }\n",
              "\n",
              "    .dataframe thead th {\n",
              "        text-align: right;\n",
              "    }\n",
              "</style>\n",
              "<table border=\"1\" class=\"dataframe\">\n",
              "  <thead>\n",
              "    <tr style=\"text-align: right;\">\n",
              "      <th></th>\n",
              "      <th>ID</th>\n",
              "      <th>LIMIT_BAL</th>\n",
              "      <th>SEX</th>\n",
              "      <th>EDUCATION</th>\n",
              "      <th>MARRIAGE</th>\n",
              "      <th>AGE</th>\n",
              "      <th>PAY_0</th>\n",
              "      <th>PAY_2</th>\n",
              "      <th>PAY_3</th>\n",
              "      <th>PAY_4</th>\n",
              "      <th>...</th>\n",
              "      <th>BILL_AMT4</th>\n",
              "      <th>BILL_AMT5</th>\n",
              "      <th>BILL_AMT6</th>\n",
              "      <th>PAY_AMT1</th>\n",
              "      <th>PAY_AMT2</th>\n",
              "      <th>PAY_AMT3</th>\n",
              "      <th>PAY_AMT4</th>\n",
              "      <th>PAY_AMT5</th>\n",
              "      <th>PAY_AMT6</th>\n",
              "      <th>default payment next month</th>\n",
              "    </tr>\n",
              "  </thead>\n",
              "  <tbody>\n",
              "    <tr>\n",
              "      <th>0</th>\n",
              "      <td>ID</td>\n",
              "      <td>LIMIT_BAL</td>\n",
              "      <td>SEX</td>\n",
              "      <td>EDUCATION</td>\n",
              "      <td>MARRIAGE</td>\n",
              "      <td>AGE</td>\n",
              "      <td>PAY_0</td>\n",
              "      <td>PAY_2</td>\n",
              "      <td>PAY_3</td>\n",
              "      <td>PAY_4</td>\n",
              "      <td>...</td>\n",
              "      <td>BILL_AMT4</td>\n",
              "      <td>BILL_AMT5</td>\n",
              "      <td>BILL_AMT6</td>\n",
              "      <td>PAY_AMT1</td>\n",
              "      <td>PAY_AMT2</td>\n",
              "      <td>PAY_AMT3</td>\n",
              "      <td>PAY_AMT4</td>\n",
              "      <td>PAY_AMT5</td>\n",
              "      <td>PAY_AMT6</td>\n",
              "      <td>default payment next month</td>\n",
              "    </tr>\n",
              "  </tbody>\n",
              "</table>\n",
              "<p>1 rows × 25 columns</p>\n",
              "</div>\n",
              "      <button class=\"colab-df-convert\" onclick=\"convertToInteractive('df-42359b88-783b-4a41-b345-b9768dccd00c')\"\n",
              "              title=\"Convert this dataframe to an interactive table.\"\n",
              "              style=\"display:none;\">\n",
              "        \n",
              "  <svg xmlns=\"http://www.w3.org/2000/svg\" height=\"24px\"viewBox=\"0 0 24 24\"\n",
              "       width=\"24px\">\n",
              "    <path d=\"M0 0h24v24H0V0z\" fill=\"none\"/>\n",
              "    <path d=\"M18.56 5.44l.94 2.06.94-2.06 2.06-.94-2.06-.94-.94-2.06-.94 2.06-2.06.94zm-11 1L8.5 8.5l.94-2.06 2.06-.94-2.06-.94L8.5 2.5l-.94 2.06-2.06.94zm10 10l.94 2.06.94-2.06 2.06-.94-2.06-.94-.94-2.06-.94 2.06-2.06.94z\"/><path d=\"M17.41 7.96l-1.37-1.37c-.4-.4-.92-.59-1.43-.59-.52 0-1.04.2-1.43.59L10.3 9.45l-7.72 7.72c-.78.78-.78 2.05 0 2.83L4 21.41c.39.39.9.59 1.41.59.51 0 1.02-.2 1.41-.59l7.78-7.78 2.81-2.81c.8-.78.8-2.07 0-2.86zM5.41 20L4 18.59l7.72-7.72 1.47 1.35L5.41 20z\"/>\n",
              "  </svg>\n",
              "      </button>\n",
              "      \n",
              "  <style>\n",
              "    .colab-df-container {\n",
              "      display:flex;\n",
              "      flex-wrap:wrap;\n",
              "      gap: 12px;\n",
              "    }\n",
              "\n",
              "    .colab-df-convert {\n",
              "      background-color: #E8F0FE;\n",
              "      border: none;\n",
              "      border-radius: 50%;\n",
              "      cursor: pointer;\n",
              "      display: none;\n",
              "      fill: #1967D2;\n",
              "      height: 32px;\n",
              "      padding: 0 0 0 0;\n",
              "      width: 32px;\n",
              "    }\n",
              "\n",
              "    .colab-df-convert:hover {\n",
              "      background-color: #E2EBFA;\n",
              "      box-shadow: 0px 1px 2px rgba(60, 64, 67, 0.3), 0px 1px 3px 1px rgba(60, 64, 67, 0.15);\n",
              "      fill: #174EA6;\n",
              "    }\n",
              "\n",
              "    [theme=dark] .colab-df-convert {\n",
              "      background-color: #3B4455;\n",
              "      fill: #D2E3FC;\n",
              "    }\n",
              "\n",
              "    [theme=dark] .colab-df-convert:hover {\n",
              "      background-color: #434B5C;\n",
              "      box-shadow: 0px 1px 3px 1px rgba(0, 0, 0, 0.15);\n",
              "      filter: drop-shadow(0px 1px 2px rgba(0, 0, 0, 0.3));\n",
              "      fill: #FFFFFF;\n",
              "    }\n",
              "  </style>\n",
              "\n",
              "      <script>\n",
              "        const buttonEl =\n",
              "          document.querySelector('#df-42359b88-783b-4a41-b345-b9768dccd00c button.colab-df-convert');\n",
              "        buttonEl.style.display =\n",
              "          google.colab.kernel.accessAllowed ? 'block' : 'none';\n",
              "\n",
              "        async function convertToInteractive(key) {\n",
              "          const element = document.querySelector('#df-42359b88-783b-4a41-b345-b9768dccd00c');\n",
              "          const dataTable =\n",
              "            await google.colab.kernel.invokeFunction('convertToInteractive',\n",
              "                                                     [key], {});\n",
              "          if (!dataTable) return;\n",
              "\n",
              "          const docLinkHtml = 'Like what you see? Visit the ' +\n",
              "            '<a target=\"_blank\" href=https://colab.research.google.com/notebooks/data_table.ipynb>data table notebook</a>'\n",
              "            + ' to learn more about interactive tables.';\n",
              "          element.innerHTML = '';\n",
              "          dataTable['output_type'] = 'display_data';\n",
              "          await google.colab.output.renderOutput(dataTable, element);\n",
              "          const docLink = document.createElement('div');\n",
              "          docLink.innerHTML = docLinkHtml;\n",
              "          element.appendChild(docLink);\n",
              "        }\n",
              "      </script>\n",
              "    </div>\n",
              "  </div>\n",
              "  "
            ]
          },
          "metadata": {},
          "execution_count": 11
        }
      ]
    },
    {
      "cell_type": "code",
      "source": [
        "df.drop(index=df.index[0], axis=0, inplace=True)"
      ],
      "metadata": {
        "id": "7ftWIXbroR4q"
      },
      "execution_count": null,
      "outputs": []
    },
    {
      "cell_type": "code",
      "source": [
        "df.head()"
      ],
      "metadata": {
        "colab": {
          "base_uri": "https://localhost:8080/",
          "height": 352
        },
        "id": "0mVQ50NioUPx",
        "outputId": "7368d2ad-7672-4869-c5e7-e22297e77f27"
      },
      "execution_count": null,
      "outputs": [
        {
          "output_type": "execute_result",
          "data": {
            "text/plain": [
              "  ID LIMIT_BAL SEX EDUCATION MARRIAGE AGE PAY_0 PAY_2 PAY_3 PAY_4  ...  \\\n",
              "1  1     20000   2         2        1  24     2     2    -1    -1  ...   \n",
              "2  2    120000   2         2        2  26    -1     2     0     0  ...   \n",
              "3  3     90000   2         2        2  34     0     0     0     0  ...   \n",
              "4  4     50000   2         2        1  37     0     0     0     0  ...   \n",
              "5  5     50000   1         2        1  57    -1     0    -1     0  ...   \n",
              "\n",
              "  BILL_AMT4 BILL_AMT5 BILL_AMT6 PAY_AMT1 PAY_AMT2 PAY_AMT3 PAY_AMT4 PAY_AMT5  \\\n",
              "1         0         0         0        0      689        0        0        0   \n",
              "2      3272      3455      3261        0     1000     1000     1000        0   \n",
              "3     14331     14948     15549     1518     1500     1000     1000     1000   \n",
              "4     28314     28959     29547     2000     2019     1200     1100     1069   \n",
              "5     20940     19146     19131     2000    36681    10000     9000      689   \n",
              "\n",
              "  PAY_AMT6 default payment next month  \n",
              "1        0                          1  \n",
              "2     2000                          1  \n",
              "3     5000                          0  \n",
              "4     1000                          0  \n",
              "5      679                          0  \n",
              "\n",
              "[5 rows x 25 columns]"
            ],
            "text/html": [
              "\n",
              "  <div id=\"df-1530f8ec-f545-45e9-bf5f-dee730c730f3\">\n",
              "    <div class=\"colab-df-container\">\n",
              "      <div>\n",
              "<style scoped>\n",
              "    .dataframe tbody tr th:only-of-type {\n",
              "        vertical-align: middle;\n",
              "    }\n",
              "\n",
              "    .dataframe tbody tr th {\n",
              "        vertical-align: top;\n",
              "    }\n",
              "\n",
              "    .dataframe thead th {\n",
              "        text-align: right;\n",
              "    }\n",
              "</style>\n",
              "<table border=\"1\" class=\"dataframe\">\n",
              "  <thead>\n",
              "    <tr style=\"text-align: right;\">\n",
              "      <th></th>\n",
              "      <th>ID</th>\n",
              "      <th>LIMIT_BAL</th>\n",
              "      <th>SEX</th>\n",
              "      <th>EDUCATION</th>\n",
              "      <th>MARRIAGE</th>\n",
              "      <th>AGE</th>\n",
              "      <th>PAY_0</th>\n",
              "      <th>PAY_2</th>\n",
              "      <th>PAY_3</th>\n",
              "      <th>PAY_4</th>\n",
              "      <th>...</th>\n",
              "      <th>BILL_AMT4</th>\n",
              "      <th>BILL_AMT5</th>\n",
              "      <th>BILL_AMT6</th>\n",
              "      <th>PAY_AMT1</th>\n",
              "      <th>PAY_AMT2</th>\n",
              "      <th>PAY_AMT3</th>\n",
              "      <th>PAY_AMT4</th>\n",
              "      <th>PAY_AMT5</th>\n",
              "      <th>PAY_AMT6</th>\n",
              "      <th>default payment next month</th>\n",
              "    </tr>\n",
              "  </thead>\n",
              "  <tbody>\n",
              "    <tr>\n",
              "      <th>1</th>\n",
              "      <td>1</td>\n",
              "      <td>20000</td>\n",
              "      <td>2</td>\n",
              "      <td>2</td>\n",
              "      <td>1</td>\n",
              "      <td>24</td>\n",
              "      <td>2</td>\n",
              "      <td>2</td>\n",
              "      <td>-1</td>\n",
              "      <td>-1</td>\n",
              "      <td>...</td>\n",
              "      <td>0</td>\n",
              "      <td>0</td>\n",
              "      <td>0</td>\n",
              "      <td>0</td>\n",
              "      <td>689</td>\n",
              "      <td>0</td>\n",
              "      <td>0</td>\n",
              "      <td>0</td>\n",
              "      <td>0</td>\n",
              "      <td>1</td>\n",
              "    </tr>\n",
              "    <tr>\n",
              "      <th>2</th>\n",
              "      <td>2</td>\n",
              "      <td>120000</td>\n",
              "      <td>2</td>\n",
              "      <td>2</td>\n",
              "      <td>2</td>\n",
              "      <td>26</td>\n",
              "      <td>-1</td>\n",
              "      <td>2</td>\n",
              "      <td>0</td>\n",
              "      <td>0</td>\n",
              "      <td>...</td>\n",
              "      <td>3272</td>\n",
              "      <td>3455</td>\n",
              "      <td>3261</td>\n",
              "      <td>0</td>\n",
              "      <td>1000</td>\n",
              "      <td>1000</td>\n",
              "      <td>1000</td>\n",
              "      <td>0</td>\n",
              "      <td>2000</td>\n",
              "      <td>1</td>\n",
              "    </tr>\n",
              "    <tr>\n",
              "      <th>3</th>\n",
              "      <td>3</td>\n",
              "      <td>90000</td>\n",
              "      <td>2</td>\n",
              "      <td>2</td>\n",
              "      <td>2</td>\n",
              "      <td>34</td>\n",
              "      <td>0</td>\n",
              "      <td>0</td>\n",
              "      <td>0</td>\n",
              "      <td>0</td>\n",
              "      <td>...</td>\n",
              "      <td>14331</td>\n",
              "      <td>14948</td>\n",
              "      <td>15549</td>\n",
              "      <td>1518</td>\n",
              "      <td>1500</td>\n",
              "      <td>1000</td>\n",
              "      <td>1000</td>\n",
              "      <td>1000</td>\n",
              "      <td>5000</td>\n",
              "      <td>0</td>\n",
              "    </tr>\n",
              "    <tr>\n",
              "      <th>4</th>\n",
              "      <td>4</td>\n",
              "      <td>50000</td>\n",
              "      <td>2</td>\n",
              "      <td>2</td>\n",
              "      <td>1</td>\n",
              "      <td>37</td>\n",
              "      <td>0</td>\n",
              "      <td>0</td>\n",
              "      <td>0</td>\n",
              "      <td>0</td>\n",
              "      <td>...</td>\n",
              "      <td>28314</td>\n",
              "      <td>28959</td>\n",
              "      <td>29547</td>\n",
              "      <td>2000</td>\n",
              "      <td>2019</td>\n",
              "      <td>1200</td>\n",
              "      <td>1100</td>\n",
              "      <td>1069</td>\n",
              "      <td>1000</td>\n",
              "      <td>0</td>\n",
              "    </tr>\n",
              "    <tr>\n",
              "      <th>5</th>\n",
              "      <td>5</td>\n",
              "      <td>50000</td>\n",
              "      <td>1</td>\n",
              "      <td>2</td>\n",
              "      <td>1</td>\n",
              "      <td>57</td>\n",
              "      <td>-1</td>\n",
              "      <td>0</td>\n",
              "      <td>-1</td>\n",
              "      <td>0</td>\n",
              "      <td>...</td>\n",
              "      <td>20940</td>\n",
              "      <td>19146</td>\n",
              "      <td>19131</td>\n",
              "      <td>2000</td>\n",
              "      <td>36681</td>\n",
              "      <td>10000</td>\n",
              "      <td>9000</td>\n",
              "      <td>689</td>\n",
              "      <td>679</td>\n",
              "      <td>0</td>\n",
              "    </tr>\n",
              "  </tbody>\n",
              "</table>\n",
              "<p>5 rows × 25 columns</p>\n",
              "</div>\n",
              "      <button class=\"colab-df-convert\" onclick=\"convertToInteractive('df-1530f8ec-f545-45e9-bf5f-dee730c730f3')\"\n",
              "              title=\"Convert this dataframe to an interactive table.\"\n",
              "              style=\"display:none;\">\n",
              "        \n",
              "  <svg xmlns=\"http://www.w3.org/2000/svg\" height=\"24px\"viewBox=\"0 0 24 24\"\n",
              "       width=\"24px\">\n",
              "    <path d=\"M0 0h24v24H0V0z\" fill=\"none\"/>\n",
              "    <path d=\"M18.56 5.44l.94 2.06.94-2.06 2.06-.94-2.06-.94-.94-2.06-.94 2.06-2.06.94zm-11 1L8.5 8.5l.94-2.06 2.06-.94-2.06-.94L8.5 2.5l-.94 2.06-2.06.94zm10 10l.94 2.06.94-2.06 2.06-.94-2.06-.94-.94-2.06-.94 2.06-2.06.94z\"/><path d=\"M17.41 7.96l-1.37-1.37c-.4-.4-.92-.59-1.43-.59-.52 0-1.04.2-1.43.59L10.3 9.45l-7.72 7.72c-.78.78-.78 2.05 0 2.83L4 21.41c.39.39.9.59 1.41.59.51 0 1.02-.2 1.41-.59l7.78-7.78 2.81-2.81c.8-.78.8-2.07 0-2.86zM5.41 20L4 18.59l7.72-7.72 1.47 1.35L5.41 20z\"/>\n",
              "  </svg>\n",
              "      </button>\n",
              "      \n",
              "  <style>\n",
              "    .colab-df-container {\n",
              "      display:flex;\n",
              "      flex-wrap:wrap;\n",
              "      gap: 12px;\n",
              "    }\n",
              "\n",
              "    .colab-df-convert {\n",
              "      background-color: #E8F0FE;\n",
              "      border: none;\n",
              "      border-radius: 50%;\n",
              "      cursor: pointer;\n",
              "      display: none;\n",
              "      fill: #1967D2;\n",
              "      height: 32px;\n",
              "      padding: 0 0 0 0;\n",
              "      width: 32px;\n",
              "    }\n",
              "\n",
              "    .colab-df-convert:hover {\n",
              "      background-color: #E2EBFA;\n",
              "      box-shadow: 0px 1px 2px rgba(60, 64, 67, 0.3), 0px 1px 3px 1px rgba(60, 64, 67, 0.15);\n",
              "      fill: #174EA6;\n",
              "    }\n",
              "\n",
              "    [theme=dark] .colab-df-convert {\n",
              "      background-color: #3B4455;\n",
              "      fill: #D2E3FC;\n",
              "    }\n",
              "\n",
              "    [theme=dark] .colab-df-convert:hover {\n",
              "      background-color: #434B5C;\n",
              "      box-shadow: 0px 1px 3px 1px rgba(0, 0, 0, 0.15);\n",
              "      filter: drop-shadow(0px 1px 2px rgba(0, 0, 0, 0.3));\n",
              "      fill: #FFFFFF;\n",
              "    }\n",
              "  </style>\n",
              "\n",
              "      <script>\n",
              "        const buttonEl =\n",
              "          document.querySelector('#df-1530f8ec-f545-45e9-bf5f-dee730c730f3 button.colab-df-convert');\n",
              "        buttonEl.style.display =\n",
              "          google.colab.kernel.accessAllowed ? 'block' : 'none';\n",
              "\n",
              "        async function convertToInteractive(key) {\n",
              "          const element = document.querySelector('#df-1530f8ec-f545-45e9-bf5f-dee730c730f3');\n",
              "          const dataTable =\n",
              "            await google.colab.kernel.invokeFunction('convertToInteractive',\n",
              "                                                     [key], {});\n",
              "          if (!dataTable) return;\n",
              "\n",
              "          const docLinkHtml = 'Like what you see? Visit the ' +\n",
              "            '<a target=\"_blank\" href=https://colab.research.google.com/notebooks/data_table.ipynb>data table notebook</a>'\n",
              "            + ' to learn more about interactive tables.';\n",
              "          element.innerHTML = '';\n",
              "          dataTable['output_type'] = 'display_data';\n",
              "          await google.colab.output.renderOutput(dataTable, element);\n",
              "          const docLink = document.createElement('div');\n",
              "          docLink.innerHTML = docLinkHtml;\n",
              "          element.appendChild(docLink);\n",
              "        }\n",
              "      </script>\n",
              "    </div>\n",
              "  </div>\n",
              "  "
            ]
          },
          "metadata": {},
          "execution_count": 13
        }
      ]
    },
    {
      "cell_type": "code",
      "source": [
        "df.info()"
      ],
      "metadata": {
        "colab": {
          "base_uri": "https://localhost:8080/"
        },
        "id": "Suw3Fb4xaxmg",
        "outputId": "02c5a3ad-05a9-4e04-e673-ff186cc64c61"
      },
      "execution_count": null,
      "outputs": [
        {
          "output_type": "stream",
          "name": "stdout",
          "text": [
            "<class 'pandas.core.frame.DataFrame'>\n",
            "RangeIndex: 22500 entries, 1 to 22500\n",
            "Data columns (total 25 columns):\n",
            " #   Column                      Non-Null Count  Dtype \n",
            "---  ------                      --------------  ----- \n",
            " 0   ID                          22500 non-null  object\n",
            " 1   LIMIT_BAL                   22500 non-null  object\n",
            " 2   SEX                         22500 non-null  object\n",
            " 3   EDUCATION                   22500 non-null  object\n",
            " 4   MARRIAGE                    22500 non-null  object\n",
            " 5   AGE                         22500 non-null  object\n",
            " 6   PAY_0                       22500 non-null  object\n",
            " 7   PAY_2                       22500 non-null  object\n",
            " 8   PAY_3                       22500 non-null  object\n",
            " 9   PAY_4                       22500 non-null  object\n",
            " 10  PAY_5                       22500 non-null  object\n",
            " 11  PAY_6                       22500 non-null  object\n",
            " 12  BILL_AMT1                   22500 non-null  object\n",
            " 13  BILL_AMT2                   22500 non-null  object\n",
            " 14  BILL_AMT3                   22500 non-null  object\n",
            " 15  BILL_AMT4                   22500 non-null  object\n",
            " 16  BILL_AMT5                   22500 non-null  object\n",
            " 17  BILL_AMT6                   22500 non-null  object\n",
            " 18  PAY_AMT1                    22500 non-null  object\n",
            " 19  PAY_AMT2                    22500 non-null  object\n",
            " 20  PAY_AMT3                    22500 non-null  object\n",
            " 21  PAY_AMT4                    22500 non-null  object\n",
            " 22  PAY_AMT5                    22500 non-null  object\n",
            " 23  PAY_AMT6                    22500 non-null  object\n",
            " 24  default payment next month  22500 non-null  object\n",
            "dtypes: object(25)\n",
            "memory usage: 4.3+ MB\n"
          ]
        }
      ]
    },
    {
      "cell_type": "markdown",
      "source": [
        "## Transpose the Dataset to Make it Wide (not long)"
      ],
      "metadata": {
        "id": "QA_-4gOTco4l"
      }
    },
    {
      "cell_type": "code",
      "source": [
        "df.head().T"
      ],
      "metadata": {
        "colab": {
          "base_uri": "https://localhost:8080/",
          "height": 834
        },
        "id": "Mli79Rc0a1DR",
        "outputId": "f3602040-17f1-4de8-da29-92e14154058f"
      },
      "execution_count": null,
      "outputs": [
        {
          "output_type": "execute_result",
          "data": {
            "text/plain": [
              "                                1       2      3      4      5\n",
              "ID                              1       2      3      4      5\n",
              "LIMIT_BAL                   20000  120000  90000  50000  50000\n",
              "SEX                             2       2      2      2      1\n",
              "EDUCATION                       2       2      2      2      2\n",
              "MARRIAGE                        1       2      2      1      1\n",
              "AGE                            24      26     34     37     57\n",
              "PAY_0                           2      -1      0      0     -1\n",
              "PAY_2                           2       2      0      0      0\n",
              "PAY_3                          -1       0      0      0     -1\n",
              "PAY_4                          -1       0      0      0      0\n",
              "PAY_5                          -2       0      0      0      0\n",
              "PAY_6                          -2       2      0      0      0\n",
              "BILL_AMT1                    3913    2682  29239  46990   8617\n",
              "BILL_AMT2                    3102    1725  14027  48233   5670\n",
              "BILL_AMT3                     689    2682  13559  49291  35835\n",
              "BILL_AMT4                       0    3272  14331  28314  20940\n",
              "BILL_AMT5                       0    3455  14948  28959  19146\n",
              "BILL_AMT6                       0    3261  15549  29547  19131\n",
              "PAY_AMT1                        0       0   1518   2000   2000\n",
              "PAY_AMT2                      689    1000   1500   2019  36681\n",
              "PAY_AMT3                        0    1000   1000   1200  10000\n",
              "PAY_AMT4                        0    1000   1000   1100   9000\n",
              "PAY_AMT5                        0       0   1000   1069    689\n",
              "PAY_AMT6                        0    2000   5000   1000    679\n",
              "default payment next month      1       1      0      0      0"
            ],
            "text/html": [
              "\n",
              "  <div id=\"df-b7475b0f-8fc6-42a1-a7fd-bd0c428e1465\">\n",
              "    <div class=\"colab-df-container\">\n",
              "      <div>\n",
              "<style scoped>\n",
              "    .dataframe tbody tr th:only-of-type {\n",
              "        vertical-align: middle;\n",
              "    }\n",
              "\n",
              "    .dataframe tbody tr th {\n",
              "        vertical-align: top;\n",
              "    }\n",
              "\n",
              "    .dataframe thead th {\n",
              "        text-align: right;\n",
              "    }\n",
              "</style>\n",
              "<table border=\"1\" class=\"dataframe\">\n",
              "  <thead>\n",
              "    <tr style=\"text-align: right;\">\n",
              "      <th></th>\n",
              "      <th>1</th>\n",
              "      <th>2</th>\n",
              "      <th>3</th>\n",
              "      <th>4</th>\n",
              "      <th>5</th>\n",
              "    </tr>\n",
              "  </thead>\n",
              "  <tbody>\n",
              "    <tr>\n",
              "      <th>ID</th>\n",
              "      <td>1</td>\n",
              "      <td>2</td>\n",
              "      <td>3</td>\n",
              "      <td>4</td>\n",
              "      <td>5</td>\n",
              "    </tr>\n",
              "    <tr>\n",
              "      <th>LIMIT_BAL</th>\n",
              "      <td>20000</td>\n",
              "      <td>120000</td>\n",
              "      <td>90000</td>\n",
              "      <td>50000</td>\n",
              "      <td>50000</td>\n",
              "    </tr>\n",
              "    <tr>\n",
              "      <th>SEX</th>\n",
              "      <td>2</td>\n",
              "      <td>2</td>\n",
              "      <td>2</td>\n",
              "      <td>2</td>\n",
              "      <td>1</td>\n",
              "    </tr>\n",
              "    <tr>\n",
              "      <th>EDUCATION</th>\n",
              "      <td>2</td>\n",
              "      <td>2</td>\n",
              "      <td>2</td>\n",
              "      <td>2</td>\n",
              "      <td>2</td>\n",
              "    </tr>\n",
              "    <tr>\n",
              "      <th>MARRIAGE</th>\n",
              "      <td>1</td>\n",
              "      <td>2</td>\n",
              "      <td>2</td>\n",
              "      <td>1</td>\n",
              "      <td>1</td>\n",
              "    </tr>\n",
              "    <tr>\n",
              "      <th>AGE</th>\n",
              "      <td>24</td>\n",
              "      <td>26</td>\n",
              "      <td>34</td>\n",
              "      <td>37</td>\n",
              "      <td>57</td>\n",
              "    </tr>\n",
              "    <tr>\n",
              "      <th>PAY_0</th>\n",
              "      <td>2</td>\n",
              "      <td>-1</td>\n",
              "      <td>0</td>\n",
              "      <td>0</td>\n",
              "      <td>-1</td>\n",
              "    </tr>\n",
              "    <tr>\n",
              "      <th>PAY_2</th>\n",
              "      <td>2</td>\n",
              "      <td>2</td>\n",
              "      <td>0</td>\n",
              "      <td>0</td>\n",
              "      <td>0</td>\n",
              "    </tr>\n",
              "    <tr>\n",
              "      <th>PAY_3</th>\n",
              "      <td>-1</td>\n",
              "      <td>0</td>\n",
              "      <td>0</td>\n",
              "      <td>0</td>\n",
              "      <td>-1</td>\n",
              "    </tr>\n",
              "    <tr>\n",
              "      <th>PAY_4</th>\n",
              "      <td>-1</td>\n",
              "      <td>0</td>\n",
              "      <td>0</td>\n",
              "      <td>0</td>\n",
              "      <td>0</td>\n",
              "    </tr>\n",
              "    <tr>\n",
              "      <th>PAY_5</th>\n",
              "      <td>-2</td>\n",
              "      <td>0</td>\n",
              "      <td>0</td>\n",
              "      <td>0</td>\n",
              "      <td>0</td>\n",
              "    </tr>\n",
              "    <tr>\n",
              "      <th>PAY_6</th>\n",
              "      <td>-2</td>\n",
              "      <td>2</td>\n",
              "      <td>0</td>\n",
              "      <td>0</td>\n",
              "      <td>0</td>\n",
              "    </tr>\n",
              "    <tr>\n",
              "      <th>BILL_AMT1</th>\n",
              "      <td>3913</td>\n",
              "      <td>2682</td>\n",
              "      <td>29239</td>\n",
              "      <td>46990</td>\n",
              "      <td>8617</td>\n",
              "    </tr>\n",
              "    <tr>\n",
              "      <th>BILL_AMT2</th>\n",
              "      <td>3102</td>\n",
              "      <td>1725</td>\n",
              "      <td>14027</td>\n",
              "      <td>48233</td>\n",
              "      <td>5670</td>\n",
              "    </tr>\n",
              "    <tr>\n",
              "      <th>BILL_AMT3</th>\n",
              "      <td>689</td>\n",
              "      <td>2682</td>\n",
              "      <td>13559</td>\n",
              "      <td>49291</td>\n",
              "      <td>35835</td>\n",
              "    </tr>\n",
              "    <tr>\n",
              "      <th>BILL_AMT4</th>\n",
              "      <td>0</td>\n",
              "      <td>3272</td>\n",
              "      <td>14331</td>\n",
              "      <td>28314</td>\n",
              "      <td>20940</td>\n",
              "    </tr>\n",
              "    <tr>\n",
              "      <th>BILL_AMT5</th>\n",
              "      <td>0</td>\n",
              "      <td>3455</td>\n",
              "      <td>14948</td>\n",
              "      <td>28959</td>\n",
              "      <td>19146</td>\n",
              "    </tr>\n",
              "    <tr>\n",
              "      <th>BILL_AMT6</th>\n",
              "      <td>0</td>\n",
              "      <td>3261</td>\n",
              "      <td>15549</td>\n",
              "      <td>29547</td>\n",
              "      <td>19131</td>\n",
              "    </tr>\n",
              "    <tr>\n",
              "      <th>PAY_AMT1</th>\n",
              "      <td>0</td>\n",
              "      <td>0</td>\n",
              "      <td>1518</td>\n",
              "      <td>2000</td>\n",
              "      <td>2000</td>\n",
              "    </tr>\n",
              "    <tr>\n",
              "      <th>PAY_AMT2</th>\n",
              "      <td>689</td>\n",
              "      <td>1000</td>\n",
              "      <td>1500</td>\n",
              "      <td>2019</td>\n",
              "      <td>36681</td>\n",
              "    </tr>\n",
              "    <tr>\n",
              "      <th>PAY_AMT3</th>\n",
              "      <td>0</td>\n",
              "      <td>1000</td>\n",
              "      <td>1000</td>\n",
              "      <td>1200</td>\n",
              "      <td>10000</td>\n",
              "    </tr>\n",
              "    <tr>\n",
              "      <th>PAY_AMT4</th>\n",
              "      <td>0</td>\n",
              "      <td>1000</td>\n",
              "      <td>1000</td>\n",
              "      <td>1100</td>\n",
              "      <td>9000</td>\n",
              "    </tr>\n",
              "    <tr>\n",
              "      <th>PAY_AMT5</th>\n",
              "      <td>0</td>\n",
              "      <td>0</td>\n",
              "      <td>1000</td>\n",
              "      <td>1069</td>\n",
              "      <td>689</td>\n",
              "    </tr>\n",
              "    <tr>\n",
              "      <th>PAY_AMT6</th>\n",
              "      <td>0</td>\n",
              "      <td>2000</td>\n",
              "      <td>5000</td>\n",
              "      <td>1000</td>\n",
              "      <td>679</td>\n",
              "    </tr>\n",
              "    <tr>\n",
              "      <th>default payment next month</th>\n",
              "      <td>1</td>\n",
              "      <td>1</td>\n",
              "      <td>0</td>\n",
              "      <td>0</td>\n",
              "      <td>0</td>\n",
              "    </tr>\n",
              "  </tbody>\n",
              "</table>\n",
              "</div>\n",
              "      <button class=\"colab-df-convert\" onclick=\"convertToInteractive('df-b7475b0f-8fc6-42a1-a7fd-bd0c428e1465')\"\n",
              "              title=\"Convert this dataframe to an interactive table.\"\n",
              "              style=\"display:none;\">\n",
              "        \n",
              "  <svg xmlns=\"http://www.w3.org/2000/svg\" height=\"24px\"viewBox=\"0 0 24 24\"\n",
              "       width=\"24px\">\n",
              "    <path d=\"M0 0h24v24H0V0z\" fill=\"none\"/>\n",
              "    <path d=\"M18.56 5.44l.94 2.06.94-2.06 2.06-.94-2.06-.94-.94-2.06-.94 2.06-2.06.94zm-11 1L8.5 8.5l.94-2.06 2.06-.94-2.06-.94L8.5 2.5l-.94 2.06-2.06.94zm10 10l.94 2.06.94-2.06 2.06-.94-2.06-.94-.94-2.06-.94 2.06-2.06.94z\"/><path d=\"M17.41 7.96l-1.37-1.37c-.4-.4-.92-.59-1.43-.59-.52 0-1.04.2-1.43.59L10.3 9.45l-7.72 7.72c-.78.78-.78 2.05 0 2.83L4 21.41c.39.39.9.59 1.41.59.51 0 1.02-.2 1.41-.59l7.78-7.78 2.81-2.81c.8-.78.8-2.07 0-2.86zM5.41 20L4 18.59l7.72-7.72 1.47 1.35L5.41 20z\"/>\n",
              "  </svg>\n",
              "      </button>\n",
              "      \n",
              "  <style>\n",
              "    .colab-df-container {\n",
              "      display:flex;\n",
              "      flex-wrap:wrap;\n",
              "      gap: 12px;\n",
              "    }\n",
              "\n",
              "    .colab-df-convert {\n",
              "      background-color: #E8F0FE;\n",
              "      border: none;\n",
              "      border-radius: 50%;\n",
              "      cursor: pointer;\n",
              "      display: none;\n",
              "      fill: #1967D2;\n",
              "      height: 32px;\n",
              "      padding: 0 0 0 0;\n",
              "      width: 32px;\n",
              "    }\n",
              "\n",
              "    .colab-df-convert:hover {\n",
              "      background-color: #E2EBFA;\n",
              "      box-shadow: 0px 1px 2px rgba(60, 64, 67, 0.3), 0px 1px 3px 1px rgba(60, 64, 67, 0.15);\n",
              "      fill: #174EA6;\n",
              "    }\n",
              "\n",
              "    [theme=dark] .colab-df-convert {\n",
              "      background-color: #3B4455;\n",
              "      fill: #D2E3FC;\n",
              "    }\n",
              "\n",
              "    [theme=dark] .colab-df-convert:hover {\n",
              "      background-color: #434B5C;\n",
              "      box-shadow: 0px 1px 3px 1px rgba(0, 0, 0, 0.15);\n",
              "      filter: drop-shadow(0px 1px 2px rgba(0, 0, 0, 0.3));\n",
              "      fill: #FFFFFF;\n",
              "    }\n",
              "  </style>\n",
              "\n",
              "      <script>\n",
              "        const buttonEl =\n",
              "          document.querySelector('#df-b7475b0f-8fc6-42a1-a7fd-bd0c428e1465 button.colab-df-convert');\n",
              "        buttonEl.style.display =\n",
              "          google.colab.kernel.accessAllowed ? 'block' : 'none';\n",
              "\n",
              "        async function convertToInteractive(key) {\n",
              "          const element = document.querySelector('#df-b7475b0f-8fc6-42a1-a7fd-bd0c428e1465');\n",
              "          const dataTable =\n",
              "            await google.colab.kernel.invokeFunction('convertToInteractive',\n",
              "                                                     [key], {});\n",
              "          if (!dataTable) return;\n",
              "\n",
              "          const docLinkHtml = 'Like what you see? Visit the ' +\n",
              "            '<a target=\"_blank\" href=https://colab.research.google.com/notebooks/data_table.ipynb>data table notebook</a>'\n",
              "            + ' to learn more about interactive tables.';\n",
              "          element.innerHTML = '';\n",
              "          dataTable['output_type'] = 'display_data';\n",
              "          await google.colab.output.renderOutput(dataTable, element);\n",
              "          const docLink = document.createElement('div');\n",
              "          docLink.innerHTML = docLinkHtml;\n",
              "          element.appendChild(docLink);\n",
              "        }\n",
              "      </script>\n",
              "    </div>\n",
              "  </div>\n",
              "  "
            ]
          },
          "metadata": {},
          "execution_count": 15
        }
      ]
    },
    {
      "cell_type": "markdown",
      "source": [
        "Data Types"
      ],
      "metadata": {
        "id": "t3M9BL9Bcu7E"
      }
    },
    {
      "cell_type": "markdown",
      "source": [
        "Column Names and Naming Conventions"
      ],
      "metadata": {
        "id": "DuUNqqI9dL3X"
      }
    },
    {
      "cell_type": "code",
      "source": [
        "df.columns = df.columns.str.lower().str.replace(' ', '_')\n",
        "\n",
        "string_columns = list(df.dtypes[df.dtypes == 'object'].index)"
      ],
      "metadata": {
        "id": "0xZAmifRdIy4"
      },
      "execution_count": null,
      "outputs": []
    },
    {
      "cell_type": "code",
      "source": [
        "for col in string_columns:\n",
        " df[col] = df[col].str.lower().str.replace(' ', '_')"
      ],
      "metadata": {
        "id": "T3cLp2UfdXDi"
      },
      "execution_count": null,
      "outputs": []
    },
    {
      "cell_type": "code",
      "source": [
        "df.dtypes"
      ],
      "metadata": {
        "colab": {
          "base_uri": "https://localhost:8080/"
        },
        "id": "V9aXbjQadbj3",
        "outputId": "0173482b-2432-4b4e-faaa-266d64e3089e"
      },
      "execution_count": null,
      "outputs": [
        {
          "output_type": "execute_result",
          "data": {
            "text/plain": [
              "id                            object\n",
              "limit_bal                     object\n",
              "sex                           object\n",
              "education                     object\n",
              "marriage                      object\n",
              "age                           object\n",
              "pay_0                         object\n",
              "pay_2                         object\n",
              "pay_3                         object\n",
              "pay_4                         object\n",
              "pay_5                         object\n",
              "pay_6                         object\n",
              "bill_amt1                     object\n",
              "bill_amt2                     object\n",
              "bill_amt3                     object\n",
              "bill_amt4                     object\n",
              "bill_amt5                     object\n",
              "bill_amt6                     object\n",
              "pay_amt1                      object\n",
              "pay_amt2                      object\n",
              "pay_amt3                      object\n",
              "pay_amt4                      object\n",
              "pay_amt5                      object\n",
              "pay_amt6                      object\n",
              "default_payment_next_month    object\n",
              "dtype: object"
            ]
          },
          "metadata": {},
          "execution_count": 18
        }
      ]
    },
    {
      "cell_type": "code",
      "source": [
        "df.nunique()"
      ],
      "metadata": {
        "id": "wEWVSG8NgUKe",
        "outputId": "c454f340-8c3a-4e8a-ca0e-11f58c5049dd",
        "colab": {
          "base_uri": "https://localhost:8080/"
        }
      },
      "execution_count": null,
      "outputs": [
        {
          "output_type": "execute_result",
          "data": {
            "text/plain": [
              "id                            22500\n",
              "limit_bal                        77\n",
              "sex                               2\n",
              "education                         7\n",
              "marriage                          4\n",
              "age                              55\n",
              "pay_0                            11\n",
              "pay_2                            11\n",
              "pay_3                            11\n",
              "pay_4                            11\n",
              "pay_5                            10\n",
              "pay_6                            10\n",
              "bill_amt1                     17712\n",
              "bill_amt2                     17398\n",
              "bill_amt3                     17152\n",
              "bill_amt4                     16769\n",
              "bill_amt5                     16359\n",
              "bill_amt6                     15972\n",
              "pay_amt1                       6592\n",
              "pay_amt2                       6476\n",
              "pay_amt3                       6050\n",
              "pay_amt4                       5732\n",
              "pay_amt5                       5674\n",
              "pay_amt6                       5684\n",
              "default_payment_next_month        2\n",
              "dtype: int64"
            ]
          },
          "metadata": {},
          "execution_count": 19
        }
      ]
    },
    {
      "cell_type": "markdown",
      "source": [
        "Drop unnecessary features"
      ],
      "metadata": {
        "id": "tw-g6VC8gu7f"
      }
    },
    {
      "cell_type": "code",
      "source": [
        "df.drop(['id'], axis=1, inplace=True)"
      ],
      "metadata": {
        "id": "w2oS5Ar3hbJu"
      },
      "execution_count": null,
      "outputs": []
    },
    {
      "cell_type": "code",
      "source": [
        "df.info()"
      ],
      "metadata": {
        "id": "RkA0klDnhxSl",
        "outputId": "d2919842-baf4-4bc2-e735-85a525166ce7",
        "colab": {
          "base_uri": "https://localhost:8080/"
        }
      },
      "execution_count": null,
      "outputs": [
        {
          "output_type": "stream",
          "name": "stdout",
          "text": [
            "<class 'pandas.core.frame.DataFrame'>\n",
            "RangeIndex: 22500 entries, 1 to 22500\n",
            "Data columns (total 24 columns):\n",
            " #   Column                      Non-Null Count  Dtype \n",
            "---  ------                      --------------  ----- \n",
            " 0   limit_bal                   22500 non-null  object\n",
            " 1   sex                         22500 non-null  object\n",
            " 2   education                   22500 non-null  object\n",
            " 3   marriage                    22500 non-null  object\n",
            " 4   age                         22500 non-null  object\n",
            " 5   pay_0                       22500 non-null  object\n",
            " 6   pay_2                       22500 non-null  object\n",
            " 7   pay_3                       22500 non-null  object\n",
            " 8   pay_4                       22500 non-null  object\n",
            " 9   pay_5                       22500 non-null  object\n",
            " 10  pay_6                       22500 non-null  object\n",
            " 11  bill_amt1                   22500 non-null  object\n",
            " 12  bill_amt2                   22500 non-null  object\n",
            " 13  bill_amt3                   22500 non-null  object\n",
            " 14  bill_amt4                   22500 non-null  object\n",
            " 15  bill_amt5                   22500 non-null  object\n",
            " 16  bill_amt6                   22500 non-null  object\n",
            " 17  pay_amt1                    22500 non-null  object\n",
            " 18  pay_amt2                    22500 non-null  object\n",
            " 19  pay_amt3                    22500 non-null  object\n",
            " 20  pay_amt4                    22500 non-null  object\n",
            " 21  pay_amt5                    22500 non-null  object\n",
            " 22  pay_amt6                    22500 non-null  object\n",
            " 23  default_payment_next_month  22500 non-null  object\n",
            "dtypes: object(24)\n",
            "memory usage: 4.1+ MB\n"
          ]
        }
      ]
    },
    {
      "cell_type": "code",
      "source": [
        "df.to_csv('credit_default_pre1.csv')"
      ],
      "metadata": {
        "id": "tUl8PQ_SnDdq"
      },
      "execution_count": null,
      "outputs": []
    },
    {
      "cell_type": "markdown",
      "source": [
        "Check for duplicates"
      ],
      "metadata": {
        "id": "ExkVmZabzUI-"
      }
    },
    {
      "cell_type": "code",
      "source": [
        "duplicates = df.duplicated()"
      ],
      "metadata": {
        "id": "P5xIbcFfy_yl"
      },
      "execution_count": null,
      "outputs": []
    },
    {
      "cell_type": "code",
      "source": [
        "duplicates.sum()"
      ],
      "metadata": {
        "id": "OQdZJVIQzMLf",
        "outputId": "6353f2ca-a224-47dc-d91e-a5ed7243c785",
        "colab": {
          "base_uri": "https://localhost:8080/"
        }
      },
      "execution_count": null,
      "outputs": [
        {
          "output_type": "execute_result",
          "data": {
            "text/plain": [
              "20"
            ]
          },
          "metadata": {},
          "execution_count": 24
        }
      ]
    },
    {
      "cell_type": "code",
      "source": [
        "df.drop_duplicates(keep='first', inplace=True)"
      ],
      "metadata": {
        "id": "Lg4cIlk9zqUs"
      },
      "execution_count": null,
      "outputs": []
    },
    {
      "cell_type": "code",
      "source": [
        "df.shape"
      ],
      "metadata": {
        "id": "tVL_bvUyz0Zm",
        "outputId": "20a16cd3-ccf1-435a-ddd0-22f0534bd04e",
        "colab": {
          "base_uri": "https://localhost:8080/"
        }
      },
      "execution_count": null,
      "outputs": [
        {
          "output_type": "execute_result",
          "data": {
            "text/plain": [
              "(22480, 24)"
            ]
          },
          "metadata": {},
          "execution_count": 26
        }
      ]
    },
    {
      "cell_type": "markdown",
      "source": [
        "Check for missing values"
      ],
      "metadata": {
        "id": "KzqJfzu60YoG"
      }
    },
    {
      "cell_type": "code",
      "source": [
        "df.isna().sum()"
      ],
      "metadata": {
        "id": "p3v2W17Qz3F4",
        "outputId": "9cedf76a-d02a-4f6f-fdcc-d28f0f723d21",
        "colab": {
          "base_uri": "https://localhost:8080/"
        }
      },
      "execution_count": null,
      "outputs": [
        {
          "output_type": "execute_result",
          "data": {
            "text/plain": [
              "limit_bal                     0\n",
              "sex                           0\n",
              "education                     0\n",
              "marriage                      0\n",
              "age                           0\n",
              "pay_0                         0\n",
              "pay_2                         0\n",
              "pay_3                         0\n",
              "pay_4                         0\n",
              "pay_5                         0\n",
              "pay_6                         0\n",
              "bill_amt1                     0\n",
              "bill_amt2                     0\n",
              "bill_amt3                     0\n",
              "bill_amt4                     0\n",
              "bill_amt5                     0\n",
              "bill_amt6                     0\n",
              "pay_amt1                      0\n",
              "pay_amt2                      0\n",
              "pay_amt3                      0\n",
              "pay_amt4                      0\n",
              "pay_amt5                      0\n",
              "pay_amt6                      0\n",
              "default_payment_next_month    0\n",
              "dtype: int64"
            ]
          },
          "metadata": {},
          "execution_count": 27
        }
      ]
    },
    {
      "cell_type": "code",
      "source": [
        "df.info()"
      ],
      "metadata": {
        "colab": {
          "base_uri": "https://localhost:8080/"
        },
        "id": "Bz81LBMNQVcT",
        "outputId": "126eaaf1-7939-43ac-837f-e0b06284c149"
      },
      "execution_count": null,
      "outputs": [
        {
          "output_type": "stream",
          "name": "stdout",
          "text": [
            "<class 'pandas.core.frame.DataFrame'>\n",
            "Int64Index: 22480 entries, 1 to 22500\n",
            "Data columns (total 24 columns):\n",
            " #   Column                      Non-Null Count  Dtype \n",
            "---  ------                      --------------  ----- \n",
            " 0   limit_bal                   22480 non-null  object\n",
            " 1   sex                         22480 non-null  object\n",
            " 2   education                   22480 non-null  object\n",
            " 3   marriage                    22480 non-null  object\n",
            " 4   age                         22480 non-null  object\n",
            " 5   pay_0                       22480 non-null  object\n",
            " 6   pay_2                       22480 non-null  object\n",
            " 7   pay_3                       22480 non-null  object\n",
            " 8   pay_4                       22480 non-null  object\n",
            " 9   pay_5                       22480 non-null  object\n",
            " 10  pay_6                       22480 non-null  object\n",
            " 11  bill_amt1                   22480 non-null  object\n",
            " 12  bill_amt2                   22480 non-null  object\n",
            " 13  bill_amt3                   22480 non-null  object\n",
            " 14  bill_amt4                   22480 non-null  object\n",
            " 15  bill_amt5                   22480 non-null  object\n",
            " 16  bill_amt6                   22480 non-null  object\n",
            " 17  pay_amt1                    22480 non-null  object\n",
            " 18  pay_amt2                    22480 non-null  object\n",
            " 19  pay_amt3                    22480 non-null  object\n",
            " 20  pay_amt4                    22480 non-null  object\n",
            " 21  pay_amt5                    22480 non-null  object\n",
            " 22  pay_amt6                    22480 non-null  object\n",
            " 23  default_payment_next_month  22480 non-null  object\n",
            "dtypes: object(24)\n",
            "memory usage: 4.3+ MB\n"
          ]
        }
      ]
    },
    {
      "cell_type": "markdown",
      "source": [
        "## Change dtypes from object to int or float"
      ],
      "metadata": {
        "id": "DuJSsQurrlsp"
      }
    },
    {
      "cell_type": "code",
      "source": [
        "df = df.astype({'sex':'int', 'education':'int', 'marriage':'int', 'age':'int'})\n",
        "df = df.astype({'default_payment_next_month':'int'})\n",
        "df = df.astype({'pay_0': 'int', 'pay_2':'int', 'pay_3':'int', 'pay_4':'int', 'pay_5':'int', 'pay_6':'int'})\n",
        "df = df.astype({'bill_amt1': 'float', 'bill_amt2':'float', 'bill_amt3':'float', 'bill_amt4':'float','bill_amt5':'float', 'bill_amt6':'float'})\n",
        "df = df.astype({'pay_amt1':'float', 'pay_amt2':'float', 'pay_amt3':'float','pay_amt4':'float','pay_amt5':'float','pay_amt6':'float'})"
      ],
      "metadata": {
        "id": "S5kBuVJkrr5y"
      },
      "execution_count": null,
      "outputs": []
    },
    {
      "cell_type": "code",
      "source": [
        "df.dtypes"
      ],
      "metadata": {
        "colab": {
          "base_uri": "https://localhost:8080/"
        },
        "id": "tCz9AAa4r8ah",
        "outputId": "68e330b6-4309-408f-c1e7-cc897641f709"
      },
      "execution_count": null,
      "outputs": [
        {
          "output_type": "execute_result",
          "data": {
            "text/plain": [
              "limit_bal     object\n",
              "sex            int64\n",
              "education      int64\n",
              "marriage       int64\n",
              "age            int64\n",
              "pay_0          int64\n",
              "pay_2          int64\n",
              "pay_3          int64\n",
              "pay_4          int64\n",
              "pay_5          int64\n",
              "pay_6          int64\n",
              "bill_amt1    float64\n",
              "bill_amt2    float64\n",
              "bill_amt3    float64\n",
              "bill_amt4    float64\n",
              "bill_amt5    float64\n",
              "bill_amt6    float64\n",
              "pay_amt1     float64\n",
              "pay_amt2     float64\n",
              "pay_amt3     float64\n",
              "pay_amt4     float64\n",
              "pay_amt5     float64\n",
              "pay_amt6     float64\n",
              "default        int64\n",
              "dtype: object"
            ]
          },
          "metadata": {},
          "execution_count": 40
        }
      ]
    },
    {
      "cell_type": "markdown",
      "source": [
        "################################################################################\n"
      ],
      "metadata": {
        "id": "dz03_pwE0Tmw"
      }
    },
    {
      "cell_type": "code",
      "source": [
        "df.rename(columns={'default_payment_next_month':'default'}, inplace=True)"
      ],
      "metadata": {
        "id": "mueLCKl9AQj0"
      },
      "execution_count": null,
      "outputs": []
    },
    {
      "cell_type": "markdown",
      "source": [
        "Split the Data for Testing and Training"
      ],
      "metadata": {
        "id": "Bwh6s31cdvNb"
      }
    },
    {
      "cell_type": "code",
      "source": [
        "df_train_full, df_test = train_test_split(df, test_size=0.2, random_state=1)"
      ],
      "metadata": {
        "id": "JoXa4GeSdwHr"
      },
      "execution_count": null,
      "outputs": []
    },
    {
      "cell_type": "markdown",
      "source": [
        "Train, Test, Validate"
      ],
      "metadata": {
        "id": "jZWVccfHeDMb"
      }
    },
    {
      "cell_type": "code",
      "source": [
        "df_train, df_val = train_test_split(df_train_full, test_size=0.33, random_state=11)\n",
        "\n",
        "y_train = df_train.default.values\n",
        "y_val = df_val.default.values\n",
        "\n",
        "del df_train['default']\n",
        "del df_val['default']"
      ],
      "metadata": {
        "id": "HOK_Mrb0d8iO"
      },
      "execution_count": null,
      "outputs": []
    },
    {
      "cell_type": "markdown",
      "source": [
        "Exploratory Data Analysis"
      ],
      "metadata": {
        "id": "YFk4SbiEeVBr"
      }
    },
    {
      "cell_type": "code",
      "source": [
        "df_train_full.isnull().sum()"
      ],
      "metadata": {
        "colab": {
          "base_uri": "https://localhost:8080/"
        },
        "id": "vWCPfSCNeZjO",
        "outputId": "04d44a2c-d5c5-4fc6-d518-f1e7c15697b6"
      },
      "execution_count": null,
      "outputs": [
        {
          "output_type": "execute_result",
          "data": {
            "text/plain": [
              "limit_bal    0\n",
              "sex          0\n",
              "education    0\n",
              "marriage     0\n",
              "age          0\n",
              "pay_0        0\n",
              "pay_2        0\n",
              "pay_3        0\n",
              "pay_4        0\n",
              "pay_5        0\n",
              "pay_6        0\n",
              "bill_amt1    0\n",
              "bill_amt2    0\n",
              "bill_amt3    0\n",
              "bill_amt4    0\n",
              "bill_amt5    0\n",
              "bill_amt6    0\n",
              "pay_amt1     0\n",
              "pay_amt2     0\n",
              "pay_amt3     0\n",
              "pay_amt4     0\n",
              "pay_amt5     0\n",
              "pay_amt6     0\n",
              "default      0\n",
              "dtype: int64"
            ]
          },
          "metadata": {},
          "execution_count": 44
        }
      ]
    },
    {
      "cell_type": "markdown",
      "source": [
        "Validate the Distribution of the Target Variable"
      ],
      "metadata": {
        "id": "opqADTHLeiFC"
      }
    },
    {
      "cell_type": "code",
      "source": [
        "df_train_full.default.value_counts()"
      ],
      "metadata": {
        "colab": {
          "base_uri": "https://localhost:8080/"
        },
        "id": "LDdXlUDPejbP",
        "outputId": "c77a9e42-db0c-49e4-f6de-864591d9d502"
      },
      "execution_count": null,
      "outputs": [
        {
          "output_type": "execute_result",
          "data": {
            "text/plain": [
              "0    13930\n",
              "1     4054\n",
              "Name: default, dtype: int64"
            ]
          },
          "metadata": {},
          "execution_count": 45
        }
      ]
    },
    {
      "cell_type": "code",
      "source": [
        "defaulted = 4054/(4054 + 13930)\n",
        "print(\"percentage of customers Defaulted: \", round(defaulted, 5))"
      ],
      "metadata": {
        "colab": {
          "base_uri": "https://localhost:8080/"
        },
        "id": "CebiolLRep4h",
        "outputId": "6b492d08-879e-4355-813e-21e94b93ae16"
      },
      "execution_count": null,
      "outputs": [
        {
          "output_type": "stream",
          "name": "stdout",
          "text": [
            "percentage of customers Defaulted:  0.22542\n"
          ]
        }
      ]
    },
    {
      "cell_type": "markdown",
      "source": [
        "Compute the MEAN of the Target Variable"
      ],
      "metadata": {
        "id": "2n6bjEVefJT6"
      }
    },
    {
      "cell_type": "code",
      "source": [
        "global_mean = df_train_full.default.mean()\n",
        "round(global_mean, 3)\n"
      ],
      "metadata": {
        "colab": {
          "base_uri": "https://localhost:8080/"
        },
        "id": "zSQSZR4afFnD",
        "outputId": "3ca312fb-9717-493b-bbfb-cc1a27a5b8d1"
      },
      "execution_count": null,
      "outputs": [
        {
          "output_type": "execute_result",
          "data": {
            "text/plain": [
              "0.225"
            ]
          },
          "metadata": {},
          "execution_count": 47
        }
      ]
    },
    {
      "cell_type": "markdown",
      "source": [
        "## We have an ImBalanced Dataset"
      ],
      "metadata": {
        "id": "ZvyeFR9Vfqad"
      }
    },
    {
      "cell_type": "markdown",
      "source": [
        "# Categorical & Numerical Columns Require Different Treatments\n",
        "\n",
        "## categorical:  which will contain the names of categorical variables\n",
        "## numerical: will have the names of numerical variables"
      ],
      "metadata": {
        "id": "N2E6b-SYf2Og"
      }
    },
    {
      "cell_type": "code",
      "source": [
        " numerical = ['limit_bal','sex','education','marriage','age','pay_0','pay_2','pay_3','pay_4','pay_5','pay_6','bill_amt1','bill_amt2','bill_amt3','bill_amt4','bill_amt5','bill_amt6','pay_amt1','pay_amt2','pay_amt3','pay_amt4','pay_amt5','pay_amt6']\n",
        "\n",
        "\n"
      ],
      "metadata": {
        "id": "I1IlrkZRfNsM"
      },
      "execution_count": null,
      "outputs": []
    },
    {
      "cell_type": "markdown",
      "source": [
        "# Numerical Data\n",
        "\n",
        "## Get the Descriptive statistics for each column (Univariate Analysis)"
      ],
      "metadata": {
        "id": "TR0-P4zlgp7S"
      }
    },
    {
      "cell_type": "code",
      "source": [
        "df_train_full[numerical].describe()"
      ],
      "metadata": {
        "colab": {
          "base_uri": "https://localhost:8080/",
          "height": 394
        },
        "id": "GED4_nLag1-7",
        "outputId": "8c6f05dc-9605-4a7a-d664-05e06094b5b0"
      },
      "execution_count": null,
      "outputs": [
        {
          "output_type": "execute_result",
          "data": {
            "text/plain": [
              "                sex     education      marriage           age         pay_0  \\\n",
              "count  17984.000000  17984.000000  17984.000000  17984.000000  17984.000000   \n",
              "mean       1.606873      1.840469      1.563835     35.197120      0.014012   \n",
              "std        0.488458      0.775655      0.522353      9.303451      1.114789   \n",
              "min        1.000000      0.000000      0.000000     21.000000     -2.000000   \n",
              "25%        1.000000      1.000000      1.000000     28.000000     -1.000000   \n",
              "50%        2.000000      2.000000      2.000000     33.000000      0.000000   \n",
              "75%        2.000000      2.000000      2.000000     41.000000      0.000000   \n",
              "max        2.000000      6.000000      3.000000     79.000000      8.000000   \n",
              "\n",
              "              pay_2         pay_3         pay_4         pay_5         pay_6  \\\n",
              "count  17984.000000  17984.000000  17984.000000  17984.000000  17984.000000   \n",
              "mean      -0.099589     -0.132507     -0.192504     -0.238823     -0.261288   \n",
              "std        1.193754      1.198510      1.158744      1.128541      1.150113   \n",
              "min       -2.000000     -2.000000     -2.000000     -2.000000     -2.000000   \n",
              "25%       -1.000000     -1.000000     -1.000000     -1.000000     -1.000000   \n",
              "50%        0.000000      0.000000      0.000000      0.000000      0.000000   \n",
              "75%        0.000000      0.000000      0.000000      0.000000      0.000000   \n",
              "max        8.000000      8.000000      8.000000      8.000000      8.000000   \n",
              "\n",
              "       ...     bill_amt3      bill_amt4      bill_amt5      bill_amt6  \\\n",
              "count  ...  1.798400e+04   17984.000000   17984.000000   17984.000000   \n",
              "mean   ...  4.626113e+04   42167.730649   39986.747998   38643.436054   \n",
              "std    ...  6.732882e+04   62014.962831   59477.727782   58480.879713   \n",
              "min    ... -1.572640e+05 -170000.000000  -46627.000000  -51183.000000   \n",
              "25%    ...  3.002000e+03    2430.750000    1905.750000    1339.750000   \n",
              "50%    ...  2.046650e+04   19145.000000   18401.000000   17423.000000   \n",
              "75%    ...  5.952325e+04   52289.500000   49911.000000   49051.000000   \n",
              "max    ...  1.664089e+06  628699.000000  823540.000000  699944.000000   \n",
              "\n",
              "            pay_amt1      pay_amt2       pay_amt3       pay_amt4  \\\n",
              "count   17984.000000  1.798400e+04   17984.000000   17984.000000   \n",
              "mean     5484.431272  5.767289e+03    4787.711021    4659.101368   \n",
              "std     15426.304170  2.131107e+04   14312.799326   14640.814424   \n",
              "min         0.000000  0.000000e+00       0.000000       0.000000   \n",
              "25%      1000.000000  8.200000e+02     381.000000     300.000000   \n",
              "50%      2100.000000  2.000000e+03    1684.000000    1500.000000   \n",
              "75%      5000.000000  5.000000e+03    4250.000000    4000.000000   \n",
              "max    505000.000000  1.684259e+06  371718.000000  497000.000000   \n",
              "\n",
              "            pay_amt5       pay_amt6  \n",
              "count   17984.000000   17984.000000  \n",
              "mean     4710.843250    5048.734319  \n",
              "std     14789.971146   16791.132472  \n",
              "min         0.000000       0.000000  \n",
              "25%       291.000000     104.750000  \n",
              "50%      1500.000000    1500.000000  \n",
              "75%      4003.000000    4000.000000  \n",
              "max    417990.000000  527143.000000  \n",
              "\n",
              "[8 rows x 22 columns]"
            ],
            "text/html": [
              "\n",
              "  <div id=\"df-623d4c36-e488-42b8-bb2d-af6dc057dd22\">\n",
              "    <div class=\"colab-df-container\">\n",
              "      <div>\n",
              "<style scoped>\n",
              "    .dataframe tbody tr th:only-of-type {\n",
              "        vertical-align: middle;\n",
              "    }\n",
              "\n",
              "    .dataframe tbody tr th {\n",
              "        vertical-align: top;\n",
              "    }\n",
              "\n",
              "    .dataframe thead th {\n",
              "        text-align: right;\n",
              "    }\n",
              "</style>\n",
              "<table border=\"1\" class=\"dataframe\">\n",
              "  <thead>\n",
              "    <tr style=\"text-align: right;\">\n",
              "      <th></th>\n",
              "      <th>sex</th>\n",
              "      <th>education</th>\n",
              "      <th>marriage</th>\n",
              "      <th>age</th>\n",
              "      <th>pay_0</th>\n",
              "      <th>pay_2</th>\n",
              "      <th>pay_3</th>\n",
              "      <th>pay_4</th>\n",
              "      <th>pay_5</th>\n",
              "      <th>pay_6</th>\n",
              "      <th>...</th>\n",
              "      <th>bill_amt3</th>\n",
              "      <th>bill_amt4</th>\n",
              "      <th>bill_amt5</th>\n",
              "      <th>bill_amt6</th>\n",
              "      <th>pay_amt1</th>\n",
              "      <th>pay_amt2</th>\n",
              "      <th>pay_amt3</th>\n",
              "      <th>pay_amt4</th>\n",
              "      <th>pay_amt5</th>\n",
              "      <th>pay_amt6</th>\n",
              "    </tr>\n",
              "  </thead>\n",
              "  <tbody>\n",
              "    <tr>\n",
              "      <th>count</th>\n",
              "      <td>17984.000000</td>\n",
              "      <td>17984.000000</td>\n",
              "      <td>17984.000000</td>\n",
              "      <td>17984.000000</td>\n",
              "      <td>17984.000000</td>\n",
              "      <td>17984.000000</td>\n",
              "      <td>17984.000000</td>\n",
              "      <td>17984.000000</td>\n",
              "      <td>17984.000000</td>\n",
              "      <td>17984.000000</td>\n",
              "      <td>...</td>\n",
              "      <td>1.798400e+04</td>\n",
              "      <td>17984.000000</td>\n",
              "      <td>17984.000000</td>\n",
              "      <td>17984.000000</td>\n",
              "      <td>17984.000000</td>\n",
              "      <td>1.798400e+04</td>\n",
              "      <td>17984.000000</td>\n",
              "      <td>17984.000000</td>\n",
              "      <td>17984.000000</td>\n",
              "      <td>17984.000000</td>\n",
              "    </tr>\n",
              "    <tr>\n",
              "      <th>mean</th>\n",
              "      <td>1.606873</td>\n",
              "      <td>1.840469</td>\n",
              "      <td>1.563835</td>\n",
              "      <td>35.197120</td>\n",
              "      <td>0.014012</td>\n",
              "      <td>-0.099589</td>\n",
              "      <td>-0.132507</td>\n",
              "      <td>-0.192504</td>\n",
              "      <td>-0.238823</td>\n",
              "      <td>-0.261288</td>\n",
              "      <td>...</td>\n",
              "      <td>4.626113e+04</td>\n",
              "      <td>42167.730649</td>\n",
              "      <td>39986.747998</td>\n",
              "      <td>38643.436054</td>\n",
              "      <td>5484.431272</td>\n",
              "      <td>5.767289e+03</td>\n",
              "      <td>4787.711021</td>\n",
              "      <td>4659.101368</td>\n",
              "      <td>4710.843250</td>\n",
              "      <td>5048.734319</td>\n",
              "    </tr>\n",
              "    <tr>\n",
              "      <th>std</th>\n",
              "      <td>0.488458</td>\n",
              "      <td>0.775655</td>\n",
              "      <td>0.522353</td>\n",
              "      <td>9.303451</td>\n",
              "      <td>1.114789</td>\n",
              "      <td>1.193754</td>\n",
              "      <td>1.198510</td>\n",
              "      <td>1.158744</td>\n",
              "      <td>1.128541</td>\n",
              "      <td>1.150113</td>\n",
              "      <td>...</td>\n",
              "      <td>6.732882e+04</td>\n",
              "      <td>62014.962831</td>\n",
              "      <td>59477.727782</td>\n",
              "      <td>58480.879713</td>\n",
              "      <td>15426.304170</td>\n",
              "      <td>2.131107e+04</td>\n",
              "      <td>14312.799326</td>\n",
              "      <td>14640.814424</td>\n",
              "      <td>14789.971146</td>\n",
              "      <td>16791.132472</td>\n",
              "    </tr>\n",
              "    <tr>\n",
              "      <th>min</th>\n",
              "      <td>1.000000</td>\n",
              "      <td>0.000000</td>\n",
              "      <td>0.000000</td>\n",
              "      <td>21.000000</td>\n",
              "      <td>-2.000000</td>\n",
              "      <td>-2.000000</td>\n",
              "      <td>-2.000000</td>\n",
              "      <td>-2.000000</td>\n",
              "      <td>-2.000000</td>\n",
              "      <td>-2.000000</td>\n",
              "      <td>...</td>\n",
              "      <td>-1.572640e+05</td>\n",
              "      <td>-170000.000000</td>\n",
              "      <td>-46627.000000</td>\n",
              "      <td>-51183.000000</td>\n",
              "      <td>0.000000</td>\n",
              "      <td>0.000000e+00</td>\n",
              "      <td>0.000000</td>\n",
              "      <td>0.000000</td>\n",
              "      <td>0.000000</td>\n",
              "      <td>0.000000</td>\n",
              "    </tr>\n",
              "    <tr>\n",
              "      <th>25%</th>\n",
              "      <td>1.000000</td>\n",
              "      <td>1.000000</td>\n",
              "      <td>1.000000</td>\n",
              "      <td>28.000000</td>\n",
              "      <td>-1.000000</td>\n",
              "      <td>-1.000000</td>\n",
              "      <td>-1.000000</td>\n",
              "      <td>-1.000000</td>\n",
              "      <td>-1.000000</td>\n",
              "      <td>-1.000000</td>\n",
              "      <td>...</td>\n",
              "      <td>3.002000e+03</td>\n",
              "      <td>2430.750000</td>\n",
              "      <td>1905.750000</td>\n",
              "      <td>1339.750000</td>\n",
              "      <td>1000.000000</td>\n",
              "      <td>8.200000e+02</td>\n",
              "      <td>381.000000</td>\n",
              "      <td>300.000000</td>\n",
              "      <td>291.000000</td>\n",
              "      <td>104.750000</td>\n",
              "    </tr>\n",
              "    <tr>\n",
              "      <th>50%</th>\n",
              "      <td>2.000000</td>\n",
              "      <td>2.000000</td>\n",
              "      <td>2.000000</td>\n",
              "      <td>33.000000</td>\n",
              "      <td>0.000000</td>\n",
              "      <td>0.000000</td>\n",
              "      <td>0.000000</td>\n",
              "      <td>0.000000</td>\n",
              "      <td>0.000000</td>\n",
              "      <td>0.000000</td>\n",
              "      <td>...</td>\n",
              "      <td>2.046650e+04</td>\n",
              "      <td>19145.000000</td>\n",
              "      <td>18401.000000</td>\n",
              "      <td>17423.000000</td>\n",
              "      <td>2100.000000</td>\n",
              "      <td>2.000000e+03</td>\n",
              "      <td>1684.000000</td>\n",
              "      <td>1500.000000</td>\n",
              "      <td>1500.000000</td>\n",
              "      <td>1500.000000</td>\n",
              "    </tr>\n",
              "    <tr>\n",
              "      <th>75%</th>\n",
              "      <td>2.000000</td>\n",
              "      <td>2.000000</td>\n",
              "      <td>2.000000</td>\n",
              "      <td>41.000000</td>\n",
              "      <td>0.000000</td>\n",
              "      <td>0.000000</td>\n",
              "      <td>0.000000</td>\n",
              "      <td>0.000000</td>\n",
              "      <td>0.000000</td>\n",
              "      <td>0.000000</td>\n",
              "      <td>...</td>\n",
              "      <td>5.952325e+04</td>\n",
              "      <td>52289.500000</td>\n",
              "      <td>49911.000000</td>\n",
              "      <td>49051.000000</td>\n",
              "      <td>5000.000000</td>\n",
              "      <td>5.000000e+03</td>\n",
              "      <td>4250.000000</td>\n",
              "      <td>4000.000000</td>\n",
              "      <td>4003.000000</td>\n",
              "      <td>4000.000000</td>\n",
              "    </tr>\n",
              "    <tr>\n",
              "      <th>max</th>\n",
              "      <td>2.000000</td>\n",
              "      <td>6.000000</td>\n",
              "      <td>3.000000</td>\n",
              "      <td>79.000000</td>\n",
              "      <td>8.000000</td>\n",
              "      <td>8.000000</td>\n",
              "      <td>8.000000</td>\n",
              "      <td>8.000000</td>\n",
              "      <td>8.000000</td>\n",
              "      <td>8.000000</td>\n",
              "      <td>...</td>\n",
              "      <td>1.664089e+06</td>\n",
              "      <td>628699.000000</td>\n",
              "      <td>823540.000000</td>\n",
              "      <td>699944.000000</td>\n",
              "      <td>505000.000000</td>\n",
              "      <td>1.684259e+06</td>\n",
              "      <td>371718.000000</td>\n",
              "      <td>497000.000000</td>\n",
              "      <td>417990.000000</td>\n",
              "      <td>527143.000000</td>\n",
              "    </tr>\n",
              "  </tbody>\n",
              "</table>\n",
              "<p>8 rows × 22 columns</p>\n",
              "</div>\n",
              "      <button class=\"colab-df-convert\" onclick=\"convertToInteractive('df-623d4c36-e488-42b8-bb2d-af6dc057dd22')\"\n",
              "              title=\"Convert this dataframe to an interactive table.\"\n",
              "              style=\"display:none;\">\n",
              "        \n",
              "  <svg xmlns=\"http://www.w3.org/2000/svg\" height=\"24px\"viewBox=\"0 0 24 24\"\n",
              "       width=\"24px\">\n",
              "    <path d=\"M0 0h24v24H0V0z\" fill=\"none\"/>\n",
              "    <path d=\"M18.56 5.44l.94 2.06.94-2.06 2.06-.94-2.06-.94-.94-2.06-.94 2.06-2.06.94zm-11 1L8.5 8.5l.94-2.06 2.06-.94-2.06-.94L8.5 2.5l-.94 2.06-2.06.94zm10 10l.94 2.06.94-2.06 2.06-.94-2.06-.94-.94-2.06-.94 2.06-2.06.94z\"/><path d=\"M17.41 7.96l-1.37-1.37c-.4-.4-.92-.59-1.43-.59-.52 0-1.04.2-1.43.59L10.3 9.45l-7.72 7.72c-.78.78-.78 2.05 0 2.83L4 21.41c.39.39.9.59 1.41.59.51 0 1.02-.2 1.41-.59l7.78-7.78 2.81-2.81c.8-.78.8-2.07 0-2.86zM5.41 20L4 18.59l7.72-7.72 1.47 1.35L5.41 20z\"/>\n",
              "  </svg>\n",
              "      </button>\n",
              "      \n",
              "  <style>\n",
              "    .colab-df-container {\n",
              "      display:flex;\n",
              "      flex-wrap:wrap;\n",
              "      gap: 12px;\n",
              "    }\n",
              "\n",
              "    .colab-df-convert {\n",
              "      background-color: #E8F0FE;\n",
              "      border: none;\n",
              "      border-radius: 50%;\n",
              "      cursor: pointer;\n",
              "      display: none;\n",
              "      fill: #1967D2;\n",
              "      height: 32px;\n",
              "      padding: 0 0 0 0;\n",
              "      width: 32px;\n",
              "    }\n",
              "\n",
              "    .colab-df-convert:hover {\n",
              "      background-color: #E2EBFA;\n",
              "      box-shadow: 0px 1px 2px rgba(60, 64, 67, 0.3), 0px 1px 3px 1px rgba(60, 64, 67, 0.15);\n",
              "      fill: #174EA6;\n",
              "    }\n",
              "\n",
              "    [theme=dark] .colab-df-convert {\n",
              "      background-color: #3B4455;\n",
              "      fill: #D2E3FC;\n",
              "    }\n",
              "\n",
              "    [theme=dark] .colab-df-convert:hover {\n",
              "      background-color: #434B5C;\n",
              "      box-shadow: 0px 1px 3px 1px rgba(0, 0, 0, 0.15);\n",
              "      filter: drop-shadow(0px 1px 2px rgba(0, 0, 0, 0.3));\n",
              "      fill: #FFFFFF;\n",
              "    }\n",
              "  </style>\n",
              "\n",
              "      <script>\n",
              "        const buttonEl =\n",
              "          document.querySelector('#df-623d4c36-e488-42b8-bb2d-af6dc057dd22 button.colab-df-convert');\n",
              "        buttonEl.style.display =\n",
              "          google.colab.kernel.accessAllowed ? 'block' : 'none';\n",
              "\n",
              "        async function convertToInteractive(key) {\n",
              "          const element = document.querySelector('#df-623d4c36-e488-42b8-bb2d-af6dc057dd22');\n",
              "          const dataTable =\n",
              "            await google.colab.kernel.invokeFunction('convertToInteractive',\n",
              "                                                     [key], {});\n",
              "          if (!dataTable) return;\n",
              "\n",
              "          const docLinkHtml = 'Like what you see? Visit the ' +\n",
              "            '<a target=\"_blank\" href=https://colab.research.google.com/notebooks/data_table.ipynb>data table notebook</a>'\n",
              "            + ' to learn more about interactive tables.';\n",
              "          element.innerHTML = '';\n",
              "          dataTable['output_type'] = 'display_data';\n",
              "          await google.colab.output.renderOutput(dataTable, element);\n",
              "          const docLink = document.createElement('div');\n",
              "          docLink.innerHTML = docLinkHtml;\n",
              "          element.appendChild(docLink);\n",
              "        }\n",
              "      </script>\n",
              "    </div>\n",
              "  </div>\n",
              "  "
            ]
          },
          "metadata": {},
          "execution_count": 54
        }
      ]
    },
    {
      "cell_type": "markdown",
      "source": [
        "# Correlations"
      ],
      "metadata": {
        "id": "Rcnwefulg-2V"
      }
    },
    {
      "cell_type": "code",
      "source": [
        "df_train_full.corr()"
      ],
      "metadata": {
        "colab": {
          "base_uri": "https://localhost:8080/",
          "height": 900
        },
        "id": "9z4mrHF6hBDS",
        "outputId": "f1f06751-30f8-43b3-e542-2d62b41808ec"
      },
      "execution_count": null,
      "outputs": [
        {
          "output_type": "stream",
          "name": "stderr",
          "text": [
            "<ipython-input-55-e1a2823212c6>:1: FutureWarning: The default value of numeric_only in DataFrame.corr is deprecated. In a future version, it will default to False. Select only valid columns or specify the value of numeric_only to silence this warning.\n",
            "  df_train_full.corr()\n"
          ]
        },
        {
          "output_type": "execute_result",
          "data": {
            "text/plain": [
              "                sex  education  marriage       age     pay_0     pay_2  \\\n",
              "sex        1.000000   0.014841 -0.014753 -0.133654 -0.048603 -0.057229   \n",
              "education  0.014841   1.000000 -0.140316  0.165728  0.114870  0.134301   \n",
              "marriage  -0.014753  -0.140316  1.000000 -0.419362  0.014221  0.017820   \n",
              "age       -0.133654   0.165728 -0.419362  1.000000 -0.027852 -0.044182   \n",
              "pay_0     -0.048603   0.114870  0.014221 -0.027852  1.000000  0.662813   \n",
              "pay_2     -0.057229   0.134301  0.017820 -0.044182  0.662813  1.000000   \n",
              "pay_3     -0.058781   0.122018  0.028212 -0.047200  0.562804  0.759605   \n",
              "pay_4     -0.048830   0.119453  0.025724 -0.042203  0.529948  0.657052   \n",
              "pay_5     -0.042114   0.105759  0.032136 -0.045408  0.497795  0.614374   \n",
              "pay_6     -0.029825   0.091779  0.030495 -0.038077  0.463548  0.563837   \n",
              "bill_amt1 -0.037054   0.024204 -0.021145  0.056818  0.182936  0.231110   \n",
              "bill_amt2 -0.035171   0.017556 -0.022917  0.056070  0.186628  0.232452   \n",
              "bill_amt3 -0.027244   0.011044 -0.028224  0.056932  0.174906  0.218664   \n",
              "bill_amt4 -0.021123  -0.002108 -0.027366  0.055006  0.179247  0.221823   \n",
              "bill_amt5 -0.020523  -0.007075 -0.027598  0.054419  0.181170  0.220452   \n",
              "bill_amt6 -0.018608  -0.007272 -0.026070  0.054366  0.175431  0.215521   \n",
              "pay_amt1   0.003217  -0.043201 -0.019259  0.030252 -0.087880 -0.085677   \n",
              "pay_amt2  -0.005282  -0.033584 -0.020604  0.025684 -0.082691 -0.071886   \n",
              "pay_amt3  -0.003615  -0.041795 -0.013206  0.028375 -0.083370 -0.064114   \n",
              "pay_amt4  -0.003847  -0.038966 -0.014897  0.019441 -0.065149 -0.050660   \n",
              "pay_amt5  -0.000381  -0.042717 -0.005221  0.023145 -0.063066 -0.045977   \n",
              "pay_amt6  -0.014366  -0.046146 -0.006271  0.017733 -0.064241 -0.039070   \n",
              "default   -0.046386   0.029121 -0.033064  0.014073  0.322446  0.257033   \n",
              "\n",
              "              pay_3     pay_4     pay_5     pay_6  ...  bill_amt4  bill_amt5  \\\n",
              "sex       -0.058781 -0.048830 -0.042114 -0.029825  ...  -0.021123  -0.020523   \n",
              "education  0.122018  0.119453  0.105759  0.091779  ...  -0.002108  -0.007075   \n",
              "marriage   0.028212  0.025724  0.032136  0.030495  ...  -0.027366  -0.027598   \n",
              "age       -0.047200 -0.042203 -0.045408 -0.038077  ...   0.055006   0.054419   \n",
              "pay_0      0.562804  0.529948  0.497795  0.463548  ...   0.179247   0.181170   \n",
              "pay_2      0.759605  0.657052  0.614374  0.563837  ...   0.221823   0.220452   \n",
              "pay_3      1.000000  0.773770  0.678935  0.621036  ...   0.225251   0.222335   \n",
              "pay_4      0.773770  1.000000  0.817870  0.710157  ...   0.247739   0.244201   \n",
              "pay_5      0.678935  0.817870  1.000000  0.805524  ...   0.274233   0.271004   \n",
              "pay_6      0.621036  0.710157  0.805524  1.000000  ...   0.267190   0.290318   \n",
              "bill_amt1  0.201670  0.199933  0.204979  0.206445  ...   0.860555   0.836478   \n",
              "bill_amt2  0.231724  0.224462  0.225388  0.225970  ...   0.893204   0.867019   \n",
              "bill_amt3  0.221447  0.241808  0.240396  0.238899  ...   0.923043   0.893045   \n",
              "bill_amt4  0.225251  0.247739  0.274233  0.267190  ...   1.000000   0.948690   \n",
              "bill_amt5  0.222335  0.244201  0.271004  0.290318  ...   0.948690   1.000000   \n",
              "bill_amt6  0.218655  0.238582  0.262493  0.283940  ...   0.910210   0.949811   \n",
              "pay_amt1   0.004184 -0.007350 -0.007535 -0.001540  ...   0.237202   0.217987   \n",
              "pay_amt2  -0.074857 -0.001457 -0.008290 -0.012140  ...   0.209308   0.189464   \n",
              "pay_amt3  -0.063533 -0.071259  0.012233  0.005944  ...   0.291049   0.237114   \n",
              "pay_amt4  -0.049774 -0.042521 -0.061510  0.023241  ...   0.132688   0.287587   \n",
              "pay_amt5  -0.038358 -0.036017 -0.036420 -0.049140  ...   0.162186   0.145186   \n",
              "pay_amt6  -0.039140 -0.027838 -0.028997 -0.029050  ...   0.165022   0.150430   \n",
              "default    0.231303  0.212623  0.203901  0.183886  ...  -0.000658   0.002427   \n",
              "\n",
              "           bill_amt6  pay_amt1  pay_amt2  pay_amt3  pay_amt4  pay_amt5  \\\n",
              "sex        -0.018608  0.003217 -0.005282 -0.003615 -0.003847 -0.000381   \n",
              "education  -0.007272 -0.043201 -0.033584 -0.041795 -0.038966 -0.042717   \n",
              "marriage   -0.026070 -0.019259 -0.020604 -0.013206 -0.014897 -0.005221   \n",
              "age         0.054366  0.030252  0.025684  0.028375  0.019441  0.023145   \n",
              "pay_0       0.175431 -0.087880 -0.082691 -0.083370 -0.065149 -0.063066   \n",
              "pay_2       0.215521 -0.085677 -0.071886 -0.064114 -0.050660 -0.045977   \n",
              "pay_3       0.218655  0.004184 -0.074857 -0.063533 -0.049774 -0.038358   \n",
              "pay_4       0.238582 -0.007350 -0.001457 -0.071259 -0.042521 -0.036017   \n",
              "pay_5       0.262493 -0.007535 -0.008290  0.012233 -0.061510 -0.036420   \n",
              "pay_6       0.283940 -0.001540 -0.012140  0.005944  0.023241 -0.049140   \n",
              "bill_amt1   0.811552  0.136728  0.100689  0.148623  0.169853  0.164041   \n",
              "bill_amt2   0.840027  0.288637  0.089844  0.137994  0.157372  0.159998   \n",
              "bill_amt3   0.864705  0.251750  0.341332  0.134979  0.162514  0.196605   \n",
              "bill_amt4   0.910210  0.237202  0.209308  0.291049  0.132688  0.162186   \n",
              "bill_amt5   0.949811  0.217987  0.189464  0.237114  0.287587  0.145186   \n",
              "bill_amt6   1.000000  0.201839  0.181511  0.220294  0.250041  0.306097   \n",
              "pay_amt1    0.201839  1.000000  0.153559  0.165423  0.141686  0.163493   \n",
              "pay_amt2    0.181511  0.153559  1.000000  0.184581  0.148292  0.238354   \n",
              "pay_amt3    0.220294  0.165423  0.184581  1.000000  0.165410  0.151687   \n",
              "pay_amt4    0.250041  0.141686  0.148292  0.165410  1.000000  0.136618   \n",
              "pay_amt5    0.306097  0.163493  0.238354  0.151687  0.136618  1.000000   \n",
              "pay_amt6    0.115216  0.194355  0.145048  0.159169  0.141830  0.161795   \n",
              "default     0.004218 -0.075394 -0.054353 -0.061984 -0.055503 -0.052828   \n",
              "\n",
              "           pay_amt6   default  \n",
              "sex       -0.014366 -0.046386  \n",
              "education -0.046146  0.029121  \n",
              "marriage  -0.006271 -0.033064  \n",
              "age        0.017733  0.014073  \n",
              "pay_0     -0.064241  0.322446  \n",
              "pay_2     -0.039070  0.257033  \n",
              "pay_3     -0.039140  0.231303  \n",
              "pay_4     -0.027838  0.212623  \n",
              "pay_5     -0.028997  0.203901  \n",
              "pay_6     -0.029050  0.183886  \n",
              "bill_amt1  0.168876 -0.016571  \n",
              "bill_amt2  0.171378 -0.010090  \n",
              "bill_amt3  0.173333 -0.007125  \n",
              "bill_amt4  0.165022 -0.000658  \n",
              "bill_amt5  0.150430  0.002427  \n",
              "bill_amt6  0.115216  0.004218  \n",
              "pay_amt1   0.194355 -0.075394  \n",
              "pay_amt2   0.145048 -0.054353  \n",
              "pay_amt3   0.159169 -0.061984  \n",
              "pay_amt4   0.141830 -0.055503  \n",
              "pay_amt5   0.161795 -0.052828  \n",
              "pay_amt6   1.000000 -0.056244  \n",
              "default   -0.056244  1.000000  \n",
              "\n",
              "[23 rows x 23 columns]"
            ],
            "text/html": [
              "\n",
              "  <div id=\"df-db305ca9-8aba-479b-8bac-7c769da3afa4\">\n",
              "    <div class=\"colab-df-container\">\n",
              "      <div>\n",
              "<style scoped>\n",
              "    .dataframe tbody tr th:only-of-type {\n",
              "        vertical-align: middle;\n",
              "    }\n",
              "\n",
              "    .dataframe tbody tr th {\n",
              "        vertical-align: top;\n",
              "    }\n",
              "\n",
              "    .dataframe thead th {\n",
              "        text-align: right;\n",
              "    }\n",
              "</style>\n",
              "<table border=\"1\" class=\"dataframe\">\n",
              "  <thead>\n",
              "    <tr style=\"text-align: right;\">\n",
              "      <th></th>\n",
              "      <th>sex</th>\n",
              "      <th>education</th>\n",
              "      <th>marriage</th>\n",
              "      <th>age</th>\n",
              "      <th>pay_0</th>\n",
              "      <th>pay_2</th>\n",
              "      <th>pay_3</th>\n",
              "      <th>pay_4</th>\n",
              "      <th>pay_5</th>\n",
              "      <th>pay_6</th>\n",
              "      <th>...</th>\n",
              "      <th>bill_amt4</th>\n",
              "      <th>bill_amt5</th>\n",
              "      <th>bill_amt6</th>\n",
              "      <th>pay_amt1</th>\n",
              "      <th>pay_amt2</th>\n",
              "      <th>pay_amt3</th>\n",
              "      <th>pay_amt4</th>\n",
              "      <th>pay_amt5</th>\n",
              "      <th>pay_amt6</th>\n",
              "      <th>default</th>\n",
              "    </tr>\n",
              "  </thead>\n",
              "  <tbody>\n",
              "    <tr>\n",
              "      <th>sex</th>\n",
              "      <td>1.000000</td>\n",
              "      <td>0.014841</td>\n",
              "      <td>-0.014753</td>\n",
              "      <td>-0.133654</td>\n",
              "      <td>-0.048603</td>\n",
              "      <td>-0.057229</td>\n",
              "      <td>-0.058781</td>\n",
              "      <td>-0.048830</td>\n",
              "      <td>-0.042114</td>\n",
              "      <td>-0.029825</td>\n",
              "      <td>...</td>\n",
              "      <td>-0.021123</td>\n",
              "      <td>-0.020523</td>\n",
              "      <td>-0.018608</td>\n",
              "      <td>0.003217</td>\n",
              "      <td>-0.005282</td>\n",
              "      <td>-0.003615</td>\n",
              "      <td>-0.003847</td>\n",
              "      <td>-0.000381</td>\n",
              "      <td>-0.014366</td>\n",
              "      <td>-0.046386</td>\n",
              "    </tr>\n",
              "    <tr>\n",
              "      <th>education</th>\n",
              "      <td>0.014841</td>\n",
              "      <td>1.000000</td>\n",
              "      <td>-0.140316</td>\n",
              "      <td>0.165728</td>\n",
              "      <td>0.114870</td>\n",
              "      <td>0.134301</td>\n",
              "      <td>0.122018</td>\n",
              "      <td>0.119453</td>\n",
              "      <td>0.105759</td>\n",
              "      <td>0.091779</td>\n",
              "      <td>...</td>\n",
              "      <td>-0.002108</td>\n",
              "      <td>-0.007075</td>\n",
              "      <td>-0.007272</td>\n",
              "      <td>-0.043201</td>\n",
              "      <td>-0.033584</td>\n",
              "      <td>-0.041795</td>\n",
              "      <td>-0.038966</td>\n",
              "      <td>-0.042717</td>\n",
              "      <td>-0.046146</td>\n",
              "      <td>0.029121</td>\n",
              "    </tr>\n",
              "    <tr>\n",
              "      <th>marriage</th>\n",
              "      <td>-0.014753</td>\n",
              "      <td>-0.140316</td>\n",
              "      <td>1.000000</td>\n",
              "      <td>-0.419362</td>\n",
              "      <td>0.014221</td>\n",
              "      <td>0.017820</td>\n",
              "      <td>0.028212</td>\n",
              "      <td>0.025724</td>\n",
              "      <td>0.032136</td>\n",
              "      <td>0.030495</td>\n",
              "      <td>...</td>\n",
              "      <td>-0.027366</td>\n",
              "      <td>-0.027598</td>\n",
              "      <td>-0.026070</td>\n",
              "      <td>-0.019259</td>\n",
              "      <td>-0.020604</td>\n",
              "      <td>-0.013206</td>\n",
              "      <td>-0.014897</td>\n",
              "      <td>-0.005221</td>\n",
              "      <td>-0.006271</td>\n",
              "      <td>-0.033064</td>\n",
              "    </tr>\n",
              "    <tr>\n",
              "      <th>age</th>\n",
              "      <td>-0.133654</td>\n",
              "      <td>0.165728</td>\n",
              "      <td>-0.419362</td>\n",
              "      <td>1.000000</td>\n",
              "      <td>-0.027852</td>\n",
              "      <td>-0.044182</td>\n",
              "      <td>-0.047200</td>\n",
              "      <td>-0.042203</td>\n",
              "      <td>-0.045408</td>\n",
              "      <td>-0.038077</td>\n",
              "      <td>...</td>\n",
              "      <td>0.055006</td>\n",
              "      <td>0.054419</td>\n",
              "      <td>0.054366</td>\n",
              "      <td>0.030252</td>\n",
              "      <td>0.025684</td>\n",
              "      <td>0.028375</td>\n",
              "      <td>0.019441</td>\n",
              "      <td>0.023145</td>\n",
              "      <td>0.017733</td>\n",
              "      <td>0.014073</td>\n",
              "    </tr>\n",
              "    <tr>\n",
              "      <th>pay_0</th>\n",
              "      <td>-0.048603</td>\n",
              "      <td>0.114870</td>\n",
              "      <td>0.014221</td>\n",
              "      <td>-0.027852</td>\n",
              "      <td>1.000000</td>\n",
              "      <td>0.662813</td>\n",
              "      <td>0.562804</td>\n",
              "      <td>0.529948</td>\n",
              "      <td>0.497795</td>\n",
              "      <td>0.463548</td>\n",
              "      <td>...</td>\n",
              "      <td>0.179247</td>\n",
              "      <td>0.181170</td>\n",
              "      <td>0.175431</td>\n",
              "      <td>-0.087880</td>\n",
              "      <td>-0.082691</td>\n",
              "      <td>-0.083370</td>\n",
              "      <td>-0.065149</td>\n",
              "      <td>-0.063066</td>\n",
              "      <td>-0.064241</td>\n",
              "      <td>0.322446</td>\n",
              "    </tr>\n",
              "    <tr>\n",
              "      <th>pay_2</th>\n",
              "      <td>-0.057229</td>\n",
              "      <td>0.134301</td>\n",
              "      <td>0.017820</td>\n",
              "      <td>-0.044182</td>\n",
              "      <td>0.662813</td>\n",
              "      <td>1.000000</td>\n",
              "      <td>0.759605</td>\n",
              "      <td>0.657052</td>\n",
              "      <td>0.614374</td>\n",
              "      <td>0.563837</td>\n",
              "      <td>...</td>\n",
              "      <td>0.221823</td>\n",
              "      <td>0.220452</td>\n",
              "      <td>0.215521</td>\n",
              "      <td>-0.085677</td>\n",
              "      <td>-0.071886</td>\n",
              "      <td>-0.064114</td>\n",
              "      <td>-0.050660</td>\n",
              "      <td>-0.045977</td>\n",
              "      <td>-0.039070</td>\n",
              "      <td>0.257033</td>\n",
              "    </tr>\n",
              "    <tr>\n",
              "      <th>pay_3</th>\n",
              "      <td>-0.058781</td>\n",
              "      <td>0.122018</td>\n",
              "      <td>0.028212</td>\n",
              "      <td>-0.047200</td>\n",
              "      <td>0.562804</td>\n",
              "      <td>0.759605</td>\n",
              "      <td>1.000000</td>\n",
              "      <td>0.773770</td>\n",
              "      <td>0.678935</td>\n",
              "      <td>0.621036</td>\n",
              "      <td>...</td>\n",
              "      <td>0.225251</td>\n",
              "      <td>0.222335</td>\n",
              "      <td>0.218655</td>\n",
              "      <td>0.004184</td>\n",
              "      <td>-0.074857</td>\n",
              "      <td>-0.063533</td>\n",
              "      <td>-0.049774</td>\n",
              "      <td>-0.038358</td>\n",
              "      <td>-0.039140</td>\n",
              "      <td>0.231303</td>\n",
              "    </tr>\n",
              "    <tr>\n",
              "      <th>pay_4</th>\n",
              "      <td>-0.048830</td>\n",
              "      <td>0.119453</td>\n",
              "      <td>0.025724</td>\n",
              "      <td>-0.042203</td>\n",
              "      <td>0.529948</td>\n",
              "      <td>0.657052</td>\n",
              "      <td>0.773770</td>\n",
              "      <td>1.000000</td>\n",
              "      <td>0.817870</td>\n",
              "      <td>0.710157</td>\n",
              "      <td>...</td>\n",
              "      <td>0.247739</td>\n",
              "      <td>0.244201</td>\n",
              "      <td>0.238582</td>\n",
              "      <td>-0.007350</td>\n",
              "      <td>-0.001457</td>\n",
              "      <td>-0.071259</td>\n",
              "      <td>-0.042521</td>\n",
              "      <td>-0.036017</td>\n",
              "      <td>-0.027838</td>\n",
              "      <td>0.212623</td>\n",
              "    </tr>\n",
              "    <tr>\n",
              "      <th>pay_5</th>\n",
              "      <td>-0.042114</td>\n",
              "      <td>0.105759</td>\n",
              "      <td>0.032136</td>\n",
              "      <td>-0.045408</td>\n",
              "      <td>0.497795</td>\n",
              "      <td>0.614374</td>\n",
              "      <td>0.678935</td>\n",
              "      <td>0.817870</td>\n",
              "      <td>1.000000</td>\n",
              "      <td>0.805524</td>\n",
              "      <td>...</td>\n",
              "      <td>0.274233</td>\n",
              "      <td>0.271004</td>\n",
              "      <td>0.262493</td>\n",
              "      <td>-0.007535</td>\n",
              "      <td>-0.008290</td>\n",
              "      <td>0.012233</td>\n",
              "      <td>-0.061510</td>\n",
              "      <td>-0.036420</td>\n",
              "      <td>-0.028997</td>\n",
              "      <td>0.203901</td>\n",
              "    </tr>\n",
              "    <tr>\n",
              "      <th>pay_6</th>\n",
              "      <td>-0.029825</td>\n",
              "      <td>0.091779</td>\n",
              "      <td>0.030495</td>\n",
              "      <td>-0.038077</td>\n",
              "      <td>0.463548</td>\n",
              "      <td>0.563837</td>\n",
              "      <td>0.621036</td>\n",
              "      <td>0.710157</td>\n",
              "      <td>0.805524</td>\n",
              "      <td>1.000000</td>\n",
              "      <td>...</td>\n",
              "      <td>0.267190</td>\n",
              "      <td>0.290318</td>\n",
              "      <td>0.283940</td>\n",
              "      <td>-0.001540</td>\n",
              "      <td>-0.012140</td>\n",
              "      <td>0.005944</td>\n",
              "      <td>0.023241</td>\n",
              "      <td>-0.049140</td>\n",
              "      <td>-0.029050</td>\n",
              "      <td>0.183886</td>\n",
              "    </tr>\n",
              "    <tr>\n",
              "      <th>bill_amt1</th>\n",
              "      <td>-0.037054</td>\n",
              "      <td>0.024204</td>\n",
              "      <td>-0.021145</td>\n",
              "      <td>0.056818</td>\n",
              "      <td>0.182936</td>\n",
              "      <td>0.231110</td>\n",
              "      <td>0.201670</td>\n",
              "      <td>0.199933</td>\n",
              "      <td>0.204979</td>\n",
              "      <td>0.206445</td>\n",
              "      <td>...</td>\n",
              "      <td>0.860555</td>\n",
              "      <td>0.836478</td>\n",
              "      <td>0.811552</td>\n",
              "      <td>0.136728</td>\n",
              "      <td>0.100689</td>\n",
              "      <td>0.148623</td>\n",
              "      <td>0.169853</td>\n",
              "      <td>0.164041</td>\n",
              "      <td>0.168876</td>\n",
              "      <td>-0.016571</td>\n",
              "    </tr>\n",
              "    <tr>\n",
              "      <th>bill_amt2</th>\n",
              "      <td>-0.035171</td>\n",
              "      <td>0.017556</td>\n",
              "      <td>-0.022917</td>\n",
              "      <td>0.056070</td>\n",
              "      <td>0.186628</td>\n",
              "      <td>0.232452</td>\n",
              "      <td>0.231724</td>\n",
              "      <td>0.224462</td>\n",
              "      <td>0.225388</td>\n",
              "      <td>0.225970</td>\n",
              "      <td>...</td>\n",
              "      <td>0.893204</td>\n",
              "      <td>0.867019</td>\n",
              "      <td>0.840027</td>\n",
              "      <td>0.288637</td>\n",
              "      <td>0.089844</td>\n",
              "      <td>0.137994</td>\n",
              "      <td>0.157372</td>\n",
              "      <td>0.159998</td>\n",
              "      <td>0.171378</td>\n",
              "      <td>-0.010090</td>\n",
              "    </tr>\n",
              "    <tr>\n",
              "      <th>bill_amt3</th>\n",
              "      <td>-0.027244</td>\n",
              "      <td>0.011044</td>\n",
              "      <td>-0.028224</td>\n",
              "      <td>0.056932</td>\n",
              "      <td>0.174906</td>\n",
              "      <td>0.218664</td>\n",
              "      <td>0.221447</td>\n",
              "      <td>0.241808</td>\n",
              "      <td>0.240396</td>\n",
              "      <td>0.238899</td>\n",
              "      <td>...</td>\n",
              "      <td>0.923043</td>\n",
              "      <td>0.893045</td>\n",
              "      <td>0.864705</td>\n",
              "      <td>0.251750</td>\n",
              "      <td>0.341332</td>\n",
              "      <td>0.134979</td>\n",
              "      <td>0.162514</td>\n",
              "      <td>0.196605</td>\n",
              "      <td>0.173333</td>\n",
              "      <td>-0.007125</td>\n",
              "    </tr>\n",
              "    <tr>\n",
              "      <th>bill_amt4</th>\n",
              "      <td>-0.021123</td>\n",
              "      <td>-0.002108</td>\n",
              "      <td>-0.027366</td>\n",
              "      <td>0.055006</td>\n",
              "      <td>0.179247</td>\n",
              "      <td>0.221823</td>\n",
              "      <td>0.225251</td>\n",
              "      <td>0.247739</td>\n",
              "      <td>0.274233</td>\n",
              "      <td>0.267190</td>\n",
              "      <td>...</td>\n",
              "      <td>1.000000</td>\n",
              "      <td>0.948690</td>\n",
              "      <td>0.910210</td>\n",
              "      <td>0.237202</td>\n",
              "      <td>0.209308</td>\n",
              "      <td>0.291049</td>\n",
              "      <td>0.132688</td>\n",
              "      <td>0.162186</td>\n",
              "      <td>0.165022</td>\n",
              "      <td>-0.000658</td>\n",
              "    </tr>\n",
              "    <tr>\n",
              "      <th>bill_amt5</th>\n",
              "      <td>-0.020523</td>\n",
              "      <td>-0.007075</td>\n",
              "      <td>-0.027598</td>\n",
              "      <td>0.054419</td>\n",
              "      <td>0.181170</td>\n",
              "      <td>0.220452</td>\n",
              "      <td>0.222335</td>\n",
              "      <td>0.244201</td>\n",
              "      <td>0.271004</td>\n",
              "      <td>0.290318</td>\n",
              "      <td>...</td>\n",
              "      <td>0.948690</td>\n",
              "      <td>1.000000</td>\n",
              "      <td>0.949811</td>\n",
              "      <td>0.217987</td>\n",
              "      <td>0.189464</td>\n",
              "      <td>0.237114</td>\n",
              "      <td>0.287587</td>\n",
              "      <td>0.145186</td>\n",
              "      <td>0.150430</td>\n",
              "      <td>0.002427</td>\n",
              "    </tr>\n",
              "    <tr>\n",
              "      <th>bill_amt6</th>\n",
              "      <td>-0.018608</td>\n",
              "      <td>-0.007272</td>\n",
              "      <td>-0.026070</td>\n",
              "      <td>0.054366</td>\n",
              "      <td>0.175431</td>\n",
              "      <td>0.215521</td>\n",
              "      <td>0.218655</td>\n",
              "      <td>0.238582</td>\n",
              "      <td>0.262493</td>\n",
              "      <td>0.283940</td>\n",
              "      <td>...</td>\n",
              "      <td>0.910210</td>\n",
              "      <td>0.949811</td>\n",
              "      <td>1.000000</td>\n",
              "      <td>0.201839</td>\n",
              "      <td>0.181511</td>\n",
              "      <td>0.220294</td>\n",
              "      <td>0.250041</td>\n",
              "      <td>0.306097</td>\n",
              "      <td>0.115216</td>\n",
              "      <td>0.004218</td>\n",
              "    </tr>\n",
              "    <tr>\n",
              "      <th>pay_amt1</th>\n",
              "      <td>0.003217</td>\n",
              "      <td>-0.043201</td>\n",
              "      <td>-0.019259</td>\n",
              "      <td>0.030252</td>\n",
              "      <td>-0.087880</td>\n",
              "      <td>-0.085677</td>\n",
              "      <td>0.004184</td>\n",
              "      <td>-0.007350</td>\n",
              "      <td>-0.007535</td>\n",
              "      <td>-0.001540</td>\n",
              "      <td>...</td>\n",
              "      <td>0.237202</td>\n",
              "      <td>0.217987</td>\n",
              "      <td>0.201839</td>\n",
              "      <td>1.000000</td>\n",
              "      <td>0.153559</td>\n",
              "      <td>0.165423</td>\n",
              "      <td>0.141686</td>\n",
              "      <td>0.163493</td>\n",
              "      <td>0.194355</td>\n",
              "      <td>-0.075394</td>\n",
              "    </tr>\n",
              "    <tr>\n",
              "      <th>pay_amt2</th>\n",
              "      <td>-0.005282</td>\n",
              "      <td>-0.033584</td>\n",
              "      <td>-0.020604</td>\n",
              "      <td>0.025684</td>\n",
              "      <td>-0.082691</td>\n",
              "      <td>-0.071886</td>\n",
              "      <td>-0.074857</td>\n",
              "      <td>-0.001457</td>\n",
              "      <td>-0.008290</td>\n",
              "      <td>-0.012140</td>\n",
              "      <td>...</td>\n",
              "      <td>0.209308</td>\n",
              "      <td>0.189464</td>\n",
              "      <td>0.181511</td>\n",
              "      <td>0.153559</td>\n",
              "      <td>1.000000</td>\n",
              "      <td>0.184581</td>\n",
              "      <td>0.148292</td>\n",
              "      <td>0.238354</td>\n",
              "      <td>0.145048</td>\n",
              "      <td>-0.054353</td>\n",
              "    </tr>\n",
              "    <tr>\n",
              "      <th>pay_amt3</th>\n",
              "      <td>-0.003615</td>\n",
              "      <td>-0.041795</td>\n",
              "      <td>-0.013206</td>\n",
              "      <td>0.028375</td>\n",
              "      <td>-0.083370</td>\n",
              "      <td>-0.064114</td>\n",
              "      <td>-0.063533</td>\n",
              "      <td>-0.071259</td>\n",
              "      <td>0.012233</td>\n",
              "      <td>0.005944</td>\n",
              "      <td>...</td>\n",
              "      <td>0.291049</td>\n",
              "      <td>0.237114</td>\n",
              "      <td>0.220294</td>\n",
              "      <td>0.165423</td>\n",
              "      <td>0.184581</td>\n",
              "      <td>1.000000</td>\n",
              "      <td>0.165410</td>\n",
              "      <td>0.151687</td>\n",
              "      <td>0.159169</td>\n",
              "      <td>-0.061984</td>\n",
              "    </tr>\n",
              "    <tr>\n",
              "      <th>pay_amt4</th>\n",
              "      <td>-0.003847</td>\n",
              "      <td>-0.038966</td>\n",
              "      <td>-0.014897</td>\n",
              "      <td>0.019441</td>\n",
              "      <td>-0.065149</td>\n",
              "      <td>-0.050660</td>\n",
              "      <td>-0.049774</td>\n",
              "      <td>-0.042521</td>\n",
              "      <td>-0.061510</td>\n",
              "      <td>0.023241</td>\n",
              "      <td>...</td>\n",
              "      <td>0.132688</td>\n",
              "      <td>0.287587</td>\n",
              "      <td>0.250041</td>\n",
              "      <td>0.141686</td>\n",
              "      <td>0.148292</td>\n",
              "      <td>0.165410</td>\n",
              "      <td>1.000000</td>\n",
              "      <td>0.136618</td>\n",
              "      <td>0.141830</td>\n",
              "      <td>-0.055503</td>\n",
              "    </tr>\n",
              "    <tr>\n",
              "      <th>pay_amt5</th>\n",
              "      <td>-0.000381</td>\n",
              "      <td>-0.042717</td>\n",
              "      <td>-0.005221</td>\n",
              "      <td>0.023145</td>\n",
              "      <td>-0.063066</td>\n",
              "      <td>-0.045977</td>\n",
              "      <td>-0.038358</td>\n",
              "      <td>-0.036017</td>\n",
              "      <td>-0.036420</td>\n",
              "      <td>-0.049140</td>\n",
              "      <td>...</td>\n",
              "      <td>0.162186</td>\n",
              "      <td>0.145186</td>\n",
              "      <td>0.306097</td>\n",
              "      <td>0.163493</td>\n",
              "      <td>0.238354</td>\n",
              "      <td>0.151687</td>\n",
              "      <td>0.136618</td>\n",
              "      <td>1.000000</td>\n",
              "      <td>0.161795</td>\n",
              "      <td>-0.052828</td>\n",
              "    </tr>\n",
              "    <tr>\n",
              "      <th>pay_amt6</th>\n",
              "      <td>-0.014366</td>\n",
              "      <td>-0.046146</td>\n",
              "      <td>-0.006271</td>\n",
              "      <td>0.017733</td>\n",
              "      <td>-0.064241</td>\n",
              "      <td>-0.039070</td>\n",
              "      <td>-0.039140</td>\n",
              "      <td>-0.027838</td>\n",
              "      <td>-0.028997</td>\n",
              "      <td>-0.029050</td>\n",
              "      <td>...</td>\n",
              "      <td>0.165022</td>\n",
              "      <td>0.150430</td>\n",
              "      <td>0.115216</td>\n",
              "      <td>0.194355</td>\n",
              "      <td>0.145048</td>\n",
              "      <td>0.159169</td>\n",
              "      <td>0.141830</td>\n",
              "      <td>0.161795</td>\n",
              "      <td>1.000000</td>\n",
              "      <td>-0.056244</td>\n",
              "    </tr>\n",
              "    <tr>\n",
              "      <th>default</th>\n",
              "      <td>-0.046386</td>\n",
              "      <td>0.029121</td>\n",
              "      <td>-0.033064</td>\n",
              "      <td>0.014073</td>\n",
              "      <td>0.322446</td>\n",
              "      <td>0.257033</td>\n",
              "      <td>0.231303</td>\n",
              "      <td>0.212623</td>\n",
              "      <td>0.203901</td>\n",
              "      <td>0.183886</td>\n",
              "      <td>...</td>\n",
              "      <td>-0.000658</td>\n",
              "      <td>0.002427</td>\n",
              "      <td>0.004218</td>\n",
              "      <td>-0.075394</td>\n",
              "      <td>-0.054353</td>\n",
              "      <td>-0.061984</td>\n",
              "      <td>-0.055503</td>\n",
              "      <td>-0.052828</td>\n",
              "      <td>-0.056244</td>\n",
              "      <td>1.000000</td>\n",
              "    </tr>\n",
              "  </tbody>\n",
              "</table>\n",
              "<p>23 rows × 23 columns</p>\n",
              "</div>\n",
              "      <button class=\"colab-df-convert\" onclick=\"convertToInteractive('df-db305ca9-8aba-479b-8bac-7c769da3afa4')\"\n",
              "              title=\"Convert this dataframe to an interactive table.\"\n",
              "              style=\"display:none;\">\n",
              "        \n",
              "  <svg xmlns=\"http://www.w3.org/2000/svg\" height=\"24px\"viewBox=\"0 0 24 24\"\n",
              "       width=\"24px\">\n",
              "    <path d=\"M0 0h24v24H0V0z\" fill=\"none\"/>\n",
              "    <path d=\"M18.56 5.44l.94 2.06.94-2.06 2.06-.94-2.06-.94-.94-2.06-.94 2.06-2.06.94zm-11 1L8.5 8.5l.94-2.06 2.06-.94-2.06-.94L8.5 2.5l-.94 2.06-2.06.94zm10 10l.94 2.06.94-2.06 2.06-.94-2.06-.94-.94-2.06-.94 2.06-2.06.94z\"/><path d=\"M17.41 7.96l-1.37-1.37c-.4-.4-.92-.59-1.43-.59-.52 0-1.04.2-1.43.59L10.3 9.45l-7.72 7.72c-.78.78-.78 2.05 0 2.83L4 21.41c.39.39.9.59 1.41.59.51 0 1.02-.2 1.41-.59l7.78-7.78 2.81-2.81c.8-.78.8-2.07 0-2.86zM5.41 20L4 18.59l7.72-7.72 1.47 1.35L5.41 20z\"/>\n",
              "  </svg>\n",
              "      </button>\n",
              "      \n",
              "  <style>\n",
              "    .colab-df-container {\n",
              "      display:flex;\n",
              "      flex-wrap:wrap;\n",
              "      gap: 12px;\n",
              "    }\n",
              "\n",
              "    .colab-df-convert {\n",
              "      background-color: #E8F0FE;\n",
              "      border: none;\n",
              "      border-radius: 50%;\n",
              "      cursor: pointer;\n",
              "      display: none;\n",
              "      fill: #1967D2;\n",
              "      height: 32px;\n",
              "      padding: 0 0 0 0;\n",
              "      width: 32px;\n",
              "    }\n",
              "\n",
              "    .colab-df-convert:hover {\n",
              "      background-color: #E2EBFA;\n",
              "      box-shadow: 0px 1px 2px rgba(60, 64, 67, 0.3), 0px 1px 3px 1px rgba(60, 64, 67, 0.15);\n",
              "      fill: #174EA6;\n",
              "    }\n",
              "\n",
              "    [theme=dark] .colab-df-convert {\n",
              "      background-color: #3B4455;\n",
              "      fill: #D2E3FC;\n",
              "    }\n",
              "\n",
              "    [theme=dark] .colab-df-convert:hover {\n",
              "      background-color: #434B5C;\n",
              "      box-shadow: 0px 1px 3px 1px rgba(0, 0, 0, 0.15);\n",
              "      filter: drop-shadow(0px 1px 2px rgba(0, 0, 0, 0.3));\n",
              "      fill: #FFFFFF;\n",
              "    }\n",
              "  </style>\n",
              "\n",
              "      <script>\n",
              "        const buttonEl =\n",
              "          document.querySelector('#df-db305ca9-8aba-479b-8bac-7c769da3afa4 button.colab-df-convert');\n",
              "        buttonEl.style.display =\n",
              "          google.colab.kernel.accessAllowed ? 'block' : 'none';\n",
              "\n",
              "        async function convertToInteractive(key) {\n",
              "          const element = document.querySelector('#df-db305ca9-8aba-479b-8bac-7c769da3afa4');\n",
              "          const dataTable =\n",
              "            await google.colab.kernel.invokeFunction('convertToInteractive',\n",
              "                                                     [key], {});\n",
              "          if (!dataTable) return;\n",
              "\n",
              "          const docLinkHtml = 'Like what you see? Visit the ' +\n",
              "            '<a target=\"_blank\" href=https://colab.research.google.com/notebooks/data_table.ipynb>data table notebook</a>'\n",
              "            + ' to learn more about interactive tables.';\n",
              "          element.innerHTML = '';\n",
              "          dataTable['output_type'] = 'display_data';\n",
              "          await google.colab.output.renderOutput(dataTable, element);\n",
              "          const docLink = document.createElement('div');\n",
              "          docLink.innerHTML = docLinkHtml;\n",
              "          element.appendChild(docLink);\n",
              "        }\n",
              "      </script>\n",
              "    </div>\n",
              "  </div>\n",
              "  "
            ]
          },
          "metadata": {},
          "execution_count": 55
        }
      ]
    },
    {
      "cell_type": "markdown",
      "source": [
        "# Feature Importance"
      ],
      "metadata": {
        "id": "vHgdb7cShH70"
      }
    },
    {
      "cell_type": "markdown",
      "source": [
        "## Feature Importance Based on Country"
      ],
      "metadata": {
        "id": "JWsB1tkuhzSn"
      }
    },
    {
      "cell_type": "code",
      "source": [
        "india_mean = df_train_full[df_train_full.country == 'india'].converted.mean()\n",
        "\n",
        "non_india_male_mean = df_train_full[df_train_full.country != 'india'].converted.mean()"
      ],
      "metadata": {
        "id": "A0HebQBzh1zE"
      },
      "execution_count": null,
      "outputs": []
    },
    {
      "cell_type": "markdown",
      "source": [
        "## Feature Importance based on What Matters Most"
      ],
      "metadata": {
        "id": "crYI09w-iFtF"
      }
    },
    {
      "cell_type": "code",
      "source": [
        "what_matters_most_better_career = df_train_full[df_train_full.what_matters_most_to_you_in_choosing_a_course == 'better_career_prospects'].converted.mean()\n",
        "print('what matters == better_career_prospects:', round(what_matters_most_better_career, 3))\n",
        "\n",
        "what_matters_most_other = df_train_full[df_train_full.what_matters_most_to_you_in_choosing_a_course == 'other'].converted.mean()\n",
        "print('what matters most == other:', round(what_matters_most_other, 3))"
      ],
      "metadata": {
        "colab": {
          "base_uri": "https://localhost:8080/"
        },
        "id": "xdgpG1DLiLZo",
        "outputId": "9a349a06-2c79-4b5b-cf1e-e3185b33fe9f"
      },
      "execution_count": null,
      "outputs": [
        {
          "output_type": "stream",
          "name": "stdout",
          "text": [
            "what matters == better_career_prospects: 0.524\n",
            "what matters most == other: 0.0\n"
          ]
        }
      ]
    },
    {
      "cell_type": "markdown",
      "source": [
        "## Risk Ratio"
      ],
      "metadata": {
        "id": "DQwVywJ6ir8y"
      }
    },
    {
      "cell_type": "code",
      "source": [
        "# risk = group rate / global_rate\n",
        "\n",
        "# For “gender == female”, for example, the risk of churning is 1.02:\n",
        "# risk = 27.7% / 27% = 1.02"
      ],
      "metadata": {
        "id": "IAL-Xnl9iu10"
      },
      "execution_count": null,
      "outputs": []
    },
    {
      "cell_type": "markdown",
      "source": [
        "## Compute Risk Ratio"
      ],
      "metadata": {
        "id": "ZaBvItIjjYQC"
      }
    },
    {
      "cell_type": "code",
      "source": [
        "global_mean = df_train_full.converted.mean()\n",
        "print('global_mean: ', round(global_mean, 5))\n",
        "\n",
        "df_group = df_train_full.groupby(by='country').converted.agg(['mean'])\n",
        "\n",
        "df_group['diff'] = df_group['mean'] - global_mean\n",
        "\n",
        "df_group['risk'] = df_group['mean'] / global_mean\n",
        "\n",
        "df_group\n"
      ],
      "metadata": {
        "colab": {
          "base_uri": "https://localhost:8080/",
          "height": 977
        },
        "id": "WayOXvvKjS81",
        "outputId": "237c47b9-b6b5-4362-878d-c45653142ead"
      },
      "execution_count": null,
      "outputs": [
        {
          "output_type": "stream",
          "name": "stdout",
          "text": [
            "global_mean:  0.52393\n"
          ]
        },
        {
          "output_type": "execute_result",
          "data": {
            "text/plain": [
              "                          mean      diff      risk\n",
              "country                                           \n",
              "australia             0.500000 -0.023929  0.954327\n",
              "bahrain               1.000000  0.476071  1.908654\n",
              "bangladesh            1.000000  0.476071  1.908654\n",
              "canada                0.000000 -0.523929  0.000000\n",
              "china                 0.000000 -0.523929  0.000000\n",
              "denmark               1.000000  0.476071  1.908654\n",
              "france                0.750000  0.226071  1.431490\n",
              "germany               1.000000  0.476071  1.908654\n",
              "ghana                 0.000000 -0.523929  0.000000\n",
              "hong_kong             0.800000  0.276071  1.526923\n",
              "india                 0.528529  0.004599  1.008778\n",
              "indonesia             0.000000 -0.523929  0.000000\n",
              "italy                 0.000000 -0.523929  0.000000\n",
              "kuwait                0.000000 -0.523929  0.000000\n",
              "malaysia              0.000000 -0.523929  0.000000\n",
              "netherlands           0.500000 -0.023929  0.954327\n",
              "nigeria               0.000000 -0.523929  0.000000\n",
              "oman                  0.500000 -0.023929  0.954327\n",
              "qatar                 0.500000 -0.023929  0.954327\n",
              "saudi_arabia          0.125000 -0.398929  0.238582\n",
              "singapore             0.500000 -0.023929  0.954327\n",
              "south_africa          0.000000 -0.523929  0.000000\n",
              "sweden                0.000000 -0.523929  0.000000\n",
              "tanzania              0.000000 -0.523929  0.000000\n",
              "uganda                0.000000 -0.523929  0.000000\n",
              "united_arab_emirates  0.500000 -0.023929  0.954327\n",
              "united_kingdom        0.333333 -0.190596  0.636218\n",
              "united_states         0.260870 -0.263060  0.497910"
            ],
            "text/html": [
              "\n",
              "  <div id=\"df-0f105fd0-d3aa-41dc-a9d3-f02f8e2a7812\">\n",
              "    <div class=\"colab-df-container\">\n",
              "      <div>\n",
              "<style scoped>\n",
              "    .dataframe tbody tr th:only-of-type {\n",
              "        vertical-align: middle;\n",
              "    }\n",
              "\n",
              "    .dataframe tbody tr th {\n",
              "        vertical-align: top;\n",
              "    }\n",
              "\n",
              "    .dataframe thead th {\n",
              "        text-align: right;\n",
              "    }\n",
              "</style>\n",
              "<table border=\"1\" class=\"dataframe\">\n",
              "  <thead>\n",
              "    <tr style=\"text-align: right;\">\n",
              "      <th></th>\n",
              "      <th>mean</th>\n",
              "      <th>diff</th>\n",
              "      <th>risk</th>\n",
              "    </tr>\n",
              "    <tr>\n",
              "      <th>country</th>\n",
              "      <th></th>\n",
              "      <th></th>\n",
              "      <th></th>\n",
              "    </tr>\n",
              "  </thead>\n",
              "  <tbody>\n",
              "    <tr>\n",
              "      <th>australia</th>\n",
              "      <td>0.500000</td>\n",
              "      <td>-0.023929</td>\n",
              "      <td>0.954327</td>\n",
              "    </tr>\n",
              "    <tr>\n",
              "      <th>bahrain</th>\n",
              "      <td>1.000000</td>\n",
              "      <td>0.476071</td>\n",
              "      <td>1.908654</td>\n",
              "    </tr>\n",
              "    <tr>\n",
              "      <th>bangladesh</th>\n",
              "      <td>1.000000</td>\n",
              "      <td>0.476071</td>\n",
              "      <td>1.908654</td>\n",
              "    </tr>\n",
              "    <tr>\n",
              "      <th>canada</th>\n",
              "      <td>0.000000</td>\n",
              "      <td>-0.523929</td>\n",
              "      <td>0.000000</td>\n",
              "    </tr>\n",
              "    <tr>\n",
              "      <th>china</th>\n",
              "      <td>0.000000</td>\n",
              "      <td>-0.523929</td>\n",
              "      <td>0.000000</td>\n",
              "    </tr>\n",
              "    <tr>\n",
              "      <th>denmark</th>\n",
              "      <td>1.000000</td>\n",
              "      <td>0.476071</td>\n",
              "      <td>1.908654</td>\n",
              "    </tr>\n",
              "    <tr>\n",
              "      <th>france</th>\n",
              "      <td>0.750000</td>\n",
              "      <td>0.226071</td>\n",
              "      <td>1.431490</td>\n",
              "    </tr>\n",
              "    <tr>\n",
              "      <th>germany</th>\n",
              "      <td>1.000000</td>\n",
              "      <td>0.476071</td>\n",
              "      <td>1.908654</td>\n",
              "    </tr>\n",
              "    <tr>\n",
              "      <th>ghana</th>\n",
              "      <td>0.000000</td>\n",
              "      <td>-0.523929</td>\n",
              "      <td>0.000000</td>\n",
              "    </tr>\n",
              "    <tr>\n",
              "      <th>hong_kong</th>\n",
              "      <td>0.800000</td>\n",
              "      <td>0.276071</td>\n",
              "      <td>1.526923</td>\n",
              "    </tr>\n",
              "    <tr>\n",
              "      <th>india</th>\n",
              "      <td>0.528529</td>\n",
              "      <td>0.004599</td>\n",
              "      <td>1.008778</td>\n",
              "    </tr>\n",
              "    <tr>\n",
              "      <th>indonesia</th>\n",
              "      <td>0.000000</td>\n",
              "      <td>-0.523929</td>\n",
              "      <td>0.000000</td>\n",
              "    </tr>\n",
              "    <tr>\n",
              "      <th>italy</th>\n",
              "      <td>0.000000</td>\n",
              "      <td>-0.523929</td>\n",
              "      <td>0.000000</td>\n",
              "    </tr>\n",
              "    <tr>\n",
              "      <th>kuwait</th>\n",
              "      <td>0.000000</td>\n",
              "      <td>-0.523929</td>\n",
              "      <td>0.000000</td>\n",
              "    </tr>\n",
              "    <tr>\n",
              "      <th>malaysia</th>\n",
              "      <td>0.000000</td>\n",
              "      <td>-0.523929</td>\n",
              "      <td>0.000000</td>\n",
              "    </tr>\n",
              "    <tr>\n",
              "      <th>netherlands</th>\n",
              "      <td>0.500000</td>\n",
              "      <td>-0.023929</td>\n",
              "      <td>0.954327</td>\n",
              "    </tr>\n",
              "    <tr>\n",
              "      <th>nigeria</th>\n",
              "      <td>0.000000</td>\n",
              "      <td>-0.523929</td>\n",
              "      <td>0.000000</td>\n",
              "    </tr>\n",
              "    <tr>\n",
              "      <th>oman</th>\n",
              "      <td>0.500000</td>\n",
              "      <td>-0.023929</td>\n",
              "      <td>0.954327</td>\n",
              "    </tr>\n",
              "    <tr>\n",
              "      <th>qatar</th>\n",
              "      <td>0.500000</td>\n",
              "      <td>-0.023929</td>\n",
              "      <td>0.954327</td>\n",
              "    </tr>\n",
              "    <tr>\n",
              "      <th>saudi_arabia</th>\n",
              "      <td>0.125000</td>\n",
              "      <td>-0.398929</td>\n",
              "      <td>0.238582</td>\n",
              "    </tr>\n",
              "    <tr>\n",
              "      <th>singapore</th>\n",
              "      <td>0.500000</td>\n",
              "      <td>-0.023929</td>\n",
              "      <td>0.954327</td>\n",
              "    </tr>\n",
              "    <tr>\n",
              "      <th>south_africa</th>\n",
              "      <td>0.000000</td>\n",
              "      <td>-0.523929</td>\n",
              "      <td>0.000000</td>\n",
              "    </tr>\n",
              "    <tr>\n",
              "      <th>sweden</th>\n",
              "      <td>0.000000</td>\n",
              "      <td>-0.523929</td>\n",
              "      <td>0.000000</td>\n",
              "    </tr>\n",
              "    <tr>\n",
              "      <th>tanzania</th>\n",
              "      <td>0.000000</td>\n",
              "      <td>-0.523929</td>\n",
              "      <td>0.000000</td>\n",
              "    </tr>\n",
              "    <tr>\n",
              "      <th>uganda</th>\n",
              "      <td>0.000000</td>\n",
              "      <td>-0.523929</td>\n",
              "      <td>0.000000</td>\n",
              "    </tr>\n",
              "    <tr>\n",
              "      <th>united_arab_emirates</th>\n",
              "      <td>0.500000</td>\n",
              "      <td>-0.023929</td>\n",
              "      <td>0.954327</td>\n",
              "    </tr>\n",
              "    <tr>\n",
              "      <th>united_kingdom</th>\n",
              "      <td>0.333333</td>\n",
              "      <td>-0.190596</td>\n",
              "      <td>0.636218</td>\n",
              "    </tr>\n",
              "    <tr>\n",
              "      <th>united_states</th>\n",
              "      <td>0.260870</td>\n",
              "      <td>-0.263060</td>\n",
              "      <td>0.497910</td>\n",
              "    </tr>\n",
              "  </tbody>\n",
              "</table>\n",
              "</div>\n",
              "      <button class=\"colab-df-convert\" onclick=\"convertToInteractive('df-0f105fd0-d3aa-41dc-a9d3-f02f8e2a7812')\"\n",
              "              title=\"Convert this dataframe to an interactive table.\"\n",
              "              style=\"display:none;\">\n",
              "        \n",
              "  <svg xmlns=\"http://www.w3.org/2000/svg\" height=\"24px\"viewBox=\"0 0 24 24\"\n",
              "       width=\"24px\">\n",
              "    <path d=\"M0 0h24v24H0V0z\" fill=\"none\"/>\n",
              "    <path d=\"M18.56 5.44l.94 2.06.94-2.06 2.06-.94-2.06-.94-.94-2.06-.94 2.06-2.06.94zm-11 1L8.5 8.5l.94-2.06 2.06-.94-2.06-.94L8.5 2.5l-.94 2.06-2.06.94zm10 10l.94 2.06.94-2.06 2.06-.94-2.06-.94-.94-2.06-.94 2.06-2.06.94z\"/><path d=\"M17.41 7.96l-1.37-1.37c-.4-.4-.92-.59-1.43-.59-.52 0-1.04.2-1.43.59L10.3 9.45l-7.72 7.72c-.78.78-.78 2.05 0 2.83L4 21.41c.39.39.9.59 1.41.59.51 0 1.02-.2 1.41-.59l7.78-7.78 2.81-2.81c.8-.78.8-2.07 0-2.86zM5.41 20L4 18.59l7.72-7.72 1.47 1.35L5.41 20z\"/>\n",
              "  </svg>\n",
              "      </button>\n",
              "      \n",
              "  <style>\n",
              "    .colab-df-container {\n",
              "      display:flex;\n",
              "      flex-wrap:wrap;\n",
              "      gap: 12px;\n",
              "    }\n",
              "\n",
              "    .colab-df-convert {\n",
              "      background-color: #E8F0FE;\n",
              "      border: none;\n",
              "      border-radius: 50%;\n",
              "      cursor: pointer;\n",
              "      display: none;\n",
              "      fill: #1967D2;\n",
              "      height: 32px;\n",
              "      padding: 0 0 0 0;\n",
              "      width: 32px;\n",
              "    }\n",
              "\n",
              "    .colab-df-convert:hover {\n",
              "      background-color: #E2EBFA;\n",
              "      box-shadow: 0px 1px 2px rgba(60, 64, 67, 0.3), 0px 1px 3px 1px rgba(60, 64, 67, 0.15);\n",
              "      fill: #174EA6;\n",
              "    }\n",
              "\n",
              "    [theme=dark] .colab-df-convert {\n",
              "      background-color: #3B4455;\n",
              "      fill: #D2E3FC;\n",
              "    }\n",
              "\n",
              "    [theme=dark] .colab-df-convert:hover {\n",
              "      background-color: #434B5C;\n",
              "      box-shadow: 0px 1px 3px 1px rgba(0, 0, 0, 0.15);\n",
              "      filter: drop-shadow(0px 1px 2px rgba(0, 0, 0, 0.3));\n",
              "      fill: #FFFFFF;\n",
              "    }\n",
              "  </style>\n",
              "\n",
              "      <script>\n",
              "        const buttonEl =\n",
              "          document.querySelector('#df-0f105fd0-d3aa-41dc-a9d3-f02f8e2a7812 button.colab-df-convert');\n",
              "        buttonEl.style.display =\n",
              "          google.colab.kernel.accessAllowed ? 'block' : 'none';\n",
              "\n",
              "        async function convertToInteractive(key) {\n",
              "          const element = document.querySelector('#df-0f105fd0-d3aa-41dc-a9d3-f02f8e2a7812');\n",
              "          const dataTable =\n",
              "            await google.colab.kernel.invokeFunction('convertToInteractive',\n",
              "                                                     [key], {});\n",
              "          if (!dataTable) return;\n",
              "\n",
              "          const docLinkHtml = 'Like what you see? Visit the ' +\n",
              "            '<a target=\"_blank\" href=https://colab.research.google.com/notebooks/data_table.ipynb>data table notebook</a>'\n",
              "            + ' to learn more about interactive tables.';\n",
              "          element.innerHTML = '';\n",
              "          dataTable['output_type'] = 'display_data';\n",
              "          await google.colab.output.renderOutput(dataTable, element);\n",
              "          const docLink = document.createElement('div');\n",
              "          docLink.innerHTML = docLinkHtml;\n",
              "          element.appendChild(docLink);\n",
              "        }\n",
              "      </script>\n",
              "    </div>\n",
              "  </div>\n",
              "  "
            ]
          },
          "metadata": {},
          "execution_count": 40
        }
      ]
    },
    {
      "cell_type": "markdown",
      "source": [
        "## Risk Ratio for ALL Categorical Variables\n",
        "\n",
        "## Converted Analysis"
      ],
      "metadata": {
        "id": "n20f7oHdkNRX"
      }
    },
    {
      "cell_type": "markdown",
      "source": [
        "## Mutual Information : Categorical"
      ],
      "metadata": {
        "id": "5SfX14HHlpXB"
      }
    },
    {
      "cell_type": "code",
      "source": [
        "def calculate_mi(series):\n",
        " return mutual_info_score(series, df_train_full.converted)"
      ],
      "metadata": {
        "id": "P8gKtMyLlmax"
      },
      "execution_count": null,
      "outputs": []
    },
    {
      "cell_type": "code",
      "source": [
        "df_mi = df_train_full[categorical].apply(calculate_mi)\n",
        "\n",
        "df_mi = df_mi.sort_values(ascending=False).to_frame(name='MI')\n",
        "\n",
        "print(round(df_mi, 5))"
      ],
      "metadata": {
        "colab": {
          "base_uri": "https://localhost:8080/"
        },
        "id": "7ss95f7jl3iK",
        "outputId": "58db9e89-7050-4cbe-deb1-92acfc0aa3e9"
      },
      "execution_count": null,
      "outputs": [
        {
          "output_type": "stream",
          "name": "stdout",
          "text": [
            "                                                    MI\n",
            "tags                                           0.54727\n",
            "lead_quality                                   0.23191\n",
            "lead_profile                                   0.09808\n",
            "what_is_your_current_occupation                0.06099\n",
            "last_activity                                  0.04510\n",
            "last_notable_activity                          0.04300\n",
            "do_not_email                                   0.01939\n",
            "specialization                                 0.01398\n",
            "lead_source                                    0.01252\n",
            "country                                        0.00771\n",
            "how_did_you_hear_about_x_education             0.00740\n",
            "lead_origin                                    0.00404\n",
            "city                                           0.00370\n",
            "a_free_copy_of_mastering_the_interview         0.00233\n",
            "through_recommendations                        0.00116\n",
            "what_matters_most_to_you_in_choosing_a_course  0.00027\n",
            "do_not_call                                    0.00023\n",
            "search                                         0.00009\n",
            "digital_advertisement                          0.00000\n",
            "newspaper                                      0.00000\n",
            "newspaper_article                              0.00000\n"
          ]
        }
      ]
    },
    {
      "cell_type": "markdown",
      "source": [
        "# Correlation Coefficient"
      ],
      "metadata": {
        "id": "W8V1L9-SmJwU"
      }
    },
    {
      "cell_type": "code",
      "source": [
        "df_train_full[numerical].corrwith(df_train_full.converted)"
      ],
      "metadata": {
        "colab": {
          "base_uri": "https://localhost:8080/"
        },
        "id": "X4rdzkj1mNSl",
        "outputId": "9c3bd2a3-a97c-4901-f903-11430cdf5f4a"
      },
      "execution_count": null,
      "outputs": [
        {
          "output_type": "execute_result",
          "data": {
            "text/plain": [
              "totalvisits                    0.076735\n",
              "total_time_spent_on_website    0.486906\n",
              "page_views_per_visit           0.059756\n",
              "dtype: float64"
            ]
          },
          "metadata": {},
          "execution_count": 43
        }
      ]
    },
    {
      "cell_type": "markdown",
      "source": [
        "# Feature Engineering\n",
        "\n",
        "## Transform all categorical variables to numeric forms\n",
        "\n",
        "## One Hot Encoding\n",
        "\n",
        "## DictVectorizer"
      ],
      "metadata": {
        "id": "zkLeLyv9mYXG"
      }
    },
    {
      "cell_type": "code",
      "source": [
        "train_dict = df_train[categorical + numerical].to_dict(orient='records')"
      ],
      "metadata": {
        "id": "84bBiZI7mfXO"
      },
      "execution_count": null,
      "outputs": []
    },
    {
      "cell_type": "markdown",
      "source": [
        "## Dictionary Vectorizer"
      ],
      "metadata": {
        "id": "orqtprlkm-Vn"
      }
    },
    {
      "cell_type": "code",
      "source": [
        "dv = DictVectorizer(sparse=False)\n",
        "\n",
        "dv.fit(train_dict)\n",
        "\n",
        "X_train = dv.transform(train_dict)"
      ],
      "metadata": {
        "id": "3ir0vxz9nAFH"
      },
      "execution_count": null,
      "outputs": []
    },
    {
      "cell_type": "markdown",
      "source": [
        "## Peek at the Vectorized Data"
      ],
      "metadata": {
        "id": "XgAdTx26nGun"
      }
    },
    {
      "cell_type": "code",
      "source": [
        "X_train[0]\n",
        "\n",
        "dv.get_feature_names_out()"
      ],
      "metadata": {
        "colab": {
          "base_uri": "https://localhost:8080/"
        },
        "id": "NFraLtFPnIXG",
        "outputId": "fc7a39ea-406e-4381-c454-7f593f94a2c5"
      },
      "execution_count": null,
      "outputs": [
        {
          "output_type": "execute_result",
          "data": {
            "text/plain": [
              "array(['a_free_copy_of_mastering_the_interview=no',\n",
              "       'a_free_copy_of_mastering_the_interview=yes', 'city=mumbai',\n",
              "       'city=other_cities', 'city=other_cities_of_maharashtra',\n",
              "       'city=other_metro_cities', 'city=select', 'city=thane_&_outskirts',\n",
              "       'city=tier_ii_cities', 'country=australia', 'country=bahrain',\n",
              "       'country=bangladesh', 'country=denmark', 'country=france',\n",
              "       'country=ghana', 'country=hong_kong', 'country=india',\n",
              "       'country=indonesia', 'country=kuwait', 'country=malaysia',\n",
              "       'country=netherlands', 'country=nigeria', 'country=oman',\n",
              "       'country=qatar', 'country=saudi_arabia', 'country=singapore',\n",
              "       'country=south_africa', 'country=sweden', 'country=tanzania',\n",
              "       'country=uganda', 'country=united_arab_emirates',\n",
              "       'country=united_kingdom', 'country=united_states',\n",
              "       'digital_advertisement=no', 'digital_advertisement=yes',\n",
              "       'do_not_call=no', 'do_not_call=yes', 'do_not_email=no',\n",
              "       'do_not_email=yes',\n",
              "       'how_did_you_hear_about_x_education=advertisements',\n",
              "       'how_did_you_hear_about_x_education=email',\n",
              "       'how_did_you_hear_about_x_education=multiple_sources',\n",
              "       'how_did_you_hear_about_x_education=online_search',\n",
              "       'how_did_you_hear_about_x_education=other',\n",
              "       'how_did_you_hear_about_x_education=select',\n",
              "       'how_did_you_hear_about_x_education=sms',\n",
              "       'how_did_you_hear_about_x_education=social_media',\n",
              "       'how_did_you_hear_about_x_education=student_of_someschool',\n",
              "       'how_did_you_hear_about_x_education=word_of_mouth',\n",
              "       'last_activity=converted_to_lead', 'last_activity=email_bounced',\n",
              "       'last_activity=email_link_clicked', 'last_activity=email_opened',\n",
              "       'last_activity=form_submitted_on_website',\n",
              "       'last_activity=had_a_phone_conversation',\n",
              "       'last_activity=olark_chat_conversation',\n",
              "       'last_activity=page_visited_on_website', 'last_activity=sms_sent',\n",
              "       'last_activity=unreachable', 'last_activity=unsubscribed',\n",
              "       'last_activity=view_in_browser_link_clicked',\n",
              "       'last_activity=visited_booth_in_tradeshow',\n",
              "       'last_notable_activity=email_bounced',\n",
              "       'last_notable_activity=email_link_clicked',\n",
              "       'last_notable_activity=email_opened',\n",
              "       'last_notable_activity=had_a_phone_conversation',\n",
              "       'last_notable_activity=modified',\n",
              "       'last_notable_activity=olark_chat_conversation',\n",
              "       'last_notable_activity=page_visited_on_website',\n",
              "       'last_notable_activity=sms_sent',\n",
              "       'last_notable_activity=unreachable',\n",
              "       'last_notable_activity=unsubscribed',\n",
              "       'last_notable_activity=view_in_browser_link_clicked',\n",
              "       'lead_origin=api', 'lead_origin=landing_page_submission',\n",
              "       'lead_origin=lead_add_form',\n",
              "       'lead_profile=dual_specialization_student',\n",
              "       'lead_profile=lateral_student', 'lead_profile=other_leads',\n",
              "       'lead_profile=potential_lead', 'lead_profile=select',\n",
              "       'lead_profile=student_of_someschool',\n",
              "       'lead_quality=high_in_relevance', 'lead_quality=low_in_relevance',\n",
              "       'lead_quality=might_be', 'lead_quality=not_sure',\n",
              "       'lead_quality=worst', 'lead_source=direct_traffic',\n",
              "       'lead_source=facebook', 'lead_source=google',\n",
              "       'lead_source=olark_chat', 'lead_source=organic_search',\n",
              "       'lead_source=reference', 'lead_source=referral_sites',\n",
              "       'lead_source=social_media', 'lead_source=testone', 'newspaper=no',\n",
              "       'newspaper_article=no', 'page_views_per_visit', 'search=no',\n",
              "       'search=yes', 'specialization=banking,_investment_and_insurance',\n",
              "       'specialization=business_administration',\n",
              "       'specialization=e-business', 'specialization=e-commerce',\n",
              "       'specialization=finance_management',\n",
              "       'specialization=healthcare_management',\n",
              "       'specialization=hospitality_management',\n",
              "       'specialization=human_resource_management',\n",
              "       'specialization=international_business',\n",
              "       'specialization=it_projects_management',\n",
              "       'specialization=marketing_management',\n",
              "       'specialization=media_and_advertising',\n",
              "       'specialization=operations_management',\n",
              "       'specialization=retail_management',\n",
              "       'specialization=rural_and_agribusiness', 'specialization=select',\n",
              "       'specialization=services_excellence',\n",
              "       'specialization=supply_chain_management',\n",
              "       'specialization=travel_and_tourism', 'tags=already_a_student',\n",
              "       'tags=busy', 'tags=closed_by_horizzon',\n",
              "       'tags=diploma_holder_(not_eligible)',\n",
              "       'tags=graduation_in_progress',\n",
              "       'tags=in_confusion_whether_part_time_or_dlp',\n",
              "       'tags=in_touch_with_eins', 'tags=interested__in_full_time_mba',\n",
              "       'tags=interested_in_next_batch',\n",
              "       'tags=interested_in_other_courses', 'tags=invalid_number',\n",
              "       'tags=lateral_student', 'tags=lost_to_eins', 'tags=lost_to_others',\n",
              "       'tags=not_doing_further_education', 'tags=number_not_provided',\n",
              "       'tags=opp_hangup', 'tags=ringing', 'tags=still_thinking',\n",
              "       'tags=switched_off',\n",
              "       'tags=want_to_take_admission_but_has_financial_problems',\n",
              "       'tags=will_revert_after_reading_the_email',\n",
              "       'tags=wrong_number_given', 'through_recommendations=no',\n",
              "       'through_recommendations=yes', 'total_time_spent_on_website',\n",
              "       'totalvisits', 'what_is_your_current_occupation=businessman',\n",
              "       'what_is_your_current_occupation=housewife',\n",
              "       'what_is_your_current_occupation=other',\n",
              "       'what_is_your_current_occupation=student',\n",
              "       'what_is_your_current_occupation=unemployed',\n",
              "       'what_is_your_current_occupation=working_professional',\n",
              "       'what_matters_most_to_you_in_choosing_a_course=better_career_prospects',\n",
              "       'what_matters_most_to_you_in_choosing_a_course=other'],\n",
              "      dtype=object)"
            ]
          },
          "metadata": {},
          "execution_count": 46
        }
      ]
    },
    {
      "cell_type": "markdown",
      "source": [
        "# Machine learning\n",
        "\n",
        "## Predictive Analytics from the clean Telco Dataset\n",
        "\n",
        "## ML for Classification\n"
      ],
      "metadata": {
        "id": "b47cL7Qznj7Q"
      }
    },
    {
      "cell_type": "markdown",
      "source": [
        "## Linear Regression from Scratch in Python"
      ],
      "metadata": {
        "id": "y1fx08SKe89m"
      }
    },
    {
      "cell_type": "code",
      "source": [
        "def linear_regression(xi):\n",
        "  result = bias\n",
        "  for j in range(n):\n",
        "    result = result + xi[j] * w[j]\n",
        "  return result"
      ],
      "metadata": {
        "id": "PV9QFSjJfE4v"
      },
      "execution_count": null,
      "outputs": []
    },
    {
      "cell_type": "markdown",
      "source": [
        "## Logistic Regression from Scratch using Python"
      ],
      "metadata": {
        "id": "ZuRgVtXBfTLe"
      }
    },
    {
      "cell_type": "code",
      "source": [
        "def logistic_regression(xi):\n",
        "  score = bias\n",
        "  for j in range(n):\n",
        "    score = score + xi[j] * w[j]\n",
        "    prob = sigmoid(score)\n",
        "  return prob\n",
        "\n",
        "def sigmoid(score):\n",
        "  return 1 / (1 + math.exp(-score))"
      ],
      "metadata": {
        "id": "6i_bWAG4fVXI"
      },
      "execution_count": null,
      "outputs": []
    },
    {
      "cell_type": "markdown",
      "source": [
        "## Training the Logistic Regression Model"
      ],
      "metadata": {
        "id": "VkF9rGetfsUh"
      }
    },
    {
      "cell_type": "code",
      "source": [
        "model = LogisticRegression(solver='liblinear', random_state=1)\n",
        "\n",
        "model.fit(X_train, y_train)"
      ],
      "metadata": {
        "colab": {
          "base_uri": "https://localhost:8080/",
          "height": 75
        },
        "id": "TEbPKTr3fPUZ",
        "outputId": "f9ebb53f-86e9-4a78-db28-dfab65011e3b"
      },
      "execution_count": null,
      "outputs": [
        {
          "output_type": "execute_result",
          "data": {
            "text/plain": [
              "LogisticRegression(random_state=1, solver='liblinear')"
            ],
            "text/html": [
              "<style>#sk-container-id-1 {color: black;background-color: white;}#sk-container-id-1 pre{padding: 0;}#sk-container-id-1 div.sk-toggleable {background-color: white;}#sk-container-id-1 label.sk-toggleable__label {cursor: pointer;display: block;width: 100%;margin-bottom: 0;padding: 0.3em;box-sizing: border-box;text-align: center;}#sk-container-id-1 label.sk-toggleable__label-arrow:before {content: \"▸\";float: left;margin-right: 0.25em;color: #696969;}#sk-container-id-1 label.sk-toggleable__label-arrow:hover:before {color: black;}#sk-container-id-1 div.sk-estimator:hover label.sk-toggleable__label-arrow:before {color: black;}#sk-container-id-1 div.sk-toggleable__content {max-height: 0;max-width: 0;overflow: hidden;text-align: left;background-color: #f0f8ff;}#sk-container-id-1 div.sk-toggleable__content pre {margin: 0.2em;color: black;border-radius: 0.25em;background-color: #f0f8ff;}#sk-container-id-1 input.sk-toggleable__control:checked~div.sk-toggleable__content {max-height: 200px;max-width: 100%;overflow: auto;}#sk-container-id-1 input.sk-toggleable__control:checked~label.sk-toggleable__label-arrow:before {content: \"▾\";}#sk-container-id-1 div.sk-estimator input.sk-toggleable__control:checked~label.sk-toggleable__label {background-color: #d4ebff;}#sk-container-id-1 div.sk-label input.sk-toggleable__control:checked~label.sk-toggleable__label {background-color: #d4ebff;}#sk-container-id-1 input.sk-hidden--visually {border: 0;clip: rect(1px 1px 1px 1px);clip: rect(1px, 1px, 1px, 1px);height: 1px;margin: -1px;overflow: hidden;padding: 0;position: absolute;width: 1px;}#sk-container-id-1 div.sk-estimator {font-family: monospace;background-color: #f0f8ff;border: 1px dotted black;border-radius: 0.25em;box-sizing: border-box;margin-bottom: 0.5em;}#sk-container-id-1 div.sk-estimator:hover {background-color: #d4ebff;}#sk-container-id-1 div.sk-parallel-item::after {content: \"\";width: 100%;border-bottom: 1px solid gray;flex-grow: 1;}#sk-container-id-1 div.sk-label:hover label.sk-toggleable__label {background-color: #d4ebff;}#sk-container-id-1 div.sk-serial::before {content: \"\";position: absolute;border-left: 1px solid gray;box-sizing: border-box;top: 0;bottom: 0;left: 50%;z-index: 0;}#sk-container-id-1 div.sk-serial {display: flex;flex-direction: column;align-items: center;background-color: white;padding-right: 0.2em;padding-left: 0.2em;position: relative;}#sk-container-id-1 div.sk-item {position: relative;z-index: 1;}#sk-container-id-1 div.sk-parallel {display: flex;align-items: stretch;justify-content: center;background-color: white;position: relative;}#sk-container-id-1 div.sk-item::before, #sk-container-id-1 div.sk-parallel-item::before {content: \"\";position: absolute;border-left: 1px solid gray;box-sizing: border-box;top: 0;bottom: 0;left: 50%;z-index: -1;}#sk-container-id-1 div.sk-parallel-item {display: flex;flex-direction: column;z-index: 1;position: relative;background-color: white;}#sk-container-id-1 div.sk-parallel-item:first-child::after {align-self: flex-end;width: 50%;}#sk-container-id-1 div.sk-parallel-item:last-child::after {align-self: flex-start;width: 50%;}#sk-container-id-1 div.sk-parallel-item:only-child::after {width: 0;}#sk-container-id-1 div.sk-dashed-wrapped {border: 1px dashed gray;margin: 0 0.4em 0.5em 0.4em;box-sizing: border-box;padding-bottom: 0.4em;background-color: white;}#sk-container-id-1 div.sk-label label {font-family: monospace;font-weight: bold;display: inline-block;line-height: 1.2em;}#sk-container-id-1 div.sk-label-container {text-align: center;}#sk-container-id-1 div.sk-container {/* jupyter's `normalize.less` sets `[hidden] { display: none; }` but bootstrap.min.css set `[hidden] { display: none !important; }` so we also need the `!important` here to be able to override the default hidden behavior on the sphinx rendered scikit-learn.org. See: https://github.com/scikit-learn/scikit-learn/issues/21755 */display: inline-block !important;position: relative;}#sk-container-id-1 div.sk-text-repr-fallback {display: none;}</style><div id=\"sk-container-id-1\" class=\"sk-top-container\"><div class=\"sk-text-repr-fallback\"><pre>LogisticRegression(random_state=1, solver=&#x27;liblinear&#x27;)</pre><b>In a Jupyter environment, please rerun this cell to show the HTML representation or trust the notebook. <br />On GitHub, the HTML representation is unable to render, please try loading this page with nbviewer.org.</b></div><div class=\"sk-container\" hidden><div class=\"sk-item\"><div class=\"sk-estimator sk-toggleable\"><input class=\"sk-toggleable__control sk-hidden--visually\" id=\"sk-estimator-id-1\" type=\"checkbox\" checked><label for=\"sk-estimator-id-1\" class=\"sk-toggleable__label sk-toggleable__label-arrow\">LogisticRegression</label><div class=\"sk-toggleable__content\"><pre>LogisticRegression(random_state=1, solver=&#x27;liblinear&#x27;)</pre></div></div></div></div></div>"
            ]
          },
          "metadata": {},
          "execution_count": 49
        }
      ]
    },
    {
      "cell_type": "markdown",
      "source": [
        "## One Hot Encoding"
      ],
      "metadata": {
        "id": "QISEYFVVgByC"
      }
    },
    {
      "cell_type": "code",
      "source": [
        "val_dict = df_val[categorical + numerical].to_dict(orient='records')\n",
        "\n",
        "X_val = dv.transform(val_dict)\n",
        "\n",
        "y_pred = model.predict_proba(X_val)"
      ],
      "metadata": {
        "id": "DhDhKAEkgGEg"
      },
      "execution_count": null,
      "outputs": []
    },
    {
      "cell_type": "code",
      "source": [
        "y_pred = model.predict_proba(X_val)[:, 1]\n",
        "\n",
        "y_pred >= 0.5"
      ],
      "metadata": {
        "colab": {
          "base_uri": "https://localhost:8080/"
        },
        "id": "yxRH_kkQgUhZ",
        "outputId": "8dfc9971-940d-4394-df64-6959d65e810b"
      },
      "execution_count": null,
      "outputs": [
        {
          "output_type": "execute_result",
          "data": {
            "text/plain": [
              "array([ True, False, False,  True, False, False, False,  True, False,\n",
              "       False,  True,  True, False,  True,  True, False,  True,  True,\n",
              "        True, False,  True,  True,  True,  True, False, False, False,\n",
              "       False, False,  True,  True, False, False,  True, False,  True,\n",
              "       False, False,  True, False,  True,  True,  True,  True,  True,\n",
              "       False, False,  True,  True,  True, False, False,  True,  True,\n",
              "        True, False,  True,  True,  True,  True, False,  True,  True,\n",
              "        True, False, False, False, False, False, False, False, False,\n",
              "        True,  True,  True, False,  True,  True, False, False,  True,\n",
              "       False, False, False, False,  True, False, False, False,  True,\n",
              "        True, False, False,  True,  True,  True, False, False, False,\n",
              "       False,  True, False,  True,  True, False,  True, False, False,\n",
              "       False, False,  True,  True, False, False, False, False,  True,\n",
              "        True, False, False,  True,  True, False,  True,  True, False,\n",
              "       False, False, False, False, False, False, False, False,  True,\n",
              "       False,  True,  True,  True, False,  True,  True,  True, False,\n",
              "        True, False, False,  True, False, False, False,  True,  True,\n",
              "        True,  True,  True,  True, False,  True,  True, False,  True,\n",
              "       False, False,  True,  True,  True, False,  True, False, False,\n",
              "       False,  True,  True, False,  True,  True, False, False,  True,\n",
              "       False, False,  True, False,  True,  True,  True,  True,  True,\n",
              "        True,  True, False, False, False,  True, False, False, False,\n",
              "       False, False,  True, False, False,  True,  True,  True,  True,\n",
              "        True, False,  True, False, False, False,  True,  True,  True,\n",
              "        True,  True,  True,  True, False,  True, False,  True,  True,\n",
              "        True, False, False,  True, False, False, False, False,  True,\n",
              "       False,  True,  True, False, False, False,  True,  True, False,\n",
              "       False, False,  True, False,  True, False, False,  True, False,\n",
              "       False,  True,  True, False,  True,  True,  True,  True, False,\n",
              "       False,  True, False, False,  True,  True,  True, False, False,\n",
              "        True,  True, False, False, False,  True, False, False,  True,\n",
              "        True, False, False,  True,  True, False, False, False,  True,\n",
              "        True,  True, False, False,  True,  True, False, False, False,\n",
              "       False, False,  True,  True,  True, False, False,  True,  True,\n",
              "       False,  True, False, False, False,  True, False, False, False,\n",
              "       False,  True, False,  True,  True,  True,  True,  True,  True,\n",
              "       False,  True,  True, False,  True,  True, False, False,  True,\n",
              "       False, False,  True, False,  True,  True,  True, False,  True,\n",
              "        True,  True, False, False, False,  True, False,  True,  True,\n",
              "        True,  True, False, False,  True,  True, False, False,  True,\n",
              "        True,  True, False, False, False, False,  True,  True, False,\n",
              "        True,  True, False,  True,  True, False, False,  True, False,\n",
              "       False, False,  True,  True, False,  True, False,  True, False,\n",
              "       False, False,  True, False,  True, False,  True, False, False,\n",
              "        True,  True,  True,  True, False,  True,  True, False,  True,\n",
              "        True, False,  True,  True, False, False,  True, False,  True,\n",
              "        True,  True,  True,  True,  True, False,  True, False,  True,\n",
              "       False, False, False, False, False, False, False, False, False,\n",
              "       False,  True, False, False, False,  True, False, False,  True,\n",
              "       False, False, False,  True, False,  True,  True,  True,  True,\n",
              "       False, False,  True,  True, False,  True, False, False, False,\n",
              "       False,  True, False,  True, False,  True, False,  True,  True,\n",
              "        True,  True, False, False, False,  True, False,  True, False,\n",
              "       False,  True,  True,  True, False,  True,  True,  True,  True,\n",
              "        True,  True, False,  True, False,  True, False,  True,  True,\n",
              "        True,  True, False,  True,  True, False, False, False,  True,\n",
              "        True, False, False, False,  True,  True, False,  True,  True,\n",
              "        True,  True, False, False,  True, False, False, False,  True,\n",
              "        True, False,  True, False,  True, False, False,  True,  True,\n",
              "        True,  True, False,  True,  True,  True, False, False,  True,\n",
              "       False, False,  True,  True, False, False,  True, False, False,\n",
              "        True, False, False,  True,  True,  True, False,  True, False,\n",
              "        True,  True,  True,  True,  True, False,  True, False,  True,\n",
              "        True,  True,  True, False,  True, False,  True,  True,  True,\n",
              "       False,  True, False, False,  True,  True,  True,  True,  True,\n",
              "       False, False,  True,  True,  True, False,  True, False, False,\n",
              "        True,  True,  True,  True,  True,  True,  True, False, False,\n",
              "       False, False,  True, False,  True, False,  True,  True, False,\n",
              "        True,  True, False, False, False, False, False,  True,  True,\n",
              "        True,  True,  True, False, False,  True,  True,  True, False,\n",
              "       False,  True,  True, False,  True,  True,  True,  True, False,\n",
              "        True, False, False,  True,  True,  True, False,  True,  True,\n",
              "        True,  True, False, False,  True, False, False,  True,  True,\n",
              "        True,  True,  True, False,  True, False, False,  True,  True,\n",
              "        True,  True,  True, False,  True,  True, False,  True,  True,\n",
              "        True,  True, False,  True, False,  True,  True, False,  True,\n",
              "        True,  True, False, False,  True,  True,  True, False,  True,\n",
              "        True,  True,  True, False, False,  True, False,  True, False,\n",
              "       False,  True, False,  True,  True,  True, False,  True,  True,\n",
              "        True,  True,  True,  True, False, False,  True, False, False,\n",
              "       False,  True, False,  True,  True, False,  True, False,  True,\n",
              "        True, False,  True,  True, False, False, False,  True,  True,\n",
              "       False,  True,  True, False,  True, False,  True,  True,  True,\n",
              "       False,  True,  True, False,  True, False, False, False,  True,\n",
              "       False, False, False,  True,  True,  True,  True,  True, False,\n",
              "        True, False,  True,  True,  True, False,  True, False, False,\n",
              "       False,  True, False,  True, False,  True,  True,  True, False,\n",
              "        True, False,  True, False, False,  True,  True, False,  True,\n",
              "       False, False, False, False,  True,  True,  True, False, False,\n",
              "       False,  True,  True,  True, False,  True,  True, False,  True,\n",
              "       False,  True,  True, False, False,  True, False, False, False,\n",
              "        True,  True,  True,  True,  True, False,  True, False,  True,\n",
              "       False, False,  True,  True, False,  True,  True,  True,  True,\n",
              "        True,  True,  True,  True,  True, False,  True,  True, False,\n",
              "        True, False, False, False,  True, False,  True,  True,  True,\n",
              "       False, False, False,  True,  True,  True,  True, False,  True,\n",
              "        True,  True, False, False,  True,  True, False,  True, False,\n",
              "       False, False,  True,  True, False, False,  True, False, False,\n",
              "        True,  True, False, False,  True,  True,  True, False, False,\n",
              "       False,  True,  True, False,  True,  True,  True, False,  True,\n",
              "       False, False, False,  True,  True, False, False, False, False,\n",
              "       False, False, False, False, False, False,  True, False, False])"
            ]
          },
          "metadata": {},
          "execution_count": 51
        }
      ]
    },
    {
      "cell_type": "markdown",
      "source": [
        "## Introducing Accuracy"
      ],
      "metadata": {
        "id": "GVym5pktgfQf"
      }
    },
    {
      "cell_type": "code",
      "source": [
        "converted = y_pred >= 0.5\n",
        "\n",
        "(y_val == converted).mean() #Quality Measure called ACCURACY"
      ],
      "metadata": {
        "colab": {
          "base_uri": "https://localhost:8080/"
        },
        "id": "u4V2oS6AgYiB",
        "outputId": "5ff7a754-378c-4e29-bb21-fb11fc5397da"
      },
      "execution_count": null,
      "outputs": [
        {
          "output_type": "execute_result",
          "data": {
            "text/plain": [
              "0.9531590413943355"
            ]
          },
          "metadata": {},
          "execution_count": 52
        }
      ]
    },
    {
      "cell_type": "code",
      "source": [
        "# Predict\n",
        "y_pred = model.predict(X_val)\n"
      ],
      "metadata": {
        "id": "tSeeENdcl9oW"
      },
      "execution_count": null,
      "outputs": []
    },
    {
      "cell_type": "code",
      "source": [
        "# Score\n",
        "accuracy_score(y_val, y_pred)"
      ],
      "metadata": {
        "colab": {
          "base_uri": "https://localhost:8080/"
        },
        "id": "BQD90Cv9ltlu",
        "outputId": "e87c51a3-7f07-46d7-e787-f95b528f416e"
      },
      "execution_count": null,
      "outputs": [
        {
          "output_type": "execute_result",
          "data": {
            "text/plain": [
              "0.9531590413943355"
            ]
          },
          "metadata": {},
          "execution_count": 71
        }
      ]
    },
    {
      "cell_type": "markdown",
      "source": [
        "## Confusion matrix"
      ],
      "metadata": {
        "id": "eZJnYOFnjJR1"
      }
    },
    {
      "cell_type": "code",
      "source": [
        "# Confusion Matrix\n",
        "cm = confusion_matrix(y_val, y_pred)\n",
        "disp = ConfusionMatrixDisplay(confusion_matrix=cm, display_labels=[\"Not Open\", \"Is Open\"])\n",
        "disp.plot(cmap=plt.cm.Blues)\n",
        "plt.title(\"Confusion Matrix\")\n",
        "plt.show()"
      ],
      "metadata": {
        "colab": {
          "base_uri": "https://localhost:8080/",
          "height": 472
        },
        "id": "RyCqoRnCjOKt",
        "outputId": "3bf9244e-b753-4268-c3ec-634702fe5fed"
      },
      "execution_count": null,
      "outputs": [
        {
          "output_type": "display_data",
          "data": {
            "text/plain": [
              "<Figure size 640x480 with 2 Axes>"
            ],
            "image/png": "[encoded data removed]"
          },
          "metadata": {}
        }
      ]
    },
    {
      "cell_type": "markdown",
      "source": [
        "## Model Interpretation"
      ],
      "metadata": {
        "id": "kXejiubQhJih"
      }
    },
    {
      "cell_type": "markdown",
      "source": [
        "## Coefficients"
      ],
      "metadata": {
        "id": "ML7Ia2zMhS1Q"
      }
    },
    {
      "cell_type": "code",
      "source": [
        "dict(zip(dv.get_feature_names_out(), model.coef_[0].round(3)))"
      ],
      "metadata": {
        "colab": {
          "base_uri": "https://localhost:8080/"
        },
        "id": "5c0tfPpfg36x",
        "outputId": "3db00db6-8d27-4881-dd91-d0d17f790aca"
      },
      "execution_count": null,
      "outputs": [
        {
          "output_type": "execute_result",
          "data": {
            "text/plain": [
              "{'a_free_copy_of_mastering_the_interview=no': -0.269,\n",
              " 'a_free_copy_of_mastering_the_interview=yes': 0.147,\n",
              " 'city=mumbai': -0.02,\n",
              " 'city=other_cities': -0.017,\n",
              " 'city=other_cities_of_maharashtra': 0.27,\n",
              " 'city=other_metro_cities': -0.292,\n",
              " 'city=select': 0.054,\n",
              " 'city=thane_&_outskirts': -0.288,\n",
              " 'city=tier_ii_cities': 0.173,\n",
              " 'country=australia': -0.027,\n",
              " 'country=bahrain': 0.079,\n",
              " 'country=bangladesh': 0.015,\n",
              " 'country=denmark': 0.005,\n",
              " 'country=france': 0.083,\n",
              " 'country=ghana': -0.005,\n",
              " 'country=hong_kong': 0.448,\n",
              " 'country=india': 0.345,\n",
              " 'country=indonesia': -0.023,\n",
              " 'country=kuwait': -0.023,\n",
              " 'country=malaysia': -0.002,\n",
              " 'country=netherlands': 0.007,\n",
              " 'country=nigeria': -0.033,\n",
              " 'country=oman': -0.029,\n",
              " 'country=qatar': -0.007,\n",
              " 'country=saudi_arabia': -0.451,\n",
              " 'country=singapore': -0.093,\n",
              " 'country=south_africa': -0.014,\n",
              " 'country=sweden': -0.003,\n",
              " 'country=tanzania': -0.008,\n",
              " 'country=uganda': -0.011,\n",
              " 'country=united_arab_emirates': -0.295,\n",
              " 'country=united_kingdom': -0.017,\n",
              " 'country=united_states': -0.064,\n",
              " 'digital_advertisement=no': -0.126,\n",
              " 'digital_advertisement=yes': 0.004,\n",
              " 'do_not_call=no': -0.137,\n",
              " 'do_not_call=yes': 0.015,\n",
              " 'do_not_email=no': 0.443,\n",
              " 'do_not_email=yes': -0.566,\n",
              " 'how_did_you_hear_about_x_education=advertisements': -0.125,\n",
              " 'how_did_you_hear_about_x_education=email': 0.007,\n",
              " 'how_did_you_hear_about_x_education=multiple_sources': -0.587,\n",
              " 'how_did_you_hear_about_x_education=online_search': 0.059,\n",
              " 'how_did_you_hear_about_x_education=other': 0.538,\n",
              " 'how_did_you_hear_about_x_education=select': -0.594,\n",
              " 'how_did_you_hear_about_x_education=sms': 0.461,\n",
              " 'how_did_you_hear_about_x_education=social_media': 0.066,\n",
              " 'how_did_you_hear_about_x_education=student_of_someschool': -0.32,\n",
              " 'how_did_you_hear_about_x_education=word_of_mouth': 0.371,\n",
              " 'last_activity=converted_to_lead': -0.028,\n",
              " 'last_activity=email_bounced': -0.334,\n",
              " 'last_activity=email_link_clicked': -0.305,\n",
              " 'last_activity=email_opened': 0.254,\n",
              " 'last_activity=form_submitted_on_website': -0.088,\n",
              " 'last_activity=had_a_phone_conversation': -0.153,\n",
              " 'last_activity=olark_chat_conversation': 0.289,\n",
              " 'last_activity=page_visited_on_website': -0.58,\n",
              " 'last_activity=sms_sent': 0.782,\n",
              " 'last_activity=unreachable': 0.051,\n",
              " 'last_activity=unsubscribed': 0.042,\n",
              " 'last_activity=view_in_browser_link_clicked': -0.037,\n",
              " 'last_activity=visited_booth_in_tradeshow': -0.015,\n",
              " 'last_notable_activity=email_bounced': 0.372,\n",
              " 'last_notable_activity=email_link_clicked': 0.293,\n",
              " 'last_notable_activity=email_opened': -0.45,\n",
              " 'last_notable_activity=had_a_phone_conversation': 0.251,\n",
              " 'last_notable_activity=modified': -0.934,\n",
              " 'last_notable_activity=olark_chat_conversation': -0.019,\n",
              " 'last_notable_activity=page_visited_on_website': 0.165,\n",
              " 'last_notable_activity=sms_sent': 0.07,\n",
              " 'last_notable_activity=unreachable': 0.169,\n",
              " 'last_notable_activity=unsubscribed': -0.003,\n",
              " 'last_notable_activity=view_in_browser_link_clicked': -0.037,\n",
              " 'lead_origin=api': -0.257,\n",
              " 'lead_origin=landing_page_submission': -0.116,\n",
              " 'lead_origin=lead_add_form': 0.25,\n",
              " 'lead_profile=dual_specialization_student': 0.074,\n",
              " 'lead_profile=lateral_student': 0.057,\n",
              " 'lead_profile=other_leads': 0.074,\n",
              " 'lead_profile=potential_lead': 0.145,\n",
              " 'lead_profile=select': -0.256,\n",
              " 'lead_profile=student_of_someschool': -0.216,\n",
              " 'lead_quality=high_in_relevance': 1.286,\n",
              " 'lead_quality=low_in_relevance': 0.321,\n",
              " 'lead_quality=might_be': -0.111,\n",
              " 'lead_quality=not_sure': 0.104,\n",
              " 'lead_quality=worst': -1.723,\n",
              " 'lead_source=direct_traffic': -0.347,\n",
              " 'lead_source=facebook': -0.189,\n",
              " 'lead_source=google': -0.212,\n",
              " 'lead_source=olark_chat': 0.132,\n",
              " 'lead_source=organic_search': 0.354,\n",
              " 'lead_source=reference': 0.25,\n",
              " 'lead_source=referral_sites': -0.098,\n",
              " 'lead_source=social_media': -0.004,\n",
              " 'lead_source=testone': -0.009,\n",
              " 'newspaper=no': -0.122,\n",
              " 'newspaper_article=no': -0.122,\n",
              " 'page_views_per_visit': -0.185,\n",
              " 'search=no': -0.184,\n",
              " 'search=yes': 0.061,\n",
              " 'specialization=banking,_investment_and_insurance': 0.691,\n",
              " 'specialization=business_administration': -0.041,\n",
              " 'specialization=e-business': 0.082,\n",
              " 'specialization=e-commerce': 0.36,\n",
              " 'specialization=finance_management': 0.126,\n",
              " 'specialization=healthcare_management': 0.068,\n",
              " 'specialization=hospitality_management': -0.379,\n",
              " 'specialization=human_resource_management': -0.274,\n",
              " 'specialization=international_business': -0.194,\n",
              " 'specialization=it_projects_management': 0.737,\n",
              " 'specialization=marketing_management': -0.071,\n",
              " 'specialization=media_and_advertising': -0.529,\n",
              " 'specialization=operations_management': 0.351,\n",
              " 'specialization=retail_management': -0.455,\n",
              " 'specialization=rural_and_agribusiness': 0.27,\n",
              " 'specialization=select': -0.174,\n",
              " 'specialization=services_excellence': -0.131,\n",
              " 'specialization=supply_chain_management': -0.254,\n",
              " 'specialization=travel_and_tourism': -0.307,\n",
              " 'tags=already_a_student': -1.274,\n",
              " 'tags=busy': 0.993,\n",
              " 'tags=closed_by_horizzon': 2.792,\n",
              " 'tags=diploma_holder_(not_eligible)': -0.996,\n",
              " 'tags=graduation_in_progress': 0.019,\n",
              " 'tags=in_confusion_whether_part_time_or_dlp': 0.117,\n",
              " 'tags=in_touch_with_eins': 0.546,\n",
              " 'tags=interested__in_full_time_mba': -1.144,\n",
              " 'tags=interested_in_next_batch': 0.524,\n",
              " 'tags=interested_in_other_courses': -1.517,\n",
              " 'tags=invalid_number': -0.834,\n",
              " 'tags=lateral_student': 0.423,\n",
              " 'tags=lost_to_eins': 3.318,\n",
              " 'tags=lost_to_others': -0.031,\n",
              " 'tags=not_doing_further_education': -0.846,\n",
              " 'tags=number_not_provided': -0.685,\n",
              " 'tags=opp_hangup': -0.454,\n",
              " 'tags=ringing': -2.46,\n",
              " 'tags=still_thinking': -0.196,\n",
              " 'tags=switched_off': -1.779,\n",
              " 'tags=want_to_take_admission_but_has_financial_problems': 0.259,\n",
              " 'tags=will_revert_after_reading_the_email': 4.112,\n",
              " 'tags=wrong_number_given': -1.01,\n",
              " 'through_recommendations=no': -0.202,\n",
              " 'through_recommendations=yes': 0.08,\n",
              " 'total_time_spent_on_website': 0.002,\n",
              " 'totalvisits': 0.05,\n",
              " 'what_is_your_current_occupation=businessman': 0.019,\n",
              " 'what_is_your_current_occupation=housewife': 0.228,\n",
              " 'what_is_your_current_occupation=other': 0.1,\n",
              " 'what_is_your_current_occupation=student': -0.289,\n",
              " 'what_is_your_current_occupation=unemployed': -0.527,\n",
              " 'what_is_your_current_occupation=working_professional': 0.347,\n",
              " 'what_matters_most_to_you_in_choosing_a_course=better_career_prospects': -0.114,\n",
              " 'what_matters_most_to_you_in_choosing_a_course=other': -0.009}"
            ]
          },
          "metadata": {},
          "execution_count": 75
        }
      ]
    },
    {
      "cell_type": "markdown",
      "source": [
        "## Prepare a Small Subset to Break Down the Categoricals"
      ],
      "metadata": {
        "id": "AIxZbJXhh7EC"
      }
    },
    {
      "cell_type": "code",
      "source": [
        "small_subset = ['country', 'tags', 'total_time_spent_on_website']\n",
        "\n",
        "train_dict_small = df_train[small_subset].to_dict(orient='records')\n",
        "\n",
        "dv_small = DictVectorizer(sparse=False)\n",
        "\n",
        "dv_small.fit(train_dict_small)\n",
        "\n",
        "X_small_train = dv_small.transform(train_dict_small)\n",
        "\n",
        "dv_small.get_feature_names_out()"
      ],
      "metadata": {
        "colab": {
          "base_uri": "https://localhost:8080/"
        },
        "id": "ZpSv1wmLhdC8",
        "outputId": "97a9cce0-d284-401d-80ba-2bd169e8fa9b"
      },
      "execution_count": null,
      "outputs": [
        {
          "output_type": "execute_result",
          "data": {
            "text/plain": [
              "array(['country=australia', 'country=bahrain', 'country=bangladesh',\n",
              "       'country=denmark', 'country=france', 'country=ghana',\n",
              "       'country=hong_kong', 'country=india', 'country=indonesia',\n",
              "       'country=kuwait', 'country=malaysia', 'country=netherlands',\n",
              "       'country=nigeria', 'country=oman', 'country=qatar',\n",
              "       'country=saudi_arabia', 'country=singapore',\n",
              "       'country=south_africa', 'country=sweden', 'country=tanzania',\n",
              "       'country=uganda', 'country=united_arab_emirates',\n",
              "       'country=united_kingdom', 'country=united_states',\n",
              "       'tags=already_a_student', 'tags=busy', 'tags=closed_by_horizzon',\n",
              "       'tags=diploma_holder_(not_eligible)',\n",
              "       'tags=graduation_in_progress',\n",
              "       'tags=in_confusion_whether_part_time_or_dlp',\n",
              "       'tags=in_touch_with_eins', 'tags=interested__in_full_time_mba',\n",
              "       'tags=interested_in_next_batch',\n",
              "       'tags=interested_in_other_courses', 'tags=invalid_number',\n",
              "       'tags=lateral_student', 'tags=lost_to_eins', 'tags=lost_to_others',\n",
              "       'tags=not_doing_further_education', 'tags=number_not_provided',\n",
              "       'tags=opp_hangup', 'tags=ringing', 'tags=still_thinking',\n",
              "       'tags=switched_off',\n",
              "       'tags=want_to_take_admission_but_has_financial_problems',\n",
              "       'tags=will_revert_after_reading_the_email',\n",
              "       'tags=wrong_number_given', 'total_time_spent_on_website'],\n",
              "      dtype=object)"
            ]
          },
          "metadata": {},
          "execution_count": 76
        }
      ]
    },
    {
      "cell_type": "markdown",
      "source": [
        "## Train the Small Subset"
      ],
      "metadata": {
        "id": "RoE0XaMNiSWr"
      }
    },
    {
      "cell_type": "code",
      "source": [
        "model_small = LogisticRegression(solver='liblinear', random_state=1)\n",
        "\n",
        "model_small.fit(X_small_train, y_train)\n",
        "\n",
        "model_small.intercept_[0] #Check the bias\n",
        "\n",
        "dict(zip(dv_small.get_feature_names_out(), model_small.coef_[0].round(3))) #Check the other weights"
      ],
      "metadata": {
        "colab": {
          "base_uri": "https://localhost:8080/"
        },
        "id": "IJM9kEmViTsk",
        "outputId": "3348d10a-df89-411f-9714-d6d3142cbf76"
      },
      "execution_count": null,
      "outputs": [
        {
          "output_type": "execute_result",
          "data": {
            "text/plain": [
              "{'country=australia': -0.11,\n",
              " 'country=bahrain': 0.034,\n",
              " 'country=bangladesh': 0.003,\n",
              " 'country=denmark': 0.004,\n",
              " 'country=france': 0.011,\n",
              " 'country=ghana': -0.018,\n",
              " 'country=hong_kong': 0.063,\n",
              " 'country=india': -0.442,\n",
              " 'country=indonesia': -0.034,\n",
              " 'country=kuwait': -0.062,\n",
              " 'country=malaysia': -0.015,\n",
              " 'country=netherlands': 0.003,\n",
              " 'country=nigeria': -0.045,\n",
              " 'country=oman': -0.026,\n",
              " 'country=qatar': -0.015,\n",
              " 'country=saudi_arabia': -0.243,\n",
              " 'country=singapore': -0.091,\n",
              " 'country=south_africa': -0.077,\n",
              " 'country=sweden': -0.019,\n",
              " 'country=tanzania': -0.013,\n",
              " 'country=uganda': -0.014,\n",
              " 'country=united_arab_emirates': -0.231,\n",
              " 'country=united_kingdom': -0.034,\n",
              " 'country=united_states': -0.195,\n",
              " 'tags=already_a_student': -2.209,\n",
              " 'tags=busy': 1.424,\n",
              " 'tags=closed_by_horizzon': 3.183,\n",
              " 'tags=diploma_holder_(not_eligible)': -0.616,\n",
              " 'tags=graduation_in_progress': -0.307,\n",
              " 'tags=in_confusion_whether_part_time_or_dlp': 0.006,\n",
              " 'tags=in_touch_with_eins': 0.171,\n",
              " 'tags=interested__in_full_time_mba': -0.996,\n",
              " 'tags=interested_in_next_batch': 0.15,\n",
              " 'tags=interested_in_other_courses': -1.793,\n",
              " 'tags=invalid_number': -0.624,\n",
              " 'tags=lateral_student': 0.091,\n",
              " 'tags=lost_to_eins': 2.079,\n",
              " 'tags=lost_to_others': -0.023,\n",
              " 'tags=not_doing_further_education': -1.454,\n",
              " 'tags=number_not_provided': -0.489,\n",
              " 'tags=opp_hangup': -0.261,\n",
              " 'tags=ringing': -2.276,\n",
              " 'tags=still_thinking': -0.056,\n",
              " 'tags=switched_off': -1.504,\n",
              " 'tags=want_to_take_admission_but_has_financial_problems': 0.137,\n",
              " 'tags=will_revert_after_reading_the_email': 4.322,\n",
              " 'tags=wrong_number_given': -0.525,\n",
              " 'total_time_spent_on_website': 0.001}"
            ]
          },
          "metadata": {},
          "execution_count": 77
        }
      ]
    },
    {
      "cell_type": "markdown",
      "source": [
        "## Understanding The Importance of Categories"
      ],
      "metadata": {
        "id": "Y3QqJCe7irUy"
      }
    },
    {
      "cell_type": "code",
      "source": [
        "dict(zip(dv_small.get_feature_names_out(), model_small.coef_[0].round(3)))"
      ],
      "metadata": {
        "colab": {
          "base_uri": "https://localhost:8080/"
        },
        "id": "YA55P88fitaj",
        "outputId": "fcbcb6a4-beef-473e-a94b-aa5ba0431920"
      },
      "execution_count": null,
      "outputs": [
        {
          "output_type": "execute_result",
          "data": {
            "text/plain": [
              "{'country=australia': -0.11,\n",
              " 'country=bahrain': 0.034,\n",
              " 'country=bangladesh': 0.003,\n",
              " 'country=denmark': 0.004,\n",
              " 'country=france': 0.011,\n",
              " 'country=ghana': -0.018,\n",
              " 'country=hong_kong': 0.063,\n",
              " 'country=india': -0.442,\n",
              " 'country=indonesia': -0.034,\n",
              " 'country=kuwait': -0.062,\n",
              " 'country=malaysia': -0.015,\n",
              " 'country=netherlands': 0.003,\n",
              " 'country=nigeria': -0.045,\n",
              " 'country=oman': -0.026,\n",
              " 'country=qatar': -0.015,\n",
              " 'country=saudi_arabia': -0.243,\n",
              " 'country=singapore': -0.091,\n",
              " 'country=south_africa': -0.077,\n",
              " 'country=sweden': -0.019,\n",
              " 'country=tanzania': -0.013,\n",
              " 'country=uganda': -0.014,\n",
              " 'country=united_arab_emirates': -0.231,\n",
              " 'country=united_kingdom': -0.034,\n",
              " 'country=united_states': -0.195,\n",
              " 'tags=already_a_student': -2.209,\n",
              " 'tags=busy': 1.424,\n",
              " 'tags=closed_by_horizzon': 3.183,\n",
              " 'tags=diploma_holder_(not_eligible)': -0.616,\n",
              " 'tags=graduation_in_progress': -0.307,\n",
              " 'tags=in_confusion_whether_part_time_or_dlp': 0.006,\n",
              " 'tags=in_touch_with_eins': 0.171,\n",
              " 'tags=interested__in_full_time_mba': -0.996,\n",
              " 'tags=interested_in_next_batch': 0.15,\n",
              " 'tags=interested_in_other_courses': -1.793,\n",
              " 'tags=invalid_number': -0.624,\n",
              " 'tags=lateral_student': 0.091,\n",
              " 'tags=lost_to_eins': 2.079,\n",
              " 'tags=lost_to_others': -0.023,\n",
              " 'tags=not_doing_further_education': -1.454,\n",
              " 'tags=number_not_provided': -0.489,\n",
              " 'tags=opp_hangup': -0.261,\n",
              " 'tags=ringing': -2.276,\n",
              " 'tags=still_thinking': -0.056,\n",
              " 'tags=switched_off': -1.504,\n",
              " 'tags=want_to_take_admission_but_has_financial_problems': 0.137,\n",
              " 'tags=will_revert_after_reading_the_email': 4.322,\n",
              " 'tags=wrong_number_given': -0.525,\n",
              " 'total_time_spent_on_website': 0.001}"
            ]
          },
          "metadata": {},
          "execution_count": 78
        }
      ]
    }
  ]
}