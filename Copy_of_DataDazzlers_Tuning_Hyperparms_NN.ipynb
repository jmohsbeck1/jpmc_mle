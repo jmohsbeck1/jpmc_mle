{
  "nbformat": 4,
  "nbformat_minor": 0,
  "metadata": {
    "colab": {
      "provenance": [],
      "include_colab_link": true
    },
    "kernelspec": {
      "name": "python3",
      "display_name": "Python 3"
    },
    "language_info": {
      "name": "python"
    }
  },
  "cells": [
    {
      "cell_type": "markdown",
      "metadata": {
        "id": "view-in-github",
        "colab_type": "text"
      },
      "source": [
        "<a href=\"https://colab.research.google.com/github/jmohsbeck1/jpmc_mle/blob/week-Apr.-17/Copy_of_DataDazzlers_Tuning_Hyperparms_NN.ipynb\" target=\"_parent\"><img src=\"https://colab.research.google.com/assets/colab-badge.svg\" alt=\"Open In Colab\"/></a>"
      ]
    },
    {
      "cell_type": "code",
      "execution_count": null,
      "metadata": {
        "id": "inuyFGIvISy3"
      },
      "outputs": [],
      "source": [
        "import os\n",
        "import warnings\n",
        "import itertools\n",
        "os.environ['TF_CPP_MIN_LOG_LEVEL'] = '2' \n",
        "warnings.filterwarnings('ignore')"
      ]
    },
    {
      "cell_type": "markdown",
      "source": [
        "\n",
        "Neural Networks\n",
        "\n",
        "Tuning Hyperparameters\n",
        "\n",
        "Dataset: AirBNB\n",
        "\n",
        "\n",
        "\n"
      ],
      "metadata": {
        "id": "KsfgYLyJK2bQ"
      }
    },
    {
      "cell_type": "markdown",
      "source": [
        "In this project we will use the New York City Airbnb Open Data:\n",
        "\n",
        "https://raw.githubusercontent.com/fenago/datasets/main/AirBnB_NYC_2019.csv\n",
        "\n",
        "We'll be working with the 'price' variable, and we'll transform it to a classification task.\n"
      ],
      "metadata": {
        "id": "TJpCBqqtLTWT"
      }
    },
    {
      "cell_type": "code",
      "source": [
        "#Dataframe and numerical library\n",
        "import pandas as pd \n",
        "import numpy as np\n",
        "from scipy import stats\n",
        "\n",
        "#Visualization\n",
        "import matplotlib\n",
        "import matplotlib.pyplot as plt\n",
        "import seaborn as sns\n",
        "import plotly.express as px\n",
        "%matplotlib inline\n",
        "from matplotlib import rcParams\n",
        "\n",
        "#Stats\n",
        "from scipy import stats\n",
        "\n",
        "#Machine Learning Model\n",
        "#Metrics\n",
        "from sklearn.metrics import mutual_info_score\n",
        "from sklearn.metrics import confusion_matrix\n",
        "from sklearn.metrics import precision_score, recall_score, f1_score, accuracy_score\n",
        "from sklearn.metrics import roc_auc_score\n",
        "from sklearn.metrics import mean_squared_error\n",
        "\n",
        "\n",
        "#Model Selection\n",
        "from sklearn.model_selection import train_test_split\n",
        "from sklearn.model_selection import GridSearchCV\n",
        "\n",
        "#Preprocessing\n",
        "from sklearn.preprocessing import OneHotEncoder\n",
        "from sklearn.preprocessing import StandardScaler\n",
        "from sklearn.compose import make_column_transformer\n",
        "from sklearn.preprocessing import MinMaxScaler, OneHotEncoder\n",
        "\n",
        "#Linear Model\n",
        "from sklearn.linear_model import LogisticRegression\n",
        "from sklearn.linear_model import Ridge\n",
        "\n",
        "#Ensemble\n",
        "from sklearn.ensemble import RandomForestClassifier, GradientBoostingClassifier\n",
        "\n",
        "#Others\n",
        "from sklearn.compose import ColumnTransformer\n",
        "from sklearn.pipeline import Pipeline\n",
        "from sklearn.feature_selection import RFE\n",
        "from sklearn.tree import DecisionTreeClassifier\n",
        "\n",
        "\n",
        "\n",
        "#Hyper parameter\n",
        "from sklearn import neighbors, datasets, model_selection\n",
        "\n",
        "# Tensorflow\n",
        "import tensorflow as tf\n",
        "from tensorflow.keras import Sequential\n",
        "from tensorflow.keras.layers import Dense\n",
        "from tensorflow.keras.optimizers import Adam\n",
        "from tensorflow.keras import backend as K\n",
        "\n"
      ],
      "metadata": {
        "id": "IjNShFLXKnhH"
      },
      "execution_count": null,
      "outputs": []
    },
    {
      "cell_type": "markdown",
      "source": [
        "Prepare the data"
      ],
      "metadata": {
        "id": "jacewZgTMAsK"
      }
    },
    {
      "cell_type": "code",
      "source": [
        "df = pd.read_csv(\"https://raw.githubusercontent.com/fenago/datasets/main/AirBnB_NYC_2019.csv\")\n",
        "df.sample(5)"
      ],
      "metadata": {
        "colab": {
          "base_uri": "https://localhost:8080/",
          "height": 548
        },
        "id": "HRiYI-7mL6ow",
        "outputId": "cdfa0468-b7bd-4edb-bdd1-fc626bc7c1df"
      },
      "execution_count": null,
      "outputs": [
        {
          "output_type": "execute_result",
          "data": {
            "text/plain": [
              "             id                                               name    host_id  \\\n",
              "41558  32306053    Modern renovated 1 BR in the heart of Manhattan   48339350   \n",
              "42998  33389288  Cozy Private Room, Walking Distance From LGA, ...  187822288   \n",
              "3569    2134052                  Large artsy studio with 90s style    7978448   \n",
              "27610  21713419        Timeless West Village Townhouse with Garden  158087989   \n",
              "40782  31670590                     East Village/Union Square Flat  237464350   \n",
              "\n",
              "      host_name neighbourhood_group    neighbourhood  latitude  longitude  \\\n",
              "41558       Kel           Manhattan  Upper East Side  40.76218  -73.96633   \n",
              "42998     Zahir              Queens    East Elmhurst  40.77051  -73.87344   \n",
              "3569       Seth           Manhattan          Chelsea  40.74193  -74.00170   \n",
              "27610       Ben           Manhattan          Chelsea  40.74025  -74.00066   \n",
              "40782      Jake           Manhattan     East Village  40.73315  -73.98688   \n",
              "\n",
              "             room_type  price  minimum_nights  number_of_reviews last_review  \\\n",
              "41558  Entire home/apt    136               1                 26  2019-06-29   \n",
              "42998     Private room     55               1                 22  2019-06-19   \n",
              "3569   Entire home/apt     90               3                 23  2015-12-06   \n",
              "27610  Entire home/apt    400               3                 21  2018-10-14   \n",
              "40782  Entire home/apt    167               5                 13  2019-06-20   \n",
              "\n",
              "       reviews_per_month  calculated_host_listings_count  availability_365  \n",
              "41558               5.91                               1                47  \n",
              "42998               6.47                               5               162  \n",
              "3569                0.36                               1                 0  \n",
              "27610               1.09                               1                 0  \n",
              "40782               2.75                               1                91  "
            ],
            "text/html": [
              "\n",
              "  <div id=\"df-15fc16ae-a979-4634-b6d3-46dc59693119\">\n",
              "    <div class=\"colab-df-container\">\n",
              "      <div>\n",
              "<style scoped>\n",
              "    .dataframe tbody tr th:only-of-type {\n",
              "        vertical-align: middle;\n",
              "    }\n",
              "\n",
              "    .dataframe tbody tr th {\n",
              "        vertical-align: top;\n",
              "    }\n",
              "\n",
              "    .dataframe thead th {\n",
              "        text-align: right;\n",
              "    }\n",
              "</style>\n",
              "<table border=\"1\" class=\"dataframe\">\n",
              "  <thead>\n",
              "    <tr style=\"text-align: right;\">\n",
              "      <th></th>\n",
              "      <th>id</th>\n",
              "      <th>name</th>\n",
              "      <th>host_id</th>\n",
              "      <th>host_name</th>\n",
              "      <th>neighbourhood_group</th>\n",
              "      <th>neighbourhood</th>\n",
              "      <th>latitude</th>\n",
              "      <th>longitude</th>\n",
              "      <th>room_type</th>\n",
              "      <th>price</th>\n",
              "      <th>minimum_nights</th>\n",
              "      <th>number_of_reviews</th>\n",
              "      <th>last_review</th>\n",
              "      <th>reviews_per_month</th>\n",
              "      <th>calculated_host_listings_count</th>\n",
              "      <th>availability_365</th>\n",
              "    </tr>\n",
              "  </thead>\n",
              "  <tbody>\n",
              "    <tr>\n",
              "      <th>41558</th>\n",
              "      <td>32306053</td>\n",
              "      <td>Modern renovated 1 BR in the heart of Manhattan</td>\n",
              "      <td>48339350</td>\n",
              "      <td>Kel</td>\n",
              "      <td>Manhattan</td>\n",
              "      <td>Upper East Side</td>\n",
              "      <td>40.76218</td>\n",
              "      <td>-73.96633</td>\n",
              "      <td>Entire home/apt</td>\n",
              "      <td>136</td>\n",
              "      <td>1</td>\n",
              "      <td>26</td>\n",
              "      <td>2019-06-29</td>\n",
              "      <td>5.91</td>\n",
              "      <td>1</td>\n",
              "      <td>47</td>\n",
              "    </tr>\n",
              "    <tr>\n",
              "      <th>42998</th>\n",
              "      <td>33389288</td>\n",
              "      <td>Cozy Private Room, Walking Distance From LGA, ...</td>\n",
              "      <td>187822288</td>\n",
              "      <td>Zahir</td>\n",
              "      <td>Queens</td>\n",
              "      <td>East Elmhurst</td>\n",
              "      <td>40.77051</td>\n",
              "      <td>-73.87344</td>\n",
              "      <td>Private room</td>\n",
              "      <td>55</td>\n",
              "      <td>1</td>\n",
              "      <td>22</td>\n",
              "      <td>2019-06-19</td>\n",
              "      <td>6.47</td>\n",
              "      <td>5</td>\n",
              "      <td>162</td>\n",
              "    </tr>\n",
              "    <tr>\n",
              "      <th>3569</th>\n",
              "      <td>2134052</td>\n",
              "      <td>Large artsy studio with 90s style</td>\n",
              "      <td>7978448</td>\n",
              "      <td>Seth</td>\n",
              "      <td>Manhattan</td>\n",
              "      <td>Chelsea</td>\n",
              "      <td>40.74193</td>\n",
              "      <td>-74.00170</td>\n",
              "      <td>Entire home/apt</td>\n",
              "      <td>90</td>\n",
              "      <td>3</td>\n",
              "      <td>23</td>\n",
              "      <td>2015-12-06</td>\n",
              "      <td>0.36</td>\n",
              "      <td>1</td>\n",
              "      <td>0</td>\n",
              "    </tr>\n",
              "    <tr>\n",
              "      <th>27610</th>\n",
              "      <td>21713419</td>\n",
              "      <td>Timeless West Village Townhouse with Garden</td>\n",
              "      <td>158087989</td>\n",
              "      <td>Ben</td>\n",
              "      <td>Manhattan</td>\n",
              "      <td>Chelsea</td>\n",
              "      <td>40.74025</td>\n",
              "      <td>-74.00066</td>\n",
              "      <td>Entire home/apt</td>\n",
              "      <td>400</td>\n",
              "      <td>3</td>\n",
              "      <td>21</td>\n",
              "      <td>2018-10-14</td>\n",
              "      <td>1.09</td>\n",
              "      <td>1</td>\n",
              "      <td>0</td>\n",
              "    </tr>\n",
              "    <tr>\n",
              "      <th>40782</th>\n",
              "      <td>31670590</td>\n",
              "      <td>East Village/Union Square Flat</td>\n",
              "      <td>237464350</td>\n",
              "      <td>Jake</td>\n",
              "      <td>Manhattan</td>\n",
              "      <td>East Village</td>\n",
              "      <td>40.73315</td>\n",
              "      <td>-73.98688</td>\n",
              "      <td>Entire home/apt</td>\n",
              "      <td>167</td>\n",
              "      <td>5</td>\n",
              "      <td>13</td>\n",
              "      <td>2019-06-20</td>\n",
              "      <td>2.75</td>\n",
              "      <td>1</td>\n",
              "      <td>91</td>\n",
              "    </tr>\n",
              "  </tbody>\n",
              "</table>\n",
              "</div>\n",
              "      <button class=\"colab-df-convert\" onclick=\"convertToInteractive('df-15fc16ae-a979-4634-b6d3-46dc59693119')\"\n",
              "              title=\"Convert this dataframe to an interactive table.\"\n",
              "              style=\"display:none;\">\n",
              "        \n",
              "  <svg xmlns=\"http://www.w3.org/2000/svg\" height=\"24px\"viewBox=\"0 0 24 24\"\n",
              "       width=\"24px\">\n",
              "    <path d=\"M0 0h24v24H0V0z\" fill=\"none\"/>\n",
              "    <path d=\"M18.56 5.44l.94 2.06.94-2.06 2.06-.94-2.06-.94-.94-2.06-.94 2.06-2.06.94zm-11 1L8.5 8.5l.94-2.06 2.06-.94-2.06-.94L8.5 2.5l-.94 2.06-2.06.94zm10 10l.94 2.06.94-2.06 2.06-.94-2.06-.94-.94-2.06-.94 2.06-2.06.94z\"/><path d=\"M17.41 7.96l-1.37-1.37c-.4-.4-.92-.59-1.43-.59-.52 0-1.04.2-1.43.59L10.3 9.45l-7.72 7.72c-.78.78-.78 2.05 0 2.83L4 21.41c.39.39.9.59 1.41.59.51 0 1.02-.2 1.41-.59l7.78-7.78 2.81-2.81c.8-.78.8-2.07 0-2.86zM5.41 20L4 18.59l7.72-7.72 1.47 1.35L5.41 20z\"/>\n",
              "  </svg>\n",
              "      </button>\n",
              "      \n",
              "  <style>\n",
              "    .colab-df-container {\n",
              "      display:flex;\n",
              "      flex-wrap:wrap;\n",
              "      gap: 12px;\n",
              "    }\n",
              "\n",
              "    .colab-df-convert {\n",
              "      background-color: #E8F0FE;\n",
              "      border: none;\n",
              "      border-radius: 50%;\n",
              "      cursor: pointer;\n",
              "      display: none;\n",
              "      fill: #1967D2;\n",
              "      height: 32px;\n",
              "      padding: 0 0 0 0;\n",
              "      width: 32px;\n",
              "    }\n",
              "\n",
              "    .colab-df-convert:hover {\n",
              "      background-color: #E2EBFA;\n",
              "      box-shadow: 0px 1px 2px rgba(60, 64, 67, 0.3), 0px 1px 3px 1px rgba(60, 64, 67, 0.15);\n",
              "      fill: #174EA6;\n",
              "    }\n",
              "\n",
              "    [theme=dark] .colab-df-convert {\n",
              "      background-color: #3B4455;\n",
              "      fill: #D2E3FC;\n",
              "    }\n",
              "\n",
              "    [theme=dark] .colab-df-convert:hover {\n",
              "      background-color: #434B5C;\n",
              "      box-shadow: 0px 1px 3px 1px rgba(0, 0, 0, 0.15);\n",
              "      filter: drop-shadow(0px 1px 2px rgba(0, 0, 0, 0.3));\n",
              "      fill: #FFFFFF;\n",
              "    }\n",
              "  </style>\n",
              "\n",
              "      <script>\n",
              "        const buttonEl =\n",
              "          document.querySelector('#df-15fc16ae-a979-4634-b6d3-46dc59693119 button.colab-df-convert');\n",
              "        buttonEl.style.display =\n",
              "          google.colab.kernel.accessAllowed ? 'block' : 'none';\n",
              "\n",
              "        async function convertToInteractive(key) {\n",
              "          const element = document.querySelector('#df-15fc16ae-a979-4634-b6d3-46dc59693119');\n",
              "          const dataTable =\n",
              "            await google.colab.kernel.invokeFunction('convertToInteractive',\n",
              "                                                     [key], {});\n",
              "          if (!dataTable) return;\n",
              "\n",
              "          const docLinkHtml = 'Like what you see? Visit the ' +\n",
              "            '<a target=\"_blank\" href=https://colab.research.google.com/notebooks/data_table.ipynb>data table notebook</a>'\n",
              "            + ' to learn more about interactive tables.';\n",
              "          element.innerHTML = '';\n",
              "          dataTable['output_type'] = 'display_data';\n",
              "          await google.colab.output.renderOutput(dataTable, element);\n",
              "          const docLink = document.createElement('div');\n",
              "          docLink.innerHTML = docLinkHtml;\n",
              "          element.appendChild(docLink);\n",
              "        }\n",
              "      </script>\n",
              "    </div>\n",
              "  </div>\n",
              "  "
            ]
          },
          "metadata": {},
          "execution_count": 3
        }
      ]
    },
    {
      "cell_type": "code",
      "source": [
        "df.shape\n"
      ],
      "metadata": {
        "colab": {
          "base_uri": "https://localhost:8080/"
        },
        "id": "sm6qwQTuUV5Y",
        "outputId": "6cd49178-efbf-4a20-a1d3-bd765fb0aa97"
      },
      "execution_count": null,
      "outputs": [
        {
          "output_type": "execute_result",
          "data": {
            "text/plain": [
              "(48895, 16)"
            ]
          },
          "metadata": {},
          "execution_count": 4
        }
      ]
    },
    {
      "cell_type": "code",
      "source": [
        "df.info()"
      ],
      "metadata": {
        "colab": {
          "base_uri": "https://localhost:8080/"
        },
        "id": "LrqL0fMuNA5a",
        "outputId": "e610fc91-f6d0-4259-d6c8-56ccb3578537"
      },
      "execution_count": null,
      "outputs": [
        {
          "output_type": "stream",
          "name": "stdout",
          "text": [
            "<class 'pandas.core.frame.DataFrame'>\n",
            "RangeIndex: 48895 entries, 0 to 48894\n",
            "Data columns (total 16 columns):\n",
            " #   Column                          Non-Null Count  Dtype  \n",
            "---  ------                          --------------  -----  \n",
            " 0   id                              48895 non-null  int64  \n",
            " 1   name                            48879 non-null  object \n",
            " 2   host_id                         48895 non-null  int64  \n",
            " 3   host_name                       48874 non-null  object \n",
            " 4   neighbourhood_group             48895 non-null  object \n",
            " 5   neighbourhood                   48895 non-null  object \n",
            " 6   latitude                        48895 non-null  float64\n",
            " 7   longitude                       48895 non-null  float64\n",
            " 8   room_type                       48895 non-null  object \n",
            " 9   price                           48895 non-null  int64  \n",
            " 10  minimum_nights                  48895 non-null  int64  \n",
            " 11  number_of_reviews               48895 non-null  int64  \n",
            " 12  last_review                     38843 non-null  object \n",
            " 13  reviews_per_month               38843 non-null  float64\n",
            " 14  calculated_host_listings_count  48895 non-null  int64  \n",
            " 15  availability_365                48895 non-null  int64  \n",
            "dtypes: float64(3), int64(7), object(6)\n",
            "memory usage: 6.0+ MB\n"
          ]
        }
      ]
    },
    {
      "cell_type": "code",
      "source": [
        "df.describe()"
      ],
      "metadata": {
        "colab": {
          "base_uri": "https://localhost:8080/",
          "height": 364
        },
        "id": "9IGo5JWlMOri",
        "outputId": "84db278a-d789-47eb-b1f4-1821c63480a4"
      },
      "execution_count": null,
      "outputs": [
        {
          "output_type": "execute_result",
          "data": {
            "text/plain": [
              "                 id       host_id      latitude     longitude         price  \\\n",
              "count  4.889500e+04  4.889500e+04  48895.000000  48895.000000  48895.000000   \n",
              "mean   1.901714e+07  6.762001e+07     40.728949    -73.952170    152.720687   \n",
              "std    1.098311e+07  7.861097e+07      0.054530      0.046157    240.154170   \n",
              "min    2.539000e+03  2.438000e+03     40.499790    -74.244420      0.000000   \n",
              "25%    9.471945e+06  7.822033e+06     40.690100    -73.983070     69.000000   \n",
              "50%    1.967728e+07  3.079382e+07     40.723070    -73.955680    106.000000   \n",
              "75%    2.915218e+07  1.074344e+08     40.763115    -73.936275    175.000000   \n",
              "max    3.648724e+07  2.743213e+08     40.913060    -73.712990  10000.000000   \n",
              "\n",
              "       minimum_nights  number_of_reviews  reviews_per_month  \\\n",
              "count    48895.000000       48895.000000       38843.000000   \n",
              "mean         7.029962          23.274466           1.373221   \n",
              "std         20.510550          44.550582           1.680442   \n",
              "min          1.000000           0.000000           0.010000   \n",
              "25%          1.000000           1.000000           0.190000   \n",
              "50%          3.000000           5.000000           0.720000   \n",
              "75%          5.000000          24.000000           2.020000   \n",
              "max       1250.000000         629.000000          58.500000   \n",
              "\n",
              "       calculated_host_listings_count  availability_365  \n",
              "count                    48895.000000      48895.000000  \n",
              "mean                         7.143982        112.781327  \n",
              "std                         32.952519        131.622289  \n",
              "min                          1.000000          0.000000  \n",
              "25%                          1.000000          0.000000  \n",
              "50%                          1.000000         45.000000  \n",
              "75%                          2.000000        227.000000  \n",
              "max                        327.000000        365.000000  "
            ],
            "text/html": [
              "\n",
              "  <div id=\"df-af755abf-cc79-496f-b717-a1f491032c1d\">\n",
              "    <div class=\"colab-df-container\">\n",
              "      <div>\n",
              "<style scoped>\n",
              "    .dataframe tbody tr th:only-of-type {\n",
              "        vertical-align: middle;\n",
              "    }\n",
              "\n",
              "    .dataframe tbody tr th {\n",
              "        vertical-align: top;\n",
              "    }\n",
              "\n",
              "    .dataframe thead th {\n",
              "        text-align: right;\n",
              "    }\n",
              "</style>\n",
              "<table border=\"1\" class=\"dataframe\">\n",
              "  <thead>\n",
              "    <tr style=\"text-align: right;\">\n",
              "      <th></th>\n",
              "      <th>id</th>\n",
              "      <th>host_id</th>\n",
              "      <th>latitude</th>\n",
              "      <th>longitude</th>\n",
              "      <th>price</th>\n",
              "      <th>minimum_nights</th>\n",
              "      <th>number_of_reviews</th>\n",
              "      <th>reviews_per_month</th>\n",
              "      <th>calculated_host_listings_count</th>\n",
              "      <th>availability_365</th>\n",
              "    </tr>\n",
              "  </thead>\n",
              "  <tbody>\n",
              "    <tr>\n",
              "      <th>count</th>\n",
              "      <td>4.889500e+04</td>\n",
              "      <td>4.889500e+04</td>\n",
              "      <td>48895.000000</td>\n",
              "      <td>48895.000000</td>\n",
              "      <td>48895.000000</td>\n",
              "      <td>48895.000000</td>\n",
              "      <td>48895.000000</td>\n",
              "      <td>38843.000000</td>\n",
              "      <td>48895.000000</td>\n",
              "      <td>48895.000000</td>\n",
              "    </tr>\n",
              "    <tr>\n",
              "      <th>mean</th>\n",
              "      <td>1.901714e+07</td>\n",
              "      <td>6.762001e+07</td>\n",
              "      <td>40.728949</td>\n",
              "      <td>-73.952170</td>\n",
              "      <td>152.720687</td>\n",
              "      <td>7.029962</td>\n",
              "      <td>23.274466</td>\n",
              "      <td>1.373221</td>\n",
              "      <td>7.143982</td>\n",
              "      <td>112.781327</td>\n",
              "    </tr>\n",
              "    <tr>\n",
              "      <th>std</th>\n",
              "      <td>1.098311e+07</td>\n",
              "      <td>7.861097e+07</td>\n",
              "      <td>0.054530</td>\n",
              "      <td>0.046157</td>\n",
              "      <td>240.154170</td>\n",
              "      <td>20.510550</td>\n",
              "      <td>44.550582</td>\n",
              "      <td>1.680442</td>\n",
              "      <td>32.952519</td>\n",
              "      <td>131.622289</td>\n",
              "    </tr>\n",
              "    <tr>\n",
              "      <th>min</th>\n",
              "      <td>2.539000e+03</td>\n",
              "      <td>2.438000e+03</td>\n",
              "      <td>40.499790</td>\n",
              "      <td>-74.244420</td>\n",
              "      <td>0.000000</td>\n",
              "      <td>1.000000</td>\n",
              "      <td>0.000000</td>\n",
              "      <td>0.010000</td>\n",
              "      <td>1.000000</td>\n",
              "      <td>0.000000</td>\n",
              "    </tr>\n",
              "    <tr>\n",
              "      <th>25%</th>\n",
              "      <td>9.471945e+06</td>\n",
              "      <td>7.822033e+06</td>\n",
              "      <td>40.690100</td>\n",
              "      <td>-73.983070</td>\n",
              "      <td>69.000000</td>\n",
              "      <td>1.000000</td>\n",
              "      <td>1.000000</td>\n",
              "      <td>0.190000</td>\n",
              "      <td>1.000000</td>\n",
              "      <td>0.000000</td>\n",
              "    </tr>\n",
              "    <tr>\n",
              "      <th>50%</th>\n",
              "      <td>1.967728e+07</td>\n",
              "      <td>3.079382e+07</td>\n",
              "      <td>40.723070</td>\n",
              "      <td>-73.955680</td>\n",
              "      <td>106.000000</td>\n",
              "      <td>3.000000</td>\n",
              "      <td>5.000000</td>\n",
              "      <td>0.720000</td>\n",
              "      <td>1.000000</td>\n",
              "      <td>45.000000</td>\n",
              "    </tr>\n",
              "    <tr>\n",
              "      <th>75%</th>\n",
              "      <td>2.915218e+07</td>\n",
              "      <td>1.074344e+08</td>\n",
              "      <td>40.763115</td>\n",
              "      <td>-73.936275</td>\n",
              "      <td>175.000000</td>\n",
              "      <td>5.000000</td>\n",
              "      <td>24.000000</td>\n",
              "      <td>2.020000</td>\n",
              "      <td>2.000000</td>\n",
              "      <td>227.000000</td>\n",
              "    </tr>\n",
              "    <tr>\n",
              "      <th>max</th>\n",
              "      <td>3.648724e+07</td>\n",
              "      <td>2.743213e+08</td>\n",
              "      <td>40.913060</td>\n",
              "      <td>-73.712990</td>\n",
              "      <td>10000.000000</td>\n",
              "      <td>1250.000000</td>\n",
              "      <td>629.000000</td>\n",
              "      <td>58.500000</td>\n",
              "      <td>327.000000</td>\n",
              "      <td>365.000000</td>\n",
              "    </tr>\n",
              "  </tbody>\n",
              "</table>\n",
              "</div>\n",
              "      <button class=\"colab-df-convert\" onclick=\"convertToInteractive('df-af755abf-cc79-496f-b717-a1f491032c1d')\"\n",
              "              title=\"Convert this dataframe to an interactive table.\"\n",
              "              style=\"display:none;\">\n",
              "        \n",
              "  <svg xmlns=\"http://www.w3.org/2000/svg\" height=\"24px\"viewBox=\"0 0 24 24\"\n",
              "       width=\"24px\">\n",
              "    <path d=\"M0 0h24v24H0V0z\" fill=\"none\"/>\n",
              "    <path d=\"M18.56 5.44l.94 2.06.94-2.06 2.06-.94-2.06-.94-.94-2.06-.94 2.06-2.06.94zm-11 1L8.5 8.5l.94-2.06 2.06-.94-2.06-.94L8.5 2.5l-.94 2.06-2.06.94zm10 10l.94 2.06.94-2.06 2.06-.94-2.06-.94-.94-2.06-.94 2.06-2.06.94z\"/><path d=\"M17.41 7.96l-1.37-1.37c-.4-.4-.92-.59-1.43-.59-.52 0-1.04.2-1.43.59L10.3 9.45l-7.72 7.72c-.78.78-.78 2.05 0 2.83L4 21.41c.39.39.9.59 1.41.59.51 0 1.02-.2 1.41-.59l7.78-7.78 2.81-2.81c.8-.78.8-2.07 0-2.86zM5.41 20L4 18.59l7.72-7.72 1.47 1.35L5.41 20z\"/>\n",
              "  </svg>\n",
              "      </button>\n",
              "      \n",
              "  <style>\n",
              "    .colab-df-container {\n",
              "      display:flex;\n",
              "      flex-wrap:wrap;\n",
              "      gap: 12px;\n",
              "    }\n",
              "\n",
              "    .colab-df-convert {\n",
              "      background-color: #E8F0FE;\n",
              "      border: none;\n",
              "      border-radius: 50%;\n",
              "      cursor: pointer;\n",
              "      display: none;\n",
              "      fill: #1967D2;\n",
              "      height: 32px;\n",
              "      padding: 0 0 0 0;\n",
              "      width: 32px;\n",
              "    }\n",
              "\n",
              "    .colab-df-convert:hover {\n",
              "      background-color: #E2EBFA;\n",
              "      box-shadow: 0px 1px 2px rgba(60, 64, 67, 0.3), 0px 1px 3px 1px rgba(60, 64, 67, 0.15);\n",
              "      fill: #174EA6;\n",
              "    }\n",
              "\n",
              "    [theme=dark] .colab-df-convert {\n",
              "      background-color: #3B4455;\n",
              "      fill: #D2E3FC;\n",
              "    }\n",
              "\n",
              "    [theme=dark] .colab-df-convert:hover {\n",
              "      background-color: #434B5C;\n",
              "      box-shadow: 0px 1px 3px 1px rgba(0, 0, 0, 0.15);\n",
              "      filter: drop-shadow(0px 1px 2px rgba(0, 0, 0, 0.3));\n",
              "      fill: #FFFFFF;\n",
              "    }\n",
              "  </style>\n",
              "\n",
              "      <script>\n",
              "        const buttonEl =\n",
              "          document.querySelector('#df-af755abf-cc79-496f-b717-a1f491032c1d button.colab-df-convert');\n",
              "        buttonEl.style.display =\n",
              "          google.colab.kernel.accessAllowed ? 'block' : 'none';\n",
              "\n",
              "        async function convertToInteractive(key) {\n",
              "          const element = document.querySelector('#df-af755abf-cc79-496f-b717-a1f491032c1d');\n",
              "          const dataTable =\n",
              "            await google.colab.kernel.invokeFunction('convertToInteractive',\n",
              "                                                     [key], {});\n",
              "          if (!dataTable) return;\n",
              "\n",
              "          const docLinkHtml = 'Like what you see? Visit the ' +\n",
              "            '<a target=\"_blank\" href=https://colab.research.google.com/notebooks/data_table.ipynb>data table notebook</a>'\n",
              "            + ' to learn more about interactive tables.';\n",
              "          element.innerHTML = '';\n",
              "          dataTable['output_type'] = 'display_data';\n",
              "          await google.colab.output.renderOutput(dataTable, element);\n",
              "          const docLink = document.createElement('div');\n",
              "          docLink.innerHTML = docLinkHtml;\n",
              "          element.appendChild(docLink);\n",
              "        }\n",
              "      </script>\n",
              "    </div>\n",
              "  </div>\n",
              "  "
            ]
          },
          "metadata": {},
          "execution_count": 6
        }
      ]
    },
    {
      "cell_type": "code",
      "source": [
        "to_drop = ['id', 'reviews_per_month','name','host_id','last_review','host_name' ]\n",
        "df = df.drop(to_drop, axis = 1)\n",
        "df.head(5)"
      ],
      "metadata": {
        "colab": {
          "base_uri": "https://localhost:8080/",
          "height": 357
        },
        "id": "9LifhS32NEKR",
        "outputId": "2f87324f-bdbe-486a-9e40-99b851b323ee"
      },
      "execution_count": null,
      "outputs": [
        {
          "output_type": "execute_result",
          "data": {
            "text/plain": [
              "  neighbourhood_group neighbourhood  latitude  longitude        room_type  \\\n",
              "0            Brooklyn    Kensington  40.64749  -73.97237     Private room   \n",
              "1           Manhattan       Midtown  40.75362  -73.98377  Entire home/apt   \n",
              "2           Manhattan        Harlem  40.80902  -73.94190     Private room   \n",
              "3            Brooklyn  Clinton Hill  40.68514  -73.95976  Entire home/apt   \n",
              "4           Manhattan   East Harlem  40.79851  -73.94399  Entire home/apt   \n",
              "\n",
              "   price  minimum_nights  number_of_reviews  calculated_host_listings_count  \\\n",
              "0    149               1                  9                               6   \n",
              "1    225               1                 45                               2   \n",
              "2    150               3                  0                               1   \n",
              "3     89               1                270                               1   \n",
              "4     80              10                  9                               1   \n",
              "\n",
              "   availability_365  \n",
              "0               365  \n",
              "1               355  \n",
              "2               365  \n",
              "3               194  \n",
              "4                 0  "
            ],
            "text/html": [
              "\n",
              "  <div id=\"df-3c4ccef5-fae5-470f-8d1f-288efe989663\">\n",
              "    <div class=\"colab-df-container\">\n",
              "      <div>\n",
              "<style scoped>\n",
              "    .dataframe tbody tr th:only-of-type {\n",
              "        vertical-align: middle;\n",
              "    }\n",
              "\n",
              "    .dataframe tbody tr th {\n",
              "        vertical-align: top;\n",
              "    }\n",
              "\n",
              "    .dataframe thead th {\n",
              "        text-align: right;\n",
              "    }\n",
              "</style>\n",
              "<table border=\"1\" class=\"dataframe\">\n",
              "  <thead>\n",
              "    <tr style=\"text-align: right;\">\n",
              "      <th></th>\n",
              "      <th>neighbourhood_group</th>\n",
              "      <th>neighbourhood</th>\n",
              "      <th>latitude</th>\n",
              "      <th>longitude</th>\n",
              "      <th>room_type</th>\n",
              "      <th>price</th>\n",
              "      <th>minimum_nights</th>\n",
              "      <th>number_of_reviews</th>\n",
              "      <th>calculated_host_listings_count</th>\n",
              "      <th>availability_365</th>\n",
              "    </tr>\n",
              "  </thead>\n",
              "  <tbody>\n",
              "    <tr>\n",
              "      <th>0</th>\n",
              "      <td>Brooklyn</td>\n",
              "      <td>Kensington</td>\n",
              "      <td>40.64749</td>\n",
              "      <td>-73.97237</td>\n",
              "      <td>Private room</td>\n",
              "      <td>149</td>\n",
              "      <td>1</td>\n",
              "      <td>9</td>\n",
              "      <td>6</td>\n",
              "      <td>365</td>\n",
              "    </tr>\n",
              "    <tr>\n",
              "      <th>1</th>\n",
              "      <td>Manhattan</td>\n",
              "      <td>Midtown</td>\n",
              "      <td>40.75362</td>\n",
              "      <td>-73.98377</td>\n",
              "      <td>Entire home/apt</td>\n",
              "      <td>225</td>\n",
              "      <td>1</td>\n",
              "      <td>45</td>\n",
              "      <td>2</td>\n",
              "      <td>355</td>\n",
              "    </tr>\n",
              "    <tr>\n",
              "      <th>2</th>\n",
              "      <td>Manhattan</td>\n",
              "      <td>Harlem</td>\n",
              "      <td>40.80902</td>\n",
              "      <td>-73.94190</td>\n",
              "      <td>Private room</td>\n",
              "      <td>150</td>\n",
              "      <td>3</td>\n",
              "      <td>0</td>\n",
              "      <td>1</td>\n",
              "      <td>365</td>\n",
              "    </tr>\n",
              "    <tr>\n",
              "      <th>3</th>\n",
              "      <td>Brooklyn</td>\n",
              "      <td>Clinton Hill</td>\n",
              "      <td>40.68514</td>\n",
              "      <td>-73.95976</td>\n",
              "      <td>Entire home/apt</td>\n",
              "      <td>89</td>\n",
              "      <td>1</td>\n",
              "      <td>270</td>\n",
              "      <td>1</td>\n",
              "      <td>194</td>\n",
              "    </tr>\n",
              "    <tr>\n",
              "      <th>4</th>\n",
              "      <td>Manhattan</td>\n",
              "      <td>East Harlem</td>\n",
              "      <td>40.79851</td>\n",
              "      <td>-73.94399</td>\n",
              "      <td>Entire home/apt</td>\n",
              "      <td>80</td>\n",
              "      <td>10</td>\n",
              "      <td>9</td>\n",
              "      <td>1</td>\n",
              "      <td>0</td>\n",
              "    </tr>\n",
              "  </tbody>\n",
              "</table>\n",
              "</div>\n",
              "      <button class=\"colab-df-convert\" onclick=\"convertToInteractive('df-3c4ccef5-fae5-470f-8d1f-288efe989663')\"\n",
              "              title=\"Convert this dataframe to an interactive table.\"\n",
              "              style=\"display:none;\">\n",
              "        \n",
              "  <svg xmlns=\"http://www.w3.org/2000/svg\" height=\"24px\"viewBox=\"0 0 24 24\"\n",
              "       width=\"24px\">\n",
              "    <path d=\"M0 0h24v24H0V0z\" fill=\"none\"/>\n",
              "    <path d=\"M18.56 5.44l.94 2.06.94-2.06 2.06-.94-2.06-.94-.94-2.06-.94 2.06-2.06.94zm-11 1L8.5 8.5l.94-2.06 2.06-.94-2.06-.94L8.5 2.5l-.94 2.06-2.06.94zm10 10l.94 2.06.94-2.06 2.06-.94-2.06-.94-.94-2.06-.94 2.06-2.06.94z\"/><path d=\"M17.41 7.96l-1.37-1.37c-.4-.4-.92-.59-1.43-.59-.52 0-1.04.2-1.43.59L10.3 9.45l-7.72 7.72c-.78.78-.78 2.05 0 2.83L4 21.41c.39.39.9.59 1.41.59.51 0 1.02-.2 1.41-.59l7.78-7.78 2.81-2.81c.8-.78.8-2.07 0-2.86zM5.41 20L4 18.59l7.72-7.72 1.47 1.35L5.41 20z\"/>\n",
              "  </svg>\n",
              "      </button>\n",
              "      \n",
              "  <style>\n",
              "    .colab-df-container {\n",
              "      display:flex;\n",
              "      flex-wrap:wrap;\n",
              "      gap: 12px;\n",
              "    }\n",
              "\n",
              "    .colab-df-convert {\n",
              "      background-color: #E8F0FE;\n",
              "      border: none;\n",
              "      border-radius: 50%;\n",
              "      cursor: pointer;\n",
              "      display: none;\n",
              "      fill: #1967D2;\n",
              "      height: 32px;\n",
              "      padding: 0 0 0 0;\n",
              "      width: 32px;\n",
              "    }\n",
              "\n",
              "    .colab-df-convert:hover {\n",
              "      background-color: #E2EBFA;\n",
              "      box-shadow: 0px 1px 2px rgba(60, 64, 67, 0.3), 0px 1px 3px 1px rgba(60, 64, 67, 0.15);\n",
              "      fill: #174EA6;\n",
              "    }\n",
              "\n",
              "    [theme=dark] .colab-df-convert {\n",
              "      background-color: #3B4455;\n",
              "      fill: #D2E3FC;\n",
              "    }\n",
              "\n",
              "    [theme=dark] .colab-df-convert:hover {\n",
              "      background-color: #434B5C;\n",
              "      box-shadow: 0px 1px 3px 1px rgba(0, 0, 0, 0.15);\n",
              "      filter: drop-shadow(0px 1px 2px rgba(0, 0, 0, 0.3));\n",
              "      fill: #FFFFFF;\n",
              "    }\n",
              "  </style>\n",
              "\n",
              "      <script>\n",
              "        const buttonEl =\n",
              "          document.querySelector('#df-3c4ccef5-fae5-470f-8d1f-288efe989663 button.colab-df-convert');\n",
              "        buttonEl.style.display =\n",
              "          google.colab.kernel.accessAllowed ? 'block' : 'none';\n",
              "\n",
              "        async function convertToInteractive(key) {\n",
              "          const element = document.querySelector('#df-3c4ccef5-fae5-470f-8d1f-288efe989663');\n",
              "          const dataTable =\n",
              "            await google.colab.kernel.invokeFunction('convertToInteractive',\n",
              "                                                     [key], {});\n",
              "          if (!dataTable) return;\n",
              "\n",
              "          const docLinkHtml = 'Like what you see? Visit the ' +\n",
              "            '<a target=\"_blank\" href=https://colab.research.google.com/notebooks/data_table.ipynb>data table notebook</a>'\n",
              "            + ' to learn more about interactive tables.';\n",
              "          element.innerHTML = '';\n",
              "          dataTable['output_type'] = 'display_data';\n",
              "          await google.colab.output.renderOutput(dataTable, element);\n",
              "          const docLink = document.createElement('div');\n",
              "          docLink.innerHTML = docLinkHtml;\n",
              "          element.appendChild(docLink);\n",
              "        }\n",
              "      </script>\n",
              "    </div>\n",
              "  </div>\n",
              "  "
            ]
          },
          "metadata": {},
          "execution_count": 7
        }
      ]
    },
    {
      "cell_type": "code",
      "source": [
        "#Let's create a variable above_average which is 1 if the price is above (or equal to) 152.\n",
        "# Create a new column 'above_average'\n",
        "df['above_average'] = (df['price'] >= 152).astype(int)"
      ],
      "metadata": {
        "id": "IjJE4FgwMqWY"
      },
      "execution_count": null,
      "outputs": []
    },
    {
      "cell_type": "code",
      "source": [
        "df.head()"
      ],
      "metadata": {
        "colab": {
          "base_uri": "https://localhost:8080/",
          "height": 357
        },
        "id": "Jk4N6cTnNnUG",
        "outputId": "46d5003f-99e4-4362-ae0a-2fd3b7742669"
      },
      "execution_count": null,
      "outputs": [
        {
          "output_type": "execute_result",
          "data": {
            "text/plain": [
              "  neighbourhood_group neighbourhood  latitude  longitude        room_type  \\\n",
              "0            Brooklyn    Kensington  40.64749  -73.97237     Private room   \n",
              "1           Manhattan       Midtown  40.75362  -73.98377  Entire home/apt   \n",
              "2           Manhattan        Harlem  40.80902  -73.94190     Private room   \n",
              "3            Brooklyn  Clinton Hill  40.68514  -73.95976  Entire home/apt   \n",
              "4           Manhattan   East Harlem  40.79851  -73.94399  Entire home/apt   \n",
              "\n",
              "   price  minimum_nights  number_of_reviews  calculated_host_listings_count  \\\n",
              "0    149               1                  9                               6   \n",
              "1    225               1                 45                               2   \n",
              "2    150               3                  0                               1   \n",
              "3     89               1                270                               1   \n",
              "4     80              10                  9                               1   \n",
              "\n",
              "   availability_365  above_average  \n",
              "0               365              0  \n",
              "1               355              1  \n",
              "2               365              0  \n",
              "3               194              0  \n",
              "4                 0              0  "
            ],
            "text/html": [
              "\n",
              "  <div id=\"df-da032fe5-c675-4fa9-99ff-12764ef610ac\">\n",
              "    <div class=\"colab-df-container\">\n",
              "      <div>\n",
              "<style scoped>\n",
              "    .dataframe tbody tr th:only-of-type {\n",
              "        vertical-align: middle;\n",
              "    }\n",
              "\n",
              "    .dataframe tbody tr th {\n",
              "        vertical-align: top;\n",
              "    }\n",
              "\n",
              "    .dataframe thead th {\n",
              "        text-align: right;\n",
              "    }\n",
              "</style>\n",
              "<table border=\"1\" class=\"dataframe\">\n",
              "  <thead>\n",
              "    <tr style=\"text-align: right;\">\n",
              "      <th></th>\n",
              "      <th>neighbourhood_group</th>\n",
              "      <th>neighbourhood</th>\n",
              "      <th>latitude</th>\n",
              "      <th>longitude</th>\n",
              "      <th>room_type</th>\n",
              "      <th>price</th>\n",
              "      <th>minimum_nights</th>\n",
              "      <th>number_of_reviews</th>\n",
              "      <th>calculated_host_listings_count</th>\n",
              "      <th>availability_365</th>\n",
              "      <th>above_average</th>\n",
              "    </tr>\n",
              "  </thead>\n",
              "  <tbody>\n",
              "    <tr>\n",
              "      <th>0</th>\n",
              "      <td>Brooklyn</td>\n",
              "      <td>Kensington</td>\n",
              "      <td>40.64749</td>\n",
              "      <td>-73.97237</td>\n",
              "      <td>Private room</td>\n",
              "      <td>149</td>\n",
              "      <td>1</td>\n",
              "      <td>9</td>\n",
              "      <td>6</td>\n",
              "      <td>365</td>\n",
              "      <td>0</td>\n",
              "    </tr>\n",
              "    <tr>\n",
              "      <th>1</th>\n",
              "      <td>Manhattan</td>\n",
              "      <td>Midtown</td>\n",
              "      <td>40.75362</td>\n",
              "      <td>-73.98377</td>\n",
              "      <td>Entire home/apt</td>\n",
              "      <td>225</td>\n",
              "      <td>1</td>\n",
              "      <td>45</td>\n",
              "      <td>2</td>\n",
              "      <td>355</td>\n",
              "      <td>1</td>\n",
              "    </tr>\n",
              "    <tr>\n",
              "      <th>2</th>\n",
              "      <td>Manhattan</td>\n",
              "      <td>Harlem</td>\n",
              "      <td>40.80902</td>\n",
              "      <td>-73.94190</td>\n",
              "      <td>Private room</td>\n",
              "      <td>150</td>\n",
              "      <td>3</td>\n",
              "      <td>0</td>\n",
              "      <td>1</td>\n",
              "      <td>365</td>\n",
              "      <td>0</td>\n",
              "    </tr>\n",
              "    <tr>\n",
              "      <th>3</th>\n",
              "      <td>Brooklyn</td>\n",
              "      <td>Clinton Hill</td>\n",
              "      <td>40.68514</td>\n",
              "      <td>-73.95976</td>\n",
              "      <td>Entire home/apt</td>\n",
              "      <td>89</td>\n",
              "      <td>1</td>\n",
              "      <td>270</td>\n",
              "      <td>1</td>\n",
              "      <td>194</td>\n",
              "      <td>0</td>\n",
              "    </tr>\n",
              "    <tr>\n",
              "      <th>4</th>\n",
              "      <td>Manhattan</td>\n",
              "      <td>East Harlem</td>\n",
              "      <td>40.79851</td>\n",
              "      <td>-73.94399</td>\n",
              "      <td>Entire home/apt</td>\n",
              "      <td>80</td>\n",
              "      <td>10</td>\n",
              "      <td>9</td>\n",
              "      <td>1</td>\n",
              "      <td>0</td>\n",
              "      <td>0</td>\n",
              "    </tr>\n",
              "  </tbody>\n",
              "</table>\n",
              "</div>\n",
              "      <button class=\"colab-df-convert\" onclick=\"convertToInteractive('df-da032fe5-c675-4fa9-99ff-12764ef610ac')\"\n",
              "              title=\"Convert this dataframe to an interactive table.\"\n",
              "              style=\"display:none;\">\n",
              "        \n",
              "  <svg xmlns=\"http://www.w3.org/2000/svg\" height=\"24px\"viewBox=\"0 0 24 24\"\n",
              "       width=\"24px\">\n",
              "    <path d=\"M0 0h24v24H0V0z\" fill=\"none\"/>\n",
              "    <path d=\"M18.56 5.44l.94 2.06.94-2.06 2.06-.94-2.06-.94-.94-2.06-.94 2.06-2.06.94zm-11 1L8.5 8.5l.94-2.06 2.06-.94-2.06-.94L8.5 2.5l-.94 2.06-2.06.94zm10 10l.94 2.06.94-2.06 2.06-.94-2.06-.94-.94-2.06-.94 2.06-2.06.94z\"/><path d=\"M17.41 7.96l-1.37-1.37c-.4-.4-.92-.59-1.43-.59-.52 0-1.04.2-1.43.59L10.3 9.45l-7.72 7.72c-.78.78-.78 2.05 0 2.83L4 21.41c.39.39.9.59 1.41.59.51 0 1.02-.2 1.41-.59l7.78-7.78 2.81-2.81c.8-.78.8-2.07 0-2.86zM5.41 20L4 18.59l7.72-7.72 1.47 1.35L5.41 20z\"/>\n",
              "  </svg>\n",
              "      </button>\n",
              "      \n",
              "  <style>\n",
              "    .colab-df-container {\n",
              "      display:flex;\n",
              "      flex-wrap:wrap;\n",
              "      gap: 12px;\n",
              "    }\n",
              "\n",
              "    .colab-df-convert {\n",
              "      background-color: #E8F0FE;\n",
              "      border: none;\n",
              "      border-radius: 50%;\n",
              "      cursor: pointer;\n",
              "      display: none;\n",
              "      fill: #1967D2;\n",
              "      height: 32px;\n",
              "      padding: 0 0 0 0;\n",
              "      width: 32px;\n",
              "    }\n",
              "\n",
              "    .colab-df-convert:hover {\n",
              "      background-color: #E2EBFA;\n",
              "      box-shadow: 0px 1px 2px rgba(60, 64, 67, 0.3), 0px 1px 3px 1px rgba(60, 64, 67, 0.15);\n",
              "      fill: #174EA6;\n",
              "    }\n",
              "\n",
              "    [theme=dark] .colab-df-convert {\n",
              "      background-color: #3B4455;\n",
              "      fill: #D2E3FC;\n",
              "    }\n",
              "\n",
              "    [theme=dark] .colab-df-convert:hover {\n",
              "      background-color: #434B5C;\n",
              "      box-shadow: 0px 1px 3px 1px rgba(0, 0, 0, 0.15);\n",
              "      filter: drop-shadow(0px 1px 2px rgba(0, 0, 0, 0.3));\n",
              "      fill: #FFFFFF;\n",
              "    }\n",
              "  </style>\n",
              "\n",
              "      <script>\n",
              "        const buttonEl =\n",
              "          document.querySelector('#df-da032fe5-c675-4fa9-99ff-12764ef610ac button.colab-df-convert');\n",
              "        buttonEl.style.display =\n",
              "          google.colab.kernel.accessAllowed ? 'block' : 'none';\n",
              "\n",
              "        async function convertToInteractive(key) {\n",
              "          const element = document.querySelector('#df-da032fe5-c675-4fa9-99ff-12764ef610ac');\n",
              "          const dataTable =\n",
              "            await google.colab.kernel.invokeFunction('convertToInteractive',\n",
              "                                                     [key], {});\n",
              "          if (!dataTable) return;\n",
              "\n",
              "          const docLinkHtml = 'Like what you see? Visit the ' +\n",
              "            '<a target=\"_blank\" href=https://colab.research.google.com/notebooks/data_table.ipynb>data table notebook</a>'\n",
              "            + ' to learn more about interactive tables.';\n",
              "          element.innerHTML = '';\n",
              "          dataTable['output_type'] = 'display_data';\n",
              "          await google.colab.output.renderOutput(dataTable, element);\n",
              "          const docLink = document.createElement('div');\n",
              "          docLink.innerHTML = docLinkHtml;\n",
              "          element.appendChild(docLink);\n",
              "        }\n",
              "      </script>\n",
              "    </div>\n",
              "  </div>\n",
              "  "
            ]
          },
          "metadata": {},
          "execution_count": 9
        }
      ]
    },
    {
      "cell_type": "code",
      "source": [
        "rcParams['figure.figsize'] = (16, 6)\n",
        "rcParams['axes.spines.top'] = False\n",
        "rcParams['axes.spines.right'] = False\n",
        "\n",
        "plt.hist(df['price'], bins=100);"
      ],
      "metadata": {
        "colab": {
          "base_uri": "https://localhost:8080/",
          "height": 474
        },
        "id": "mO2gIkbANs3Q",
        "outputId": "0988baff-78a5-4f0f-a33f-f81b4648b386"
      },
      "execution_count": null,
      "outputs": [
        {
          "output_type": "display_data",
          "data": {
            "text/plain": [
              "<Figure size 1600x600 with 1 Axes>"
            ],
            "image/png": "[encoded data removed]"
          },
          "metadata": {}
        }
      ]
    },
    {
      "cell_type": "code",
      "source": [
        "df['price'].describe()"
      ],
      "metadata": {
        "colab": {
          "base_uri": "https://localhost:8080/"
        },
        "id": "MV7efGAIOLmD",
        "outputId": "9ab4e92d-3a92-4d15-a626-fdc8d73bf24a"
      },
      "execution_count": null,
      "outputs": [
        {
          "output_type": "execute_result",
          "data": {
            "text/plain": [
              "count    48895.000000\n",
              "mean       152.720687\n",
              "std        240.154170\n",
              "min          0.000000\n",
              "25%         69.000000\n",
              "50%        106.000000\n",
              "75%        175.000000\n",
              "max      10000.000000\n",
              "Name: price, dtype: float64"
            ]
          },
          "metadata": {},
          "execution_count": 11
        }
      ]
    },
    {
      "cell_type": "code",
      "source": [
        "print(min(df['price']))\n",
        "print(max(df['price']))"
      ],
      "metadata": {
        "colab": {
          "base_uri": "https://localhost:8080/"
        },
        "id": "bPUEgXQvORf7",
        "outputId": "118f1619-cfae-4c0f-dbc3-1de1f1e180dd"
      },
      "execution_count": null,
      "outputs": [
        {
          "output_type": "stream",
          "name": "stdout",
          "text": [
            "0\n",
            "10000\n"
          ]
        }
      ]
    },
    {
      "cell_type": "code",
      "source": [
        "# Calculate Z-values for price\n",
        "df['price_z'] = np.abs(stats.zscore(df['price']))\n",
        "\n",
        "# Filter out outliers\n",
        "df = df[df['price_z'] <= 3]\n",
        "\n",
        "# Remove houses listed for $0\n",
        "df = df[df['price'] != 0]\n",
        "\n",
        "# Drop the column\n",
        "df = df.drop('price_z', axis=1)\n",
        "\n",
        "# Draw a histogram\n",
        "plt.hist(df['price'], bins=100);"
      ],
      "metadata": {
        "colab": {
          "base_uri": "https://localhost:8080/",
          "height": 477
        },
        "id": "QKt-kg6nOup8",
        "outputId": "1a848d70-a433-4fd7-cd1f-7c2d220b3a60"
      },
      "execution_count": null,
      "outputs": [
        {
          "output_type": "display_data",
          "data": {
            "text/plain": [
              "<Figure size 1600x600 with 1 Axes>"
            ],
            "image/png": "[encoded data removed]"
          },
          "metadata": {}
        }
      ]
    },
    {
      "cell_type": "code",
      "source": [
        "df.shape"
      ],
      "metadata": {
        "colab": {
          "base_uri": "https://localhost:8080/"
        },
        "id": "WeTwUMIsPEX-",
        "outputId": "fb533340-9ab6-475b-98fc-4bedf7f154d0"
      },
      "execution_count": null,
      "outputs": [
        {
          "output_type": "execute_result",
          "data": {
            "text/plain": [
              "(48496, 11)"
            ]
          },
          "metadata": {},
          "execution_count": 14
        }
      ]
    },
    {
      "cell_type": "code",
      "source": [
        "# Calculate Z-values for number of reviews\n",
        "df['number_of_reviews_z'] = np.abs(stats.zscore(df['number_of_reviews']))\n",
        "\n",
        "# Filter out outliers\n",
        "df = df[df['number_of_reviews_z'] <= 3]\n",
        "\n",
        "# Remove houses listed for $0\n",
        "df = df[df['number_of_reviews'] != 0]\n",
        "\n",
        "# Drop the column\n",
        "df = df.drop('number_of_reviews_z', axis=1)\n",
        "\n",
        "# Draw a histogram\n",
        "plt.hist(df['number_of_reviews'], bins=100);"
      ],
      "metadata": {
        "colab": {
          "base_uri": "https://localhost:8080/",
          "height": 477
        },
        "id": "uAgww6AWPMLO",
        "outputId": "3e54f8cc-0d72-44bd-dad3-0e2e2343026b"
      },
      "execution_count": null,
      "outputs": [
        {
          "output_type": "display_data",
          "data": {
            "text/plain": [
              "<Figure size 1600x600 with 1 Axes>"
            ],
            "image/png": "[encoded data removed]"
          },
          "metadata": {}
        }
      ]
    },
    {
      "cell_type": "code",
      "source": [
        "df.info()"
      ],
      "metadata": {
        "colab": {
          "base_uri": "https://localhost:8080/"
        },
        "id": "jDRrk5nyPevy",
        "outputId": "19d551d2-5105-41a7-cf29-023d4a95d66b"
      },
      "execution_count": null,
      "outputs": [
        {
          "output_type": "stream",
          "name": "stdout",
          "text": [
            "<class 'pandas.core.frame.DataFrame'>\n",
            "Int64Index: 37434 entries, 0 to 48852\n",
            "Data columns (total 11 columns):\n",
            " #   Column                          Non-Null Count  Dtype  \n",
            "---  ------                          --------------  -----  \n",
            " 0   neighbourhood_group             37434 non-null  object \n",
            " 1   neighbourhood                   37434 non-null  object \n",
            " 2   latitude                        37434 non-null  float64\n",
            " 3   longitude                       37434 non-null  float64\n",
            " 4   room_type                       37434 non-null  object \n",
            " 5   price                           37434 non-null  int64  \n",
            " 6   minimum_nights                  37434 non-null  int64  \n",
            " 7   number_of_reviews               37434 non-null  int64  \n",
            " 8   calculated_host_listings_count  37434 non-null  int64  \n",
            " 9   availability_365                37434 non-null  int64  \n",
            " 10  above_average                   37434 non-null  int64  \n",
            "dtypes: float64(2), int64(6), object(3)\n",
            "memory usage: 3.4+ MB\n"
          ]
        }
      ]
    },
    {
      "cell_type": "code",
      "source": [
        "# Drop original price column\n",
        "df = df.drop(['price'], axis=1)\n",
        "df.head()"
      ],
      "metadata": {
        "colab": {
          "base_uri": "https://localhost:8080/",
          "height": 357
        },
        "id": "nc4q56QqPhZT",
        "outputId": "79f8aa02-1848-49d0-c29e-ca48563e10a2"
      },
      "execution_count": null,
      "outputs": [
        {
          "output_type": "execute_result",
          "data": {
            "text/plain": [
              "  neighbourhood_group       neighbourhood  latitude  longitude  \\\n",
              "0            Brooklyn          Kensington  40.64749  -73.97237   \n",
              "1           Manhattan             Midtown  40.75362  -73.98377   \n",
              "4           Manhattan         East Harlem  40.79851  -73.94399   \n",
              "5           Manhattan         Murray Hill  40.74767  -73.97500   \n",
              "6            Brooklyn  Bedford-Stuyvesant  40.68688  -73.95596   \n",
              "\n",
              "         room_type  minimum_nights  number_of_reviews  \\\n",
              "0     Private room               1                  9   \n",
              "1  Entire home/apt               1                 45   \n",
              "4  Entire home/apt              10                  9   \n",
              "5  Entire home/apt               3                 74   \n",
              "6     Private room              45                 49   \n",
              "\n",
              "   calculated_host_listings_count  availability_365  above_average  \n",
              "0                               6               365              0  \n",
              "1                               2               355              1  \n",
              "4                               1                 0              0  \n",
              "5                               1               129              1  \n",
              "6                               1                 0              0  "
            ],
            "text/html": [
              "\n",
              "  <div id=\"df-ed21bd79-d349-4255-beee-7b6b57d756aa\">\n",
              "    <div class=\"colab-df-container\">\n",
              "      <div>\n",
              "<style scoped>\n",
              "    .dataframe tbody tr th:only-of-type {\n",
              "        vertical-align: middle;\n",
              "    }\n",
              "\n",
              "    .dataframe tbody tr th {\n",
              "        vertical-align: top;\n",
              "    }\n",
              "\n",
              "    .dataframe thead th {\n",
              "        text-align: right;\n",
              "    }\n",
              "</style>\n",
              "<table border=\"1\" class=\"dataframe\">\n",
              "  <thead>\n",
              "    <tr style=\"text-align: right;\">\n",
              "      <th></th>\n",
              "      <th>neighbourhood_group</th>\n",
              "      <th>neighbourhood</th>\n",
              "      <th>latitude</th>\n",
              "      <th>longitude</th>\n",
              "      <th>room_type</th>\n",
              "      <th>minimum_nights</th>\n",
              "      <th>number_of_reviews</th>\n",
              "      <th>calculated_host_listings_count</th>\n",
              "      <th>availability_365</th>\n",
              "      <th>above_average</th>\n",
              "    </tr>\n",
              "  </thead>\n",
              "  <tbody>\n",
              "    <tr>\n",
              "      <th>0</th>\n",
              "      <td>Brooklyn</td>\n",
              "      <td>Kensington</td>\n",
              "      <td>40.64749</td>\n",
              "      <td>-73.97237</td>\n",
              "      <td>Private room</td>\n",
              "      <td>1</td>\n",
              "      <td>9</td>\n",
              "      <td>6</td>\n",
              "      <td>365</td>\n",
              "      <td>0</td>\n",
              "    </tr>\n",
              "    <tr>\n",
              "      <th>1</th>\n",
              "      <td>Manhattan</td>\n",
              "      <td>Midtown</td>\n",
              "      <td>40.75362</td>\n",
              "      <td>-73.98377</td>\n",
              "      <td>Entire home/apt</td>\n",
              "      <td>1</td>\n",
              "      <td>45</td>\n",
              "      <td>2</td>\n",
              "      <td>355</td>\n",
              "      <td>1</td>\n",
              "    </tr>\n",
              "    <tr>\n",
              "      <th>4</th>\n",
              "      <td>Manhattan</td>\n",
              "      <td>East Harlem</td>\n",
              "      <td>40.79851</td>\n",
              "      <td>-73.94399</td>\n",
              "      <td>Entire home/apt</td>\n",
              "      <td>10</td>\n",
              "      <td>9</td>\n",
              "      <td>1</td>\n",
              "      <td>0</td>\n",
              "      <td>0</td>\n",
              "    </tr>\n",
              "    <tr>\n",
              "      <th>5</th>\n",
              "      <td>Manhattan</td>\n",
              "      <td>Murray Hill</td>\n",
              "      <td>40.74767</td>\n",
              "      <td>-73.97500</td>\n",
              "      <td>Entire home/apt</td>\n",
              "      <td>3</td>\n",
              "      <td>74</td>\n",
              "      <td>1</td>\n",
              "      <td>129</td>\n",
              "      <td>1</td>\n",
              "    </tr>\n",
              "    <tr>\n",
              "      <th>6</th>\n",
              "      <td>Brooklyn</td>\n",
              "      <td>Bedford-Stuyvesant</td>\n",
              "      <td>40.68688</td>\n",
              "      <td>-73.95596</td>\n",
              "      <td>Private room</td>\n",
              "      <td>45</td>\n",
              "      <td>49</td>\n",
              "      <td>1</td>\n",
              "      <td>0</td>\n",
              "      <td>0</td>\n",
              "    </tr>\n",
              "  </tbody>\n",
              "</table>\n",
              "</div>\n",
              "      <button class=\"colab-df-convert\" onclick=\"convertToInteractive('df-ed21bd79-d349-4255-beee-7b6b57d756aa')\"\n",
              "              title=\"Convert this dataframe to an interactive table.\"\n",
              "              style=\"display:none;\">\n",
              "        \n",
              "  <svg xmlns=\"http://www.w3.org/2000/svg\" height=\"24px\"viewBox=\"0 0 24 24\"\n",
              "       width=\"24px\">\n",
              "    <path d=\"M0 0h24v24H0V0z\" fill=\"none\"/>\n",
              "    <path d=\"M18.56 5.44l.94 2.06.94-2.06 2.06-.94-2.06-.94-.94-2.06-.94 2.06-2.06.94zm-11 1L8.5 8.5l.94-2.06 2.06-.94-2.06-.94L8.5 2.5l-.94 2.06-2.06.94zm10 10l.94 2.06.94-2.06 2.06-.94-2.06-.94-.94-2.06-.94 2.06-2.06.94z\"/><path d=\"M17.41 7.96l-1.37-1.37c-.4-.4-.92-.59-1.43-.59-.52 0-1.04.2-1.43.59L10.3 9.45l-7.72 7.72c-.78.78-.78 2.05 0 2.83L4 21.41c.39.39.9.59 1.41.59.51 0 1.02-.2 1.41-.59l7.78-7.78 2.81-2.81c.8-.78.8-2.07 0-2.86zM5.41 20L4 18.59l7.72-7.72 1.47 1.35L5.41 20z\"/>\n",
              "  </svg>\n",
              "      </button>\n",
              "      \n",
              "  <style>\n",
              "    .colab-df-container {\n",
              "      display:flex;\n",
              "      flex-wrap:wrap;\n",
              "      gap: 12px;\n",
              "    }\n",
              "\n",
              "    .colab-df-convert {\n",
              "      background-color: #E8F0FE;\n",
              "      border: none;\n",
              "      border-radius: 50%;\n",
              "      cursor: pointer;\n",
              "      display: none;\n",
              "      fill: #1967D2;\n",
              "      height: 32px;\n",
              "      padding: 0 0 0 0;\n",
              "      width: 32px;\n",
              "    }\n",
              "\n",
              "    .colab-df-convert:hover {\n",
              "      background-color: #E2EBFA;\n",
              "      box-shadow: 0px 1px 2px rgba(60, 64, 67, 0.3), 0px 1px 3px 1px rgba(60, 64, 67, 0.15);\n",
              "      fill: #174EA6;\n",
              "    }\n",
              "\n",
              "    [theme=dark] .colab-df-convert {\n",
              "      background-color: #3B4455;\n",
              "      fill: #D2E3FC;\n",
              "    }\n",
              "\n",
              "    [theme=dark] .colab-df-convert:hover {\n",
              "      background-color: #434B5C;\n",
              "      box-shadow: 0px 1px 3px 1px rgba(0, 0, 0, 0.15);\n",
              "      filter: drop-shadow(0px 1px 2px rgba(0, 0, 0, 0.3));\n",
              "      fill: #FFFFFF;\n",
              "    }\n",
              "  </style>\n",
              "\n",
              "      <script>\n",
              "        const buttonEl =\n",
              "          document.querySelector('#df-ed21bd79-d349-4255-beee-7b6b57d756aa button.colab-df-convert');\n",
              "        buttonEl.style.display =\n",
              "          google.colab.kernel.accessAllowed ? 'block' : 'none';\n",
              "\n",
              "        async function convertToInteractive(key) {\n",
              "          const element = document.querySelector('#df-ed21bd79-d349-4255-beee-7b6b57d756aa');\n",
              "          const dataTable =\n",
              "            await google.colab.kernel.invokeFunction('convertToInteractive',\n",
              "                                                     [key], {});\n",
              "          if (!dataTable) return;\n",
              "\n",
              "          const docLinkHtml = 'Like what you see? Visit the ' +\n",
              "            '<a target=\"_blank\" href=https://colab.research.google.com/notebooks/data_table.ipynb>data table notebook</a>'\n",
              "            + ' to learn more about interactive tables.';\n",
              "          element.innerHTML = '';\n",
              "          dataTable['output_type'] = 'display_data';\n",
              "          await google.colab.output.renderOutput(dataTable, element);\n",
              "          const docLink = document.createElement('div');\n",
              "          docLink.innerHTML = docLinkHtml;\n",
              "          element.appendChild(docLink);\n",
              "        }\n",
              "      </script>\n",
              "    </div>\n",
              "  </div>\n",
              "  "
            ]
          },
          "metadata": {},
          "execution_count": 17
        }
      ]
    },
    {
      "cell_type": "code",
      "source": [
        "df['neighbourhood'].value_counts()"
      ],
      "metadata": {
        "colab": {
          "base_uri": "https://localhost:8080/"
        },
        "id": "O26y8ag0Pqob",
        "outputId": "632397b9-439f-4fe3-84f3-2fee2daadcfa"
      },
      "execution_count": null,
      "outputs": [
        {
          "output_type": "execute_result",
          "data": {
            "text/plain": [
              "Williamsburg          3051\n",
              "Bedford-Stuyvesant    3000\n",
              "Harlem                2126\n",
              "Bushwick              1882\n",
              "Hell's Kitchen        1456\n",
              "                      ... \n",
              "Castle Hill              2\n",
              "New Dorp Beach           2\n",
              "Rossville                1\n",
              "Richmondtown             1\n",
              "Willowbrook              1\n",
              "Name: neighbourhood, Length: 218, dtype: int64"
            ]
          },
          "metadata": {},
          "execution_count": 18
        }
      ]
    },
    {
      "cell_type": "code",
      "source": [
        "df.to_csv(\"neural_network_cleanup.csv\")"
      ],
      "metadata": {
        "id": "qvpVvEPn02zQ"
      },
      "execution_count": null,
      "outputs": []
    },
    {
      "cell_type": "code",
      "source": [
        "def remap_location(data: pd.DataFrame, \n",
        "                   location: str, \n",
        "                   threshold: int = 50) -> str:\n",
        "    if len(data[data['neighbourhood'] == location]) < threshold:\n",
        "        return 'Rare'\n",
        "    return location"
      ],
      "metadata": {
        "id": "J1Amsu1gP3yS"
      },
      "execution_count": null,
      "outputs": []
    },
    {
      "cell_type": "code",
      "source": [
        "df['neighbourhood'] = df['neighbourhood'].apply(\n",
        "    lambda x: remap_location(data=df, location=x)\n",
        ")\n",
        "\n",
        "df.sample(20)"
      ],
      "metadata": {
        "colab": {
          "base_uri": "https://localhost:8080/",
          "height": 1000
        },
        "id": "meIzbRGmP8HS",
        "outputId": "00f32f99-c7f7-4a41-8e80-e7a4b07c7806"
      },
      "execution_count": null,
      "outputs": [
        {
          "output_type": "execute_result",
          "data": {
            "text/plain": [
              "      neighbourhood_group        neighbourhood  latitude  longitude  \\\n",
              "37359              Queens            Ridgewood  40.69956  -73.90752   \n",
              "32337            Brooklyn         Williamsburg  40.71458  -73.96169   \n",
              "32310            Brooklyn             Bushwick  40.68641  -73.91200   \n",
              "32660           Manhattan               Harlem  40.82414  -73.95139   \n",
              "17819           Manhattan               Harlem  40.81970  -73.95326   \n",
              "47855              Queens            Woodhaven  40.69405  -73.86693   \n",
              "21264           Manhattan      Lower East Side  40.71873  -73.99073   \n",
              "28932              Queens            Ridgewood  40.70188  -73.90429   \n",
              "3937            Manhattan  Morningside Heights  40.80490  -73.96315   \n",
              "22540           Manhattan               Harlem  40.80567  -73.95677   \n",
              "14613           Manhattan   Washington Heights  40.84077  -73.93924   \n",
              "43874           Manhattan               Harlem  40.80332  -73.94853   \n",
              "41589           Manhattan      Lower East Side  40.71701  -73.98874   \n",
              "13991           Manhattan       Hell's Kitchen  40.75685  -73.99569   \n",
              "10415            Brooklyn         Williamsburg  40.71147  -73.95312   \n",
              "23676           Manhattan      Lower East Side  40.71925  -73.98955   \n",
              "12225            Brooklyn             Bushwick  40.68983  -73.90512   \n",
              "17417            Brooklyn         Williamsburg  40.71301  -73.94950   \n",
              "501             Manhattan              Chelsea  40.73939  -73.99612   \n",
              "766              Brooklyn         Clinton Hill  40.68156  -73.96537   \n",
              "\n",
              "             room_type  minimum_nights  number_of_reviews  \\\n",
              "37359     Private room               6                  2   \n",
              "32337     Private room               5                 67   \n",
              "32310     Private room               2                  5   \n",
              "32660     Private room               2                  3   \n",
              "17819     Private room               2                 72   \n",
              "47855     Private room               2                  2   \n",
              "21264     Private room               1                  3   \n",
              "28932     Private room               7                  2   \n",
              "3937   Entire home/apt              14                 12   \n",
              "22540  Entire home/apt               2                 82   \n",
              "14613  Entire home/apt              30                  6   \n",
              "43874     Private room               1                 11   \n",
              "41589  Entire home/apt               1                 14   \n",
              "13991  Entire home/apt              30                  1   \n",
              "10415  Entire home/apt               6                  2   \n",
              "23676  Entire home/apt               1                  9   \n",
              "12225     Private room               1                  1   \n",
              "17417  Entire home/apt              30                 47   \n",
              "501    Entire home/apt              10                 18   \n",
              "766    Entire home/apt               5                  6   \n",
              "\n",
              "       calculated_host_listings_count  availability_365  above_average  \n",
              "37359                               1                 0              0  \n",
              "32337                               2               124              0  \n",
              "32310                               3                 0              0  \n",
              "32660                               2                68              0  \n",
              "17819                               3                72              0  \n",
              "47855                               2               364              0  \n",
              "21264                               1                 0              0  \n",
              "28932                               2                 0              0  \n",
              "3937                                1                 0              0  \n",
              "22540                               2                 5              0  \n",
              "14613                              34               311              0  \n",
              "43874                               2               256              0  \n",
              "41589                               1                 9              0  \n",
              "13991                              96               331              1  \n",
              "10415                               1                 0              0  \n",
              "23676                               1               364              0  \n",
              "12225                               1                 0              0  \n",
              "17417                               1               298              1  \n",
              "501                                 1                 0              1  \n",
              "766                                 1               317              0  "
            ],
            "text/html": [
              "\n",
              "  <div id=\"df-0a7a1c73-8b69-41fd-8409-fa7cd3b71658\">\n",
              "    <div class=\"colab-df-container\">\n",
              "      <div>\n",
              "<style scoped>\n",
              "    .dataframe tbody tr th:only-of-type {\n",
              "        vertical-align: middle;\n",
              "    }\n",
              "\n",
              "    .dataframe tbody tr th {\n",
              "        vertical-align: top;\n",
              "    }\n",
              "\n",
              "    .dataframe thead th {\n",
              "        text-align: right;\n",
              "    }\n",
              "</style>\n",
              "<table border=\"1\" class=\"dataframe\">\n",
              "  <thead>\n",
              "    <tr style=\"text-align: right;\">\n",
              "      <th></th>\n",
              "      <th>neighbourhood_group</th>\n",
              "      <th>neighbourhood</th>\n",
              "      <th>latitude</th>\n",
              "      <th>longitude</th>\n",
              "      <th>room_type</th>\n",
              "      <th>minimum_nights</th>\n",
              "      <th>number_of_reviews</th>\n",
              "      <th>calculated_host_listings_count</th>\n",
              "      <th>availability_365</th>\n",
              "      <th>above_average</th>\n",
              "    </tr>\n",
              "  </thead>\n",
              "  <tbody>\n",
              "    <tr>\n",
              "      <th>37359</th>\n",
              "      <td>Queens</td>\n",
              "      <td>Ridgewood</td>\n",
              "      <td>40.69956</td>\n",
              "      <td>-73.90752</td>\n",
              "      <td>Private room</td>\n",
              "      <td>6</td>\n",
              "      <td>2</td>\n",
              "      <td>1</td>\n",
              "      <td>0</td>\n",
              "      <td>0</td>\n",
              "    </tr>\n",
              "    <tr>\n",
              "      <th>32337</th>\n",
              "      <td>Brooklyn</td>\n",
              "      <td>Williamsburg</td>\n",
              "      <td>40.71458</td>\n",
              "      <td>-73.96169</td>\n",
              "      <td>Private room</td>\n",
              "      <td>5</td>\n",
              "      <td>67</td>\n",
              "      <td>2</td>\n",
              "      <td>124</td>\n",
              "      <td>0</td>\n",
              "    </tr>\n",
              "    <tr>\n",
              "      <th>32310</th>\n",
              "      <td>Brooklyn</td>\n",
              "      <td>Bushwick</td>\n",
              "      <td>40.68641</td>\n",
              "      <td>-73.91200</td>\n",
              "      <td>Private room</td>\n",
              "      <td>2</td>\n",
              "      <td>5</td>\n",
              "      <td>3</td>\n",
              "      <td>0</td>\n",
              "      <td>0</td>\n",
              "    </tr>\n",
              "    <tr>\n",
              "      <th>32660</th>\n",
              "      <td>Manhattan</td>\n",
              "      <td>Harlem</td>\n",
              "      <td>40.82414</td>\n",
              "      <td>-73.95139</td>\n",
              "      <td>Private room</td>\n",
              "      <td>2</td>\n",
              "      <td>3</td>\n",
              "      <td>2</td>\n",
              "      <td>68</td>\n",
              "      <td>0</td>\n",
              "    </tr>\n",
              "    <tr>\n",
              "      <th>17819</th>\n",
              "      <td>Manhattan</td>\n",
              "      <td>Harlem</td>\n",
              "      <td>40.81970</td>\n",
              "      <td>-73.95326</td>\n",
              "      <td>Private room</td>\n",
              "      <td>2</td>\n",
              "      <td>72</td>\n",
              "      <td>3</td>\n",
              "      <td>72</td>\n",
              "      <td>0</td>\n",
              "    </tr>\n",
              "    <tr>\n",
              "      <th>47855</th>\n",
              "      <td>Queens</td>\n",
              "      <td>Woodhaven</td>\n",
              "      <td>40.69405</td>\n",
              "      <td>-73.86693</td>\n",
              "      <td>Private room</td>\n",
              "      <td>2</td>\n",
              "      <td>2</td>\n",
              "      <td>2</td>\n",
              "      <td>364</td>\n",
              "      <td>0</td>\n",
              "    </tr>\n",
              "    <tr>\n",
              "      <th>21264</th>\n",
              "      <td>Manhattan</td>\n",
              "      <td>Lower East Side</td>\n",
              "      <td>40.71873</td>\n",
              "      <td>-73.99073</td>\n",
              "      <td>Private room</td>\n",
              "      <td>1</td>\n",
              "      <td>3</td>\n",
              "      <td>1</td>\n",
              "      <td>0</td>\n",
              "      <td>0</td>\n",
              "    </tr>\n",
              "    <tr>\n",
              "      <th>28932</th>\n",
              "      <td>Queens</td>\n",
              "      <td>Ridgewood</td>\n",
              "      <td>40.70188</td>\n",
              "      <td>-73.90429</td>\n",
              "      <td>Private room</td>\n",
              "      <td>7</td>\n",
              "      <td>2</td>\n",
              "      <td>2</td>\n",
              "      <td>0</td>\n",
              "      <td>0</td>\n",
              "    </tr>\n",
              "    <tr>\n",
              "      <th>3937</th>\n",
              "      <td>Manhattan</td>\n",
              "      <td>Morningside Heights</td>\n",
              "      <td>40.80490</td>\n",
              "      <td>-73.96315</td>\n",
              "      <td>Entire home/apt</td>\n",
              "      <td>14</td>\n",
              "      <td>12</td>\n",
              "      <td>1</td>\n",
              "      <td>0</td>\n",
              "      <td>0</td>\n",
              "    </tr>\n",
              "    <tr>\n",
              "      <th>22540</th>\n",
              "      <td>Manhattan</td>\n",
              "      <td>Harlem</td>\n",
              "      <td>40.80567</td>\n",
              "      <td>-73.95677</td>\n",
              "      <td>Entire home/apt</td>\n",
              "      <td>2</td>\n",
              "      <td>82</td>\n",
              "      <td>2</td>\n",
              "      <td>5</td>\n",
              "      <td>0</td>\n",
              "    </tr>\n",
              "    <tr>\n",
              "      <th>14613</th>\n",
              "      <td>Manhattan</td>\n",
              "      <td>Washington Heights</td>\n",
              "      <td>40.84077</td>\n",
              "      <td>-73.93924</td>\n",
              "      <td>Entire home/apt</td>\n",
              "      <td>30</td>\n",
              "      <td>6</td>\n",
              "      <td>34</td>\n",
              "      <td>311</td>\n",
              "      <td>0</td>\n",
              "    </tr>\n",
              "    <tr>\n",
              "      <th>43874</th>\n",
              "      <td>Manhattan</td>\n",
              "      <td>Harlem</td>\n",
              "      <td>40.80332</td>\n",
              "      <td>-73.94853</td>\n",
              "      <td>Private room</td>\n",
              "      <td>1</td>\n",
              "      <td>11</td>\n",
              "      <td>2</td>\n",
              "      <td>256</td>\n",
              "      <td>0</td>\n",
              "    </tr>\n",
              "    <tr>\n",
              "      <th>41589</th>\n",
              "      <td>Manhattan</td>\n",
              "      <td>Lower East Side</td>\n",
              "      <td>40.71701</td>\n",
              "      <td>-73.98874</td>\n",
              "      <td>Entire home/apt</td>\n",
              "      <td>1</td>\n",
              "      <td>14</td>\n",
              "      <td>1</td>\n",
              "      <td>9</td>\n",
              "      <td>0</td>\n",
              "    </tr>\n",
              "    <tr>\n",
              "      <th>13991</th>\n",
              "      <td>Manhattan</td>\n",
              "      <td>Hell's Kitchen</td>\n",
              "      <td>40.75685</td>\n",
              "      <td>-73.99569</td>\n",
              "      <td>Entire home/apt</td>\n",
              "      <td>30</td>\n",
              "      <td>1</td>\n",
              "      <td>96</td>\n",
              "      <td>331</td>\n",
              "      <td>1</td>\n",
              "    </tr>\n",
              "    <tr>\n",
              "      <th>10415</th>\n",
              "      <td>Brooklyn</td>\n",
              "      <td>Williamsburg</td>\n",
              "      <td>40.71147</td>\n",
              "      <td>-73.95312</td>\n",
              "      <td>Entire home/apt</td>\n",
              "      <td>6</td>\n",
              "      <td>2</td>\n",
              "      <td>1</td>\n",
              "      <td>0</td>\n",
              "      <td>0</td>\n",
              "    </tr>\n",
              "    <tr>\n",
              "      <th>23676</th>\n",
              "      <td>Manhattan</td>\n",
              "      <td>Lower East Side</td>\n",
              "      <td>40.71925</td>\n",
              "      <td>-73.98955</td>\n",
              "      <td>Entire home/apt</td>\n",
              "      <td>1</td>\n",
              "      <td>9</td>\n",
              "      <td>1</td>\n",
              "      <td>364</td>\n",
              "      <td>0</td>\n",
              "    </tr>\n",
              "    <tr>\n",
              "      <th>12225</th>\n",
              "      <td>Brooklyn</td>\n",
              "      <td>Bushwick</td>\n",
              "      <td>40.68983</td>\n",
              "      <td>-73.90512</td>\n",
              "      <td>Private room</td>\n",
              "      <td>1</td>\n",
              "      <td>1</td>\n",
              "      <td>1</td>\n",
              "      <td>0</td>\n",
              "      <td>0</td>\n",
              "    </tr>\n",
              "    <tr>\n",
              "      <th>17417</th>\n",
              "      <td>Brooklyn</td>\n",
              "      <td>Williamsburg</td>\n",
              "      <td>40.71301</td>\n",
              "      <td>-73.94950</td>\n",
              "      <td>Entire home/apt</td>\n",
              "      <td>30</td>\n",
              "      <td>47</td>\n",
              "      <td>1</td>\n",
              "      <td>298</td>\n",
              "      <td>1</td>\n",
              "    </tr>\n",
              "    <tr>\n",
              "      <th>501</th>\n",
              "      <td>Manhattan</td>\n",
              "      <td>Chelsea</td>\n",
              "      <td>40.73939</td>\n",
              "      <td>-73.99612</td>\n",
              "      <td>Entire home/apt</td>\n",
              "      <td>10</td>\n",
              "      <td>18</td>\n",
              "      <td>1</td>\n",
              "      <td>0</td>\n",
              "      <td>1</td>\n",
              "    </tr>\n",
              "    <tr>\n",
              "      <th>766</th>\n",
              "      <td>Brooklyn</td>\n",
              "      <td>Clinton Hill</td>\n",
              "      <td>40.68156</td>\n",
              "      <td>-73.96537</td>\n",
              "      <td>Entire home/apt</td>\n",
              "      <td>5</td>\n",
              "      <td>6</td>\n",
              "      <td>1</td>\n",
              "      <td>317</td>\n",
              "      <td>0</td>\n",
              "    </tr>\n",
              "  </tbody>\n",
              "</table>\n",
              "</div>\n",
              "      <button class=\"colab-df-convert\" onclick=\"convertToInteractive('df-0a7a1c73-8b69-41fd-8409-fa7cd3b71658')\"\n",
              "              title=\"Convert this dataframe to an interactive table.\"\n",
              "              style=\"display:none;\">\n",
              "        \n",
              "  <svg xmlns=\"http://www.w3.org/2000/svg\" height=\"24px\"viewBox=\"0 0 24 24\"\n",
              "       width=\"24px\">\n",
              "    <path d=\"M0 0h24v24H0V0z\" fill=\"none\"/>\n",
              "    <path d=\"M18.56 5.44l.94 2.06.94-2.06 2.06-.94-2.06-.94-.94-2.06-.94 2.06-2.06.94zm-11 1L8.5 8.5l.94-2.06 2.06-.94-2.06-.94L8.5 2.5l-.94 2.06-2.06.94zm10 10l.94 2.06.94-2.06 2.06-.94-2.06-.94-.94-2.06-.94 2.06-2.06.94z\"/><path d=\"M17.41 7.96l-1.37-1.37c-.4-.4-.92-.59-1.43-.59-.52 0-1.04.2-1.43.59L10.3 9.45l-7.72 7.72c-.78.78-.78 2.05 0 2.83L4 21.41c.39.39.9.59 1.41.59.51 0 1.02-.2 1.41-.59l7.78-7.78 2.81-2.81c.8-.78.8-2.07 0-2.86zM5.41 20L4 18.59l7.72-7.72 1.47 1.35L5.41 20z\"/>\n",
              "  </svg>\n",
              "      </button>\n",
              "      \n",
              "  <style>\n",
              "    .colab-df-container {\n",
              "      display:flex;\n",
              "      flex-wrap:wrap;\n",
              "      gap: 12px;\n",
              "    }\n",
              "\n",
              "    .colab-df-convert {\n",
              "      background-color: #E8F0FE;\n",
              "      border: none;\n",
              "      border-radius: 50%;\n",
              "      cursor: pointer;\n",
              "      display: none;\n",
              "      fill: #1967D2;\n",
              "      height: 32px;\n",
              "      padding: 0 0 0 0;\n",
              "      width: 32px;\n",
              "    }\n",
              "\n",
              "    .colab-df-convert:hover {\n",
              "      background-color: #E2EBFA;\n",
              "      box-shadow: 0px 1px 2px rgba(60, 64, 67, 0.3), 0px 1px 3px 1px rgba(60, 64, 67, 0.15);\n",
              "      fill: #174EA6;\n",
              "    }\n",
              "\n",
              "    [theme=dark] .colab-df-convert {\n",
              "      background-color: #3B4455;\n",
              "      fill: #D2E3FC;\n",
              "    }\n",
              "\n",
              "    [theme=dark] .colab-df-convert:hover {\n",
              "      background-color: #434B5C;\n",
              "      box-shadow: 0px 1px 3px 1px rgba(0, 0, 0, 0.15);\n",
              "      filter: drop-shadow(0px 1px 2px rgba(0, 0, 0, 0.3));\n",
              "      fill: #FFFFFF;\n",
              "    }\n",
              "  </style>\n",
              "\n",
              "      <script>\n",
              "        const buttonEl =\n",
              "          document.querySelector('#df-0a7a1c73-8b69-41fd-8409-fa7cd3b71658 button.colab-df-convert');\n",
              "        buttonEl.style.display =\n",
              "          google.colab.kernel.accessAllowed ? 'block' : 'none';\n",
              "\n",
              "        async function convertToInteractive(key) {\n",
              "          const element = document.querySelector('#df-0a7a1c73-8b69-41fd-8409-fa7cd3b71658');\n",
              "          const dataTable =\n",
              "            await google.colab.kernel.invokeFunction('convertToInteractive',\n",
              "                                                     [key], {});\n",
              "          if (!dataTable) return;\n",
              "\n",
              "          const docLinkHtml = 'Like what you see? Visit the ' +\n",
              "            '<a target=\"_blank\" href=https://colab.research.google.com/notebooks/data_table.ipynb>data table notebook</a>'\n",
              "            + ' to learn more about interactive tables.';\n",
              "          element.innerHTML = '';\n",
              "          dataTable['output_type'] = 'display_data';\n",
              "          await google.colab.output.renderOutput(dataTable, element);\n",
              "          const docLink = document.createElement('div');\n",
              "          docLink.innerHTML = docLinkHtml;\n",
              "          element.appendChild(docLink);\n",
              "        }\n",
              "      </script>\n",
              "    </div>\n",
              "  </div>\n",
              "  "
            ]
          },
          "metadata": {},
          "execution_count": 21
        }
      ]
    },
    {
      "cell_type": "code",
      "source": [
        "df.info()"
      ],
      "metadata": {
        "id": "XIRHKqmO1gO0",
        "outputId": "1beac59a-7235-43a1-9425-4f9ea25c7431",
        "colab": {
          "base_uri": "https://localhost:8080/"
        }
      },
      "execution_count": null,
      "outputs": [
        {
          "output_type": "stream",
          "name": "stdout",
          "text": [
            "<class 'pandas.core.frame.DataFrame'>\n",
            "Int64Index: 37434 entries, 0 to 48852\n",
            "Data columns (total 10 columns):\n",
            " #   Column                          Non-Null Count  Dtype  \n",
            "---  ------                          --------------  -----  \n",
            " 0   neighbourhood_group             37434 non-null  object \n",
            " 1   neighbourhood                   37434 non-null  object \n",
            " 2   latitude                        37434 non-null  float64\n",
            " 3   longitude                       37434 non-null  float64\n",
            " 4   room_type                       37434 non-null  object \n",
            " 5   minimum_nights                  37434 non-null  int64  \n",
            " 6   number_of_reviews               37434 non-null  int64  \n",
            " 7   calculated_host_listings_count  37434 non-null  int64  \n",
            " 8   availability_365                37434 non-null  int64  \n",
            " 9   above_average                   37434 non-null  int64  \n",
            "dtypes: float64(2), int64(5), object(3)\n",
            "memory usage: 3.1+ MB\n"
          ]
        }
      ]
    },
    {
      "cell_type": "code",
      "source": [
        "transformer = make_column_transformer(\n",
        "    (MinMaxScaler(), \n",
        "        ['minimum_nights', 'number_of_reviews','calculated_host_listings_count', \n",
        "         'availability_365']),\n",
        "    (OneHotEncoder(handle_unknown='ignore'), \n",
        "        ['neighbourhood_group', 'neighbourhood', 'room_type'])\n",
        ")"
      ],
      "metadata": {
        "id": "RfcEAifKQmie"
      },
      "execution_count": null,
      "outputs": []
    },
    {
      "cell_type": "code",
      "source": [
        "df.head()"
      ],
      "metadata": {
        "colab": {
          "base_uri": "https://localhost:8080/",
          "height": 357
        },
        "id": "BM1oi3M4QyM3",
        "outputId": "a28c20ea-b740-41cd-98fb-9497185e1116"
      },
      "execution_count": null,
      "outputs": [
        {
          "output_type": "execute_result",
          "data": {
            "text/plain": [
              "  neighbourhood_group       neighbourhood  latitude  longitude  \\\n",
              "0            Brooklyn          Kensington  40.64749  -73.97237   \n",
              "1           Manhattan             Midtown  40.75362  -73.98377   \n",
              "4           Manhattan         East Harlem  40.79851  -73.94399   \n",
              "5           Manhattan         Murray Hill  40.74767  -73.97500   \n",
              "6            Brooklyn  Bedford-Stuyvesant  40.68688  -73.95596   \n",
              "\n",
              "         room_type  minimum_nights  number_of_reviews  \\\n",
              "0     Private room               1                  9   \n",
              "1  Entire home/apt               1                 45   \n",
              "4  Entire home/apt              10                  9   \n",
              "5  Entire home/apt               3                 74   \n",
              "6     Private room              45                 49   \n",
              "\n",
              "   calculated_host_listings_count  availability_365  above_average  \n",
              "0                               6               365              0  \n",
              "1                               2               355              1  \n",
              "4                               1                 0              0  \n",
              "5                               1               129              1  \n",
              "6                               1                 0              0  "
            ],
            "text/html": [
              "\n",
              "  <div id=\"df-06f19beb-bb78-492e-aa6e-2afbe0d8cfb8\">\n",
              "    <div class=\"colab-df-container\">\n",
              "      <div>\n",
              "<style scoped>\n",
              "    .dataframe tbody tr th:only-of-type {\n",
              "        vertical-align: middle;\n",
              "    }\n",
              "\n",
              "    .dataframe tbody tr th {\n",
              "        vertical-align: top;\n",
              "    }\n",
              "\n",
              "    .dataframe thead th {\n",
              "        text-align: right;\n",
              "    }\n",
              "</style>\n",
              "<table border=\"1\" class=\"dataframe\">\n",
              "  <thead>\n",
              "    <tr style=\"text-align: right;\">\n",
              "      <th></th>\n",
              "      <th>neighbourhood_group</th>\n",
              "      <th>neighbourhood</th>\n",
              "      <th>latitude</th>\n",
              "      <th>longitude</th>\n",
              "      <th>room_type</th>\n",
              "      <th>minimum_nights</th>\n",
              "      <th>number_of_reviews</th>\n",
              "      <th>calculated_host_listings_count</th>\n",
              "      <th>availability_365</th>\n",
              "      <th>above_average</th>\n",
              "    </tr>\n",
              "  </thead>\n",
              "  <tbody>\n",
              "    <tr>\n",
              "      <th>0</th>\n",
              "      <td>Brooklyn</td>\n",
              "      <td>Kensington</td>\n",
              "      <td>40.64749</td>\n",
              "      <td>-73.97237</td>\n",
              "      <td>Private room</td>\n",
              "      <td>1</td>\n",
              "      <td>9</td>\n",
              "      <td>6</td>\n",
              "      <td>365</td>\n",
              "      <td>0</td>\n",
              "    </tr>\n",
              "    <tr>\n",
              "      <th>1</th>\n",
              "      <td>Manhattan</td>\n",
              "      <td>Midtown</td>\n",
              "      <td>40.75362</td>\n",
              "      <td>-73.98377</td>\n",
              "      <td>Entire home/apt</td>\n",
              "      <td>1</td>\n",
              "      <td>45</td>\n",
              "      <td>2</td>\n",
              "      <td>355</td>\n",
              "      <td>1</td>\n",
              "    </tr>\n",
              "    <tr>\n",
              "      <th>4</th>\n",
              "      <td>Manhattan</td>\n",
              "      <td>East Harlem</td>\n",
              "      <td>40.79851</td>\n",
              "      <td>-73.94399</td>\n",
              "      <td>Entire home/apt</td>\n",
              "      <td>10</td>\n",
              "      <td>9</td>\n",
              "      <td>1</td>\n",
              "      <td>0</td>\n",
              "      <td>0</td>\n",
              "    </tr>\n",
              "    <tr>\n",
              "      <th>5</th>\n",
              "      <td>Manhattan</td>\n",
              "      <td>Murray Hill</td>\n",
              "      <td>40.74767</td>\n",
              "      <td>-73.97500</td>\n",
              "      <td>Entire home/apt</td>\n",
              "      <td>3</td>\n",
              "      <td>74</td>\n",
              "      <td>1</td>\n",
              "      <td>129</td>\n",
              "      <td>1</td>\n",
              "    </tr>\n",
              "    <tr>\n",
              "      <th>6</th>\n",
              "      <td>Brooklyn</td>\n",
              "      <td>Bedford-Stuyvesant</td>\n",
              "      <td>40.68688</td>\n",
              "      <td>-73.95596</td>\n",
              "      <td>Private room</td>\n",
              "      <td>45</td>\n",
              "      <td>49</td>\n",
              "      <td>1</td>\n",
              "      <td>0</td>\n",
              "      <td>0</td>\n",
              "    </tr>\n",
              "  </tbody>\n",
              "</table>\n",
              "</div>\n",
              "      <button class=\"colab-df-convert\" onclick=\"convertToInteractive('df-06f19beb-bb78-492e-aa6e-2afbe0d8cfb8')\"\n",
              "              title=\"Convert this dataframe to an interactive table.\"\n",
              "              style=\"display:none;\">\n",
              "        \n",
              "  <svg xmlns=\"http://www.w3.org/2000/svg\" height=\"24px\"viewBox=\"0 0 24 24\"\n",
              "       width=\"24px\">\n",
              "    <path d=\"M0 0h24v24H0V0z\" fill=\"none\"/>\n",
              "    <path d=\"M18.56 5.44l.94 2.06.94-2.06 2.06-.94-2.06-.94-.94-2.06-.94 2.06-2.06.94zm-11 1L8.5 8.5l.94-2.06 2.06-.94-2.06-.94L8.5 2.5l-.94 2.06-2.06.94zm10 10l.94 2.06.94-2.06 2.06-.94-2.06-.94-.94-2.06-.94 2.06-2.06.94z\"/><path d=\"M17.41 7.96l-1.37-1.37c-.4-.4-.92-.59-1.43-.59-.52 0-1.04.2-1.43.59L10.3 9.45l-7.72 7.72c-.78.78-.78 2.05 0 2.83L4 21.41c.39.39.9.59 1.41.59.51 0 1.02-.2 1.41-.59l7.78-7.78 2.81-2.81c.8-.78.8-2.07 0-2.86zM5.41 20L4 18.59l7.72-7.72 1.47 1.35L5.41 20z\"/>\n",
              "  </svg>\n",
              "      </button>\n",
              "      \n",
              "  <style>\n",
              "    .colab-df-container {\n",
              "      display:flex;\n",
              "      flex-wrap:wrap;\n",
              "      gap: 12px;\n",
              "    }\n",
              "\n",
              "    .colab-df-convert {\n",
              "      background-color: #E8F0FE;\n",
              "      border: none;\n",
              "      border-radius: 50%;\n",
              "      cursor: pointer;\n",
              "      display: none;\n",
              "      fill: #1967D2;\n",
              "      height: 32px;\n",
              "      padding: 0 0 0 0;\n",
              "      width: 32px;\n",
              "    }\n",
              "\n",
              "    .colab-df-convert:hover {\n",
              "      background-color: #E2EBFA;\n",
              "      box-shadow: 0px 1px 2px rgba(60, 64, 67, 0.3), 0px 1px 3px 1px rgba(60, 64, 67, 0.15);\n",
              "      fill: #174EA6;\n",
              "    }\n",
              "\n",
              "    [theme=dark] .colab-df-convert {\n",
              "      background-color: #3B4455;\n",
              "      fill: #D2E3FC;\n",
              "    }\n",
              "\n",
              "    [theme=dark] .colab-df-convert:hover {\n",
              "      background-color: #434B5C;\n",
              "      box-shadow: 0px 1px 3px 1px rgba(0, 0, 0, 0.15);\n",
              "      filter: drop-shadow(0px 1px 2px rgba(0, 0, 0, 0.3));\n",
              "      fill: #FFFFFF;\n",
              "    }\n",
              "  </style>\n",
              "\n",
              "      <script>\n",
              "        const buttonEl =\n",
              "          document.querySelector('#df-06f19beb-bb78-492e-aa6e-2afbe0d8cfb8 button.colab-df-convert');\n",
              "        buttonEl.style.display =\n",
              "          google.colab.kernel.accessAllowed ? 'block' : 'none';\n",
              "\n",
              "        async function convertToInteractive(key) {\n",
              "          const element = document.querySelector('#df-06f19beb-bb78-492e-aa6e-2afbe0d8cfb8');\n",
              "          const dataTable =\n",
              "            await google.colab.kernel.invokeFunction('convertToInteractive',\n",
              "                                                     [key], {});\n",
              "          if (!dataTable) return;\n",
              "\n",
              "          const docLinkHtml = 'Like what you see? Visit the ' +\n",
              "            '<a target=\"_blank\" href=https://colab.research.google.com/notebooks/data_table.ipynb>data table notebook</a>'\n",
              "            + ' to learn more about interactive tables.';\n",
              "          element.innerHTML = '';\n",
              "          dataTable['output_type'] = 'display_data';\n",
              "          await google.colab.output.renderOutput(dataTable, element);\n",
              "          const docLink = document.createElement('div');\n",
              "          docLink.innerHTML = docLinkHtml;\n",
              "          element.appendChild(docLink);\n",
              "        }\n",
              "      </script>\n",
              "    </div>\n",
              "  </div>\n",
              "  "
            ]
          },
          "metadata": {},
          "execution_count": 24
        }
      ]
    },
    {
      "cell_type": "code",
      "source": [
        "X = df.drop('above_average', axis=1)\n",
        "y = df['above_average']\n",
        "\n",
        "X_train, X_test, y_train, y_test = train_test_split(X, y, test_size=0.2, random_state=42)"
      ],
      "metadata": {
        "id": "142u_WqWQ4bB"
      },
      "execution_count": null,
      "outputs": []
    },
    {
      "cell_type": "code",
      "source": [
        "# Fit\n",
        "transformer.fit(X_train)"
      ],
      "metadata": {
        "colab": {
          "base_uri": "https://localhost:8080/",
          "height": 118
        },
        "id": "1bGOTxXBQ_H4",
        "outputId": "ca0809db-8ea6-4354-d7fe-e0f8c0831ec7"
      },
      "execution_count": null,
      "outputs": [
        {
          "output_type": "execute_result",
          "data": {
            "text/plain": [
              "ColumnTransformer(transformers=[('minmaxscaler', MinMaxScaler(),\n",
              "                                 ['minimum_nights', 'number_of_reviews',\n",
              "                                  'calculated_host_listings_count',\n",
              "                                  'availability_365']),\n",
              "                                ('onehotencoder',\n",
              "                                 OneHotEncoder(handle_unknown='ignore'),\n",
              "                                 ['neighbourhood_group', 'neighbourhood',\n",
              "                                  'room_type'])])"
            ],
            "text/html": [
              "<style>#sk-container-id-1 {color: black;background-color: white;}#sk-container-id-1 pre{padding: 0;}#sk-container-id-1 div.sk-toggleable {background-color: white;}#sk-container-id-1 label.sk-toggleable__label {cursor: pointer;display: block;width: 100%;margin-bottom: 0;padding: 0.3em;box-sizing: border-box;text-align: center;}#sk-container-id-1 label.sk-toggleable__label-arrow:before {content: \"▸\";float: left;margin-right: 0.25em;color: #696969;}#sk-container-id-1 label.sk-toggleable__label-arrow:hover:before {color: black;}#sk-container-id-1 div.sk-estimator:hover label.sk-toggleable__label-arrow:before {color: black;}#sk-container-id-1 div.sk-toggleable__content {max-height: 0;max-width: 0;overflow: hidden;text-align: left;background-color: #f0f8ff;}#sk-container-id-1 div.sk-toggleable__content pre {margin: 0.2em;color: black;border-radius: 0.25em;background-color: #f0f8ff;}#sk-container-id-1 input.sk-toggleable__control:checked~div.sk-toggleable__content {max-height: 200px;max-width: 100%;overflow: auto;}#sk-container-id-1 input.sk-toggleable__control:checked~label.sk-toggleable__label-arrow:before {content: \"▾\";}#sk-container-id-1 div.sk-estimator input.sk-toggleable__control:checked~label.sk-toggleable__label {background-color: #d4ebff;}#sk-container-id-1 div.sk-label input.sk-toggleable__control:checked~label.sk-toggleable__label {background-color: #d4ebff;}#sk-container-id-1 input.sk-hidden--visually {border: 0;clip: rect(1px 1px 1px 1px);clip: rect(1px, 1px, 1px, 1px);height: 1px;margin: -1px;overflow: hidden;padding: 0;position: absolute;width: 1px;}#sk-container-id-1 div.sk-estimator {font-family: monospace;background-color: #f0f8ff;border: 1px dotted black;border-radius: 0.25em;box-sizing: border-box;margin-bottom: 0.5em;}#sk-container-id-1 div.sk-estimator:hover {background-color: #d4ebff;}#sk-container-id-1 div.sk-parallel-item::after {content: \"\";width: 100%;border-bottom: 1px solid gray;flex-grow: 1;}#sk-container-id-1 div.sk-label:hover label.sk-toggleable__label {background-color: #d4ebff;}#sk-container-id-1 div.sk-serial::before {content: \"\";position: absolute;border-left: 1px solid gray;box-sizing: border-box;top: 0;bottom: 0;left: 50%;z-index: 0;}#sk-container-id-1 div.sk-serial {display: flex;flex-direction: column;align-items: center;background-color: white;padding-right: 0.2em;padding-left: 0.2em;position: relative;}#sk-container-id-1 div.sk-item {position: relative;z-index: 1;}#sk-container-id-1 div.sk-parallel {display: flex;align-items: stretch;justify-content: center;background-color: white;position: relative;}#sk-container-id-1 div.sk-item::before, #sk-container-id-1 div.sk-parallel-item::before {content: \"\";position: absolute;border-left: 1px solid gray;box-sizing: border-box;top: 0;bottom: 0;left: 50%;z-index: -1;}#sk-container-id-1 div.sk-parallel-item {display: flex;flex-direction: column;z-index: 1;position: relative;background-color: white;}#sk-container-id-1 div.sk-parallel-item:first-child::after {align-self: flex-end;width: 50%;}#sk-container-id-1 div.sk-parallel-item:last-child::after {align-self: flex-start;width: 50%;}#sk-container-id-1 div.sk-parallel-item:only-child::after {width: 0;}#sk-container-id-1 div.sk-dashed-wrapped {border: 1px dashed gray;margin: 0 0.4em 0.5em 0.4em;box-sizing: border-box;padding-bottom: 0.4em;background-color: white;}#sk-container-id-1 div.sk-label label {font-family: monospace;font-weight: bold;display: inline-block;line-height: 1.2em;}#sk-container-id-1 div.sk-label-container {text-align: center;}#sk-container-id-1 div.sk-container {/* jupyter's `normalize.less` sets `[hidden] { display: none; }` but bootstrap.min.css set `[hidden] { display: none !important; }` so we also need the `!important` here to be able to override the default hidden behavior on the sphinx rendered scikit-learn.org. See: https://github.com/scikit-learn/scikit-learn/issues/21755 */display: inline-block !important;position: relative;}#sk-container-id-1 div.sk-text-repr-fallback {display: none;}</style><div id=\"sk-container-id-1\" class=\"sk-top-container\"><div class=\"sk-text-repr-fallback\"><pre>ColumnTransformer(transformers=[(&#x27;minmaxscaler&#x27;, MinMaxScaler(),\n",
              "                                 [&#x27;minimum_nights&#x27;, &#x27;number_of_reviews&#x27;,\n",
              "                                  &#x27;calculated_host_listings_count&#x27;,\n",
              "                                  &#x27;availability_365&#x27;]),\n",
              "                                (&#x27;onehotencoder&#x27;,\n",
              "                                 OneHotEncoder(handle_unknown=&#x27;ignore&#x27;),\n",
              "                                 [&#x27;neighbourhood_group&#x27;, &#x27;neighbourhood&#x27;,\n",
              "                                  &#x27;room_type&#x27;])])</pre><b>In a Jupyter environment, please rerun this cell to show the HTML representation or trust the notebook. <br />On GitHub, the HTML representation is unable to render, please try loading this page with nbviewer.org.</b></div><div class=\"sk-container\" hidden><div class=\"sk-item sk-dashed-wrapped\"><div class=\"sk-label-container\"><div class=\"sk-label sk-toggleable\"><input class=\"sk-toggleable__control sk-hidden--visually\" id=\"sk-estimator-id-1\" type=\"checkbox\" ><label for=\"sk-estimator-id-1\" class=\"sk-toggleable__label sk-toggleable__label-arrow\">ColumnTransformer</label><div class=\"sk-toggleable__content\"><pre>ColumnTransformer(transformers=[(&#x27;minmaxscaler&#x27;, MinMaxScaler(),\n",
              "                                 [&#x27;minimum_nights&#x27;, &#x27;number_of_reviews&#x27;,\n",
              "                                  &#x27;calculated_host_listings_count&#x27;,\n",
              "                                  &#x27;availability_365&#x27;]),\n",
              "                                (&#x27;onehotencoder&#x27;,\n",
              "                                 OneHotEncoder(handle_unknown=&#x27;ignore&#x27;),\n",
              "                                 [&#x27;neighbourhood_group&#x27;, &#x27;neighbourhood&#x27;,\n",
              "                                  &#x27;room_type&#x27;])])</pre></div></div></div><div class=\"sk-parallel\"><div class=\"sk-parallel-item\"><div class=\"sk-item\"><div class=\"sk-label-container\"><div class=\"sk-label sk-toggleable\"><input class=\"sk-toggleable__control sk-hidden--visually\" id=\"sk-estimator-id-2\" type=\"checkbox\" ><label for=\"sk-estimator-id-2\" class=\"sk-toggleable__label sk-toggleable__label-arrow\">minmaxscaler</label><div class=\"sk-toggleable__content\"><pre>[&#x27;minimum_nights&#x27;, &#x27;number_of_reviews&#x27;, &#x27;calculated_host_listings_count&#x27;, &#x27;availability_365&#x27;]</pre></div></div></div><div class=\"sk-serial\"><div class=\"sk-item\"><div class=\"sk-estimator sk-toggleable\"><input class=\"sk-toggleable__control sk-hidden--visually\" id=\"sk-estimator-id-3\" type=\"checkbox\" ><label for=\"sk-estimator-id-3\" class=\"sk-toggleable__label sk-toggleable__label-arrow\">MinMaxScaler</label><div class=\"sk-toggleable__content\"><pre>MinMaxScaler()</pre></div></div></div></div></div></div><div class=\"sk-parallel-item\"><div class=\"sk-item\"><div class=\"sk-label-container\"><div class=\"sk-label sk-toggleable\"><input class=\"sk-toggleable__control sk-hidden--visually\" id=\"sk-estimator-id-4\" type=\"checkbox\" ><label for=\"sk-estimator-id-4\" class=\"sk-toggleable__label sk-toggleable__label-arrow\">onehotencoder</label><div class=\"sk-toggleable__content\"><pre>[&#x27;neighbourhood_group&#x27;, &#x27;neighbourhood&#x27;, &#x27;room_type&#x27;]</pre></div></div></div><div class=\"sk-serial\"><div class=\"sk-item\"><div class=\"sk-estimator sk-toggleable\"><input class=\"sk-toggleable__control sk-hidden--visually\" id=\"sk-estimator-id-5\" type=\"checkbox\" ><label for=\"sk-estimator-id-5\" class=\"sk-toggleable__label sk-toggleable__label-arrow\">OneHotEncoder</label><div class=\"sk-toggleable__content\"><pre>OneHotEncoder(handle_unknown=&#x27;ignore&#x27;)</pre></div></div></div></div></div></div></div></div></div></div>"
            ]
          },
          "metadata": {},
          "execution_count": 26
        }
      ]
    },
    {
      "cell_type": "code",
      "source": [
        "# Apply the transformation\n",
        "X_train = transformer.transform(X_train)\n",
        "X_test = transformer.transform(X_test)"
      ],
      "metadata": {
        "id": "YlcNiYBkTQ5T"
      },
      "execution_count": null,
      "outputs": []
    },
    {
      "cell_type": "code",
      "source": [
        "type(X_train)"
      ],
      "metadata": {
        "colab": {
          "base_uri": "https://localhost:8080/"
        },
        "id": "Sei1Y1M3TVnz",
        "outputId": "86a276b3-9e97-40ce-c600-9c6072cc4c04"
      },
      "execution_count": null,
      "outputs": [
        {
          "output_type": "execute_result",
          "data": {
            "text/plain": [
              "scipy.sparse._csr.csr_matrix"
            ]
          },
          "metadata": {},
          "execution_count": 28
        }
      ]
    },
    {
      "cell_type": "code",
      "source": [
        "X_train = X_train.toarray()\n",
        "X_test = X_test.toarray()"
      ],
      "metadata": {
        "id": "r6x0HAhtTZJq"
      },
      "execution_count": null,
      "outputs": []
    },
    {
      "cell_type": "code",
      "source": [
        "type(X_train)"
      ],
      "metadata": {
        "id": "afZh7p-cgSTs",
        "outputId": "7a748b25-94e6-4baf-a952-435945937166",
        "colab": {
          "base_uri": "https://localhost:8080/"
        }
      },
      "execution_count": null,
      "outputs": [
        {
          "output_type": "execute_result",
          "data": {
            "text/plain": [
              "numpy.ndarray"
            ]
          },
          "metadata": {},
          "execution_count": 30
        }
      ]
    },
    {
      "cell_type": "code",
      "source": [
        "def rmse(y_true, y_pred):    \n",
        "    return K.sqrt(K.mean(K.square(y_pred - y_true)))"
      ],
      "metadata": {
        "id": "_vE5asjBTdjM"
      },
      "execution_count": null,
      "outputs": []
    },
    {
      "cell_type": "markdown",
      "source": [
        "##########################################################################\n",
        "\n",
        "Build Neural Network for AirBNB dataset Classification\n",
        "\n",
        "Input:\n",
        "\n",
        "X_train\n",
        "\n",
        "X_test\n",
        "\n",
        "y_train\n",
        "\n",
        "y_test\n",
        "##########################################################################\n"
      ],
      "metadata": {
        "id": "3DpOsQbZMRjx"
      }
    },
    {
      "cell_type": "code",
      "source": [
        "# To optimize the learning rate in tensorflow\n",
        "tf.random.set_seed(42)"
      ],
      "metadata": {
        "id": "X8ULrkUsM6kI"
      },
      "execution_count": null,
      "outputs": []
    },
    {
      "cell_type": "code",
      "source": [
        "1e-3 * 10 ** (1 / 30), 1e-3 * 10 ** (100 / 30)\n"
      ],
      "metadata": {
        "colab": {
          "base_uri": "https://localhost:8080/"
        },
        "id": "0FBgA8tzNOAj",
        "outputId": "7f518e51-dc9e-45a6-92c9-7759d570bf6b"
      },
      "execution_count": null,
      "outputs": [
        {
          "output_type": "execute_result",
          "data": {
            "text/plain": [
              "(0.0010797751623277097, 2.1544346900318847)"
            ]
          },
          "metadata": {},
          "execution_count": 33
        }
      ]
    },
    {
      "cell_type": "code",
      "source": [
        "initial_model = tf.keras.Sequential([\n",
        "    tf.keras.layers.Dense(128, activation='relu'),\n",
        "    tf.keras.layers.Dense(256, activation='relu'),\n",
        "    tf.keras.layers.Dense(256, activation='relu'),\n",
        "    tf.keras.layers.Dense(1, activation='sigmoid')\n",
        "])\n",
        "\n",
        "initial_model.compile(\n",
        "    loss=tf.keras.losses.binary_crossentropy,\n",
        "    optimizer=tf.keras.optimizers.Adam(),\n",
        "    metrics=[\n",
        "        tf.keras.metrics.BinaryAccuracy(name='accuracy')\n",
        "    ]\n",
        ")\n",
        "\n",
        "initial_history = initial_model.fit(\n",
        "    X_train,\n",
        "    y_train,\n",
        "    epochs=100,\n",
        "    callbacks=[\n",
        "        tf.keras.callbacks.LearningRateScheduler(\n",
        "            lambda epoch: 1e-3 * 10 ** (epoch / 30)\n",
        "        )\n",
        "    ]\n",
        ")"
      ],
      "metadata": {
        "colab": {
          "base_uri": "https://localhost:8080/"
        },
        "id": "jt6IbP-TNabB",
        "outputId": "a44937d6-c024-4138-a200-27f396aac5fb"
      },
      "execution_count": null,
      "outputs": [
        {
          "output_type": "stream",
          "name": "stdout",
          "text": [
            "Epoch 1/100\n",
            "936/936 [==============================] - 9s 5ms/step - loss: 0.3999 - accuracy: 0.8053 - lr: 0.0010\n",
            "Epoch 2/100\n",
            "936/936 [==============================] - 6s 6ms/step - loss: 0.3876 - accuracy: 0.8132 - lr: 0.0011\n",
            "Epoch 3/100\n",
            "936/936 [==============================] - 5s 5ms/step - loss: 0.3854 - accuracy: 0.8138 - lr: 0.0012\n",
            "Epoch 4/100\n",
            "936/936 [==============================] - 4s 5ms/step - loss: 0.3841 - accuracy: 0.8145 - lr: 0.0013\n",
            "Epoch 5/100\n",
            "936/936 [==============================] - 6s 6ms/step - loss: 0.3822 - accuracy: 0.8153 - lr: 0.0014\n",
            "Epoch 6/100\n",
            "936/936 [==============================] - 4s 5ms/step - loss: 0.3803 - accuracy: 0.8165 - lr: 0.0015\n",
            "Epoch 7/100\n",
            "936/936 [==============================] - 4s 5ms/step - loss: 0.3793 - accuracy: 0.8179 - lr: 0.0016\n",
            "Epoch 8/100\n",
            "936/936 [==============================] - 5s 6ms/step - loss: 0.3778 - accuracy: 0.8193 - lr: 0.0017\n",
            "Epoch 9/100\n",
            "936/936 [==============================] - 4s 5ms/step - loss: 0.3767 - accuracy: 0.8208 - lr: 0.0018\n",
            "Epoch 10/100\n",
            "936/936 [==============================] - 5s 6ms/step - loss: 0.3752 - accuracy: 0.8202 - lr: 0.0020\n",
            "Epoch 11/100\n",
            "936/936 [==============================] - 5s 5ms/step - loss: 0.3739 - accuracy: 0.8206 - lr: 0.0022\n",
            "Epoch 12/100\n",
            "936/936 [==============================] - 4s 5ms/step - loss: 0.3730 - accuracy: 0.8224 - lr: 0.0023\n",
            "Epoch 13/100\n",
            "936/936 [==============================] - 6s 6ms/step - loss: 0.3736 - accuracy: 0.8220 - lr: 0.0025\n",
            "Epoch 14/100\n",
            "936/936 [==============================] - 5s 5ms/step - loss: 0.3723 - accuracy: 0.8233 - lr: 0.0027\n",
            "Epoch 15/100\n",
            "936/936 [==============================] - 5s 5ms/step - loss: 0.3720 - accuracy: 0.8225 - lr: 0.0029\n",
            "Epoch 16/100\n",
            "936/936 [==============================] - 6s 6ms/step - loss: 0.3722 - accuracy: 0.8218 - lr: 0.0032\n",
            "Epoch 17/100\n",
            "936/936 [==============================] - 5s 6ms/step - loss: 0.3724 - accuracy: 0.8221 - lr: 0.0034\n",
            "Epoch 18/100\n",
            "936/936 [==============================] - 6s 6ms/step - loss: 0.3714 - accuracy: 0.8221 - lr: 0.0037\n",
            "Epoch 19/100\n",
            "936/936 [==============================] - 5s 5ms/step - loss: 0.3718 - accuracy: 0.8226 - lr: 0.0040\n",
            "Epoch 20/100\n",
            "936/936 [==============================] - 6s 6ms/step - loss: 0.3708 - accuracy: 0.8231 - lr: 0.0043\n",
            "Epoch 21/100\n",
            "936/936 [==============================] - 5s 6ms/step - loss: 0.3698 - accuracy: 0.8226 - lr: 0.0046\n",
            "Epoch 22/100\n",
            "936/936 [==============================] - 4s 5ms/step - loss: 0.3698 - accuracy: 0.8226 - lr: 0.0050\n",
            "Epoch 23/100\n",
            "936/936 [==============================] - 6s 6ms/step - loss: 0.3691 - accuracy: 0.8238 - lr: 0.0054\n",
            "Epoch 24/100\n",
            "936/936 [==============================] - 5s 5ms/step - loss: 0.3703 - accuracy: 0.8236 - lr: 0.0058\n",
            "Epoch 25/100\n",
            "936/936 [==============================] - 5s 5ms/step - loss: 0.3689 - accuracy: 0.8229 - lr: 0.0063\n",
            "Epoch 26/100\n",
            "936/936 [==============================] - 6s 6ms/step - loss: 0.3723 - accuracy: 0.8222 - lr: 0.0068\n",
            "Epoch 27/100\n",
            "936/936 [==============================] - 5s 5ms/step - loss: 0.3701 - accuracy: 0.8218 - lr: 0.0074\n",
            "Epoch 28/100\n",
            "936/936 [==============================] - 6s 6ms/step - loss: 0.3698 - accuracy: 0.8223 - lr: 0.0079\n",
            "Epoch 29/100\n",
            "936/936 [==============================] - 5s 5ms/step - loss: 0.3716 - accuracy: 0.8215 - lr: 0.0086\n",
            "Epoch 30/100\n",
            "936/936 [==============================] - 5s 5ms/step - loss: 0.3723 - accuracy: 0.8202 - lr: 0.0093\n",
            "Epoch 31/100\n",
            "936/936 [==============================] - 6s 6ms/step - loss: 0.3728 - accuracy: 0.8209 - lr: 0.0100\n",
            "Epoch 32/100\n",
            "936/936 [==============================] - 5s 5ms/step - loss: 0.3742 - accuracy: 0.8210 - lr: 0.0108\n",
            "Epoch 33/100\n",
            "936/936 [==============================] - 5s 6ms/step - loss: 0.3755 - accuracy: 0.8185 - lr: 0.0117\n",
            "Epoch 34/100\n",
            "936/936 [==============================] - 5s 5ms/step - loss: 0.3741 - accuracy: 0.8208 - lr: 0.0126\n",
            "Epoch 35/100\n",
            "936/936 [==============================] - 5s 5ms/step - loss: 0.3752 - accuracy: 0.8206 - lr: 0.0136\n",
            "Epoch 36/100\n",
            "936/936 [==============================] - 8s 8ms/step - loss: 0.3750 - accuracy: 0.8210 - lr: 0.0147\n",
            "Epoch 37/100\n",
            "936/936 [==============================] - 6s 6ms/step - loss: 0.3752 - accuracy: 0.8202 - lr: 0.0158\n",
            "Epoch 38/100\n",
            "936/936 [==============================] - 6s 7ms/step - loss: 0.3775 - accuracy: 0.8190 - lr: 0.0171\n",
            "Epoch 39/100\n",
            "936/936 [==============================] - 5s 5ms/step - loss: 0.3813 - accuracy: 0.8189 - lr: 0.0185\n",
            "Epoch 40/100\n",
            "936/936 [==============================] - 5s 5ms/step - loss: 0.3789 - accuracy: 0.8195 - lr: 0.0200\n",
            "Epoch 41/100\n",
            "936/936 [==============================] - 7s 7ms/step - loss: 0.3850 - accuracy: 0.8151 - lr: 0.0215\n",
            "Epoch 42/100\n",
            "936/936 [==============================] - 5s 5ms/step - loss: 0.3878 - accuracy: 0.8165 - lr: 0.0233\n",
            "Epoch 43/100\n",
            "936/936 [==============================] - 6s 6ms/step - loss: 0.3824 - accuracy: 0.8166 - lr: 0.0251\n",
            "Epoch 44/100\n",
            "936/936 [==============================] - 5s 5ms/step - loss: 0.3832 - accuracy: 0.8170 - lr: 0.0271\n",
            "Epoch 45/100\n",
            "936/936 [==============================] - 5s 5ms/step - loss: 0.3884 - accuracy: 0.8154 - lr: 0.0293\n",
            "Epoch 46/100\n",
            "936/936 [==============================] - 6s 6ms/step - loss: 0.3847 - accuracy: 0.8137 - lr: 0.0316\n",
            "Epoch 47/100\n",
            "936/936 [==============================] - 5s 5ms/step - loss: 0.4051 - accuracy: 0.8174 - lr: 0.0341\n",
            "Epoch 48/100\n",
            "936/936 [==============================] - 5s 5ms/step - loss: 0.4058 - accuracy: 0.8139 - lr: 0.0369\n",
            "Epoch 49/100\n",
            "936/936 [==============================] - 5s 6ms/step - loss: 0.3983 - accuracy: 0.8112 - lr: 0.0398\n",
            "Epoch 50/100\n",
            "936/936 [==============================] - 5s 5ms/step - loss: 0.4043 - accuracy: 0.8116 - lr: 0.0430\n",
            "Epoch 51/100\n",
            "936/936 [==============================] - 6s 6ms/step - loss: 0.3908 - accuracy: 0.8100 - lr: 0.0464\n",
            "Epoch 52/100\n",
            "936/936 [==============================] - 5s 5ms/step - loss: 0.4028 - accuracy: 0.8107 - lr: 0.0501\n",
            "Epoch 53/100\n",
            "936/936 [==============================] - 5s 5ms/step - loss: 0.3945 - accuracy: 0.8103 - lr: 0.0541\n",
            "Epoch 54/100\n",
            "936/936 [==============================] - 6s 6ms/step - loss: 0.4695 - accuracy: 0.7792 - lr: 0.0584\n",
            "Epoch 55/100\n",
            "936/936 [==============================] - 4s 5ms/step - loss: 0.4639 - accuracy: 0.7461 - lr: 0.0631\n",
            "Epoch 56/100\n",
            "936/936 [==============================] - 5s 5ms/step - loss: 0.4539 - accuracy: 0.7354 - lr: 0.0681\n",
            "Epoch 57/100\n",
            "936/936 [==============================] - 5s 5ms/step - loss: 0.4911 - accuracy: 0.7814 - lr: 0.0736\n",
            "Epoch 58/100\n",
            "936/936 [==============================] - 5s 5ms/step - loss: 0.5152 - accuracy: 0.7630 - lr: 0.0794\n",
            "Epoch 59/100\n",
            "936/936 [==============================] - 6s 7ms/step - loss: 0.5544 - accuracy: 0.7479 - lr: 0.0858\n",
            "Epoch 60/100\n",
            "936/936 [==============================] - 4s 5ms/step - loss: 0.4615 - accuracy: 0.7144 - lr: 0.0926\n",
            "Epoch 61/100\n",
            "936/936 [==============================] - 5s 5ms/step - loss: 0.6247 - accuracy: 0.7161 - lr: 0.1000\n",
            "Epoch 62/100\n",
            "936/936 [==============================] - 6s 6ms/step - loss: 0.5961 - accuracy: 0.7183 - lr: 0.1080\n",
            "Epoch 63/100\n",
            "936/936 [==============================] - 5s 5ms/step - loss: 0.5966 - accuracy: 0.7183 - lr: 0.1166\n",
            "Epoch 64/100\n",
            "936/936 [==============================] - 6s 6ms/step - loss: 0.5962 - accuracy: 0.7183 - lr: 0.1259\n",
            "Epoch 65/100\n",
            "936/936 [==============================] - 5s 5ms/step - loss: 0.5979 - accuracy: 0.7183 - lr: 0.1359\n",
            "Epoch 66/100\n",
            "936/936 [==============================] - 5s 6ms/step - loss: 0.5976 - accuracy: 0.7183 - lr: 0.1468\n",
            "Epoch 67/100\n",
            "936/936 [==============================] - 6s 7ms/step - loss: 0.5973 - accuracy: 0.7183 - lr: 0.1585\n",
            "Epoch 68/100\n",
            "936/936 [==============================] - 5s 6ms/step - loss: 0.5975 - accuracy: 0.7183 - lr: 0.1711\n",
            "Epoch 69/100\n",
            "936/936 [==============================] - 6s 6ms/step - loss: 0.5987 - accuracy: 0.7183 - lr: 0.1848\n",
            "Epoch 70/100\n",
            "936/936 [==============================] - 5s 6ms/step - loss: 0.5982 - accuracy: 0.7183 - lr: 0.1995\n",
            "Epoch 71/100\n",
            "936/936 [==============================] - 6s 6ms/step - loss: 0.5982 - accuracy: 0.7183 - lr: 0.2154\n",
            "Epoch 72/100\n",
            "936/936 [==============================] - 5s 6ms/step - loss: 0.5985 - accuracy: 0.7183 - lr: 0.2326\n",
            "Epoch 73/100\n",
            "936/936 [==============================] - 5s 6ms/step - loss: 0.5981 - accuracy: 0.7183 - lr: 0.2512\n",
            "Epoch 74/100\n",
            "936/936 [==============================] - 6s 7ms/step - loss: 0.6006 - accuracy: 0.7183 - lr: 0.2712\n",
            "Epoch 75/100\n",
            "936/936 [==============================] - 5s 5ms/step - loss: 0.6005 - accuracy: 0.7183 - lr: 0.2929\n",
            "Epoch 76/100\n",
            "936/936 [==============================] - 6s 7ms/step - loss: 0.5999 - accuracy: 0.7183 - lr: 0.3162\n",
            "Epoch 77/100\n",
            "936/936 [==============================] - 5s 5ms/step - loss: 0.5996 - accuracy: 0.7183 - lr: 0.3415\n",
            "Epoch 78/100\n",
            "936/936 [==============================] - 6s 6ms/step - loss: 0.6005 - accuracy: 0.7183 - lr: 0.3687\n",
            "Epoch 79/100\n",
            "936/936 [==============================] - 6s 6ms/step - loss: 0.6007 - accuracy: 0.7183 - lr: 0.3981\n",
            "Epoch 80/100\n",
            "936/936 [==============================] - 5s 6ms/step - loss: 0.6010 - accuracy: 0.7183 - lr: 0.4299\n",
            "Epoch 81/100\n",
            "936/936 [==============================] - 6s 7ms/step - loss: 0.6019 - accuracy: 0.7183 - lr: 0.4642\n",
            "Epoch 82/100\n",
            "936/936 [==============================] - 5s 6ms/step - loss: 0.6017 - accuracy: 0.7183 - lr: 0.5012\n",
            "Epoch 83/100\n",
            "936/936 [==============================] - 6s 7ms/step - loss: 0.6045 - accuracy: 0.7174 - lr: 0.5412\n",
            "Epoch 84/100\n",
            "936/936 [==============================] - 5s 5ms/step - loss: 0.6048 - accuracy: 0.7183 - lr: 0.5843\n",
            "Epoch 85/100\n",
            "936/936 [==============================] - 6s 6ms/step - loss: 0.6049 - accuracy: 0.7183 - lr: 0.6310\n",
            "Epoch 86/100\n",
            "936/936 [==============================] - 6s 6ms/step - loss: 0.6071 - accuracy: 0.7183 - lr: 0.6813\n",
            "Epoch 87/100\n",
            "936/936 [==============================] - 5s 5ms/step - loss: 0.6048 - accuracy: 0.7183 - lr: 0.7356\n",
            "Epoch 88/100\n",
            "936/936 [==============================] - 6s 7ms/step - loss: 0.6076 - accuracy: 0.7183 - lr: 0.7943\n",
            "Epoch 89/100\n",
            "936/936 [==============================] - 5s 5ms/step - loss: 0.6063 - accuracy: 0.7177 - lr: 0.8577\n",
            "Epoch 90/100\n",
            "936/936 [==============================] - 6s 6ms/step - loss: 0.6090 - accuracy: 0.7174 - lr: 0.9261\n",
            "Epoch 91/100\n",
            "936/936 [==============================] - 6s 6ms/step - loss: 0.6121 - accuracy: 0.7135 - lr: 1.0000\n",
            "Epoch 92/100\n",
            "936/936 [==============================] - 5s 5ms/step - loss: 0.6144 - accuracy: 0.7119 - lr: 1.0798\n",
            "Epoch 93/100\n",
            "936/936 [==============================] - 6s 6ms/step - loss: 0.6145 - accuracy: 0.7164 - lr: 1.1659\n",
            "Epoch 94/100\n",
            "936/936 [==============================] - 5s 5ms/step - loss: 0.6144 - accuracy: 0.7120 - lr: 1.2589\n",
            "Epoch 95/100\n",
            "936/936 [==============================] - 6s 6ms/step - loss: 0.6199 - accuracy: 0.7083 - lr: 1.3594\n",
            "Epoch 96/100\n",
            "936/936 [==============================] - 5s 5ms/step - loss: 0.6137 - accuracy: 0.7141 - lr: 1.4678\n",
            "Epoch 97/100\n",
            "936/936 [==============================] - 5s 6ms/step - loss: 0.6206 - accuracy: 0.7123 - lr: 1.5849\n",
            "Epoch 98/100\n",
            "936/936 [==============================] - 6s 6ms/step - loss: 0.6234 - accuracy: 0.7028 - lr: 1.7113\n",
            "Epoch 99/100\n",
            "936/936 [==============================] - 5s 6ms/step - loss: 0.6193 - accuracy: 0.7095 - lr: 1.8478\n",
            "Epoch 100/100\n",
            "936/936 [==============================] - 6s 7ms/step - loss: 0.6253 - accuracy: 0.7061 - lr: 1.9953\n"
          ]
        }
      ]
    },
    {
      "cell_type": "code",
      "source": [
        "rcParams['figure.figsize'] = (18, 8)\n",
        "rcParams['axes.spines.top'] = False\n",
        "rcParams['axes.spines.right'] = False \n",
        "\n",
        "plt.plot(\n",
        "    np.arange(1, 101), \n",
        "    initial_history.history['loss'], \n",
        "    label='Loss', lw=3\n",
        ")\n",
        "plt.plot(\n",
        "    np.arange(1, 101), \n",
        "    initial_history.history['accuracy'], \n",
        "    label='Accuracy', lw=3\n",
        ")\n",
        "plt.plot(\n",
        "    np.arange(1, 101), \n",
        "    initial_history.history['lr'], \n",
        "    label='Learning rate', color='#000', lw=3, linestyle='--'\n",
        ")\n",
        "plt.title('Evaluation metrics', size=20)\n",
        "plt.xlabel('Epoch', size=14)\n",
        "plt.legend();"
      ],
      "metadata": {
        "colab": {
          "base_uri": "https://localhost:8080/",
          "height": 600
        },
        "id": "ZJNqGKXaQO2y",
        "outputId": "1a5fbfcb-6c8d-42a8-d425-d559a662bc92"
      },
      "execution_count": null,
      "outputs": [
        {
          "output_type": "display_data",
          "data": {
            "text/plain": [
              "<Figure size 1800x800 with 1 Axes>"
            ],
            "image/png": "[encoded data removed]"
          },
          "metadata": {}
        }
      ]
    },
    {
      "cell_type": "markdown",
      "source": [
        "After about 50 epochs \n",
        "\n",
        "Loss function increases\n",
        "\n",
        "Accuracy decreases\n",
        "\n",
        "Learning rate increasesd"
      ],
      "metadata": {
        "id": "U1wdVVjCXHvx"
      }
    },
    {
      "cell_type": "code",
      "source": [
        "learning_rates = 1e-3 * (10 ** (np.arange(100) / 30))\n",
        "plt.semilogx(\n",
        "    learning_rates, \n",
        "    initial_history.history['loss'], \n",
        "    lw=3, color='#000'\n",
        ")\n",
        "plt.title('Learning rate vs. loss', size=20)\n",
        "plt.xlabel('Learning rate', size=14)\n",
        "plt.ylabel('Loss', size=14);"
      ],
      "metadata": {
        "colab": {
          "base_uri": "https://localhost:8080/",
          "height": 594
        },
        "id": "eQSqW6DFQkWM",
        "outputId": "f8bdf3f1-ef5a-49f7-df39-39af209ed1fc"
      },
      "execution_count": null,
      "outputs": [
        {
          "output_type": "display_data",
          "data": {
            "text/plain": [
              "<Figure size 1800x800 with 1 Axes>"
            ],
            "image/png": "[encoded data removed]"
          },
          "metadata": {}
        }
      ]
    },
    {
      "cell_type": "code",
      "source": [
        "model_optimized = tf.keras.Sequential([\n",
        "    tf.keras.layers.Dense(128, activation='relu'),\n",
        "    tf.keras.layers.Dense(256, activation='relu'),\n",
        "    tf.keras.layers.Dense(256, activation='relu'),\n",
        "    tf.keras.layers.Dense(1, activation='sigmoid')\n",
        "])\n",
        "\n",
        "model_optimized.compile(\n",
        "    loss=tf.keras.losses.binary_crossentropy,\n",
        "    optimizer=tf.keras.optimizers.Adam(learning_rate=0.007),\n",
        "    metrics=[\n",
        "        tf.keras.metrics.BinaryAccuracy(name='accuracy')\n",
        "    ]\n",
        ")\n",
        "\n",
        "history_optimized = model_optimized.fit(\n",
        "    X_train,\n",
        "    y_train,\n",
        "    epochs=100\n",
        ")"
      ],
      "metadata": {
        "colab": {
          "base_uri": "https://localhost:8080/"
        },
        "id": "AAsvpQF-RPCT",
        "outputId": "3bec2372-6e34-474d-d0e1-daaf79f834d0"
      },
      "execution_count": null,
      "outputs": [
        {
          "output_type": "stream",
          "name": "stdout",
          "text": [
            "Epoch 1/100\n",
            "936/936 [==============================] - 6s 5ms/step - loss: 0.4041 - accuracy: 0.8065\n",
            "Epoch 2/100\n",
            "936/936 [==============================] - 6s 6ms/step - loss: 0.3928 - accuracy: 0.8126\n",
            "Epoch 3/100\n",
            "936/936 [==============================] - 5s 5ms/step - loss: 0.3895 - accuracy: 0.8133\n",
            "Epoch 4/100\n",
            "936/936 [==============================] - 6s 6ms/step - loss: 0.3863 - accuracy: 0.8148\n",
            "Epoch 5/100\n",
            "936/936 [==============================] - 5s 5ms/step - loss: 0.3833 - accuracy: 0.8162\n",
            "Epoch 6/100\n",
            "936/936 [==============================] - 5s 5ms/step - loss: 0.3807 - accuracy: 0.8160\n",
            "Epoch 7/100\n",
            "936/936 [==============================] - 6s 6ms/step - loss: 0.3797 - accuracy: 0.8169\n",
            "Epoch 8/100\n",
            "936/936 [==============================] - 5s 5ms/step - loss: 0.3790 - accuracy: 0.8183\n",
            "Epoch 9/100\n",
            "936/936 [==============================] - 5s 5ms/step - loss: 0.3766 - accuracy: 0.8193\n",
            "Epoch 10/100\n",
            "936/936 [==============================] - 6s 6ms/step - loss: 0.3755 - accuracy: 0.8203\n",
            "Epoch 11/100\n",
            "936/936 [==============================] - 5s 5ms/step - loss: 0.3747 - accuracy: 0.8198\n",
            "Epoch 12/100\n",
            "936/936 [==============================] - 6s 6ms/step - loss: 0.3735 - accuracy: 0.8226\n",
            "Epoch 13/100\n",
            "936/936 [==============================] - 5s 5ms/step - loss: 0.3732 - accuracy: 0.8216\n",
            "Epoch 14/100\n",
            "936/936 [==============================] - 5s 6ms/step - loss: 0.3710 - accuracy: 0.8243\n",
            "Epoch 15/100\n",
            "936/936 [==============================] - 5s 6ms/step - loss: 0.3709 - accuracy: 0.8225\n",
            "Epoch 16/100\n",
            "936/936 [==============================] - 7s 7ms/step - loss: 0.3708 - accuracy: 0.8241\n",
            "Epoch 17/100\n",
            "936/936 [==============================] - 5s 6ms/step - loss: 0.3696 - accuracy: 0.8243\n",
            "Epoch 18/100\n",
            "936/936 [==============================] - 5s 5ms/step - loss: 0.3702 - accuracy: 0.8226\n",
            "Epoch 19/100\n",
            "936/936 [==============================] - 6s 6ms/step - loss: 0.3689 - accuracy: 0.8238\n",
            "Epoch 20/100\n",
            "936/936 [==============================] - 5s 5ms/step - loss: 0.3686 - accuracy: 0.8243\n",
            "Epoch 21/100\n",
            "936/936 [==============================] - 5s 5ms/step - loss: 0.3675 - accuracy: 0.8248\n",
            "Epoch 22/100\n",
            "936/936 [==============================] - 6s 6ms/step - loss: 0.3666 - accuracy: 0.8256\n",
            "Epoch 23/100\n",
            "936/936 [==============================] - 5s 5ms/step - loss: 0.3672 - accuracy: 0.8262\n",
            "Epoch 24/100\n",
            "936/936 [==============================] - 6s 6ms/step - loss: 0.3660 - accuracy: 0.8252\n",
            "Epoch 25/100\n",
            "936/936 [==============================] - 5s 5ms/step - loss: 0.3663 - accuracy: 0.8241\n",
            "Epoch 26/100\n",
            "936/936 [==============================] - 4s 5ms/step - loss: 0.3649 - accuracy: 0.8243\n",
            "Epoch 27/100\n",
            "936/936 [==============================] - 6s 6ms/step - loss: 0.3638 - accuracy: 0.8251\n",
            "Epoch 28/100\n",
            "936/936 [==============================] - 5s 5ms/step - loss: 0.3627 - accuracy: 0.8262\n",
            "Epoch 29/100\n",
            "936/936 [==============================] - 5s 5ms/step - loss: 0.3625 - accuracy: 0.8265\n",
            "Epoch 30/100\n",
            "936/936 [==============================] - 5s 6ms/step - loss: 0.3625 - accuracy: 0.8255\n",
            "Epoch 31/100\n",
            "936/936 [==============================] - 5s 5ms/step - loss: 0.3627 - accuracy: 0.8277\n",
            "Epoch 32/100\n",
            "936/936 [==============================] - 6s 6ms/step - loss: 0.3620 - accuracy: 0.8268\n",
            "Epoch 33/100\n",
            "936/936 [==============================] - 4s 5ms/step - loss: 0.3630 - accuracy: 0.8270\n",
            "Epoch 34/100\n",
            "936/936 [==============================] - 4s 5ms/step - loss: 0.3598 - accuracy: 0.8280\n",
            "Epoch 35/100\n",
            "936/936 [==============================] - 6s 6ms/step - loss: 0.3597 - accuracy: 0.8284\n",
            "Epoch 36/100\n",
            "936/936 [==============================] - 5s 5ms/step - loss: 0.3601 - accuracy: 0.8285\n",
            "Epoch 37/100\n",
            "936/936 [==============================] - 5s 6ms/step - loss: 0.3591 - accuracy: 0.8287\n",
            "Epoch 38/100\n",
            "936/936 [==============================] - 5s 5ms/step - loss: 0.3586 - accuracy: 0.8280\n",
            "Epoch 39/100\n",
            "936/936 [==============================] - 5s 5ms/step - loss: 0.3600 - accuracy: 0.8281\n",
            "Epoch 40/100\n",
            "936/936 [==============================] - 5s 6ms/step - loss: 0.3601 - accuracy: 0.8287\n",
            "Epoch 41/100\n",
            "936/936 [==============================] - 4s 5ms/step - loss: 0.3578 - accuracy: 0.8284\n",
            "Epoch 42/100\n",
            "936/936 [==============================] - 4s 5ms/step - loss: 0.3634 - accuracy: 0.8287\n",
            "Epoch 43/100\n",
            "936/936 [==============================] - 6s 6ms/step - loss: 0.3584 - accuracy: 0.8289\n",
            "Epoch 44/100\n",
            "936/936 [==============================] - 5s 5ms/step - loss: 0.3592 - accuracy: 0.8280\n",
            "Epoch 45/100\n",
            "936/936 [==============================] - 6s 6ms/step - loss: 0.3566 - accuracy: 0.8285\n",
            "Epoch 46/100\n",
            "936/936 [==============================] - 5s 6ms/step - loss: 0.3575 - accuracy: 0.8274\n",
            "Epoch 47/100\n",
            "936/936 [==============================] - 5s 5ms/step - loss: 0.3565 - accuracy: 0.8288\n",
            "Epoch 48/100\n",
            "936/936 [==============================] - 6s 6ms/step - loss: 0.3565 - accuracy: 0.8297\n",
            "Epoch 49/100\n",
            "936/936 [==============================] - 5s 5ms/step - loss: 0.3565 - accuracy: 0.8286\n",
            "Epoch 50/100\n",
            "936/936 [==============================] - 5s 5ms/step - loss: 0.3560 - accuracy: 0.8286\n",
            "Epoch 51/100\n",
            "936/936 [==============================] - 5s 6ms/step - loss: 0.3555 - accuracy: 0.8301\n",
            "Epoch 52/100\n",
            "936/936 [==============================] - 4s 4ms/step - loss: 0.3550 - accuracy: 0.8310\n",
            "Epoch 53/100\n",
            "936/936 [==============================] - 6s 6ms/step - loss: 0.3549 - accuracy: 0.8293\n",
            "Epoch 54/100\n",
            "936/936 [==============================] - 5s 5ms/step - loss: 0.3555 - accuracy: 0.8299\n",
            "Epoch 55/100\n",
            "936/936 [==============================] - 5s 5ms/step - loss: 0.3553 - accuracy: 0.8287\n",
            "Epoch 56/100\n",
            "936/936 [==============================] - 6s 6ms/step - loss: 0.3539 - accuracy: 0.8289\n",
            "Epoch 57/100\n",
            "936/936 [==============================] - 5s 5ms/step - loss: 0.3549 - accuracy: 0.8301\n",
            "Epoch 58/100\n",
            "936/936 [==============================] - 5s 5ms/step - loss: 0.3543 - accuracy: 0.8307\n",
            "Epoch 59/100\n",
            "936/936 [==============================] - 5s 5ms/step - loss: 0.3541 - accuracy: 0.8302\n",
            "Epoch 60/100\n",
            "936/936 [==============================] - 4s 5ms/step - loss: 0.3532 - accuracy: 0.8295\n",
            "Epoch 61/100\n",
            "936/936 [==============================] - 6s 6ms/step - loss: 0.3537 - accuracy: 0.8315\n",
            "Epoch 62/100\n",
            "936/936 [==============================] - 5s 5ms/step - loss: 0.3572 - accuracy: 0.8289\n",
            "Epoch 63/100\n",
            "936/936 [==============================] - 5s 5ms/step - loss: 0.3533 - accuracy: 0.8307\n",
            "Epoch 64/100\n",
            "936/936 [==============================] - 6s 6ms/step - loss: 0.3525 - accuracy: 0.8312\n",
            "Epoch 65/100\n",
            "936/936 [==============================] - 5s 5ms/step - loss: 0.3550 - accuracy: 0.8320\n",
            "Epoch 66/100\n",
            "936/936 [==============================] - 6s 6ms/step - loss: 0.3526 - accuracy: 0.8313\n",
            "Epoch 67/100\n",
            "936/936 [==============================] - 5s 5ms/step - loss: 0.3514 - accuracy: 0.8310\n",
            "Epoch 68/100\n",
            "936/936 [==============================] - 5s 5ms/step - loss: 0.3523 - accuracy: 0.8317\n",
            "Epoch 69/100\n",
            "936/936 [==============================] - 6s 6ms/step - loss: 0.3574 - accuracy: 0.8298\n",
            "Epoch 70/100\n",
            "936/936 [==============================] - 5s 5ms/step - loss: 0.3527 - accuracy: 0.8308\n",
            "Epoch 71/100\n",
            "936/936 [==============================] - 5s 5ms/step - loss: 0.3513 - accuracy: 0.8313\n",
            "Epoch 72/100\n",
            "936/936 [==============================] - 5s 5ms/step - loss: 0.3529 - accuracy: 0.8317\n",
            "Epoch 73/100\n",
            "936/936 [==============================] - 5s 5ms/step - loss: 0.3507 - accuracy: 0.8328\n",
            "Epoch 74/100\n",
            "936/936 [==============================] - 6s 6ms/step - loss: 0.3552 - accuracy: 0.8324\n",
            "Epoch 75/100\n",
            "936/936 [==============================] - 5s 5ms/step - loss: 0.3539 - accuracy: 0.8314\n",
            "Epoch 76/100\n",
            "936/936 [==============================] - 5s 5ms/step - loss: 0.3506 - accuracy: 0.8310\n",
            "Epoch 77/100\n",
            "936/936 [==============================] - 5s 5ms/step - loss: 0.3521 - accuracy: 0.8313\n",
            "Epoch 78/100\n",
            "936/936 [==============================] - 5s 5ms/step - loss: 0.3521 - accuracy: 0.8306\n",
            "Epoch 79/100\n",
            "936/936 [==============================] - 6s 6ms/step - loss: 0.3519 - accuracy: 0.8309\n",
            "Epoch 80/100\n",
            "936/936 [==============================] - 5s 5ms/step - loss: 0.3509 - accuracy: 0.8322\n",
            "Epoch 81/100\n",
            "936/936 [==============================] - 5s 5ms/step - loss: 0.3505 - accuracy: 0.8314\n",
            "Epoch 82/100\n",
            "936/936 [==============================] - 6s 6ms/step - loss: 0.3510 - accuracy: 0.8332\n",
            "Epoch 83/100\n",
            "936/936 [==============================] - 5s 5ms/step - loss: 0.3493 - accuracy: 0.8319\n",
            "Epoch 84/100\n",
            "936/936 [==============================] - 6s 6ms/step - loss: 0.3528 - accuracy: 0.8330\n",
            "Epoch 85/100\n",
            "936/936 [==============================] - 5s 5ms/step - loss: 0.3506 - accuracy: 0.8329\n",
            "Epoch 86/100\n",
            "936/936 [==============================] - 5s 5ms/step - loss: 0.3494 - accuracy: 0.8327\n",
            "Epoch 87/100\n",
            "936/936 [==============================] - 6s 6ms/step - loss: 0.3504 - accuracy: 0.8307\n",
            "Epoch 88/100\n",
            "936/936 [==============================] - 5s 5ms/step - loss: 0.3479 - accuracy: 0.8336\n",
            "Epoch 89/100\n",
            "936/936 [==============================] - 5s 5ms/step - loss: 0.3510 - accuracy: 0.8318\n",
            "Epoch 90/100\n",
            "936/936 [==============================] - 5s 5ms/step - loss: 0.3530 - accuracy: 0.8317\n",
            "Epoch 91/100\n",
            "936/936 [==============================] - 5s 5ms/step - loss: 0.3501 - accuracy: 0.8326\n",
            "Epoch 92/100\n",
            "936/936 [==============================] - 6s 7ms/step - loss: 0.3519 - accuracy: 0.8340\n",
            "Epoch 93/100\n",
            "936/936 [==============================] - 5s 5ms/step - loss: 0.3486 - accuracy: 0.8334\n",
            "Epoch 94/100\n",
            "936/936 [==============================] - 5s 5ms/step - loss: 0.3683 - accuracy: 0.8323\n",
            "Epoch 95/100\n",
            "936/936 [==============================] - 6s 6ms/step - loss: 0.3494 - accuracy: 0.8327\n",
            "Epoch 96/100\n",
            "936/936 [==============================] - 5s 5ms/step - loss: 0.3474 - accuracy: 0.8331\n",
            "Epoch 97/100\n",
            "936/936 [==============================] - 6s 6ms/step - loss: 0.3493 - accuracy: 0.8339\n",
            "Epoch 98/100\n",
            "936/936 [==============================] - 5s 5ms/step - loss: 0.3497 - accuracy: 0.8322\n",
            "Epoch 99/100\n",
            "936/936 [==============================] - 4s 5ms/step - loss: 0.3477 - accuracy: 0.8335\n",
            "Epoch 100/100\n",
            "936/936 [==============================] - 5s 6ms/step - loss: 0.3478 - accuracy: 0.8333\n"
          ]
        }
      ]
    },
    {
      "cell_type": "code",
      "source": [
        "plt.plot(\n",
        "    np.arange(1, 101), \n",
        "    history_optimized.history['loss'], \n",
        "    label='Loss', lw=3\n",
        ")\n",
        "plt.plot(\n",
        "    np.arange(1, 101), \n",
        "    history_optimized.history['accuracy'], \n",
        "    label='Accuracy', lw=3\n",
        ")\n",
        "plt.title('Accuracy vs. Loss per epoch', size=20)\n",
        "plt.xlabel('Epoch', size=14)\n",
        "plt.legend()"
      ],
      "metadata": {
        "colab": {
          "base_uri": "https://localhost:8080/",
          "height": 621
        },
        "id": "_A4WEOT6Rw-0",
        "outputId": "7ddd18e7-3ddf-4ea4-9b17-69c3c3feb293"
      },
      "execution_count": null,
      "outputs": [
        {
          "output_type": "execute_result",
          "data": {
            "text/plain": [
              "<matplotlib.legend.Legend at 0x7f04005dce50>"
            ]
          },
          "metadata": {},
          "execution_count": 38
        },
        {
          "output_type": "display_data",
          "data": {
            "text/plain": [
              "<Figure size 1800x800 with 1 Axes>"
            ],
            "image/png": "[encoded data removed]"
          },
          "metadata": {}
        }
      ]
    },
    {
      "cell_type": "markdown",
      "source": [
        "Accuracy is 80+\n",
        "\n",
        "Loss function is low"
      ],
      "metadata": {
        "id": "45bnJckyaCLJ"
      }
    },
    {
      "cell_type": "code",
      "source": [
        "predictions = model_optimized.predict(X_test)\n",
        "prediction_classes = [1 if prob > 0.5 else 0 for prob in np.ravel(predictions)]\n",
        "\n",
        "\n",
        "print(f'Accuracy on the test set: {accuracy_score(y_test, prediction_classes):.2f}')\n",
        "print()\n",
        "print('Confusion matrix:')\n",
        "print(confusion_matrix(y_test, prediction_classes))"
      ],
      "metadata": {
        "colab": {
          "base_uri": "https://localhost:8080/"
        },
        "id": "DFbABp_bR5DV",
        "outputId": "d713860f-231a-497e-9bfc-4955c6c48c6f"
      },
      "execution_count": null,
      "outputs": [
        {
          "output_type": "stream",
          "name": "stdout",
          "text": [
            "234/234 [==============================] - 1s 3ms/step\n",
            "Accuracy on the test set: 0.83\n",
            "\n",
            "Confusion matrix:\n",
            "[[4788  524]\n",
            " [ 774 1401]]\n"
          ]
        }
      ]
    },
    {
      "cell_type": "markdown",
      "source": [
        "\n",
        "How do you find the Optimal NN Architecture\n",
        "\n",
        "Input:\n",
        "\n",
        "X_train\n",
        "\n",
        "X_test\n",
        "\n",
        "y_train\n",
        "\n",
        "y_test"
      ],
      "metadata": {
        "id": "mWMx9FsSZneY"
      }
    },
    {
      "cell_type": "code",
      "source": [
        "X.shape"
      ],
      "metadata": {
        "colab": {
          "base_uri": "https://localhost:8080/"
        },
        "id": "vNC8-gtpuT3g",
        "outputId": "0561a0a2-c60f-4633-eb2b-52886d6a75cb"
      },
      "execution_count": null,
      "outputs": [
        {
          "output_type": "execute_result",
          "data": {
            "text/plain": [
              "(37434, 9)"
            ]
          },
          "metadata": {},
          "execution_count": 106
        }
      ]
    },
    {
      "cell_type": "code",
      "source": [
        "X.shape[1]"
      ],
      "metadata": {
        "colab": {
          "base_uri": "https://localhost:8080/"
        },
        "id": "msI3ysvWu8K6",
        "outputId": "8f3c17ce-ebd8-4368-9a79-e292a78cd94a"
      },
      "execution_count": null,
      "outputs": [
        {
          "output_type": "execute_result",
          "data": {
            "text/plain": [
              "9"
            ]
          },
          "metadata": {},
          "execution_count": 107
        }
      ]
    },
    {
      "cell_type": "code",
      "source": [
        "X_train.shape"
      ],
      "metadata": {
        "colab": {
          "base_uri": "https://localhost:8080/"
        },
        "id": "bJ2BoFobv3XB",
        "outputId": "fe036c04-78de-4ccb-8b23-6ec9eb14937c"
      },
      "execution_count": null,
      "outputs": [
        {
          "output_type": "execute_result",
          "data": {
            "text/plain": [
              "(29947, 97)"
            ]
          },
          "metadata": {},
          "execution_count": 131
        }
      ]
    },
    {
      "cell_type": "code",
      "source": [
        "X_test.shape"
      ],
      "metadata": {
        "colab": {
          "base_uri": "https://localhost:8080/"
        },
        "id": "n1FShqdZv5v4",
        "outputId": "c5b60302-72d7-4da4-a770-e06d41e40d5a"
      },
      "execution_count": null,
      "outputs": [
        {
          "output_type": "execute_result",
          "data": {
            "text/plain": [
              "(7487, 97)"
            ]
          },
          "metadata": {},
          "execution_count": 132
        }
      ]
    },
    {
      "cell_type": "code",
      "source": [
        "y_train.shape"
      ],
      "metadata": {
        "colab": {
          "base_uri": "https://localhost:8080/"
        },
        "id": "CwxhbdBYv7_Y",
        "outputId": "92e7fe64-5c11-47ca-8e5c-0e6ddbb18768"
      },
      "execution_count": null,
      "outputs": [
        {
          "output_type": "execute_result",
          "data": {
            "text/plain": [
              "(29947,)"
            ]
          },
          "metadata": {},
          "execution_count": 133
        }
      ]
    },
    {
      "cell_type": "code",
      "source": [
        "y_test.shape"
      ],
      "metadata": {
        "colab": {
          "base_uri": "https://localhost:8080/"
        },
        "id": "AygBwF_rv_K_",
        "outputId": "53aaa4eb-6833-4b8a-8b31-86b98d7d98a5"
      },
      "execution_count": null,
      "outputs": [
        {
          "output_type": "execute_result",
          "data": {
            "text/plain": [
              "(7487,)"
            ]
          },
          "metadata": {},
          "execution_count": 134
        }
      ]
    },
    {
      "cell_type": "code",
      "source": [
        "type(X_train)"
      ],
      "metadata": {
        "colab": {
          "base_uri": "https://localhost:8080/"
        },
        "id": "rIEORBJqdXdY",
        "outputId": "52147ec5-5a92-498c-9c58-425414fb19c4"
      },
      "execution_count": null,
      "outputs": [
        {
          "output_type": "execute_result",
          "data": {
            "text/plain": [
              "numpy.ndarray"
            ]
          },
          "metadata": {},
          "execution_count": 109
        }
      ]
    },
    {
      "cell_type": "code",
      "source": [
        "type(X_test)"
      ],
      "metadata": {
        "id": "Ux-jEOkPmQx6",
        "outputId": "b01dbb02-ba7d-4d1d-aa62-47b36b9efdb4",
        "colab": {
          "base_uri": "https://localhost:8080/"
        }
      },
      "execution_count": null,
      "outputs": [
        {
          "output_type": "execute_result",
          "data": {
            "text/plain": [
              "numpy.ndarray"
            ]
          },
          "metadata": {},
          "execution_count": 110
        }
      ]
    },
    {
      "cell_type": "code",
      "source": [
        "type(y_train)"
      ],
      "metadata": {
        "id": "Mhy_tTZOmS5y",
        "outputId": "491892f1-8336-46c5-9e6d-7bf78a710dbc",
        "colab": {
          "base_uri": "https://localhost:8080/"
        }
      },
      "execution_count": null,
      "outputs": [
        {
          "output_type": "execute_result",
          "data": {
            "text/plain": [
              "pandas.core.series.Series"
            ]
          },
          "metadata": {},
          "execution_count": 111
        }
      ]
    },
    {
      "cell_type": "code",
      "source": [
        "type(y_test)"
      ],
      "metadata": {
        "id": "HcfoM5IimVjy",
        "outputId": "aab41ad8-62c4-4780-dbc9-e328d59f1ec3",
        "colab": {
          "base_uri": "https://localhost:8080/"
        }
      },
      "execution_count": null,
      "outputs": [
        {
          "output_type": "execute_result",
          "data": {
            "text/plain": [
              "pandas.core.series.Series"
            ]
          },
          "metadata": {},
          "execution_count": 112
        }
      ]
    },
    {
      "cell_type": "code",
      "source": [
        "num_layers = 3\n",
        "min_nodes_per_layer = 64\n",
        "max_nodes_per_layer = 256\n",
        "node_step_size = 64"
      ],
      "metadata": {
        "id": "dzqISPUVTNSC"
      },
      "execution_count": null,
      "outputs": []
    },
    {
      "cell_type": "code",
      "source": [
        "node_options = list(range(\n",
        "    min_nodes_per_layer, \n",
        "    max_nodes_per_layer + 1, \n",
        "    node_step_size\n",
        "))\n",
        "node_options"
      ],
      "metadata": {
        "colab": {
          "base_uri": "https://localhost:8080/"
        },
        "id": "PBUQuajXTjHy",
        "outputId": "724721e1-533b-4359-fa78-a69e63086056"
      },
      "execution_count": null,
      "outputs": [
        {
          "output_type": "execute_result",
          "data": {
            "text/plain": [
              "[64, 128, 192, 256]"
            ]
          },
          "metadata": {},
          "execution_count": 136
        }
      ]
    },
    {
      "cell_type": "code",
      "source": [
        "two_layer_possibilities = [node_options, node_options]"
      ],
      "metadata": {
        "id": "a55fqAyMTyUW"
      },
      "execution_count": null,
      "outputs": []
    },
    {
      "cell_type": "code",
      "source": [
        "list(itertools.product(*two_layer_possibilities))"
      ],
      "metadata": {
        "colab": {
          "base_uri": "https://localhost:8080/"
        },
        "id": "R0ly7JCCTrq4",
        "outputId": "f3d56ebd-4a82-4022-b1b4-40412a1298c6"
      },
      "execution_count": null,
      "outputs": [
        {
          "output_type": "execute_result",
          "data": {
            "text/plain": [
              "[(64, 64),\n",
              " (64, 128),\n",
              " (64, 192),\n",
              " (64, 256),\n",
              " (128, 64),\n",
              " (128, 128),\n",
              " (128, 192),\n",
              " (128, 256),\n",
              " (192, 64),\n",
              " (192, 128),\n",
              " (192, 192),\n",
              " (192, 256),\n",
              " (256, 64),\n",
              " (256, 128),\n",
              " (256, 192),\n",
              " (256, 256)]"
            ]
          },
          "metadata": {},
          "execution_count": 138
        }
      ]
    },
    {
      "cell_type": "code",
      "source": [
        "layer_possibilities = [node_options] * num_layers\n",
        "layer_node_permutations = list(itertools.product(*layer_possibilities))"
      ],
      "metadata": {
        "id": "LYw3EaxfUJya"
      },
      "execution_count": null,
      "outputs": []
    },
    {
      "cell_type": "code",
      "source": [
        "layer_node_permutations"
      ],
      "metadata": {
        "id": "076x-AaHUNBZ",
        "colab": {
          "base_uri": "https://localhost:8080/"
        },
        "outputId": "956fc0d0-e46e-4e20-e4ad-7e33036b3dfc"
      },
      "execution_count": null,
      "outputs": [
        {
          "output_type": "execute_result",
          "data": {
            "text/plain": [
              "[(64, 64, 64),\n",
              " (64, 64, 128),\n",
              " (64, 64, 192),\n",
              " (64, 64, 256),\n",
              " (64, 128, 64),\n",
              " (64, 128, 128),\n",
              " (64, 128, 192),\n",
              " (64, 128, 256),\n",
              " (64, 192, 64),\n",
              " (64, 192, 128),\n",
              " (64, 192, 192),\n",
              " (64, 192, 256),\n",
              " (64, 256, 64),\n",
              " (64, 256, 128),\n",
              " (64, 256, 192),\n",
              " (64, 256, 256),\n",
              " (128, 64, 64),\n",
              " (128, 64, 128),\n",
              " (128, 64, 192),\n",
              " (128, 64, 256),\n",
              " (128, 128, 64),\n",
              " (128, 128, 128),\n",
              " (128, 128, 192),\n",
              " (128, 128, 256),\n",
              " (128, 192, 64),\n",
              " (128, 192, 128),\n",
              " (128, 192, 192),\n",
              " (128, 192, 256),\n",
              " (128, 256, 64),\n",
              " (128, 256, 128),\n",
              " (128, 256, 192),\n",
              " (128, 256, 256),\n",
              " (192, 64, 64),\n",
              " (192, 64, 128),\n",
              " (192, 64, 192),\n",
              " (192, 64, 256),\n",
              " (192, 128, 64),\n",
              " (192, 128, 128),\n",
              " (192, 128, 192),\n",
              " (192, 128, 256),\n",
              " (192, 192, 64),\n",
              " (192, 192, 128),\n",
              " (192, 192, 192),\n",
              " (192, 192, 256),\n",
              " (192, 256, 64),\n",
              " (192, 256, 128),\n",
              " (192, 256, 192),\n",
              " (192, 256, 256),\n",
              " (256, 64, 64),\n",
              " (256, 64, 128),\n",
              " (256, 64, 192),\n",
              " (256, 64, 256),\n",
              " (256, 128, 64),\n",
              " (256, 128, 128),\n",
              " (256, 128, 192),\n",
              " (256, 128, 256),\n",
              " (256, 192, 64),\n",
              " (256, 192, 128),\n",
              " (256, 192, 192),\n",
              " (256, 192, 256),\n",
              " (256, 256, 64),\n",
              " (256, 256, 128),\n",
              " (256, 256, 192),\n",
              " (256, 256, 256)]"
            ]
          },
          "metadata": {},
          "execution_count": 140
        }
      ]
    },
    {
      "cell_type": "code",
      "source": [
        "for permutation in layer_node_permutations[:2]:\n",
        "    for nodes_at_layer in permutation:\n",
        "        print(nodes_at_layer)\n",
        "    print()"
      ],
      "metadata": {
        "colab": {
          "base_uri": "https://localhost:8080/"
        },
        "id": "ZNCOgZhoUOMI",
        "outputId": "420aa60e-4376-4635-a297-8843455233bb"
      },
      "execution_count": null,
      "outputs": [
        {
          "output_type": "stream",
          "name": "stdout",
          "text": [
            "64\n",
            "64\n",
            "64\n",
            "\n",
            "64\n",
            "64\n",
            "128\n",
            "\n"
          ]
        }
      ]
    },
    {
      "cell_type": "code",
      "source": [
        "models = []\n",
        "\n",
        "for permutation in layer_node_permutations:\n",
        "    model = tf.keras.Sequential()\n",
        "    model.add(tf.keras.layers.InputLayer(input_shape=(97,)))\n",
        "    model_name = ''\n",
        "    \n",
        "    for nodes_at_layer in permutation:\n",
        "        model.add(tf.keras.layers.Dense(nodes_at_layer, activation='relu'))\n",
        "        model_name += f'dense{nodes_at_layer}_'\n",
        "        \n",
        "    model.add(tf.keras.layers.Dense(1, activation='sigmoid'))\n",
        "    model._name = model_name[:-1]\n",
        "    \n",
        "    models.append(model)"
      ],
      "metadata": {
        "id": "z0UJb79TUphF"
      },
      "execution_count": null,
      "outputs": []
    },
    {
      "cell_type": "code",
      "source": [
        "models[0].summary()"
      ],
      "metadata": {
        "colab": {
          "base_uri": "https://localhost:8080/"
        },
        "id": "Vrpl8gm-U3uE",
        "outputId": "52efd9ef-a284-4756-d4f4-ac145914a772"
      },
      "execution_count": null,
      "outputs": [
        {
          "output_type": "stream",
          "name": "stdout",
          "text": [
            "Model: \"dense64_dense64_dense64\"\n",
            "_________________________________________________________________\n",
            " Layer (type)                Output Shape              Param #   \n",
            "=================================================================\n",
            " dense_2568 (Dense)          (None, 64)                6272      \n",
            "                                                                 \n",
            " dense_2569 (Dense)          (None, 64)                4160      \n",
            "                                                                 \n",
            " dense_2570 (Dense)          (None, 64)                4160      \n",
            "                                                                 \n",
            " dense_2571 (Dense)          (None, 1)                 65        \n",
            "                                                                 \n",
            "=================================================================\n",
            "Total params: 14,657\n",
            "Trainable params: 14,657\n",
            "Non-trainable params: 0\n",
            "_________________________________________________________________\n"
          ]
        }
      ]
    },
    {
      "cell_type": "code",
      "source": [
        "def get_models(num_layers: int,\n",
        "               min_nodes_per_layer: int,\n",
        "               max_nodes_per_layer: int,\n",
        "               node_step_size: int,\n",
        "               input_shape: tuple,\n",
        "               hidden_layer_activation: str = 'relu',\n",
        "               num_nodes_at_output: int = 1,\n",
        "               output_layer_activation: str = 'sigmoid') -> list:\n",
        "    \n",
        "    node_options = list(range(min_nodes_per_layer, max_nodes_per_layer + 1, node_step_size))\n",
        "    layer_possibilities = [node_options] * num_layers\n",
        "    layer_node_permutations = list(itertools.product(*layer_possibilities))\n",
        "    \n",
        "    models = []\n",
        "    for permutation in layer_node_permutations:\n",
        "        model = tf.keras.Sequential()\n",
        "        model.add(tf.keras.layers.InputLayer(input_shape=input_shape))\n",
        "        model_name = ''\n",
        "\n",
        "        for nodes_at_layer in permutation:\n",
        "            model.add(tf.keras.layers.Dense(nodes_at_layer, activation=hidden_layer_activation))\n",
        "            model_name += f'dense{nodes_at_layer}_'\n",
        "\n",
        "        model.add(tf.keras.layers.Dense(num_nodes_at_output, activation=output_layer_activation))\n",
        "        model._name = model_name[:-1]\n",
        "        models.append(model)\n",
        "        \n",
        "    return models"
      ],
      "metadata": {
        "id": "EJkTYPcfVFO7"
      },
      "execution_count": null,
      "outputs": []
    },
    {
      "cell_type": "code",
      "source": [
        "all_models = get_models(\n",
        "    num_layers=3, \n",
        "    min_nodes_per_layer=64, \n",
        "    max_nodes_per_layer=256, \n",
        "    node_step_size=64, \n",
        "    input_shape=(97,)\n",
        ")"
      ],
      "metadata": {
        "id": "PvcH7AWoVVhs"
      },
      "execution_count": null,
      "outputs": []
    },
    {
      "cell_type": "code",
      "source": [
        "all_models"
      ],
      "metadata": {
        "id": "_AxPsSa2VerT",
        "colab": {
          "base_uri": "https://localhost:8080/"
        },
        "outputId": "67a54d38-6774-4303-c75a-a67b95d19a0a"
      },
      "execution_count": null,
      "outputs": [
        {
          "output_type": "execute_result",
          "data": {
            "text/plain": [
              "[<keras.engine.sequential.Sequential at 0x7f03ec1dbb80>,\n",
              " <keras.engine.sequential.Sequential at 0x7f03ec52a790>,\n",
              " <keras.engine.sequential.Sequential at 0x7f03ec17a910>,\n",
              " <keras.engine.sequential.Sequential at 0x7f03ec18a730>,\n",
              " <keras.engine.sequential.Sequential at 0x7f03ec192400>,\n",
              " <keras.engine.sequential.Sequential at 0x7f04006a8f70>,\n",
              " <keras.engine.sequential.Sequential at 0x7f03ec1a3610>,\n",
              " <keras.engine.sequential.Sequential at 0x7f03ec486c40>,\n",
              " <keras.engine.sequential.Sequential at 0x7f03ec18ad60>,\n",
              " <keras.engine.sequential.Sequential at 0x7f03ec9aa400>,\n",
              " <keras.engine.sequential.Sequential at 0x7f03ec9aa670>,\n",
              " <keras.engine.sequential.Sequential at 0x7f03ec96f0d0>,\n",
              " <keras.engine.sequential.Sequential at 0x7f03ec9d1ee0>,\n",
              " <keras.engine.sequential.Sequential at 0x7f03ee4bcdf0>,\n",
              " <keras.engine.sequential.Sequential at 0x7f03eca26610>,\n",
              " <keras.engine.sequential.Sequential at 0x7f03eca02f10>,\n",
              " <keras.engine.sequential.Sequential at 0x7f03eca5a730>,\n",
              " <keras.engine.sequential.Sequential at 0x7f03eca49250>,\n",
              " <keras.engine.sequential.Sequential at 0x7f03ecaa9100>,\n",
              " <keras.engine.sequential.Sequential at 0x7f03eca97d90>,\n",
              " <keras.engine.sequential.Sequential at 0x7f03eca9f040>,\n",
              " <keras.engine.sequential.Sequential at 0x7f03ec929700>,\n",
              " <keras.engine.sequential.Sequential at 0x7f03ecad8d00>,\n",
              " <keras.engine.sequential.Sequential at 0x7f03ecb1c4f0>,\n",
              " <keras.engine.sequential.Sequential at 0x7f03ecb16a30>,\n",
              " <keras.engine.sequential.Sequential at 0x7f03ecb69be0>,\n",
              " <keras.engine.sequential.Sequential at 0x7f03ecb421c0>,\n",
              " <keras.engine.sequential.Sequential at 0x7f03ecb35430>,\n",
              " <keras.engine.sequential.Sequential at 0x7f03ecaf2340>,\n",
              " <keras.engine.sequential.Sequential at 0x7f03ecb808e0>,\n",
              " <keras.engine.sequential.Sequential at 0x7f03ecbe6eb0>,\n",
              " <keras.engine.sequential.Sequential at 0x7f03ecbc7910>,\n",
              " <keras.engine.sequential.Sequential at 0x7f03ecbb5a30>,\n",
              " <keras.engine.sequential.Sequential at 0x7f03ecc0b1f0>,\n",
              " <keras.engine.sequential.Sequential at 0x7f03ecbf2430>,\n",
              " <keras.engine.sequential.Sequential at 0x7f03ecc590d0>,\n",
              " <keras.engine.sequential.Sequential at 0x7f03ecad8b20>,\n",
              " <keras.engine.sequential.Sequential at 0x7f03ecc55700>,\n",
              " <keras.engine.sequential.Sequential at 0x7f03ecc4a370>,\n",
              " <keras.engine.sequential.Sequential at 0x7f03ed76e820>,\n",
              " <keras.engine.sequential.Sequential at 0x7f03ecc34370>,\n",
              " <keras.engine.sequential.Sequential at 0x7f03ecc821c0>,\n",
              " <keras.engine.sequential.Sequential at 0x7f03ecc6cf70>,\n",
              " <keras.engine.sequential.Sequential at 0x7f03eccd5100>,\n",
              " <keras.engine.sequential.Sequential at 0x7f03ecca0c10>,\n",
              " <keras.engine.sequential.Sequential at 0x7f03ecbc7850>,\n",
              " <keras.engine.sequential.Sequential at 0x7f03eccc0850>,\n",
              " <keras.engine.sequential.Sequential at 0x7f03ecd5fbe0>,\n",
              " <keras.engine.sequential.Sequential at 0x7f03ecd45700>,\n",
              " <keras.engine.sequential.Sequential at 0x7f03ece52dc0>,\n",
              " <keras.engine.sequential.Sequential at 0x7f03ecfc5940>,\n",
              " <keras.engine.sequential.Sequential at 0x7f03ed026e80>,\n",
              " <keras.engine.sequential.Sequential at 0x7f03eccc02e0>,\n",
              " <keras.engine.sequential.Sequential at 0x7f03ecfc72e0>,\n",
              " <keras.engine.sequential.Sequential at 0x7f03ed0185e0>,\n",
              " <keras.engine.sequential.Sequential at 0x7f03ecfca130>,\n",
              " <keras.engine.sequential.Sequential at 0x7f03ed1562b0>,\n",
              " <keras.engine.sequential.Sequential at 0x7f03ed05f880>,\n",
              " <keras.engine.sequential.Sequential at 0x7f0406b838e0>,\n",
              " <keras.engine.sequential.Sequential at 0x7f03ee531ee0>,\n",
              " <keras.engine.sequential.Sequential at 0x7f03ecfffe20>,\n",
              " <keras.engine.sequential.Sequential at 0x7f03ed0dd3a0>,\n",
              " <keras.engine.sequential.Sequential at 0x7f03f32aa490>,\n",
              " <keras.engine.sequential.Sequential at 0x7f0408579280>]"
            ]
          },
          "metadata": {},
          "execution_count": 153
        }
      ]
    },
    {
      "cell_type": "code",
      "source": [
        "type(X_train)"
      ],
      "metadata": {
        "colab": {
          "base_uri": "https://localhost:8080/"
        },
        "id": "yd2aUg39crLn",
        "outputId": "7be31ab6-1ff0-437d-b85d-6d9d3f817a29"
      },
      "execution_count": null,
      "outputs": [
        {
          "output_type": "execute_result",
          "data": {
            "text/plain": [
              "numpy.ndarray"
            ]
          },
          "metadata": {},
          "execution_count": 154
        }
      ]
    },
    {
      "cell_type": "code",
      "source": [
        "X_train"
      ],
      "metadata": {
        "colab": {
          "base_uri": "https://localhost:8080/"
        },
        "id": "qXirAW6scx-4",
        "outputId": "7cea8318-6250-448f-fe63-5a170fb88ca2"
      },
      "execution_count": null,
      "outputs": [
        {
          "output_type": "execute_result",
          "data": {
            "text/plain": [
              "array([[2.32185749e-02, 5.12820513e-02, 0.00000000e+00, ...,\n",
              "        1.00000000e+00, 0.00000000e+00, 0.00000000e+00],\n",
              "       [2.40192154e-03, 9.35897436e-01, 0.00000000e+00, ...,\n",
              "        1.00000000e+00, 0.00000000e+00, 0.00000000e+00],\n",
              "       [0.00000000e+00, 4.48717949e-02, 3.06748466e-03, ...,\n",
              "        0.00000000e+00, 1.00000000e+00, 0.00000000e+00],\n",
              "       ...,\n",
              "       [8.00640512e-04, 3.20512821e-02, 0.00000000e+00, ...,\n",
              "        0.00000000e+00, 1.00000000e+00, 0.00000000e+00],\n",
              "       [1.60128102e-03, 2.24358974e-01, 0.00000000e+00, ...,\n",
              "        0.00000000e+00, 1.00000000e+00, 0.00000000e+00],\n",
              "       [1.60128102e-03, 8.33333333e-02, 0.00000000e+00, ...,\n",
              "        1.00000000e+00, 0.00000000e+00, 0.00000000e+00]])"
            ]
          },
          "metadata": {},
          "execution_count": 155
        }
      ]
    },
    {
      "cell_type": "code",
      "source": [
        "def optimize(models: list,\n",
        "             X_train: np.array,\n",
        "             y_train: np.array,\n",
        "             X_test: np.array,\n",
        "             y_test: np.array,\n",
        "             epochs: int = 50,\n",
        "             verbose: int = 0) -> pd.DataFrame:\n",
        "    \n",
        "    # We'll store the results here\n",
        "    results = []\n",
        "    \n",
        "    def train(model: tf.keras.Sequential) -> dict:\n",
        "        # Change this however you want \n",
        "        # We're not optimizing this part today\n",
        "        model.compile(\n",
        "            loss=tf.keras.losses.binary_crossentropy,\n",
        "            optimizer=tf.keras.optimizers.Adam(),\n",
        "            metrics=[\n",
        "                tf.keras.metrics.BinaryAccuracy(name='accuracy')\n",
        "            ]\n",
        "        )\n",
        "        \n",
        "        # Train the model\n",
        "        model.fit(\n",
        "            X_train,\n",
        "            y_train,\n",
        "            epochs=epochs,\n",
        "            verbose=verbose\n",
        "        )\n",
        "        \n",
        "        # Make predictions on the test set\n",
        "        preds = model.predict(X_test)\n",
        "        prediction_classes = [1 if prob > 0.5 else 0 for prob in np.ravel(preds)]\n",
        "        \n",
        "        # Return evaluation metrics on the test set\n",
        "        return {\n",
        "            'model_name': model.name,\n",
        "            'test_accuracy': accuracy_score(y_test, prediction_classes),\n",
        "            'test_precision': precision_score(y_test, prediction_classes),\n",
        "            'test_recall': recall_score(y_test, prediction_classes),\n",
        "            'test_f1': f1_score(y_test, prediction_classes)\n",
        "        }\n",
        "    \n",
        "    # Train every model and save results\n",
        "    for model in models:\n",
        "        try:\n",
        "            print(model.name, end=' ... ')\n",
        "            res = train(model=model)\n",
        "            results.append(res)\n",
        "        except Exception as e:\n",
        "            print(f'{model.name} --> {str(e)}')\n",
        "        \n",
        "    return pd.DataFrame(results)"
      ],
      "metadata": {
        "id": "UGoMJmDOVfdD"
      },
      "execution_count": null,
      "outputs": []
    },
    {
      "cell_type": "code",
      "source": [
        "optimization_results = optimize(models=all_models,X_train=X_train,y_train=y_train,X_test=X_test,y_test=y_test)"
      ],
      "metadata": {
        "colab": {
          "base_uri": "https://localhost:8080/"
        },
        "id": "EG90dotAWEjm",
        "outputId": "8534d056-09cc-440d-e72e-9612fadfa8d8"
      },
      "execution_count": null,
      "outputs": [
        {
          "output_type": "stream",
          "name": "stdout",
          "text": [
            "234/234 [==============================] - 1s 2ms/step\n",
            "234/234 [==============================] - 0s 2ms/step\n",
            "234/234 [==============================] - 1s 2ms/step\n",
            "234/234 [==============================] - 0s 2ms/step\n",
            "234/234 [==============================] - 0s 2ms/step\n",
            "234/234 [==============================] - 0s 1ms/step\n",
            "234/234 [==============================] - 1s 2ms/step\n",
            "234/234 [==============================] - 0s 1ms/step\n",
            "234/234 [==============================] - 0s 1ms/step\n",
            "234/234 [==============================] - 1s 2ms/step\n",
            "234/234 [==============================] - 1s 3ms/step\n",
            "234/234 [==============================] - 0s 2ms/step\n",
            "234/234 [==============================] - 0s 2ms/step\n",
            "234/234 [==============================] - 0s 2ms/step\n",
            "234/234 [==============================] - 1s 2ms/step\n",
            "234/234 [==============================] - 1s 2ms/step\n",
            "234/234 [==============================] - 1s 3ms/step\n",
            "234/234 [==============================] - 1s 2ms/step\n",
            "234/234 [==============================] - 1s 2ms/step\n",
            "234/234 [==============================] - 1s 2ms/step\n",
            "234/234 [==============================] - 1s 2ms/step\n",
            "234/234 [==============================] - 1s 2ms/step\n",
            "234/234 [==============================] - 1s 2ms/step\n",
            "234/234 [==============================] - 1s 3ms/step\n",
            "234/234 [==============================] - 0s 1ms/step\n",
            "234/234 [==============================] - 1s 2ms/step\n",
            "234/234 [==============================] - 1s 2ms/step\n",
            "234/234 [==============================] - 1s 2ms/step\n",
            "234/234 [==============================] - 1s 2ms/step\n",
            "234/234 [==============================] - 1s 2ms/step\n",
            "234/234 [==============================] - 1s 2ms/step\n",
            "234/234 [==============================] - 0s 2ms/step\n",
            "234/234 [==============================] - 0s 1ms/step\n",
            "234/234 [==============================] - 0s 1ms/step\n",
            "234/234 [==============================] - 0s 1ms/step\n",
            "234/234 [==============================] - 1s 2ms/step\n",
            "234/234 [==============================] - 0s 2ms/step\n",
            "234/234 [==============================] - 0s 1ms/step\n",
            "234/234 [==============================] - 1s 3ms/step\n",
            "234/234 [==============================] - 1s 2ms/step\n",
            "234/234 [==============================] - 1s 2ms/step\n",
            "234/234 [==============================] - 0s 1ms/step\n",
            "234/234 [==============================] - 0s 2ms/step\n",
            "234/234 [==============================] - 1s 4ms/step\n",
            "234/234 [==============================] - 0s 2ms/step\n",
            "234/234 [==============================] - 1s 3ms/step\n",
            "234/234 [==============================] - 0s 2ms/step\n",
            "234/234 [==============================] - 1s 2ms/step\n",
            "234/234 [==============================] - 0s 2ms/step\n",
            "234/234 [==============================] - 1s 2ms/step\n",
            "234/234 [==============================] - 0s 1ms/step\n",
            "234/234 [==============================] - 0s 2ms/step\n",
            "234/234 [==============================] - 1s 3ms/step\n",
            "234/234 [==============================] - 1s 2ms/step\n",
            "234/234 [==============================] - 0s 2ms/step\n",
            "234/234 [==============================] - 1s 3ms/step\n",
            "234/234 [==============================] - 1s 3ms/step\n",
            "234/234 [==============================] - 1s 2ms/step\n",
            "234/234 [==============================] - 1s 3ms/step\n",
            "234/234 [==============================] - 0s 2ms/step\n",
            "234/234 [==============================] - 0s 2ms/step\n",
            "234/234 [==============================] - 1s 2ms/step\n",
            "234/234 [==============================] - 1s 3ms/step\n",
            "234/234 [==============================] - 1s 2ms/step\n"
          ]
        }
      ]
    },
    {
      "cell_type": "code",
      "source": [
        "optimization_results.sort_values(by='test_accuracy', ascending=False)"
      ],
      "metadata": {
        "id": "fl2gfY3kWO5Z",
        "colab": {
          "base_uri": "https://localhost:8080/",
          "height": 424
        },
        "outputId": "6f92b507-4d65-4e9b-a68a-a43999e6c65d"
      },
      "execution_count": null,
      "outputs": [
        {
          "output_type": "execute_result",
          "data": {
            "text/plain": [
              "                    model_name  test_accuracy  test_precision  test_recall  \\\n",
              "19   dense128_dense64_dense256       0.828369        0.720297     0.668966   \n",
              "12    dense64_dense256_dense64       0.828102        0.723565     0.660690   \n",
              "50   dense256_dense64_dense192       0.827301        0.721608     0.660230   \n",
              "16    dense128_dense64_dense64       0.827167        0.727414     0.647816   \n",
              "17   dense128_dense64_dense128       0.827034        0.717606     0.667126   \n",
              "..                         ...            ...             ...          ...   \n",
              "46  dense192_dense256_dense192       0.822759        0.713065     0.652414   \n",
              "54  dense256_dense128_dense192       0.822359        0.713492     0.649195   \n",
              "53  dense256_dense128_dense128       0.822359        0.710304     0.656092   \n",
              "9    dense64_dense192_dense128       0.822359        0.710934     0.654713   \n",
              "57  dense256_dense192_dense128       0.821290        0.699001     0.675862   \n",
              "\n",
              "     test_f1  \n",
              "19  0.693683  \n",
              "12  0.690699  \n",
              "50  0.689556  \n",
              "16  0.685311  \n",
              "17  0.691446  \n",
              "..       ...  \n",
              "46  0.681393  \n",
              "54  0.679827  \n",
              "53  0.682122  \n",
              "9   0.681666  \n",
              "57  0.687237  \n",
              "\n",
              "[64 rows x 5 columns]"
            ],
            "text/html": [
              "\n",
              "  <div id=\"df-ad1d62f5-9031-4dc1-a28c-465459323ffb\">\n",
              "    <div class=\"colab-df-container\">\n",
              "      <div>\n",
              "<style scoped>\n",
              "    .dataframe tbody tr th:only-of-type {\n",
              "        vertical-align: middle;\n",
              "    }\n",
              "\n",
              "    .dataframe tbody tr th {\n",
              "        vertical-align: top;\n",
              "    }\n",
              "\n",
              "    .dataframe thead th {\n",
              "        text-align: right;\n",
              "    }\n",
              "</style>\n",
              "<table border=\"1\" class=\"dataframe\">\n",
              "  <thead>\n",
              "    <tr style=\"text-align: right;\">\n",
              "      <th></th>\n",
              "      <th>model_name</th>\n",
              "      <th>test_accuracy</th>\n",
              "      <th>test_precision</th>\n",
              "      <th>test_recall</th>\n",
              "      <th>test_f1</th>\n",
              "    </tr>\n",
              "  </thead>\n",
              "  <tbody>\n",
              "    <tr>\n",
              "      <th>19</th>\n",
              "      <td>dense128_dense64_dense256</td>\n",
              "      <td>0.828369</td>\n",
              "      <td>0.720297</td>\n",
              "      <td>0.668966</td>\n",
              "      <td>0.693683</td>\n",
              "    </tr>\n",
              "    <tr>\n",
              "      <th>12</th>\n",
              "      <td>dense64_dense256_dense64</td>\n",
              "      <td>0.828102</td>\n",
              "      <td>0.723565</td>\n",
              "      <td>0.660690</td>\n",
              "      <td>0.690699</td>\n",
              "    </tr>\n",
              "    <tr>\n",
              "      <th>50</th>\n",
              "      <td>dense256_dense64_dense192</td>\n",
              "      <td>0.827301</td>\n",
              "      <td>0.721608</td>\n",
              "      <td>0.660230</td>\n",
              "      <td>0.689556</td>\n",
              "    </tr>\n",
              "    <tr>\n",
              "      <th>16</th>\n",
              "      <td>dense128_dense64_dense64</td>\n",
              "      <td>0.827167</td>\n",
              "      <td>0.727414</td>\n",
              "      <td>0.647816</td>\n",
              "      <td>0.685311</td>\n",
              "    </tr>\n",
              "    <tr>\n",
              "      <th>17</th>\n",
              "      <td>dense128_dense64_dense128</td>\n",
              "      <td>0.827034</td>\n",
              "      <td>0.717606</td>\n",
              "      <td>0.667126</td>\n",
              "      <td>0.691446</td>\n",
              "    </tr>\n",
              "    <tr>\n",
              "      <th>...</th>\n",
              "      <td>...</td>\n",
              "      <td>...</td>\n",
              "      <td>...</td>\n",
              "      <td>...</td>\n",
              "      <td>...</td>\n",
              "    </tr>\n",
              "    <tr>\n",
              "      <th>46</th>\n",
              "      <td>dense192_dense256_dense192</td>\n",
              "      <td>0.822759</td>\n",
              "      <td>0.713065</td>\n",
              "      <td>0.652414</td>\n",
              "      <td>0.681393</td>\n",
              "    </tr>\n",
              "    <tr>\n",
              "      <th>54</th>\n",
              "      <td>dense256_dense128_dense192</td>\n",
              "      <td>0.822359</td>\n",
              "      <td>0.713492</td>\n",
              "      <td>0.649195</td>\n",
              "      <td>0.679827</td>\n",
              "    </tr>\n",
              "    <tr>\n",
              "      <th>53</th>\n",
              "      <td>dense256_dense128_dense128</td>\n",
              "      <td>0.822359</td>\n",
              "      <td>0.710304</td>\n",
              "      <td>0.656092</td>\n",
              "      <td>0.682122</td>\n",
              "    </tr>\n",
              "    <tr>\n",
              "      <th>9</th>\n",
              "      <td>dense64_dense192_dense128</td>\n",
              "      <td>0.822359</td>\n",
              "      <td>0.710934</td>\n",
              "      <td>0.654713</td>\n",
              "      <td>0.681666</td>\n",
              "    </tr>\n",
              "    <tr>\n",
              "      <th>57</th>\n",
              "      <td>dense256_dense192_dense128</td>\n",
              "      <td>0.821290</td>\n",
              "      <td>0.699001</td>\n",
              "      <td>0.675862</td>\n",
              "      <td>0.687237</td>\n",
              "    </tr>\n",
              "  </tbody>\n",
              "</table>\n",
              "<p>64 rows × 5 columns</p>\n",
              "</div>\n",
              "      <button class=\"colab-df-convert\" onclick=\"convertToInteractive('df-ad1d62f5-9031-4dc1-a28c-465459323ffb')\"\n",
              "              title=\"Convert this dataframe to an interactive table.\"\n",
              "              style=\"display:none;\">\n",
              "        \n",
              "  <svg xmlns=\"http://www.w3.org/2000/svg\" height=\"24px\"viewBox=\"0 0 24 24\"\n",
              "       width=\"24px\">\n",
              "    <path d=\"M0 0h24v24H0V0z\" fill=\"none\"/>\n",
              "    <path d=\"M18.56 5.44l.94 2.06.94-2.06 2.06-.94-2.06-.94-.94-2.06-.94 2.06-2.06.94zm-11 1L8.5 8.5l.94-2.06 2.06-.94-2.06-.94L8.5 2.5l-.94 2.06-2.06.94zm10 10l.94 2.06.94-2.06 2.06-.94-2.06-.94-.94-2.06-.94 2.06-2.06.94z\"/><path d=\"M17.41 7.96l-1.37-1.37c-.4-.4-.92-.59-1.43-.59-.52 0-1.04.2-1.43.59L10.3 9.45l-7.72 7.72c-.78.78-.78 2.05 0 2.83L4 21.41c.39.39.9.59 1.41.59.51 0 1.02-.2 1.41-.59l7.78-7.78 2.81-2.81c.8-.78.8-2.07 0-2.86zM5.41 20L4 18.59l7.72-7.72 1.47 1.35L5.41 20z\"/>\n",
              "  </svg>\n",
              "      </button>\n",
              "      \n",
              "  <style>\n",
              "    .colab-df-container {\n",
              "      display:flex;\n",
              "      flex-wrap:wrap;\n",
              "      gap: 12px;\n",
              "    }\n",
              "\n",
              "    .colab-df-convert {\n",
              "      background-color: #E8F0FE;\n",
              "      border: none;\n",
              "      border-radius: 50%;\n",
              "      cursor: pointer;\n",
              "      display: none;\n",
              "      fill: #1967D2;\n",
              "      height: 32px;\n",
              "      padding: 0 0 0 0;\n",
              "      width: 32px;\n",
              "    }\n",
              "\n",
              "    .colab-df-convert:hover {\n",
              "      background-color: #E2EBFA;\n",
              "      box-shadow: 0px 1px 2px rgba(60, 64, 67, 0.3), 0px 1px 3px 1px rgba(60, 64, 67, 0.15);\n",
              "      fill: #174EA6;\n",
              "    }\n",
              "\n",
              "    [theme=dark] .colab-df-convert {\n",
              "      background-color: #3B4455;\n",
              "      fill: #D2E3FC;\n",
              "    }\n",
              "\n",
              "    [theme=dark] .colab-df-convert:hover {\n",
              "      background-color: #434B5C;\n",
              "      box-shadow: 0px 1px 3px 1px rgba(0, 0, 0, 0.15);\n",
              "      filter: drop-shadow(0px 1px 2px rgba(0, 0, 0, 0.3));\n",
              "      fill: #FFFFFF;\n",
              "    }\n",
              "  </style>\n",
              "\n",
              "      <script>\n",
              "        const buttonEl =\n",
              "          document.querySelector('#df-ad1d62f5-9031-4dc1-a28c-465459323ffb button.colab-df-convert');\n",
              "        buttonEl.style.display =\n",
              "          google.colab.kernel.accessAllowed ? 'block' : 'none';\n",
              "\n",
              "        async function convertToInteractive(key) {\n",
              "          const element = document.querySelector('#df-ad1d62f5-9031-4dc1-a28c-465459323ffb');\n",
              "          const dataTable =\n",
              "            await google.colab.kernel.invokeFunction('convertToInteractive',\n",
              "                                                     [key], {});\n",
              "          if (!dataTable) return;\n",
              "\n",
              "          const docLinkHtml = 'Like what you see? Visit the ' +\n",
              "            '<a target=\"_blank\" href=https://colab.research.google.com/notebooks/data_table.ipynb>data table notebook</a>'\n",
              "            + ' to learn more about interactive tables.';\n",
              "          element.innerHTML = '';\n",
              "          dataTable['output_type'] = 'display_data';\n",
              "          await google.colab.output.renderOutput(dataTable, element);\n",
              "          const docLink = document.createElement('div');\n",
              "          docLink.innerHTML = docLinkHtml;\n",
              "          element.appendChild(docLink);\n",
              "        }\n",
              "      </script>\n",
              "    </div>\n",
              "  </div>\n",
              "  "
            ]
          },
          "metadata": {},
          "execution_count": 158
        }
      ]
    }
  ]
}