{
  "nbformat": 4,
  "nbformat_minor": 0,
  "metadata": {
    "colab": {
      "provenance": [],
      "authorship_tag": "ABX9TyPtTWaWvoZ0yy9IxwnDj1zY",
      "include_colab_link": true
    },
    "kernelspec": {
      "name": "python3",
      "display_name": "Python 3"
    },
    "language_info": {
      "name": "python"
    }
  },
  "cells": [
    {
      "cell_type": "markdown",
      "metadata": {
        "id": "view-in-github",
        "colab_type": "text"
      },
      "source": [
        "<a href=\"https://colab.research.google.com/github/jmohsbeck1/jpmc_mle/blob/data_ananlysis_with_pandas/Convert_Data_Types.ipynb\" target=\"_parent\"><img src=\"https://colab.research.google.com/assets/colab-badge.svg\" alt=\"Open In Colab\"/></a>"
      ]
    },
    {
      "cell_type": "code",
      "execution_count": 7,
      "metadata": {
        "id": "T1HkahYHSSei"
      },
      "outputs": [],
      "source": [
        "import pandas as pd\n",
        "\n",
        "df = pd.read_csv('./abalone.csv')"
      ]
    },
    {
      "cell_type": "code",
      "source": [
        "print(df.dtypes)"
      ],
      "metadata": {
        "colab": {
          "base_uri": "https://localhost:8080/"
        },
        "id": "HvdYyDsCTowt",
        "outputId": "939e85bb-4892-49ce-8f7f-9ec437b00c1d"
      },
      "execution_count": 8,
      "outputs": [
        {
          "output_type": "stream",
          "name": "stdout",
          "text": [
            "Sex                object\n",
            "Length            float64\n",
            "Diameter          float64\n",
            "Height            float64\n",
            "Whole weight      float64\n",
            "Shucked weight    float64\n",
            "Viscera weight    float64\n",
            "Shell weight      float64\n",
            "Rings               int64\n",
            "dtype: object\n"
          ]
        }
      ]
    },
    {
      "cell_type": "code",
      "source": [
        "df['Rings'] = df['Rings'].astype(float)"
      ],
      "metadata": {
        "id": "X9zTp5WxTwG_"
      },
      "execution_count": 9,
      "outputs": []
    },
    {
      "cell_type": "code",
      "source": [
        "print(df.dtypes)"
      ],
      "metadata": {
        "colab": {
          "base_uri": "https://localhost:8080/"
        },
        "id": "LTP6ewvxVID8",
        "outputId": "92d2337e-528d-4b76-aac8-f1b136098040"
      },
      "execution_count": 10,
      "outputs": [
        {
          "output_type": "stream",
          "name": "stdout",
          "text": [
            "Sex                object\n",
            "Length            float64\n",
            "Diameter          float64\n",
            "Height            float64\n",
            "Whole weight      float64\n",
            "Shucked weight    float64\n",
            "Viscera weight    float64\n",
            "Shell weight      float64\n",
            "Rings             float64\n",
            "dtype: object\n"
          ]
        }
      ]
    },
    {
      "cell_type": "code",
      "source": [
        "dtypes = {'Sex': 'category'}\n",
        "\n",
        "df = df.astype(dtypes)"
      ],
      "metadata": {
        "id": "5NRHRJtaVX01"
      },
      "execution_count": 11,
      "outputs": []
    },
    {
      "cell_type": "code",
      "source": [
        "print(df.dtypes)"
      ],
      "metadata": {
        "colab": {
          "base_uri": "https://localhost:8080/"
        },
        "id": "FEdw2wXEVZ-u",
        "outputId": "83fff3db-4402-417f-c0b6-772757b68518"
      },
      "execution_count": 12,
      "outputs": [
        {
          "output_type": "stream",
          "name": "stdout",
          "text": [
            "Sex               category\n",
            "Length             float64\n",
            "Diameter           float64\n",
            "Height             float64\n",
            "Whole weight       float64\n",
            "Shucked weight     float64\n",
            "Viscera weight     float64\n",
            "Shell weight       float64\n",
            "Rings              float64\n",
            "dtype: object\n"
          ]
        }
      ]
    }
  ]
}